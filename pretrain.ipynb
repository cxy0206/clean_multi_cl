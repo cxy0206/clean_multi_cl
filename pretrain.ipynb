{
 "cells": [
  {
   "cell_type": "code",
   "execution_count": 1,
   "id": "abe15dd9",
   "metadata": {},
   "outputs": [],
   "source": [
    "from model.getdata import smiles2graph\n",
    "from model.CL_model_vas_info import GNNModelWithNewLoss\n",
    "import pandas as pd"
   ]
  },
  {
   "cell_type": "code",
   "execution_count": 2,
   "id": "1fea3686",
   "metadata": {},
   "outputs": [],
   "source": [
    "df = pd.read_csv(\"./data/vsa.csv\")  \n",
    "smiles_list = df[\"SMILES\"].tolist()\n",
    "smr_vsa_list = [list(map(float, row.split())) for row in df[\"SMR_VSA\"]]"
   ]
  },
  {
   "cell_type": "code",
   "execution_count": 3,
   "id": "652499ec",
   "metadata": {},
   "outputs": [],
   "source": [
    "def read_vsa_data(vsa_file):\n",
    "    df = pd.read_csv(vsa_file)\n",
    "\n",
    "    def parse_vsa(s):\n",
    "        try:\n",
    "            return list(map(float, s.strip('[]').split()))\n",
    "        except:\n",
    "            return []\n",
    "\n",
    "    smr_arrays = df[\"SMR_VSA\"].apply(parse_vsa).tolist()          \n",
    "    slogp_arrays = df[\"SlogP_VSA\"].apply(parse_vsa).tolist()     \n",
    "    peoe_arrays = df[\"PEOE_VSA\"].apply(parse_vsa).tolist()       \n",
    "\n",
    "    properties = list(zip(smr_arrays, slogp_arrays, peoe_arrays))\n",
    "    \n",
    "    return df[\"SMILES\"].tolist(), properties\n",
    "\n",
    "x_smiles, properties = read_vsa_data(\"./data/vsa.csv\")\n"
   ]
  },
  {
   "cell_type": "code",
   "execution_count": 4,
   "id": "2ead4c13",
   "metadata": {},
   "outputs": [],
   "source": [
    "data_list = smiles2graph(\n",
    "    x_smiles,\n",
    "    properties=properties,\n",
    ")"
   ]
  },
  {
   "cell_type": "code",
   "execution_count": 5,
   "id": "d56a71e1",
   "metadata": {},
   "outputs": [
    {
     "data": {
      "text/plain": [
       "Data(x=[21, 133], edge_index=[2, 44], edge_attr=[44, 14], global_features=[1, 8], smiles='Cc1cccc(C2=CCN(C(=O)NCCCC#N)CC2)c1', property_0=[1, 10], property_1=[1, 10], property_2=[1, 14])"
      ]
     },
     "execution_count": 5,
     "metadata": {},
     "output_type": "execute_result"
    }
   ],
   "source": [
    "data_list[0]"
   ]
  },
  {
   "cell_type": "code",
   "execution_count": 6,
   "id": "ffbfd7a5",
   "metadata": {},
   "outputs": [
    {
     "name": "stdout",
     "output_type": "stream",
     "text": [
      "133 14 8\n"
     ]
    }
   ],
   "source": [
    "print(data_list[0].x.shape[1],\n",
    "    data_list[0].edge_attr.shape[1],\n",
    "    data_list[0].global_features.shape[1])"
   ]
  },
  {
   "cell_type": "code",
   "execution_count": 7,
   "id": "fe8f7538",
   "metadata": {},
   "outputs": [],
   "source": [
    "import torch\n",
    "from torch_geometric.data import DataLoader\n",
    "devices = [\"cuda\" if torch.cuda.is_available() else \"cpu\"]\n",
    "model1 = GNNModelWithNewLoss(\n",
    "        num_node_features=data_list[0].x.shape[1],\n",
    "        num_edge_features=data_list[0].edge_attr.shape[1],\n",
    "        num_global_features=data_list[0].global_features.shape[1],\n",
    "        hidden_dim=512,\n",
    "        dropout_rate=0.1,\n",
    "        property_index=0 ,\n",
    "        save_path= 'premodels_new/3/0' \n",
    "    ).to(devices[0])"
   ]
  },
  {
   "cell_type": "code",
   "execution_count": 8,
   "id": "9b1f8b49",
   "metadata": {},
   "outputs": [
    {
     "name": "stderr",
     "output_type": "stream",
     "text": [
      "/home/easter/.conda/envs/chemprop/lib/python3.11/site-packages/torch_geometric/deprecation.py:26: UserWarning: 'data.DataLoader' is deprecated, use 'loader.DataLoader' instead\n",
      "  warnings.warn(out)\n"
     ]
    },
    {
     "name": "stdout",
     "output_type": "stream",
     "text": [
      "Training will be saved to: premodels_new/3/0\n"
     ]
    },
    {
     "name": "stderr",
     "output_type": "stream",
     "text": [
      "Training:   0%|          | 0/1000 [00:00<?, ?it/s]"
     ]
    },
    {
     "name": "stdout",
     "output_type": "stream",
     "text": [
      "Baseline Loss: 5.3133 | Actual Loss: 5.2898\n"
     ]
    },
    {
     "name": "stderr",
     "output_type": "stream",
     "text": [
      "Training:   0%|          | 1/1000 [00:03<50:59,  3.06s/it]"
     ]
    },
    {
     "name": "stdout",
     "output_type": "stream",
     "text": [
      "Baseline Loss: 3.9669 | Actual Loss: 3.9424\n",
      "Epoch 1/1000: Train Loss: 5.2898, Val Loss: 3.9424\n",
      "New best validation loss: 3.9424\n",
      "Baseline Loss: 5.3134 | Actual Loss: 5.2896\n"
     ]
    },
    {
     "name": "stderr",
     "output_type": "stream",
     "text": [
      "Training:   0%|          | 2/1000 [00:05<48:41,  2.93s/it]"
     ]
    },
    {
     "name": "stdout",
     "output_type": "stream",
     "text": [
      "Baseline Loss: 3.9669 | Actual Loss: 3.9419\n",
      "Epoch 2/1000: Train Loss: 5.2896, Val Loss: 3.9419\n",
      "New best validation loss: 3.9419\n",
      "Baseline Loss: 5.3134 | Actual Loss: 5.2867\n"
     ]
    },
    {
     "name": "stderr",
     "output_type": "stream",
     "text": [
      "Training:   0%|          | 3/1000 [00:08<46:14,  2.78s/it]"
     ]
    },
    {
     "name": "stdout",
     "output_type": "stream",
     "text": [
      "Baseline Loss: 3.9669 | Actual Loss: 3.9327\n",
      "Epoch 3/1000: Train Loss: 5.2867, Val Loss: 3.9327\n",
      "New best validation loss: 3.9327\n",
      "Baseline Loss: 5.3134 | Actual Loss: 5.2830\n"
     ]
    },
    {
     "name": "stderr",
     "output_type": "stream",
     "text": [
      "Training:   0%|          | 4/1000 [00:11<46:12,  2.78s/it]"
     ]
    },
    {
     "name": "stdout",
     "output_type": "stream",
     "text": [
      "Baseline Loss: 3.9669 | Actual Loss: 3.9296\n",
      "Epoch 4/1000: Train Loss: 5.2830, Val Loss: 3.9296\n",
      "New best validation loss: 3.9296\n",
      "Baseline Loss: 5.3134 | Actual Loss: 5.2723\n"
     ]
    },
    {
     "name": "stderr",
     "output_type": "stream",
     "text": [
      "Training:   0%|          | 5/1000 [00:13<43:56,  2.65s/it]"
     ]
    },
    {
     "name": "stdout",
     "output_type": "stream",
     "text": [
      "Baseline Loss: 3.9669 | Actual Loss: 3.9289\n",
      "Epoch 5/1000: Train Loss: 5.2723, Val Loss: 3.9289\n",
      "New best validation loss: 3.9289\n",
      "Baseline Loss: 5.3134 | Actual Loss: 5.2740\n"
     ]
    },
    {
     "name": "stderr",
     "output_type": "stream",
     "text": [
      "Training:   1%|          | 6/1000 [00:16<44:28,  2.69s/it]"
     ]
    },
    {
     "name": "stdout",
     "output_type": "stream",
     "text": [
      "Baseline Loss: 3.9669 | Actual Loss: 3.9391\n",
      "Epoch 6/1000: Train Loss: 5.2740, Val Loss: 3.9391\n",
      "Baseline Loss: 5.3134 | Actual Loss: 5.2763\n"
     ]
    },
    {
     "name": "stderr",
     "output_type": "stream",
     "text": [
      "Training:   1%|          | 7/1000 [00:19<46:33,  2.81s/it]"
     ]
    },
    {
     "name": "stdout",
     "output_type": "stream",
     "text": [
      "Baseline Loss: 3.9669 | Actual Loss: 3.9346\n",
      "Epoch 7/1000: Train Loss: 5.2763, Val Loss: 3.9346\n",
      "Baseline Loss: 5.3134 | Actual Loss: 5.2679\n"
     ]
    },
    {
     "name": "stderr",
     "output_type": "stream",
     "text": [
      "Training:   1%|          | 8/1000 [00:22<45:32,  2.75s/it]"
     ]
    },
    {
     "name": "stdout",
     "output_type": "stream",
     "text": [
      "Baseline Loss: 3.9669 | Actual Loss: 3.9333\n",
      "Epoch 8/1000: Train Loss: 5.2679, Val Loss: 3.9333\n",
      "Baseline Loss: 5.3134 | Actual Loss: 5.2653\n"
     ]
    },
    {
     "name": "stderr",
     "output_type": "stream",
     "text": [
      "Training:   1%|          | 9/1000 [00:24<45:33,  2.76s/it]"
     ]
    },
    {
     "name": "stdout",
     "output_type": "stream",
     "text": [
      "Baseline Loss: 3.9669 | Actual Loss: 3.9140\n",
      "Epoch 9/1000: Train Loss: 5.2653, Val Loss: 3.9140\n",
      "New best validation loss: 3.9140\n",
      "Baseline Loss: 5.3134 | Actual Loss: 5.2627\n"
     ]
    },
    {
     "name": "stderr",
     "output_type": "stream",
     "text": [
      "Training:   1%|          | 10/1000 [00:27<43:43,  2.65s/it]"
     ]
    },
    {
     "name": "stdout",
     "output_type": "stream",
     "text": [
      "Baseline Loss: 3.9669 | Actual Loss: 3.9163\n",
      "Epoch 10/1000: Train Loss: 5.2627, Val Loss: 3.9163\n",
      "Baseline Loss: 5.3134 | Actual Loss: 5.2576\n"
     ]
    },
    {
     "name": "stderr",
     "output_type": "stream",
     "text": [
      "Training:   1%|          | 11/1000 [00:30<44:29,  2.70s/it]"
     ]
    },
    {
     "name": "stdout",
     "output_type": "stream",
     "text": [
      "Baseline Loss: 3.9669 | Actual Loss: 3.9077\n",
      "Epoch 11/1000: Train Loss: 5.2576, Val Loss: 3.9077\n",
      "New best validation loss: 3.9077\n"
     ]
    },
    {
     "name": "stderr",
     "output_type": "stream",
     "text": [
      "Training:   1%|          | 12/1000 [00:33<45:32,  2.77s/it]"
     ]
    },
    {
     "name": "stdout",
     "output_type": "stream",
     "text": [
      "Baseline Loss: 5.3134 | Actual Loss: 5.2480\n",
      "Baseline Loss: 3.9669 | Actual Loss: 3.9123\n",
      "Epoch 12/1000: Train Loss: 5.2480, Val Loss: 3.9123\n",
      "Baseline Loss: 5.3134 | Actual Loss: 5.2587\n"
     ]
    },
    {
     "name": "stderr",
     "output_type": "stream",
     "text": [
      "Training:   1%|▏         | 13/1000 [00:35<44:55,  2.73s/it]"
     ]
    },
    {
     "name": "stdout",
     "output_type": "stream",
     "text": [
      "Baseline Loss: 3.9669 | Actual Loss: 3.9020\n",
      "Epoch 13/1000: Train Loss: 5.2587, Val Loss: 3.9020\n",
      "New best validation loss: 3.9020\n",
      "Baseline Loss: 5.3134 | Actual Loss: 5.2377\n"
     ]
    },
    {
     "name": "stderr",
     "output_type": "stream",
     "text": [
      "Training:   1%|▏         | 14/1000 [00:38<44:18,  2.70s/it]"
     ]
    },
    {
     "name": "stdout",
     "output_type": "stream",
     "text": [
      "Baseline Loss: 3.9669 | Actual Loss: 3.9095\n",
      "Epoch 14/1000: Train Loss: 5.2377, Val Loss: 3.9095\n"
     ]
    },
    {
     "name": "stderr",
     "output_type": "stream",
     "text": [
      "Training:   2%|▏         | 15/1000 [00:40<42:58,  2.62s/it]"
     ]
    },
    {
     "name": "stdout",
     "output_type": "stream",
     "text": [
      "Baseline Loss: 5.3133 | Actual Loss: 5.2305\n",
      "Baseline Loss: 3.9669 | Actual Loss: 3.8635\n",
      "Epoch 15/1000: Train Loss: 5.2305, Val Loss: 3.8635\n",
      "New best validation loss: 3.8635\n",
      "Baseline Loss: 5.3134 | Actual Loss: 5.2247\n"
     ]
    },
    {
     "name": "stderr",
     "output_type": "stream",
     "text": [
      "Training:   2%|▏         | 16/1000 [00:43<45:00,  2.74s/it]"
     ]
    },
    {
     "name": "stdout",
     "output_type": "stream",
     "text": [
      "Baseline Loss: 3.9669 | Actual Loss: 3.9060\n",
      "Epoch 16/1000: Train Loss: 5.2247, Val Loss: 3.9060\n",
      "Baseline Loss: 5.3134 | Actual Loss: 5.2268\n"
     ]
    },
    {
     "name": "stderr",
     "output_type": "stream",
     "text": [
      "Training:   2%|▏         | 17/1000 [00:46<44:14,  2.70s/it]"
     ]
    },
    {
     "name": "stdout",
     "output_type": "stream",
     "text": [
      "Baseline Loss: 3.9669 | Actual Loss: 3.8814\n",
      "Epoch 17/1000: Train Loss: 5.2268, Val Loss: 3.8814\n"
     ]
    },
    {
     "name": "stderr",
     "output_type": "stream",
     "text": [
      "Training:   2%|▏         | 18/1000 [00:49<44:34,  2.72s/it]"
     ]
    },
    {
     "name": "stdout",
     "output_type": "stream",
     "text": [
      "Baseline Loss: 5.3133 | Actual Loss: 5.2158\n",
      "Baseline Loss: 3.9669 | Actual Loss: 3.8939\n",
      "Epoch 18/1000: Train Loss: 5.2158, Val Loss: 3.8939\n",
      "Baseline Loss: 5.3134 | Actual Loss: 5.2065\n",
      "Baseline Loss: 3.9669 | Actual Loss: 3.8525\n",
      "Epoch 19/1000: Train Loss: 5.2065, Val Loss: 3.8525\n",
      "New best validation loss: 3.8525\n"
     ]
    },
    {
     "name": "stderr",
     "output_type": "stream",
     "text": [
      "Training:   2%|▏         | 20/1000 [00:54<44:07,  2.70s/it]"
     ]
    },
    {
     "name": "stdout",
     "output_type": "stream",
     "text": [
      "Baseline Loss: 5.3134 | Actual Loss: 5.1991\n",
      "Baseline Loss: 3.9669 | Actual Loss: 3.8575\n",
      "Epoch 20/1000: Train Loss: 5.1991, Val Loss: 3.8575\n",
      "Baseline Loss: 5.3134 | Actual Loss: 5.1980\n"
     ]
    },
    {
     "name": "stderr",
     "output_type": "stream",
     "text": [
      "Training:   2%|▏         | 21/1000 [00:57<45:26,  2.78s/it]"
     ]
    },
    {
     "name": "stdout",
     "output_type": "stream",
     "text": [
      "Baseline Loss: 3.9669 | Actual Loss: 3.8414\n",
      "Epoch 21/1000: Train Loss: 5.1980, Val Loss: 3.8414\n",
      "New best validation loss: 3.8414\n"
     ]
    },
    {
     "name": "stderr",
     "output_type": "stream",
     "text": [
      "Training:   2%|▏         | 22/1000 [01:00<46:53,  2.88s/it]"
     ]
    },
    {
     "name": "stdout",
     "output_type": "stream",
     "text": [
      "Baseline Loss: 5.3134 | Actual Loss: 5.1899\n",
      "Baseline Loss: 3.9669 | Actual Loss: 3.8602\n",
      "Epoch 22/1000: Train Loss: 5.1899, Val Loss: 3.8602\n",
      "Baseline Loss: 5.3134 | Actual Loss: 5.1631\n"
     ]
    },
    {
     "name": "stderr",
     "output_type": "stream",
     "text": [
      "Training:   2%|▏         | 23/1000 [01:03<46:46,  2.87s/it]"
     ]
    },
    {
     "name": "stdout",
     "output_type": "stream",
     "text": [
      "Baseline Loss: 3.9669 | Actual Loss: 3.8320\n",
      "Epoch 23/1000: Train Loss: 5.1631, Val Loss: 3.8320\n",
      "New best validation loss: 3.8320\n",
      "Baseline Loss: 5.3134 | Actual Loss: 5.1512\n"
     ]
    },
    {
     "name": "stderr",
     "output_type": "stream",
     "text": [
      "Training:   2%|▏         | 24/1000 [01:06<46:23,  2.85s/it]"
     ]
    },
    {
     "name": "stdout",
     "output_type": "stream",
     "text": [
      "Baseline Loss: 3.9669 | Actual Loss: 3.8232\n",
      "Epoch 24/1000: Train Loss: 5.1512, Val Loss: 3.8232\n",
      "New best validation loss: 3.8232\n",
      "Baseline Loss: 5.3134 | Actual Loss: 5.1586\n"
     ]
    },
    {
     "name": "stderr",
     "output_type": "stream",
     "text": [
      "Training:   2%|▎         | 25/1000 [01:08<45:06,  2.78s/it]"
     ]
    },
    {
     "name": "stdout",
     "output_type": "stream",
     "text": [
      "Baseline Loss: 3.9669 | Actual Loss: 3.8002\n",
      "Epoch 25/1000: Train Loss: 5.1586, Val Loss: 3.8002\n",
      "New best validation loss: 3.8002\n",
      "Baseline Loss: 5.3133 | Actual Loss: 5.1349\n"
     ]
    },
    {
     "name": "stderr",
     "output_type": "stream",
     "text": [
      "Training:   3%|▎         | 26/1000 [01:12<46:34,  2.87s/it]"
     ]
    },
    {
     "name": "stdout",
     "output_type": "stream",
     "text": [
      "Baseline Loss: 3.9669 | Actual Loss: 3.7724\n",
      "Epoch 26/1000: Train Loss: 5.1349, Val Loss: 3.7724\n",
      "New best validation loss: 3.7724\n"
     ]
    },
    {
     "name": "stderr",
     "output_type": "stream",
     "text": [
      "Training:   3%|▎         | 27/1000 [01:15<47:34,  2.93s/it]"
     ]
    },
    {
     "name": "stdout",
     "output_type": "stream",
     "text": [
      "Baseline Loss: 5.3134 | Actual Loss: 5.1157\n",
      "Baseline Loss: 3.9669 | Actual Loss: 3.7937\n",
      "Epoch 27/1000: Train Loss: 5.1157, Val Loss: 3.7937\n"
     ]
    },
    {
     "name": "stderr",
     "output_type": "stream",
     "text": [
      "Training:   3%|▎         | 28/1000 [01:17<46:45,  2.89s/it]"
     ]
    },
    {
     "name": "stdout",
     "output_type": "stream",
     "text": [
      "Baseline Loss: 5.3134 | Actual Loss: 5.1160\n",
      "Baseline Loss: 3.9669 | Actual Loss: 3.7251\n",
      "Epoch 28/1000: Train Loss: 5.1160, Val Loss: 3.7251\n",
      "New best validation loss: 3.7251\n",
      "Baseline Loss: 5.3134 | Actual Loss: 5.0804\n"
     ]
    },
    {
     "name": "stderr",
     "output_type": "stream",
     "text": [
      "Training:   3%|▎         | 29/1000 [01:20<46:32,  2.88s/it]"
     ]
    },
    {
     "name": "stdout",
     "output_type": "stream",
     "text": [
      "Baseline Loss: 3.9669 | Actual Loss: 3.7416\n",
      "Epoch 29/1000: Train Loss: 5.0804, Val Loss: 3.7416\n",
      "Baseline Loss: 5.3134 | Actual Loss: 5.0789\n"
     ]
    },
    {
     "name": "stderr",
     "output_type": "stream",
     "text": [
      "Training:   3%|▎         | 30/1000 [01:23<45:18,  2.80s/it]"
     ]
    },
    {
     "name": "stdout",
     "output_type": "stream",
     "text": [
      "Baseline Loss: 3.9669 | Actual Loss: 3.7523\n",
      "Epoch 30/1000: Train Loss: 5.0789, Val Loss: 3.7523\n",
      "Baseline Loss: 5.3133 | Actual Loss: 5.0530\n"
     ]
    },
    {
     "name": "stderr",
     "output_type": "stream",
     "text": [
      "Training:   3%|▎         | 31/1000 [01:26<47:03,  2.91s/it]"
     ]
    },
    {
     "name": "stdout",
     "output_type": "stream",
     "text": [
      "Baseline Loss: 3.9669 | Actual Loss: 3.7112\n",
      "Epoch 31/1000: Train Loss: 5.0530, Val Loss: 3.7112\n",
      "New best validation loss: 3.7112\n",
      "Baseline Loss: 5.3133 | Actual Loss: 5.0665\n"
     ]
    },
    {
     "name": "stderr",
     "output_type": "stream",
     "text": [
      "Training:   3%|▎         | 32/1000 [01:29<45:56,  2.85s/it]"
     ]
    },
    {
     "name": "stdout",
     "output_type": "stream",
     "text": [
      "Baseline Loss: 3.9669 | Actual Loss: 3.7086\n",
      "Epoch 32/1000: Train Loss: 5.0665, Val Loss: 3.7086\n",
      "New best validation loss: 3.7086\n",
      "Baseline Loss: 5.3133 | Actual Loss: 5.0515\n"
     ]
    },
    {
     "name": "stderr",
     "output_type": "stream",
     "text": [
      "Training:   3%|▎         | 33/1000 [01:32<46:05,  2.86s/it]"
     ]
    },
    {
     "name": "stdout",
     "output_type": "stream",
     "text": [
      "Baseline Loss: 3.9669 | Actual Loss: 3.7127\n",
      "Epoch 33/1000: Train Loss: 5.0515, Val Loss: 3.7127\n",
      "Baseline Loss: 5.3134 | Actual Loss: 4.9997\n"
     ]
    },
    {
     "name": "stderr",
     "output_type": "stream",
     "text": [
      "Training:   3%|▎         | 34/1000 [01:34<46:02,  2.86s/it]"
     ]
    },
    {
     "name": "stdout",
     "output_type": "stream",
     "text": [
      "Baseline Loss: 3.9669 | Actual Loss: 3.6782\n",
      "Epoch 34/1000: Train Loss: 4.9997, Val Loss: 3.6782\n",
      "New best validation loss: 3.6782\n",
      "Baseline Loss: 5.3133 | Actual Loss: 5.0141\n"
     ]
    },
    {
     "name": "stderr",
     "output_type": "stream",
     "text": [
      "Training:   4%|▎         | 35/1000 [01:37<45:00,  2.80s/it]"
     ]
    },
    {
     "name": "stdout",
     "output_type": "stream",
     "text": [
      "Baseline Loss: 3.9669 | Actual Loss: 3.6441\n",
      "Epoch 35/1000: Train Loss: 5.0141, Val Loss: 3.6441\n",
      "New best validation loss: 3.6441\n",
      "Baseline Loss: 5.3134 | Actual Loss: 4.9683\n"
     ]
    },
    {
     "name": "stderr",
     "output_type": "stream",
     "text": [
      "Training:   4%|▎         | 36/1000 [01:40<46:07,  2.87s/it]"
     ]
    },
    {
     "name": "stdout",
     "output_type": "stream",
     "text": [
      "Baseline Loss: 3.9669 | Actual Loss: 3.6564\n",
      "Epoch 36/1000: Train Loss: 4.9683, Val Loss: 3.6564\n",
      "Baseline Loss: 5.3134 | Actual Loss: 4.9335\n"
     ]
    },
    {
     "name": "stderr",
     "output_type": "stream",
     "text": [
      "Training:   4%|▎         | 37/1000 [01:43<47:07,  2.94s/it]"
     ]
    },
    {
     "name": "stdout",
     "output_type": "stream",
     "text": [
      "Baseline Loss: 3.9669 | Actual Loss: 3.6184\n",
      "Epoch 37/1000: Train Loss: 4.9335, Val Loss: 3.6184\n",
      "New best validation loss: 3.6184\n",
      "Baseline Loss: 5.3134 | Actual Loss: 4.9432\n"
     ]
    },
    {
     "name": "stderr",
     "output_type": "stream",
     "text": [
      "Training:   4%|▍         | 38/1000 [01:46<46:24,  2.89s/it]"
     ]
    },
    {
     "name": "stdout",
     "output_type": "stream",
     "text": [
      "Baseline Loss: 3.9669 | Actual Loss: 3.5971\n",
      "Epoch 38/1000: Train Loss: 4.9432, Val Loss: 3.5971\n",
      "New best validation loss: 3.5971\n"
     ]
    },
    {
     "name": "stderr",
     "output_type": "stream",
     "text": [
      "Training:   4%|▍         | 39/1000 [01:49<47:11,  2.95s/it]"
     ]
    },
    {
     "name": "stdout",
     "output_type": "stream",
     "text": [
      "Baseline Loss: 5.3134 | Actual Loss: 4.8982\n",
      "Baseline Loss: 3.9669 | Actual Loss: 3.5750\n",
      "Epoch 39/1000: Train Loss: 4.8982, Val Loss: 3.5750\n",
      "New best validation loss: 3.5750\n",
      "Baseline Loss: 5.3134 | Actual Loss: 4.8867\n"
     ]
    },
    {
     "name": "stderr",
     "output_type": "stream",
     "text": [
      "Training:   4%|▍         | 40/1000 [01:52<45:24,  2.84s/it]"
     ]
    },
    {
     "name": "stdout",
     "output_type": "stream",
     "text": [
      "Baseline Loss: 3.9669 | Actual Loss: 3.4413\n",
      "Epoch 40/1000: Train Loss: 4.8867, Val Loss: 3.4413\n",
      "New best validation loss: 3.4413\n",
      "Baseline Loss: 5.3134 | Actual Loss: 4.8514\n"
     ]
    },
    {
     "name": "stderr",
     "output_type": "stream",
     "text": [
      "Training:   4%|▍         | 41/1000 [01:55<45:58,  2.88s/it]"
     ]
    },
    {
     "name": "stdout",
     "output_type": "stream",
     "text": [
      "Baseline Loss: 3.9669 | Actual Loss: 3.5788\n",
      "Epoch 41/1000: Train Loss: 4.8514, Val Loss: 3.5788\n",
      "Baseline Loss: 5.3134 | Actual Loss: 4.8143\n"
     ]
    },
    {
     "name": "stderr",
     "output_type": "stream",
     "text": [
      "Training:   4%|▍         | 42/1000 [01:58<47:04,  2.95s/it]"
     ]
    },
    {
     "name": "stdout",
     "output_type": "stream",
     "text": [
      "Baseline Loss: 3.9669 | Actual Loss: 3.5030\n",
      "Epoch 42/1000: Train Loss: 4.8143, Val Loss: 3.5030\n",
      "Baseline Loss: 5.3134 | Actual Loss: 4.7636\n"
     ]
    },
    {
     "name": "stderr",
     "output_type": "stream",
     "text": [
      "Training:   4%|▍         | 43/1000 [02:01<46:26,  2.91s/it]"
     ]
    },
    {
     "name": "stdout",
     "output_type": "stream",
     "text": [
      "Baseline Loss: 3.9669 | Actual Loss: 3.4815\n",
      "Epoch 43/1000: Train Loss: 4.7636, Val Loss: 3.4815\n",
      "Baseline Loss: 5.3134 | Actual Loss: 4.7710\n"
     ]
    },
    {
     "name": "stderr",
     "output_type": "stream",
     "text": [
      "Training:   4%|▍         | 44/1000 [02:03<46:10,  2.90s/it]"
     ]
    },
    {
     "name": "stdout",
     "output_type": "stream",
     "text": [
      "Baseline Loss: 3.9669 | Actual Loss: 3.4109\n",
      "Epoch 44/1000: Train Loss: 4.7710, Val Loss: 3.4109\n",
      "New best validation loss: 3.4109\n",
      "Baseline Loss: 5.3134 | Actual Loss: 4.7318\n"
     ]
    },
    {
     "name": "stderr",
     "output_type": "stream",
     "text": [
      "Training:   4%|▍         | 45/1000 [02:06<44:40,  2.81s/it]"
     ]
    },
    {
     "name": "stdout",
     "output_type": "stream",
     "text": [
      "Baseline Loss: 3.9669 | Actual Loss: 3.4034\n",
      "Epoch 45/1000: Train Loss: 4.7318, Val Loss: 3.4034\n",
      "New best validation loss: 3.4034\n",
      "Baseline Loss: 5.3133 | Actual Loss: 4.6835\n"
     ]
    },
    {
     "name": "stderr",
     "output_type": "stream",
     "text": [
      "Training:   5%|▍         | 46/1000 [02:09<46:24,  2.92s/it]"
     ]
    },
    {
     "name": "stdout",
     "output_type": "stream",
     "text": [
      "Baseline Loss: 3.9669 | Actual Loss: 3.3581\n",
      "Epoch 46/1000: Train Loss: 4.6835, Val Loss: 3.3581\n",
      "New best validation loss: 3.3581\n",
      "Baseline Loss: 5.3134 | Actual Loss: 4.6709\n"
     ]
    },
    {
     "name": "stderr",
     "output_type": "stream",
     "text": [
      "Training:   5%|▍         | 47/1000 [02:12<45:06,  2.84s/it]"
     ]
    },
    {
     "name": "stdout",
     "output_type": "stream",
     "text": [
      "Baseline Loss: 3.9669 | Actual Loss: 3.3818\n",
      "Epoch 47/1000: Train Loss: 4.6709, Val Loss: 3.3818\n",
      "Baseline Loss: 5.3134 | Actual Loss: 4.6613\n"
     ]
    },
    {
     "name": "stderr",
     "output_type": "stream",
     "text": [
      "Training:   5%|▍         | 48/1000 [02:15<45:30,  2.87s/it]"
     ]
    },
    {
     "name": "stdout",
     "output_type": "stream",
     "text": [
      "Baseline Loss: 3.9669 | Actual Loss: 3.3254\n",
      "Epoch 48/1000: Train Loss: 4.6613, Val Loss: 3.3254\n",
      "New best validation loss: 3.3254\n",
      "Baseline Loss: 5.3134 | Actual Loss: 4.6154\n"
     ]
    },
    {
     "name": "stderr",
     "output_type": "stream",
     "text": [
      "Training:   5%|▍         | 49/1000 [02:18<45:29,  2.87s/it]"
     ]
    },
    {
     "name": "stdout",
     "output_type": "stream",
     "text": [
      "Baseline Loss: 3.9669 | Actual Loss: 3.2713\n",
      "Epoch 49/1000: Train Loss: 4.6154, Val Loss: 3.2713\n",
      "New best validation loss: 3.2713\n",
      "Baseline Loss: 5.3133 | Actual Loss: 4.5734\n"
     ]
    },
    {
     "name": "stderr",
     "output_type": "stream",
     "text": [
      "Training:   5%|▌         | 50/1000 [02:20<44:15,  2.80s/it]"
     ]
    },
    {
     "name": "stdout",
     "output_type": "stream",
     "text": [
      "Baseline Loss: 3.9669 | Actual Loss: 3.2847\n",
      "Epoch 50/1000: Train Loss: 4.5734, Val Loss: 3.2847\n",
      "Baseline Loss: 5.3134 | Actual Loss: 4.5330\n"
     ]
    },
    {
     "name": "stderr",
     "output_type": "stream",
     "text": [
      "Training:   5%|▌         | 51/1000 [02:23<45:09,  2.85s/it]"
     ]
    },
    {
     "name": "stdout",
     "output_type": "stream",
     "text": [
      "Baseline Loss: 3.9669 | Actual Loss: 3.3472\n",
      "Epoch 51/1000: Train Loss: 4.5330, Val Loss: 3.3472\n",
      "Baseline Loss: 5.3134 | Actual Loss: 4.4652\n"
     ]
    },
    {
     "name": "stderr",
     "output_type": "stream",
     "text": [
      "Training:   5%|▌         | 52/1000 [02:26<46:33,  2.95s/it]"
     ]
    },
    {
     "name": "stdout",
     "output_type": "stream",
     "text": [
      "Baseline Loss: 3.9669 | Actual Loss: 3.2420\n",
      "Epoch 52/1000: Train Loss: 4.4652, Val Loss: 3.2420\n",
      "New best validation loss: 3.2420\n",
      "Baseline Loss: 5.3134 | Actual Loss: 4.5248\n"
     ]
    },
    {
     "name": "stderr",
     "output_type": "stream",
     "text": [
      "Training:   5%|▌         | 53/1000 [02:29<46:06,  2.92s/it]"
     ]
    },
    {
     "name": "stdout",
     "output_type": "stream",
     "text": [
      "Baseline Loss: 3.9669 | Actual Loss: 3.2572\n",
      "Epoch 53/1000: Train Loss: 4.5248, Val Loss: 3.2572\n",
      "Baseline Loss: 5.3134 | Actual Loss: 4.4342\n"
     ]
    },
    {
     "name": "stderr",
     "output_type": "stream",
     "text": [
      "Training:   5%|▌         | 54/1000 [02:32<45:43,  2.90s/it]"
     ]
    },
    {
     "name": "stdout",
     "output_type": "stream",
     "text": [
      "Baseline Loss: 3.9669 | Actual Loss: 3.2997\n",
      "Epoch 54/1000: Train Loss: 4.4342, Val Loss: 3.2997\n",
      "Baseline Loss: 5.3134 | Actual Loss: 4.4365\n"
     ]
    },
    {
     "name": "stderr",
     "output_type": "stream",
     "text": [
      "Training:   6%|▌         | 55/1000 [02:35<46:06,  2.93s/it]"
     ]
    },
    {
     "name": "stdout",
     "output_type": "stream",
     "text": [
      "Baseline Loss: 3.9669 | Actual Loss: 3.1816\n",
      "Epoch 55/1000: Train Loss: 4.4365, Val Loss: 3.1816\n",
      "New best validation loss: 3.1816\n",
      "Baseline Loss: 5.3134 | Actual Loss: 4.3712\n"
     ]
    },
    {
     "name": "stderr",
     "output_type": "stream",
     "text": [
      "Training:   6%|▌         | 56/1000 [02:39<47:54,  3.05s/it]"
     ]
    },
    {
     "name": "stdout",
     "output_type": "stream",
     "text": [
      "Baseline Loss: 3.9669 | Actual Loss: 3.0512\n",
      "Epoch 56/1000: Train Loss: 4.3712, Val Loss: 3.0512\n",
      "New best validation loss: 3.0512\n",
      "Baseline Loss: 5.3134 | Actual Loss: 4.3649\n"
     ]
    },
    {
     "name": "stderr",
     "output_type": "stream",
     "text": [
      "Training:   6%|▌         | 57/1000 [02:41<46:24,  2.95s/it]"
     ]
    },
    {
     "name": "stdout",
     "output_type": "stream",
     "text": [
      "Baseline Loss: 3.9669 | Actual Loss: 3.1447\n",
      "Epoch 57/1000: Train Loss: 4.3649, Val Loss: 3.1447\n",
      "Baseline Loss: 5.3134 | Actual Loss: 4.3962\n"
     ]
    },
    {
     "name": "stderr",
     "output_type": "stream",
     "text": [
      "Training:   6%|▌         | 58/1000 [02:44<45:42,  2.91s/it]"
     ]
    },
    {
     "name": "stdout",
     "output_type": "stream",
     "text": [
      "Baseline Loss: 3.9669 | Actual Loss: 3.0278\n",
      "Epoch 58/1000: Train Loss: 4.3962, Val Loss: 3.0278\n",
      "New best validation loss: 3.0278\n",
      "Baseline Loss: 5.3134 | Actual Loss: 4.3361\n",
      "Baseline Loss: 3.9669 | Actual Loss: 3.0497\n"
     ]
    },
    {
     "name": "stderr",
     "output_type": "stream",
     "text": [
      "Training:   6%|▌         | 59/1000 [02:47<45:20,  2.89s/it]"
     ]
    },
    {
     "name": "stdout",
     "output_type": "stream",
     "text": [
      "Epoch 59/1000: Train Loss: 4.3361, Val Loss: 3.0497\n",
      "Baseline Loss: 5.3134 | Actual Loss: 4.3111\n",
      "Baseline Loss: 3.9669 | Actual Loss: 3.1336\n"
     ]
    },
    {
     "name": "stderr",
     "output_type": "stream",
     "text": [
      "Training:   6%|▌         | 60/1000 [02:50<44:09,  2.82s/it]"
     ]
    },
    {
     "name": "stdout",
     "output_type": "stream",
     "text": [
      "Epoch 60/1000: Train Loss: 4.3111, Val Loss: 3.1336\n",
      "Baseline Loss: 5.3134 | Actual Loss: 4.3143\n"
     ]
    },
    {
     "name": "stderr",
     "output_type": "stream",
     "text": [
      "Training:   6%|▌         | 61/1000 [02:53<45:04,  2.88s/it]"
     ]
    },
    {
     "name": "stdout",
     "output_type": "stream",
     "text": [
      "Baseline Loss: 3.9669 | Actual Loss: 2.9820\n",
      "Epoch 61/1000: Train Loss: 4.3143, Val Loss: 2.9820\n",
      "New best validation loss: 2.9820\n",
      "Baseline Loss: 5.3133 | Actual Loss: 4.2569\n"
     ]
    },
    {
     "name": "stderr",
     "output_type": "stream",
     "text": [
      "Training:   6%|▌         | 62/1000 [02:56<46:39,  2.98s/it]"
     ]
    },
    {
     "name": "stdout",
     "output_type": "stream",
     "text": [
      "Baseline Loss: 3.9669 | Actual Loss: 3.0600\n",
      "Epoch 62/1000: Train Loss: 4.2569, Val Loss: 3.0600\n",
      "Baseline Loss: 5.3134 | Actual Loss: 4.2807\n",
      "Baseline Loss: 3.9669 | Actual Loss: 3.0178\n"
     ]
    },
    {
     "name": "stderr",
     "output_type": "stream",
     "text": [
      "Training:   6%|▋         | 63/1000 [02:59<45:59,  2.94s/it]"
     ]
    },
    {
     "name": "stdout",
     "output_type": "stream",
     "text": [
      "Epoch 63/1000: Train Loss: 4.2807, Val Loss: 3.0178\n",
      "Baseline Loss: 5.3134 | Actual Loss: 4.2119\n",
      "Baseline Loss: 3.9669 | Actual Loss: 3.0684\n"
     ]
    },
    {
     "name": "stderr",
     "output_type": "stream",
     "text": [
      "Training:   6%|▋         | 64/1000 [03:02<45:29,  2.92s/it]"
     ]
    },
    {
     "name": "stdout",
     "output_type": "stream",
     "text": [
      "Epoch 64/1000: Train Loss: 4.2119, Val Loss: 3.0684\n",
      "Baseline Loss: 5.3134 | Actual Loss: 4.1571\n"
     ]
    },
    {
     "name": "stderr",
     "output_type": "stream",
     "text": [
      "Training:   6%|▋         | 65/1000 [03:04<44:06,  2.83s/it]"
     ]
    },
    {
     "name": "stdout",
     "output_type": "stream",
     "text": [
      "Baseline Loss: 3.9669 | Actual Loss: 2.9334\n",
      "Epoch 65/1000: Train Loss: 4.1571, Val Loss: 2.9334\n",
      "New best validation loss: 2.9334\n",
      "Baseline Loss: 5.3134 | Actual Loss: 4.2365\n"
     ]
    },
    {
     "name": "stderr",
     "output_type": "stream",
     "text": [
      "Training:   7%|▋         | 66/1000 [03:07<44:48,  2.88s/it]"
     ]
    },
    {
     "name": "stdout",
     "output_type": "stream",
     "text": [
      "Baseline Loss: 3.9669 | Actual Loss: 2.8231\n",
      "Epoch 66/1000: Train Loss: 4.2365, Val Loss: 2.8231\n",
      "New best validation loss: 2.8231\n",
      "Baseline Loss: 5.3134 | Actual Loss: 4.1774\n"
     ]
    },
    {
     "name": "stderr",
     "output_type": "stream",
     "text": [
      "Training:   7%|▋         | 67/1000 [03:10<46:01,  2.96s/it]"
     ]
    },
    {
     "name": "stdout",
     "output_type": "stream",
     "text": [
      "Baseline Loss: 3.9669 | Actual Loss: 2.8826\n",
      "Epoch 67/1000: Train Loss: 4.1774, Val Loss: 2.8826\n"
     ]
    },
    {
     "name": "stderr",
     "output_type": "stream",
     "text": [
      "Training:   7%|▋         | 68/1000 [03:13<45:22,  2.92s/it]"
     ]
    },
    {
     "name": "stdout",
     "output_type": "stream",
     "text": [
      "Baseline Loss: 5.3134 | Actual Loss: 4.1748\n",
      "Baseline Loss: 3.9669 | Actual Loss: 2.9843\n",
      "Epoch 68/1000: Train Loss: 4.1748, Val Loss: 2.9843\n"
     ]
    },
    {
     "name": "stderr",
     "output_type": "stream",
     "text": [
      "Training:   7%|▋         | 69/1000 [03:16<44:54,  2.89s/it]"
     ]
    },
    {
     "name": "stdout",
     "output_type": "stream",
     "text": [
      "Baseline Loss: 5.3134 | Actual Loss: 4.1361\n",
      "Baseline Loss: 3.9669 | Actual Loss: 2.8811\n",
      "Epoch 69/1000: Train Loss: 4.1361, Val Loss: 2.8811\n",
      "Baseline Loss: 5.3134 | Actual Loss: 4.0731\n"
     ]
    },
    {
     "name": "stderr",
     "output_type": "stream",
     "text": [
      "Training:   7%|▋         | 70/1000 [03:19<43:27,  2.80s/it]"
     ]
    },
    {
     "name": "stdout",
     "output_type": "stream",
     "text": [
      "Baseline Loss: 3.9669 | Actual Loss: 2.8834\n",
      "Epoch 70/1000: Train Loss: 4.0731, Val Loss: 2.8834\n"
     ]
    },
    {
     "name": "stderr",
     "output_type": "stream",
     "text": [
      "Training:   7%|▋         | 71/1000 [03:22<46:44,  3.02s/it]"
     ]
    },
    {
     "name": "stdout",
     "output_type": "stream",
     "text": [
      "Baseline Loss: 5.3133 | Actual Loss: 4.0885\n",
      "Baseline Loss: 3.9669 | Actual Loss: 2.6541\n",
      "Epoch 71/1000: Train Loss: 4.0885, Val Loss: 2.6541\n",
      "New best validation loss: 2.6541\n",
      "Baseline Loss: 5.3134 | Actual Loss: 4.1201\n"
     ]
    },
    {
     "name": "stderr",
     "output_type": "stream",
     "text": [
      "Training:   7%|▋         | 72/1000 [03:25<44:55,  2.90s/it]"
     ]
    },
    {
     "name": "stdout",
     "output_type": "stream",
     "text": [
      "Baseline Loss: 3.9669 | Actual Loss: 2.6999\n",
      "Epoch 72/1000: Train Loss: 4.1201, Val Loss: 2.6999\n"
     ]
    },
    {
     "name": "stderr",
     "output_type": "stream",
     "text": [
      "Training:   7%|▋         | 73/1000 [03:27<44:24,  2.87s/it]"
     ]
    },
    {
     "name": "stdout",
     "output_type": "stream",
     "text": [
      "Baseline Loss: 5.3134 | Actual Loss: 4.0439\n",
      "Baseline Loss: 3.9669 | Actual Loss: 2.7796\n",
      "Epoch 73/1000: Train Loss: 4.0439, Val Loss: 2.7796\n"
     ]
    },
    {
     "name": "stderr",
     "output_type": "stream",
     "text": [
      "Training:   7%|▋         | 74/1000 [03:30<44:15,  2.87s/it]"
     ]
    },
    {
     "name": "stdout",
     "output_type": "stream",
     "text": [
      "Baseline Loss: 5.3134 | Actual Loss: 3.9498\n",
      "Baseline Loss: 3.9669 | Actual Loss: 2.7049\n",
      "Epoch 74/1000: Train Loss: 3.9498, Val Loss: 2.7049\n"
     ]
    },
    {
     "name": "stderr",
     "output_type": "stream",
     "text": [
      "Training:   8%|▊         | 75/1000 [03:33<43:03,  2.79s/it]"
     ]
    },
    {
     "name": "stdout",
     "output_type": "stream",
     "text": [
      "Baseline Loss: 5.3134 | Actual Loss: 4.0567\n",
      "Baseline Loss: 3.9669 | Actual Loss: 2.7956\n",
      "Epoch 75/1000: Train Loss: 4.0567, Val Loss: 2.7956\n",
      "Baseline Loss: 5.3134 | Actual Loss: 3.8947\n"
     ]
    },
    {
     "name": "stderr",
     "output_type": "stream",
     "text": [
      "Training:   8%|▊         | 76/1000 [03:36<44:25,  2.88s/it]"
     ]
    },
    {
     "name": "stdout",
     "output_type": "stream",
     "text": [
      "Baseline Loss: 3.9669 | Actual Loss: 2.5904\n",
      "Epoch 76/1000: Train Loss: 3.8947, Val Loss: 2.5904\n",
      "New best validation loss: 2.5904\n",
      "Baseline Loss: 5.3134 | Actual Loss: 3.9265\n"
     ]
    },
    {
     "name": "stderr",
     "output_type": "stream",
     "text": [
      "Training:   8%|▊         | 77/1000 [03:40<47:00,  3.06s/it]"
     ]
    },
    {
     "name": "stdout",
     "output_type": "stream",
     "text": [
      "Baseline Loss: 3.9669 | Actual Loss: 2.5596\n",
      "Epoch 77/1000: Train Loss: 3.9265, Val Loss: 2.5596\n",
      "New best validation loss: 2.5596\n",
      "Baseline Loss: 5.3134 | Actual Loss: 3.9197\n"
     ]
    },
    {
     "name": "stderr",
     "output_type": "stream",
     "text": [
      "Training:   8%|▊         | 78/1000 [03:42<46:28,  3.02s/it]"
     ]
    },
    {
     "name": "stdout",
     "output_type": "stream",
     "text": [
      "Baseline Loss: 3.9669 | Actual Loss: 2.6661\n",
      "Epoch 78/1000: Train Loss: 3.9197, Val Loss: 2.6661\n",
      "Baseline Loss: 5.3133 | Actual Loss: 3.9128\n",
      "Baseline Loss: 3.9669 | Actual Loss: 2.5380\n",
      "Epoch 79/1000: Train Loss: 3.9128, Val Loss: 2.5380\n",
      "New best validation loss: 2.5380\n"
     ]
    },
    {
     "name": "stderr",
     "output_type": "stream",
     "text": [
      "Training:   8%|▊         | 79/1000 [03:45<45:42,  2.98s/it]"
     ]
    },
    {
     "name": "stdout",
     "output_type": "stream",
     "text": [
      "Baseline Loss: 5.3134 | Actual Loss: 3.8956\n"
     ]
    },
    {
     "name": "stderr",
     "output_type": "stream",
     "text": [
      "Training:   8%|▊         | 80/1000 [03:48<44:04,  2.87s/it]"
     ]
    },
    {
     "name": "stdout",
     "output_type": "stream",
     "text": [
      "Baseline Loss: 3.9669 | Actual Loss: 2.6909\n",
      "Epoch 80/1000: Train Loss: 3.8956, Val Loss: 2.6909\n",
      "Baseline Loss: 5.3134 | Actual Loss: 3.8850\n"
     ]
    },
    {
     "name": "stderr",
     "output_type": "stream",
     "text": [
      "Training:   8%|▊         | 81/1000 [03:51<45:21,  2.96s/it]"
     ]
    },
    {
     "name": "stdout",
     "output_type": "stream",
     "text": [
      "Baseline Loss: 3.9669 | Actual Loss: 2.4946\n",
      "Epoch 81/1000: Train Loss: 3.8850, Val Loss: 2.4946\n",
      "New best validation loss: 2.4946\n",
      "Baseline Loss: 5.3133 | Actual Loss: 3.8246\n"
     ]
    },
    {
     "name": "stderr",
     "output_type": "stream",
     "text": [
      "Training:   8%|▊         | 82/1000 [03:54<43:47,  2.86s/it]"
     ]
    },
    {
     "name": "stdout",
     "output_type": "stream",
     "text": [
      "Baseline Loss: 3.9669 | Actual Loss: 2.4745\n",
      "Epoch 82/1000: Train Loss: 3.8246, Val Loss: 2.4745\n",
      "New best validation loss: 2.4745\n",
      "Baseline Loss: 5.3133 | Actual Loss: 3.8472\n"
     ]
    },
    {
     "name": "stderr",
     "output_type": "stream",
     "text": [
      "Training:   8%|▊         | 83/1000 [03:57<43:44,  2.86s/it]"
     ]
    },
    {
     "name": "stdout",
     "output_type": "stream",
     "text": [
      "Baseline Loss: 3.9669 | Actual Loss: 2.6410\n",
      "Epoch 83/1000: Train Loss: 3.8472, Val Loss: 2.6410\n",
      "Baseline Loss: 5.3133 | Actual Loss: 3.8613\n"
     ]
    },
    {
     "name": "stderr",
     "output_type": "stream",
     "text": [
      "Training:   8%|▊         | 84/1000 [04:00<44:02,  2.89s/it]"
     ]
    },
    {
     "name": "stdout",
     "output_type": "stream",
     "text": [
      "Baseline Loss: 3.9669 | Actual Loss: 2.5286\n",
      "Epoch 84/1000: Train Loss: 3.8613, Val Loss: 2.5286\n",
      "Baseline Loss: 5.3134 | Actual Loss: 3.8109\n"
     ]
    },
    {
     "name": "stderr",
     "output_type": "stream",
     "text": [
      "Training:   8%|▊         | 85/1000 [04:03<44:46,  2.94s/it]"
     ]
    },
    {
     "name": "stdout",
     "output_type": "stream",
     "text": [
      "Baseline Loss: 3.9669 | Actual Loss: 2.4614\n",
      "Epoch 85/1000: Train Loss: 3.8109, Val Loss: 2.4614\n",
      "New best validation loss: 2.4614\n",
      "Baseline Loss: 5.3134 | Actual Loss: 3.8408\n"
     ]
    },
    {
     "name": "stderr",
     "output_type": "stream",
     "text": [
      "Training:   9%|▊         | 86/1000 [04:06<44:55,  2.95s/it]"
     ]
    },
    {
     "name": "stdout",
     "output_type": "stream",
     "text": [
      "Baseline Loss: 3.9669 | Actual Loss: 2.4293\n",
      "Epoch 86/1000: Train Loss: 3.8408, Val Loss: 2.4293\n",
      "New best validation loss: 2.4293\n",
      "Baseline Loss: 5.3134 | Actual Loss: 3.8644\n"
     ]
    },
    {
     "name": "stderr",
     "output_type": "stream",
     "text": [
      "Training:   9%|▊         | 87/1000 [04:09<45:36,  3.00s/it]"
     ]
    },
    {
     "name": "stdout",
     "output_type": "stream",
     "text": [
      "Baseline Loss: 3.9669 | Actual Loss: 2.4674\n",
      "Epoch 87/1000: Train Loss: 3.8644, Val Loss: 2.4674\n",
      "Baseline Loss: 5.3134 | Actual Loss: 3.7717\n"
     ]
    },
    {
     "name": "stderr",
     "output_type": "stream",
     "text": [
      "Training:   9%|▉         | 88/1000 [04:12<45:00,  2.96s/it]"
     ]
    },
    {
     "name": "stdout",
     "output_type": "stream",
     "text": [
      "Baseline Loss: 3.9669 | Actual Loss: 2.5465\n",
      "Epoch 88/1000: Train Loss: 3.7717, Val Loss: 2.5465\n",
      "Baseline Loss: 5.3134 | Actual Loss: 3.7764\n"
     ]
    },
    {
     "name": "stderr",
     "output_type": "stream",
     "text": [
      "Training:   9%|▉         | 89/1000 [04:14<44:36,  2.94s/it]"
     ]
    },
    {
     "name": "stdout",
     "output_type": "stream",
     "text": [
      "Baseline Loss: 3.9669 | Actual Loss: 2.4130\n",
      "Epoch 89/1000: Train Loss: 3.7764, Val Loss: 2.4130\n",
      "New best validation loss: 2.4130\n",
      "Baseline Loss: 5.3134 | Actual Loss: 3.7192\n"
     ]
    },
    {
     "name": "stderr",
     "output_type": "stream",
     "text": [
      "Training:   9%|▉         | 90/1000 [04:17<43:09,  2.85s/it]"
     ]
    },
    {
     "name": "stdout",
     "output_type": "stream",
     "text": [
      "Baseline Loss: 3.9669 | Actual Loss: 2.2937\n",
      "Epoch 90/1000: Train Loss: 3.7192, Val Loss: 2.2937\n",
      "New best validation loss: 2.2937\n",
      "Baseline Loss: 5.3134 | Actual Loss: 3.7003\n"
     ]
    },
    {
     "name": "stderr",
     "output_type": "stream",
     "text": [
      "Training:   9%|▉         | 91/1000 [04:20<43:46,  2.89s/it]"
     ]
    },
    {
     "name": "stdout",
     "output_type": "stream",
     "text": [
      "Baseline Loss: 3.9669 | Actual Loss: 2.5099\n",
      "Epoch 91/1000: Train Loss: 3.7003, Val Loss: 2.5099\n",
      "Baseline Loss: 5.3134 | Actual Loss: 3.6910\n"
     ]
    },
    {
     "name": "stderr",
     "output_type": "stream",
     "text": [
      "Training:   9%|▉         | 92/1000 [04:23<45:04,  2.98s/it]"
     ]
    },
    {
     "name": "stdout",
     "output_type": "stream",
     "text": [
      "Baseline Loss: 3.9669 | Actual Loss: 2.3599\n",
      "Epoch 92/1000: Train Loss: 3.6910, Val Loss: 2.3599\n",
      "Baseline Loss: 5.3134 | Actual Loss: 3.7320\n"
     ]
    },
    {
     "name": "stderr",
     "output_type": "stream",
     "text": [
      "Training:   9%|▉         | 93/1000 [04:26<44:40,  2.96s/it]"
     ]
    },
    {
     "name": "stdout",
     "output_type": "stream",
     "text": [
      "Baseline Loss: 3.9669 | Actual Loss: 2.3723\n",
      "Epoch 93/1000: Train Loss: 3.7320, Val Loss: 2.3723\n",
      "Baseline Loss: 5.3134 | Actual Loss: 3.7256\n"
     ]
    },
    {
     "name": "stderr",
     "output_type": "stream",
     "text": [
      "Training:   9%|▉         | 94/1000 [04:29<44:09,  2.92s/it]"
     ]
    },
    {
     "name": "stdout",
     "output_type": "stream",
     "text": [
      "Baseline Loss: 3.9669 | Actual Loss: 2.4240\n",
      "Epoch 94/1000: Train Loss: 3.7256, Val Loss: 2.4240\n",
      "Baseline Loss: 5.3134 | Actual Loss: 3.6724\n"
     ]
    },
    {
     "name": "stderr",
     "output_type": "stream",
     "text": [
      "Training:  10%|▉         | 95/1000 [04:32<43:03,  2.85s/it]"
     ]
    },
    {
     "name": "stdout",
     "output_type": "stream",
     "text": [
      "Baseline Loss: 3.9669 | Actual Loss: 2.3621\n",
      "Epoch 95/1000: Train Loss: 3.6724, Val Loss: 2.3621\n",
      "Baseline Loss: 5.3134 | Actual Loss: 3.6899\n"
     ]
    },
    {
     "name": "stderr",
     "output_type": "stream",
     "text": [
      "Training:  10%|▉         | 96/1000 [04:35<44:19,  2.94s/it]"
     ]
    },
    {
     "name": "stdout",
     "output_type": "stream",
     "text": [
      "Baseline Loss: 3.9669 | Actual Loss: 2.2327\n",
      "Epoch 96/1000: Train Loss: 3.6899, Val Loss: 2.2327\n",
      "New best validation loss: 2.2327\n",
      "Baseline Loss: 5.3134 | Actual Loss: 3.6336\n"
     ]
    },
    {
     "name": "stderr",
     "output_type": "stream",
     "text": [
      "Training:  10%|▉         | 97/1000 [04:38<42:58,  2.86s/it]"
     ]
    },
    {
     "name": "stdout",
     "output_type": "stream",
     "text": [
      "Baseline Loss: 3.9669 | Actual Loss: 2.4176\n",
      "Epoch 97/1000: Train Loss: 3.6336, Val Loss: 2.4176\n",
      "Baseline Loss: 5.3134 | Actual Loss: 3.6914\n"
     ]
    },
    {
     "name": "stderr",
     "output_type": "stream",
     "text": [
      "Training:  10%|▉         | 98/1000 [04:40<42:47,  2.85s/it]"
     ]
    },
    {
     "name": "stdout",
     "output_type": "stream",
     "text": [
      "Baseline Loss: 3.9669 | Actual Loss: 2.3976\n",
      "Epoch 98/1000: Train Loss: 3.6914, Val Loss: 2.3976\n",
      "Baseline Loss: 5.3134 | Actual Loss: 3.5983\n"
     ]
    },
    {
     "name": "stderr",
     "output_type": "stream",
     "text": [
      "Training:  10%|▉         | 99/1000 [04:43<42:46,  2.85s/it]"
     ]
    },
    {
     "name": "stdout",
     "output_type": "stream",
     "text": [
      "Baseline Loss: 3.9669 | Actual Loss: 2.3075\n",
      "Epoch 99/1000: Train Loss: 3.5983, Val Loss: 2.3075\n"
     ]
    },
    {
     "name": "stderr",
     "output_type": "stream",
     "text": [
      "Training:  10%|█         | 100/1000 [04:46<42:45,  2.85s/it]"
     ]
    },
    {
     "name": "stdout",
     "output_type": "stream",
     "text": [
      "Baseline Loss: 5.3134 | Actual Loss: 3.6327\n",
      "Baseline Loss: 3.9669 | Actual Loss: 2.3001\n",
      "Epoch 100/1000: Train Loss: 3.6327, Val Loss: 2.3001\n",
      "Baseline Loss: 5.3134 | Actual Loss: 3.6355\n"
     ]
    },
    {
     "name": "stderr",
     "output_type": "stream",
     "text": [
      "Training:  10%|█         | 101/1000 [04:49<43:23,  2.90s/it]"
     ]
    },
    {
     "name": "stdout",
     "output_type": "stream",
     "text": [
      "Baseline Loss: 3.9669 | Actual Loss: 2.3485\n",
      "Epoch 101/1000: Train Loss: 3.6355, Val Loss: 2.3485\n"
     ]
    },
    {
     "name": "stderr",
     "output_type": "stream",
     "text": [
      "Training:  10%|█         | 102/1000 [04:52<45:00,  3.01s/it]"
     ]
    },
    {
     "name": "stdout",
     "output_type": "stream",
     "text": [
      "Baseline Loss: 5.3134 | Actual Loss: 3.6093\n",
      "Baseline Loss: 3.9669 | Actual Loss: 2.2616\n",
      "Epoch 102/1000: Train Loss: 3.6093, Val Loss: 2.2616\n",
      "Baseline Loss: 5.3134 | Actual Loss: 3.6498\n"
     ]
    },
    {
     "name": "stderr",
     "output_type": "stream",
     "text": [
      "Training:  10%|█         | 103/1000 [04:55<44:13,  2.96s/it]"
     ]
    },
    {
     "name": "stdout",
     "output_type": "stream",
     "text": [
      "Baseline Loss: 3.9669 | Actual Loss: 2.2430\n",
      "Epoch 103/1000: Train Loss: 3.6498, Val Loss: 2.2430\n",
      "Baseline Loss: 5.3133 | Actual Loss: 3.5968\n"
     ]
    },
    {
     "name": "stderr",
     "output_type": "stream",
     "text": [
      "Training:  10%|█         | 104/1000 [04:58<43:41,  2.93s/it]"
     ]
    },
    {
     "name": "stdout",
     "output_type": "stream",
     "text": [
      "Baseline Loss: 3.9669 | Actual Loss: 2.3184\n",
      "Epoch 104/1000: Train Loss: 3.5968, Val Loss: 2.3184\n"
     ]
    },
    {
     "name": "stderr",
     "output_type": "stream",
     "text": [
      "Training:  10%|█         | 105/1000 [05:01<42:08,  2.83s/it]"
     ]
    },
    {
     "name": "stdout",
     "output_type": "stream",
     "text": [
      "Baseline Loss: 5.3134 | Actual Loss: 3.6012\n",
      "Baseline Loss: 3.9669 | Actual Loss: 2.2713\n",
      "Epoch 105/1000: Train Loss: 3.6012, Val Loss: 2.2713\n",
      "Baseline Loss: 5.3134 | Actual Loss: 3.5823\n"
     ]
    },
    {
     "name": "stderr",
     "output_type": "stream",
     "text": [
      "Training:  11%|█         | 106/1000 [05:04<43:10,  2.90s/it]"
     ]
    },
    {
     "name": "stdout",
     "output_type": "stream",
     "text": [
      "Baseline Loss: 3.9669 | Actual Loss: 2.2551\n",
      "Epoch 106/1000: Train Loss: 3.5823, Val Loss: 2.2551\n",
      "Baseline Loss: 5.3134 | Actual Loss: 3.5537\n"
     ]
    },
    {
     "name": "stderr",
     "output_type": "stream",
     "text": [
      "Training:  11%|█         | 107/1000 [05:07<45:34,  3.06s/it]"
     ]
    },
    {
     "name": "stdout",
     "output_type": "stream",
     "text": [
      "Baseline Loss: 3.9669 | Actual Loss: 2.2830\n",
      "Epoch 107/1000: Train Loss: 3.5537, Val Loss: 2.2830\n",
      "Baseline Loss: 5.3134 | Actual Loss: 3.6233\n"
     ]
    },
    {
     "name": "stderr",
     "output_type": "stream",
     "text": [
      "Training:  11%|█         | 108/1000 [05:10<44:38,  3.00s/it]"
     ]
    },
    {
     "name": "stdout",
     "output_type": "stream",
     "text": [
      "Baseline Loss: 3.9669 | Actual Loss: 2.2340\n",
      "Epoch 108/1000: Train Loss: 3.6233, Val Loss: 2.2340\n",
      "Baseline Loss: 5.3134 | Actual Loss: 3.5793\n"
     ]
    },
    {
     "name": "stderr",
     "output_type": "stream",
     "text": [
      "Training:  11%|█         | 109/1000 [05:13<43:48,  2.95s/it]"
     ]
    },
    {
     "name": "stdout",
     "output_type": "stream",
     "text": [
      "Baseline Loss: 3.9669 | Actual Loss: 2.1959\n",
      "Epoch 109/1000: Train Loss: 3.5793, Val Loss: 2.1959\n",
      "New best validation loss: 2.1959\n"
     ]
    },
    {
     "name": "stderr",
     "output_type": "stream",
     "text": [
      "Training:  11%|█         | 110/1000 [05:15<42:19,  2.85s/it]"
     ]
    },
    {
     "name": "stdout",
     "output_type": "stream",
     "text": [
      "Baseline Loss: 5.3133 | Actual Loss: 3.5213\n",
      "Baseline Loss: 3.9669 | Actual Loss: 2.2477\n",
      "Epoch 110/1000: Train Loss: 3.5213, Val Loss: 2.2477\n",
      "Baseline Loss: 5.3134 | Actual Loss: 3.5353\n"
     ]
    },
    {
     "name": "stderr",
     "output_type": "stream",
     "text": [
      "Training:  11%|█         | 111/1000 [05:19<43:22,  2.93s/it]"
     ]
    },
    {
     "name": "stdout",
     "output_type": "stream",
     "text": [
      "Baseline Loss: 3.9669 | Actual Loss: 2.2532\n",
      "Epoch 111/1000: Train Loss: 3.5353, Val Loss: 2.2532\n",
      "Baseline Loss: 5.3134 | Actual Loss: 3.5624\n",
      "Baseline Loss: 3.9669 | Actual Loss: 2.2109\n"
     ]
    },
    {
     "name": "stderr",
     "output_type": "stream",
     "text": [
      "Training:  11%|█         | 112/1000 [05:21<42:08,  2.85s/it]"
     ]
    },
    {
     "name": "stdout",
     "output_type": "stream",
     "text": [
      "Epoch 112/1000: Train Loss: 3.5624, Val Loss: 2.2109\n"
     ]
    },
    {
     "name": "stderr",
     "output_type": "stream",
     "text": [
      "Training:  11%|█▏        | 113/1000 [05:24<41:57,  2.84s/it]"
     ]
    },
    {
     "name": "stdout",
     "output_type": "stream",
     "text": [
      "Baseline Loss: 5.3134 | Actual Loss: 3.5172\n",
      "Baseline Loss: 3.9669 | Actual Loss: 2.2463\n",
      "Epoch 113/1000: Train Loss: 3.5172, Val Loss: 2.2463\n",
      "Baseline Loss: 5.3134 | Actual Loss: 3.5419\n"
     ]
    },
    {
     "name": "stderr",
     "output_type": "stream",
     "text": [
      "Training:  11%|█▏        | 114/1000 [05:27<41:00,  2.78s/it]"
     ]
    },
    {
     "name": "stdout",
     "output_type": "stream",
     "text": [
      "Baseline Loss: 3.9669 | Actual Loss: 2.2620\n",
      "Epoch 114/1000: Train Loss: 3.5419, Val Loss: 2.2620\n",
      "Baseline Loss: 5.3134 | Actual Loss: 3.5733\n"
     ]
    },
    {
     "name": "stderr",
     "output_type": "stream",
     "text": [
      "Training:  12%|█▏        | 115/1000 [05:30<41:58,  2.85s/it]"
     ]
    },
    {
     "name": "stdout",
     "output_type": "stream",
     "text": [
      "Baseline Loss: 3.9669 | Actual Loss: 2.2416\n",
      "Epoch 115/1000: Train Loss: 3.5733, Val Loss: 2.2416\n",
      "Baseline Loss: 5.3133 | Actual Loss: 3.5421\n"
     ]
    },
    {
     "name": "stderr",
     "output_type": "stream",
     "text": [
      "Training:  12%|█▏        | 116/1000 [05:33<42:19,  2.87s/it]"
     ]
    },
    {
     "name": "stdout",
     "output_type": "stream",
     "text": [
      "Baseline Loss: 3.9669 | Actual Loss: 2.3474\n",
      "Epoch 116/1000: Train Loss: 3.5421, Val Loss: 2.3474\n",
      "Baseline Loss: 5.3134 | Actual Loss: 3.5120\n"
     ]
    },
    {
     "name": "stderr",
     "output_type": "stream",
     "text": [
      "Training:  12%|█▏        | 117/1000 [05:35<42:04,  2.86s/it]"
     ]
    },
    {
     "name": "stdout",
     "output_type": "stream",
     "text": [
      "Baseline Loss: 3.9669 | Actual Loss: 2.2054\n",
      "Epoch 117/1000: Train Loss: 3.5120, Val Loss: 2.2054\n",
      "Baseline Loss: 5.3134 | Actual Loss: 3.5095\n"
     ]
    },
    {
     "name": "stderr",
     "output_type": "stream",
     "text": [
      "Training:  12%|█▏        | 118/1000 [05:38<42:27,  2.89s/it]"
     ]
    },
    {
     "name": "stdout",
     "output_type": "stream",
     "text": [
      "Baseline Loss: 3.9669 | Actual Loss: 2.2586\n",
      "Epoch 118/1000: Train Loss: 3.5095, Val Loss: 2.2586\n",
      "Baseline Loss: 5.3134 | Actual Loss: 3.5536\n"
     ]
    },
    {
     "name": "stderr",
     "output_type": "stream",
     "text": [
      "Training:  12%|█▏        | 119/1000 [05:41<41:58,  2.86s/it]"
     ]
    },
    {
     "name": "stdout",
     "output_type": "stream",
     "text": [
      "Baseline Loss: 3.9669 | Actual Loss: 2.2850\n",
      "Epoch 119/1000: Train Loss: 3.5536, Val Loss: 2.2850\n",
      "Baseline Loss: 5.3134 | Actual Loss: 3.5232\n"
     ]
    },
    {
     "name": "stderr",
     "output_type": "stream",
     "text": [
      "Training:  12%|█▏        | 120/1000 [05:44<41:37,  2.84s/it]"
     ]
    },
    {
     "name": "stdout",
     "output_type": "stream",
     "text": [
      "Baseline Loss: 3.9669 | Actual Loss: 2.2027\n",
      "Epoch 120/1000: Train Loss: 3.5232, Val Loss: 2.2027\n",
      "Baseline Loss: 5.3133 | Actual Loss: 3.4885\n"
     ]
    },
    {
     "name": "stderr",
     "output_type": "stream",
     "text": [
      "Training:  12%|█▏        | 121/1000 [05:47<43:22,  2.96s/it]"
     ]
    },
    {
     "name": "stdout",
     "output_type": "stream",
     "text": [
      "Baseline Loss: 3.9669 | Actual Loss: 2.1920\n",
      "Epoch 121/1000: Train Loss: 3.4885, Val Loss: 2.1920\n",
      "New best validation loss: 2.1920\n",
      "Baseline Loss: 5.3134 | Actual Loss: 3.5279\n"
     ]
    },
    {
     "name": "stderr",
     "output_type": "stream",
     "text": [
      "Training:  12%|█▏        | 122/1000 [05:50<41:48,  2.86s/it]"
     ]
    },
    {
     "name": "stdout",
     "output_type": "stream",
     "text": [
      "Baseline Loss: 3.9669 | Actual Loss: 2.2198\n",
      "Epoch 122/1000: Train Loss: 3.5279, Val Loss: 2.2198\n",
      "Baseline Loss: 5.3134 | Actual Loss: 3.5180\n"
     ]
    },
    {
     "name": "stderr",
     "output_type": "stream",
     "text": [
      "Training:  12%|█▏        | 123/1000 [05:53<42:21,  2.90s/it]"
     ]
    },
    {
     "name": "stdout",
     "output_type": "stream",
     "text": [
      "Baseline Loss: 3.9669 | Actual Loss: 2.1401\n",
      "Epoch 123/1000: Train Loss: 3.5180, Val Loss: 2.1401\n",
      "New best validation loss: 2.1401\n",
      "Baseline Loss: 5.3134 | Actual Loss: 3.5235\n"
     ]
    },
    {
     "name": "stderr",
     "output_type": "stream",
     "text": [
      "Training:  12%|█▏        | 124/1000 [05:56<42:23,  2.90s/it]"
     ]
    },
    {
     "name": "stdout",
     "output_type": "stream",
     "text": [
      "Baseline Loss: 3.9669 | Actual Loss: 2.2258\n",
      "Epoch 124/1000: Train Loss: 3.5235, Val Loss: 2.2258\n",
      "Baseline Loss: 5.3134 | Actual Loss: 3.5408\n"
     ]
    },
    {
     "name": "stderr",
     "output_type": "stream",
     "text": [
      "Training:  12%|█▎        | 125/1000 [05:59<41:49,  2.87s/it]"
     ]
    },
    {
     "name": "stdout",
     "output_type": "stream",
     "text": [
      "Baseline Loss: 3.9669 | Actual Loss: 2.1008\n",
      "Epoch 125/1000: Train Loss: 3.5408, Val Loss: 2.1008\n",
      "New best validation loss: 2.1008\n",
      "Baseline Loss: 5.3134 | Actual Loss: 3.4797\n"
     ]
    },
    {
     "name": "stderr",
     "output_type": "stream",
     "text": [
      "Training:  13%|█▎        | 126/1000 [06:01<41:30,  2.85s/it]"
     ]
    },
    {
     "name": "stdout",
     "output_type": "stream",
     "text": [
      "Baseline Loss: 3.9669 | Actual Loss: 2.2018\n",
      "Epoch 126/1000: Train Loss: 3.4797, Val Loss: 2.2018\n"
     ]
    },
    {
     "name": "stderr",
     "output_type": "stream",
     "text": [
      "Training:  13%|█▎        | 127/1000 [06:04<40:12,  2.76s/it]"
     ]
    },
    {
     "name": "stdout",
     "output_type": "stream",
     "text": [
      "Baseline Loss: 5.3134 | Actual Loss: 3.5188\n",
      "Baseline Loss: 3.9669 | Actual Loss: 2.2124\n",
      "Epoch 127/1000: Train Loss: 3.5188, Val Loss: 2.2124\n",
      "Baseline Loss: 5.3134 | Actual Loss: 3.4902\n"
     ]
    },
    {
     "name": "stderr",
     "output_type": "stream",
     "text": [
      "Training:  13%|█▎        | 128/1000 [06:07<41:16,  2.84s/it]"
     ]
    },
    {
     "name": "stdout",
     "output_type": "stream",
     "text": [
      "Baseline Loss: 3.9669 | Actual Loss: 2.2587\n",
      "Epoch 128/1000: Train Loss: 3.4902, Val Loss: 2.2587\n"
     ]
    },
    {
     "name": "stderr",
     "output_type": "stream",
     "text": [
      "Training:  13%|█▎        | 129/1000 [06:10<41:40,  2.87s/it]"
     ]
    },
    {
     "name": "stdout",
     "output_type": "stream",
     "text": [
      "Baseline Loss: 5.3134 | Actual Loss: 3.5114\n",
      "Baseline Loss: 3.9669 | Actual Loss: 2.1883\n",
      "Epoch 129/1000: Train Loss: 3.5114, Val Loss: 2.1883\n"
     ]
    },
    {
     "name": "stderr",
     "output_type": "stream",
     "text": [
      "Training:  13%|█▎        | 130/1000 [06:13<41:21,  2.85s/it]"
     ]
    },
    {
     "name": "stdout",
     "output_type": "stream",
     "text": [
      "Baseline Loss: 5.3134 | Actual Loss: 3.4917\n",
      "Baseline Loss: 3.9669 | Actual Loss: 2.1704\n",
      "Epoch 130/1000: Train Loss: 3.4917, Val Loss: 2.1704\n"
     ]
    },
    {
     "name": "stderr",
     "output_type": "stream",
     "text": [
      "Training:  13%|█▎        | 131/1000 [06:16<41:47,  2.89s/it]"
     ]
    },
    {
     "name": "stdout",
     "output_type": "stream",
     "text": [
      "Baseline Loss: 5.3133 | Actual Loss: 3.4762\n",
      "Baseline Loss: 3.9669 | Actual Loss: 2.1705\n",
      "Epoch 131/1000: Train Loss: 3.4762, Val Loss: 2.1705\n"
     ]
    },
    {
     "name": "stderr",
     "output_type": "stream",
     "text": [
      "Training:  13%|█▎        | 132/1000 [06:18<40:24,  2.79s/it]"
     ]
    },
    {
     "name": "stdout",
     "output_type": "stream",
     "text": [
      "Baseline Loss: 5.3134 | Actual Loss: 3.4890\n",
      "Baseline Loss: 3.9669 | Actual Loss: 2.2132\n",
      "Epoch 132/1000: Train Loss: 3.4890, Val Loss: 2.2132\n",
      "Baseline Loss: 5.3134 | Actual Loss: 3.4871\n"
     ]
    },
    {
     "name": "stderr",
     "output_type": "stream",
     "text": [
      "Training:  13%|█▎        | 133/1000 [06:21<41:00,  2.84s/it]"
     ]
    },
    {
     "name": "stdout",
     "output_type": "stream",
     "text": [
      "Baseline Loss: 3.9669 | Actual Loss: 2.1367\n",
      "Epoch 133/1000: Train Loss: 3.4871, Val Loss: 2.1367\n",
      "Baseline Loss: 5.3134 | Actual Loss: 3.4704\n"
     ]
    },
    {
     "name": "stderr",
     "output_type": "stream",
     "text": [
      "Training:  13%|█▎        | 134/1000 [06:24<41:14,  2.86s/it]"
     ]
    },
    {
     "name": "stdout",
     "output_type": "stream",
     "text": [
      "Baseline Loss: 3.9669 | Actual Loss: 2.2260\n",
      "Epoch 134/1000: Train Loss: 3.4704, Val Loss: 2.2260\n",
      "Baseline Loss: 5.3134 | Actual Loss: 3.4864\n"
     ]
    },
    {
     "name": "stderr",
     "output_type": "stream",
     "text": [
      "Training:  14%|█▎        | 135/1000 [06:27<40:41,  2.82s/it]"
     ]
    },
    {
     "name": "stdout",
     "output_type": "stream",
     "text": [
      "Baseline Loss: 3.9669 | Actual Loss: 2.1493\n",
      "Epoch 135/1000: Train Loss: 3.4864, Val Loss: 2.1493\n"
     ]
    },
    {
     "name": "stderr",
     "output_type": "stream",
     "text": [
      "Training:  14%|█▎        | 136/1000 [06:30<40:31,  2.81s/it]"
     ]
    },
    {
     "name": "stdout",
     "output_type": "stream",
     "text": [
      "Baseline Loss: 5.3134 | Actual Loss: 3.4935\n",
      "Baseline Loss: 3.9669 | Actual Loss: 2.1556\n",
      "Epoch 136/1000: Train Loss: 3.4935, Val Loss: 2.1556\n",
      "Baseline Loss: 5.3134 | Actual Loss: 3.4733\n",
      "Baseline Loss: 3.9669 | Actual Loss: 2.1480\n"
     ]
    },
    {
     "name": "stderr",
     "output_type": "stream",
     "text": [
      "Training:  14%|█▎        | 137/1000 [06:32<39:28,  2.74s/it]"
     ]
    },
    {
     "name": "stdout",
     "output_type": "stream",
     "text": [
      "Epoch 137/1000: Train Loss: 3.4733, Val Loss: 2.1480\n",
      "Baseline Loss: 5.3134 | Actual Loss: 3.4437\n"
     ]
    },
    {
     "name": "stderr",
     "output_type": "stream",
     "text": [
      "Training:  14%|█▍        | 138/1000 [06:35<40:16,  2.80s/it]"
     ]
    },
    {
     "name": "stdout",
     "output_type": "stream",
     "text": [
      "Baseline Loss: 3.9669 | Actual Loss: 2.1839\n",
      "Epoch 138/1000: Train Loss: 3.4437, Val Loss: 2.1839\n",
      "Baseline Loss: 5.3134 | Actual Loss: 3.4791\n",
      "Baseline Loss: 3.9669 | Actual Loss: 2.2240\n",
      "Epoch 139/1000: Train Loss: 3.4791, Val Loss: 2.2240\n"
     ]
    },
    {
     "name": "stderr",
     "output_type": "stream",
     "text": [
      "Training:  14%|█▍        | 140/1000 [06:41<40:20,  2.81s/it]"
     ]
    },
    {
     "name": "stdout",
     "output_type": "stream",
     "text": [
      "Baseline Loss: 5.3134 | Actual Loss: 3.4371\n",
      "Baseline Loss: 3.9669 | Actual Loss: 2.1524\n",
      "Epoch 140/1000: Train Loss: 3.4371, Val Loss: 2.1524\n"
     ]
    },
    {
     "name": "stderr",
     "output_type": "stream",
     "text": [
      "Training:  14%|█▍        | 141/1000 [06:44<40:45,  2.85s/it]"
     ]
    },
    {
     "name": "stdout",
     "output_type": "stream",
     "text": [
      "Baseline Loss: 5.3134 | Actual Loss: 3.4201\n",
      "Baseline Loss: 3.9669 | Actual Loss: 2.0785\n",
      "Epoch 141/1000: Train Loss: 3.4201, Val Loss: 2.0785\n",
      "New best validation loss: 2.0785\n",
      "Baseline Loss: 5.3134 | Actual Loss: 3.4643\n"
     ]
    },
    {
     "name": "stderr",
     "output_type": "stream",
     "text": [
      "Training:  14%|█▍        | 142/1000 [06:46<39:56,  2.79s/it]"
     ]
    },
    {
     "name": "stdout",
     "output_type": "stream",
     "text": [
      "Baseline Loss: 3.9669 | Actual Loss: 2.0983\n",
      "Epoch 142/1000: Train Loss: 3.4643, Val Loss: 2.0983\n",
      "Baseline Loss: 5.3134 | Actual Loss: 3.4098\n"
     ]
    },
    {
     "name": "stderr",
     "output_type": "stream",
     "text": [
      "Training:  14%|█▍        | 143/1000 [06:49<41:12,  2.88s/it]"
     ]
    },
    {
     "name": "stdout",
     "output_type": "stream",
     "text": [
      "Baseline Loss: 3.9669 | Actual Loss: 2.1483\n",
      "Epoch 143/1000: Train Loss: 3.4098, Val Loss: 2.1483\n"
     ]
    },
    {
     "name": "stderr",
     "output_type": "stream",
     "text": [
      "Training:  14%|█▍        | 144/1000 [06:52<41:33,  2.91s/it]"
     ]
    },
    {
     "name": "stdout",
     "output_type": "stream",
     "text": [
      "Baseline Loss: 5.3134 | Actual Loss: 3.4345\n",
      "Baseline Loss: 3.9669 | Actual Loss: 2.0806\n",
      "Epoch 144/1000: Train Loss: 3.4345, Val Loss: 2.0806\n",
      "Baseline Loss: 5.3133 | Actual Loss: 3.3963\n"
     ]
    },
    {
     "name": "stderr",
     "output_type": "stream",
     "text": [
      "Training:  14%|█▍        | 145/1000 [06:55<41:15,  2.90s/it]"
     ]
    },
    {
     "name": "stdout",
     "output_type": "stream",
     "text": [
      "Baseline Loss: 3.9669 | Actual Loss: 2.1752\n",
      "Epoch 145/1000: Train Loss: 3.3963, Val Loss: 2.1752\n",
      "Baseline Loss: 5.3134 | Actual Loss: 3.4043\n"
     ]
    },
    {
     "name": "stderr",
     "output_type": "stream",
     "text": [
      "Training:  15%|█▍        | 146/1000 [06:58<40:45,  2.86s/it]"
     ]
    },
    {
     "name": "stdout",
     "output_type": "stream",
     "text": [
      "Baseline Loss: 3.9669 | Actual Loss: 2.1288\n",
      "Epoch 146/1000: Train Loss: 3.4043, Val Loss: 2.1288\n"
     ]
    },
    {
     "name": "stderr",
     "output_type": "stream",
     "text": [
      "Training:  15%|█▍        | 147/1000 [07:01<39:33,  2.78s/it]"
     ]
    },
    {
     "name": "stdout",
     "output_type": "stream",
     "text": [
      "Baseline Loss: 5.3134 | Actual Loss: 3.4075\n",
      "Baseline Loss: 3.9669 | Actual Loss: 2.0767\n",
      "Epoch 147/1000: Train Loss: 3.4075, Val Loss: 2.0767\n",
      "New best validation loss: 2.0767\n",
      "Baseline Loss: 5.3134 | Actual Loss: 3.4436\n"
     ]
    },
    {
     "name": "stderr",
     "output_type": "stream",
     "text": [
      "Training:  15%|█▍        | 148/1000 [07:04<40:54,  2.88s/it]"
     ]
    },
    {
     "name": "stdout",
     "output_type": "stream",
     "text": [
      "Baseline Loss: 3.9669 | Actual Loss: 2.0997\n",
      "Epoch 148/1000: Train Loss: 3.4436, Val Loss: 2.0997\n"
     ]
    },
    {
     "name": "stderr",
     "output_type": "stream",
     "text": [
      "Training:  15%|█▍        | 149/1000 [07:07<41:13,  2.91s/it]"
     ]
    },
    {
     "name": "stdout",
     "output_type": "stream",
     "text": [
      "Baseline Loss: 5.3134 | Actual Loss: 3.4254\n",
      "Baseline Loss: 3.9669 | Actual Loss: 1.9856\n",
      "Epoch 149/1000: Train Loss: 3.4254, Val Loss: 1.9856\n",
      "New best validation loss: 1.9856\n"
     ]
    },
    {
     "name": "stderr",
     "output_type": "stream",
     "text": [
      "Training:  15%|█▌        | 150/1000 [07:10<40:30,  2.86s/it]"
     ]
    },
    {
     "name": "stdout",
     "output_type": "stream",
     "text": [
      "Baseline Loss: 5.3134 | Actual Loss: 3.3790\n",
      "Baseline Loss: 3.9669 | Actual Loss: 2.0328\n",
      "Epoch 150/1000: Train Loss: 3.3790, Val Loss: 2.0328\n"
     ]
    },
    {
     "name": "stderr",
     "output_type": "stream",
     "text": [
      "Training:  15%|█▌        | 151/1000 [07:12<40:04,  2.83s/it]"
     ]
    },
    {
     "name": "stdout",
     "output_type": "stream",
     "text": [
      "Baseline Loss: 5.3133 | Actual Loss: 3.4392\n",
      "Baseline Loss: 3.9669 | Actual Loss: 2.1052\n",
      "Epoch 151/1000: Train Loss: 3.4392, Val Loss: 2.1052\n",
      "Baseline Loss: 5.3134 | Actual Loss: 3.4418\n"
     ]
    },
    {
     "name": "stderr",
     "output_type": "stream",
     "text": [
      "Training:  15%|█▌        | 152/1000 [07:15<39:00,  2.76s/it]"
     ]
    },
    {
     "name": "stdout",
     "output_type": "stream",
     "text": [
      "Baseline Loss: 3.9669 | Actual Loss: 2.1263\n",
      "Epoch 152/1000: Train Loss: 3.4418, Val Loss: 2.1263\n",
      "Baseline Loss: 5.3134 | Actual Loss: 3.4247\n"
     ]
    },
    {
     "name": "stderr",
     "output_type": "stream",
     "text": [
      "Training:  15%|█▌        | 153/1000 [07:18<39:46,  2.82s/it]"
     ]
    },
    {
     "name": "stdout",
     "output_type": "stream",
     "text": [
      "Baseline Loss: 3.9669 | Actual Loss: 2.0832\n",
      "Epoch 153/1000: Train Loss: 3.4247, Val Loss: 2.0832\n",
      "Baseline Loss: 5.3133 | Actual Loss: 3.4273\n"
     ]
    },
    {
     "name": "stderr",
     "output_type": "stream",
     "text": [
      "Training:  15%|█▌        | 154/1000 [07:21<40:15,  2.85s/it]"
     ]
    },
    {
     "name": "stdout",
     "output_type": "stream",
     "text": [
      "Baseline Loss: 3.9669 | Actual Loss: 2.1506\n",
      "Epoch 154/1000: Train Loss: 3.4273, Val Loss: 2.1506\n",
      "Baseline Loss: 5.3134 | Actual Loss: 3.3882\n"
     ]
    },
    {
     "name": "stderr",
     "output_type": "stream",
     "text": [
      "Training:  16%|█▌        | 155/1000 [07:24<39:50,  2.83s/it]"
     ]
    },
    {
     "name": "stdout",
     "output_type": "stream",
     "text": [
      "Baseline Loss: 3.9669 | Actual Loss: 2.0465\n",
      "Epoch 155/1000: Train Loss: 3.3882, Val Loss: 2.0465\n",
      "Baseline Loss: 5.3133 | Actual Loss: 3.3760\n",
      "Baseline Loss: 3.9669 | Actual Loss: 2.0739\n"
     ]
    },
    {
     "name": "stderr",
     "output_type": "stream",
     "text": [
      "Training:  16%|█▌        | 156/1000 [07:26<39:49,  2.83s/it]"
     ]
    },
    {
     "name": "stdout",
     "output_type": "stream",
     "text": [
      "Epoch 156/1000: Train Loss: 3.3760, Val Loss: 2.0739\n",
      "Baseline Loss: 5.3133 | Actual Loss: 3.3820\n"
     ]
    },
    {
     "name": "stderr",
     "output_type": "stream",
     "text": [
      "Training:  16%|█▌        | 157/1000 [07:29<39:06,  2.78s/it]"
     ]
    },
    {
     "name": "stdout",
     "output_type": "stream",
     "text": [
      "Baseline Loss: 3.9669 | Actual Loss: 2.0965\n",
      "Epoch 157/1000: Train Loss: 3.3820, Val Loss: 2.0965\n",
      "Baseline Loss: 5.3134 | Actual Loss: 3.3318\n"
     ]
    },
    {
     "name": "stderr",
     "output_type": "stream",
     "text": [
      "Training:  16%|█▌        | 158/1000 [07:32<39:48,  2.84s/it]"
     ]
    },
    {
     "name": "stdout",
     "output_type": "stream",
     "text": [
      "Baseline Loss: 3.9669 | Actual Loss: 2.0332\n",
      "Epoch 158/1000: Train Loss: 3.3318, Val Loss: 2.0332\n"
     ]
    },
    {
     "name": "stderr",
     "output_type": "stream",
     "text": [
      "Training:  16%|█▌        | 159/1000 [07:35<40:05,  2.86s/it]"
     ]
    },
    {
     "name": "stdout",
     "output_type": "stream",
     "text": [
      "Baseline Loss: 5.3134 | Actual Loss: 3.3762\n",
      "Baseline Loss: 3.9669 | Actual Loss: 2.1306\n",
      "Epoch 159/1000: Train Loss: 3.3762, Val Loss: 2.1306\n",
      "Baseline Loss: 5.3134 | Actual Loss: 3.3504\n"
     ]
    },
    {
     "name": "stderr",
     "output_type": "stream",
     "text": [
      "Training:  16%|█▌        | 160/1000 [07:38<40:02,  2.86s/it]"
     ]
    },
    {
     "name": "stdout",
     "output_type": "stream",
     "text": [
      "Baseline Loss: 3.9669 | Actual Loss: 2.0510\n",
      "Epoch 160/1000: Train Loss: 3.3504, Val Loss: 2.0510\n",
      "Baseline Loss: 5.3134 | Actual Loss: 3.3884\n"
     ]
    },
    {
     "name": "stderr",
     "output_type": "stream",
     "text": [
      "Training:  16%|█▌        | 161/1000 [07:41<40:11,  2.87s/it]"
     ]
    },
    {
     "name": "stdout",
     "output_type": "stream",
     "text": [
      "Baseline Loss: 3.9669 | Actual Loss: 2.0786\n",
      "Epoch 161/1000: Train Loss: 3.3884, Val Loss: 2.0786\n"
     ]
    },
    {
     "name": "stderr",
     "output_type": "stream",
     "text": [
      "Training:  16%|█▌        | 162/1000 [07:43<39:08,  2.80s/it]"
     ]
    },
    {
     "name": "stdout",
     "output_type": "stream",
     "text": [
      "Baseline Loss: 5.3134 | Actual Loss: 3.3431\n",
      "Baseline Loss: 3.9669 | Actual Loss: 2.0508\n",
      "Epoch 162/1000: Train Loss: 3.3431, Val Loss: 2.0508\n",
      "Baseline Loss: 5.3134 | Actual Loss: 3.3513\n"
     ]
    },
    {
     "name": "stderr",
     "output_type": "stream",
     "text": [
      "Training:  16%|█▋        | 163/1000 [07:46<39:52,  2.86s/it]"
     ]
    },
    {
     "name": "stdout",
     "output_type": "stream",
     "text": [
      "Baseline Loss: 3.9669 | Actual Loss: 2.0610\n",
      "Epoch 163/1000: Train Loss: 3.3513, Val Loss: 2.0610\n"
     ]
    },
    {
     "name": "stderr",
     "output_type": "stream",
     "text": [
      "Training:  16%|█▋        | 164/1000 [07:49<40:09,  2.88s/it]"
     ]
    },
    {
     "name": "stdout",
     "output_type": "stream",
     "text": [
      "Baseline Loss: 5.3134 | Actual Loss: 3.3528\n",
      "Baseline Loss: 3.9669 | Actual Loss: 2.1542\n",
      "Epoch 164/1000: Train Loss: 3.3528, Val Loss: 2.1542\n"
     ]
    },
    {
     "name": "stderr",
     "output_type": "stream",
     "text": [
      "Training:  16%|█▋        | 165/1000 [07:52<39:40,  2.85s/it]"
     ]
    },
    {
     "name": "stdout",
     "output_type": "stream",
     "text": [
      "Baseline Loss: 5.3134 | Actual Loss: 3.3430\n",
      "Baseline Loss: 3.9669 | Actual Loss: 2.0996\n",
      "Epoch 165/1000: Train Loss: 3.3430, Val Loss: 2.0996\n"
     ]
    },
    {
     "name": "stderr",
     "output_type": "stream",
     "text": [
      "Training:  17%|█▋        | 166/1000 [07:55<39:18,  2.83s/it]"
     ]
    },
    {
     "name": "stdout",
     "output_type": "stream",
     "text": [
      "Baseline Loss: 5.3133 | Actual Loss: 3.3162\n",
      "Baseline Loss: 3.9669 | Actual Loss: 2.0234\n",
      "Epoch 166/1000: Train Loss: 3.3162, Val Loss: 2.0234\n"
     ]
    },
    {
     "name": "stderr",
     "output_type": "stream",
     "text": [
      "Training:  17%|█▋        | 167/1000 [07:57<38:20,  2.76s/it]"
     ]
    },
    {
     "name": "stdout",
     "output_type": "stream",
     "text": [
      "Baseline Loss: 5.3134 | Actual Loss: 3.3359\n",
      "Baseline Loss: 3.9669 | Actual Loss: 2.0275\n",
      "Epoch 167/1000: Train Loss: 3.3359, Val Loss: 2.0275\n",
      "Baseline Loss: 5.3133 | Actual Loss: 3.3593\n"
     ]
    },
    {
     "name": "stderr",
     "output_type": "stream",
     "text": [
      "Training:  17%|█▋        | 168/1000 [08:00<39:29,  2.85s/it]"
     ]
    },
    {
     "name": "stdout",
     "output_type": "stream",
     "text": [
      "Baseline Loss: 3.9669 | Actual Loss: 2.0643\n",
      "Epoch 168/1000: Train Loss: 3.3593, Val Loss: 2.0643\n"
     ]
    },
    {
     "name": "stderr",
     "output_type": "stream",
     "text": [
      "Training:  17%|█▋        | 169/1000 [08:03<40:01,  2.89s/it]"
     ]
    },
    {
     "name": "stdout",
     "output_type": "stream",
     "text": [
      "Baseline Loss: 5.3134 | Actual Loss: 3.3437\n",
      "Baseline Loss: 3.9669 | Actual Loss: 1.9778\n",
      "Epoch 169/1000: Train Loss: 3.3437, Val Loss: 1.9778\n",
      "New best validation loss: 1.9778\n"
     ]
    },
    {
     "name": "stderr",
     "output_type": "stream",
     "text": [
      "Training:  17%|█▋        | 170/1000 [08:06<39:29,  2.85s/it]"
     ]
    },
    {
     "name": "stdout",
     "output_type": "stream",
     "text": [
      "Baseline Loss: 5.3134 | Actual Loss: 3.3211\n",
      "Baseline Loss: 3.9669 | Actual Loss: 2.0393\n",
      "Epoch 170/1000: Train Loss: 3.3211, Val Loss: 2.0393\n",
      "Baseline Loss: 5.3134 | Actual Loss: 3.3206\n"
     ]
    },
    {
     "name": "stderr",
     "output_type": "stream",
     "text": [
      "Training:  17%|█▋        | 171/1000 [08:09<39:26,  2.86s/it]"
     ]
    },
    {
     "name": "stdout",
     "output_type": "stream",
     "text": [
      "Baseline Loss: 3.9669 | Actual Loss: 2.0466\n",
      "Epoch 171/1000: Train Loss: 3.3206, Val Loss: 2.0466\n"
     ]
    },
    {
     "name": "stderr",
     "output_type": "stream",
     "text": [
      "Training:  17%|█▋        | 172/1000 [08:12<39:49,  2.89s/it]"
     ]
    },
    {
     "name": "stdout",
     "output_type": "stream",
     "text": [
      "Baseline Loss: 5.3134 | Actual Loss: 3.3275\n",
      "Baseline Loss: 3.9669 | Actual Loss: 2.0258\n",
      "Epoch 172/1000: Train Loss: 3.3275, Val Loss: 2.0258\n"
     ]
    },
    {
     "name": "stderr",
     "output_type": "stream",
     "text": [
      "Training:  17%|█▋        | 173/1000 [08:15<39:24,  2.86s/it]"
     ]
    },
    {
     "name": "stdout",
     "output_type": "stream",
     "text": [
      "Baseline Loss: 5.3134 | Actual Loss: 3.3123\n",
      "Baseline Loss: 3.9669 | Actual Loss: 2.0931\n",
      "Epoch 173/1000: Train Loss: 3.3123, Val Loss: 2.0931\n"
     ]
    },
    {
     "name": "stderr",
     "output_type": "stream",
     "text": [
      "Training:  17%|█▋        | 174/1000 [08:18<39:01,  2.84s/it]"
     ]
    },
    {
     "name": "stdout",
     "output_type": "stream",
     "text": [
      "Baseline Loss: 5.3134 | Actual Loss: 3.3430\n",
      "Baseline Loss: 3.9669 | Actual Loss: 2.0363\n",
      "Epoch 174/1000: Train Loss: 3.3430, Val Loss: 2.0363\n"
     ]
    },
    {
     "name": "stderr",
     "output_type": "stream",
     "text": [
      "Training:  18%|█▊        | 175/1000 [08:20<38:52,  2.83s/it]"
     ]
    },
    {
     "name": "stdout",
     "output_type": "stream",
     "text": [
      "Baseline Loss: 5.3134 | Actual Loss: 3.3164\n",
      "Baseline Loss: 3.9669 | Actual Loss: 2.0630\n",
      "Epoch 175/1000: Train Loss: 3.3164, Val Loss: 2.0630\n",
      "Baseline Loss: 5.3134 | Actual Loss: 3.2959\n",
      "Baseline Loss: 3.9669 | Actual Loss: 1.9898\n",
      "Epoch 176/1000: Train Loss: 3.2959, Val Loss: 1.9898\n"
     ]
    },
    {
     "name": "stderr",
     "output_type": "stream",
     "text": [
      "Training:  18%|█▊        | 176/1000 [08:23<37:48,  2.75s/it]"
     ]
    },
    {
     "name": "stdout",
     "output_type": "stream",
     "text": [
      "Baseline Loss: 5.3134 | Actual Loss: 3.2839\n"
     ]
    },
    {
     "name": "stderr",
     "output_type": "stream",
     "text": [
      "Training:  18%|█▊        | 177/1000 [08:26<38:50,  2.83s/it]"
     ]
    },
    {
     "name": "stdout",
     "output_type": "stream",
     "text": [
      "Baseline Loss: 3.9669 | Actual Loss: 2.0079\n",
      "Epoch 177/1000: Train Loss: 3.2839, Val Loss: 2.0079\n"
     ]
    },
    {
     "name": "stderr",
     "output_type": "stream",
     "text": [
      "Training:  18%|█▊        | 178/1000 [08:29<39:48,  2.91s/it]"
     ]
    },
    {
     "name": "stdout",
     "output_type": "stream",
     "text": [
      "Baseline Loss: 5.3134 | Actual Loss: 3.2887\n",
      "Baseline Loss: 3.9669 | Actual Loss: 2.0898\n",
      "Epoch 178/1000: Train Loss: 3.2887, Val Loss: 2.0898\n"
     ]
    },
    {
     "name": "stderr",
     "output_type": "stream",
     "text": [
      "Training:  18%|█▊        | 179/1000 [08:32<39:34,  2.89s/it]"
     ]
    },
    {
     "name": "stdout",
     "output_type": "stream",
     "text": [
      "Baseline Loss: 5.3134 | Actual Loss: 3.2898\n",
      "Baseline Loss: 3.9669 | Actual Loss: 2.0278\n",
      "Epoch 179/1000: Train Loss: 3.2898, Val Loss: 2.0278\n"
     ]
    },
    {
     "name": "stderr",
     "output_type": "stream",
     "text": [
      "Training:  18%|█▊        | 180/1000 [08:35<39:58,  2.92s/it]"
     ]
    },
    {
     "name": "stdout",
     "output_type": "stream",
     "text": [
      "Baseline Loss: 5.3134 | Actual Loss: 3.2557\n",
      "Baseline Loss: 3.9669 | Actual Loss: 2.0535\n",
      "Epoch 180/1000: Train Loss: 3.2557, Val Loss: 2.0535\n"
     ]
    },
    {
     "name": "stderr",
     "output_type": "stream",
     "text": [
      "Training:  18%|█▊        | 181/1000 [08:38<38:33,  2.83s/it]"
     ]
    },
    {
     "name": "stdout",
     "output_type": "stream",
     "text": [
      "Baseline Loss: 5.3134 | Actual Loss: 3.2556\n",
      "Baseline Loss: 3.9669 | Actual Loss: 2.0066\n",
      "Epoch 181/1000: Train Loss: 3.2556, Val Loss: 2.0066\n",
      "Baseline Loss: 5.3133 | Actual Loss: 3.2731\n"
     ]
    },
    {
     "name": "stderr",
     "output_type": "stream",
     "text": [
      "Training:  18%|█▊        | 182/1000 [08:41<39:05,  2.87s/it]"
     ]
    },
    {
     "name": "stdout",
     "output_type": "stream",
     "text": [
      "Baseline Loss: 3.9669 | Actual Loss: 1.9714\n",
      "Epoch 182/1000: Train Loss: 3.2731, Val Loss: 1.9714\n",
      "New best validation loss: 1.9714\n"
     ]
    },
    {
     "name": "stderr",
     "output_type": "stream",
     "text": [
      "Training:  18%|█▊        | 183/1000 [08:43<39:12,  2.88s/it]"
     ]
    },
    {
     "name": "stdout",
     "output_type": "stream",
     "text": [
      "Baseline Loss: 5.3134 | Actual Loss: 3.2785\n",
      "Baseline Loss: 3.9669 | Actual Loss: 2.0078\n",
      "Epoch 183/1000: Train Loss: 3.2785, Val Loss: 2.0078\n"
     ]
    },
    {
     "name": "stderr",
     "output_type": "stream",
     "text": [
      "Training:  18%|█▊        | 184/1000 [08:46<38:33,  2.84s/it]"
     ]
    },
    {
     "name": "stdout",
     "output_type": "stream",
     "text": [
      "Baseline Loss: 5.3133 | Actual Loss: 3.2783\n",
      "Baseline Loss: 3.9669 | Actual Loss: 2.0173\n",
      "Epoch 184/1000: Train Loss: 3.2783, Val Loss: 2.0173\n"
     ]
    },
    {
     "name": "stderr",
     "output_type": "stream",
     "text": [
      "Training:  18%|█▊        | 185/1000 [08:49<38:30,  2.83s/it]"
     ]
    },
    {
     "name": "stdout",
     "output_type": "stream",
     "text": [
      "Baseline Loss: 5.3134 | Actual Loss: 3.2395\n",
      "Baseline Loss: 3.9669 | Actual Loss: 1.9618\n",
      "Epoch 185/1000: Train Loss: 3.2395, Val Loss: 1.9618\n",
      "New best validation loss: 1.9618\n"
     ]
    },
    {
     "name": "stderr",
     "output_type": "stream",
     "text": [
      "Training:  19%|█▊        | 186/1000 [08:52<37:16,  2.75s/it]"
     ]
    },
    {
     "name": "stdout",
     "output_type": "stream",
     "text": [
      "Baseline Loss: 5.3134 | Actual Loss: 3.2737\n",
      "Baseline Loss: 3.9669 | Actual Loss: 1.9685\n",
      "Epoch 186/1000: Train Loss: 3.2737, Val Loss: 1.9685\n",
      "Baseline Loss: 5.3133 | Actual Loss: 3.2477\n"
     ]
    },
    {
     "name": "stderr",
     "output_type": "stream",
     "text": [
      "Training:  19%|█▊        | 187/1000 [08:54<38:07,  2.81s/it]"
     ]
    },
    {
     "name": "stdout",
     "output_type": "stream",
     "text": [
      "Baseline Loss: 3.9669 | Actual Loss: 1.9323\n",
      "Epoch 187/1000: Train Loss: 3.2477, Val Loss: 1.9323\n",
      "New best validation loss: 1.9323\n"
     ]
    },
    {
     "name": "stderr",
     "output_type": "stream",
     "text": [
      "Training:  19%|█▉        | 188/1000 [08:57<38:28,  2.84s/it]"
     ]
    },
    {
     "name": "stdout",
     "output_type": "stream",
     "text": [
      "Baseline Loss: 5.3134 | Actual Loss: 3.2498\n",
      "Baseline Loss: 3.9669 | Actual Loss: 2.0079\n",
      "Epoch 188/1000: Train Loss: 3.2498, Val Loss: 2.0079\n",
      "Baseline Loss: 5.3134 | Actual Loss: 3.2446\n",
      "Baseline Loss: 3.9669 | Actual Loss: 1.9514\n",
      "Epoch 189/1000: Train Loss: 3.2446, Val Loss: 1.9514\n"
     ]
    },
    {
     "name": "stderr",
     "output_type": "stream",
     "text": [
      "Training:  19%|█▉        | 190/1000 [09:03<37:51,  2.80s/it]"
     ]
    },
    {
     "name": "stdout",
     "output_type": "stream",
     "text": [
      "Baseline Loss: 5.3134 | Actual Loss: 3.2479\n",
      "Baseline Loss: 3.9669 | Actual Loss: 1.9382\n",
      "Epoch 190/1000: Train Loss: 3.2479, Val Loss: 1.9382\n",
      "Baseline Loss: 5.3134 | Actual Loss: 3.2082\n"
     ]
    },
    {
     "name": "stderr",
     "output_type": "stream",
     "text": [
      "Training:  19%|█▉        | 191/1000 [09:06<37:00,  2.74s/it]"
     ]
    },
    {
     "name": "stdout",
     "output_type": "stream",
     "text": [
      "Baseline Loss: 3.9669 | Actual Loss: 1.9401\n",
      "Epoch 191/1000: Train Loss: 3.2082, Val Loss: 1.9401\n",
      "Baseline Loss: 5.3134 | Actual Loss: 3.1794\n"
     ]
    },
    {
     "name": "stderr",
     "output_type": "stream",
     "text": [
      "Training:  19%|█▉        | 192/1000 [09:09<38:02,  2.82s/it]"
     ]
    },
    {
     "name": "stdout",
     "output_type": "stream",
     "text": [
      "Baseline Loss: 3.9669 | Actual Loss: 1.9793\n",
      "Epoch 192/1000: Train Loss: 3.1794, Val Loss: 1.9793\n"
     ]
    },
    {
     "name": "stderr",
     "output_type": "stream",
     "text": [
      "Training:  19%|█▉        | 193/1000 [09:11<38:26,  2.86s/it]"
     ]
    },
    {
     "name": "stdout",
     "output_type": "stream",
     "text": [
      "Baseline Loss: 5.3134 | Actual Loss: 3.2089\n",
      "Baseline Loss: 3.9669 | Actual Loss: 1.9927\n",
      "Epoch 193/1000: Train Loss: 3.2089, Val Loss: 1.9927\n"
     ]
    },
    {
     "name": "stderr",
     "output_type": "stream",
     "text": [
      "Training:  19%|█▉        | 194/1000 [09:14<37:53,  2.82s/it]"
     ]
    },
    {
     "name": "stdout",
     "output_type": "stream",
     "text": [
      "Baseline Loss: 5.3134 | Actual Loss: 3.2210\n",
      "Baseline Loss: 3.9669 | Actual Loss: 1.9726\n",
      "Epoch 194/1000: Train Loss: 3.2210, Val Loss: 1.9726\n"
     ]
    },
    {
     "name": "stderr",
     "output_type": "stream",
     "text": [
      "Training:  20%|█▉        | 195/1000 [09:17<37:52,  2.82s/it]"
     ]
    },
    {
     "name": "stdout",
     "output_type": "stream",
     "text": [
      "Baseline Loss: 5.3134 | Actual Loss: 3.1912\n",
      "Baseline Loss: 3.9669 | Actual Loss: 1.9632\n",
      "Epoch 195/1000: Train Loss: 3.1912, Val Loss: 1.9632\n"
     ]
    },
    {
     "name": "stderr",
     "output_type": "stream",
     "text": [
      "Training:  20%|█▉        | 196/1000 [09:20<36:45,  2.74s/it]"
     ]
    },
    {
     "name": "stdout",
     "output_type": "stream",
     "text": [
      "Baseline Loss: 5.3134 | Actual Loss: 3.1750\n",
      "Baseline Loss: 3.9669 | Actual Loss: 1.9081\n",
      "Epoch 196/1000: Train Loss: 3.1750, Val Loss: 1.9081\n",
      "New best validation loss: 1.9081\n",
      "Baseline Loss: 5.3134 | Actual Loss: 3.1801\n"
     ]
    },
    {
     "name": "stderr",
     "output_type": "stream",
     "text": [
      "Training:  20%|█▉        | 197/1000 [09:23<37:36,  2.81s/it]"
     ]
    },
    {
     "name": "stdout",
     "output_type": "stream",
     "text": [
      "Baseline Loss: 3.9669 | Actual Loss: 1.9273\n",
      "Epoch 197/1000: Train Loss: 3.1801, Val Loss: 1.9273\n",
      "Baseline Loss: 5.3134 | Actual Loss: 3.2047\n"
     ]
    },
    {
     "name": "stderr",
     "output_type": "stream",
     "text": [
      "Training:  20%|█▉        | 198/1000 [09:25<37:57,  2.84s/it]"
     ]
    },
    {
     "name": "stdout",
     "output_type": "stream",
     "text": [
      "Baseline Loss: 3.9669 | Actual Loss: 1.8947\n",
      "Epoch 198/1000: Train Loss: 3.2047, Val Loss: 1.8947\n",
      "New best validation loss: 1.8947\n",
      "Baseline Loss: 5.3133 | Actual Loss: 3.2253\n",
      "Baseline Loss: 3.9669 | Actual Loss: 1.9347\n",
      "Epoch 199/1000: Train Loss: 3.2253, Val Loss: 1.9347\n"
     ]
    },
    {
     "name": "stderr",
     "output_type": "stream",
     "text": [
      "Training:  20%|██        | 200/1000 [09:31<37:35,  2.82s/it]"
     ]
    },
    {
     "name": "stdout",
     "output_type": "stream",
     "text": [
      "Baseline Loss: 5.3133 | Actual Loss: 3.2119\n",
      "Baseline Loss: 3.9669 | Actual Loss: 1.9775\n",
      "Epoch 200/1000: Train Loss: 3.2119, Val Loss: 1.9775\n"
     ]
    },
    {
     "name": "stderr",
     "output_type": "stream",
     "text": [
      "Training:  20%|██        | 201/1000 [09:34<36:39,  2.75s/it]"
     ]
    },
    {
     "name": "stdout",
     "output_type": "stream",
     "text": [
      "Baseline Loss: 5.3134 | Actual Loss: 3.1839\n",
      "Baseline Loss: 3.9669 | Actual Loss: 1.9705\n",
      "Epoch 201/1000: Train Loss: 3.1839, Val Loss: 1.9705\n",
      "Baseline Loss: 5.3134 | Actual Loss: 3.1802\n"
     ]
    },
    {
     "name": "stderr",
     "output_type": "stream",
     "text": [
      "Training:  20%|██        | 202/1000 [09:37<37:27,  2.82s/it]"
     ]
    },
    {
     "name": "stdout",
     "output_type": "stream",
     "text": [
      "Baseline Loss: 3.9669 | Actual Loss: 1.9324\n",
      "Epoch 202/1000: Train Loss: 3.1802, Val Loss: 1.9324\n"
     ]
    },
    {
     "name": "stderr",
     "output_type": "stream",
     "text": [
      "Training:  20%|██        | 203/1000 [09:40<37:41,  2.84s/it]"
     ]
    },
    {
     "name": "stdout",
     "output_type": "stream",
     "text": [
      "Baseline Loss: 5.3134 | Actual Loss: 3.2009\n",
      "Baseline Loss: 3.9669 | Actual Loss: 1.9838\n",
      "Epoch 203/1000: Train Loss: 3.2009, Val Loss: 1.9838\n"
     ]
    },
    {
     "name": "stderr",
     "output_type": "stream",
     "text": [
      "Training:  20%|██        | 204/1000 [09:42<37:12,  2.80s/it]"
     ]
    },
    {
     "name": "stdout",
     "output_type": "stream",
     "text": [
      "Baseline Loss: 5.3134 | Actual Loss: 3.1613\n",
      "Baseline Loss: 3.9669 | Actual Loss: 1.8406\n",
      "Epoch 204/1000: Train Loss: 3.1613, Val Loss: 1.8406\n",
      "New best validation loss: 1.8406\n"
     ]
    },
    {
     "name": "stderr",
     "output_type": "stream",
     "text": [
      "Training:  20%|██        | 205/1000 [09:45<36:58,  2.79s/it]"
     ]
    },
    {
     "name": "stdout",
     "output_type": "stream",
     "text": [
      "Baseline Loss: 5.3133 | Actual Loss: 3.1350\n",
      "Baseline Loss: 3.9669 | Actual Loss: 1.8989\n",
      "Epoch 205/1000: Train Loss: 3.1350, Val Loss: 1.8989\n",
      "Baseline Loss: 5.3134 | Actual Loss: 3.1636\n"
     ]
    },
    {
     "name": "stderr",
     "output_type": "stream",
     "text": [
      "Training:  21%|██        | 206/1000 [09:48<36:13,  2.74s/it]"
     ]
    },
    {
     "name": "stdout",
     "output_type": "stream",
     "text": [
      "Baseline Loss: 3.9669 | Actual Loss: 1.8981\n",
      "Epoch 206/1000: Train Loss: 3.1636, Val Loss: 1.8981\n",
      "Baseline Loss: 5.3134 | Actual Loss: 3.1995\n"
     ]
    },
    {
     "name": "stderr",
     "output_type": "stream",
     "text": [
      "Training:  21%|██        | 207/1000 [09:51<37:12,  2.81s/it]"
     ]
    },
    {
     "name": "stdout",
     "output_type": "stream",
     "text": [
      "Baseline Loss: 3.9669 | Actual Loss: 1.8884\n",
      "Epoch 207/1000: Train Loss: 3.1995, Val Loss: 1.8884\n"
     ]
    },
    {
     "name": "stderr",
     "output_type": "stream",
     "text": [
      "Training:  21%|██        | 208/1000 [09:54<37:35,  2.85s/it]"
     ]
    },
    {
     "name": "stdout",
     "output_type": "stream",
     "text": [
      "Baseline Loss: 5.3134 | Actual Loss: 3.1430\n",
      "Baseline Loss: 3.9669 | Actual Loss: 1.8073\n",
      "Epoch 208/1000: Train Loss: 3.1430, Val Loss: 1.8073\n",
      "New best validation loss: 1.8073\n"
     ]
    },
    {
     "name": "stderr",
     "output_type": "stream",
     "text": [
      "Training:  21%|██        | 209/1000 [09:56<36:53,  2.80s/it]"
     ]
    },
    {
     "name": "stdout",
     "output_type": "stream",
     "text": [
      "Baseline Loss: 5.3134 | Actual Loss: 3.1698\n",
      "Baseline Loss: 3.9669 | Actual Loss: 1.8706\n",
      "Epoch 209/1000: Train Loss: 3.1698, Val Loss: 1.8706\n"
     ]
    },
    {
     "name": "stderr",
     "output_type": "stream",
     "text": [
      "Training:  21%|██        | 210/1000 [09:59<36:59,  2.81s/it]"
     ]
    },
    {
     "name": "stdout",
     "output_type": "stream",
     "text": [
      "Baseline Loss: 5.3134 | Actual Loss: 3.1451\n",
      "Baseline Loss: 3.9669 | Actual Loss: 1.8809\n",
      "Epoch 210/1000: Train Loss: 3.1451, Val Loss: 1.8809\n"
     ]
    },
    {
     "name": "stderr",
     "output_type": "stream",
     "text": [
      "Training:  21%|██        | 211/1000 [10:02<36:01,  2.74s/it]"
     ]
    },
    {
     "name": "stdout",
     "output_type": "stream",
     "text": [
      "Baseline Loss: 5.3134 | Actual Loss: 3.1035\n",
      "Baseline Loss: 3.9669 | Actual Loss: 1.8703\n",
      "Epoch 211/1000: Train Loss: 3.1035, Val Loss: 1.8703\n",
      "Baseline Loss: 5.3134 | Actual Loss: 3.1389\n"
     ]
    },
    {
     "name": "stderr",
     "output_type": "stream",
     "text": [
      "Training:  21%|██        | 212/1000 [10:05<36:55,  2.81s/it]"
     ]
    },
    {
     "name": "stdout",
     "output_type": "stream",
     "text": [
      "Baseline Loss: 3.9669 | Actual Loss: 1.8704\n",
      "Epoch 212/1000: Train Loss: 3.1389, Val Loss: 1.8704\n"
     ]
    },
    {
     "name": "stderr",
     "output_type": "stream",
     "text": [
      "Training:  21%|██▏       | 213/1000 [10:08<37:26,  2.85s/it]"
     ]
    },
    {
     "name": "stdout",
     "output_type": "stream",
     "text": [
      "Baseline Loss: 5.3134 | Actual Loss: 3.1340\n",
      "Baseline Loss: 3.9669 | Actual Loss: 1.8454\n",
      "Epoch 213/1000: Train Loss: 3.1340, Val Loss: 1.8454\n"
     ]
    },
    {
     "name": "stderr",
     "output_type": "stream",
     "text": [
      "Training:  21%|██▏       | 214/1000 [10:10<36:44,  2.80s/it]"
     ]
    },
    {
     "name": "stdout",
     "output_type": "stream",
     "text": [
      "Baseline Loss: 5.3134 | Actual Loss: 3.1303\n",
      "Baseline Loss: 3.9669 | Actual Loss: 1.9469\n",
      "Epoch 214/1000: Train Loss: 3.1303, Val Loss: 1.9469\n"
     ]
    },
    {
     "name": "stderr",
     "output_type": "stream",
     "text": [
      "Training:  22%|██▏       | 215/1000 [10:13<36:43,  2.81s/it]"
     ]
    },
    {
     "name": "stdout",
     "output_type": "stream",
     "text": [
      "Baseline Loss: 5.3134 | Actual Loss: 3.0942\n",
      "Baseline Loss: 3.9669 | Actual Loss: 1.8981\n",
      "Epoch 215/1000: Train Loss: 3.0942, Val Loss: 1.8981\n"
     ]
    },
    {
     "name": "stderr",
     "output_type": "stream",
     "text": [
      "Training:  22%|██▏       | 216/1000 [10:16<35:52,  2.74s/it]"
     ]
    },
    {
     "name": "stdout",
     "output_type": "stream",
     "text": [
      "Baseline Loss: 5.3134 | Actual Loss: 3.0923\n",
      "Baseline Loss: 3.9669 | Actual Loss: 1.9169\n",
      "Epoch 216/1000: Train Loss: 3.0923, Val Loss: 1.9169\n",
      "Baseline Loss: 5.3134 | Actual Loss: 3.1273\n"
     ]
    },
    {
     "name": "stderr",
     "output_type": "stream",
     "text": [
      "Training:  22%|██▏       | 217/1000 [10:19<36:48,  2.82s/it]"
     ]
    },
    {
     "name": "stdout",
     "output_type": "stream",
     "text": [
      "Baseline Loss: 3.9669 | Actual Loss: 1.8686\n",
      "Epoch 217/1000: Train Loss: 3.1273, Val Loss: 1.8686\n"
     ]
    },
    {
     "name": "stderr",
     "output_type": "stream",
     "text": [
      "Training:  22%|██▏       | 218/1000 [10:22<37:05,  2.85s/it]"
     ]
    },
    {
     "name": "stdout",
     "output_type": "stream",
     "text": [
      "Baseline Loss: 5.3134 | Actual Loss: 3.1133\n",
      "Baseline Loss: 3.9669 | Actual Loss: 1.8670\n",
      "Epoch 218/1000: Train Loss: 3.1133, Val Loss: 1.8670\n"
     ]
    },
    {
     "name": "stderr",
     "output_type": "stream",
     "text": [
      "Training:  22%|██▏       | 219/1000 [10:24<36:32,  2.81s/it]"
     ]
    },
    {
     "name": "stdout",
     "output_type": "stream",
     "text": [
      "Baseline Loss: 5.3134 | Actual Loss: 3.0964\n",
      "Baseline Loss: 3.9669 | Actual Loss: 1.8733\n",
      "Epoch 219/1000: Train Loss: 3.0964, Val Loss: 1.8733\n"
     ]
    },
    {
     "name": "stderr",
     "output_type": "stream",
     "text": [
      "Training:  22%|██▏       | 220/1000 [10:27<36:33,  2.81s/it]"
     ]
    },
    {
     "name": "stdout",
     "output_type": "stream",
     "text": [
      "Baseline Loss: 5.3134 | Actual Loss: 3.0701\n",
      "Baseline Loss: 3.9669 | Actual Loss: 1.8623\n",
      "Epoch 220/1000: Train Loss: 3.0701, Val Loss: 1.8623\n",
      "Baseline Loss: 5.3134 | Actual Loss: 3.0878\n",
      "Baseline Loss: 3.9669 | Actual Loss: 1.8057\n",
      "Epoch 221/1000: Train Loss: 3.0878, Val Loss: 1.8057\n",
      "New best validation loss: 1.8057\n"
     ]
    },
    {
     "name": "stderr",
     "output_type": "stream",
     "text": [
      "Training:  22%|██▏       | 221/1000 [10:30<35:43,  2.75s/it]"
     ]
    },
    {
     "name": "stdout",
     "output_type": "stream",
     "text": [
      "Baseline Loss: 5.3134 | Actual Loss: 3.0744\n"
     ]
    },
    {
     "name": "stderr",
     "output_type": "stream",
     "text": [
      "Training:  22%|██▏       | 222/1000 [10:33<36:32,  2.82s/it]"
     ]
    },
    {
     "name": "stdout",
     "output_type": "stream",
     "text": [
      "Baseline Loss: 3.9669 | Actual Loss: 1.8360\n",
      "Epoch 222/1000: Train Loss: 3.0744, Val Loss: 1.8360\n"
     ]
    },
    {
     "name": "stderr",
     "output_type": "stream",
     "text": [
      "Training:  22%|██▏       | 223/1000 [10:36<36:57,  2.85s/it]"
     ]
    },
    {
     "name": "stdout",
     "output_type": "stream",
     "text": [
      "Baseline Loss: 5.3134 | Actual Loss: 3.1015\n",
      "Baseline Loss: 3.9669 | Actual Loss: 1.8413\n",
      "Epoch 223/1000: Train Loss: 3.1015, Val Loss: 1.8413\n",
      "Baseline Loss: 5.3133 | Actual Loss: 3.0452\n"
     ]
    },
    {
     "name": "stderr",
     "output_type": "stream",
     "text": [
      "Training:  22%|██▏       | 224/1000 [10:38<36:18,  2.81s/it]"
     ]
    },
    {
     "name": "stdout",
     "output_type": "stream",
     "text": [
      "Baseline Loss: 3.9669 | Actual Loss: 1.8540\n",
      "Epoch 224/1000: Train Loss: 3.0452, Val Loss: 1.8540\n",
      "Baseline Loss: 5.3134 | Actual Loss: 3.0831\n"
     ]
    },
    {
     "name": "stderr",
     "output_type": "stream",
     "text": [
      "Training:  22%|██▎       | 225/1000 [10:41<36:08,  2.80s/it]"
     ]
    },
    {
     "name": "stdout",
     "output_type": "stream",
     "text": [
      "Baseline Loss: 3.9669 | Actual Loss: 1.7764\n",
      "Epoch 225/1000: Train Loss: 3.0831, Val Loss: 1.7764\n",
      "New best validation loss: 1.7764\n",
      "Baseline Loss: 5.3134 | Actual Loss: 3.0182\n"
     ]
    },
    {
     "name": "stderr",
     "output_type": "stream",
     "text": [
      "Training:  23%|██▎       | 226/1000 [10:44<35:10,  2.73s/it]"
     ]
    },
    {
     "name": "stdout",
     "output_type": "stream",
     "text": [
      "Baseline Loss: 3.9669 | Actual Loss: 1.7867\n",
      "Epoch 226/1000: Train Loss: 3.0182, Val Loss: 1.7867\n",
      "Baseline Loss: 5.3134 | Actual Loss: 3.0636\n"
     ]
    },
    {
     "name": "stderr",
     "output_type": "stream",
     "text": [
      "Training:  23%|██▎       | 227/1000 [10:47<36:11,  2.81s/it]"
     ]
    },
    {
     "name": "stdout",
     "output_type": "stream",
     "text": [
      "Baseline Loss: 3.9669 | Actual Loss: 1.7145\n",
      "Epoch 227/1000: Train Loss: 3.0636, Val Loss: 1.7145\n",
      "New best validation loss: 1.7145\n"
     ]
    },
    {
     "name": "stderr",
     "output_type": "stream",
     "text": [
      "Training:  23%|██▎       | 228/1000 [10:50<36:31,  2.84s/it]"
     ]
    },
    {
     "name": "stdout",
     "output_type": "stream",
     "text": [
      "Baseline Loss: 5.3133 | Actual Loss: 3.0382\n",
      "Baseline Loss: 3.9669 | Actual Loss: 1.7932\n",
      "Epoch 228/1000: Train Loss: 3.0382, Val Loss: 1.7932\n"
     ]
    },
    {
     "name": "stderr",
     "output_type": "stream",
     "text": [
      "Training:  23%|██▎       | 229/1000 [10:52<36:05,  2.81s/it]"
     ]
    },
    {
     "name": "stdout",
     "output_type": "stream",
     "text": [
      "Baseline Loss: 5.3134 | Actual Loss: 3.0688\n",
      "Baseline Loss: 3.9669 | Actual Loss: 1.8065\n",
      "Epoch 229/1000: Train Loss: 3.0688, Val Loss: 1.8065\n"
     ]
    },
    {
     "name": "stderr",
     "output_type": "stream",
     "text": [
      "Training:  23%|██▎       | 230/1000 [10:55<35:52,  2.79s/it]"
     ]
    },
    {
     "name": "stdout",
     "output_type": "stream",
     "text": [
      "Baseline Loss: 5.3134 | Actual Loss: 3.0019\n",
      "Baseline Loss: 3.9669 | Actual Loss: 1.7362\n",
      "Epoch 230/1000: Train Loss: 3.0019, Val Loss: 1.7362\n"
     ]
    },
    {
     "name": "stderr",
     "output_type": "stream",
     "text": [
      "Training:  23%|██▎       | 231/1000 [10:58<35:01,  2.73s/it]"
     ]
    },
    {
     "name": "stdout",
     "output_type": "stream",
     "text": [
      "Baseline Loss: 5.3134 | Actual Loss: 3.0170\n",
      "Baseline Loss: 3.9669 | Actual Loss: 1.7496\n",
      "Epoch 231/1000: Train Loss: 3.0170, Val Loss: 1.7496\n",
      "Baseline Loss: 5.3134 | Actual Loss: 2.9907\n"
     ]
    },
    {
     "name": "stderr",
     "output_type": "stream",
     "text": [
      "Training:  23%|██▎       | 232/1000 [11:01<35:53,  2.80s/it]"
     ]
    },
    {
     "name": "stdout",
     "output_type": "stream",
     "text": [
      "Baseline Loss: 3.9669 | Actual Loss: 1.7841\n",
      "Epoch 232/1000: Train Loss: 2.9907, Val Loss: 1.7841\n"
     ]
    },
    {
     "name": "stderr",
     "output_type": "stream",
     "text": [
      "Training:  23%|██▎       | 233/1000 [11:04<36:11,  2.83s/it]"
     ]
    },
    {
     "name": "stdout",
     "output_type": "stream",
     "text": [
      "Baseline Loss: 5.3134 | Actual Loss: 2.9992\n",
      "Baseline Loss: 3.9669 | Actual Loss: 1.7414\n",
      "Epoch 233/1000: Train Loss: 2.9992, Val Loss: 1.7414\n"
     ]
    },
    {
     "name": "stderr",
     "output_type": "stream",
     "text": [
      "Training:  23%|██▎       | 234/1000 [11:06<35:40,  2.79s/it]"
     ]
    },
    {
     "name": "stdout",
     "output_type": "stream",
     "text": [
      "Baseline Loss: 5.3134 | Actual Loss: 2.9548\n",
      "Baseline Loss: 3.9669 | Actual Loss: 1.8176\n",
      "Epoch 234/1000: Train Loss: 2.9548, Val Loss: 1.8176\n"
     ]
    },
    {
     "name": "stderr",
     "output_type": "stream",
     "text": [
      "Training:  24%|██▎       | 235/1000 [11:09<35:42,  2.80s/it]"
     ]
    },
    {
     "name": "stdout",
     "output_type": "stream",
     "text": [
      "Baseline Loss: 5.3134 | Actual Loss: 2.9960\n",
      "Baseline Loss: 3.9669 | Actual Loss: 1.7377\n",
      "Epoch 235/1000: Train Loss: 2.9960, Val Loss: 1.7377\n"
     ]
    },
    {
     "name": "stderr",
     "output_type": "stream",
     "text": [
      "Training:  24%|██▎       | 236/1000 [11:12<34:45,  2.73s/it]"
     ]
    },
    {
     "name": "stdout",
     "output_type": "stream",
     "text": [
      "Baseline Loss: 5.3134 | Actual Loss: 2.9931\n",
      "Baseline Loss: 3.9669 | Actual Loss: 1.6304\n",
      "Epoch 236/1000: Train Loss: 2.9931, Val Loss: 1.6304\n",
      "New best validation loss: 1.6304\n",
      "Baseline Loss: 5.3133 | Actual Loss: 2.9722\n"
     ]
    },
    {
     "name": "stderr",
     "output_type": "stream",
     "text": [
      "Training:  24%|██▎       | 237/1000 [11:15<38:08,  3.00s/it]"
     ]
    },
    {
     "name": "stdout",
     "output_type": "stream",
     "text": [
      "Baseline Loss: 3.9669 | Actual Loss: 1.7677\n",
      "Epoch 237/1000: Train Loss: 2.9722, Val Loss: 1.7677\n"
     ]
    },
    {
     "name": "stderr",
     "output_type": "stream",
     "text": [
      "Training:  24%|██▍       | 238/1000 [11:18<37:49,  2.98s/it]"
     ]
    },
    {
     "name": "stdout",
     "output_type": "stream",
     "text": [
      "Baseline Loss: 5.3134 | Actual Loss: 2.9120\n",
      "Baseline Loss: 3.9669 | Actual Loss: 1.6801\n",
      "Epoch 238/1000: Train Loss: 2.9120, Val Loss: 1.6801\n",
      "Baseline Loss: 5.3134 | Actual Loss: 2.9377\n"
     ]
    },
    {
     "name": "stderr",
     "output_type": "stream",
     "text": [
      "Training:  24%|██▍       | 239/1000 [11:22<39:08,  3.09s/it]"
     ]
    },
    {
     "name": "stdout",
     "output_type": "stream",
     "text": [
      "Baseline Loss: 3.9669 | Actual Loss: 1.6834\n",
      "Epoch 239/1000: Train Loss: 2.9377, Val Loss: 1.6834\n",
      "Baseline Loss: 5.3134 | Actual Loss: 2.9107\n",
      "Baseline Loss: 3.9669 | Actual Loss: 1.6927\n",
      "Epoch 240/1000: Train Loss: 2.9107, Val Loss: 1.6927\n"
     ]
    },
    {
     "name": "stderr",
     "output_type": "stream",
     "text": [
      "Training:  24%|██▍       | 241/1000 [11:27<37:37,  2.97s/it]"
     ]
    },
    {
     "name": "stdout",
     "output_type": "stream",
     "text": [
      "Baseline Loss: 5.3134 | Actual Loss: 2.9064\n",
      "Baseline Loss: 3.9669 | Actual Loss: 1.6646\n",
      "Epoch 241/1000: Train Loss: 2.9064, Val Loss: 1.6646\n",
      "Baseline Loss: 5.3134 | Actual Loss: 2.9476\n"
     ]
    },
    {
     "name": "stderr",
     "output_type": "stream",
     "text": [
      "Training:  24%|██▍       | 242/1000 [11:30<37:53,  3.00s/it]"
     ]
    },
    {
     "name": "stdout",
     "output_type": "stream",
     "text": [
      "Baseline Loss: 3.9669 | Actual Loss: 1.7313\n",
      "Epoch 242/1000: Train Loss: 2.9476, Val Loss: 1.7313\n"
     ]
    },
    {
     "name": "stderr",
     "output_type": "stream",
     "text": [
      "Training:  24%|██▍       | 243/1000 [11:33<37:56,  3.01s/it]"
     ]
    },
    {
     "name": "stdout",
     "output_type": "stream",
     "text": [
      "Baseline Loss: 5.3134 | Actual Loss: 2.9310\n",
      "Baseline Loss: 3.9669 | Actual Loss: 1.6470\n",
      "Epoch 243/1000: Train Loss: 2.9310, Val Loss: 1.6470\n"
     ]
    },
    {
     "name": "stderr",
     "output_type": "stream",
     "text": [
      "Training:  24%|██▍       | 244/1000 [11:36<36:49,  2.92s/it]"
     ]
    },
    {
     "name": "stdout",
     "output_type": "stream",
     "text": [
      "Baseline Loss: 5.3133 | Actual Loss: 2.9131\n",
      "Baseline Loss: 3.9669 | Actual Loss: 1.6648\n",
      "Epoch 244/1000: Train Loss: 2.9131, Val Loss: 1.6648\n"
     ]
    },
    {
     "name": "stderr",
     "output_type": "stream",
     "text": [
      "Training:  24%|██▍       | 245/1000 [11:39<36:24,  2.89s/it]"
     ]
    },
    {
     "name": "stdout",
     "output_type": "stream",
     "text": [
      "Baseline Loss: 5.3134 | Actual Loss: 2.8783\n",
      "Baseline Loss: 3.9669 | Actual Loss: 1.5990\n",
      "Epoch 245/1000: Train Loss: 2.8783, Val Loss: 1.5990\n",
      "New best validation loss: 1.5990\n"
     ]
    },
    {
     "name": "stderr",
     "output_type": "stream",
     "text": [
      "Training:  25%|██▍       | 246/1000 [11:42<35:07,  2.80s/it]"
     ]
    },
    {
     "name": "stdout",
     "output_type": "stream",
     "text": [
      "Baseline Loss: 5.3133 | Actual Loss: 2.9014\n",
      "Baseline Loss: 3.9669 | Actual Loss: 1.6789\n",
      "Epoch 246/1000: Train Loss: 2.9014, Val Loss: 1.6789\n",
      "Baseline Loss: 5.3134 | Actual Loss: 2.8752\n"
     ]
    },
    {
     "name": "stderr",
     "output_type": "stream",
     "text": [
      "Training:  25%|██▍       | 247/1000 [11:45<35:47,  2.85s/it]"
     ]
    },
    {
     "name": "stdout",
     "output_type": "stream",
     "text": [
      "Baseline Loss: 3.9669 | Actual Loss: 1.6130\n",
      "Epoch 247/1000: Train Loss: 2.8752, Val Loss: 1.6130\n",
      "Baseline Loss: 5.3134 | Actual Loss: 2.9122\n"
     ]
    },
    {
     "name": "stderr",
     "output_type": "stream",
     "text": [
      "Training:  25%|██▍       | 248/1000 [11:48<36:32,  2.92s/it]"
     ]
    },
    {
     "name": "stdout",
     "output_type": "stream",
     "text": [
      "Baseline Loss: 3.9669 | Actual Loss: 1.6203\n",
      "Epoch 248/1000: Train Loss: 2.9122, Val Loss: 1.6203\n"
     ]
    },
    {
     "name": "stderr",
     "output_type": "stream",
     "text": [
      "Training:  25%|██▍       | 249/1000 [11:50<35:50,  2.86s/it]"
     ]
    },
    {
     "name": "stdout",
     "output_type": "stream",
     "text": [
      "Baseline Loss: 5.3134 | Actual Loss: 2.8512\n",
      "Baseline Loss: 3.9669 | Actual Loss: 1.5938\n",
      "Epoch 249/1000: Train Loss: 2.8512, Val Loss: 1.5938\n",
      "New best validation loss: 1.5938\n",
      "Baseline Loss: 5.3133 | Actual Loss: 2.8359\n"
     ]
    },
    {
     "name": "stderr",
     "output_type": "stream",
     "text": [
      "Training:  25%|██▌       | 250/1000 [11:53<35:44,  2.86s/it]"
     ]
    },
    {
     "name": "stdout",
     "output_type": "stream",
     "text": [
      "Baseline Loss: 3.9669 | Actual Loss: 1.5704\n",
      "Epoch 250/1000: Train Loss: 2.8359, Val Loss: 1.5704\n",
      "New best validation loss: 1.5704\n"
     ]
    },
    {
     "name": "stderr",
     "output_type": "stream",
     "text": [
      "Training:  25%|██▌       | 251/1000 [11:56<34:35,  2.77s/it]"
     ]
    },
    {
     "name": "stdout",
     "output_type": "stream",
     "text": [
      "Baseline Loss: 5.3134 | Actual Loss: 2.8060\n",
      "Baseline Loss: 3.9669 | Actual Loss: 1.5945\n",
      "Epoch 251/1000: Train Loss: 2.8060, Val Loss: 1.5945\n",
      "Baseline Loss: 5.3134 | Actual Loss: 2.8735\n"
     ]
    },
    {
     "name": "stderr",
     "output_type": "stream",
     "text": [
      "Training:  25%|██▌       | 252/1000 [11:59<35:19,  2.83s/it]"
     ]
    },
    {
     "name": "stdout",
     "output_type": "stream",
     "text": [
      "Baseline Loss: 3.9669 | Actual Loss: 1.5538\n",
      "Epoch 252/1000: Train Loss: 2.8735, Val Loss: 1.5538\n",
      "New best validation loss: 1.5538\n"
     ]
    },
    {
     "name": "stderr",
     "output_type": "stream",
     "text": [
      "Training:  25%|██▌       | 253/1000 [12:02<35:35,  2.86s/it]"
     ]
    },
    {
     "name": "stdout",
     "output_type": "stream",
     "text": [
      "Baseline Loss: 5.3134 | Actual Loss: 2.8236\n",
      "Baseline Loss: 3.9669 | Actual Loss: 1.5575\n",
      "Epoch 253/1000: Train Loss: 2.8236, Val Loss: 1.5575\n"
     ]
    },
    {
     "name": "stderr",
     "output_type": "stream",
     "text": [
      "Training:  25%|██▌       | 254/1000 [12:04<35:02,  2.82s/it]"
     ]
    },
    {
     "name": "stdout",
     "output_type": "stream",
     "text": [
      "Baseline Loss: 5.3134 | Actual Loss: 2.7844\n",
      "Baseline Loss: 3.9669 | Actual Loss: 1.5462\n",
      "Epoch 254/1000: Train Loss: 2.7844, Val Loss: 1.5462\n",
      "New best validation loss: 1.5462\n"
     ]
    },
    {
     "name": "stderr",
     "output_type": "stream",
     "text": [
      "Training:  26%|██▌       | 255/1000 [12:07<34:54,  2.81s/it]"
     ]
    },
    {
     "name": "stdout",
     "output_type": "stream",
     "text": [
      "Baseline Loss: 5.3134 | Actual Loss: 2.8382\n",
      "Baseline Loss: 3.9669 | Actual Loss: 1.5430\n",
      "Epoch 255/1000: Train Loss: 2.8382, Val Loss: 1.5430\n",
      "New best validation loss: 1.5430\n"
     ]
    },
    {
     "name": "stderr",
     "output_type": "stream",
     "text": [
      "Training:  26%|██▌       | 256/1000 [12:10<33:56,  2.74s/it]"
     ]
    },
    {
     "name": "stdout",
     "output_type": "stream",
     "text": [
      "Baseline Loss: 5.3134 | Actual Loss: 2.7705\n",
      "Baseline Loss: 3.9669 | Actual Loss: 1.5054\n",
      "Epoch 256/1000: Train Loss: 2.7705, Val Loss: 1.5054\n",
      "New best validation loss: 1.5054\n",
      "Baseline Loss: 5.3134 | Actual Loss: 2.7944\n"
     ]
    },
    {
     "name": "stderr",
     "output_type": "stream",
     "text": [
      "Training:  26%|██▌       | 257/1000 [12:13<34:33,  2.79s/it]"
     ]
    },
    {
     "name": "stdout",
     "output_type": "stream",
     "text": [
      "Baseline Loss: 3.9669 | Actual Loss: 1.6144\n",
      "Epoch 257/1000: Train Loss: 2.7944, Val Loss: 1.6144\n"
     ]
    },
    {
     "name": "stderr",
     "output_type": "stream",
     "text": [
      "Training:  26%|██▌       | 258/1000 [12:16<34:53,  2.82s/it]"
     ]
    },
    {
     "name": "stdout",
     "output_type": "stream",
     "text": [
      "Baseline Loss: 5.3134 | Actual Loss: 2.8134\n",
      "Baseline Loss: 3.9669 | Actual Loss: 1.6725\n",
      "Epoch 258/1000: Train Loss: 2.8134, Val Loss: 1.6725\n"
     ]
    },
    {
     "name": "stderr",
     "output_type": "stream",
     "text": [
      "Training:  26%|██▌       | 259/1000 [12:18<34:23,  2.78s/it]"
     ]
    },
    {
     "name": "stdout",
     "output_type": "stream",
     "text": [
      "Baseline Loss: 5.3134 | Actual Loss: 2.7903\n",
      "Baseline Loss: 3.9669 | Actual Loss: 1.5630\n",
      "Epoch 259/1000: Train Loss: 2.7903, Val Loss: 1.5630\n",
      "Baseline Loss: 5.3133 | Actual Loss: 2.7621\n"
     ]
    },
    {
     "name": "stderr",
     "output_type": "stream",
     "text": [
      "Training:  26%|██▌       | 260/1000 [12:21<34:14,  2.78s/it]"
     ]
    },
    {
     "name": "stdout",
     "output_type": "stream",
     "text": [
      "Baseline Loss: 3.9669 | Actual Loss: 1.4791\n",
      "Epoch 260/1000: Train Loss: 2.7621, Val Loss: 1.4791\n",
      "New best validation loss: 1.4791\n"
     ]
    },
    {
     "name": "stderr",
     "output_type": "stream",
     "text": [
      "Training:  26%|██▌       | 261/1000 [12:24<33:25,  2.71s/it]"
     ]
    },
    {
     "name": "stdout",
     "output_type": "stream",
     "text": [
      "Baseline Loss: 5.3134 | Actual Loss: 2.7885\n",
      "Baseline Loss: 3.9669 | Actual Loss: 1.5300\n",
      "Epoch 261/1000: Train Loss: 2.7885, Val Loss: 1.5300\n",
      "Baseline Loss: 5.3134 | Actual Loss: 2.7437\n"
     ]
    },
    {
     "name": "stderr",
     "output_type": "stream",
     "text": [
      "Training:  26%|██▌       | 262/1000 [12:27<34:15,  2.78s/it]"
     ]
    },
    {
     "name": "stdout",
     "output_type": "stream",
     "text": [
      "Baseline Loss: 3.9669 | Actual Loss: 1.5172\n",
      "Epoch 262/1000: Train Loss: 2.7437, Val Loss: 1.5172\n",
      "Baseline Loss: 5.3134 | Actual Loss: 2.7445\n"
     ]
    },
    {
     "name": "stderr",
     "output_type": "stream",
     "text": [
      "Training:  26%|██▋       | 263/1000 [12:29<34:40,  2.82s/it]"
     ]
    },
    {
     "name": "stdout",
     "output_type": "stream",
     "text": [
      "Baseline Loss: 3.9669 | Actual Loss: 1.4730\n",
      "Epoch 263/1000: Train Loss: 2.7445, Val Loss: 1.4730\n",
      "New best validation loss: 1.4730\n"
     ]
    },
    {
     "name": "stderr",
     "output_type": "stream",
     "text": [
      "Training:  26%|██▋       | 264/1000 [12:32<34:11,  2.79s/it]"
     ]
    },
    {
     "name": "stdout",
     "output_type": "stream",
     "text": [
      "Baseline Loss: 5.3134 | Actual Loss: 2.7462\n",
      "Baseline Loss: 3.9669 | Actual Loss: 1.5715\n",
      "Epoch 264/1000: Train Loss: 2.7462, Val Loss: 1.5715\n"
     ]
    },
    {
     "name": "stderr",
     "output_type": "stream",
     "text": [
      "Training:  26%|██▋       | 265/1000 [12:35<34:03,  2.78s/it]"
     ]
    },
    {
     "name": "stdout",
     "output_type": "stream",
     "text": [
      "Baseline Loss: 5.3134 | Actual Loss: 2.7097\n",
      "Baseline Loss: 3.9669 | Actual Loss: 1.5279\n",
      "Epoch 265/1000: Train Loss: 2.7097, Val Loss: 1.5279\n"
     ]
    },
    {
     "name": "stderr",
     "output_type": "stream",
     "text": [
      "Training:  27%|██▋       | 266/1000 [12:37<33:09,  2.71s/it]"
     ]
    },
    {
     "name": "stdout",
     "output_type": "stream",
     "text": [
      "Baseline Loss: 5.3134 | Actual Loss: 2.7069\n",
      "Baseline Loss: 3.9669 | Actual Loss: 1.4651\n",
      "Epoch 266/1000: Train Loss: 2.7069, Val Loss: 1.4651\n",
      "New best validation loss: 1.4651\n",
      "Baseline Loss: 5.3134 | Actual Loss: 2.7137\n"
     ]
    },
    {
     "name": "stderr",
     "output_type": "stream",
     "text": [
      "Training:  27%|██▋       | 267/1000 [12:40<33:56,  2.78s/it]"
     ]
    },
    {
     "name": "stdout",
     "output_type": "stream",
     "text": [
      "Baseline Loss: 3.9669 | Actual Loss: 1.3995\n",
      "Epoch 267/1000: Train Loss: 2.7137, Val Loss: 1.3995\n",
      "New best validation loss: 1.3995\n"
     ]
    },
    {
     "name": "stderr",
     "output_type": "stream",
     "text": [
      "Training:  27%|██▋       | 268/1000 [12:43<34:22,  2.82s/it]"
     ]
    },
    {
     "name": "stdout",
     "output_type": "stream",
     "text": [
      "Baseline Loss: 5.3134 | Actual Loss: 2.6798\n",
      "Baseline Loss: 3.9669 | Actual Loss: 1.4408\n",
      "Epoch 268/1000: Train Loss: 2.6798, Val Loss: 1.4408\n"
     ]
    },
    {
     "name": "stderr",
     "output_type": "stream",
     "text": [
      "Training:  27%|██▋       | 269/1000 [12:46<33:50,  2.78s/it]"
     ]
    },
    {
     "name": "stdout",
     "output_type": "stream",
     "text": [
      "Baseline Loss: 5.3134 | Actual Loss: 2.7040\n",
      "Baseline Loss: 3.9669 | Actual Loss: 1.4800\n",
      "Epoch 269/1000: Train Loss: 2.7040, Val Loss: 1.4800\n"
     ]
    },
    {
     "name": "stderr",
     "output_type": "stream",
     "text": [
      "Training:  27%|██▋       | 270/1000 [12:49<33:43,  2.77s/it]"
     ]
    },
    {
     "name": "stdout",
     "output_type": "stream",
     "text": [
      "Baseline Loss: 5.3133 | Actual Loss: 2.6571\n",
      "Baseline Loss: 3.9669 | Actual Loss: 1.5120\n",
      "Epoch 270/1000: Train Loss: 2.6571, Val Loss: 1.5120\n"
     ]
    },
    {
     "name": "stderr",
     "output_type": "stream",
     "text": [
      "Training:  27%|██▋       | 271/1000 [12:51<32:50,  2.70s/it]"
     ]
    },
    {
     "name": "stdout",
     "output_type": "stream",
     "text": [
      "Baseline Loss: 5.3134 | Actual Loss: 2.6683\n",
      "Baseline Loss: 3.9669 | Actual Loss: 1.4880\n",
      "Epoch 271/1000: Train Loss: 2.6683, Val Loss: 1.4880\n",
      "Baseline Loss: 5.3134 | Actual Loss: 2.7038\n"
     ]
    },
    {
     "name": "stderr",
     "output_type": "stream",
     "text": [
      "Training:  27%|██▋       | 272/1000 [12:54<33:49,  2.79s/it]"
     ]
    },
    {
     "name": "stdout",
     "output_type": "stream",
     "text": [
      "Baseline Loss: 3.9669 | Actual Loss: 1.4481\n",
      "Epoch 272/1000: Train Loss: 2.7038, Val Loss: 1.4481\n"
     ]
    },
    {
     "name": "stderr",
     "output_type": "stream",
     "text": [
      "Training:  27%|██▋       | 273/1000 [12:57<34:10,  2.82s/it]"
     ]
    },
    {
     "name": "stdout",
     "output_type": "stream",
     "text": [
      "Baseline Loss: 5.3133 | Actual Loss: 2.6392\n",
      "Baseline Loss: 3.9669 | Actual Loss: 1.3526\n",
      "Epoch 273/1000: Train Loss: 2.6392, Val Loss: 1.3526\n",
      "New best validation loss: 1.3526\n"
     ]
    },
    {
     "name": "stderr",
     "output_type": "stream",
     "text": [
      "Training:  27%|██▋       | 274/1000 [13:00<33:43,  2.79s/it]"
     ]
    },
    {
     "name": "stdout",
     "output_type": "stream",
     "text": [
      "Baseline Loss: 5.3134 | Actual Loss: 2.6321\n",
      "Baseline Loss: 3.9669 | Actual Loss: 1.4324\n",
      "Epoch 274/1000: Train Loss: 2.6321, Val Loss: 1.4324\n",
      "Baseline Loss: 5.3134 | Actual Loss: 2.6349\n"
     ]
    },
    {
     "name": "stderr",
     "output_type": "stream",
     "text": [
      "Training:  28%|██▊       | 275/1000 [13:03<33:56,  2.81s/it]"
     ]
    },
    {
     "name": "stdout",
     "output_type": "stream",
     "text": [
      "Baseline Loss: 3.9669 | Actual Loss: 1.3618\n",
      "Epoch 275/1000: Train Loss: 2.6349, Val Loss: 1.3618\n"
     ]
    },
    {
     "name": "stderr",
     "output_type": "stream",
     "text": [
      "Training:  28%|██▊       | 276/1000 [13:05<33:04,  2.74s/it]"
     ]
    },
    {
     "name": "stdout",
     "output_type": "stream",
     "text": [
      "Baseline Loss: 5.3134 | Actual Loss: 2.6081\n",
      "Baseline Loss: 3.9669 | Actual Loss: 1.4523\n",
      "Epoch 276/1000: Train Loss: 2.6081, Val Loss: 1.4523\n",
      "Baseline Loss: 5.3134 | Actual Loss: 2.6540\n"
     ]
    },
    {
     "name": "stderr",
     "output_type": "stream",
     "text": [
      "Training:  28%|██▊       | 277/1000 [13:08<33:59,  2.82s/it]"
     ]
    },
    {
     "name": "stdout",
     "output_type": "stream",
     "text": [
      "Baseline Loss: 3.9669 | Actual Loss: 1.4107\n",
      "Epoch 277/1000: Train Loss: 2.6540, Val Loss: 1.4107\n",
      "Baseline Loss: 5.3134 | Actual Loss: 2.5989\n"
     ]
    },
    {
     "name": "stderr",
     "output_type": "stream",
     "text": [
      "Training:  28%|██▊       | 278/1000 [13:11<34:16,  2.85s/it]"
     ]
    },
    {
     "name": "stdout",
     "output_type": "stream",
     "text": [
      "Baseline Loss: 3.9669 | Actual Loss: 1.3399\n",
      "Epoch 278/1000: Train Loss: 2.5989, Val Loss: 1.3399\n",
      "New best validation loss: 1.3399\n",
      "Baseline Loss: 5.3134 | Actual Loss: 2.6277\n"
     ]
    },
    {
     "name": "stderr",
     "output_type": "stream",
     "text": [
      "Training:  28%|██▊       | 279/1000 [13:14<33:45,  2.81s/it]"
     ]
    },
    {
     "name": "stdout",
     "output_type": "stream",
     "text": [
      "Baseline Loss: 3.9669 | Actual Loss: 1.4415\n",
      "Epoch 279/1000: Train Loss: 2.6277, Val Loss: 1.4415\n",
      "Baseline Loss: 5.3134 | Actual Loss: 2.6077\n"
     ]
    },
    {
     "name": "stderr",
     "output_type": "stream",
     "text": [
      "Training:  28%|██▊       | 280/1000 [13:17<33:45,  2.81s/it]"
     ]
    },
    {
     "name": "stdout",
     "output_type": "stream",
     "text": [
      "Baseline Loss: 3.9669 | Actual Loss: 1.3814\n",
      "Epoch 280/1000: Train Loss: 2.6077, Val Loss: 1.3814\n",
      "Baseline Loss: 5.3134 | Actual Loss: 2.5591\n"
     ]
    },
    {
     "name": "stderr",
     "output_type": "stream",
     "text": [
      "Training:  28%|██▊       | 281/1000 [13:19<32:51,  2.74s/it]"
     ]
    },
    {
     "name": "stdout",
     "output_type": "stream",
     "text": [
      "Baseline Loss: 3.9669 | Actual Loss: 1.3227\n",
      "Epoch 281/1000: Train Loss: 2.5591, Val Loss: 1.3227\n",
      "New best validation loss: 1.3227\n",
      "Baseline Loss: 5.3134 | Actual Loss: 2.5711\n"
     ]
    },
    {
     "name": "stderr",
     "output_type": "stream",
     "text": [
      "Training:  28%|██▊       | 282/1000 [13:22<33:45,  2.82s/it]"
     ]
    },
    {
     "name": "stdout",
     "output_type": "stream",
     "text": [
      "Baseline Loss: 3.9669 | Actual Loss: 1.3004\n",
      "Epoch 282/1000: Train Loss: 2.5711, Val Loss: 1.3004\n",
      "New best validation loss: 1.3004\n",
      "Baseline Loss: 5.3134 | Actual Loss: 2.6059\n"
     ]
    },
    {
     "name": "stderr",
     "output_type": "stream",
     "text": [
      "Training:  28%|██▊       | 283/1000 [13:25<34:03,  2.85s/it]"
     ]
    },
    {
     "name": "stdout",
     "output_type": "stream",
     "text": [
      "Baseline Loss: 3.9669 | Actual Loss: 1.3205\n",
      "Epoch 283/1000: Train Loss: 2.6059, Val Loss: 1.3205\n",
      "Baseline Loss: 5.3134 | Actual Loss: 2.5596\n"
     ]
    },
    {
     "name": "stderr",
     "output_type": "stream",
     "text": [
      "Training:  28%|██▊       | 284/1000 [13:28<34:05,  2.86s/it]"
     ]
    },
    {
     "name": "stdout",
     "output_type": "stream",
     "text": [
      "Baseline Loss: 3.9669 | Actual Loss: 1.3395\n",
      "Epoch 284/1000: Train Loss: 2.5596, Val Loss: 1.3395\n"
     ]
    },
    {
     "name": "stderr",
     "output_type": "stream",
     "text": [
      "Training:  28%|██▊       | 285/1000 [13:31<33:43,  2.83s/it]"
     ]
    },
    {
     "name": "stdout",
     "output_type": "stream",
     "text": [
      "Baseline Loss: 5.3134 | Actual Loss: 2.5383\n",
      "Baseline Loss: 3.9669 | Actual Loss: 1.3563\n",
      "Epoch 285/1000: Train Loss: 2.5383, Val Loss: 1.3563\n"
     ]
    },
    {
     "name": "stderr",
     "output_type": "stream",
     "text": [
      "Training:  29%|██▊       | 286/1000 [13:34<32:47,  2.76s/it]"
     ]
    },
    {
     "name": "stdout",
     "output_type": "stream",
     "text": [
      "Baseline Loss: 5.3134 | Actual Loss: 2.5157\n",
      "Baseline Loss: 3.9669 | Actual Loss: 1.3424\n",
      "Epoch 286/1000: Train Loss: 2.5157, Val Loss: 1.3424\n",
      "Baseline Loss: 5.3134 | Actual Loss: 2.5561\n"
     ]
    },
    {
     "name": "stderr",
     "output_type": "stream",
     "text": [
      "Training:  29%|██▊       | 287/1000 [13:37<33:50,  2.85s/it]"
     ]
    },
    {
     "name": "stdout",
     "output_type": "stream",
     "text": [
      "Baseline Loss: 3.9669 | Actual Loss: 1.2540\n",
      "Epoch 287/1000: Train Loss: 2.5561, Val Loss: 1.2540\n",
      "New best validation loss: 1.2540\n"
     ]
    },
    {
     "name": "stderr",
     "output_type": "stream",
     "text": [
      "Training:  29%|██▉       | 288/1000 [13:39<33:57,  2.86s/it]"
     ]
    },
    {
     "name": "stdout",
     "output_type": "stream",
     "text": [
      "Baseline Loss: 5.3134 | Actual Loss: 2.5362\n",
      "Baseline Loss: 3.9669 | Actual Loss: 1.3020\n",
      "Epoch 288/1000: Train Loss: 2.5362, Val Loss: 1.3020\n"
     ]
    },
    {
     "name": "stderr",
     "output_type": "stream",
     "text": [
      "Training:  29%|██▉       | 289/1000 [13:42<33:41,  2.84s/it]"
     ]
    },
    {
     "name": "stdout",
     "output_type": "stream",
     "text": [
      "Baseline Loss: 5.3134 | Actual Loss: 2.5163\n",
      "Baseline Loss: 3.9669 | Actual Loss: 1.3238\n",
      "Epoch 289/1000: Train Loss: 2.5163, Val Loss: 1.3238\n"
     ]
    },
    {
     "name": "stderr",
     "output_type": "stream",
     "text": [
      "Training:  29%|██▉       | 290/1000 [13:45<33:32,  2.83s/it]"
     ]
    },
    {
     "name": "stdout",
     "output_type": "stream",
     "text": [
      "Baseline Loss: 5.3134 | Actual Loss: 2.4563\n",
      "Baseline Loss: 3.9669 | Actual Loss: 1.2700\n",
      "Epoch 290/1000: Train Loss: 2.4563, Val Loss: 1.2700\n"
     ]
    },
    {
     "name": "stderr",
     "output_type": "stream",
     "text": [
      "Training:  29%|██▉       | 291/1000 [13:48<32:34,  2.76s/it]"
     ]
    },
    {
     "name": "stdout",
     "output_type": "stream",
     "text": [
      "Baseline Loss: 5.3134 | Actual Loss: 2.4831\n",
      "Baseline Loss: 3.9669 | Actual Loss: 1.3383\n",
      "Epoch 291/1000: Train Loss: 2.4831, Val Loss: 1.3383\n",
      "Baseline Loss: 5.3134 | Actual Loss: 2.5207\n"
     ]
    },
    {
     "name": "stderr",
     "output_type": "stream",
     "text": [
      "Training:  29%|██▉       | 292/1000 [13:51<33:10,  2.81s/it]"
     ]
    },
    {
     "name": "stdout",
     "output_type": "stream",
     "text": [
      "Baseline Loss: 3.9669 | Actual Loss: 1.2922\n",
      "Epoch 292/1000: Train Loss: 2.5207, Val Loss: 1.2922\n"
     ]
    },
    {
     "name": "stderr",
     "output_type": "stream",
     "text": [
      "Training:  29%|██▉       | 293/1000 [13:54<33:32,  2.85s/it]"
     ]
    },
    {
     "name": "stdout",
     "output_type": "stream",
     "text": [
      "Baseline Loss: 5.3134 | Actual Loss: 2.4779\n",
      "Baseline Loss: 3.9669 | Actual Loss: 1.2721\n",
      "Epoch 293/1000: Train Loss: 2.4779, Val Loss: 1.2721\n"
     ]
    },
    {
     "name": "stderr",
     "output_type": "stream",
     "text": [
      "Training:  29%|██▉       | 294/1000 [13:56<33:15,  2.83s/it]"
     ]
    },
    {
     "name": "stdout",
     "output_type": "stream",
     "text": [
      "Baseline Loss: 5.3134 | Actual Loss: 2.4638\n",
      "Baseline Loss: 3.9669 | Actual Loss: 1.2920\n",
      "Epoch 294/1000: Train Loss: 2.4638, Val Loss: 1.2920\n",
      "Baseline Loss: 5.3134 | Actual Loss: 2.4774\n"
     ]
    },
    {
     "name": "stderr",
     "output_type": "stream",
     "text": [
      "Training:  30%|██▉       | 295/1000 [13:59<33:03,  2.81s/it]"
     ]
    },
    {
     "name": "stdout",
     "output_type": "stream",
     "text": [
      "Baseline Loss: 3.9669 | Actual Loss: 1.2886\n",
      "Epoch 295/1000: Train Loss: 2.4774, Val Loss: 1.2886\n",
      "Baseline Loss: 5.3134 | Actual Loss: 2.4828\n"
     ]
    },
    {
     "name": "stderr",
     "output_type": "stream",
     "text": [
      "Training:  30%|██▉       | 296/1000 [14:02<32:10,  2.74s/it]"
     ]
    },
    {
     "name": "stdout",
     "output_type": "stream",
     "text": [
      "Baseline Loss: 3.9669 | Actual Loss: 1.2458\n",
      "Epoch 296/1000: Train Loss: 2.4828, Val Loss: 1.2458\n",
      "New best validation loss: 1.2458\n",
      "Baseline Loss: 5.3134 | Actual Loss: 2.4534\n"
     ]
    },
    {
     "name": "stderr",
     "output_type": "stream",
     "text": [
      "Training:  30%|██▉       | 297/1000 [14:05<32:55,  2.81s/it]"
     ]
    },
    {
     "name": "stdout",
     "output_type": "stream",
     "text": [
      "Baseline Loss: 3.9669 | Actual Loss: 1.2974\n",
      "Epoch 297/1000: Train Loss: 2.4534, Val Loss: 1.2974\n"
     ]
    },
    {
     "name": "stderr",
     "output_type": "stream",
     "text": [
      "Training:  30%|██▉       | 298/1000 [14:08<33:23,  2.85s/it]"
     ]
    },
    {
     "name": "stdout",
     "output_type": "stream",
     "text": [
      "Baseline Loss: 5.3134 | Actual Loss: 2.4396\n",
      "Baseline Loss: 3.9669 | Actual Loss: 1.2721\n",
      "Epoch 298/1000: Train Loss: 2.4396, Val Loss: 1.2721\n"
     ]
    },
    {
     "name": "stderr",
     "output_type": "stream",
     "text": [
      "Training:  30%|██▉       | 299/1000 [14:10<32:56,  2.82s/it]"
     ]
    },
    {
     "name": "stdout",
     "output_type": "stream",
     "text": [
      "Baseline Loss: 5.3134 | Actual Loss: 2.4739\n",
      "Baseline Loss: 3.9669 | Actual Loss: 1.2195\n",
      "Epoch 299/1000: Train Loss: 2.4739, Val Loss: 1.2195\n",
      "New best validation loss: 1.2195\n",
      "Baseline Loss: 5.3134 | Actual Loss: 2.4238\n"
     ]
    },
    {
     "name": "stderr",
     "output_type": "stream",
     "text": [
      "Training:  30%|███       | 300/1000 [14:13<32:47,  2.81s/it]"
     ]
    },
    {
     "name": "stdout",
     "output_type": "stream",
     "text": [
      "Baseline Loss: 3.9669 | Actual Loss: 1.2172\n",
      "Epoch 300/1000: Train Loss: 2.4238, Val Loss: 1.2172\n",
      "New best validation loss: 1.2172\n"
     ]
    },
    {
     "name": "stderr",
     "output_type": "stream",
     "text": [
      "Training:  30%|███       | 301/1000 [14:16<33:05,  2.84s/it]"
     ]
    },
    {
     "name": "stdout",
     "output_type": "stream",
     "text": [
      "Baseline Loss: 5.3134 | Actual Loss: 2.4310\n",
      "Baseline Loss: 3.9669 | Actual Loss: 1.2525\n",
      "Epoch 301/1000: Train Loss: 2.4310, Val Loss: 1.2525\n"
     ]
    },
    {
     "name": "stderr",
     "output_type": "stream",
     "text": [
      "Training:  30%|███       | 302/1000 [14:19<32:41,  2.81s/it]"
     ]
    },
    {
     "name": "stdout",
     "output_type": "stream",
     "text": [
      "Baseline Loss: 5.3134 | Actual Loss: 2.4142\n",
      "Baseline Loss: 3.9669 | Actual Loss: 1.2585\n",
      "Epoch 302/1000: Train Loss: 2.4142, Val Loss: 1.2585\n"
     ]
    },
    {
     "name": "stderr",
     "output_type": "stream",
     "text": [
      "Training:  30%|███       | 303/1000 [14:21<32:18,  2.78s/it]"
     ]
    },
    {
     "name": "stdout",
     "output_type": "stream",
     "text": [
      "Baseline Loss: 5.3133 | Actual Loss: 2.3724\n",
      "Baseline Loss: 3.9669 | Actual Loss: 1.2407\n",
      "Epoch 303/1000: Train Loss: 2.3724, Val Loss: 1.2407\n"
     ]
    },
    {
     "name": "stderr",
     "output_type": "stream",
     "text": [
      "Training:  30%|███       | 304/1000 [14:24<32:25,  2.79s/it]"
     ]
    },
    {
     "name": "stdout",
     "output_type": "stream",
     "text": [
      "Baseline Loss: 5.3134 | Actual Loss: 2.3879\n",
      "Baseline Loss: 3.9669 | Actual Loss: 1.2122\n",
      "Epoch 304/1000: Train Loss: 2.3879, Val Loss: 1.2122\n",
      "New best validation loss: 1.2122\n"
     ]
    },
    {
     "name": "stderr",
     "output_type": "stream",
     "text": [
      "Training:  30%|███       | 305/1000 [14:27<31:31,  2.72s/it]"
     ]
    },
    {
     "name": "stdout",
     "output_type": "stream",
     "text": [
      "Baseline Loss: 5.3134 | Actual Loss: 2.3952\n",
      "Baseline Loss: 3.9669 | Actual Loss: 1.2113\n",
      "Epoch 305/1000: Train Loss: 2.3952, Val Loss: 1.2113\n",
      "New best validation loss: 1.2113\n",
      "Baseline Loss: 5.3133 | Actual Loss: 2.3824\n"
     ]
    },
    {
     "name": "stderr",
     "output_type": "stream",
     "text": [
      "Training:  31%|███       | 306/1000 [14:30<32:19,  2.79s/it]"
     ]
    },
    {
     "name": "stdout",
     "output_type": "stream",
     "text": [
      "Baseline Loss: 3.9669 | Actual Loss: 1.1995\n",
      "Epoch 306/1000: Train Loss: 2.3824, Val Loss: 1.1995\n",
      "New best validation loss: 1.1995\n"
     ]
    },
    {
     "name": "stderr",
     "output_type": "stream",
     "text": [
      "Training:  31%|███       | 307/1000 [14:33<32:43,  2.83s/it]"
     ]
    },
    {
     "name": "stdout",
     "output_type": "stream",
     "text": [
      "Baseline Loss: 5.3134 | Actual Loss: 2.3476\n",
      "Baseline Loss: 3.9669 | Actual Loss: 1.1428\n",
      "Epoch 307/1000: Train Loss: 2.3476, Val Loss: 1.1428\n",
      "New best validation loss: 1.1428\n"
     ]
    },
    {
     "name": "stderr",
     "output_type": "stream",
     "text": [
      "Training:  31%|███       | 308/1000 [14:35<32:05,  2.78s/it]"
     ]
    },
    {
     "name": "stdout",
     "output_type": "stream",
     "text": [
      "Baseline Loss: 5.3134 | Actual Loss: 2.3270\n",
      "Baseline Loss: 3.9669 | Actual Loss: 1.2227\n",
      "Epoch 308/1000: Train Loss: 2.3270, Val Loss: 1.2227\n"
     ]
    },
    {
     "name": "stderr",
     "output_type": "stream",
     "text": [
      "Training:  31%|███       | 309/1000 [14:38<32:02,  2.78s/it]"
     ]
    },
    {
     "name": "stdout",
     "output_type": "stream",
     "text": [
      "Baseline Loss: 5.3134 | Actual Loss: 2.3684\n",
      "Baseline Loss: 3.9669 | Actual Loss: 1.1859\n",
      "Epoch 309/1000: Train Loss: 2.3684, Val Loss: 1.1859\n"
     ]
    },
    {
     "name": "stderr",
     "output_type": "stream",
     "text": [
      "Training:  31%|███       | 310/1000 [14:41<31:16,  2.72s/it]"
     ]
    },
    {
     "name": "stdout",
     "output_type": "stream",
     "text": [
      "Baseline Loss: 5.3134 | Actual Loss: 2.3459\n",
      "Baseline Loss: 3.9669 | Actual Loss: 1.1734\n",
      "Epoch 310/1000: Train Loss: 2.3459, Val Loss: 1.1734\n",
      "Baseline Loss: 5.3134 | Actual Loss: 2.3496\n"
     ]
    },
    {
     "name": "stderr",
     "output_type": "stream",
     "text": [
      "Training:  31%|███       | 311/1000 [14:44<32:00,  2.79s/it]"
     ]
    },
    {
     "name": "stdout",
     "output_type": "stream",
     "text": [
      "Baseline Loss: 3.9669 | Actual Loss: 1.2195\n",
      "Epoch 311/1000: Train Loss: 2.3496, Val Loss: 1.2195\n"
     ]
    },
    {
     "name": "stderr",
     "output_type": "stream",
     "text": [
      "Training:  31%|███       | 312/1000 [14:47<32:16,  2.81s/it]"
     ]
    },
    {
     "name": "stdout",
     "output_type": "stream",
     "text": [
      "Baseline Loss: 5.3134 | Actual Loss: 2.3361\n",
      "Baseline Loss: 3.9669 | Actual Loss: 1.1638\n",
      "Epoch 312/1000: Train Loss: 2.3361, Val Loss: 1.1638\n",
      "Baseline Loss: 5.3133 | Actual Loss: 2.2927\n"
     ]
    },
    {
     "name": "stderr",
     "output_type": "stream",
     "text": [
      "Training:  31%|███▏      | 313/1000 [14:49<31:44,  2.77s/it]"
     ]
    },
    {
     "name": "stdout",
     "output_type": "stream",
     "text": [
      "Baseline Loss: 3.9669 | Actual Loss: 1.1646\n",
      "Epoch 313/1000: Train Loss: 2.2927, Val Loss: 1.1646\n",
      "Baseline Loss: 5.3133 | Actual Loss: 2.3173\n"
     ]
    },
    {
     "name": "stderr",
     "output_type": "stream",
     "text": [
      "Training:  31%|███▏      | 314/1000 [14:52<31:44,  2.78s/it]"
     ]
    },
    {
     "name": "stdout",
     "output_type": "stream",
     "text": [
      "Baseline Loss: 3.9669 | Actual Loss: 1.2035\n",
      "Epoch 314/1000: Train Loss: 2.3173, Val Loss: 1.2035\n"
     ]
    },
    {
     "name": "stderr",
     "output_type": "stream",
     "text": [
      "Training:  32%|███▏      | 315/1000 [14:55<30:57,  2.71s/it]"
     ]
    },
    {
     "name": "stdout",
     "output_type": "stream",
     "text": [
      "Baseline Loss: 5.3134 | Actual Loss: 2.3166\n",
      "Baseline Loss: 3.9669 | Actual Loss: 1.1962\n",
      "Epoch 315/1000: Train Loss: 2.3166, Val Loss: 1.1962\n",
      "Baseline Loss: 5.3134 | Actual Loss: 2.3346\n"
     ]
    },
    {
     "name": "stderr",
     "output_type": "stream",
     "text": [
      "Training:  32%|███▏      | 316/1000 [14:58<31:53,  2.80s/it]"
     ]
    },
    {
     "name": "stdout",
     "output_type": "stream",
     "text": [
      "Baseline Loss: 3.9669 | Actual Loss: 1.1674\n",
      "Epoch 316/1000: Train Loss: 2.3346, Val Loss: 1.1674\n"
     ]
    },
    {
     "name": "stderr",
     "output_type": "stream",
     "text": [
      "Training:  32%|███▏      | 317/1000 [15:00<32:11,  2.83s/it]"
     ]
    },
    {
     "name": "stdout",
     "output_type": "stream",
     "text": [
      "Baseline Loss: 5.3134 | Actual Loss: 2.3089\n",
      "Baseline Loss: 3.9669 | Actual Loss: 1.1448\n",
      "Epoch 317/1000: Train Loss: 2.3089, Val Loss: 1.1448\n",
      "Baseline Loss: 5.3134 | Actual Loss: 2.2625\n"
     ]
    },
    {
     "name": "stderr",
     "output_type": "stream",
     "text": [
      "Training:  32%|███▏      | 318/1000 [15:03<31:49,  2.80s/it]"
     ]
    },
    {
     "name": "stdout",
     "output_type": "stream",
     "text": [
      "Baseline Loss: 3.9669 | Actual Loss: 1.1880\n",
      "Epoch 318/1000: Train Loss: 2.2625, Val Loss: 1.1880\n"
     ]
    },
    {
     "name": "stderr",
     "output_type": "stream",
     "text": [
      "Training:  32%|███▏      | 319/1000 [15:06<31:50,  2.81s/it]"
     ]
    },
    {
     "name": "stdout",
     "output_type": "stream",
     "text": [
      "Baseline Loss: 5.3134 | Actual Loss: 2.2755\n",
      "Baseline Loss: 3.9669 | Actual Loss: 1.1271\n",
      "Epoch 319/1000: Train Loss: 2.2755, Val Loss: 1.1271\n",
      "New best validation loss: 1.1271\n",
      "Baseline Loss: 5.3134 | Actual Loss: 2.2544\n",
      "Baseline Loss: 3.9669 | Actual Loss: 1.1466\n"
     ]
    },
    {
     "name": "stderr",
     "output_type": "stream",
     "text": [
      "Training:  32%|███▏      | 320/1000 [15:09<31:02,  2.74s/it]"
     ]
    },
    {
     "name": "stdout",
     "output_type": "stream",
     "text": [
      "Epoch 320/1000: Train Loss: 2.2544, Val Loss: 1.1466\n",
      "Baseline Loss: 5.3134 | Actual Loss: 2.2645\n"
     ]
    },
    {
     "name": "stderr",
     "output_type": "stream",
     "text": [
      "Training:  32%|███▏      | 321/1000 [15:12<31:54,  2.82s/it]"
     ]
    },
    {
     "name": "stdout",
     "output_type": "stream",
     "text": [
      "Baseline Loss: 3.9669 | Actual Loss: 1.2108\n",
      "Epoch 321/1000: Train Loss: 2.2645, Val Loss: 1.2108\n",
      "Baseline Loss: 5.3133 | Actual Loss: 2.2797\n"
     ]
    },
    {
     "name": "stderr",
     "output_type": "stream",
     "text": [
      "Training:  32%|███▏      | 322/1000 [15:15<32:05,  2.84s/it]"
     ]
    },
    {
     "name": "stdout",
     "output_type": "stream",
     "text": [
      "Baseline Loss: 3.9669 | Actual Loss: 1.1992\n",
      "Epoch 322/1000: Train Loss: 2.2797, Val Loss: 1.1992\n",
      "Baseline Loss: 5.3134 | Actual Loss: 2.3059\n"
     ]
    },
    {
     "name": "stderr",
     "output_type": "stream",
     "text": [
      "Training:  32%|███▏      | 323/1000 [15:17<31:47,  2.82s/it]"
     ]
    },
    {
     "name": "stdout",
     "output_type": "stream",
     "text": [
      "Baseline Loss: 3.9669 | Actual Loss: 1.1685\n",
      "Epoch 323/1000: Train Loss: 2.3059, Val Loss: 1.1685\n",
      "Baseline Loss: 5.3134 | Actual Loss: 2.2744\n"
     ]
    },
    {
     "name": "stderr",
     "output_type": "stream",
     "text": [
      "Training:  32%|███▏      | 324/1000 [15:20<31:38,  2.81s/it]"
     ]
    },
    {
     "name": "stdout",
     "output_type": "stream",
     "text": [
      "Baseline Loss: 3.9669 | Actual Loss: 1.1041\n",
      "Epoch 324/1000: Train Loss: 2.2744, Val Loss: 1.1041\n",
      "New best validation loss: 1.1041\n",
      "Baseline Loss: 5.3134 | Actual Loss: 2.2615\n"
     ]
    },
    {
     "name": "stderr",
     "output_type": "stream",
     "text": [
      "Training:  32%|███▎      | 325/1000 [15:23<30:44,  2.73s/it]"
     ]
    },
    {
     "name": "stdout",
     "output_type": "stream",
     "text": [
      "Baseline Loss: 3.9669 | Actual Loss: 1.1646\n",
      "Epoch 325/1000: Train Loss: 2.2615, Val Loss: 1.1646\n",
      "Baseline Loss: 5.3134 | Actual Loss: 2.2442\n"
     ]
    },
    {
     "name": "stderr",
     "output_type": "stream",
     "text": [
      "Training:  33%|███▎      | 326/1000 [15:26<31:28,  2.80s/it]"
     ]
    },
    {
     "name": "stdout",
     "output_type": "stream",
     "text": [
      "Baseline Loss: 3.9669 | Actual Loss: 1.1970\n",
      "Epoch 326/1000: Train Loss: 2.2442, Val Loss: 1.1970\n",
      "Baseline Loss: 5.3134 | Actual Loss: 2.2407\n"
     ]
    },
    {
     "name": "stderr",
     "output_type": "stream",
     "text": [
      "Training:  33%|███▎      | 327/1000 [15:29<31:48,  2.84s/it]"
     ]
    },
    {
     "name": "stdout",
     "output_type": "stream",
     "text": [
      "Baseline Loss: 3.9669 | Actual Loss: 1.1060\n",
      "Epoch 327/1000: Train Loss: 2.2407, Val Loss: 1.1060\n"
     ]
    },
    {
     "name": "stderr",
     "output_type": "stream",
     "text": [
      "Training:  33%|███▎      | 328/1000 [15:31<31:34,  2.82s/it]"
     ]
    },
    {
     "name": "stdout",
     "output_type": "stream",
     "text": [
      "Baseline Loss: 5.3134 | Actual Loss: 2.2255\n",
      "Baseline Loss: 3.9669 | Actual Loss: 1.1102\n",
      "Epoch 328/1000: Train Loss: 2.2255, Val Loss: 1.1102\n"
     ]
    },
    {
     "name": "stderr",
     "output_type": "stream",
     "text": [
      "Training:  33%|███▎      | 329/1000 [15:34<31:16,  2.80s/it]"
     ]
    },
    {
     "name": "stdout",
     "output_type": "stream",
     "text": [
      "Baseline Loss: 5.3134 | Actual Loss: 2.2376\n",
      "Baseline Loss: 3.9669 | Actual Loss: 1.1874\n",
      "Epoch 329/1000: Train Loss: 2.2376, Val Loss: 1.1874\n",
      "Baseline Loss: 5.3134 | Actual Loss: 2.2024\n"
     ]
    },
    {
     "name": "stderr",
     "output_type": "stream",
     "text": [
      "Training:  33%|███▎      | 330/1000 [15:37<30:30,  2.73s/it]"
     ]
    },
    {
     "name": "stdout",
     "output_type": "stream",
     "text": [
      "Baseline Loss: 3.9669 | Actual Loss: 1.1654\n",
      "Epoch 330/1000: Train Loss: 2.2024, Val Loss: 1.1654\n",
      "Baseline Loss: 5.3134 | Actual Loss: 2.2047\n"
     ]
    },
    {
     "name": "stderr",
     "output_type": "stream",
     "text": [
      "Training:  33%|███▎      | 331/1000 [15:40<31:10,  2.80s/it]"
     ]
    },
    {
     "name": "stdout",
     "output_type": "stream",
     "text": [
      "Baseline Loss: 3.9669 | Actual Loss: 1.1077\n",
      "Epoch 331/1000: Train Loss: 2.2047, Val Loss: 1.1077\n",
      "Baseline Loss: 5.3134 | Actual Loss: 2.2330\n"
     ]
    },
    {
     "name": "stderr",
     "output_type": "stream",
     "text": [
      "Training:  33%|███▎      | 332/1000 [15:42<31:29,  2.83s/it]"
     ]
    },
    {
     "name": "stdout",
     "output_type": "stream",
     "text": [
      "Baseline Loss: 3.9669 | Actual Loss: 1.0950\n",
      "Epoch 332/1000: Train Loss: 2.2330, Val Loss: 1.0950\n",
      "New best validation loss: 1.0950\n",
      "Baseline Loss: 5.3133 | Actual Loss: 2.2261\n"
     ]
    },
    {
     "name": "stderr",
     "output_type": "stream",
     "text": [
      "Training:  33%|███▎      | 333/1000 [15:45<31:27,  2.83s/it]"
     ]
    },
    {
     "name": "stdout",
     "output_type": "stream",
     "text": [
      "Baseline Loss: 3.9669 | Actual Loss: 1.1409\n",
      "Epoch 333/1000: Train Loss: 2.2261, Val Loss: 1.1409\n",
      "Baseline Loss: 5.3134 | Actual Loss: 2.1779\n"
     ]
    },
    {
     "name": "stderr",
     "output_type": "stream",
     "text": [
      "Training:  33%|███▎      | 334/1000 [15:48<31:10,  2.81s/it]"
     ]
    },
    {
     "name": "stdout",
     "output_type": "stream",
     "text": [
      "Baseline Loss: 3.9669 | Actual Loss: 1.1401\n",
      "Epoch 334/1000: Train Loss: 2.1779, Val Loss: 1.1401\n",
      "Baseline Loss: 5.3134 | Actual Loss: 2.2465\n"
     ]
    },
    {
     "name": "stderr",
     "output_type": "stream",
     "text": [
      "Training:  34%|███▎      | 335/1000 [15:51<30:20,  2.74s/it]"
     ]
    },
    {
     "name": "stdout",
     "output_type": "stream",
     "text": [
      "Baseline Loss: 3.9669 | Actual Loss: 1.1248\n",
      "Epoch 335/1000: Train Loss: 2.2465, Val Loss: 1.1248\n",
      "Baseline Loss: 5.3134 | Actual Loss: 2.2036\n"
     ]
    },
    {
     "name": "stderr",
     "output_type": "stream",
     "text": [
      "Training:  34%|███▎      | 336/1000 [15:54<31:03,  2.81s/it]"
     ]
    },
    {
     "name": "stdout",
     "output_type": "stream",
     "text": [
      "Baseline Loss: 3.9669 | Actual Loss: 1.1357\n",
      "Epoch 336/1000: Train Loss: 2.2036, Val Loss: 1.1357\n",
      "Baseline Loss: 5.3134 | Actual Loss: 2.1569\n"
     ]
    },
    {
     "name": "stderr",
     "output_type": "stream",
     "text": [
      "Training:  34%|███▎      | 337/1000 [15:57<31:36,  2.86s/it]"
     ]
    },
    {
     "name": "stdout",
     "output_type": "stream",
     "text": [
      "Baseline Loss: 3.9669 | Actual Loss: 1.1472\n",
      "Epoch 337/1000: Train Loss: 2.1569, Val Loss: 1.1472\n",
      "Baseline Loss: 5.3134 | Actual Loss: 2.1716\n"
     ]
    },
    {
     "name": "stderr",
     "output_type": "stream",
     "text": [
      "Training:  34%|███▍      | 338/1000 [15:59<31:17,  2.84s/it]"
     ]
    },
    {
     "name": "stdout",
     "output_type": "stream",
     "text": [
      "Baseline Loss: 3.9669 | Actual Loss: 1.0817\n",
      "Epoch 338/1000: Train Loss: 2.1716, Val Loss: 1.0817\n",
      "New best validation loss: 1.0817\n"
     ]
    },
    {
     "name": "stderr",
     "output_type": "stream",
     "text": [
      "Training:  34%|███▍      | 339/1000 [16:02<31:09,  2.83s/it]"
     ]
    },
    {
     "name": "stdout",
     "output_type": "stream",
     "text": [
      "Baseline Loss: 5.3134 | Actual Loss: 2.2122\n",
      "Baseline Loss: 3.9669 | Actual Loss: 1.1742\n",
      "Epoch 339/1000: Train Loss: 2.2122, Val Loss: 1.1742\n"
     ]
    },
    {
     "name": "stderr",
     "output_type": "stream",
     "text": [
      "Training:  34%|███▍      | 340/1000 [16:05<30:21,  2.76s/it]"
     ]
    },
    {
     "name": "stdout",
     "output_type": "stream",
     "text": [
      "Baseline Loss: 5.3134 | Actual Loss: 2.1730\n",
      "Baseline Loss: 3.9669 | Actual Loss: 1.1500\n",
      "Epoch 340/1000: Train Loss: 2.1730, Val Loss: 1.1500\n",
      "Baseline Loss: 5.3134 | Actual Loss: 2.1903\n"
     ]
    },
    {
     "name": "stderr",
     "output_type": "stream",
     "text": [
      "Training:  34%|███▍      | 341/1000 [16:08<30:57,  2.82s/it]"
     ]
    },
    {
     "name": "stdout",
     "output_type": "stream",
     "text": [
      "Baseline Loss: 3.9669 | Actual Loss: 1.1512\n",
      "Epoch 341/1000: Train Loss: 2.1903, Val Loss: 1.1512\n"
     ]
    },
    {
     "name": "stderr",
     "output_type": "stream",
     "text": [
      "Training:  34%|███▍      | 342/1000 [16:11<31:14,  2.85s/it]"
     ]
    },
    {
     "name": "stdout",
     "output_type": "stream",
     "text": [
      "Baseline Loss: 5.3134 | Actual Loss: 2.1745\n",
      "Baseline Loss: 3.9669 | Actual Loss: 1.0978\n",
      "Epoch 342/1000: Train Loss: 2.1745, Val Loss: 1.0978\n"
     ]
    },
    {
     "name": "stderr",
     "output_type": "stream",
     "text": [
      "Training:  34%|███▍      | 343/1000 [16:13<30:55,  2.82s/it]"
     ]
    },
    {
     "name": "stdout",
     "output_type": "stream",
     "text": [
      "Baseline Loss: 5.3134 | Actual Loss: 2.1751\n",
      "Baseline Loss: 3.9669 | Actual Loss: 1.1352\n",
      "Epoch 343/1000: Train Loss: 2.1751, Val Loss: 1.1352\n"
     ]
    },
    {
     "name": "stderr",
     "output_type": "stream",
     "text": [
      "Training:  34%|███▍      | 344/1000 [16:16<30:53,  2.83s/it]"
     ]
    },
    {
     "name": "stdout",
     "output_type": "stream",
     "text": [
      "Baseline Loss: 5.3134 | Actual Loss: 2.1599\n",
      "Baseline Loss: 3.9669 | Actual Loss: 1.0568\n",
      "Epoch 344/1000: Train Loss: 2.1599, Val Loss: 1.0568\n",
      "New best validation loss: 1.0568\n"
     ]
    },
    {
     "name": "stderr",
     "output_type": "stream",
     "text": [
      "Training:  34%|███▍      | 345/1000 [16:19<30:05,  2.76s/it]"
     ]
    },
    {
     "name": "stdout",
     "output_type": "stream",
     "text": [
      "Baseline Loss: 5.3134 | Actual Loss: 2.1726\n",
      "Baseline Loss: 3.9669 | Actual Loss: 1.1014\n",
      "Epoch 345/1000: Train Loss: 2.1726, Val Loss: 1.1014\n",
      "Baseline Loss: 5.3134 | Actual Loss: 2.1539\n"
     ]
    },
    {
     "name": "stderr",
     "output_type": "stream",
     "text": [
      "Training:  35%|███▍      | 346/1000 [16:22<30:43,  2.82s/it]"
     ]
    },
    {
     "name": "stdout",
     "output_type": "stream",
     "text": [
      "Baseline Loss: 3.9669 | Actual Loss: 1.1305\n",
      "Epoch 346/1000: Train Loss: 2.1539, Val Loss: 1.1305\n",
      "Baseline Loss: 5.3134 | Actual Loss: 2.1390\n"
     ]
    },
    {
     "name": "stderr",
     "output_type": "stream",
     "text": [
      "Training:  35%|███▍      | 347/1000 [16:25<30:57,  2.84s/it]"
     ]
    },
    {
     "name": "stdout",
     "output_type": "stream",
     "text": [
      "Baseline Loss: 3.9669 | Actual Loss: 1.0943\n",
      "Epoch 347/1000: Train Loss: 2.1390, Val Loss: 1.0943\n",
      "Baseline Loss: 5.3134 | Actual Loss: 2.0821\n"
     ]
    },
    {
     "name": "stderr",
     "output_type": "stream",
     "text": [
      "Training:  35%|███▍      | 348/1000 [16:27<30:38,  2.82s/it]"
     ]
    },
    {
     "name": "stdout",
     "output_type": "stream",
     "text": [
      "Baseline Loss: 3.9669 | Actual Loss: 1.1739\n",
      "Epoch 348/1000: Train Loss: 2.0821, Val Loss: 1.1739\n"
     ]
    },
    {
     "name": "stderr",
     "output_type": "stream",
     "text": [
      "Training:  35%|███▍      | 349/1000 [16:30<30:22,  2.80s/it]"
     ]
    },
    {
     "name": "stdout",
     "output_type": "stream",
     "text": [
      "Baseline Loss: 5.3134 | Actual Loss: 2.1121\n",
      "Baseline Loss: 3.9669 | Actual Loss: 1.0932\n",
      "Epoch 349/1000: Train Loss: 2.1121, Val Loss: 1.0932\n"
     ]
    },
    {
     "name": "stderr",
     "output_type": "stream",
     "text": [
      "Training:  35%|███▌      | 350/1000 [16:33<29:31,  2.73s/it]"
     ]
    },
    {
     "name": "stdout",
     "output_type": "stream",
     "text": [
      "Baseline Loss: 5.3134 | Actual Loss: 2.1339\n",
      "Baseline Loss: 3.9669 | Actual Loss: 1.1477\n",
      "Epoch 350/1000: Train Loss: 2.1339, Val Loss: 1.1477\n",
      "Baseline Loss: 5.3133 | Actual Loss: 2.1113\n"
     ]
    },
    {
     "name": "stderr",
     "output_type": "stream",
     "text": [
      "Training:  35%|███▌      | 351/1000 [16:36<30:06,  2.78s/it]"
     ]
    },
    {
     "name": "stdout",
     "output_type": "stream",
     "text": [
      "Baseline Loss: 3.9669 | Actual Loss: 1.1508\n",
      "Epoch 351/1000: Train Loss: 2.1113, Val Loss: 1.1508\n",
      "Baseline Loss: 5.3134 | Actual Loss: 2.1623\n"
     ]
    },
    {
     "name": "stderr",
     "output_type": "stream",
     "text": [
      "Training:  35%|███▌      | 352/1000 [16:39<30:22,  2.81s/it]"
     ]
    },
    {
     "name": "stdout",
     "output_type": "stream",
     "text": [
      "Baseline Loss: 3.9669 | Actual Loss: 1.0961\n",
      "Epoch 352/1000: Train Loss: 2.1623, Val Loss: 1.0961\n",
      "Baseline Loss: 5.3133 | Actual Loss: 2.1156\n"
     ]
    },
    {
     "name": "stderr",
     "output_type": "stream",
     "text": [
      "Training:  35%|███▌      | 353/1000 [16:41<30:04,  2.79s/it]"
     ]
    },
    {
     "name": "stdout",
     "output_type": "stream",
     "text": [
      "Baseline Loss: 3.9669 | Actual Loss: 1.1114\n",
      "Epoch 353/1000: Train Loss: 2.1156, Val Loss: 1.1114\n"
     ]
    },
    {
     "name": "stderr",
     "output_type": "stream",
     "text": [
      "Training:  35%|███▌      | 354/1000 [16:44<30:01,  2.79s/it]"
     ]
    },
    {
     "name": "stdout",
     "output_type": "stream",
     "text": [
      "Baseline Loss: 5.3134 | Actual Loss: 2.1133\n",
      "Baseline Loss: 3.9669 | Actual Loss: 1.1000\n",
      "Epoch 354/1000: Train Loss: 2.1133, Val Loss: 1.1000\n"
     ]
    },
    {
     "name": "stderr",
     "output_type": "stream",
     "text": [
      "Training:  36%|███▌      | 355/1000 [16:47<29:07,  2.71s/it]"
     ]
    },
    {
     "name": "stdout",
     "output_type": "stream",
     "text": [
      "Baseline Loss: 5.3134 | Actual Loss: 2.1082\n",
      "Baseline Loss: 3.9669 | Actual Loss: 1.1373\n",
      "Epoch 355/1000: Train Loss: 2.1082, Val Loss: 1.1373\n",
      "Baseline Loss: 5.3134 | Actual Loss: 2.0945\n"
     ]
    },
    {
     "name": "stderr",
     "output_type": "stream",
     "text": [
      "Training:  36%|███▌      | 356/1000 [16:50<29:48,  2.78s/it]"
     ]
    },
    {
     "name": "stdout",
     "output_type": "stream",
     "text": [
      "Baseline Loss: 3.9669 | Actual Loss: 1.0688\n",
      "Epoch 356/1000: Train Loss: 2.0945, Val Loss: 1.0688\n"
     ]
    },
    {
     "name": "stderr",
     "output_type": "stream",
     "text": [
      "Training:  36%|███▌      | 357/1000 [16:52<30:04,  2.81s/it]"
     ]
    },
    {
     "name": "stdout",
     "output_type": "stream",
     "text": [
      "Baseline Loss: 5.3134 | Actual Loss: 2.0989\n",
      "Baseline Loss: 3.9669 | Actual Loss: 1.0261\n",
      "Epoch 357/1000: Train Loss: 2.0989, Val Loss: 1.0261\n",
      "New best validation loss: 1.0261\n",
      "Baseline Loss: 5.3134 | Actual Loss: 2.0677\n"
     ]
    },
    {
     "name": "stderr",
     "output_type": "stream",
     "text": [
      "Training:  36%|███▌      | 358/1000 [16:55<29:56,  2.80s/it]"
     ]
    },
    {
     "name": "stdout",
     "output_type": "stream",
     "text": [
      "Baseline Loss: 3.9669 | Actual Loss: 1.1338\n",
      "Epoch 358/1000: Train Loss: 2.0677, Val Loss: 1.1338\n"
     ]
    },
    {
     "name": "stderr",
     "output_type": "stream",
     "text": [
      "Training:  36%|███▌      | 359/1000 [16:58<30:13,  2.83s/it]"
     ]
    },
    {
     "name": "stdout",
     "output_type": "stream",
     "text": [
      "Baseline Loss: 5.3133 | Actual Loss: 2.0864\n",
      "Baseline Loss: 3.9669 | Actual Loss: 1.1175\n",
      "Epoch 359/1000: Train Loss: 2.0864, Val Loss: 1.1175\n"
     ]
    },
    {
     "name": "stderr",
     "output_type": "stream",
     "text": [
      "Training:  36%|███▌      | 360/1000 [17:01<29:47,  2.79s/it]"
     ]
    },
    {
     "name": "stdout",
     "output_type": "stream",
     "text": [
      "Baseline Loss: 5.3134 | Actual Loss: 2.0710\n",
      "Baseline Loss: 3.9669 | Actual Loss: 1.1167\n",
      "Epoch 360/1000: Train Loss: 2.0710, Val Loss: 1.1167\n"
     ]
    },
    {
     "name": "stderr",
     "output_type": "stream",
     "text": [
      "Training:  36%|███▌      | 361/1000 [17:04<29:29,  2.77s/it]"
     ]
    },
    {
     "name": "stdout",
     "output_type": "stream",
     "text": [
      "Baseline Loss: 5.3134 | Actual Loss: 2.0405\n",
      "Baseline Loss: 3.9669 | Actual Loss: 1.1482\n",
      "Epoch 361/1000: Train Loss: 2.0405, Val Loss: 1.1482\n"
     ]
    },
    {
     "name": "stderr",
     "output_type": "stream",
     "text": [
      "Training:  36%|███▌      | 362/1000 [17:07<30:19,  2.85s/it]"
     ]
    },
    {
     "name": "stdout",
     "output_type": "stream",
     "text": [
      "Baseline Loss: 5.3134 | Actual Loss: 2.0616\n",
      "Baseline Loss: 3.9669 | Actual Loss: 1.0610\n",
      "Epoch 362/1000: Train Loss: 2.0616, Val Loss: 1.0610\n"
     ]
    },
    {
     "name": "stderr",
     "output_type": "stream",
     "text": [
      "Training:  36%|███▋      | 363/1000 [17:09<29:16,  2.76s/it]"
     ]
    },
    {
     "name": "stdout",
     "output_type": "stream",
     "text": [
      "Baseline Loss: 5.3134 | Actual Loss: 2.0443\n",
      "Baseline Loss: 3.9669 | Actual Loss: 1.1189\n",
      "Epoch 363/1000: Train Loss: 2.0443, Val Loss: 1.1189\n",
      "Baseline Loss: 5.3134 | Actual Loss: 2.0379\n"
     ]
    },
    {
     "name": "stderr",
     "output_type": "stream",
     "text": [
      "Training:  36%|███▋      | 364/1000 [17:12<29:52,  2.82s/it]"
     ]
    },
    {
     "name": "stdout",
     "output_type": "stream",
     "text": [
      "Baseline Loss: 3.9669 | Actual Loss: 1.1393\n",
      "Epoch 364/1000: Train Loss: 2.0379, Val Loss: 1.1393\n"
     ]
    },
    {
     "name": "stderr",
     "output_type": "stream",
     "text": [
      "Training:  36%|███▋      | 365/1000 [17:15<30:03,  2.84s/it]"
     ]
    },
    {
     "name": "stdout",
     "output_type": "stream",
     "text": [
      "Baseline Loss: 5.3133 | Actual Loss: 2.0403\n",
      "Baseline Loss: 3.9669 | Actual Loss: 1.0813\n",
      "Epoch 365/1000: Train Loss: 2.0403, Val Loss: 1.0813\n"
     ]
    },
    {
     "name": "stderr",
     "output_type": "stream",
     "text": [
      "Training:  37%|███▋      | 366/1000 [17:18<29:43,  2.81s/it]"
     ]
    },
    {
     "name": "stdout",
     "output_type": "stream",
     "text": [
      "Baseline Loss: 5.3134 | Actual Loss: 2.0276\n",
      "Baseline Loss: 3.9669 | Actual Loss: 1.1294\n",
      "Epoch 366/1000: Train Loss: 2.0276, Val Loss: 1.1294\n"
     ]
    },
    {
     "name": "stderr",
     "output_type": "stream",
     "text": [
      "Training:  37%|███▋      | 367/1000 [17:20<29:33,  2.80s/it]"
     ]
    },
    {
     "name": "stdout",
     "output_type": "stream",
     "text": [
      "Baseline Loss: 5.3134 | Actual Loss: 2.0385\n",
      "Baseline Loss: 3.9669 | Actual Loss: 1.0801\n",
      "Epoch 367/1000: Train Loss: 2.0385, Val Loss: 1.0801\n"
     ]
    },
    {
     "name": "stderr",
     "output_type": "stream",
     "text": [
      "Training:  37%|███▋      | 368/1000 [17:23<28:52,  2.74s/it]"
     ]
    },
    {
     "name": "stdout",
     "output_type": "stream",
     "text": [
      "Baseline Loss: 5.3133 | Actual Loss: 2.0271\n",
      "Baseline Loss: 3.9669 | Actual Loss: 1.0501\n",
      "Epoch 368/1000: Train Loss: 2.0271, Val Loss: 1.0501\n",
      "Baseline Loss: 5.3134 | Actual Loss: 2.0260\n"
     ]
    },
    {
     "name": "stderr",
     "output_type": "stream",
     "text": [
      "Training:  37%|███▋      | 369/1000 [17:26<29:27,  2.80s/it]"
     ]
    },
    {
     "name": "stdout",
     "output_type": "stream",
     "text": [
      "Baseline Loss: 3.9669 | Actual Loss: 1.0692\n",
      "Epoch 369/1000: Train Loss: 2.0260, Val Loss: 1.0692\n"
     ]
    },
    {
     "name": "stderr",
     "output_type": "stream",
     "text": [
      "Training:  37%|███▋      | 370/1000 [17:29<29:46,  2.84s/it]"
     ]
    },
    {
     "name": "stdout",
     "output_type": "stream",
     "text": [
      "Baseline Loss: 5.3134 | Actual Loss: 2.0217\n",
      "Baseline Loss: 3.9669 | Actual Loss: 1.1126\n",
      "Epoch 370/1000: Train Loss: 2.0217, Val Loss: 1.1126\n"
     ]
    },
    {
     "name": "stderr",
     "output_type": "stream",
     "text": [
      "Training:  37%|███▋      | 371/1000 [17:32<29:23,  2.80s/it]"
     ]
    },
    {
     "name": "stdout",
     "output_type": "stream",
     "text": [
      "Baseline Loss: 5.3134 | Actual Loss: 2.0322\n",
      "Baseline Loss: 3.9669 | Actual Loss: 1.1072\n",
      "Epoch 371/1000: Train Loss: 2.0322, Val Loss: 1.1072\n",
      "Baseline Loss: 5.3134 | Actual Loss: 1.9970\n"
     ]
    },
    {
     "name": "stderr",
     "output_type": "stream",
     "text": [
      "Training:  37%|███▋      | 372/1000 [17:34<28:57,  2.77s/it]"
     ]
    },
    {
     "name": "stdout",
     "output_type": "stream",
     "text": [
      "Baseline Loss: 3.9669 | Actual Loss: 1.1339\n",
      "Epoch 372/1000: Train Loss: 1.9970, Val Loss: 1.1339\n",
      "Baseline Loss: 5.3134 | Actual Loss: 1.9837\n"
     ]
    },
    {
     "name": "stderr",
     "output_type": "stream",
     "text": [
      "Training:  37%|███▋      | 373/1000 [17:37<28:08,  2.69s/it]"
     ]
    },
    {
     "name": "stdout",
     "output_type": "stream",
     "text": [
      "Baseline Loss: 3.9669 | Actual Loss: 1.1386\n",
      "Epoch 373/1000: Train Loss: 1.9837, Val Loss: 1.1386\n",
      "Baseline Loss: 5.3134 | Actual Loss: 2.0223\n"
     ]
    },
    {
     "name": "stderr",
     "output_type": "stream",
     "text": [
      "Training:  37%|███▋      | 374/1000 [17:40<28:53,  2.77s/it]"
     ]
    },
    {
     "name": "stdout",
     "output_type": "stream",
     "text": [
      "Baseline Loss: 3.9669 | Actual Loss: 1.1362\n",
      "Epoch 374/1000: Train Loss: 2.0223, Val Loss: 1.1362\n",
      "Baseline Loss: 5.3133 | Actual Loss: 2.0131\n"
     ]
    },
    {
     "name": "stderr",
     "output_type": "stream",
     "text": [
      "Training:  38%|███▊      | 375/1000 [17:43<29:11,  2.80s/it]"
     ]
    },
    {
     "name": "stdout",
     "output_type": "stream",
     "text": [
      "Baseline Loss: 3.9669 | Actual Loss: 1.1318\n",
      "Epoch 375/1000: Train Loss: 2.0131, Val Loss: 1.1318\n",
      "Baseline Loss: 5.3134 | Actual Loss: 2.0258\n"
     ]
    },
    {
     "name": "stderr",
     "output_type": "stream",
     "text": [
      "Training:  38%|███▊      | 376/1000 [17:45<28:53,  2.78s/it]"
     ]
    },
    {
     "name": "stdout",
     "output_type": "stream",
     "text": [
      "Baseline Loss: 3.9669 | Actual Loss: 1.1413\n",
      "Epoch 376/1000: Train Loss: 2.0258, Val Loss: 1.1413\n",
      "Baseline Loss: 5.3133 | Actual Loss: 1.9964\n"
     ]
    },
    {
     "name": "stderr",
     "output_type": "stream",
     "text": [
      "Training:  38%|███▊      | 377/1000 [17:48<28:41,  2.76s/it]"
     ]
    },
    {
     "name": "stdout",
     "output_type": "stream",
     "text": [
      "Baseline Loss: 3.9669 | Actual Loss: 1.1207\n",
      "Epoch 377/1000: Train Loss: 1.9964, Val Loss: 1.1207\n",
      "Baseline Loss: 5.3134 | Actual Loss: 1.9476\n"
     ]
    },
    {
     "name": "stderr",
     "output_type": "stream",
     "text": [
      "Training:  38%|███▊      | 378/1000 [17:51<28:02,  2.71s/it]"
     ]
    },
    {
     "name": "stdout",
     "output_type": "stream",
     "text": [
      "Baseline Loss: 3.9669 | Actual Loss: 1.1197\n",
      "Epoch 378/1000: Train Loss: 1.9476, Val Loss: 1.1197\n",
      "Baseline Loss: 5.3133 | Actual Loss: 1.9701\n"
     ]
    },
    {
     "name": "stderr",
     "output_type": "stream",
     "text": [
      "Training:  38%|███▊      | 379/1000 [17:54<28:41,  2.77s/it]"
     ]
    },
    {
     "name": "stdout",
     "output_type": "stream",
     "text": [
      "Baseline Loss: 3.9669 | Actual Loss: 1.1180\n",
      "Epoch 379/1000: Train Loss: 1.9701, Val Loss: 1.1180\n",
      "Baseline Loss: 5.3134 | Actual Loss: 1.9831\n"
     ]
    },
    {
     "name": "stderr",
     "output_type": "stream",
     "text": [
      "Training:  38%|███▊      | 380/1000 [17:57<29:02,  2.81s/it]"
     ]
    },
    {
     "name": "stdout",
     "output_type": "stream",
     "text": [
      "Baseline Loss: 3.9669 | Actual Loss: 1.1203\n",
      "Epoch 380/1000: Train Loss: 1.9831, Val Loss: 1.1203\n"
     ]
    },
    {
     "name": "stderr",
     "output_type": "stream",
     "text": [
      "Training:  38%|███▊      | 381/1000 [17:59<28:54,  2.80s/it]"
     ]
    },
    {
     "name": "stdout",
     "output_type": "stream",
     "text": [
      "Baseline Loss: 5.3133 | Actual Loss: 1.9542\n",
      "Baseline Loss: 3.9669 | Actual Loss: 1.0860\n",
      "Epoch 381/1000: Train Loss: 1.9542, Val Loss: 1.0860\n"
     ]
    },
    {
     "name": "stderr",
     "output_type": "stream",
     "text": [
      "Training:  38%|███▊      | 382/1000 [18:02<28:41,  2.79s/it]"
     ]
    },
    {
     "name": "stdout",
     "output_type": "stream",
     "text": [
      "Baseline Loss: 5.3134 | Actual Loss: 1.9691\n",
      "Baseline Loss: 3.9669 | Actual Loss: 1.0804\n",
      "Epoch 382/1000: Train Loss: 1.9691, Val Loss: 1.0804\n"
     ]
    },
    {
     "name": "stderr",
     "output_type": "stream",
     "text": [
      "Training:  38%|███▊      | 383/1000 [18:05<28:12,  2.74s/it]"
     ]
    },
    {
     "name": "stdout",
     "output_type": "stream",
     "text": [
      "Baseline Loss: 5.3134 | Actual Loss: 1.9694\n",
      "Baseline Loss: 3.9669 | Actual Loss: 1.0730\n",
      "Epoch 383/1000: Train Loss: 1.9694, Val Loss: 1.0730\n",
      "Baseline Loss: 5.3134 | Actual Loss: 1.9693\n"
     ]
    },
    {
     "name": "stderr",
     "output_type": "stream",
     "text": [
      "Training:  38%|███▊      | 384/1000 [18:08<28:50,  2.81s/it]"
     ]
    },
    {
     "name": "stdout",
     "output_type": "stream",
     "text": [
      "Baseline Loss: 3.9669 | Actual Loss: 1.1032\n",
      "Epoch 384/1000: Train Loss: 1.9693, Val Loss: 1.1032\n",
      "Baseline Loss: 5.3134 | Actual Loss: 2.0027\n"
     ]
    },
    {
     "name": "stderr",
     "output_type": "stream",
     "text": [
      "Training:  38%|███▊      | 385/1000 [18:11<29:02,  2.83s/it]"
     ]
    },
    {
     "name": "stdout",
     "output_type": "stream",
     "text": [
      "Baseline Loss: 3.9669 | Actual Loss: 1.0961\n",
      "Epoch 385/1000: Train Loss: 2.0027, Val Loss: 1.0961\n",
      "Baseline Loss: 5.3134 | Actual Loss: 1.9854\n"
     ]
    },
    {
     "name": "stderr",
     "output_type": "stream",
     "text": [
      "Training:  39%|███▊      | 386/1000 [18:13<28:40,  2.80s/it]"
     ]
    },
    {
     "name": "stdout",
     "output_type": "stream",
     "text": [
      "Baseline Loss: 3.9669 | Actual Loss: 1.1426\n",
      "Epoch 386/1000: Train Loss: 1.9854, Val Loss: 1.1426\n"
     ]
    },
    {
     "name": "stderr",
     "output_type": "stream",
     "text": [
      "Training:  39%|███▊      | 387/1000 [18:16<28:27,  2.79s/it]"
     ]
    },
    {
     "name": "stdout",
     "output_type": "stream",
     "text": [
      "Baseline Loss: 5.3134 | Actual Loss: 1.9761\n",
      "Baseline Loss: 3.9669 | Actual Loss: 1.1036\n",
      "Epoch 387/1000: Train Loss: 1.9761, Val Loss: 1.1036\n"
     ]
    },
    {
     "name": "stderr",
     "output_type": "stream",
     "text": [
      "Training:  39%|███▉      | 388/1000 [18:19<27:47,  2.72s/it]"
     ]
    },
    {
     "name": "stdout",
     "output_type": "stream",
     "text": [
      "Baseline Loss: 5.3133 | Actual Loss: 1.9522\n",
      "Baseline Loss: 3.9669 | Actual Loss: 1.0736\n",
      "Epoch 388/1000: Train Loss: 1.9522, Val Loss: 1.0736\n",
      "Baseline Loss: 5.3134 | Actual Loss: 1.9315\n"
     ]
    },
    {
     "name": "stderr",
     "output_type": "stream",
     "text": [
      "Training:  39%|███▉      | 389/1000 [18:22<28:19,  2.78s/it]"
     ]
    },
    {
     "name": "stdout",
     "output_type": "stream",
     "text": [
      "Baseline Loss: 3.9669 | Actual Loss: 1.0886\n",
      "Epoch 389/1000: Train Loss: 1.9315, Val Loss: 1.0886\n",
      "Baseline Loss: 5.3134 | Actual Loss: 1.9658\n"
     ]
    },
    {
     "name": "stderr",
     "output_type": "stream",
     "text": [
      "Training:  39%|███▉      | 390/1000 [18:24<28:43,  2.82s/it]"
     ]
    },
    {
     "name": "stdout",
     "output_type": "stream",
     "text": [
      "Baseline Loss: 3.9669 | Actual Loss: 1.0953\n",
      "Epoch 390/1000: Train Loss: 1.9658, Val Loss: 1.0953\n",
      "Baseline Loss: 5.3134 | Actual Loss: 1.9977\n"
     ]
    },
    {
     "name": "stderr",
     "output_type": "stream",
     "text": [
      "Training:  39%|███▉      | 391/1000 [18:27<28:24,  2.80s/it]"
     ]
    },
    {
     "name": "stdout",
     "output_type": "stream",
     "text": [
      "Baseline Loss: 3.9669 | Actual Loss: 1.1080\n",
      "Epoch 391/1000: Train Loss: 1.9977, Val Loss: 1.1080\n",
      "Baseline Loss: 5.3134 | Actual Loss: 1.9570\n"
     ]
    },
    {
     "name": "stderr",
     "output_type": "stream",
     "text": [
      "Training:  39%|███▉      | 392/1000 [18:30<28:17,  2.79s/it]"
     ]
    },
    {
     "name": "stdout",
     "output_type": "stream",
     "text": [
      "Baseline Loss: 3.9669 | Actual Loss: 1.0667\n",
      "Epoch 392/1000: Train Loss: 1.9570, Val Loss: 1.0667\n",
      "Baseline Loss: 5.3134 | Actual Loss: 1.9501\n"
     ]
    },
    {
     "name": "stderr",
     "output_type": "stream",
     "text": [
      "Training:  39%|███▉      | 393/1000 [18:33<27:29,  2.72s/it]"
     ]
    },
    {
     "name": "stdout",
     "output_type": "stream",
     "text": [
      "Baseline Loss: 3.9669 | Actual Loss: 1.0698\n",
      "Epoch 393/1000: Train Loss: 1.9501, Val Loss: 1.0698\n",
      "Baseline Loss: 5.3134 | Actual Loss: 1.9228\n"
     ]
    },
    {
     "name": "stderr",
     "output_type": "stream",
     "text": [
      "Training:  39%|███▉      | 394/1000 [18:35<28:06,  2.78s/it]"
     ]
    },
    {
     "name": "stdout",
     "output_type": "stream",
     "text": [
      "Baseline Loss: 3.9669 | Actual Loss: 1.0798\n",
      "Epoch 394/1000: Train Loss: 1.9228, Val Loss: 1.0798\n"
     ]
    },
    {
     "name": "stderr",
     "output_type": "stream",
     "text": [
      "Training:  40%|███▉      | 395/1000 [18:38<28:27,  2.82s/it]"
     ]
    },
    {
     "name": "stdout",
     "output_type": "stream",
     "text": [
      "Baseline Loss: 5.3134 | Actual Loss: 1.9697\n",
      "Baseline Loss: 3.9669 | Actual Loss: 1.0946\n",
      "Epoch 395/1000: Train Loss: 1.9697, Val Loss: 1.0946\n",
      "Baseline Loss: 5.3134 | Actual Loss: 1.9603\n"
     ]
    },
    {
     "name": "stderr",
     "output_type": "stream",
     "text": [
      "Training:  40%|███▉      | 396/1000 [18:41<28:11,  2.80s/it]"
     ]
    },
    {
     "name": "stdout",
     "output_type": "stream",
     "text": [
      "Baseline Loss: 3.9669 | Actual Loss: 1.1086\n",
      "Epoch 396/1000: Train Loss: 1.9603, Val Loss: 1.1086\n",
      "Baseline Loss: 5.3134 | Actual Loss: 1.9424\n"
     ]
    },
    {
     "name": "stderr",
     "output_type": "stream",
     "text": [
      "Training:  40%|███▉      | 397/1000 [18:44<28:05,  2.80s/it]"
     ]
    },
    {
     "name": "stdout",
     "output_type": "stream",
     "text": [
      "Baseline Loss: 3.9669 | Actual Loss: 1.1125\n",
      "Epoch 397/1000: Train Loss: 1.9424, Val Loss: 1.1125\n"
     ]
    },
    {
     "name": "stderr",
     "output_type": "stream",
     "text": [
      "Training:  40%|███▉      | 398/1000 [18:47<27:23,  2.73s/it]"
     ]
    },
    {
     "name": "stdout",
     "output_type": "stream",
     "text": [
      "Baseline Loss: 5.3134 | Actual Loss: 1.9490\n",
      "Baseline Loss: 3.9669 | Actual Loss: 1.0727\n",
      "Epoch 398/1000: Train Loss: 1.9490, Val Loss: 1.0727\n",
      "Baseline Loss: 5.3134 | Actual Loss: 1.9141\n"
     ]
    },
    {
     "name": "stderr",
     "output_type": "stream",
     "text": [
      "Training:  40%|███▉      | 399/1000 [18:49<27:57,  2.79s/it]"
     ]
    },
    {
     "name": "stdout",
     "output_type": "stream",
     "text": [
      "Baseline Loss: 3.9669 | Actual Loss: 1.0767\n",
      "Epoch 399/1000: Train Loss: 1.9141, Val Loss: 1.0767\n",
      "Baseline Loss: 5.3134 | Actual Loss: 1.9667\n"
     ]
    },
    {
     "name": "stderr",
     "output_type": "stream",
     "text": [
      "Training:  40%|████      | 400/1000 [18:52<28:12,  2.82s/it]"
     ]
    },
    {
     "name": "stdout",
     "output_type": "stream",
     "text": [
      "Baseline Loss: 3.9669 | Actual Loss: 1.0864\n",
      "Epoch 400/1000: Train Loss: 1.9667, Val Loss: 1.0864\n"
     ]
    },
    {
     "name": "stderr",
     "output_type": "stream",
     "text": [
      "Training:  40%|████      | 401/1000 [18:55<27:54,  2.80s/it]"
     ]
    },
    {
     "name": "stdout",
     "output_type": "stream",
     "text": [
      "Baseline Loss: 5.3134 | Actual Loss: 1.9504\n",
      "Baseline Loss: 3.9669 | Actual Loss: 1.1310\n",
      "Epoch 401/1000: Train Loss: 1.9504, Val Loss: 1.1310\n"
     ]
    },
    {
     "name": "stderr",
     "output_type": "stream",
     "text": [
      "Training:  40%|████      | 402/1000 [18:58<27:47,  2.79s/it]"
     ]
    },
    {
     "name": "stdout",
     "output_type": "stream",
     "text": [
      "Baseline Loss: 5.3134 | Actual Loss: 1.9431\n",
      "Baseline Loss: 3.9669 | Actual Loss: 1.1140\n",
      "Epoch 402/1000: Train Loss: 1.9431, Val Loss: 1.1140\n",
      "Baseline Loss: 5.3134 | Actual Loss: 1.9352\n"
     ]
    },
    {
     "name": "stderr",
     "output_type": "stream",
     "text": [
      "Training:  40%|████      | 403/1000 [19:00<27:00,  2.72s/it]"
     ]
    },
    {
     "name": "stdout",
     "output_type": "stream",
     "text": [
      "Baseline Loss: 3.9669 | Actual Loss: 1.0921\n",
      "Epoch 403/1000: Train Loss: 1.9352, Val Loss: 1.0921\n",
      "Baseline Loss: 5.3134 | Actual Loss: 1.9487\n"
     ]
    },
    {
     "name": "stderr",
     "output_type": "stream",
     "text": [
      "Training:  40%|████      | 404/1000 [19:03<27:37,  2.78s/it]"
     ]
    },
    {
     "name": "stdout",
     "output_type": "stream",
     "text": [
      "Baseline Loss: 3.9669 | Actual Loss: 1.0733\n",
      "Epoch 404/1000: Train Loss: 1.9487, Val Loss: 1.0733\n",
      "Baseline Loss: 5.3134 | Actual Loss: 1.9628\n"
     ]
    },
    {
     "name": "stderr",
     "output_type": "stream",
     "text": [
      "Training:  40%|████      | 405/1000 [19:06<27:51,  2.81s/it]"
     ]
    },
    {
     "name": "stdout",
     "output_type": "stream",
     "text": [
      "Baseline Loss: 3.9669 | Actual Loss: 1.1303\n",
      "Epoch 405/1000: Train Loss: 1.9628, Val Loss: 1.1303\n",
      "Baseline Loss: 5.3134 | Actual Loss: 1.9678\n"
     ]
    },
    {
     "name": "stderr",
     "output_type": "stream",
     "text": [
      "Training:  41%|████      | 406/1000 [19:09<27:35,  2.79s/it]"
     ]
    },
    {
     "name": "stdout",
     "output_type": "stream",
     "text": [
      "Baseline Loss: 3.9669 | Actual Loss: 1.1332\n",
      "Epoch 406/1000: Train Loss: 1.9678, Val Loss: 1.1332\n",
      "Baseline Loss: 5.3134 | Actual Loss: 1.9457\n"
     ]
    },
    {
     "name": "stderr",
     "output_type": "stream",
     "text": [
      "Training:  41%|████      | 406/1000 [19:12<28:05,  2.84s/it]"
     ]
    },
    {
     "name": "stdout",
     "output_type": "stream",
     "text": [
      "Baseline Loss: 3.9669 | Actual Loss: 1.1598\n",
      "Epoch 407/1000: Train Loss: 1.9457, Val Loss: 1.1598\n",
      "\n",
      "Early stopping at epoch 407\n"
     ]
    },
    {
     "name": "stderr",
     "output_type": "stream",
     "text": [
      "\n"
     ]
    },
    {
     "data": {
      "text/plain": [
       "1.0261480808258057"
      ]
     },
     "execution_count": 8,
     "metadata": {},
     "output_type": "execute_result"
    }
   ],
   "source": [
    "model1.train_model(\n",
    "    data_list,\n",
    ")"
   ]
  },
  {
   "cell_type": "code",
   "execution_count": 9,
   "id": "35fe71e8",
   "metadata": {},
   "outputs": [],
   "source": [
    "model2 = GNNModelWithNewLoss(\n",
    "        num_node_features=data_list[0].x.shape[1],\n",
    "        num_edge_features=data_list[0].edge_attr.shape[1],\n",
    "        num_global_features=data_list[0].global_features.shape[1],\n",
    "        hidden_dim=512,\n",
    "        dropout_rate=0.1,\n",
    "        property_index=1 ,\n",
    "        save_path= 'premodels_new/3/1'\n",
    "    ).to(devices[0])"
   ]
  },
  {
   "cell_type": "code",
   "execution_count": 10,
   "id": "48b63c56",
   "metadata": {},
   "outputs": [
    {
     "name": "stdout",
     "output_type": "stream",
     "text": [
      "Training will be saved to: premodels_new/3/1\n"
     ]
    },
    {
     "name": "stderr",
     "output_type": "stream",
     "text": [
      "Training:   0%|          | 0/1000 [00:00<?, ?it/s]"
     ]
    },
    {
     "name": "stdout",
     "output_type": "stream",
     "text": [
      "Baseline Loss: 5.3050 | Actual Loss: 5.2739\n"
     ]
    },
    {
     "name": "stderr",
     "output_type": "stream",
     "text": [
      "Training:   0%|          | 1/1000 [00:02<42:49,  2.57s/it]"
     ]
    },
    {
     "name": "stdout",
     "output_type": "stream",
     "text": [
      "Baseline Loss: 3.9465 | Actual Loss: 3.9144\n",
      "Epoch 1/1000: Train Loss: 5.2739, Val Loss: 3.9144\n",
      "New best validation loss: 3.9144\n",
      "Baseline Loss: 5.3050 | Actual Loss: 5.2657\n"
     ]
    },
    {
     "name": "stderr",
     "output_type": "stream",
     "text": [
      "Training:   0%|          | 2/1000 [00:05<46:23,  2.79s/it]"
     ]
    },
    {
     "name": "stdout",
     "output_type": "stream",
     "text": [
      "Baseline Loss: 3.9465 | Actual Loss: 3.8961\n",
      "Epoch 2/1000: Train Loss: 5.2657, Val Loss: 3.8961\n",
      "New best validation loss: 3.8961\n",
      "Baseline Loss: 5.3050 | Actual Loss: 5.2666\n"
     ]
    },
    {
     "name": "stderr",
     "output_type": "stream",
     "text": [
      "Training:   0%|          | 3/1000 [00:08<48:36,  2.93s/it]"
     ]
    },
    {
     "name": "stdout",
     "output_type": "stream",
     "text": [
      "Baseline Loss: 3.9465 | Actual Loss: 3.9069\n",
      "Epoch 3/1000: Train Loss: 5.2666, Val Loss: 3.9069\n",
      "Baseline Loss: 5.3050 | Actual Loss: 5.2665\n"
     ]
    },
    {
     "name": "stderr",
     "output_type": "stream",
     "text": [
      "Training:   0%|          | 4/1000 [00:11<47:49,  2.88s/it]"
     ]
    },
    {
     "name": "stdout",
     "output_type": "stream",
     "text": [
      "Baseline Loss: 3.9465 | Actual Loss: 3.9096\n",
      "Epoch 4/1000: Train Loss: 5.2665, Val Loss: 3.9096\n",
      "Baseline Loss: 5.3050 | Actual Loss: 5.2624\n"
     ]
    },
    {
     "name": "stderr",
     "output_type": "stream",
     "text": [
      "Training:   0%|          | 5/1000 [00:14<48:06,  2.90s/it]"
     ]
    },
    {
     "name": "stdout",
     "output_type": "stream",
     "text": [
      "Baseline Loss: 3.9465 | Actual Loss: 3.8871\n",
      "Epoch 5/1000: Train Loss: 5.2624, Val Loss: 3.8871\n",
      "New best validation loss: 3.8871\n",
      "Baseline Loss: 5.3050 | Actual Loss: 5.2671\n"
     ]
    },
    {
     "name": "stderr",
     "output_type": "stream",
     "text": [
      "Training:   1%|          | 6/1000 [00:17<47:28,  2.87s/it]"
     ]
    },
    {
     "name": "stdout",
     "output_type": "stream",
     "text": [
      "Baseline Loss: 3.9465 | Actual Loss: 3.8909\n",
      "Epoch 6/1000: Train Loss: 5.2671, Val Loss: 3.8909\n",
      "Baseline Loss: 5.3050 | Actual Loss: 5.2548\n"
     ]
    },
    {
     "name": "stderr",
     "output_type": "stream",
     "text": [
      "Training:   1%|          | 7/1000 [00:19<46:11,  2.79s/it]"
     ]
    },
    {
     "name": "stdout",
     "output_type": "stream",
     "text": [
      "Baseline Loss: 3.9465 | Actual Loss: 3.8986\n",
      "Epoch 7/1000: Train Loss: 5.2548, Val Loss: 3.8986\n"
     ]
    },
    {
     "name": "stderr",
     "output_type": "stream",
     "text": [
      "Training:   1%|          | 8/1000 [00:22<46:36,  2.82s/it]"
     ]
    },
    {
     "name": "stdout",
     "output_type": "stream",
     "text": [
      "Baseline Loss: 5.3050 | Actual Loss: 5.2450\n",
      "Baseline Loss: 3.9465 | Actual Loss: 3.8914\n",
      "Epoch 8/1000: Train Loss: 5.2450, Val Loss: 3.8914\n",
      "Baseline Loss: 5.3050 | Actual Loss: 5.2367\n",
      "Baseline Loss: 3.9465 | Actual Loss: 3.8719\n",
      "Epoch 9/1000: Train Loss: 5.2367, Val Loss: 3.8719\n",
      "New best validation loss: 3.8719\n"
     ]
    },
    {
     "name": "stderr",
     "output_type": "stream",
     "text": [
      "Training:   1%|          | 10/1000 [00:28<46:10,  2.80s/it]"
     ]
    },
    {
     "name": "stdout",
     "output_type": "stream",
     "text": [
      "Baseline Loss: 5.3050 | Actual Loss: 5.2453\n",
      "Baseline Loss: 3.9465 | Actual Loss: 3.8634\n",
      "Epoch 10/1000: Train Loss: 5.2453, Val Loss: 3.8634\n",
      "New best validation loss: 3.8634\n"
     ]
    },
    {
     "name": "stderr",
     "output_type": "stream",
     "text": [
      "Training:   1%|          | 11/1000 [00:31<46:34,  2.83s/it]"
     ]
    },
    {
     "name": "stdout",
     "output_type": "stream",
     "text": [
      "Baseline Loss: 5.3050 | Actual Loss: 5.2344\n",
      "Baseline Loss: 3.9465 | Actual Loss: 3.8695\n",
      "Epoch 11/1000: Train Loss: 5.2344, Val Loss: 3.8695\n",
      "Baseline Loss: 5.3050 | Actual Loss: 5.2284\n"
     ]
    },
    {
     "name": "stderr",
     "output_type": "stream",
     "text": [
      "Training:   1%|          | 12/1000 [00:34<47:19,  2.87s/it]"
     ]
    },
    {
     "name": "stdout",
     "output_type": "stream",
     "text": [
      "Baseline Loss: 3.9465 | Actual Loss: 3.8609\n",
      "Epoch 12/1000: Train Loss: 5.2284, Val Loss: 3.8609\n",
      "New best validation loss: 3.8609\n"
     ]
    },
    {
     "name": "stderr",
     "output_type": "stream",
     "text": [
      "Training:   1%|▏         | 13/1000 [00:37<47:41,  2.90s/it]"
     ]
    },
    {
     "name": "stdout",
     "output_type": "stream",
     "text": [
      "Baseline Loss: 5.3051 | Actual Loss: 5.2141\n",
      "Baseline Loss: 3.9465 | Actual Loss: 3.8618\n",
      "Epoch 13/1000: Train Loss: 5.2141, Val Loss: 3.8618\n",
      "Baseline Loss: 5.3050 | Actual Loss: 5.2181\n"
     ]
    },
    {
     "name": "stderr",
     "output_type": "stream",
     "text": [
      "Training:   1%|▏         | 14/1000 [00:39<47:11,  2.87s/it]"
     ]
    },
    {
     "name": "stdout",
     "output_type": "stream",
     "text": [
      "Baseline Loss: 3.9465 | Actual Loss: 3.8249\n",
      "Epoch 14/1000: Train Loss: 5.2181, Val Loss: 3.8249\n",
      "New best validation loss: 3.8249\n",
      "Baseline Loss: 5.3050 | Actual Loss: 5.2097\n"
     ]
    },
    {
     "name": "stderr",
     "output_type": "stream",
     "text": [
      "Training:   2%|▏         | 15/1000 [00:42<46:52,  2.86s/it]"
     ]
    },
    {
     "name": "stdout",
     "output_type": "stream",
     "text": [
      "Baseline Loss: 3.9465 | Actual Loss: 3.8253\n",
      "Epoch 15/1000: Train Loss: 5.2097, Val Loss: 3.8253\n"
     ]
    },
    {
     "name": "stderr",
     "output_type": "stream",
     "text": [
      "Training:   2%|▏         | 16/1000 [00:45<45:39,  2.78s/it]"
     ]
    },
    {
     "name": "stdout",
     "output_type": "stream",
     "text": [
      "Baseline Loss: 5.3050 | Actual Loss: 5.2165\n",
      "Baseline Loss: 3.9465 | Actual Loss: 3.8457\n",
      "Epoch 16/1000: Train Loss: 5.2165, Val Loss: 3.8457\n"
     ]
    },
    {
     "name": "stderr",
     "output_type": "stream",
     "text": [
      "Training:   2%|▏         | 17/1000 [00:48<46:37,  2.85s/it]"
     ]
    },
    {
     "name": "stdout",
     "output_type": "stream",
     "text": [
      "Baseline Loss: 5.3050 | Actual Loss: 5.2079\n",
      "Baseline Loss: 3.9465 | Actual Loss: 3.8291\n",
      "Epoch 17/1000: Train Loss: 5.2079, Val Loss: 3.8291\n"
     ]
    },
    {
     "name": "stderr",
     "output_type": "stream",
     "text": [
      "Training:   2%|▏         | 18/1000 [00:51<45:58,  2.81s/it]"
     ]
    },
    {
     "name": "stdout",
     "output_type": "stream",
     "text": [
      "Baseline Loss: 5.3050 | Actual Loss: 5.1965\n",
      "Baseline Loss: 3.9465 | Actual Loss: 3.8427\n",
      "Epoch 18/1000: Train Loss: 5.1965, Val Loss: 3.8427\n",
      "Baseline Loss: 5.3050 | Actual Loss: 5.1803\n"
     ]
    },
    {
     "name": "stderr",
     "output_type": "stream",
     "text": [
      "Training:   2%|▏         | 19/1000 [00:54<47:00,  2.88s/it]"
     ]
    },
    {
     "name": "stdout",
     "output_type": "stream",
     "text": [
      "Baseline Loss: 3.9465 | Actual Loss: 3.8124\n",
      "Epoch 19/1000: Train Loss: 5.1803, Val Loss: 3.8124\n",
      "New best validation loss: 3.8124\n",
      "Baseline Loss: 5.3050 | Actual Loss: 5.1912\n"
     ]
    },
    {
     "name": "stderr",
     "output_type": "stream",
     "text": [
      "Training:   2%|▏         | 20/1000 [00:57<47:41,  2.92s/it]"
     ]
    },
    {
     "name": "stdout",
     "output_type": "stream",
     "text": [
      "Baseline Loss: 3.9465 | Actual Loss: 3.8378\n",
      "Epoch 20/1000: Train Loss: 5.1912, Val Loss: 3.8378\n",
      "Baseline Loss: 5.3050 | Actual Loss: 5.1658\n"
     ]
    },
    {
     "name": "stderr",
     "output_type": "stream",
     "text": [
      "Training:   2%|▏         | 21/1000 [00:59<47:36,  2.92s/it]"
     ]
    },
    {
     "name": "stdout",
     "output_type": "stream",
     "text": [
      "Baseline Loss: 3.9465 | Actual Loss: 3.8028\n",
      "Epoch 21/1000: Train Loss: 5.1658, Val Loss: 3.8028\n",
      "New best validation loss: 3.8028\n"
     ]
    },
    {
     "name": "stderr",
     "output_type": "stream",
     "text": [
      "Training:   2%|▏         | 22/1000 [01:02<46:54,  2.88s/it]"
     ]
    },
    {
     "name": "stdout",
     "output_type": "stream",
     "text": [
      "Baseline Loss: 5.3050 | Actual Loss: 5.1664\n",
      "Baseline Loss: 3.9465 | Actual Loss: 3.7863\n",
      "Epoch 22/1000: Train Loss: 5.1664, Val Loss: 3.7863\n",
      "New best validation loss: 3.7863\n"
     ]
    },
    {
     "name": "stderr",
     "output_type": "stream",
     "text": [
      "Training:   2%|▏         | 23/1000 [01:05<46:34,  2.86s/it]"
     ]
    },
    {
     "name": "stdout",
     "output_type": "stream",
     "text": [
      "Baseline Loss: 5.3050 | Actual Loss: 5.1564\n",
      "Baseline Loss: 3.9465 | Actual Loss: 3.7813\n",
      "Epoch 23/1000: Train Loss: 5.1564, Val Loss: 3.7813\n",
      "New best validation loss: 3.7813\n"
     ]
    },
    {
     "name": "stderr",
     "output_type": "stream",
     "text": [
      "Training:   2%|▏         | 24/1000 [01:08<45:09,  2.78s/it]"
     ]
    },
    {
     "name": "stdout",
     "output_type": "stream",
     "text": [
      "Baseline Loss: 5.3050 | Actual Loss: 5.1367\n",
      "Baseline Loss: 3.9465 | Actual Loss: 3.7949\n",
      "Epoch 24/1000: Train Loss: 5.1367, Val Loss: 3.7949\n",
      "Baseline Loss: 5.3050 | Actual Loss: 5.1447\n"
     ]
    },
    {
     "name": "stderr",
     "output_type": "stream",
     "text": [
      "Training:   2%|▎         | 25/1000 [01:11<46:12,  2.84s/it]"
     ]
    },
    {
     "name": "stdout",
     "output_type": "stream",
     "text": [
      "Baseline Loss: 3.9465 | Actual Loss: 3.8051\n",
      "Epoch 25/1000: Train Loss: 5.1447, Val Loss: 3.8051\n",
      "Baseline Loss: 5.3050 | Actual Loss: 5.1131\n"
     ]
    },
    {
     "name": "stderr",
     "output_type": "stream",
     "text": [
      "Training:   3%|▎         | 26/1000 [01:14<47:02,  2.90s/it]"
     ]
    },
    {
     "name": "stdout",
     "output_type": "stream",
     "text": [
      "Baseline Loss: 3.9465 | Actual Loss: 3.7771\n",
      "Epoch 26/1000: Train Loss: 5.1131, Val Loss: 3.7771\n",
      "New best validation loss: 3.7771\n"
     ]
    },
    {
     "name": "stderr",
     "output_type": "stream",
     "text": [
      "Training:   3%|▎         | 27/1000 [01:17<46:45,  2.88s/it]"
     ]
    },
    {
     "name": "stdout",
     "output_type": "stream",
     "text": [
      "Baseline Loss: 5.3050 | Actual Loss: 5.0942\n",
      "Baseline Loss: 3.9465 | Actual Loss: 3.7205\n",
      "Epoch 27/1000: Train Loss: 5.0942, Val Loss: 3.7205\n",
      "New best validation loss: 3.7205\n"
     ]
    },
    {
     "name": "stderr",
     "output_type": "stream",
     "text": [
      "Training:   3%|▎         | 28/1000 [01:19<46:28,  2.87s/it]"
     ]
    },
    {
     "name": "stdout",
     "output_type": "stream",
     "text": [
      "Baseline Loss: 5.3050 | Actual Loss: 5.0977\n",
      "Baseline Loss: 3.9465 | Actual Loss: 3.7446\n",
      "Epoch 28/1000: Train Loss: 5.0977, Val Loss: 3.7446\n",
      "Baseline Loss: 5.3050 | Actual Loss: 5.0691\n"
     ]
    },
    {
     "name": "stderr",
     "output_type": "stream",
     "text": [
      "Training:   3%|▎         | 29/1000 [01:22<45:12,  2.79s/it]"
     ]
    },
    {
     "name": "stdout",
     "output_type": "stream",
     "text": [
      "Baseline Loss: 3.9465 | Actual Loss: 3.7093\n",
      "Epoch 29/1000: Train Loss: 5.0691, Val Loss: 3.7093\n",
      "New best validation loss: 3.7093\n",
      "Baseline Loss: 5.3050 | Actual Loss: 5.0720\n"
     ]
    },
    {
     "name": "stderr",
     "output_type": "stream",
     "text": [
      "Training:   3%|▎         | 30/1000 [01:25<46:02,  2.85s/it]"
     ]
    },
    {
     "name": "stdout",
     "output_type": "stream",
     "text": [
      "Baseline Loss: 3.9465 | Actual Loss: 3.7006\n",
      "Epoch 30/1000: Train Loss: 5.0720, Val Loss: 3.7006\n",
      "New best validation loss: 3.7006\n",
      "Baseline Loss: 5.3050 | Actual Loss: 5.0574\n"
     ]
    },
    {
     "name": "stderr",
     "output_type": "stream",
     "text": [
      "Training:   3%|▎         | 31/1000 [01:28<46:39,  2.89s/it]"
     ]
    },
    {
     "name": "stdout",
     "output_type": "stream",
     "text": [
      "Baseline Loss: 3.9465 | Actual Loss: 3.6652\n",
      "Epoch 31/1000: Train Loss: 5.0574, Val Loss: 3.6652\n",
      "New best validation loss: 3.6652\n"
     ]
    },
    {
     "name": "stderr",
     "output_type": "stream",
     "text": [
      "Training:   3%|▎         | 32/1000 [01:31<46:02,  2.85s/it]"
     ]
    },
    {
     "name": "stdout",
     "output_type": "stream",
     "text": [
      "Baseline Loss: 5.3050 | Actual Loss: 5.0356\n",
      "Baseline Loss: 3.9465 | Actual Loss: 3.6938\n",
      "Epoch 32/1000: Train Loss: 5.0356, Val Loss: 3.6938\n"
     ]
    },
    {
     "name": "stderr",
     "output_type": "stream",
     "text": [
      "Training:   3%|▎         | 33/1000 [01:34<45:40,  2.83s/it]"
     ]
    },
    {
     "name": "stdout",
     "output_type": "stream",
     "text": [
      "Baseline Loss: 5.3050 | Actual Loss: 5.0301\n",
      "Baseline Loss: 3.9465 | Actual Loss: 3.7118\n",
      "Epoch 33/1000: Train Loss: 5.0301, Val Loss: 3.7118\n"
     ]
    },
    {
     "name": "stderr",
     "output_type": "stream",
     "text": [
      "Training:   3%|▎         | 34/1000 [01:36<44:18,  2.75s/it]"
     ]
    },
    {
     "name": "stdout",
     "output_type": "stream",
     "text": [
      "Baseline Loss: 5.3050 | Actual Loss: 5.0061\n",
      "Baseline Loss: 3.9465 | Actual Loss: 3.6101\n",
      "Epoch 34/1000: Train Loss: 5.0061, Val Loss: 3.6101\n",
      "New best validation loss: 3.6101\n",
      "Baseline Loss: 5.3050 | Actual Loss: 4.9664\n"
     ]
    },
    {
     "name": "stderr",
     "output_type": "stream",
     "text": [
      "Training:   4%|▎         | 35/1000 [01:39<45:25,  2.82s/it]"
     ]
    },
    {
     "name": "stdout",
     "output_type": "stream",
     "text": [
      "Baseline Loss: 3.9465 | Actual Loss: 3.5869\n",
      "Epoch 35/1000: Train Loss: 4.9664, Val Loss: 3.5869\n",
      "New best validation loss: 3.5869\n"
     ]
    },
    {
     "name": "stderr",
     "output_type": "stream",
     "text": [
      "Training:   4%|▎         | 36/1000 [01:42<45:52,  2.86s/it]"
     ]
    },
    {
     "name": "stdout",
     "output_type": "stream",
     "text": [
      "Baseline Loss: 5.3050 | Actual Loss: 4.9678\n",
      "Baseline Loss: 3.9465 | Actual Loss: 3.6163\n",
      "Epoch 36/1000: Train Loss: 4.9678, Val Loss: 3.6163\n"
     ]
    },
    {
     "name": "stderr",
     "output_type": "stream",
     "text": [
      "Training:   4%|▎         | 37/1000 [01:45<45:33,  2.84s/it]"
     ]
    },
    {
     "name": "stdout",
     "output_type": "stream",
     "text": [
      "Baseline Loss: 5.3050 | Actual Loss: 4.9472\n",
      "Baseline Loss: 3.9465 | Actual Loss: 3.5411\n",
      "Epoch 37/1000: Train Loss: 4.9472, Val Loss: 3.5411\n",
      "New best validation loss: 3.5411\n"
     ]
    },
    {
     "name": "stderr",
     "output_type": "stream",
     "text": [
      "Training:   4%|▍         | 38/1000 [01:48<45:17,  2.82s/it]"
     ]
    },
    {
     "name": "stdout",
     "output_type": "stream",
     "text": [
      "Baseline Loss: 5.3050 | Actual Loss: 4.9346\n",
      "Baseline Loss: 3.9465 | Actual Loss: 3.5578\n",
      "Epoch 38/1000: Train Loss: 4.9346, Val Loss: 3.5578\n"
     ]
    },
    {
     "name": "stderr",
     "output_type": "stream",
     "text": [
      "Training:   4%|▍         | 39/1000 [01:50<44:02,  2.75s/it]"
     ]
    },
    {
     "name": "stdout",
     "output_type": "stream",
     "text": [
      "Baseline Loss: 5.3050 | Actual Loss: 4.9157\n",
      "Baseline Loss: 3.9465 | Actual Loss: 3.5516\n",
      "Epoch 39/1000: Train Loss: 4.9157, Val Loss: 3.5516\n",
      "Baseline Loss: 5.3050 | Actual Loss: 4.8737\n"
     ]
    },
    {
     "name": "stderr",
     "output_type": "stream",
     "text": [
      "Training:   4%|▍         | 40/1000 [01:53<45:22,  2.84s/it]"
     ]
    },
    {
     "name": "stdout",
     "output_type": "stream",
     "text": [
      "Baseline Loss: 3.9465 | Actual Loss: 3.4973\n",
      "Epoch 40/1000: Train Loss: 4.8737, Val Loss: 3.4973\n",
      "New best validation loss: 3.4973\n"
     ]
    },
    {
     "name": "stderr",
     "output_type": "stream",
     "text": [
      "Training:   4%|▍         | 41/1000 [01:56<46:05,  2.88s/it]"
     ]
    },
    {
     "name": "stdout",
     "output_type": "stream",
     "text": [
      "Baseline Loss: 5.3050 | Actual Loss: 4.8547\n",
      "Baseline Loss: 3.9465 | Actual Loss: 3.4436\n",
      "Epoch 41/1000: Train Loss: 4.8547, Val Loss: 3.4436\n",
      "New best validation loss: 3.4436\n",
      "Baseline Loss: 5.3050 | Actual Loss: 4.8554\n"
     ]
    },
    {
     "name": "stderr",
     "output_type": "stream",
     "text": [
      "Training:   4%|▍         | 42/1000 [01:59<47:14,  2.96s/it]"
     ]
    },
    {
     "name": "stdout",
     "output_type": "stream",
     "text": [
      "Baseline Loss: 3.9465 | Actual Loss: 3.4367\n",
      "Epoch 42/1000: Train Loss: 4.8554, Val Loss: 3.4367\n",
      "New best validation loss: 3.4367\n",
      "Baseline Loss: 5.3050 | Actual Loss: 4.7844\n"
     ]
    },
    {
     "name": "stderr",
     "output_type": "stream",
     "text": [
      "Training:   4%|▍         | 43/1000 [02:02<46:46,  2.93s/it]"
     ]
    },
    {
     "name": "stdout",
     "output_type": "stream",
     "text": [
      "Baseline Loss: 3.9465 | Actual Loss: 3.3261\n",
      "Epoch 43/1000: Train Loss: 4.7844, Val Loss: 3.3261\n",
      "New best validation loss: 3.3261\n"
     ]
    },
    {
     "name": "stderr",
     "output_type": "stream",
     "text": [
      "Training:   4%|▍         | 44/1000 [02:05<45:04,  2.83s/it]"
     ]
    },
    {
     "name": "stdout",
     "output_type": "stream",
     "text": [
      "Baseline Loss: 5.3050 | Actual Loss: 4.7110\n",
      "Baseline Loss: 3.9465 | Actual Loss: 3.3966\n",
      "Epoch 44/1000: Train Loss: 4.7110, Val Loss: 3.3966\n",
      "Baseline Loss: 5.3050 | Actual Loss: 4.7253\n"
     ]
    },
    {
     "name": "stderr",
     "output_type": "stream",
     "text": [
      "Training:   4%|▍         | 45/1000 [02:08<46:15,  2.91s/it]"
     ]
    },
    {
     "name": "stdout",
     "output_type": "stream",
     "text": [
      "Baseline Loss: 3.9465 | Actual Loss: 3.4627\n",
      "Epoch 45/1000: Train Loss: 4.7253, Val Loss: 3.4627\n"
     ]
    },
    {
     "name": "stderr",
     "output_type": "stream",
     "text": [
      "Training:   5%|▍         | 46/1000 [02:11<46:15,  2.91s/it]"
     ]
    },
    {
     "name": "stdout",
     "output_type": "stream",
     "text": [
      "Baseline Loss: 5.3050 | Actual Loss: 4.6690\n",
      "Baseline Loss: 3.9465 | Actual Loss: 3.2788\n",
      "Epoch 46/1000: Train Loss: 4.6690, Val Loss: 3.2788\n",
      "New best validation loss: 3.2788\n",
      "Baseline Loss: 5.3050 | Actual Loss: 4.6408\n"
     ]
    },
    {
     "name": "stderr",
     "output_type": "stream",
     "text": [
      "Training:   5%|▍         | 47/1000 [02:14<45:58,  2.89s/it]"
     ]
    },
    {
     "name": "stdout",
     "output_type": "stream",
     "text": [
      "Baseline Loss: 3.9465 | Actual Loss: 3.3436\n",
      "Epoch 47/1000: Train Loss: 4.6408, Val Loss: 3.3436\n"
     ]
    },
    {
     "name": "stderr",
     "output_type": "stream",
     "text": [
      "Training:   5%|▍         | 48/1000 [02:16<45:38,  2.88s/it]"
     ]
    },
    {
     "name": "stdout",
     "output_type": "stream",
     "text": [
      "Baseline Loss: 5.3050 | Actual Loss: 4.5872\n",
      "Baseline Loss: 3.9465 | Actual Loss: 3.2991\n",
      "Epoch 48/1000: Train Loss: 4.5872, Val Loss: 3.2991\n"
     ]
    },
    {
     "name": "stderr",
     "output_type": "stream",
     "text": [
      "Training:   5%|▍         | 49/1000 [02:19<44:08,  2.78s/it]"
     ]
    },
    {
     "name": "stdout",
     "output_type": "stream",
     "text": [
      "Baseline Loss: 5.3050 | Actual Loss: 4.6065\n",
      "Baseline Loss: 3.9465 | Actual Loss: 3.2793\n",
      "Epoch 49/1000: Train Loss: 4.6065, Val Loss: 3.2793\n",
      "Baseline Loss: 5.3050 | Actual Loss: 4.5211\n"
     ]
    },
    {
     "name": "stderr",
     "output_type": "stream",
     "text": [
      "Training:   5%|▌         | 50/1000 [02:22<45:02,  2.84s/it]"
     ]
    },
    {
     "name": "stdout",
     "output_type": "stream",
     "text": [
      "Baseline Loss: 3.9465 | Actual Loss: 3.3113\n",
      "Epoch 50/1000: Train Loss: 4.5211, Val Loss: 3.3113\n",
      "Baseline Loss: 5.3051 | Actual Loss: 4.5682\n"
     ]
    },
    {
     "name": "stderr",
     "output_type": "stream",
     "text": [
      "Training:   5%|▌         | 51/1000 [02:25<45:25,  2.87s/it]"
     ]
    },
    {
     "name": "stdout",
     "output_type": "stream",
     "text": [
      "Baseline Loss: 3.9465 | Actual Loss: 3.2364\n",
      "Epoch 51/1000: Train Loss: 4.5682, Val Loss: 3.2364\n",
      "New best validation loss: 3.2364\n"
     ]
    },
    {
     "name": "stderr",
     "output_type": "stream",
     "text": [
      "Training:   5%|▌         | 52/1000 [02:28<45:02,  2.85s/it]"
     ]
    },
    {
     "name": "stdout",
     "output_type": "stream",
     "text": [
      "Baseline Loss: 5.3050 | Actual Loss: 4.4961\n",
      "Baseline Loss: 3.9465 | Actual Loss: 3.1214\n",
      "Epoch 52/1000: Train Loss: 4.4961, Val Loss: 3.1214\n",
      "New best validation loss: 3.1214\n",
      "Baseline Loss: 5.3050 | Actual Loss: 4.4170\n",
      "Baseline Loss: 3.9465 | Actual Loss: 3.0702\n",
      "Epoch 53/1000: Train Loss: 4.4170, Val Loss: 3.0702\n",
      "New best validation loss: 3.0702\n"
     ]
    },
    {
     "name": "stderr",
     "output_type": "stream",
     "text": [
      "Training:   5%|▌         | 54/1000 [02:33<43:33,  2.76s/it]"
     ]
    },
    {
     "name": "stdout",
     "output_type": "stream",
     "text": [
      "Baseline Loss: 5.3051 | Actual Loss: 4.3917\n",
      "Baseline Loss: 3.9465 | Actual Loss: 3.1468\n",
      "Epoch 54/1000: Train Loss: 4.3917, Val Loss: 3.1468\n",
      "Baseline Loss: 5.3050 | Actual Loss: 4.3921\n"
     ]
    },
    {
     "name": "stderr",
     "output_type": "stream",
     "text": [
      "Training:   6%|▌         | 55/1000 [02:37<46:26,  2.95s/it]"
     ]
    },
    {
     "name": "stdout",
     "output_type": "stream",
     "text": [
      "Baseline Loss: 3.9465 | Actual Loss: 3.0926\n",
      "Epoch 55/1000: Train Loss: 4.3921, Val Loss: 3.0926\n"
     ]
    },
    {
     "name": "stderr",
     "output_type": "stream",
     "text": [
      "Training:   6%|▌         | 56/1000 [02:39<46:15,  2.94s/it]"
     ]
    },
    {
     "name": "stdout",
     "output_type": "stream",
     "text": [
      "Baseline Loss: 5.3050 | Actual Loss: 4.3521\n",
      "Baseline Loss: 3.9465 | Actual Loss: 3.0896\n",
      "Epoch 56/1000: Train Loss: 4.3521, Val Loss: 3.0896\n"
     ]
    },
    {
     "name": "stderr",
     "output_type": "stream",
     "text": [
      "Training:   6%|▌         | 57/1000 [02:42<45:44,  2.91s/it]"
     ]
    },
    {
     "name": "stdout",
     "output_type": "stream",
     "text": [
      "Baseline Loss: 5.3050 | Actual Loss: 4.3665\n",
      "Baseline Loss: 3.9465 | Actual Loss: 2.9635\n",
      "Epoch 57/1000: Train Loss: 4.3665, Val Loss: 2.9635\n",
      "New best validation loss: 2.9635\n"
     ]
    },
    {
     "name": "stderr",
     "output_type": "stream",
     "text": [
      "Training:   6%|▌         | 58/1000 [02:45<45:11,  2.88s/it]"
     ]
    },
    {
     "name": "stdout",
     "output_type": "stream",
     "text": [
      "Baseline Loss: 5.3050 | Actual Loss: 4.3667\n",
      "Baseline Loss: 3.9465 | Actual Loss: 3.0459\n",
      "Epoch 58/1000: Train Loss: 4.3667, Val Loss: 3.0459\n"
     ]
    },
    {
     "name": "stderr",
     "output_type": "stream",
     "text": [
      "Training:   6%|▌         | 59/1000 [02:48<43:47,  2.79s/it]"
     ]
    },
    {
     "name": "stdout",
     "output_type": "stream",
     "text": [
      "Baseline Loss: 5.3050 | Actual Loss: 4.3316\n",
      "Baseline Loss: 3.9465 | Actual Loss: 3.0402\n",
      "Epoch 59/1000: Train Loss: 4.3316, Val Loss: 3.0402\n",
      "Baseline Loss: 5.3050 | Actual Loss: 4.2510\n"
     ]
    },
    {
     "name": "stderr",
     "output_type": "stream",
     "text": [
      "Training:   6%|▌         | 60/1000 [02:51<44:52,  2.86s/it]"
     ]
    },
    {
     "name": "stdout",
     "output_type": "stream",
     "text": [
      "Baseline Loss: 3.9465 | Actual Loss: 3.0192\n",
      "Epoch 60/1000: Train Loss: 4.2510, Val Loss: 3.0192\n"
     ]
    },
    {
     "name": "stderr",
     "output_type": "stream",
     "text": [
      "Training:   6%|▌         | 61/1000 [02:54<45:12,  2.89s/it]"
     ]
    },
    {
     "name": "stdout",
     "output_type": "stream",
     "text": [
      "Baseline Loss: 5.3050 | Actual Loss: 4.2418\n",
      "Baseline Loss: 3.9465 | Actual Loss: 3.0259\n",
      "Epoch 61/1000: Train Loss: 4.2418, Val Loss: 3.0259\n"
     ]
    },
    {
     "name": "stderr",
     "output_type": "stream",
     "text": [
      "Training:   6%|▌         | 62/1000 [02:57<45:21,  2.90s/it]"
     ]
    },
    {
     "name": "stdout",
     "output_type": "stream",
     "text": [
      "Baseline Loss: 5.3050 | Actual Loss: 4.3419\n",
      "Baseline Loss: 3.9465 | Actual Loss: 2.9709\n",
      "Epoch 62/1000: Train Loss: 4.3419, Val Loss: 2.9709\n"
     ]
    },
    {
     "name": "stderr",
     "output_type": "stream",
     "text": [
      "Training:   6%|▋         | 63/1000 [02:59<44:46,  2.87s/it]"
     ]
    },
    {
     "name": "stdout",
     "output_type": "stream",
     "text": [
      "Baseline Loss: 5.3050 | Actual Loss: 4.2235\n",
      "Baseline Loss: 3.9465 | Actual Loss: 2.8815\n",
      "Epoch 63/1000: Train Loss: 4.2235, Val Loss: 2.8815\n",
      "New best validation loss: 2.8815\n"
     ]
    },
    {
     "name": "stderr",
     "output_type": "stream",
     "text": [
      "Training:   6%|▋         | 64/1000 [03:02<43:25,  2.78s/it]"
     ]
    },
    {
     "name": "stdout",
     "output_type": "stream",
     "text": [
      "Baseline Loss: 5.3050 | Actual Loss: 4.2278\n",
      "Baseline Loss: 3.9465 | Actual Loss: 2.9491\n",
      "Epoch 64/1000: Train Loss: 4.2278, Val Loss: 2.9491\n",
      "Baseline Loss: 5.3050 | Actual Loss: 4.1467\n"
     ]
    },
    {
     "name": "stderr",
     "output_type": "stream",
     "text": [
      "Training:   6%|▋         | 65/1000 [03:05<44:25,  2.85s/it]"
     ]
    },
    {
     "name": "stdout",
     "output_type": "stream",
     "text": [
      "Baseline Loss: 3.9465 | Actual Loss: 3.0399\n",
      "Epoch 65/1000: Train Loss: 4.1467, Val Loss: 3.0399\n"
     ]
    },
    {
     "name": "stderr",
     "output_type": "stream",
     "text": [
      "Training:   7%|▋         | 66/1000 [03:08<44:35,  2.86s/it]"
     ]
    },
    {
     "name": "stdout",
     "output_type": "stream",
     "text": [
      "Baseline Loss: 5.3050 | Actual Loss: 4.2026\n",
      "Baseline Loss: 3.9465 | Actual Loss: 2.9079\n",
      "Epoch 66/1000: Train Loss: 4.2026, Val Loss: 2.9079\n"
     ]
    },
    {
     "name": "stderr",
     "output_type": "stream",
     "text": [
      "Training:   7%|▋         | 67/1000 [03:11<44:21,  2.85s/it]"
     ]
    },
    {
     "name": "stdout",
     "output_type": "stream",
     "text": [
      "Baseline Loss: 5.3050 | Actual Loss: 4.1878\n",
      "Baseline Loss: 3.9465 | Actual Loss: 2.8172\n",
      "Epoch 67/1000: Train Loss: 4.1878, Val Loss: 2.8172\n",
      "New best validation loss: 2.8172\n"
     ]
    },
    {
     "name": "stderr",
     "output_type": "stream",
     "text": [
      "Training:   7%|▋         | 68/1000 [03:14<44:13,  2.85s/it]"
     ]
    },
    {
     "name": "stdout",
     "output_type": "stream",
     "text": [
      "Baseline Loss: 5.3050 | Actual Loss: 4.0983\n",
      "Baseline Loss: 3.9465 | Actual Loss: 2.8412\n",
      "Epoch 68/1000: Train Loss: 4.0983, Val Loss: 2.8412\n"
     ]
    },
    {
     "name": "stderr",
     "output_type": "stream",
     "text": [
      "Training:   7%|▋         | 69/1000 [03:16<43:14,  2.79s/it]"
     ]
    },
    {
     "name": "stdout",
     "output_type": "stream",
     "text": [
      "Baseline Loss: 5.3050 | Actual Loss: 4.1173\n",
      "Baseline Loss: 3.9465 | Actual Loss: 2.8220\n",
      "Epoch 69/1000: Train Loss: 4.1173, Val Loss: 2.8220\n",
      "Baseline Loss: 5.3050 | Actual Loss: 4.0671\n"
     ]
    },
    {
     "name": "stderr",
     "output_type": "stream",
     "text": [
      "Training:   7%|▋         | 70/1000 [03:19<44:16,  2.86s/it]"
     ]
    },
    {
     "name": "stdout",
     "output_type": "stream",
     "text": [
      "Baseline Loss: 3.9465 | Actual Loss: 2.8493\n",
      "Epoch 70/1000: Train Loss: 4.0671, Val Loss: 2.8493\n"
     ]
    },
    {
     "name": "stderr",
     "output_type": "stream",
     "text": [
      "Training:   7%|▋         | 71/1000 [03:22<44:59,  2.91s/it]"
     ]
    },
    {
     "name": "stdout",
     "output_type": "stream",
     "text": [
      "Baseline Loss: 5.3050 | Actual Loss: 4.0885\n",
      "Baseline Loss: 3.9465 | Actual Loss: 2.8015\n",
      "Epoch 71/1000: Train Loss: 4.0885, Val Loss: 2.8015\n",
      "New best validation loss: 2.8015\n"
     ]
    },
    {
     "name": "stderr",
     "output_type": "stream",
     "text": [
      "Training:   7%|▋         | 72/1000 [03:25<44:26,  2.87s/it]"
     ]
    },
    {
     "name": "stdout",
     "output_type": "stream",
     "text": [
      "Baseline Loss: 5.3050 | Actual Loss: 4.0171\n",
      "Baseline Loss: 3.9465 | Actual Loss: 2.7830\n",
      "Epoch 72/1000: Train Loss: 4.0171, Val Loss: 2.7830\n",
      "New best validation loss: 2.7830\n"
     ]
    },
    {
     "name": "stderr",
     "output_type": "stream",
     "text": [
      "Training:   7%|▋         | 73/1000 [03:28<43:58,  2.85s/it]"
     ]
    },
    {
     "name": "stdout",
     "output_type": "stream",
     "text": [
      "Baseline Loss: 5.3050 | Actual Loss: 4.0743\n",
      "Baseline Loss: 3.9465 | Actual Loss: 2.7602\n",
      "Epoch 73/1000: Train Loss: 4.0743, Val Loss: 2.7602\n",
      "New best validation loss: 2.7602\n"
     ]
    },
    {
     "name": "stderr",
     "output_type": "stream",
     "text": [
      "Training:   7%|▋         | 74/1000 [03:30<42:37,  2.76s/it]"
     ]
    },
    {
     "name": "stdout",
     "output_type": "stream",
     "text": [
      "Baseline Loss: 5.3050 | Actual Loss: 4.0316\n",
      "Baseline Loss: 3.9465 | Actual Loss: 2.7938\n",
      "Epoch 74/1000: Train Loss: 4.0316, Val Loss: 2.7938\n",
      "Baseline Loss: 5.3050 | Actual Loss: 4.0445\n"
     ]
    },
    {
     "name": "stderr",
     "output_type": "stream",
     "text": [
      "Training:   8%|▊         | 75/1000 [03:34<46:01,  2.99s/it]"
     ]
    },
    {
     "name": "stdout",
     "output_type": "stream",
     "text": [
      "Baseline Loss: 3.9465 | Actual Loss: 2.7918\n",
      "Epoch 75/1000: Train Loss: 4.0445, Val Loss: 2.7918\n"
     ]
    },
    {
     "name": "stderr",
     "output_type": "stream",
     "text": [
      "Training:   8%|▊         | 76/1000 [03:37<46:00,  2.99s/it]"
     ]
    },
    {
     "name": "stdout",
     "output_type": "stream",
     "text": [
      "Baseline Loss: 5.3050 | Actual Loss: 3.9414\n",
      "Baseline Loss: 3.9465 | Actual Loss: 2.7960\n",
      "Epoch 76/1000: Train Loss: 3.9414, Val Loss: 2.7960\n",
      "Baseline Loss: 5.3050 | Actual Loss: 3.9600\n"
     ]
    },
    {
     "name": "stderr",
     "output_type": "stream",
     "text": [
      "Training:   8%|▊         | 77/1000 [03:40<44:56,  2.92s/it]"
     ]
    },
    {
     "name": "stdout",
     "output_type": "stream",
     "text": [
      "Baseline Loss: 3.9465 | Actual Loss: 2.8784\n",
      "Epoch 77/1000: Train Loss: 3.9600, Val Loss: 2.8784\n"
     ]
    },
    {
     "name": "stderr",
     "output_type": "stream",
     "text": [
      "Training:   8%|▊         | 78/1000 [03:42<44:13,  2.88s/it]"
     ]
    },
    {
     "name": "stdout",
     "output_type": "stream",
     "text": [
      "Baseline Loss: 5.3050 | Actual Loss: 3.9745\n",
      "Baseline Loss: 3.9465 | Actual Loss: 2.8289\n",
      "Epoch 78/1000: Train Loss: 3.9745, Val Loss: 2.8289\n"
     ]
    },
    {
     "name": "stderr",
     "output_type": "stream",
     "text": [
      "Training:   8%|▊         | 79/1000 [03:45<42:53,  2.79s/it]"
     ]
    },
    {
     "name": "stdout",
     "output_type": "stream",
     "text": [
      "Baseline Loss: 5.3050 | Actual Loss: 3.9588\n",
      "Baseline Loss: 3.9465 | Actual Loss: 2.7035\n",
      "Epoch 79/1000: Train Loss: 3.9588, Val Loss: 2.7035\n",
      "New best validation loss: 2.7035\n",
      "Baseline Loss: 5.3050 | Actual Loss: 3.9441\n"
     ]
    },
    {
     "name": "stderr",
     "output_type": "stream",
     "text": [
      "Training:   8%|▊         | 80/1000 [03:48<44:09,  2.88s/it]"
     ]
    },
    {
     "name": "stdout",
     "output_type": "stream",
     "text": [
      "Baseline Loss: 3.9465 | Actual Loss: 2.6331\n",
      "Epoch 80/1000: Train Loss: 3.9441, Val Loss: 2.6331\n",
      "New best validation loss: 2.6331\n"
     ]
    },
    {
     "name": "stderr",
     "output_type": "stream",
     "text": [
      "Training:   8%|▊         | 81/1000 [03:51<44:28,  2.90s/it]"
     ]
    },
    {
     "name": "stdout",
     "output_type": "stream",
     "text": [
      "Baseline Loss: 5.3050 | Actual Loss: 3.9669\n",
      "Baseline Loss: 3.9465 | Actual Loss: 2.7397\n",
      "Epoch 81/1000: Train Loss: 3.9669, Val Loss: 2.7397\n",
      "Baseline Loss: 5.3050 | Actual Loss: 3.9266\n"
     ]
    },
    {
     "name": "stderr",
     "output_type": "stream",
     "text": [
      "Training:   8%|▊         | 82/1000 [03:54<44:50,  2.93s/it]"
     ]
    },
    {
     "name": "stdout",
     "output_type": "stream",
     "text": [
      "Baseline Loss: 3.9465 | Actual Loss: 2.6229\n",
      "Epoch 82/1000: Train Loss: 3.9266, Val Loss: 2.6229\n",
      "New best validation loss: 2.6229\n",
      "Baseline Loss: 5.3050 | Actual Loss: 3.9031\n"
     ]
    },
    {
     "name": "stderr",
     "output_type": "stream",
     "text": [
      "Training:   8%|▊         | 83/1000 [03:57<44:24,  2.91s/it]"
     ]
    },
    {
     "name": "stdout",
     "output_type": "stream",
     "text": [
      "Baseline Loss: 3.9465 | Actual Loss: 2.6584\n",
      "Epoch 83/1000: Train Loss: 3.9031, Val Loss: 2.6584\n",
      "Baseline Loss: 5.3050 | Actual Loss: 3.8855\n"
     ]
    },
    {
     "name": "stderr",
     "output_type": "stream",
     "text": [
      "Training:   8%|▊         | 84/1000 [04:00<43:17,  2.84s/it]"
     ]
    },
    {
     "name": "stdout",
     "output_type": "stream",
     "text": [
      "Baseline Loss: 3.9465 | Actual Loss: 2.7003\n",
      "Epoch 84/1000: Train Loss: 3.8855, Val Loss: 2.7003\n",
      "Baseline Loss: 5.3050 | Actual Loss: 3.8682\n"
     ]
    },
    {
     "name": "stderr",
     "output_type": "stream",
     "text": [
      "Training:   8%|▊         | 85/1000 [04:03<44:17,  2.90s/it]"
     ]
    },
    {
     "name": "stdout",
     "output_type": "stream",
     "text": [
      "Baseline Loss: 3.9465 | Actual Loss: 2.6246\n",
      "Epoch 85/1000: Train Loss: 3.8682, Val Loss: 2.6246\n",
      "Baseline Loss: 5.3050 | Actual Loss: 3.8773\n",
      "Baseline Loss: 3.9465 | Actual Loss: 2.7368\n",
      "Epoch 86/1000: Train Loss: 3.8773, Val Loss: 2.7368\n"
     ]
    },
    {
     "name": "stderr",
     "output_type": "stream",
     "text": [
      "Training:   9%|▊         | 87/1000 [04:08<43:50,  2.88s/it]"
     ]
    },
    {
     "name": "stdout",
     "output_type": "stream",
     "text": [
      "Baseline Loss: 5.3050 | Actual Loss: 3.8765\n",
      "Baseline Loss: 3.9465 | Actual Loss: 2.7061\n",
      "Epoch 87/1000: Train Loss: 3.8765, Val Loss: 2.7061\n"
     ]
    },
    {
     "name": "stderr",
     "output_type": "stream",
     "text": [
      "Training:   9%|▉         | 88/1000 [04:11<43:29,  2.86s/it]"
     ]
    },
    {
     "name": "stdout",
     "output_type": "stream",
     "text": [
      "Baseline Loss: 5.3050 | Actual Loss: 3.8573\n",
      "Baseline Loss: 3.9465 | Actual Loss: 2.6444\n",
      "Epoch 88/1000: Train Loss: 3.8573, Val Loss: 2.6444\n"
     ]
    },
    {
     "name": "stderr",
     "output_type": "stream",
     "text": [
      "Training:   9%|▉         | 89/1000 [04:14<42:16,  2.78s/it]"
     ]
    },
    {
     "name": "stdout",
     "output_type": "stream",
     "text": [
      "Baseline Loss: 5.3050 | Actual Loss: 3.8002\n",
      "Baseline Loss: 3.9465 | Actual Loss: 2.5948\n",
      "Epoch 89/1000: Train Loss: 3.8002, Val Loss: 2.5948\n",
      "New best validation loss: 2.5948\n",
      "Baseline Loss: 5.3050 | Actual Loss: 3.8777\n"
     ]
    },
    {
     "name": "stderr",
     "output_type": "stream",
     "text": [
      "Training:   9%|▉         | 90/1000 [04:17<43:14,  2.85s/it]"
     ]
    },
    {
     "name": "stdout",
     "output_type": "stream",
     "text": [
      "Baseline Loss: 3.9465 | Actual Loss: 2.5446\n",
      "Epoch 90/1000: Train Loss: 3.8777, Val Loss: 2.5446\n",
      "New best validation loss: 2.5446\n"
     ]
    },
    {
     "name": "stderr",
     "output_type": "stream",
     "text": [
      "Training:   9%|▉         | 91/1000 [04:20<43:36,  2.88s/it]"
     ]
    },
    {
     "name": "stdout",
     "output_type": "stream",
     "text": [
      "Baseline Loss: 5.3050 | Actual Loss: 3.7577\n",
      "Baseline Loss: 3.9465 | Actual Loss: 2.6135\n",
      "Epoch 91/1000: Train Loss: 3.7577, Val Loss: 2.6135\n"
     ]
    },
    {
     "name": "stderr",
     "output_type": "stream",
     "text": [
      "Training:   9%|▉         | 92/1000 [04:23<43:46,  2.89s/it]"
     ]
    },
    {
     "name": "stdout",
     "output_type": "stream",
     "text": [
      "Baseline Loss: 5.3051 | Actual Loss: 3.7779\n",
      "Baseline Loss: 3.9465 | Actual Loss: 2.4815\n",
      "Epoch 92/1000: Train Loss: 3.7779, Val Loss: 2.4815\n",
      "New best validation loss: 2.4815\n"
     ]
    },
    {
     "name": "stderr",
     "output_type": "stream",
     "text": [
      "Training:   9%|▉         | 93/1000 [04:26<43:20,  2.87s/it]"
     ]
    },
    {
     "name": "stdout",
     "output_type": "stream",
     "text": [
      "Baseline Loss: 5.3050 | Actual Loss: 3.7622\n",
      "Baseline Loss: 3.9465 | Actual Loss: 2.4465\n",
      "Epoch 93/1000: Train Loss: 3.7622, Val Loss: 2.4465\n",
      "New best validation loss: 2.4465\n",
      "Baseline Loss: 5.3050 | Actual Loss: 3.7917\n"
     ]
    },
    {
     "name": "stderr",
     "output_type": "stream",
     "text": [
      "Training:   9%|▉         | 94/1000 [04:28<42:52,  2.84s/it]"
     ]
    },
    {
     "name": "stdout",
     "output_type": "stream",
     "text": [
      "Baseline Loss: 3.9465 | Actual Loss: 2.5534\n",
      "Epoch 94/1000: Train Loss: 3.7917, Val Loss: 2.5534\n",
      "Baseline Loss: 5.3050 | Actual Loss: 3.8691\n"
     ]
    },
    {
     "name": "stderr",
     "output_type": "stream",
     "text": [
      "Training:  10%|▉         | 95/1000 [04:31<43:39,  2.89s/it]"
     ]
    },
    {
     "name": "stdout",
     "output_type": "stream",
     "text": [
      "Baseline Loss: 3.9465 | Actual Loss: 2.5330\n",
      "Epoch 95/1000: Train Loss: 3.8691, Val Loss: 2.5330\n"
     ]
    },
    {
     "name": "stderr",
     "output_type": "stream",
     "text": [
      "Training:  10%|▉         | 96/1000 [04:34<43:43,  2.90s/it]"
     ]
    },
    {
     "name": "stdout",
     "output_type": "stream",
     "text": [
      "Baseline Loss: 5.3050 | Actual Loss: 3.7901\n",
      "Baseline Loss: 3.9465 | Actual Loss: 2.5119\n",
      "Epoch 96/1000: Train Loss: 3.7901, Val Loss: 2.5119\n"
     ]
    },
    {
     "name": "stderr",
     "output_type": "stream",
     "text": [
      "Training:  10%|▉         | 97/1000 [04:37<43:04,  2.86s/it]"
     ]
    },
    {
     "name": "stdout",
     "output_type": "stream",
     "text": [
      "Baseline Loss: 5.3050 | Actual Loss: 3.7370\n",
      "Baseline Loss: 3.9465 | Actual Loss: 2.4850\n",
      "Epoch 97/1000: Train Loss: 3.7370, Val Loss: 2.4850\n"
     ]
    },
    {
     "name": "stderr",
     "output_type": "stream",
     "text": [
      "Training:  10%|▉         | 98/1000 [04:40<42:48,  2.85s/it]"
     ]
    },
    {
     "name": "stdout",
     "output_type": "stream",
     "text": [
      "Baseline Loss: 5.3050 | Actual Loss: 3.7126\n",
      "Baseline Loss: 3.9465 | Actual Loss: 2.4931\n",
      "Epoch 98/1000: Train Loss: 3.7126, Val Loss: 2.4931\n"
     ]
    },
    {
     "name": "stderr",
     "output_type": "stream",
     "text": [
      "Training:  10%|▉         | 99/1000 [04:43<42:12,  2.81s/it]"
     ]
    },
    {
     "name": "stdout",
     "output_type": "stream",
     "text": [
      "Baseline Loss: 5.3050 | Actual Loss: 3.6815\n",
      "Baseline Loss: 3.9465 | Actual Loss: 2.4809\n",
      "Epoch 99/1000: Train Loss: 3.6815, Val Loss: 2.4809\n",
      "Baseline Loss: 5.3050 | Actual Loss: 3.7555\n"
     ]
    },
    {
     "name": "stderr",
     "output_type": "stream",
     "text": [
      "Training:  10%|█         | 100/1000 [04:46<43:09,  2.88s/it]"
     ]
    },
    {
     "name": "stdout",
     "output_type": "stream",
     "text": [
      "Baseline Loss: 3.9465 | Actual Loss: 2.5953\n",
      "Epoch 100/1000: Train Loss: 3.7555, Val Loss: 2.5953\n"
     ]
    },
    {
     "name": "stderr",
     "output_type": "stream",
     "text": [
      "Training:  10%|█         | 101/1000 [04:49<44:04,  2.94s/it]"
     ]
    },
    {
     "name": "stdout",
     "output_type": "stream",
     "text": [
      "Baseline Loss: 5.3050 | Actual Loss: 3.7833\n",
      "Baseline Loss: 3.9465 | Actual Loss: 2.4229\n",
      "Epoch 101/1000: Train Loss: 3.7833, Val Loss: 2.4229\n",
      "New best validation loss: 2.4229\n"
     ]
    },
    {
     "name": "stderr",
     "output_type": "stream",
     "text": [
      "Training:  10%|█         | 102/1000 [04:51<43:21,  2.90s/it]"
     ]
    },
    {
     "name": "stdout",
     "output_type": "stream",
     "text": [
      "Baseline Loss: 5.3050 | Actual Loss: 3.7538\n",
      "Baseline Loss: 3.9465 | Actual Loss: 2.4767\n",
      "Epoch 102/1000: Train Loss: 3.7538, Val Loss: 2.4767\n",
      "Baseline Loss: 5.3050 | Actual Loss: 3.6691\n"
     ]
    },
    {
     "name": "stderr",
     "output_type": "stream",
     "text": [
      "Training:  10%|█         | 103/1000 [04:54<42:45,  2.86s/it]"
     ]
    },
    {
     "name": "stdout",
     "output_type": "stream",
     "text": [
      "Baseline Loss: 3.9465 | Actual Loss: 2.5071\n",
      "Epoch 103/1000: Train Loss: 3.6691, Val Loss: 2.5071\n",
      "Baseline Loss: 5.3050 | Actual Loss: 3.7742\n"
     ]
    },
    {
     "name": "stderr",
     "output_type": "stream",
     "text": [
      "Training:  10%|█         | 104/1000 [04:57<41:23,  2.77s/it]"
     ]
    },
    {
     "name": "stdout",
     "output_type": "stream",
     "text": [
      "Baseline Loss: 3.9465 | Actual Loss: 2.4703\n",
      "Epoch 104/1000: Train Loss: 3.7742, Val Loss: 2.4703\n",
      "Baseline Loss: 5.3050 | Actual Loss: 3.7171\n"
     ]
    },
    {
     "name": "stderr",
     "output_type": "stream",
     "text": [
      "Training:  10%|█         | 105/1000 [05:00<42:12,  2.83s/it]"
     ]
    },
    {
     "name": "stdout",
     "output_type": "stream",
     "text": [
      "Baseline Loss: 3.9465 | Actual Loss: 2.5231\n",
      "Epoch 105/1000: Train Loss: 3.7171, Val Loss: 2.5231\n",
      "Baseline Loss: 5.3050 | Actual Loss: 3.6956\n"
     ]
    },
    {
     "name": "stderr",
     "output_type": "stream",
     "text": [
      "Training:  11%|█         | 106/1000 [05:03<42:31,  2.85s/it]"
     ]
    },
    {
     "name": "stdout",
     "output_type": "stream",
     "text": [
      "Baseline Loss: 3.9465 | Actual Loss: 2.5242\n",
      "Epoch 106/1000: Train Loss: 3.6956, Val Loss: 2.5242\n"
     ]
    },
    {
     "name": "stderr",
     "output_type": "stream",
     "text": [
      "Training:  11%|█         | 107/1000 [05:05<42:11,  2.83s/it]"
     ]
    },
    {
     "name": "stdout",
     "output_type": "stream",
     "text": [
      "Baseline Loss: 5.3050 | Actual Loss: 3.7094\n",
      "Baseline Loss: 3.9465 | Actual Loss: 2.4397\n",
      "Epoch 107/1000: Train Loss: 3.7094, Val Loss: 2.4397\n"
     ]
    },
    {
     "name": "stderr",
     "output_type": "stream",
     "text": [
      "Training:  11%|█         | 108/1000 [05:08<41:58,  2.82s/it]"
     ]
    },
    {
     "name": "stdout",
     "output_type": "stream",
     "text": [
      "Baseline Loss: 5.3050 | Actual Loss: 3.6921\n",
      "Baseline Loss: 3.9465 | Actual Loss: 2.5174\n",
      "Epoch 108/1000: Train Loss: 3.6921, Val Loss: 2.5174\n"
     ]
    },
    {
     "name": "stderr",
     "output_type": "stream",
     "text": [
      "Training:  11%|█         | 109/1000 [05:11<40:46,  2.75s/it]"
     ]
    },
    {
     "name": "stdout",
     "output_type": "stream",
     "text": [
      "Baseline Loss: 5.3050 | Actual Loss: 3.6940\n",
      "Baseline Loss: 3.9465 | Actual Loss: 2.5664\n",
      "Epoch 109/1000: Train Loss: 3.6940, Val Loss: 2.5664\n",
      "Baseline Loss: 5.3050 | Actual Loss: 3.7006\n"
     ]
    },
    {
     "name": "stderr",
     "output_type": "stream",
     "text": [
      "Training:  11%|█         | 110/1000 [05:14<41:51,  2.82s/it]"
     ]
    },
    {
     "name": "stdout",
     "output_type": "stream",
     "text": [
      "Baseline Loss: 3.9465 | Actual Loss: 2.5654\n",
      "Epoch 110/1000: Train Loss: 3.7006, Val Loss: 2.5654\n"
     ]
    },
    {
     "name": "stderr",
     "output_type": "stream",
     "text": [
      "Training:  11%|█         | 111/1000 [05:17<42:35,  2.87s/it]"
     ]
    },
    {
     "name": "stdout",
     "output_type": "stream",
     "text": [
      "Baseline Loss: 5.3050 | Actual Loss: 3.6885\n",
      "Baseline Loss: 3.9465 | Actual Loss: 2.4494\n",
      "Epoch 111/1000: Train Loss: 3.6885, Val Loss: 2.4494\n"
     ]
    },
    {
     "name": "stderr",
     "output_type": "stream",
     "text": [
      "Training:  11%|█         | 112/1000 [05:20<42:05,  2.84s/it]"
     ]
    },
    {
     "name": "stdout",
     "output_type": "stream",
     "text": [
      "Baseline Loss: 5.3050 | Actual Loss: 3.6170\n",
      "Baseline Loss: 3.9465 | Actual Loss: 2.4737\n",
      "Epoch 112/1000: Train Loss: 3.6170, Val Loss: 2.4737\n"
     ]
    },
    {
     "name": "stderr",
     "output_type": "stream",
     "text": [
      "Training:  11%|█▏        | 113/1000 [05:22<41:53,  2.83s/it]"
     ]
    },
    {
     "name": "stdout",
     "output_type": "stream",
     "text": [
      "Baseline Loss: 5.3050 | Actual Loss: 3.6288\n",
      "Baseline Loss: 3.9465 | Actual Loss: 2.3860\n",
      "Epoch 113/1000: Train Loss: 3.6288, Val Loss: 2.3860\n",
      "New best validation loss: 2.3860\n",
      "Baseline Loss: 5.3050 | Actual Loss: 3.7160\n"
     ]
    },
    {
     "name": "stderr",
     "output_type": "stream",
     "text": [
      "Training:  11%|█▏        | 114/1000 [05:25<40:45,  2.76s/it]"
     ]
    },
    {
     "name": "stdout",
     "output_type": "stream",
     "text": [
      "Baseline Loss: 3.9465 | Actual Loss: 2.4754\n",
      "Epoch 114/1000: Train Loss: 3.7160, Val Loss: 2.4754\n",
      "Baseline Loss: 5.3050 | Actual Loss: 3.6234\n"
     ]
    },
    {
     "name": "stderr",
     "output_type": "stream",
     "text": [
      "Training:  12%|█▏        | 115/1000 [05:28<41:36,  2.82s/it]"
     ]
    },
    {
     "name": "stdout",
     "output_type": "stream",
     "text": [
      "Baseline Loss: 3.9465 | Actual Loss: 2.4394\n",
      "Epoch 115/1000: Train Loss: 3.6234, Val Loss: 2.4394\n"
     ]
    },
    {
     "name": "stderr",
     "output_type": "stream",
     "text": [
      "Training:  12%|█▏        | 116/1000 [05:31<41:56,  2.85s/it]"
     ]
    },
    {
     "name": "stdout",
     "output_type": "stream",
     "text": [
      "Baseline Loss: 5.3050 | Actual Loss: 3.6491\n",
      "Baseline Loss: 3.9465 | Actual Loss: 2.4158\n",
      "Epoch 116/1000: Train Loss: 3.6491, Val Loss: 2.4158\n"
     ]
    },
    {
     "name": "stderr",
     "output_type": "stream",
     "text": [
      "Training:  12%|█▏        | 117/1000 [05:34<41:41,  2.83s/it]"
     ]
    },
    {
     "name": "stdout",
     "output_type": "stream",
     "text": [
      "Baseline Loss: 5.3050 | Actual Loss: 3.6814\n",
      "Baseline Loss: 3.9465 | Actual Loss: 2.4376\n",
      "Epoch 117/1000: Train Loss: 3.6814, Val Loss: 2.4376\n"
     ]
    },
    {
     "name": "stderr",
     "output_type": "stream",
     "text": [
      "Training:  12%|█▏        | 118/1000 [05:36<41:36,  2.83s/it]"
     ]
    },
    {
     "name": "stdout",
     "output_type": "stream",
     "text": [
      "Baseline Loss: 5.3050 | Actual Loss: 3.6300\n",
      "Baseline Loss: 3.9465 | Actual Loss: 2.3977\n",
      "Epoch 118/1000: Train Loss: 3.6300, Val Loss: 2.3977\n"
     ]
    },
    {
     "name": "stderr",
     "output_type": "stream",
     "text": [
      "Training:  12%|█▏        | 119/1000 [05:39<40:38,  2.77s/it]"
     ]
    },
    {
     "name": "stdout",
     "output_type": "stream",
     "text": [
      "Baseline Loss: 5.3050 | Actual Loss: 3.6237\n",
      "Baseline Loss: 3.9465 | Actual Loss: 2.4320\n",
      "Epoch 119/1000: Train Loss: 3.6237, Val Loss: 2.4320\n",
      "Baseline Loss: 5.3050 | Actual Loss: 3.6291\n"
     ]
    },
    {
     "name": "stderr",
     "output_type": "stream",
     "text": [
      "Training:  12%|█▏        | 120/1000 [05:42<41:55,  2.86s/it]"
     ]
    },
    {
     "name": "stdout",
     "output_type": "stream",
     "text": [
      "Baseline Loss: 3.9465 | Actual Loss: 2.4056\n",
      "Epoch 120/1000: Train Loss: 3.6291, Val Loss: 2.4056\n"
     ]
    },
    {
     "name": "stderr",
     "output_type": "stream",
     "text": [
      "Training:  12%|█▏        | 121/1000 [05:45<42:28,  2.90s/it]"
     ]
    },
    {
     "name": "stdout",
     "output_type": "stream",
     "text": [
      "Baseline Loss: 5.3050 | Actual Loss: 3.6321\n",
      "Baseline Loss: 3.9465 | Actual Loss: 2.4312\n",
      "Epoch 121/1000: Train Loss: 3.6321, Val Loss: 2.4312\n"
     ]
    },
    {
     "name": "stderr",
     "output_type": "stream",
     "text": [
      "Training:  12%|█▏        | 122/1000 [05:48<41:57,  2.87s/it]"
     ]
    },
    {
     "name": "stdout",
     "output_type": "stream",
     "text": [
      "Baseline Loss: 5.3050 | Actual Loss: 3.6774\n",
      "Baseline Loss: 3.9465 | Actual Loss: 2.4052\n",
      "Epoch 122/1000: Train Loss: 3.6774, Val Loss: 2.4052\n"
     ]
    },
    {
     "name": "stderr",
     "output_type": "stream",
     "text": [
      "Training:  12%|█▏        | 123/1000 [05:51<42:06,  2.88s/it]"
     ]
    },
    {
     "name": "stdout",
     "output_type": "stream",
     "text": [
      "Baseline Loss: 5.3050 | Actual Loss: 3.6500\n",
      "Baseline Loss: 3.9465 | Actual Loss: 2.3905\n",
      "Epoch 123/1000: Train Loss: 3.6500, Val Loss: 2.3905\n"
     ]
    },
    {
     "name": "stderr",
     "output_type": "stream",
     "text": [
      "Training:  12%|█▏        | 124/1000 [05:53<40:54,  2.80s/it]"
     ]
    },
    {
     "name": "stdout",
     "output_type": "stream",
     "text": [
      "Baseline Loss: 5.3050 | Actual Loss: 3.6058\n",
      "Baseline Loss: 3.9465 | Actual Loss: 2.3104\n",
      "Epoch 124/1000: Train Loss: 3.6058, Val Loss: 2.3104\n",
      "New best validation loss: 2.3104\n",
      "Baseline Loss: 5.3050 | Actual Loss: 3.5671\n"
     ]
    },
    {
     "name": "stderr",
     "output_type": "stream",
     "text": [
      "Training:  12%|█▎        | 125/1000 [05:57<42:11,  2.89s/it]"
     ]
    },
    {
     "name": "stdout",
     "output_type": "stream",
     "text": [
      "Baseline Loss: 3.9465 | Actual Loss: 2.2914\n",
      "Epoch 125/1000: Train Loss: 3.5671, Val Loss: 2.2914\n",
      "New best validation loss: 2.2914\n"
     ]
    },
    {
     "name": "stderr",
     "output_type": "stream",
     "text": [
      "Training:  13%|█▎        | 126/1000 [06:00<42:22,  2.91s/it]"
     ]
    },
    {
     "name": "stdout",
     "output_type": "stream",
     "text": [
      "Baseline Loss: 5.3050 | Actual Loss: 3.6105\n",
      "Baseline Loss: 3.9465 | Actual Loss: 2.4097\n",
      "Epoch 126/1000: Train Loss: 3.6105, Val Loss: 2.4097\n"
     ]
    },
    {
     "name": "stderr",
     "output_type": "stream",
     "text": [
      "Training:  13%|█▎        | 127/1000 [06:02<41:55,  2.88s/it]"
     ]
    },
    {
     "name": "stdout",
     "output_type": "stream",
     "text": [
      "Baseline Loss: 5.3050 | Actual Loss: 3.6375\n",
      "Baseline Loss: 3.9465 | Actual Loss: 2.3832\n",
      "Epoch 127/1000: Train Loss: 3.6375, Val Loss: 2.3832\n",
      "Baseline Loss: 5.3050 | Actual Loss: 3.5531\n"
     ]
    },
    {
     "name": "stderr",
     "output_type": "stream",
     "text": [
      "Training:  13%|█▎        | 128/1000 [06:05<41:59,  2.89s/it]"
     ]
    },
    {
     "name": "stdout",
     "output_type": "stream",
     "text": [
      "Baseline Loss: 3.9465 | Actual Loss: 2.4410\n",
      "Epoch 128/1000: Train Loss: 3.5531, Val Loss: 2.4410\n",
      "Baseline Loss: 5.3050 | Actual Loss: 3.6237\n"
     ]
    },
    {
     "name": "stderr",
     "output_type": "stream",
     "text": [
      "Training:  13%|█▎        | 129/1000 [06:08<40:47,  2.81s/it]"
     ]
    },
    {
     "name": "stdout",
     "output_type": "stream",
     "text": [
      "Baseline Loss: 3.9465 | Actual Loss: 2.3370\n",
      "Epoch 129/1000: Train Loss: 3.6237, Val Loss: 2.3370\n",
      "Baseline Loss: 5.3050 | Actual Loss: 3.5531\n"
     ]
    },
    {
     "name": "stderr",
     "output_type": "stream",
     "text": [
      "Training:  13%|█▎        | 130/1000 [06:11<42:05,  2.90s/it]"
     ]
    },
    {
     "name": "stdout",
     "output_type": "stream",
     "text": [
      "Baseline Loss: 3.9465 | Actual Loss: 2.3261\n",
      "Epoch 130/1000: Train Loss: 3.5531, Val Loss: 2.3261\n"
     ]
    },
    {
     "name": "stderr",
     "output_type": "stream",
     "text": [
      "Training:  13%|█▎        | 131/1000 [06:14<42:13,  2.92s/it]"
     ]
    },
    {
     "name": "stdout",
     "output_type": "stream",
     "text": [
      "Baseline Loss: 5.3050 | Actual Loss: 3.5813\n",
      "Baseline Loss: 3.9465 | Actual Loss: 2.4203\n",
      "Epoch 131/1000: Train Loss: 3.5813, Val Loss: 2.4203\n"
     ]
    },
    {
     "name": "stderr",
     "output_type": "stream",
     "text": [
      "Training:  13%|█▎        | 132/1000 [06:17<42:04,  2.91s/it]"
     ]
    },
    {
     "name": "stdout",
     "output_type": "stream",
     "text": [
      "Baseline Loss: 5.3050 | Actual Loss: 3.5248\n",
      "Baseline Loss: 3.9465 | Actual Loss: 2.2996\n",
      "Epoch 132/1000: Train Loss: 3.5248, Val Loss: 2.2996\n"
     ]
    },
    {
     "name": "stderr",
     "output_type": "stream",
     "text": [
      "Training:  13%|█▎        | 133/1000 [06:20<41:55,  2.90s/it]"
     ]
    },
    {
     "name": "stdout",
     "output_type": "stream",
     "text": [
      "Baseline Loss: 5.3051 | Actual Loss: 3.5324\n",
      "Baseline Loss: 3.9465 | Actual Loss: 2.3344\n",
      "Epoch 133/1000: Train Loss: 3.5324, Val Loss: 2.3344\n"
     ]
    },
    {
     "name": "stderr",
     "output_type": "stream",
     "text": [
      "Training:  13%|█▎        | 134/1000 [06:22<40:50,  2.83s/it]"
     ]
    },
    {
     "name": "stdout",
     "output_type": "stream",
     "text": [
      "Baseline Loss: 5.3050 | Actual Loss: 3.5142\n",
      "Baseline Loss: 3.9465 | Actual Loss: 2.3428\n",
      "Epoch 134/1000: Train Loss: 3.5142, Val Loss: 2.3428\n",
      "Baseline Loss: 5.3050 | Actual Loss: 3.5156\n"
     ]
    },
    {
     "name": "stderr",
     "output_type": "stream",
     "text": [
      "Training:  14%|█▎        | 135/1000 [06:25<42:00,  2.91s/it]"
     ]
    },
    {
     "name": "stdout",
     "output_type": "stream",
     "text": [
      "Baseline Loss: 3.9465 | Actual Loss: 2.1614\n",
      "Epoch 135/1000: Train Loss: 3.5156, Val Loss: 2.1614\n",
      "New best validation loss: 2.1614\n",
      "Baseline Loss: 5.3050 | Actual Loss: 3.4840\n"
     ]
    },
    {
     "name": "stderr",
     "output_type": "stream",
     "text": [
      "Training:  14%|█▎        | 136/1000 [06:29<42:42,  2.97s/it]"
     ]
    },
    {
     "name": "stdout",
     "output_type": "stream",
     "text": [
      "Baseline Loss: 3.9465 | Actual Loss: 2.4358\n",
      "Epoch 136/1000: Train Loss: 3.4840, Val Loss: 2.4358\n",
      "Baseline Loss: 5.3050 | Actual Loss: 3.5351\n"
     ]
    },
    {
     "name": "stderr",
     "output_type": "stream",
     "text": [
      "Training:  14%|█▎        | 137/1000 [06:31<41:52,  2.91s/it]"
     ]
    },
    {
     "name": "stdout",
     "output_type": "stream",
     "text": [
      "Baseline Loss: 3.9465 | Actual Loss: 2.2602\n",
      "Epoch 137/1000: Train Loss: 3.5351, Val Loss: 2.2602\n"
     ]
    },
    {
     "name": "stderr",
     "output_type": "stream",
     "text": [
      "Training:  14%|█▍        | 138/1000 [06:34<41:16,  2.87s/it]"
     ]
    },
    {
     "name": "stdout",
     "output_type": "stream",
     "text": [
      "Baseline Loss: 5.3050 | Actual Loss: 3.5393\n",
      "Baseline Loss: 3.9465 | Actual Loss: 2.2375\n",
      "Epoch 138/1000: Train Loss: 3.5393, Val Loss: 2.2375\n"
     ]
    },
    {
     "name": "stderr",
     "output_type": "stream",
     "text": [
      "Training:  14%|█▍        | 139/1000 [06:37<40:11,  2.80s/it]"
     ]
    },
    {
     "name": "stdout",
     "output_type": "stream",
     "text": [
      "Baseline Loss: 5.3050 | Actual Loss: 3.5388\n",
      "Baseline Loss: 3.9465 | Actual Loss: 2.3241\n",
      "Epoch 139/1000: Train Loss: 3.5388, Val Loss: 2.3241\n",
      "Baseline Loss: 5.3050 | Actual Loss: 3.5687\n"
     ]
    },
    {
     "name": "stderr",
     "output_type": "stream",
     "text": [
      "Training:  14%|█▍        | 140/1000 [06:40<41:06,  2.87s/it]"
     ]
    },
    {
     "name": "stdout",
     "output_type": "stream",
     "text": [
      "Baseline Loss: 3.9465 | Actual Loss: 2.3415\n",
      "Epoch 140/1000: Train Loss: 3.5687, Val Loss: 2.3415\n"
     ]
    },
    {
     "name": "stderr",
     "output_type": "stream",
     "text": [
      "Training:  14%|█▍        | 141/1000 [06:43<41:43,  2.91s/it]"
     ]
    },
    {
     "name": "stdout",
     "output_type": "stream",
     "text": [
      "Baseline Loss: 5.3050 | Actual Loss: 3.5246\n",
      "Baseline Loss: 3.9465 | Actual Loss: 2.2377\n",
      "Epoch 141/1000: Train Loss: 3.5246, Val Loss: 2.2377\n"
     ]
    },
    {
     "name": "stderr",
     "output_type": "stream",
     "text": [
      "Training:  14%|█▍        | 142/1000 [06:46<41:10,  2.88s/it]"
     ]
    },
    {
     "name": "stdout",
     "output_type": "stream",
     "text": [
      "Baseline Loss: 5.3050 | Actual Loss: 3.5430\n",
      "Baseline Loss: 3.9465 | Actual Loss: 2.2899\n",
      "Epoch 142/1000: Train Loss: 3.5430, Val Loss: 2.2899\n"
     ]
    },
    {
     "name": "stderr",
     "output_type": "stream",
     "text": [
      "Training:  14%|█▍        | 143/1000 [06:48<40:51,  2.86s/it]"
     ]
    },
    {
     "name": "stdout",
     "output_type": "stream",
     "text": [
      "Baseline Loss: 5.3050 | Actual Loss: 3.5270\n",
      "Baseline Loss: 3.9465 | Actual Loss: 2.3592\n",
      "Epoch 143/1000: Train Loss: 3.5270, Val Loss: 2.3592\n"
     ]
    },
    {
     "name": "stderr",
     "output_type": "stream",
     "text": [
      "Training:  14%|█▍        | 144/1000 [06:51<39:39,  2.78s/it]"
     ]
    },
    {
     "name": "stdout",
     "output_type": "stream",
     "text": [
      "Baseline Loss: 5.3050 | Actual Loss: 3.5219\n",
      "Baseline Loss: 3.9465 | Actual Loss: 2.2402\n",
      "Epoch 144/1000: Train Loss: 3.5219, Val Loss: 2.2402\n",
      "Baseline Loss: 5.3050 | Actual Loss: 3.4820\n"
     ]
    },
    {
     "name": "stderr",
     "output_type": "stream",
     "text": [
      "Training:  14%|█▍        | 145/1000 [06:54<40:34,  2.85s/it]"
     ]
    },
    {
     "name": "stdout",
     "output_type": "stream",
     "text": [
      "Baseline Loss: 3.9465 | Actual Loss: 2.2563\n",
      "Epoch 145/1000: Train Loss: 3.4820, Val Loss: 2.2563\n"
     ]
    },
    {
     "name": "stderr",
     "output_type": "stream",
     "text": [
      "Training:  15%|█▍        | 146/1000 [06:57<40:43,  2.86s/it]"
     ]
    },
    {
     "name": "stdout",
     "output_type": "stream",
     "text": [
      "Baseline Loss: 5.3050 | Actual Loss: 3.4836\n",
      "Baseline Loss: 3.9465 | Actual Loss: 2.1005\n",
      "Epoch 146/1000: Train Loss: 3.4836, Val Loss: 2.1005\n",
      "New best validation loss: 2.1005\n"
     ]
    },
    {
     "name": "stderr",
     "output_type": "stream",
     "text": [
      "Training:  15%|█▍        | 147/1000 [07:00<40:15,  2.83s/it]"
     ]
    },
    {
     "name": "stdout",
     "output_type": "stream",
     "text": [
      "Baseline Loss: 5.3050 | Actual Loss: 3.5139\n",
      "Baseline Loss: 3.9465 | Actual Loss: 2.2711\n",
      "Epoch 147/1000: Train Loss: 3.5139, Val Loss: 2.2711\n"
     ]
    },
    {
     "name": "stderr",
     "output_type": "stream",
     "text": [
      "Training:  15%|█▍        | 148/1000 [07:02<40:04,  2.82s/it]"
     ]
    },
    {
     "name": "stdout",
     "output_type": "stream",
     "text": [
      "Baseline Loss: 5.3050 | Actual Loss: 3.5034\n",
      "Baseline Loss: 3.9465 | Actual Loss: 2.2436\n",
      "Epoch 148/1000: Train Loss: 3.5034, Val Loss: 2.2436\n"
     ]
    },
    {
     "name": "stderr",
     "output_type": "stream",
     "text": [
      "Training:  15%|█▍        | 149/1000 [07:05<39:07,  2.76s/it]"
     ]
    },
    {
     "name": "stdout",
     "output_type": "stream",
     "text": [
      "Baseline Loss: 5.3050 | Actual Loss: 3.4857\n",
      "Baseline Loss: 3.9465 | Actual Loss: 2.1678\n",
      "Epoch 149/1000: Train Loss: 3.4857, Val Loss: 2.1678\n",
      "Baseline Loss: 5.3050 | Actual Loss: 3.4459\n"
     ]
    },
    {
     "name": "stderr",
     "output_type": "stream",
     "text": [
      "Training:  15%|█▌        | 150/1000 [07:08<41:40,  2.94s/it]"
     ]
    },
    {
     "name": "stdout",
     "output_type": "stream",
     "text": [
      "Baseline Loss: 3.9465 | Actual Loss: 2.2353\n",
      "Epoch 150/1000: Train Loss: 3.4459, Val Loss: 2.2353\n"
     ]
    },
    {
     "name": "stderr",
     "output_type": "stream",
     "text": [
      "Training:  15%|█▌        | 151/1000 [07:11<41:33,  2.94s/it]"
     ]
    },
    {
     "name": "stdout",
     "output_type": "stream",
     "text": [
      "Baseline Loss: 5.3050 | Actual Loss: 3.3934\n",
      "Baseline Loss: 3.9465 | Actual Loss: 2.2488\n",
      "Epoch 151/1000: Train Loss: 3.3934, Val Loss: 2.2488\n"
     ]
    },
    {
     "name": "stderr",
     "output_type": "stream",
     "text": [
      "Training:  15%|█▌        | 152/1000 [07:14<40:49,  2.89s/it]"
     ]
    },
    {
     "name": "stdout",
     "output_type": "stream",
     "text": [
      "Baseline Loss: 5.3050 | Actual Loss: 3.4224\n",
      "Baseline Loss: 3.9465 | Actual Loss: 2.1899\n",
      "Epoch 152/1000: Train Loss: 3.4224, Val Loss: 2.1899\n",
      "Baseline Loss: 5.3050 | Actual Loss: 3.4815\n",
      "Baseline Loss: 3.9465 | Actual Loss: 2.1721\n"
     ]
    },
    {
     "name": "stderr",
     "output_type": "stream",
     "text": [
      "Training:  15%|█▌        | 153/1000 [07:17<40:30,  2.87s/it]"
     ]
    },
    {
     "name": "stdout",
     "output_type": "stream",
     "text": [
      "Epoch 153/1000: Train Loss: 3.4815, Val Loss: 2.1721\n",
      "Baseline Loss: 5.3050 | Actual Loss: 3.4287\n"
     ]
    },
    {
     "name": "stderr",
     "output_type": "stream",
     "text": [
      "Training:  15%|█▌        | 154/1000 [07:20<39:14,  2.78s/it]"
     ]
    },
    {
     "name": "stdout",
     "output_type": "stream",
     "text": [
      "Baseline Loss: 3.9465 | Actual Loss: 2.1633\n",
      "Epoch 154/1000: Train Loss: 3.4287, Val Loss: 2.1633\n",
      "Baseline Loss: 5.3050 | Actual Loss: 3.4453\n"
     ]
    },
    {
     "name": "stderr",
     "output_type": "stream",
     "text": [
      "Training:  16%|█▌        | 155/1000 [07:23<40:36,  2.88s/it]"
     ]
    },
    {
     "name": "stdout",
     "output_type": "stream",
     "text": [
      "Baseline Loss: 3.9465 | Actual Loss: 2.1116\n",
      "Epoch 155/1000: Train Loss: 3.4453, Val Loss: 2.1116\n",
      "Baseline Loss: 5.3050 | Actual Loss: 3.4447\n",
      "Baseline Loss: 3.9465 | Actual Loss: 2.1004\n",
      "Epoch 156/1000: Train Loss: 3.4447, Val Loss: 2.1004\n",
      "New best validation loss: 2.1004\n"
     ]
    },
    {
     "name": "stderr",
     "output_type": "stream",
     "text": [
      "Training:  16%|█▌        | 157/1000 [07:28<40:21,  2.87s/it]"
     ]
    },
    {
     "name": "stdout",
     "output_type": "stream",
     "text": [
      "Baseline Loss: 5.3051 | Actual Loss: 3.3803\n",
      "Baseline Loss: 3.9465 | Actual Loss: 2.2405\n",
      "Epoch 157/1000: Train Loss: 3.3803, Val Loss: 2.2405\n"
     ]
    },
    {
     "name": "stderr",
     "output_type": "stream",
     "text": [
      "Training:  16%|█▌        | 158/1000 [07:31<40:21,  2.88s/it]"
     ]
    },
    {
     "name": "stdout",
     "output_type": "stream",
     "text": [
      "Baseline Loss: 5.3050 | Actual Loss: 3.4122\n",
      "Baseline Loss: 3.9465 | Actual Loss: 2.2351\n",
      "Epoch 158/1000: Train Loss: 3.4122, Val Loss: 2.2351\n"
     ]
    },
    {
     "name": "stderr",
     "output_type": "stream",
     "text": [
      "Training:  16%|█▌        | 159/1000 [07:34<39:09,  2.79s/it]"
     ]
    },
    {
     "name": "stdout",
     "output_type": "stream",
     "text": [
      "Baseline Loss: 5.3050 | Actual Loss: 3.4132\n",
      "Baseline Loss: 3.9465 | Actual Loss: 2.1942\n",
      "Epoch 159/1000: Train Loss: 3.4132, Val Loss: 2.1942\n",
      "Baseline Loss: 5.3050 | Actual Loss: 3.4076\n"
     ]
    },
    {
     "name": "stderr",
     "output_type": "stream",
     "text": [
      "Training:  16%|█▌        | 160/1000 [07:37<39:54,  2.85s/it]"
     ]
    },
    {
     "name": "stdout",
     "output_type": "stream",
     "text": [
      "Baseline Loss: 3.9465 | Actual Loss: 2.1094\n",
      "Epoch 160/1000: Train Loss: 3.4076, Val Loss: 2.1094\n",
      "Baseline Loss: 5.3050 | Actual Loss: 3.4072\n"
     ]
    },
    {
     "name": "stderr",
     "output_type": "stream",
     "text": [
      "Training:  16%|█▌        | 161/1000 [07:40<40:07,  2.87s/it]"
     ]
    },
    {
     "name": "stdout",
     "output_type": "stream",
     "text": [
      "Baseline Loss: 3.9465 | Actual Loss: 2.2102\n",
      "Epoch 161/1000: Train Loss: 3.4072, Val Loss: 2.2102\n"
     ]
    },
    {
     "name": "stderr",
     "output_type": "stream",
     "text": [
      "Training:  16%|█▌        | 162/1000 [07:43<39:52,  2.85s/it]"
     ]
    },
    {
     "name": "stdout",
     "output_type": "stream",
     "text": [
      "Baseline Loss: 5.3050 | Actual Loss: 3.4146\n",
      "Baseline Loss: 3.9465 | Actual Loss: 2.1201\n",
      "Epoch 162/1000: Train Loss: 3.4146, Val Loss: 2.1201\n"
     ]
    },
    {
     "name": "stderr",
     "output_type": "stream",
     "text": [
      "Training:  16%|█▋        | 163/1000 [07:45<39:43,  2.85s/it]"
     ]
    },
    {
     "name": "stdout",
     "output_type": "stream",
     "text": [
      "Baseline Loss: 5.3050 | Actual Loss: 3.3631\n",
      "Baseline Loss: 3.9465 | Actual Loss: 2.1388\n",
      "Epoch 163/1000: Train Loss: 3.3631, Val Loss: 2.1388\n"
     ]
    },
    {
     "name": "stderr",
     "output_type": "stream",
     "text": [
      "Training:  16%|█▋        | 164/1000 [07:48<38:56,  2.79s/it]"
     ]
    },
    {
     "name": "stdout",
     "output_type": "stream",
     "text": [
      "Baseline Loss: 5.3050 | Actual Loss: 3.3687\n",
      "Baseline Loss: 3.9465 | Actual Loss: 2.2499\n",
      "Epoch 164/1000: Train Loss: 3.3687, Val Loss: 2.2499\n",
      "Baseline Loss: 5.3050 | Actual Loss: 3.3617\n"
     ]
    },
    {
     "name": "stderr",
     "output_type": "stream",
     "text": [
      "Training:  16%|█▋        | 165/1000 [07:51<39:59,  2.87s/it]"
     ]
    },
    {
     "name": "stdout",
     "output_type": "stream",
     "text": [
      "Baseline Loss: 3.9465 | Actual Loss: 2.1246\n",
      "Epoch 165/1000: Train Loss: 3.3617, Val Loss: 2.1246\n"
     ]
    },
    {
     "name": "stderr",
     "output_type": "stream",
     "text": [
      "Training:  17%|█▋        | 166/1000 [07:54<40:44,  2.93s/it]"
     ]
    },
    {
     "name": "stdout",
     "output_type": "stream",
     "text": [
      "Baseline Loss: 5.3050 | Actual Loss: 3.3419\n",
      "Baseline Loss: 3.9465 | Actual Loss: 2.1100\n",
      "Epoch 166/1000: Train Loss: 3.3419, Val Loss: 2.1100\n"
     ]
    },
    {
     "name": "stderr",
     "output_type": "stream",
     "text": [
      "Training:  17%|█▋        | 167/1000 [07:57<40:16,  2.90s/it]"
     ]
    },
    {
     "name": "stdout",
     "output_type": "stream",
     "text": [
      "Baseline Loss: 5.3051 | Actual Loss: 3.3679\n",
      "Baseline Loss: 3.9465 | Actual Loss: 2.1412\n",
      "Epoch 167/1000: Train Loss: 3.3679, Val Loss: 2.1412\n"
     ]
    },
    {
     "name": "stderr",
     "output_type": "stream",
     "text": [
      "Training:  17%|█▋        | 168/1000 [08:00<40:05,  2.89s/it]"
     ]
    },
    {
     "name": "stdout",
     "output_type": "stream",
     "text": [
      "Baseline Loss: 5.3050 | Actual Loss: 3.3141\n",
      "Baseline Loss: 3.9465 | Actual Loss: 2.1838\n",
      "Epoch 168/1000: Train Loss: 3.3141, Val Loss: 2.1838\n"
     ]
    },
    {
     "name": "stderr",
     "output_type": "stream",
     "text": [
      "Training:  17%|█▋        | 169/1000 [08:03<39:01,  2.82s/it]"
     ]
    },
    {
     "name": "stdout",
     "output_type": "stream",
     "text": [
      "Baseline Loss: 5.3050 | Actual Loss: 3.3285\n",
      "Baseline Loss: 3.9465 | Actual Loss: 2.1462\n",
      "Epoch 169/1000: Train Loss: 3.3285, Val Loss: 2.1462\n",
      "Baseline Loss: 5.3050 | Actual Loss: 3.3196\n"
     ]
    },
    {
     "name": "stderr",
     "output_type": "stream",
     "text": [
      "Training:  17%|█▋        | 170/1000 [08:06<40:21,  2.92s/it]"
     ]
    },
    {
     "name": "stdout",
     "output_type": "stream",
     "text": [
      "Baseline Loss: 3.9465 | Actual Loss: 2.0740\n",
      "Epoch 170/1000: Train Loss: 3.3196, Val Loss: 2.0740\n",
      "New best validation loss: 2.0740\n"
     ]
    },
    {
     "name": "stderr",
     "output_type": "stream",
     "text": [
      "Training:  17%|█▋        | 171/1000 [08:09<42:57,  3.11s/it]"
     ]
    },
    {
     "name": "stdout",
     "output_type": "stream",
     "text": [
      "Baseline Loss: 5.3050 | Actual Loss: 3.3286\n",
      "Baseline Loss: 3.9465 | Actual Loss: 2.1226\n",
      "Epoch 171/1000: Train Loss: 3.3286, Val Loss: 2.1226\n"
     ]
    },
    {
     "name": "stderr",
     "output_type": "stream",
     "text": [
      "Training:  17%|█▋        | 172/1000 [08:12<41:35,  3.01s/it]"
     ]
    },
    {
     "name": "stdout",
     "output_type": "stream",
     "text": [
      "Baseline Loss: 5.3050 | Actual Loss: 3.2938\n",
      "Baseline Loss: 3.9465 | Actual Loss: 2.0782\n",
      "Epoch 172/1000: Train Loss: 3.2938, Val Loss: 2.0782\n"
     ]
    },
    {
     "name": "stderr",
     "output_type": "stream",
     "text": [
      "Training:  17%|█▋        | 173/1000 [08:15<41:00,  2.97s/it]"
     ]
    },
    {
     "name": "stdout",
     "output_type": "stream",
     "text": [
      "Baseline Loss: 5.3050 | Actual Loss: 3.3397\n",
      "Baseline Loss: 3.9465 | Actual Loss: 2.0752\n",
      "Epoch 173/1000: Train Loss: 3.3397, Val Loss: 2.0752\n",
      "Baseline Loss: 5.3050 | Actual Loss: 3.3032\n"
     ]
    },
    {
     "name": "stderr",
     "output_type": "stream",
     "text": [
      "Training:  17%|█▋        | 174/1000 [08:18<39:31,  2.87s/it]"
     ]
    },
    {
     "name": "stdout",
     "output_type": "stream",
     "text": [
      "Baseline Loss: 3.9465 | Actual Loss: 2.1364\n",
      "Epoch 174/1000: Train Loss: 3.3032, Val Loss: 2.1364\n",
      "Baseline Loss: 5.3050 | Actual Loss: 3.3151\n"
     ]
    },
    {
     "name": "stderr",
     "output_type": "stream",
     "text": [
      "Training:  18%|█▊        | 175/1000 [08:21<43:02,  3.13s/it]"
     ]
    },
    {
     "name": "stdout",
     "output_type": "stream",
     "text": [
      "Baseline Loss: 3.9465 | Actual Loss: 2.0676\n",
      "Epoch 175/1000: Train Loss: 3.3151, Val Loss: 2.0676\n",
      "New best validation loss: 2.0676\n"
     ]
    },
    {
     "name": "stderr",
     "output_type": "stream",
     "text": [
      "Training:  18%|█▊        | 176/1000 [08:24<42:06,  3.07s/it]"
     ]
    },
    {
     "name": "stdout",
     "output_type": "stream",
     "text": [
      "Baseline Loss: 5.3050 | Actual Loss: 3.3003\n",
      "Baseline Loss: 3.9465 | Actual Loss: 2.1899\n",
      "Epoch 176/1000: Train Loss: 3.3003, Val Loss: 2.1899\n"
     ]
    },
    {
     "name": "stderr",
     "output_type": "stream",
     "text": [
      "Training:  18%|█▊        | 177/1000 [08:27<41:03,  2.99s/it]"
     ]
    },
    {
     "name": "stdout",
     "output_type": "stream",
     "text": [
      "Baseline Loss: 5.3050 | Actual Loss: 3.2896\n",
      "Baseline Loss: 3.9465 | Actual Loss: 2.0330\n",
      "Epoch 177/1000: Train Loss: 3.2896, Val Loss: 2.0330\n",
      "New best validation loss: 2.0330\n"
     ]
    },
    {
     "name": "stderr",
     "output_type": "stream",
     "text": [
      "Training:  18%|█▊        | 178/1000 [08:30<40:56,  2.99s/it]"
     ]
    },
    {
     "name": "stdout",
     "output_type": "stream",
     "text": [
      "Baseline Loss: 5.3050 | Actual Loss: 3.3731\n",
      "Baseline Loss: 3.9465 | Actual Loss: 2.0236\n",
      "Epoch 178/1000: Train Loss: 3.3731, Val Loss: 2.0236\n",
      "New best validation loss: 2.0236\n"
     ]
    },
    {
     "name": "stderr",
     "output_type": "stream",
     "text": [
      "Training:  18%|█▊        | 179/1000 [08:33<39:20,  2.88s/it]"
     ]
    },
    {
     "name": "stdout",
     "output_type": "stream",
     "text": [
      "Baseline Loss: 5.3050 | Actual Loss: 3.2715\n",
      "Baseline Loss: 3.9465 | Actual Loss: 2.0631\n",
      "Epoch 179/1000: Train Loss: 3.2715, Val Loss: 2.0631\n",
      "Baseline Loss: 5.3050 | Actual Loss: 3.3163\n"
     ]
    },
    {
     "name": "stderr",
     "output_type": "stream",
     "text": [
      "Training:  18%|█▊        | 180/1000 [08:36<39:56,  2.92s/it]"
     ]
    },
    {
     "name": "stdout",
     "output_type": "stream",
     "text": [
      "Baseline Loss: 3.9465 | Actual Loss: 2.0144\n",
      "Epoch 180/1000: Train Loss: 3.3163, Val Loss: 2.0144\n",
      "New best validation loss: 2.0144\n",
      "Baseline Loss: 5.3050 | Actual Loss: 3.2323\n"
     ]
    },
    {
     "name": "stderr",
     "output_type": "stream",
     "text": [
      "Training:  18%|█▊        | 181/1000 [08:39<41:17,  3.03s/it]"
     ]
    },
    {
     "name": "stdout",
     "output_type": "stream",
     "text": [
      "Baseline Loss: 3.9465 | Actual Loss: 2.0614\n",
      "Epoch 181/1000: Train Loss: 3.2323, Val Loss: 2.0614\n",
      "Baseline Loss: 5.3050 | Actual Loss: 3.2391\n"
     ]
    },
    {
     "name": "stderr",
     "output_type": "stream",
     "text": [
      "Training:  18%|█▊        | 182/1000 [08:42<40:32,  2.97s/it]"
     ]
    },
    {
     "name": "stdout",
     "output_type": "stream",
     "text": [
      "Baseline Loss: 3.9465 | Actual Loss: 2.0974\n",
      "Epoch 182/1000: Train Loss: 3.2391, Val Loss: 2.0974\n",
      "Baseline Loss: 5.3050 | Actual Loss: 3.3224\n"
     ]
    },
    {
     "name": "stderr",
     "output_type": "stream",
     "text": [
      "Training:  18%|█▊        | 183/1000 [08:45<39:47,  2.92s/it]"
     ]
    },
    {
     "name": "stdout",
     "output_type": "stream",
     "text": [
      "Baseline Loss: 3.9465 | Actual Loss: 2.0081\n",
      "Epoch 183/1000: Train Loss: 3.3224, Val Loss: 2.0081\n",
      "New best validation loss: 2.0081\n",
      "Baseline Loss: 5.3050 | Actual Loss: 3.2667\n"
     ]
    },
    {
     "name": "stderr",
     "output_type": "stream",
     "text": [
      "Training:  18%|█▊        | 184/1000 [08:48<39:31,  2.91s/it]"
     ]
    },
    {
     "name": "stdout",
     "output_type": "stream",
     "text": [
      "Baseline Loss: 3.9465 | Actual Loss: 2.0128\n",
      "Epoch 184/1000: Train Loss: 3.2667, Val Loss: 2.0128\n",
      "Baseline Loss: 5.3050 | Actual Loss: 3.2296\n"
     ]
    },
    {
     "name": "stderr",
     "output_type": "stream",
     "text": [
      "Training:  18%|█▊        | 185/1000 [08:51<39:53,  2.94s/it]"
     ]
    },
    {
     "name": "stdout",
     "output_type": "stream",
     "text": [
      "Baseline Loss: 3.9465 | Actual Loss: 2.0098\n",
      "Epoch 185/1000: Train Loss: 3.2296, Val Loss: 2.0098\n"
     ]
    },
    {
     "name": "stderr",
     "output_type": "stream",
     "text": [
      "Training:  19%|█▊        | 186/1000 [08:54<41:30,  3.06s/it]"
     ]
    },
    {
     "name": "stdout",
     "output_type": "stream",
     "text": [
      "Baseline Loss: 5.3050 | Actual Loss: 3.2935\n",
      "Baseline Loss: 3.9465 | Actual Loss: 2.0343\n",
      "Epoch 186/1000: Train Loss: 3.2935, Val Loss: 2.0343\n",
      "Baseline Loss: 5.3050 | Actual Loss: 3.2401\n"
     ]
    },
    {
     "name": "stderr",
     "output_type": "stream",
     "text": [
      "Training:  19%|█▊        | 187/1000 [08:57<40:19,  2.98s/it]"
     ]
    },
    {
     "name": "stdout",
     "output_type": "stream",
     "text": [
      "Baseline Loss: 3.9465 | Actual Loss: 2.1276\n",
      "Epoch 187/1000: Train Loss: 3.2401, Val Loss: 2.1276\n",
      "Baseline Loss: 5.3050 | Actual Loss: 3.1834\n"
     ]
    },
    {
     "name": "stderr",
     "output_type": "stream",
     "text": [
      "Training:  19%|█▉        | 188/1000 [08:59<39:36,  2.93s/it]"
     ]
    },
    {
     "name": "stdout",
     "output_type": "stream",
     "text": [
      "Baseline Loss: 3.9465 | Actual Loss: 2.0719\n",
      "Epoch 188/1000: Train Loss: 3.1834, Val Loss: 2.0719\n",
      "Baseline Loss: 5.3050 | Actual Loss: 3.1942\n"
     ]
    },
    {
     "name": "stderr",
     "output_type": "stream",
     "text": [
      "Training:  19%|█▉        | 189/1000 [09:02<38:09,  2.82s/it]"
     ]
    },
    {
     "name": "stdout",
     "output_type": "stream",
     "text": [
      "Baseline Loss: 3.9465 | Actual Loss: 2.0430\n",
      "Epoch 189/1000: Train Loss: 3.1942, Val Loss: 2.0430\n",
      "Baseline Loss: 5.3050 | Actual Loss: 3.2110\n"
     ]
    },
    {
     "name": "stderr",
     "output_type": "stream",
     "text": [
      "Training:  19%|█▉        | 190/1000 [09:05<38:48,  2.87s/it]"
     ]
    },
    {
     "name": "stdout",
     "output_type": "stream",
     "text": [
      "Baseline Loss: 3.9465 | Actual Loss: 2.0212\n",
      "Epoch 190/1000: Train Loss: 3.2110, Val Loss: 2.0212\n",
      "Baseline Loss: 5.3050 | Actual Loss: 3.2078\n"
     ]
    },
    {
     "name": "stderr",
     "output_type": "stream",
     "text": [
      "Training:  19%|█▉        | 191/1000 [09:08<38:55,  2.89s/it]"
     ]
    },
    {
     "name": "stdout",
     "output_type": "stream",
     "text": [
      "Baseline Loss: 3.9465 | Actual Loss: 1.9839\n",
      "Epoch 191/1000: Train Loss: 3.2078, Val Loss: 1.9839\n",
      "New best validation loss: 1.9839\n",
      "Baseline Loss: 5.3050 | Actual Loss: 3.2103\n"
     ]
    },
    {
     "name": "stderr",
     "output_type": "stream",
     "text": [
      "Training:  19%|█▉        | 192/1000 [09:11<38:29,  2.86s/it]"
     ]
    },
    {
     "name": "stdout",
     "output_type": "stream",
     "text": [
      "Baseline Loss: 3.9465 | Actual Loss: 2.0746\n",
      "Epoch 192/1000: Train Loss: 3.2103, Val Loss: 2.0746\n",
      "Baseline Loss: 5.3050 | Actual Loss: 3.2054\n"
     ]
    },
    {
     "name": "stderr",
     "output_type": "stream",
     "text": [
      "Training:  19%|█▉        | 193/1000 [09:14<38:17,  2.85s/it]"
     ]
    },
    {
     "name": "stdout",
     "output_type": "stream",
     "text": [
      "Baseline Loss: 3.9465 | Actual Loss: 2.0063\n",
      "Epoch 193/1000: Train Loss: 3.2054, Val Loss: 2.0063\n",
      "Baseline Loss: 5.3050 | Actual Loss: 3.2732\n"
     ]
    },
    {
     "name": "stderr",
     "output_type": "stream",
     "text": [
      "Training:  19%|█▉        | 194/1000 [09:16<37:15,  2.77s/it]"
     ]
    },
    {
     "name": "stdout",
     "output_type": "stream",
     "text": [
      "Baseline Loss: 3.9465 | Actual Loss: 1.9171\n",
      "Epoch 194/1000: Train Loss: 3.2732, Val Loss: 1.9171\n",
      "New best validation loss: 1.9171\n",
      "Baseline Loss: 5.3050 | Actual Loss: 3.2115\n"
     ]
    },
    {
     "name": "stderr",
     "output_type": "stream",
     "text": [
      "Training:  20%|█▉        | 195/1000 [09:19<38:04,  2.84s/it]"
     ]
    },
    {
     "name": "stdout",
     "output_type": "stream",
     "text": [
      "Baseline Loss: 3.9465 | Actual Loss: 1.9884\n",
      "Epoch 195/1000: Train Loss: 3.2115, Val Loss: 1.9884\n",
      "Baseline Loss: 5.3050 | Actual Loss: 3.1685\n"
     ]
    },
    {
     "name": "stderr",
     "output_type": "stream",
     "text": [
      "Training:  20%|█▉        | 196/1000 [09:22<38:20,  2.86s/it]"
     ]
    },
    {
     "name": "stdout",
     "output_type": "stream",
     "text": [
      "Baseline Loss: 3.9465 | Actual Loss: 1.9606\n",
      "Epoch 196/1000: Train Loss: 3.1685, Val Loss: 1.9606\n",
      "Baseline Loss: 5.3050 | Actual Loss: 3.1280\n"
     ]
    },
    {
     "name": "stderr",
     "output_type": "stream",
     "text": [
      "Training:  20%|█▉        | 197/1000 [09:25<38:04,  2.84s/it]"
     ]
    },
    {
     "name": "stdout",
     "output_type": "stream",
     "text": [
      "Baseline Loss: 3.9465 | Actual Loss: 1.8511\n",
      "Epoch 197/1000: Train Loss: 3.1280, Val Loss: 1.8511\n",
      "New best validation loss: 1.8511\n"
     ]
    },
    {
     "name": "stderr",
     "output_type": "stream",
     "text": [
      "Training:  20%|█▉        | 198/1000 [09:28<38:05,  2.85s/it]"
     ]
    },
    {
     "name": "stdout",
     "output_type": "stream",
     "text": [
      "Baseline Loss: 5.3050 | Actual Loss: 3.1920\n",
      "Baseline Loss: 3.9465 | Actual Loss: 1.9354\n",
      "Epoch 198/1000: Train Loss: 3.1920, Val Loss: 1.9354\n"
     ]
    },
    {
     "name": "stderr",
     "output_type": "stream",
     "text": [
      "Training:  20%|█▉        | 199/1000 [09:30<37:23,  2.80s/it]"
     ]
    },
    {
     "name": "stdout",
     "output_type": "stream",
     "text": [
      "Baseline Loss: 5.3050 | Actual Loss: 3.1720\n",
      "Baseline Loss: 3.9465 | Actual Loss: 1.9672\n",
      "Epoch 199/1000: Train Loss: 3.1720, Val Loss: 1.9672\n",
      "Baseline Loss: 5.3050 | Actual Loss: 3.1786\n"
     ]
    },
    {
     "name": "stderr",
     "output_type": "stream",
     "text": [
      "Training:  20%|██        | 200/1000 [09:33<38:04,  2.86s/it]"
     ]
    },
    {
     "name": "stdout",
     "output_type": "stream",
     "text": [
      "Baseline Loss: 3.9465 | Actual Loss: 1.9294\n",
      "Epoch 200/1000: Train Loss: 3.1786, Val Loss: 1.9294\n"
     ]
    },
    {
     "name": "stderr",
     "output_type": "stream",
     "text": [
      "Training:  20%|██        | 201/1000 [09:36<38:23,  2.88s/it]"
     ]
    },
    {
     "name": "stdout",
     "output_type": "stream",
     "text": [
      "Baseline Loss: 5.3050 | Actual Loss: 3.1789\n",
      "Baseline Loss: 3.9465 | Actual Loss: 1.9987\n",
      "Epoch 201/1000: Train Loss: 3.1789, Val Loss: 1.9987\n"
     ]
    },
    {
     "name": "stderr",
     "output_type": "stream",
     "text": [
      "Training:  20%|██        | 202/1000 [09:39<38:58,  2.93s/it]"
     ]
    },
    {
     "name": "stdout",
     "output_type": "stream",
     "text": [
      "Baseline Loss: 5.3050 | Actual Loss: 3.1477\n",
      "Baseline Loss: 3.9465 | Actual Loss: 1.9559\n",
      "Epoch 202/1000: Train Loss: 3.1477, Val Loss: 1.9559\n",
      "Baseline Loss: 5.3050 | Actual Loss: 3.1265\n"
     ]
    },
    {
     "name": "stderr",
     "output_type": "stream",
     "text": [
      "Training:  20%|██        | 203/1000 [09:42<38:32,  2.90s/it]"
     ]
    },
    {
     "name": "stdout",
     "output_type": "stream",
     "text": [
      "Baseline Loss: 3.9465 | Actual Loss: 2.0181\n",
      "Epoch 203/1000: Train Loss: 3.1265, Val Loss: 2.0181\n"
     ]
    },
    {
     "name": "stderr",
     "output_type": "stream",
     "text": [
      "Training:  20%|██        | 204/1000 [09:45<37:20,  2.81s/it]"
     ]
    },
    {
     "name": "stdout",
     "output_type": "stream",
     "text": [
      "Baseline Loss: 5.3050 | Actual Loss: 3.1365\n",
      "Baseline Loss: 3.9465 | Actual Loss: 1.9013\n",
      "Epoch 204/1000: Train Loss: 3.1365, Val Loss: 1.9013\n",
      "Baseline Loss: 5.3050 | Actual Loss: 3.1376\n"
     ]
    },
    {
     "name": "stderr",
     "output_type": "stream",
     "text": [
      "Training:  20%|██        | 205/1000 [09:48<37:59,  2.87s/it]"
     ]
    },
    {
     "name": "stdout",
     "output_type": "stream",
     "text": [
      "Baseline Loss: 3.9465 | Actual Loss: 1.9253\n",
      "Epoch 205/1000: Train Loss: 3.1376, Val Loss: 1.9253\n"
     ]
    },
    {
     "name": "stderr",
     "output_type": "stream",
     "text": [
      "Training:  21%|██        | 206/1000 [09:51<38:10,  2.88s/it]"
     ]
    },
    {
     "name": "stdout",
     "output_type": "stream",
     "text": [
      "Baseline Loss: 5.3050 | Actual Loss: 3.1303\n",
      "Baseline Loss: 3.9465 | Actual Loss: 1.9913\n",
      "Epoch 206/1000: Train Loss: 3.1303, Val Loss: 1.9913\n"
     ]
    },
    {
     "name": "stderr",
     "output_type": "stream",
     "text": [
      "Training:  21%|██        | 207/1000 [09:54<37:43,  2.85s/it]"
     ]
    },
    {
     "name": "stdout",
     "output_type": "stream",
     "text": [
      "Baseline Loss: 5.3050 | Actual Loss: 3.1247\n",
      "Baseline Loss: 3.9465 | Actual Loss: 2.0677\n",
      "Epoch 207/1000: Train Loss: 3.1247, Val Loss: 2.0677\n"
     ]
    },
    {
     "name": "stderr",
     "output_type": "stream",
     "text": [
      "Training:  21%|██        | 208/1000 [09:56<37:36,  2.85s/it]"
     ]
    },
    {
     "name": "stdout",
     "output_type": "stream",
     "text": [
      "Baseline Loss: 5.3050 | Actual Loss: 3.0947\n",
      "Baseline Loss: 3.9465 | Actual Loss: 2.0312\n",
      "Epoch 208/1000: Train Loss: 3.0947, Val Loss: 2.0312\n",
      "Baseline Loss: 5.3050 | Actual Loss: 3.1210\n"
     ]
    },
    {
     "name": "stderr",
     "output_type": "stream",
     "text": [
      "Training:  21%|██        | 209/1000 [09:59<36:43,  2.79s/it]"
     ]
    },
    {
     "name": "stdout",
     "output_type": "stream",
     "text": [
      "Baseline Loss: 3.9465 | Actual Loss: 1.9904\n",
      "Epoch 209/1000: Train Loss: 3.1210, Val Loss: 1.9904\n",
      "Baseline Loss: 5.3050 | Actual Loss: 3.0849\n"
     ]
    },
    {
     "name": "stderr",
     "output_type": "stream",
     "text": [
      "Training:  21%|██        | 210/1000 [10:02<37:35,  2.86s/it]"
     ]
    },
    {
     "name": "stdout",
     "output_type": "stream",
     "text": [
      "Baseline Loss: 3.9465 | Actual Loss: 1.8407\n",
      "Epoch 210/1000: Train Loss: 3.0849, Val Loss: 1.8407\n",
      "New best validation loss: 1.8407\n"
     ]
    },
    {
     "name": "stderr",
     "output_type": "stream",
     "text": [
      "Training:  21%|██        | 211/1000 [10:05<37:39,  2.86s/it]"
     ]
    },
    {
     "name": "stdout",
     "output_type": "stream",
     "text": [
      "Baseline Loss: 5.3050 | Actual Loss: 3.0798\n",
      "Baseline Loss: 3.9465 | Actual Loss: 2.0113\n",
      "Epoch 211/1000: Train Loss: 3.0798, Val Loss: 2.0113\n"
     ]
    },
    {
     "name": "stderr",
     "output_type": "stream",
     "text": [
      "Training:  21%|██        | 212/1000 [10:08<37:16,  2.84s/it]"
     ]
    },
    {
     "name": "stdout",
     "output_type": "stream",
     "text": [
      "Baseline Loss: 5.3050 | Actual Loss: 3.1166\n",
      "Baseline Loss: 3.9465 | Actual Loss: 1.9076\n",
      "Epoch 212/1000: Train Loss: 3.1166, Val Loss: 1.9076\n"
     ]
    },
    {
     "name": "stderr",
     "output_type": "stream",
     "text": [
      "Training:  21%|██▏       | 213/1000 [10:11<37:38,  2.87s/it]"
     ]
    },
    {
     "name": "stdout",
     "output_type": "stream",
     "text": [
      "Baseline Loss: 5.3050 | Actual Loss: 3.1058\n",
      "Baseline Loss: 3.9465 | Actual Loss: 1.8522\n",
      "Epoch 213/1000: Train Loss: 3.1058, Val Loss: 1.8522\n"
     ]
    },
    {
     "name": "stderr",
     "output_type": "stream",
     "text": [
      "Training:  21%|██▏       | 214/1000 [10:13<36:27,  2.78s/it]"
     ]
    },
    {
     "name": "stdout",
     "output_type": "stream",
     "text": [
      "Baseline Loss: 5.3050 | Actual Loss: 3.0958\n",
      "Baseline Loss: 3.9465 | Actual Loss: 1.8527\n",
      "Epoch 214/1000: Train Loss: 3.0958, Val Loss: 1.8527\n",
      "Baseline Loss: 5.3050 | Actual Loss: 3.0663\n"
     ]
    },
    {
     "name": "stderr",
     "output_type": "stream",
     "text": [
      "Training:  22%|██▏       | 215/1000 [10:16<37:12,  2.84s/it]"
     ]
    },
    {
     "name": "stdout",
     "output_type": "stream",
     "text": [
      "Baseline Loss: 3.9465 | Actual Loss: 1.8169\n",
      "Epoch 215/1000: Train Loss: 3.0663, Val Loss: 1.8169\n",
      "New best validation loss: 1.8169\n"
     ]
    },
    {
     "name": "stderr",
     "output_type": "stream",
     "text": [
      "Training:  22%|██▏       | 216/1000 [10:19<37:18,  2.86s/it]"
     ]
    },
    {
     "name": "stdout",
     "output_type": "stream",
     "text": [
      "Baseline Loss: 5.3051 | Actual Loss: 3.1266\n",
      "Baseline Loss: 3.9465 | Actual Loss: 1.8388\n",
      "Epoch 216/1000: Train Loss: 3.1266, Val Loss: 1.8388\n"
     ]
    },
    {
     "name": "stderr",
     "output_type": "stream",
     "text": [
      "Training:  22%|██▏       | 217/1000 [10:22<37:50,  2.90s/it]"
     ]
    },
    {
     "name": "stdout",
     "output_type": "stream",
     "text": [
      "Baseline Loss: 5.3050 | Actual Loss: 3.0700\n",
      "Baseline Loss: 3.9465 | Actual Loss: 1.8302\n",
      "Epoch 217/1000: Train Loss: 3.0700, Val Loss: 1.8302\n"
     ]
    },
    {
     "name": "stderr",
     "output_type": "stream",
     "text": [
      "Training:  22%|██▏       | 218/1000 [10:25<37:32,  2.88s/it]"
     ]
    },
    {
     "name": "stdout",
     "output_type": "stream",
     "text": [
      "Baseline Loss: 5.3050 | Actual Loss: 3.0328\n",
      "Baseline Loss: 3.9465 | Actual Loss: 1.8469\n",
      "Epoch 218/1000: Train Loss: 3.0328, Val Loss: 1.8469\n"
     ]
    },
    {
     "name": "stderr",
     "output_type": "stream",
     "text": [
      "Training:  22%|██▏       | 219/1000 [10:28<36:16,  2.79s/it]"
     ]
    },
    {
     "name": "stdout",
     "output_type": "stream",
     "text": [
      "Baseline Loss: 5.3050 | Actual Loss: 3.0562\n",
      "Baseline Loss: 3.9465 | Actual Loss: 1.8248\n",
      "Epoch 219/1000: Train Loss: 3.0562, Val Loss: 1.8248\n",
      "Baseline Loss: 5.3050 | Actual Loss: 3.0784\n"
     ]
    },
    {
     "name": "stderr",
     "output_type": "stream",
     "text": [
      "Training:  22%|██▏       | 220/1000 [10:31<37:04,  2.85s/it]"
     ]
    },
    {
     "name": "stdout",
     "output_type": "stream",
     "text": [
      "Baseline Loss: 3.9465 | Actual Loss: 1.8690\n",
      "Epoch 220/1000: Train Loss: 3.0784, Val Loss: 1.8690\n"
     ]
    },
    {
     "name": "stderr",
     "output_type": "stream",
     "text": [
      "Training:  22%|██▏       | 221/1000 [10:33<37:11,  2.86s/it]"
     ]
    },
    {
     "name": "stdout",
     "output_type": "stream",
     "text": [
      "Baseline Loss: 5.3050 | Actual Loss: 3.1098\n",
      "Baseline Loss: 3.9465 | Actual Loss: 1.8642\n",
      "Epoch 221/1000: Train Loss: 3.1098, Val Loss: 1.8642\n"
     ]
    },
    {
     "name": "stderr",
     "output_type": "stream",
     "text": [
      "Training:  22%|██▏       | 222/1000 [10:36<36:46,  2.84s/it]"
     ]
    },
    {
     "name": "stdout",
     "output_type": "stream",
     "text": [
      "Baseline Loss: 5.3050 | Actual Loss: 3.0435\n",
      "Baseline Loss: 3.9465 | Actual Loss: 1.8576\n",
      "Epoch 222/1000: Train Loss: 3.0435, Val Loss: 1.8576\n"
     ]
    },
    {
     "name": "stderr",
     "output_type": "stream",
     "text": [
      "Training:  22%|██▏       | 223/1000 [10:39<36:29,  2.82s/it]"
     ]
    },
    {
     "name": "stdout",
     "output_type": "stream",
     "text": [
      "Baseline Loss: 5.3050 | Actual Loss: 2.9686\n",
      "Baseline Loss: 3.9465 | Actual Loss: 1.7840\n",
      "Epoch 223/1000: Train Loss: 2.9686, Val Loss: 1.7840\n",
      "New best validation loss: 1.7840\n"
     ]
    },
    {
     "name": "stderr",
     "output_type": "stream",
     "text": [
      "Training:  22%|██▏       | 224/1000 [10:42<35:28,  2.74s/it]"
     ]
    },
    {
     "name": "stdout",
     "output_type": "stream",
     "text": [
      "Baseline Loss: 5.3050 | Actual Loss: 2.9794\n",
      "Baseline Loss: 3.9465 | Actual Loss: 1.8041\n",
      "Epoch 224/1000: Train Loss: 2.9794, Val Loss: 1.8041\n",
      "Baseline Loss: 5.3050 | Actual Loss: 2.9812\n"
     ]
    },
    {
     "name": "stderr",
     "output_type": "stream",
     "text": [
      "Training:  22%|██▎       | 225/1000 [10:45<36:25,  2.82s/it]"
     ]
    },
    {
     "name": "stdout",
     "output_type": "stream",
     "text": [
      "Baseline Loss: 3.9465 | Actual Loss: 1.8333\n",
      "Epoch 225/1000: Train Loss: 2.9812, Val Loss: 1.8333\n"
     ]
    },
    {
     "name": "stderr",
     "output_type": "stream",
     "text": [
      "Training:  23%|██▎       | 226/1000 [10:47<36:49,  2.85s/it]"
     ]
    },
    {
     "name": "stdout",
     "output_type": "stream",
     "text": [
      "Baseline Loss: 5.3050 | Actual Loss: 3.0051\n",
      "Baseline Loss: 3.9465 | Actual Loss: 1.8096\n",
      "Epoch 226/1000: Train Loss: 3.0051, Val Loss: 1.8096\n"
     ]
    },
    {
     "name": "stderr",
     "output_type": "stream",
     "text": [
      "Training:  23%|██▎       | 227/1000 [10:50<36:24,  2.83s/it]"
     ]
    },
    {
     "name": "stdout",
     "output_type": "stream",
     "text": [
      "Baseline Loss: 5.3050 | Actual Loss: 3.0220\n",
      "Baseline Loss: 3.9465 | Actual Loss: 1.8385\n",
      "Epoch 227/1000: Train Loss: 3.0220, Val Loss: 1.8385\n"
     ]
    },
    {
     "name": "stderr",
     "output_type": "stream",
     "text": [
      "Training:  23%|██▎       | 228/1000 [10:53<36:18,  2.82s/it]"
     ]
    },
    {
     "name": "stdout",
     "output_type": "stream",
     "text": [
      "Baseline Loss: 5.3050 | Actual Loss: 2.9692\n",
      "Baseline Loss: 3.9465 | Actual Loss: 1.7212\n",
      "Epoch 228/1000: Train Loss: 2.9692, Val Loss: 1.7212\n",
      "New best validation loss: 1.7212\n"
     ]
    },
    {
     "name": "stderr",
     "output_type": "stream",
     "text": [
      "Training:  23%|██▎       | 229/1000 [10:56<35:20,  2.75s/it]"
     ]
    },
    {
     "name": "stdout",
     "output_type": "stream",
     "text": [
      "Baseline Loss: 5.3050 | Actual Loss: 2.9501\n",
      "Baseline Loss: 3.9465 | Actual Loss: 1.8587\n",
      "Epoch 229/1000: Train Loss: 2.9501, Val Loss: 1.8587\n",
      "Baseline Loss: 5.3050 | Actual Loss: 2.9491\n"
     ]
    },
    {
     "name": "stderr",
     "output_type": "stream",
     "text": [
      "Training:  23%|██▎       | 230/1000 [10:59<36:10,  2.82s/it]"
     ]
    },
    {
     "name": "stdout",
     "output_type": "stream",
     "text": [
      "Baseline Loss: 3.9465 | Actual Loss: 1.7495\n",
      "Epoch 230/1000: Train Loss: 2.9491, Val Loss: 1.7495\n"
     ]
    },
    {
     "name": "stderr",
     "output_type": "stream",
     "text": [
      "Training:  23%|██▎       | 231/1000 [11:02<36:30,  2.85s/it]"
     ]
    },
    {
     "name": "stdout",
     "output_type": "stream",
     "text": [
      "Baseline Loss: 5.3050 | Actual Loss: 2.9884\n",
      "Baseline Loss: 3.9465 | Actual Loss: 1.7906\n",
      "Epoch 231/1000: Train Loss: 2.9884, Val Loss: 1.7906\n"
     ]
    },
    {
     "name": "stderr",
     "output_type": "stream",
     "text": [
      "Training:  23%|██▎       | 232/1000 [11:04<36:12,  2.83s/it]"
     ]
    },
    {
     "name": "stdout",
     "output_type": "stream",
     "text": [
      "Baseline Loss: 5.3050 | Actual Loss: 2.9495\n",
      "Baseline Loss: 3.9465 | Actual Loss: 1.8401\n",
      "Epoch 232/1000: Train Loss: 2.9495, Val Loss: 1.8401\n"
     ]
    },
    {
     "name": "stderr",
     "output_type": "stream",
     "text": [
      "Training:  23%|██▎       | 233/1000 [11:07<36:12,  2.83s/it]"
     ]
    },
    {
     "name": "stdout",
     "output_type": "stream",
     "text": [
      "Baseline Loss: 5.3050 | Actual Loss: 2.9109\n",
      "Baseline Loss: 3.9465 | Actual Loss: 1.7326\n",
      "Epoch 233/1000: Train Loss: 2.9109, Val Loss: 1.7326\n"
     ]
    },
    {
     "name": "stderr",
     "output_type": "stream",
     "text": [
      "Training:  23%|██▎       | 234/1000 [11:10<35:26,  2.78s/it]"
     ]
    },
    {
     "name": "stdout",
     "output_type": "stream",
     "text": [
      "Baseline Loss: 5.3050 | Actual Loss: 3.0036\n",
      "Baseline Loss: 3.9465 | Actual Loss: 1.8031\n",
      "Epoch 234/1000: Train Loss: 3.0036, Val Loss: 1.8031\n",
      "Baseline Loss: 5.3050 | Actual Loss: 2.9275\n"
     ]
    },
    {
     "name": "stderr",
     "output_type": "stream",
     "text": [
      "Training:  24%|██▎       | 235/1000 [11:13<36:16,  2.84s/it]"
     ]
    },
    {
     "name": "stdout",
     "output_type": "stream",
     "text": [
      "Baseline Loss: 3.9465 | Actual Loss: 1.7472\n",
      "Epoch 235/1000: Train Loss: 2.9275, Val Loss: 1.7472\n"
     ]
    },
    {
     "name": "stderr",
     "output_type": "stream",
     "text": [
      "Training:  24%|██▎       | 236/1000 [11:16<36:25,  2.86s/it]"
     ]
    },
    {
     "name": "stdout",
     "output_type": "stream",
     "text": [
      "Baseline Loss: 5.3050 | Actual Loss: 2.9223\n",
      "Baseline Loss: 3.9465 | Actual Loss: 1.7118\n",
      "Epoch 236/1000: Train Loss: 2.9223, Val Loss: 1.7118\n",
      "New best validation loss: 1.7118\n"
     ]
    },
    {
     "name": "stderr",
     "output_type": "stream",
     "text": [
      "Training:  24%|██▎       | 237/1000 [11:18<36:02,  2.83s/it]"
     ]
    },
    {
     "name": "stdout",
     "output_type": "stream",
     "text": [
      "Baseline Loss: 5.3050 | Actual Loss: 2.8522\n",
      "Baseline Loss: 3.9465 | Actual Loss: 1.7869\n",
      "Epoch 237/1000: Train Loss: 2.8522, Val Loss: 1.7869\n",
      "Baseline Loss: 5.3050 | Actual Loss: 2.9254\n",
      "Baseline Loss: 3.9465 | Actual Loss: 1.8344\n",
      "Epoch 238/1000: Train Loss: 2.9254, Val Loss: 1.8344\n"
     ]
    },
    {
     "name": "stderr",
     "output_type": "stream",
     "text": [
      "Training:  24%|██▍       | 239/1000 [11:24<35:01,  2.76s/it]"
     ]
    },
    {
     "name": "stdout",
     "output_type": "stream",
     "text": [
      "Baseline Loss: 5.3050 | Actual Loss: 2.9576\n",
      "Baseline Loss: 3.9465 | Actual Loss: 1.6873\n",
      "Epoch 239/1000: Train Loss: 2.9576, Val Loss: 1.6873\n",
      "New best validation loss: 1.6873\n",
      "Baseline Loss: 5.3050 | Actual Loss: 2.8858\n"
     ]
    },
    {
     "name": "stderr",
     "output_type": "stream",
     "text": [
      "Training:  24%|██▍       | 240/1000 [11:27<35:45,  2.82s/it]"
     ]
    },
    {
     "name": "stdout",
     "output_type": "stream",
     "text": [
      "Baseline Loss: 3.9465 | Actual Loss: 1.7090\n",
      "Epoch 240/1000: Train Loss: 2.8858, Val Loss: 1.7090\n",
      "Baseline Loss: 5.3050 | Actual Loss: 2.8972\n"
     ]
    },
    {
     "name": "stderr",
     "output_type": "stream",
     "text": [
      "Training:  24%|██▍       | 241/1000 [11:30<35:55,  2.84s/it]"
     ]
    },
    {
     "name": "stdout",
     "output_type": "stream",
     "text": [
      "Baseline Loss: 3.9465 | Actual Loss: 1.8075\n",
      "Epoch 241/1000: Train Loss: 2.8972, Val Loss: 1.8075\n"
     ]
    },
    {
     "name": "stderr",
     "output_type": "stream",
     "text": [
      "Training:  24%|██▍       | 242/1000 [11:33<35:40,  2.82s/it]"
     ]
    },
    {
     "name": "stdout",
     "output_type": "stream",
     "text": [
      "Baseline Loss: 5.3050 | Actual Loss: 2.8968\n",
      "Baseline Loss: 3.9465 | Actual Loss: 1.8072\n",
      "Epoch 242/1000: Train Loss: 2.8968, Val Loss: 1.8072\n"
     ]
    },
    {
     "name": "stderr",
     "output_type": "stream",
     "text": [
      "Training:  24%|██▍       | 243/1000 [11:35<35:27,  2.81s/it]"
     ]
    },
    {
     "name": "stdout",
     "output_type": "stream",
     "text": [
      "Baseline Loss: 5.3050 | Actual Loss: 2.9379\n",
      "Baseline Loss: 3.9465 | Actual Loss: 1.7854\n",
      "Epoch 243/1000: Train Loss: 2.9379, Val Loss: 1.7854\n"
     ]
    },
    {
     "name": "stderr",
     "output_type": "stream",
     "text": [
      "Training:  24%|██▍       | 244/1000 [11:38<34:28,  2.74s/it]"
     ]
    },
    {
     "name": "stdout",
     "output_type": "stream",
     "text": [
      "Baseline Loss: 5.3050 | Actual Loss: 2.9696\n",
      "Baseline Loss: 3.9465 | Actual Loss: 1.6857\n",
      "Epoch 244/1000: Train Loss: 2.9696, Val Loss: 1.6857\n",
      "New best validation loss: 1.6857\n",
      "Baseline Loss: 5.3050 | Actual Loss: 2.8852\n"
     ]
    },
    {
     "name": "stderr",
     "output_type": "stream",
     "text": [
      "Training:  24%|██▍       | 245/1000 [11:41<35:19,  2.81s/it]"
     ]
    },
    {
     "name": "stdout",
     "output_type": "stream",
     "text": [
      "Baseline Loss: 3.9465 | Actual Loss: 1.7688\n",
      "Epoch 245/1000: Train Loss: 2.8852, Val Loss: 1.7688\n"
     ]
    },
    {
     "name": "stderr",
     "output_type": "stream",
     "text": [
      "Training:  25%|██▍       | 246/1000 [11:44<35:39,  2.84s/it]"
     ]
    },
    {
     "name": "stdout",
     "output_type": "stream",
     "text": [
      "Baseline Loss: 5.3050 | Actual Loss: 2.9082\n",
      "Baseline Loss: 3.9465 | Actual Loss: 1.8101\n",
      "Epoch 246/1000: Train Loss: 2.9082, Val Loss: 1.8101\n"
     ]
    },
    {
     "name": "stderr",
     "output_type": "stream",
     "text": [
      "Training:  25%|██▍       | 247/1000 [11:47<37:56,  3.02s/it]"
     ]
    },
    {
     "name": "stdout",
     "output_type": "stream",
     "text": [
      "Baseline Loss: 5.3050 | Actual Loss: 2.9158\n",
      "Baseline Loss: 3.9465 | Actual Loss: 1.7753\n",
      "Epoch 247/1000: Train Loss: 2.9158, Val Loss: 1.7753\n"
     ]
    },
    {
     "name": "stderr",
     "output_type": "stream",
     "text": [
      "Training:  25%|██▍       | 248/1000 [11:50<38:35,  3.08s/it]"
     ]
    },
    {
     "name": "stdout",
     "output_type": "stream",
     "text": [
      "Baseline Loss: 5.3050 | Actual Loss: 2.8182\n",
      "Baseline Loss: 3.9465 | Actual Loss: 1.7118\n",
      "Epoch 248/1000: Train Loss: 2.8182, Val Loss: 1.7118\n"
     ]
    },
    {
     "name": "stderr",
     "output_type": "stream",
     "text": [
      "Training:  25%|██▍       | 249/1000 [11:53<36:52,  2.95s/it]"
     ]
    },
    {
     "name": "stdout",
     "output_type": "stream",
     "text": [
      "Baseline Loss: 5.3051 | Actual Loss: 2.8490\n",
      "Baseline Loss: 3.9465 | Actual Loss: 1.6915\n",
      "Epoch 249/1000: Train Loss: 2.8490, Val Loss: 1.6915\n",
      "Baseline Loss: 5.3050 | Actual Loss: 2.8372\n"
     ]
    },
    {
     "name": "stderr",
     "output_type": "stream",
     "text": [
      "Training:  25%|██▌       | 250/1000 [11:56<37:03,  2.96s/it]"
     ]
    },
    {
     "name": "stdout",
     "output_type": "stream",
     "text": [
      "Baseline Loss: 3.9465 | Actual Loss: 1.7834\n",
      "Epoch 250/1000: Train Loss: 2.8372, Val Loss: 1.7834\n"
     ]
    },
    {
     "name": "stderr",
     "output_type": "stream",
     "text": [
      "Training:  25%|██▌       | 251/1000 [11:59<36:58,  2.96s/it]"
     ]
    },
    {
     "name": "stdout",
     "output_type": "stream",
     "text": [
      "Baseline Loss: 5.3050 | Actual Loss: 2.8540\n",
      "Baseline Loss: 3.9465 | Actual Loss: 1.7501\n",
      "Epoch 251/1000: Train Loss: 2.8540, Val Loss: 1.7501\n"
     ]
    },
    {
     "name": "stderr",
     "output_type": "stream",
     "text": [
      "Training:  25%|██▌       | 252/1000 [12:02<36:25,  2.92s/it]"
     ]
    },
    {
     "name": "stdout",
     "output_type": "stream",
     "text": [
      "Baseline Loss: 5.3050 | Actual Loss: 2.8616\n",
      "Baseline Loss: 3.9465 | Actual Loss: 1.7056\n",
      "Epoch 252/1000: Train Loss: 2.8616, Val Loss: 1.7056\n"
     ]
    },
    {
     "name": "stderr",
     "output_type": "stream",
     "text": [
      "Training:  25%|██▌       | 253/1000 [12:05<35:56,  2.89s/it]"
     ]
    },
    {
     "name": "stdout",
     "output_type": "stream",
     "text": [
      "Baseline Loss: 5.3050 | Actual Loss: 2.8248\n",
      "Baseline Loss: 3.9465 | Actual Loss: 1.7506\n",
      "Epoch 253/1000: Train Loss: 2.8248, Val Loss: 1.7506\n",
      "Baseline Loss: 5.3050 | Actual Loss: 2.8239\n"
     ]
    },
    {
     "name": "stderr",
     "output_type": "stream",
     "text": [
      "Training:  25%|██▌       | 254/1000 [12:07<35:02,  2.82s/it]"
     ]
    },
    {
     "name": "stdout",
     "output_type": "stream",
     "text": [
      "Baseline Loss: 3.9465 | Actual Loss: 1.7050\n",
      "Epoch 254/1000: Train Loss: 2.8239, Val Loss: 1.7050\n",
      "Baseline Loss: 5.3050 | Actual Loss: 2.8496\n"
     ]
    },
    {
     "name": "stderr",
     "output_type": "stream",
     "text": [
      "Training:  26%|██▌       | 255/1000 [12:10<35:41,  2.87s/it]"
     ]
    },
    {
     "name": "stdout",
     "output_type": "stream",
     "text": [
      "Baseline Loss: 3.9465 | Actual Loss: 1.7684\n",
      "Epoch 255/1000: Train Loss: 2.8496, Val Loss: 1.7684\n"
     ]
    },
    {
     "name": "stderr",
     "output_type": "stream",
     "text": [
      "Training:  26%|██▌       | 256/1000 [12:13<35:51,  2.89s/it]"
     ]
    },
    {
     "name": "stdout",
     "output_type": "stream",
     "text": [
      "Baseline Loss: 5.3050 | Actual Loss: 2.7796\n",
      "Baseline Loss: 3.9465 | Actual Loss: 1.6673\n",
      "Epoch 256/1000: Train Loss: 2.7796, Val Loss: 1.6673\n",
      "New best validation loss: 1.6673\n",
      "Baseline Loss: 5.3050 | Actual Loss: 2.8353\n",
      "Baseline Loss: 3.9465 | Actual Loss: 1.6420\n",
      "Epoch 257/1000: Train Loss: 2.8353, Val Loss: 1.6420\n",
      "New best validation loss: 1.6420\n"
     ]
    },
    {
     "name": "stderr",
     "output_type": "stream",
     "text": [
      "Training:  26%|██▌       | 258/1000 [12:19<35:19,  2.86s/it]"
     ]
    },
    {
     "name": "stdout",
     "output_type": "stream",
     "text": [
      "Baseline Loss: 5.3050 | Actual Loss: 2.7691\n",
      "Baseline Loss: 3.9465 | Actual Loss: 1.7511\n",
      "Epoch 258/1000: Train Loss: 2.7691, Val Loss: 1.7511\n",
      "Baseline Loss: 5.3050 | Actual Loss: 2.7881\n"
     ]
    },
    {
     "name": "stderr",
     "output_type": "stream",
     "text": [
      "Training:  26%|██▌       | 259/1000 [12:21<34:23,  2.79s/it]"
     ]
    },
    {
     "name": "stdout",
     "output_type": "stream",
     "text": [
      "Baseline Loss: 3.9465 | Actual Loss: 1.6125\n",
      "Epoch 259/1000: Train Loss: 2.7881, Val Loss: 1.6125\n",
      "New best validation loss: 1.6125\n",
      "Baseline Loss: 5.3050 | Actual Loss: 2.8229\n"
     ]
    },
    {
     "name": "stderr",
     "output_type": "stream",
     "text": [
      "Training:  26%|██▌       | 260/1000 [12:24<35:07,  2.85s/it]"
     ]
    },
    {
     "name": "stdout",
     "output_type": "stream",
     "text": [
      "Baseline Loss: 3.9465 | Actual Loss: 1.6565\n",
      "Epoch 260/1000: Train Loss: 2.8229, Val Loss: 1.6565\n"
     ]
    },
    {
     "name": "stderr",
     "output_type": "stream",
     "text": [
      "Training:  26%|██▌       | 261/1000 [12:27<35:20,  2.87s/it]"
     ]
    },
    {
     "name": "stdout",
     "output_type": "stream",
     "text": [
      "Baseline Loss: 5.3050 | Actual Loss: 2.7994\n",
      "Baseline Loss: 3.9465 | Actual Loss: 1.7153\n",
      "Epoch 261/1000: Train Loss: 2.7994, Val Loss: 1.7153\n"
     ]
    },
    {
     "name": "stderr",
     "output_type": "stream",
     "text": [
      "Training:  26%|██▌       | 262/1000 [12:30<34:59,  2.85s/it]"
     ]
    },
    {
     "name": "stdout",
     "output_type": "stream",
     "text": [
      "Baseline Loss: 5.3050 | Actual Loss: 2.7950\n",
      "Baseline Loss: 3.9465 | Actual Loss: 1.6590\n",
      "Epoch 262/1000: Train Loss: 2.7950, Val Loss: 1.6590\n"
     ]
    },
    {
     "name": "stderr",
     "output_type": "stream",
     "text": [
      "Training:  26%|██▋       | 263/1000 [12:33<34:42,  2.83s/it]"
     ]
    },
    {
     "name": "stdout",
     "output_type": "stream",
     "text": [
      "Baseline Loss: 5.3050 | Actual Loss: 2.7619\n",
      "Baseline Loss: 3.9465 | Actual Loss: 1.6722\n",
      "Epoch 263/1000: Train Loss: 2.7619, Val Loss: 1.6722\n"
     ]
    },
    {
     "name": "stderr",
     "output_type": "stream",
     "text": [
      "Training:  26%|██▋       | 264/1000 [12:36<34:13,  2.79s/it]"
     ]
    },
    {
     "name": "stdout",
     "output_type": "stream",
     "text": [
      "Baseline Loss: 5.3050 | Actual Loss: 2.7497\n",
      "Baseline Loss: 3.9465 | Actual Loss: 1.6833\n",
      "Epoch 264/1000: Train Loss: 2.7497, Val Loss: 1.6833\n",
      "Baseline Loss: 5.3050 | Actual Loss: 2.7998\n"
     ]
    },
    {
     "name": "stderr",
     "output_type": "stream",
     "text": [
      "Training:  26%|██▋       | 265/1000 [12:39<35:04,  2.86s/it]"
     ]
    },
    {
     "name": "stdout",
     "output_type": "stream",
     "text": [
      "Baseline Loss: 3.9465 | Actual Loss: 1.7070\n",
      "Epoch 265/1000: Train Loss: 2.7998, Val Loss: 1.7070\n"
     ]
    },
    {
     "name": "stderr",
     "output_type": "stream",
     "text": [
      "Training:  27%|██▋       | 266/1000 [12:42<35:20,  2.89s/it]"
     ]
    },
    {
     "name": "stdout",
     "output_type": "stream",
     "text": [
      "Baseline Loss: 5.3050 | Actual Loss: 2.7375\n",
      "Baseline Loss: 3.9465 | Actual Loss: 1.5519\n",
      "Epoch 266/1000: Train Loss: 2.7375, Val Loss: 1.5519\n",
      "New best validation loss: 1.5519\n"
     ]
    },
    {
     "name": "stderr",
     "output_type": "stream",
     "text": [
      "Training:  27%|██▋       | 267/1000 [12:44<34:51,  2.85s/it]"
     ]
    },
    {
     "name": "stdout",
     "output_type": "stream",
     "text": [
      "Baseline Loss: 5.3050 | Actual Loss: 2.7539\n",
      "Baseline Loss: 3.9465 | Actual Loss: 1.5404\n",
      "Epoch 267/1000: Train Loss: 2.7539, Val Loss: 1.5404\n",
      "New best validation loss: 1.5404\n"
     ]
    },
    {
     "name": "stderr",
     "output_type": "stream",
     "text": [
      "Training:  27%|██▋       | 268/1000 [12:47<34:17,  2.81s/it]"
     ]
    },
    {
     "name": "stdout",
     "output_type": "stream",
     "text": [
      "Baseline Loss: 5.3050 | Actual Loss: 2.7969\n",
      "Baseline Loss: 3.9465 | Actual Loss: 1.5965\n",
      "Epoch 268/1000: Train Loss: 2.7969, Val Loss: 1.5965\n"
     ]
    },
    {
     "name": "stderr",
     "output_type": "stream",
     "text": [
      "Training:  27%|██▋       | 269/1000 [12:50<33:23,  2.74s/it]"
     ]
    },
    {
     "name": "stdout",
     "output_type": "stream",
     "text": [
      "Baseline Loss: 5.3050 | Actual Loss: 2.7201\n",
      "Baseline Loss: 3.9465 | Actual Loss: 1.7249\n",
      "Epoch 269/1000: Train Loss: 2.7201, Val Loss: 1.7249\n",
      "Baseline Loss: 5.3050 | Actual Loss: 2.7277\n"
     ]
    },
    {
     "name": "stderr",
     "output_type": "stream",
     "text": [
      "Training:  27%|██▋       | 270/1000 [12:53<34:07,  2.81s/it]"
     ]
    },
    {
     "name": "stdout",
     "output_type": "stream",
     "text": [
      "Baseline Loss: 3.9465 | Actual Loss: 1.6440\n",
      "Epoch 270/1000: Train Loss: 2.7277, Val Loss: 1.6440\n"
     ]
    },
    {
     "name": "stderr",
     "output_type": "stream",
     "text": [
      "Training:  27%|██▋       | 271/1000 [12:56<34:33,  2.84s/it]"
     ]
    },
    {
     "name": "stdout",
     "output_type": "stream",
     "text": [
      "Baseline Loss: 5.3050 | Actual Loss: 2.7187\n",
      "Baseline Loss: 3.9465 | Actual Loss: 1.5967\n",
      "Epoch 271/1000: Train Loss: 2.7187, Val Loss: 1.5967\n"
     ]
    },
    {
     "name": "stderr",
     "output_type": "stream",
     "text": [
      "Training:  27%|██▋       | 272/1000 [12:58<34:16,  2.82s/it]"
     ]
    },
    {
     "name": "stdout",
     "output_type": "stream",
     "text": [
      "Baseline Loss: 5.3050 | Actual Loss: 2.6891\n",
      "Baseline Loss: 3.9465 | Actual Loss: 1.6193\n",
      "Epoch 272/1000: Train Loss: 2.6891, Val Loss: 1.6193\n"
     ]
    },
    {
     "name": "stderr",
     "output_type": "stream",
     "text": [
      "Training:  27%|██▋       | 273/1000 [13:01<34:22,  2.84s/it]"
     ]
    },
    {
     "name": "stdout",
     "output_type": "stream",
     "text": [
      "Baseline Loss: 5.3050 | Actual Loss: 2.6850\n",
      "Baseline Loss: 3.9465 | Actual Loss: 1.5598\n",
      "Epoch 273/1000: Train Loss: 2.6850, Val Loss: 1.5598\n"
     ]
    },
    {
     "name": "stderr",
     "output_type": "stream",
     "text": [
      "Training:  27%|██▋       | 274/1000 [13:04<33:38,  2.78s/it]"
     ]
    },
    {
     "name": "stdout",
     "output_type": "stream",
     "text": [
      "Baseline Loss: 5.3050 | Actual Loss: 2.6983\n",
      "Baseline Loss: 3.9465 | Actual Loss: 1.5938\n",
      "Epoch 274/1000: Train Loss: 2.6983, Val Loss: 1.5938\n",
      "Baseline Loss: 5.3050 | Actual Loss: 2.6631\n"
     ]
    },
    {
     "name": "stderr",
     "output_type": "stream",
     "text": [
      "Training:  28%|██▊       | 275/1000 [13:07<34:32,  2.86s/it]"
     ]
    },
    {
     "name": "stdout",
     "output_type": "stream",
     "text": [
      "Baseline Loss: 3.9465 | Actual Loss: 1.5453\n",
      "Epoch 275/1000: Train Loss: 2.6631, Val Loss: 1.5453\n"
     ]
    },
    {
     "name": "stderr",
     "output_type": "stream",
     "text": [
      "Training:  28%|██▊       | 276/1000 [13:10<34:41,  2.88s/it]"
     ]
    },
    {
     "name": "stdout",
     "output_type": "stream",
     "text": [
      "Baseline Loss: 5.3050 | Actual Loss: 2.6673\n",
      "Baseline Loss: 3.9465 | Actual Loss: 1.5421\n",
      "Epoch 276/1000: Train Loss: 2.6673, Val Loss: 1.5421\n"
     ]
    },
    {
     "name": "stderr",
     "output_type": "stream",
     "text": [
      "Training:  28%|██▊       | 277/1000 [13:13<34:31,  2.86s/it]"
     ]
    },
    {
     "name": "stdout",
     "output_type": "stream",
     "text": [
      "Baseline Loss: 5.3051 | Actual Loss: 2.6179\n",
      "Baseline Loss: 3.9465 | Actual Loss: 1.5394\n",
      "Epoch 277/1000: Train Loss: 2.6179, Val Loss: 1.5394\n",
      "New best validation loss: 1.5394\n"
     ]
    },
    {
     "name": "stderr",
     "output_type": "stream",
     "text": [
      "Training:  28%|██▊       | 278/1000 [13:15<34:12,  2.84s/it]"
     ]
    },
    {
     "name": "stdout",
     "output_type": "stream",
     "text": [
      "Baseline Loss: 5.3050 | Actual Loss: 2.6505\n",
      "Baseline Loss: 3.9465 | Actual Loss: 1.5685\n",
      "Epoch 278/1000: Train Loss: 2.6505, Val Loss: 1.5685\n"
     ]
    },
    {
     "name": "stderr",
     "output_type": "stream",
     "text": [
      "Training:  28%|██▊       | 279/1000 [13:18<33:09,  2.76s/it]"
     ]
    },
    {
     "name": "stdout",
     "output_type": "stream",
     "text": [
      "Baseline Loss: 5.3050 | Actual Loss: 2.6732\n",
      "Baseline Loss: 3.9465 | Actual Loss: 1.5576\n",
      "Epoch 279/1000: Train Loss: 2.6732, Val Loss: 1.5576\n",
      "Baseline Loss: 5.3050 | Actual Loss: 2.5719\n"
     ]
    },
    {
     "name": "stderr",
     "output_type": "stream",
     "text": [
      "Training:  28%|██▊       | 280/1000 [13:21<35:00,  2.92s/it]"
     ]
    },
    {
     "name": "stdout",
     "output_type": "stream",
     "text": [
      "Baseline Loss: 3.9465 | Actual Loss: 1.6412\n",
      "Epoch 280/1000: Train Loss: 2.5719, Val Loss: 1.6412\n",
      "Baseline Loss: 5.3050 | Actual Loss: 2.6225\n"
     ]
    },
    {
     "name": "stderr",
     "output_type": "stream",
     "text": [
      "Training:  28%|██▊       | 281/1000 [13:24<35:16,  2.94s/it]"
     ]
    },
    {
     "name": "stdout",
     "output_type": "stream",
     "text": [
      "Baseline Loss: 3.9465 | Actual Loss: 1.5699\n",
      "Epoch 281/1000: Train Loss: 2.6225, Val Loss: 1.5699\n"
     ]
    },
    {
     "name": "stderr",
     "output_type": "stream",
     "text": [
      "Training:  28%|██▊       | 282/1000 [13:27<34:42,  2.90s/it]"
     ]
    },
    {
     "name": "stdout",
     "output_type": "stream",
     "text": [
      "Baseline Loss: 5.3050 | Actual Loss: 2.6413\n",
      "Baseline Loss: 3.9465 | Actual Loss: 1.6286\n",
      "Epoch 282/1000: Train Loss: 2.6413, Val Loss: 1.6286\n",
      "Baseline Loss: 5.3050 | Actual Loss: 2.6020\n"
     ]
    },
    {
     "name": "stderr",
     "output_type": "stream",
     "text": [
      "Training:  28%|██▊       | 283/1000 [13:30<34:11,  2.86s/it]"
     ]
    },
    {
     "name": "stdout",
     "output_type": "stream",
     "text": [
      "Baseline Loss: 3.9465 | Actual Loss: 1.5412\n",
      "Epoch 283/1000: Train Loss: 2.6020, Val Loss: 1.5412\n"
     ]
    },
    {
     "name": "stderr",
     "output_type": "stream",
     "text": [
      "Training:  28%|██▊       | 284/1000 [13:32<33:05,  2.77s/it]"
     ]
    },
    {
     "name": "stdout",
     "output_type": "stream",
     "text": [
      "Baseline Loss: 5.3050 | Actual Loss: 2.5898\n",
      "Baseline Loss: 3.9465 | Actual Loss: 1.5721\n",
      "Epoch 284/1000: Train Loss: 2.5898, Val Loss: 1.5721\n",
      "Baseline Loss: 5.3050 | Actual Loss: 2.5931\n"
     ]
    },
    {
     "name": "stderr",
     "output_type": "stream",
     "text": [
      "Training:  28%|██▊       | 285/1000 [13:36<34:07,  2.86s/it]"
     ]
    },
    {
     "name": "stdout",
     "output_type": "stream",
     "text": [
      "Baseline Loss: 3.9465 | Actual Loss: 1.6096\n",
      "Epoch 285/1000: Train Loss: 2.5931, Val Loss: 1.6096\n"
     ]
    },
    {
     "name": "stderr",
     "output_type": "stream",
     "text": [
      "Training:  29%|██▊       | 286/1000 [13:38<34:21,  2.89s/it]"
     ]
    },
    {
     "name": "stdout",
     "output_type": "stream",
     "text": [
      "Baseline Loss: 5.3050 | Actual Loss: 2.6146\n",
      "Baseline Loss: 3.9465 | Actual Loss: 1.5437\n",
      "Epoch 286/1000: Train Loss: 2.6146, Val Loss: 1.5437\n"
     ]
    },
    {
     "name": "stderr",
     "output_type": "stream",
     "text": [
      "Training:  29%|██▊       | 287/1000 [13:42<35:32,  2.99s/it]"
     ]
    },
    {
     "name": "stdout",
     "output_type": "stream",
     "text": [
      "Baseline Loss: 5.3050 | Actual Loss: 2.6105\n",
      "Baseline Loss: 3.9465 | Actual Loss: 1.4683\n",
      "Epoch 287/1000: Train Loss: 2.6105, Val Loss: 1.4683\n",
      "New best validation loss: 1.4683\n",
      "Baseline Loss: 5.3050 | Actual Loss: 2.5888\n"
     ]
    },
    {
     "name": "stderr",
     "output_type": "stream",
     "text": [
      "Training:  29%|██▉       | 288/1000 [13:45<35:03,  2.95s/it]"
     ]
    },
    {
     "name": "stdout",
     "output_type": "stream",
     "text": [
      "Baseline Loss: 3.9465 | Actual Loss: 1.5415\n",
      "Epoch 288/1000: Train Loss: 2.5888, Val Loss: 1.5415\n"
     ]
    },
    {
     "name": "stderr",
     "output_type": "stream",
     "text": [
      "Training:  29%|██▉       | 289/1000 [13:47<33:41,  2.84s/it]"
     ]
    },
    {
     "name": "stdout",
     "output_type": "stream",
     "text": [
      "Baseline Loss: 5.3050 | Actual Loss: 2.5358\n",
      "Baseline Loss: 3.9465 | Actual Loss: 1.4914\n",
      "Epoch 289/1000: Train Loss: 2.5358, Val Loss: 1.4914\n",
      "Baseline Loss: 5.3050 | Actual Loss: 2.5626\n"
     ]
    },
    {
     "name": "stderr",
     "output_type": "stream",
     "text": [
      "Training:  29%|██▉       | 290/1000 [13:50<34:03,  2.88s/it]"
     ]
    },
    {
     "name": "stdout",
     "output_type": "stream",
     "text": [
      "Baseline Loss: 3.9465 | Actual Loss: 1.4817\n",
      "Epoch 290/1000: Train Loss: 2.5626, Val Loss: 1.4817\n"
     ]
    },
    {
     "name": "stderr",
     "output_type": "stream",
     "text": [
      "Training:  29%|██▉       | 291/1000 [13:53<34:07,  2.89s/it]"
     ]
    },
    {
     "name": "stdout",
     "output_type": "stream",
     "text": [
      "Baseline Loss: 5.3050 | Actual Loss: 2.5401\n",
      "Baseline Loss: 3.9465 | Actual Loss: 1.4689\n",
      "Epoch 291/1000: Train Loss: 2.5401, Val Loss: 1.4689\n"
     ]
    },
    {
     "name": "stderr",
     "output_type": "stream",
     "text": [
      "Training:  29%|██▉       | 292/1000 [13:56<33:37,  2.85s/it]"
     ]
    },
    {
     "name": "stdout",
     "output_type": "stream",
     "text": [
      "Baseline Loss: 5.3050 | Actual Loss: 2.5572\n",
      "Baseline Loss: 3.9465 | Actual Loss: 1.4678\n",
      "Epoch 292/1000: Train Loss: 2.5572, Val Loss: 1.4678\n",
      "New best validation loss: 1.4678\n"
     ]
    },
    {
     "name": "stderr",
     "output_type": "stream",
     "text": [
      "Training:  29%|██▉       | 293/1000 [13:59<33:14,  2.82s/it]"
     ]
    },
    {
     "name": "stdout",
     "output_type": "stream",
     "text": [
      "Baseline Loss: 5.3050 | Actual Loss: 2.4906\n",
      "Baseline Loss: 3.9465 | Actual Loss: 1.4888\n",
      "Epoch 293/1000: Train Loss: 2.4906, Val Loss: 1.4888\n",
      "Baseline Loss: 5.3050 | Actual Loss: 2.5540\n",
      "Baseline Loss: 3.9465 | Actual Loss: 1.5395\n"
     ]
    },
    {
     "name": "stderr",
     "output_type": "stream",
     "text": [
      "Training:  29%|██▉       | 294/1000 [14:02<33:43,  2.87s/it]"
     ]
    },
    {
     "name": "stdout",
     "output_type": "stream",
     "text": [
      "Epoch 294/1000: Train Loss: 2.5540, Val Loss: 1.5395\n",
      "Baseline Loss: 5.3050 | Actual Loss: 2.5276\n"
     ]
    },
    {
     "name": "stderr",
     "output_type": "stream",
     "text": [
      "Training:  30%|██▉       | 295/1000 [14:05<34:07,  2.90s/it]"
     ]
    },
    {
     "name": "stdout",
     "output_type": "stream",
     "text": [
      "Baseline Loss: 3.9465 | Actual Loss: 1.5903\n",
      "Epoch 295/1000: Train Loss: 2.5276, Val Loss: 1.5903\n",
      "Baseline Loss: 5.3050 | Actual Loss: 2.5147\n"
     ]
    },
    {
     "name": "stderr",
     "output_type": "stream",
     "text": [
      "Training:  30%|██▉       | 296/1000 [14:08<35:06,  2.99s/it]"
     ]
    },
    {
     "name": "stdout",
     "output_type": "stream",
     "text": [
      "Baseline Loss: 3.9465 | Actual Loss: 1.5255\n",
      "Epoch 296/1000: Train Loss: 2.5147, Val Loss: 1.5255\n"
     ]
    },
    {
     "name": "stderr",
     "output_type": "stream",
     "text": [
      "Training:  30%|██▉       | 297/1000 [14:11<34:29,  2.94s/it]"
     ]
    },
    {
     "name": "stdout",
     "output_type": "stream",
     "text": [
      "Baseline Loss: 5.3050 | Actual Loss: 2.5546\n",
      "Baseline Loss: 3.9465 | Actual Loss: 1.5032\n",
      "Epoch 297/1000: Train Loss: 2.5546, Val Loss: 1.5032\n",
      "Baseline Loss: 5.3050 | Actual Loss: 2.4924\n"
     ]
    },
    {
     "name": "stderr",
     "output_type": "stream",
     "text": [
      "Training:  30%|██▉       | 298/1000 [14:13<34:14,  2.93s/it]"
     ]
    },
    {
     "name": "stdout",
     "output_type": "stream",
     "text": [
      "Baseline Loss: 3.9465 | Actual Loss: 1.4814\n",
      "Epoch 298/1000: Train Loss: 2.4924, Val Loss: 1.4814\n"
     ]
    },
    {
     "name": "stderr",
     "output_type": "stream",
     "text": [
      "Training:  30%|██▉       | 299/1000 [14:16<32:54,  2.82s/it]"
     ]
    },
    {
     "name": "stdout",
     "output_type": "stream",
     "text": [
      "Baseline Loss: 5.3050 | Actual Loss: 2.5114\n",
      "Baseline Loss: 3.9465 | Actual Loss: 1.5579\n",
      "Epoch 299/1000: Train Loss: 2.5114, Val Loss: 1.5579\n",
      "Baseline Loss: 5.3050 | Actual Loss: 2.5276\n"
     ]
    },
    {
     "name": "stderr",
     "output_type": "stream",
     "text": [
      "Training:  30%|███       | 300/1000 [14:19<33:34,  2.88s/it]"
     ]
    },
    {
     "name": "stdout",
     "output_type": "stream",
     "text": [
      "Baseline Loss: 3.9465 | Actual Loss: 1.5665\n",
      "Epoch 300/1000: Train Loss: 2.5276, Val Loss: 1.5665\n"
     ]
    },
    {
     "name": "stderr",
     "output_type": "stream",
     "text": [
      "Training:  30%|███       | 301/1000 [14:22<33:34,  2.88s/it]"
     ]
    },
    {
     "name": "stdout",
     "output_type": "stream",
     "text": [
      "Baseline Loss: 5.3050 | Actual Loss: 2.4988\n",
      "Baseline Loss: 3.9465 | Actual Loss: 1.5008\n",
      "Epoch 301/1000: Train Loss: 2.4988, Val Loss: 1.5008\n",
      "Baseline Loss: 5.3050 | Actual Loss: 2.5087\n"
     ]
    },
    {
     "name": "stderr",
     "output_type": "stream",
     "text": [
      "Training:  30%|███       | 302/1000 [14:25<33:20,  2.87s/it]"
     ]
    },
    {
     "name": "stdout",
     "output_type": "stream",
     "text": [
      "Baseline Loss: 3.9465 | Actual Loss: 1.4815\n",
      "Epoch 302/1000: Train Loss: 2.5087, Val Loss: 1.4815\n",
      "Baseline Loss: 5.3050 | Actual Loss: 2.4684\n",
      "Baseline Loss: 3.9465 | Actual Loss: 1.4693\n"
     ]
    },
    {
     "name": "stderr",
     "output_type": "stream",
     "text": [
      "Training:  30%|███       | 303/1000 [14:28<33:36,  2.89s/it]"
     ]
    },
    {
     "name": "stdout",
     "output_type": "stream",
     "text": [
      "Epoch 303/1000: Train Loss: 2.4684, Val Loss: 1.4693\n"
     ]
    },
    {
     "name": "stderr",
     "output_type": "stream",
     "text": [
      "Training:  30%|███       | 304/1000 [14:30<32:23,  2.79s/it]"
     ]
    },
    {
     "name": "stdout",
     "output_type": "stream",
     "text": [
      "Baseline Loss: 5.3050 | Actual Loss: 2.4667\n",
      "Baseline Loss: 3.9465 | Actual Loss: 1.5104\n",
      "Epoch 304/1000: Train Loss: 2.4667, Val Loss: 1.5104\n",
      "Baseline Loss: 5.3050 | Actual Loss: 2.4650\n"
     ]
    },
    {
     "name": "stderr",
     "output_type": "stream",
     "text": [
      "Training:  30%|███       | 305/1000 [14:33<33:18,  2.88s/it]"
     ]
    },
    {
     "name": "stdout",
     "output_type": "stream",
     "text": [
      "Baseline Loss: 3.9465 | Actual Loss: 1.5252\n",
      "Epoch 305/1000: Train Loss: 2.4650, Val Loss: 1.5252\n",
      "Baseline Loss: 5.3050 | Actual Loss: 2.4803\n"
     ]
    },
    {
     "name": "stderr",
     "output_type": "stream",
     "text": [
      "Training:  31%|███       | 306/1000 [14:36<33:32,  2.90s/it]"
     ]
    },
    {
     "name": "stdout",
     "output_type": "stream",
     "text": [
      "Baseline Loss: 3.9465 | Actual Loss: 1.4603\n",
      "Epoch 306/1000: Train Loss: 2.4803, Val Loss: 1.4603\n",
      "New best validation loss: 1.4603\n",
      "Baseline Loss: 5.3050 | Actual Loss: 2.4338\n"
     ]
    },
    {
     "name": "stderr",
     "output_type": "stream",
     "text": [
      "Training:  31%|███       | 307/1000 [14:39<32:59,  2.86s/it]"
     ]
    },
    {
     "name": "stdout",
     "output_type": "stream",
     "text": [
      "Baseline Loss: 3.9465 | Actual Loss: 1.4789\n",
      "Epoch 307/1000: Train Loss: 2.4338, Val Loss: 1.4789\n",
      "Baseline Loss: 5.3050 | Actual Loss: 2.4324\n"
     ]
    },
    {
     "name": "stderr",
     "output_type": "stream",
     "text": [
      "Training:  31%|███       | 308/1000 [14:42<32:39,  2.83s/it]"
     ]
    },
    {
     "name": "stdout",
     "output_type": "stream",
     "text": [
      "Baseline Loss: 3.9465 | Actual Loss: 1.5160\n",
      "Epoch 308/1000: Train Loss: 2.4324, Val Loss: 1.5160\n",
      "Baseline Loss: 5.3050 | Actual Loss: 2.4433\n"
     ]
    },
    {
     "name": "stderr",
     "output_type": "stream",
     "text": [
      "Training:  31%|███       | 309/1000 [14:44<31:39,  2.75s/it]"
     ]
    },
    {
     "name": "stdout",
     "output_type": "stream",
     "text": [
      "Baseline Loss: 3.9465 | Actual Loss: 1.4879\n",
      "Epoch 309/1000: Train Loss: 2.4433, Val Loss: 1.4879\n",
      "Baseline Loss: 5.3050 | Actual Loss: 2.4276\n"
     ]
    },
    {
     "name": "stderr",
     "output_type": "stream",
     "text": [
      "Training:  31%|███       | 310/1000 [14:47<32:20,  2.81s/it]"
     ]
    },
    {
     "name": "stdout",
     "output_type": "stream",
     "text": [
      "Baseline Loss: 3.9465 | Actual Loss: 1.3443\n",
      "Epoch 310/1000: Train Loss: 2.4276, Val Loss: 1.3443\n",
      "New best validation loss: 1.3443\n"
     ]
    },
    {
     "name": "stderr",
     "output_type": "stream",
     "text": [
      "Training:  31%|███       | 311/1000 [14:50<32:34,  2.84s/it]"
     ]
    },
    {
     "name": "stdout",
     "output_type": "stream",
     "text": [
      "Baseline Loss: 5.3050 | Actual Loss: 2.4293\n",
      "Baseline Loss: 3.9465 | Actual Loss: 1.4624\n",
      "Epoch 311/1000: Train Loss: 2.4293, Val Loss: 1.4624\n"
     ]
    },
    {
     "name": "stderr",
     "output_type": "stream",
     "text": [
      "Training:  31%|███       | 312/1000 [14:53<32:18,  2.82s/it]"
     ]
    },
    {
     "name": "stdout",
     "output_type": "stream",
     "text": [
      "Baseline Loss: 5.3050 | Actual Loss: 2.4388\n",
      "Baseline Loss: 3.9465 | Actual Loss: 1.3769\n",
      "Epoch 312/1000: Train Loss: 2.4388, Val Loss: 1.3769\n"
     ]
    },
    {
     "name": "stderr",
     "output_type": "stream",
     "text": [
      "Training:  31%|███▏      | 313/1000 [14:56<32:12,  2.81s/it]"
     ]
    },
    {
     "name": "stdout",
     "output_type": "stream",
     "text": [
      "Baseline Loss: 5.3050 | Actual Loss: 2.3959\n",
      "Baseline Loss: 3.9465 | Actual Loss: 1.3986\n",
      "Epoch 313/1000: Train Loss: 2.3959, Val Loss: 1.3986\n"
     ]
    },
    {
     "name": "stderr",
     "output_type": "stream",
     "text": [
      "Training:  31%|███▏      | 314/1000 [14:58<31:24,  2.75s/it]"
     ]
    },
    {
     "name": "stdout",
     "output_type": "stream",
     "text": [
      "Baseline Loss: 5.3050 | Actual Loss: 2.4005\n",
      "Baseline Loss: 3.9465 | Actual Loss: 1.4616\n",
      "Epoch 314/1000: Train Loss: 2.4005, Val Loss: 1.4616\n",
      "Baseline Loss: 5.3050 | Actual Loss: 2.3947\n"
     ]
    },
    {
     "name": "stderr",
     "output_type": "stream",
     "text": [
      "Training:  32%|███▏      | 315/1000 [15:01<32:13,  2.82s/it]"
     ]
    },
    {
     "name": "stdout",
     "output_type": "stream",
     "text": [
      "Baseline Loss: 3.9465 | Actual Loss: 1.4229\n",
      "Epoch 315/1000: Train Loss: 2.3947, Val Loss: 1.4229\n"
     ]
    },
    {
     "name": "stderr",
     "output_type": "stream",
     "text": [
      "Training:  32%|███▏      | 316/1000 [15:04<32:29,  2.85s/it]"
     ]
    },
    {
     "name": "stdout",
     "output_type": "stream",
     "text": [
      "Baseline Loss: 5.3050 | Actual Loss: 2.3414\n",
      "Baseline Loss: 3.9465 | Actual Loss: 1.4089\n",
      "Epoch 316/1000: Train Loss: 2.3414, Val Loss: 1.4089\n",
      "Baseline Loss: 5.3050 | Actual Loss: 2.3552\n"
     ]
    },
    {
     "name": "stderr",
     "output_type": "stream",
     "text": [
      "Training:  32%|███▏      | 317/1000 [15:07<32:24,  2.85s/it]"
     ]
    },
    {
     "name": "stdout",
     "output_type": "stream",
     "text": [
      "Baseline Loss: 3.9465 | Actual Loss: 1.4254\n",
      "Epoch 317/1000: Train Loss: 2.3552, Val Loss: 1.4254\n",
      "Baseline Loss: 5.3050 | Actual Loss: 2.3669\n"
     ]
    },
    {
     "name": "stderr",
     "output_type": "stream",
     "text": [
      "Training:  32%|███▏      | 318/1000 [15:10<32:01,  2.82s/it]"
     ]
    },
    {
     "name": "stdout",
     "output_type": "stream",
     "text": [
      "Baseline Loss: 3.9465 | Actual Loss: 1.4250\n",
      "Epoch 318/1000: Train Loss: 2.3669, Val Loss: 1.4250\n",
      "Baseline Loss: 5.3050 | Actual Loss: 2.3887\n"
     ]
    },
    {
     "name": "stderr",
     "output_type": "stream",
     "text": [
      "Training:  32%|███▏      | 319/1000 [15:12<31:04,  2.74s/it]"
     ]
    },
    {
     "name": "stdout",
     "output_type": "stream",
     "text": [
      "Baseline Loss: 3.9465 | Actual Loss: 1.4743\n",
      "Epoch 319/1000: Train Loss: 2.3887, Val Loss: 1.4743\n",
      "Baseline Loss: 5.3050 | Actual Loss: 2.3839\n"
     ]
    },
    {
     "name": "stderr",
     "output_type": "stream",
     "text": [
      "Training:  32%|███▏      | 320/1000 [15:15<31:40,  2.79s/it]"
     ]
    },
    {
     "name": "stdout",
     "output_type": "stream",
     "text": [
      "Baseline Loss: 3.9465 | Actual Loss: 1.5055\n",
      "Epoch 320/1000: Train Loss: 2.3839, Val Loss: 1.5055\n",
      "Baseline Loss: 5.3050 | Actual Loss: 2.3760\n"
     ]
    },
    {
     "name": "stderr",
     "output_type": "stream",
     "text": [
      "Training:  32%|███▏      | 321/1000 [15:18<31:57,  2.82s/it]"
     ]
    },
    {
     "name": "stdout",
     "output_type": "stream",
     "text": [
      "Baseline Loss: 3.9465 | Actual Loss: 1.4371\n",
      "Epoch 321/1000: Train Loss: 2.3760, Val Loss: 1.4371\n",
      "Baseline Loss: 5.3050 | Actual Loss: 2.3706\n"
     ]
    },
    {
     "name": "stderr",
     "output_type": "stream",
     "text": [
      "Training:  32%|███▏      | 322/1000 [15:21<31:38,  2.80s/it]"
     ]
    },
    {
     "name": "stdout",
     "output_type": "stream",
     "text": [
      "Baseline Loss: 3.9465 | Actual Loss: 1.4000\n",
      "Epoch 322/1000: Train Loss: 2.3706, Val Loss: 1.4000\n"
     ]
    },
    {
     "name": "stderr",
     "output_type": "stream",
     "text": [
      "Training:  32%|███▏      | 323/1000 [15:24<31:35,  2.80s/it]"
     ]
    },
    {
     "name": "stdout",
     "output_type": "stream",
     "text": [
      "Baseline Loss: 5.3050 | Actual Loss: 2.3383\n",
      "Baseline Loss: 3.9465 | Actual Loss: 1.4556\n",
      "Epoch 323/1000: Train Loss: 2.3383, Val Loss: 1.4556\n",
      "Baseline Loss: 5.3050 | Actual Loss: 2.3173\n"
     ]
    },
    {
     "name": "stderr",
     "output_type": "stream",
     "text": [
      "Training:  32%|███▏      | 324/1000 [15:26<30:53,  2.74s/it]"
     ]
    },
    {
     "name": "stdout",
     "output_type": "stream",
     "text": [
      "Baseline Loss: 3.9465 | Actual Loss: 1.4349\n",
      "Epoch 324/1000: Train Loss: 2.3173, Val Loss: 1.4349\n",
      "Baseline Loss: 5.3050 | Actual Loss: 2.3796\n"
     ]
    },
    {
     "name": "stderr",
     "output_type": "stream",
     "text": [
      "Training:  32%|███▎      | 325/1000 [15:29<31:33,  2.80s/it]"
     ]
    },
    {
     "name": "stdout",
     "output_type": "stream",
     "text": [
      "Baseline Loss: 3.9465 | Actual Loss: 1.4430\n",
      "Epoch 325/1000: Train Loss: 2.3796, Val Loss: 1.4430\n",
      "Baseline Loss: 5.3050 | Actual Loss: 2.3384\n"
     ]
    },
    {
     "name": "stderr",
     "output_type": "stream",
     "text": [
      "Training:  33%|███▎      | 326/1000 [15:32<31:58,  2.85s/it]"
     ]
    },
    {
     "name": "stdout",
     "output_type": "stream",
     "text": [
      "Baseline Loss: 3.9465 | Actual Loss: 1.3731\n",
      "Epoch 326/1000: Train Loss: 2.3384, Val Loss: 1.3731\n"
     ]
    },
    {
     "name": "stderr",
     "output_type": "stream",
     "text": [
      "Training:  33%|███▎      | 327/1000 [15:35<31:38,  2.82s/it]"
     ]
    },
    {
     "name": "stdout",
     "output_type": "stream",
     "text": [
      "Baseline Loss: 5.3050 | Actual Loss: 2.3090\n",
      "Baseline Loss: 3.9465 | Actual Loss: 1.4459\n",
      "Epoch 327/1000: Train Loss: 2.3090, Val Loss: 1.4459\n",
      "Baseline Loss: 5.3050 | Actual Loss: 2.3311\n"
     ]
    },
    {
     "name": "stderr",
     "output_type": "stream",
     "text": [
      "Training:  33%|███▎      | 328/1000 [15:38<32:39,  2.92s/it]"
     ]
    },
    {
     "name": "stdout",
     "output_type": "stream",
     "text": [
      "Baseline Loss: 3.9465 | Actual Loss: 1.4690\n",
      "Epoch 328/1000: Train Loss: 2.3311, Val Loss: 1.4690\n"
     ]
    },
    {
     "name": "stderr",
     "output_type": "stream",
     "text": [
      "Training:  33%|███▎      | 329/1000 [15:41<31:30,  2.82s/it]"
     ]
    },
    {
     "name": "stdout",
     "output_type": "stream",
     "text": [
      "Baseline Loss: 5.3050 | Actual Loss: 2.3308\n",
      "Baseline Loss: 3.9465 | Actual Loss: 1.3730\n",
      "Epoch 329/1000: Train Loss: 2.3308, Val Loss: 1.3730\n",
      "Baseline Loss: 5.3050 | Actual Loss: 2.2939\n"
     ]
    },
    {
     "name": "stderr",
     "output_type": "stream",
     "text": [
      "Training:  33%|███▎      | 330/1000 [15:44<31:53,  2.86s/it]"
     ]
    },
    {
     "name": "stdout",
     "output_type": "stream",
     "text": [
      "Baseline Loss: 3.9465 | Actual Loss: 1.3467\n",
      "Epoch 330/1000: Train Loss: 2.2939, Val Loss: 1.3467\n"
     ]
    },
    {
     "name": "stderr",
     "output_type": "stream",
     "text": [
      "Training:  33%|███▎      | 331/1000 [15:47<31:54,  2.86s/it]"
     ]
    },
    {
     "name": "stdout",
     "output_type": "stream",
     "text": [
      "Baseline Loss: 5.3050 | Actual Loss: 2.3344\n",
      "Baseline Loss: 3.9465 | Actual Loss: 1.3627\n",
      "Epoch 331/1000: Train Loss: 2.3344, Val Loss: 1.3627\n",
      "Baseline Loss: 5.3050 | Actual Loss: 2.2857\n"
     ]
    },
    {
     "name": "stderr",
     "output_type": "stream",
     "text": [
      "Training:  33%|███▎      | 332/1000 [15:49<31:33,  2.83s/it]"
     ]
    },
    {
     "name": "stdout",
     "output_type": "stream",
     "text": [
      "Baseline Loss: 3.9465 | Actual Loss: 1.3590\n",
      "Epoch 332/1000: Train Loss: 2.2857, Val Loss: 1.3590\n",
      "Baseline Loss: 5.3050 | Actual Loss: 2.2575\n"
     ]
    },
    {
     "name": "stderr",
     "output_type": "stream",
     "text": [
      "Training:  33%|███▎      | 333/1000 [15:52<31:17,  2.81s/it]"
     ]
    },
    {
     "name": "stdout",
     "output_type": "stream",
     "text": [
      "Baseline Loss: 3.9465 | Actual Loss: 1.3708\n",
      "Epoch 333/1000: Train Loss: 2.2575, Val Loss: 1.3708\n",
      "Baseline Loss: 5.3050 | Actual Loss: 2.2991\n"
     ]
    },
    {
     "name": "stderr",
     "output_type": "stream",
     "text": [
      "Training:  33%|███▎      | 334/1000 [15:55<30:29,  2.75s/it]"
     ]
    },
    {
     "name": "stdout",
     "output_type": "stream",
     "text": [
      "Baseline Loss: 3.9465 | Actual Loss: 1.3288\n",
      "Epoch 334/1000: Train Loss: 2.2991, Val Loss: 1.3288\n",
      "New best validation loss: 1.3288\n",
      "Baseline Loss: 5.3050 | Actual Loss: 2.2384\n"
     ]
    },
    {
     "name": "stderr",
     "output_type": "stream",
     "text": [
      "Training:  34%|███▎      | 335/1000 [15:58<31:11,  2.81s/it]"
     ]
    },
    {
     "name": "stdout",
     "output_type": "stream",
     "text": [
      "Baseline Loss: 3.9465 | Actual Loss: 1.4123\n",
      "Epoch 335/1000: Train Loss: 2.2384, Val Loss: 1.4123\n"
     ]
    },
    {
     "name": "stderr",
     "output_type": "stream",
     "text": [
      "Training:  34%|███▎      | 336/1000 [16:01<31:19,  2.83s/it]"
     ]
    },
    {
     "name": "stdout",
     "output_type": "stream",
     "text": [
      "Baseline Loss: 5.3050 | Actual Loss: 2.2682\n",
      "Baseline Loss: 3.9465 | Actual Loss: 1.3810\n",
      "Epoch 336/1000: Train Loss: 2.2682, Val Loss: 1.3810\n"
     ]
    },
    {
     "name": "stderr",
     "output_type": "stream",
     "text": [
      "Training:  34%|███▎      | 337/1000 [16:04<31:33,  2.86s/it]"
     ]
    },
    {
     "name": "stdout",
     "output_type": "stream",
     "text": [
      "Baseline Loss: 5.3050 | Actual Loss: 2.2600\n",
      "Baseline Loss: 3.9465 | Actual Loss: 1.4118\n",
      "Epoch 337/1000: Train Loss: 2.2600, Val Loss: 1.4118\n"
     ]
    },
    {
     "name": "stderr",
     "output_type": "stream",
     "text": [
      "Training:  34%|███▍      | 338/1000 [16:06<31:14,  2.83s/it]"
     ]
    },
    {
     "name": "stdout",
     "output_type": "stream",
     "text": [
      "Baseline Loss: 5.3050 | Actual Loss: 2.2098\n",
      "Baseline Loss: 3.9465 | Actual Loss: 1.3585\n",
      "Epoch 338/1000: Train Loss: 2.2098, Val Loss: 1.3585\n",
      "Baseline Loss: 5.3050 | Actual Loss: 2.2133\n"
     ]
    },
    {
     "name": "stderr",
     "output_type": "stream",
     "text": [
      "Training:  34%|███▍      | 339/1000 [16:09<30:12,  2.74s/it]"
     ]
    },
    {
     "name": "stdout",
     "output_type": "stream",
     "text": [
      "Baseline Loss: 3.9465 | Actual Loss: 1.4018\n",
      "Epoch 339/1000: Train Loss: 2.2133, Val Loss: 1.4018\n",
      "Baseline Loss: 5.3050 | Actual Loss: 2.2308\n"
     ]
    },
    {
     "name": "stderr",
     "output_type": "stream",
     "text": [
      "Training:  34%|███▍      | 340/1000 [16:12<30:53,  2.81s/it]"
     ]
    },
    {
     "name": "stdout",
     "output_type": "stream",
     "text": [
      "Baseline Loss: 3.9465 | Actual Loss: 1.4115\n",
      "Epoch 340/1000: Train Loss: 2.2308, Val Loss: 1.4115\n"
     ]
    },
    {
     "name": "stderr",
     "output_type": "stream",
     "text": [
      "Training:  34%|███▍      | 341/1000 [16:15<31:06,  2.83s/it]"
     ]
    },
    {
     "name": "stdout",
     "output_type": "stream",
     "text": [
      "Baseline Loss: 5.3050 | Actual Loss: 2.2290\n",
      "Baseline Loss: 3.9465 | Actual Loss: 1.5234\n",
      "Epoch 341/1000: Train Loss: 2.2290, Val Loss: 1.5234\n"
     ]
    },
    {
     "name": "stderr",
     "output_type": "stream",
     "text": [
      "Training:  34%|███▍      | 342/1000 [16:17<30:49,  2.81s/it]"
     ]
    },
    {
     "name": "stdout",
     "output_type": "stream",
     "text": [
      "Baseline Loss: 5.3050 | Actual Loss: 2.2395\n",
      "Baseline Loss: 3.9465 | Actual Loss: 1.4245\n",
      "Epoch 342/1000: Train Loss: 2.2395, Val Loss: 1.4245\n"
     ]
    },
    {
     "name": "stderr",
     "output_type": "stream",
     "text": [
      "Training:  34%|███▍      | 343/1000 [16:20<30:37,  2.80s/it]"
     ]
    },
    {
     "name": "stdout",
     "output_type": "stream",
     "text": [
      "Baseline Loss: 5.3050 | Actual Loss: 2.2079\n",
      "Baseline Loss: 3.9465 | Actual Loss: 1.3466\n",
      "Epoch 343/1000: Train Loss: 2.2079, Val Loss: 1.3466\n"
     ]
    },
    {
     "name": "stderr",
     "output_type": "stream",
     "text": [
      "Training:  34%|███▍      | 344/1000 [16:23<29:50,  2.73s/it]"
     ]
    },
    {
     "name": "stdout",
     "output_type": "stream",
     "text": [
      "Baseline Loss: 5.3050 | Actual Loss: 2.1929\n",
      "Baseline Loss: 3.9465 | Actual Loss: 1.4237\n",
      "Epoch 344/1000: Train Loss: 2.1929, Val Loss: 1.4237\n",
      "Baseline Loss: 5.3050 | Actual Loss: 2.2421\n"
     ]
    },
    {
     "name": "stderr",
     "output_type": "stream",
     "text": [
      "Training:  34%|███▍      | 345/1000 [16:26<30:31,  2.80s/it]"
     ]
    },
    {
     "name": "stdout",
     "output_type": "stream",
     "text": [
      "Baseline Loss: 3.9465 | Actual Loss: 1.3538\n",
      "Epoch 345/1000: Train Loss: 2.2421, Val Loss: 1.3538\n"
     ]
    },
    {
     "name": "stderr",
     "output_type": "stream",
     "text": [
      "Training:  35%|███▍      | 346/1000 [16:29<30:46,  2.82s/it]"
     ]
    },
    {
     "name": "stdout",
     "output_type": "stream",
     "text": [
      "Baseline Loss: 5.3050 | Actual Loss: 2.1965\n",
      "Baseline Loss: 3.9465 | Actual Loss: 1.3463\n",
      "Epoch 346/1000: Train Loss: 2.1965, Val Loss: 1.3463\n",
      "Baseline Loss: 5.3050 | Actual Loss: 2.1853\n"
     ]
    },
    {
     "name": "stderr",
     "output_type": "stream",
     "text": [
      "Training:  35%|███▍      | 347/1000 [16:31<30:31,  2.80s/it]"
     ]
    },
    {
     "name": "stdout",
     "output_type": "stream",
     "text": [
      "Baseline Loss: 3.9465 | Actual Loss: 1.3747\n",
      "Epoch 347/1000: Train Loss: 2.1853, Val Loss: 1.3747\n",
      "Baseline Loss: 5.3050 | Actual Loss: 2.1826\n"
     ]
    },
    {
     "name": "stderr",
     "output_type": "stream",
     "text": [
      "Training:  35%|███▍      | 348/1000 [16:34<30:42,  2.83s/it]"
     ]
    },
    {
     "name": "stdout",
     "output_type": "stream",
     "text": [
      "Baseline Loss: 3.9465 | Actual Loss: 1.2827\n",
      "Epoch 348/1000: Train Loss: 2.1826, Val Loss: 1.2827\n",
      "New best validation loss: 1.2827\n",
      "Baseline Loss: 5.3050 | Actual Loss: 2.1920\n"
     ]
    },
    {
     "name": "stderr",
     "output_type": "stream",
     "text": [
      "Training:  35%|███▍      | 349/1000 [16:37<29:49,  2.75s/it]"
     ]
    },
    {
     "name": "stdout",
     "output_type": "stream",
     "text": [
      "Baseline Loss: 3.9465 | Actual Loss: 1.2567\n",
      "Epoch 349/1000: Train Loss: 2.1920, Val Loss: 1.2567\n",
      "New best validation loss: 1.2567\n",
      "Baseline Loss: 5.3050 | Actual Loss: 2.1853\n"
     ]
    },
    {
     "name": "stderr",
     "output_type": "stream",
     "text": [
      "Training:  35%|███▌      | 350/1000 [16:40<30:45,  2.84s/it]"
     ]
    },
    {
     "name": "stdout",
     "output_type": "stream",
     "text": [
      "Baseline Loss: 3.9465 | Actual Loss: 1.3182\n",
      "Epoch 350/1000: Train Loss: 2.1853, Val Loss: 1.3182\n",
      "Baseline Loss: 5.3050 | Actual Loss: 2.1911\n"
     ]
    },
    {
     "name": "stderr",
     "output_type": "stream",
     "text": [
      "Training:  35%|███▌      | 351/1000 [16:43<30:57,  2.86s/it]"
     ]
    },
    {
     "name": "stdout",
     "output_type": "stream",
     "text": [
      "Baseline Loss: 3.9465 | Actual Loss: 1.3924\n",
      "Epoch 351/1000: Train Loss: 2.1911, Val Loss: 1.3924\n",
      "Baseline Loss: 5.3050 | Actual Loss: 2.1649\n"
     ]
    },
    {
     "name": "stderr",
     "output_type": "stream",
     "text": [
      "Training:  35%|███▌      | 352/1000 [16:46<30:33,  2.83s/it]"
     ]
    },
    {
     "name": "stdout",
     "output_type": "stream",
     "text": [
      "Baseline Loss: 3.9465 | Actual Loss: 1.3290\n",
      "Epoch 352/1000: Train Loss: 2.1649, Val Loss: 1.3290\n",
      "Baseline Loss: 5.3050 | Actual Loss: 2.1805\n"
     ]
    },
    {
     "name": "stderr",
     "output_type": "stream",
     "text": [
      "Training:  35%|███▌      | 353/1000 [16:48<30:21,  2.82s/it]"
     ]
    },
    {
     "name": "stdout",
     "output_type": "stream",
     "text": [
      "Baseline Loss: 3.9465 | Actual Loss: 1.3700\n",
      "Epoch 353/1000: Train Loss: 2.1805, Val Loss: 1.3700\n"
     ]
    },
    {
     "name": "stderr",
     "output_type": "stream",
     "text": [
      "Training:  35%|███▌      | 354/1000 [16:51<29:33,  2.75s/it]"
     ]
    },
    {
     "name": "stdout",
     "output_type": "stream",
     "text": [
      "Baseline Loss: 5.3050 | Actual Loss: 2.1760\n",
      "Baseline Loss: 3.9465 | Actual Loss: 1.3470\n",
      "Epoch 354/1000: Train Loss: 2.1760, Val Loss: 1.3470\n",
      "Baseline Loss: 5.3050 | Actual Loss: 2.1387\n"
     ]
    },
    {
     "name": "stderr",
     "output_type": "stream",
     "text": [
      "Training:  36%|███▌      | 355/1000 [16:54<30:12,  2.81s/it]"
     ]
    },
    {
     "name": "stdout",
     "output_type": "stream",
     "text": [
      "Baseline Loss: 3.9465 | Actual Loss: 1.3963\n",
      "Epoch 355/1000: Train Loss: 2.1387, Val Loss: 1.3963\n"
     ]
    },
    {
     "name": "stderr",
     "output_type": "stream",
     "text": [
      "Training:  36%|███▌      | 356/1000 [16:57<30:35,  2.85s/it]"
     ]
    },
    {
     "name": "stdout",
     "output_type": "stream",
     "text": [
      "Baseline Loss: 5.3050 | Actual Loss: 2.1390\n",
      "Baseline Loss: 3.9465 | Actual Loss: 1.4254\n",
      "Epoch 356/1000: Train Loss: 2.1390, Val Loss: 1.4254\n"
     ]
    },
    {
     "name": "stderr",
     "output_type": "stream",
     "text": [
      "Training:  36%|███▌      | 357/1000 [17:00<30:47,  2.87s/it]"
     ]
    },
    {
     "name": "stdout",
     "output_type": "stream",
     "text": [
      "Baseline Loss: 5.3050 | Actual Loss: 2.1473\n",
      "Baseline Loss: 3.9465 | Actual Loss: 1.4323\n",
      "Epoch 357/1000: Train Loss: 2.1473, Val Loss: 1.4323\n"
     ]
    },
    {
     "name": "stderr",
     "output_type": "stream",
     "text": [
      "Training:  36%|███▌      | 358/1000 [17:03<30:26,  2.85s/it]"
     ]
    },
    {
     "name": "stdout",
     "output_type": "stream",
     "text": [
      "Baseline Loss: 5.3050 | Actual Loss: 2.1494\n",
      "Baseline Loss: 3.9465 | Actual Loss: 1.3084\n",
      "Epoch 358/1000: Train Loss: 2.1494, Val Loss: 1.3084\n"
     ]
    },
    {
     "name": "stderr",
     "output_type": "stream",
     "text": [
      "Training:  36%|███▌      | 359/1000 [17:05<29:37,  2.77s/it]"
     ]
    },
    {
     "name": "stdout",
     "output_type": "stream",
     "text": [
      "Baseline Loss: 5.3050 | Actual Loss: 2.1442\n",
      "Baseline Loss: 3.9465 | Actual Loss: 1.3577\n",
      "Epoch 359/1000: Train Loss: 2.1442, Val Loss: 1.3577\n",
      "Baseline Loss: 5.3050 | Actual Loss: 2.1364\n"
     ]
    },
    {
     "name": "stderr",
     "output_type": "stream",
     "text": [
      "Training:  36%|███▌      | 360/1000 [17:08<30:28,  2.86s/it]"
     ]
    },
    {
     "name": "stdout",
     "output_type": "stream",
     "text": [
      "Baseline Loss: 3.9465 | Actual Loss: 1.3558\n",
      "Epoch 360/1000: Train Loss: 2.1364, Val Loss: 1.3558\n",
      "Baseline Loss: 5.3050 | Actual Loss: 2.1075\n"
     ]
    },
    {
     "name": "stderr",
     "output_type": "stream",
     "text": [
      "Training:  36%|███▌      | 361/1000 [17:11<30:38,  2.88s/it]"
     ]
    },
    {
     "name": "stdout",
     "output_type": "stream",
     "text": [
      "Baseline Loss: 3.9465 | Actual Loss: 1.4134\n",
      "Epoch 361/1000: Train Loss: 2.1075, Val Loss: 1.4134\n",
      "Baseline Loss: 5.3050 | Actual Loss: 2.0717\n"
     ]
    },
    {
     "name": "stderr",
     "output_type": "stream",
     "text": [
      "Training:  36%|███▌      | 362/1000 [17:14<30:14,  2.84s/it]"
     ]
    },
    {
     "name": "stdout",
     "output_type": "stream",
     "text": [
      "Baseline Loss: 3.9465 | Actual Loss: 1.4139\n",
      "Epoch 362/1000: Train Loss: 2.0717, Val Loss: 1.4139\n",
      "Baseline Loss: 5.3050 | Actual Loss: 2.0926\n"
     ]
    },
    {
     "name": "stderr",
     "output_type": "stream",
     "text": [
      "Training:  36%|███▋      | 363/1000 [17:17<29:58,  2.82s/it]"
     ]
    },
    {
     "name": "stdout",
     "output_type": "stream",
     "text": [
      "Baseline Loss: 3.9465 | Actual Loss: 1.3196\n",
      "Epoch 363/1000: Train Loss: 2.0926, Val Loss: 1.3196\n",
      "Baseline Loss: 5.3050 | Actual Loss: 2.1190\n"
     ]
    },
    {
     "name": "stderr",
     "output_type": "stream",
     "text": [
      "Training:  36%|███▋      | 364/1000 [17:19<28:56,  2.73s/it]"
     ]
    },
    {
     "name": "stdout",
     "output_type": "stream",
     "text": [
      "Baseline Loss: 3.9465 | Actual Loss: 1.4161\n",
      "Epoch 364/1000: Train Loss: 2.1190, Val Loss: 1.4161\n",
      "Baseline Loss: 5.3050 | Actual Loss: 2.1200\n"
     ]
    },
    {
     "name": "stderr",
     "output_type": "stream",
     "text": [
      "Training:  36%|███▋      | 365/1000 [17:22<29:31,  2.79s/it]"
     ]
    },
    {
     "name": "stdout",
     "output_type": "stream",
     "text": [
      "Baseline Loss: 3.9465 | Actual Loss: 1.2592\n",
      "Epoch 365/1000: Train Loss: 2.1200, Val Loss: 1.2592\n"
     ]
    },
    {
     "name": "stderr",
     "output_type": "stream",
     "text": [
      "Training:  37%|███▋      | 366/1000 [17:25<29:58,  2.84s/it]"
     ]
    },
    {
     "name": "stdout",
     "output_type": "stream",
     "text": [
      "Baseline Loss: 5.3050 | Actual Loss: 2.0896\n",
      "Baseline Loss: 3.9465 | Actual Loss: 1.3678\n",
      "Epoch 366/1000: Train Loss: 2.0896, Val Loss: 1.3678\n"
     ]
    },
    {
     "name": "stderr",
     "output_type": "stream",
     "text": [
      "Training:  37%|███▋      | 367/1000 [17:28<29:51,  2.83s/it]"
     ]
    },
    {
     "name": "stdout",
     "output_type": "stream",
     "text": [
      "Baseline Loss: 5.3050 | Actual Loss: 2.0845\n",
      "Baseline Loss: 3.9465 | Actual Loss: 1.3527\n",
      "Epoch 367/1000: Train Loss: 2.0845, Val Loss: 1.3527\n",
      "Baseline Loss: 5.3050 | Actual Loss: 2.0832\n"
     ]
    },
    {
     "name": "stderr",
     "output_type": "stream",
     "text": [
      "Training:  37%|███▋      | 368/1000 [17:31<29:43,  2.82s/it]"
     ]
    },
    {
     "name": "stdout",
     "output_type": "stream",
     "text": [
      "Baseline Loss: 3.9465 | Actual Loss: 1.3267\n",
      "Epoch 368/1000: Train Loss: 2.0832, Val Loss: 1.3267\n"
     ]
    },
    {
     "name": "stderr",
     "output_type": "stream",
     "text": [
      "Training:  37%|███▋      | 369/1000 [17:34<30:01,  2.86s/it]"
     ]
    },
    {
     "name": "stdout",
     "output_type": "stream",
     "text": [
      "Baseline Loss: 5.3050 | Actual Loss: 2.1043\n",
      "Baseline Loss: 3.9465 | Actual Loss: 1.3811\n",
      "Epoch 369/1000: Train Loss: 2.1043, Val Loss: 1.3811\n",
      "Baseline Loss: 5.3050 | Actual Loss: 2.0847\n"
     ]
    },
    {
     "name": "stderr",
     "output_type": "stream",
     "text": [
      "Training:  37%|███▋      | 370/1000 [17:37<30:21,  2.89s/it]"
     ]
    },
    {
     "name": "stdout",
     "output_type": "stream",
     "text": [
      "Baseline Loss: 3.9465 | Actual Loss: 1.3991\n",
      "Epoch 370/1000: Train Loss: 2.0847, Val Loss: 1.3991\n"
     ]
    },
    {
     "name": "stderr",
     "output_type": "stream",
     "text": [
      "Training:  37%|███▋      | 371/1000 [17:40<31:22,  2.99s/it]"
     ]
    },
    {
     "name": "stdout",
     "output_type": "stream",
     "text": [
      "Baseline Loss: 5.3050 | Actual Loss: 2.0662\n",
      "Baseline Loss: 3.9465 | Actual Loss: 1.3121\n",
      "Epoch 371/1000: Train Loss: 2.0662, Val Loss: 1.3121\n"
     ]
    },
    {
     "name": "stderr",
     "output_type": "stream",
     "text": [
      "Training:  37%|███▋      | 372/1000 [17:43<31:08,  2.98s/it]"
     ]
    },
    {
     "name": "stdout",
     "output_type": "stream",
     "text": [
      "Baseline Loss: 5.3050 | Actual Loss: 2.0569\n",
      "Baseline Loss: 3.9465 | Actual Loss: 1.4071\n",
      "Epoch 372/1000: Train Loss: 2.0569, Val Loss: 1.4071\n"
     ]
    },
    {
     "name": "stderr",
     "output_type": "stream",
     "text": [
      "Training:  37%|███▋      | 373/1000 [17:45<30:27,  2.91s/it]"
     ]
    },
    {
     "name": "stdout",
     "output_type": "stream",
     "text": [
      "Baseline Loss: 5.3050 | Actual Loss: 2.0396\n",
      "Baseline Loss: 3.9465 | Actual Loss: 1.3667\n",
      "Epoch 373/1000: Train Loss: 2.0396, Val Loss: 1.3667\n"
     ]
    },
    {
     "name": "stderr",
     "output_type": "stream",
     "text": [
      "Training:  37%|███▋      | 374/1000 [17:48<29:25,  2.82s/it]"
     ]
    },
    {
     "name": "stdout",
     "output_type": "stream",
     "text": [
      "Baseline Loss: 5.3050 | Actual Loss: 2.0075\n",
      "Baseline Loss: 3.9465 | Actual Loss: 1.3833\n",
      "Epoch 374/1000: Train Loss: 2.0075, Val Loss: 1.3833\n",
      "Baseline Loss: 5.3050 | Actual Loss: 2.0306\n"
     ]
    },
    {
     "name": "stderr",
     "output_type": "stream",
     "text": [
      "Training:  38%|███▊      | 375/1000 [17:51<29:42,  2.85s/it]"
     ]
    },
    {
     "name": "stdout",
     "output_type": "stream",
     "text": [
      "Baseline Loss: 3.9465 | Actual Loss: 1.3636\n",
      "Epoch 375/1000: Train Loss: 2.0306, Val Loss: 1.3636\n"
     ]
    },
    {
     "name": "stderr",
     "output_type": "stream",
     "text": [
      "Training:  38%|███▊      | 376/1000 [17:54<29:44,  2.86s/it]"
     ]
    },
    {
     "name": "stdout",
     "output_type": "stream",
     "text": [
      "Baseline Loss: 5.3050 | Actual Loss: 2.0679\n",
      "Baseline Loss: 3.9465 | Actual Loss: 1.3423\n",
      "Epoch 376/1000: Train Loss: 2.0679, Val Loss: 1.3423\n"
     ]
    },
    {
     "name": "stderr",
     "output_type": "stream",
     "text": [
      "Training:  38%|███▊      | 377/1000 [17:57<29:16,  2.82s/it]"
     ]
    },
    {
     "name": "stdout",
     "output_type": "stream",
     "text": [
      "Baseline Loss: 5.3050 | Actual Loss: 2.0413\n",
      "Baseline Loss: 3.9465 | Actual Loss: 1.4127\n",
      "Epoch 377/1000: Train Loss: 2.0413, Val Loss: 1.4127\n",
      "Baseline Loss: 5.3050 | Actual Loss: 2.0376\n"
     ]
    },
    {
     "name": "stderr",
     "output_type": "stream",
     "text": [
      "Training:  38%|███▊      | 378/1000 [18:00<29:50,  2.88s/it]"
     ]
    },
    {
     "name": "stdout",
     "output_type": "stream",
     "text": [
      "Baseline Loss: 3.9465 | Actual Loss: 1.3157\n",
      "Epoch 378/1000: Train Loss: 2.0376, Val Loss: 1.3157\n"
     ]
    },
    {
     "name": "stderr",
     "output_type": "stream",
     "text": [
      "Training:  38%|███▊      | 379/1000 [18:02<28:44,  2.78s/it]"
     ]
    },
    {
     "name": "stdout",
     "output_type": "stream",
     "text": [
      "Baseline Loss: 5.3050 | Actual Loss: 2.0521\n",
      "Baseline Loss: 3.9465 | Actual Loss: 1.3547\n",
      "Epoch 379/1000: Train Loss: 2.0521, Val Loss: 1.3547\n",
      "Baseline Loss: 5.3050 | Actual Loss: 2.0212\n"
     ]
    },
    {
     "name": "stderr",
     "output_type": "stream",
     "text": [
      "Training:  38%|███▊      | 380/1000 [18:05<29:16,  2.83s/it]"
     ]
    },
    {
     "name": "stdout",
     "output_type": "stream",
     "text": [
      "Baseline Loss: 3.9465 | Actual Loss: 1.4013\n",
      "Epoch 380/1000: Train Loss: 2.0212, Val Loss: 1.4013\n"
     ]
    },
    {
     "name": "stderr",
     "output_type": "stream",
     "text": [
      "Training:  38%|███▊      | 381/1000 [18:08<29:18,  2.84s/it]"
     ]
    },
    {
     "name": "stdout",
     "output_type": "stream",
     "text": [
      "Baseline Loss: 5.3050 | Actual Loss: 2.0476\n",
      "Baseline Loss: 3.9465 | Actual Loss: 1.4543\n",
      "Epoch 381/1000: Train Loss: 2.0476, Val Loss: 1.4543\n"
     ]
    },
    {
     "name": "stderr",
     "output_type": "stream",
     "text": [
      "Training:  38%|███▊      | 382/1000 [18:11<29:02,  2.82s/it]"
     ]
    },
    {
     "name": "stdout",
     "output_type": "stream",
     "text": [
      "Baseline Loss: 5.3050 | Actual Loss: 2.0344\n",
      "Baseline Loss: 3.9465 | Actual Loss: 1.3068\n",
      "Epoch 382/1000: Train Loss: 2.0344, Val Loss: 1.3068\n"
     ]
    },
    {
     "name": "stderr",
     "output_type": "stream",
     "text": [
      "Training:  38%|███▊      | 383/1000 [18:14<28:56,  2.81s/it]"
     ]
    },
    {
     "name": "stdout",
     "output_type": "stream",
     "text": [
      "Baseline Loss: 5.3050 | Actual Loss: 2.0407\n",
      "Baseline Loss: 3.9465 | Actual Loss: 1.3326\n",
      "Epoch 383/1000: Train Loss: 2.0407, Val Loss: 1.3326\n",
      "Baseline Loss: 5.3050 | Actual Loss: 2.0496\n"
     ]
    },
    {
     "name": "stderr",
     "output_type": "stream",
     "text": [
      "Training:  38%|███▊      | 384/1000 [18:16<28:00,  2.73s/it]"
     ]
    },
    {
     "name": "stdout",
     "output_type": "stream",
     "text": [
      "Baseline Loss: 3.9465 | Actual Loss: 1.3228\n",
      "Epoch 384/1000: Train Loss: 2.0496, Val Loss: 1.3228\n",
      "Baseline Loss: 5.3050 | Actual Loss: 2.0720\n"
     ]
    },
    {
     "name": "stderr",
     "output_type": "stream",
     "text": [
      "Training:  38%|███▊      | 385/1000 [18:19<28:37,  2.79s/it]"
     ]
    },
    {
     "name": "stdout",
     "output_type": "stream",
     "text": [
      "Baseline Loss: 3.9465 | Actual Loss: 1.3911\n",
      "Epoch 385/1000: Train Loss: 2.0720, Val Loss: 1.3911\n",
      "Baseline Loss: 5.3050 | Actual Loss: 2.0067\n"
     ]
    },
    {
     "name": "stderr",
     "output_type": "stream",
     "text": [
      "Training:  39%|███▊      | 386/1000 [18:22<28:51,  2.82s/it]"
     ]
    },
    {
     "name": "stdout",
     "output_type": "stream",
     "text": [
      "Baseline Loss: 3.9465 | Actual Loss: 1.3528\n",
      "Epoch 386/1000: Train Loss: 2.0067, Val Loss: 1.3528\n"
     ]
    },
    {
     "name": "stderr",
     "output_type": "stream",
     "text": [
      "Training:  39%|███▊      | 387/1000 [18:25<28:37,  2.80s/it]"
     ]
    },
    {
     "name": "stdout",
     "output_type": "stream",
     "text": [
      "Baseline Loss: 5.3050 | Actual Loss: 1.9943\n",
      "Baseline Loss: 3.9465 | Actual Loss: 1.3491\n",
      "Epoch 387/1000: Train Loss: 1.9943, Val Loss: 1.3491\n"
     ]
    },
    {
     "name": "stderr",
     "output_type": "stream",
     "text": [
      "Training:  39%|███▉      | 388/1000 [18:27<28:25,  2.79s/it]"
     ]
    },
    {
     "name": "stdout",
     "output_type": "stream",
     "text": [
      "Baseline Loss: 5.3050 | Actual Loss: 2.0321\n",
      "Baseline Loss: 3.9465 | Actual Loss: 1.3873\n",
      "Epoch 388/1000: Train Loss: 2.0321, Val Loss: 1.3873\n"
     ]
    },
    {
     "name": "stderr",
     "output_type": "stream",
     "text": [
      "Training:  39%|███▉      | 389/1000 [18:30<27:44,  2.72s/it]"
     ]
    },
    {
     "name": "stdout",
     "output_type": "stream",
     "text": [
      "Baseline Loss: 5.3050 | Actual Loss: 2.0394\n",
      "Baseline Loss: 3.9465 | Actual Loss: 1.3668\n",
      "Epoch 389/1000: Train Loss: 2.0394, Val Loss: 1.3668\n",
      "Baseline Loss: 5.3050 | Actual Loss: 2.0193\n"
     ]
    },
    {
     "name": "stderr",
     "output_type": "stream",
     "text": [
      "Training:  39%|███▉      | 390/1000 [18:33<28:27,  2.80s/it]"
     ]
    },
    {
     "name": "stdout",
     "output_type": "stream",
     "text": [
      "Baseline Loss: 3.9465 | Actual Loss: 1.3308\n",
      "Epoch 390/1000: Train Loss: 2.0193, Val Loss: 1.3308\n",
      "Baseline Loss: 5.3050 | Actual Loss: 1.9966\n"
     ]
    },
    {
     "name": "stderr",
     "output_type": "stream",
     "text": [
      "Training:  39%|███▉      | 391/1000 [18:36<28:46,  2.83s/it]"
     ]
    },
    {
     "name": "stdout",
     "output_type": "stream",
     "text": [
      "Baseline Loss: 3.9465 | Actual Loss: 1.3827\n",
      "Epoch 391/1000: Train Loss: 1.9966, Val Loss: 1.3827\n"
     ]
    },
    {
     "name": "stderr",
     "output_type": "stream",
     "text": [
      "Training:  39%|███▉      | 392/1000 [18:39<28:58,  2.86s/it]"
     ]
    },
    {
     "name": "stdout",
     "output_type": "stream",
     "text": [
      "Baseline Loss: 5.3050 | Actual Loss: 2.0413\n",
      "Baseline Loss: 3.9465 | Actual Loss: 1.4126\n",
      "Epoch 392/1000: Train Loss: 2.0413, Val Loss: 1.4126\n"
     ]
    },
    {
     "name": "stderr",
     "output_type": "stream",
     "text": [
      "Training:  39%|███▉      | 393/1000 [18:42<28:47,  2.85s/it]"
     ]
    },
    {
     "name": "stdout",
     "output_type": "stream",
     "text": [
      "Baseline Loss: 5.3050 | Actual Loss: 2.0218\n",
      "Baseline Loss: 3.9465 | Actual Loss: 1.4023\n",
      "Epoch 393/1000: Train Loss: 2.0218, Val Loss: 1.4023\n"
     ]
    },
    {
     "name": "stderr",
     "output_type": "stream",
     "text": [
      "Training:  39%|███▉      | 394/1000 [18:44<28:20,  2.81s/it]"
     ]
    },
    {
     "name": "stdout",
     "output_type": "stream",
     "text": [
      "Baseline Loss: 5.3050 | Actual Loss: 2.0084\n",
      "Baseline Loss: 3.9465 | Actual Loss: 1.3786\n",
      "Epoch 394/1000: Train Loss: 2.0084, Val Loss: 1.3786\n",
      "Baseline Loss: 5.3050 | Actual Loss: 2.0400\n"
     ]
    },
    {
     "name": "stderr",
     "output_type": "stream",
     "text": [
      "Training:  40%|███▉      | 395/1000 [18:47<28:52,  2.86s/it]"
     ]
    },
    {
     "name": "stdout",
     "output_type": "stream",
     "text": [
      "Baseline Loss: 3.9465 | Actual Loss: 1.3801\n",
      "Epoch 395/1000: Train Loss: 2.0400, Val Loss: 1.3801\n",
      "Baseline Loss: 5.3050 | Actual Loss: 2.0746\n"
     ]
    },
    {
     "name": "stderr",
     "output_type": "stream",
     "text": [
      "Training:  40%|███▉      | 396/1000 [18:50<28:52,  2.87s/it]"
     ]
    },
    {
     "name": "stdout",
     "output_type": "stream",
     "text": [
      "Baseline Loss: 3.9465 | Actual Loss: 1.4126\n",
      "Epoch 396/1000: Train Loss: 2.0746, Val Loss: 1.4126\n",
      "Baseline Loss: 5.3050 | Actual Loss: 2.0048\n"
     ]
    },
    {
     "name": "stderr",
     "output_type": "stream",
     "text": [
      "Training:  40%|███▉      | 397/1000 [18:53<28:25,  2.83s/it]"
     ]
    },
    {
     "name": "stdout",
     "output_type": "stream",
     "text": [
      "Baseline Loss: 3.9465 | Actual Loss: 1.3912\n",
      "Epoch 397/1000: Train Loss: 2.0048, Val Loss: 1.3912\n",
      "Baseline Loss: 5.3050 | Actual Loss: 2.0124\n"
     ]
    },
    {
     "name": "stderr",
     "output_type": "stream",
     "text": [
      "Training:  40%|███▉      | 398/1000 [18:56<28:09,  2.81s/it]"
     ]
    },
    {
     "name": "stdout",
     "output_type": "stream",
     "text": [
      "Baseline Loss: 3.9465 | Actual Loss: 1.4101\n",
      "Epoch 398/1000: Train Loss: 2.0124, Val Loss: 1.4101\n",
      "Baseline Loss: 5.3050 | Actual Loss: 2.0344\n"
     ]
    },
    {
     "name": "stderr",
     "output_type": "stream",
     "text": [
      "Training:  40%|███▉      | 398/1000 [18:58<28:42,  2.86s/it]"
     ]
    },
    {
     "name": "stdout",
     "output_type": "stream",
     "text": [
      "Baseline Loss: 3.9465 | Actual Loss: 1.3815\n",
      "Epoch 399/1000: Train Loss: 2.0344, Val Loss: 1.3815\n",
      "\n",
      "Early stopping at epoch 399\n"
     ]
    },
    {
     "name": "stderr",
     "output_type": "stream",
     "text": [
      "\n"
     ]
    },
    {
     "data": {
      "text/plain": [
       "1.2566735744476318"
      ]
     },
     "execution_count": 10,
     "metadata": {},
     "output_type": "execute_result"
    }
   ],
   "source": [
    "model2.train_model(\n",
    "    data_list,\n",
    ")"
   ]
  },
  {
   "cell_type": "code",
   "execution_count": 11,
   "id": "6e0fc12c",
   "metadata": {},
   "outputs": [],
   "source": [
    "model3 = GNNModelWithNewLoss(\n",
    "        num_node_features=data_list[0].x.shape[1],\n",
    "        num_edge_features=data_list[0].edge_attr.shape[1],\n",
    "        num_global_features=data_list[0].global_features.shape[1],\n",
    "        hidden_dim=512,\n",
    "        dropout_rate=0.1,\n",
    "        property_index=2,\n",
    "        save_path=\"premodels_new/3/2\"\n",
    "    ).to(devices[0])"
   ]
  },
  {
   "cell_type": "code",
   "execution_count": 12,
   "id": "71b665fd",
   "metadata": {},
   "outputs": [
    {
     "name": "stdout",
     "output_type": "stream",
     "text": [
      "Training will be saved to: premodels_new/3/2\n"
     ]
    },
    {
     "name": "stderr",
     "output_type": "stream",
     "text": [
      "Training:   0%|          | 0/1000 [00:00<?, ?it/s]"
     ]
    },
    {
     "name": "stdout",
     "output_type": "stream",
     "text": [
      "Baseline Loss: 5.4979 | Actual Loss: 5.4756\n"
     ]
    },
    {
     "name": "stderr",
     "output_type": "stream",
     "text": [
      "Training:   0%|          | 1/1000 [00:02<49:19,  2.96s/it]"
     ]
    },
    {
     "name": "stdout",
     "output_type": "stream",
     "text": [
      "Baseline Loss: 4.3411 | Actual Loss: 4.3209\n",
      "Epoch 1/1000: Train Loss: 5.4756, Val Loss: 4.3209\n",
      "New best validation loss: 4.3209\n",
      "Baseline Loss: 5.4980 | Actual Loss: 5.4754\n",
      "Baseline Loss: 4.3411 | Actual Loss: 4.3212\n",
      "Epoch 2/1000: Train Loss: 5.4754, Val Loss: 4.3212\n"
     ]
    },
    {
     "name": "stderr",
     "output_type": "stream",
     "text": [
      "Training:   0%|          | 2/1000 [00:06<52:58,  3.18s/it]"
     ]
    },
    {
     "name": "stdout",
     "output_type": "stream",
     "text": [
      "Baseline Loss: 5.4980 | Actual Loss: 5.4668\n",
      "Baseline Loss: 4.3411 | Actual Loss: 4.3000\n",
      "Epoch 3/1000: Train Loss: 5.4668, Val Loss: 4.3000\n",
      "New best validation loss: 4.3000\n"
     ]
    },
    {
     "name": "stderr",
     "output_type": "stream",
     "text": [
      "Training:   0%|          | 3/1000 [00:09<50:07,  3.02s/it]"
     ]
    },
    {
     "name": "stdout",
     "output_type": "stream",
     "text": [
      "Baseline Loss: 5.4979 | Actual Loss: 5.4780\n"
     ]
    },
    {
     "name": "stderr",
     "output_type": "stream",
     "text": [
      "Training:   0%|          | 4/1000 [00:11<47:50,  2.88s/it]"
     ]
    },
    {
     "name": "stdout",
     "output_type": "stream",
     "text": [
      "Baseline Loss: 4.3411 | Actual Loss: 4.2968\n",
      "Epoch 4/1000: Train Loss: 5.4780, Val Loss: 4.2968\n",
      "New best validation loss: 4.2968\n"
     ]
    },
    {
     "name": "stderr",
     "output_type": "stream",
     "text": [
      "Training:   0%|          | 5/1000 [00:14<48:06,  2.90s/it]"
     ]
    },
    {
     "name": "stdout",
     "output_type": "stream",
     "text": [
      "Baseline Loss: 5.4979 | Actual Loss: 5.4629\n",
      "Baseline Loss: 4.3411 | Actual Loss: 4.3291\n",
      "Epoch 5/1000: Train Loss: 5.4629, Val Loss: 4.3291\n",
      "Baseline Loss: 5.4979 | Actual Loss: 5.4738\n"
     ]
    },
    {
     "name": "stderr",
     "output_type": "stream",
     "text": [
      "Training:   1%|          | 6/1000 [00:17<47:43,  2.88s/it]"
     ]
    },
    {
     "name": "stdout",
     "output_type": "stream",
     "text": [
      "Baseline Loss: 4.3411 | Actual Loss: 4.3302\n",
      "Epoch 6/1000: Train Loss: 5.4738, Val Loss: 4.3302\n"
     ]
    },
    {
     "name": "stderr",
     "output_type": "stream",
     "text": [
      "Training:   1%|          | 7/1000 [00:20<48:00,  2.90s/it]"
     ]
    },
    {
     "name": "stdout",
     "output_type": "stream",
     "text": [
      "Baseline Loss: 5.4979 | Actual Loss: 5.4783\n",
      "Baseline Loss: 4.3411 | Actual Loss: 4.3001\n",
      "Epoch 7/1000: Train Loss: 5.4783, Val Loss: 4.3001\n"
     ]
    },
    {
     "name": "stderr",
     "output_type": "stream",
     "text": [
      "Training:   1%|          | 8/1000 [00:23<47:07,  2.85s/it]"
     ]
    },
    {
     "name": "stdout",
     "output_type": "stream",
     "text": [
      "Baseline Loss: 5.4980 | Actual Loss: 5.4637\n",
      "Baseline Loss: 4.3411 | Actual Loss: 4.2981\n",
      "Epoch 8/1000: Train Loss: 5.4637, Val Loss: 4.2981\n",
      "Baseline Loss: 5.4980 | Actual Loss: 5.4595\n"
     ]
    },
    {
     "name": "stderr",
     "output_type": "stream",
     "text": [
      "Training:   1%|          | 9/1000 [00:26<46:45,  2.83s/it]"
     ]
    },
    {
     "name": "stdout",
     "output_type": "stream",
     "text": [
      "Baseline Loss: 4.3411 | Actual Loss: 4.3071\n",
      "Epoch 9/1000: Train Loss: 5.4595, Val Loss: 4.3071\n",
      "Baseline Loss: 5.4979 | Actual Loss: 5.4526\n"
     ]
    },
    {
     "name": "stderr",
     "output_type": "stream",
     "text": [
      "Training:   1%|          | 10/1000 [00:28<47:16,  2.87s/it]"
     ]
    },
    {
     "name": "stdout",
     "output_type": "stream",
     "text": [
      "Baseline Loss: 4.3411 | Actual Loss: 4.2635\n",
      "Epoch 10/1000: Train Loss: 5.4526, Val Loss: 4.2635\n",
      "New best validation loss: 4.2635\n",
      "Baseline Loss: 5.4979 | Actual Loss: 5.4575\n"
     ]
    },
    {
     "name": "stderr",
     "output_type": "stream",
     "text": [
      "Training:   1%|          | 11/1000 [00:31<47:09,  2.86s/it]"
     ]
    },
    {
     "name": "stdout",
     "output_type": "stream",
     "text": [
      "Baseline Loss: 4.3411 | Actual Loss: 4.3073\n",
      "Epoch 11/1000: Train Loss: 5.4575, Val Loss: 4.3073\n",
      "Baseline Loss: 5.4980 | Actual Loss: 5.4464\n",
      "Baseline Loss: 4.3411 | Actual Loss: 4.3086\n"
     ]
    },
    {
     "name": "stderr",
     "output_type": "stream",
     "text": [
      "Training:   1%|          | 12/1000 [00:35<48:48,  2.96s/it]"
     ]
    },
    {
     "name": "stdout",
     "output_type": "stream",
     "text": [
      "Epoch 12/1000: Train Loss: 5.4464, Val Loss: 4.3086\n"
     ]
    },
    {
     "name": "stderr",
     "output_type": "stream",
     "text": [
      "Training:   1%|▏         | 13/1000 [00:37<47:48,  2.91s/it]"
     ]
    },
    {
     "name": "stdout",
     "output_type": "stream",
     "text": [
      "Baseline Loss: 5.4980 | Actual Loss: 5.4522\n",
      "Baseline Loss: 4.3411 | Actual Loss: 4.2719\n",
      "Epoch 13/1000: Train Loss: 5.4522, Val Loss: 4.2719\n"
     ]
    },
    {
     "name": "stderr",
     "output_type": "stream",
     "text": [
      "Training:   1%|▏         | 14/1000 [00:40<47:06,  2.87s/it]"
     ]
    },
    {
     "name": "stdout",
     "output_type": "stream",
     "text": [
      "Baseline Loss: 5.4980 | Actual Loss: 5.4434\n",
      "Baseline Loss: 4.3411 | Actual Loss: 4.2653\n",
      "Epoch 14/1000: Train Loss: 5.4434, Val Loss: 4.2653\n",
      "Baseline Loss: 5.4980 | Actual Loss: 5.4480\n",
      "Baseline Loss: 4.3411 | Actual Loss: 4.2606\n"
     ]
    },
    {
     "name": "stderr",
     "output_type": "stream",
     "text": [
      "Training:   2%|▏         | 15/1000 [00:43<45:45,  2.79s/it]"
     ]
    },
    {
     "name": "stdout",
     "output_type": "stream",
     "text": [
      "Epoch 15/1000: Train Loss: 5.4480, Val Loss: 4.2606\n",
      "New best validation loss: 4.2606\n",
      "Baseline Loss: 5.4980 | Actual Loss: 5.4362\n"
     ]
    },
    {
     "name": "stderr",
     "output_type": "stream",
     "text": [
      "Training:   2%|▏         | 16/1000 [00:46<47:15,  2.88s/it]"
     ]
    },
    {
     "name": "stdout",
     "output_type": "stream",
     "text": [
      "Baseline Loss: 4.3411 | Actual Loss: 4.2644\n",
      "Epoch 16/1000: Train Loss: 5.4362, Val Loss: 4.2644\n"
     ]
    },
    {
     "name": "stderr",
     "output_type": "stream",
     "text": [
      "Training:   2%|▏         | 17/1000 [00:49<47:44,  2.91s/it]"
     ]
    },
    {
     "name": "stdout",
     "output_type": "stream",
     "text": [
      "Baseline Loss: 5.4979 | Actual Loss: 5.4376\n",
      "Baseline Loss: 4.3411 | Actual Loss: 4.2750\n",
      "Epoch 17/1000: Train Loss: 5.4376, Val Loss: 4.2750\n"
     ]
    },
    {
     "name": "stderr",
     "output_type": "stream",
     "text": [
      "Training:   2%|▏         | 18/1000 [00:52<47:28,  2.90s/it]"
     ]
    },
    {
     "name": "stdout",
     "output_type": "stream",
     "text": [
      "Baseline Loss: 5.4980 | Actual Loss: 5.4174\n",
      "Baseline Loss: 4.3411 | Actual Loss: 4.2478\n",
      "Epoch 18/1000: Train Loss: 5.4174, Val Loss: 4.2478\n",
      "New best validation loss: 4.2478\n",
      "Baseline Loss: 5.4979 | Actual Loss: 5.4384\n"
     ]
    },
    {
     "name": "stderr",
     "output_type": "stream",
     "text": [
      "Training:   2%|▏         | 19/1000 [00:54<46:42,  2.86s/it]"
     ]
    },
    {
     "name": "stdout",
     "output_type": "stream",
     "text": [
      "Baseline Loss: 4.3411 | Actual Loss: 4.2630\n",
      "Epoch 19/1000: Train Loss: 5.4384, Val Loss: 4.2630\n"
     ]
    },
    {
     "name": "stderr",
     "output_type": "stream",
     "text": [
      "Training:   2%|▏         | 20/1000 [00:57<47:34,  2.91s/it]"
     ]
    },
    {
     "name": "stdout",
     "output_type": "stream",
     "text": [
      "Baseline Loss: 5.4980 | Actual Loss: 5.4123\n",
      "Baseline Loss: 4.3411 | Actual Loss: 4.2467\n",
      "Epoch 20/1000: Train Loss: 5.4123, Val Loss: 4.2467\n",
      "New best validation loss: 4.2467\n",
      "Baseline Loss: 5.4980 | Actual Loss: 5.3879\n"
     ]
    },
    {
     "name": "stderr",
     "output_type": "stream",
     "text": [
      "Training:   2%|▏         | 21/1000 [01:00<47:07,  2.89s/it]"
     ]
    },
    {
     "name": "stdout",
     "output_type": "stream",
     "text": [
      "Baseline Loss: 4.3411 | Actual Loss: 4.2290\n",
      "Epoch 21/1000: Train Loss: 5.3879, Val Loss: 4.2290\n",
      "New best validation loss: 4.2290\n"
     ]
    },
    {
     "name": "stderr",
     "output_type": "stream",
     "text": [
      "Training:   2%|▏         | 22/1000 [01:03<47:11,  2.89s/it]"
     ]
    },
    {
     "name": "stdout",
     "output_type": "stream",
     "text": [
      "Baseline Loss: 5.4979 | Actual Loss: 5.4003\n",
      "Baseline Loss: 4.3411 | Actual Loss: 4.2128\n",
      "Epoch 22/1000: Train Loss: 5.4003, Val Loss: 4.2128\n",
      "New best validation loss: 4.2128\n",
      "Baseline Loss: 5.4979 | Actual Loss: 5.3963\n",
      "Baseline Loss: 4.3411 | Actual Loss: 4.2047\n"
     ]
    },
    {
     "name": "stderr",
     "output_type": "stream",
     "text": [
      "Training:   2%|▏         | 23/1000 [01:06<46:21,  2.85s/it]"
     ]
    },
    {
     "name": "stdout",
     "output_type": "stream",
     "text": [
      "Epoch 23/1000: Train Loss: 5.3963, Val Loss: 4.2047\n",
      "New best validation loss: 4.2047\n"
     ]
    },
    {
     "name": "stderr",
     "output_type": "stream",
     "text": [
      "Training:   2%|▏         | 24/1000 [01:09<46:06,  2.83s/it]"
     ]
    },
    {
     "name": "stdout",
     "output_type": "stream",
     "text": [
      "Baseline Loss: 5.4980 | Actual Loss: 5.3778\n",
      "Baseline Loss: 4.3411 | Actual Loss: 4.2225\n",
      "Epoch 24/1000: Train Loss: 5.3778, Val Loss: 4.2225\n",
      "Baseline Loss: 5.4979 | Actual Loss: 5.3671\n",
      "Baseline Loss: 4.3411 | Actual Loss: 4.1814\n",
      "Epoch 25/1000: Train Loss: 5.3671, Val Loss: 4.1814\n",
      "New best validation loss: 4.1814\n"
     ]
    },
    {
     "name": "stderr",
     "output_type": "stream",
     "text": [
      "Training:   2%|▎         | 25/1000 [01:12<46:36,  2.87s/it]"
     ]
    },
    {
     "name": "stdout",
     "output_type": "stream",
     "text": [
      "Baseline Loss: 5.4980 | Actual Loss: 5.3509\n"
     ]
    },
    {
     "name": "stderr",
     "output_type": "stream",
     "text": [
      "Training:   3%|▎         | 26/1000 [01:14<46:16,  2.85s/it]"
     ]
    },
    {
     "name": "stdout",
     "output_type": "stream",
     "text": [
      "Baseline Loss: 4.3411 | Actual Loss: 4.1896\n",
      "Epoch 26/1000: Train Loss: 5.3509, Val Loss: 4.1896\n",
      "Baseline Loss: 5.4979 | Actual Loss: 5.3017\n"
     ]
    },
    {
     "name": "stderr",
     "output_type": "stream",
     "text": [
      "Training:   3%|▎         | 27/1000 [01:18<47:19,  2.92s/it]"
     ]
    },
    {
     "name": "stdout",
     "output_type": "stream",
     "text": [
      "Baseline Loss: 4.3411 | Actual Loss: 4.1532\n",
      "Epoch 27/1000: Train Loss: 5.3017, Val Loss: 4.1532\n",
      "New best validation loss: 4.1532\n"
     ]
    },
    {
     "name": "stderr",
     "output_type": "stream",
     "text": [
      "Training:   3%|▎         | 28/1000 [01:20<46:38,  2.88s/it]"
     ]
    },
    {
     "name": "stdout",
     "output_type": "stream",
     "text": [
      "Baseline Loss: 5.4979 | Actual Loss: 5.3280\n",
      "Baseline Loss: 4.3411 | Actual Loss: 4.1517\n",
      "Epoch 28/1000: Train Loss: 5.3280, Val Loss: 4.1517\n",
      "New best validation loss: 4.1517\n"
     ]
    },
    {
     "name": "stderr",
     "output_type": "stream",
     "text": [
      "Training:   3%|▎         | 29/1000 [01:23<46:13,  2.86s/it]"
     ]
    },
    {
     "name": "stdout",
     "output_type": "stream",
     "text": [
      "Baseline Loss: 5.4979 | Actual Loss: 5.3167\n",
      "Baseline Loss: 4.3411 | Actual Loss: 4.1044\n",
      "Epoch 29/1000: Train Loss: 5.3167, Val Loss: 4.1044\n",
      "New best validation loss: 4.1044\n",
      "Baseline Loss: 5.4980 | Actual Loss: 5.2991\n",
      "Baseline Loss: 4.3411 | Actual Loss: 4.0481\n",
      "Epoch 30/1000: Train Loss: 5.2991, Val Loss: 4.0481\n",
      "New best validation loss: 4.0481\n"
     ]
    },
    {
     "name": "stderr",
     "output_type": "stream",
     "text": [
      "Training:   3%|▎         | 30/1000 [01:26<44:57,  2.78s/it]"
     ]
    },
    {
     "name": "stdout",
     "output_type": "stream",
     "text": [
      "Baseline Loss: 5.4980 | Actual Loss: 5.2823\n"
     ]
    },
    {
     "name": "stderr",
     "output_type": "stream",
     "text": [
      "Training:   3%|▎         | 31/1000 [01:29<45:52,  2.84s/it]"
     ]
    },
    {
     "name": "stdout",
     "output_type": "stream",
     "text": [
      "Baseline Loss: 4.3411 | Actual Loss: 4.0583\n",
      "Epoch 31/1000: Train Loss: 5.2823, Val Loss: 4.0583\n",
      "Baseline Loss: 5.4980 | Actual Loss: 5.2592\n"
     ]
    },
    {
     "name": "stderr",
     "output_type": "stream",
     "text": [
      "Training:   3%|▎         | 32/1000 [01:32<46:12,  2.86s/it]"
     ]
    },
    {
     "name": "stdout",
     "output_type": "stream",
     "text": [
      "Baseline Loss: 4.3411 | Actual Loss: 4.0939\n",
      "Epoch 32/1000: Train Loss: 5.2592, Val Loss: 4.0939\n"
     ]
    },
    {
     "name": "stderr",
     "output_type": "stream",
     "text": [
      "Training:   3%|▎         | 33/1000 [01:35<46:12,  2.87s/it]"
     ]
    },
    {
     "name": "stdout",
     "output_type": "stream",
     "text": [
      "Baseline Loss: 5.4980 | Actual Loss: 5.2648\n",
      "Baseline Loss: 4.3411 | Actual Loss: 4.0377\n",
      "Epoch 33/1000: Train Loss: 5.2648, Val Loss: 4.0377\n",
      "New best validation loss: 4.0377\n",
      "Baseline Loss: 5.4979 | Actual Loss: 5.2162\n"
     ]
    },
    {
     "name": "stderr",
     "output_type": "stream",
     "text": [
      "Training:   3%|▎         | 34/1000 [01:37<45:13,  2.81s/it]"
     ]
    },
    {
     "name": "stdout",
     "output_type": "stream",
     "text": [
      "Baseline Loss: 4.3411 | Actual Loss: 4.0649\n",
      "Epoch 34/1000: Train Loss: 5.2162, Val Loss: 4.0649\n"
     ]
    },
    {
     "name": "stderr",
     "output_type": "stream",
     "text": [
      "Training:   4%|▎         | 35/1000 [01:40<46:06,  2.87s/it]"
     ]
    },
    {
     "name": "stdout",
     "output_type": "stream",
     "text": [
      "Baseline Loss: 5.4979 | Actual Loss: 5.2281\n",
      "Baseline Loss: 4.3411 | Actual Loss: 3.9625\n",
      "Epoch 35/1000: Train Loss: 5.2281, Val Loss: 3.9625\n",
      "New best validation loss: 3.9625\n",
      "Baseline Loss: 5.4980 | Actual Loss: 5.1891\n"
     ]
    },
    {
     "name": "stderr",
     "output_type": "stream",
     "text": [
      "Training:   4%|▎         | 36/1000 [01:43<45:46,  2.85s/it]"
     ]
    },
    {
     "name": "stdout",
     "output_type": "stream",
     "text": [
      "Baseline Loss: 4.3411 | Actual Loss: 3.9549\n",
      "Epoch 36/1000: Train Loss: 5.1891, Val Loss: 3.9549\n",
      "New best validation loss: 3.9549\n"
     ]
    },
    {
     "name": "stderr",
     "output_type": "stream",
     "text": [
      "Training:   4%|▎         | 37/1000 [01:46<47:56,  2.99s/it]"
     ]
    },
    {
     "name": "stdout",
     "output_type": "stream",
     "text": [
      "Baseline Loss: 5.4979 | Actual Loss: 5.1788\n",
      "Baseline Loss: 4.3411 | Actual Loss: 4.0306\n",
      "Epoch 37/1000: Train Loss: 5.1788, Val Loss: 4.0306\n"
     ]
    },
    {
     "name": "stderr",
     "output_type": "stream",
     "text": [
      "Training:   4%|▍         | 38/1000 [01:49<46:45,  2.92s/it]"
     ]
    },
    {
     "name": "stdout",
     "output_type": "stream",
     "text": [
      "Baseline Loss: 5.4980 | Actual Loss: 5.1406\n",
      "Baseline Loss: 4.3411 | Actual Loss: 4.0044\n",
      "Epoch 38/1000: Train Loss: 5.1406, Val Loss: 4.0044\n"
     ]
    },
    {
     "name": "stderr",
     "output_type": "stream",
     "text": [
      "Training:   4%|▍         | 39/1000 [01:52<45:58,  2.87s/it]"
     ]
    },
    {
     "name": "stdout",
     "output_type": "stream",
     "text": [
      "Baseline Loss: 5.4980 | Actual Loss: 5.0904\n",
      "Baseline Loss: 4.3411 | Actual Loss: 3.8896\n",
      "Epoch 39/1000: Train Loss: 5.0904, Val Loss: 3.8896\n",
      "New best validation loss: 3.8896\n"
     ]
    },
    {
     "name": "stderr",
     "output_type": "stream",
     "text": [
      "Training:   4%|▍         | 40/1000 [01:55<46:11,  2.89s/it]"
     ]
    },
    {
     "name": "stdout",
     "output_type": "stream",
     "text": [
      "Baseline Loss: 5.4980 | Actual Loss: 5.0958\n",
      "Baseline Loss: 4.3411 | Actual Loss: 3.8331\n",
      "Epoch 40/1000: Train Loss: 5.0958, Val Loss: 3.8331\n",
      "New best validation loss: 3.8331\n",
      "Baseline Loss: 5.4979 | Actual Loss: 5.0779\n"
     ]
    },
    {
     "name": "stderr",
     "output_type": "stream",
     "text": [
      "Training:   4%|▍         | 41/1000 [01:58<45:49,  2.87s/it]"
     ]
    },
    {
     "name": "stdout",
     "output_type": "stream",
     "text": [
      "Baseline Loss: 4.3411 | Actual Loss: 3.8638\n",
      "Epoch 41/1000: Train Loss: 5.0779, Val Loss: 3.8638\n"
     ]
    },
    {
     "name": "stderr",
     "output_type": "stream",
     "text": [
      "Training:   4%|▍         | 42/1000 [02:01<47:14,  2.96s/it]"
     ]
    },
    {
     "name": "stdout",
     "output_type": "stream",
     "text": [
      "Baseline Loss: 5.4980 | Actual Loss: 5.0015\n",
      "Baseline Loss: 4.3411 | Actual Loss: 3.7443\n",
      "Epoch 42/1000: Train Loss: 5.0015, Val Loss: 3.7443\n",
      "New best validation loss: 3.7443\n"
     ]
    },
    {
     "name": "stderr",
     "output_type": "stream",
     "text": [
      "Training:   4%|▍         | 43/1000 [02:04<48:01,  3.01s/it]"
     ]
    },
    {
     "name": "stdout",
     "output_type": "stream",
     "text": [
      "Baseline Loss: 5.4980 | Actual Loss: 4.9748\n",
      "Baseline Loss: 4.3411 | Actual Loss: 3.8037\n",
      "Epoch 43/1000: Train Loss: 4.9748, Val Loss: 3.8037\n"
     ]
    },
    {
     "name": "stderr",
     "output_type": "stream",
     "text": [
      "Training:   4%|▍         | 44/1000 [02:07<48:44,  3.06s/it]"
     ]
    },
    {
     "name": "stdout",
     "output_type": "stream",
     "text": [
      "Baseline Loss: 5.4980 | Actual Loss: 4.9196\n",
      "Baseline Loss: 4.3411 | Actual Loss: 3.7752\n",
      "Epoch 44/1000: Train Loss: 4.9196, Val Loss: 3.7752\n"
     ]
    },
    {
     "name": "stderr",
     "output_type": "stream",
     "text": [
      "Training:   4%|▍         | 45/1000 [02:10<46:54,  2.95s/it]"
     ]
    },
    {
     "name": "stdout",
     "output_type": "stream",
     "text": [
      "Baseline Loss: 5.4980 | Actual Loss: 4.8751\n",
      "Baseline Loss: 4.3411 | Actual Loss: 3.7319\n",
      "Epoch 45/1000: Train Loss: 4.8751, Val Loss: 3.7319\n",
      "New best validation loss: 3.7319\n",
      "Baseline Loss: 5.4980 | Actual Loss: 4.8593\n"
     ]
    },
    {
     "name": "stderr",
     "output_type": "stream",
     "text": [
      "Training:   5%|▍         | 46/1000 [02:13<47:16,  2.97s/it]"
     ]
    },
    {
     "name": "stdout",
     "output_type": "stream",
     "text": [
      "Baseline Loss: 4.3411 | Actual Loss: 3.5868\n",
      "Epoch 46/1000: Train Loss: 4.8593, Val Loss: 3.5868\n",
      "New best validation loss: 3.5868\n"
     ]
    },
    {
     "name": "stderr",
     "output_type": "stream",
     "text": [
      "Training:   5%|▍         | 47/1000 [02:16<47:07,  2.97s/it]"
     ]
    },
    {
     "name": "stdout",
     "output_type": "stream",
     "text": [
      "Baseline Loss: 5.4979 | Actual Loss: 4.8069\n",
      "Baseline Loss: 4.3411 | Actual Loss: 3.6840\n",
      "Epoch 47/1000: Train Loss: 4.8069, Val Loss: 3.6840\n"
     ]
    },
    {
     "name": "stderr",
     "output_type": "stream",
     "text": [
      "Training:   5%|▍         | 48/1000 [02:19<46:27,  2.93s/it]"
     ]
    },
    {
     "name": "stdout",
     "output_type": "stream",
     "text": [
      "Baseline Loss: 5.4979 | Actual Loss: 4.7485\n",
      "Baseline Loss: 4.3411 | Actual Loss: 3.5403\n",
      "Epoch 48/1000: Train Loss: 4.7485, Val Loss: 3.5403\n",
      "New best validation loss: 3.5403\n",
      "Baseline Loss: 5.4980 | Actual Loss: 4.7888\n"
     ]
    },
    {
     "name": "stderr",
     "output_type": "stream",
     "text": [
      "Training:   5%|▍         | 49/1000 [02:22<46:29,  2.93s/it]"
     ]
    },
    {
     "name": "stdout",
     "output_type": "stream",
     "text": [
      "Baseline Loss: 4.3411 | Actual Loss: 3.6305\n",
      "Epoch 49/1000: Train Loss: 4.7888, Val Loss: 3.6305\n"
     ]
    },
    {
     "name": "stderr",
     "output_type": "stream",
     "text": [
      "Training:   5%|▌         | 50/1000 [02:24<46:29,  2.94s/it]"
     ]
    },
    {
     "name": "stdout",
     "output_type": "stream",
     "text": [
      "Baseline Loss: 5.4979 | Actual Loss: 4.7026\n",
      "Baseline Loss: 4.3411 | Actual Loss: 3.4224\n",
      "Epoch 50/1000: Train Loss: 4.7026, Val Loss: 3.4224\n",
      "New best validation loss: 3.4224\n",
      "Baseline Loss: 5.4979 | Actual Loss: 4.6310\n"
     ]
    },
    {
     "name": "stderr",
     "output_type": "stream",
     "text": [
      "Training:   5%|▌         | 51/1000 [02:27<45:49,  2.90s/it]"
     ]
    },
    {
     "name": "stdout",
     "output_type": "stream",
     "text": [
      "Baseline Loss: 4.3411 | Actual Loss: 3.4722\n",
      "Epoch 51/1000: Train Loss: 4.6310, Val Loss: 3.4722\n"
     ]
    },
    {
     "name": "stderr",
     "output_type": "stream",
     "text": [
      "Training:   5%|▌         | 52/1000 [02:30<46:15,  2.93s/it]"
     ]
    },
    {
     "name": "stdout",
     "output_type": "stream",
     "text": [
      "Baseline Loss: 5.4980 | Actual Loss: 4.6965\n",
      "Baseline Loss: 4.3411 | Actual Loss: 3.4292\n",
      "Epoch 52/1000: Train Loss: 4.6965, Val Loss: 3.4292\n"
     ]
    },
    {
     "name": "stderr",
     "output_type": "stream",
     "text": [
      "Training:   5%|▌         | 53/1000 [02:33<45:19,  2.87s/it]"
     ]
    },
    {
     "name": "stdout",
     "output_type": "stream",
     "text": [
      "Baseline Loss: 5.4980 | Actual Loss: 4.5685\n",
      "Baseline Loss: 4.3411 | Actual Loss: 3.5830\n",
      "Epoch 53/1000: Train Loss: 4.5685, Val Loss: 3.5830\n",
      "Baseline Loss: 5.4980 | Actual Loss: 4.5556\n",
      "Baseline Loss: 4.3411 | Actual Loss: 3.3964\n",
      "Epoch 54/1000: Train Loss: 4.5556, Val Loss: 3.3964\n",
      "New best validation loss: 3.3964\n"
     ]
    },
    {
     "name": "stderr",
     "output_type": "stream",
     "text": [
      "Training:   6%|▌         | 55/1000 [02:39<45:19,  2.88s/it]"
     ]
    },
    {
     "name": "stdout",
     "output_type": "stream",
     "text": [
      "Baseline Loss: 5.4980 | Actual Loss: 4.5292\n",
      "Baseline Loss: 4.3411 | Actual Loss: 3.3491\n",
      "Epoch 55/1000: Train Loss: 4.5292, Val Loss: 3.3491\n",
      "New best validation loss: 3.3491\n",
      "Baseline Loss: 5.4979 | Actual Loss: 4.3807\n"
     ]
    },
    {
     "name": "stderr",
     "output_type": "stream",
     "text": [
      "Training:   6%|▌         | 56/1000 [02:42<45:16,  2.88s/it]"
     ]
    },
    {
     "name": "stdout",
     "output_type": "stream",
     "text": [
      "Baseline Loss: 4.3411 | Actual Loss: 3.3330\n",
      "Epoch 56/1000: Train Loss: 4.3807, Val Loss: 3.3330\n",
      "New best validation loss: 3.3330\n"
     ]
    },
    {
     "name": "stderr",
     "output_type": "stream",
     "text": [
      "Training:   6%|▌         | 57/1000 [02:45<46:31,  2.96s/it]"
     ]
    },
    {
     "name": "stdout",
     "output_type": "stream",
     "text": [
      "Baseline Loss: 5.4979 | Actual Loss: 4.4926\n",
      "Baseline Loss: 4.3411 | Actual Loss: 3.3764\n",
      "Epoch 57/1000: Train Loss: 4.4926, Val Loss: 3.3764\n"
     ]
    },
    {
     "name": "stderr",
     "output_type": "stream",
     "text": [
      "Training:   6%|▌         | 58/1000 [02:48<45:54,  2.92s/it]"
     ]
    },
    {
     "name": "stdout",
     "output_type": "stream",
     "text": [
      "Baseline Loss: 5.4980 | Actual Loss: 4.3387\n",
      "Baseline Loss: 4.3411 | Actual Loss: 3.3178\n",
      "Epoch 58/1000: Train Loss: 4.3387, Val Loss: 3.3178\n",
      "New best validation loss: 3.3178\n"
     ]
    },
    {
     "name": "stderr",
     "output_type": "stream",
     "text": [
      "Training:   6%|▌         | 59/1000 [02:50<45:11,  2.88s/it]"
     ]
    },
    {
     "name": "stdout",
     "output_type": "stream",
     "text": [
      "Baseline Loss: 5.4979 | Actual Loss: 4.4064\n",
      "Baseline Loss: 4.3411 | Actual Loss: 3.4259\n",
      "Epoch 59/1000: Train Loss: 4.4064, Val Loss: 3.4259\n"
     ]
    },
    {
     "name": "stderr",
     "output_type": "stream",
     "text": [
      "Training:   6%|▌         | 60/1000 [02:53<43:35,  2.78s/it]"
     ]
    },
    {
     "name": "stdout",
     "output_type": "stream",
     "text": [
      "Baseline Loss: 5.4980 | Actual Loss: 4.4480\n",
      "Baseline Loss: 4.3411 | Actual Loss: 3.1734\n",
      "Epoch 60/1000: Train Loss: 4.4480, Val Loss: 3.1734\n",
      "New best validation loss: 3.1734\n",
      "Baseline Loss: 5.4979 | Actual Loss: 4.3541\n"
     ]
    },
    {
     "name": "stderr",
     "output_type": "stream",
     "text": [
      "Training:   6%|▌         | 61/1000 [02:56<44:23,  2.84s/it]"
     ]
    },
    {
     "name": "stdout",
     "output_type": "stream",
     "text": [
      "Baseline Loss: 4.3411 | Actual Loss: 3.0857\n",
      "Epoch 61/1000: Train Loss: 4.3541, Val Loss: 3.0857\n",
      "New best validation loss: 3.0857\n",
      "Baseline Loss: 5.4980 | Actual Loss: 4.3310\n"
     ]
    },
    {
     "name": "stderr",
     "output_type": "stream",
     "text": [
      "Training:   6%|▌         | 62/1000 [02:59<44:50,  2.87s/it]"
     ]
    },
    {
     "name": "stdout",
     "output_type": "stream",
     "text": [
      "Baseline Loss: 4.3411 | Actual Loss: 3.0907\n",
      "Epoch 62/1000: Train Loss: 4.3310, Val Loss: 3.0907\n"
     ]
    },
    {
     "name": "stderr",
     "output_type": "stream",
     "text": [
      "Training:   6%|▋         | 63/1000 [03:02<45:52,  2.94s/it]"
     ]
    },
    {
     "name": "stdout",
     "output_type": "stream",
     "text": [
      "Baseline Loss: 5.4979 | Actual Loss: 4.2951\n",
      "Baseline Loss: 4.3411 | Actual Loss: 3.3251\n",
      "Epoch 63/1000: Train Loss: 4.2951, Val Loss: 3.3251\n",
      "Baseline Loss: 5.4979 | Actual Loss: 4.3730\n"
     ]
    },
    {
     "name": "stderr",
     "output_type": "stream",
     "text": [
      "Training:   6%|▋         | 64/1000 [03:05<44:43,  2.87s/it]"
     ]
    },
    {
     "name": "stdout",
     "output_type": "stream",
     "text": [
      "Baseline Loss: 4.3411 | Actual Loss: 3.1173\n",
      "Epoch 64/1000: Train Loss: 4.3730, Val Loss: 3.1173\n"
     ]
    },
    {
     "name": "stderr",
     "output_type": "stream",
     "text": [
      "Training:   6%|▋         | 65/1000 [03:08<45:00,  2.89s/it]"
     ]
    },
    {
     "name": "stdout",
     "output_type": "stream",
     "text": [
      "Baseline Loss: 5.4979 | Actual Loss: 4.2902\n",
      "Baseline Loss: 4.3411 | Actual Loss: 3.0095\n",
      "Epoch 65/1000: Train Loss: 4.2902, Val Loss: 3.0095\n",
      "New best validation loss: 3.0095\n",
      "Baseline Loss: 5.4980 | Actual Loss: 4.3100\n"
     ]
    },
    {
     "name": "stderr",
     "output_type": "stream",
     "text": [
      "Training:   7%|▋         | 66/1000 [03:10<44:35,  2.87s/it]"
     ]
    },
    {
     "name": "stdout",
     "output_type": "stream",
     "text": [
      "Baseline Loss: 4.3411 | Actual Loss: 3.1593\n",
      "Epoch 66/1000: Train Loss: 4.3100, Val Loss: 3.1593\n"
     ]
    },
    {
     "name": "stderr",
     "output_type": "stream",
     "text": [
      "Training:   7%|▋         | 67/1000 [03:13<45:06,  2.90s/it]"
     ]
    },
    {
     "name": "stdout",
     "output_type": "stream",
     "text": [
      "Baseline Loss: 5.4980 | Actual Loss: 4.3453\n",
      "Baseline Loss: 4.3411 | Actual Loss: 2.9382\n",
      "Epoch 67/1000: Train Loss: 4.3453, Val Loss: 2.9382\n",
      "New best validation loss: 2.9382\n"
     ]
    },
    {
     "name": "stderr",
     "output_type": "stream",
     "text": [
      "Training:   7%|▋         | 68/1000 [03:16<45:52,  2.95s/it]"
     ]
    },
    {
     "name": "stdout",
     "output_type": "stream",
     "text": [
      "Baseline Loss: 5.4979 | Actual Loss: 4.2625\n",
      "Baseline Loss: 4.3411 | Actual Loss: 3.0278\n",
      "Epoch 68/1000: Train Loss: 4.2625, Val Loss: 3.0278\n",
      "Baseline Loss: 5.4980 | Actual Loss: 4.2660\n"
     ]
    },
    {
     "name": "stderr",
     "output_type": "stream",
     "text": [
      "Training:   7%|▋         | 69/1000 [03:19<45:18,  2.92s/it]"
     ]
    },
    {
     "name": "stdout",
     "output_type": "stream",
     "text": [
      "Baseline Loss: 4.3411 | Actual Loss: 3.0156\n",
      "Epoch 69/1000: Train Loss: 4.2660, Val Loss: 3.0156\n",
      "Baseline Loss: 5.4980 | Actual Loss: 4.1801\n"
     ]
    },
    {
     "name": "stderr",
     "output_type": "stream",
     "text": [
      "Training:   7%|▋         | 70/1000 [03:22<45:17,  2.92s/it]"
     ]
    },
    {
     "name": "stdout",
     "output_type": "stream",
     "text": [
      "Baseline Loss: 4.3411 | Actual Loss: 3.1555\n",
      "Epoch 70/1000: Train Loss: 4.1801, Val Loss: 3.1555\n",
      "Baseline Loss: 5.4980 | Actual Loss: 4.1856\n"
     ]
    },
    {
     "name": "stderr",
     "output_type": "stream",
     "text": [
      "Training:   7%|▋         | 71/1000 [03:25<44:57,  2.90s/it]"
     ]
    },
    {
     "name": "stdout",
     "output_type": "stream",
     "text": [
      "Baseline Loss: 4.3411 | Actual Loss: 3.0666\n",
      "Epoch 71/1000: Train Loss: 4.1856, Val Loss: 3.0666\n",
      "Baseline Loss: 5.4979 | Actual Loss: 4.2566\n"
     ]
    },
    {
     "name": "stderr",
     "output_type": "stream",
     "text": [
      "Training:   7%|▋         | 72/1000 [03:28<45:50,  2.96s/it]"
     ]
    },
    {
     "name": "stdout",
     "output_type": "stream",
     "text": [
      "Baseline Loss: 4.3411 | Actual Loss: 2.9082\n",
      "Epoch 72/1000: Train Loss: 4.2566, Val Loss: 2.9082\n",
      "New best validation loss: 2.9082\n"
     ]
    },
    {
     "name": "stderr",
     "output_type": "stream",
     "text": [
      "Training:   7%|▋         | 73/1000 [03:31<44:57,  2.91s/it]"
     ]
    },
    {
     "name": "stdout",
     "output_type": "stream",
     "text": [
      "Baseline Loss: 5.4980 | Actual Loss: 4.0895\n",
      "Baseline Loss: 4.3411 | Actual Loss: 2.9001\n",
      "Epoch 73/1000: Train Loss: 4.0895, Val Loss: 2.9001\n",
      "New best validation loss: 2.9001\n"
     ]
    },
    {
     "name": "stderr",
     "output_type": "stream",
     "text": [
      "Training:   7%|▋         | 74/1000 [03:34<44:27,  2.88s/it]"
     ]
    },
    {
     "name": "stdout",
     "output_type": "stream",
     "text": [
      "Baseline Loss: 5.4979 | Actual Loss: 4.1712\n",
      "Baseline Loss: 4.3411 | Actual Loss: 3.0174\n",
      "Epoch 74/1000: Train Loss: 4.1712, Val Loss: 3.0174\n"
     ]
    },
    {
     "name": "stderr",
     "output_type": "stream",
     "text": [
      "Training:   8%|▊         | 75/1000 [03:36<43:12,  2.80s/it]"
     ]
    },
    {
     "name": "stdout",
     "output_type": "stream",
     "text": [
      "Baseline Loss: 5.4979 | Actual Loss: 4.1573\n",
      "Baseline Loss: 4.3411 | Actual Loss: 3.1604\n",
      "Epoch 75/1000: Train Loss: 4.1573, Val Loss: 3.1604\n",
      "Baseline Loss: 5.4980 | Actual Loss: 4.1558\n"
     ]
    },
    {
     "name": "stderr",
     "output_type": "stream",
     "text": [
      "Training:   8%|▊         | 76/1000 [03:39<44:11,  2.87s/it]"
     ]
    },
    {
     "name": "stdout",
     "output_type": "stream",
     "text": [
      "Baseline Loss: 4.3411 | Actual Loss: 3.0691\n",
      "Epoch 76/1000: Train Loss: 4.1558, Val Loss: 3.0691\n"
     ]
    },
    {
     "name": "stderr",
     "output_type": "stream",
     "text": [
      "Training:   8%|▊         | 77/1000 [03:42<44:42,  2.91s/it]"
     ]
    },
    {
     "name": "stdout",
     "output_type": "stream",
     "text": [
      "Baseline Loss: 5.4979 | Actual Loss: 4.1854\n",
      "Baseline Loss: 4.3411 | Actual Loss: 2.9496\n",
      "Epoch 77/1000: Train Loss: 4.1854, Val Loss: 2.9496\n",
      "Baseline Loss: 5.4980 | Actual Loss: 4.1354\n"
     ]
    },
    {
     "name": "stderr",
     "output_type": "stream",
     "text": [
      "Training:   8%|▊         | 78/1000 [03:45<44:28,  2.89s/it]"
     ]
    },
    {
     "name": "stdout",
     "output_type": "stream",
     "text": [
      "Baseline Loss: 4.3411 | Actual Loss: 3.0084\n",
      "Epoch 78/1000: Train Loss: 4.1354, Val Loss: 3.0084\n",
      "Baseline Loss: 5.4979 | Actual Loss: 4.1738\n"
     ]
    },
    {
     "name": "stderr",
     "output_type": "stream",
     "text": [
      "Training:   8%|▊         | 79/1000 [03:48<43:30,  2.83s/it]"
     ]
    },
    {
     "name": "stdout",
     "output_type": "stream",
     "text": [
      "Baseline Loss: 4.3411 | Actual Loss: 2.9256\n",
      "Epoch 79/1000: Train Loss: 4.1738, Val Loss: 2.9256\n",
      "Baseline Loss: 5.4980 | Actual Loss: 4.1253\n"
     ]
    },
    {
     "name": "stderr",
     "output_type": "stream",
     "text": [
      "Training:   8%|▊         | 80/1000 [03:51<44:20,  2.89s/it]"
     ]
    },
    {
     "name": "stdout",
     "output_type": "stream",
     "text": [
      "Baseline Loss: 4.3411 | Actual Loss: 2.8751\n",
      "Epoch 80/1000: Train Loss: 4.1253, Val Loss: 2.8751\n",
      "New best validation loss: 2.8751\n",
      "Baseline Loss: 5.4979 | Actual Loss: 4.0221\n"
     ]
    },
    {
     "name": "stderr",
     "output_type": "stream",
     "text": [
      "Training:   8%|▊         | 81/1000 [03:54<44:16,  2.89s/it]"
     ]
    },
    {
     "name": "stdout",
     "output_type": "stream",
     "text": [
      "Baseline Loss: 4.3411 | Actual Loss: 2.8578\n",
      "Epoch 81/1000: Train Loss: 4.0221, Val Loss: 2.8578\n",
      "New best validation loss: 2.8578\n"
     ]
    },
    {
     "name": "stderr",
     "output_type": "stream",
     "text": [
      "Training:   8%|▊         | 82/1000 [03:57<44:39,  2.92s/it]"
     ]
    },
    {
     "name": "stdout",
     "output_type": "stream",
     "text": [
      "Baseline Loss: 5.4980 | Actual Loss: 4.0397\n",
      "Baseline Loss: 4.3411 | Actual Loss: 2.9507\n",
      "Epoch 82/1000: Train Loss: 4.0397, Val Loss: 2.9507\n",
      "Baseline Loss: 5.4979 | Actual Loss: 3.9875\n",
      "Baseline Loss: 4.3411 | Actual Loss: 2.6570\n",
      "Epoch 83/1000: Train Loss: 3.9875, Val Loss: 2.6570\n",
      "New best validation loss: 2.6570\n"
     ]
    },
    {
     "name": "stderr",
     "output_type": "stream",
     "text": [
      "Training:   8%|▊         | 83/1000 [04:00<44:34,  2.92s/it]"
     ]
    },
    {
     "name": "stdout",
     "output_type": "stream",
     "text": [
      "Baseline Loss: 5.4979 | Actual Loss: 3.9275\n"
     ]
    },
    {
     "name": "stderr",
     "output_type": "stream",
     "text": [
      "Training:   8%|▊         | 84/1000 [04:03<44:19,  2.90s/it]"
     ]
    },
    {
     "name": "stdout",
     "output_type": "stream",
     "text": [
      "Baseline Loss: 4.3411 | Actual Loss: 2.7238\n",
      "Epoch 84/1000: Train Loss: 3.9275, Val Loss: 2.7238\n"
     ]
    },
    {
     "name": "stderr",
     "output_type": "stream",
     "text": [
      "Training:   8%|▊         | 85/1000 [04:06<44:37,  2.93s/it]"
     ]
    },
    {
     "name": "stdout",
     "output_type": "stream",
     "text": [
      "Baseline Loss: 5.4979 | Actual Loss: 4.0704\n",
      "Baseline Loss: 4.3411 | Actual Loss: 2.8368\n",
      "Epoch 85/1000: Train Loss: 4.0704, Val Loss: 2.8368\n",
      "Baseline Loss: 5.4980 | Actual Loss: 3.9685\n"
     ]
    },
    {
     "name": "stderr",
     "output_type": "stream",
     "text": [
      "Training:   9%|▊         | 86/1000 [04:09<44:11,  2.90s/it]"
     ]
    },
    {
     "name": "stdout",
     "output_type": "stream",
     "text": [
      "Baseline Loss: 4.3411 | Actual Loss: 2.9299\n",
      "Epoch 86/1000: Train Loss: 3.9685, Val Loss: 2.9299\n"
     ]
    },
    {
     "name": "stderr",
     "output_type": "stream",
     "text": [
      "Training:   9%|▊         | 87/1000 [04:12<44:57,  2.95s/it]"
     ]
    },
    {
     "name": "stdout",
     "output_type": "stream",
     "text": [
      "Baseline Loss: 5.4979 | Actual Loss: 4.0814\n",
      "Baseline Loss: 4.3411 | Actual Loss: 2.8722\n",
      "Epoch 87/1000: Train Loss: 4.0814, Val Loss: 2.8722\n"
     ]
    },
    {
     "name": "stderr",
     "output_type": "stream",
     "text": [
      "Training:   9%|▉         | 88/1000 [04:14<44:18,  2.91s/it]"
     ]
    },
    {
     "name": "stdout",
     "output_type": "stream",
     "text": [
      "Baseline Loss: 5.4979 | Actual Loss: 4.0418\n",
      "Baseline Loss: 4.3411 | Actual Loss: 2.8659\n",
      "Epoch 88/1000: Train Loss: 4.0418, Val Loss: 2.8659\n"
     ]
    },
    {
     "name": "stderr",
     "output_type": "stream",
     "text": [
      "Training:   9%|▉         | 89/1000 [04:17<43:48,  2.88s/it]"
     ]
    },
    {
     "name": "stdout",
     "output_type": "stream",
     "text": [
      "Baseline Loss: 5.4980 | Actual Loss: 4.0290\n",
      "Baseline Loss: 4.3411 | Actual Loss: 2.8578\n",
      "Epoch 89/1000: Train Loss: 4.0290, Val Loss: 2.8578\n"
     ]
    },
    {
     "name": "stderr",
     "output_type": "stream",
     "text": [
      "Training:   9%|▉         | 90/1000 [04:20<42:43,  2.82s/it]"
     ]
    },
    {
     "name": "stdout",
     "output_type": "stream",
     "text": [
      "Baseline Loss: 5.4979 | Actual Loss: 3.9180\n",
      "Baseline Loss: 4.3411 | Actual Loss: 2.8991\n",
      "Epoch 90/1000: Train Loss: 3.9180, Val Loss: 2.8991\n",
      "Baseline Loss: 5.4979 | Actual Loss: 4.0232\n"
     ]
    },
    {
     "name": "stderr",
     "output_type": "stream",
     "text": [
      "Training:   9%|▉         | 91/1000 [04:23<43:41,  2.88s/it]"
     ]
    },
    {
     "name": "stdout",
     "output_type": "stream",
     "text": [
      "Baseline Loss: 4.3411 | Actual Loss: 2.8836\n",
      "Epoch 91/1000: Train Loss: 4.0232, Val Loss: 2.8836\n"
     ]
    },
    {
     "name": "stderr",
     "output_type": "stream",
     "text": [
      "Training:   9%|▉         | 92/1000 [04:26<43:55,  2.90s/it]"
     ]
    },
    {
     "name": "stdout",
     "output_type": "stream",
     "text": [
      "Baseline Loss: 5.4980 | Actual Loss: 3.9319\n",
      "Baseline Loss: 4.3411 | Actual Loss: 2.6400\n",
      "Epoch 92/1000: Train Loss: 3.9319, Val Loss: 2.6400\n",
      "New best validation loss: 2.6400\n"
     ]
    },
    {
     "name": "stderr",
     "output_type": "stream",
     "text": [
      "Training:   9%|▉         | 93/1000 [04:29<43:22,  2.87s/it]"
     ]
    },
    {
     "name": "stdout",
     "output_type": "stream",
     "text": [
      "Baseline Loss: 5.4979 | Actual Loss: 3.9677\n",
      "Baseline Loss: 4.3411 | Actual Loss: 2.6447\n",
      "Epoch 93/1000: Train Loss: 3.9677, Val Loss: 2.6447\n",
      "Baseline Loss: 5.4979 | Actual Loss: 3.9105\n"
     ]
    },
    {
     "name": "stderr",
     "output_type": "stream",
     "text": [
      "Training:   9%|▉         | 94/1000 [04:31<42:25,  2.81s/it]"
     ]
    },
    {
     "name": "stdout",
     "output_type": "stream",
     "text": [
      "Baseline Loss: 4.3411 | Actual Loss: 2.5352\n",
      "Epoch 94/1000: Train Loss: 3.9105, Val Loss: 2.5352\n",
      "New best validation loss: 2.5352\n",
      "Baseline Loss: 5.4980 | Actual Loss: 3.8853\n"
     ]
    },
    {
     "name": "stderr",
     "output_type": "stream",
     "text": [
      "Training:  10%|▉         | 95/1000 [04:34<43:11,  2.86s/it]"
     ]
    },
    {
     "name": "stdout",
     "output_type": "stream",
     "text": [
      "Baseline Loss: 4.3411 | Actual Loss: 2.8605\n",
      "Epoch 95/1000: Train Loss: 3.8853, Val Loss: 2.8605\n",
      "Baseline Loss: 5.4980 | Actual Loss: 3.8937\n"
     ]
    },
    {
     "name": "stderr",
     "output_type": "stream",
     "text": [
      "Training:  10%|▉         | 96/1000 [04:37<42:53,  2.85s/it]"
     ]
    },
    {
     "name": "stdout",
     "output_type": "stream",
     "text": [
      "Baseline Loss: 4.3411 | Actual Loss: 2.7034\n",
      "Epoch 96/1000: Train Loss: 3.8937, Val Loss: 2.7034\n",
      "Baseline Loss: 5.4979 | Actual Loss: 4.0006\n"
     ]
    },
    {
     "name": "stderr",
     "output_type": "stream",
     "text": [
      "Training:  10%|▉         | 97/1000 [04:40<43:38,  2.90s/it]"
     ]
    },
    {
     "name": "stdout",
     "output_type": "stream",
     "text": [
      "Baseline Loss: 4.3411 | Actual Loss: 2.5932\n",
      "Epoch 97/1000: Train Loss: 4.0006, Val Loss: 2.5932\n",
      "Baseline Loss: 5.4979 | Actual Loss: 3.9673\n"
     ]
    },
    {
     "name": "stderr",
     "output_type": "stream",
     "text": [
      "Training:  10%|▉         | 98/1000 [04:43<43:04,  2.87s/it]"
     ]
    },
    {
     "name": "stdout",
     "output_type": "stream",
     "text": [
      "Baseline Loss: 4.3411 | Actual Loss: 2.8034\n",
      "Epoch 98/1000: Train Loss: 3.9673, Val Loss: 2.8034\n",
      "Baseline Loss: 5.4980 | Actual Loss: 3.8701\n"
     ]
    },
    {
     "name": "stderr",
     "output_type": "stream",
     "text": [
      "Training:  10%|▉         | 99/1000 [04:46<42:41,  2.84s/it]"
     ]
    },
    {
     "name": "stdout",
     "output_type": "stream",
     "text": [
      "Baseline Loss: 4.3411 | Actual Loss: 2.7946\n",
      "Epoch 99/1000: Train Loss: 3.8701, Val Loss: 2.7946\n",
      "Baseline Loss: 5.4980 | Actual Loss: 3.8563\n"
     ]
    },
    {
     "name": "stderr",
     "output_type": "stream",
     "text": [
      "Training:  10%|█         | 100/1000 [04:49<43:36,  2.91s/it]"
     ]
    },
    {
     "name": "stdout",
     "output_type": "stream",
     "text": [
      "Baseline Loss: 4.3411 | Actual Loss: 2.8980\n",
      "Epoch 100/1000: Train Loss: 3.8563, Val Loss: 2.8980\n",
      "Baseline Loss: 5.4979 | Actual Loss: 3.8267\n"
     ]
    },
    {
     "name": "stderr",
     "output_type": "stream",
     "text": [
      "Training:  10%|█         | 101/1000 [04:52<43:25,  2.90s/it]"
     ]
    },
    {
     "name": "stdout",
     "output_type": "stream",
     "text": [
      "Baseline Loss: 4.3411 | Actual Loss: 2.6811\n",
      "Epoch 101/1000: Train Loss: 3.8267, Val Loss: 2.6811\n"
     ]
    },
    {
     "name": "stderr",
     "output_type": "stream",
     "text": [
      "Training:  10%|█         | 102/1000 [04:55<44:23,  2.97s/it]"
     ]
    },
    {
     "name": "stdout",
     "output_type": "stream",
     "text": [
      "Baseline Loss: 5.4980 | Actual Loss: 3.8665\n",
      "Baseline Loss: 4.3411 | Actual Loss: 2.5886\n",
      "Epoch 102/1000: Train Loss: 3.8665, Val Loss: 2.5886\n"
     ]
    },
    {
     "name": "stderr",
     "output_type": "stream",
     "text": [
      "Training:  10%|█         | 103/1000 [04:58<43:42,  2.92s/it]"
     ]
    },
    {
     "name": "stdout",
     "output_type": "stream",
     "text": [
      "Baseline Loss: 5.4979 | Actual Loss: 3.8115\n",
      "Baseline Loss: 4.3411 | Actual Loss: 2.6932\n",
      "Epoch 103/1000: Train Loss: 3.8115, Val Loss: 2.6932\n"
     ]
    },
    {
     "name": "stderr",
     "output_type": "stream",
     "text": [
      "Training:  10%|█         | 104/1000 [05:00<43:11,  2.89s/it]"
     ]
    },
    {
     "name": "stdout",
     "output_type": "stream",
     "text": [
      "Baseline Loss: 5.4979 | Actual Loss: 3.8600\n",
      "Baseline Loss: 4.3411 | Actual Loss: 2.5785\n",
      "Epoch 104/1000: Train Loss: 3.8600, Val Loss: 2.5785\n",
      "Baseline Loss: 5.4980 | Actual Loss: 3.8511\n"
     ]
    },
    {
     "name": "stderr",
     "output_type": "stream",
     "text": [
      "Training:  10%|█         | 105/1000 [05:03<42:12,  2.83s/it]"
     ]
    },
    {
     "name": "stdout",
     "output_type": "stream",
     "text": [
      "Baseline Loss: 4.3411 | Actual Loss: 2.7121\n",
      "Epoch 105/1000: Train Loss: 3.8511, Val Loss: 2.7121\n",
      "Baseline Loss: 5.4979 | Actual Loss: 3.8317\n"
     ]
    },
    {
     "name": "stderr",
     "output_type": "stream",
     "text": [
      "Training:  11%|█         | 106/1000 [05:06<42:58,  2.88s/it]"
     ]
    },
    {
     "name": "stdout",
     "output_type": "stream",
     "text": [
      "Baseline Loss: 4.3411 | Actual Loss: 2.6838\n",
      "Epoch 106/1000: Train Loss: 3.8317, Val Loss: 2.6838\n",
      "Baseline Loss: 5.4980 | Actual Loss: 3.8635\n"
     ]
    },
    {
     "name": "stderr",
     "output_type": "stream",
     "text": [
      "Training:  11%|█         | 107/1000 [05:09<43:19,  2.91s/it]"
     ]
    },
    {
     "name": "stdout",
     "output_type": "stream",
     "text": [
      "Baseline Loss: 4.3411 | Actual Loss: 2.8584\n",
      "Epoch 107/1000: Train Loss: 3.8635, Val Loss: 2.8584\n",
      "Baseline Loss: 5.4979 | Actual Loss: 3.8902\n"
     ]
    },
    {
     "name": "stderr",
     "output_type": "stream",
     "text": [
      "Training:  11%|█         | 108/1000 [05:12<43:07,  2.90s/it]"
     ]
    },
    {
     "name": "stdout",
     "output_type": "stream",
     "text": [
      "Baseline Loss: 4.3411 | Actual Loss: 2.6160\n",
      "Epoch 108/1000: Train Loss: 3.8902, Val Loss: 2.6160\n",
      "Baseline Loss: 5.4980 | Actual Loss: 3.8185\n"
     ]
    },
    {
     "name": "stderr",
     "output_type": "stream",
     "text": [
      "Training:  11%|█         | 109/1000 [05:15<42:15,  2.85s/it]"
     ]
    },
    {
     "name": "stdout",
     "output_type": "stream",
     "text": [
      "Baseline Loss: 4.3411 | Actual Loss: 2.6258\n",
      "Epoch 109/1000: Train Loss: 3.8185, Val Loss: 2.6258\n",
      "Baseline Loss: 5.4980 | Actual Loss: 3.8445\n"
     ]
    },
    {
     "name": "stderr",
     "output_type": "stream",
     "text": [
      "Training:  11%|█         | 110/1000 [05:18<42:53,  2.89s/it]"
     ]
    },
    {
     "name": "stdout",
     "output_type": "stream",
     "text": [
      "Baseline Loss: 4.3411 | Actual Loss: 2.7636\n",
      "Epoch 110/1000: Train Loss: 3.8445, Val Loss: 2.7636\n",
      "Baseline Loss: 5.4979 | Actual Loss: 3.7874\n"
     ]
    },
    {
     "name": "stderr",
     "output_type": "stream",
     "text": [
      "Training:  11%|█         | 111/1000 [05:20<42:27,  2.87s/it]"
     ]
    },
    {
     "name": "stdout",
     "output_type": "stream",
     "text": [
      "Baseline Loss: 4.3411 | Actual Loss: 2.6597\n",
      "Epoch 111/1000: Train Loss: 3.7874, Val Loss: 2.6597\n",
      "Baseline Loss: 5.4980 | Actual Loss: 3.7298\n"
     ]
    },
    {
     "name": "stderr",
     "output_type": "stream",
     "text": [
      "Training:  11%|█         | 112/1000 [05:23<42:44,  2.89s/it]"
     ]
    },
    {
     "name": "stdout",
     "output_type": "stream",
     "text": [
      "Baseline Loss: 4.3411 | Actual Loss: 2.6573\n",
      "Epoch 112/1000: Train Loss: 3.7298, Val Loss: 2.6573\n",
      "Baseline Loss: 5.4980 | Actual Loss: 3.7482\n"
     ]
    },
    {
     "name": "stderr",
     "output_type": "stream",
     "text": [
      "Training:  11%|█▏        | 113/1000 [05:26<41:50,  2.83s/it]"
     ]
    },
    {
     "name": "stdout",
     "output_type": "stream",
     "text": [
      "Baseline Loss: 4.3411 | Actual Loss: 2.6705\n",
      "Epoch 113/1000: Train Loss: 3.7482, Val Loss: 2.6705\n",
      "Baseline Loss: 5.4980 | Actual Loss: 3.7686\n"
     ]
    },
    {
     "name": "stderr",
     "output_type": "stream",
     "text": [
      "Training:  11%|█▏        | 114/1000 [05:29<41:28,  2.81s/it]"
     ]
    },
    {
     "name": "stdout",
     "output_type": "stream",
     "text": [
      "Baseline Loss: 4.3411 | Actual Loss: 2.6981\n",
      "Epoch 114/1000: Train Loss: 3.7686, Val Loss: 2.6981\n",
      "Baseline Loss: 5.4980 | Actual Loss: 3.7575\n"
     ]
    },
    {
     "name": "stderr",
     "output_type": "stream",
     "text": [
      "Training:  12%|█▏        | 115/1000 [05:32<41:52,  2.84s/it]"
     ]
    },
    {
     "name": "stdout",
     "output_type": "stream",
     "text": [
      "Baseline Loss: 4.3411 | Actual Loss: 2.5286\n",
      "Epoch 115/1000: Train Loss: 3.7575, Val Loss: 2.5286\n",
      "New best validation loss: 2.5286\n",
      "Baseline Loss: 5.4980 | Actual Loss: 3.7254\n"
     ]
    },
    {
     "name": "stderr",
     "output_type": "stream",
     "text": [
      "Training:  12%|█▏        | 116/1000 [05:35<41:41,  2.83s/it]"
     ]
    },
    {
     "name": "stdout",
     "output_type": "stream",
     "text": [
      "Baseline Loss: 4.3411 | Actual Loss: 2.6630\n",
      "Epoch 116/1000: Train Loss: 3.7254, Val Loss: 2.6630\n",
      "Baseline Loss: 5.4979 | Actual Loss: 3.7085\n"
     ]
    },
    {
     "name": "stderr",
     "output_type": "stream",
     "text": [
      "Training:  12%|█▏        | 117/1000 [05:38<42:44,  2.90s/it]"
     ]
    },
    {
     "name": "stdout",
     "output_type": "stream",
     "text": [
      "Baseline Loss: 4.3411 | Actual Loss: 2.6870\n",
      "Epoch 117/1000: Train Loss: 3.7085, Val Loss: 2.6870\n",
      "Baseline Loss: 5.4980 | Actual Loss: 3.8308\n"
     ]
    },
    {
     "name": "stderr",
     "output_type": "stream",
     "text": [
      "Training:  12%|█▏        | 118/1000 [05:40<42:05,  2.86s/it]"
     ]
    },
    {
     "name": "stdout",
     "output_type": "stream",
     "text": [
      "Baseline Loss: 4.3411 | Actual Loss: 2.6753\n",
      "Epoch 118/1000: Train Loss: 3.8308, Val Loss: 2.6753\n",
      "Baseline Loss: 5.4980 | Actual Loss: 3.6907\n"
     ]
    },
    {
     "name": "stderr",
     "output_type": "stream",
     "text": [
      "Training:  12%|█▏        | 119/1000 [05:43<42:05,  2.87s/it]"
     ]
    },
    {
     "name": "stdout",
     "output_type": "stream",
     "text": [
      "Baseline Loss: 4.3411 | Actual Loss: 2.5879\n",
      "Epoch 119/1000: Train Loss: 3.6907, Val Loss: 2.5879\n",
      "Baseline Loss: 5.4980 | Actual Loss: 3.6828\n"
     ]
    },
    {
     "name": "stderr",
     "output_type": "stream",
     "text": [
      "Training:  12%|█▏        | 120/1000 [05:46<40:48,  2.78s/it]"
     ]
    },
    {
     "name": "stdout",
     "output_type": "stream",
     "text": [
      "Baseline Loss: 4.3411 | Actual Loss: 2.7000\n",
      "Epoch 120/1000: Train Loss: 3.6828, Val Loss: 2.7000\n",
      "Baseline Loss: 5.4979 | Actual Loss: 3.6382\n"
     ]
    },
    {
     "name": "stderr",
     "output_type": "stream",
     "text": [
      "Training:  12%|█▏        | 121/1000 [05:49<41:50,  2.86s/it]"
     ]
    },
    {
     "name": "stdout",
     "output_type": "stream",
     "text": [
      "Baseline Loss: 4.3411 | Actual Loss: 2.6151\n",
      "Epoch 121/1000: Train Loss: 3.6382, Val Loss: 2.6151\n",
      "Baseline Loss: 5.4979 | Actual Loss: 3.8308\n"
     ]
    },
    {
     "name": "stderr",
     "output_type": "stream",
     "text": [
      "Training:  12%|█▏        | 122/1000 [05:52<42:21,  2.90s/it]"
     ]
    },
    {
     "name": "stdout",
     "output_type": "stream",
     "text": [
      "Baseline Loss: 4.3411 | Actual Loss: 2.6745\n",
      "Epoch 122/1000: Train Loss: 3.8308, Val Loss: 2.6745\n",
      "Baseline Loss: 5.4979 | Actual Loss: 3.6844\n"
     ]
    },
    {
     "name": "stderr",
     "output_type": "stream",
     "text": [
      "Training:  12%|█▏        | 123/1000 [05:55<42:01,  2.88s/it]"
     ]
    },
    {
     "name": "stdout",
     "output_type": "stream",
     "text": [
      "Baseline Loss: 4.3411 | Actual Loss: 2.7852\n",
      "Epoch 123/1000: Train Loss: 3.6844, Val Loss: 2.7852\n",
      "Baseline Loss: 5.4979 | Actual Loss: 3.7682\n"
     ]
    },
    {
     "name": "stderr",
     "output_type": "stream",
     "text": [
      "Training:  12%|█▏        | 124/1000 [05:57<40:56,  2.80s/it]"
     ]
    },
    {
     "name": "stdout",
     "output_type": "stream",
     "text": [
      "Baseline Loss: 4.3411 | Actual Loss: 2.6058\n",
      "Epoch 124/1000: Train Loss: 3.7682, Val Loss: 2.6058\n",
      "Baseline Loss: 5.4979 | Actual Loss: 3.5961\n"
     ]
    },
    {
     "name": "stderr",
     "output_type": "stream",
     "text": [
      "Training:  12%|█▎        | 125/1000 [06:00<41:38,  2.85s/it]"
     ]
    },
    {
     "name": "stdout",
     "output_type": "stream",
     "text": [
      "Baseline Loss: 4.3411 | Actual Loss: 2.6115\n",
      "Epoch 125/1000: Train Loss: 3.5961, Val Loss: 2.6115\n",
      "Baseline Loss: 5.4979 | Actual Loss: 3.6345\n"
     ]
    },
    {
     "name": "stderr",
     "output_type": "stream",
     "text": [
      "Training:  13%|█▎        | 126/1000 [06:03<41:29,  2.85s/it]"
     ]
    },
    {
     "name": "stdout",
     "output_type": "stream",
     "text": [
      "Baseline Loss: 4.3411 | Actual Loss: 2.5624\n",
      "Epoch 126/1000: Train Loss: 3.6345, Val Loss: 2.5624\n",
      "Baseline Loss: 5.4980 | Actual Loss: 3.6992\n"
     ]
    },
    {
     "name": "stderr",
     "output_type": "stream",
     "text": [
      "Training:  13%|█▎        | 127/1000 [06:06<41:56,  2.88s/it]"
     ]
    },
    {
     "name": "stdout",
     "output_type": "stream",
     "text": [
      "Baseline Loss: 4.3411 | Actual Loss: 2.5980\n",
      "Epoch 127/1000: Train Loss: 3.6992, Val Loss: 2.5980\n",
      "Baseline Loss: 5.4980 | Actual Loss: 3.6271\n"
     ]
    },
    {
     "name": "stderr",
     "output_type": "stream",
     "text": [
      "Training:  13%|█▎        | 128/1000 [06:09<41:03,  2.83s/it]"
     ]
    },
    {
     "name": "stdout",
     "output_type": "stream",
     "text": [
      "Baseline Loss: 4.3411 | Actual Loss: 2.6567\n",
      "Epoch 128/1000: Train Loss: 3.6271, Val Loss: 2.6567\n",
      "Baseline Loss: 5.4979 | Actual Loss: 3.6789\n"
     ]
    },
    {
     "name": "stderr",
     "output_type": "stream",
     "text": [
      "Training:  13%|█▎        | 129/1000 [06:12<40:38,  2.80s/it]"
     ]
    },
    {
     "name": "stdout",
     "output_type": "stream",
     "text": [
      "Baseline Loss: 4.3411 | Actual Loss: 2.6677\n",
      "Epoch 129/1000: Train Loss: 3.6789, Val Loss: 2.6677\n",
      "Baseline Loss: 5.4980 | Actual Loss: 3.6567\n"
     ]
    },
    {
     "name": "stderr",
     "output_type": "stream",
     "text": [
      "Training:  13%|█▎        | 130/1000 [06:15<41:10,  2.84s/it]"
     ]
    },
    {
     "name": "stdout",
     "output_type": "stream",
     "text": [
      "Baseline Loss: 4.3411 | Actual Loss: 2.9421\n",
      "Epoch 130/1000: Train Loss: 3.6567, Val Loss: 2.9421\n",
      "Baseline Loss: 5.4980 | Actual Loss: 3.7099\n"
     ]
    },
    {
     "name": "stderr",
     "output_type": "stream",
     "text": [
      "Training:  13%|█▎        | 131/1000 [06:17<41:03,  2.84s/it]"
     ]
    },
    {
     "name": "stdout",
     "output_type": "stream",
     "text": [
      "Baseline Loss: 4.3411 | Actual Loss: 2.7799\n",
      "Epoch 131/1000: Train Loss: 3.7099, Val Loss: 2.7799\n"
     ]
    },
    {
     "name": "stderr",
     "output_type": "stream",
     "text": [
      "Training:  13%|█▎        | 132/1000 [06:20<42:18,  2.92s/it]"
     ]
    },
    {
     "name": "stdout",
     "output_type": "stream",
     "text": [
      "Baseline Loss: 5.4979 | Actual Loss: 3.6611\n",
      "Baseline Loss: 4.3411 | Actual Loss: 2.6156\n",
      "Epoch 132/1000: Train Loss: 3.6611, Val Loss: 2.6156\n"
     ]
    },
    {
     "name": "stderr",
     "output_type": "stream",
     "text": [
      "Training:  13%|█▎        | 133/1000 [06:23<41:51,  2.90s/it]"
     ]
    },
    {
     "name": "stdout",
     "output_type": "stream",
     "text": [
      "Baseline Loss: 5.4979 | Actual Loss: 3.5358\n",
      "Baseline Loss: 4.3411 | Actual Loss: 2.6178\n",
      "Epoch 133/1000: Train Loss: 3.5358, Val Loss: 2.6178\n"
     ]
    },
    {
     "name": "stderr",
     "output_type": "stream",
     "text": [
      "Training:  13%|█▎        | 134/1000 [06:26<41:35,  2.88s/it]"
     ]
    },
    {
     "name": "stdout",
     "output_type": "stream",
     "text": [
      "Baseline Loss: 5.4979 | Actual Loss: 3.6086\n",
      "Baseline Loss: 4.3411 | Actual Loss: 2.6885\n",
      "Epoch 134/1000: Train Loss: 3.6086, Val Loss: 2.6885\n"
     ]
    },
    {
     "name": "stderr",
     "output_type": "stream",
     "text": [
      "Training:  14%|█▎        | 135/1000 [06:29<40:14,  2.79s/it]"
     ]
    },
    {
     "name": "stdout",
     "output_type": "stream",
     "text": [
      "Baseline Loss: 5.4980 | Actual Loss: 3.5266\n",
      "Baseline Loss: 4.3411 | Actual Loss: 2.5743\n",
      "Epoch 135/1000: Train Loss: 3.5266, Val Loss: 2.5743\n",
      "Baseline Loss: 5.4980 | Actual Loss: 3.6179\n"
     ]
    },
    {
     "name": "stderr",
     "output_type": "stream",
     "text": [
      "Training:  14%|█▎        | 136/1000 [06:32<41:24,  2.88s/it]"
     ]
    },
    {
     "name": "stdout",
     "output_type": "stream",
     "text": [
      "Baseline Loss: 4.3411 | Actual Loss: 2.6623\n",
      "Epoch 136/1000: Train Loss: 3.6179, Val Loss: 2.6623\n",
      "Baseline Loss: 5.4979 | Actual Loss: 3.6136\n"
     ]
    },
    {
     "name": "stderr",
     "output_type": "stream",
     "text": [
      "Training:  14%|█▎        | 137/1000 [06:35<42:17,  2.94s/it]"
     ]
    },
    {
     "name": "stdout",
     "output_type": "stream",
     "text": [
      "Baseline Loss: 4.3411 | Actual Loss: 2.6666\n",
      "Epoch 137/1000: Train Loss: 3.6136, Val Loss: 2.6666\n"
     ]
    },
    {
     "name": "stderr",
     "output_type": "stream",
     "text": [
      "Training:  14%|█▍        | 138/1000 [06:38<41:52,  2.91s/it]"
     ]
    },
    {
     "name": "stdout",
     "output_type": "stream",
     "text": [
      "Baseline Loss: 5.4980 | Actual Loss: 3.6338\n",
      "Baseline Loss: 4.3411 | Actual Loss: 2.6245\n",
      "Epoch 138/1000: Train Loss: 3.6338, Val Loss: 2.6245\n",
      "Baseline Loss: 5.4979 | Actual Loss: 3.6016\n"
     ]
    },
    {
     "name": "stderr",
     "output_type": "stream",
     "text": [
      "Training:  14%|█▍        | 139/1000 [06:40<40:57,  2.85s/it]"
     ]
    },
    {
     "name": "stdout",
     "output_type": "stream",
     "text": [
      "Baseline Loss: 4.3411 | Actual Loss: 2.7937\n",
      "Epoch 139/1000: Train Loss: 3.6016, Val Loss: 2.7937\n",
      "Baseline Loss: 5.4980 | Actual Loss: 3.5993\n",
      "Baseline Loss: 4.3411 | Actual Loss: 2.5148\n",
      "Epoch 140/1000: Train Loss: 3.5993, Val Loss: 2.5148\n",
      "New best validation loss: 2.5148\n"
     ]
    },
    {
     "name": "stderr",
     "output_type": "stream",
     "text": [
      "Training:  14%|█▍        | 140/1000 [06:43<41:18,  2.88s/it]"
     ]
    },
    {
     "name": "stdout",
     "output_type": "stream",
     "text": [
      "Baseline Loss: 5.4980 | Actual Loss: 3.5626\n"
     ]
    },
    {
     "name": "stderr",
     "output_type": "stream",
     "text": [
      "Training:  14%|█▍        | 141/1000 [06:46<40:51,  2.85s/it]"
     ]
    },
    {
     "name": "stdout",
     "output_type": "stream",
     "text": [
      "Baseline Loss: 4.3411 | Actual Loss: 2.4281\n",
      "Epoch 141/1000: Train Loss: 3.5626, Val Loss: 2.4281\n",
      "New best validation loss: 2.4281\n"
     ]
    },
    {
     "name": "stderr",
     "output_type": "stream",
     "text": [
      "Training:  14%|█▍        | 142/1000 [06:49<41:13,  2.88s/it]"
     ]
    },
    {
     "name": "stdout",
     "output_type": "stream",
     "text": [
      "Baseline Loss: 5.4980 | Actual Loss: 3.5561\n",
      "Baseline Loss: 4.3411 | Actual Loss: 2.7543\n",
      "Epoch 142/1000: Train Loss: 3.5561, Val Loss: 2.7543\n"
     ]
    },
    {
     "name": "stderr",
     "output_type": "stream",
     "text": [
      "Training:  14%|█▍        | 143/1000 [06:52<40:40,  2.85s/it]"
     ]
    },
    {
     "name": "stdout",
     "output_type": "stream",
     "text": [
      "Baseline Loss: 5.4980 | Actual Loss: 3.5939\n",
      "Baseline Loss: 4.3411 | Actual Loss: 2.6590\n",
      "Epoch 143/1000: Train Loss: 3.5939, Val Loss: 2.6590\n"
     ]
    },
    {
     "name": "stderr",
     "output_type": "stream",
     "text": [
      "Training:  14%|█▍        | 144/1000 [06:55<40:28,  2.84s/it]"
     ]
    },
    {
     "name": "stdout",
     "output_type": "stream",
     "text": [
      "Baseline Loss: 5.4979 | Actual Loss: 3.6155\n",
      "Baseline Loss: 4.3411 | Actual Loss: 2.6366\n",
      "Epoch 144/1000: Train Loss: 3.6155, Val Loss: 2.6366\n"
     ]
    },
    {
     "name": "stderr",
     "output_type": "stream",
     "text": [
      "Training:  14%|█▍        | 145/1000 [06:58<40:44,  2.86s/it]"
     ]
    },
    {
     "name": "stdout",
     "output_type": "stream",
     "text": [
      "Baseline Loss: 5.4979 | Actual Loss: 3.5244\n",
      "Baseline Loss: 4.3411 | Actual Loss: 2.7463\n",
      "Epoch 145/1000: Train Loss: 3.5244, Val Loss: 2.7463\n",
      "Baseline Loss: 5.4979 | Actual Loss: 3.5572\n"
     ]
    },
    {
     "name": "stderr",
     "output_type": "stream",
     "text": [
      "Training:  15%|█▍        | 146/1000 [07:00<40:38,  2.85s/it]"
     ]
    },
    {
     "name": "stdout",
     "output_type": "stream",
     "text": [
      "Baseline Loss: 4.3411 | Actual Loss: 2.5368\n",
      "Epoch 146/1000: Train Loss: 3.5572, Val Loss: 2.5368\n"
     ]
    },
    {
     "name": "stderr",
     "output_type": "stream",
     "text": [
      "Training:  15%|█▍        | 147/1000 [07:04<41:25,  2.91s/it]"
     ]
    },
    {
     "name": "stdout",
     "output_type": "stream",
     "text": [
      "Baseline Loss: 5.4980 | Actual Loss: 3.5879\n",
      "Baseline Loss: 4.3411 | Actual Loss: 2.7875\n",
      "Epoch 147/1000: Train Loss: 3.5879, Val Loss: 2.7875\n"
     ]
    },
    {
     "name": "stderr",
     "output_type": "stream",
     "text": [
      "Training:  15%|█▍        | 148/1000 [07:06<41:03,  2.89s/it]"
     ]
    },
    {
     "name": "stdout",
     "output_type": "stream",
     "text": [
      "Baseline Loss: 5.4980 | Actual Loss: 3.5381\n",
      "Baseline Loss: 4.3411 | Actual Loss: 2.4551\n",
      "Epoch 148/1000: Train Loss: 3.5381, Val Loss: 2.4551\n"
     ]
    },
    {
     "name": "stderr",
     "output_type": "stream",
     "text": [
      "Training:  15%|█▍        | 149/1000 [07:09<40:51,  2.88s/it]"
     ]
    },
    {
     "name": "stdout",
     "output_type": "stream",
     "text": [
      "Baseline Loss: 5.4980 | Actual Loss: 3.5399\n",
      "Baseline Loss: 4.3411 | Actual Loss: 2.6823\n",
      "Epoch 149/1000: Train Loss: 3.5399, Val Loss: 2.6823\n"
     ]
    },
    {
     "name": "stderr",
     "output_type": "stream",
     "text": [
      "Training:  15%|█▌        | 150/1000 [07:12<39:28,  2.79s/it]"
     ]
    },
    {
     "name": "stdout",
     "output_type": "stream",
     "text": [
      "Baseline Loss: 5.4980 | Actual Loss: 3.5375\n",
      "Baseline Loss: 4.3411 | Actual Loss: 2.7031\n",
      "Epoch 150/1000: Train Loss: 3.5375, Val Loss: 2.7031\n",
      "Baseline Loss: 5.4980 | Actual Loss: 3.4813\n"
     ]
    },
    {
     "name": "stderr",
     "output_type": "stream",
     "text": [
      "Training:  15%|█▌        | 151/1000 [07:15<40:11,  2.84s/it]"
     ]
    },
    {
     "name": "stdout",
     "output_type": "stream",
     "text": [
      "Baseline Loss: 4.3411 | Actual Loss: 2.7623\n",
      "Epoch 151/1000: Train Loss: 3.4813, Val Loss: 2.7623\n"
     ]
    },
    {
     "name": "stderr",
     "output_type": "stream",
     "text": [
      "Training:  15%|█▌        | 152/1000 [07:18<40:28,  2.86s/it]"
     ]
    },
    {
     "name": "stdout",
     "output_type": "stream",
     "text": [
      "Baseline Loss: 5.4980 | Actual Loss: 3.5113\n",
      "Baseline Loss: 4.3411 | Actual Loss: 2.6159\n",
      "Epoch 152/1000: Train Loss: 3.5113, Val Loss: 2.6159\n"
     ]
    },
    {
     "name": "stderr",
     "output_type": "stream",
     "text": [
      "Training:  15%|█▌        | 153/1000 [07:20<39:55,  2.83s/it]"
     ]
    },
    {
     "name": "stdout",
     "output_type": "stream",
     "text": [
      "Baseline Loss: 5.4979 | Actual Loss: 3.5676\n",
      "Baseline Loss: 4.3411 | Actual Loss: 2.6702\n",
      "Epoch 153/1000: Train Loss: 3.5676, Val Loss: 2.6702\n",
      "Baseline Loss: 5.4980 | Actual Loss: 3.3796\n"
     ]
    },
    {
     "name": "stderr",
     "output_type": "stream",
     "text": [
      "Training:  15%|█▌        | 154/1000 [07:23<38:57,  2.76s/it]"
     ]
    },
    {
     "name": "stdout",
     "output_type": "stream",
     "text": [
      "Baseline Loss: 4.3411 | Actual Loss: 2.5643\n",
      "Epoch 154/1000: Train Loss: 3.3796, Val Loss: 2.5643\n"
     ]
    },
    {
     "name": "stderr",
     "output_type": "stream",
     "text": [
      "Training:  16%|█▌        | 155/1000 [07:26<39:31,  2.81s/it]"
     ]
    },
    {
     "name": "stdout",
     "output_type": "stream",
     "text": [
      "Baseline Loss: 5.4980 | Actual Loss: 3.4690\n",
      "Baseline Loss: 4.3411 | Actual Loss: 2.4104\n",
      "Epoch 155/1000: Train Loss: 3.4690, Val Loss: 2.4104\n",
      "New best validation loss: 2.4104\n",
      "Baseline Loss: 5.4980 | Actual Loss: 3.4741\n"
     ]
    },
    {
     "name": "stderr",
     "output_type": "stream",
     "text": [
      "Training:  16%|█▌        | 156/1000 [07:29<39:21,  2.80s/it]"
     ]
    },
    {
     "name": "stdout",
     "output_type": "stream",
     "text": [
      "Baseline Loss: 4.3411 | Actual Loss: 2.7017\n",
      "Epoch 156/1000: Train Loss: 3.4741, Val Loss: 2.7017\n",
      "Baseline Loss: 5.4980 | Actual Loss: 3.3663\n"
     ]
    },
    {
     "name": "stderr",
     "output_type": "stream",
     "text": [
      "Training:  16%|█▌        | 157/1000 [07:32<39:57,  2.84s/it]"
     ]
    },
    {
     "name": "stdout",
     "output_type": "stream",
     "text": [
      "Baseline Loss: 4.3411 | Actual Loss: 2.8451\n",
      "Epoch 157/1000: Train Loss: 3.3663, Val Loss: 2.8451\n"
     ]
    },
    {
     "name": "stderr",
     "output_type": "stream",
     "text": [
      "Training:  16%|█▌        | 158/1000 [07:34<39:15,  2.80s/it]"
     ]
    },
    {
     "name": "stdout",
     "output_type": "stream",
     "text": [
      "Baseline Loss: 5.4980 | Actual Loss: 3.4708\n",
      "Baseline Loss: 4.3411 | Actual Loss: 3.0523\n",
      "Epoch 158/1000: Train Loss: 3.4708, Val Loss: 3.0523\n"
     ]
    },
    {
     "name": "stderr",
     "output_type": "stream",
     "text": [
      "Training:  16%|█▌        | 159/1000 [07:37<38:53,  2.78s/it]"
     ]
    },
    {
     "name": "stdout",
     "output_type": "stream",
     "text": [
      "Baseline Loss: 5.4979 | Actual Loss: 3.4154\n",
      "Baseline Loss: 4.3411 | Actual Loss: 2.5589\n",
      "Epoch 159/1000: Train Loss: 3.4154, Val Loss: 2.5589\n"
     ]
    },
    {
     "name": "stderr",
     "output_type": "stream",
     "text": [
      "Training:  16%|█▌        | 160/1000 [07:40<39:38,  2.83s/it]"
     ]
    },
    {
     "name": "stdout",
     "output_type": "stream",
     "text": [
      "Baseline Loss: 5.4980 | Actual Loss: 3.3828\n",
      "Baseline Loss: 4.3411 | Actual Loss: 2.7571\n",
      "Epoch 160/1000: Train Loss: 3.3828, Val Loss: 2.7571\n",
      "Baseline Loss: 5.4979 | Actual Loss: 3.4795\n"
     ]
    },
    {
     "name": "stderr",
     "output_type": "stream",
     "text": [
      "Training:  16%|█▌        | 161/1000 [07:43<39:17,  2.81s/it]"
     ]
    },
    {
     "name": "stdout",
     "output_type": "stream",
     "text": [
      "Baseline Loss: 4.3411 | Actual Loss: 2.6355\n",
      "Epoch 161/1000: Train Loss: 3.4795, Val Loss: 2.6355\n",
      "Baseline Loss: 5.4980 | Actual Loss: 3.4610\n"
     ]
    },
    {
     "name": "stderr",
     "output_type": "stream",
     "text": [
      "Training:  16%|█▌        | 162/1000 [07:46<40:17,  2.88s/it]"
     ]
    },
    {
     "name": "stdout",
     "output_type": "stream",
     "text": [
      "Baseline Loss: 4.3411 | Actual Loss: 2.7657\n",
      "Epoch 162/1000: Train Loss: 3.4610, Val Loss: 2.7657\n",
      "Baseline Loss: 5.4980 | Actual Loss: 3.3361\n"
     ]
    },
    {
     "name": "stderr",
     "output_type": "stream",
     "text": [
      "Training:  16%|█▋        | 163/1000 [07:49<39:44,  2.85s/it]"
     ]
    },
    {
     "name": "stdout",
     "output_type": "stream",
     "text": [
      "Baseline Loss: 4.3411 | Actual Loss: 2.6532\n",
      "Epoch 163/1000: Train Loss: 3.3361, Val Loss: 2.6532\n"
     ]
    },
    {
     "name": "stderr",
     "output_type": "stream",
     "text": [
      "Training:  16%|█▋        | 164/1000 [07:51<39:25,  2.83s/it]"
     ]
    },
    {
     "name": "stdout",
     "output_type": "stream",
     "text": [
      "Baseline Loss: 5.4980 | Actual Loss: 3.4423\n",
      "Baseline Loss: 4.3411 | Actual Loss: 2.7234\n",
      "Epoch 164/1000: Train Loss: 3.4423, Val Loss: 2.7234\n"
     ]
    },
    {
     "name": "stderr",
     "output_type": "stream",
     "text": [
      "Training:  16%|█▋        | 165/1000 [07:54<39:02,  2.81s/it]"
     ]
    },
    {
     "name": "stdout",
     "output_type": "stream",
     "text": [
      "Baseline Loss: 5.4980 | Actual Loss: 3.3074\n",
      "Baseline Loss: 4.3411 | Actual Loss: 2.8510\n",
      "Epoch 165/1000: Train Loss: 3.3074, Val Loss: 2.8510\n",
      "Baseline Loss: 5.4979 | Actual Loss: 3.5034\n"
     ]
    },
    {
     "name": "stderr",
     "output_type": "stream",
     "text": [
      "Training:  17%|█▋        | 166/1000 [07:57<39:41,  2.86s/it]"
     ]
    },
    {
     "name": "stdout",
     "output_type": "stream",
     "text": [
      "Baseline Loss: 4.3411 | Actual Loss: 2.7678\n",
      "Epoch 166/1000: Train Loss: 3.5034, Val Loss: 2.7678\n"
     ]
    },
    {
     "name": "stderr",
     "output_type": "stream",
     "text": [
      "Training:  17%|█▋        | 167/1000 [08:00<39:51,  2.87s/it]"
     ]
    },
    {
     "name": "stdout",
     "output_type": "stream",
     "text": [
      "Baseline Loss: 5.4979 | Actual Loss: 3.3750\n",
      "Baseline Loss: 4.3411 | Actual Loss: 2.6885\n",
      "Epoch 167/1000: Train Loss: 3.3750, Val Loss: 2.6885\n"
     ]
    },
    {
     "name": "stderr",
     "output_type": "stream",
     "text": [
      "Training:  17%|█▋        | 168/1000 [08:03<39:22,  2.84s/it]"
     ]
    },
    {
     "name": "stdout",
     "output_type": "stream",
     "text": [
      "Baseline Loss: 5.4979 | Actual Loss: 3.4390\n",
      "Baseline Loss: 4.3411 | Actual Loss: 2.7902\n",
      "Epoch 168/1000: Train Loss: 3.4390, Val Loss: 2.7902\n",
      "Baseline Loss: 5.4980 | Actual Loss: 3.3531\n"
     ]
    },
    {
     "name": "stderr",
     "output_type": "stream",
     "text": [
      "Training:  17%|█▋        | 169/1000 [08:06<38:46,  2.80s/it]"
     ]
    },
    {
     "name": "stdout",
     "output_type": "stream",
     "text": [
      "Baseline Loss: 4.3411 | Actual Loss: 2.7008\n",
      "Epoch 169/1000: Train Loss: 3.3531, Val Loss: 2.7008\n"
     ]
    },
    {
     "name": "stderr",
     "output_type": "stream",
     "text": [
      "Training:  17%|█▋        | 170/1000 [08:08<39:15,  2.84s/it]"
     ]
    },
    {
     "name": "stdout",
     "output_type": "stream",
     "text": [
      "Baseline Loss: 5.4979 | Actual Loss: 3.3204\n",
      "Baseline Loss: 4.3411 | Actual Loss: 2.8319\n",
      "Epoch 170/1000: Train Loss: 3.3204, Val Loss: 2.8319\n",
      "Baseline Loss: 5.4979 | Actual Loss: 3.3543\n"
     ]
    },
    {
     "name": "stderr",
     "output_type": "stream",
     "text": [
      "Training:  17%|█▋        | 171/1000 [08:11<39:01,  2.82s/it]"
     ]
    },
    {
     "name": "stdout",
     "output_type": "stream",
     "text": [
      "Baseline Loss: 4.3411 | Actual Loss: 2.6250\n",
      "Epoch 171/1000: Train Loss: 3.3543, Val Loss: 2.6250\n",
      "Baseline Loss: 5.4979 | Actual Loss: 3.4438\n"
     ]
    },
    {
     "name": "stderr",
     "output_type": "stream",
     "text": [
      "Training:  17%|█▋        | 172/1000 [08:14<39:17,  2.85s/it]"
     ]
    },
    {
     "name": "stdout",
     "output_type": "stream",
     "text": [
      "Baseline Loss: 4.3411 | Actual Loss: 2.5293\n",
      "Epoch 172/1000: Train Loss: 3.4438, Val Loss: 2.5293\n",
      "Baseline Loss: 5.4979 | Actual Loss: 3.4082\n"
     ]
    },
    {
     "name": "stderr",
     "output_type": "stream",
     "text": [
      "Training:  17%|█▋        | 173/1000 [08:17<38:42,  2.81s/it]"
     ]
    },
    {
     "name": "stdout",
     "output_type": "stream",
     "text": [
      "Baseline Loss: 4.3411 | Actual Loss: 2.6593\n",
      "Epoch 173/1000: Train Loss: 3.4082, Val Loss: 2.6593\n"
     ]
    },
    {
     "name": "stderr",
     "output_type": "stream",
     "text": [
      "Training:  17%|█▋        | 174/1000 [08:20<38:22,  2.79s/it]"
     ]
    },
    {
     "name": "stdout",
     "output_type": "stream",
     "text": [
      "Baseline Loss: 5.4980 | Actual Loss: 3.3322\n",
      "Baseline Loss: 4.3411 | Actual Loss: 2.5528\n",
      "Epoch 174/1000: Train Loss: 3.3322, Val Loss: 2.5528\n"
     ]
    },
    {
     "name": "stderr",
     "output_type": "stream",
     "text": [
      "Training:  18%|█▊        | 175/1000 [08:22<38:43,  2.82s/it]"
     ]
    },
    {
     "name": "stdout",
     "output_type": "stream",
     "text": [
      "Baseline Loss: 5.4980 | Actual Loss: 3.2974\n",
      "Baseline Loss: 4.3411 | Actual Loss: 2.7106\n",
      "Epoch 175/1000: Train Loss: 3.2974, Val Loss: 2.7106\n",
      "Baseline Loss: 5.4979 | Actual Loss: 3.3332\n"
     ]
    },
    {
     "name": "stderr",
     "output_type": "stream",
     "text": [
      "Training:  18%|█▊        | 176/1000 [08:25<38:36,  2.81s/it]"
     ]
    },
    {
     "name": "stdout",
     "output_type": "stream",
     "text": [
      "Baseline Loss: 4.3411 | Actual Loss: 2.7665\n",
      "Epoch 176/1000: Train Loss: 3.3332, Val Loss: 2.7665\n"
     ]
    },
    {
     "name": "stderr",
     "output_type": "stream",
     "text": [
      "Training:  18%|█▊        | 177/1000 [08:28<39:45,  2.90s/it]"
     ]
    },
    {
     "name": "stdout",
     "output_type": "stream",
     "text": [
      "Baseline Loss: 5.4979 | Actual Loss: 3.3624\n",
      "Baseline Loss: 4.3411 | Actual Loss: 2.6782\n",
      "Epoch 177/1000: Train Loss: 3.3624, Val Loss: 2.6782\n"
     ]
    },
    {
     "name": "stderr",
     "output_type": "stream",
     "text": [
      "Training:  18%|█▊        | 178/1000 [08:31<38:58,  2.84s/it]"
     ]
    },
    {
     "name": "stdout",
     "output_type": "stream",
     "text": [
      "Baseline Loss: 5.4980 | Actual Loss: 3.3415\n",
      "Baseline Loss: 4.3411 | Actual Loss: 2.7795\n",
      "Epoch 178/1000: Train Loss: 3.3415, Val Loss: 2.7795\n"
     ]
    },
    {
     "name": "stderr",
     "output_type": "stream",
     "text": [
      "Training:  18%|█▊        | 179/1000 [08:34<38:31,  2.81s/it]"
     ]
    },
    {
     "name": "stdout",
     "output_type": "stream",
     "text": [
      "Baseline Loss: 5.4980 | Actual Loss: 3.2384\n",
      "Baseline Loss: 4.3411 | Actual Loss: 2.6889\n",
      "Epoch 179/1000: Train Loss: 3.2384, Val Loss: 2.6889\n"
     ]
    },
    {
     "name": "stderr",
     "output_type": "stream",
     "text": [
      "Training:  18%|█▊        | 180/1000 [08:36<37:34,  2.75s/it]"
     ]
    },
    {
     "name": "stdout",
     "output_type": "stream",
     "text": [
      "Baseline Loss: 5.4979 | Actual Loss: 3.3891\n",
      "Baseline Loss: 4.3411 | Actual Loss: 2.5995\n",
      "Epoch 180/1000: Train Loss: 3.3891, Val Loss: 2.5995\n",
      "Baseline Loss: 5.4980 | Actual Loss: 3.2524\n"
     ]
    },
    {
     "name": "stderr",
     "output_type": "stream",
     "text": [
      "Training:  18%|█▊        | 181/1000 [08:39<38:17,  2.81s/it]"
     ]
    },
    {
     "name": "stdout",
     "output_type": "stream",
     "text": [
      "Baseline Loss: 4.3411 | Actual Loss: 2.7272\n",
      "Epoch 181/1000: Train Loss: 3.2524, Val Loss: 2.7272\n"
     ]
    },
    {
     "name": "stderr",
     "output_type": "stream",
     "text": [
      "Training:  18%|█▊        | 182/1000 [08:42<39:00,  2.86s/it]"
     ]
    },
    {
     "name": "stdout",
     "output_type": "stream",
     "text": [
      "Baseline Loss: 5.4979 | Actual Loss: 3.2460\n",
      "Baseline Loss: 4.3411 | Actual Loss: 2.6530\n",
      "Epoch 182/1000: Train Loss: 3.2460, Val Loss: 2.6530\n"
     ]
    },
    {
     "name": "stderr",
     "output_type": "stream",
     "text": [
      "Training:  18%|█▊        | 183/1000 [08:45<38:44,  2.85s/it]"
     ]
    },
    {
     "name": "stdout",
     "output_type": "stream",
     "text": [
      "Baseline Loss: 5.4979 | Actual Loss: 3.3037\n",
      "Baseline Loss: 4.3411 | Actual Loss: 2.5035\n",
      "Epoch 183/1000: Train Loss: 3.3037, Val Loss: 2.5035\n",
      "Baseline Loss: 5.4980 | Actual Loss: 3.2875\n"
     ]
    },
    {
     "name": "stderr",
     "output_type": "stream",
     "text": [
      "Training:  18%|█▊        | 184/1000 [08:48<37:53,  2.79s/it]"
     ]
    },
    {
     "name": "stdout",
     "output_type": "stream",
     "text": [
      "Baseline Loss: 4.3411 | Actual Loss: 2.6774\n",
      "Epoch 184/1000: Train Loss: 3.2875, Val Loss: 2.6774\n",
      "Baseline Loss: 5.4980 | Actual Loss: 3.2886\n"
     ]
    },
    {
     "name": "stderr",
     "output_type": "stream",
     "text": [
      "Training:  18%|█▊        | 185/1000 [08:51<38:14,  2.82s/it]"
     ]
    },
    {
     "name": "stdout",
     "output_type": "stream",
     "text": [
      "Baseline Loss: 4.3411 | Actual Loss: 2.7065\n",
      "Epoch 185/1000: Train Loss: 3.2886, Val Loss: 2.7065\n",
      "Baseline Loss: 5.4980 | Actual Loss: 3.2767\n"
     ]
    },
    {
     "name": "stderr",
     "output_type": "stream",
     "text": [
      "Training:  19%|█▊        | 186/1000 [08:54<38:06,  2.81s/it]"
     ]
    },
    {
     "name": "stdout",
     "output_type": "stream",
     "text": [
      "Baseline Loss: 4.3411 | Actual Loss: 2.6222\n",
      "Epoch 186/1000: Train Loss: 3.2767, Val Loss: 2.6222\n"
     ]
    },
    {
     "name": "stderr",
     "output_type": "stream",
     "text": [
      "Training:  19%|█▊        | 187/1000 [08:56<38:29,  2.84s/it]"
     ]
    },
    {
     "name": "stdout",
     "output_type": "stream",
     "text": [
      "Baseline Loss: 5.4979 | Actual Loss: 3.3514\n",
      "Baseline Loss: 4.3411 | Actual Loss: 2.6655\n",
      "Epoch 187/1000: Train Loss: 3.3514, Val Loss: 2.6655\n"
     ]
    },
    {
     "name": "stderr",
     "output_type": "stream",
     "text": [
      "Training:  19%|█▉        | 188/1000 [08:59<38:26,  2.84s/it]"
     ]
    },
    {
     "name": "stdout",
     "output_type": "stream",
     "text": [
      "Baseline Loss: 5.4980 | Actual Loss: 3.2745\n",
      "Baseline Loss: 4.3411 | Actual Loss: 2.7968\n",
      "Epoch 188/1000: Train Loss: 3.2745, Val Loss: 2.7968\n"
     ]
    },
    {
     "name": "stderr",
     "output_type": "stream",
     "text": [
      "Training:  19%|█▉        | 189/1000 [09:02<38:02,  2.81s/it]"
     ]
    },
    {
     "name": "stdout",
     "output_type": "stream",
     "text": [
      "Baseline Loss: 5.4980 | Actual Loss: 3.3225\n",
      "Baseline Loss: 4.3411 | Actual Loss: 2.5225\n",
      "Epoch 189/1000: Train Loss: 3.3225, Val Loss: 2.5225\n",
      "Baseline Loss: 5.4979 | Actual Loss: 3.2538\n"
     ]
    },
    {
     "name": "stderr",
     "output_type": "stream",
     "text": [
      "Training:  19%|█▉        | 190/1000 [09:05<38:37,  2.86s/it]"
     ]
    },
    {
     "name": "stdout",
     "output_type": "stream",
     "text": [
      "Baseline Loss: 4.3411 | Actual Loss: 2.6767\n",
      "Epoch 190/1000: Train Loss: 3.2538, Val Loss: 2.6767\n",
      "Baseline Loss: 5.4980 | Actual Loss: 3.2827\n"
     ]
    },
    {
     "name": "stderr",
     "output_type": "stream",
     "text": [
      "Training:  19%|█▉        | 191/1000 [09:08<38:36,  2.86s/it]"
     ]
    },
    {
     "name": "stdout",
     "output_type": "stream",
     "text": [
      "Baseline Loss: 4.3411 | Actual Loss: 2.6305\n",
      "Epoch 191/1000: Train Loss: 3.2827, Val Loss: 2.6305\n"
     ]
    },
    {
     "name": "stderr",
     "output_type": "stream",
     "text": [
      "Training:  19%|█▉        | 192/1000 [09:11<39:28,  2.93s/it]"
     ]
    },
    {
     "name": "stdout",
     "output_type": "stream",
     "text": [
      "Baseline Loss: 5.4980 | Actual Loss: 3.3018\n",
      "Baseline Loss: 4.3411 | Actual Loss: 2.7577\n",
      "Epoch 192/1000: Train Loss: 3.3018, Val Loss: 2.7577\n",
      "Baseline Loss: 5.4980 | Actual Loss: 3.2477\n",
      "Baseline Loss: 4.3411 | Actual Loss: 2.7320\n"
     ]
    },
    {
     "name": "stderr",
     "output_type": "stream",
     "text": [
      "Training:  19%|█▉        | 193/1000 [09:14<39:11,  2.91s/it]"
     ]
    },
    {
     "name": "stdout",
     "output_type": "stream",
     "text": [
      "Epoch 193/1000: Train Loss: 3.2477, Val Loss: 2.7320\n"
     ]
    },
    {
     "name": "stderr",
     "output_type": "stream",
     "text": [
      "Training:  19%|█▉        | 194/1000 [09:17<38:49,  2.89s/it]"
     ]
    },
    {
     "name": "stdout",
     "output_type": "stream",
     "text": [
      "Baseline Loss: 5.4980 | Actual Loss: 3.3190\n",
      "Baseline Loss: 4.3411 | Actual Loss: 2.6233\n",
      "Epoch 194/1000: Train Loss: 3.3190, Val Loss: 2.6233\n",
      "Baseline Loss: 5.4979 | Actual Loss: 3.2692\n"
     ]
    },
    {
     "name": "stderr",
     "output_type": "stream",
     "text": [
      "Training:  20%|█▉        | 195/1000 [09:19<37:31,  2.80s/it]"
     ]
    },
    {
     "name": "stdout",
     "output_type": "stream",
     "text": [
      "Baseline Loss: 4.3411 | Actual Loss: 2.6065\n",
      "Epoch 195/1000: Train Loss: 3.2692, Val Loss: 2.6065\n",
      "Baseline Loss: 5.4980 | Actual Loss: 3.2087\n"
     ]
    },
    {
     "name": "stderr",
     "output_type": "stream",
     "text": [
      "Training:  20%|█▉        | 196/1000 [09:22<38:21,  2.86s/it]"
     ]
    },
    {
     "name": "stdout",
     "output_type": "stream",
     "text": [
      "Baseline Loss: 4.3411 | Actual Loss: 2.8605\n",
      "Epoch 196/1000: Train Loss: 3.2087, Val Loss: 2.8605\n"
     ]
    },
    {
     "name": "stderr",
     "output_type": "stream",
     "text": [
      "Training:  20%|█▉        | 197/1000 [09:25<38:42,  2.89s/it]"
     ]
    },
    {
     "name": "stdout",
     "output_type": "stream",
     "text": [
      "Baseline Loss: 5.4980 | Actual Loss: 3.3404\n",
      "Baseline Loss: 4.3411 | Actual Loss: 2.7650\n",
      "Epoch 197/1000: Train Loss: 3.3404, Val Loss: 2.7650\n"
     ]
    },
    {
     "name": "stderr",
     "output_type": "stream",
     "text": [
      "Training:  20%|█▉        | 198/1000 [09:28<38:17,  2.86s/it]"
     ]
    },
    {
     "name": "stdout",
     "output_type": "stream",
     "text": [
      "Baseline Loss: 5.4979 | Actual Loss: 3.1724\n",
      "Baseline Loss: 4.3411 | Actual Loss: 2.7680\n",
      "Epoch 198/1000: Train Loss: 3.1724, Val Loss: 2.7680\n",
      "Baseline Loss: 5.4979 | Actual Loss: 3.2928\n"
     ]
    },
    {
     "name": "stderr",
     "output_type": "stream",
     "text": [
      "Training:  20%|█▉        | 199/1000 [09:31<37:30,  2.81s/it]"
     ]
    },
    {
     "name": "stdout",
     "output_type": "stream",
     "text": [
      "Baseline Loss: 4.3411 | Actual Loss: 2.8959\n",
      "Epoch 199/1000: Train Loss: 3.2928, Val Loss: 2.8959\n"
     ]
    },
    {
     "name": "stderr",
     "output_type": "stream",
     "text": [
      "Training:  20%|██        | 200/1000 [09:34<38:13,  2.87s/it]"
     ]
    },
    {
     "name": "stdout",
     "output_type": "stream",
     "text": [
      "Baseline Loss: 5.4980 | Actual Loss: 3.3588\n",
      "Baseline Loss: 4.3411 | Actual Loss: 2.7193\n",
      "Epoch 200/1000: Train Loss: 3.3588, Val Loss: 2.7193\n",
      "Baseline Loss: 5.4980 | Actual Loss: 3.2607\n"
     ]
    },
    {
     "name": "stderr",
     "output_type": "stream",
     "text": [
      "Training:  20%|██        | 201/1000 [09:36<37:54,  2.85s/it]"
     ]
    },
    {
     "name": "stdout",
     "output_type": "stream",
     "text": [
      "Baseline Loss: 4.3411 | Actual Loss: 2.7532\n",
      "Epoch 201/1000: Train Loss: 3.2607, Val Loss: 2.7532\n"
     ]
    },
    {
     "name": "stderr",
     "output_type": "stream",
     "text": [
      "Training:  20%|██        | 202/1000 [09:40<38:35,  2.90s/it]"
     ]
    },
    {
     "name": "stdout",
     "output_type": "stream",
     "text": [
      "Baseline Loss: 5.4979 | Actual Loss: 3.2484\n",
      "Baseline Loss: 4.3411 | Actual Loss: 2.5520\n",
      "Epoch 202/1000: Train Loss: 3.2484, Val Loss: 2.5520\n"
     ]
    },
    {
     "name": "stderr",
     "output_type": "stream",
     "text": [
      "Training:  20%|██        | 203/1000 [09:42<38:23,  2.89s/it]"
     ]
    },
    {
     "name": "stdout",
     "output_type": "stream",
     "text": [
      "Baseline Loss: 5.4980 | Actual Loss: 3.2949\n",
      "Baseline Loss: 4.3411 | Actual Loss: 2.8640\n",
      "Epoch 203/1000: Train Loss: 3.2949, Val Loss: 2.8640\n"
     ]
    },
    {
     "name": "stderr",
     "output_type": "stream",
     "text": [
      "Training:  20%|██        | 204/1000 [09:45<37:57,  2.86s/it]"
     ]
    },
    {
     "name": "stdout",
     "output_type": "stream",
     "text": [
      "Baseline Loss: 5.4980 | Actual Loss: 3.2819\n",
      "Baseline Loss: 4.3411 | Actual Loss: 2.6306\n",
      "Epoch 204/1000: Train Loss: 3.2819, Val Loss: 2.6306\n"
     ]
    },
    {
     "name": "stderr",
     "output_type": "stream",
     "text": [
      "Training:  20%|██        | 204/1000 [09:48<38:16,  2.89s/it]"
     ]
    },
    {
     "name": "stdout",
     "output_type": "stream",
     "text": [
      "Baseline Loss: 5.4980 | Actual Loss: 3.1567\n",
      "Baseline Loss: 4.3411 | Actual Loss: 2.6612\n",
      "Epoch 205/1000: Train Loss: 3.1567, Val Loss: 2.6612\n",
      "\n",
      "Early stopping at epoch 205\n"
     ]
    },
    {
     "name": "stderr",
     "output_type": "stream",
     "text": [
      "\n"
     ]
    },
    {
     "data": {
      "text/plain": [
       "2.410416603088379"
      ]
     },
     "execution_count": 12,
     "metadata": {},
     "output_type": "execute_result"
    }
   ],
   "source": [
    "model3.train_model(\n",
    "    data_list,\n",
    ")"
   ]
  },
  {
   "cell_type": "code",
   "execution_count": 13,
   "id": "2080382a",
   "metadata": {},
   "outputs": [
    {
     "name": "stdout",
     "output_type": "stream",
     "text": [
      "Training will be saved to: premodels_new/6/0\n"
     ]
    },
    {
     "name": "stderr",
     "output_type": "stream",
     "text": [
      "Training:   0%|          | 0/1000 [00:00<?, ?it/s]"
     ]
    },
    {
     "name": "stdout",
     "output_type": "stream",
     "text": [
      "Baseline Loss: 5.3126 | Actual Loss: 5.2706\n"
     ]
    },
    {
     "name": "stderr",
     "output_type": "stream",
     "text": [
      "Training:   0%|          | 1/1000 [00:02<49:07,  2.95s/it]"
     ]
    },
    {
     "name": "stdout",
     "output_type": "stream",
     "text": [
      "Baseline Loss: 3.9748 | Actual Loss: 3.9292\n",
      "Epoch 1/1000: Train Loss: 5.2706, Val Loss: 3.9292\n",
      "New best validation loss: 3.9292\n"
     ]
    },
    {
     "name": "stderr",
     "output_type": "stream",
     "text": [
      "Training:   0%|          | 2/1000 [00:06<51:19,  3.09s/it]"
     ]
    },
    {
     "name": "stdout",
     "output_type": "stream",
     "text": [
      "Baseline Loss: 5.3127 | Actual Loss: 5.2658\n",
      "Baseline Loss: 3.9748 | Actual Loss: 3.9124\n",
      "Epoch 2/1000: Train Loss: 5.2658, Val Loss: 3.9124\n",
      "New best validation loss: 3.9124\n",
      "Baseline Loss: 5.3127 | Actual Loss: 5.2620\n"
     ]
    },
    {
     "name": "stderr",
     "output_type": "stream",
     "text": [
      "Training:   0%|          | 3/1000 [00:09<49:48,  3.00s/it]"
     ]
    },
    {
     "name": "stdout",
     "output_type": "stream",
     "text": [
      "Baseline Loss: 3.9748 | Actual Loss: 3.9157\n",
      "Epoch 3/1000: Train Loss: 5.2620, Val Loss: 3.9157\n",
      "Baseline Loss: 5.3127 | Actual Loss: 5.2532\n"
     ]
    },
    {
     "name": "stderr",
     "output_type": "stream",
     "text": [
      "Training:   0%|          | 4/1000 [00:12<50:00,  3.01s/it]"
     ]
    },
    {
     "name": "stdout",
     "output_type": "stream",
     "text": [
      "Baseline Loss: 3.9748 | Actual Loss: 3.9426\n",
      "Epoch 4/1000: Train Loss: 5.2532, Val Loss: 3.9426\n",
      "Baseline Loss: 5.3127 | Actual Loss: 5.2573\n"
     ]
    },
    {
     "name": "stderr",
     "output_type": "stream",
     "text": [
      "Training:   0%|          | 5/1000 [00:14<48:45,  2.94s/it]"
     ]
    },
    {
     "name": "stdout",
     "output_type": "stream",
     "text": [
      "Baseline Loss: 3.9748 | Actual Loss: 3.9153\n",
      "Epoch 5/1000: Train Loss: 5.2573, Val Loss: 3.9153\n",
      "Baseline Loss: 5.3127 | Actual Loss: 5.2437\n"
     ]
    },
    {
     "name": "stderr",
     "output_type": "stream",
     "text": [
      "Training:   1%|          | 6/1000 [00:17<49:38,  3.00s/it]"
     ]
    },
    {
     "name": "stdout",
     "output_type": "stream",
     "text": [
      "Baseline Loss: 3.9748 | Actual Loss: 3.9162\n",
      "Epoch 6/1000: Train Loss: 5.2437, Val Loss: 3.9162\n",
      "Baseline Loss: 5.3126 | Actual Loss: 5.2427\n"
     ]
    },
    {
     "name": "stderr",
     "output_type": "stream",
     "text": [
      "Training:   1%|          | 7/1000 [00:20<49:34,  3.00s/it]"
     ]
    },
    {
     "name": "stdout",
     "output_type": "stream",
     "text": [
      "Baseline Loss: 3.9748 | Actual Loss: 3.9151\n",
      "Epoch 7/1000: Train Loss: 5.2427, Val Loss: 3.9151\n",
      "Baseline Loss: 5.3127 | Actual Loss: 5.2312\n"
     ]
    },
    {
     "name": "stderr",
     "output_type": "stream",
     "text": [
      "Training:   1%|          | 8/1000 [00:23<49:11,  2.98s/it]"
     ]
    },
    {
     "name": "stdout",
     "output_type": "stream",
     "text": [
      "Baseline Loss: 3.9748 | Actual Loss: 3.8913\n",
      "Epoch 8/1000: Train Loss: 5.2312, Val Loss: 3.8913\n",
      "New best validation loss: 3.8913\n",
      "Baseline Loss: 5.3126 | Actual Loss: 5.2283\n"
     ]
    },
    {
     "name": "stderr",
     "output_type": "stream",
     "text": [
      "Training:   1%|          | 9/1000 [00:26<49:08,  2.98s/it]"
     ]
    },
    {
     "name": "stdout",
     "output_type": "stream",
     "text": [
      "Baseline Loss: 3.9748 | Actual Loss: 3.8945\n",
      "Epoch 9/1000: Train Loss: 5.2283, Val Loss: 3.8945\n",
      "Baseline Loss: 5.3127 | Actual Loss: 5.2042\n"
     ]
    },
    {
     "name": "stderr",
     "output_type": "stream",
     "text": [
      "Training:   1%|          | 10/1000 [00:29<49:11,  2.98s/it]"
     ]
    },
    {
     "name": "stdout",
     "output_type": "stream",
     "text": [
      "Baseline Loss: 3.9748 | Actual Loss: 3.8734\n",
      "Epoch 10/1000: Train Loss: 5.2042, Val Loss: 3.8734\n",
      "New best validation loss: 3.8734\n",
      "Baseline Loss: 5.3127 | Actual Loss: 5.2023\n"
     ]
    },
    {
     "name": "stderr",
     "output_type": "stream",
     "text": [
      "Training:   1%|          | 11/1000 [00:32<48:57,  2.97s/it]"
     ]
    },
    {
     "name": "stdout",
     "output_type": "stream",
     "text": [
      "Baseline Loss: 3.9748 | Actual Loss: 3.8787\n",
      "Epoch 11/1000: Train Loss: 5.2023, Val Loss: 3.8787\n",
      "Baseline Loss: 5.3127 | Actual Loss: 5.2074\n"
     ]
    },
    {
     "name": "stderr",
     "output_type": "stream",
     "text": [
      "Training:   1%|          | 12/1000 [00:35<49:04,  2.98s/it]"
     ]
    },
    {
     "name": "stdout",
     "output_type": "stream",
     "text": [
      "Baseline Loss: 3.9748 | Actual Loss: 3.8518\n",
      "Epoch 12/1000: Train Loss: 5.2074, Val Loss: 3.8518\n",
      "New best validation loss: 3.8518\n",
      "Baseline Loss: 5.3127 | Actual Loss: 5.1887\n"
     ]
    },
    {
     "name": "stderr",
     "output_type": "stream",
     "text": [
      "Training:   1%|▏         | 13/1000 [00:38<48:02,  2.92s/it]"
     ]
    },
    {
     "name": "stdout",
     "output_type": "stream",
     "text": [
      "Baseline Loss: 3.9748 | Actual Loss: 3.8417\n",
      "Epoch 13/1000: Train Loss: 5.1887, Val Loss: 3.8417\n",
      "New best validation loss: 3.8417\n",
      "Baseline Loss: 5.3127 | Actual Loss: 5.1735\n"
     ]
    },
    {
     "name": "stderr",
     "output_type": "stream",
     "text": [
      "Training:   1%|▏         | 14/1000 [00:41<49:14,  3.00s/it]"
     ]
    },
    {
     "name": "stdout",
     "output_type": "stream",
     "text": [
      "Baseline Loss: 3.9748 | Actual Loss: 3.8549\n",
      "Epoch 14/1000: Train Loss: 5.1735, Val Loss: 3.8549\n",
      "Baseline Loss: 5.3127 | Actual Loss: 5.1647\n"
     ]
    },
    {
     "name": "stderr",
     "output_type": "stream",
     "text": [
      "Training:   2%|▏         | 15/1000 [00:44<47:39,  2.90s/it]"
     ]
    },
    {
     "name": "stdout",
     "output_type": "stream",
     "text": [
      "Baseline Loss: 3.9748 | Actual Loss: 3.8453\n",
      "Epoch 15/1000: Train Loss: 5.1647, Val Loss: 3.8453\n"
     ]
    },
    {
     "name": "stderr",
     "output_type": "stream",
     "text": [
      "Training:   2%|▏         | 16/1000 [00:47<49:03,  2.99s/it]"
     ]
    },
    {
     "name": "stdout",
     "output_type": "stream",
     "text": [
      "Baseline Loss: 5.3127 | Actual Loss: 5.1593\n",
      "Baseline Loss: 3.9748 | Actual Loss: 3.8473\n",
      "Epoch 16/1000: Train Loss: 5.1593, Val Loss: 3.8473\n",
      "Baseline Loss: 5.3127 | Actual Loss: 5.1548\n"
     ]
    },
    {
     "name": "stderr",
     "output_type": "stream",
     "text": [
      "Training:   2%|▏         | 17/1000 [00:50<47:43,  2.91s/it]"
     ]
    },
    {
     "name": "stdout",
     "output_type": "stream",
     "text": [
      "Baseline Loss: 3.9748 | Actual Loss: 3.8064\n",
      "Epoch 17/1000: Train Loss: 5.1548, Val Loss: 3.8064\n",
      "New best validation loss: 3.8064\n",
      "Baseline Loss: 5.3126 | Actual Loss: 5.1329\n"
     ]
    },
    {
     "name": "stderr",
     "output_type": "stream",
     "text": [
      "Training:   2%|▏         | 18/1000 [00:53<47:59,  2.93s/it]"
     ]
    },
    {
     "name": "stdout",
     "output_type": "stream",
     "text": [
      "Baseline Loss: 3.9748 | Actual Loss: 3.8221\n",
      "Epoch 18/1000: Train Loss: 5.1329, Val Loss: 3.8221\n",
      "Baseline Loss: 5.3127 | Actual Loss: 5.1227\n"
     ]
    },
    {
     "name": "stderr",
     "output_type": "stream",
     "text": [
      "Training:   2%|▏         | 19/1000 [00:56<47:20,  2.90s/it]"
     ]
    },
    {
     "name": "stdout",
     "output_type": "stream",
     "text": [
      "Baseline Loss: 3.9748 | Actual Loss: 3.7712\n",
      "Epoch 19/1000: Train Loss: 5.1227, Val Loss: 3.7712\n",
      "New best validation loss: 3.7712\n",
      "Baseline Loss: 5.3127 | Actual Loss: 5.0867\n"
     ]
    },
    {
     "name": "stderr",
     "output_type": "stream",
     "text": [
      "Training:   2%|▏         | 20/1000 [00:59<47:49,  2.93s/it]"
     ]
    },
    {
     "name": "stdout",
     "output_type": "stream",
     "text": [
      "Baseline Loss: 3.9748 | Actual Loss: 3.7668\n",
      "Epoch 20/1000: Train Loss: 5.0867, Val Loss: 3.7668\n",
      "New best validation loss: 3.7668\n",
      "Baseline Loss: 5.3127 | Actual Loss: 5.1061\n"
     ]
    },
    {
     "name": "stderr",
     "output_type": "stream",
     "text": [
      "Training:   2%|▏         | 21/1000 [01:02<47:52,  2.93s/it]"
     ]
    },
    {
     "name": "stdout",
     "output_type": "stream",
     "text": [
      "Baseline Loss: 3.9748 | Actual Loss: 3.7965\n",
      "Epoch 21/1000: Train Loss: 5.1061, Val Loss: 3.7965\n",
      "Baseline Loss: 5.3126 | Actual Loss: 5.0649\n"
     ]
    },
    {
     "name": "stderr",
     "output_type": "stream",
     "text": [
      "Training:   2%|▏         | 22/1000 [01:05<48:20,  2.97s/it]"
     ]
    },
    {
     "name": "stdout",
     "output_type": "stream",
     "text": [
      "Baseline Loss: 3.9748 | Actual Loss: 3.7340\n",
      "Epoch 22/1000: Train Loss: 5.0649, Val Loss: 3.7340\n",
      "New best validation loss: 3.7340\n",
      "Baseline Loss: 5.3126 | Actual Loss: 5.0820\n"
     ]
    },
    {
     "name": "stderr",
     "output_type": "stream",
     "text": [
      "Training:   2%|▏         | 23/1000 [01:08<48:42,  2.99s/it]"
     ]
    },
    {
     "name": "stdout",
     "output_type": "stream",
     "text": [
      "Baseline Loss: 3.9748 | Actual Loss: 3.7554\n",
      "Epoch 23/1000: Train Loss: 5.0820, Val Loss: 3.7554\n",
      "Baseline Loss: 5.3126 | Actual Loss: 5.0396\n"
     ]
    },
    {
     "name": "stderr",
     "output_type": "stream",
     "text": [
      "Training:   2%|▏         | 24/1000 [01:10<47:09,  2.90s/it]"
     ]
    },
    {
     "name": "stdout",
     "output_type": "stream",
     "text": [
      "Baseline Loss: 3.9748 | Actual Loss: 3.7014\n",
      "Epoch 24/1000: Train Loss: 5.0396, Val Loss: 3.7014\n",
      "New best validation loss: 3.7014\n",
      "Baseline Loss: 5.3127 | Actual Loss: 5.0358\n"
     ]
    },
    {
     "name": "stderr",
     "output_type": "stream",
     "text": [
      "Training:   2%|▎         | 25/1000 [01:13<46:57,  2.89s/it]"
     ]
    },
    {
     "name": "stdout",
     "output_type": "stream",
     "text": [
      "Baseline Loss: 3.9748 | Actual Loss: 3.6499\n",
      "Epoch 25/1000: Train Loss: 5.0358, Val Loss: 3.6499\n",
      "New best validation loss: 3.6499\n",
      "Baseline Loss: 5.3127 | Actual Loss: 5.0187\n"
     ]
    },
    {
     "name": "stderr",
     "output_type": "stream",
     "text": [
      "Training:   3%|▎         | 26/1000 [01:16<46:48,  2.88s/it]"
     ]
    },
    {
     "name": "stdout",
     "output_type": "stream",
     "text": [
      "Baseline Loss: 3.9748 | Actual Loss: 3.6838\n",
      "Epoch 26/1000: Train Loss: 5.0187, Val Loss: 3.6838\n",
      "Baseline Loss: 5.3127 | Actual Loss: 4.9728\n"
     ]
    },
    {
     "name": "stderr",
     "output_type": "stream",
     "text": [
      "Training:   3%|▎         | 27/1000 [01:19<47:26,  2.93s/it]"
     ]
    },
    {
     "name": "stdout",
     "output_type": "stream",
     "text": [
      "Baseline Loss: 3.9748 | Actual Loss: 3.6329\n",
      "Epoch 27/1000: Train Loss: 4.9728, Val Loss: 3.6329\n",
      "New best validation loss: 3.6329\n",
      "Baseline Loss: 5.3127 | Actual Loss: 4.9412\n"
     ]
    },
    {
     "name": "stderr",
     "output_type": "stream",
     "text": [
      "Training:   3%|▎         | 28/1000 [01:23<49:34,  3.06s/it]"
     ]
    },
    {
     "name": "stdout",
     "output_type": "stream",
     "text": [
      "Baseline Loss: 3.9748 | Actual Loss: 3.7016\n",
      "Epoch 28/1000: Train Loss: 4.9412, Val Loss: 3.7016\n",
      "Baseline Loss: 5.3126 | Actual Loss: 4.9488\n"
     ]
    },
    {
     "name": "stderr",
     "output_type": "stream",
     "text": [
      "Training:   3%|▎         | 29/1000 [01:25<48:42,  3.01s/it]"
     ]
    },
    {
     "name": "stdout",
     "output_type": "stream",
     "text": [
      "Baseline Loss: 3.9748 | Actual Loss: 3.5859\n",
      "Epoch 29/1000: Train Loss: 4.9488, Val Loss: 3.5859\n",
      "New best validation loss: 3.5859\n",
      "Baseline Loss: 5.3126 | Actual Loss: 4.9063\n"
     ]
    },
    {
     "name": "stderr",
     "output_type": "stream",
     "text": [
      "Training:   3%|▎         | 30/1000 [01:28<46:52,  2.90s/it]"
     ]
    },
    {
     "name": "stdout",
     "output_type": "stream",
     "text": [
      "Baseline Loss: 3.9748 | Actual Loss: 3.5687\n",
      "Epoch 30/1000: Train Loss: 4.9063, Val Loss: 3.5687\n",
      "New best validation loss: 3.5687\n",
      "Baseline Loss: 5.3127 | Actual Loss: 4.8357\n"
     ]
    },
    {
     "name": "stderr",
     "output_type": "stream",
     "text": [
      "Training:   3%|▎         | 31/1000 [01:31<47:48,  2.96s/it]"
     ]
    },
    {
     "name": "stdout",
     "output_type": "stream",
     "text": [
      "Baseline Loss: 3.9748 | Actual Loss: 3.5443\n",
      "Epoch 31/1000: Train Loss: 4.8357, Val Loss: 3.5443\n",
      "New best validation loss: 3.5443\n",
      "Baseline Loss: 5.3127 | Actual Loss: 4.8294\n"
     ]
    },
    {
     "name": "stderr",
     "output_type": "stream",
     "text": [
      "Training:   3%|▎         | 32/1000 [01:34<47:48,  2.96s/it]"
     ]
    },
    {
     "name": "stdout",
     "output_type": "stream",
     "text": [
      "Baseline Loss: 3.9748 | Actual Loss: 3.5137\n",
      "Epoch 32/1000: Train Loss: 4.8294, Val Loss: 3.5137\n",
      "New best validation loss: 3.5137\n"
     ]
    },
    {
     "name": "stderr",
     "output_type": "stream",
     "text": [
      "Training:   3%|▎         | 33/1000 [01:37<46:20,  2.88s/it]"
     ]
    },
    {
     "name": "stdout",
     "output_type": "stream",
     "text": [
      "Baseline Loss: 5.3126 | Actual Loss: 4.8399\n",
      "Baseline Loss: 3.9748 | Actual Loss: 3.4554\n",
      "Epoch 33/1000: Train Loss: 4.8399, Val Loss: 3.4554\n",
      "New best validation loss: 3.4554\n"
     ]
    },
    {
     "name": "stderr",
     "output_type": "stream",
     "text": [
      "Training:   3%|▎         | 34/1000 [01:40<46:00,  2.86s/it]"
     ]
    },
    {
     "name": "stdout",
     "output_type": "stream",
     "text": [
      "Baseline Loss: 5.3127 | Actual Loss: 4.8189\n",
      "Baseline Loss: 3.9748 | Actual Loss: 3.4244\n",
      "Epoch 34/1000: Train Loss: 4.8189, Val Loss: 3.4244\n",
      "New best validation loss: 3.4244\n",
      "Baseline Loss: 5.3127 | Actual Loss: 4.7487\n"
     ]
    },
    {
     "name": "stderr",
     "output_type": "stream",
     "text": [
      "Training:   4%|▎         | 35/1000 [01:43<46:08,  2.87s/it]"
     ]
    },
    {
     "name": "stdout",
     "output_type": "stream",
     "text": [
      "Baseline Loss: 3.9748 | Actual Loss: 3.4550\n",
      "Epoch 35/1000: Train Loss: 4.7487, Val Loss: 3.4550\n"
     ]
    },
    {
     "name": "stderr",
     "output_type": "stream",
     "text": [
      "Training:   4%|▎         | 36/1000 [01:46<46:54,  2.92s/it]"
     ]
    },
    {
     "name": "stdout",
     "output_type": "stream",
     "text": [
      "Baseline Loss: 5.3127 | Actual Loss: 4.7037\n",
      "Baseline Loss: 3.9748 | Actual Loss: 3.3258\n",
      "Epoch 36/1000: Train Loss: 4.7037, Val Loss: 3.3258\n",
      "New best validation loss: 3.3258\n",
      "Baseline Loss: 5.3127 | Actual Loss: 4.6568\n"
     ]
    },
    {
     "name": "stderr",
     "output_type": "stream",
     "text": [
      "Training:   4%|▎         | 37/1000 [01:48<46:19,  2.89s/it]"
     ]
    },
    {
     "name": "stdout",
     "output_type": "stream",
     "text": [
      "Baseline Loss: 3.9748 | Actual Loss: 3.4865\n",
      "Epoch 37/1000: Train Loss: 4.6568, Val Loss: 3.4865\n",
      "Baseline Loss: 5.3127 | Actual Loss: 4.6266\n"
     ]
    },
    {
     "name": "stderr",
     "output_type": "stream",
     "text": [
      "Training:   4%|▍         | 38/1000 [01:51<46:04,  2.87s/it]"
     ]
    },
    {
     "name": "stdout",
     "output_type": "stream",
     "text": [
      "Baseline Loss: 3.9748 | Actual Loss: 3.3748\n",
      "Epoch 38/1000: Train Loss: 4.6266, Val Loss: 3.3748\n",
      "Baseline Loss: 5.3126 | Actual Loss: 4.5916\n"
     ]
    },
    {
     "name": "stderr",
     "output_type": "stream",
     "text": [
      "Training:   4%|▍         | 39/1000 [01:54<45:09,  2.82s/it]"
     ]
    },
    {
     "name": "stdout",
     "output_type": "stream",
     "text": [
      "Baseline Loss: 3.9748 | Actual Loss: 3.3734\n",
      "Epoch 39/1000: Train Loss: 4.5916, Val Loss: 3.3734\n",
      "Baseline Loss: 5.3127 | Actual Loss: 4.5205\n"
     ]
    },
    {
     "name": "stderr",
     "output_type": "stream",
     "text": [
      "Training:   4%|▍         | 40/1000 [01:57<46:16,  2.89s/it]"
     ]
    },
    {
     "name": "stdout",
     "output_type": "stream",
     "text": [
      "Baseline Loss: 3.9748 | Actual Loss: 3.2611\n",
      "Epoch 40/1000: Train Loss: 4.5205, Val Loss: 3.2611\n",
      "New best validation loss: 3.2611\n",
      "Baseline Loss: 5.3126 | Actual Loss: 4.5307\n"
     ]
    },
    {
     "name": "stderr",
     "output_type": "stream",
     "text": [
      "Training:   4%|▍         | 41/1000 [02:00<46:10,  2.89s/it]"
     ]
    },
    {
     "name": "stdout",
     "output_type": "stream",
     "text": [
      "Baseline Loss: 3.9748 | Actual Loss: 3.2522\n",
      "Epoch 41/1000: Train Loss: 4.5307, Val Loss: 3.2522\n",
      "New best validation loss: 3.2522\n",
      "Baseline Loss: 5.3126 | Actual Loss: 4.5133\n"
     ]
    },
    {
     "name": "stderr",
     "output_type": "stream",
     "text": [
      "Training:   4%|▍         | 42/1000 [02:03<45:17,  2.84s/it]"
     ]
    },
    {
     "name": "stdout",
     "output_type": "stream",
     "text": [
      "Baseline Loss: 3.9748 | Actual Loss: 3.3526\n",
      "Epoch 42/1000: Train Loss: 4.5133, Val Loss: 3.3526\n",
      "Baseline Loss: 5.3127 | Actual Loss: 4.5377\n"
     ]
    },
    {
     "name": "stderr",
     "output_type": "stream",
     "text": [
      "Training:   4%|▍         | 43/1000 [02:06<46:06,  2.89s/it]"
     ]
    },
    {
     "name": "stdout",
     "output_type": "stream",
     "text": [
      "Baseline Loss: 3.9748 | Actual Loss: 3.2297\n",
      "Epoch 43/1000: Train Loss: 4.5377, Val Loss: 3.2297\n",
      "New best validation loss: 3.2297\n",
      "Baseline Loss: 5.3126 | Actual Loss: 4.4889\n"
     ]
    },
    {
     "name": "stderr",
     "output_type": "stream",
     "text": [
      "Training:   4%|▍         | 44/1000 [02:08<45:42,  2.87s/it]"
     ]
    },
    {
     "name": "stdout",
     "output_type": "stream",
     "text": [
      "Baseline Loss: 3.9748 | Actual Loss: 3.2757\n",
      "Epoch 44/1000: Train Loss: 4.4889, Val Loss: 3.2757\n",
      "Baseline Loss: 5.3127 | Actual Loss: 4.4510\n"
     ]
    },
    {
     "name": "stderr",
     "output_type": "stream",
     "text": [
      "Training:   4%|▍         | 45/1000 [02:11<45:41,  2.87s/it]"
     ]
    },
    {
     "name": "stdout",
     "output_type": "stream",
     "text": [
      "Baseline Loss: 3.9748 | Actual Loss: 3.2808\n",
      "Epoch 45/1000: Train Loss: 4.4510, Val Loss: 3.2808\n",
      "Baseline Loss: 5.3127 | Actual Loss: 4.4305\n"
     ]
    },
    {
     "name": "stderr",
     "output_type": "stream",
     "text": [
      "Training:   5%|▍         | 46/1000 [02:14<44:38,  2.81s/it]"
     ]
    },
    {
     "name": "stdout",
     "output_type": "stream",
     "text": [
      "Baseline Loss: 3.9748 | Actual Loss: 3.0858\n",
      "Epoch 46/1000: Train Loss: 4.4305, Val Loss: 3.0858\n",
      "New best validation loss: 3.0858\n",
      "Baseline Loss: 5.3126 | Actual Loss: 4.4144\n"
     ]
    },
    {
     "name": "stderr",
     "output_type": "stream",
     "text": [
      "Training:   5%|▍         | 47/1000 [02:17<45:42,  2.88s/it]"
     ]
    },
    {
     "name": "stdout",
     "output_type": "stream",
     "text": [
      "Baseline Loss: 3.9748 | Actual Loss: 3.0897\n",
      "Epoch 47/1000: Train Loss: 4.4144, Val Loss: 3.0897\n",
      "Baseline Loss: 5.3127 | Actual Loss: 4.4385\n"
     ]
    },
    {
     "name": "stderr",
     "output_type": "stream",
     "text": [
      "Training:   5%|▍         | 48/1000 [02:20<46:12,  2.91s/it]"
     ]
    },
    {
     "name": "stdout",
     "output_type": "stream",
     "text": [
      "Baseline Loss: 3.9748 | Actual Loss: 3.2624\n",
      "Epoch 48/1000: Train Loss: 4.4385, Val Loss: 3.2624\n",
      "Baseline Loss: 5.3127 | Actual Loss: 4.3436\n"
     ]
    },
    {
     "name": "stderr",
     "output_type": "stream",
     "text": [
      "Training:   5%|▍         | 49/1000 [02:23<45:48,  2.89s/it]"
     ]
    },
    {
     "name": "stdout",
     "output_type": "stream",
     "text": [
      "Baseline Loss: 3.9748 | Actual Loss: 3.0816\n",
      "Epoch 49/1000: Train Loss: 4.3436, Val Loss: 3.0816\n",
      "New best validation loss: 3.0816\n",
      "Baseline Loss: 5.3127 | Actual Loss: 4.4065\n"
     ]
    },
    {
     "name": "stderr",
     "output_type": "stream",
     "text": [
      "Training:   5%|▌         | 50/1000 [02:26<45:25,  2.87s/it]"
     ]
    },
    {
     "name": "stdout",
     "output_type": "stream",
     "text": [
      "Baseline Loss: 3.9748 | Actual Loss: 2.9753\n",
      "Epoch 50/1000: Train Loss: 4.4065, Val Loss: 2.9753\n",
      "New best validation loss: 2.9753\n",
      "Baseline Loss: 5.3127 | Actual Loss: 4.3624\n"
     ]
    },
    {
     "name": "stderr",
     "output_type": "stream",
     "text": [
      "Training:   5%|▌         | 51/1000 [02:28<44:41,  2.83s/it]"
     ]
    },
    {
     "name": "stdout",
     "output_type": "stream",
     "text": [
      "Baseline Loss: 3.9748 | Actual Loss: 3.0085\n",
      "Epoch 51/1000: Train Loss: 4.3624, Val Loss: 3.0085\n",
      "Baseline Loss: 5.3126 | Actual Loss: 4.3213\n"
     ]
    },
    {
     "name": "stderr",
     "output_type": "stream",
     "text": [
      "Training:   5%|▌         | 52/1000 [02:31<45:11,  2.86s/it]"
     ]
    },
    {
     "name": "stdout",
     "output_type": "stream",
     "text": [
      "Baseline Loss: 3.9748 | Actual Loss: 3.0658\n",
      "Epoch 52/1000: Train Loss: 4.3213, Val Loss: 3.0658\n"
     ]
    },
    {
     "name": "stderr",
     "output_type": "stream",
     "text": [
      "Training:   5%|▌         | 53/1000 [02:34<45:00,  2.85s/it]"
     ]
    },
    {
     "name": "stdout",
     "output_type": "stream",
     "text": [
      "Baseline Loss: 5.3127 | Actual Loss: 4.3801\n",
      "Baseline Loss: 3.9748 | Actual Loss: 3.1006\n",
      "Epoch 53/1000: Train Loss: 4.3801, Val Loss: 3.1006\n",
      "Baseline Loss: 5.3127 | Actual Loss: 4.3567\n",
      "Baseline Loss: 3.9748 | Actual Loss: 3.1777\n",
      "Epoch 54/1000: Train Loss: 4.3567, Val Loss: 3.1777\n"
     ]
    },
    {
     "name": "stderr",
     "output_type": "stream",
     "text": [
      "Training:   5%|▌         | 54/1000 [02:37<44:13,  2.81s/it]"
     ]
    },
    {
     "name": "stdout",
     "output_type": "stream",
     "text": [
      "Baseline Loss: 5.3126 | Actual Loss: 4.2886\n"
     ]
    },
    {
     "name": "stderr",
     "output_type": "stream",
     "text": [
      "Training:   6%|▌         | 55/1000 [02:40<45:09,  2.87s/it]"
     ]
    },
    {
     "name": "stdout",
     "output_type": "stream",
     "text": [
      "Baseline Loss: 3.9748 | Actual Loss: 3.0522\n",
      "Epoch 55/1000: Train Loss: 4.2886, Val Loss: 3.0522\n",
      "Baseline Loss: 5.3127 | Actual Loss: 4.2965\n"
     ]
    },
    {
     "name": "stderr",
     "output_type": "stream",
     "text": [
      "Training:   6%|▌         | 56/1000 [02:43<45:00,  2.86s/it]"
     ]
    },
    {
     "name": "stdout",
     "output_type": "stream",
     "text": [
      "Baseline Loss: 3.9748 | Actual Loss: 3.1391\n",
      "Epoch 56/1000: Train Loss: 4.2965, Val Loss: 3.1391\n"
     ]
    },
    {
     "name": "stderr",
     "output_type": "stream",
     "text": [
      "Training:   6%|▌         | 57/1000 [02:46<45:12,  2.88s/it]"
     ]
    },
    {
     "name": "stdout",
     "output_type": "stream",
     "text": [
      "Baseline Loss: 5.3126 | Actual Loss: 4.3031\n",
      "Baseline Loss: 3.9748 | Actual Loss: 3.0678\n",
      "Epoch 57/1000: Train Loss: 4.3031, Val Loss: 3.0678\n"
     ]
    },
    {
     "name": "stderr",
     "output_type": "stream",
     "text": [
      "Training:   6%|▌         | 58/1000 [02:49<46:01,  2.93s/it]"
     ]
    },
    {
     "name": "stdout",
     "output_type": "stream",
     "text": [
      "Baseline Loss: 5.3126 | Actual Loss: 4.3156\n",
      "Baseline Loss: 3.9748 | Actual Loss: 3.0437\n",
      "Epoch 58/1000: Train Loss: 4.3156, Val Loss: 3.0437\n"
     ]
    },
    {
     "name": "stderr",
     "output_type": "stream",
     "text": [
      "Training:   6%|▌         | 59/1000 [02:51<45:29,  2.90s/it]"
     ]
    },
    {
     "name": "stdout",
     "output_type": "stream",
     "text": [
      "Baseline Loss: 5.3127 | Actual Loss: 4.2594\n",
      "Baseline Loss: 3.9748 | Actual Loss: 3.1188\n",
      "Epoch 59/1000: Train Loss: 4.2594, Val Loss: 3.1188\n",
      "Baseline Loss: 5.3127 | Actual Loss: 4.3030\n"
     ]
    },
    {
     "name": "stderr",
     "output_type": "stream",
     "text": [
      "Training:   6%|▌         | 60/1000 [02:54<45:16,  2.89s/it]"
     ]
    },
    {
     "name": "stdout",
     "output_type": "stream",
     "text": [
      "Baseline Loss: 3.9748 | Actual Loss: 3.0220\n",
      "Epoch 60/1000: Train Loss: 4.3030, Val Loss: 3.0220\n",
      "Baseline Loss: 5.3126 | Actual Loss: 4.2541\n"
     ]
    },
    {
     "name": "stderr",
     "output_type": "stream",
     "text": [
      "Training:   6%|▌         | 61/1000 [02:57<44:21,  2.83s/it]"
     ]
    },
    {
     "name": "stdout",
     "output_type": "stream",
     "text": [
      "Baseline Loss: 3.9748 | Actual Loss: 3.0809\n",
      "Epoch 61/1000: Train Loss: 4.2541, Val Loss: 3.0809\n"
     ]
    },
    {
     "name": "stderr",
     "output_type": "stream",
     "text": [
      "Training:   6%|▌         | 62/1000 [03:00<44:59,  2.88s/it]"
     ]
    },
    {
     "name": "stdout",
     "output_type": "stream",
     "text": [
      "Baseline Loss: 5.3126 | Actual Loss: 4.3316\n",
      "Baseline Loss: 3.9748 | Actual Loss: 3.0403\n",
      "Epoch 62/1000: Train Loss: 4.3316, Val Loss: 3.0403\n",
      "Baseline Loss: 5.3127 | Actual Loss: 4.3272\n"
     ]
    },
    {
     "name": "stderr",
     "output_type": "stream",
     "text": [
      "Training:   6%|▋         | 63/1000 [03:03<44:53,  2.87s/it]"
     ]
    },
    {
     "name": "stdout",
     "output_type": "stream",
     "text": [
      "Baseline Loss: 3.9748 | Actual Loss: 3.0442\n",
      "Epoch 63/1000: Train Loss: 4.3272, Val Loss: 3.0442\n",
      "Baseline Loss: 5.3126 | Actual Loss: 4.3540\n"
     ]
    },
    {
     "name": "stderr",
     "output_type": "stream",
     "text": [
      "Training:   6%|▋         | 64/1000 [03:06<45:22,  2.91s/it]"
     ]
    },
    {
     "name": "stdout",
     "output_type": "stream",
     "text": [
      "Baseline Loss: 3.9748 | Actual Loss: 2.9942\n",
      "Epoch 64/1000: Train Loss: 4.3540, Val Loss: 2.9942\n",
      "Baseline Loss: 5.3127 | Actual Loss: 4.2716\n"
     ]
    },
    {
     "name": "stderr",
     "output_type": "stream",
     "text": [
      "Training:   6%|▋         | 65/1000 [03:09<44:14,  2.84s/it]"
     ]
    },
    {
     "name": "stdout",
     "output_type": "stream",
     "text": [
      "Baseline Loss: 3.9748 | Actual Loss: 3.1356\n",
      "Epoch 65/1000: Train Loss: 4.2716, Val Loss: 3.1356\n",
      "Baseline Loss: 5.3127 | Actual Loss: 4.2934\n"
     ]
    },
    {
     "name": "stderr",
     "output_type": "stream",
     "text": [
      "Training:   7%|▋         | 66/1000 [03:12<44:46,  2.88s/it]"
     ]
    },
    {
     "name": "stdout",
     "output_type": "stream",
     "text": [
      "Baseline Loss: 3.9748 | Actual Loss: 3.1594\n",
      "Epoch 66/1000: Train Loss: 4.2934, Val Loss: 3.1594\n",
      "Baseline Loss: 5.3127 | Actual Loss: 4.2278\n"
     ]
    },
    {
     "name": "stderr",
     "output_type": "stream",
     "text": [
      "Training:   7%|▋         | 67/1000 [03:15<45:13,  2.91s/it]"
     ]
    },
    {
     "name": "stdout",
     "output_type": "stream",
     "text": [
      "Baseline Loss: 3.9748 | Actual Loss: 3.1672\n",
      "Epoch 67/1000: Train Loss: 4.2278, Val Loss: 3.1672\n",
      "Baseline Loss: 5.3127 | Actual Loss: 4.2415\n"
     ]
    },
    {
     "name": "stderr",
     "output_type": "stream",
     "text": [
      "Training:   7%|▋         | 68/1000 [03:18<45:40,  2.94s/it]"
     ]
    },
    {
     "name": "stdout",
     "output_type": "stream",
     "text": [
      "Baseline Loss: 3.9748 | Actual Loss: 3.0517\n",
      "Epoch 68/1000: Train Loss: 4.2415, Val Loss: 3.0517\n",
      "Baseline Loss: 5.3127 | Actual Loss: 4.2767\n"
     ]
    },
    {
     "name": "stderr",
     "output_type": "stream",
     "text": [
      "Training:   7%|▋         | 69/1000 [03:20<44:14,  2.85s/it]"
     ]
    },
    {
     "name": "stdout",
     "output_type": "stream",
     "text": [
      "Baseline Loss: 3.9748 | Actual Loss: 3.0839\n",
      "Epoch 69/1000: Train Loss: 4.2767, Val Loss: 3.0839\n",
      "Baseline Loss: 5.3126 | Actual Loss: 4.2698\n"
     ]
    },
    {
     "name": "stderr",
     "output_type": "stream",
     "text": [
      "Training:   7%|▋         | 70/1000 [03:23<44:02,  2.84s/it]"
     ]
    },
    {
     "name": "stdout",
     "output_type": "stream",
     "text": [
      "Baseline Loss: 3.9748 | Actual Loss: 3.0553\n",
      "Epoch 70/1000: Train Loss: 4.2698, Val Loss: 3.0553\n",
      "Baseline Loss: 5.3127 | Actual Loss: 4.2623\n"
     ]
    },
    {
     "name": "stderr",
     "output_type": "stream",
     "text": [
      "Training:   7%|▋         | 71/1000 [03:26<44:11,  2.85s/it]"
     ]
    },
    {
     "name": "stdout",
     "output_type": "stream",
     "text": [
      "Baseline Loss: 3.9748 | Actual Loss: 3.0868\n",
      "Epoch 71/1000: Train Loss: 4.2623, Val Loss: 3.0868\n",
      "Baseline Loss: 5.3127 | Actual Loss: 4.2299\n"
     ]
    },
    {
     "name": "stderr",
     "output_type": "stream",
     "text": [
      "Training:   7%|▋         | 72/1000 [03:29<44:51,  2.90s/it]"
     ]
    },
    {
     "name": "stdout",
     "output_type": "stream",
     "text": [
      "Baseline Loss: 3.9748 | Actual Loss: 3.0572\n",
      "Epoch 72/1000: Train Loss: 4.2299, Val Loss: 3.0572\n",
      "Baseline Loss: 5.3126 | Actual Loss: 4.1966\n"
     ]
    },
    {
     "name": "stderr",
     "output_type": "stream",
     "text": [
      "Training:   7%|▋         | 73/1000 [03:32<44:42,  2.89s/it]"
     ]
    },
    {
     "name": "stdout",
     "output_type": "stream",
     "text": [
      "Baseline Loss: 3.9748 | Actual Loss: 3.0934\n",
      "Epoch 73/1000: Train Loss: 4.1966, Val Loss: 3.0934\n",
      "Baseline Loss: 5.3127 | Actual Loss: 4.2332\n"
     ]
    },
    {
     "name": "stderr",
     "output_type": "stream",
     "text": [
      "Training:   7%|▋         | 74/1000 [03:35<44:24,  2.88s/it]"
     ]
    },
    {
     "name": "stdout",
     "output_type": "stream",
     "text": [
      "Baseline Loss: 3.9748 | Actual Loss: 3.1294\n",
      "Epoch 74/1000: Train Loss: 4.2332, Val Loss: 3.1294\n",
      "Baseline Loss: 5.3127 | Actual Loss: 4.2390\n"
     ]
    },
    {
     "name": "stderr",
     "output_type": "stream",
     "text": [
      "Training:   8%|▊         | 75/1000 [03:37<43:40,  2.83s/it]"
     ]
    },
    {
     "name": "stdout",
     "output_type": "stream",
     "text": [
      "Baseline Loss: 3.9748 | Actual Loss: 3.0299\n",
      "Epoch 75/1000: Train Loss: 4.2390, Val Loss: 3.0299\n"
     ]
    },
    {
     "name": "stderr",
     "output_type": "stream",
     "text": [
      "Training:   8%|▊         | 76/1000 [03:40<44:17,  2.88s/it]"
     ]
    },
    {
     "name": "stdout",
     "output_type": "stream",
     "text": [
      "Baseline Loss: 5.3126 | Actual Loss: 4.2406\n",
      "Baseline Loss: 3.9748 | Actual Loss: 3.0359\n",
      "Epoch 76/1000: Train Loss: 4.2406, Val Loss: 3.0359\n",
      "Baseline Loss: 5.3126 | Actual Loss: 4.2030\n"
     ]
    },
    {
     "name": "stderr",
     "output_type": "stream",
     "text": [
      "Training:   8%|▊         | 77/1000 [03:43<44:49,  2.91s/it]"
     ]
    },
    {
     "name": "stdout",
     "output_type": "stream",
     "text": [
      "Baseline Loss: 3.9748 | Actual Loss: 3.0632\n",
      "Epoch 77/1000: Train Loss: 4.2030, Val Loss: 3.0632\n",
      "Baseline Loss: 5.3127 | Actual Loss: 4.2238\n"
     ]
    },
    {
     "name": "stderr",
     "output_type": "stream",
     "text": [
      "Training:   8%|▊         | 78/1000 [03:46<45:21,  2.95s/it]"
     ]
    },
    {
     "name": "stdout",
     "output_type": "stream",
     "text": [
      "Baseline Loss: 3.9748 | Actual Loss: 3.0631\n",
      "Epoch 78/1000: Train Loss: 4.2238, Val Loss: 3.0631\n",
      "Baseline Loss: 5.3127 | Actual Loss: 4.2146\n"
     ]
    },
    {
     "name": "stderr",
     "output_type": "stream",
     "text": [
      "Training:   8%|▊         | 79/1000 [03:49<44:07,  2.87s/it]"
     ]
    },
    {
     "name": "stdout",
     "output_type": "stream",
     "text": [
      "Baseline Loss: 3.9748 | Actual Loss: 3.0021\n",
      "Epoch 79/1000: Train Loss: 4.2146, Val Loss: 3.0021\n",
      "Baseline Loss: 5.3127 | Actual Loss: 4.1808\n"
     ]
    },
    {
     "name": "stderr",
     "output_type": "stream",
     "text": [
      "Training:   8%|▊         | 80/1000 [03:52<43:45,  2.85s/it]"
     ]
    },
    {
     "name": "stdout",
     "output_type": "stream",
     "text": [
      "Baseline Loss: 3.9748 | Actual Loss: 3.0095\n",
      "Epoch 80/1000: Train Loss: 4.1808, Val Loss: 3.0095\n",
      "Baseline Loss: 5.3127 | Actual Loss: 4.2479\n"
     ]
    },
    {
     "name": "stderr",
     "output_type": "stream",
     "text": [
      "Training:   8%|▊         | 81/1000 [03:55<43:52,  2.86s/it]"
     ]
    },
    {
     "name": "stdout",
     "output_type": "stream",
     "text": [
      "Baseline Loss: 3.9748 | Actual Loss: 2.9627\n",
      "Epoch 81/1000: Train Loss: 4.2479, Val Loss: 2.9627\n",
      "New best validation loss: 2.9627\n"
     ]
    },
    {
     "name": "stderr",
     "output_type": "stream",
     "text": [
      "Training:   8%|▊         | 82/1000 [03:58<44:31,  2.91s/it]"
     ]
    },
    {
     "name": "stdout",
     "output_type": "stream",
     "text": [
      "Baseline Loss: 5.3127 | Actual Loss: 4.2497\n",
      "Baseline Loss: 3.9748 | Actual Loss: 3.0371\n",
      "Epoch 82/1000: Train Loss: 4.2497, Val Loss: 3.0371\n"
     ]
    },
    {
     "name": "stderr",
     "output_type": "stream",
     "text": [
      "Training:   8%|▊         | 83/1000 [04:01<44:13,  2.89s/it]"
     ]
    },
    {
     "name": "stdout",
     "output_type": "stream",
     "text": [
      "Baseline Loss: 5.3126 | Actual Loss: 4.2215\n",
      "Baseline Loss: 3.9748 | Actual Loss: 3.1514\n",
      "Epoch 83/1000: Train Loss: 4.2215, Val Loss: 3.1514\n"
     ]
    },
    {
     "name": "stderr",
     "output_type": "stream",
     "text": [
      "Training:   8%|▊         | 84/1000 [04:03<44:04,  2.89s/it]"
     ]
    },
    {
     "name": "stdout",
     "output_type": "stream",
     "text": [
      "Baseline Loss: 5.3126 | Actual Loss: 4.2066\n",
      "Baseline Loss: 3.9748 | Actual Loss: 3.0042\n",
      "Epoch 84/1000: Train Loss: 4.2066, Val Loss: 3.0042\n",
      "Baseline Loss: 5.3127 | Actual Loss: 4.1937\n"
     ]
    },
    {
     "name": "stderr",
     "output_type": "stream",
     "text": [
      "Training:   8%|▊         | 85/1000 [04:06<44:31,  2.92s/it]"
     ]
    },
    {
     "name": "stdout",
     "output_type": "stream",
     "text": [
      "Baseline Loss: 3.9748 | Actual Loss: 3.0018\n",
      "Epoch 85/1000: Train Loss: 4.1937, Val Loss: 3.0018\n",
      "Baseline Loss: 5.3126 | Actual Loss: 4.1691\n"
     ]
    },
    {
     "name": "stderr",
     "output_type": "stream",
     "text": [
      "Training:   9%|▊         | 86/1000 [04:09<44:26,  2.92s/it]"
     ]
    },
    {
     "name": "stdout",
     "output_type": "stream",
     "text": [
      "Baseline Loss: 3.9748 | Actual Loss: 2.9990\n",
      "Epoch 86/1000: Train Loss: 4.1691, Val Loss: 2.9990\n"
     ]
    },
    {
     "name": "stderr",
     "output_type": "stream",
     "text": [
      "Training:   9%|▊         | 87/1000 [04:12<44:46,  2.94s/it]"
     ]
    },
    {
     "name": "stdout",
     "output_type": "stream",
     "text": [
      "Baseline Loss: 5.3126 | Actual Loss: 4.2279\n",
      "Baseline Loss: 3.9748 | Actual Loss: 2.9982\n",
      "Epoch 87/1000: Train Loss: 4.2279, Val Loss: 2.9982\n",
      "Baseline Loss: 5.3127 | Actual Loss: 4.2284\n"
     ]
    },
    {
     "name": "stderr",
     "output_type": "stream",
     "text": [
      "Training:   9%|▉         | 88/1000 [04:15<44:28,  2.93s/it]"
     ]
    },
    {
     "name": "stdout",
     "output_type": "stream",
     "text": [
      "Baseline Loss: 3.9748 | Actual Loss: 3.1137\n",
      "Epoch 88/1000: Train Loss: 4.2284, Val Loss: 3.1137\n",
      "Baseline Loss: 5.3126 | Actual Loss: 4.2089\n"
     ]
    },
    {
     "name": "stderr",
     "output_type": "stream",
     "text": [
      "Training:   9%|▉         | 89/1000 [04:18<44:14,  2.91s/it]"
     ]
    },
    {
     "name": "stdout",
     "output_type": "stream",
     "text": [
      "Baseline Loss: 3.9748 | Actual Loss: 2.8806\n",
      "Epoch 89/1000: Train Loss: 4.2089, Val Loss: 2.8806\n",
      "New best validation loss: 2.8806\n",
      "Baseline Loss: 5.3127 | Actual Loss: 4.1858\n"
     ]
    },
    {
     "name": "stderr",
     "output_type": "stream",
     "text": [
      "Training:   9%|▉         | 90/1000 [04:21<43:28,  2.87s/it]"
     ]
    },
    {
     "name": "stdout",
     "output_type": "stream",
     "text": [
      "Baseline Loss: 3.9748 | Actual Loss: 3.0124\n",
      "Epoch 90/1000: Train Loss: 4.1858, Val Loss: 3.0124\n",
      "Baseline Loss: 5.3126 | Actual Loss: 4.1775\n"
     ]
    },
    {
     "name": "stderr",
     "output_type": "stream",
     "text": [
      "Training:   9%|▉         | 91/1000 [04:24<44:08,  2.91s/it]"
     ]
    },
    {
     "name": "stdout",
     "output_type": "stream",
     "text": [
      "Baseline Loss: 3.9748 | Actual Loss: 2.8930\n",
      "Epoch 91/1000: Train Loss: 4.1775, Val Loss: 2.8930\n",
      "Baseline Loss: 5.3127 | Actual Loss: 4.2240\n"
     ]
    },
    {
     "name": "stderr",
     "output_type": "stream",
     "text": [
      "Training:   9%|▉         | 92/1000 [04:27<45:06,  2.98s/it]"
     ]
    },
    {
     "name": "stdout",
     "output_type": "stream",
     "text": [
      "Baseline Loss: 3.9748 | Actual Loss: 2.8663\n",
      "Epoch 92/1000: Train Loss: 4.2240, Val Loss: 2.8663\n",
      "New best validation loss: 2.8663\n",
      "Baseline Loss: 5.3127 | Actual Loss: 4.1777\n"
     ]
    },
    {
     "name": "stderr",
     "output_type": "stream",
     "text": [
      "Training:   9%|▉         | 93/1000 [04:30<43:28,  2.88s/it]"
     ]
    },
    {
     "name": "stdout",
     "output_type": "stream",
     "text": [
      "Baseline Loss: 3.9748 | Actual Loss: 2.9864\n",
      "Epoch 93/1000: Train Loss: 4.1777, Val Loss: 2.9864\n",
      "Baseline Loss: 5.3126 | Actual Loss: 4.2641\n"
     ]
    },
    {
     "name": "stderr",
     "output_type": "stream",
     "text": [
      "Training:   9%|▉         | 94/1000 [04:33<45:02,  2.98s/it]"
     ]
    },
    {
     "name": "stdout",
     "output_type": "stream",
     "text": [
      "Baseline Loss: 3.9748 | Actual Loss: 3.1183\n",
      "Epoch 94/1000: Train Loss: 4.2641, Val Loss: 3.1183\n",
      "Baseline Loss: 5.3127 | Actual Loss: 4.2363\n"
     ]
    },
    {
     "name": "stderr",
     "output_type": "stream",
     "text": [
      "Training:  10%|▉         | 95/1000 [04:36<45:58,  3.05s/it]"
     ]
    },
    {
     "name": "stdout",
     "output_type": "stream",
     "text": [
      "Baseline Loss: 3.9748 | Actual Loss: 3.0299\n",
      "Epoch 95/1000: Train Loss: 4.2363, Val Loss: 3.0299\n",
      "Baseline Loss: 5.3127 | Actual Loss: 4.1729\n"
     ]
    },
    {
     "name": "stderr",
     "output_type": "stream",
     "text": [
      "Training:  10%|▉         | 96/1000 [04:39<44:02,  2.92s/it]"
     ]
    },
    {
     "name": "stdout",
     "output_type": "stream",
     "text": [
      "Baseline Loss: 3.9748 | Actual Loss: 2.9833\n",
      "Epoch 96/1000: Train Loss: 4.1729, Val Loss: 2.9833\n",
      "Baseline Loss: 5.3127 | Actual Loss: 4.1735\n"
     ]
    },
    {
     "name": "stderr",
     "output_type": "stream",
     "text": [
      "Training:  10%|▉         | 97/1000 [04:42<44:18,  2.94s/it]"
     ]
    },
    {
     "name": "stdout",
     "output_type": "stream",
     "text": [
      "Baseline Loss: 3.9748 | Actual Loss: 2.9894\n",
      "Epoch 97/1000: Train Loss: 4.1735, Val Loss: 2.9894\n",
      "Baseline Loss: 5.3126 | Actual Loss: 4.1587\n"
     ]
    },
    {
     "name": "stderr",
     "output_type": "stream",
     "text": [
      "Training:  10%|▉         | 98/1000 [04:45<44:23,  2.95s/it]"
     ]
    },
    {
     "name": "stdout",
     "output_type": "stream",
     "text": [
      "Baseline Loss: 3.9748 | Actual Loss: 2.8641\n",
      "Epoch 98/1000: Train Loss: 4.1587, Val Loss: 2.8641\n",
      "New best validation loss: 2.8641\n",
      "Baseline Loss: 5.3126 | Actual Loss: 4.2041\n"
     ]
    },
    {
     "name": "stderr",
     "output_type": "stream",
     "text": [
      "Training:  10%|▉         | 99/1000 [04:48<44:35,  2.97s/it]"
     ]
    },
    {
     "name": "stdout",
     "output_type": "stream",
     "text": [
      "Baseline Loss: 3.9748 | Actual Loss: 2.9828\n",
      "Epoch 99/1000: Train Loss: 4.2041, Val Loss: 2.9828\n",
      "Baseline Loss: 5.3126 | Actual Loss: 4.2378\n"
     ]
    },
    {
     "name": "stderr",
     "output_type": "stream",
     "text": [
      "Training:  10%|█         | 100/1000 [04:50<42:56,  2.86s/it]"
     ]
    },
    {
     "name": "stdout",
     "output_type": "stream",
     "text": [
      "Baseline Loss: 3.9748 | Actual Loss: 3.0927\n",
      "Epoch 100/1000: Train Loss: 4.2378, Val Loss: 3.0927\n",
      "Baseline Loss: 5.3126 | Actual Loss: 4.2605\n"
     ]
    },
    {
     "name": "stderr",
     "output_type": "stream",
     "text": [
      "Training:  10%|█         | 101/1000 [04:54<44:32,  2.97s/it]"
     ]
    },
    {
     "name": "stdout",
     "output_type": "stream",
     "text": [
      "Baseline Loss: 3.9748 | Actual Loss: 2.9860\n",
      "Epoch 101/1000: Train Loss: 4.2605, Val Loss: 2.9860\n",
      "Baseline Loss: 5.3127 | Actual Loss: 4.1747\n"
     ]
    },
    {
     "name": "stderr",
     "output_type": "stream",
     "text": [
      "Training:  10%|█         | 102/1000 [04:56<43:02,  2.88s/it]"
     ]
    },
    {
     "name": "stdout",
     "output_type": "stream",
     "text": [
      "Baseline Loss: 3.9748 | Actual Loss: 3.0097\n",
      "Epoch 102/1000: Train Loss: 4.1747, Val Loss: 3.0097\n",
      "Baseline Loss: 5.3127 | Actual Loss: 4.1784\n"
     ]
    },
    {
     "name": "stderr",
     "output_type": "stream",
     "text": [
      "Training:  10%|█         | 103/1000 [04:59<42:59,  2.88s/it]"
     ]
    },
    {
     "name": "stdout",
     "output_type": "stream",
     "text": [
      "Baseline Loss: 3.9748 | Actual Loss: 2.9635\n",
      "Epoch 103/1000: Train Loss: 4.1784, Val Loss: 2.9635\n",
      "Baseline Loss: 5.3127 | Actual Loss: 4.2218\n"
     ]
    },
    {
     "name": "stderr",
     "output_type": "stream",
     "text": [
      "Training:  10%|█         | 104/1000 [05:02<41:55,  2.81s/it]"
     ]
    },
    {
     "name": "stdout",
     "output_type": "stream",
     "text": [
      "Baseline Loss: 3.9748 | Actual Loss: 3.0546\n",
      "Epoch 104/1000: Train Loss: 4.2218, Val Loss: 3.0546\n",
      "Baseline Loss: 5.3127 | Actual Loss: 4.2305\n"
     ]
    },
    {
     "name": "stderr",
     "output_type": "stream",
     "text": [
      "Training:  10%|█         | 105/1000 [05:05<42:40,  2.86s/it]"
     ]
    },
    {
     "name": "stdout",
     "output_type": "stream",
     "text": [
      "Baseline Loss: 3.9748 | Actual Loss: 3.1021\n",
      "Epoch 105/1000: Train Loss: 4.2305, Val Loss: 3.1021\n",
      "Baseline Loss: 5.3127 | Actual Loss: 4.1727\n"
     ]
    },
    {
     "name": "stderr",
     "output_type": "stream",
     "text": [
      "Training:  11%|█         | 106/1000 [05:08<42:50,  2.88s/it]"
     ]
    },
    {
     "name": "stdout",
     "output_type": "stream",
     "text": [
      "Baseline Loss: 3.9748 | Actual Loss: 3.1788\n",
      "Epoch 106/1000: Train Loss: 4.1727, Val Loss: 3.1788\n",
      "Baseline Loss: 5.3127 | Actual Loss: 4.1740\n"
     ]
    },
    {
     "name": "stderr",
     "output_type": "stream",
     "text": [
      "Training:  11%|█         | 107/1000 [05:11<43:01,  2.89s/it]"
     ]
    },
    {
     "name": "stdout",
     "output_type": "stream",
     "text": [
      "Baseline Loss: 3.9748 | Actual Loss: 3.0347\n",
      "Epoch 107/1000: Train Loss: 4.1740, Val Loss: 3.0347\n",
      "Baseline Loss: 5.3126 | Actual Loss: 4.1328\n"
     ]
    },
    {
     "name": "stderr",
     "output_type": "stream",
     "text": [
      "Training:  11%|█         | 108/1000 [05:14<43:29,  2.93s/it]"
     ]
    },
    {
     "name": "stdout",
     "output_type": "stream",
     "text": [
      "Baseline Loss: 3.9748 | Actual Loss: 2.9307\n",
      "Epoch 108/1000: Train Loss: 4.1328, Val Loss: 2.9307\n",
      "Baseline Loss: 5.3127 | Actual Loss: 4.1702\n"
     ]
    },
    {
     "name": "stderr",
     "output_type": "stream",
     "text": [
      "Training:  11%|█         | 109/1000 [05:16<43:13,  2.91s/it]"
     ]
    },
    {
     "name": "stdout",
     "output_type": "stream",
     "text": [
      "Baseline Loss: 3.9748 | Actual Loss: 3.0846\n",
      "Epoch 109/1000: Train Loss: 4.1702, Val Loss: 3.0846\n",
      "Baseline Loss: 5.3127 | Actual Loss: 4.2232\n"
     ]
    },
    {
     "name": "stderr",
     "output_type": "stream",
     "text": [
      "Training:  11%|█         | 110/1000 [05:19<42:53,  2.89s/it]"
     ]
    },
    {
     "name": "stdout",
     "output_type": "stream",
     "text": [
      "Baseline Loss: 3.9748 | Actual Loss: 3.0827\n",
      "Epoch 110/1000: Train Loss: 4.2232, Val Loss: 3.0827\n",
      "Baseline Loss: 5.3127 | Actual Loss: 4.1924\n"
     ]
    },
    {
     "name": "stderr",
     "output_type": "stream",
     "text": [
      "Training:  11%|█         | 111/1000 [05:22<42:09,  2.85s/it]"
     ]
    },
    {
     "name": "stdout",
     "output_type": "stream",
     "text": [
      "Baseline Loss: 3.9748 | Actual Loss: 3.0522\n",
      "Epoch 111/1000: Train Loss: 4.1924, Val Loss: 3.0522\n",
      "Baseline Loss: 5.3127 | Actual Loss: 4.1843\n"
     ]
    },
    {
     "name": "stderr",
     "output_type": "stream",
     "text": [
      "Training:  11%|█         | 112/1000 [05:25<42:58,  2.90s/it]"
     ]
    },
    {
     "name": "stdout",
     "output_type": "stream",
     "text": [
      "Baseline Loss: 3.9748 | Actual Loss: 3.0995\n",
      "Epoch 112/1000: Train Loss: 4.1843, Val Loss: 3.0995\n",
      "Baseline Loss: 5.3127 | Actual Loss: 4.1571\n"
     ]
    },
    {
     "name": "stderr",
     "output_type": "stream",
     "text": [
      "Training:  11%|█▏        | 113/1000 [05:28<43:01,  2.91s/it]"
     ]
    },
    {
     "name": "stdout",
     "output_type": "stream",
     "text": [
      "Baseline Loss: 3.9748 | Actual Loss: 3.0236\n",
      "Epoch 113/1000: Train Loss: 4.1571, Val Loss: 3.0236\n",
      "Baseline Loss: 5.3127 | Actual Loss: 4.1923\n"
     ]
    },
    {
     "name": "stderr",
     "output_type": "stream",
     "text": [
      "Training:  11%|█▏        | 114/1000 [05:31<44:04,  2.98s/it]"
     ]
    },
    {
     "name": "stdout",
     "output_type": "stream",
     "text": [
      "Baseline Loss: 3.9748 | Actual Loss: 3.0739\n",
      "Epoch 114/1000: Train Loss: 4.1923, Val Loss: 3.0739\n",
      "Baseline Loss: 5.3126 | Actual Loss: 4.2311\n"
     ]
    },
    {
     "name": "stderr",
     "output_type": "stream",
     "text": [
      "Training:  12%|█▏        | 115/1000 [05:34<43:05,  2.92s/it]"
     ]
    },
    {
     "name": "stdout",
     "output_type": "stream",
     "text": [
      "Baseline Loss: 3.9748 | Actual Loss: 3.0401\n",
      "Epoch 115/1000: Train Loss: 4.2311, Val Loss: 3.0401\n",
      "Baseline Loss: 5.3127 | Actual Loss: 4.1632\n"
     ]
    },
    {
     "name": "stderr",
     "output_type": "stream",
     "text": [
      "Training:  12%|█▏        | 116/1000 [05:37<43:07,  2.93s/it]"
     ]
    },
    {
     "name": "stdout",
     "output_type": "stream",
     "text": [
      "Baseline Loss: 3.9748 | Actual Loss: 2.9997\n",
      "Epoch 116/1000: Train Loss: 4.1632, Val Loss: 2.9997\n",
      "Baseline Loss: 5.3127 | Actual Loss: 4.1241\n"
     ]
    },
    {
     "name": "stderr",
     "output_type": "stream",
     "text": [
      "Training:  12%|█▏        | 117/1000 [05:40<43:27,  2.95s/it]"
     ]
    },
    {
     "name": "stdout",
     "output_type": "stream",
     "text": [
      "Baseline Loss: 3.9748 | Actual Loss: 2.9212\n",
      "Epoch 117/1000: Train Loss: 4.1241, Val Loss: 2.9212\n",
      "Baseline Loss: 5.3126 | Actual Loss: 4.1910\n"
     ]
    },
    {
     "name": "stderr",
     "output_type": "stream",
     "text": [
      "Training:  12%|█▏        | 118/1000 [05:43<43:53,  2.99s/it]"
     ]
    },
    {
     "name": "stdout",
     "output_type": "stream",
     "text": [
      "Baseline Loss: 3.9748 | Actual Loss: 3.0347\n",
      "Epoch 118/1000: Train Loss: 4.1910, Val Loss: 3.0347\n",
      "Baseline Loss: 5.3127 | Actual Loss: 4.1729\n"
     ]
    },
    {
     "name": "stderr",
     "output_type": "stream",
     "text": [
      "Training:  12%|█▏        | 119/1000 [05:46<42:48,  2.91s/it]"
     ]
    },
    {
     "name": "stdout",
     "output_type": "stream",
     "text": [
      "Baseline Loss: 3.9748 | Actual Loss: 3.0808\n",
      "Epoch 119/1000: Train Loss: 4.1729, Val Loss: 3.0808\n",
      "Baseline Loss: 5.3127 | Actual Loss: 4.1983\n"
     ]
    },
    {
     "name": "stderr",
     "output_type": "stream",
     "text": [
      "Training:  12%|█▏        | 120/1000 [05:49<42:17,  2.88s/it]"
     ]
    },
    {
     "name": "stdout",
     "output_type": "stream",
     "text": [
      "Baseline Loss: 3.9748 | Actual Loss: 3.0197\n",
      "Epoch 120/1000: Train Loss: 4.1983, Val Loss: 3.0197\n",
      "Baseline Loss: 5.3127 | Actual Loss: 4.1430\n"
     ]
    },
    {
     "name": "stderr",
     "output_type": "stream",
     "text": [
      "Training:  12%|█▏        | 121/1000 [05:51<42:30,  2.90s/it]"
     ]
    },
    {
     "name": "stdout",
     "output_type": "stream",
     "text": [
      "Baseline Loss: 3.9748 | Actual Loss: 3.0304\n",
      "Epoch 121/1000: Train Loss: 4.1430, Val Loss: 3.0304\n",
      "Baseline Loss: 5.3127 | Actual Loss: 4.1572\n"
     ]
    },
    {
     "name": "stderr",
     "output_type": "stream",
     "text": [
      "Training:  12%|█▏        | 122/1000 [05:54<42:58,  2.94s/it]"
     ]
    },
    {
     "name": "stdout",
     "output_type": "stream",
     "text": [
      "Baseline Loss: 3.9748 | Actual Loss: 3.0854\n",
      "Epoch 122/1000: Train Loss: 4.1572, Val Loss: 3.0854\n",
      "Baseline Loss: 5.3127 | Actual Loss: 4.1566\n"
     ]
    },
    {
     "name": "stderr",
     "output_type": "stream",
     "text": [
      "Training:  12%|█▏        | 123/1000 [05:57<42:34,  2.91s/it]"
     ]
    },
    {
     "name": "stdout",
     "output_type": "stream",
     "text": [
      "Baseline Loss: 3.9748 | Actual Loss: 3.1474\n",
      "Epoch 123/1000: Train Loss: 4.1566, Val Loss: 3.1474\n",
      "Baseline Loss: 5.3126 | Actual Loss: 4.1819\n"
     ]
    },
    {
     "name": "stderr",
     "output_type": "stream",
     "text": [
      "Training:  12%|█▏        | 124/1000 [06:00<42:11,  2.89s/it]"
     ]
    },
    {
     "name": "stdout",
     "output_type": "stream",
     "text": [
      "Baseline Loss: 3.9748 | Actual Loss: 3.0531\n",
      "Epoch 124/1000: Train Loss: 4.1819, Val Loss: 3.0531\n",
      "Baseline Loss: 5.3127 | Actual Loss: 4.2282\n"
     ]
    },
    {
     "name": "stderr",
     "output_type": "stream",
     "text": [
      "Training:  12%|█▎        | 125/1000 [06:03<41:49,  2.87s/it]"
     ]
    },
    {
     "name": "stdout",
     "output_type": "stream",
     "text": [
      "Baseline Loss: 3.9748 | Actual Loss: 3.1456\n",
      "Epoch 125/1000: Train Loss: 4.2282, Val Loss: 3.1456\n",
      "Baseline Loss: 5.3126 | Actual Loss: 4.1964\n"
     ]
    },
    {
     "name": "stderr",
     "output_type": "stream",
     "text": [
      "Training:  13%|█▎        | 126/1000 [06:06<42:08,  2.89s/it]"
     ]
    },
    {
     "name": "stdout",
     "output_type": "stream",
     "text": [
      "Baseline Loss: 3.9748 | Actual Loss: 3.1227\n",
      "Epoch 126/1000: Train Loss: 4.1964, Val Loss: 3.1227\n",
      "Baseline Loss: 5.3127 | Actual Loss: 4.1859\n"
     ]
    },
    {
     "name": "stderr",
     "output_type": "stream",
     "text": [
      "Training:  13%|█▎        | 127/1000 [06:09<42:32,  2.92s/it]"
     ]
    },
    {
     "name": "stdout",
     "output_type": "stream",
     "text": [
      "Baseline Loss: 3.9748 | Actual Loss: 2.9509\n",
      "Epoch 127/1000: Train Loss: 4.1859, Val Loss: 2.9509\n"
     ]
    },
    {
     "name": "stderr",
     "output_type": "stream",
     "text": [
      "Training:  13%|█▎        | 128/1000 [06:12<42:58,  2.96s/it]"
     ]
    },
    {
     "name": "stdout",
     "output_type": "stream",
     "text": [
      "Baseline Loss: 5.3126 | Actual Loss: 4.2031\n",
      "Baseline Loss: 3.9748 | Actual Loss: 3.0015\n",
      "Epoch 128/1000: Train Loss: 4.2031, Val Loss: 3.0015\n",
      "Baseline Loss: 5.3127 | Actual Loss: 4.2248\n"
     ]
    },
    {
     "name": "stderr",
     "output_type": "stream",
     "text": [
      "Training:  13%|█▎        | 129/1000 [06:15<41:41,  2.87s/it]"
     ]
    },
    {
     "name": "stdout",
     "output_type": "stream",
     "text": [
      "Baseline Loss: 3.9748 | Actual Loss: 2.9829\n",
      "Epoch 129/1000: Train Loss: 4.2248, Val Loss: 2.9829\n",
      "Baseline Loss: 5.3127 | Actual Loss: 4.1571\n"
     ]
    },
    {
     "name": "stderr",
     "output_type": "stream",
     "text": [
      "Training:  13%|█▎        | 130/1000 [06:17<41:28,  2.86s/it]"
     ]
    },
    {
     "name": "stdout",
     "output_type": "stream",
     "text": [
      "Baseline Loss: 3.9748 | Actual Loss: 3.0019\n",
      "Epoch 130/1000: Train Loss: 4.1571, Val Loss: 3.0019\n",
      "Baseline Loss: 5.3126 | Actual Loss: 4.1264\n"
     ]
    },
    {
     "name": "stderr",
     "output_type": "stream",
     "text": [
      "Training:  13%|█▎        | 131/1000 [06:21<42:27,  2.93s/it]"
     ]
    },
    {
     "name": "stdout",
     "output_type": "stream",
     "text": [
      "Baseline Loss: 3.9748 | Actual Loss: 2.9565\n",
      "Epoch 131/1000: Train Loss: 4.1264, Val Loss: 2.9565\n",
      "Baseline Loss: 5.3127 | Actual Loss: 4.1210\n"
     ]
    },
    {
     "name": "stderr",
     "output_type": "stream",
     "text": [
      "Training:  13%|█▎        | 132/1000 [06:24<42:50,  2.96s/it]"
     ]
    },
    {
     "name": "stdout",
     "output_type": "stream",
     "text": [
      "Baseline Loss: 3.9748 | Actual Loss: 3.0867\n",
      "Epoch 132/1000: Train Loss: 4.1210, Val Loss: 3.0867\n",
      "Baseline Loss: 5.3127 | Actual Loss: 4.1531\n"
     ]
    },
    {
     "name": "stderr",
     "output_type": "stream",
     "text": [
      "Training:  13%|█▎        | 133/1000 [06:26<42:12,  2.92s/it]"
     ]
    },
    {
     "name": "stdout",
     "output_type": "stream",
     "text": [
      "Baseline Loss: 3.9748 | Actual Loss: 2.9677\n",
      "Epoch 133/1000: Train Loss: 4.1531, Val Loss: 2.9677\n",
      "Baseline Loss: 5.3127 | Actual Loss: 4.2408\n"
     ]
    },
    {
     "name": "stderr",
     "output_type": "stream",
     "text": [
      "Training:  13%|█▎        | 134/1000 [06:30<43:13,  2.99s/it]"
     ]
    },
    {
     "name": "stdout",
     "output_type": "stream",
     "text": [
      "Baseline Loss: 3.9748 | Actual Loss: 2.9858\n",
      "Epoch 134/1000: Train Loss: 4.2408, Val Loss: 2.9858\n",
      "Baseline Loss: 5.3127 | Actual Loss: 4.1182\n"
     ]
    },
    {
     "name": "stderr",
     "output_type": "stream",
     "text": [
      "Training:  14%|█▎        | 135/1000 [06:33<42:58,  2.98s/it]"
     ]
    },
    {
     "name": "stdout",
     "output_type": "stream",
     "text": [
      "Baseline Loss: 3.9748 | Actual Loss: 2.9177\n",
      "Epoch 135/1000: Train Loss: 4.1182, Val Loss: 2.9177\n",
      "Baseline Loss: 5.3126 | Actual Loss: 4.1723\n"
     ]
    },
    {
     "name": "stderr",
     "output_type": "stream",
     "text": [
      "Training:  14%|█▎        | 136/1000 [06:36<42:46,  2.97s/it]"
     ]
    },
    {
     "name": "stdout",
     "output_type": "stream",
     "text": [
      "Baseline Loss: 3.9748 | Actual Loss: 3.1727\n",
      "Epoch 136/1000: Train Loss: 4.1723, Val Loss: 3.1727\n",
      "Baseline Loss: 5.3127 | Actual Loss: 4.1956\n"
     ]
    },
    {
     "name": "stderr",
     "output_type": "stream",
     "text": [
      "Training:  14%|█▎        | 137/1000 [06:38<42:37,  2.96s/it]"
     ]
    },
    {
     "name": "stdout",
     "output_type": "stream",
     "text": [
      "Baseline Loss: 3.9748 | Actual Loss: 2.8490\n",
      "Epoch 137/1000: Train Loss: 4.1956, Val Loss: 2.8490\n",
      "New best validation loss: 2.8490\n",
      "Baseline Loss: 5.3127 | Actual Loss: 4.1822\n"
     ]
    },
    {
     "name": "stderr",
     "output_type": "stream",
     "text": [
      "Training:  14%|█▍        | 138/1000 [06:41<42:48,  2.98s/it]"
     ]
    },
    {
     "name": "stdout",
     "output_type": "stream",
     "text": [
      "Baseline Loss: 3.9748 | Actual Loss: 3.2111\n",
      "Epoch 138/1000: Train Loss: 4.1822, Val Loss: 3.2111\n",
      "Baseline Loss: 5.3127 | Actual Loss: 4.1682\n"
     ]
    },
    {
     "name": "stderr",
     "output_type": "stream",
     "text": [
      "Training:  14%|█▍        | 139/1000 [06:44<41:23,  2.88s/it]"
     ]
    },
    {
     "name": "stdout",
     "output_type": "stream",
     "text": [
      "Baseline Loss: 3.9748 | Actual Loss: 3.0324\n",
      "Epoch 139/1000: Train Loss: 4.1682, Val Loss: 3.0324\n",
      "Baseline Loss: 5.3127 | Actual Loss: 4.1492\n"
     ]
    },
    {
     "name": "stderr",
     "output_type": "stream",
     "text": [
      "Training:  14%|█▍        | 140/1000 [06:47<41:49,  2.92s/it]"
     ]
    },
    {
     "name": "stdout",
     "output_type": "stream",
     "text": [
      "Baseline Loss: 3.9748 | Actual Loss: 2.9888\n",
      "Epoch 140/1000: Train Loss: 4.1492, Val Loss: 2.9888\n"
     ]
    },
    {
     "name": "stderr",
     "output_type": "stream",
     "text": [
      "Training:  14%|█▍        | 141/1000 [06:50<40:39,  2.84s/it]"
     ]
    },
    {
     "name": "stdout",
     "output_type": "stream",
     "text": [
      "Baseline Loss: 5.3127 | Actual Loss: 4.2307\n",
      "Baseline Loss: 3.9748 | Actual Loss: 2.9452\n",
      "Epoch 141/1000: Train Loss: 4.2307, Val Loss: 2.9452\n",
      "Baseline Loss: 5.3126 | Actual Loss: 4.1715\n"
     ]
    },
    {
     "name": "stderr",
     "output_type": "stream",
     "text": [
      "Training:  14%|█▍        | 142/1000 [06:53<41:04,  2.87s/it]"
     ]
    },
    {
     "name": "stdout",
     "output_type": "stream",
     "text": [
      "Baseline Loss: 3.9748 | Actual Loss: 2.8345\n",
      "Epoch 142/1000: Train Loss: 4.1715, Val Loss: 2.8345\n",
      "New best validation loss: 2.8345\n",
      "Baseline Loss: 5.3126 | Actual Loss: 4.2037\n"
     ]
    },
    {
     "name": "stderr",
     "output_type": "stream",
     "text": [
      "Training:  14%|█▍        | 143/1000 [06:56<41:29,  2.90s/it]"
     ]
    },
    {
     "name": "stdout",
     "output_type": "stream",
     "text": [
      "Baseline Loss: 3.9748 | Actual Loss: 3.0661\n",
      "Epoch 143/1000: Train Loss: 4.2037, Val Loss: 3.0661\n",
      "Baseline Loss: 5.3127 | Actual Loss: 4.1676\n"
     ]
    },
    {
     "name": "stderr",
     "output_type": "stream",
     "text": [
      "Training:  14%|█▍        | 144/1000 [06:59<42:00,  2.94s/it]"
     ]
    },
    {
     "name": "stdout",
     "output_type": "stream",
     "text": [
      "Baseline Loss: 3.9748 | Actual Loss: 3.0384\n",
      "Epoch 144/1000: Train Loss: 4.1676, Val Loss: 3.0384\n",
      "Baseline Loss: 5.3127 | Actual Loss: 4.1997\n"
     ]
    },
    {
     "name": "stderr",
     "output_type": "stream",
     "text": [
      "Training:  14%|█▍        | 145/1000 [07:02<41:26,  2.91s/it]"
     ]
    },
    {
     "name": "stdout",
     "output_type": "stream",
     "text": [
      "Baseline Loss: 3.9748 | Actual Loss: 2.9987\n",
      "Epoch 145/1000: Train Loss: 4.1997, Val Loss: 2.9987\n",
      "Baseline Loss: 5.3126 | Actual Loss: 4.1827\n"
     ]
    },
    {
     "name": "stderr",
     "output_type": "stream",
     "text": [
      "Training:  15%|█▍        | 146/1000 [07:04<41:19,  2.90s/it]"
     ]
    },
    {
     "name": "stdout",
     "output_type": "stream",
     "text": [
      "Baseline Loss: 3.9748 | Actual Loss: 2.9298\n",
      "Epoch 146/1000: Train Loss: 4.1827, Val Loss: 2.9298\n",
      "Baseline Loss: 5.3126 | Actual Loss: 4.2606\n"
     ]
    },
    {
     "name": "stderr",
     "output_type": "stream",
     "text": [
      "Training:  15%|█▍        | 147/1000 [07:07<40:40,  2.86s/it]"
     ]
    },
    {
     "name": "stdout",
     "output_type": "stream",
     "text": [
      "Baseline Loss: 3.9748 | Actual Loss: 3.0326\n",
      "Epoch 147/1000: Train Loss: 4.2606, Val Loss: 3.0326\n",
      "Baseline Loss: 5.3127 | Actual Loss: 4.1767\n"
     ]
    },
    {
     "name": "stderr",
     "output_type": "stream",
     "text": [
      "Training:  15%|█▍        | 148/1000 [07:10<41:40,  2.93s/it]"
     ]
    },
    {
     "name": "stdout",
     "output_type": "stream",
     "text": [
      "Baseline Loss: 3.9748 | Actual Loss: 2.9858\n",
      "Epoch 148/1000: Train Loss: 4.1767, Val Loss: 2.9858\n",
      "Baseline Loss: 5.3127 | Actual Loss: 4.1856\n"
     ]
    },
    {
     "name": "stderr",
     "output_type": "stream",
     "text": [
      "Training:  15%|█▍        | 149/1000 [07:13<41:49,  2.95s/it]"
     ]
    },
    {
     "name": "stdout",
     "output_type": "stream",
     "text": [
      "Baseline Loss: 3.9748 | Actual Loss: 3.1149\n",
      "Epoch 149/1000: Train Loss: 4.1856, Val Loss: 3.1149\n",
      "Baseline Loss: 5.3127 | Actual Loss: 4.1632\n"
     ]
    },
    {
     "name": "stderr",
     "output_type": "stream",
     "text": [
      "Training:  15%|█▌        | 150/1000 [07:16<41:17,  2.92s/it]"
     ]
    },
    {
     "name": "stdout",
     "output_type": "stream",
     "text": [
      "Baseline Loss: 3.9748 | Actual Loss: 3.1665\n",
      "Epoch 150/1000: Train Loss: 4.1632, Val Loss: 3.1665\n",
      "Baseline Loss: 5.3127 | Actual Loss: 4.2091\n"
     ]
    },
    {
     "name": "stderr",
     "output_type": "stream",
     "text": [
      "Training:  15%|█▌        | 151/1000 [07:19<41:11,  2.91s/it]"
     ]
    },
    {
     "name": "stdout",
     "output_type": "stream",
     "text": [
      "Baseline Loss: 3.9748 | Actual Loss: 3.0605\n",
      "Epoch 151/1000: Train Loss: 4.2091, Val Loss: 3.0605\n",
      "Baseline Loss: 5.3127 | Actual Loss: 4.1951\n"
     ]
    },
    {
     "name": "stderr",
     "output_type": "stream",
     "text": [
      "Training:  15%|█▌        | 152/1000 [07:22<42:37,  3.02s/it]"
     ]
    },
    {
     "name": "stdout",
     "output_type": "stream",
     "text": [
      "Baseline Loss: 3.9748 | Actual Loss: 3.1800\n",
      "Epoch 152/1000: Train Loss: 4.1951, Val Loss: 3.1800\n",
      "Baseline Loss: 5.3127 | Actual Loss: 4.2212\n"
     ]
    },
    {
     "name": "stderr",
     "output_type": "stream",
     "text": [
      "Training:  15%|█▌        | 153/1000 [07:25<43:05,  3.05s/it]"
     ]
    },
    {
     "name": "stdout",
     "output_type": "stream",
     "text": [
      "Baseline Loss: 3.9748 | Actual Loss: 3.1748\n",
      "Epoch 153/1000: Train Loss: 4.2212, Val Loss: 3.1748\n",
      "Baseline Loss: 5.3127 | Actual Loss: 4.1343\n"
     ]
    },
    {
     "name": "stderr",
     "output_type": "stream",
     "text": [
      "Training:  15%|█▌        | 154/1000 [07:29<43:05,  3.06s/it]"
     ]
    },
    {
     "name": "stdout",
     "output_type": "stream",
     "text": [
      "Baseline Loss: 3.9748 | Actual Loss: 3.0575\n",
      "Epoch 154/1000: Train Loss: 4.1343, Val Loss: 3.0575\n",
      "Baseline Loss: 5.3127 | Actual Loss: 4.1812\n"
     ]
    },
    {
     "name": "stderr",
     "output_type": "stream",
     "text": [
      "Training:  16%|█▌        | 155/1000 [07:31<42:04,  2.99s/it]"
     ]
    },
    {
     "name": "stdout",
     "output_type": "stream",
     "text": [
      "Baseline Loss: 3.9748 | Actual Loss: 3.0593\n",
      "Epoch 155/1000: Train Loss: 4.1812, Val Loss: 3.0593\n",
      "Baseline Loss: 5.3126 | Actual Loss: 4.1728\n"
     ]
    },
    {
     "name": "stderr",
     "output_type": "stream",
     "text": [
      "Training:  16%|█▌        | 156/1000 [07:34<41:18,  2.94s/it]"
     ]
    },
    {
     "name": "stdout",
     "output_type": "stream",
     "text": [
      "Baseline Loss: 3.9748 | Actual Loss: 3.0140\n",
      "Epoch 156/1000: Train Loss: 4.1728, Val Loss: 3.0140\n",
      "Baseline Loss: 5.3127 | Actual Loss: 4.1724\n"
     ]
    },
    {
     "name": "stderr",
     "output_type": "stream",
     "text": [
      "Training:  16%|█▌        | 157/1000 [07:37<40:05,  2.85s/it]"
     ]
    },
    {
     "name": "stdout",
     "output_type": "stream",
     "text": [
      "Baseline Loss: 3.9748 | Actual Loss: 3.0229\n",
      "Epoch 157/1000: Train Loss: 4.1724, Val Loss: 3.0229\n",
      "Baseline Loss: 5.3126 | Actual Loss: 4.1778\n"
     ]
    },
    {
     "name": "stderr",
     "output_type": "stream",
     "text": [
      "Training:  16%|█▌        | 158/1000 [07:40<40:58,  2.92s/it]"
     ]
    },
    {
     "name": "stdout",
     "output_type": "stream",
     "text": [
      "Baseline Loss: 3.9748 | Actual Loss: 2.9225\n",
      "Epoch 158/1000: Train Loss: 4.1778, Val Loss: 2.9225\n",
      "Baseline Loss: 5.3127 | Actual Loss: 4.1896\n"
     ]
    },
    {
     "name": "stderr",
     "output_type": "stream",
     "text": [
      "Training:  16%|█▌        | 159/1000 [07:43<41:39,  2.97s/it]"
     ]
    },
    {
     "name": "stdout",
     "output_type": "stream",
     "text": [
      "Baseline Loss: 3.9748 | Actual Loss: 2.9334\n",
      "Epoch 159/1000: Train Loss: 4.1896, Val Loss: 2.9334\n"
     ]
    },
    {
     "name": "stderr",
     "output_type": "stream",
     "text": [
      "Training:  16%|█▌        | 160/1000 [07:46<41:27,  2.96s/it]"
     ]
    },
    {
     "name": "stdout",
     "output_type": "stream",
     "text": [
      "Baseline Loss: 5.3127 | Actual Loss: 4.1515\n",
      "Baseline Loss: 3.9748 | Actual Loss: 2.9726\n",
      "Epoch 160/1000: Train Loss: 4.1515, Val Loss: 2.9726\n",
      "Baseline Loss: 5.3127 | Actual Loss: 4.1655\n"
     ]
    },
    {
     "name": "stderr",
     "output_type": "stream",
     "text": [
      "Training:  16%|█▌        | 161/1000 [07:49<41:26,  2.96s/it]"
     ]
    },
    {
     "name": "stdout",
     "output_type": "stream",
     "text": [
      "Baseline Loss: 3.9748 | Actual Loss: 3.0316\n",
      "Epoch 161/1000: Train Loss: 4.1655, Val Loss: 3.0316\n"
     ]
    },
    {
     "name": "stderr",
     "output_type": "stream",
     "text": [
      "Training:  16%|█▌        | 162/1000 [07:52<40:11,  2.88s/it]"
     ]
    },
    {
     "name": "stdout",
     "output_type": "stream",
     "text": [
      "Baseline Loss: 5.3126 | Actual Loss: 4.1609\n",
      "Baseline Loss: 3.9748 | Actual Loss: 2.9941\n",
      "Epoch 162/1000: Train Loss: 4.1609, Val Loss: 2.9941\n",
      "Baseline Loss: 5.3127 | Actual Loss: 4.1398\n"
     ]
    },
    {
     "name": "stderr",
     "output_type": "stream",
     "text": [
      "Training:  16%|█▋        | 163/1000 [07:55<40:47,  2.92s/it]"
     ]
    },
    {
     "name": "stdout",
     "output_type": "stream",
     "text": [
      "Baseline Loss: 3.9748 | Actual Loss: 2.9841\n",
      "Epoch 163/1000: Train Loss: 4.1398, Val Loss: 2.9841\n",
      "Baseline Loss: 5.3126 | Actual Loss: 4.2041\n"
     ]
    },
    {
     "name": "stderr",
     "output_type": "stream",
     "text": [
      "Training:  16%|█▋        | 164/1000 [07:58<41:28,  2.98s/it]"
     ]
    },
    {
     "name": "stdout",
     "output_type": "stream",
     "text": [
      "Baseline Loss: 3.9748 | Actual Loss: 2.9604\n",
      "Epoch 164/1000: Train Loss: 4.2041, Val Loss: 2.9604\n",
      "Baseline Loss: 5.3127 | Actual Loss: 4.1532\n"
     ]
    },
    {
     "name": "stderr",
     "output_type": "stream",
     "text": [
      "Training:  16%|█▋        | 165/1000 [08:01<41:03,  2.95s/it]"
     ]
    },
    {
     "name": "stdout",
     "output_type": "stream",
     "text": [
      "Baseline Loss: 3.9748 | Actual Loss: 3.0126\n",
      "Epoch 165/1000: Train Loss: 4.1532, Val Loss: 3.0126\n",
      "Baseline Loss: 5.3127 | Actual Loss: 4.1287\n"
     ]
    },
    {
     "name": "stderr",
     "output_type": "stream",
     "text": [
      "Training:  17%|█▋        | 166/1000 [08:04<41:12,  2.97s/it]"
     ]
    },
    {
     "name": "stdout",
     "output_type": "stream",
     "text": [
      "Baseline Loss: 3.9748 | Actual Loss: 3.0206\n",
      "Epoch 166/1000: Train Loss: 4.1287, Val Loss: 3.0206\n"
     ]
    },
    {
     "name": "stderr",
     "output_type": "stream",
     "text": [
      "Training:  17%|█▋        | 167/1000 [08:06<39:55,  2.88s/it]"
     ]
    },
    {
     "name": "stdout",
     "output_type": "stream",
     "text": [
      "Baseline Loss: 5.3127 | Actual Loss: 4.1825\n",
      "Baseline Loss: 3.9748 | Actual Loss: 3.0469\n",
      "Epoch 167/1000: Train Loss: 4.1825, Val Loss: 3.0469\n",
      "Baseline Loss: 5.3127 | Actual Loss: 4.1989\n"
     ]
    },
    {
     "name": "stderr",
     "output_type": "stream",
     "text": [
      "Training:  17%|█▋        | 168/1000 [08:09<40:32,  2.92s/it]"
     ]
    },
    {
     "name": "stdout",
     "output_type": "stream",
     "text": [
      "Baseline Loss: 3.9748 | Actual Loss: 2.9328\n",
      "Epoch 168/1000: Train Loss: 4.1989, Val Loss: 2.9328\n",
      "Baseline Loss: 5.3126 | Actual Loss: 4.1665\n"
     ]
    },
    {
     "name": "stderr",
     "output_type": "stream",
     "text": [
      "Training:  17%|█▋        | 169/1000 [08:12<40:48,  2.95s/it]"
     ]
    },
    {
     "name": "stdout",
     "output_type": "stream",
     "text": [
      "Baseline Loss: 3.9748 | Actual Loss: 2.9827\n",
      "Epoch 169/1000: Train Loss: 4.1665, Val Loss: 2.9827\n",
      "Baseline Loss: 5.3127 | Actual Loss: 4.1559\n"
     ]
    },
    {
     "name": "stderr",
     "output_type": "stream",
     "text": [
      "Training:  17%|█▋        | 170/1000 [08:15<40:48,  2.95s/it]"
     ]
    },
    {
     "name": "stdout",
     "output_type": "stream",
     "text": [
      "Baseline Loss: 3.9748 | Actual Loss: 3.0431\n",
      "Epoch 170/1000: Train Loss: 4.1559, Val Loss: 3.0431\n",
      "Baseline Loss: 5.3126 | Actual Loss: 4.1895\n"
     ]
    },
    {
     "name": "stderr",
     "output_type": "stream",
     "text": [
      "Training:  17%|█▋        | 171/1000 [08:18<40:53,  2.96s/it]"
     ]
    },
    {
     "name": "stdout",
     "output_type": "stream",
     "text": [
      "Baseline Loss: 3.9748 | Actual Loss: 3.0581\n",
      "Epoch 171/1000: Train Loss: 4.1895, Val Loss: 3.0581\n",
      "Baseline Loss: 5.3127 | Actual Loss: 4.1564\n"
     ]
    },
    {
     "name": "stderr",
     "output_type": "stream",
     "text": [
      "Training:  17%|█▋        | 172/1000 [08:21<40:04,  2.90s/it]"
     ]
    },
    {
     "name": "stdout",
     "output_type": "stream",
     "text": [
      "Baseline Loss: 3.9748 | Actual Loss: 2.9210\n",
      "Epoch 172/1000: Train Loss: 4.1564, Val Loss: 2.9210\n",
      "Baseline Loss: 5.3127 | Actual Loss: 4.2029\n"
     ]
    },
    {
     "name": "stderr",
     "output_type": "stream",
     "text": [
      "Training:  17%|█▋        | 173/1000 [08:24<41:32,  3.01s/it]"
     ]
    },
    {
     "name": "stdout",
     "output_type": "stream",
     "text": [
      "Baseline Loss: 3.9748 | Actual Loss: 3.0741\n",
      "Epoch 173/1000: Train Loss: 4.2029, Val Loss: 3.0741\n",
      "Baseline Loss: 5.3127 | Actual Loss: 4.1436\n"
     ]
    },
    {
     "name": "stderr",
     "output_type": "stream",
     "text": [
      "Training:  17%|█▋        | 174/1000 [08:27<41:44,  3.03s/it]"
     ]
    },
    {
     "name": "stdout",
     "output_type": "stream",
     "text": [
      "Baseline Loss: 3.9748 | Actual Loss: 3.0735\n",
      "Epoch 174/1000: Train Loss: 4.1436, Val Loss: 3.0735\n",
      "Baseline Loss: 5.3127 | Actual Loss: 4.1256\n"
     ]
    },
    {
     "name": "stderr",
     "output_type": "stream",
     "text": [
      "Training:  18%|█▊        | 175/1000 [08:30<41:36,  3.03s/it]"
     ]
    },
    {
     "name": "stdout",
     "output_type": "stream",
     "text": [
      "Baseline Loss: 3.9748 | Actual Loss: 2.9809\n",
      "Epoch 175/1000: Train Loss: 4.1256, Val Loss: 2.9809\n",
      "Baseline Loss: 5.3126 | Actual Loss: 4.1721\n"
     ]
    },
    {
     "name": "stderr",
     "output_type": "stream",
     "text": [
      "Training:  18%|█▊        | 176/1000 [08:33<40:54,  2.98s/it]"
     ]
    },
    {
     "name": "stdout",
     "output_type": "stream",
     "text": [
      "Baseline Loss: 3.9748 | Actual Loss: 3.0211\n",
      "Epoch 176/1000: Train Loss: 4.1721, Val Loss: 3.0211\n",
      "Baseline Loss: 5.3127 | Actual Loss: 4.1717\n"
     ]
    },
    {
     "name": "stderr",
     "output_type": "stream",
     "text": [
      "Training:  18%|█▊        | 177/1000 [08:36<40:02,  2.92s/it]"
     ]
    },
    {
     "name": "stdout",
     "output_type": "stream",
     "text": [
      "Baseline Loss: 3.9748 | Actual Loss: 3.0288\n",
      "Epoch 177/1000: Train Loss: 4.1717, Val Loss: 3.0288\n",
      "Baseline Loss: 5.3127 | Actual Loss: 4.1755\n"
     ]
    },
    {
     "name": "stderr",
     "output_type": "stream",
     "text": [
      "Training:  18%|█▊        | 178/1000 [08:39<40:32,  2.96s/it]"
     ]
    },
    {
     "name": "stdout",
     "output_type": "stream",
     "text": [
      "Baseline Loss: 3.9748 | Actual Loss: 3.0053\n",
      "Epoch 178/1000: Train Loss: 4.1755, Val Loss: 3.0053\n",
      "Baseline Loss: 5.3126 | Actual Loss: 4.1461\n"
     ]
    },
    {
     "name": "stderr",
     "output_type": "stream",
     "text": [
      "Training:  18%|█▊        | 179/1000 [08:42<40:40,  2.97s/it]"
     ]
    },
    {
     "name": "stdout",
     "output_type": "stream",
     "text": [
      "Baseline Loss: 3.9748 | Actual Loss: 3.1457\n",
      "Epoch 179/1000: Train Loss: 4.1461, Val Loss: 3.1457\n",
      "Baseline Loss: 5.3127 | Actual Loss: 4.1232\n"
     ]
    },
    {
     "name": "stderr",
     "output_type": "stream",
     "text": [
      "Training:  18%|█▊        | 180/1000 [08:45<40:06,  2.94s/it]"
     ]
    },
    {
     "name": "stdout",
     "output_type": "stream",
     "text": [
      "Baseline Loss: 3.9748 | Actual Loss: 2.9435\n",
      "Epoch 180/1000: Train Loss: 4.1232, Val Loss: 2.9435\n",
      "Baseline Loss: 5.3127 | Actual Loss: 4.1952\n"
     ]
    },
    {
     "name": "stderr",
     "output_type": "stream",
     "text": [
      "Training:  18%|█▊        | 181/1000 [08:48<39:51,  2.92s/it]"
     ]
    },
    {
     "name": "stdout",
     "output_type": "stream",
     "text": [
      "Baseline Loss: 3.9748 | Actual Loss: 2.9934\n",
      "Epoch 181/1000: Train Loss: 4.1952, Val Loss: 2.9934\n",
      "Baseline Loss: 5.3127 | Actual Loss: 4.1946\n"
     ]
    },
    {
     "name": "stderr",
     "output_type": "stream",
     "text": [
      "Training:  18%|█▊        | 182/1000 [08:51<39:10,  2.87s/it]"
     ]
    },
    {
     "name": "stdout",
     "output_type": "stream",
     "text": [
      "Baseline Loss: 3.9748 | Actual Loss: 3.0481\n",
      "Epoch 182/1000: Train Loss: 4.1946, Val Loss: 3.0481\n",
      "Baseline Loss: 5.3127 | Actual Loss: 4.1707\n"
     ]
    },
    {
     "name": "stderr",
     "output_type": "stream",
     "text": [
      "Training:  18%|█▊        | 183/1000 [08:54<39:48,  2.92s/it]"
     ]
    },
    {
     "name": "stdout",
     "output_type": "stream",
     "text": [
      "Baseline Loss: 3.9748 | Actual Loss: 2.9267\n",
      "Epoch 183/1000: Train Loss: 4.1707, Val Loss: 2.9267\n",
      "Baseline Loss: 5.3127 | Actual Loss: 4.1841\n"
     ]
    },
    {
     "name": "stderr",
     "output_type": "stream",
     "text": [
      "Training:  18%|█▊        | 184/1000 [08:57<40:07,  2.95s/it]"
     ]
    },
    {
     "name": "stdout",
     "output_type": "stream",
     "text": [
      "Baseline Loss: 3.9748 | Actual Loss: 3.0554\n",
      "Epoch 184/1000: Train Loss: 4.1841, Val Loss: 3.0554\n",
      "Baseline Loss: 5.3127 | Actual Loss: 4.1780\n"
     ]
    },
    {
     "name": "stderr",
     "output_type": "stream",
     "text": [
      "Training:  18%|█▊        | 185/1000 [08:59<39:28,  2.91s/it]"
     ]
    },
    {
     "name": "stdout",
     "output_type": "stream",
     "text": [
      "Baseline Loss: 3.9748 | Actual Loss: 2.8932\n",
      "Epoch 185/1000: Train Loss: 4.1780, Val Loss: 2.8932\n",
      "Baseline Loss: 5.3126 | Actual Loss: 4.1752\n"
     ]
    },
    {
     "name": "stderr",
     "output_type": "stream",
     "text": [
      "Training:  19%|█▊        | 186/1000 [09:02<39:08,  2.88s/it]"
     ]
    },
    {
     "name": "stdout",
     "output_type": "stream",
     "text": [
      "Baseline Loss: 3.9748 | Actual Loss: 3.0163\n",
      "Epoch 186/1000: Train Loss: 4.1752, Val Loss: 3.0163\n",
      "Baseline Loss: 5.3127 | Actual Loss: 4.1330\n"
     ]
    },
    {
     "name": "stderr",
     "output_type": "stream",
     "text": [
      "Training:  19%|█▊        | 187/1000 [09:05<38:08,  2.81s/it]"
     ]
    },
    {
     "name": "stdout",
     "output_type": "stream",
     "text": [
      "Baseline Loss: 3.9748 | Actual Loss: 3.0128\n",
      "Epoch 187/1000: Train Loss: 4.1330, Val Loss: 3.0128\n",
      "Baseline Loss: 5.3127 | Actual Loss: 4.1308\n"
     ]
    },
    {
     "name": "stderr",
     "output_type": "stream",
     "text": [
      "Training:  19%|█▉        | 188/1000 [09:08<38:50,  2.87s/it]"
     ]
    },
    {
     "name": "stdout",
     "output_type": "stream",
     "text": [
      "Baseline Loss: 3.9748 | Actual Loss: 2.9279\n",
      "Epoch 188/1000: Train Loss: 4.1308, Val Loss: 2.9279\n",
      "Baseline Loss: 5.3127 | Actual Loss: 4.1425\n"
     ]
    },
    {
     "name": "stderr",
     "output_type": "stream",
     "text": [
      "Training:  19%|█▉        | 189/1000 [09:11<39:16,  2.91s/it]"
     ]
    },
    {
     "name": "stdout",
     "output_type": "stream",
     "text": [
      "Baseline Loss: 3.9748 | Actual Loss: 3.0259\n",
      "Epoch 189/1000: Train Loss: 4.1425, Val Loss: 3.0259\n",
      "Baseline Loss: 5.3127 | Actual Loss: 4.1899\n"
     ]
    },
    {
     "name": "stderr",
     "output_type": "stream",
     "text": [
      "Training:  19%|█▉        | 190/1000 [09:14<38:58,  2.89s/it]"
     ]
    },
    {
     "name": "stdout",
     "output_type": "stream",
     "text": [
      "Baseline Loss: 3.9748 | Actual Loss: 3.1648\n",
      "Epoch 190/1000: Train Loss: 4.1899, Val Loss: 3.1648\n",
      "Baseline Loss: 5.3126 | Actual Loss: 4.1950\n"
     ]
    },
    {
     "name": "stderr",
     "output_type": "stream",
     "text": [
      "Training:  19%|█▉        | 191/1000 [09:17<38:58,  2.89s/it]"
     ]
    },
    {
     "name": "stdout",
     "output_type": "stream",
     "text": [
      "Baseline Loss: 3.9748 | Actual Loss: 2.9203\n",
      "Epoch 191/1000: Train Loss: 4.1950, Val Loss: 2.9203\n",
      "Baseline Loss: 5.3126 | Actual Loss: 4.2183\n"
     ]
    },
    {
     "name": "stderr",
     "output_type": "stream",
     "text": [
      "Training:  19%|█▉        | 191/1000 [09:19<39:31,  2.93s/it]"
     ]
    },
    {
     "name": "stdout",
     "output_type": "stream",
     "text": [
      "Baseline Loss: 3.9748 | Actual Loss: 2.9587\n",
      "Epoch 192/1000: Train Loss: 4.2183, Val Loss: 2.9587\n",
      "\n",
      "Early stopping at epoch 192\n"
     ]
    },
    {
     "name": "stderr",
     "output_type": "stream",
     "text": [
      "\n"
     ]
    },
    {
     "data": {
      "text/plain": [
       "2.834463119506836"
      ]
     },
     "execution_count": 13,
     "metadata": {},
     "output_type": "execute_result"
    }
   ],
   "source": [
    "devices = [\"cuda\" if torch.cuda.is_available() else \"cpu\"]\n",
    "model4 = GNNModelWithNewLoss(\n",
    "        num_node_features=data_list[0].x.shape[1],\n",
    "        num_edge_features=data_list[0].edge_attr.shape[1],\n",
    "        num_global_features=data_list[0].global_features.shape[1],\n",
    "        cov_num= 6,\n",
    "        hidden_dim=512,\n",
    "        dropout_rate=0.1,\n",
    "        property_index=0 ,\n",
    "        save_path= 'premodels_new/6/0' \n",
    "    ).to(devices[0])\n",
    "\n",
    "model4.train_model(\n",
    "    data_list,\n",
    ")"
   ]
  },
  {
   "cell_type": "code",
   "execution_count": 14,
   "id": "ea51dc95",
   "metadata": {},
   "outputs": [
    {
     "name": "stdout",
     "output_type": "stream",
     "text": [
      "Training will be saved to: premodels_new/6/1\n"
     ]
    },
    {
     "name": "stderr",
     "output_type": "stream",
     "text": [
      "Training:   0%|          | 0/1000 [00:00<?, ?it/s]"
     ]
    },
    {
     "name": "stdout",
     "output_type": "stream",
     "text": [
      "Baseline Loss: 5.3058 | Actual Loss: 5.2739\n"
     ]
    },
    {
     "name": "stderr",
     "output_type": "stream",
     "text": [
      "Training:   0%|          | 1/1000 [00:03<51:38,  3.10s/it]"
     ]
    },
    {
     "name": "stdout",
     "output_type": "stream",
     "text": [
      "Baseline Loss: 3.9439 | Actual Loss: 3.9147\n",
      "Epoch 1/1000: Train Loss: 5.2739, Val Loss: 3.9147\n",
      "New best validation loss: 3.9147\n",
      "Baseline Loss: 5.3058 | Actual Loss: 5.2729\n"
     ]
    },
    {
     "name": "stderr",
     "output_type": "stream",
     "text": [
      "Training:   0%|          | 2/1000 [00:06<53:06,  3.19s/it]"
     ]
    },
    {
     "name": "stdout",
     "output_type": "stream",
     "text": [
      "Baseline Loss: 3.9439 | Actual Loss: 3.8996\n",
      "Epoch 2/1000: Train Loss: 5.2729, Val Loss: 3.8996\n",
      "New best validation loss: 3.8996\n",
      "Baseline Loss: 5.3058 | Actual Loss: 5.2615\n"
     ]
    },
    {
     "name": "stderr",
     "output_type": "stream",
     "text": [
      "Training:   0%|          | 3/1000 [00:09<50:31,  3.04s/it]"
     ]
    },
    {
     "name": "stdout",
     "output_type": "stream",
     "text": [
      "Baseline Loss: 3.9439 | Actual Loss: 3.9243\n",
      "Epoch 3/1000: Train Loss: 5.2615, Val Loss: 3.9243\n",
      "Baseline Loss: 5.3058 | Actual Loss: 5.2563\n"
     ]
    },
    {
     "name": "stderr",
     "output_type": "stream",
     "text": [
      "Training:   0%|          | 4/1000 [00:12<49:15,  2.97s/it]"
     ]
    },
    {
     "name": "stdout",
     "output_type": "stream",
     "text": [
      "Baseline Loss: 3.9439 | Actual Loss: 3.9053\n",
      "Epoch 4/1000: Train Loss: 5.2563, Val Loss: 3.9053\n",
      "Baseline Loss: 5.3058 | Actual Loss: 5.2505\n"
     ]
    },
    {
     "name": "stderr",
     "output_type": "stream",
     "text": [
      "Training:   0%|          | 5/1000 [00:14<48:20,  2.91s/it]"
     ]
    },
    {
     "name": "stdout",
     "output_type": "stream",
     "text": [
      "Baseline Loss: 3.9439 | Actual Loss: 3.8946\n",
      "Epoch 5/1000: Train Loss: 5.2505, Val Loss: 3.8946\n",
      "New best validation loss: 3.8946\n"
     ]
    },
    {
     "name": "stderr",
     "output_type": "stream",
     "text": [
      "Training:   1%|          | 6/1000 [00:17<49:03,  2.96s/it]"
     ]
    },
    {
     "name": "stdout",
     "output_type": "stream",
     "text": [
      "Baseline Loss: 5.3058 | Actual Loss: 5.2552\n",
      "Baseline Loss: 3.9439 | Actual Loss: 3.8978\n",
      "Epoch 6/1000: Train Loss: 5.2552, Val Loss: 3.8978\n"
     ]
    },
    {
     "name": "stderr",
     "output_type": "stream",
     "text": [
      "Training:   1%|          | 7/1000 [00:20<48:44,  2.95s/it]"
     ]
    },
    {
     "name": "stdout",
     "output_type": "stream",
     "text": [
      "Baseline Loss: 5.3058 | Actual Loss: 5.2474\n",
      "Baseline Loss: 3.9439 | Actual Loss: 3.8991\n",
      "Epoch 7/1000: Train Loss: 5.2474, Val Loss: 3.8991\n",
      "Baseline Loss: 5.3058 | Actual Loss: 5.2420\n"
     ]
    },
    {
     "name": "stderr",
     "output_type": "stream",
     "text": [
      "Training:   1%|          | 8/1000 [00:23<49:08,  2.97s/it]"
     ]
    },
    {
     "name": "stdout",
     "output_type": "stream",
     "text": [
      "Baseline Loss: 3.9439 | Actual Loss: 3.8909\n",
      "Epoch 8/1000: Train Loss: 5.2420, Val Loss: 3.8909\n",
      "New best validation loss: 3.8909\n",
      "Baseline Loss: 5.3058 | Actual Loss: 5.2355\n"
     ]
    },
    {
     "name": "stderr",
     "output_type": "stream",
     "text": [
      "Training:   1%|          | 9/1000 [00:27<50:32,  3.06s/it]"
     ]
    },
    {
     "name": "stdout",
     "output_type": "stream",
     "text": [
      "Baseline Loss: 3.9439 | Actual Loss: 3.8806\n",
      "Epoch 9/1000: Train Loss: 5.2355, Val Loss: 3.8806\n",
      "New best validation loss: 3.8806\n",
      "Baseline Loss: 5.3058 | Actual Loss: 5.2269\n"
     ]
    },
    {
     "name": "stderr",
     "output_type": "stream",
     "text": [
      "Training:   1%|          | 10/1000 [00:29<48:37,  2.95s/it]"
     ]
    },
    {
     "name": "stdout",
     "output_type": "stream",
     "text": [
      "Baseline Loss: 3.9439 | Actual Loss: 3.8629\n",
      "Epoch 10/1000: Train Loss: 5.2269, Val Loss: 3.8629\n",
      "New best validation loss: 3.8629\n",
      "Baseline Loss: 5.3058 | Actual Loss: 5.2216\n"
     ]
    },
    {
     "name": "stderr",
     "output_type": "stream",
     "text": [
      "Training:   1%|          | 11/1000 [00:32<48:20,  2.93s/it]"
     ]
    },
    {
     "name": "stdout",
     "output_type": "stream",
     "text": [
      "Baseline Loss: 3.9439 | Actual Loss: 3.8345\n",
      "Epoch 11/1000: Train Loss: 5.2216, Val Loss: 3.8345\n",
      "New best validation loss: 3.8345\n",
      "Baseline Loss: 5.3058 | Actual Loss: 5.2216\n"
     ]
    },
    {
     "name": "stderr",
     "output_type": "stream",
     "text": [
      "Training:   1%|          | 12/1000 [00:35<46:53,  2.85s/it]"
     ]
    },
    {
     "name": "stdout",
     "output_type": "stream",
     "text": [
      "Baseline Loss: 3.9439 | Actual Loss: 3.8408\n",
      "Epoch 12/1000: Train Loss: 5.2216, Val Loss: 3.8408\n",
      "Baseline Loss: 5.3058 | Actual Loss: 5.2023\n"
     ]
    },
    {
     "name": "stderr",
     "output_type": "stream",
     "text": [
      "Training:   1%|▏         | 13/1000 [00:38<47:32,  2.89s/it]"
     ]
    },
    {
     "name": "stdout",
     "output_type": "stream",
     "text": [
      "Baseline Loss: 3.9439 | Actual Loss: 3.8608\n",
      "Epoch 13/1000: Train Loss: 5.2023, Val Loss: 3.8608\n"
     ]
    },
    {
     "name": "stderr",
     "output_type": "stream",
     "text": [
      "Training:   1%|▏         | 14/1000 [00:41<48:12,  2.93s/it]"
     ]
    },
    {
     "name": "stdout",
     "output_type": "stream",
     "text": [
      "Baseline Loss: 5.3058 | Actual Loss: 5.2080\n",
      "Baseline Loss: 3.9439 | Actual Loss: 3.8578\n",
      "Epoch 14/1000: Train Loss: 5.2080, Val Loss: 3.8578\n"
     ]
    },
    {
     "name": "stderr",
     "output_type": "stream",
     "text": [
      "Training:   2%|▏         | 15/1000 [00:44<47:47,  2.91s/it]"
     ]
    },
    {
     "name": "stdout",
     "output_type": "stream",
     "text": [
      "Baseline Loss: 5.3059 | Actual Loss: 5.2070\n",
      "Baseline Loss: 3.9439 | Actual Loss: 3.8495\n",
      "Epoch 15/1000: Train Loss: 5.2070, Val Loss: 3.8495\n",
      "Baseline Loss: 5.3058 | Actual Loss: 5.1695\n"
     ]
    },
    {
     "name": "stderr",
     "output_type": "stream",
     "text": [
      "Training:   2%|▏         | 16/1000 [00:47<47:33,  2.90s/it]"
     ]
    },
    {
     "name": "stdout",
     "output_type": "stream",
     "text": [
      "Baseline Loss: 3.9439 | Actual Loss: 3.8537\n",
      "Epoch 16/1000: Train Loss: 5.1695, Val Loss: 3.8537\n",
      "Baseline Loss: 5.3058 | Actual Loss: 5.1748\n"
     ]
    },
    {
     "name": "stderr",
     "output_type": "stream",
     "text": [
      "Training:   2%|▏         | 17/1000 [00:49<46:39,  2.85s/it]"
     ]
    },
    {
     "name": "stdout",
     "output_type": "stream",
     "text": [
      "Baseline Loss: 3.9439 | Actual Loss: 3.8296\n",
      "Epoch 17/1000: Train Loss: 5.1748, Val Loss: 3.8296\n",
      "New best validation loss: 3.8296\n",
      "Baseline Loss: 5.3058 | Actual Loss: 5.1640\n"
     ]
    },
    {
     "name": "stderr",
     "output_type": "stream",
     "text": [
      "Training:   2%|▏         | 18/1000 [00:52<47:04,  2.88s/it]"
     ]
    },
    {
     "name": "stdout",
     "output_type": "stream",
     "text": [
      "Baseline Loss: 3.9439 | Actual Loss: 3.8347\n",
      "Epoch 18/1000: Train Loss: 5.1640, Val Loss: 3.8347\n",
      "Baseline Loss: 5.3058 | Actual Loss: 5.1569\n"
     ]
    },
    {
     "name": "stderr",
     "output_type": "stream",
     "text": [
      "Training:   2%|▏         | 19/1000 [00:55<46:55,  2.87s/it]"
     ]
    },
    {
     "name": "stdout",
     "output_type": "stream",
     "text": [
      "Baseline Loss: 3.9439 | Actual Loss: 3.8396\n",
      "Epoch 19/1000: Train Loss: 5.1569, Val Loss: 3.8396\n",
      "Baseline Loss: 5.3058 | Actual Loss: 5.1557\n"
     ]
    },
    {
     "name": "stderr",
     "output_type": "stream",
     "text": [
      "Training:   2%|▏         | 20/1000 [00:58<46:27,  2.84s/it]"
     ]
    },
    {
     "name": "stdout",
     "output_type": "stream",
     "text": [
      "Baseline Loss: 3.9439 | Actual Loss: 3.8070\n",
      "Epoch 20/1000: Train Loss: 5.1557, Val Loss: 3.8070\n",
      "New best validation loss: 3.8070\n",
      "Baseline Loss: 5.3058 | Actual Loss: 5.1387\n"
     ]
    },
    {
     "name": "stderr",
     "output_type": "stream",
     "text": [
      "Training:   2%|▏         | 21/1000 [01:01<47:26,  2.91s/it]"
     ]
    },
    {
     "name": "stdout",
     "output_type": "stream",
     "text": [
      "Baseline Loss: 3.9439 | Actual Loss: 3.8000\n",
      "Epoch 21/1000: Train Loss: 5.1387, Val Loss: 3.8000\n",
      "New best validation loss: 3.8000\n",
      "Baseline Loss: 5.3058 | Actual Loss: 5.1544\n"
     ]
    },
    {
     "name": "stderr",
     "output_type": "stream",
     "text": [
      "Training:   2%|▏         | 22/1000 [01:04<46:56,  2.88s/it]"
     ]
    },
    {
     "name": "stdout",
     "output_type": "stream",
     "text": [
      "Baseline Loss: 3.9439 | Actual Loss: 3.7721\n",
      "Epoch 22/1000: Train Loss: 5.1544, Val Loss: 3.7721\n",
      "New best validation loss: 3.7721\n",
      "Baseline Loss: 5.3059 | Actual Loss: 5.1267\n"
     ]
    },
    {
     "name": "stderr",
     "output_type": "stream",
     "text": [
      "Training:   2%|▏         | 23/1000 [01:07<47:16,  2.90s/it]"
     ]
    },
    {
     "name": "stdout",
     "output_type": "stream",
     "text": [
      "Baseline Loss: 3.9439 | Actual Loss: 3.7694\n",
      "Epoch 23/1000: Train Loss: 5.1267, Val Loss: 3.7694\n",
      "New best validation loss: 3.7694\n"
     ]
    },
    {
     "name": "stderr",
     "output_type": "stream",
     "text": [
      "Training:   2%|▏         | 24/1000 [01:10<47:53,  2.94s/it]"
     ]
    },
    {
     "name": "stdout",
     "output_type": "stream",
     "text": [
      "Baseline Loss: 5.3058 | Actual Loss: 5.0980\n",
      "Baseline Loss: 3.9439 | Actual Loss: 3.7379\n",
      "Epoch 24/1000: Train Loss: 5.0980, Val Loss: 3.7379\n",
      "New best validation loss: 3.7379\n",
      "Baseline Loss: 5.3058 | Actual Loss: 5.0803\n"
     ]
    },
    {
     "name": "stderr",
     "output_type": "stream",
     "text": [
      "Training:   2%|▎         | 25/1000 [01:13<47:34,  2.93s/it]"
     ]
    },
    {
     "name": "stdout",
     "output_type": "stream",
     "text": [
      "Baseline Loss: 3.9439 | Actual Loss: 3.7356\n",
      "Epoch 25/1000: Train Loss: 5.0803, Val Loss: 3.7356\n",
      "New best validation loss: 3.7356\n",
      "Baseline Loss: 5.3058 | Actual Loss: 5.0702\n"
     ]
    },
    {
     "name": "stderr",
     "output_type": "stream",
     "text": [
      "Training:   3%|▎         | 26/1000 [01:16<47:25,  2.92s/it]"
     ]
    },
    {
     "name": "stdout",
     "output_type": "stream",
     "text": [
      "Baseline Loss: 3.9439 | Actual Loss: 3.7302\n",
      "Epoch 26/1000: Train Loss: 5.0702, Val Loss: 3.7302\n",
      "New best validation loss: 3.7302\n",
      "Baseline Loss: 5.3058 | Actual Loss: 5.0609\n"
     ]
    },
    {
     "name": "stderr",
     "output_type": "stream",
     "text": [
      "Training:   3%|▎         | 27/1000 [01:18<46:34,  2.87s/it]"
     ]
    },
    {
     "name": "stdout",
     "output_type": "stream",
     "text": [
      "Baseline Loss: 3.9439 | Actual Loss: 3.6924\n",
      "Epoch 27/1000: Train Loss: 5.0609, Val Loss: 3.6924\n",
      "New best validation loss: 3.6924\n"
     ]
    },
    {
     "name": "stderr",
     "output_type": "stream",
     "text": [
      "Training:   3%|▎         | 28/1000 [01:21<47:17,  2.92s/it]"
     ]
    },
    {
     "name": "stdout",
     "output_type": "stream",
     "text": [
      "Baseline Loss: 5.3058 | Actual Loss: 5.0284\n",
      "Baseline Loss: 3.9439 | Actual Loss: 3.6992\n",
      "Epoch 28/1000: Train Loss: 5.0284, Val Loss: 3.6992\n"
     ]
    },
    {
     "name": "stderr",
     "output_type": "stream",
     "text": [
      "Training:   3%|▎         | 29/1000 [01:24<46:55,  2.90s/it]"
     ]
    },
    {
     "name": "stdout",
     "output_type": "stream",
     "text": [
      "Baseline Loss: 5.3058 | Actual Loss: 5.0096\n",
      "Baseline Loss: 3.9439 | Actual Loss: 3.6863\n",
      "Epoch 29/1000: Train Loss: 5.0096, Val Loss: 3.6863\n",
      "New best validation loss: 3.6863\n",
      "Baseline Loss: 5.3058 | Actual Loss: 5.0103\n"
     ]
    },
    {
     "name": "stderr",
     "output_type": "stream",
     "text": [
      "Training:   3%|▎         | 30/1000 [01:27<46:50,  2.90s/it]"
     ]
    },
    {
     "name": "stdout",
     "output_type": "stream",
     "text": [
      "Baseline Loss: 3.9439 | Actual Loss: 3.6145\n",
      "Epoch 30/1000: Train Loss: 5.0103, Val Loss: 3.6145\n",
      "New best validation loss: 3.6145\n",
      "Baseline Loss: 5.3058 | Actual Loss: 4.9840\n"
     ]
    },
    {
     "name": "stderr",
     "output_type": "stream",
     "text": [
      "Training:   3%|▎         | 31/1000 [01:30<46:06,  2.85s/it]"
     ]
    },
    {
     "name": "stdout",
     "output_type": "stream",
     "text": [
      "Baseline Loss: 3.9439 | Actual Loss: 3.6053\n",
      "Epoch 31/1000: Train Loss: 4.9840, Val Loss: 3.6053\n",
      "New best validation loss: 3.6053\n"
     ]
    },
    {
     "name": "stderr",
     "output_type": "stream",
     "text": [
      "Training:   3%|▎         | 32/1000 [01:33<46:53,  2.91s/it]"
     ]
    },
    {
     "name": "stdout",
     "output_type": "stream",
     "text": [
      "Baseline Loss: 5.3058 | Actual Loss: 4.9283\n",
      "Baseline Loss: 3.9439 | Actual Loss: 3.5956\n",
      "Epoch 32/1000: Train Loss: 4.9283, Val Loss: 3.5956\n",
      "New best validation loss: 3.5956\n",
      "Baseline Loss: 5.3058 | Actual Loss: 4.9106\n"
     ]
    },
    {
     "name": "stderr",
     "output_type": "stream",
     "text": [
      "Training:   3%|▎         | 33/1000 [01:36<48:07,  2.99s/it]"
     ]
    },
    {
     "name": "stdout",
     "output_type": "stream",
     "text": [
      "Baseline Loss: 3.9439 | Actual Loss: 3.6068\n",
      "Epoch 33/1000: Train Loss: 4.9106, Val Loss: 3.6068\n",
      "Baseline Loss: 5.3058 | Actual Loss: 4.8943\n"
     ]
    },
    {
     "name": "stderr",
     "output_type": "stream",
     "text": [
      "Training:   3%|▎         | 34/1000 [01:39<46:31,  2.89s/it]"
     ]
    },
    {
     "name": "stdout",
     "output_type": "stream",
     "text": [
      "Baseline Loss: 3.9439 | Actual Loss: 3.5363\n",
      "Epoch 34/1000: Train Loss: 4.8943, Val Loss: 3.5363\n",
      "New best validation loss: 3.5363\n",
      "Baseline Loss: 5.3058 | Actual Loss: 4.8835\n"
     ]
    },
    {
     "name": "stderr",
     "output_type": "stream",
     "text": [
      "Training:   4%|▎         | 35/1000 [01:42<46:50,  2.91s/it]"
     ]
    },
    {
     "name": "stdout",
     "output_type": "stream",
     "text": [
      "Baseline Loss: 3.9439 | Actual Loss: 3.5342\n",
      "Epoch 35/1000: Train Loss: 4.8835, Val Loss: 3.5342\n",
      "New best validation loss: 3.5342\n",
      "Baseline Loss: 5.3058 | Actual Loss: 4.8438\n"
     ]
    },
    {
     "name": "stderr",
     "output_type": "stream",
     "text": [
      "Training:   4%|▎         | 36/1000 [01:45<46:26,  2.89s/it]"
     ]
    },
    {
     "name": "stdout",
     "output_type": "stream",
     "text": [
      "Baseline Loss: 3.9439 | Actual Loss: 3.4554\n",
      "Epoch 36/1000: Train Loss: 4.8438, Val Loss: 3.4554\n",
      "New best validation loss: 3.4554\n",
      "Baseline Loss: 5.3058 | Actual Loss: 4.8040\n"
     ]
    },
    {
     "name": "stderr",
     "output_type": "stream",
     "text": [
      "Training:   4%|▎         | 37/1000 [01:47<45:01,  2.81s/it]"
     ]
    },
    {
     "name": "stdout",
     "output_type": "stream",
     "text": [
      "Baseline Loss: 3.9439 | Actual Loss: 3.4411\n",
      "Epoch 37/1000: Train Loss: 4.8040, Val Loss: 3.4411\n",
      "New best validation loss: 3.4411\n",
      "Baseline Loss: 5.3058 | Actual Loss: 4.7903\n"
     ]
    },
    {
     "name": "stderr",
     "output_type": "stream",
     "text": [
      "Training:   4%|▍         | 38/1000 [01:50<45:53,  2.86s/it]"
     ]
    },
    {
     "name": "stdout",
     "output_type": "stream",
     "text": [
      "Baseline Loss: 3.9439 | Actual Loss: 3.4902\n",
      "Epoch 38/1000: Train Loss: 4.7903, Val Loss: 3.4902\n",
      "Baseline Loss: 5.3058 | Actual Loss: 4.7128\n"
     ]
    },
    {
     "name": "stderr",
     "output_type": "stream",
     "text": [
      "Training:   4%|▍         | 39/1000 [01:53<46:02,  2.87s/it]"
     ]
    },
    {
     "name": "stdout",
     "output_type": "stream",
     "text": [
      "Baseline Loss: 3.9439 | Actual Loss: 3.4201\n",
      "Epoch 39/1000: Train Loss: 4.7128, Val Loss: 3.4201\n",
      "New best validation loss: 3.4201\n",
      "Baseline Loss: 5.3058 | Actual Loss: 4.7103\n"
     ]
    },
    {
     "name": "stderr",
     "output_type": "stream",
     "text": [
      "Training:   4%|▍         | 40/1000 [01:56<46:30,  2.91s/it]"
     ]
    },
    {
     "name": "stdout",
     "output_type": "stream",
     "text": [
      "Baseline Loss: 3.9439 | Actual Loss: 3.3250\n",
      "Epoch 40/1000: Train Loss: 4.7103, Val Loss: 3.3250\n",
      "New best validation loss: 3.3250\n",
      "Baseline Loss: 5.3058 | Actual Loss: 4.6622\n"
     ]
    },
    {
     "name": "stderr",
     "output_type": "stream",
     "text": [
      "Training:   4%|▍         | 41/1000 [01:59<45:04,  2.82s/it]"
     ]
    },
    {
     "name": "stdout",
     "output_type": "stream",
     "text": [
      "Baseline Loss: 3.9439 | Actual Loss: 3.3486\n",
      "Epoch 41/1000: Train Loss: 4.6622, Val Loss: 3.3486\n",
      "Baseline Loss: 5.3058 | Actual Loss: 4.6113\n"
     ]
    },
    {
     "name": "stderr",
     "output_type": "stream",
     "text": [
      "Training:   4%|▍         | 42/1000 [02:02<45:03,  2.82s/it]"
     ]
    },
    {
     "name": "stdout",
     "output_type": "stream",
     "text": [
      "Baseline Loss: 3.9439 | Actual Loss: 3.2890\n",
      "Epoch 42/1000: Train Loss: 4.6113, Val Loss: 3.2890\n",
      "New best validation loss: 3.2890\n",
      "Baseline Loss: 5.3058 | Actual Loss: 4.5760\n"
     ]
    },
    {
     "name": "stderr",
     "output_type": "stream",
     "text": [
      "Training:   4%|▍         | 43/1000 [02:04<44:15,  2.77s/it]"
     ]
    },
    {
     "name": "stdout",
     "output_type": "stream",
     "text": [
      "Baseline Loss: 3.9439 | Actual Loss: 3.2102\n",
      "Epoch 43/1000: Train Loss: 4.5760, Val Loss: 3.2102\n",
      "New best validation loss: 3.2102\n"
     ]
    },
    {
     "name": "stderr",
     "output_type": "stream",
     "text": [
      "Training:   4%|▍         | 44/1000 [02:07<45:13,  2.84s/it]"
     ]
    },
    {
     "name": "stdout",
     "output_type": "stream",
     "text": [
      "Baseline Loss: 5.3058 | Actual Loss: 4.5460\n",
      "Baseline Loss: 3.9439 | Actual Loss: 3.2313\n",
      "Epoch 44/1000: Train Loss: 4.5460, Val Loss: 3.2313\n",
      "Baseline Loss: 5.3058 | Actual Loss: 4.5015\n"
     ]
    },
    {
     "name": "stderr",
     "output_type": "stream",
     "text": [
      "Training:   4%|▍         | 45/1000 [02:10<45:20,  2.85s/it]"
     ]
    },
    {
     "name": "stdout",
     "output_type": "stream",
     "text": [
      "Baseline Loss: 3.9439 | Actual Loss: 3.0527\n",
      "Epoch 45/1000: Train Loss: 4.5015, Val Loss: 3.0527\n",
      "New best validation loss: 3.0527\n",
      "Baseline Loss: 5.3058 | Actual Loss: 4.4799\n"
     ]
    },
    {
     "name": "stderr",
     "output_type": "stream",
     "text": [
      "Training:   5%|▍         | 46/1000 [02:13<45:13,  2.84s/it]"
     ]
    },
    {
     "name": "stdout",
     "output_type": "stream",
     "text": [
      "Baseline Loss: 3.9439 | Actual Loss: 3.1460\n",
      "Epoch 46/1000: Train Loss: 4.4799, Val Loss: 3.1460\n"
     ]
    },
    {
     "name": "stderr",
     "output_type": "stream",
     "text": [
      "Training:   5%|▍         | 47/1000 [02:15<44:04,  2.78s/it]"
     ]
    },
    {
     "name": "stdout",
     "output_type": "stream",
     "text": [
      "Baseline Loss: 5.3058 | Actual Loss: 4.4138\n",
      "Baseline Loss: 3.9439 | Actual Loss: 3.0906\n",
      "Epoch 47/1000: Train Loss: 4.4138, Val Loss: 3.0906\n"
     ]
    },
    {
     "name": "stderr",
     "output_type": "stream",
     "text": [
      "Training:   5%|▍         | 48/1000 [02:19<45:25,  2.86s/it]"
     ]
    },
    {
     "name": "stdout",
     "output_type": "stream",
     "text": [
      "Baseline Loss: 5.3058 | Actual Loss: 4.3949\n",
      "Baseline Loss: 3.9439 | Actual Loss: 3.1496\n",
      "Epoch 48/1000: Train Loss: 4.3949, Val Loss: 3.1496\n"
     ]
    },
    {
     "name": "stderr",
     "output_type": "stream",
     "text": [
      "Training:   5%|▍         | 49/1000 [02:21<45:45,  2.89s/it]"
     ]
    },
    {
     "name": "stdout",
     "output_type": "stream",
     "text": [
      "Baseline Loss: 5.3058 | Actual Loss: 4.2925\n",
      "Baseline Loss: 3.9439 | Actual Loss: 3.0677\n",
      "Epoch 49/1000: Train Loss: 4.2925, Val Loss: 3.0677\n",
      "Baseline Loss: 5.3058 | Actual Loss: 4.2371\n"
     ]
    },
    {
     "name": "stderr",
     "output_type": "stream",
     "text": [
      "Training:   5%|▌         | 50/1000 [02:24<44:37,  2.82s/it]"
     ]
    },
    {
     "name": "stdout",
     "output_type": "stream",
     "text": [
      "Baseline Loss: 3.9439 | Actual Loss: 3.0587\n",
      "Epoch 50/1000: Train Loss: 4.2371, Val Loss: 3.0587\n",
      "Baseline Loss: 5.3058 | Actual Loss: 4.3357\n"
     ]
    },
    {
     "name": "stderr",
     "output_type": "stream",
     "text": [
      "Training:   5%|▌         | 51/1000 [02:27<45:51,  2.90s/it]"
     ]
    },
    {
     "name": "stdout",
     "output_type": "stream",
     "text": [
      "Baseline Loss: 3.9439 | Actual Loss: 3.0566\n",
      "Epoch 51/1000: Train Loss: 4.3357, Val Loss: 3.0566\n",
      "Baseline Loss: 5.3058 | Actual Loss: 4.2299\n"
     ]
    },
    {
     "name": "stderr",
     "output_type": "stream",
     "text": [
      "Training:   5%|▌         | 52/1000 [02:30<44:46,  2.83s/it]"
     ]
    },
    {
     "name": "stdout",
     "output_type": "stream",
     "text": [
      "Baseline Loss: 3.9439 | Actual Loss: 2.9302\n",
      "Epoch 52/1000: Train Loss: 4.2299, Val Loss: 2.9302\n",
      "New best validation loss: 2.9302\n",
      "Baseline Loss: 5.3058 | Actual Loss: 4.1578\n"
     ]
    },
    {
     "name": "stderr",
     "output_type": "stream",
     "text": [
      "Training:   5%|▌         | 53/1000 [02:33<47:13,  2.99s/it]"
     ]
    },
    {
     "name": "stdout",
     "output_type": "stream",
     "text": [
      "Baseline Loss: 3.9439 | Actual Loss: 2.9197\n",
      "Epoch 53/1000: Train Loss: 4.1578, Val Loss: 2.9197\n",
      "New best validation loss: 2.9197\n"
     ]
    },
    {
     "name": "stderr",
     "output_type": "stream",
     "text": [
      "Training:   5%|▌         | 54/1000 [02:36<47:10,  2.99s/it]"
     ]
    },
    {
     "name": "stdout",
     "output_type": "stream",
     "text": [
      "Baseline Loss: 5.3058 | Actual Loss: 4.1919\n",
      "Baseline Loss: 3.9439 | Actual Loss: 3.0669\n",
      "Epoch 54/1000: Train Loss: 4.1919, Val Loss: 3.0669\n",
      "Baseline Loss: 5.3058 | Actual Loss: 4.1458\n"
     ]
    },
    {
     "name": "stderr",
     "output_type": "stream",
     "text": [
      "Training:   6%|▌         | 55/1000 [02:39<46:54,  2.98s/it]"
     ]
    },
    {
     "name": "stdout",
     "output_type": "stream",
     "text": [
      "Baseline Loss: 3.9439 | Actual Loss: 3.0330\n",
      "Epoch 55/1000: Train Loss: 4.1458, Val Loss: 3.0330\n",
      "Baseline Loss: 5.3058 | Actual Loss: 4.0522\n"
     ]
    },
    {
     "name": "stderr",
     "output_type": "stream",
     "text": [
      "Training:   6%|▌         | 56/1000 [02:42<46:10,  2.93s/it]"
     ]
    },
    {
     "name": "stdout",
     "output_type": "stream",
     "text": [
      "Baseline Loss: 3.9439 | Actual Loss: 2.9548\n",
      "Epoch 56/1000: Train Loss: 4.0522, Val Loss: 2.9548\n",
      "Baseline Loss: 5.3058 | Actual Loss: 4.0814\n"
     ]
    },
    {
     "name": "stderr",
     "output_type": "stream",
     "text": [
      "Training:   6%|▌         | 57/1000 [02:45<48:02,  3.06s/it]"
     ]
    },
    {
     "name": "stdout",
     "output_type": "stream",
     "text": [
      "Baseline Loss: 3.9439 | Actual Loss: 2.6960\n",
      "Epoch 57/1000: Train Loss: 4.0814, Val Loss: 2.6960\n",
      "New best validation loss: 2.6960\n",
      "Baseline Loss: 5.3058 | Actual Loss: 4.0367\n"
     ]
    },
    {
     "name": "stderr",
     "output_type": "stream",
     "text": [
      "Training:   6%|▌         | 58/1000 [02:48<46:50,  2.98s/it]"
     ]
    },
    {
     "name": "stdout",
     "output_type": "stream",
     "text": [
      "Baseline Loss: 3.9439 | Actual Loss: 2.6477\n",
      "Epoch 58/1000: Train Loss: 4.0367, Val Loss: 2.6477\n",
      "New best validation loss: 2.6477\n",
      "Baseline Loss: 5.3058 | Actual Loss: 3.9703\n"
     ]
    },
    {
     "name": "stderr",
     "output_type": "stream",
     "text": [
      "Training:   6%|▌         | 59/1000 [02:51<46:33,  2.97s/it]"
     ]
    },
    {
     "name": "stdout",
     "output_type": "stream",
     "text": [
      "Baseline Loss: 3.9439 | Actual Loss: 2.8573\n",
      "Epoch 59/1000: Train Loss: 3.9703, Val Loss: 2.8573\n",
      "Baseline Loss: 5.3058 | Actual Loss: 4.0072\n"
     ]
    },
    {
     "name": "stderr",
     "output_type": "stream",
     "text": [
      "Training:   6%|▌         | 60/1000 [02:54<45:18,  2.89s/it]"
     ]
    },
    {
     "name": "stdout",
     "output_type": "stream",
     "text": [
      "Baseline Loss: 3.9439 | Actual Loss: 2.7888\n",
      "Epoch 60/1000: Train Loss: 4.0072, Val Loss: 2.7888\n",
      "Baseline Loss: 5.3058 | Actual Loss: 3.9420\n"
     ]
    },
    {
     "name": "stderr",
     "output_type": "stream",
     "text": [
      "Training:   6%|▌         | 61/1000 [02:57<46:36,  2.98s/it]"
     ]
    },
    {
     "name": "stdout",
     "output_type": "stream",
     "text": [
      "Baseline Loss: 3.9439 | Actual Loss: 2.7835\n",
      "Epoch 61/1000: Train Loss: 3.9420, Val Loss: 2.7835\n",
      "Baseline Loss: 5.3058 | Actual Loss: 3.9442\n",
      "Baseline Loss: 3.9439 | Actual Loss: 2.6448\n",
      "Epoch 62/1000: Train Loss: 3.9442, Val Loss: 2.6448\n",
      "New best validation loss: 2.6448\n"
     ]
    },
    {
     "name": "stderr",
     "output_type": "stream",
     "text": [
      "Training:   6%|▋         | 63/1000 [03:03<46:29,  2.98s/it]"
     ]
    },
    {
     "name": "stdout",
     "output_type": "stream",
     "text": [
      "Baseline Loss: 5.3059 | Actual Loss: 3.9525\n",
      "Baseline Loss: 3.9439 | Actual Loss: 2.7339\n",
      "Epoch 63/1000: Train Loss: 3.9525, Val Loss: 2.7339\n",
      "Baseline Loss: 5.3058 | Actual Loss: 3.8694\n"
     ]
    },
    {
     "name": "stderr",
     "output_type": "stream",
     "text": [
      "Training:   6%|▋         | 64/1000 [03:06<45:24,  2.91s/it]"
     ]
    },
    {
     "name": "stdout",
     "output_type": "stream",
     "text": [
      "Baseline Loss: 3.9439 | Actual Loss: 2.6729\n",
      "Epoch 64/1000: Train Loss: 3.8694, Val Loss: 2.6729\n",
      "Baseline Loss: 5.3058 | Actual Loss: 3.8898\n"
     ]
    },
    {
     "name": "stderr",
     "output_type": "stream",
     "text": [
      "Training:   6%|▋         | 65/1000 [03:09<46:30,  2.98s/it]"
     ]
    },
    {
     "name": "stdout",
     "output_type": "stream",
     "text": [
      "Baseline Loss: 3.9439 | Actual Loss: 2.7013\n",
      "Epoch 65/1000: Train Loss: 3.8898, Val Loss: 2.7013\n",
      "Baseline Loss: 5.3058 | Actual Loss: 3.8571\n"
     ]
    },
    {
     "name": "stderr",
     "output_type": "stream",
     "text": [
      "Training:   7%|▋         | 66/1000 [03:12<46:13,  2.97s/it]"
     ]
    },
    {
     "name": "stdout",
     "output_type": "stream",
     "text": [
      "Baseline Loss: 3.9439 | Actual Loss: 2.6389\n",
      "Epoch 66/1000: Train Loss: 3.8571, Val Loss: 2.6389\n",
      "New best validation loss: 2.6389\n",
      "Baseline Loss: 5.3058 | Actual Loss: 3.9035\n"
     ]
    },
    {
     "name": "stderr",
     "output_type": "stream",
     "text": [
      "Training:   7%|▋         | 67/1000 [03:15<45:32,  2.93s/it]"
     ]
    },
    {
     "name": "stdout",
     "output_type": "stream",
     "text": [
      "Baseline Loss: 3.9439 | Actual Loss: 2.5454\n",
      "Epoch 67/1000: Train Loss: 3.9035, Val Loss: 2.5454\n",
      "New best validation loss: 2.5454\n",
      "Baseline Loss: 5.3058 | Actual Loss: 3.8534\n"
     ]
    },
    {
     "name": "stderr",
     "output_type": "stream",
     "text": [
      "Training:   7%|▋         | 68/1000 [03:17<44:28,  2.86s/it]"
     ]
    },
    {
     "name": "stdout",
     "output_type": "stream",
     "text": [
      "Baseline Loss: 3.9439 | Actual Loss: 2.6299\n",
      "Epoch 68/1000: Train Loss: 3.8534, Val Loss: 2.6299\n",
      "Baseline Loss: 5.3058 | Actual Loss: 3.8183\n"
     ]
    },
    {
     "name": "stderr",
     "output_type": "stream",
     "text": [
      "Training:   7%|▋         | 69/1000 [03:20<45:00,  2.90s/it]"
     ]
    },
    {
     "name": "stdout",
     "output_type": "stream",
     "text": [
      "Baseline Loss: 3.9439 | Actual Loss: 2.5278\n",
      "Epoch 69/1000: Train Loss: 3.8183, Val Loss: 2.5278\n",
      "New best validation loss: 2.5278\n",
      "Baseline Loss: 5.3058 | Actual Loss: 3.7872\n"
     ]
    },
    {
     "name": "stderr",
     "output_type": "stream",
     "text": [
      "Training:   7%|▋         | 70/1000 [03:23<44:29,  2.87s/it]"
     ]
    },
    {
     "name": "stdout",
     "output_type": "stream",
     "text": [
      "Baseline Loss: 3.9439 | Actual Loss: 2.6221\n",
      "Epoch 70/1000: Train Loss: 3.7872, Val Loss: 2.6221\n",
      "Baseline Loss: 5.3058 | Actual Loss: 3.7577\n"
     ]
    },
    {
     "name": "stderr",
     "output_type": "stream",
     "text": [
      "Training:   7%|▋         | 71/1000 [03:26<44:21,  2.86s/it]"
     ]
    },
    {
     "name": "stdout",
     "output_type": "stream",
     "text": [
      "Baseline Loss: 3.9439 | Actual Loss: 2.6002\n",
      "Epoch 71/1000: Train Loss: 3.7577, Val Loss: 2.6002\n",
      "Baseline Loss: 5.3058 | Actual Loss: 3.7445\n"
     ]
    },
    {
     "name": "stderr",
     "output_type": "stream",
     "text": [
      "Training:   7%|▋         | 72/1000 [03:29<43:16,  2.80s/it]"
     ]
    },
    {
     "name": "stdout",
     "output_type": "stream",
     "text": [
      "Baseline Loss: 3.9439 | Actual Loss: 2.5151\n",
      "Epoch 72/1000: Train Loss: 3.7445, Val Loss: 2.5151\n",
      "New best validation loss: 2.5151\n",
      "Baseline Loss: 5.3058 | Actual Loss: 3.7722\n"
     ]
    },
    {
     "name": "stderr",
     "output_type": "stream",
     "text": [
      "Training:   7%|▋         | 73/1000 [03:32<44:05,  2.85s/it]"
     ]
    },
    {
     "name": "stdout",
     "output_type": "stream",
     "text": [
      "Baseline Loss: 3.9439 | Actual Loss: 2.6256\n",
      "Epoch 73/1000: Train Loss: 3.7722, Val Loss: 2.6256\n",
      "Baseline Loss: 5.3058 | Actual Loss: 3.7482\n"
     ]
    },
    {
     "name": "stderr",
     "output_type": "stream",
     "text": [
      "Training:   7%|▋         | 74/1000 [03:34<42:57,  2.78s/it]"
     ]
    },
    {
     "name": "stdout",
     "output_type": "stream",
     "text": [
      "Baseline Loss: 3.9439 | Actual Loss: 2.5202\n",
      "Epoch 74/1000: Train Loss: 3.7482, Val Loss: 2.5202\n",
      "Baseline Loss: 5.3058 | Actual Loss: 3.7322\n"
     ]
    },
    {
     "name": "stderr",
     "output_type": "stream",
     "text": [
      "Training:   8%|▊         | 75/1000 [03:37<44:45,  2.90s/it]"
     ]
    },
    {
     "name": "stdout",
     "output_type": "stream",
     "text": [
      "Baseline Loss: 3.9439 | Actual Loss: 2.4947\n",
      "Epoch 75/1000: Train Loss: 3.7322, Val Loss: 2.4947\n",
      "New best validation loss: 2.4947\n",
      "Baseline Loss: 5.3058 | Actual Loss: 3.7317\n"
     ]
    },
    {
     "name": "stderr",
     "output_type": "stream",
     "text": [
      "Training:   8%|▊         | 76/1000 [03:40<43:52,  2.85s/it]"
     ]
    },
    {
     "name": "stdout",
     "output_type": "stream",
     "text": [
      "Baseline Loss: 3.9439 | Actual Loss: 2.4049\n",
      "Epoch 76/1000: Train Loss: 3.7317, Val Loss: 2.4049\n",
      "New best validation loss: 2.4049\n",
      "Baseline Loss: 5.3058 | Actual Loss: 3.7124\n"
     ]
    },
    {
     "name": "stderr",
     "output_type": "stream",
     "text": [
      "Training:   8%|▊         | 77/1000 [03:43<45:07,  2.93s/it]"
     ]
    },
    {
     "name": "stdout",
     "output_type": "stream",
     "text": [
      "Baseline Loss: 3.9439 | Actual Loss: 2.5030\n",
      "Epoch 77/1000: Train Loss: 3.7124, Val Loss: 2.5030\n",
      "Baseline Loss: 5.3058 | Actual Loss: 3.6623\n"
     ]
    },
    {
     "name": "stderr",
     "output_type": "stream",
     "text": [
      "Training:   8%|▊         | 78/1000 [03:46<44:03,  2.87s/it]"
     ]
    },
    {
     "name": "stdout",
     "output_type": "stream",
     "text": [
      "Baseline Loss: 3.9439 | Actual Loss: 2.3368\n",
      "Epoch 78/1000: Train Loss: 3.6623, Val Loss: 2.3368\n",
      "New best validation loss: 2.3368\n",
      "Baseline Loss: 5.3058 | Actual Loss: 3.6954\n"
     ]
    },
    {
     "name": "stderr",
     "output_type": "stream",
     "text": [
      "Training:   8%|▊         | 79/1000 [03:49<44:29,  2.90s/it]"
     ]
    },
    {
     "name": "stdout",
     "output_type": "stream",
     "text": [
      "Baseline Loss: 3.9439 | Actual Loss: 2.5180\n",
      "Epoch 79/1000: Train Loss: 3.6954, Val Loss: 2.5180\n",
      "Baseline Loss: 5.3058 | Actual Loss: 3.6419\n"
     ]
    },
    {
     "name": "stderr",
     "output_type": "stream",
     "text": [
      "Training:   8%|▊         | 80/1000 [03:52<45:44,  2.98s/it]"
     ]
    },
    {
     "name": "stdout",
     "output_type": "stream",
     "text": [
      "Baseline Loss: 3.9439 | Actual Loss: 2.4077\n",
      "Epoch 80/1000: Train Loss: 3.6419, Val Loss: 2.4077\n",
      "Baseline Loss: 5.3058 | Actual Loss: 3.5975\n"
     ]
    },
    {
     "name": "stderr",
     "output_type": "stream",
     "text": [
      "Training:   8%|▊         | 81/1000 [03:55<44:11,  2.89s/it]"
     ]
    },
    {
     "name": "stdout",
     "output_type": "stream",
     "text": [
      "Baseline Loss: 3.9439 | Actual Loss: 2.4215\n",
      "Epoch 81/1000: Train Loss: 3.5975, Val Loss: 2.4215\n"
     ]
    },
    {
     "name": "stderr",
     "output_type": "stream",
     "text": [
      "Training:   8%|▊         | 82/1000 [03:58<44:09,  2.89s/it]"
     ]
    },
    {
     "name": "stdout",
     "output_type": "stream",
     "text": [
      "Baseline Loss: 5.3058 | Actual Loss: 3.6138\n",
      "Baseline Loss: 3.9439 | Actual Loss: 2.3935\n",
      "Epoch 82/1000: Train Loss: 3.6138, Val Loss: 2.3935\n",
      "Baseline Loss: 5.3058 | Actual Loss: 3.5860\n"
     ]
    },
    {
     "name": "stderr",
     "output_type": "stream",
     "text": [
      "Training:   8%|▊         | 83/1000 [04:00<43:15,  2.83s/it]"
     ]
    },
    {
     "name": "stdout",
     "output_type": "stream",
     "text": [
      "Baseline Loss: 3.9439 | Actual Loss: 2.3994\n",
      "Epoch 83/1000: Train Loss: 3.5860, Val Loss: 2.3994\n",
      "Baseline Loss: 5.3058 | Actual Loss: 3.6138\n"
     ]
    },
    {
     "name": "stderr",
     "output_type": "stream",
     "text": [
      "Training:   8%|▊         | 84/1000 [04:03<44:28,  2.91s/it]"
     ]
    },
    {
     "name": "stdout",
     "output_type": "stream",
     "text": [
      "Baseline Loss: 3.9439 | Actual Loss: 2.3409\n",
      "Epoch 84/1000: Train Loss: 3.6138, Val Loss: 2.3409\n"
     ]
    },
    {
     "name": "stderr",
     "output_type": "stream",
     "text": [
      "Training:   8%|▊         | 85/1000 [04:06<44:23,  2.91s/it]"
     ]
    },
    {
     "name": "stdout",
     "output_type": "stream",
     "text": [
      "Baseline Loss: 5.3058 | Actual Loss: 3.5290\n",
      "Baseline Loss: 3.9439 | Actual Loss: 2.4492\n",
      "Epoch 85/1000: Train Loss: 3.5290, Val Loss: 2.4492\n",
      "Baseline Loss: 5.3058 | Actual Loss: 3.5563\n"
     ]
    },
    {
     "name": "stderr",
     "output_type": "stream",
     "text": [
      "Training:   9%|▊         | 86/1000 [04:09<44:11,  2.90s/it]"
     ]
    },
    {
     "name": "stdout",
     "output_type": "stream",
     "text": [
      "Baseline Loss: 3.9439 | Actual Loss: 2.3585\n",
      "Epoch 86/1000: Train Loss: 3.5563, Val Loss: 2.3585\n",
      "Baseline Loss: 5.3059 | Actual Loss: 3.5244\n"
     ]
    },
    {
     "name": "stderr",
     "output_type": "stream",
     "text": [
      "Training:   9%|▊         | 87/1000 [04:12<43:50,  2.88s/it]"
     ]
    },
    {
     "name": "stdout",
     "output_type": "stream",
     "text": [
      "Baseline Loss: 3.9439 | Actual Loss: 2.4024\n",
      "Epoch 87/1000: Train Loss: 3.5244, Val Loss: 2.4024\n"
     ]
    },
    {
     "name": "stderr",
     "output_type": "stream",
     "text": [
      "Training:   9%|▉         | 88/1000 [04:15<44:23,  2.92s/it]"
     ]
    },
    {
     "name": "stdout",
     "output_type": "stream",
     "text": [
      "Baseline Loss: 5.3058 | Actual Loss: 3.4727\n",
      "Baseline Loss: 3.9439 | Actual Loss: 2.3572\n",
      "Epoch 88/1000: Train Loss: 3.4727, Val Loss: 2.3572\n",
      "Baseline Loss: 5.3058 | Actual Loss: 3.5467\n"
     ]
    },
    {
     "name": "stderr",
     "output_type": "stream",
     "text": [
      "Training:   9%|▉         | 89/1000 [04:18<44:07,  2.91s/it]"
     ]
    },
    {
     "name": "stdout",
     "output_type": "stream",
     "text": [
      "Baseline Loss: 3.9439 | Actual Loss: 2.3852\n",
      "Epoch 89/1000: Train Loss: 3.5467, Val Loss: 2.3852\n",
      "Baseline Loss: 5.3058 | Actual Loss: 3.4688\n"
     ]
    },
    {
     "name": "stderr",
     "output_type": "stream",
     "text": [
      "Training:   9%|▉         | 90/1000 [04:21<43:45,  2.88s/it]"
     ]
    },
    {
     "name": "stdout",
     "output_type": "stream",
     "text": [
      "Baseline Loss: 3.9439 | Actual Loss: 2.1621\n",
      "Epoch 90/1000: Train Loss: 3.4688, Val Loss: 2.1621\n",
      "New best validation loss: 2.1621\n",
      "Baseline Loss: 5.3058 | Actual Loss: 3.5005\n"
     ]
    },
    {
     "name": "stderr",
     "output_type": "stream",
     "text": [
      "Training:   9%|▉         | 91/1000 [04:24<44:09,  2.91s/it]"
     ]
    },
    {
     "name": "stdout",
     "output_type": "stream",
     "text": [
      "Baseline Loss: 3.9439 | Actual Loss: 2.3425\n",
      "Epoch 91/1000: Train Loss: 3.5005, Val Loss: 2.3425\n",
      "Baseline Loss: 5.3058 | Actual Loss: 3.4936\n"
     ]
    },
    {
     "name": "stderr",
     "output_type": "stream",
     "text": [
      "Training:   9%|▉         | 92/1000 [04:27<44:25,  2.94s/it]"
     ]
    },
    {
     "name": "stdout",
     "output_type": "stream",
     "text": [
      "Baseline Loss: 3.9439 | Actual Loss: 2.3621\n",
      "Epoch 92/1000: Train Loss: 3.4936, Val Loss: 2.3621\n",
      "Baseline Loss: 5.3058 | Actual Loss: 3.3758\n"
     ]
    },
    {
     "name": "stderr",
     "output_type": "stream",
     "text": [
      "Training:   9%|▉         | 93/1000 [04:30<44:30,  2.94s/it]"
     ]
    },
    {
     "name": "stdout",
     "output_type": "stream",
     "text": [
      "Baseline Loss: 3.9439 | Actual Loss: 2.2960\n",
      "Epoch 93/1000: Train Loss: 3.3758, Val Loss: 2.2960\n",
      "Baseline Loss: 5.3058 | Actual Loss: 3.4874\n"
     ]
    },
    {
     "name": "stderr",
     "output_type": "stream",
     "text": [
      "Training:   9%|▉         | 94/1000 [04:33<44:13,  2.93s/it]"
     ]
    },
    {
     "name": "stdout",
     "output_type": "stream",
     "text": [
      "Baseline Loss: 3.9439 | Actual Loss: 2.2629\n",
      "Epoch 94/1000: Train Loss: 3.4874, Val Loss: 2.2629\n",
      "Baseline Loss: 5.3058 | Actual Loss: 3.3247\n"
     ]
    },
    {
     "name": "stderr",
     "output_type": "stream",
     "text": [
      "Training:  10%|▉         | 95/1000 [04:36<44:24,  2.94s/it]"
     ]
    },
    {
     "name": "stdout",
     "output_type": "stream",
     "text": [
      "Baseline Loss: 3.9439 | Actual Loss: 2.3666\n",
      "Epoch 95/1000: Train Loss: 3.3247, Val Loss: 2.3666\n"
     ]
    },
    {
     "name": "stderr",
     "output_type": "stream",
     "text": [
      "Training:  10%|▉         | 96/1000 [04:38<43:52,  2.91s/it]"
     ]
    },
    {
     "name": "stdout",
     "output_type": "stream",
     "text": [
      "Baseline Loss: 5.3058 | Actual Loss: 3.3901\n",
      "Baseline Loss: 3.9439 | Actual Loss: 2.3899\n",
      "Epoch 96/1000: Train Loss: 3.3901, Val Loss: 2.3899\n",
      "Baseline Loss: 5.3058 | Actual Loss: 3.4234\n"
     ]
    },
    {
     "name": "stderr",
     "output_type": "stream",
     "text": [
      "Training:  10%|▉         | 97/1000 [04:41<43:40,  2.90s/it]"
     ]
    },
    {
     "name": "stdout",
     "output_type": "stream",
     "text": [
      "Baseline Loss: 3.9439 | Actual Loss: 2.2676\n",
      "Epoch 97/1000: Train Loss: 3.4234, Val Loss: 2.2676\n",
      "Baseline Loss: 5.3058 | Actual Loss: 3.4361\n"
     ]
    },
    {
     "name": "stderr",
     "output_type": "stream",
     "text": [
      "Training:  10%|▉         | 98/1000 [04:44<42:40,  2.84s/it]"
     ]
    },
    {
     "name": "stdout",
     "output_type": "stream",
     "text": [
      "Baseline Loss: 3.9439 | Actual Loss: 2.3367\n",
      "Epoch 98/1000: Train Loss: 3.4361, Val Loss: 2.3367\n",
      "Baseline Loss: 5.3058 | Actual Loss: 3.3693\n"
     ]
    },
    {
     "name": "stderr",
     "output_type": "stream",
     "text": [
      "Training:  10%|▉         | 99/1000 [04:47<43:29,  2.90s/it]"
     ]
    },
    {
     "name": "stdout",
     "output_type": "stream",
     "text": [
      "Baseline Loss: 3.9439 | Actual Loss: 2.1749\n",
      "Epoch 99/1000: Train Loss: 3.3693, Val Loss: 2.1749\n",
      "Baseline Loss: 5.3058 | Actual Loss: 3.3896\n"
     ]
    },
    {
     "name": "stderr",
     "output_type": "stream",
     "text": [
      "Training:  10%|█         | 100/1000 [04:50<43:14,  2.88s/it]"
     ]
    },
    {
     "name": "stdout",
     "output_type": "stream",
     "text": [
      "Baseline Loss: 3.9439 | Actual Loss: 2.2748\n",
      "Epoch 100/1000: Train Loss: 3.3896, Val Loss: 2.2748\n",
      "Baseline Loss: 5.3058 | Actual Loss: 3.4197\n"
     ]
    },
    {
     "name": "stderr",
     "output_type": "stream",
     "text": [
      "Training:  10%|█         | 101/1000 [04:53<42:35,  2.84s/it]"
     ]
    },
    {
     "name": "stdout",
     "output_type": "stream",
     "text": [
      "Baseline Loss: 3.9439 | Actual Loss: 2.2620\n",
      "Epoch 101/1000: Train Loss: 3.4197, Val Loss: 2.2620\n",
      "Baseline Loss: 5.3058 | Actual Loss: 3.3221\n"
     ]
    },
    {
     "name": "stderr",
     "output_type": "stream",
     "text": [
      "Training:  10%|█         | 102/1000 [04:56<43:11,  2.89s/it]"
     ]
    },
    {
     "name": "stdout",
     "output_type": "stream",
     "text": [
      "Baseline Loss: 3.9439 | Actual Loss: 2.2531\n",
      "Epoch 102/1000: Train Loss: 3.3221, Val Loss: 2.2531\n",
      "Baseline Loss: 5.3058 | Actual Loss: 3.2758\n"
     ]
    },
    {
     "name": "stderr",
     "output_type": "stream",
     "text": [
      "Training:  10%|█         | 103/1000 [04:58<43:09,  2.89s/it]"
     ]
    },
    {
     "name": "stdout",
     "output_type": "stream",
     "text": [
      "Baseline Loss: 3.9439 | Actual Loss: 2.1847\n",
      "Epoch 103/1000: Train Loss: 3.2758, Val Loss: 2.1847\n",
      "Baseline Loss: 5.3058 | Actual Loss: 3.3174\n"
     ]
    },
    {
     "name": "stderr",
     "output_type": "stream",
     "text": [
      "Training:  10%|█         | 104/1000 [05:01<43:07,  2.89s/it]"
     ]
    },
    {
     "name": "stdout",
     "output_type": "stream",
     "text": [
      "Baseline Loss: 3.9439 | Actual Loss: 2.3311\n",
      "Epoch 104/1000: Train Loss: 3.3174, Val Loss: 2.3311\n",
      "Baseline Loss: 5.3058 | Actual Loss: 3.3037\n"
     ]
    },
    {
     "name": "stderr",
     "output_type": "stream",
     "text": [
      "Training:  10%|█         | 105/1000 [05:04<43:43,  2.93s/it]"
     ]
    },
    {
     "name": "stdout",
     "output_type": "stream",
     "text": [
      "Baseline Loss: 3.9439 | Actual Loss: 2.3545\n",
      "Epoch 105/1000: Train Loss: 3.3037, Val Loss: 2.3545\n",
      "Baseline Loss: 5.3058 | Actual Loss: 3.3241\n"
     ]
    },
    {
     "name": "stderr",
     "output_type": "stream",
     "text": [
      "Training:  11%|█         | 106/1000 [05:07<43:06,  2.89s/it]"
     ]
    },
    {
     "name": "stdout",
     "output_type": "stream",
     "text": [
      "Baseline Loss: 3.9439 | Actual Loss: 2.2854\n",
      "Epoch 106/1000: Train Loss: 3.3241, Val Loss: 2.2854\n",
      "Baseline Loss: 5.3058 | Actual Loss: 3.3091\n"
     ]
    },
    {
     "name": "stderr",
     "output_type": "stream",
     "text": [
      "Training:  11%|█         | 107/1000 [05:10<42:53,  2.88s/it]"
     ]
    },
    {
     "name": "stdout",
     "output_type": "stream",
     "text": [
      "Baseline Loss: 3.9439 | Actual Loss: 2.2359\n",
      "Epoch 107/1000: Train Loss: 3.3091, Val Loss: 2.2359\n",
      "Baseline Loss: 5.3059 | Actual Loss: 3.3456\n"
     ]
    },
    {
     "name": "stderr",
     "output_type": "stream",
     "text": [
      "Training:  11%|█         | 108/1000 [05:13<42:23,  2.85s/it]"
     ]
    },
    {
     "name": "stdout",
     "output_type": "stream",
     "text": [
      "Baseline Loss: 3.9439 | Actual Loss: 2.3114\n",
      "Epoch 108/1000: Train Loss: 3.3456, Val Loss: 2.3114\n",
      "Baseline Loss: 5.3058 | Actual Loss: 3.3168\n"
     ]
    },
    {
     "name": "stderr",
     "output_type": "stream",
     "text": [
      "Training:  11%|█         | 109/1000 [05:16<43:02,  2.90s/it]"
     ]
    },
    {
     "name": "stdout",
     "output_type": "stream",
     "text": [
      "Baseline Loss: 3.9439 | Actual Loss: 2.1847\n",
      "Epoch 109/1000: Train Loss: 3.3168, Val Loss: 2.1847\n",
      "Baseline Loss: 5.3058 | Actual Loss: 3.2681\n"
     ]
    },
    {
     "name": "stderr",
     "output_type": "stream",
     "text": [
      "Training:  11%|█         | 110/1000 [05:19<42:41,  2.88s/it]"
     ]
    },
    {
     "name": "stdout",
     "output_type": "stream",
     "text": [
      "Baseline Loss: 3.9439 | Actual Loss: 2.0971\n",
      "Epoch 110/1000: Train Loss: 3.2681, Val Loss: 2.0971\n",
      "New best validation loss: 2.0971\n",
      "Baseline Loss: 5.3058 | Actual Loss: 3.2883\n"
     ]
    },
    {
     "name": "stderr",
     "output_type": "stream",
     "text": [
      "Training:  11%|█         | 111/1000 [05:21<41:45,  2.82s/it]"
     ]
    },
    {
     "name": "stdout",
     "output_type": "stream",
     "text": [
      "Baseline Loss: 3.9439 | Actual Loss: 2.3092\n",
      "Epoch 111/1000: Train Loss: 3.2883, Val Loss: 2.3092\n",
      "Baseline Loss: 5.3058 | Actual Loss: 3.2828\n"
     ]
    },
    {
     "name": "stderr",
     "output_type": "stream",
     "text": [
      "Training:  11%|█         | 112/1000 [05:24<42:24,  2.87s/it]"
     ]
    },
    {
     "name": "stdout",
     "output_type": "stream",
     "text": [
      "Baseline Loss: 3.9439 | Actual Loss: 2.2083\n",
      "Epoch 112/1000: Train Loss: 3.2828, Val Loss: 2.2083\n",
      "Baseline Loss: 5.3058 | Actual Loss: 3.1631\n"
     ]
    },
    {
     "name": "stderr",
     "output_type": "stream",
     "text": [
      "Training:  11%|█▏        | 113/1000 [05:27<42:00,  2.84s/it]"
     ]
    },
    {
     "name": "stdout",
     "output_type": "stream",
     "text": [
      "Baseline Loss: 3.9439 | Actual Loss: 2.1427\n",
      "Epoch 113/1000: Train Loss: 3.1631, Val Loss: 2.1427\n",
      "Baseline Loss: 5.3058 | Actual Loss: 3.2085\n"
     ]
    },
    {
     "name": "stderr",
     "output_type": "stream",
     "text": [
      "Training:  11%|█▏        | 114/1000 [05:30<41:49,  2.83s/it]"
     ]
    },
    {
     "name": "stdout",
     "output_type": "stream",
     "text": [
      "Baseline Loss: 3.9439 | Actual Loss: 2.2444\n",
      "Epoch 114/1000: Train Loss: 3.2085, Val Loss: 2.2444\n",
      "Baseline Loss: 5.3058 | Actual Loss: 3.2190\n"
     ]
    },
    {
     "name": "stderr",
     "output_type": "stream",
     "text": [
      "Training:  12%|█▏        | 115/1000 [05:33<42:28,  2.88s/it]"
     ]
    },
    {
     "name": "stdout",
     "output_type": "stream",
     "text": [
      "Baseline Loss: 3.9439 | Actual Loss: 2.2906\n",
      "Epoch 115/1000: Train Loss: 3.2190, Val Loss: 2.2906\n",
      "Baseline Loss: 5.3058 | Actual Loss: 3.2430\n"
     ]
    },
    {
     "name": "stderr",
     "output_type": "stream",
     "text": [
      "Training:  12%|█▏        | 116/1000 [05:36<42:11,  2.86s/it]"
     ]
    },
    {
     "name": "stdout",
     "output_type": "stream",
     "text": [
      "Baseline Loss: 3.9439 | Actual Loss: 2.1203\n",
      "Epoch 116/1000: Train Loss: 3.2430, Val Loss: 2.1203\n",
      "Baseline Loss: 5.3058 | Actual Loss: 3.2186\n"
     ]
    },
    {
     "name": "stderr",
     "output_type": "stream",
     "text": [
      "Training:  12%|█▏        | 117/1000 [05:39<41:55,  2.85s/it]"
     ]
    },
    {
     "name": "stdout",
     "output_type": "stream",
     "text": [
      "Baseline Loss: 3.9439 | Actual Loss: 2.2978\n",
      "Epoch 117/1000: Train Loss: 3.2186, Val Loss: 2.2978\n",
      "Baseline Loss: 5.3058 | Actual Loss: 3.1063\n"
     ]
    },
    {
     "name": "stderr",
     "output_type": "stream",
     "text": [
      "Training:  12%|█▏        | 118/1000 [05:41<40:44,  2.77s/it]"
     ]
    },
    {
     "name": "stdout",
     "output_type": "stream",
     "text": [
      "Baseline Loss: 3.9439 | Actual Loss: 2.2511\n",
      "Epoch 118/1000: Train Loss: 3.1063, Val Loss: 2.2511\n",
      "Baseline Loss: 5.3059 | Actual Loss: 3.1759\n"
     ]
    },
    {
     "name": "stderr",
     "output_type": "stream",
     "text": [
      "Training:  12%|█▏        | 119/1000 [05:44<41:47,  2.85s/it]"
     ]
    },
    {
     "name": "stdout",
     "output_type": "stream",
     "text": [
      "Baseline Loss: 3.9439 | Actual Loss: 2.2654\n",
      "Epoch 119/1000: Train Loss: 3.1759, Val Loss: 2.2654\n",
      "Baseline Loss: 5.3058 | Actual Loss: 3.2183\n"
     ]
    },
    {
     "name": "stderr",
     "output_type": "stream",
     "text": [
      "Training:  12%|█▏        | 120/1000 [05:47<42:08,  2.87s/it]"
     ]
    },
    {
     "name": "stdout",
     "output_type": "stream",
     "text": [
      "Baseline Loss: 3.9439 | Actual Loss: 2.1768\n",
      "Epoch 120/1000: Train Loss: 3.2183, Val Loss: 2.1768\n",
      "Baseline Loss: 5.3058 | Actual Loss: 3.1195\n"
     ]
    },
    {
     "name": "stderr",
     "output_type": "stream",
     "text": [
      "Training:  12%|█▏        | 121/1000 [05:50<41:00,  2.80s/it]"
     ]
    },
    {
     "name": "stdout",
     "output_type": "stream",
     "text": [
      "Baseline Loss: 3.9439 | Actual Loss: 2.2752\n",
      "Epoch 121/1000: Train Loss: 3.1195, Val Loss: 2.2752\n",
      "Baseline Loss: 5.3058 | Actual Loss: 3.2394\n"
     ]
    },
    {
     "name": "stderr",
     "output_type": "stream",
     "text": [
      "Training:  12%|█▏        | 122/1000 [05:53<41:40,  2.85s/it]"
     ]
    },
    {
     "name": "stdout",
     "output_type": "stream",
     "text": [
      "Baseline Loss: 3.9439 | Actual Loss: 2.2519\n",
      "Epoch 122/1000: Train Loss: 3.2394, Val Loss: 2.2519\n",
      "Baseline Loss: 5.3058 | Actual Loss: 3.2476\n"
     ]
    },
    {
     "name": "stderr",
     "output_type": "stream",
     "text": [
      "Training:  12%|█▏        | 123/1000 [05:55<40:28,  2.77s/it]"
     ]
    },
    {
     "name": "stdout",
     "output_type": "stream",
     "text": [
      "Baseline Loss: 3.9439 | Actual Loss: 2.2423\n",
      "Epoch 123/1000: Train Loss: 3.2476, Val Loss: 2.2423\n",
      "Baseline Loss: 5.3058 | Actual Loss: 3.1604\n"
     ]
    },
    {
     "name": "stderr",
     "output_type": "stream",
     "text": [
      "Training:  12%|█▏        | 124/1000 [05:58<42:05,  2.88s/it]"
     ]
    },
    {
     "name": "stdout",
     "output_type": "stream",
     "text": [
      "Baseline Loss: 3.9439 | Actual Loss: 2.0712\n",
      "Epoch 124/1000: Train Loss: 3.1604, Val Loss: 2.0712\n",
      "New best validation loss: 2.0712\n",
      "Baseline Loss: 5.3058 | Actual Loss: 3.1517\n"
     ]
    },
    {
     "name": "stderr",
     "output_type": "stream",
     "text": [
      "Training:  12%|█▎        | 125/1000 [06:01<41:03,  2.81s/it]"
     ]
    },
    {
     "name": "stdout",
     "output_type": "stream",
     "text": [
      "Baseline Loss: 3.9439 | Actual Loss: 2.1653\n",
      "Epoch 125/1000: Train Loss: 3.1517, Val Loss: 2.1653\n",
      "Baseline Loss: 5.3058 | Actual Loss: 3.1080\n"
     ]
    },
    {
     "name": "stderr",
     "output_type": "stream",
     "text": [
      "Training:  13%|█▎        | 126/1000 [06:04<41:46,  2.87s/it]"
     ]
    },
    {
     "name": "stdout",
     "output_type": "stream",
     "text": [
      "Baseline Loss: 3.9439 | Actual Loss: 2.1979\n",
      "Epoch 126/1000: Train Loss: 3.1080, Val Loss: 2.1979\n"
     ]
    },
    {
     "name": "stderr",
     "output_type": "stream",
     "text": [
      "Training:  13%|█▎        | 127/1000 [06:07<40:39,  2.79s/it]"
     ]
    },
    {
     "name": "stdout",
     "output_type": "stream",
     "text": [
      "Baseline Loss: 5.3058 | Actual Loss: 3.1859\n",
      "Baseline Loss: 3.9439 | Actual Loss: 2.2739\n",
      "Epoch 127/1000: Train Loss: 3.1859, Val Loss: 2.2739\n"
     ]
    },
    {
     "name": "stderr",
     "output_type": "stream",
     "text": [
      "Training:  13%|█▎        | 128/1000 [06:10<41:18,  2.84s/it]"
     ]
    },
    {
     "name": "stdout",
     "output_type": "stream",
     "text": [
      "Baseline Loss: 5.3058 | Actual Loss: 3.1691\n",
      "Baseline Loss: 3.9439 | Actual Loss: 2.2664\n",
      "Epoch 128/1000: Train Loss: 3.1691, Val Loss: 2.2664\n",
      "Baseline Loss: 5.3058 | Actual Loss: 3.1705\n"
     ]
    },
    {
     "name": "stderr",
     "output_type": "stream",
     "text": [
      "Training:  13%|█▎        | 129/1000 [06:12<41:04,  2.83s/it]"
     ]
    },
    {
     "name": "stdout",
     "output_type": "stream",
     "text": [
      "Baseline Loss: 3.9439 | Actual Loss: 2.1345\n",
      "Epoch 129/1000: Train Loss: 3.1705, Val Loss: 2.1345\n",
      "Baseline Loss: 5.3058 | Actual Loss: 3.0151\n"
     ]
    },
    {
     "name": "stderr",
     "output_type": "stream",
     "text": [
      "Training:  13%|█▎        | 130/1000 [06:15<41:23,  2.85s/it]"
     ]
    },
    {
     "name": "stdout",
     "output_type": "stream",
     "text": [
      "Baseline Loss: 3.9439 | Actual Loss: 2.1763\n",
      "Epoch 130/1000: Train Loss: 3.0151, Val Loss: 2.1763\n",
      "Baseline Loss: 5.3058 | Actual Loss: 3.1312\n"
     ]
    },
    {
     "name": "stderr",
     "output_type": "stream",
     "text": [
      "Training:  13%|█▎        | 131/1000 [06:18<40:14,  2.78s/it]"
     ]
    },
    {
     "name": "stdout",
     "output_type": "stream",
     "text": [
      "Baseline Loss: 3.9439 | Actual Loss: 2.1892\n",
      "Epoch 131/1000: Train Loss: 3.1312, Val Loss: 2.1892\n",
      "Baseline Loss: 5.3058 | Actual Loss: 3.0897\n"
     ]
    },
    {
     "name": "stderr",
     "output_type": "stream",
     "text": [
      "Training:  13%|█▎        | 132/1000 [06:21<42:02,  2.91s/it]"
     ]
    },
    {
     "name": "stdout",
     "output_type": "stream",
     "text": [
      "Baseline Loss: 3.9439 | Actual Loss: 2.1851\n",
      "Epoch 132/1000: Train Loss: 3.0897, Val Loss: 2.1851\n",
      "Baseline Loss: 5.3058 | Actual Loss: 3.1390\n"
     ]
    },
    {
     "name": "stderr",
     "output_type": "stream",
     "text": [
      "Training:  13%|█▎        | 133/1000 [06:24<42:20,  2.93s/it]"
     ]
    },
    {
     "name": "stdout",
     "output_type": "stream",
     "text": [
      "Baseline Loss: 3.9439 | Actual Loss: 2.1243\n",
      "Epoch 133/1000: Train Loss: 3.1390, Val Loss: 2.1243\n",
      "Baseline Loss: 5.3058 | Actual Loss: 3.1724\n"
     ]
    },
    {
     "name": "stderr",
     "output_type": "stream",
     "text": [
      "Training:  13%|█▎        | 134/1000 [06:27<41:06,  2.85s/it]"
     ]
    },
    {
     "name": "stdout",
     "output_type": "stream",
     "text": [
      "Baseline Loss: 3.9439 | Actual Loss: 2.1964\n",
      "Epoch 134/1000: Train Loss: 3.1724, Val Loss: 2.1964\n"
     ]
    },
    {
     "name": "stderr",
     "output_type": "stream",
     "text": [
      "Training:  14%|█▎        | 135/1000 [06:30<41:44,  2.90s/it]"
     ]
    },
    {
     "name": "stdout",
     "output_type": "stream",
     "text": [
      "Baseline Loss: 5.3058 | Actual Loss: 3.0366\n",
      "Baseline Loss: 3.9439 | Actual Loss: 2.3334\n",
      "Epoch 135/1000: Train Loss: 3.0366, Val Loss: 2.3334\n",
      "Baseline Loss: 5.3058 | Actual Loss: 3.0545\n"
     ]
    },
    {
     "name": "stderr",
     "output_type": "stream",
     "text": [
      "Training:  14%|█▎        | 136/1000 [06:33<40:46,  2.83s/it]"
     ]
    },
    {
     "name": "stdout",
     "output_type": "stream",
     "text": [
      "Baseline Loss: 3.9439 | Actual Loss: 2.2233\n",
      "Epoch 136/1000: Train Loss: 3.0545, Val Loss: 2.2233\n",
      "Baseline Loss: 5.3058 | Actual Loss: 3.1035\n"
     ]
    },
    {
     "name": "stderr",
     "output_type": "stream",
     "text": [
      "Training:  14%|█▎        | 137/1000 [06:36<42:43,  2.97s/it]"
     ]
    },
    {
     "name": "stdout",
     "output_type": "stream",
     "text": [
      "Baseline Loss: 3.9439 | Actual Loss: 2.2245\n",
      "Epoch 137/1000: Train Loss: 3.1035, Val Loss: 2.2245\n"
     ]
    },
    {
     "name": "stderr",
     "output_type": "stream",
     "text": [
      "Training:  14%|█▍        | 138/1000 [06:38<41:04,  2.86s/it]"
     ]
    },
    {
     "name": "stdout",
     "output_type": "stream",
     "text": [
      "Baseline Loss: 5.3058 | Actual Loss: 3.0817\n",
      "Baseline Loss: 3.9439 | Actual Loss: 2.1198\n",
      "Epoch 138/1000: Train Loss: 3.0817, Val Loss: 2.1198\n",
      "Baseline Loss: 5.3058 | Actual Loss: 3.0867\n"
     ]
    },
    {
     "name": "stderr",
     "output_type": "stream",
     "text": [
      "Training:  14%|█▍        | 139/1000 [06:41<41:01,  2.86s/it]"
     ]
    },
    {
     "name": "stdout",
     "output_type": "stream",
     "text": [
      "Baseline Loss: 3.9439 | Actual Loss: 2.0533\n",
      "Epoch 139/1000: Train Loss: 3.0867, Val Loss: 2.0533\n",
      "New best validation loss: 2.0533\n",
      "Baseline Loss: 5.3058 | Actual Loss: 3.0519\n"
     ]
    },
    {
     "name": "stderr",
     "output_type": "stream",
     "text": [
      "Training:  14%|█▍        | 140/1000 [06:44<41:14,  2.88s/it]"
     ]
    },
    {
     "name": "stdout",
     "output_type": "stream",
     "text": [
      "Baseline Loss: 3.9439 | Actual Loss: 2.2466\n",
      "Epoch 140/1000: Train Loss: 3.0519, Val Loss: 2.2466\n",
      "Baseline Loss: 5.3058 | Actual Loss: 3.1057\n"
     ]
    },
    {
     "name": "stderr",
     "output_type": "stream",
     "text": [
      "Training:  14%|█▍        | 141/1000 [06:47<41:14,  2.88s/it]"
     ]
    },
    {
     "name": "stdout",
     "output_type": "stream",
     "text": [
      "Baseline Loss: 3.9439 | Actual Loss: 2.1372\n",
      "Epoch 141/1000: Train Loss: 3.1057, Val Loss: 2.1372\n"
     ]
    },
    {
     "name": "stderr",
     "output_type": "stream",
     "text": [
      "Training:  14%|█▍        | 142/1000 [06:50<41:35,  2.91s/it]"
     ]
    },
    {
     "name": "stdout",
     "output_type": "stream",
     "text": [
      "Baseline Loss: 5.3058 | Actual Loss: 3.0376\n",
      "Baseline Loss: 3.9439 | Actual Loss: 2.2326\n",
      "Epoch 142/1000: Train Loss: 3.0376, Val Loss: 2.2326\n",
      "Baseline Loss: 5.3058 | Actual Loss: 2.9901\n"
     ]
    },
    {
     "name": "stderr",
     "output_type": "stream",
     "text": [
      "Training:  14%|█▍        | 143/1000 [06:53<41:47,  2.93s/it]"
     ]
    },
    {
     "name": "stdout",
     "output_type": "stream",
     "text": [
      "Baseline Loss: 3.9439 | Actual Loss: 2.2055\n",
      "Epoch 143/1000: Train Loss: 2.9901, Val Loss: 2.2055\n",
      "Baseline Loss: 5.3058 | Actual Loss: 3.0277\n"
     ]
    },
    {
     "name": "stderr",
     "output_type": "stream",
     "text": [
      "Training:  14%|█▍        | 144/1000 [06:56<41:49,  2.93s/it]"
     ]
    },
    {
     "name": "stdout",
     "output_type": "stream",
     "text": [
      "Baseline Loss: 3.9439 | Actual Loss: 2.1895\n",
      "Epoch 144/1000: Train Loss: 3.0277, Val Loss: 2.1895\n"
     ]
    },
    {
     "name": "stderr",
     "output_type": "stream",
     "text": [
      "Training:  14%|█▍        | 145/1000 [06:59<40:59,  2.88s/it]"
     ]
    },
    {
     "name": "stdout",
     "output_type": "stream",
     "text": [
      "Baseline Loss: 5.3058 | Actual Loss: 2.9813\n",
      "Baseline Loss: 3.9439 | Actual Loss: 2.2682\n",
      "Epoch 145/1000: Train Loss: 2.9813, Val Loss: 2.2682\n",
      "Baseline Loss: 5.3058 | Actual Loss: 3.0731\n"
     ]
    },
    {
     "name": "stderr",
     "output_type": "stream",
     "text": [
      "Training:  15%|█▍        | 146/1000 [07:02<42:14,  2.97s/it]"
     ]
    },
    {
     "name": "stdout",
     "output_type": "stream",
     "text": [
      "Baseline Loss: 3.9439 | Actual Loss: 2.2478\n",
      "Epoch 146/1000: Train Loss: 3.0731, Val Loss: 2.2478\n",
      "Baseline Loss: 5.3058 | Actual Loss: 3.0019\n"
     ]
    },
    {
     "name": "stderr",
     "output_type": "stream",
     "text": [
      "Training:  15%|█▍        | 147/1000 [07:04<40:41,  2.86s/it]"
     ]
    },
    {
     "name": "stdout",
     "output_type": "stream",
     "text": [
      "Baseline Loss: 3.9439 | Actual Loss: 2.0404\n",
      "Epoch 147/1000: Train Loss: 3.0019, Val Loss: 2.0404\n",
      "New best validation loss: 2.0404\n",
      "Baseline Loss: 5.3058 | Actual Loss: 3.0319\n"
     ]
    },
    {
     "name": "stderr",
     "output_type": "stream",
     "text": [
      "Training:  15%|█▍        | 148/1000 [07:08<41:21,  2.91s/it]"
     ]
    },
    {
     "name": "stdout",
     "output_type": "stream",
     "text": [
      "Baseline Loss: 3.9439 | Actual Loss: 2.2341\n",
      "Epoch 148/1000: Train Loss: 3.0319, Val Loss: 2.2341\n",
      "Baseline Loss: 5.3058 | Actual Loss: 2.9915\n"
     ]
    },
    {
     "name": "stderr",
     "output_type": "stream",
     "text": [
      "Training:  15%|█▍        | 149/1000 [07:11<41:42,  2.94s/it]"
     ]
    },
    {
     "name": "stdout",
     "output_type": "stream",
     "text": [
      "Baseline Loss: 3.9439 | Actual Loss: 2.1646\n",
      "Epoch 149/1000: Train Loss: 2.9915, Val Loss: 2.1646\n",
      "Baseline Loss: 5.3058 | Actual Loss: 2.9730\n"
     ]
    },
    {
     "name": "stderr",
     "output_type": "stream",
     "text": [
      "Training:  15%|█▌        | 150/1000 [07:14<41:59,  2.96s/it]"
     ]
    },
    {
     "name": "stdout",
     "output_type": "stream",
     "text": [
      "Baseline Loss: 3.9439 | Actual Loss: 2.0658\n",
      "Epoch 150/1000: Train Loss: 2.9730, Val Loss: 2.0658\n",
      "Baseline Loss: 5.3058 | Actual Loss: 2.9821\n"
     ]
    },
    {
     "name": "stderr",
     "output_type": "stream",
     "text": [
      "Training:  15%|█▌        | 151/1000 [07:16<40:52,  2.89s/it]"
     ]
    },
    {
     "name": "stdout",
     "output_type": "stream",
     "text": [
      "Baseline Loss: 3.9439 | Actual Loss: 2.1834\n",
      "Epoch 151/1000: Train Loss: 2.9821, Val Loss: 2.1834\n",
      "Baseline Loss: 5.3058 | Actual Loss: 2.9649\n"
     ]
    },
    {
     "name": "stderr",
     "output_type": "stream",
     "text": [
      "Training:  15%|█▌        | 152/1000 [07:19<41:52,  2.96s/it]"
     ]
    },
    {
     "name": "stdout",
     "output_type": "stream",
     "text": [
      "Baseline Loss: 3.9439 | Actual Loss: 2.2650\n",
      "Epoch 152/1000: Train Loss: 2.9649, Val Loss: 2.2650\n"
     ]
    },
    {
     "name": "stderr",
     "output_type": "stream",
     "text": [
      "Training:  15%|█▌        | 153/1000 [07:22<40:20,  2.86s/it]"
     ]
    },
    {
     "name": "stdout",
     "output_type": "stream",
     "text": [
      "Baseline Loss: 5.3058 | Actual Loss: 2.9755\n",
      "Baseline Loss: 3.9439 | Actual Loss: 2.4521\n",
      "Epoch 153/1000: Train Loss: 2.9755, Val Loss: 2.4521\n",
      "Baseline Loss: 5.3058 | Actual Loss: 3.0159\n"
     ]
    },
    {
     "name": "stderr",
     "output_type": "stream",
     "text": [
      "Training:  15%|█▌        | 154/1000 [07:25<40:09,  2.85s/it]"
     ]
    },
    {
     "name": "stdout",
     "output_type": "stream",
     "text": [
      "Baseline Loss: 3.9439 | Actual Loss: 2.3278\n",
      "Epoch 154/1000: Train Loss: 3.0159, Val Loss: 2.3278\n",
      "Baseline Loss: 5.3058 | Actual Loss: 2.8822\n"
     ]
    },
    {
     "name": "stderr",
     "output_type": "stream",
     "text": [
      "Training:  16%|█▌        | 155/1000 [07:27<39:10,  2.78s/it]"
     ]
    },
    {
     "name": "stdout",
     "output_type": "stream",
     "text": [
      "Baseline Loss: 3.9439 | Actual Loss: 2.1642\n",
      "Epoch 155/1000: Train Loss: 2.8822, Val Loss: 2.1642\n"
     ]
    },
    {
     "name": "stderr",
     "output_type": "stream",
     "text": [
      "Training:  16%|█▌        | 156/1000 [07:30<40:05,  2.85s/it]"
     ]
    },
    {
     "name": "stdout",
     "output_type": "stream",
     "text": [
      "Baseline Loss: 5.3058 | Actual Loss: 2.9688\n",
      "Baseline Loss: 3.9439 | Actual Loss: 2.0631\n",
      "Epoch 156/1000: Train Loss: 2.9688, Val Loss: 2.0631\n",
      "Baseline Loss: 5.3058 | Actual Loss: 2.9835\n"
     ]
    },
    {
     "name": "stderr",
     "output_type": "stream",
     "text": [
      "Training:  16%|█▌        | 157/1000 [07:33<39:16,  2.79s/it]"
     ]
    },
    {
     "name": "stdout",
     "output_type": "stream",
     "text": [
      "Baseline Loss: 3.9439 | Actual Loss: 2.1542\n",
      "Epoch 157/1000: Train Loss: 2.9835, Val Loss: 2.1542\n"
     ]
    },
    {
     "name": "stderr",
     "output_type": "stream",
     "text": [
      "Training:  16%|█▌        | 158/1000 [07:36<41:09,  2.93s/it]"
     ]
    },
    {
     "name": "stdout",
     "output_type": "stream",
     "text": [
      "Baseline Loss: 5.3058 | Actual Loss: 2.9442\n",
      "Baseline Loss: 3.9439 | Actual Loss: 2.3747\n",
      "Epoch 158/1000: Train Loss: 2.9442, Val Loss: 2.3747\n"
     ]
    },
    {
     "name": "stderr",
     "output_type": "stream",
     "text": [
      "Training:  16%|█▌        | 159/1000 [07:39<39:46,  2.84s/it]"
     ]
    },
    {
     "name": "stdout",
     "output_type": "stream",
     "text": [
      "Baseline Loss: 5.3059 | Actual Loss: 2.8740\n",
      "Baseline Loss: 3.9439 | Actual Loss: 2.1105\n",
      "Epoch 159/1000: Train Loss: 2.8740, Val Loss: 2.1105\n"
     ]
    },
    {
     "name": "stderr",
     "output_type": "stream",
     "text": [
      "Training:  16%|█▌        | 160/1000 [07:42<39:55,  2.85s/it]"
     ]
    },
    {
     "name": "stdout",
     "output_type": "stream",
     "text": [
      "Baseline Loss: 5.3058 | Actual Loss: 2.9491\n",
      "Baseline Loss: 3.9439 | Actual Loss: 2.4051\n",
      "Epoch 160/1000: Train Loss: 2.9491, Val Loss: 2.4051\n"
     ]
    },
    {
     "name": "stderr",
     "output_type": "stream",
     "text": [
      "Training:  16%|█▌        | 161/1000 [07:45<38:53,  2.78s/it]"
     ]
    },
    {
     "name": "stdout",
     "output_type": "stream",
     "text": [
      "Baseline Loss: 5.3058 | Actual Loss: 2.8787\n",
      "Baseline Loss: 3.9439 | Actual Loss: 2.2772\n",
      "Epoch 161/1000: Train Loss: 2.8787, Val Loss: 2.2772\n"
     ]
    },
    {
     "name": "stderr",
     "output_type": "stream",
     "text": [
      "Training:  16%|█▌        | 162/1000 [07:48<39:54,  2.86s/it]"
     ]
    },
    {
     "name": "stdout",
     "output_type": "stream",
     "text": [
      "Baseline Loss: 5.3058 | Actual Loss: 2.9506\n",
      "Baseline Loss: 3.9439 | Actual Loss: 2.0283\n",
      "Epoch 162/1000: Train Loss: 2.9506, Val Loss: 2.0283\n",
      "New best validation loss: 2.0283\n"
     ]
    },
    {
     "name": "stderr",
     "output_type": "stream",
     "text": [
      "Training:  16%|█▋        | 163/1000 [07:50<38:49,  2.78s/it]"
     ]
    },
    {
     "name": "stdout",
     "output_type": "stream",
     "text": [
      "Baseline Loss: 5.3058 | Actual Loss: 2.8037\n",
      "Baseline Loss: 3.9439 | Actual Loss: 2.0813\n",
      "Epoch 163/1000: Train Loss: 2.8037, Val Loss: 2.0813\n"
     ]
    },
    {
     "name": "stderr",
     "output_type": "stream",
     "text": [
      "Training:  16%|█▋        | 164/1000 [07:53<40:34,  2.91s/it]"
     ]
    },
    {
     "name": "stdout",
     "output_type": "stream",
     "text": [
      "Baseline Loss: 5.3058 | Actual Loss: 2.9183\n",
      "Baseline Loss: 3.9439 | Actual Loss: 2.0977\n",
      "Epoch 164/1000: Train Loss: 2.9183, Val Loss: 2.0977\n"
     ]
    },
    {
     "name": "stderr",
     "output_type": "stream",
     "text": [
      "Training:  16%|█▋        | 165/1000 [07:56<39:43,  2.85s/it]"
     ]
    },
    {
     "name": "stdout",
     "output_type": "stream",
     "text": [
      "Baseline Loss: 5.3058 | Actual Loss: 2.8543\n",
      "Baseline Loss: 3.9439 | Actual Loss: 2.0212\n",
      "Epoch 165/1000: Train Loss: 2.8543, Val Loss: 2.0212\n",
      "New best validation loss: 2.0212\n"
     ]
    },
    {
     "name": "stderr",
     "output_type": "stream",
     "text": [
      "Training:  17%|█▋        | 166/1000 [07:59<39:31,  2.84s/it]"
     ]
    },
    {
     "name": "stdout",
     "output_type": "stream",
     "text": [
      "Baseline Loss: 5.3058 | Actual Loss: 2.8783\n",
      "Baseline Loss: 3.9439 | Actual Loss: 2.1139\n",
      "Epoch 166/1000: Train Loss: 2.8783, Val Loss: 2.1139\n"
     ]
    },
    {
     "name": "stderr",
     "output_type": "stream",
     "text": [
      "Training:  17%|█▋        | 167/1000 [08:02<38:37,  2.78s/it]"
     ]
    },
    {
     "name": "stdout",
     "output_type": "stream",
     "text": [
      "Baseline Loss: 5.3058 | Actual Loss: 2.9631\n",
      "Baseline Loss: 3.9439 | Actual Loss: 2.3507\n",
      "Epoch 167/1000: Train Loss: 2.9631, Val Loss: 2.3507\n",
      "Baseline Loss: 5.3058 | Actual Loss: 2.9114\n"
     ]
    },
    {
     "name": "stderr",
     "output_type": "stream",
     "text": [
      "Training:  17%|█▋        | 168/1000 [08:05<39:57,  2.88s/it]"
     ]
    },
    {
     "name": "stdout",
     "output_type": "stream",
     "text": [
      "Baseline Loss: 3.9439 | Actual Loss: 2.3672\n",
      "Epoch 168/1000: Train Loss: 2.9114, Val Loss: 2.3672\n",
      "Baseline Loss: 5.3058 | Actual Loss: 2.8965\n"
     ]
    },
    {
     "name": "stderr",
     "output_type": "stream",
     "text": [
      "Training:  17%|█▋        | 169/1000 [08:08<40:31,  2.93s/it]"
     ]
    },
    {
     "name": "stdout",
     "output_type": "stream",
     "text": [
      "Baseline Loss: 3.9439 | Actual Loss: 2.2486\n",
      "Epoch 169/1000: Train Loss: 2.8965, Val Loss: 2.2486\n"
     ]
    },
    {
     "name": "stderr",
     "output_type": "stream",
     "text": [
      "Training:  17%|█▋        | 170/1000 [08:11<40:03,  2.90s/it]"
     ]
    },
    {
     "name": "stdout",
     "output_type": "stream",
     "text": [
      "Baseline Loss: 5.3058 | Actual Loss: 2.9009\n",
      "Baseline Loss: 3.9439 | Actual Loss: 2.0713\n",
      "Epoch 170/1000: Train Loss: 2.9009, Val Loss: 2.0713\n",
      "Baseline Loss: 5.3058 | Actual Loss: 2.8555\n"
     ]
    },
    {
     "name": "stderr",
     "output_type": "stream",
     "text": [
      "Training:  17%|█▋        | 171/1000 [08:14<40:25,  2.93s/it]"
     ]
    },
    {
     "name": "stdout",
     "output_type": "stream",
     "text": [
      "Baseline Loss: 3.9439 | Actual Loss: 2.1241\n",
      "Epoch 171/1000: Train Loss: 2.8555, Val Loss: 2.1241\n"
     ]
    },
    {
     "name": "stderr",
     "output_type": "stream",
     "text": [
      "Training:  17%|█▋        | 172/1000 [08:17<40:44,  2.95s/it]"
     ]
    },
    {
     "name": "stdout",
     "output_type": "stream",
     "text": [
      "Baseline Loss: 5.3058 | Actual Loss: 2.8771\n",
      "Baseline Loss: 3.9439 | Actual Loss: 2.1664\n",
      "Epoch 172/1000: Train Loss: 2.8771, Val Loss: 2.1664\n"
     ]
    },
    {
     "name": "stderr",
     "output_type": "stream",
     "text": [
      "Training:  17%|█▋        | 173/1000 [08:19<40:25,  2.93s/it]"
     ]
    },
    {
     "name": "stdout",
     "output_type": "stream",
     "text": [
      "Baseline Loss: 5.3058 | Actual Loss: 2.8144\n",
      "Baseline Loss: 3.9439 | Actual Loss: 2.0723\n",
      "Epoch 173/1000: Train Loss: 2.8144, Val Loss: 2.0723\n",
      "Baseline Loss: 5.3058 | Actual Loss: 2.9094\n"
     ]
    },
    {
     "name": "stderr",
     "output_type": "stream",
     "text": [
      "Training:  17%|█▋        | 174/1000 [08:22<39:13,  2.85s/it]"
     ]
    },
    {
     "name": "stdout",
     "output_type": "stream",
     "text": [
      "Baseline Loss: 3.9439 | Actual Loss: 2.3018\n",
      "Epoch 174/1000: Train Loss: 2.9094, Val Loss: 2.3018\n"
     ]
    },
    {
     "name": "stderr",
     "output_type": "stream",
     "text": [
      "Training:  18%|█▊        | 175/1000 [08:25<41:15,  3.00s/it]"
     ]
    },
    {
     "name": "stdout",
     "output_type": "stream",
     "text": [
      "Baseline Loss: 5.3058 | Actual Loss: 2.9071\n",
      "Baseline Loss: 3.9439 | Actual Loss: 2.2705\n",
      "Epoch 175/1000: Train Loss: 2.9071, Val Loss: 2.2705\n",
      "Baseline Loss: 5.3058 | Actual Loss: 2.9468\n"
     ]
    },
    {
     "name": "stderr",
     "output_type": "stream",
     "text": [
      "Training:  18%|█▊        | 176/1000 [08:28<39:28,  2.87s/it]"
     ]
    },
    {
     "name": "stdout",
     "output_type": "stream",
     "text": [
      "Baseline Loss: 3.9439 | Actual Loss: 2.2656\n",
      "Epoch 176/1000: Train Loss: 2.9468, Val Loss: 2.2656\n"
     ]
    },
    {
     "name": "stderr",
     "output_type": "stream",
     "text": [
      "Training:  18%|█▊        | 177/1000 [08:31<39:16,  2.86s/it]"
     ]
    },
    {
     "name": "stdout",
     "output_type": "stream",
     "text": [
      "Baseline Loss: 5.3058 | Actual Loss: 2.8750\n",
      "Baseline Loss: 3.9439 | Actual Loss: 2.0128\n",
      "Epoch 177/1000: Train Loss: 2.8750, Val Loss: 2.0128\n",
      "New best validation loss: 2.0128\n",
      "Baseline Loss: 5.3058 | Actual Loss: 2.7686\n"
     ]
    },
    {
     "name": "stderr",
     "output_type": "stream",
     "text": [
      "Training:  18%|█▊        | 178/1000 [08:33<38:12,  2.79s/it]"
     ]
    },
    {
     "name": "stdout",
     "output_type": "stream",
     "text": [
      "Baseline Loss: 3.9439 | Actual Loss: 2.0280\n",
      "Epoch 178/1000: Train Loss: 2.7686, Val Loss: 2.0280\n",
      "Baseline Loss: 5.3058 | Actual Loss: 2.8299\n"
     ]
    },
    {
     "name": "stderr",
     "output_type": "stream",
     "text": [
      "Training:  18%|█▊        | 179/1000 [08:36<38:18,  2.80s/it]"
     ]
    },
    {
     "name": "stdout",
     "output_type": "stream",
     "text": [
      "Baseline Loss: 3.9439 | Actual Loss: 2.1716\n",
      "Epoch 179/1000: Train Loss: 2.8299, Val Loss: 2.1716\n"
     ]
    },
    {
     "name": "stderr",
     "output_type": "stream",
     "text": [
      "Training:  18%|█▊        | 180/1000 [08:39<38:49,  2.84s/it]"
     ]
    },
    {
     "name": "stdout",
     "output_type": "stream",
     "text": [
      "Baseline Loss: 5.3058 | Actual Loss: 2.8328\n",
      "Baseline Loss: 3.9439 | Actual Loss: 2.3665\n",
      "Epoch 180/1000: Train Loss: 2.8328, Val Loss: 2.3665\n"
     ]
    },
    {
     "name": "stderr",
     "output_type": "stream",
     "text": [
      "Training:  18%|█▊        | 181/1000 [08:42<39:22,  2.88s/it]"
     ]
    },
    {
     "name": "stdout",
     "output_type": "stream",
     "text": [
      "Baseline Loss: 5.3058 | Actual Loss: 2.8335\n",
      "Baseline Loss: 3.9439 | Actual Loss: 2.2371\n",
      "Epoch 181/1000: Train Loss: 2.8335, Val Loss: 2.2371\n",
      "Baseline Loss: 5.3058 | Actual Loss: 2.7915\n"
     ]
    },
    {
     "name": "stderr",
     "output_type": "stream",
     "text": [
      "Training:  18%|█▊        | 182/1000 [08:45<39:52,  2.92s/it]"
     ]
    },
    {
     "name": "stdout",
     "output_type": "stream",
     "text": [
      "Baseline Loss: 3.9439 | Actual Loss: 2.3960\n",
      "Epoch 182/1000: Train Loss: 2.7915, Val Loss: 2.3960\n"
     ]
    },
    {
     "name": "stderr",
     "output_type": "stream",
     "text": [
      "Training:  18%|█▊        | 183/1000 [08:48<39:23,  2.89s/it]"
     ]
    },
    {
     "name": "stdout",
     "output_type": "stream",
     "text": [
      "Baseline Loss: 5.3058 | Actual Loss: 2.8002\n",
      "Baseline Loss: 3.9439 | Actual Loss: 2.3190\n",
      "Epoch 183/1000: Train Loss: 2.8002, Val Loss: 2.3190\n",
      "Baseline Loss: 5.3058 | Actual Loss: 2.8819\n"
     ]
    },
    {
     "name": "stderr",
     "output_type": "stream",
     "text": [
      "Training:  18%|█▊        | 184/1000 [08:51<40:29,  2.98s/it]"
     ]
    },
    {
     "name": "stdout",
     "output_type": "stream",
     "text": [
      "Baseline Loss: 3.9439 | Actual Loss: 2.3089\n",
      "Epoch 184/1000: Train Loss: 2.8819, Val Loss: 2.3089\n",
      "Baseline Loss: 5.3058 | Actual Loss: 2.8146\n"
     ]
    },
    {
     "name": "stderr",
     "output_type": "stream",
     "text": [
      "Training:  18%|█▊        | 185/1000 [08:54<39:05,  2.88s/it]"
     ]
    },
    {
     "name": "stdout",
     "output_type": "stream",
     "text": [
      "Baseline Loss: 3.9439 | Actual Loss: 2.1563\n",
      "Epoch 185/1000: Train Loss: 2.8146, Val Loss: 2.1563\n",
      "Baseline Loss: 5.3058 | Actual Loss: 2.7982\n"
     ]
    },
    {
     "name": "stderr",
     "output_type": "stream",
     "text": [
      "Training:  19%|█▊        | 186/1000 [08:57<39:49,  2.94s/it]"
     ]
    },
    {
     "name": "stdout",
     "output_type": "stream",
     "text": [
      "Baseline Loss: 3.9439 | Actual Loss: 2.2551\n",
      "Epoch 186/1000: Train Loss: 2.7982, Val Loss: 2.2551\n",
      "Baseline Loss: 5.3058 | Actual Loss: 2.7848\n"
     ]
    },
    {
     "name": "stderr",
     "output_type": "stream",
     "text": [
      "Training:  19%|█▊        | 187/1000 [09:00<40:04,  2.96s/it]"
     ]
    },
    {
     "name": "stdout",
     "output_type": "stream",
     "text": [
      "Baseline Loss: 3.9439 | Actual Loss: 2.4694\n",
      "Epoch 187/1000: Train Loss: 2.7848, Val Loss: 2.4694\n",
      "Baseline Loss: 5.3058 | Actual Loss: 2.7541\n"
     ]
    },
    {
     "name": "stderr",
     "output_type": "stream",
     "text": [
      "Training:  19%|█▉        | 188/1000 [09:03<38:59,  2.88s/it]"
     ]
    },
    {
     "name": "stdout",
     "output_type": "stream",
     "text": [
      "Baseline Loss: 3.9439 | Actual Loss: 2.2138\n",
      "Epoch 188/1000: Train Loss: 2.7541, Val Loss: 2.2138\n",
      "Baseline Loss: 5.3058 | Actual Loss: 2.7712\n"
     ]
    },
    {
     "name": "stderr",
     "output_type": "stream",
     "text": [
      "Training:  19%|█▉        | 189/1000 [09:06<39:38,  2.93s/it]"
     ]
    },
    {
     "name": "stdout",
     "output_type": "stream",
     "text": [
      "Baseline Loss: 3.9439 | Actual Loss: 2.4271\n",
      "Epoch 189/1000: Train Loss: 2.7712, Val Loss: 2.4271\n",
      "Baseline Loss: 5.3058 | Actual Loss: 2.7511\n"
     ]
    },
    {
     "name": "stderr",
     "output_type": "stream",
     "text": [
      "Training:  19%|█▉        | 190/1000 [09:09<39:08,  2.90s/it]"
     ]
    },
    {
     "name": "stdout",
     "output_type": "stream",
     "text": [
      "Baseline Loss: 3.9439 | Actual Loss: 2.0762\n",
      "Epoch 190/1000: Train Loss: 2.7511, Val Loss: 2.0762\n",
      "Baseline Loss: 5.3058 | Actual Loss: 2.8177\n"
     ]
    },
    {
     "name": "stderr",
     "output_type": "stream",
     "text": [
      "Training:  19%|█▉        | 191/1000 [09:11<39:01,  2.89s/it]"
     ]
    },
    {
     "name": "stdout",
     "output_type": "stream",
     "text": [
      "Baseline Loss: 3.9439 | Actual Loss: 2.4938\n",
      "Epoch 191/1000: Train Loss: 2.8177, Val Loss: 2.4938\n",
      "Baseline Loss: 5.3058 | Actual Loss: 2.8145\n"
     ]
    },
    {
     "name": "stderr",
     "output_type": "stream",
     "text": [
      "Training:  19%|█▉        | 192/1000 [09:14<39:23,  2.93s/it]"
     ]
    },
    {
     "name": "stdout",
     "output_type": "stream",
     "text": [
      "Baseline Loss: 3.9439 | Actual Loss: 2.1979\n",
      "Epoch 192/1000: Train Loss: 2.8145, Val Loss: 2.1979\n",
      "Baseline Loss: 5.3058 | Actual Loss: 2.7150\n"
     ]
    },
    {
     "name": "stderr",
     "output_type": "stream",
     "text": [
      "Training:  19%|█▉        | 193/1000 [09:17<39:00,  2.90s/it]"
     ]
    },
    {
     "name": "stdout",
     "output_type": "stream",
     "text": [
      "Baseline Loss: 3.9439 | Actual Loss: 2.3598\n",
      "Epoch 193/1000: Train Loss: 2.7150, Val Loss: 2.3598\n",
      "Baseline Loss: 5.3058 | Actual Loss: 2.7726\n"
     ]
    },
    {
     "name": "stderr",
     "output_type": "stream",
     "text": [
      "Training:  19%|█▉        | 194/1000 [09:20<38:53,  2.90s/it]"
     ]
    },
    {
     "name": "stdout",
     "output_type": "stream",
     "text": [
      "Baseline Loss: 3.9439 | Actual Loss: 2.0226\n",
      "Epoch 194/1000: Train Loss: 2.7726, Val Loss: 2.0226\n",
      "Baseline Loss: 5.3058 | Actual Loss: 2.8233\n"
     ]
    },
    {
     "name": "stderr",
     "output_type": "stream",
     "text": [
      "Training:  20%|█▉        | 195/1000 [09:23<38:08,  2.84s/it]"
     ]
    },
    {
     "name": "stdout",
     "output_type": "stream",
     "text": [
      "Baseline Loss: 3.9439 | Actual Loss: 2.0998\n",
      "Epoch 195/1000: Train Loss: 2.8233, Val Loss: 2.0998\n",
      "Baseline Loss: 5.3058 | Actual Loss: 2.7158\n"
     ]
    },
    {
     "name": "stderr",
     "output_type": "stream",
     "text": [
      "Training:  20%|█▉        | 196/1000 [09:26<39:11,  2.92s/it]"
     ]
    },
    {
     "name": "stdout",
     "output_type": "stream",
     "text": [
      "Baseline Loss: 3.9439 | Actual Loss: 2.0092\n",
      "Epoch 196/1000: Train Loss: 2.7158, Val Loss: 2.0092\n",
      "New best validation loss: 2.0092\n",
      "Baseline Loss: 5.3058 | Actual Loss: 2.7288\n"
     ]
    },
    {
     "name": "stderr",
     "output_type": "stream",
     "text": [
      "Training:  20%|█▉        | 197/1000 [09:29<38:56,  2.91s/it]"
     ]
    },
    {
     "name": "stdout",
     "output_type": "stream",
     "text": [
      "Baseline Loss: 3.9439 | Actual Loss: 2.2710\n",
      "Epoch 197/1000: Train Loss: 2.7288, Val Loss: 2.2710\n",
      "Baseline Loss: 5.3058 | Actual Loss: 2.7904\n"
     ]
    },
    {
     "name": "stderr",
     "output_type": "stream",
     "text": [
      "Training:  20%|█▉        | 198/1000 [09:32<38:16,  2.86s/it]"
     ]
    },
    {
     "name": "stdout",
     "output_type": "stream",
     "text": [
      "Baseline Loss: 3.9439 | Actual Loss: 2.3399\n",
      "Epoch 198/1000: Train Loss: 2.7904, Val Loss: 2.3399\n",
      "Baseline Loss: 5.3058 | Actual Loss: 2.6999\n"
     ]
    },
    {
     "name": "stderr",
     "output_type": "stream",
     "text": [
      "Training:  20%|█▉        | 199/1000 [09:35<39:00,  2.92s/it]"
     ]
    },
    {
     "name": "stdout",
     "output_type": "stream",
     "text": [
      "Baseline Loss: 3.9439 | Actual Loss: 2.2249\n",
      "Epoch 199/1000: Train Loss: 2.6999, Val Loss: 2.2249\n",
      "Baseline Loss: 5.3058 | Actual Loss: 2.7101\n"
     ]
    },
    {
     "name": "stderr",
     "output_type": "stream",
     "text": [
      "Training:  20%|██        | 200/1000 [09:38<38:45,  2.91s/it]"
     ]
    },
    {
     "name": "stdout",
     "output_type": "stream",
     "text": [
      "Baseline Loss: 3.9439 | Actual Loss: 2.0824\n",
      "Epoch 200/1000: Train Loss: 2.7101, Val Loss: 2.0824\n",
      "Baseline Loss: 5.3058 | Actual Loss: 2.6898\n"
     ]
    },
    {
     "name": "stderr",
     "output_type": "stream",
     "text": [
      "Training:  20%|██        | 201/1000 [09:40<38:28,  2.89s/it]"
     ]
    },
    {
     "name": "stdout",
     "output_type": "stream",
     "text": [
      "Baseline Loss: 3.9439 | Actual Loss: 2.1840\n",
      "Epoch 201/1000: Train Loss: 2.6898, Val Loss: 2.1840\n",
      "Baseline Loss: 5.3058 | Actual Loss: 2.7865\n"
     ]
    },
    {
     "name": "stderr",
     "output_type": "stream",
     "text": [
      "Training:  20%|██        | 202/1000 [09:43<37:31,  2.82s/it]"
     ]
    },
    {
     "name": "stdout",
     "output_type": "stream",
     "text": [
      "Baseline Loss: 3.9439 | Actual Loss: 2.2738\n",
      "Epoch 202/1000: Train Loss: 2.7865, Val Loss: 2.2738\n",
      "Baseline Loss: 5.3058 | Actual Loss: 2.6488\n"
     ]
    },
    {
     "name": "stderr",
     "output_type": "stream",
     "text": [
      "Training:  20%|██        | 203/1000 [09:46<38:10,  2.87s/it]"
     ]
    },
    {
     "name": "stdout",
     "output_type": "stream",
     "text": [
      "Baseline Loss: 3.9439 | Actual Loss: 2.2405\n",
      "Epoch 203/1000: Train Loss: 2.6488, Val Loss: 2.2405\n",
      "Baseline Loss: 5.3058 | Actual Loss: 2.6739\n"
     ]
    },
    {
     "name": "stderr",
     "output_type": "stream",
     "text": [
      "Training:  20%|██        | 204/1000 [09:49<37:59,  2.86s/it]"
     ]
    },
    {
     "name": "stdout",
     "output_type": "stream",
     "text": [
      "Baseline Loss: 3.9439 | Actual Loss: 2.0124\n",
      "Epoch 204/1000: Train Loss: 2.6739, Val Loss: 2.0124\n"
     ]
    },
    {
     "name": "stderr",
     "output_type": "stream",
     "text": [
      "Training:  20%|██        | 205/1000 [09:52<37:52,  2.86s/it]"
     ]
    },
    {
     "name": "stdout",
     "output_type": "stream",
     "text": [
      "Baseline Loss: 5.3058 | Actual Loss: 2.7326\n",
      "Baseline Loss: 3.9439 | Actual Loss: 2.0676\n",
      "Epoch 205/1000: Train Loss: 2.7326, Val Loss: 2.0676\n",
      "Baseline Loss: 5.3058 | Actual Loss: 2.7567\n"
     ]
    },
    {
     "name": "stderr",
     "output_type": "stream",
     "text": [
      "Training:  21%|██        | 206/1000 [09:54<37:20,  2.82s/it]"
     ]
    },
    {
     "name": "stdout",
     "output_type": "stream",
     "text": [
      "Baseline Loss: 3.9439 | Actual Loss: 2.1601\n",
      "Epoch 206/1000: Train Loss: 2.7567, Val Loss: 2.1601\n",
      "Baseline Loss: 5.3058 | Actual Loss: 2.6971\n"
     ]
    },
    {
     "name": "stderr",
     "output_type": "stream",
     "text": [
      "Training:  21%|██        | 207/1000 [09:58<38:32,  2.92s/it]"
     ]
    },
    {
     "name": "stdout",
     "output_type": "stream",
     "text": [
      "Baseline Loss: 3.9439 | Actual Loss: 2.0404\n",
      "Epoch 207/1000: Train Loss: 2.6971, Val Loss: 2.0404\n",
      "Baseline Loss: 5.3058 | Actual Loss: 2.6468\n"
     ]
    },
    {
     "name": "stderr",
     "output_type": "stream",
     "text": [
      "Training:  21%|██        | 208/1000 [10:01<39:19,  2.98s/it]"
     ]
    },
    {
     "name": "stdout",
     "output_type": "stream",
     "text": [
      "Baseline Loss: 3.9439 | Actual Loss: 2.1821\n",
      "Epoch 208/1000: Train Loss: 2.6468, Val Loss: 2.1821\n",
      "Baseline Loss: 5.3058 | Actual Loss: 2.7178\n"
     ]
    },
    {
     "name": "stderr",
     "output_type": "stream",
     "text": [
      "Training:  21%|██        | 209/1000 [10:03<38:24,  2.91s/it]"
     ]
    },
    {
     "name": "stdout",
     "output_type": "stream",
     "text": [
      "Baseline Loss: 3.9439 | Actual Loss: 2.3919\n",
      "Epoch 209/1000: Train Loss: 2.7178, Val Loss: 2.3919\n",
      "Baseline Loss: 5.3058 | Actual Loss: 2.7030\n"
     ]
    },
    {
     "name": "stderr",
     "output_type": "stream",
     "text": [
      "Training:  21%|██        | 210/1000 [10:07<40:53,  3.11s/it]"
     ]
    },
    {
     "name": "stdout",
     "output_type": "stream",
     "text": [
      "Baseline Loss: 3.9439 | Actual Loss: 2.4217\n",
      "Epoch 210/1000: Train Loss: 2.7030, Val Loss: 2.4217\n",
      "Baseline Loss: 5.3058 | Actual Loss: 2.7369\n"
     ]
    },
    {
     "name": "stderr",
     "output_type": "stream",
     "text": [
      "Training:  21%|██        | 211/1000 [10:10<39:00,  2.97s/it]"
     ]
    },
    {
     "name": "stdout",
     "output_type": "stream",
     "text": [
      "Baseline Loss: 3.9439 | Actual Loss: 2.0329\n",
      "Epoch 211/1000: Train Loss: 2.7369, Val Loss: 2.0329\n"
     ]
    },
    {
     "name": "stderr",
     "output_type": "stream",
     "text": [
      "Training:  21%|██        | 212/1000 [10:13<39:47,  3.03s/it]"
     ]
    },
    {
     "name": "stdout",
     "output_type": "stream",
     "text": [
      "Baseline Loss: 5.3058 | Actual Loss: 2.6728\n",
      "Baseline Loss: 3.9439 | Actual Loss: 2.2600\n",
      "Epoch 212/1000: Train Loss: 2.6728, Val Loss: 2.2600\n",
      "Baseline Loss: 5.3058 | Actual Loss: 2.6475\n"
     ]
    },
    {
     "name": "stderr",
     "output_type": "stream",
     "text": [
      "Training:  21%|██▏       | 213/1000 [10:16<38:20,  2.92s/it]"
     ]
    },
    {
     "name": "stdout",
     "output_type": "stream",
     "text": [
      "Baseline Loss: 3.9439 | Actual Loss: 2.2511\n",
      "Epoch 213/1000: Train Loss: 2.6475, Val Loss: 2.2511\n",
      "Baseline Loss: 5.3058 | Actual Loss: 2.6645\n"
     ]
    },
    {
     "name": "stderr",
     "output_type": "stream",
     "text": [
      "Training:  21%|██▏       | 214/1000 [10:18<38:26,  2.93s/it]"
     ]
    },
    {
     "name": "stdout",
     "output_type": "stream",
     "text": [
      "Baseline Loss: 3.9439 | Actual Loss: 2.0414\n",
      "Epoch 214/1000: Train Loss: 2.6645, Val Loss: 2.0414\n",
      "Baseline Loss: 5.3058 | Actual Loss: 2.7109\n"
     ]
    },
    {
     "name": "stderr",
     "output_type": "stream",
     "text": [
      "Training:  22%|██▏       | 215/1000 [10:21<37:55,  2.90s/it]"
     ]
    },
    {
     "name": "stdout",
     "output_type": "stream",
     "text": [
      "Baseline Loss: 3.9439 | Actual Loss: 2.1198\n",
      "Epoch 215/1000: Train Loss: 2.7109, Val Loss: 2.1198\n",
      "Baseline Loss: 5.3058 | Actual Loss: 2.6660\n"
     ]
    },
    {
     "name": "stderr",
     "output_type": "stream",
     "text": [
      "Training:  22%|██▏       | 216/1000 [10:24<39:03,  2.99s/it]"
     ]
    },
    {
     "name": "stdout",
     "output_type": "stream",
     "text": [
      "Baseline Loss: 3.9439 | Actual Loss: 2.0942\n",
      "Epoch 216/1000: Train Loss: 2.6660, Val Loss: 2.0942\n",
      "Baseline Loss: 5.3058 | Actual Loss: 2.7014\n"
     ]
    },
    {
     "name": "stderr",
     "output_type": "stream",
     "text": [
      "Training:  22%|██▏       | 217/1000 [10:27<38:03,  2.92s/it]"
     ]
    },
    {
     "name": "stdout",
     "output_type": "stream",
     "text": [
      "Baseline Loss: 3.9439 | Actual Loss: 1.9537\n",
      "Epoch 217/1000: Train Loss: 2.7014, Val Loss: 1.9537\n",
      "New best validation loss: 1.9537\n",
      "Baseline Loss: 5.3058 | Actual Loss: 2.6286\n"
     ]
    },
    {
     "name": "stderr",
     "output_type": "stream",
     "text": [
      "Training:  22%|██▏       | 218/1000 [10:31<39:27,  3.03s/it]"
     ]
    },
    {
     "name": "stdout",
     "output_type": "stream",
     "text": [
      "Baseline Loss: 3.9439 | Actual Loss: 2.0926\n",
      "Epoch 218/1000: Train Loss: 2.6286, Val Loss: 2.0926\n",
      "Baseline Loss: 5.3058 | Actual Loss: 2.5649\n"
     ]
    },
    {
     "name": "stderr",
     "output_type": "stream",
     "text": [
      "Training:  22%|██▏       | 219/1000 [10:33<38:26,  2.95s/it]"
     ]
    },
    {
     "name": "stdout",
     "output_type": "stream",
     "text": [
      "Baseline Loss: 3.9439 | Actual Loss: 2.1372\n",
      "Epoch 219/1000: Train Loss: 2.5649, Val Loss: 2.1372\n",
      "Baseline Loss: 5.3058 | Actual Loss: 2.6583\n"
     ]
    },
    {
     "name": "stderr",
     "output_type": "stream",
     "text": [
      "Training:  22%|██▏       | 220/1000 [10:36<38:39,  2.97s/it]"
     ]
    },
    {
     "name": "stdout",
     "output_type": "stream",
     "text": [
      "Baseline Loss: 3.9439 | Actual Loss: 2.4035\n",
      "Epoch 220/1000: Train Loss: 2.6583, Val Loss: 2.4035\n",
      "Baseline Loss: 5.3058 | Actual Loss: 2.6014\n"
     ]
    },
    {
     "name": "stderr",
     "output_type": "stream",
     "text": [
      "Training:  22%|██▏       | 221/1000 [10:39<37:51,  2.92s/it]"
     ]
    },
    {
     "name": "stdout",
     "output_type": "stream",
     "text": [
      "Baseline Loss: 3.9439 | Actual Loss: 2.2484\n",
      "Epoch 221/1000: Train Loss: 2.6014, Val Loss: 2.2484\n",
      "Baseline Loss: 5.3058 | Actual Loss: 2.6638\n"
     ]
    },
    {
     "name": "stderr",
     "output_type": "stream",
     "text": [
      "Training:  22%|██▏       | 222/1000 [10:42<38:51,  3.00s/it]"
     ]
    },
    {
     "name": "stdout",
     "output_type": "stream",
     "text": [
      "Baseline Loss: 3.9439 | Actual Loss: 2.4648\n",
      "Epoch 222/1000: Train Loss: 2.6638, Val Loss: 2.4648\n",
      "Baseline Loss: 5.3058 | Actual Loss: 2.6235\n"
     ]
    },
    {
     "name": "stderr",
     "output_type": "stream",
     "text": [
      "Training:  22%|██▏       | 223/1000 [10:45<38:42,  2.99s/it]"
     ]
    },
    {
     "name": "stdout",
     "output_type": "stream",
     "text": [
      "Baseline Loss: 3.9439 | Actual Loss: 2.0120\n",
      "Epoch 223/1000: Train Loss: 2.6235, Val Loss: 2.0120\n",
      "Baseline Loss: 5.3058 | Actual Loss: 2.6590\n"
     ]
    },
    {
     "name": "stderr",
     "output_type": "stream",
     "text": [
      "Training:  22%|██▏       | 224/1000 [10:48<38:17,  2.96s/it]"
     ]
    },
    {
     "name": "stdout",
     "output_type": "stream",
     "text": [
      "Baseline Loss: 3.9439 | Actual Loss: 2.1890\n",
      "Epoch 224/1000: Train Loss: 2.6590, Val Loss: 2.1890\n",
      "Baseline Loss: 5.3058 | Actual Loss: 2.6324\n"
     ]
    },
    {
     "name": "stderr",
     "output_type": "stream",
     "text": [
      "Training:  22%|██▎       | 225/1000 [10:51<37:52,  2.93s/it]"
     ]
    },
    {
     "name": "stdout",
     "output_type": "stream",
     "text": [
      "Baseline Loss: 3.9439 | Actual Loss: 2.2423\n",
      "Epoch 225/1000: Train Loss: 2.6324, Val Loss: 2.2423\n",
      "Baseline Loss: 5.3058 | Actual Loss: 2.6631\n"
     ]
    },
    {
     "name": "stderr",
     "output_type": "stream",
     "text": [
      "Training:  23%|██▎       | 226/1000 [10:54<38:05,  2.95s/it]"
     ]
    },
    {
     "name": "stdout",
     "output_type": "stream",
     "text": [
      "Baseline Loss: 3.9439 | Actual Loss: 1.9110\n",
      "Epoch 226/1000: Train Loss: 2.6631, Val Loss: 1.9110\n",
      "New best validation loss: 1.9110\n",
      "Baseline Loss: 5.3058 | Actual Loss: 2.5792\n"
     ]
    },
    {
     "name": "stderr",
     "output_type": "stream",
     "text": [
      "Training:  23%|██▎       | 227/1000 [10:57<37:36,  2.92s/it]"
     ]
    },
    {
     "name": "stdout",
     "output_type": "stream",
     "text": [
      "Baseline Loss: 3.9439 | Actual Loss: 2.0368\n",
      "Epoch 227/1000: Train Loss: 2.5792, Val Loss: 2.0368\n",
      "Baseline Loss: 5.3058 | Actual Loss: 2.6463\n"
     ]
    },
    {
     "name": "stderr",
     "output_type": "stream",
     "text": [
      "Training:  23%|██▎       | 228/1000 [11:00<37:24,  2.91s/it]"
     ]
    },
    {
     "name": "stdout",
     "output_type": "stream",
     "text": [
      "Baseline Loss: 3.9439 | Actual Loss: 2.2491\n",
      "Epoch 228/1000: Train Loss: 2.6463, Val Loss: 2.2491\n",
      "Baseline Loss: 5.3058 | Actual Loss: 2.5973\n"
     ]
    },
    {
     "name": "stderr",
     "output_type": "stream",
     "text": [
      "Training:  23%|██▎       | 229/1000 [11:03<37:00,  2.88s/it]"
     ]
    },
    {
     "name": "stdout",
     "output_type": "stream",
     "text": [
      "Baseline Loss: 3.9439 | Actual Loss: 2.3701\n",
      "Epoch 229/1000: Train Loss: 2.5973, Val Loss: 2.3701\n",
      "Baseline Loss: 5.3058 | Actual Loss: 2.6107\n"
     ]
    },
    {
     "name": "stderr",
     "output_type": "stream",
     "text": [
      "Training:  23%|██▎       | 230/1000 [11:06<37:49,  2.95s/it]"
     ]
    },
    {
     "name": "stdout",
     "output_type": "stream",
     "text": [
      "Baseline Loss: 3.9439 | Actual Loss: 2.0316\n",
      "Epoch 230/1000: Train Loss: 2.6107, Val Loss: 2.0316\n",
      "Baseline Loss: 5.3058 | Actual Loss: 2.6074\n"
     ]
    },
    {
     "name": "stderr",
     "output_type": "stream",
     "text": [
      "Training:  23%|██▎       | 231/1000 [11:09<37:23,  2.92s/it]"
     ]
    },
    {
     "name": "stdout",
     "output_type": "stream",
     "text": [
      "Baseline Loss: 3.9439 | Actual Loss: 2.1427\n",
      "Epoch 231/1000: Train Loss: 2.6074, Val Loss: 2.1427\n"
     ]
    },
    {
     "name": "stderr",
     "output_type": "stream",
     "text": [
      "Training:  23%|██▎       | 232/1000 [11:12<38:23,  3.00s/it]"
     ]
    },
    {
     "name": "stdout",
     "output_type": "stream",
     "text": [
      "Baseline Loss: 5.3058 | Actual Loss: 2.5710\n",
      "Baseline Loss: 3.9439 | Actual Loss: 2.5948\n",
      "Epoch 232/1000: Train Loss: 2.5710, Val Loss: 2.5948\n",
      "Baseline Loss: 5.3058 | Actual Loss: 2.5577\n"
     ]
    },
    {
     "name": "stderr",
     "output_type": "stream",
     "text": [
      "Training:  23%|██▎       | 233/1000 [11:14<37:12,  2.91s/it]"
     ]
    },
    {
     "name": "stdout",
     "output_type": "stream",
     "text": [
      "Baseline Loss: 3.9439 | Actual Loss: 2.6509\n",
      "Epoch 233/1000: Train Loss: 2.5577, Val Loss: 2.6509\n",
      "Baseline Loss: 5.3058 | Actual Loss: 2.5666\n"
     ]
    },
    {
     "name": "stderr",
     "output_type": "stream",
     "text": [
      "Training:  23%|██▎       | 234/1000 [11:17<37:19,  2.92s/it]"
     ]
    },
    {
     "name": "stdout",
     "output_type": "stream",
     "text": [
      "Baseline Loss: 3.9439 | Actual Loss: 2.4539\n",
      "Epoch 234/1000: Train Loss: 2.5666, Val Loss: 2.4539\n",
      "Baseline Loss: 5.3058 | Actual Loss: 2.6169\n"
     ]
    },
    {
     "name": "stderr",
     "output_type": "stream",
     "text": [
      "Training:  24%|██▎       | 235/1000 [11:20<37:01,  2.90s/it]"
     ]
    },
    {
     "name": "stdout",
     "output_type": "stream",
     "text": [
      "Baseline Loss: 3.9439 | Actual Loss: 2.4151\n",
      "Epoch 235/1000: Train Loss: 2.6169, Val Loss: 2.4151\n",
      "Baseline Loss: 5.3058 | Actual Loss: 2.6861\n"
     ]
    },
    {
     "name": "stderr",
     "output_type": "stream",
     "text": [
      "Training:  24%|██▎       | 236/1000 [11:23<37:29,  2.94s/it]"
     ]
    },
    {
     "name": "stdout",
     "output_type": "stream",
     "text": [
      "Baseline Loss: 3.9439 | Actual Loss: 2.5786\n",
      "Epoch 236/1000: Train Loss: 2.6861, Val Loss: 2.5786\n",
      "Baseline Loss: 5.3058 | Actual Loss: 2.6057\n"
     ]
    },
    {
     "name": "stderr",
     "output_type": "stream",
     "text": [
      "Training:  24%|██▎       | 237/1000 [11:26<37:13,  2.93s/it]"
     ]
    },
    {
     "name": "stdout",
     "output_type": "stream",
     "text": [
      "Baseline Loss: 3.9439 | Actual Loss: 2.2998\n",
      "Epoch 237/1000: Train Loss: 2.6057, Val Loss: 2.2998\n"
     ]
    },
    {
     "name": "stderr",
     "output_type": "stream",
     "text": [
      "Training:  24%|██▍       | 238/1000 [11:29<36:47,  2.90s/it]"
     ]
    },
    {
     "name": "stdout",
     "output_type": "stream",
     "text": [
      "Baseline Loss: 5.3058 | Actual Loss: 2.6081\n",
      "Baseline Loss: 3.9439 | Actual Loss: 2.3645\n",
      "Epoch 238/1000: Train Loss: 2.6081, Val Loss: 2.3645\n",
      "Baseline Loss: 5.3058 | Actual Loss: 2.5794\n"
     ]
    },
    {
     "name": "stderr",
     "output_type": "stream",
     "text": [
      "Training:  24%|██▍       | 239/1000 [11:32<36:17,  2.86s/it]"
     ]
    },
    {
     "name": "stdout",
     "output_type": "stream",
     "text": [
      "Baseline Loss: 3.9439 | Actual Loss: 2.0753\n",
      "Epoch 239/1000: Train Loss: 2.5794, Val Loss: 2.0753\n",
      "Baseline Loss: 5.3058 | Actual Loss: 2.5877\n"
     ]
    },
    {
     "name": "stderr",
     "output_type": "stream",
     "text": [
      "Training:  24%|██▍       | 240/1000 [11:35<36:42,  2.90s/it]"
     ]
    },
    {
     "name": "stdout",
     "output_type": "stream",
     "text": [
      "Baseline Loss: 3.9439 | Actual Loss: 2.0248\n",
      "Epoch 240/1000: Train Loss: 2.5877, Val Loss: 2.0248\n",
      "Baseline Loss: 5.3058 | Actual Loss: 2.5931\n"
     ]
    },
    {
     "name": "stderr",
     "output_type": "stream",
     "text": [
      "Training:  24%|██▍       | 241/1000 [11:38<36:32,  2.89s/it]"
     ]
    },
    {
     "name": "stdout",
     "output_type": "stream",
     "text": [
      "Baseline Loss: 3.9439 | Actual Loss: 1.9436\n",
      "Epoch 241/1000: Train Loss: 2.5931, Val Loss: 1.9436\n",
      "Baseline Loss: 5.3058 | Actual Loss: 2.5421\n"
     ]
    },
    {
     "name": "stderr",
     "output_type": "stream",
     "text": [
      "Training:  24%|██▍       | 242/1000 [11:40<35:59,  2.85s/it]"
     ]
    },
    {
     "name": "stdout",
     "output_type": "stream",
     "text": [
      "Baseline Loss: 3.9439 | Actual Loss: 2.4872\n",
      "Epoch 242/1000: Train Loss: 2.5421, Val Loss: 2.4872\n",
      "Baseline Loss: 5.3058 | Actual Loss: 2.6010\n"
     ]
    },
    {
     "name": "stderr",
     "output_type": "stream",
     "text": [
      "Training:  24%|██▍       | 243/1000 [11:43<36:20,  2.88s/it]"
     ]
    },
    {
     "name": "stdout",
     "output_type": "stream",
     "text": [
      "Baseline Loss: 3.9439 | Actual Loss: 2.2023\n",
      "Epoch 243/1000: Train Loss: 2.6010, Val Loss: 2.2023\n",
      "Baseline Loss: 5.3058 | Actual Loss: 2.5467\n"
     ]
    },
    {
     "name": "stderr",
     "output_type": "stream",
     "text": [
      "Training:  24%|██▍       | 244/1000 [11:46<36:35,  2.90s/it]"
     ]
    },
    {
     "name": "stdout",
     "output_type": "stream",
     "text": [
      "Baseline Loss: 3.9439 | Actual Loss: 2.1057\n",
      "Epoch 244/1000: Train Loss: 2.5467, Val Loss: 2.1057\n",
      "Baseline Loss: 5.3058 | Actual Loss: 2.6021\n"
     ]
    },
    {
     "name": "stderr",
     "output_type": "stream",
     "text": [
      "Training:  24%|██▍       | 245/1000 [11:49<36:55,  2.93s/it]"
     ]
    },
    {
     "name": "stdout",
     "output_type": "stream",
     "text": [
      "Baseline Loss: 3.9439 | Actual Loss: 2.2513\n",
      "Epoch 245/1000: Train Loss: 2.6021, Val Loss: 2.2513\n",
      "Baseline Loss: 5.3058 | Actual Loss: 2.5575\n"
     ]
    },
    {
     "name": "stderr",
     "output_type": "stream",
     "text": [
      "Training:  25%|██▍       | 246/1000 [11:52<36:27,  2.90s/it]"
     ]
    },
    {
     "name": "stdout",
     "output_type": "stream",
     "text": [
      "Baseline Loss: 3.9439 | Actual Loss: 2.4906\n",
      "Epoch 246/1000: Train Loss: 2.5575, Val Loss: 2.4906\n",
      "Baseline Loss: 5.3058 | Actual Loss: 2.4654\n"
     ]
    },
    {
     "name": "stderr",
     "output_type": "stream",
     "text": [
      "Training:  25%|██▍       | 247/1000 [11:55<38:10,  3.04s/it]"
     ]
    },
    {
     "name": "stdout",
     "output_type": "stream",
     "text": [
      "Baseline Loss: 3.9439 | Actual Loss: 2.2780\n",
      "Epoch 247/1000: Train Loss: 2.4654, Val Loss: 2.2780\n",
      "Baseline Loss: 5.3058 | Actual Loss: 2.5311\n"
     ]
    },
    {
     "name": "stderr",
     "output_type": "stream",
     "text": [
      "Training:  25%|██▍       | 248/1000 [11:58<36:39,  2.92s/it]"
     ]
    },
    {
     "name": "stdout",
     "output_type": "stream",
     "text": [
      "Baseline Loss: 3.9439 | Actual Loss: 2.3804\n",
      "Epoch 248/1000: Train Loss: 2.5311, Val Loss: 2.3804\n"
     ]
    },
    {
     "name": "stderr",
     "output_type": "stream",
     "text": [
      "Training:  25%|██▍       | 249/1000 [12:01<36:22,  2.91s/it]"
     ]
    },
    {
     "name": "stdout",
     "output_type": "stream",
     "text": [
      "Baseline Loss: 5.3059 | Actual Loss: 2.5907\n",
      "Baseline Loss: 3.9439 | Actual Loss: 2.4115\n",
      "Epoch 249/1000: Train Loss: 2.5907, Val Loss: 2.4115\n",
      "Baseline Loss: 5.3058 | Actual Loss: 2.5296\n"
     ]
    },
    {
     "name": "stderr",
     "output_type": "stream",
     "text": [
      "Training:  25%|██▌       | 250/1000 [12:04<35:56,  2.88s/it]"
     ]
    },
    {
     "name": "stdout",
     "output_type": "stream",
     "text": [
      "Baseline Loss: 3.9439 | Actual Loss: 2.2386\n",
      "Epoch 250/1000: Train Loss: 2.5296, Val Loss: 2.2386\n"
     ]
    },
    {
     "name": "stderr",
     "output_type": "stream",
     "text": [
      "Training:  25%|██▌       | 251/1000 [12:07<36:20,  2.91s/it]"
     ]
    },
    {
     "name": "stdout",
     "output_type": "stream",
     "text": [
      "Baseline Loss: 5.3058 | Actual Loss: 2.5252\n",
      "Baseline Loss: 3.9439 | Actual Loss: 2.3836\n",
      "Epoch 251/1000: Train Loss: 2.5252, Val Loss: 2.3836\n",
      "Baseline Loss: 5.3058 | Actual Loss: 2.5278\n"
     ]
    },
    {
     "name": "stderr",
     "output_type": "stream",
     "text": [
      "Training:  25%|██▌       | 252/1000 [12:10<35:56,  2.88s/it]"
     ]
    },
    {
     "name": "stdout",
     "output_type": "stream",
     "text": [
      "Baseline Loss: 3.9439 | Actual Loss: 2.4167\n",
      "Epoch 252/1000: Train Loss: 2.5278, Val Loss: 2.4167\n",
      "Baseline Loss: 5.3058 | Actual Loss: 2.5524\n"
     ]
    },
    {
     "name": "stderr",
     "output_type": "stream",
     "text": [
      "Training:  25%|██▌       | 253/1000 [12:12<35:42,  2.87s/it]"
     ]
    },
    {
     "name": "stdout",
     "output_type": "stream",
     "text": [
      "Baseline Loss: 3.9439 | Actual Loss: 2.2914\n",
      "Epoch 253/1000: Train Loss: 2.5524, Val Loss: 2.2914\n",
      "Baseline Loss: 5.3058 | Actual Loss: 2.5162\n"
     ]
    },
    {
     "name": "stderr",
     "output_type": "stream",
     "text": [
      "Training:  25%|██▌       | 254/1000 [12:15<35:16,  2.84s/it]"
     ]
    },
    {
     "name": "stdout",
     "output_type": "stream",
     "text": [
      "Baseline Loss: 3.9439 | Actual Loss: 2.4242\n",
      "Epoch 254/1000: Train Loss: 2.5162, Val Loss: 2.4242\n",
      "Baseline Loss: 5.3058 | Actual Loss: 2.5101\n"
     ]
    },
    {
     "name": "stderr",
     "output_type": "stream",
     "text": [
      "Training:  26%|██▌       | 255/1000 [12:18<35:46,  2.88s/it]"
     ]
    },
    {
     "name": "stdout",
     "output_type": "stream",
     "text": [
      "Baseline Loss: 3.9439 | Actual Loss: 2.2734\n",
      "Epoch 255/1000: Train Loss: 2.5101, Val Loss: 2.2734\n",
      "Baseline Loss: 5.3058 | Actual Loss: 2.4951\n"
     ]
    },
    {
     "name": "stderr",
     "output_type": "stream",
     "text": [
      "Training:  26%|██▌       | 256/1000 [12:21<36:15,  2.92s/it]"
     ]
    },
    {
     "name": "stdout",
     "output_type": "stream",
     "text": [
      "Baseline Loss: 3.9439 | Actual Loss: 2.5174\n",
      "Epoch 256/1000: Train Loss: 2.4951, Val Loss: 2.5174\n",
      "Baseline Loss: 5.3058 | Actual Loss: 2.4612\n"
     ]
    },
    {
     "name": "stderr",
     "output_type": "stream",
     "text": [
      "Training:  26%|██▌       | 257/1000 [12:24<35:36,  2.88s/it]"
     ]
    },
    {
     "name": "stdout",
     "output_type": "stream",
     "text": [
      "Baseline Loss: 3.9439 | Actual Loss: 2.3659\n",
      "Epoch 257/1000: Train Loss: 2.4612, Val Loss: 2.3659\n"
     ]
    },
    {
     "name": "stderr",
     "output_type": "stream",
     "text": [
      "Training:  26%|██▌       | 258/1000 [12:27<36:39,  2.96s/it]"
     ]
    },
    {
     "name": "stdout",
     "output_type": "stream",
     "text": [
      "Baseline Loss: 5.3058 | Actual Loss: 2.4936\n",
      "Baseline Loss: 3.9439 | Actual Loss: 2.3637\n",
      "Epoch 258/1000: Train Loss: 2.4936, Val Loss: 2.3637\n",
      "Baseline Loss: 5.3058 | Actual Loss: 2.5191\n"
     ]
    },
    {
     "name": "stderr",
     "output_type": "stream",
     "text": [
      "Training:  26%|██▌       | 259/1000 [12:30<36:55,  2.99s/it]"
     ]
    },
    {
     "name": "stdout",
     "output_type": "stream",
     "text": [
      "Baseline Loss: 3.9439 | Actual Loss: 2.3107\n",
      "Epoch 259/1000: Train Loss: 2.5191, Val Loss: 2.3107\n",
      "Baseline Loss: 5.3058 | Actual Loss: 2.4625\n"
     ]
    },
    {
     "name": "stderr",
     "output_type": "stream",
     "text": [
      "Training:  26%|██▌       | 260/1000 [12:33<37:27,  3.04s/it]"
     ]
    },
    {
     "name": "stdout",
     "output_type": "stream",
     "text": [
      "Baseline Loss: 3.9439 | Actual Loss: 2.3561\n",
      "Epoch 260/1000: Train Loss: 2.4625, Val Loss: 2.3561\n",
      "Baseline Loss: 5.3058 | Actual Loss: 2.4396\n"
     ]
    },
    {
     "name": "stderr",
     "output_type": "stream",
     "text": [
      "Training:  26%|██▌       | 261/1000 [12:36<36:40,  2.98s/it]"
     ]
    },
    {
     "name": "stdout",
     "output_type": "stream",
     "text": [
      "Baseline Loss: 3.9439 | Actual Loss: 2.5530\n",
      "Epoch 261/1000: Train Loss: 2.4396, Val Loss: 2.5530\n",
      "Baseline Loss: 5.3058 | Actual Loss: 2.4912\n"
     ]
    },
    {
     "name": "stderr",
     "output_type": "stream",
     "text": [
      "Training:  26%|██▌       | 262/1000 [12:39<37:31,  3.05s/it]"
     ]
    },
    {
     "name": "stdout",
     "output_type": "stream",
     "text": [
      "Baseline Loss: 3.9439 | Actual Loss: 2.3480\n",
      "Epoch 262/1000: Train Loss: 2.4912, Val Loss: 2.3480\n",
      "Baseline Loss: 5.3058 | Actual Loss: 2.4988\n"
     ]
    },
    {
     "name": "stderr",
     "output_type": "stream",
     "text": [
      "Training:  26%|██▋       | 263/1000 [12:42<36:05,  2.94s/it]"
     ]
    },
    {
     "name": "stdout",
     "output_type": "stream",
     "text": [
      "Baseline Loss: 3.9439 | Actual Loss: 2.5149\n",
      "Epoch 263/1000: Train Loss: 2.4988, Val Loss: 2.5149\n",
      "Baseline Loss: 5.3058 | Actual Loss: 2.4365\n"
     ]
    },
    {
     "name": "stderr",
     "output_type": "stream",
     "text": [
      "Training:  26%|██▋       | 264/1000 [12:45<36:09,  2.95s/it]"
     ]
    },
    {
     "name": "stdout",
     "output_type": "stream",
     "text": [
      "Baseline Loss: 3.9439 | Actual Loss: 2.2460\n",
      "Epoch 264/1000: Train Loss: 2.4365, Val Loss: 2.2460\n",
      "Baseline Loss: 5.3058 | Actual Loss: 2.5172\n"
     ]
    },
    {
     "name": "stderr",
     "output_type": "stream",
     "text": [
      "Training:  26%|██▋       | 265/1000 [12:48<37:06,  3.03s/it]"
     ]
    },
    {
     "name": "stdout",
     "output_type": "stream",
     "text": [
      "Baseline Loss: 3.9439 | Actual Loss: 2.1727\n",
      "Epoch 265/1000: Train Loss: 2.5172, Val Loss: 2.1727\n",
      "Baseline Loss: 5.3058 | Actual Loss: 2.4701\n"
     ]
    },
    {
     "name": "stderr",
     "output_type": "stream",
     "text": [
      "Training:  27%|██▋       | 266/1000 [12:51<37:10,  3.04s/it]"
     ]
    },
    {
     "name": "stdout",
     "output_type": "stream",
     "text": [
      "Baseline Loss: 3.9439 | Actual Loss: 2.2415\n",
      "Epoch 266/1000: Train Loss: 2.4701, Val Loss: 2.2415\n",
      "Baseline Loss: 5.3058 | Actual Loss: 2.4695\n"
     ]
    },
    {
     "name": "stderr",
     "output_type": "stream",
     "text": [
      "Training:  27%|██▋       | 267/1000 [12:54<36:27,  2.98s/it]"
     ]
    },
    {
     "name": "stdout",
     "output_type": "stream",
     "text": [
      "Baseline Loss: 3.9439 | Actual Loss: 2.4597\n",
      "Epoch 267/1000: Train Loss: 2.4695, Val Loss: 2.4597\n",
      "Baseline Loss: 5.3058 | Actual Loss: 2.5317\n"
     ]
    },
    {
     "name": "stderr",
     "output_type": "stream",
     "text": [
      "Training:  27%|██▋       | 268/1000 [12:57<36:45,  3.01s/it]"
     ]
    },
    {
     "name": "stdout",
     "output_type": "stream",
     "text": [
      "Baseline Loss: 3.9439 | Actual Loss: 2.4077\n",
      "Epoch 268/1000: Train Loss: 2.5317, Val Loss: 2.4077\n",
      "Baseline Loss: 5.3058 | Actual Loss: 2.4599\n"
     ]
    },
    {
     "name": "stderr",
     "output_type": "stream",
     "text": [
      "Training:  27%|██▋       | 269/1000 [13:00<35:36,  2.92s/it]"
     ]
    },
    {
     "name": "stdout",
     "output_type": "stream",
     "text": [
      "Baseline Loss: 3.9439 | Actual Loss: 2.5001\n",
      "Epoch 269/1000: Train Loss: 2.4599, Val Loss: 2.5001\n",
      "Baseline Loss: 5.3059 | Actual Loss: 2.4603\n"
     ]
    },
    {
     "name": "stderr",
     "output_type": "stream",
     "text": [
      "Training:  27%|██▋       | 270/1000 [13:03<35:48,  2.94s/it]"
     ]
    },
    {
     "name": "stdout",
     "output_type": "stream",
     "text": [
      "Baseline Loss: 3.9439 | Actual Loss: 2.2731\n",
      "Epoch 270/1000: Train Loss: 2.4603, Val Loss: 2.2731\n"
     ]
    },
    {
     "name": "stderr",
     "output_type": "stream",
     "text": [
      "Training:  27%|██▋       | 271/1000 [13:06<35:35,  2.93s/it]"
     ]
    },
    {
     "name": "stdout",
     "output_type": "stream",
     "text": [
      "Baseline Loss: 5.3058 | Actual Loss: 2.5180\n",
      "Baseline Loss: 3.9439 | Actual Loss: 2.4879\n",
      "Epoch 271/1000: Train Loss: 2.5180, Val Loss: 2.4879\n",
      "Baseline Loss: 5.3058 | Actual Loss: 2.4748\n"
     ]
    },
    {
     "name": "stderr",
     "output_type": "stream",
     "text": [
      "Training:  27%|██▋       | 272/1000 [13:09<35:14,  2.91s/it]"
     ]
    },
    {
     "name": "stdout",
     "output_type": "stream",
     "text": [
      "Baseline Loss: 3.9439 | Actual Loss: 2.4035\n",
      "Epoch 272/1000: Train Loss: 2.4748, Val Loss: 2.4035\n",
      "Baseline Loss: 5.3058 | Actual Loss: 2.4416\n"
     ]
    },
    {
     "name": "stderr",
     "output_type": "stream",
     "text": [
      "Training:  27%|██▋       | 273/1000 [13:12<35:42,  2.95s/it]"
     ]
    },
    {
     "name": "stdout",
     "output_type": "stream",
     "text": [
      "Baseline Loss: 3.9439 | Actual Loss: 2.3102\n",
      "Epoch 273/1000: Train Loss: 2.4416, Val Loss: 2.3102\n"
     ]
    },
    {
     "name": "stderr",
     "output_type": "stream",
     "text": [
      "Training:  27%|██▋       | 274/1000 [13:15<35:51,  2.96s/it]"
     ]
    },
    {
     "name": "stdout",
     "output_type": "stream",
     "text": [
      "Baseline Loss: 5.3058 | Actual Loss: 2.4478\n",
      "Baseline Loss: 3.9439 | Actual Loss: 2.4148\n",
      "Epoch 274/1000: Train Loss: 2.4478, Val Loss: 2.4148\n"
     ]
    },
    {
     "name": "stderr",
     "output_type": "stream",
     "text": [
      "Training:  28%|██▊       | 275/1000 [13:18<37:42,  3.12s/it]"
     ]
    },
    {
     "name": "stdout",
     "output_type": "stream",
     "text": [
      "Baseline Loss: 5.3058 | Actual Loss: 2.5313\n",
      "Baseline Loss: 3.9439 | Actual Loss: 2.5690\n",
      "Epoch 275/1000: Train Loss: 2.5313, Val Loss: 2.5690\n"
     ]
    },
    {
     "name": "stderr",
     "output_type": "stream",
     "text": [
      "Training:  28%|██▊       | 275/1000 [13:21<35:13,  2.91s/it]"
     ]
    },
    {
     "name": "stdout",
     "output_type": "stream",
     "text": [
      "Baseline Loss: 5.3058 | Actual Loss: 2.4491\n",
      "Baseline Loss: 3.9439 | Actual Loss: 2.3298\n",
      "Epoch 276/1000: Train Loss: 2.4491, Val Loss: 2.3298\n",
      "\n",
      "Early stopping at epoch 276\n"
     ]
    },
    {
     "name": "stderr",
     "output_type": "stream",
     "text": [
      "\n"
     ]
    },
    {
     "data": {
      "text/plain": [
       "1.9109644889831543"
      ]
     },
     "execution_count": 14,
     "metadata": {},
     "output_type": "execute_result"
    }
   ],
   "source": [
    "devices = [\"cuda\" if torch.cuda.is_available() else \"cpu\"]\n",
    "model5 = GNNModelWithNewLoss(\n",
    "        num_node_features=data_list[0].x.shape[1],\n",
    "        num_edge_features=data_list[0].edge_attr.shape[1],\n",
    "        num_global_features=data_list[0].global_features.shape[1],\n",
    "        cov_num= 6,\n",
    "        hidden_dim=512,\n",
    "        dropout_rate=0.1,\n",
    "        property_index= 1,\n",
    "        save_path= 'premodels_new/6/1' \n",
    "    ).to(devices[0])\n",
    "\n",
    "model5.train_model(\n",
    "    data_list,\n",
    ")"
   ]
  },
  {
   "cell_type": "code",
   "execution_count": 15,
   "id": "971916e7",
   "metadata": {},
   "outputs": [
    {
     "name": "stdout",
     "output_type": "stream",
     "text": [
      "Training will be saved to: premodels_new/6/2\n"
     ]
    },
    {
     "name": "stderr",
     "output_type": "stream",
     "text": [
      "Training:   0%|          | 0/1000 [00:00<?, ?it/s]"
     ]
    },
    {
     "name": "stdout",
     "output_type": "stream",
     "text": [
      "Baseline Loss: 5.4927 | Actual Loss: 5.4598\n"
     ]
    },
    {
     "name": "stderr",
     "output_type": "stream",
     "text": [
      "Training:   0%|          | 1/1000 [00:03<50:42,  3.05s/it]"
     ]
    },
    {
     "name": "stdout",
     "output_type": "stream",
     "text": [
      "Baseline Loss: 4.3789 | Actual Loss: 4.3393\n",
      "Epoch 1/1000: Train Loss: 5.4598, Val Loss: 4.3393\n",
      "New best validation loss: 4.3393\n",
      "Baseline Loss: 5.4927 | Actual Loss: 5.4482\n"
     ]
    },
    {
     "name": "stderr",
     "output_type": "stream",
     "text": [
      "Training:   0%|          | 2/1000 [00:06<50:00,  3.01s/it]"
     ]
    },
    {
     "name": "stdout",
     "output_type": "stream",
     "text": [
      "Baseline Loss: 4.3789 | Actual Loss: 4.3372\n",
      "Epoch 2/1000: Train Loss: 5.4482, Val Loss: 4.3372\n",
      "New best validation loss: 4.3372\n",
      "Baseline Loss: 5.4928 | Actual Loss: 5.4483\n"
     ]
    },
    {
     "name": "stderr",
     "output_type": "stream",
     "text": [
      "Training:   0%|          | 3/1000 [00:09<49:43,  2.99s/it]"
     ]
    },
    {
     "name": "stdout",
     "output_type": "stream",
     "text": [
      "Baseline Loss: 4.3789 | Actual Loss: 4.3229\n",
      "Epoch 3/1000: Train Loss: 5.4483, Val Loss: 4.3229\n",
      "New best validation loss: 4.3229\n",
      "Baseline Loss: 5.4927 | Actual Loss: 5.4358\n"
     ]
    },
    {
     "name": "stderr",
     "output_type": "stream",
     "text": [
      "Training:   0%|          | 4/1000 [00:11<49:04,  2.96s/it]"
     ]
    },
    {
     "name": "stdout",
     "output_type": "stream",
     "text": [
      "Baseline Loss: 4.3789 | Actual Loss: 4.2966\n",
      "Epoch 4/1000: Train Loss: 5.4358, Val Loss: 4.2966\n",
      "New best validation loss: 4.2966\n",
      "Baseline Loss: 5.4928 | Actual Loss: 5.4444\n"
     ]
    },
    {
     "name": "stderr",
     "output_type": "stream",
     "text": [
      "Training:   0%|          | 5/1000 [00:14<49:15,  2.97s/it]"
     ]
    },
    {
     "name": "stdout",
     "output_type": "stream",
     "text": [
      "Baseline Loss: 4.3789 | Actual Loss: 4.3328\n",
      "Epoch 5/1000: Train Loss: 5.4444, Val Loss: 4.3328\n",
      "Baseline Loss: 5.4927 | Actual Loss: 5.4437\n"
     ]
    },
    {
     "name": "stderr",
     "output_type": "stream",
     "text": [
      "Training:   1%|          | 6/1000 [00:17<48:39,  2.94s/it]"
     ]
    },
    {
     "name": "stdout",
     "output_type": "stream",
     "text": [
      "Baseline Loss: 4.3789 | Actual Loss: 4.3237\n",
      "Epoch 6/1000: Train Loss: 5.4437, Val Loss: 4.3237\n",
      "Baseline Loss: 5.4927 | Actual Loss: 5.4439\n"
     ]
    },
    {
     "name": "stderr",
     "output_type": "stream",
     "text": [
      "Training:   1%|          | 7/1000 [00:20<49:00,  2.96s/it]"
     ]
    },
    {
     "name": "stdout",
     "output_type": "stream",
     "text": [
      "Baseline Loss: 4.3789 | Actual Loss: 4.2780\n",
      "Epoch 7/1000: Train Loss: 5.4439, Val Loss: 4.2780\n",
      "New best validation loss: 4.2780\n",
      "Baseline Loss: 5.4927 | Actual Loss: 5.4288\n"
     ]
    },
    {
     "name": "stderr",
     "output_type": "stream",
     "text": [
      "Training:   1%|          | 8/1000 [00:23<48:32,  2.94s/it]"
     ]
    },
    {
     "name": "stdout",
     "output_type": "stream",
     "text": [
      "Baseline Loss: 4.3789 | Actual Loss: 4.2932\n",
      "Epoch 8/1000: Train Loss: 5.4288, Val Loss: 4.2932\n",
      "Baseline Loss: 5.4927 | Actual Loss: 5.4279\n"
     ]
    },
    {
     "name": "stderr",
     "output_type": "stream",
     "text": [
      "Training:   1%|          | 9/1000 [00:26<48:52,  2.96s/it]"
     ]
    },
    {
     "name": "stdout",
     "output_type": "stream",
     "text": [
      "Baseline Loss: 4.3789 | Actual Loss: 4.2912\n",
      "Epoch 9/1000: Train Loss: 5.4279, Val Loss: 4.2912\n"
     ]
    },
    {
     "name": "stderr",
     "output_type": "stream",
     "text": [
      "Training:   1%|          | 10/1000 [00:29<48:29,  2.94s/it]"
     ]
    },
    {
     "name": "stdout",
     "output_type": "stream",
     "text": [
      "Baseline Loss: 5.4928 | Actual Loss: 5.4156\n",
      "Baseline Loss: 4.3789 | Actual Loss: 4.3121\n",
      "Epoch 10/1000: Train Loss: 5.4156, Val Loss: 4.3121\n",
      "Baseline Loss: 5.4927 | Actual Loss: 5.4075\n"
     ]
    },
    {
     "name": "stderr",
     "output_type": "stream",
     "text": [
      "Training:   1%|          | 11/1000 [00:32<46:53,  2.84s/it]"
     ]
    },
    {
     "name": "stdout",
     "output_type": "stream",
     "text": [
      "Baseline Loss: 4.3789 | Actual Loss: 4.2976\n",
      "Epoch 11/1000: Train Loss: 5.4075, Val Loss: 4.2976\n",
      "Baseline Loss: 5.4927 | Actual Loss: 5.4074\n"
     ]
    },
    {
     "name": "stderr",
     "output_type": "stream",
     "text": [
      "Training:   1%|          | 12/1000 [00:35<47:54,  2.91s/it]"
     ]
    },
    {
     "name": "stdout",
     "output_type": "stream",
     "text": [
      "Baseline Loss: 4.3789 | Actual Loss: 4.2433\n",
      "Epoch 12/1000: Train Loss: 5.4074, Val Loss: 4.2433\n",
      "New best validation loss: 4.2433\n",
      "Baseline Loss: 5.4927 | Actual Loss: 5.3958\n"
     ]
    },
    {
     "name": "stderr",
     "output_type": "stream",
     "text": [
      "Training:   1%|▏         | 13/1000 [00:38<48:11,  2.93s/it]"
     ]
    },
    {
     "name": "stdout",
     "output_type": "stream",
     "text": [
      "Baseline Loss: 4.3789 | Actual Loss: 4.2799\n",
      "Epoch 13/1000: Train Loss: 5.3958, Val Loss: 4.2799\n",
      "Baseline Loss: 5.4927 | Actual Loss: 5.3969\n"
     ]
    },
    {
     "name": "stderr",
     "output_type": "stream",
     "text": [
      "Training:   1%|▏         | 14/1000 [00:41<47:35,  2.90s/it]"
     ]
    },
    {
     "name": "stdout",
     "output_type": "stream",
     "text": [
      "Baseline Loss: 4.3789 | Actual Loss: 4.2670\n",
      "Epoch 14/1000: Train Loss: 5.3969, Val Loss: 4.2670\n",
      "Baseline Loss: 5.4927 | Actual Loss: 5.3881\n"
     ]
    },
    {
     "name": "stderr",
     "output_type": "stream",
     "text": [
      "Training:   2%|▏         | 15/1000 [00:43<47:02,  2.87s/it]"
     ]
    },
    {
     "name": "stdout",
     "output_type": "stream",
     "text": [
      "Baseline Loss: 4.3789 | Actual Loss: 4.1931\n",
      "Epoch 15/1000: Train Loss: 5.3881, Val Loss: 4.1931\n",
      "New best validation loss: 4.1931\n",
      "Baseline Loss: 5.4927 | Actual Loss: 5.3813\n"
     ]
    },
    {
     "name": "stderr",
     "output_type": "stream",
     "text": [
      "Training:   2%|▏         | 16/1000 [00:46<47:38,  2.90s/it]"
     ]
    },
    {
     "name": "stdout",
     "output_type": "stream",
     "text": [
      "Baseline Loss: 4.3789 | Actual Loss: 4.2512\n",
      "Epoch 16/1000: Train Loss: 5.3813, Val Loss: 4.2512\n",
      "Baseline Loss: 5.4927 | Actual Loss: 5.3611\n"
     ]
    },
    {
     "name": "stderr",
     "output_type": "stream",
     "text": [
      "Training:   2%|▏         | 17/1000 [00:49<47:20,  2.89s/it]"
     ]
    },
    {
     "name": "stdout",
     "output_type": "stream",
     "text": [
      "Baseline Loss: 4.3789 | Actual Loss: 4.2152\n",
      "Epoch 17/1000: Train Loss: 5.3611, Val Loss: 4.2152\n",
      "Baseline Loss: 5.4927 | Actual Loss: 5.3686\n"
     ]
    },
    {
     "name": "stderr",
     "output_type": "stream",
     "text": [
      "Training:   2%|▏         | 18/1000 [00:52<47:30,  2.90s/it]"
     ]
    },
    {
     "name": "stdout",
     "output_type": "stream",
     "text": [
      "Baseline Loss: 4.3789 | Actual Loss: 4.1936\n",
      "Epoch 18/1000: Train Loss: 5.3686, Val Loss: 4.1936\n",
      "Baseline Loss: 5.4927 | Actual Loss: 5.3441\n"
     ]
    },
    {
     "name": "stderr",
     "output_type": "stream",
     "text": [
      "Training:   2%|▏         | 19/1000 [00:55<46:28,  2.84s/it]"
     ]
    },
    {
     "name": "stdout",
     "output_type": "stream",
     "text": [
      "Baseline Loss: 4.3789 | Actual Loss: 4.1710\n",
      "Epoch 19/1000: Train Loss: 5.3441, Val Loss: 4.1710\n",
      "New best validation loss: 4.1710\n",
      "Baseline Loss: 5.4927 | Actual Loss: 5.3433\n"
     ]
    },
    {
     "name": "stderr",
     "output_type": "stream",
     "text": [
      "Training:   2%|▏         | 20/1000 [00:58<48:01,  2.94s/it]"
     ]
    },
    {
     "name": "stdout",
     "output_type": "stream",
     "text": [
      "Baseline Loss: 4.3789 | Actual Loss: 4.2280\n",
      "Epoch 20/1000: Train Loss: 5.3433, Val Loss: 4.2280\n",
      "Baseline Loss: 5.4928 | Actual Loss: 5.3248\n"
     ]
    },
    {
     "name": "stderr",
     "output_type": "stream",
     "text": [
      "Training:   2%|▏         | 21/1000 [01:01<46:40,  2.86s/it]"
     ]
    },
    {
     "name": "stdout",
     "output_type": "stream",
     "text": [
      "Baseline Loss: 4.3789 | Actual Loss: 4.1886\n",
      "Epoch 21/1000: Train Loss: 5.3248, Val Loss: 4.1886\n",
      "Baseline Loss: 5.4927 | Actual Loss: 5.3174\n"
     ]
    },
    {
     "name": "stderr",
     "output_type": "stream",
     "text": [
      "Training:   2%|▏         | 22/1000 [01:04<46:35,  2.86s/it]"
     ]
    },
    {
     "name": "stdout",
     "output_type": "stream",
     "text": [
      "Baseline Loss: 4.3789 | Actual Loss: 4.1397\n",
      "Epoch 22/1000: Train Loss: 5.3174, Val Loss: 4.1397\n",
      "New best validation loss: 4.1397\n",
      "Baseline Loss: 5.4927 | Actual Loss: 5.3371\n"
     ]
    },
    {
     "name": "stderr",
     "output_type": "stream",
     "text": [
      "Training:   2%|▏         | 23/1000 [01:06<45:29,  2.79s/it]"
     ]
    },
    {
     "name": "stdout",
     "output_type": "stream",
     "text": [
      "Baseline Loss: 4.3789 | Actual Loss: 4.1403\n",
      "Epoch 23/1000: Train Loss: 5.3371, Val Loss: 4.1403\n",
      "Baseline Loss: 5.4927 | Actual Loss: 5.2947\n"
     ]
    },
    {
     "name": "stderr",
     "output_type": "stream",
     "text": [
      "Training:   2%|▏         | 24/1000 [01:09<47:05,  2.89s/it]"
     ]
    },
    {
     "name": "stdout",
     "output_type": "stream",
     "text": [
      "Baseline Loss: 4.3789 | Actual Loss: 4.2066\n",
      "Epoch 24/1000: Train Loss: 5.2947, Val Loss: 4.2066\n",
      "Baseline Loss: 5.4928 | Actual Loss: 5.2851\n"
     ]
    },
    {
     "name": "stderr",
     "output_type": "stream",
     "text": [
      "Training:   2%|▎         | 25/1000 [01:12<47:33,  2.93s/it]"
     ]
    },
    {
     "name": "stdout",
     "output_type": "stream",
     "text": [
      "Baseline Loss: 4.3789 | Actual Loss: 4.2044\n",
      "Epoch 25/1000: Train Loss: 5.2851, Val Loss: 4.2044\n",
      "Baseline Loss: 5.4927 | Actual Loss: 5.2784\n"
     ]
    },
    {
     "name": "stderr",
     "output_type": "stream",
     "text": [
      "Training:   3%|▎         | 26/1000 [01:15<46:50,  2.89s/it]"
     ]
    },
    {
     "name": "stdout",
     "output_type": "stream",
     "text": [
      "Baseline Loss: 4.3789 | Actual Loss: 4.0756\n",
      "Epoch 26/1000: Train Loss: 5.2784, Val Loss: 4.0756\n",
      "New best validation loss: 4.0756\n",
      "Baseline Loss: 5.4927 | Actual Loss: 5.2363\n"
     ]
    },
    {
     "name": "stderr",
     "output_type": "stream",
     "text": [
      "Training:   3%|▎         | 27/1000 [01:18<48:22,  2.98s/it]"
     ]
    },
    {
     "name": "stdout",
     "output_type": "stream",
     "text": [
      "Baseline Loss: 4.3789 | Actual Loss: 4.0749\n",
      "Epoch 27/1000: Train Loss: 5.2363, Val Loss: 4.0749\n",
      "New best validation loss: 4.0749\n",
      "Baseline Loss: 5.4928 | Actual Loss: 5.2210\n"
     ]
    },
    {
     "name": "stderr",
     "output_type": "stream",
     "text": [
      "Training:   3%|▎         | 28/1000 [01:21<46:48,  2.89s/it]"
     ]
    },
    {
     "name": "stdout",
     "output_type": "stream",
     "text": [
      "Baseline Loss: 4.3789 | Actual Loss: 4.0048\n",
      "Epoch 28/1000: Train Loss: 5.2210, Val Loss: 4.0048\n",
      "New best validation loss: 4.0048\n",
      "Baseline Loss: 5.4927 | Actual Loss: 5.2233\n"
     ]
    },
    {
     "name": "stderr",
     "output_type": "stream",
     "text": [
      "Training:   3%|▎         | 29/1000 [01:24<46:29,  2.87s/it]"
     ]
    },
    {
     "name": "stdout",
     "output_type": "stream",
     "text": [
      "Baseline Loss: 4.3789 | Actual Loss: 4.0654\n",
      "Epoch 29/1000: Train Loss: 5.2233, Val Loss: 4.0654\n",
      "Baseline Loss: 5.4928 | Actual Loss: 5.1846\n"
     ]
    },
    {
     "name": "stderr",
     "output_type": "stream",
     "text": [
      "Training:   3%|▎         | 30/1000 [01:26<45:17,  2.80s/it]"
     ]
    },
    {
     "name": "stdout",
     "output_type": "stream",
     "text": [
      "Baseline Loss: 4.3789 | Actual Loss: 4.0022\n",
      "Epoch 30/1000: Train Loss: 5.1846, Val Loss: 4.0022\n",
      "New best validation loss: 4.0022\n",
      "Baseline Loss: 5.4927 | Actual Loss: 5.1400\n"
     ]
    },
    {
     "name": "stderr",
     "output_type": "stream",
     "text": [
      "Training:   3%|▎         | 31/1000 [01:30<47:08,  2.92s/it]"
     ]
    },
    {
     "name": "stdout",
     "output_type": "stream",
     "text": [
      "Baseline Loss: 4.3789 | Actual Loss: 3.9519\n",
      "Epoch 31/1000: Train Loss: 5.1400, Val Loss: 3.9519\n",
      "New best validation loss: 3.9519\n",
      "Baseline Loss: 5.4927 | Actual Loss: 5.1709\n"
     ]
    },
    {
     "name": "stderr",
     "output_type": "stream",
     "text": [
      "Training:   3%|▎         | 32/1000 [01:33<47:35,  2.95s/it]"
     ]
    },
    {
     "name": "stdout",
     "output_type": "stream",
     "text": [
      "Baseline Loss: 4.3789 | Actual Loss: 4.0153\n",
      "Epoch 32/1000: Train Loss: 5.1709, Val Loss: 4.0153\n",
      "Baseline Loss: 5.4927 | Actual Loss: 5.1089\n"
     ]
    },
    {
     "name": "stderr",
     "output_type": "stream",
     "text": [
      "Training:   3%|▎         | 33/1000 [01:35<46:47,  2.90s/it]"
     ]
    },
    {
     "name": "stdout",
     "output_type": "stream",
     "text": [
      "Baseline Loss: 4.3789 | Actual Loss: 4.0129\n",
      "Epoch 33/1000: Train Loss: 5.1089, Val Loss: 4.0129\n",
      "Baseline Loss: 5.4927 | Actual Loss: 5.1024\n"
     ]
    },
    {
     "name": "stderr",
     "output_type": "stream",
     "text": [
      "Training:   3%|▎         | 34/1000 [01:39<47:57,  2.98s/it]"
     ]
    },
    {
     "name": "stdout",
     "output_type": "stream",
     "text": [
      "Baseline Loss: 4.3789 | Actual Loss: 3.8735\n",
      "Epoch 34/1000: Train Loss: 5.1024, Val Loss: 3.8735\n",
      "New best validation loss: 3.8735\n",
      "Baseline Loss: 5.4927 | Actual Loss: 5.0316\n"
     ]
    },
    {
     "name": "stderr",
     "output_type": "stream",
     "text": [
      "Training:   4%|▎         | 35/1000 [01:41<46:24,  2.89s/it]"
     ]
    },
    {
     "name": "stdout",
     "output_type": "stream",
     "text": [
      "Baseline Loss: 4.3789 | Actual Loss: 3.8854\n",
      "Epoch 35/1000: Train Loss: 5.0316, Val Loss: 3.8854\n"
     ]
    },
    {
     "name": "stderr",
     "output_type": "stream",
     "text": [
      "Training:   4%|▎         | 36/1000 [01:44<46:56,  2.92s/it]"
     ]
    },
    {
     "name": "stdout",
     "output_type": "stream",
     "text": [
      "Baseline Loss: 5.4927 | Actual Loss: 5.0179\n",
      "Baseline Loss: 4.3789 | Actual Loss: 3.8665\n",
      "Epoch 36/1000: Train Loss: 5.0179, Val Loss: 3.8665\n",
      "New best validation loss: 3.8665\n"
     ]
    },
    {
     "name": "stderr",
     "output_type": "stream",
     "text": [
      "Training:   4%|▎         | 37/1000 [01:47<46:32,  2.90s/it]"
     ]
    },
    {
     "name": "stdout",
     "output_type": "stream",
     "text": [
      "Baseline Loss: 5.4927 | Actual Loss: 4.9950\n",
      "Baseline Loss: 4.3789 | Actual Loss: 3.6852\n",
      "Epoch 37/1000: Train Loss: 4.9950, Val Loss: 3.6852\n",
      "New best validation loss: 3.6852\n",
      "Baseline Loss: 5.4927 | Actual Loss: 4.9540\n"
     ]
    },
    {
     "name": "stderr",
     "output_type": "stream",
     "text": [
      "Training:   4%|▍         | 38/1000 [01:50<45:51,  2.86s/it]"
     ]
    },
    {
     "name": "stdout",
     "output_type": "stream",
     "text": [
      "Baseline Loss: 4.3789 | Actual Loss: 3.7120\n",
      "Epoch 38/1000: Train Loss: 4.9540, Val Loss: 3.7120\n",
      "Baseline Loss: 5.4927 | Actual Loss: 4.9272\n"
     ]
    },
    {
     "name": "stderr",
     "output_type": "stream",
     "text": [
      "Training:   4%|▍         | 39/1000 [01:53<46:31,  2.90s/it]"
     ]
    },
    {
     "name": "stdout",
     "output_type": "stream",
     "text": [
      "Baseline Loss: 4.3789 | Actual Loss: 3.7685\n",
      "Epoch 39/1000: Train Loss: 4.9272, Val Loss: 3.7685\n"
     ]
    },
    {
     "name": "stderr",
     "output_type": "stream",
     "text": [
      "Training:   4%|▍         | 40/1000 [01:56<46:03,  2.88s/it]"
     ]
    },
    {
     "name": "stdout",
     "output_type": "stream",
     "text": [
      "Baseline Loss: 5.4927 | Actual Loss: 4.8641\n",
      "Baseline Loss: 4.3789 | Actual Loss: 3.6513\n",
      "Epoch 40/1000: Train Loss: 4.8641, Val Loss: 3.6513\n",
      "New best validation loss: 3.6513\n",
      "Baseline Loss: 5.4927 | Actual Loss: 4.8593\n"
     ]
    },
    {
     "name": "stderr",
     "output_type": "stream",
     "text": [
      "Training:   4%|▍         | 41/1000 [01:58<45:18,  2.83s/it]"
     ]
    },
    {
     "name": "stdout",
     "output_type": "stream",
     "text": [
      "Baseline Loss: 4.3789 | Actual Loss: 3.5758\n",
      "Epoch 41/1000: Train Loss: 4.8593, Val Loss: 3.5758\n",
      "New best validation loss: 3.5758\n",
      "Baseline Loss: 5.4928 | Actual Loss: 4.7783\n"
     ]
    },
    {
     "name": "stderr",
     "output_type": "stream",
     "text": [
      "Training:   4%|▍         | 42/1000 [02:01<46:10,  2.89s/it]"
     ]
    },
    {
     "name": "stdout",
     "output_type": "stream",
     "text": [
      "Baseline Loss: 4.3789 | Actual Loss: 3.5328\n",
      "Epoch 42/1000: Train Loss: 4.7783, Val Loss: 3.5328\n",
      "New best validation loss: 3.5328\n",
      "Baseline Loss: 5.4927 | Actual Loss: 4.7651\n"
     ]
    },
    {
     "name": "stderr",
     "output_type": "stream",
     "text": [
      "Training:   4%|▍         | 43/1000 [02:04<45:48,  2.87s/it]"
     ]
    },
    {
     "name": "stdout",
     "output_type": "stream",
     "text": [
      "Baseline Loss: 4.3789 | Actual Loss: 3.5288\n",
      "Epoch 43/1000: Train Loss: 4.7651, Val Loss: 3.5288\n",
      "New best validation loss: 3.5288\n",
      "Baseline Loss: 5.4927 | Actual Loss: 4.7668\n"
     ]
    },
    {
     "name": "stderr",
     "output_type": "stream",
     "text": [
      "Training:   4%|▍         | 44/1000 [02:07<45:00,  2.82s/it]"
     ]
    },
    {
     "name": "stdout",
     "output_type": "stream",
     "text": [
      "Baseline Loss: 4.3789 | Actual Loss: 3.4185\n",
      "Epoch 44/1000: Train Loss: 4.7668, Val Loss: 3.4185\n",
      "New best validation loss: 3.4185\n"
     ]
    },
    {
     "name": "stderr",
     "output_type": "stream",
     "text": [
      "Training:   4%|▍         | 45/1000 [02:10<45:39,  2.87s/it]"
     ]
    },
    {
     "name": "stdout",
     "output_type": "stream",
     "text": [
      "Baseline Loss: 5.4928 | Actual Loss: 4.6987\n",
      "Baseline Loss: 4.3789 | Actual Loss: 3.4064\n",
      "Epoch 45/1000: Train Loss: 4.6987, Val Loss: 3.4064\n",
      "New best validation loss: 3.4064\n",
      "Baseline Loss: 5.4927 | Actual Loss: 4.6112\n"
     ]
    },
    {
     "name": "stderr",
     "output_type": "stream",
     "text": [
      "Training:   5%|▍         | 46/1000 [02:13<45:20,  2.85s/it]"
     ]
    },
    {
     "name": "stdout",
     "output_type": "stream",
     "text": [
      "Baseline Loss: 4.3789 | Actual Loss: 3.3645\n",
      "Epoch 46/1000: Train Loss: 4.6112, Val Loss: 3.3645\n",
      "New best validation loss: 3.3645\n"
     ]
    },
    {
     "name": "stderr",
     "output_type": "stream",
     "text": [
      "Training:   5%|▍         | 47/1000 [02:16<44:56,  2.83s/it]"
     ]
    },
    {
     "name": "stdout",
     "output_type": "stream",
     "text": [
      "Baseline Loss: 5.4927 | Actual Loss: 4.6527\n",
      "Baseline Loss: 4.3789 | Actual Loss: 3.3738\n",
      "Epoch 47/1000: Train Loss: 4.6527, Val Loss: 3.3738\n"
     ]
    },
    {
     "name": "stderr",
     "output_type": "stream",
     "text": [
      "Training:   5%|▍         | 48/1000 [02:19<46:45,  2.95s/it]"
     ]
    },
    {
     "name": "stdout",
     "output_type": "stream",
     "text": [
      "Baseline Loss: 5.4927 | Actual Loss: 4.5447\n",
      "Baseline Loss: 4.3789 | Actual Loss: 3.3884\n",
      "Epoch 48/1000: Train Loss: 4.5447, Val Loss: 3.3884\n",
      "Baseline Loss: 5.4927 | Actual Loss: 4.4956\n"
     ]
    },
    {
     "name": "stderr",
     "output_type": "stream",
     "text": [
      "Training:   5%|▍         | 49/1000 [02:21<45:21,  2.86s/it]"
     ]
    },
    {
     "name": "stdout",
     "output_type": "stream",
     "text": [
      "Baseline Loss: 4.3789 | Actual Loss: 3.1904\n",
      "Epoch 49/1000: Train Loss: 4.4956, Val Loss: 3.1904\n",
      "New best validation loss: 3.1904\n",
      "Baseline Loss: 5.4927 | Actual Loss: 4.5379\n"
     ]
    },
    {
     "name": "stderr",
     "output_type": "stream",
     "text": [
      "Training:   5%|▌         | 50/1000 [02:25<46:19,  2.93s/it]"
     ]
    },
    {
     "name": "stdout",
     "output_type": "stream",
     "text": [
      "Baseline Loss: 4.3789 | Actual Loss: 3.4962\n",
      "Epoch 50/1000: Train Loss: 4.5379, Val Loss: 3.4962\n",
      "Baseline Loss: 5.4928 | Actual Loss: 4.4126\n"
     ]
    },
    {
     "name": "stderr",
     "output_type": "stream",
     "text": [
      "Training:   5%|▌         | 51/1000 [02:28<46:32,  2.94s/it]"
     ]
    },
    {
     "name": "stdout",
     "output_type": "stream",
     "text": [
      "Baseline Loss: 4.3789 | Actual Loss: 3.2023\n",
      "Epoch 51/1000: Train Loss: 4.4126, Val Loss: 3.2023\n",
      "Baseline Loss: 5.4927 | Actual Loss: 4.4581\n"
     ]
    },
    {
     "name": "stderr",
     "output_type": "stream",
     "text": [
      "Training:   5%|▌         | 52/1000 [02:30<46:26,  2.94s/it]"
     ]
    },
    {
     "name": "stdout",
     "output_type": "stream",
     "text": [
      "Baseline Loss: 4.3789 | Actual Loss: 3.1508\n",
      "Epoch 52/1000: Train Loss: 4.4581, Val Loss: 3.1508\n",
      "New best validation loss: 3.1508\n",
      "Baseline Loss: 5.4927 | Actual Loss: 4.4106\n"
     ]
    },
    {
     "name": "stderr",
     "output_type": "stream",
     "text": [
      "Training:   5%|▌         | 53/1000 [02:33<45:47,  2.90s/it]"
     ]
    },
    {
     "name": "stdout",
     "output_type": "stream",
     "text": [
      "Baseline Loss: 4.3789 | Actual Loss: 3.1167\n",
      "Epoch 53/1000: Train Loss: 4.4106, Val Loss: 3.1167\n",
      "New best validation loss: 3.1167\n",
      "Baseline Loss: 5.4927 | Actual Loss: 4.3639\n"
     ]
    },
    {
     "name": "stderr",
     "output_type": "stream",
     "text": [
      "Training:   5%|▌         | 54/1000 [02:36<46:21,  2.94s/it]"
     ]
    },
    {
     "name": "stdout",
     "output_type": "stream",
     "text": [
      "Baseline Loss: 4.3789 | Actual Loss: 3.0810\n",
      "Epoch 54/1000: Train Loss: 4.3639, Val Loss: 3.0810\n",
      "New best validation loss: 3.0810\n",
      "Baseline Loss: 5.4927 | Actual Loss: 4.2826\n"
     ]
    },
    {
     "name": "stderr",
     "output_type": "stream",
     "text": [
      "Training:   6%|▌         | 55/1000 [02:39<46:30,  2.95s/it]"
     ]
    },
    {
     "name": "stdout",
     "output_type": "stream",
     "text": [
      "Baseline Loss: 4.3789 | Actual Loss: 2.9314\n",
      "Epoch 55/1000: Train Loss: 4.2826, Val Loss: 2.9314\n",
      "New best validation loss: 2.9314\n",
      "Baseline Loss: 5.4927 | Actual Loss: 4.2423\n"
     ]
    },
    {
     "name": "stderr",
     "output_type": "stream",
     "text": [
      "Training:   6%|▌         | 56/1000 [02:42<45:45,  2.91s/it]"
     ]
    },
    {
     "name": "stdout",
     "output_type": "stream",
     "text": [
      "Baseline Loss: 4.3789 | Actual Loss: 3.0015\n",
      "Epoch 56/1000: Train Loss: 4.2423, Val Loss: 3.0015\n",
      "Baseline Loss: 5.4927 | Actual Loss: 4.2487\n"
     ]
    },
    {
     "name": "stderr",
     "output_type": "stream",
     "text": [
      "Training:   6%|▌         | 57/1000 [02:45<45:04,  2.87s/it]"
     ]
    },
    {
     "name": "stdout",
     "output_type": "stream",
     "text": [
      "Baseline Loss: 4.3789 | Actual Loss: 3.1465\n",
      "Epoch 57/1000: Train Loss: 4.2487, Val Loss: 3.1465\n",
      "Baseline Loss: 5.4927 | Actual Loss: 4.3123\n"
     ]
    },
    {
     "name": "stderr",
     "output_type": "stream",
     "text": [
      "Training:   6%|▌         | 58/1000 [02:48<45:52,  2.92s/it]"
     ]
    },
    {
     "name": "stdout",
     "output_type": "stream",
     "text": [
      "Baseline Loss: 4.3789 | Actual Loss: 3.0277\n",
      "Epoch 58/1000: Train Loss: 4.3123, Val Loss: 3.0277\n",
      "Baseline Loss: 5.4927 | Actual Loss: 4.2983\n"
     ]
    },
    {
     "name": "stderr",
     "output_type": "stream",
     "text": [
      "Training:   6%|▌         | 59/1000 [02:51<45:59,  2.93s/it]"
     ]
    },
    {
     "name": "stdout",
     "output_type": "stream",
     "text": [
      "Baseline Loss: 4.3789 | Actual Loss: 3.1052\n",
      "Epoch 59/1000: Train Loss: 4.2983, Val Loss: 3.1052\n",
      "Baseline Loss: 5.4927 | Actual Loss: 4.2994\n"
     ]
    },
    {
     "name": "stderr",
     "output_type": "stream",
     "text": [
      "Training:   6%|▌         | 60/1000 [02:54<45:06,  2.88s/it]"
     ]
    },
    {
     "name": "stdout",
     "output_type": "stream",
     "text": [
      "Baseline Loss: 4.3789 | Actual Loss: 3.1773\n",
      "Epoch 60/1000: Train Loss: 4.2994, Val Loss: 3.1773\n",
      "Baseline Loss: 5.4928 | Actual Loss: 4.2006\n"
     ]
    },
    {
     "name": "stderr",
     "output_type": "stream",
     "text": [
      "Training:   6%|▌         | 61/1000 [02:57<46:16,  2.96s/it]"
     ]
    },
    {
     "name": "stdout",
     "output_type": "stream",
     "text": [
      "Baseline Loss: 4.3789 | Actual Loss: 2.9573\n",
      "Epoch 61/1000: Train Loss: 4.2006, Val Loss: 2.9573\n",
      "Baseline Loss: 5.4927 | Actual Loss: 4.2334\n"
     ]
    },
    {
     "name": "stderr",
     "output_type": "stream",
     "text": [
      "Training:   6%|▌         | 62/1000 [02:59<44:34,  2.85s/it]"
     ]
    },
    {
     "name": "stdout",
     "output_type": "stream",
     "text": [
      "Baseline Loss: 4.3789 | Actual Loss: 3.1095\n",
      "Epoch 62/1000: Train Loss: 4.2334, Val Loss: 3.1095\n",
      "Baseline Loss: 5.4927 | Actual Loss: 4.1795\n"
     ]
    },
    {
     "name": "stderr",
     "output_type": "stream",
     "text": [
      "Training:   6%|▋         | 63/1000 [03:02<44:58,  2.88s/it]"
     ]
    },
    {
     "name": "stdout",
     "output_type": "stream",
     "text": [
      "Baseline Loss: 4.3789 | Actual Loss: 3.1191\n",
      "Epoch 63/1000: Train Loss: 4.1795, Val Loss: 3.1191\n",
      "Baseline Loss: 5.4927 | Actual Loss: 4.1227\n"
     ]
    },
    {
     "name": "stderr",
     "output_type": "stream",
     "text": [
      "Training:   6%|▋         | 64/1000 [03:05<44:37,  2.86s/it]"
     ]
    },
    {
     "name": "stdout",
     "output_type": "stream",
     "text": [
      "Baseline Loss: 4.3789 | Actual Loss: 2.8544\n",
      "Epoch 64/1000: Train Loss: 4.1227, Val Loss: 2.8544\n",
      "New best validation loss: 2.8544\n",
      "Baseline Loss: 5.4927 | Actual Loss: 4.3449\n"
     ]
    },
    {
     "name": "stderr",
     "output_type": "stream",
     "text": [
      "Training:   6%|▋         | 65/1000 [03:08<44:25,  2.85s/it]"
     ]
    },
    {
     "name": "stdout",
     "output_type": "stream",
     "text": [
      "Baseline Loss: 4.3789 | Actual Loss: 2.9924\n",
      "Epoch 65/1000: Train Loss: 4.3449, Val Loss: 2.9924\n",
      "Baseline Loss: 5.4927 | Actual Loss: 4.2335\n"
     ]
    },
    {
     "name": "stderr",
     "output_type": "stream",
     "text": [
      "Training:   7%|▋         | 66/1000 [03:11<44:03,  2.83s/it]"
     ]
    },
    {
     "name": "stdout",
     "output_type": "stream",
     "text": [
      "Baseline Loss: 4.3789 | Actual Loss: 3.1463\n",
      "Epoch 66/1000: Train Loss: 4.2335, Val Loss: 3.1463\n",
      "Baseline Loss: 5.4928 | Actual Loss: 4.1922\n"
     ]
    },
    {
     "name": "stderr",
     "output_type": "stream",
     "text": [
      "Training:   7%|▋         | 67/1000 [03:14<46:03,  2.96s/it]"
     ]
    },
    {
     "name": "stdout",
     "output_type": "stream",
     "text": [
      "Baseline Loss: 4.3789 | Actual Loss: 2.8802\n",
      "Epoch 67/1000: Train Loss: 4.1922, Val Loss: 2.8802\n",
      "Baseline Loss: 5.4927 | Actual Loss: 4.2201\n"
     ]
    },
    {
     "name": "stderr",
     "output_type": "stream",
     "text": [
      "Training:   7%|▋         | 68/1000 [03:17<44:32,  2.87s/it]"
     ]
    },
    {
     "name": "stdout",
     "output_type": "stream",
     "text": [
      "Baseline Loss: 4.3789 | Actual Loss: 2.7952\n",
      "Epoch 68/1000: Train Loss: 4.2201, Val Loss: 2.7952\n",
      "New best validation loss: 2.7952\n",
      "Baseline Loss: 5.4927 | Actual Loss: 4.1711\n"
     ]
    },
    {
     "name": "stderr",
     "output_type": "stream",
     "text": [
      "Training:   7%|▋         | 69/1000 [03:20<44:43,  2.88s/it]"
     ]
    },
    {
     "name": "stdout",
     "output_type": "stream",
     "text": [
      "Baseline Loss: 4.3789 | Actual Loss: 2.8638\n",
      "Epoch 69/1000: Train Loss: 4.1711, Val Loss: 2.8638\n",
      "Baseline Loss: 5.4927 | Actual Loss: 4.1540\n"
     ]
    },
    {
     "name": "stderr",
     "output_type": "stream",
     "text": [
      "Training:   7%|▋         | 70/1000 [03:22<43:57,  2.84s/it]"
     ]
    },
    {
     "name": "stdout",
     "output_type": "stream",
     "text": [
      "Baseline Loss: 4.3789 | Actual Loss: 2.8511\n",
      "Epoch 70/1000: Train Loss: 4.1540, Val Loss: 2.8511\n",
      "Baseline Loss: 5.4927 | Actual Loss: 4.1709\n"
     ]
    },
    {
     "name": "stderr",
     "output_type": "stream",
     "text": [
      "Training:   7%|▋         | 71/1000 [03:26<45:55,  2.97s/it]"
     ]
    },
    {
     "name": "stdout",
     "output_type": "stream",
     "text": [
      "Baseline Loss: 4.3789 | Actual Loss: 3.0063\n",
      "Epoch 71/1000: Train Loss: 4.1709, Val Loss: 3.0063\n",
      "Baseline Loss: 5.4927 | Actual Loss: 4.1356\n"
     ]
    },
    {
     "name": "stderr",
     "output_type": "stream",
     "text": [
      "Training:   7%|▋         | 72/1000 [03:28<44:27,  2.87s/it]"
     ]
    },
    {
     "name": "stdout",
     "output_type": "stream",
     "text": [
      "Baseline Loss: 4.3789 | Actual Loss: 2.8541\n",
      "Epoch 72/1000: Train Loss: 4.1356, Val Loss: 2.8541\n",
      "Baseline Loss: 5.4927 | Actual Loss: 4.1580\n"
     ]
    },
    {
     "name": "stderr",
     "output_type": "stream",
     "text": [
      "Training:   7%|▋         | 73/1000 [03:31<44:16,  2.87s/it]"
     ]
    },
    {
     "name": "stdout",
     "output_type": "stream",
     "text": [
      "Baseline Loss: 4.3789 | Actual Loss: 2.8637\n",
      "Epoch 73/1000: Train Loss: 4.1580, Val Loss: 2.8637\n",
      "Baseline Loss: 5.4927 | Actual Loss: 4.2231\n"
     ]
    },
    {
     "name": "stderr",
     "output_type": "stream",
     "text": [
      "Training:   7%|▋         | 74/1000 [03:34<43:54,  2.84s/it]"
     ]
    },
    {
     "name": "stdout",
     "output_type": "stream",
     "text": [
      "Baseline Loss: 4.3789 | Actual Loss: 3.0344\n",
      "Epoch 74/1000: Train Loss: 4.2231, Val Loss: 3.0344\n",
      "Baseline Loss: 5.4927 | Actual Loss: 4.0993\n"
     ]
    },
    {
     "name": "stderr",
     "output_type": "stream",
     "text": [
      "Training:   8%|▊         | 75/1000 [03:37<44:30,  2.89s/it]"
     ]
    },
    {
     "name": "stdout",
     "output_type": "stream",
     "text": [
      "Baseline Loss: 4.3789 | Actual Loss: 2.9702\n",
      "Epoch 75/1000: Train Loss: 4.0993, Val Loss: 2.9702\n",
      "Baseline Loss: 5.4927 | Actual Loss: 3.9778\n"
     ]
    },
    {
     "name": "stderr",
     "output_type": "stream",
     "text": [
      "Training:   8%|▊         | 76/1000 [03:40<44:08,  2.87s/it]"
     ]
    },
    {
     "name": "stdout",
     "output_type": "stream",
     "text": [
      "Baseline Loss: 4.3789 | Actual Loss: 2.7514\n",
      "Epoch 76/1000: Train Loss: 3.9778, Val Loss: 2.7514\n",
      "New best validation loss: 2.7514\n",
      "Baseline Loss: 5.4927 | Actual Loss: 4.0877\n"
     ]
    },
    {
     "name": "stderr",
     "output_type": "stream",
     "text": [
      "Training:   8%|▊         | 77/1000 [03:43<45:49,  2.98s/it]"
     ]
    },
    {
     "name": "stdout",
     "output_type": "stream",
     "text": [
      "Baseline Loss: 4.3789 | Actual Loss: 2.9252\n",
      "Epoch 77/1000: Train Loss: 4.0877, Val Loss: 2.9252\n",
      "Baseline Loss: 5.4927 | Actual Loss: 4.0423\n"
     ]
    },
    {
     "name": "stderr",
     "output_type": "stream",
     "text": [
      "Training:   8%|▊         | 78/1000 [03:45<43:59,  2.86s/it]"
     ]
    },
    {
     "name": "stdout",
     "output_type": "stream",
     "text": [
      "Baseline Loss: 4.3789 | Actual Loss: 3.0480\n",
      "Epoch 78/1000: Train Loss: 4.0423, Val Loss: 3.0480\n",
      "Baseline Loss: 5.4928 | Actual Loss: 4.0097\n"
     ]
    },
    {
     "name": "stderr",
     "output_type": "stream",
     "text": [
      "Training:   8%|▊         | 79/1000 [03:49<44:46,  2.92s/it]"
     ]
    },
    {
     "name": "stdout",
     "output_type": "stream",
     "text": [
      "Baseline Loss: 4.3789 | Actual Loss: 2.8054\n",
      "Epoch 79/1000: Train Loss: 4.0097, Val Loss: 2.8054\n",
      "Baseline Loss: 5.4927 | Actual Loss: 4.0539\n"
     ]
    },
    {
     "name": "stderr",
     "output_type": "stream",
     "text": [
      "Training:   8%|▊         | 80/1000 [03:51<44:51,  2.93s/it]"
     ]
    },
    {
     "name": "stdout",
     "output_type": "stream",
     "text": [
      "Baseline Loss: 4.3789 | Actual Loss: 2.8683\n",
      "Epoch 80/1000: Train Loss: 4.0539, Val Loss: 2.8683\n",
      "Baseline Loss: 5.4927 | Actual Loss: 4.0266\n"
     ]
    },
    {
     "name": "stderr",
     "output_type": "stream",
     "text": [
      "Training:   8%|▊         | 81/1000 [03:55<45:22,  2.96s/it]"
     ]
    },
    {
     "name": "stdout",
     "output_type": "stream",
     "text": [
      "Baseline Loss: 4.3789 | Actual Loss: 2.7252\n",
      "Epoch 81/1000: Train Loss: 4.0266, Val Loss: 2.7252\n",
      "New best validation loss: 2.7252\n",
      "Baseline Loss: 5.4928 | Actual Loss: 3.9572\n"
     ]
    },
    {
     "name": "stderr",
     "output_type": "stream",
     "text": [
      "Training:   8%|▊         | 82/1000 [03:58<46:21,  3.03s/it]"
     ]
    },
    {
     "name": "stdout",
     "output_type": "stream",
     "text": [
      "Baseline Loss: 4.3789 | Actual Loss: 2.8637\n",
      "Epoch 82/1000: Train Loss: 3.9572, Val Loss: 2.8637\n",
      "Baseline Loss: 5.4927 | Actual Loss: 4.0048\n"
     ]
    },
    {
     "name": "stderr",
     "output_type": "stream",
     "text": [
      "Training:   8%|▊         | 83/1000 [04:01<46:17,  3.03s/it]"
     ]
    },
    {
     "name": "stdout",
     "output_type": "stream",
     "text": [
      "Baseline Loss: 4.3789 | Actual Loss: 2.6957\n",
      "Epoch 83/1000: Train Loss: 4.0048, Val Loss: 2.6957\n",
      "New best validation loss: 2.6957\n",
      "Baseline Loss: 5.4928 | Actual Loss: 3.9670\n"
     ]
    },
    {
     "name": "stderr",
     "output_type": "stream",
     "text": [
      "Training:   8%|▊         | 84/1000 [04:04<45:45,  3.00s/it]"
     ]
    },
    {
     "name": "stdout",
     "output_type": "stream",
     "text": [
      "Baseline Loss: 4.3789 | Actual Loss: 2.8963\n",
      "Epoch 84/1000: Train Loss: 3.9670, Val Loss: 2.8963\n",
      "Baseline Loss: 5.4927 | Actual Loss: 3.9450\n"
     ]
    },
    {
     "name": "stderr",
     "output_type": "stream",
     "text": [
      "Training:   8%|▊         | 85/1000 [04:07<46:02,  3.02s/it]"
     ]
    },
    {
     "name": "stdout",
     "output_type": "stream",
     "text": [
      "Baseline Loss: 4.3789 | Actual Loss: 2.8302\n",
      "Epoch 85/1000: Train Loss: 3.9450, Val Loss: 2.8302\n",
      "Baseline Loss: 5.4927 | Actual Loss: 3.9872\n"
     ]
    },
    {
     "name": "stderr",
     "output_type": "stream",
     "text": [
      "Training:   9%|▊         | 86/1000 [04:10<46:57,  3.08s/it]"
     ]
    },
    {
     "name": "stdout",
     "output_type": "stream",
     "text": [
      "Baseline Loss: 4.3789 | Actual Loss: 2.7811\n",
      "Epoch 86/1000: Train Loss: 3.9872, Val Loss: 2.7811\n",
      "Baseline Loss: 5.4927 | Actual Loss: 3.9647\n"
     ]
    },
    {
     "name": "stderr",
     "output_type": "stream",
     "text": [
      "Training:   9%|▊         | 87/1000 [04:13<46:47,  3.08s/it]"
     ]
    },
    {
     "name": "stdout",
     "output_type": "stream",
     "text": [
      "Baseline Loss: 4.3789 | Actual Loss: 2.7386\n",
      "Epoch 87/1000: Train Loss: 3.9647, Val Loss: 2.7386\n"
     ]
    },
    {
     "name": "stderr",
     "output_type": "stream",
     "text": [
      "Training:   9%|▉         | 88/1000 [04:16<46:37,  3.07s/it]"
     ]
    },
    {
     "name": "stdout",
     "output_type": "stream",
     "text": [
      "Baseline Loss: 5.4927 | Actual Loss: 3.9326\n",
      "Baseline Loss: 4.3789 | Actual Loss: 2.8635\n",
      "Epoch 88/1000: Train Loss: 3.9326, Val Loss: 2.8635\n",
      "Baseline Loss: 5.4928 | Actual Loss: 3.9373\n"
     ]
    },
    {
     "name": "stderr",
     "output_type": "stream",
     "text": [
      "Training:   9%|▉         | 89/1000 [04:19<46:04,  3.03s/it]"
     ]
    },
    {
     "name": "stdout",
     "output_type": "stream",
     "text": [
      "Baseline Loss: 4.3789 | Actual Loss: 2.7505\n",
      "Epoch 89/1000: Train Loss: 3.9373, Val Loss: 2.7505\n"
     ]
    },
    {
     "name": "stderr",
     "output_type": "stream",
     "text": [
      "Training:   9%|▉         | 90/1000 [04:22<45:52,  3.02s/it]"
     ]
    },
    {
     "name": "stdout",
     "output_type": "stream",
     "text": [
      "Baseline Loss: 5.4928 | Actual Loss: 4.0195\n",
      "Baseline Loss: 4.3789 | Actual Loss: 2.7558\n",
      "Epoch 90/1000: Train Loss: 4.0195, Val Loss: 2.7558\n",
      "Baseline Loss: 5.4927 | Actual Loss: 3.8913\n"
     ]
    },
    {
     "name": "stderr",
     "output_type": "stream",
     "text": [
      "Training:   9%|▉         | 91/1000 [04:25<45:42,  3.02s/it]"
     ]
    },
    {
     "name": "stdout",
     "output_type": "stream",
     "text": [
      "Baseline Loss: 4.3789 | Actual Loss: 2.9161\n",
      "Epoch 91/1000: Train Loss: 3.8913, Val Loss: 2.9161\n",
      "Baseline Loss: 5.4927 | Actual Loss: 3.8744\n"
     ]
    },
    {
     "name": "stderr",
     "output_type": "stream",
     "text": [
      "Training:   9%|▉         | 92/1000 [04:28<44:13,  2.92s/it]"
     ]
    },
    {
     "name": "stdout",
     "output_type": "stream",
     "text": [
      "Baseline Loss: 4.3789 | Actual Loss: 2.7914\n",
      "Epoch 92/1000: Train Loss: 3.8744, Val Loss: 2.7914\n",
      "Baseline Loss: 5.4928 | Actual Loss: 3.8993\n"
     ]
    },
    {
     "name": "stderr",
     "output_type": "stream",
     "text": [
      "Training:   9%|▉         | 93/1000 [04:31<44:25,  2.94s/it]"
     ]
    },
    {
     "name": "stdout",
     "output_type": "stream",
     "text": [
      "Baseline Loss: 4.3789 | Actual Loss: 2.7716\n",
      "Epoch 93/1000: Train Loss: 3.8993, Val Loss: 2.7716\n",
      "Baseline Loss: 5.4927 | Actual Loss: 3.8598\n"
     ]
    },
    {
     "name": "stderr",
     "output_type": "stream",
     "text": [
      "Training:   9%|▉         | 94/1000 [04:34<44:21,  2.94s/it]"
     ]
    },
    {
     "name": "stdout",
     "output_type": "stream",
     "text": [
      "Baseline Loss: 4.3789 | Actual Loss: 2.7032\n",
      "Epoch 94/1000: Train Loss: 3.8598, Val Loss: 2.7032\n",
      "Baseline Loss: 5.4927 | Actual Loss: 3.9020\n"
     ]
    },
    {
     "name": "stderr",
     "output_type": "stream",
     "text": [
      "Training:  10%|▉         | 95/1000 [04:36<43:46,  2.90s/it]"
     ]
    },
    {
     "name": "stdout",
     "output_type": "stream",
     "text": [
      "Baseline Loss: 4.3789 | Actual Loss: 2.7353\n",
      "Epoch 95/1000: Train Loss: 3.9020, Val Loss: 2.7353\n"
     ]
    },
    {
     "name": "stderr",
     "output_type": "stream",
     "text": [
      "Training:  10%|▉         | 96/1000 [04:40<46:11,  3.07s/it]"
     ]
    },
    {
     "name": "stdout",
     "output_type": "stream",
     "text": [
      "Baseline Loss: 5.4927 | Actual Loss: 3.9068\n",
      "Baseline Loss: 4.3789 | Actual Loss: 2.5590\n",
      "Epoch 96/1000: Train Loss: 3.9068, Val Loss: 2.5590\n",
      "New best validation loss: 2.5590\n",
      "Baseline Loss: 5.4927 | Actual Loss: 3.9050\n"
     ]
    },
    {
     "name": "stderr",
     "output_type": "stream",
     "text": [
      "Training:  10%|▉         | 97/1000 [04:43<45:07,  3.00s/it]"
     ]
    },
    {
     "name": "stdout",
     "output_type": "stream",
     "text": [
      "Baseline Loss: 4.3789 | Actual Loss: 2.6425\n",
      "Epoch 97/1000: Train Loss: 3.9050, Val Loss: 2.6425\n",
      "Baseline Loss: 5.4927 | Actual Loss: 3.8710\n"
     ]
    },
    {
     "name": "stderr",
     "output_type": "stream",
     "text": [
      "Training:  10%|▉         | 98/1000 [04:46<44:32,  2.96s/it]"
     ]
    },
    {
     "name": "stdout",
     "output_type": "stream",
     "text": [
      "Baseline Loss: 4.3789 | Actual Loss: 2.5421\n",
      "Epoch 98/1000: Train Loss: 3.8710, Val Loss: 2.5421\n",
      "New best validation loss: 2.5421\n",
      "Baseline Loss: 5.4927 | Actual Loss: 3.9380\n"
     ]
    },
    {
     "name": "stderr",
     "output_type": "stream",
     "text": [
      "Training:  10%|▉         | 99/1000 [04:48<43:27,  2.89s/it]"
     ]
    },
    {
     "name": "stdout",
     "output_type": "stream",
     "text": [
      "Baseline Loss: 4.3789 | Actual Loss: 2.9795\n",
      "Epoch 99/1000: Train Loss: 3.9380, Val Loss: 2.9795\n",
      "Baseline Loss: 5.4927 | Actual Loss: 3.7562\n"
     ]
    },
    {
     "name": "stderr",
     "output_type": "stream",
     "text": [
      "Training:  10%|█         | 100/1000 [04:51<44:02,  2.94s/it]"
     ]
    },
    {
     "name": "stdout",
     "output_type": "stream",
     "text": [
      "Baseline Loss: 4.3789 | Actual Loss: 2.7755\n",
      "Epoch 100/1000: Train Loss: 3.7562, Val Loss: 2.7755\n",
      "Baseline Loss: 5.4927 | Actual Loss: 3.7833\n"
     ]
    },
    {
     "name": "stderr",
     "output_type": "stream",
     "text": [
      "Training:  10%|█         | 101/1000 [04:54<44:11,  2.95s/it]"
     ]
    },
    {
     "name": "stdout",
     "output_type": "stream",
     "text": [
      "Baseline Loss: 4.3789 | Actual Loss: 2.7474\n",
      "Epoch 101/1000: Train Loss: 3.7833, Val Loss: 2.7474\n",
      "Baseline Loss: 5.4927 | Actual Loss: 3.8493\n"
     ]
    },
    {
     "name": "stderr",
     "output_type": "stream",
     "text": [
      "Training:  10%|█         | 102/1000 [04:57<43:28,  2.91s/it]"
     ]
    },
    {
     "name": "stdout",
     "output_type": "stream",
     "text": [
      "Baseline Loss: 4.3789 | Actual Loss: 2.5658\n",
      "Epoch 102/1000: Train Loss: 3.8493, Val Loss: 2.5658\n",
      "Baseline Loss: 5.4927 | Actual Loss: 3.7596\n"
     ]
    },
    {
     "name": "stderr",
     "output_type": "stream",
     "text": [
      "Training:  10%|█         | 103/1000 [05:00<44:50,  3.00s/it]"
     ]
    },
    {
     "name": "stdout",
     "output_type": "stream",
     "text": [
      "Baseline Loss: 4.3789 | Actual Loss: 2.3986\n",
      "Epoch 103/1000: Train Loss: 3.7596, Val Loss: 2.3986\n",
      "New best validation loss: 2.3986\n",
      "Baseline Loss: 5.4928 | Actual Loss: 3.7684\n"
     ]
    },
    {
     "name": "stderr",
     "output_type": "stream",
     "text": [
      "Training:  10%|█         | 104/1000 [05:03<43:50,  2.94s/it]"
     ]
    },
    {
     "name": "stdout",
     "output_type": "stream",
     "text": [
      "Baseline Loss: 4.3789 | Actual Loss: 2.4937\n",
      "Epoch 104/1000: Train Loss: 3.7684, Val Loss: 2.4937\n",
      "Baseline Loss: 5.4927 | Actual Loss: 3.9004\n"
     ]
    },
    {
     "name": "stderr",
     "output_type": "stream",
     "text": [
      "Training:  10%|█         | 105/1000 [05:06<44:32,  2.99s/it]"
     ]
    },
    {
     "name": "stdout",
     "output_type": "stream",
     "text": [
      "Baseline Loss: 4.3789 | Actual Loss: 2.6529\n",
      "Epoch 105/1000: Train Loss: 3.9004, Val Loss: 2.6529\n",
      "Baseline Loss: 5.4928 | Actual Loss: 3.7209\n"
     ]
    },
    {
     "name": "stderr",
     "output_type": "stream",
     "text": [
      "Training:  11%|█         | 106/1000 [05:09<45:12,  3.03s/it]"
     ]
    },
    {
     "name": "stdout",
     "output_type": "stream",
     "text": [
      "Baseline Loss: 4.3789 | Actual Loss: 2.5748\n",
      "Epoch 106/1000: Train Loss: 3.7209, Val Loss: 2.5748\n",
      "Baseline Loss: 5.4927 | Actual Loss: 3.7756\n"
     ]
    },
    {
     "name": "stderr",
     "output_type": "stream",
     "text": [
      "Training:  11%|█         | 107/1000 [05:12<44:41,  3.00s/it]"
     ]
    },
    {
     "name": "stdout",
     "output_type": "stream",
     "text": [
      "Baseline Loss: 4.3789 | Actual Loss: 2.7467\n",
      "Epoch 107/1000: Train Loss: 3.7756, Val Loss: 2.7467\n",
      "Baseline Loss: 5.4927 | Actual Loss: 3.7402\n"
     ]
    },
    {
     "name": "stderr",
     "output_type": "stream",
     "text": [
      "Training:  11%|█         | 108/1000 [05:16<45:23,  3.05s/it]"
     ]
    },
    {
     "name": "stdout",
     "output_type": "stream",
     "text": [
      "Baseline Loss: 4.3789 | Actual Loss: 2.5421\n",
      "Epoch 108/1000: Train Loss: 3.7402, Val Loss: 2.5421\n",
      "Baseline Loss: 5.4927 | Actual Loss: 3.8225\n"
     ]
    },
    {
     "name": "stderr",
     "output_type": "stream",
     "text": [
      "Training:  11%|█         | 109/1000 [05:19<45:19,  3.05s/it]"
     ]
    },
    {
     "name": "stdout",
     "output_type": "stream",
     "text": [
      "Baseline Loss: 4.3789 | Actual Loss: 2.4204\n",
      "Epoch 109/1000: Train Loss: 3.8225, Val Loss: 2.4204\n",
      "Baseline Loss: 5.4927 | Actual Loss: 3.7748\n"
     ]
    },
    {
     "name": "stderr",
     "output_type": "stream",
     "text": [
      "Training:  11%|█         | 110/1000 [05:22<45:40,  3.08s/it]"
     ]
    },
    {
     "name": "stdout",
     "output_type": "stream",
     "text": [
      "Baseline Loss: 4.3789 | Actual Loss: 2.4658\n",
      "Epoch 110/1000: Train Loss: 3.7748, Val Loss: 2.4658\n",
      "Baseline Loss: 5.4927 | Actual Loss: 3.7643\n"
     ]
    },
    {
     "name": "stderr",
     "output_type": "stream",
     "text": [
      "Training:  11%|█         | 111/1000 [05:25<44:55,  3.03s/it]"
     ]
    },
    {
     "name": "stdout",
     "output_type": "stream",
     "text": [
      "Baseline Loss: 4.3789 | Actual Loss: 2.5643\n",
      "Epoch 111/1000: Train Loss: 3.7643, Val Loss: 2.5643\n",
      "Baseline Loss: 5.4927 | Actual Loss: 3.7844\n"
     ]
    },
    {
     "name": "stderr",
     "output_type": "stream",
     "text": [
      "Training:  11%|█         | 112/1000 [05:28<44:58,  3.04s/it]"
     ]
    },
    {
     "name": "stdout",
     "output_type": "stream",
     "text": [
      "Baseline Loss: 4.3789 | Actual Loss: 2.5022\n",
      "Epoch 112/1000: Train Loss: 3.7844, Val Loss: 2.5022\n",
      "Baseline Loss: 5.4927 | Actual Loss: 3.7879\n"
     ]
    },
    {
     "name": "stderr",
     "output_type": "stream",
     "text": [
      "Training:  11%|█▏        | 113/1000 [05:31<44:13,  2.99s/it]"
     ]
    },
    {
     "name": "stdout",
     "output_type": "stream",
     "text": [
      "Baseline Loss: 4.3789 | Actual Loss: 2.5465\n",
      "Epoch 113/1000: Train Loss: 3.7879, Val Loss: 2.5465\n",
      "Baseline Loss: 5.4927 | Actual Loss: 3.7002\n"
     ]
    },
    {
     "name": "stderr",
     "output_type": "stream",
     "text": [
      "Training:  11%|█▏        | 114/1000 [05:33<43:26,  2.94s/it]"
     ]
    },
    {
     "name": "stdout",
     "output_type": "stream",
     "text": [
      "Baseline Loss: 4.3789 | Actual Loss: 2.5603\n",
      "Epoch 114/1000: Train Loss: 3.7002, Val Loss: 2.5603\n",
      "Baseline Loss: 5.4928 | Actual Loss: 3.6875\n"
     ]
    },
    {
     "name": "stderr",
     "output_type": "stream",
     "text": [
      "Training:  12%|█▏        | 115/1000 [05:36<43:35,  2.96s/it]"
     ]
    },
    {
     "name": "stdout",
     "output_type": "stream",
     "text": [
      "Baseline Loss: 4.3789 | Actual Loss: 2.5136\n",
      "Epoch 115/1000: Train Loss: 3.6875, Val Loss: 2.5136\n",
      "Baseline Loss: 5.4928 | Actual Loss: 3.5928\n"
     ]
    },
    {
     "name": "stderr",
     "output_type": "stream",
     "text": [
      "Training:  12%|█▏        | 116/1000 [05:39<43:48,  2.97s/it]"
     ]
    },
    {
     "name": "stdout",
     "output_type": "stream",
     "text": [
      "Baseline Loss: 4.3789 | Actual Loss: 2.6640\n",
      "Epoch 116/1000: Train Loss: 3.5928, Val Loss: 2.6640\n",
      "Baseline Loss: 5.4927 | Actual Loss: 3.8252\n"
     ]
    },
    {
     "name": "stderr",
     "output_type": "stream",
     "text": [
      "Training:  12%|█▏        | 117/1000 [05:42<42:31,  2.89s/it]"
     ]
    },
    {
     "name": "stdout",
     "output_type": "stream",
     "text": [
      "Baseline Loss: 4.3789 | Actual Loss: 2.9517\n",
      "Epoch 117/1000: Train Loss: 3.8252, Val Loss: 2.9517\n",
      "Baseline Loss: 5.4927 | Actual Loss: 3.6552\n"
     ]
    },
    {
     "name": "stderr",
     "output_type": "stream",
     "text": [
      "Training:  12%|█▏        | 118/1000 [05:45<42:56,  2.92s/it]"
     ]
    },
    {
     "name": "stdout",
     "output_type": "stream",
     "text": [
      "Baseline Loss: 4.3789 | Actual Loss: 2.5781\n",
      "Epoch 118/1000: Train Loss: 3.6552, Val Loss: 2.5781\n",
      "Baseline Loss: 5.4928 | Actual Loss: 3.6872\n"
     ]
    },
    {
     "name": "stderr",
     "output_type": "stream",
     "text": [
      "Training:  12%|█▏        | 119/1000 [05:48<42:39,  2.91s/it]"
     ]
    },
    {
     "name": "stdout",
     "output_type": "stream",
     "text": [
      "Baseline Loss: 4.3789 | Actual Loss: 2.5970\n",
      "Epoch 119/1000: Train Loss: 3.6872, Val Loss: 2.5970\n",
      "Baseline Loss: 5.4927 | Actual Loss: 3.6912\n"
     ]
    },
    {
     "name": "stderr",
     "output_type": "stream",
     "text": [
      "Training:  12%|█▏        | 120/1000 [05:51<41:43,  2.85s/it]"
     ]
    },
    {
     "name": "stdout",
     "output_type": "stream",
     "text": [
      "Baseline Loss: 4.3789 | Actual Loss: 2.5591\n",
      "Epoch 120/1000: Train Loss: 3.6912, Val Loss: 2.5591\n",
      "Baseline Loss: 5.4927 | Actual Loss: 3.6651\n"
     ]
    },
    {
     "name": "stderr",
     "output_type": "stream",
     "text": [
      "Training:  12%|█▏        | 121/1000 [05:54<43:17,  2.96s/it]"
     ]
    },
    {
     "name": "stdout",
     "output_type": "stream",
     "text": [
      "Baseline Loss: 4.3789 | Actual Loss: 2.4258\n",
      "Epoch 121/1000: Train Loss: 3.6651, Val Loss: 2.4258\n",
      "Baseline Loss: 5.4928 | Actual Loss: 3.6327\n"
     ]
    },
    {
     "name": "stderr",
     "output_type": "stream",
     "text": [
      "Training:  12%|█▏        | 122/1000 [05:57<42:01,  2.87s/it]"
     ]
    },
    {
     "name": "stdout",
     "output_type": "stream",
     "text": [
      "Baseline Loss: 4.3789 | Actual Loss: 2.4901\n",
      "Epoch 122/1000: Train Loss: 3.6327, Val Loss: 2.4901\n",
      "Baseline Loss: 5.4927 | Actual Loss: 3.5741\n"
     ]
    },
    {
     "name": "stderr",
     "output_type": "stream",
     "text": [
      "Training:  12%|█▏        | 123/1000 [05:59<42:02,  2.88s/it]"
     ]
    },
    {
     "name": "stdout",
     "output_type": "stream",
     "text": [
      "Baseline Loss: 4.3789 | Actual Loss: 2.2835\n",
      "Epoch 123/1000: Train Loss: 3.5741, Val Loss: 2.2835\n",
      "New best validation loss: 2.2835\n",
      "Baseline Loss: 5.4927 | Actual Loss: 3.6080\n"
     ]
    },
    {
     "name": "stderr",
     "output_type": "stream",
     "text": [
      "Training:  12%|█▏        | 124/1000 [06:02<42:05,  2.88s/it]"
     ]
    },
    {
     "name": "stdout",
     "output_type": "stream",
     "text": [
      "Baseline Loss: 4.3789 | Actual Loss: 2.3302\n",
      "Epoch 124/1000: Train Loss: 3.6080, Val Loss: 2.3302\n"
     ]
    },
    {
     "name": "stderr",
     "output_type": "stream",
     "text": [
      "Training:  12%|█▎        | 125/1000 [06:05<42:41,  2.93s/it]"
     ]
    },
    {
     "name": "stdout",
     "output_type": "stream",
     "text": [
      "Baseline Loss: 5.4928 | Actual Loss: 3.5297\n",
      "Baseline Loss: 4.3789 | Actual Loss: 2.6186\n",
      "Epoch 125/1000: Train Loss: 3.5297, Val Loss: 2.6186\n",
      "Baseline Loss: 5.4927 | Actual Loss: 3.6029\n"
     ]
    },
    {
     "name": "stderr",
     "output_type": "stream",
     "text": [
      "Training:  13%|█▎        | 126/1000 [06:08<42:29,  2.92s/it]"
     ]
    },
    {
     "name": "stdout",
     "output_type": "stream",
     "text": [
      "Baseline Loss: 4.3789 | Actual Loss: 2.6056\n",
      "Epoch 126/1000: Train Loss: 3.6029, Val Loss: 2.6056\n",
      "Baseline Loss: 5.4928 | Actual Loss: 3.5981\n"
     ]
    },
    {
     "name": "stderr",
     "output_type": "stream",
     "text": [
      "Training:  13%|█▎        | 127/1000 [06:11<43:41,  3.00s/it]"
     ]
    },
    {
     "name": "stdout",
     "output_type": "stream",
     "text": [
      "Baseline Loss: 4.3789 | Actual Loss: 2.5010\n",
      "Epoch 127/1000: Train Loss: 3.5981, Val Loss: 2.5010\n"
     ]
    },
    {
     "name": "stderr",
     "output_type": "stream",
     "text": [
      "Training:  13%|█▎        | 128/1000 [06:14<42:10,  2.90s/it]"
     ]
    },
    {
     "name": "stdout",
     "output_type": "stream",
     "text": [
      "Baseline Loss: 5.4928 | Actual Loss: 3.5628\n",
      "Baseline Loss: 4.3789 | Actual Loss: 2.4859\n",
      "Epoch 128/1000: Train Loss: 3.5628, Val Loss: 2.4859\n"
     ]
    },
    {
     "name": "stderr",
     "output_type": "stream",
     "text": [
      "Training:  13%|█▎        | 129/1000 [06:17<42:03,  2.90s/it]"
     ]
    },
    {
     "name": "stdout",
     "output_type": "stream",
     "text": [
      "Baseline Loss: 5.4927 | Actual Loss: 3.6062\n",
      "Baseline Loss: 4.3789 | Actual Loss: 2.4349\n",
      "Epoch 129/1000: Train Loss: 3.6062, Val Loss: 2.4349\n",
      "Baseline Loss: 5.4927 | Actual Loss: 3.5774\n"
     ]
    },
    {
     "name": "stderr",
     "output_type": "stream",
     "text": [
      "Training:  13%|█▎        | 130/1000 [06:20<41:33,  2.87s/it]"
     ]
    },
    {
     "name": "stdout",
     "output_type": "stream",
     "text": [
      "Baseline Loss: 4.3789 | Actual Loss: 2.3874\n",
      "Epoch 130/1000: Train Loss: 3.5774, Val Loss: 2.3874\n",
      "Baseline Loss: 5.4928 | Actual Loss: 3.5863\n"
     ]
    },
    {
     "name": "stderr",
     "output_type": "stream",
     "text": [
      "Training:  13%|█▎        | 131/1000 [06:23<42:22,  2.93s/it]"
     ]
    },
    {
     "name": "stdout",
     "output_type": "stream",
     "text": [
      "Baseline Loss: 4.3789 | Actual Loss: 2.2668\n",
      "Epoch 131/1000: Train Loss: 3.5863, Val Loss: 2.2668\n",
      "New best validation loss: 2.2668\n",
      "Baseline Loss: 5.4927 | Actual Loss: 3.5253\n"
     ]
    },
    {
     "name": "stderr",
     "output_type": "stream",
     "text": [
      "Training:  13%|█▎        | 132/1000 [06:26<42:28,  2.94s/it]"
     ]
    },
    {
     "name": "stdout",
     "output_type": "stream",
     "text": [
      "Baseline Loss: 4.3789 | Actual Loss: 2.4450\n",
      "Epoch 132/1000: Train Loss: 3.5253, Val Loss: 2.4450\n",
      "Baseline Loss: 5.4927 | Actual Loss: 3.5732\n"
     ]
    },
    {
     "name": "stderr",
     "output_type": "stream",
     "text": [
      "Training:  13%|█▎        | 133/1000 [06:29<42:08,  2.92s/it]"
     ]
    },
    {
     "name": "stdout",
     "output_type": "stream",
     "text": [
      "Baseline Loss: 4.3789 | Actual Loss: 2.6558\n",
      "Epoch 133/1000: Train Loss: 3.5732, Val Loss: 2.6558\n",
      "Baseline Loss: 5.4927 | Actual Loss: 3.4889\n"
     ]
    },
    {
     "name": "stderr",
     "output_type": "stream",
     "text": [
      "Training:  13%|█▎        | 134/1000 [06:31<41:21,  2.87s/it]"
     ]
    },
    {
     "name": "stdout",
     "output_type": "stream",
     "text": [
      "Baseline Loss: 4.3789 | Actual Loss: 2.6076\n",
      "Epoch 134/1000: Train Loss: 3.4889, Val Loss: 2.6076\n",
      "Baseline Loss: 5.4927 | Actual Loss: 3.4500\n"
     ]
    },
    {
     "name": "stderr",
     "output_type": "stream",
     "text": [
      "Training:  14%|█▎        | 135/1000 [06:35<42:11,  2.93s/it]"
     ]
    },
    {
     "name": "stdout",
     "output_type": "stream",
     "text": [
      "Baseline Loss: 4.3789 | Actual Loss: 2.3029\n",
      "Epoch 135/1000: Train Loss: 3.4500, Val Loss: 2.3029\n",
      "Baseline Loss: 5.4927 | Actual Loss: 3.4367\n"
     ]
    },
    {
     "name": "stderr",
     "output_type": "stream",
     "text": [
      "Training:  14%|█▎        | 136/1000 [06:37<41:45,  2.90s/it]"
     ]
    },
    {
     "name": "stdout",
     "output_type": "stream",
     "text": [
      "Baseline Loss: 4.3789 | Actual Loss: 2.5625\n",
      "Epoch 136/1000: Train Loss: 3.4367, Val Loss: 2.5625\n",
      "Baseline Loss: 5.4927 | Actual Loss: 3.4789\n"
     ]
    },
    {
     "name": "stderr",
     "output_type": "stream",
     "text": [
      "Training:  14%|█▎        | 137/1000 [06:40<40:40,  2.83s/it]"
     ]
    },
    {
     "name": "stdout",
     "output_type": "stream",
     "text": [
      "Baseline Loss: 4.3789 | Actual Loss: 2.2260\n",
      "Epoch 137/1000: Train Loss: 3.4789, Val Loss: 2.2260\n",
      "New best validation loss: 2.2260\n",
      "Baseline Loss: 5.4927 | Actual Loss: 3.3723\n"
     ]
    },
    {
     "name": "stderr",
     "output_type": "stream",
     "text": [
      "Training:  14%|█▍        | 138/1000 [06:43<41:28,  2.89s/it]"
     ]
    },
    {
     "name": "stdout",
     "output_type": "stream",
     "text": [
      "Baseline Loss: 4.3789 | Actual Loss: 2.4000\n",
      "Epoch 138/1000: Train Loss: 3.3723, Val Loss: 2.4000\n",
      "Baseline Loss: 5.4928 | Actual Loss: 3.5200\n"
     ]
    },
    {
     "name": "stderr",
     "output_type": "stream",
     "text": [
      "Training:  14%|█▍        | 139/1000 [06:46<41:05,  2.86s/it]"
     ]
    },
    {
     "name": "stdout",
     "output_type": "stream",
     "text": [
      "Baseline Loss: 4.3789 | Actual Loss: 2.1843\n",
      "Epoch 139/1000: Train Loss: 3.5200, Val Loss: 2.1843\n",
      "New best validation loss: 2.1843\n",
      "Baseline Loss: 5.4928 | Actual Loss: 3.4248\n"
     ]
    },
    {
     "name": "stderr",
     "output_type": "stream",
     "text": [
      "Training:  14%|█▍        | 140/1000 [06:49<40:23,  2.82s/it]"
     ]
    },
    {
     "name": "stdout",
     "output_type": "stream",
     "text": [
      "Baseline Loss: 4.3789 | Actual Loss: 2.2807\n",
      "Epoch 140/1000: Train Loss: 3.4248, Val Loss: 2.2807\n",
      "Baseline Loss: 5.4927 | Actual Loss: 3.4776\n"
     ]
    },
    {
     "name": "stderr",
     "output_type": "stream",
     "text": [
      "Training:  14%|█▍        | 141/1000 [06:52<42:08,  2.94s/it]"
     ]
    },
    {
     "name": "stdout",
     "output_type": "stream",
     "text": [
      "Baseline Loss: 4.3789 | Actual Loss: 2.2303\n",
      "Epoch 141/1000: Train Loss: 3.4776, Val Loss: 2.2303\n",
      "Baseline Loss: 5.4927 | Actual Loss: 3.4457\n"
     ]
    },
    {
     "name": "stderr",
     "output_type": "stream",
     "text": [
      "Training:  14%|█▍        | 142/1000 [06:55<41:39,  2.91s/it]"
     ]
    },
    {
     "name": "stdout",
     "output_type": "stream",
     "text": [
      "Baseline Loss: 4.3789 | Actual Loss: 2.1612\n",
      "Epoch 142/1000: Train Loss: 3.4457, Val Loss: 2.1612\n",
      "New best validation loss: 2.1612\n"
     ]
    },
    {
     "name": "stderr",
     "output_type": "stream",
     "text": [
      "Training:  14%|█▍        | 143/1000 [06:57<41:01,  2.87s/it]"
     ]
    },
    {
     "name": "stdout",
     "output_type": "stream",
     "text": [
      "Baseline Loss: 5.4927 | Actual Loss: 3.4514\n",
      "Baseline Loss: 4.3789 | Actual Loss: 2.2080\n",
      "Epoch 143/1000: Train Loss: 3.4514, Val Loss: 2.2080\n"
     ]
    },
    {
     "name": "stderr",
     "output_type": "stream",
     "text": [
      "Training:  14%|█▍        | 144/1000 [07:01<42:11,  2.96s/it]"
     ]
    },
    {
     "name": "stdout",
     "output_type": "stream",
     "text": [
      "Baseline Loss: 5.4928 | Actual Loss: 3.4295\n",
      "Baseline Loss: 4.3789 | Actual Loss: 2.3276\n",
      "Epoch 144/1000: Train Loss: 3.4295, Val Loss: 2.3276\n"
     ]
    },
    {
     "name": "stderr",
     "output_type": "stream",
     "text": [
      "Training:  14%|█▍        | 145/1000 [07:03<40:26,  2.84s/it]"
     ]
    },
    {
     "name": "stdout",
     "output_type": "stream",
     "text": [
      "Baseline Loss: 5.4927 | Actual Loss: 3.4484\n",
      "Baseline Loss: 4.3789 | Actual Loss: 2.1632\n",
      "Epoch 145/1000: Train Loss: 3.4484, Val Loss: 2.1632\n",
      "Baseline Loss: 5.4928 | Actual Loss: 3.4414\n"
     ]
    },
    {
     "name": "stderr",
     "output_type": "stream",
     "text": [
      "Training:  15%|█▍        | 146/1000 [07:06<40:55,  2.88s/it]"
     ]
    },
    {
     "name": "stdout",
     "output_type": "stream",
     "text": [
      "Baseline Loss: 4.3789 | Actual Loss: 2.2670\n",
      "Epoch 146/1000: Train Loss: 3.4414, Val Loss: 2.2670\n"
     ]
    },
    {
     "name": "stderr",
     "output_type": "stream",
     "text": [
      "Training:  15%|█▍        | 147/1000 [07:09<41:14,  2.90s/it]"
     ]
    },
    {
     "name": "stdout",
     "output_type": "stream",
     "text": [
      "Baseline Loss: 5.4927 | Actual Loss: 3.3412\n",
      "Baseline Loss: 4.3789 | Actual Loss: 2.2478\n",
      "Epoch 147/1000: Train Loss: 3.3412, Val Loss: 2.2478\n",
      "Baseline Loss: 5.4927 | Actual Loss: 3.4029\n"
     ]
    },
    {
     "name": "stderr",
     "output_type": "stream",
     "text": [
      "Training:  15%|█▍        | 148/1000 [07:12<41:01,  2.89s/it]"
     ]
    },
    {
     "name": "stdout",
     "output_type": "stream",
     "text": [
      "Baseline Loss: 4.3789 | Actual Loss: 2.1807\n",
      "Epoch 148/1000: Train Loss: 3.4029, Val Loss: 2.1807\n"
     ]
    },
    {
     "name": "stderr",
     "output_type": "stream",
     "text": [
      "Training:  15%|█▍        | 149/1000 [07:15<41:14,  2.91s/it]"
     ]
    },
    {
     "name": "stdout",
     "output_type": "stream",
     "text": [
      "Baseline Loss: 5.4927 | Actual Loss: 3.2667\n",
      "Baseline Loss: 4.3789 | Actual Loss: 2.2604\n",
      "Epoch 149/1000: Train Loss: 3.2667, Val Loss: 2.2604\n",
      "Baseline Loss: 5.4927 | Actual Loss: 3.3369\n"
     ]
    },
    {
     "name": "stderr",
     "output_type": "stream",
     "text": [
      "Training:  15%|█▌        | 150/1000 [07:18<41:00,  2.89s/it]"
     ]
    },
    {
     "name": "stdout",
     "output_type": "stream",
     "text": [
      "Baseline Loss: 4.3789 | Actual Loss: 2.0901\n",
      "Epoch 150/1000: Train Loss: 3.3369, Val Loss: 2.0901\n",
      "New best validation loss: 2.0901\n"
     ]
    },
    {
     "name": "stderr",
     "output_type": "stream",
     "text": [
      "Training:  15%|█▌        | 151/1000 [07:21<41:21,  2.92s/it]"
     ]
    },
    {
     "name": "stdout",
     "output_type": "stream",
     "text": [
      "Baseline Loss: 5.4928 | Actual Loss: 3.3071\n",
      "Baseline Loss: 4.3789 | Actual Loss: 2.1987\n",
      "Epoch 151/1000: Train Loss: 3.3071, Val Loss: 2.1987\n"
     ]
    },
    {
     "name": "stderr",
     "output_type": "stream",
     "text": [
      "Training:  15%|█▌        | 152/1000 [07:24<40:40,  2.88s/it]"
     ]
    },
    {
     "name": "stdout",
     "output_type": "stream",
     "text": [
      "Baseline Loss: 5.4927 | Actual Loss: 3.2617\n",
      "Baseline Loss: 4.3789 | Actual Loss: 2.2977\n",
      "Epoch 152/1000: Train Loss: 3.2617, Val Loss: 2.2977\n"
     ]
    },
    {
     "name": "stderr",
     "output_type": "stream",
     "text": [
      "Training:  15%|█▌        | 153/1000 [07:26<40:06,  2.84s/it]"
     ]
    },
    {
     "name": "stdout",
     "output_type": "stream",
     "text": [
      "Baseline Loss: 5.4928 | Actual Loss: 3.2786\n",
      "Baseline Loss: 4.3789 | Actual Loss: 2.0993\n",
      "Epoch 153/1000: Train Loss: 3.2786, Val Loss: 2.0993\n",
      "Baseline Loss: 5.4928 | Actual Loss: 3.3750\n"
     ]
    },
    {
     "name": "stderr",
     "output_type": "stream",
     "text": [
      "Training:  15%|█▌        | 154/1000 [07:29<40:57,  2.90s/it]"
     ]
    },
    {
     "name": "stdout",
     "output_type": "stream",
     "text": [
      "Baseline Loss: 4.3789 | Actual Loss: 2.3214\n",
      "Epoch 154/1000: Train Loss: 3.3750, Val Loss: 2.3214\n"
     ]
    },
    {
     "name": "stderr",
     "output_type": "stream",
     "text": [
      "Training:  16%|█▌        | 155/1000 [07:32<41:02,  2.91s/it]"
     ]
    },
    {
     "name": "stdout",
     "output_type": "stream",
     "text": [
      "Baseline Loss: 5.4927 | Actual Loss: 3.2342\n",
      "Baseline Loss: 4.3789 | Actual Loss: 2.2829\n",
      "Epoch 155/1000: Train Loss: 3.2342, Val Loss: 2.2829\n",
      "Baseline Loss: 5.4927 | Actual Loss: 3.3552\n"
     ]
    },
    {
     "name": "stderr",
     "output_type": "stream",
     "text": [
      "Training:  16%|█▌        | 156/1000 [07:35<40:32,  2.88s/it]"
     ]
    },
    {
     "name": "stdout",
     "output_type": "stream",
     "text": [
      "Baseline Loss: 4.3789 | Actual Loss: 2.2458\n",
      "Epoch 156/1000: Train Loss: 3.3552, Val Loss: 2.2458\n",
      "Baseline Loss: 5.4927 | Actual Loss: 3.3034\n"
     ]
    },
    {
     "name": "stderr",
     "output_type": "stream",
     "text": [
      "Training:  16%|█▌        | 157/1000 [07:38<40:17,  2.87s/it]"
     ]
    },
    {
     "name": "stdout",
     "output_type": "stream",
     "text": [
      "Baseline Loss: 4.3789 | Actual Loss: 2.2170\n",
      "Epoch 157/1000: Train Loss: 3.3034, Val Loss: 2.2170\n",
      "Baseline Loss: 5.4927 | Actual Loss: 3.3214\n"
     ]
    },
    {
     "name": "stderr",
     "output_type": "stream",
     "text": [
      "Training:  16%|█▌        | 158/1000 [07:41<39:32,  2.82s/it]"
     ]
    },
    {
     "name": "stdout",
     "output_type": "stream",
     "text": [
      "Baseline Loss: 4.3789 | Actual Loss: 2.2505\n",
      "Epoch 158/1000: Train Loss: 3.3214, Val Loss: 2.2505\n",
      "Baseline Loss: 5.4927 | Actual Loss: 3.2715\n"
     ]
    },
    {
     "name": "stderr",
     "output_type": "stream",
     "text": [
      "Training:  16%|█▌        | 159/1000 [07:44<40:55,  2.92s/it]"
     ]
    },
    {
     "name": "stdout",
     "output_type": "stream",
     "text": [
      "Baseline Loss: 4.3789 | Actual Loss: 2.1634\n",
      "Epoch 159/1000: Train Loss: 3.2715, Val Loss: 2.1634\n",
      "Baseline Loss: 5.4928 | Actual Loss: 3.2733\n"
     ]
    },
    {
     "name": "stderr",
     "output_type": "stream",
     "text": [
      "Training:  16%|█▌        | 160/1000 [07:46<40:02,  2.86s/it]"
     ]
    },
    {
     "name": "stdout",
     "output_type": "stream",
     "text": [
      "Baseline Loss: 4.3789 | Actual Loss: 2.1839\n",
      "Epoch 160/1000: Train Loss: 3.2733, Val Loss: 2.1839\n",
      "Baseline Loss: 5.4927 | Actual Loss: 3.2508\n"
     ]
    },
    {
     "name": "stderr",
     "output_type": "stream",
     "text": [
      "Training:  16%|█▌        | 161/1000 [07:50<41:46,  2.99s/it]"
     ]
    },
    {
     "name": "stdout",
     "output_type": "stream",
     "text": [
      "Baseline Loss: 4.3789 | Actual Loss: 2.2306\n",
      "Epoch 161/1000: Train Loss: 3.2508, Val Loss: 2.2306\n",
      "Baseline Loss: 5.4927 | Actual Loss: 3.2460\n"
     ]
    },
    {
     "name": "stderr",
     "output_type": "stream",
     "text": [
      "Training:  16%|█▌        | 162/1000 [07:52<40:35,  2.91s/it]"
     ]
    },
    {
     "name": "stdout",
     "output_type": "stream",
     "text": [
      "Baseline Loss: 4.3789 | Actual Loss: 2.2113\n",
      "Epoch 162/1000: Train Loss: 3.2460, Val Loss: 2.2113\n",
      "Baseline Loss: 5.4927 | Actual Loss: 3.2777\n"
     ]
    },
    {
     "name": "stderr",
     "output_type": "stream",
     "text": [
      "Training:  16%|█▋        | 163/1000 [07:56<41:16,  2.96s/it]"
     ]
    },
    {
     "name": "stdout",
     "output_type": "stream",
     "text": [
      "Baseline Loss: 4.3789 | Actual Loss: 2.2441\n",
      "Epoch 163/1000: Train Loss: 3.2777, Val Loss: 2.2441\n",
      "Baseline Loss: 5.4927 | Actual Loss: 3.1627\n"
     ]
    },
    {
     "name": "stderr",
     "output_type": "stream",
     "text": [
      "Training:  16%|█▋        | 164/1000 [07:58<40:26,  2.90s/it]"
     ]
    },
    {
     "name": "stdout",
     "output_type": "stream",
     "text": [
      "Baseline Loss: 4.3789 | Actual Loss: 2.2365\n",
      "Epoch 164/1000: Train Loss: 3.1627, Val Loss: 2.2365\n",
      "Baseline Loss: 5.4927 | Actual Loss: 3.2332\n"
     ]
    },
    {
     "name": "stderr",
     "output_type": "stream",
     "text": [
      "Training:  16%|█▋        | 165/1000 [08:01<41:21,  2.97s/it]"
     ]
    },
    {
     "name": "stdout",
     "output_type": "stream",
     "text": [
      "Baseline Loss: 4.3789 | Actual Loss: 2.1959\n",
      "Epoch 165/1000: Train Loss: 3.2332, Val Loss: 2.1959\n"
     ]
    },
    {
     "name": "stderr",
     "output_type": "stream",
     "text": [
      "Training:  17%|█▋        | 166/1000 [08:04<39:58,  2.88s/it]"
     ]
    },
    {
     "name": "stdout",
     "output_type": "stream",
     "text": [
      "Baseline Loss: 5.4927 | Actual Loss: 3.1849\n",
      "Baseline Loss: 4.3789 | Actual Loss: 2.1283\n",
      "Epoch 166/1000: Train Loss: 3.1849, Val Loss: 2.1283\n",
      "Baseline Loss: 5.4927 | Actual Loss: 3.1612\n"
     ]
    },
    {
     "name": "stderr",
     "output_type": "stream",
     "text": [
      "Training:  17%|█▋        | 167/1000 [08:07<40:27,  2.91s/it]"
     ]
    },
    {
     "name": "stdout",
     "output_type": "stream",
     "text": [
      "Baseline Loss: 4.3789 | Actual Loss: 2.2623\n",
      "Epoch 167/1000: Train Loss: 3.1612, Val Loss: 2.2623\n",
      "Baseline Loss: 5.4927 | Actual Loss: 3.2495\n"
     ]
    },
    {
     "name": "stderr",
     "output_type": "stream",
     "text": [
      "Training:  17%|█▋        | 168/1000 [08:10<40:48,  2.94s/it]"
     ]
    },
    {
     "name": "stdout",
     "output_type": "stream",
     "text": [
      "Baseline Loss: 4.3789 | Actual Loss: 2.0887\n",
      "Epoch 168/1000: Train Loss: 3.2495, Val Loss: 2.0887\n",
      "New best validation loss: 2.0887\n",
      "Baseline Loss: 5.4927 | Actual Loss: 3.1447\n"
     ]
    },
    {
     "name": "stderr",
     "output_type": "stream",
     "text": [
      "Training:  17%|█▋        | 169/1000 [08:13<40:54,  2.95s/it]"
     ]
    },
    {
     "name": "stdout",
     "output_type": "stream",
     "text": [
      "Baseline Loss: 4.3789 | Actual Loss: 2.1005\n",
      "Epoch 169/1000: Train Loss: 3.1447, Val Loss: 2.1005\n"
     ]
    },
    {
     "name": "stderr",
     "output_type": "stream",
     "text": [
      "Training:  17%|█▋        | 170/1000 [08:16<41:00,  2.97s/it]"
     ]
    },
    {
     "name": "stdout",
     "output_type": "stream",
     "text": [
      "Baseline Loss: 5.4927 | Actual Loss: 3.2487\n",
      "Baseline Loss: 4.3789 | Actual Loss: 2.2340\n",
      "Epoch 170/1000: Train Loss: 3.2487, Val Loss: 2.2340\n",
      "Baseline Loss: 5.4928 | Actual Loss: 3.0974\n"
     ]
    },
    {
     "name": "stderr",
     "output_type": "stream",
     "text": [
      "Training:  17%|█▋        | 171/1000 [08:19<40:39,  2.94s/it]"
     ]
    },
    {
     "name": "stdout",
     "output_type": "stream",
     "text": [
      "Baseline Loss: 4.3789 | Actual Loss: 2.0841\n",
      "Epoch 171/1000: Train Loss: 3.0974, Val Loss: 2.0841\n",
      "New best validation loss: 2.0841\n",
      "Baseline Loss: 5.4927 | Actual Loss: 3.1439\n"
     ]
    },
    {
     "name": "stderr",
     "output_type": "stream",
     "text": [
      "Training:  17%|█▋        | 172/1000 [08:22<40:47,  2.96s/it]"
     ]
    },
    {
     "name": "stdout",
     "output_type": "stream",
     "text": [
      "Baseline Loss: 4.3789 | Actual Loss: 2.2094\n",
      "Epoch 172/1000: Train Loss: 3.1439, Val Loss: 2.2094\n"
     ]
    },
    {
     "name": "stderr",
     "output_type": "stream",
     "text": [
      "Training:  17%|█▋        | 173/1000 [08:25<40:02,  2.91s/it]"
     ]
    },
    {
     "name": "stdout",
     "output_type": "stream",
     "text": [
      "Baseline Loss: 5.4927 | Actual Loss: 3.2224\n",
      "Baseline Loss: 4.3789 | Actual Loss: 2.1396\n",
      "Epoch 173/1000: Train Loss: 3.2224, Val Loss: 2.1396\n"
     ]
    },
    {
     "name": "stderr",
     "output_type": "stream",
     "text": [
      "Training:  17%|█▋        | 174/1000 [08:28<39:55,  2.90s/it]"
     ]
    },
    {
     "name": "stdout",
     "output_type": "stream",
     "text": [
      "Baseline Loss: 5.4927 | Actual Loss: 3.1822\n",
      "Baseline Loss: 4.3789 | Actual Loss: 2.1694\n",
      "Epoch 174/1000: Train Loss: 3.1822, Val Loss: 2.1694\n",
      "Baseline Loss: 5.4927 | Actual Loss: 3.1637\n"
     ]
    },
    {
     "name": "stderr",
     "output_type": "stream",
     "text": [
      "Training:  18%|█▊        | 175/1000 [08:31<40:25,  2.94s/it]"
     ]
    },
    {
     "name": "stdout",
     "output_type": "stream",
     "text": [
      "Baseline Loss: 4.3789 | Actual Loss: 1.9941\n",
      "Epoch 175/1000: Train Loss: 3.1637, Val Loss: 1.9941\n",
      "New best validation loss: 1.9941\n"
     ]
    },
    {
     "name": "stderr",
     "output_type": "stream",
     "text": [
      "Training:  18%|█▊        | 176/1000 [08:34<40:27,  2.95s/it]"
     ]
    },
    {
     "name": "stdout",
     "output_type": "stream",
     "text": [
      "Baseline Loss: 5.4927 | Actual Loss: 3.0925\n",
      "Baseline Loss: 4.3789 | Actual Loss: 2.0888\n",
      "Epoch 176/1000: Train Loss: 3.0925, Val Loss: 2.0888\n",
      "Baseline Loss: 5.4927 | Actual Loss: 3.0459\n"
     ]
    },
    {
     "name": "stderr",
     "output_type": "stream",
     "text": [
      "Training:  18%|█▊        | 177/1000 [08:36<39:51,  2.91s/it]"
     ]
    },
    {
     "name": "stdout",
     "output_type": "stream",
     "text": [
      "Baseline Loss: 4.3789 | Actual Loss: 2.1397\n",
      "Epoch 177/1000: Train Loss: 3.0459, Val Loss: 2.1397\n"
     ]
    },
    {
     "name": "stderr",
     "output_type": "stream",
     "text": [
      "Training:  18%|█▊        | 178/1000 [08:39<39:26,  2.88s/it]"
     ]
    },
    {
     "name": "stdout",
     "output_type": "stream",
     "text": [
      "Baseline Loss: 5.4927 | Actual Loss: 3.0964\n",
      "Baseline Loss: 4.3789 | Actual Loss: 2.1735\n",
      "Epoch 178/1000: Train Loss: 3.0964, Val Loss: 2.1735\n",
      "Baseline Loss: 5.4927 | Actual Loss: 3.1195\n"
     ]
    },
    {
     "name": "stderr",
     "output_type": "stream",
     "text": [
      "Training:  18%|█▊        | 179/1000 [08:42<40:03,  2.93s/it]"
     ]
    },
    {
     "name": "stdout",
     "output_type": "stream",
     "text": [
      "Baseline Loss: 4.3789 | Actual Loss: 2.1023\n",
      "Epoch 179/1000: Train Loss: 3.1195, Val Loss: 2.1023\n",
      "Baseline Loss: 5.4927 | Actual Loss: 3.0808\n"
     ]
    },
    {
     "name": "stderr",
     "output_type": "stream",
     "text": [
      "Training:  18%|█▊        | 180/1000 [08:45<40:08,  2.94s/it]"
     ]
    },
    {
     "name": "stdout",
     "output_type": "stream",
     "text": [
      "Baseline Loss: 4.3789 | Actual Loss: 2.0482\n",
      "Epoch 180/1000: Train Loss: 3.0808, Val Loss: 2.0482\n",
      "Baseline Loss: 5.4927 | Actual Loss: 3.0929\n"
     ]
    },
    {
     "name": "stderr",
     "output_type": "stream",
     "text": [
      "Training:  18%|█▊        | 181/1000 [08:49<41:42,  3.06s/it]"
     ]
    },
    {
     "name": "stdout",
     "output_type": "stream",
     "text": [
      "Baseline Loss: 4.3789 | Actual Loss: 2.4913\n",
      "Epoch 181/1000: Train Loss: 3.0929, Val Loss: 2.4913\n",
      "Baseline Loss: 5.4928 | Actual Loss: 2.9891\n"
     ]
    },
    {
     "name": "stderr",
     "output_type": "stream",
     "text": [
      "Training:  18%|█▊        | 182/1000 [08:52<42:33,  3.12s/it]"
     ]
    },
    {
     "name": "stdout",
     "output_type": "stream",
     "text": [
      "Baseline Loss: 4.3789 | Actual Loss: 2.0413\n",
      "Epoch 182/1000: Train Loss: 2.9891, Val Loss: 2.0413\n",
      "Baseline Loss: 5.4927 | Actual Loss: 3.0674\n"
     ]
    },
    {
     "name": "stderr",
     "output_type": "stream",
     "text": [
      "Training:  18%|█▊        | 183/1000 [08:55<42:16,  3.10s/it]"
     ]
    },
    {
     "name": "stdout",
     "output_type": "stream",
     "text": [
      "Baseline Loss: 4.3789 | Actual Loss: 2.2042\n",
      "Epoch 183/1000: Train Loss: 3.0674, Val Loss: 2.2042\n",
      "Baseline Loss: 5.4927 | Actual Loss: 3.0887\n"
     ]
    },
    {
     "name": "stderr",
     "output_type": "stream",
     "text": [
      "Training:  18%|█▊        | 184/1000 [08:58<40:27,  2.98s/it]"
     ]
    },
    {
     "name": "stdout",
     "output_type": "stream",
     "text": [
      "Baseline Loss: 4.3789 | Actual Loss: 2.0217\n",
      "Epoch 184/1000: Train Loss: 3.0887, Val Loss: 2.0217\n",
      "Baseline Loss: 5.4927 | Actual Loss: 3.0567\n"
     ]
    },
    {
     "name": "stderr",
     "output_type": "stream",
     "text": [
      "Training:  18%|█▊        | 185/1000 [09:01<41:09,  3.03s/it]"
     ]
    },
    {
     "name": "stdout",
     "output_type": "stream",
     "text": [
      "Baseline Loss: 4.3789 | Actual Loss: 1.9703\n",
      "Epoch 185/1000: Train Loss: 3.0567, Val Loss: 1.9703\n",
      "New best validation loss: 1.9703\n"
     ]
    },
    {
     "name": "stderr",
     "output_type": "stream",
     "text": [
      "Training:  19%|█▊        | 186/1000 [09:03<39:31,  2.91s/it]"
     ]
    },
    {
     "name": "stdout",
     "output_type": "stream",
     "text": [
      "Baseline Loss: 5.4927 | Actual Loss: 3.1368\n",
      "Baseline Loss: 4.3789 | Actual Loss: 1.9790\n",
      "Epoch 186/1000: Train Loss: 3.1368, Val Loss: 1.9790\n",
      "Baseline Loss: 5.4927 | Actual Loss: 3.0060\n"
     ]
    },
    {
     "name": "stderr",
     "output_type": "stream",
     "text": [
      "Training:  19%|█▊        | 187/1000 [09:06<39:39,  2.93s/it]"
     ]
    },
    {
     "name": "stdout",
     "output_type": "stream",
     "text": [
      "Baseline Loss: 4.3789 | Actual Loss: 2.0974\n",
      "Epoch 187/1000: Train Loss: 3.0060, Val Loss: 2.0974\n"
     ]
    },
    {
     "name": "stderr",
     "output_type": "stream",
     "text": [
      "Training:  19%|█▉        | 188/1000 [09:09<38:27,  2.84s/it]"
     ]
    },
    {
     "name": "stdout",
     "output_type": "stream",
     "text": [
      "Baseline Loss: 5.4927 | Actual Loss: 3.0142\n",
      "Baseline Loss: 4.3789 | Actual Loss: 2.0229\n",
      "Epoch 188/1000: Train Loss: 3.0142, Val Loss: 2.0229\n",
      "Baseline Loss: 5.4927 | Actual Loss: 3.1953\n"
     ]
    },
    {
     "name": "stderr",
     "output_type": "stream",
     "text": [
      "Training:  19%|█▉        | 189/1000 [09:12<39:07,  2.89s/it]"
     ]
    },
    {
     "name": "stdout",
     "output_type": "stream",
     "text": [
      "Baseline Loss: 4.3789 | Actual Loss: 2.2677\n",
      "Epoch 189/1000: Train Loss: 3.1953, Val Loss: 2.2677\n",
      "Baseline Loss: 5.4927 | Actual Loss: 3.1535\n"
     ]
    },
    {
     "name": "stderr",
     "output_type": "stream",
     "text": [
      "Training:  19%|█▉        | 190/1000 [09:15<39:43,  2.94s/it]"
     ]
    },
    {
     "name": "stdout",
     "output_type": "stream",
     "text": [
      "Baseline Loss: 4.3789 | Actual Loss: 2.0323\n",
      "Epoch 190/1000: Train Loss: 3.1535, Val Loss: 2.0323\n",
      "Baseline Loss: 5.4927 | Actual Loss: 3.0772\n"
     ]
    },
    {
     "name": "stderr",
     "output_type": "stream",
     "text": [
      "Training:  19%|█▉        | 191/1000 [09:18<39:22,  2.92s/it]"
     ]
    },
    {
     "name": "stdout",
     "output_type": "stream",
     "text": [
      "Baseline Loss: 4.3789 | Actual Loss: 1.9622\n",
      "Epoch 191/1000: Train Loss: 3.0772, Val Loss: 1.9622\n",
      "New best validation loss: 1.9622\n",
      "Baseline Loss: 5.4927 | Actual Loss: 3.0475\n"
     ]
    },
    {
     "name": "stderr",
     "output_type": "stream",
     "text": [
      "Training:  19%|█▉        | 192/1000 [09:21<40:17,  2.99s/it]"
     ]
    },
    {
     "name": "stdout",
     "output_type": "stream",
     "text": [
      "Baseline Loss: 4.3789 | Actual Loss: 1.9310\n",
      "Epoch 192/1000: Train Loss: 3.0475, Val Loss: 1.9310\n",
      "New best validation loss: 1.9310\n",
      "Baseline Loss: 5.4928 | Actual Loss: 2.9980\n"
     ]
    },
    {
     "name": "stderr",
     "output_type": "stream",
     "text": [
      "Training:  19%|█▉        | 193/1000 [09:24<39:09,  2.91s/it]"
     ]
    },
    {
     "name": "stdout",
     "output_type": "stream",
     "text": [
      "Baseline Loss: 4.3789 | Actual Loss: 2.0724\n",
      "Epoch 193/1000: Train Loss: 2.9980, Val Loss: 2.0724\n",
      "Baseline Loss: 5.4928 | Actual Loss: 3.0267\n"
     ]
    },
    {
     "name": "stderr",
     "output_type": "stream",
     "text": [
      "Training:  19%|█▉        | 194/1000 [09:27<40:39,  3.03s/it]"
     ]
    },
    {
     "name": "stdout",
     "output_type": "stream",
     "text": [
      "Baseline Loss: 4.3789 | Actual Loss: 2.1343\n",
      "Epoch 194/1000: Train Loss: 3.0267, Val Loss: 2.1343\n",
      "Baseline Loss: 5.4927 | Actual Loss: 2.9174\n"
     ]
    },
    {
     "name": "stderr",
     "output_type": "stream",
     "text": [
      "Training:  20%|█▉        | 195/1000 [09:30<39:26,  2.94s/it]"
     ]
    },
    {
     "name": "stdout",
     "output_type": "stream",
     "text": [
      "Baseline Loss: 4.3789 | Actual Loss: 1.9862\n",
      "Epoch 195/1000: Train Loss: 2.9174, Val Loss: 1.9862\n",
      "Baseline Loss: 5.4927 | Actual Loss: 2.9987\n"
     ]
    },
    {
     "name": "stderr",
     "output_type": "stream",
     "text": [
      "Training:  20%|█▉        | 196/1000 [09:33<39:06,  2.92s/it]"
     ]
    },
    {
     "name": "stdout",
     "output_type": "stream",
     "text": [
      "Baseline Loss: 4.3789 | Actual Loss: 2.2562\n",
      "Epoch 196/1000: Train Loss: 2.9987, Val Loss: 2.2562\n",
      "Baseline Loss: 5.4927 | Actual Loss: 3.0652\n"
     ]
    },
    {
     "name": "stderr",
     "output_type": "stream",
     "text": [
      "Training:  20%|█▉        | 197/1000 [09:35<38:13,  2.86s/it]"
     ]
    },
    {
     "name": "stdout",
     "output_type": "stream",
     "text": [
      "Baseline Loss: 4.3789 | Actual Loss: 2.0714\n",
      "Epoch 197/1000: Train Loss: 3.0652, Val Loss: 2.0714\n"
     ]
    },
    {
     "name": "stderr",
     "output_type": "stream",
     "text": [
      "Training:  20%|█▉        | 198/1000 [09:38<38:37,  2.89s/it]"
     ]
    },
    {
     "name": "stdout",
     "output_type": "stream",
     "text": [
      "Baseline Loss: 5.4927 | Actual Loss: 3.0485\n",
      "Baseline Loss: 4.3789 | Actual Loss: 2.0714\n",
      "Epoch 198/1000: Train Loss: 3.0485, Val Loss: 2.0714\n",
      "Baseline Loss: 5.4927 | Actual Loss: 2.9863\n"
     ]
    },
    {
     "name": "stderr",
     "output_type": "stream",
     "text": [
      "Training:  20%|█▉        | 199/1000 [09:41<38:31,  2.89s/it]"
     ]
    },
    {
     "name": "stdout",
     "output_type": "stream",
     "text": [
      "Baseline Loss: 4.3789 | Actual Loss: 2.0067\n",
      "Epoch 199/1000: Train Loss: 2.9863, Val Loss: 2.0067\n",
      "Baseline Loss: 5.4927 | Actual Loss: 3.0008\n"
     ]
    },
    {
     "name": "stderr",
     "output_type": "stream",
     "text": [
      "Training:  20%|██        | 200/1000 [09:44<37:34,  2.82s/it]"
     ]
    },
    {
     "name": "stdout",
     "output_type": "stream",
     "text": [
      "Baseline Loss: 4.3789 | Actual Loss: 1.8825\n",
      "Epoch 200/1000: Train Loss: 3.0008, Val Loss: 1.8825\n",
      "New best validation loss: 1.8825\n"
     ]
    },
    {
     "name": "stderr",
     "output_type": "stream",
     "text": [
      "Training:  20%|██        | 201/1000 [09:47<38:08,  2.86s/it]"
     ]
    },
    {
     "name": "stdout",
     "output_type": "stream",
     "text": [
      "Baseline Loss: 5.4927 | Actual Loss: 3.0118\n",
      "Baseline Loss: 4.3789 | Actual Loss: 1.9932\n",
      "Epoch 201/1000: Train Loss: 3.0118, Val Loss: 1.9932\n"
     ]
    },
    {
     "name": "stderr",
     "output_type": "stream",
     "text": [
      "Training:  20%|██        | 202/1000 [09:50<37:49,  2.84s/it]"
     ]
    },
    {
     "name": "stdout",
     "output_type": "stream",
     "text": [
      "Baseline Loss: 5.4927 | Actual Loss: 2.9873\n",
      "Baseline Loss: 4.3789 | Actual Loss: 2.0060\n",
      "Epoch 202/1000: Train Loss: 2.9873, Val Loss: 2.0060\n",
      "Baseline Loss: 5.4927 | Actual Loss: 2.9651\n"
     ]
    },
    {
     "name": "stderr",
     "output_type": "stream",
     "text": [
      "Training:  20%|██        | 203/1000 [09:52<37:12,  2.80s/it]"
     ]
    },
    {
     "name": "stdout",
     "output_type": "stream",
     "text": [
      "Baseline Loss: 4.3789 | Actual Loss: 2.1744\n",
      "Epoch 203/1000: Train Loss: 2.9651, Val Loss: 2.1744\n",
      "Baseline Loss: 5.4927 | Actual Loss: 2.9097\n"
     ]
    },
    {
     "name": "stderr",
     "output_type": "stream",
     "text": [
      "Training:  20%|██        | 204/1000 [09:55<37:35,  2.83s/it]"
     ]
    },
    {
     "name": "stdout",
     "output_type": "stream",
     "text": [
      "Baseline Loss: 4.3789 | Actual Loss: 2.4263\n",
      "Epoch 204/1000: Train Loss: 2.9097, Val Loss: 2.4263\n"
     ]
    },
    {
     "name": "stderr",
     "output_type": "stream",
     "text": [
      "Training:  20%|██        | 205/1000 [09:58<37:47,  2.85s/it]"
     ]
    },
    {
     "name": "stdout",
     "output_type": "stream",
     "text": [
      "Baseline Loss: 5.4927 | Actual Loss: 3.0076\n",
      "Baseline Loss: 4.3789 | Actual Loss: 2.1098\n",
      "Epoch 205/1000: Train Loss: 3.0076, Val Loss: 2.1098\n",
      "Baseline Loss: 5.4927 | Actual Loss: 2.9919\n"
     ]
    },
    {
     "name": "stderr",
     "output_type": "stream",
     "text": [
      "Training:  21%|██        | 206/1000 [10:01<36:58,  2.79s/it]"
     ]
    },
    {
     "name": "stdout",
     "output_type": "stream",
     "text": [
      "Baseline Loss: 4.3789 | Actual Loss: 2.0926\n",
      "Epoch 206/1000: Train Loss: 2.9919, Val Loss: 2.0926\n",
      "Baseline Loss: 5.4927 | Actual Loss: 2.9154\n"
     ]
    },
    {
     "name": "stderr",
     "output_type": "stream",
     "text": [
      "Training:  21%|██        | 207/1000 [10:04<37:41,  2.85s/it]"
     ]
    },
    {
     "name": "stdout",
     "output_type": "stream",
     "text": [
      "Baseline Loss: 4.3789 | Actual Loss: 1.8744\n",
      "Epoch 207/1000: Train Loss: 2.9154, Val Loss: 1.8744\n",
      "New best validation loss: 1.8744\n",
      "Baseline Loss: 5.4928 | Actual Loss: 2.9383\n"
     ]
    },
    {
     "name": "stderr",
     "output_type": "stream",
     "text": [
      "Training:  21%|██        | 208/1000 [10:07<38:10,  2.89s/it]"
     ]
    },
    {
     "name": "stdout",
     "output_type": "stream",
     "text": [
      "Baseline Loss: 4.3789 | Actual Loss: 2.0329\n",
      "Epoch 208/1000: Train Loss: 2.9383, Val Loss: 2.0329\n",
      "Baseline Loss: 5.4928 | Actual Loss: 2.9744\n"
     ]
    },
    {
     "name": "stderr",
     "output_type": "stream",
     "text": [
      "Training:  21%|██        | 209/1000 [10:10<38:03,  2.89s/it]"
     ]
    },
    {
     "name": "stdout",
     "output_type": "stream",
     "text": [
      "Baseline Loss: 4.3789 | Actual Loss: 1.9422\n",
      "Epoch 209/1000: Train Loss: 2.9744, Val Loss: 1.9422\n",
      "Baseline Loss: 5.4927 | Actual Loss: 2.9048\n"
     ]
    },
    {
     "name": "stderr",
     "output_type": "stream",
     "text": [
      "Training:  21%|██        | 210/1000 [10:13<37:47,  2.87s/it]"
     ]
    },
    {
     "name": "stdout",
     "output_type": "stream",
     "text": [
      "Baseline Loss: 4.3789 | Actual Loss: 2.1921\n",
      "Epoch 210/1000: Train Loss: 2.9048, Val Loss: 2.1921\n",
      "Baseline Loss: 5.4927 | Actual Loss: 2.8978\n"
     ]
    },
    {
     "name": "stderr",
     "output_type": "stream",
     "text": [
      "Training:  21%|██        | 211/1000 [10:16<38:29,  2.93s/it]"
     ]
    },
    {
     "name": "stdout",
     "output_type": "stream",
     "text": [
      "Baseline Loss: 4.3789 | Actual Loss: 2.2569\n",
      "Epoch 211/1000: Train Loss: 2.8978, Val Loss: 2.2569\n",
      "Baseline Loss: 5.4927 | Actual Loss: 2.8874\n"
     ]
    },
    {
     "name": "stderr",
     "output_type": "stream",
     "text": [
      "Training:  21%|██        | 212/1000 [10:19<38:49,  2.96s/it]"
     ]
    },
    {
     "name": "stdout",
     "output_type": "stream",
     "text": [
      "Baseline Loss: 4.3789 | Actual Loss: 2.1116\n",
      "Epoch 212/1000: Train Loss: 2.8874, Val Loss: 2.1116\n",
      "Baseline Loss: 5.4927 | Actual Loss: 2.8574\n"
     ]
    },
    {
     "name": "stderr",
     "output_type": "stream",
     "text": [
      "Training:  21%|██▏       | 213/1000 [10:22<38:28,  2.93s/it]"
     ]
    },
    {
     "name": "stdout",
     "output_type": "stream",
     "text": [
      "Baseline Loss: 4.3789 | Actual Loss: 2.0815\n",
      "Epoch 213/1000: Train Loss: 2.8574, Val Loss: 2.0815\n",
      "Baseline Loss: 5.4927 | Actual Loss: 2.8341\n"
     ]
    },
    {
     "name": "stderr",
     "output_type": "stream",
     "text": [
      "Training:  21%|██▏       | 214/1000 [10:25<39:02,  2.98s/it]"
     ]
    },
    {
     "name": "stdout",
     "output_type": "stream",
     "text": [
      "Baseline Loss: 4.3789 | Actual Loss: 1.9915\n",
      "Epoch 214/1000: Train Loss: 2.8341, Val Loss: 1.9915\n",
      "Baseline Loss: 5.4927 | Actual Loss: 2.8463\n"
     ]
    },
    {
     "name": "stderr",
     "output_type": "stream",
     "text": [
      "Training:  22%|██▏       | 215/1000 [10:28<38:34,  2.95s/it]"
     ]
    },
    {
     "name": "stdout",
     "output_type": "stream",
     "text": [
      "Baseline Loss: 4.3789 | Actual Loss: 1.9270\n",
      "Epoch 215/1000: Train Loss: 2.8463, Val Loss: 1.9270\n",
      "Baseline Loss: 5.4927 | Actual Loss: 2.8547\n"
     ]
    },
    {
     "name": "stderr",
     "output_type": "stream",
     "text": [
      "Training:  22%|██▏       | 216/1000 [10:30<38:19,  2.93s/it]"
     ]
    },
    {
     "name": "stdout",
     "output_type": "stream",
     "text": [
      "Baseline Loss: 4.3789 | Actual Loss: 1.9973\n",
      "Epoch 216/1000: Train Loss: 2.8547, Val Loss: 1.9973\n",
      "Baseline Loss: 5.4927 | Actual Loss: 2.9079\n"
     ]
    },
    {
     "name": "stderr",
     "output_type": "stream",
     "text": [
      "Training:  22%|██▏       | 217/1000 [10:33<38:40,  2.96s/it]"
     ]
    },
    {
     "name": "stdout",
     "output_type": "stream",
     "text": [
      "Baseline Loss: 4.3789 | Actual Loss: 2.1522\n",
      "Epoch 217/1000: Train Loss: 2.9079, Val Loss: 2.1522\n"
     ]
    },
    {
     "name": "stderr",
     "output_type": "stream",
     "text": [
      "Training:  22%|██▏       | 218/1000 [10:36<38:44,  2.97s/it]"
     ]
    },
    {
     "name": "stdout",
     "output_type": "stream",
     "text": [
      "Baseline Loss: 5.4927 | Actual Loss: 2.8886\n",
      "Baseline Loss: 4.3789 | Actual Loss: 2.0228\n",
      "Epoch 218/1000: Train Loss: 2.8886, Val Loss: 2.0228\n"
     ]
    },
    {
     "name": "stderr",
     "output_type": "stream",
     "text": [
      "Training:  22%|██▏       | 219/1000 [10:39<37:29,  2.88s/it]"
     ]
    },
    {
     "name": "stdout",
     "output_type": "stream",
     "text": [
      "Baseline Loss: 5.4927 | Actual Loss: 2.8167\n",
      "Baseline Loss: 4.3789 | Actual Loss: 1.9589\n",
      "Epoch 219/1000: Train Loss: 2.8167, Val Loss: 1.9589\n",
      "Baseline Loss: 5.4928 | Actual Loss: 2.8477\n"
     ]
    },
    {
     "name": "stderr",
     "output_type": "stream",
     "text": [
      "Training:  22%|██▏       | 220/1000 [10:42<39:20,  3.03s/it]"
     ]
    },
    {
     "name": "stdout",
     "output_type": "stream",
     "text": [
      "Baseline Loss: 4.3789 | Actual Loss: 2.0044\n",
      "Epoch 220/1000: Train Loss: 2.8477, Val Loss: 2.0044\n",
      "Baseline Loss: 5.4928 | Actual Loss: 2.9356\n"
     ]
    },
    {
     "name": "stderr",
     "output_type": "stream",
     "text": [
      "Training:  22%|██▏       | 221/1000 [10:45<38:33,  2.97s/it]"
     ]
    },
    {
     "name": "stdout",
     "output_type": "stream",
     "text": [
      "Baseline Loss: 4.3789 | Actual Loss: 2.0255\n",
      "Epoch 221/1000: Train Loss: 2.9356, Val Loss: 2.0255\n",
      "Baseline Loss: 5.4927 | Actual Loss: 2.8807\n"
     ]
    },
    {
     "name": "stderr",
     "output_type": "stream",
     "text": [
      "Training:  22%|██▏       | 222/1000 [10:49<40:36,  3.13s/it]"
     ]
    },
    {
     "name": "stdout",
     "output_type": "stream",
     "text": [
      "Baseline Loss: 4.3789 | Actual Loss: 2.2178\n",
      "Epoch 222/1000: Train Loss: 2.8807, Val Loss: 2.2178\n",
      "Baseline Loss: 5.4928 | Actual Loss: 2.8948\n"
     ]
    },
    {
     "name": "stderr",
     "output_type": "stream",
     "text": [
      "Training:  22%|██▏       | 223/1000 [10:52<41:14,  3.18s/it]"
     ]
    },
    {
     "name": "stdout",
     "output_type": "stream",
     "text": [
      "Baseline Loss: 4.3789 | Actual Loss: 1.9731\n",
      "Epoch 223/1000: Train Loss: 2.8948, Val Loss: 1.9731\n"
     ]
    },
    {
     "name": "stderr",
     "output_type": "stream",
     "text": [
      "Training:  22%|██▏       | 224/1000 [10:55<39:03,  3.02s/it]"
     ]
    },
    {
     "name": "stdout",
     "output_type": "stream",
     "text": [
      "Baseline Loss: 5.4927 | Actual Loss: 2.8050\n",
      "Baseline Loss: 4.3789 | Actual Loss: 1.9274\n",
      "Epoch 224/1000: Train Loss: 2.8050, Val Loss: 1.9274\n",
      "Baseline Loss: 5.4927 | Actual Loss: 2.8867\n"
     ]
    },
    {
     "name": "stderr",
     "output_type": "stream",
     "text": [
      "Training:  22%|██▎       | 225/1000 [10:58<38:47,  3.00s/it]"
     ]
    },
    {
     "name": "stdout",
     "output_type": "stream",
     "text": [
      "Baseline Loss: 4.3789 | Actual Loss: 1.9680\n",
      "Epoch 225/1000: Train Loss: 2.8867, Val Loss: 1.9680\n",
      "Baseline Loss: 5.4927 | Actual Loss: 2.8326\n"
     ]
    },
    {
     "name": "stderr",
     "output_type": "stream",
     "text": [
      "Training:  23%|██▎       | 226/1000 [11:00<37:38,  2.92s/it]"
     ]
    },
    {
     "name": "stdout",
     "output_type": "stream",
     "text": [
      "Baseline Loss: 4.3789 | Actual Loss: 2.0540\n",
      "Epoch 226/1000: Train Loss: 2.8326, Val Loss: 2.0540\n",
      "Baseline Loss: 5.4927 | Actual Loss: 2.7898\n"
     ]
    },
    {
     "name": "stderr",
     "output_type": "stream",
     "text": [
      "Training:  23%|██▎       | 227/1000 [11:03<37:48,  2.93s/it]"
     ]
    },
    {
     "name": "stdout",
     "output_type": "stream",
     "text": [
      "Baseline Loss: 4.3789 | Actual Loss: 1.9794\n",
      "Epoch 227/1000: Train Loss: 2.7898, Val Loss: 1.9794\n",
      "Baseline Loss: 5.4927 | Actual Loss: 2.8705\n"
     ]
    },
    {
     "name": "stderr",
     "output_type": "stream",
     "text": [
      "Training:  23%|██▎       | 228/1000 [11:06<37:30,  2.92s/it]"
     ]
    },
    {
     "name": "stdout",
     "output_type": "stream",
     "text": [
      "Baseline Loss: 4.3789 | Actual Loss: 1.9301\n",
      "Epoch 228/1000: Train Loss: 2.8705, Val Loss: 1.9301\n",
      "Baseline Loss: 5.4928 | Actual Loss: 2.8782\n"
     ]
    },
    {
     "name": "stderr",
     "output_type": "stream",
     "text": [
      "Training:  23%|██▎       | 229/1000 [11:09<38:02,  2.96s/it]"
     ]
    },
    {
     "name": "stdout",
     "output_type": "stream",
     "text": [
      "Baseline Loss: 4.3789 | Actual Loss: 1.9027\n",
      "Epoch 229/1000: Train Loss: 2.8782, Val Loss: 1.9027\n",
      "Baseline Loss: 5.4927 | Actual Loss: 2.8407\n"
     ]
    },
    {
     "name": "stderr",
     "output_type": "stream",
     "text": [
      "Training:  23%|██▎       | 230/1000 [11:12<37:02,  2.89s/it]"
     ]
    },
    {
     "name": "stdout",
     "output_type": "stream",
     "text": [
      "Baseline Loss: 4.3789 | Actual Loss: 1.9777\n",
      "Epoch 230/1000: Train Loss: 2.8407, Val Loss: 1.9777\n",
      "Baseline Loss: 5.4927 | Actual Loss: 2.7915\n"
     ]
    },
    {
     "name": "stderr",
     "output_type": "stream",
     "text": [
      "Training:  23%|██▎       | 231/1000 [11:15<37:47,  2.95s/it]"
     ]
    },
    {
     "name": "stdout",
     "output_type": "stream",
     "text": [
      "Baseline Loss: 4.3789 | Actual Loss: 2.0590\n",
      "Epoch 231/1000: Train Loss: 2.7915, Val Loss: 2.0590\n"
     ]
    },
    {
     "name": "stderr",
     "output_type": "stream",
     "text": [
      "Training:  23%|██▎       | 232/1000 [11:18<37:08,  2.90s/it]"
     ]
    },
    {
     "name": "stdout",
     "output_type": "stream",
     "text": [
      "Baseline Loss: 5.4928 | Actual Loss: 2.8555\n",
      "Baseline Loss: 4.3789 | Actual Loss: 1.9448\n",
      "Epoch 232/1000: Train Loss: 2.8555, Val Loss: 1.9448\n",
      "Baseline Loss: 5.4927 | Actual Loss: 2.9026\n"
     ]
    },
    {
     "name": "stderr",
     "output_type": "stream",
     "text": [
      "Training:  23%|██▎       | 233/1000 [11:21<37:52,  2.96s/it]"
     ]
    },
    {
     "name": "stdout",
     "output_type": "stream",
     "text": [
      "Baseline Loss: 4.3789 | Actual Loss: 1.9207\n",
      "Epoch 233/1000: Train Loss: 2.9026, Val Loss: 1.9207\n",
      "Baseline Loss: 5.4927 | Actual Loss: 2.7728\n"
     ]
    },
    {
     "name": "stderr",
     "output_type": "stream",
     "text": [
      "Training:  23%|██▎       | 234/1000 [11:24<38:17,  3.00s/it]"
     ]
    },
    {
     "name": "stdout",
     "output_type": "stream",
     "text": [
      "Baseline Loss: 4.3789 | Actual Loss: 1.9524\n",
      "Epoch 234/1000: Train Loss: 2.7728, Val Loss: 1.9524\n",
      "Baseline Loss: 5.4928 | Actual Loss: 2.8323\n"
     ]
    },
    {
     "name": "stderr",
     "output_type": "stream",
     "text": [
      "Training:  24%|██▎       | 235/1000 [11:27<38:30,  3.02s/it]"
     ]
    },
    {
     "name": "stdout",
     "output_type": "stream",
     "text": [
      "Baseline Loss: 4.3789 | Actual Loss: 2.0142\n",
      "Epoch 235/1000: Train Loss: 2.8323, Val Loss: 2.0142\n"
     ]
    },
    {
     "name": "stderr",
     "output_type": "stream",
     "text": [
      "Training:  24%|██▎       | 236/1000 [11:30<37:20,  2.93s/it]"
     ]
    },
    {
     "name": "stdout",
     "output_type": "stream",
     "text": [
      "Baseline Loss: 5.4928 | Actual Loss: 2.7450\n",
      "Baseline Loss: 4.3789 | Actual Loss: 2.0098\n",
      "Epoch 236/1000: Train Loss: 2.7450, Val Loss: 2.0098\n",
      "Baseline Loss: 5.4927 | Actual Loss: 2.7958\n"
     ]
    },
    {
     "name": "stderr",
     "output_type": "stream",
     "text": [
      "Training:  24%|██▎       | 237/1000 [11:33<37:30,  2.95s/it]"
     ]
    },
    {
     "name": "stdout",
     "output_type": "stream",
     "text": [
      "Baseline Loss: 4.3789 | Actual Loss: 1.9421\n",
      "Epoch 237/1000: Train Loss: 2.7958, Val Loss: 1.9421\n",
      "Baseline Loss: 5.4928 | Actual Loss: 2.7767\n"
     ]
    },
    {
     "name": "stderr",
     "output_type": "stream",
     "text": [
      "Training:  24%|██▍       | 238/1000 [11:36<38:01,  2.99s/it]"
     ]
    },
    {
     "name": "stdout",
     "output_type": "stream",
     "text": [
      "Baseline Loss: 4.3789 | Actual Loss: 2.0278\n",
      "Epoch 238/1000: Train Loss: 2.7767, Val Loss: 2.0278\n",
      "Baseline Loss: 5.4927 | Actual Loss: 2.8980\n"
     ]
    },
    {
     "name": "stderr",
     "output_type": "stream",
     "text": [
      "Training:  24%|██▍       | 239/1000 [11:39<37:28,  2.95s/it]"
     ]
    },
    {
     "name": "stdout",
     "output_type": "stream",
     "text": [
      "Baseline Loss: 4.3789 | Actual Loss: 1.9877\n",
      "Epoch 239/1000: Train Loss: 2.8980, Val Loss: 1.9877\n",
      "Baseline Loss: 5.4928 | Actual Loss: 2.7768\n"
     ]
    },
    {
     "name": "stderr",
     "output_type": "stream",
     "text": [
      "Training:  24%|██▍       | 240/1000 [11:42<37:25,  2.95s/it]"
     ]
    },
    {
     "name": "stdout",
     "output_type": "stream",
     "text": [
      "Baseline Loss: 4.3789 | Actual Loss: 1.9981\n",
      "Epoch 240/1000: Train Loss: 2.7768, Val Loss: 1.9981\n",
      "Baseline Loss: 5.4927 | Actual Loss: 2.7242\n"
     ]
    },
    {
     "name": "stderr",
     "output_type": "stream",
     "text": [
      "Training:  24%|██▍       | 241/1000 [11:45<37:16,  2.95s/it]"
     ]
    },
    {
     "name": "stdout",
     "output_type": "stream",
     "text": [
      "Baseline Loss: 4.3789 | Actual Loss: 2.0988\n",
      "Epoch 241/1000: Train Loss: 2.7242, Val Loss: 2.0988\n",
      "Baseline Loss: 5.4927 | Actual Loss: 2.8381\n"
     ]
    },
    {
     "name": "stderr",
     "output_type": "stream",
     "text": [
      "Training:  24%|██▍       | 242/1000 [11:48<37:46,  2.99s/it]"
     ]
    },
    {
     "name": "stdout",
     "output_type": "stream",
     "text": [
      "Baseline Loss: 4.3789 | Actual Loss: 2.1372\n",
      "Epoch 242/1000: Train Loss: 2.8381, Val Loss: 2.1372\n",
      "Baseline Loss: 5.4927 | Actual Loss: 2.8202\n"
     ]
    },
    {
     "name": "stderr",
     "output_type": "stream",
     "text": [
      "Training:  24%|██▍       | 243/1000 [11:51<37:08,  2.94s/it]"
     ]
    },
    {
     "name": "stdout",
     "output_type": "stream",
     "text": [
      "Baseline Loss: 4.3789 | Actual Loss: 2.1052\n",
      "Epoch 243/1000: Train Loss: 2.8202, Val Loss: 2.1052\n",
      "Baseline Loss: 5.4927 | Actual Loss: 2.7899\n"
     ]
    },
    {
     "name": "stderr",
     "output_type": "stream",
     "text": [
      "Training:  24%|██▍       | 244/1000 [11:54<36:50,  2.92s/it]"
     ]
    },
    {
     "name": "stdout",
     "output_type": "stream",
     "text": [
      "Baseline Loss: 4.3789 | Actual Loss: 1.9619\n",
      "Epoch 244/1000: Train Loss: 2.7899, Val Loss: 1.9619\n",
      "Baseline Loss: 5.4927 | Actual Loss: 2.7769\n"
     ]
    },
    {
     "name": "stderr",
     "output_type": "stream",
     "text": [
      "Training:  24%|██▍       | 245/1000 [11:57<37:04,  2.95s/it]"
     ]
    },
    {
     "name": "stdout",
     "output_type": "stream",
     "text": [
      "Baseline Loss: 4.3789 | Actual Loss: 1.8548\n",
      "Epoch 245/1000: Train Loss: 2.7769, Val Loss: 1.8548\n",
      "New best validation loss: 1.8548\n",
      "Baseline Loss: 5.4928 | Actual Loss: 2.7950\n"
     ]
    },
    {
     "name": "stderr",
     "output_type": "stream",
     "text": [
      "Training:  25%|██▍       | 246/1000 [12:00<37:33,  2.99s/it]"
     ]
    },
    {
     "name": "stdout",
     "output_type": "stream",
     "text": [
      "Baseline Loss: 4.3789 | Actual Loss: 1.9604\n",
      "Epoch 246/1000: Train Loss: 2.7950, Val Loss: 1.9604\n",
      "Baseline Loss: 5.4927 | Actual Loss: 2.7544\n"
     ]
    },
    {
     "name": "stderr",
     "output_type": "stream",
     "text": [
      "Training:  25%|██▍       | 247/1000 [12:02<36:21,  2.90s/it]"
     ]
    },
    {
     "name": "stdout",
     "output_type": "stream",
     "text": [
      "Baseline Loss: 4.3789 | Actual Loss: 2.1662\n",
      "Epoch 247/1000: Train Loss: 2.7544, Val Loss: 2.1662\n",
      "Baseline Loss: 5.4928 | Actual Loss: 2.8230\n"
     ]
    },
    {
     "name": "stderr",
     "output_type": "stream",
     "text": [
      "Training:  25%|██▍       | 248/1000 [12:05<36:11,  2.89s/it]"
     ]
    },
    {
     "name": "stdout",
     "output_type": "stream",
     "text": [
      "Baseline Loss: 4.3789 | Actual Loss: 1.9392\n",
      "Epoch 248/1000: Train Loss: 2.8230, Val Loss: 1.9392\n"
     ]
    },
    {
     "name": "stderr",
     "output_type": "stream",
     "text": [
      "Training:  25%|██▍       | 249/1000 [12:08<35:45,  2.86s/it]"
     ]
    },
    {
     "name": "stdout",
     "output_type": "stream",
     "text": [
      "Baseline Loss: 5.4928 | Actual Loss: 2.8086\n",
      "Baseline Loss: 4.3789 | Actual Loss: 2.1872\n",
      "Epoch 249/1000: Train Loss: 2.8086, Val Loss: 2.1872\n",
      "Baseline Loss: 5.4927 | Actual Loss: 2.7680\n"
     ]
    },
    {
     "name": "stderr",
     "output_type": "stream",
     "text": [
      "Training:  25%|██▌       | 250/1000 [12:11<36:25,  2.91s/it]"
     ]
    },
    {
     "name": "stdout",
     "output_type": "stream",
     "text": [
      "Baseline Loss: 4.3789 | Actual Loss: 1.9435\n",
      "Epoch 250/1000: Train Loss: 2.7680, Val Loss: 1.9435\n",
      "Baseline Loss: 5.4927 | Actual Loss: 2.8911\n"
     ]
    },
    {
     "name": "stderr",
     "output_type": "stream",
     "text": [
      "Training:  25%|██▌       | 251/1000 [12:14<36:25,  2.92s/it]"
     ]
    },
    {
     "name": "stdout",
     "output_type": "stream",
     "text": [
      "Baseline Loss: 4.3789 | Actual Loss: 1.9364\n",
      "Epoch 251/1000: Train Loss: 2.8911, Val Loss: 1.9364\n",
      "Baseline Loss: 5.4927 | Actual Loss: 2.7881\n"
     ]
    },
    {
     "name": "stderr",
     "output_type": "stream",
     "text": [
      "Training:  25%|██▌       | 252/1000 [12:17<36:22,  2.92s/it]"
     ]
    },
    {
     "name": "stdout",
     "output_type": "stream",
     "text": [
      "Baseline Loss: 4.3789 | Actual Loss: 1.9064\n",
      "Epoch 252/1000: Train Loss: 2.7881, Val Loss: 1.9064\n",
      "Baseline Loss: 5.4927 | Actual Loss: 2.7063\n"
     ]
    },
    {
     "name": "stderr",
     "output_type": "stream",
     "text": [
      "Training:  25%|██▌       | 253/1000 [12:20<37:08,  2.98s/it]"
     ]
    },
    {
     "name": "stdout",
     "output_type": "stream",
     "text": [
      "Baseline Loss: 4.3789 | Actual Loss: 2.0433\n",
      "Epoch 253/1000: Train Loss: 2.7063, Val Loss: 2.0433\n",
      "Baseline Loss: 5.4927 | Actual Loss: 2.7379\n"
     ]
    },
    {
     "name": "stderr",
     "output_type": "stream",
     "text": [
      "Training:  25%|██▌       | 254/1000 [12:23<36:14,  2.91s/it]"
     ]
    },
    {
     "name": "stdout",
     "output_type": "stream",
     "text": [
      "Baseline Loss: 4.3789 | Actual Loss: 1.8837\n",
      "Epoch 254/1000: Train Loss: 2.7379, Val Loss: 1.8837\n",
      "Baseline Loss: 5.4927 | Actual Loss: 2.7575\n"
     ]
    },
    {
     "name": "stderr",
     "output_type": "stream",
     "text": [
      "Training:  26%|██▌       | 255/1000 [12:26<36:23,  2.93s/it]"
     ]
    },
    {
     "name": "stdout",
     "output_type": "stream",
     "text": [
      "Baseline Loss: 4.3789 | Actual Loss: 1.9229\n",
      "Epoch 255/1000: Train Loss: 2.7575, Val Loss: 1.9229\n",
      "Baseline Loss: 5.4927 | Actual Loss: 2.7702\n"
     ]
    },
    {
     "name": "stderr",
     "output_type": "stream",
     "text": [
      "Training:  26%|██▌       | 256/1000 [12:29<35:53,  2.89s/it]"
     ]
    },
    {
     "name": "stdout",
     "output_type": "stream",
     "text": [
      "Baseline Loss: 4.3789 | Actual Loss: 2.1277\n",
      "Epoch 256/1000: Train Loss: 2.7702, Val Loss: 2.1277\n",
      "Baseline Loss: 5.4927 | Actual Loss: 2.8150\n"
     ]
    },
    {
     "name": "stderr",
     "output_type": "stream",
     "text": [
      "Training:  26%|██▌       | 257/1000 [12:31<35:17,  2.85s/it]"
     ]
    },
    {
     "name": "stdout",
     "output_type": "stream",
     "text": [
      "Baseline Loss: 4.3789 | Actual Loss: 1.9447\n",
      "Epoch 257/1000: Train Loss: 2.8150, Val Loss: 1.9447\n"
     ]
    },
    {
     "name": "stderr",
     "output_type": "stream",
     "text": [
      "Training:  26%|██▌       | 258/1000 [12:34<35:46,  2.89s/it]"
     ]
    },
    {
     "name": "stdout",
     "output_type": "stream",
     "text": [
      "Baseline Loss: 5.4927 | Actual Loss: 2.7734\n",
      "Baseline Loss: 4.3789 | Actual Loss: 1.9862\n",
      "Epoch 258/1000: Train Loss: 2.7734, Val Loss: 1.9862\n",
      "Baseline Loss: 5.4927 | Actual Loss: 2.7511\n"
     ]
    },
    {
     "name": "stderr",
     "output_type": "stream",
     "text": [
      "Training:  26%|██▌       | 259/1000 [12:37<35:35,  2.88s/it]"
     ]
    },
    {
     "name": "stdout",
     "output_type": "stream",
     "text": [
      "Baseline Loss: 4.3789 | Actual Loss: 1.9781\n",
      "Epoch 259/1000: Train Loss: 2.7511, Val Loss: 1.9781\n",
      "Baseline Loss: 5.4927 | Actual Loss: 2.7534\n"
     ]
    },
    {
     "name": "stderr",
     "output_type": "stream",
     "text": [
      "Training:  26%|██▌       | 260/1000 [12:40<34:43,  2.82s/it]"
     ]
    },
    {
     "name": "stdout",
     "output_type": "stream",
     "text": [
      "Baseline Loss: 4.3789 | Actual Loss: 1.9664\n",
      "Epoch 260/1000: Train Loss: 2.7534, Val Loss: 1.9664\n",
      "Baseline Loss: 5.4928 | Actual Loss: 2.7461\n"
     ]
    },
    {
     "name": "stderr",
     "output_type": "stream",
     "text": [
      "Training:  26%|██▌       | 261/1000 [12:43<35:20,  2.87s/it]"
     ]
    },
    {
     "name": "stdout",
     "output_type": "stream",
     "text": [
      "Baseline Loss: 4.3789 | Actual Loss: 1.9937\n",
      "Epoch 261/1000: Train Loss: 2.7461, Val Loss: 1.9937\n",
      "Baseline Loss: 5.4927 | Actual Loss: 2.8057\n"
     ]
    },
    {
     "name": "stderr",
     "output_type": "stream",
     "text": [
      "Training:  26%|██▌       | 262/1000 [12:46<35:42,  2.90s/it]"
     ]
    },
    {
     "name": "stdout",
     "output_type": "stream",
     "text": [
      "Baseline Loss: 4.3789 | Actual Loss: 1.9529\n",
      "Epoch 262/1000: Train Loss: 2.8057, Val Loss: 1.9529\n",
      "Baseline Loss: 5.4928 | Actual Loss: 2.7604\n"
     ]
    },
    {
     "name": "stderr",
     "output_type": "stream",
     "text": [
      "Training:  26%|██▋       | 263/1000 [12:49<35:37,  2.90s/it]"
     ]
    },
    {
     "name": "stdout",
     "output_type": "stream",
     "text": [
      "Baseline Loss: 4.3789 | Actual Loss: 1.8608\n",
      "Epoch 263/1000: Train Loss: 2.7604, Val Loss: 1.8608\n",
      "Baseline Loss: 5.4928 | Actual Loss: 2.7816\n"
     ]
    },
    {
     "name": "stderr",
     "output_type": "stream",
     "text": [
      "Training:  26%|██▋       | 264/1000 [12:52<36:25,  2.97s/it]"
     ]
    },
    {
     "name": "stdout",
     "output_type": "stream",
     "text": [
      "Baseline Loss: 4.3789 | Actual Loss: 1.8237\n",
      "Epoch 264/1000: Train Loss: 2.7816, Val Loss: 1.8237\n",
      "New best validation loss: 1.8237\n",
      "Baseline Loss: 5.4927 | Actual Loss: 2.7284\n"
     ]
    },
    {
     "name": "stderr",
     "output_type": "stream",
     "text": [
      "Training:  26%|██▋       | 265/1000 [12:55<36:17,  2.96s/it]"
     ]
    },
    {
     "name": "stdout",
     "output_type": "stream",
     "text": [
      "Baseline Loss: 4.3789 | Actual Loss: 2.0800\n",
      "Epoch 265/1000: Train Loss: 2.7284, Val Loss: 2.0800\n",
      "Baseline Loss: 5.4927 | Actual Loss: 2.7567\n"
     ]
    },
    {
     "name": "stderr",
     "output_type": "stream",
     "text": [
      "Training:  27%|██▋       | 266/1000 [12:58<38:02,  3.11s/it]"
     ]
    },
    {
     "name": "stdout",
     "output_type": "stream",
     "text": [
      "Baseline Loss: 4.3789 | Actual Loss: 1.9236\n",
      "Epoch 266/1000: Train Loss: 2.7567, Val Loss: 1.9236\n",
      "Baseline Loss: 5.4928 | Actual Loss: 2.7532\n"
     ]
    },
    {
     "name": "stderr",
     "output_type": "stream",
     "text": [
      "Training:  27%|██▋       | 267/1000 [13:01<37:24,  3.06s/it]"
     ]
    },
    {
     "name": "stdout",
     "output_type": "stream",
     "text": [
      "Baseline Loss: 4.3789 | Actual Loss: 1.9461\n",
      "Epoch 267/1000: Train Loss: 2.7532, Val Loss: 1.9461\n",
      "Baseline Loss: 5.4928 | Actual Loss: 2.7876\n"
     ]
    },
    {
     "name": "stderr",
     "output_type": "stream",
     "text": [
      "Training:  27%|██▋       | 268/1000 [13:04<36:08,  2.96s/it]"
     ]
    },
    {
     "name": "stdout",
     "output_type": "stream",
     "text": [
      "Baseline Loss: 4.3789 | Actual Loss: 1.7757\n",
      "Epoch 268/1000: Train Loss: 2.7876, Val Loss: 1.7757\n",
      "New best validation loss: 1.7757\n",
      "Baseline Loss: 5.4927 | Actual Loss: 2.7587\n"
     ]
    },
    {
     "name": "stderr",
     "output_type": "stream",
     "text": [
      "Training:  27%|██▋       | 269/1000 [13:07<36:17,  2.98s/it]"
     ]
    },
    {
     "name": "stdout",
     "output_type": "stream",
     "text": [
      "Baseline Loss: 4.3789 | Actual Loss: 1.9286\n",
      "Epoch 269/1000: Train Loss: 2.7587, Val Loss: 1.9286\n",
      "Baseline Loss: 5.4928 | Actual Loss: 2.8213\n"
     ]
    },
    {
     "name": "stderr",
     "output_type": "stream",
     "text": [
      "Training:  27%|██▋       | 270/1000 [13:10<36:24,  2.99s/it]"
     ]
    },
    {
     "name": "stdout",
     "output_type": "stream",
     "text": [
      "Baseline Loss: 4.3789 | Actual Loss: 1.9599\n",
      "Epoch 270/1000: Train Loss: 2.8213, Val Loss: 1.9599\n",
      "Baseline Loss: 5.4927 | Actual Loss: 2.7524\n"
     ]
    },
    {
     "name": "stderr",
     "output_type": "stream",
     "text": [
      "Training:  27%|██▋       | 271/1000 [13:13<35:40,  2.94s/it]"
     ]
    },
    {
     "name": "stdout",
     "output_type": "stream",
     "text": [
      "Baseline Loss: 4.3789 | Actual Loss: 1.9062\n",
      "Epoch 271/1000: Train Loss: 2.7524, Val Loss: 1.9062\n"
     ]
    },
    {
     "name": "stderr",
     "output_type": "stream",
     "text": [
      "Training:  27%|██▋       | 272/1000 [13:16<35:03,  2.89s/it]"
     ]
    },
    {
     "name": "stdout",
     "output_type": "stream",
     "text": [
      "Baseline Loss: 5.4927 | Actual Loss: 2.8094\n",
      "Baseline Loss: 4.3789 | Actual Loss: 1.8571\n",
      "Epoch 272/1000: Train Loss: 2.8094, Val Loss: 1.8571\n",
      "Baseline Loss: 5.4927 | Actual Loss: 2.7527\n"
     ]
    },
    {
     "name": "stderr",
     "output_type": "stream",
     "text": [
      "Training:  27%|██▋       | 273/1000 [13:18<35:12,  2.91s/it]"
     ]
    },
    {
     "name": "stdout",
     "output_type": "stream",
     "text": [
      "Baseline Loss: 4.3789 | Actual Loss: 2.0900\n",
      "Epoch 273/1000: Train Loss: 2.7527, Val Loss: 2.0900\n",
      "Baseline Loss: 5.4927 | Actual Loss: 2.7482\n"
     ]
    },
    {
     "name": "stderr",
     "output_type": "stream",
     "text": [
      "Training:  27%|██▋       | 274/1000 [13:21<35:26,  2.93s/it]"
     ]
    },
    {
     "name": "stdout",
     "output_type": "stream",
     "text": [
      "Baseline Loss: 4.3789 | Actual Loss: 1.8582\n",
      "Epoch 274/1000: Train Loss: 2.7482, Val Loss: 1.8582\n",
      "Baseline Loss: 5.4928 | Actual Loss: 2.7594\n"
     ]
    },
    {
     "name": "stderr",
     "output_type": "stream",
     "text": [
      "Training:  28%|██▊       | 275/1000 [13:24<34:34,  2.86s/it]"
     ]
    },
    {
     "name": "stdout",
     "output_type": "stream",
     "text": [
      "Baseline Loss: 4.3789 | Actual Loss: 1.8073\n",
      "Epoch 275/1000: Train Loss: 2.7594, Val Loss: 1.8073\n"
     ]
    },
    {
     "name": "stderr",
     "output_type": "stream",
     "text": [
      "Training:  28%|██▊       | 276/1000 [13:27<34:48,  2.88s/it]"
     ]
    },
    {
     "name": "stdout",
     "output_type": "stream",
     "text": [
      "Baseline Loss: 5.4927 | Actual Loss: 2.8020\n",
      "Baseline Loss: 4.3789 | Actual Loss: 1.8496\n",
      "Epoch 276/1000: Train Loss: 2.8020, Val Loss: 1.8496\n",
      "Baseline Loss: 5.4928 | Actual Loss: 2.7052\n"
     ]
    },
    {
     "name": "stderr",
     "output_type": "stream",
     "text": [
      "Training:  28%|██▊       | 277/1000 [13:30<34:48,  2.89s/it]"
     ]
    },
    {
     "name": "stdout",
     "output_type": "stream",
     "text": [
      "Baseline Loss: 4.3789 | Actual Loss: 1.9340\n",
      "Epoch 277/1000: Train Loss: 2.7052, Val Loss: 1.9340\n",
      "Baseline Loss: 5.4927 | Actual Loss: 2.7861\n"
     ]
    },
    {
     "name": "stderr",
     "output_type": "stream",
     "text": [
      "Training:  28%|██▊       | 278/1000 [13:33<34:33,  2.87s/it]"
     ]
    },
    {
     "name": "stdout",
     "output_type": "stream",
     "text": [
      "Baseline Loss: 4.3789 | Actual Loss: 2.0946\n",
      "Epoch 278/1000: Train Loss: 2.7861, Val Loss: 2.0946\n",
      "Baseline Loss: 5.4928 | Actual Loss: 2.7157\n"
     ]
    },
    {
     "name": "stderr",
     "output_type": "stream",
     "text": [
      "Training:  28%|██▊       | 279/1000 [13:36<35:34,  2.96s/it]"
     ]
    },
    {
     "name": "stdout",
     "output_type": "stream",
     "text": [
      "Baseline Loss: 4.3789 | Actual Loss: 1.9084\n",
      "Epoch 279/1000: Train Loss: 2.7157, Val Loss: 1.9084\n",
      "Baseline Loss: 5.4927 | Actual Loss: 2.7129\n"
     ]
    },
    {
     "name": "stderr",
     "output_type": "stream",
     "text": [
      "Training:  28%|██▊       | 280/1000 [13:39<35:08,  2.93s/it]"
     ]
    },
    {
     "name": "stdout",
     "output_type": "stream",
     "text": [
      "Baseline Loss: 4.3789 | Actual Loss: 1.9488\n",
      "Epoch 280/1000: Train Loss: 2.7129, Val Loss: 1.9488\n"
     ]
    },
    {
     "name": "stderr",
     "output_type": "stream",
     "text": [
      "Training:  28%|██▊       | 281/1000 [13:42<35:06,  2.93s/it]"
     ]
    },
    {
     "name": "stdout",
     "output_type": "stream",
     "text": [
      "Baseline Loss: 5.4928 | Actual Loss: 2.7233\n",
      "Baseline Loss: 4.3789 | Actual Loss: 1.9194\n",
      "Epoch 281/1000: Train Loss: 2.7233, Val Loss: 1.9194\n",
      "Baseline Loss: 5.4927 | Actual Loss: 2.7398\n"
     ]
    },
    {
     "name": "stderr",
     "output_type": "stream",
     "text": [
      "Training:  28%|██▊       | 282/1000 [13:45<34:29,  2.88s/it]"
     ]
    },
    {
     "name": "stdout",
     "output_type": "stream",
     "text": [
      "Baseline Loss: 4.3789 | Actual Loss: 1.9892\n",
      "Epoch 282/1000: Train Loss: 2.7398, Val Loss: 1.9892\n",
      "Baseline Loss: 5.4928 | Actual Loss: 2.7792\n"
     ]
    },
    {
     "name": "stderr",
     "output_type": "stream",
     "text": [
      "Training:  28%|██▊       | 283/1000 [13:48<34:48,  2.91s/it]"
     ]
    },
    {
     "name": "stdout",
     "output_type": "stream",
     "text": [
      "Baseline Loss: 4.3789 | Actual Loss: 1.9745\n",
      "Epoch 283/1000: Train Loss: 2.7792, Val Loss: 1.9745\n"
     ]
    },
    {
     "name": "stderr",
     "output_type": "stream",
     "text": [
      "Training:  28%|██▊       | 284/1000 [13:50<34:21,  2.88s/it]"
     ]
    },
    {
     "name": "stdout",
     "output_type": "stream",
     "text": [
      "Baseline Loss: 5.4927 | Actual Loss: 2.7450\n",
      "Baseline Loss: 4.3789 | Actual Loss: 1.8410\n",
      "Epoch 284/1000: Train Loss: 2.7450, Val Loss: 1.8410\n",
      "Baseline Loss: 5.4927 | Actual Loss: 2.7834\n"
     ]
    },
    {
     "name": "stderr",
     "output_type": "stream",
     "text": [
      "Training:  28%|██▊       | 285/1000 [13:53<34:03,  2.86s/it]"
     ]
    },
    {
     "name": "stdout",
     "output_type": "stream",
     "text": [
      "Baseline Loss: 4.3789 | Actual Loss: 1.9327\n",
      "Epoch 285/1000: Train Loss: 2.7834, Val Loss: 1.9327\n",
      "Baseline Loss: 5.4927 | Actual Loss: 2.7211\n"
     ]
    },
    {
     "name": "stderr",
     "output_type": "stream",
     "text": [
      "Training:  29%|██▊       | 286/1000 [13:56<33:24,  2.81s/it]"
     ]
    },
    {
     "name": "stdout",
     "output_type": "stream",
     "text": [
      "Baseline Loss: 4.3789 | Actual Loss: 1.9950\n",
      "Epoch 286/1000: Train Loss: 2.7211, Val Loss: 1.9950\n",
      "Baseline Loss: 5.4927 | Actual Loss: 2.8092\n"
     ]
    },
    {
     "name": "stderr",
     "output_type": "stream",
     "text": [
      "Training:  29%|██▊       | 287/1000 [13:59<33:52,  2.85s/it]"
     ]
    },
    {
     "name": "stdout",
     "output_type": "stream",
     "text": [
      "Baseline Loss: 4.3789 | Actual Loss: 1.9084\n",
      "Epoch 287/1000: Train Loss: 2.8092, Val Loss: 1.9084\n",
      "Baseline Loss: 5.4928 | Actual Loss: 2.7212\n"
     ]
    },
    {
     "name": "stderr",
     "output_type": "stream",
     "text": [
      "Training:  29%|██▉       | 288/1000 [14:02<33:27,  2.82s/it]"
     ]
    },
    {
     "name": "stdout",
     "output_type": "stream",
     "text": [
      "Baseline Loss: 4.3789 | Actual Loss: 1.9028\n",
      "Epoch 288/1000: Train Loss: 2.7212, Val Loss: 1.9028\n",
      "Baseline Loss: 5.4927 | Actual Loss: 2.6781\n"
     ]
    },
    {
     "name": "stderr",
     "output_type": "stream",
     "text": [
      "Training:  29%|██▉       | 289/1000 [14:05<34:33,  2.92s/it]"
     ]
    },
    {
     "name": "stdout",
     "output_type": "stream",
     "text": [
      "Baseline Loss: 4.3789 | Actual Loss: 1.9033\n",
      "Epoch 289/1000: Train Loss: 2.6781, Val Loss: 1.9033\n",
      "Baseline Loss: 5.4927 | Actual Loss: 2.7360\n"
     ]
    },
    {
     "name": "stderr",
     "output_type": "stream",
     "text": [
      "Training:  29%|██▉       | 290/1000 [14:08<35:00,  2.96s/it]"
     ]
    },
    {
     "name": "stdout",
     "output_type": "stream",
     "text": [
      "Baseline Loss: 4.3789 | Actual Loss: 2.0432\n",
      "Epoch 290/1000: Train Loss: 2.7360, Val Loss: 2.0432\n",
      "Baseline Loss: 5.4927 | Actual Loss: 2.7405\n"
     ]
    },
    {
     "name": "stderr",
     "output_type": "stream",
     "text": [
      "Training:  29%|██▉       | 291/1000 [14:11<34:25,  2.91s/it]"
     ]
    },
    {
     "name": "stdout",
     "output_type": "stream",
     "text": [
      "Baseline Loss: 4.3789 | Actual Loss: 1.8847\n",
      "Epoch 291/1000: Train Loss: 2.7405, Val Loss: 1.8847\n",
      "Baseline Loss: 5.4928 | Actual Loss: 2.7436\n"
     ]
    },
    {
     "name": "stderr",
     "output_type": "stream",
     "text": [
      "Training:  29%|██▉       | 292/1000 [14:13<34:00,  2.88s/it]"
     ]
    },
    {
     "name": "stdout",
     "output_type": "stream",
     "text": [
      "Baseline Loss: 4.3789 | Actual Loss: 1.9668\n",
      "Epoch 292/1000: Train Loss: 2.7436, Val Loss: 1.9668\n",
      "Baseline Loss: 5.4928 | Actual Loss: 2.7872\n"
     ]
    },
    {
     "name": "stderr",
     "output_type": "stream",
     "text": [
      "Training:  29%|██▉       | 293/1000 [14:17<35:01,  2.97s/it]"
     ]
    },
    {
     "name": "stdout",
     "output_type": "stream",
     "text": [
      "Baseline Loss: 4.3789 | Actual Loss: 1.8411\n",
      "Epoch 293/1000: Train Loss: 2.7872, Val Loss: 1.8411\n",
      "Baseline Loss: 5.4927 | Actual Loss: 2.7420\n"
     ]
    },
    {
     "name": "stderr",
     "output_type": "stream",
     "text": [
      "Training:  29%|██▉       | 294/1000 [14:20<35:24,  3.01s/it]"
     ]
    },
    {
     "name": "stdout",
     "output_type": "stream",
     "text": [
      "Baseline Loss: 4.3789 | Actual Loss: 2.0555\n",
      "Epoch 294/1000: Train Loss: 2.7420, Val Loss: 2.0555\n",
      "Baseline Loss: 5.4928 | Actual Loss: 2.7170\n"
     ]
    },
    {
     "name": "stderr",
     "output_type": "stream",
     "text": [
      "Training:  30%|██▉       | 295/1000 [14:22<34:51,  2.97s/it]"
     ]
    },
    {
     "name": "stdout",
     "output_type": "stream",
     "text": [
      "Baseline Loss: 4.3789 | Actual Loss: 1.8933\n",
      "Epoch 295/1000: Train Loss: 2.7170, Val Loss: 1.8933\n",
      "Baseline Loss: 5.4927 | Actual Loss: 2.7381\n"
     ]
    },
    {
     "name": "stderr",
     "output_type": "stream",
     "text": [
      "Training:  30%|██▉       | 296/1000 [14:25<34:54,  2.98s/it]"
     ]
    },
    {
     "name": "stdout",
     "output_type": "stream",
     "text": [
      "Baseline Loss: 4.3789 | Actual Loss: 1.9158\n",
      "Epoch 296/1000: Train Loss: 2.7381, Val Loss: 1.9158\n",
      "Baseline Loss: 5.4927 | Actual Loss: 2.7508\n"
     ]
    },
    {
     "name": "stderr",
     "output_type": "stream",
     "text": [
      "Training:  30%|██▉       | 297/1000 [14:28<34:32,  2.95s/it]"
     ]
    },
    {
     "name": "stdout",
     "output_type": "stream",
     "text": [
      "Baseline Loss: 4.3789 | Actual Loss: 1.7573\n",
      "Epoch 297/1000: Train Loss: 2.7508, Val Loss: 1.7573\n",
      "New best validation loss: 1.7573\n",
      "Baseline Loss: 5.4927 | Actual Loss: 2.7619\n"
     ]
    },
    {
     "name": "stderr",
     "output_type": "stream",
     "text": [
      "Training:  30%|██▉       | 298/1000 [14:31<34:37,  2.96s/it]"
     ]
    },
    {
     "name": "stdout",
     "output_type": "stream",
     "text": [
      "Baseline Loss: 4.3789 | Actual Loss: 1.9007\n",
      "Epoch 298/1000: Train Loss: 2.7619, Val Loss: 1.9007\n",
      "Baseline Loss: 5.4927 | Actual Loss: 2.8136\n"
     ]
    },
    {
     "name": "stderr",
     "output_type": "stream",
     "text": [
      "Training:  30%|██▉       | 299/1000 [14:34<33:25,  2.86s/it]"
     ]
    },
    {
     "name": "stdout",
     "output_type": "stream",
     "text": [
      "Baseline Loss: 4.3789 | Actual Loss: 1.9760\n",
      "Epoch 299/1000: Train Loss: 2.8136, Val Loss: 1.9760\n"
     ]
    },
    {
     "name": "stderr",
     "output_type": "stream",
     "text": [
      "Training:  30%|███       | 300/1000 [14:37<32:16,  2.77s/it]"
     ]
    },
    {
     "name": "stdout",
     "output_type": "stream",
     "text": [
      "Baseline Loss: 5.4928 | Actual Loss: 2.7514\n",
      "Baseline Loss: 4.3789 | Actual Loss: 1.9164\n",
      "Epoch 300/1000: Train Loss: 2.7514, Val Loss: 1.9164\n",
      "Baseline Loss: 5.4927 | Actual Loss: 2.7185\n"
     ]
    },
    {
     "name": "stderr",
     "output_type": "stream",
     "text": [
      "Training:  30%|███       | 301/1000 [14:39<32:16,  2.77s/it]"
     ]
    },
    {
     "name": "stdout",
     "output_type": "stream",
     "text": [
      "Baseline Loss: 4.3789 | Actual Loss: 1.9499\n",
      "Epoch 301/1000: Train Loss: 2.7185, Val Loss: 1.9499\n",
      "Baseline Loss: 5.4927 | Actual Loss: 2.7123\n"
     ]
    },
    {
     "name": "stderr",
     "output_type": "stream",
     "text": [
      "Training:  30%|███       | 302/1000 [14:42<32:00,  2.75s/it]"
     ]
    },
    {
     "name": "stdout",
     "output_type": "stream",
     "text": [
      "Baseline Loss: 4.3789 | Actual Loss: 1.9402\n",
      "Epoch 302/1000: Train Loss: 2.7123, Val Loss: 1.9402\n",
      "Baseline Loss: 5.4927 | Actual Loss: 2.7079\n"
     ]
    },
    {
     "name": "stderr",
     "output_type": "stream",
     "text": [
      "Training:  30%|███       | 303/1000 [14:45<31:29,  2.71s/it]"
     ]
    },
    {
     "name": "stdout",
     "output_type": "stream",
     "text": [
      "Baseline Loss: 4.3789 | Actual Loss: 1.9332\n",
      "Epoch 303/1000: Train Loss: 2.7079, Val Loss: 1.9332\n",
      "Baseline Loss: 5.4927 | Actual Loss: 2.8135\n"
     ]
    },
    {
     "name": "stderr",
     "output_type": "stream",
     "text": [
      "Training:  30%|███       | 304/1000 [14:47<31:09,  2.69s/it]"
     ]
    },
    {
     "name": "stdout",
     "output_type": "stream",
     "text": [
      "Baseline Loss: 4.3789 | Actual Loss: 1.9081\n",
      "Epoch 304/1000: Train Loss: 2.8135, Val Loss: 1.9081\n",
      "Baseline Loss: 5.4927 | Actual Loss: 2.7240\n"
     ]
    },
    {
     "name": "stderr",
     "output_type": "stream",
     "text": [
      "Training:  30%|███       | 305/1000 [14:50<30:22,  2.62s/it]"
     ]
    },
    {
     "name": "stdout",
     "output_type": "stream",
     "text": [
      "Baseline Loss: 4.3789 | Actual Loss: 1.9054\n",
      "Epoch 305/1000: Train Loss: 2.7240, Val Loss: 1.9054\n",
      "Baseline Loss: 5.4928 | Actual Loss: 2.7429\n"
     ]
    },
    {
     "name": "stderr",
     "output_type": "stream",
     "text": [
      "Training:  31%|███       | 306/1000 [14:53<31:15,  2.70s/it]"
     ]
    },
    {
     "name": "stdout",
     "output_type": "stream",
     "text": [
      "Baseline Loss: 4.3789 | Actual Loss: 1.8788\n",
      "Epoch 306/1000: Train Loss: 2.7429, Val Loss: 1.8788\n",
      "Baseline Loss: 5.4927 | Actual Loss: 2.7354\n"
     ]
    },
    {
     "name": "stderr",
     "output_type": "stream",
     "text": [
      "Training:  31%|███       | 307/1000 [14:55<30:15,  2.62s/it]"
     ]
    },
    {
     "name": "stdout",
     "output_type": "stream",
     "text": [
      "Baseline Loss: 4.3789 | Actual Loss: 1.9216\n",
      "Epoch 307/1000: Train Loss: 2.7354, Val Loss: 1.9216\n",
      "Baseline Loss: 5.4928 | Actual Loss: 2.7488\n"
     ]
    },
    {
     "name": "stderr",
     "output_type": "stream",
     "text": [
      "Training:  31%|███       | 308/1000 [14:58<30:03,  2.61s/it]"
     ]
    },
    {
     "name": "stdout",
     "output_type": "stream",
     "text": [
      "Baseline Loss: 4.3789 | Actual Loss: 1.8236\n",
      "Epoch 308/1000: Train Loss: 2.7488, Val Loss: 1.8236\n",
      "Baseline Loss: 5.4927 | Actual Loss: 2.7840\n"
     ]
    },
    {
     "name": "stderr",
     "output_type": "stream",
     "text": [
      "Training:  31%|███       | 309/1000 [15:00<29:36,  2.57s/it]"
     ]
    },
    {
     "name": "stdout",
     "output_type": "stream",
     "text": [
      "Baseline Loss: 4.3789 | Actual Loss: 1.9839\n",
      "Epoch 309/1000: Train Loss: 2.7840, Val Loss: 1.9839\n",
      "Baseline Loss: 5.4928 | Actual Loss: 2.7568\n"
     ]
    },
    {
     "name": "stderr",
     "output_type": "stream",
     "text": [
      "Training:  31%|███       | 310/1000 [15:03<30:03,  2.61s/it]"
     ]
    },
    {
     "name": "stdout",
     "output_type": "stream",
     "text": [
      "Baseline Loss: 4.3789 | Actual Loss: 1.9274\n",
      "Epoch 310/1000: Train Loss: 2.7568, Val Loss: 1.9274\n",
      "Baseline Loss: 5.4927 | Actual Loss: 2.7931\n"
     ]
    },
    {
     "name": "stderr",
     "output_type": "stream",
     "text": [
      "Training:  31%|███       | 311/1000 [15:05<29:45,  2.59s/it]"
     ]
    },
    {
     "name": "stdout",
     "output_type": "stream",
     "text": [
      "Baseline Loss: 4.3789 | Actual Loss: 2.0140\n",
      "Epoch 311/1000: Train Loss: 2.7931, Val Loss: 2.0140\n",
      "Baseline Loss: 5.4928 | Actual Loss: 2.7112\n"
     ]
    },
    {
     "name": "stderr",
     "output_type": "stream",
     "text": [
      "Training:  31%|███       | 312/1000 [15:08<31:17,  2.73s/it]"
     ]
    },
    {
     "name": "stdout",
     "output_type": "stream",
     "text": [
      "Baseline Loss: 4.3789 | Actual Loss: 1.8941\n",
      "Epoch 312/1000: Train Loss: 2.7112, Val Loss: 1.8941\n",
      "Baseline Loss: 5.4927 | Actual Loss: 2.7186\n"
     ]
    },
    {
     "name": "stderr",
     "output_type": "stream",
     "text": [
      "Training:  31%|███▏      | 313/1000 [15:11<30:03,  2.63s/it]"
     ]
    },
    {
     "name": "stdout",
     "output_type": "stream",
     "text": [
      "Baseline Loss: 4.3789 | Actual Loss: 1.9187\n",
      "Epoch 313/1000: Train Loss: 2.7186, Val Loss: 1.9187\n",
      "Baseline Loss: 5.4928 | Actual Loss: 2.7627\n"
     ]
    },
    {
     "name": "stderr",
     "output_type": "stream",
     "text": [
      "Training:  31%|███▏      | 314/1000 [15:13<30:13,  2.64s/it]"
     ]
    },
    {
     "name": "stdout",
     "output_type": "stream",
     "text": [
      "Baseline Loss: 4.3789 | Actual Loss: 2.0409\n",
      "Epoch 314/1000: Train Loss: 2.7627, Val Loss: 2.0409\n",
      "Baseline Loss: 5.4927 | Actual Loss: 2.7453\n"
     ]
    },
    {
     "name": "stderr",
     "output_type": "stream",
     "text": [
      "Training:  32%|███▏      | 315/1000 [15:16<30:20,  2.66s/it]"
     ]
    },
    {
     "name": "stdout",
     "output_type": "stream",
     "text": [
      "Baseline Loss: 4.3789 | Actual Loss: 1.8802\n",
      "Epoch 315/1000: Train Loss: 2.7453, Val Loss: 1.8802\n",
      "Baseline Loss: 5.4927 | Actual Loss: 2.7631\n"
     ]
    },
    {
     "name": "stderr",
     "output_type": "stream",
     "text": [
      "Training:  32%|███▏      | 316/1000 [15:19<30:07,  2.64s/it]"
     ]
    },
    {
     "name": "stdout",
     "output_type": "stream",
     "text": [
      "Baseline Loss: 4.3789 | Actual Loss: 1.8740\n",
      "Epoch 316/1000: Train Loss: 2.7631, Val Loss: 1.8740\n",
      "Baseline Loss: 5.4927 | Actual Loss: 2.7261\n"
     ]
    },
    {
     "name": "stderr",
     "output_type": "stream",
     "text": [
      "Training:  32%|███▏      | 317/1000 [15:22<30:18,  2.66s/it]"
     ]
    },
    {
     "name": "stdout",
     "output_type": "stream",
     "text": [
      "Baseline Loss: 4.3789 | Actual Loss: 1.9227\n",
      "Epoch 317/1000: Train Loss: 2.7261, Val Loss: 1.9227\n",
      "Baseline Loss: 5.4927 | Actual Loss: 2.7608\n"
     ]
    },
    {
     "name": "stderr",
     "output_type": "stream",
     "text": [
      "Training:  32%|███▏      | 318/1000 [15:24<30:08,  2.65s/it]"
     ]
    },
    {
     "name": "stdout",
     "output_type": "stream",
     "text": [
      "Baseline Loss: 4.3789 | Actual Loss: 1.8440\n",
      "Epoch 318/1000: Train Loss: 2.7608, Val Loss: 1.8440\n"
     ]
    },
    {
     "name": "stderr",
     "output_type": "stream",
     "text": [
      "Training:  32%|███▏      | 319/1000 [15:27<30:26,  2.68s/it]"
     ]
    },
    {
     "name": "stdout",
     "output_type": "stream",
     "text": [
      "Baseline Loss: 5.4927 | Actual Loss: 2.7773\n",
      "Baseline Loss: 4.3789 | Actual Loss: 1.9250\n",
      "Epoch 319/1000: Train Loss: 2.7773, Val Loss: 1.9250\n",
      "Baseline Loss: 5.4927 | Actual Loss: 2.7960\n"
     ]
    },
    {
     "name": "stderr",
     "output_type": "stream",
     "text": [
      "Training:  32%|███▏      | 320/1000 [15:30<30:11,  2.66s/it]"
     ]
    },
    {
     "name": "stdout",
     "output_type": "stream",
     "text": [
      "Baseline Loss: 4.3789 | Actual Loss: 1.9611\n",
      "Epoch 320/1000: Train Loss: 2.7960, Val Loss: 1.9611\n"
     ]
    },
    {
     "name": "stderr",
     "output_type": "stream",
     "text": [
      "Training:  32%|███▏      | 321/1000 [15:32<29:52,  2.64s/it]"
     ]
    },
    {
     "name": "stdout",
     "output_type": "stream",
     "text": [
      "Baseline Loss: 5.4927 | Actual Loss: 2.7260\n",
      "Baseline Loss: 4.3789 | Actual Loss: 2.0208\n",
      "Epoch 321/1000: Train Loss: 2.7260, Val Loss: 2.0208\n",
      "Baseline Loss: 5.4927 | Actual Loss: 2.7415\n"
     ]
    },
    {
     "name": "stderr",
     "output_type": "stream",
     "text": [
      "Training:  32%|███▏      | 322/1000 [15:35<30:08,  2.67s/it]"
     ]
    },
    {
     "name": "stdout",
     "output_type": "stream",
     "text": [
      "Baseline Loss: 4.3789 | Actual Loss: 1.8108\n",
      "Epoch 322/1000: Train Loss: 2.7415, Val Loss: 1.8108\n",
      "Baseline Loss: 5.4927 | Actual Loss: 2.6977\n"
     ]
    },
    {
     "name": "stderr",
     "output_type": "stream",
     "text": [
      "Training:  32%|███▏      | 323/1000 [15:38<30:27,  2.70s/it]"
     ]
    },
    {
     "name": "stdout",
     "output_type": "stream",
     "text": [
      "Baseline Loss: 4.3789 | Actual Loss: 1.9922\n",
      "Epoch 323/1000: Train Loss: 2.6977, Val Loss: 1.9922\n"
     ]
    },
    {
     "name": "stderr",
     "output_type": "stream",
     "text": [
      "Training:  32%|███▏      | 324/1000 [15:40<29:22,  2.61s/it]"
     ]
    },
    {
     "name": "stdout",
     "output_type": "stream",
     "text": [
      "Baseline Loss: 5.4927 | Actual Loss: 2.7053\n",
      "Baseline Loss: 4.3789 | Actual Loss: 1.9856\n",
      "Epoch 324/1000: Train Loss: 2.7053, Val Loss: 1.9856\n"
     ]
    },
    {
     "name": "stderr",
     "output_type": "stream",
     "text": [
      "Training:  32%|███▎      | 325/1000 [15:43<30:10,  2.68s/it]"
     ]
    },
    {
     "name": "stdout",
     "output_type": "stream",
     "text": [
      "Baseline Loss: 5.4927 | Actual Loss: 2.7117\n",
      "Baseline Loss: 4.3789 | Actual Loss: 1.9007\n",
      "Epoch 325/1000: Train Loss: 2.7117, Val Loss: 1.9007\n"
     ]
    },
    {
     "name": "stderr",
     "output_type": "stream",
     "text": [
      "Training:  33%|███▎      | 326/1000 [15:46<30:05,  2.68s/it]"
     ]
    },
    {
     "name": "stdout",
     "output_type": "stream",
     "text": [
      "Baseline Loss: 5.4928 | Actual Loss: 2.7318\n",
      "Baseline Loss: 4.3789 | Actual Loss: 1.8548\n",
      "Epoch 326/1000: Train Loss: 2.7318, Val Loss: 1.8548\n",
      "Baseline Loss: 5.4927 | Actual Loss: 2.7464\n"
     ]
    },
    {
     "name": "stderr",
     "output_type": "stream",
     "text": [
      "Training:  33%|███▎      | 327/1000 [15:48<29:33,  2.64s/it]"
     ]
    },
    {
     "name": "stdout",
     "output_type": "stream",
     "text": [
      "Baseline Loss: 4.3789 | Actual Loss: 1.9719\n",
      "Epoch 327/1000: Train Loss: 2.7464, Val Loss: 1.9719\n",
      "Baseline Loss: 5.4927 | Actual Loss: 2.7300\n"
     ]
    },
    {
     "name": "stderr",
     "output_type": "stream",
     "text": [
      "Training:  33%|███▎      | 328/1000 [15:51<30:29,  2.72s/it]"
     ]
    },
    {
     "name": "stdout",
     "output_type": "stream",
     "text": [
      "Baseline Loss: 4.3789 | Actual Loss: 1.9852\n",
      "Epoch 328/1000: Train Loss: 2.7300, Val Loss: 1.9852\n",
      "Baseline Loss: 5.4927 | Actual Loss: 2.7482\n"
     ]
    },
    {
     "name": "stderr",
     "output_type": "stream",
     "text": [
      "Training:  33%|███▎      | 329/1000 [15:53<29:26,  2.63s/it]"
     ]
    },
    {
     "name": "stdout",
     "output_type": "stream",
     "text": [
      "Baseline Loss: 4.3789 | Actual Loss: 1.9314\n",
      "Epoch 329/1000: Train Loss: 2.7482, Val Loss: 1.9314\n",
      "Baseline Loss: 5.4927 | Actual Loss: 2.7504\n"
     ]
    },
    {
     "name": "stderr",
     "output_type": "stream",
     "text": [
      "Training:  33%|███▎      | 330/1000 [15:56<29:14,  2.62s/it]"
     ]
    },
    {
     "name": "stdout",
     "output_type": "stream",
     "text": [
      "Baseline Loss: 4.3789 | Actual Loss: 1.9639\n",
      "Epoch 330/1000: Train Loss: 2.7504, Val Loss: 1.9639\n",
      "Baseline Loss: 5.4927 | Actual Loss: 2.7737\n"
     ]
    },
    {
     "name": "stderr",
     "output_type": "stream",
     "text": [
      "Training:  33%|███▎      | 331/1000 [15:58<28:36,  2.57s/it]"
     ]
    },
    {
     "name": "stdout",
     "output_type": "stream",
     "text": [
      "Baseline Loss: 4.3789 | Actual Loss: 2.0085\n",
      "Epoch 331/1000: Train Loss: 2.7737, Val Loss: 2.0085\n",
      "Baseline Loss: 5.4927 | Actual Loss: 2.7045\n"
     ]
    },
    {
     "name": "stderr",
     "output_type": "stream",
     "text": [
      "Training:  33%|███▎      | 332/1000 [16:01<29:01,  2.61s/it]"
     ]
    },
    {
     "name": "stdout",
     "output_type": "stream",
     "text": [
      "Baseline Loss: 4.3789 | Actual Loss: 1.8472\n",
      "Epoch 332/1000: Train Loss: 2.7045, Val Loss: 1.8472\n",
      "Baseline Loss: 5.4927 | Actual Loss: 2.8432\n"
     ]
    },
    {
     "name": "stderr",
     "output_type": "stream",
     "text": [
      "Training:  33%|███▎      | 333/1000 [16:04<28:44,  2.59s/it]"
     ]
    },
    {
     "name": "stdout",
     "output_type": "stream",
     "text": [
      "Baseline Loss: 4.3789 | Actual Loss: 1.9373\n",
      "Epoch 333/1000: Train Loss: 2.8432, Val Loss: 1.9373\n"
     ]
    },
    {
     "name": "stderr",
     "output_type": "stream",
     "text": [
      "Training:  33%|███▎      | 334/1000 [16:07<29:46,  2.68s/it]"
     ]
    },
    {
     "name": "stdout",
     "output_type": "stream",
     "text": [
      "Baseline Loss: 5.4927 | Actual Loss: 2.8045\n",
      "Baseline Loss: 4.3789 | Actual Loss: 1.9824\n",
      "Epoch 334/1000: Train Loss: 2.8045, Val Loss: 1.9824\n",
      "Baseline Loss: 5.4927 | Actual Loss: 2.7314\n"
     ]
    },
    {
     "name": "stderr",
     "output_type": "stream",
     "text": [
      "Training:  34%|███▎      | 335/1000 [16:09<28:46,  2.60s/it]"
     ]
    },
    {
     "name": "stdout",
     "output_type": "stream",
     "text": [
      "Baseline Loss: 4.3789 | Actual Loss: 1.9236\n",
      "Epoch 335/1000: Train Loss: 2.7314, Val Loss: 1.9236\n",
      "Baseline Loss: 5.4927 | Actual Loss: 2.7614\n"
     ]
    },
    {
     "name": "stderr",
     "output_type": "stream",
     "text": [
      "Training:  34%|███▎      | 336/1000 [16:12<29:16,  2.65s/it]"
     ]
    },
    {
     "name": "stdout",
     "output_type": "stream",
     "text": [
      "Baseline Loss: 4.3789 | Actual Loss: 1.9354\n",
      "Epoch 336/1000: Train Loss: 2.7614, Val Loss: 1.9354\n",
      "Baseline Loss: 5.4928 | Actual Loss: 2.7591\n"
     ]
    },
    {
     "name": "stderr",
     "output_type": "stream",
     "text": [
      "Training:  34%|███▎      | 337/1000 [16:15<29:53,  2.71s/it]"
     ]
    },
    {
     "name": "stdout",
     "output_type": "stream",
     "text": [
      "Baseline Loss: 4.3789 | Actual Loss: 2.0603\n",
      "Epoch 337/1000: Train Loss: 2.7591, Val Loss: 2.0603\n",
      "Baseline Loss: 5.4928 | Actual Loss: 2.7384\n"
     ]
    },
    {
     "name": "stderr",
     "output_type": "stream",
     "text": [
      "Training:  34%|███▍      | 338/1000 [16:17<29:36,  2.68s/it]"
     ]
    },
    {
     "name": "stdout",
     "output_type": "stream",
     "text": [
      "Baseline Loss: 4.3789 | Actual Loss: 1.8587\n",
      "Epoch 338/1000: Train Loss: 2.7384, Val Loss: 1.8587\n",
      "Baseline Loss: 5.4927 | Actual Loss: 2.7463\n"
     ]
    },
    {
     "name": "stderr",
     "output_type": "stream",
     "text": [
      "Training:  34%|███▍      | 339/1000 [16:20<29:58,  2.72s/it]"
     ]
    },
    {
     "name": "stdout",
     "output_type": "stream",
     "text": [
      "Baseline Loss: 4.3789 | Actual Loss: 1.7738\n",
      "Epoch 339/1000: Train Loss: 2.7463, Val Loss: 1.7738\n",
      "Baseline Loss: 5.4927 | Actual Loss: 2.7017\n"
     ]
    },
    {
     "name": "stderr",
     "output_type": "stream",
     "text": [
      "Training:  34%|███▍      | 340/1000 [16:23<29:39,  2.70s/it]"
     ]
    },
    {
     "name": "stdout",
     "output_type": "stream",
     "text": [
      "Baseline Loss: 4.3789 | Actual Loss: 1.9500\n",
      "Epoch 340/1000: Train Loss: 2.7017, Val Loss: 1.9500\n"
     ]
    },
    {
     "name": "stderr",
     "output_type": "stream",
     "text": [
      "Training:  34%|███▍      | 341/1000 [16:25<29:47,  2.71s/it]"
     ]
    },
    {
     "name": "stdout",
     "output_type": "stream",
     "text": [
      "Baseline Loss: 5.4927 | Actual Loss: 2.8430\n",
      "Baseline Loss: 4.3789 | Actual Loss: 1.8724\n",
      "Epoch 341/1000: Train Loss: 2.8430, Val Loss: 1.8724\n",
      "Baseline Loss: 5.4927 | Actual Loss: 2.7573\n"
     ]
    },
    {
     "name": "stderr",
     "output_type": "stream",
     "text": [
      "Training:  34%|███▍      | 342/1000 [16:28<29:19,  2.67s/it]"
     ]
    },
    {
     "name": "stdout",
     "output_type": "stream",
     "text": [
      "Baseline Loss: 4.3789 | Actual Loss: 1.9216\n",
      "Epoch 342/1000: Train Loss: 2.7573, Val Loss: 1.9216\n",
      "Baseline Loss: 5.4927 | Actual Loss: 2.7416\n"
     ]
    },
    {
     "name": "stderr",
     "output_type": "stream",
     "text": [
      "Training:  34%|███▍      | 343/1000 [16:31<28:52,  2.64s/it]"
     ]
    },
    {
     "name": "stdout",
     "output_type": "stream",
     "text": [
      "Baseline Loss: 4.3789 | Actual Loss: 1.8775\n",
      "Epoch 343/1000: Train Loss: 2.7416, Val Loss: 1.8775\n"
     ]
    },
    {
     "name": "stderr",
     "output_type": "stream",
     "text": [
      "Training:  34%|███▍      | 344/1000 [16:33<29:03,  2.66s/it]"
     ]
    },
    {
     "name": "stdout",
     "output_type": "stream",
     "text": [
      "Baseline Loss: 5.4927 | Actual Loss: 2.7663\n",
      "Baseline Loss: 4.3789 | Actual Loss: 2.1056\n",
      "Epoch 344/1000: Train Loss: 2.7663, Val Loss: 2.1056\n",
      "Baseline Loss: 5.4927 | Actual Loss: 2.7332\n"
     ]
    },
    {
     "name": "stderr",
     "output_type": "stream",
     "text": [
      "Training:  34%|███▍      | 345/1000 [16:36<29:11,  2.67s/it]"
     ]
    },
    {
     "name": "stdout",
     "output_type": "stream",
     "text": [
      "Baseline Loss: 4.3789 | Actual Loss: 1.9177\n",
      "Epoch 345/1000: Train Loss: 2.7332, Val Loss: 1.9177\n",
      "Baseline Loss: 5.4928 | Actual Loss: 2.7295\n"
     ]
    },
    {
     "name": "stderr",
     "output_type": "stream",
     "text": [
      "Training:  35%|███▍      | 346/1000 [16:38<28:15,  2.59s/it]"
     ]
    },
    {
     "name": "stdout",
     "output_type": "stream",
     "text": [
      "Baseline Loss: 4.3789 | Actual Loss: 1.8043\n",
      "Epoch 346/1000: Train Loss: 2.7295, Val Loss: 1.8043\n",
      "Baseline Loss: 5.4927 | Actual Loss: 2.7708\n"
     ]
    },
    {
     "name": "stderr",
     "output_type": "stream",
     "text": [
      "Training:  35%|███▍      | 346/1000 [16:41<31:33,  2.89s/it]"
     ]
    },
    {
     "name": "stdout",
     "output_type": "stream",
     "text": [
      "Baseline Loss: 4.3789 | Actual Loss: 2.0407\n",
      "Epoch 347/1000: Train Loss: 2.7708, Val Loss: 2.0407\n",
      "\n",
      "Early stopping at epoch 347\n"
     ]
    },
    {
     "name": "stderr",
     "output_type": "stream",
     "text": [
      "\n"
     ]
    },
    {
     "data": {
      "text/plain": [
       "1.757265329360962"
      ]
     },
     "execution_count": 15,
     "metadata": {},
     "output_type": "execute_result"
    }
   ],
   "source": [
    "devices = [\"cuda\" if torch.cuda.is_available() else \"cpu\"]\n",
    "model6 = GNNModelWithNewLoss(\n",
    "        num_node_features=data_list[0].x.shape[1],\n",
    "        num_edge_features=data_list[0].edge_attr.shape[1],\n",
    "        num_global_features=data_list[0].global_features.shape[1],\n",
    "        cov_num= 6,\n",
    "        hidden_dim=512,\n",
    "        dropout_rate=0.1,\n",
    "        property_index= 2,\n",
    "        save_path= 'premodels_new/6/2' \n",
    "    ).to(devices[0])\n",
    "\n",
    "model6.train_model(\n",
    "    data_list,\n",
    ")"
   ]
  },
  {
   "cell_type": "code",
   "execution_count": 16,
   "id": "b01e3575",
   "metadata": {},
   "outputs": [
    {
     "name": "stdout",
     "output_type": "stream",
     "text": [
      "Training will be saved to: premodels_new/9/0\n"
     ]
    },
    {
     "name": "stderr",
     "output_type": "stream",
     "text": [
      "Training:   0%|          | 0/1000 [00:02<?, ?it/s]\n"
     ]
    },
    {
     "ename": "OutOfMemoryError",
     "evalue": "CUDA out of memory. Tried to allocate 488.00 MiB. GPU 0 has a total capacity of 23.59 GiB of which 291.12 MiB is free. Including non-PyTorch memory, this process has 10.19 GiB memory in use. Process 89122 has 12.73 GiB memory in use. Of the allocated memory 9.21 GiB is allocated by PyTorch, and 691.47 MiB is reserved by PyTorch but unallocated. If reserved but unallocated memory is large try setting PYTORCH_CUDA_ALLOC_CONF=expandable_segments:True to avoid fragmentation.  See documentation for Memory Management  (https://pytorch.org/docs/stable/notes/cuda.html#environment-variables)",
     "output_type": "error",
     "traceback": [
      "\u001b[0;31m---------------------------------------------------------------------------\u001b[0m",
      "\u001b[0;31mOutOfMemoryError\u001b[0m                          Traceback (most recent call last)",
      "Cell \u001b[0;32mIn[16], line 13\u001b[0m\n\u001b[1;32m      1\u001b[0m devices \u001b[38;5;241m=\u001b[39m [\u001b[38;5;124m\"\u001b[39m\u001b[38;5;124mcuda\u001b[39m\u001b[38;5;124m\"\u001b[39m \u001b[38;5;28;01mif\u001b[39;00m torch\u001b[38;5;241m.\u001b[39mcuda\u001b[38;5;241m.\u001b[39mis_available() \u001b[38;5;28;01melse\u001b[39;00m \u001b[38;5;124m\"\u001b[39m\u001b[38;5;124mcpu\u001b[39m\u001b[38;5;124m\"\u001b[39m]\n\u001b[1;32m      2\u001b[0m model7 \u001b[38;5;241m=\u001b[39m GNNModelWithNewLoss(\n\u001b[1;32m      3\u001b[0m         num_node_features\u001b[38;5;241m=\u001b[39mdata_list[\u001b[38;5;241m0\u001b[39m]\u001b[38;5;241m.\u001b[39mx\u001b[38;5;241m.\u001b[39mshape[\u001b[38;5;241m1\u001b[39m],\n\u001b[1;32m      4\u001b[0m         num_edge_features\u001b[38;5;241m=\u001b[39mdata_list[\u001b[38;5;241m0\u001b[39m]\u001b[38;5;241m.\u001b[39medge_attr\u001b[38;5;241m.\u001b[39mshape[\u001b[38;5;241m1\u001b[39m],\n\u001b[0;32m   (...)\u001b[0m\n\u001b[1;32m     10\u001b[0m         save_path\u001b[38;5;241m=\u001b[39m \u001b[38;5;124m'\u001b[39m\u001b[38;5;124mpremodels_new/9/0\u001b[39m\u001b[38;5;124m'\u001b[39m \n\u001b[1;32m     11\u001b[0m     )\u001b[38;5;241m.\u001b[39mto(devices[\u001b[38;5;241m0\u001b[39m])\n\u001b[0;32m---> 13\u001b[0m \u001b[43mmodel7\u001b[49m\u001b[38;5;241;43m.\u001b[39;49m\u001b[43mtrain_model\u001b[49m\u001b[43m(\u001b[49m\n\u001b[1;32m     14\u001b[0m \u001b[43m    \u001b[49m\u001b[43mdata_list\u001b[49m\u001b[43m,\u001b[49m\n\u001b[1;32m     15\u001b[0m \u001b[43m)\u001b[49m\n",
      "File \u001b[0;32m~/Documents/GitHub/clean_multi_cl/model/CL_model_vas_info.py:242\u001b[0m, in \u001b[0;36mGNNModelWithNewLoss.train_model\u001b[0;34m(self, dataset, num_epochs, lr, weight_decay, patience, batch_size, best_val_loss_all)\u001b[0m\n\u001b[1;32m    239\u001b[0m batch \u001b[38;5;241m=\u001b[39m batch\u001b[38;5;241m.\u001b[39mto(\u001b[38;5;28mself\u001b[39m\u001b[38;5;241m.\u001b[39mdevice)\n\u001b[1;32m    240\u001b[0m optimizer\u001b[38;5;241m.\u001b[39mzero_grad()\n\u001b[0;32m--> 242\u001b[0m loss \u001b[38;5;241m=\u001b[39m \u001b[38;5;28;43mself\u001b[39;49m\u001b[38;5;241;43m.\u001b[39;49m\u001b[43mget_loss\u001b[49m\u001b[43m(\u001b[49m\u001b[43mbatch\u001b[49m\u001b[43m)\u001b[49m\n\u001b[1;32m    244\u001b[0m \u001b[38;5;66;03m# Backpropagation with gradient clipping\u001b[39;00m\n\u001b[1;32m    245\u001b[0m loss\u001b[38;5;241m.\u001b[39mbackward()\n",
      "File \u001b[0;32m~/Documents/GitHub/clean_multi_cl/model/CL_model_vas_info.py:191\u001b[0m, in \u001b[0;36mGNNModelWithNewLoss.get_loss\u001b[0;34m(self, batch, temperature, k, vsa_threshold)\u001b[0m\n\u001b[1;32m    188\u001b[0m     \u001b[38;5;28;01mreturn\u001b[39;00m torch\u001b[38;5;241m.\u001b[39mtensor(\u001b[38;5;241m0.0\u001b[39m, device\u001b[38;5;241m=\u001b[39m\u001b[38;5;28mself\u001b[39m\u001b[38;5;241m.\u001b[39mdevice)\n\u001b[1;32m    190\u001b[0m neg_i, neg_j \u001b[38;5;241m=\u001b[39m \u001b[38;5;28mzip\u001b[39m(\u001b[38;5;241m*\u001b[39mneg_pairs)\n\u001b[0;32m--> 191\u001b[0m neg_dist \u001b[38;5;241m=\u001b[39m \u001b[38;5;241m1\u001b[39m \u001b[38;5;241m-\u001b[39m \u001b[43mF\u001b[49m\u001b[38;5;241;43m.\u001b[39;49m\u001b[43mcosine_similarity\u001b[49m\u001b[43m(\u001b[49m\u001b[43membeddings\u001b[49m\u001b[43m[\u001b[49m\u001b[38;5;28;43mlist\u001b[39;49m\u001b[43m(\u001b[49m\u001b[43mneg_i\u001b[49m\u001b[43m)\u001b[49m\u001b[43m]\u001b[49m\u001b[43m,\u001b[49m\u001b[43m \u001b[49m\u001b[43membeddings\u001b[49m\u001b[43m[\u001b[49m\u001b[38;5;28;43mlist\u001b[39;49m\u001b[43m(\u001b[49m\u001b[43mneg_j\u001b[49m\u001b[43m)\u001b[49m\u001b[43m]\u001b[49m\u001b[43m)\u001b[49m\n\u001b[1;32m    192\u001b[0m neg_exp \u001b[38;5;241m=\u001b[39m torch\u001b[38;5;241m.\u001b[39mexp(\u001b[38;5;241m-\u001b[39mneg_dist \u001b[38;5;241m/\u001b[39m temperature)  \u001b[38;5;66;03m# Farther → larger dist → smaller exp\u001b[39;00m\n\u001b[1;32m    194\u001b[0m \u001b[38;5;66;03m# InfoNCE loss: encourage small dist for positives, large dist for negatives\u001b[39;00m\n",
      "\u001b[0;31mOutOfMemoryError\u001b[0m: CUDA out of memory. Tried to allocate 488.00 MiB. GPU 0 has a total capacity of 23.59 GiB of which 291.12 MiB is free. Including non-PyTorch memory, this process has 10.19 GiB memory in use. Process 89122 has 12.73 GiB memory in use. Of the allocated memory 9.21 GiB is allocated by PyTorch, and 691.47 MiB is reserved by PyTorch but unallocated. If reserved but unallocated memory is large try setting PYTORCH_CUDA_ALLOC_CONF=expandable_segments:True to avoid fragmentation.  See documentation for Memory Management  (https://pytorch.org/docs/stable/notes/cuda.html#environment-variables)"
     ]
    }
   ],
   "source": [
    "devices = [\"cuda\" if torch.cuda.is_available() else \"cpu\"]\n",
    "model7 = GNNModelWithNewLoss(\n",
    "        num_node_features=data_list[0].x.shape[1],\n",
    "        num_edge_features=data_list[0].edge_attr.shape[1],\n",
    "        num_global_features=data_list[0].global_features.shape[1],\n",
    "        cov_num= 9,\n",
    "        hidden_dim=512,\n",
    "        dropout_rate=0.1,\n",
    "        property_index= 0,\n",
    "        save_path= 'premodels_new/9/0' \n",
    "    ).to(devices[0])\n",
    "\n",
    "model7.train_model(\n",
    "    data_list,\n",
    ")"
   ]
  },
  {
   "cell_type": "code",
   "execution_count": null,
   "id": "cc31e0f0",
   "metadata": {},
   "outputs": [],
   "source": [
    "devices = [\"cuda\" if torch.cuda.is_available() else \"cpu\"]\n",
    "model8 = GNNModelWithNewLoss(\n",
    "        num_node_features=data_list[0].x.shape[1],\n",
    "        num_edge_features=data_list[0].edge_attr.shape[1],\n",
    "        num_global_features=data_list[0].global_features.shape[1],\n",
    "        cov_num= 9,\n",
    "        hidden_dim=512,\n",
    "        dropout_rate=0.1,\n",
    "        property_index= 1,\n",
    "        save_path= 'premodels_new/9/1' \n",
    "    ).to(devices[0])\n",
    "\n",
    "model8.train_model(\n",
    "    data_list,\n",
    ")"
   ]
  },
  {
   "cell_type": "code",
   "execution_count": null,
   "id": "364f6bc4",
   "metadata": {},
   "outputs": [],
   "source": [
    "devices = [\"cuda\" if torch.cuda.is_available() else \"cpu\"]\n",
    "model9 = GNNModelWithNewLoss(\n",
    "        num_node_features=data_list[0].x.shape[1],\n",
    "        num_edge_features=data_list[0].edge_attr.shape[1],\n",
    "        num_global_features=data_list[0].global_features.shape[1],\n",
    "        cov_num= 9,\n",
    "        hidden_dim=512,\n",
    "        dropout_rate=0.1,\n",
    "        property_index= 2,\n",
    "        save_path= 'premodels_new/9/9' \n",
    "    ).to(devices[0])\n",
    "\n",
    "model9.train_model(\n",
    "    data_list,\n",
    ")"
   ]
  }
 ],
 "metadata": {
  "kernelspec": {
   "display_name": "torch",
   "language": "python",
   "name": "python3"
  },
  "language_info": {
   "codemirror_mode": {
    "name": "ipython",
    "version": 3
   },
   "file_extension": ".py",
   "mimetype": "text/x-python",
   "name": "python",
   "nbconvert_exporter": "python",
   "pygments_lexer": "ipython3",
   "version": "3.11.9"
  }
 },
 "nbformat": 4,
 "nbformat_minor": 5
}
