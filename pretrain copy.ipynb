{
 "cells": [
  {
   "cell_type": "code",
   "execution_count": 1,
   "id": "abe15dd9",
   "metadata": {},
   "outputs": [],
   "source": [
    "from model.getdata import smiles2graph\n",
    "from model.CL_model_vas_info import GNNModelWithNewLoss\n",
    "import pandas as pd"
   ]
  },
  {
   "cell_type": "code",
   "execution_count": 2,
   "id": "1fea3686",
   "metadata": {},
   "outputs": [],
   "source": [
    "df = pd.read_csv(\"./data/vsa.csv\")  \n",
    "smiles_list = df[\"SMILES\"].tolist()\n",
    "smr_vsa_list = [list(map(float, row.split())) for row in df[\"SMR_VSA\"]]"
   ]
  },
  {
   "cell_type": "code",
   "execution_count": 3,
   "id": "652499ec",
   "metadata": {},
   "outputs": [],
   "source": [
    "def read_vsa_data(vsa_file):\n",
    "    df = pd.read_csv(vsa_file)\n",
    "\n",
    "    def parse_vsa(s):\n",
    "        try:\n",
    "            return list(map(float, s.strip('[]').split()))\n",
    "        except:\n",
    "            return []\n",
    "\n",
    "    smr_arrays = df[\"SMR_VSA\"].apply(parse_vsa).tolist()          \n",
    "    slogp_arrays = df[\"SlogP_VSA\"].apply(parse_vsa).tolist()     \n",
    "    peoe_arrays = df[\"PEOE_VSA\"].apply(parse_vsa).tolist()       \n",
    "\n",
    "    properties = list(zip(smr_arrays, slogp_arrays, peoe_arrays))\n",
    "    \n",
    "    return df[\"SMILES\"].tolist(), properties\n",
    "\n",
    "x_smiles, properties = read_vsa_data(\"./data/vsa.csv\")\n"
   ]
  },
  {
   "cell_type": "code",
   "execution_count": 4,
   "id": "2ead4c13",
   "metadata": {},
   "outputs": [],
   "source": [
    "data_list = smiles2graph(\n",
    "    x_smiles,\n",
    "    properties=properties,\n",
    ")"
   ]
  },
  {
   "cell_type": "code",
   "execution_count": 5,
   "id": "d56a71e1",
   "metadata": {},
   "outputs": [
    {
     "data": {
      "text/plain": [
       "Data(x=[21, 133], edge_index=[2, 44], edge_attr=[44, 14], global_features=[1, 8], smiles='Cc1cccc(C2=CCN(C(=O)NCCCC#N)CC2)c1', property_0=[1, 10], property_1=[1, 10], property_2=[1, 14])"
      ]
     },
     "execution_count": 5,
     "metadata": {},
     "output_type": "execute_result"
    }
   ],
   "source": [
    "data_list[0]"
   ]
  },
  {
   "cell_type": "code",
   "execution_count": 6,
   "id": "ffbfd7a5",
   "metadata": {},
   "outputs": [
    {
     "name": "stdout",
     "output_type": "stream",
     "text": [
      "133 14 8\n"
     ]
    }
   ],
   "source": [
    "print(data_list[0].x.shape[1],\n",
    "    data_list[0].edge_attr.shape[1],\n",
    "    data_list[0].global_features.shape[1])"
   ]
  },
  {
   "cell_type": "code",
   "execution_count": 7,
   "id": "fe8f7538",
   "metadata": {},
   "outputs": [],
   "source": [
    "import torch\n",
    "from torch_geometric.data import DataLoader\n",
    "devices = [\"cuda\" if torch.cuda.is_available() else \"cpu\"]\n",
    "model1 = GNNModelWithNewLoss(\n",
    "        num_node_features=data_list[0].x.shape[1],\n",
    "        num_edge_features=data_list[0].edge_attr.shape[1],\n",
    "        num_global_features=0,\n",
    "        hidden_dim=512,\n",
    "        dropout_rate=0.1,\n",
    "        property_index=0 ,\n",
    "        save_path= 'premodels_new_og/0' \n",
    "    ).to(devices[0])"
   ]
  },
  {
   "cell_type": "code",
   "execution_count": 8,
   "id": "9b1f8b49",
   "metadata": {},
   "outputs": [
    {
     "name": "stderr",
     "output_type": "stream",
     "text": [
      "c:\\Users\\chenxinyi\\.conda\\envs\\torch\\lib\\site-packages\\torch_geometric\\deprecation.py:26: UserWarning: 'data.DataLoader' is deprecated, use 'loader.DataLoader' instead\n",
      "  warnings.warn(out)\n"
     ]
    },
    {
     "name": "stdout",
     "output_type": "stream",
     "text": [
      "Training will be saved to: premodels_new_og/0\n"
     ]
    },
    {
     "name": "stderr",
     "output_type": "stream",
     "text": [
      "Training:   0%|          | 0/300 [00:00<?, ?it/s]"
     ]
    },
    {
     "name": "stdout",
     "output_type": "stream",
     "text": [
      "Baseline Loss: 5.3161 | Actual Loss: 5.2539\n"
     ]
    },
    {
     "name": "stderr",
     "output_type": "stream",
     "text": [
      "Training:   0%|          | 1/300 [00:11<57:16, 11.49s/it]"
     ]
    },
    {
     "name": "stdout",
     "output_type": "stream",
     "text": [
      "Baseline Loss: 3.9611 | Actual Loss: 3.8876\n",
      "Epoch 1/300: Train Loss: 5.2539, Val Loss: 3.8876\n",
      "New best validation loss: 3.8876\n",
      "Baseline Loss: 5.3161 | Actual Loss: 5.2310\n"
     ]
    },
    {
     "name": "stderr",
     "output_type": "stream",
     "text": [
      "Training:   1%|          | 2/300 [00:22<56:01, 11.28s/it]"
     ]
    },
    {
     "name": "stdout",
     "output_type": "stream",
     "text": [
      "Baseline Loss: 3.9611 | Actual Loss: 3.8530\n",
      "Epoch 2/300: Train Loss: 5.2310, Val Loss: 3.8530\n",
      "New best validation loss: 3.8530\n",
      "Baseline Loss: 5.3161 | Actual Loss: 5.1817\n"
     ]
    },
    {
     "name": "stderr",
     "output_type": "stream",
     "text": [
      "Training:   1%|          | 3/300 [00:33<54:14, 10.96s/it]"
     ]
    },
    {
     "name": "stdout",
     "output_type": "stream",
     "text": [
      "Baseline Loss: 3.9611 | Actual Loss: 3.8011\n",
      "Epoch 3/300: Train Loss: 5.1817, Val Loss: 3.8011\n",
      "New best validation loss: 3.8011\n",
      "Baseline Loss: 5.3161 | Actual Loss: 5.1312\n"
     ]
    },
    {
     "name": "stderr",
     "output_type": "stream",
     "text": [
      "Training:   1%|▏         | 4/300 [00:44<54:35, 11.06s/it]"
     ]
    },
    {
     "name": "stdout",
     "output_type": "stream",
     "text": [
      "Baseline Loss: 3.9611 | Actual Loss: 3.7377\n",
      "Epoch 4/300: Train Loss: 5.1312, Val Loss: 3.7377\n",
      "New best validation loss: 3.7377\n",
      "Baseline Loss: 5.3161 | Actual Loss: 5.0755\n"
     ]
    },
    {
     "name": "stderr",
     "output_type": "stream",
     "text": [
      "Training:   2%|▏         | 5/300 [01:00<1:03:33, 12.93s/it]"
     ]
    },
    {
     "name": "stdout",
     "output_type": "stream",
     "text": [
      "Baseline Loss: 3.9611 | Actual Loss: 3.6955\n",
      "Epoch 5/300: Train Loss: 5.0755, Val Loss: 3.6955\n",
      "New best validation loss: 3.6955\n",
      "Baseline Loss: 5.3161 | Actual Loss: 5.0146\n"
     ]
    },
    {
     "name": "stderr",
     "output_type": "stream",
     "text": [
      "Training:   2%|▏         | 6/300 [01:12<1:00:55, 12.43s/it]"
     ]
    },
    {
     "name": "stdout",
     "output_type": "stream",
     "text": [
      "Baseline Loss: 3.9611 | Actual Loss: 3.5739\n",
      "Epoch 6/300: Train Loss: 5.0146, Val Loss: 3.5739\n",
      "New best validation loss: 3.5739\n",
      "Baseline Loss: 5.3161 | Actual Loss: 4.9258\n"
     ]
    },
    {
     "name": "stderr",
     "output_type": "stream",
     "text": [
      "Training:   2%|▏         | 7/300 [01:22<58:07, 11.90s/it]  "
     ]
    },
    {
     "name": "stdout",
     "output_type": "stream",
     "text": [
      "Baseline Loss: 3.9611 | Actual Loss: 3.4894\n",
      "Epoch 7/300: Train Loss: 4.9258, Val Loss: 3.4894\n",
      "New best validation loss: 3.4894\n",
      "Baseline Loss: 5.3161 | Actual Loss: 4.8471\n"
     ]
    },
    {
     "name": "stderr",
     "output_type": "stream",
     "text": [
      "Training:   3%|▎         | 8/300 [01:33<56:32, 11.62s/it]"
     ]
    },
    {
     "name": "stdout",
     "output_type": "stream",
     "text": [
      "Baseline Loss: 3.9611 | Actual Loss: 3.3951\n",
      "Epoch 8/300: Train Loss: 4.8471, Val Loss: 3.3951\n",
      "New best validation loss: 3.3951\n",
      "Baseline Loss: 5.3161 | Actual Loss: 4.7405\n"
     ]
    },
    {
     "name": "stderr",
     "output_type": "stream",
     "text": [
      "Training:   3%|▎         | 9/300 [01:45<56:00, 11.55s/it]"
     ]
    },
    {
     "name": "stdout",
     "output_type": "stream",
     "text": [
      "Baseline Loss: 3.9611 | Actual Loss: 3.3141\n",
      "Epoch 9/300: Train Loss: 4.7405, Val Loss: 3.3141\n",
      "New best validation loss: 3.3141\n",
      "Baseline Loss: 5.3161 | Actual Loss: 4.6182\n"
     ]
    },
    {
     "name": "stderr",
     "output_type": "stream",
     "text": [
      "Training:   3%|▎         | 10/300 [01:56<54:55, 11.36s/it]"
     ]
    },
    {
     "name": "stdout",
     "output_type": "stream",
     "text": [
      "Baseline Loss: 3.9611 | Actual Loss: 3.1857\n",
      "Epoch 10/300: Train Loss: 4.6182, Val Loss: 3.1857\n",
      "New best validation loss: 3.1857\n",
      "Baseline Loss: 5.3161 | Actual Loss: 4.5069\n"
     ]
    },
    {
     "name": "stderr",
     "output_type": "stream",
     "text": [
      "Training:   4%|▎         | 11/300 [02:08<55:35, 11.54s/it]"
     ]
    },
    {
     "name": "stdout",
     "output_type": "stream",
     "text": [
      "Baseline Loss: 3.9611 | Actual Loss: 3.0889\n",
      "Epoch 11/300: Train Loss: 4.5069, Val Loss: 3.0889\n",
      "New best validation loss: 3.0889\n",
      "Baseline Loss: 5.3161 | Actual Loss: 4.3920\n"
     ]
    },
    {
     "name": "stderr",
     "output_type": "stream",
     "text": [
      "Training:   4%|▍         | 12/300 [02:18<54:00, 11.25s/it]"
     ]
    },
    {
     "name": "stdout",
     "output_type": "stream",
     "text": [
      "Baseline Loss: 3.9611 | Actual Loss: 2.9315\n",
      "Epoch 12/300: Train Loss: 4.3920, Val Loss: 2.9315\n",
      "New best validation loss: 2.9315\n",
      "Baseline Loss: 5.3161 | Actual Loss: 4.2747\n"
     ]
    },
    {
     "name": "stderr",
     "output_type": "stream",
     "text": [
      "Training:   4%|▍         | 13/300 [02:30<53:51, 11.26s/it]"
     ]
    },
    {
     "name": "stdout",
     "output_type": "stream",
     "text": [
      "Baseline Loss: 3.9611 | Actual Loss: 2.8611\n",
      "Epoch 13/300: Train Loss: 4.2747, Val Loss: 2.8611\n",
      "New best validation loss: 2.8611\n",
      "Baseline Loss: 5.3161 | Actual Loss: 4.1326\n"
     ]
    },
    {
     "name": "stderr",
     "output_type": "stream",
     "text": [
      "Training:   5%|▍         | 14/300 [02:40<53:03, 11.13s/it]"
     ]
    },
    {
     "name": "stdout",
     "output_type": "stream",
     "text": [
      "Baseline Loss: 3.9611 | Actual Loss: 2.7510\n",
      "Epoch 14/300: Train Loss: 4.1326, Val Loss: 2.7510\n",
      "New best validation loss: 2.7510\n",
      "Baseline Loss: 5.3161 | Actual Loss: 4.0634\n"
     ]
    },
    {
     "name": "stderr",
     "output_type": "stream",
     "text": [
      "Training:   5%|▌         | 15/300 [02:51<52:33, 11.07s/it]"
     ]
    },
    {
     "name": "stdout",
     "output_type": "stream",
     "text": [
      "Baseline Loss: 3.9611 | Actual Loss: 2.6716\n",
      "Epoch 15/300: Train Loss: 4.0634, Val Loss: 2.6716\n",
      "New best validation loss: 2.6716\n",
      "Baseline Loss: 5.3161 | Actual Loss: 3.9617\n"
     ]
    },
    {
     "name": "stderr",
     "output_type": "stream",
     "text": [
      "Training:   5%|▌         | 16/300 [03:03<53:00, 11.20s/it]"
     ]
    },
    {
     "name": "stdout",
     "output_type": "stream",
     "text": [
      "Baseline Loss: 3.9611 | Actual Loss: 2.6257\n",
      "Epoch 16/300: Train Loss: 3.9617, Val Loss: 2.6257\n",
      "New best validation loss: 2.6257\n",
      "Baseline Loss: 5.3161 | Actual Loss: 3.9276\n"
     ]
    },
    {
     "name": "stderr",
     "output_type": "stream",
     "text": [
      "Training:   6%|▌         | 17/300 [03:14<53:07, 11.26s/it]"
     ]
    },
    {
     "name": "stdout",
     "output_type": "stream",
     "text": [
      "Baseline Loss: 3.9611 | Actual Loss: 2.6371\n",
      "Epoch 17/300: Train Loss: 3.9276, Val Loss: 2.6371\n",
      "Baseline Loss: 5.3161 | Actual Loss: 3.8782\n"
     ]
    },
    {
     "name": "stderr",
     "output_type": "stream",
     "text": [
      "Training:   6%|▌         | 18/300 [03:25<52:32, 11.18s/it]"
     ]
    },
    {
     "name": "stdout",
     "output_type": "stream",
     "text": [
      "Baseline Loss: 3.9611 | Actual Loss: 2.5217\n",
      "Epoch 18/300: Train Loss: 3.8782, Val Loss: 2.5217\n",
      "New best validation loss: 2.5217\n",
      "Baseline Loss: 5.3161 | Actual Loss: 3.8762\n"
     ]
    },
    {
     "name": "stderr",
     "output_type": "stream",
     "text": [
      "Training:   6%|▋         | 19/300 [03:37<52:56, 11.31s/it]"
     ]
    },
    {
     "name": "stdout",
     "output_type": "stream",
     "text": [
      "Baseline Loss: 3.9611 | Actual Loss: 2.5450\n",
      "Epoch 19/300: Train Loss: 3.8762, Val Loss: 2.5450\n",
      "Baseline Loss: 5.3162 | Actual Loss: 3.8131\n"
     ]
    },
    {
     "name": "stderr",
     "output_type": "stream",
     "text": [
      "Training:   7%|▋         | 20/300 [03:48<52:18, 11.21s/it]"
     ]
    },
    {
     "name": "stdout",
     "output_type": "stream",
     "text": [
      "Baseline Loss: 3.9611 | Actual Loss: 2.4820\n",
      "Epoch 20/300: Train Loss: 3.8131, Val Loss: 2.4820\n",
      "New best validation loss: 2.4820\n",
      "Baseline Loss: 5.3161 | Actual Loss: 3.8073\n"
     ]
    },
    {
     "name": "stderr",
     "output_type": "stream",
     "text": [
      "Training:   7%|▋         | 21/300 [03:58<51:09, 11.00s/it]"
     ]
    },
    {
     "name": "stdout",
     "output_type": "stream",
     "text": [
      "Baseline Loss: 3.9611 | Actual Loss: 2.4875\n",
      "Epoch 21/300: Train Loss: 3.8073, Val Loss: 2.4875\n",
      "Baseline Loss: 5.3161 | Actual Loss: 3.7555\n"
     ]
    },
    {
     "name": "stderr",
     "output_type": "stream",
     "text": [
      "Training:   7%|▋         | 22/300 [04:09<51:04, 11.02s/it]"
     ]
    },
    {
     "name": "stdout",
     "output_type": "stream",
     "text": [
      "Baseline Loss: 3.9611 | Actual Loss: 2.4757\n",
      "Epoch 22/300: Train Loss: 3.7555, Val Loss: 2.4757\n",
      "New best validation loss: 2.4757\n",
      "Baseline Loss: 5.3161 | Actual Loss: 3.7699\n"
     ]
    },
    {
     "name": "stderr",
     "output_type": "stream",
     "text": [
      "Training:   8%|▊         | 23/300 [04:21<51:23, 11.13s/it]"
     ]
    },
    {
     "name": "stdout",
     "output_type": "stream",
     "text": [
      "Baseline Loss: 3.9611 | Actual Loss: 2.3782\n",
      "Epoch 23/300: Train Loss: 3.7699, Val Loss: 2.3782\n",
      "New best validation loss: 2.3782\n",
      "Baseline Loss: 5.3161 | Actual Loss: 3.7216\n"
     ]
    },
    {
     "name": "stderr",
     "output_type": "stream",
     "text": [
      "Training:   8%|▊         | 24/300 [04:31<50:31, 10.99s/it]"
     ]
    },
    {
     "name": "stdout",
     "output_type": "stream",
     "text": [
      "Baseline Loss: 3.9611 | Actual Loss: 2.4791\n",
      "Epoch 24/300: Train Loss: 3.7216, Val Loss: 2.4791\n",
      "Baseline Loss: 5.3161 | Actual Loss: 3.6977\n"
     ]
    },
    {
     "name": "stderr",
     "output_type": "stream",
     "text": [
      "Training:   8%|▊         | 25/300 [04:43<50:47, 11.08s/it]"
     ]
    },
    {
     "name": "stdout",
     "output_type": "stream",
     "text": [
      "Baseline Loss: 3.9611 | Actual Loss: 2.4647\n",
      "Epoch 25/300: Train Loss: 3.6977, Val Loss: 2.4647\n",
      "Baseline Loss: 5.3161 | Actual Loss: 3.6621\n"
     ]
    },
    {
     "name": "stderr",
     "output_type": "stream",
     "text": [
      "Training:   9%|▊         | 26/300 [04:55<51:30, 11.28s/it]"
     ]
    },
    {
     "name": "stdout",
     "output_type": "stream",
     "text": [
      "Baseline Loss: 3.9611 | Actual Loss: 2.4093\n",
      "Epoch 26/300: Train Loss: 3.6621, Val Loss: 2.4093\n",
      "Baseline Loss: 5.3161 | Actual Loss: 3.6247\n"
     ]
    },
    {
     "name": "stderr",
     "output_type": "stream",
     "text": [
      "Training:   9%|▉         | 27/300 [05:06<51:04, 11.23s/it]"
     ]
    },
    {
     "name": "stdout",
     "output_type": "stream",
     "text": [
      "Baseline Loss: 3.9611 | Actual Loss: 2.4573\n",
      "Epoch 27/300: Train Loss: 3.6247, Val Loss: 2.4573\n",
      "Baseline Loss: 5.3161 | Actual Loss: 3.5962\n"
     ]
    },
    {
     "name": "stderr",
     "output_type": "stream",
     "text": [
      "Training:   9%|▉         | 28/300 [05:16<50:17, 11.09s/it]"
     ]
    },
    {
     "name": "stdout",
     "output_type": "stream",
     "text": [
      "Baseline Loss: 3.9611 | Actual Loss: 2.3647\n",
      "Epoch 28/300: Train Loss: 3.5962, Val Loss: 2.3647\n",
      "New best validation loss: 2.3647\n",
      "Baseline Loss: 5.3161 | Actual Loss: 3.5428\n"
     ]
    },
    {
     "name": "stderr",
     "output_type": "stream",
     "text": [
      "Training:  10%|▉         | 29/300 [05:27<49:49, 11.03s/it]"
     ]
    },
    {
     "name": "stdout",
     "output_type": "stream",
     "text": [
      "Baseline Loss: 3.9611 | Actual Loss: 2.2405\n",
      "Epoch 29/300: Train Loss: 3.5428, Val Loss: 2.2405\n",
      "New best validation loss: 2.2405\n",
      "Baseline Loss: 5.3161 | Actual Loss: 3.5647\n"
     ]
    },
    {
     "name": "stderr",
     "output_type": "stream",
     "text": [
      "Training:  10%|█         | 30/300 [05:44<56:45, 12.61s/it]"
     ]
    },
    {
     "name": "stdout",
     "output_type": "stream",
     "text": [
      "Baseline Loss: 3.9611 | Actual Loss: 2.2682\n",
      "Epoch 30/300: Train Loss: 3.5647, Val Loss: 2.2682\n",
      "Baseline Loss: 5.3161 | Actual Loss: 3.5358\n"
     ]
    },
    {
     "name": "stderr",
     "output_type": "stream",
     "text": [
      "Training:  10%|█         | 31/300 [05:56<55:48, 12.45s/it]"
     ]
    },
    {
     "name": "stdout",
     "output_type": "stream",
     "text": [
      "Baseline Loss: 3.9611 | Actual Loss: 2.1984\n",
      "Epoch 31/300: Train Loss: 3.5358, Val Loss: 2.1984\n",
      "New best validation loss: 2.1984\n",
      "Baseline Loss: 5.3161 | Actual Loss: 3.4335\n"
     ]
    },
    {
     "name": "stderr",
     "output_type": "stream",
     "text": [
      "Training:  11%|█         | 32/300 [06:08<54:48, 12.27s/it]"
     ]
    },
    {
     "name": "stdout",
     "output_type": "stream",
     "text": [
      "Baseline Loss: 3.9611 | Actual Loss: 2.2975\n",
      "Epoch 32/300: Train Loss: 3.4335, Val Loss: 2.2975\n",
      "Baseline Loss: 5.3161 | Actual Loss: 3.4344\n"
     ]
    },
    {
     "name": "stderr",
     "output_type": "stream",
     "text": [
      "Training:  11%|█         | 33/300 [06:17<51:20, 11.54s/it]"
     ]
    },
    {
     "name": "stdout",
     "output_type": "stream",
     "text": [
      "Baseline Loss: 3.9611 | Actual Loss: 2.1627\n",
      "Epoch 33/300: Train Loss: 3.4344, Val Loss: 2.1627\n",
      "New best validation loss: 2.1627\n",
      "Baseline Loss: 5.3161 | Actual Loss: 3.4084\n"
     ]
    },
    {
     "name": "stderr",
     "output_type": "stream",
     "text": [
      "Training:  11%|█▏        | 34/300 [06:28<49:30, 11.17s/it]"
     ]
    },
    {
     "name": "stdout",
     "output_type": "stream",
     "text": [
      "Baseline Loss: 3.9611 | Actual Loss: 2.1273\n",
      "Epoch 34/300: Train Loss: 3.4084, Val Loss: 2.1273\n",
      "New best validation loss: 2.1273\n",
      "Baseline Loss: 5.3161 | Actual Loss: 3.4074\n"
     ]
    },
    {
     "name": "stderr",
     "output_type": "stream",
     "text": [
      "Training:  12%|█▏        | 35/300 [06:38<48:29, 10.98s/it]"
     ]
    },
    {
     "name": "stdout",
     "output_type": "stream",
     "text": [
      "Baseline Loss: 3.9611 | Actual Loss: 2.2637\n",
      "Epoch 35/300: Train Loss: 3.4074, Val Loss: 2.2637\n",
      "Baseline Loss: 5.3161 | Actual Loss: 3.3627\n"
     ]
    },
    {
     "name": "stderr",
     "output_type": "stream",
     "text": [
      "Training:  12%|█▏        | 36/300 [06:49<47:38, 10.83s/it]"
     ]
    },
    {
     "name": "stdout",
     "output_type": "stream",
     "text": [
      "Baseline Loss: 3.9611 | Actual Loss: 2.1235\n",
      "Epoch 36/300: Train Loss: 3.3627, Val Loss: 2.1235\n",
      "New best validation loss: 2.1235\n",
      "Baseline Loss: 5.3161 | Actual Loss: 3.3256\n"
     ]
    },
    {
     "name": "stderr",
     "output_type": "stream",
     "text": [
      "Training:  12%|█▏        | 37/300 [07:00<47:29, 10.84s/it]"
     ]
    },
    {
     "name": "stdout",
     "output_type": "stream",
     "text": [
      "Baseline Loss: 3.9611 | Actual Loss: 2.1030\n",
      "Epoch 37/300: Train Loss: 3.3256, Val Loss: 2.1030\n",
      "New best validation loss: 2.1030\n",
      "Baseline Loss: 5.3161 | Actual Loss: 3.3152\n"
     ]
    },
    {
     "name": "stderr",
     "output_type": "stream",
     "text": [
      "Training:  13%|█▎        | 38/300 [07:10<47:28, 10.87s/it]"
     ]
    },
    {
     "name": "stdout",
     "output_type": "stream",
     "text": [
      "Baseline Loss: 3.9611 | Actual Loss: 1.9928\n",
      "Epoch 38/300: Train Loss: 3.3152, Val Loss: 1.9928\n",
      "New best validation loss: 1.9928\n",
      "Baseline Loss: 5.3161 | Actual Loss: 3.2822\n"
     ]
    },
    {
     "name": "stderr",
     "output_type": "stream",
     "text": [
      "Training:  13%|█▎        | 39/300 [07:22<47:39, 10.95s/it]"
     ]
    },
    {
     "name": "stdout",
     "output_type": "stream",
     "text": [
      "Baseline Loss: 3.9611 | Actual Loss: 2.1315\n",
      "Epoch 39/300: Train Loss: 3.2822, Val Loss: 2.1315\n",
      "Baseline Loss: 5.3161 | Actual Loss: 3.2617\n"
     ]
    },
    {
     "name": "stderr",
     "output_type": "stream",
     "text": [
      "Training:  13%|█▎        | 40/300 [07:32<47:16, 10.91s/it]"
     ]
    },
    {
     "name": "stdout",
     "output_type": "stream",
     "text": [
      "Baseline Loss: 3.9611 | Actual Loss: 2.0766\n",
      "Epoch 40/300: Train Loss: 3.2617, Val Loss: 2.0766\n",
      "Baseline Loss: 5.3161 | Actual Loss: 3.2786\n"
     ]
    },
    {
     "name": "stderr",
     "output_type": "stream",
     "text": [
      "Training:  14%|█▎        | 41/300 [07:43<46:55, 10.87s/it]"
     ]
    },
    {
     "name": "stdout",
     "output_type": "stream",
     "text": [
      "Baseline Loss: 3.9611 | Actual Loss: 1.9601\n",
      "Epoch 41/300: Train Loss: 3.2786, Val Loss: 1.9601\n",
      "New best validation loss: 1.9601\n",
      "Baseline Loss: 5.3161 | Actual Loss: 3.2324\n"
     ]
    },
    {
     "name": "stderr",
     "output_type": "stream",
     "text": [
      "Training:  14%|█▍        | 42/300 [07:54<46:50, 10.89s/it]"
     ]
    },
    {
     "name": "stdout",
     "output_type": "stream",
     "text": [
      "Baseline Loss: 3.9611 | Actual Loss: 2.0050\n",
      "Epoch 42/300: Train Loss: 3.2324, Val Loss: 2.0050\n",
      "Baseline Loss: 5.3161 | Actual Loss: 3.2023\n"
     ]
    },
    {
     "name": "stderr",
     "output_type": "stream",
     "text": [
      "Training:  14%|█▍        | 43/300 [08:05<46:49, 10.93s/it]"
     ]
    },
    {
     "name": "stdout",
     "output_type": "stream",
     "text": [
      "Baseline Loss: 3.9611 | Actual Loss: 2.0409\n",
      "Epoch 43/300: Train Loss: 3.2023, Val Loss: 2.0409\n",
      "Baseline Loss: 5.3161 | Actual Loss: 3.1573\n"
     ]
    },
    {
     "name": "stderr",
     "output_type": "stream",
     "text": [
      "Training:  15%|█▍        | 44/300 [08:16<46:23, 10.87s/it]"
     ]
    },
    {
     "name": "stdout",
     "output_type": "stream",
     "text": [
      "Baseline Loss: 3.9611 | Actual Loss: 1.9562\n",
      "Epoch 44/300: Train Loss: 3.1573, Val Loss: 1.9562\n",
      "New best validation loss: 1.9562\n",
      "Baseline Loss: 5.3161 | Actual Loss: 3.1447\n"
     ]
    },
    {
     "name": "stderr",
     "output_type": "stream",
     "text": [
      "Training:  15%|█▌        | 45/300 [08:31<52:13, 12.29s/it]"
     ]
    },
    {
     "name": "stdout",
     "output_type": "stream",
     "text": [
      "Baseline Loss: 3.9611 | Actual Loss: 1.9808\n",
      "Epoch 45/300: Train Loss: 3.1447, Val Loss: 1.9808\n",
      "Baseline Loss: 5.3161 | Actual Loss: 3.0829\n"
     ]
    },
    {
     "name": "stderr",
     "output_type": "stream",
     "text": [
      "Training:  15%|█▌        | 46/300 [08:43<50:54, 12.03s/it]"
     ]
    },
    {
     "name": "stdout",
     "output_type": "stream",
     "text": [
      "Baseline Loss: 3.9611 | Actual Loss: 1.9924\n",
      "Epoch 46/300: Train Loss: 3.0829, Val Loss: 1.9924\n",
      "Baseline Loss: 5.3161 | Actual Loss: 3.0780\n"
     ]
    },
    {
     "name": "stderr",
     "output_type": "stream",
     "text": [
      "Training:  16%|█▌        | 47/300 [08:54<49:48, 11.81s/it]"
     ]
    },
    {
     "name": "stdout",
     "output_type": "stream",
     "text": [
      "Baseline Loss: 3.9611 | Actual Loss: 1.9230\n",
      "Epoch 47/300: Train Loss: 3.0780, Val Loss: 1.9230\n",
      "New best validation loss: 1.9230\n",
      "Baseline Loss: 5.3161 | Actual Loss: 3.0425\n"
     ]
    },
    {
     "name": "stderr",
     "output_type": "stream",
     "text": [
      "Training:  16%|█▌        | 48/300 [09:05<47:53, 11.40s/it]"
     ]
    },
    {
     "name": "stdout",
     "output_type": "stream",
     "text": [
      "Baseline Loss: 3.9611 | Actual Loss: 1.9803\n",
      "Epoch 48/300: Train Loss: 3.0425, Val Loss: 1.9803\n",
      "Baseline Loss: 5.3161 | Actual Loss: 3.0321\n"
     ]
    },
    {
     "name": "stderr",
     "output_type": "stream",
     "text": [
      "Training:  16%|█▋        | 49/300 [09:16<47:31, 11.36s/it]"
     ]
    },
    {
     "name": "stdout",
     "output_type": "stream",
     "text": [
      "Baseline Loss: 3.9611 | Actual Loss: 1.8481\n",
      "Epoch 49/300: Train Loss: 3.0321, Val Loss: 1.8481\n",
      "New best validation loss: 1.8481\n",
      "Baseline Loss: 5.3161 | Actual Loss: 3.0161\n"
     ]
    },
    {
     "name": "stderr",
     "output_type": "stream",
     "text": [
      "Training:  17%|█▋        | 50/300 [09:27<46:58, 11.27s/it]"
     ]
    },
    {
     "name": "stdout",
     "output_type": "stream",
     "text": [
      "Baseline Loss: 3.9611 | Actual Loss: 1.9417\n",
      "Epoch 50/300: Train Loss: 3.0161, Val Loss: 1.9417\n",
      "Baseline Loss: 5.3161 | Actual Loss: 2.9755\n"
     ]
    },
    {
     "name": "stderr",
     "output_type": "stream",
     "text": [
      "Training:  17%|█▋        | 51/300 [09:38<46:22, 11.18s/it]"
     ]
    },
    {
     "name": "stdout",
     "output_type": "stream",
     "text": [
      "Baseline Loss: 3.9611 | Actual Loss: 1.9150\n",
      "Epoch 51/300: Train Loss: 2.9755, Val Loss: 1.9150\n",
      "Baseline Loss: 5.3161 | Actual Loss: 2.9741\n"
     ]
    },
    {
     "name": "stderr",
     "output_type": "stream",
     "text": [
      "Training:  17%|█▋        | 52/300 [09:49<46:23, 11.22s/it]"
     ]
    },
    {
     "name": "stdout",
     "output_type": "stream",
     "text": [
      "Baseline Loss: 3.9611 | Actual Loss: 1.8710\n",
      "Epoch 52/300: Train Loss: 2.9741, Val Loss: 1.8710\n",
      "Baseline Loss: 5.3161 | Actual Loss: 2.9777\n"
     ]
    },
    {
     "name": "stderr",
     "output_type": "stream",
     "text": [
      "Training:  18%|█▊        | 53/300 [10:01<46:40, 11.34s/it]"
     ]
    },
    {
     "name": "stdout",
     "output_type": "stream",
     "text": [
      "Baseline Loss: 3.9611 | Actual Loss: 1.7722\n",
      "Epoch 53/300: Train Loss: 2.9777, Val Loss: 1.7722\n",
      "New best validation loss: 1.7722\n",
      "Baseline Loss: 5.3161 | Actual Loss: 2.9468\n"
     ]
    },
    {
     "name": "stderr",
     "output_type": "stream",
     "text": [
      "Training:  18%|█▊        | 54/300 [10:12<46:20, 11.30s/it]"
     ]
    },
    {
     "name": "stdout",
     "output_type": "stream",
     "text": [
      "Baseline Loss: 3.9611 | Actual Loss: 1.8886\n",
      "Epoch 54/300: Train Loss: 2.9468, Val Loss: 1.8886\n",
      "Baseline Loss: 5.3161 | Actual Loss: 2.9346\n"
     ]
    },
    {
     "name": "stderr",
     "output_type": "stream",
     "text": [
      "Training:  18%|█▊        | 55/300 [10:24<46:19, 11.34s/it]"
     ]
    },
    {
     "name": "stdout",
     "output_type": "stream",
     "text": [
      "Baseline Loss: 3.9611 | Actual Loss: 1.8520\n",
      "Epoch 55/300: Train Loss: 2.9346, Val Loss: 1.8520\n",
      "Baseline Loss: 5.3160 | Actual Loss: 2.9191\n"
     ]
    },
    {
     "name": "stderr",
     "output_type": "stream",
     "text": [
      "Training:  19%|█▊        | 56/300 [10:35<45:55, 11.29s/it]"
     ]
    },
    {
     "name": "stdout",
     "output_type": "stream",
     "text": [
      "Baseline Loss: 3.9611 | Actual Loss: 1.7967\n",
      "Epoch 56/300: Train Loss: 2.9191, Val Loss: 1.7967\n",
      "Baseline Loss: 5.3161 | Actual Loss: 2.9035\n"
     ]
    },
    {
     "name": "stderr",
     "output_type": "stream",
     "text": [
      "Training:  19%|█▉        | 57/300 [10:46<45:30, 11.24s/it]"
     ]
    },
    {
     "name": "stdout",
     "output_type": "stream",
     "text": [
      "Baseline Loss: 3.9611 | Actual Loss: 1.8390\n",
      "Epoch 57/300: Train Loss: 2.9035, Val Loss: 1.8390\n",
      "Baseline Loss: 5.3161 | Actual Loss: 2.8665\n"
     ]
    },
    {
     "name": "stderr",
     "output_type": "stream",
     "text": [
      "Training:  19%|█▉        | 58/300 [10:57<45:04, 11.18s/it]"
     ]
    },
    {
     "name": "stdout",
     "output_type": "stream",
     "text": [
      "Baseline Loss: 3.9611 | Actual Loss: 1.7619\n",
      "Epoch 58/300: Train Loss: 2.8665, Val Loss: 1.7619\n",
      "New best validation loss: 1.7619\n",
      "Baseline Loss: 5.3161 | Actual Loss: 2.8849\n"
     ]
    },
    {
     "name": "stderr",
     "output_type": "stream",
     "text": [
      "Training:  20%|█▉        | 59/300 [11:07<44:11, 11.00s/it]"
     ]
    },
    {
     "name": "stdout",
     "output_type": "stream",
     "text": [
      "Baseline Loss: 3.9611 | Actual Loss: 1.8033\n",
      "Epoch 59/300: Train Loss: 2.8849, Val Loss: 1.8033\n",
      "Baseline Loss: 5.3161 | Actual Loss: 2.8503\n"
     ]
    },
    {
     "name": "stderr",
     "output_type": "stream",
     "text": [
      "Training:  20%|██        | 60/300 [11:19<44:12, 11.05s/it]"
     ]
    },
    {
     "name": "stdout",
     "output_type": "stream",
     "text": [
      "Baseline Loss: 3.9611 | Actual Loss: 1.7533\n",
      "Epoch 60/300: Train Loss: 2.8503, Val Loss: 1.7533\n",
      "New best validation loss: 1.7533\n",
      "Baseline Loss: 5.3161 | Actual Loss: 2.8156\n"
     ]
    },
    {
     "name": "stderr",
     "output_type": "stream",
     "text": [
      "Training:  20%|██        | 61/300 [11:30<43:52, 11.02s/it]"
     ]
    },
    {
     "name": "stdout",
     "output_type": "stream",
     "text": [
      "Baseline Loss: 3.9611 | Actual Loss: 1.7550\n",
      "Epoch 61/300: Train Loss: 2.8156, Val Loss: 1.7550\n",
      "Baseline Loss: 5.3161 | Actual Loss: 2.8575\n"
     ]
    },
    {
     "name": "stderr",
     "output_type": "stream",
     "text": [
      "Training:  21%|██        | 62/300 [11:40<42:47, 10.79s/it]"
     ]
    },
    {
     "name": "stdout",
     "output_type": "stream",
     "text": [
      "Baseline Loss: 3.9611 | Actual Loss: 1.7454\n",
      "Epoch 62/300: Train Loss: 2.8575, Val Loss: 1.7454\n",
      "New best validation loss: 1.7454\n",
      "Baseline Loss: 5.3161 | Actual Loss: 2.8427\n"
     ]
    },
    {
     "name": "stderr",
     "output_type": "stream",
     "text": [
      "Training:  21%|██        | 63/300 [11:50<42:15, 10.70s/it]"
     ]
    },
    {
     "name": "stdout",
     "output_type": "stream",
     "text": [
      "Baseline Loss: 3.9611 | Actual Loss: 1.7722\n",
      "Epoch 63/300: Train Loss: 2.8427, Val Loss: 1.7722\n",
      "Baseline Loss: 5.3161 | Actual Loss: 2.8056\n"
     ]
    },
    {
     "name": "stderr",
     "output_type": "stream",
     "text": [
      "Training:  21%|██▏       | 64/300 [12:01<42:19, 10.76s/it]"
     ]
    },
    {
     "name": "stdout",
     "output_type": "stream",
     "text": [
      "Baseline Loss: 3.9611 | Actual Loss: 1.7234\n",
      "Epoch 64/300: Train Loss: 2.8056, Val Loss: 1.7234\n",
      "New best validation loss: 1.7234\n",
      "Baseline Loss: 5.3161 | Actual Loss: 2.8025\n"
     ]
    },
    {
     "name": "stderr",
     "output_type": "stream",
     "text": [
      "Training:  22%|██▏       | 65/300 [12:16<46:27, 11.86s/it]"
     ]
    },
    {
     "name": "stdout",
     "output_type": "stream",
     "text": [
      "Baseline Loss: 3.9611 | Actual Loss: 1.6793\n",
      "Epoch 65/300: Train Loss: 2.8025, Val Loss: 1.6793\n",
      "New best validation loss: 1.6793\n",
      "Baseline Loss: 5.3161 | Actual Loss: 2.7658\n"
     ]
    },
    {
     "name": "stderr",
     "output_type": "stream",
     "text": [
      "Training:  22%|██▏       | 66/300 [12:22<39:19, 10.09s/it]"
     ]
    },
    {
     "name": "stdout",
     "output_type": "stream",
     "text": [
      "Baseline Loss: 3.9611 | Actual Loss: 1.7153\n",
      "Epoch 66/300: Train Loss: 2.7658, Val Loss: 1.7153\n",
      "Baseline Loss: 5.3161 | Actual Loss: 2.7794\n"
     ]
    },
    {
     "name": "stderr",
     "output_type": "stream",
     "text": [
      "Training:  22%|██▏       | 67/300 [12:32<39:54, 10.28s/it]"
     ]
    },
    {
     "name": "stdout",
     "output_type": "stream",
     "text": [
      "Baseline Loss: 3.9611 | Actual Loss: 1.6942\n",
      "Epoch 67/300: Train Loss: 2.7794, Val Loss: 1.6942\n",
      "Baseline Loss: 5.3161 | Actual Loss: 2.7574\n"
     ]
    },
    {
     "name": "stderr",
     "output_type": "stream",
     "text": [
      "Training:  23%|██▎       | 68/300 [12:43<40:27, 10.47s/it]"
     ]
    },
    {
     "name": "stdout",
     "output_type": "stream",
     "text": [
      "Baseline Loss: 3.9611 | Actual Loss: 1.6730\n",
      "Epoch 68/300: Train Loss: 2.7574, Val Loss: 1.6730\n",
      "New best validation loss: 1.6730\n",
      "Baseline Loss: 5.3161 | Actual Loss: 2.7357\n"
     ]
    },
    {
     "name": "stderr",
     "output_type": "stream",
     "text": [
      "Training:  23%|██▎       | 69/300 [12:54<40:23, 10.49s/it]"
     ]
    },
    {
     "name": "stdout",
     "output_type": "stream",
     "text": [
      "Baseline Loss: 3.9611 | Actual Loss: 1.6066\n",
      "Epoch 69/300: Train Loss: 2.7357, Val Loss: 1.6066\n",
      "New best validation loss: 1.6066\n",
      "Baseline Loss: 5.3161 | Actual Loss: 2.7394\n"
     ]
    },
    {
     "name": "stderr",
     "output_type": "stream",
     "text": [
      "Training:  23%|██▎       | 70/300 [13:05<40:41, 10.62s/it]"
     ]
    },
    {
     "name": "stdout",
     "output_type": "stream",
     "text": [
      "Baseline Loss: 3.9611 | Actual Loss: 1.5924\n",
      "Epoch 70/300: Train Loss: 2.7394, Val Loss: 1.5924\n",
      "New best validation loss: 1.5924\n",
      "Baseline Loss: 5.3161 | Actual Loss: 2.6914\n"
     ]
    },
    {
     "name": "stderr",
     "output_type": "stream",
     "text": [
      "Training:  24%|██▎       | 71/300 [13:15<40:10, 10.53s/it]"
     ]
    },
    {
     "name": "stdout",
     "output_type": "stream",
     "text": [
      "Baseline Loss: 3.9611 | Actual Loss: 1.6114\n",
      "Epoch 71/300: Train Loss: 2.6914, Val Loss: 1.6114\n",
      "Baseline Loss: 5.3161 | Actual Loss: 2.7063\n"
     ]
    },
    {
     "name": "stderr",
     "output_type": "stream",
     "text": [
      "Training:  24%|██▍       | 72/300 [13:26<40:25, 10.64s/it]"
     ]
    },
    {
     "name": "stdout",
     "output_type": "stream",
     "text": [
      "Baseline Loss: 3.9611 | Actual Loss: 1.6419\n",
      "Epoch 72/300: Train Loss: 2.7063, Val Loss: 1.6419\n",
      "Baseline Loss: 5.3161 | Actual Loss: 2.6981\n"
     ]
    },
    {
     "name": "stderr",
     "output_type": "stream",
     "text": [
      "Training:  24%|██▍       | 73/300 [13:36<40:07, 10.61s/it]"
     ]
    },
    {
     "name": "stdout",
     "output_type": "stream",
     "text": [
      "Baseline Loss: 3.9611 | Actual Loss: 1.6811\n",
      "Epoch 73/300: Train Loss: 2.6981, Val Loss: 1.6811\n",
      "Baseline Loss: 5.3161 | Actual Loss: 2.6634\n"
     ]
    },
    {
     "name": "stderr",
     "output_type": "stream",
     "text": [
      "Training:  25%|██▍       | 74/300 [13:47<40:27, 10.74s/it]"
     ]
    },
    {
     "name": "stdout",
     "output_type": "stream",
     "text": [
      "Baseline Loss: 3.9611 | Actual Loss: 1.6033\n",
      "Epoch 74/300: Train Loss: 2.6634, Val Loss: 1.6033\n",
      "Baseline Loss: 5.3161 | Actual Loss: 2.6509\n"
     ]
    },
    {
     "name": "stderr",
     "output_type": "stream",
     "text": [
      "Training:  25%|██▌       | 75/300 [13:58<40:18, 10.75s/it]"
     ]
    },
    {
     "name": "stdout",
     "output_type": "stream",
     "text": [
      "Baseline Loss: 3.9611 | Actual Loss: 1.6080\n",
      "Epoch 75/300: Train Loss: 2.6509, Val Loss: 1.6080\n",
      "Baseline Loss: 5.3161 | Actual Loss: 2.6378\n"
     ]
    },
    {
     "name": "stderr",
     "output_type": "stream",
     "text": [
      "Training:  25%|██▌       | 76/300 [14:09<39:52, 10.68s/it]"
     ]
    },
    {
     "name": "stdout",
     "output_type": "stream",
     "text": [
      "Baseline Loss: 3.9611 | Actual Loss: 1.5924\n",
      "Epoch 76/300: Train Loss: 2.6378, Val Loss: 1.5924\n",
      "Baseline Loss: 5.3161 | Actual Loss: 2.6638\n"
     ]
    },
    {
     "name": "stderr",
     "output_type": "stream",
     "text": [
      "Training:  26%|██▌       | 77/300 [14:20<40:26, 10.88s/it]"
     ]
    },
    {
     "name": "stdout",
     "output_type": "stream",
     "text": [
      "Baseline Loss: 3.9611 | Actual Loss: 1.5607\n",
      "Epoch 77/300: Train Loss: 2.6638, Val Loss: 1.5607\n",
      "New best validation loss: 1.5607\n",
      "Baseline Loss: 5.3161 | Actual Loss: 2.6585\n"
     ]
    },
    {
     "name": "stderr",
     "output_type": "stream",
     "text": [
      "Training:  26%|██▌       | 78/300 [14:31<39:50, 10.77s/it]"
     ]
    },
    {
     "name": "stdout",
     "output_type": "stream",
     "text": [
      "Baseline Loss: 3.9611 | Actual Loss: 1.5820\n",
      "Epoch 78/300: Train Loss: 2.6585, Val Loss: 1.5820\n",
      "Baseline Loss: 5.3161 | Actual Loss: 2.5878\n"
     ]
    },
    {
     "name": "stderr",
     "output_type": "stream",
     "text": [
      "Training:  26%|██▋       | 79/300 [14:42<40:03, 10.87s/it]"
     ]
    },
    {
     "name": "stdout",
     "output_type": "stream",
     "text": [
      "Baseline Loss: 3.9611 | Actual Loss: 1.5469\n",
      "Epoch 79/300: Train Loss: 2.5878, Val Loss: 1.5469\n",
      "New best validation loss: 1.5469\n",
      "Baseline Loss: 5.3161 | Actual Loss: 2.6315\n"
     ]
    },
    {
     "name": "stderr",
     "output_type": "stream",
     "text": [
      "Training:  27%|██▋       | 80/300 [14:52<39:11, 10.69s/it]"
     ]
    },
    {
     "name": "stdout",
     "output_type": "stream",
     "text": [
      "Baseline Loss: 3.9611 | Actual Loss: 1.5144\n",
      "Epoch 80/300: Train Loss: 2.6315, Val Loss: 1.5144\n",
      "New best validation loss: 1.5144\n",
      "Baseline Loss: 5.3161 | Actual Loss: 2.6210\n"
     ]
    },
    {
     "name": "stderr",
     "output_type": "stream",
     "text": [
      "Training:  27%|██▋       | 81/300 [15:03<39:43, 10.88s/it]"
     ]
    },
    {
     "name": "stdout",
     "output_type": "stream",
     "text": [
      "Baseline Loss: 3.9611 | Actual Loss: 1.5801\n",
      "Epoch 81/300: Train Loss: 2.6210, Val Loss: 1.5801\n",
      "Baseline Loss: 5.3161 | Actual Loss: 2.6045\n"
     ]
    },
    {
     "name": "stderr",
     "output_type": "stream",
     "text": [
      "Training:  27%|██▋       | 82/300 [15:14<39:02, 10.75s/it]"
     ]
    },
    {
     "name": "stdout",
     "output_type": "stream",
     "text": [
      "Baseline Loss: 3.9611 | Actual Loss: 1.5523\n",
      "Epoch 82/300: Train Loss: 2.6045, Val Loss: 1.5523\n",
      "Baseline Loss: 5.3161 | Actual Loss: 2.5469\n"
     ]
    },
    {
     "name": "stderr",
     "output_type": "stream",
     "text": [
      "Training:  28%|██▊       | 83/300 [15:25<39:00, 10.79s/it]"
     ]
    },
    {
     "name": "stdout",
     "output_type": "stream",
     "text": [
      "Baseline Loss: 3.9611 | Actual Loss: 1.5875\n",
      "Epoch 83/300: Train Loss: 2.5469, Val Loss: 1.5875\n",
      "Baseline Loss: 5.3161 | Actual Loss: 2.5694\n"
     ]
    },
    {
     "name": "stderr",
     "output_type": "stream",
     "text": [
      "Training:  28%|██▊       | 84/300 [15:40<44:15, 12.29s/it]"
     ]
    },
    {
     "name": "stdout",
     "output_type": "stream",
     "text": [
      "Baseline Loss: 3.9611 | Actual Loss: 1.5298\n",
      "Epoch 84/300: Train Loss: 2.5694, Val Loss: 1.5298\n",
      "Baseline Loss: 5.3161 | Actual Loss: 2.5784\n"
     ]
    },
    {
     "name": "stderr",
     "output_type": "stream",
     "text": [
      "Training:  28%|██▊       | 85/300 [15:52<42:55, 11.98s/it]"
     ]
    },
    {
     "name": "stdout",
     "output_type": "stream",
     "text": [
      "Baseline Loss: 3.9611 | Actual Loss: 1.5207\n",
      "Epoch 85/300: Train Loss: 2.5784, Val Loss: 1.5207\n",
      "Baseline Loss: 5.3161 | Actual Loss: 2.5447\n"
     ]
    },
    {
     "name": "stderr",
     "output_type": "stream",
     "text": [
      "Training:  29%|██▊       | 86/300 [16:03<41:32, 11.65s/it]"
     ]
    },
    {
     "name": "stdout",
     "output_type": "stream",
     "text": [
      "Baseline Loss: 3.9611 | Actual Loss: 1.5342\n",
      "Epoch 86/300: Train Loss: 2.5447, Val Loss: 1.5342\n",
      "Baseline Loss: 5.3161 | Actual Loss: 2.5395\n"
     ]
    },
    {
     "name": "stderr",
     "output_type": "stream",
     "text": [
      "Training:  29%|██▉       | 87/300 [16:13<40:33, 11.42s/it]"
     ]
    },
    {
     "name": "stdout",
     "output_type": "stream",
     "text": [
      "Baseline Loss: 3.9611 | Actual Loss: 1.5601\n",
      "Epoch 87/300: Train Loss: 2.5395, Val Loss: 1.5601\n",
      "Baseline Loss: 5.3161 | Actual Loss: 2.5468\n"
     ]
    },
    {
     "name": "stderr",
     "output_type": "stream",
     "text": [
      "Training:  29%|██▉       | 88/300 [16:24<39:37, 11.21s/it]"
     ]
    },
    {
     "name": "stdout",
     "output_type": "stream",
     "text": [
      "Baseline Loss: 3.9611 | Actual Loss: 1.5183\n",
      "Epoch 88/300: Train Loss: 2.5468, Val Loss: 1.5183\n",
      "Baseline Loss: 5.3161 | Actual Loss: 2.5468\n"
     ]
    },
    {
     "name": "stderr",
     "output_type": "stream",
     "text": [
      "Training:  30%|██▉       | 89/300 [16:41<44:59, 12.79s/it]"
     ]
    },
    {
     "name": "stdout",
     "output_type": "stream",
     "text": [
      "Baseline Loss: 3.9611 | Actual Loss: 1.4727\n",
      "Epoch 89/300: Train Loss: 2.5468, Val Loss: 1.4727\n",
      "New best validation loss: 1.4727\n",
      "Baseline Loss: 5.3161 | Actual Loss: 2.5375\n"
     ]
    },
    {
     "name": "stderr",
     "output_type": "stream",
     "text": [
      "Training:  30%|███       | 90/300 [16:52<42:50, 12.24s/it]"
     ]
    },
    {
     "name": "stdout",
     "output_type": "stream",
     "text": [
      "Baseline Loss: 3.9611 | Actual Loss: 1.4417\n",
      "Epoch 90/300: Train Loss: 2.5375, Val Loss: 1.4417\n",
      "New best validation loss: 1.4417\n",
      "Baseline Loss: 5.3161 | Actual Loss: 2.5179\n"
     ]
    },
    {
     "name": "stderr",
     "output_type": "stream",
     "text": [
      "Training:  30%|███       | 91/300 [17:03<41:14, 11.84s/it]"
     ]
    },
    {
     "name": "stdout",
     "output_type": "stream",
     "text": [
      "Baseline Loss: 3.9611 | Actual Loss: 1.4326\n",
      "Epoch 91/300: Train Loss: 2.5179, Val Loss: 1.4326\n",
      "New best validation loss: 1.4326\n",
      "Baseline Loss: 5.3161 | Actual Loss: 2.5178\n"
     ]
    },
    {
     "name": "stderr",
     "output_type": "stream",
     "text": [
      "Training:  31%|███       | 92/300 [17:13<40:05, 11.56s/it]"
     ]
    },
    {
     "name": "stdout",
     "output_type": "stream",
     "text": [
      "Baseline Loss: 3.9611 | Actual Loss: 1.4947\n",
      "Epoch 92/300: Train Loss: 2.5178, Val Loss: 1.4947\n",
      "Baseline Loss: 5.3161 | Actual Loss: 2.4554\n"
     ]
    },
    {
     "name": "stderr",
     "output_type": "stream",
     "text": [
      "Training:  31%|███       | 93/300 [17:24<38:29, 11.16s/it]"
     ]
    },
    {
     "name": "stdout",
     "output_type": "stream",
     "text": [
      "Baseline Loss: 3.9611 | Actual Loss: 1.4996\n",
      "Epoch 93/300: Train Loss: 2.4554, Val Loss: 1.4996\n",
      "Baseline Loss: 5.3161 | Actual Loss: 2.4742\n"
     ]
    },
    {
     "name": "stderr",
     "output_type": "stream",
     "text": [
      "Training:  31%|███▏      | 94/300 [17:36<39:39, 11.55s/it]"
     ]
    },
    {
     "name": "stdout",
     "output_type": "stream",
     "text": [
      "Baseline Loss: 3.9611 | Actual Loss: 1.4865\n",
      "Epoch 94/300: Train Loss: 2.4742, Val Loss: 1.4865\n",
      "Baseline Loss: 5.3161 | Actual Loss: 2.4878\n"
     ]
    },
    {
     "name": "stderr",
     "output_type": "stream",
     "text": [
      "Training:  32%|███▏      | 95/300 [17:47<38:51, 11.37s/it]"
     ]
    },
    {
     "name": "stdout",
     "output_type": "stream",
     "text": [
      "Baseline Loss: 3.9611 | Actual Loss: 1.4846\n",
      "Epoch 95/300: Train Loss: 2.4878, Val Loss: 1.4846\n",
      "Baseline Loss: 5.3161 | Actual Loss: 2.4742\n"
     ]
    },
    {
     "name": "stderr",
     "output_type": "stream",
     "text": [
      "Training:  32%|███▏      | 96/300 [17:58<38:39, 11.37s/it]"
     ]
    },
    {
     "name": "stdout",
     "output_type": "stream",
     "text": [
      "Baseline Loss: 3.9611 | Actual Loss: 1.4778\n",
      "Epoch 96/300: Train Loss: 2.4742, Val Loss: 1.4778\n",
      "Baseline Loss: 5.3161 | Actual Loss: 2.4794\n"
     ]
    },
    {
     "name": "stderr",
     "output_type": "stream",
     "text": [
      "Training:  32%|███▏      | 97/300 [18:09<38:08, 11.28s/it]"
     ]
    },
    {
     "name": "stdout",
     "output_type": "stream",
     "text": [
      "Baseline Loss: 3.9611 | Actual Loss: 1.4251\n",
      "Epoch 97/300: Train Loss: 2.4794, Val Loss: 1.4251\n",
      "New best validation loss: 1.4251\n",
      "Baseline Loss: 5.3161 | Actual Loss: 2.4550\n"
     ]
    },
    {
     "name": "stderr",
     "output_type": "stream",
     "text": [
      "Training:  33%|███▎      | 98/300 [18:21<37:59, 11.28s/it]"
     ]
    },
    {
     "name": "stdout",
     "output_type": "stream",
     "text": [
      "Baseline Loss: 3.9611 | Actual Loss: 1.4236\n",
      "Epoch 98/300: Train Loss: 2.4550, Val Loss: 1.4236\n",
      "New best validation loss: 1.4236\n",
      "Baseline Loss: 5.3161 | Actual Loss: 2.4785\n"
     ]
    },
    {
     "name": "stderr",
     "output_type": "stream",
     "text": [
      "Training:  33%|███▎      | 99/300 [18:38<43:24, 12.96s/it]"
     ]
    },
    {
     "name": "stdout",
     "output_type": "stream",
     "text": [
      "Baseline Loss: 3.9611 | Actual Loss: 1.4241\n",
      "Epoch 99/300: Train Loss: 2.4785, Val Loss: 1.4241\n",
      "Baseline Loss: 5.3161 | Actual Loss: 2.4598\n"
     ]
    },
    {
     "name": "stderr",
     "output_type": "stream",
     "text": [
      "Training:  33%|███▎      | 100/300 [18:49<41:53, 12.57s/it]"
     ]
    },
    {
     "name": "stdout",
     "output_type": "stream",
     "text": [
      "Baseline Loss: 3.9611 | Actual Loss: 1.4072\n",
      "Epoch 100/300: Train Loss: 2.4598, Val Loss: 1.4072\n",
      "New best validation loss: 1.4072\n",
      "Baseline Loss: 5.3161 | Actual Loss: 2.4546\n"
     ]
    },
    {
     "name": "stderr",
     "output_type": "stream",
     "text": [
      "Training:  34%|███▎      | 101/300 [19:00<39:42, 11.97s/it]"
     ]
    },
    {
     "name": "stdout",
     "output_type": "stream",
     "text": [
      "Baseline Loss: 3.9611 | Actual Loss: 1.4155\n",
      "Epoch 101/300: Train Loss: 2.4546, Val Loss: 1.4155\n",
      "Baseline Loss: 5.3161 | Actual Loss: 2.4467\n"
     ]
    },
    {
     "name": "stderr",
     "output_type": "stream",
     "text": [
      "Training:  34%|███▍      | 102/300 [19:11<38:48, 11.76s/it]"
     ]
    },
    {
     "name": "stdout",
     "output_type": "stream",
     "text": [
      "Baseline Loss: 3.9611 | Actual Loss: 1.4302\n",
      "Epoch 102/300: Train Loss: 2.4467, Val Loss: 1.4302\n",
      "Baseline Loss: 5.3161 | Actual Loss: 2.4181\n"
     ]
    },
    {
     "name": "stderr",
     "output_type": "stream",
     "text": [
      "Training:  34%|███▍      | 103/300 [19:21<37:10, 11.32s/it]"
     ]
    },
    {
     "name": "stdout",
     "output_type": "stream",
     "text": [
      "Baseline Loss: 3.9611 | Actual Loss: 1.3904\n",
      "Epoch 103/300: Train Loss: 2.4181, Val Loss: 1.3904\n",
      "New best validation loss: 1.3904\n",
      "Baseline Loss: 5.3161 | Actual Loss: 2.4178\n"
     ]
    },
    {
     "name": "stderr",
     "output_type": "stream",
     "text": [
      "Training:  35%|███▍      | 104/300 [19:33<36:58, 11.32s/it]"
     ]
    },
    {
     "name": "stdout",
     "output_type": "stream",
     "text": [
      "Baseline Loss: 3.9611 | Actual Loss: 1.3442\n",
      "Epoch 104/300: Train Loss: 2.4178, Val Loss: 1.3442\n",
      "New best validation loss: 1.3442\n",
      "Baseline Loss: 5.3161 | Actual Loss: 2.4334\n"
     ]
    },
    {
     "name": "stderr",
     "output_type": "stream",
     "text": [
      "Training:  35%|███▌      | 105/300 [19:44<36:29, 11.23s/it]"
     ]
    },
    {
     "name": "stdout",
     "output_type": "stream",
     "text": [
      "Baseline Loss: 3.9611 | Actual Loss: 1.3927\n",
      "Epoch 105/300: Train Loss: 2.4334, Val Loss: 1.3927\n",
      "Baseline Loss: 5.3161 | Actual Loss: 2.3819\n"
     ]
    },
    {
     "name": "stderr",
     "output_type": "stream",
     "text": [
      "Training:  35%|███▌      | 106/300 [19:55<35:52, 11.10s/it]"
     ]
    },
    {
     "name": "stdout",
     "output_type": "stream",
     "text": [
      "Baseline Loss: 3.9611 | Actual Loss: 1.3784\n",
      "Epoch 106/300: Train Loss: 2.3819, Val Loss: 1.3784\n",
      "Baseline Loss: 5.3161 | Actual Loss: 2.4007\n"
     ]
    },
    {
     "name": "stderr",
     "output_type": "stream",
     "text": [
      "Training:  36%|███▌      | 107/300 [20:06<35:42, 11.10s/it]"
     ]
    },
    {
     "name": "stdout",
     "output_type": "stream",
     "text": [
      "Baseline Loss: 3.9611 | Actual Loss: 1.3929\n",
      "Epoch 107/300: Train Loss: 2.4007, Val Loss: 1.3929\n",
      "Baseline Loss: 5.3161 | Actual Loss: 2.4252\n"
     ]
    },
    {
     "name": "stderr",
     "output_type": "stream",
     "text": [
      "Training:  36%|███▌      | 108/300 [20:16<35:04, 10.96s/it]"
     ]
    },
    {
     "name": "stdout",
     "output_type": "stream",
     "text": [
      "Baseline Loss: 3.9611 | Actual Loss: 1.3922\n",
      "Epoch 108/300: Train Loss: 2.4252, Val Loss: 1.3922\n",
      "Baseline Loss: 5.3161 | Actual Loss: 2.4003\n"
     ]
    },
    {
     "name": "stderr",
     "output_type": "stream",
     "text": [
      "Training:  36%|███▋      | 109/300 [20:28<35:15, 11.07s/it]"
     ]
    },
    {
     "name": "stdout",
     "output_type": "stream",
     "text": [
      "Baseline Loss: 3.9611 | Actual Loss: 1.3914\n",
      "Epoch 109/300: Train Loss: 2.4003, Val Loss: 1.3914\n",
      "Baseline Loss: 5.3161 | Actual Loss: 2.3924\n"
     ]
    },
    {
     "name": "stderr",
     "output_type": "stream",
     "text": [
      "Training:  37%|███▋      | 110/300 [20:38<34:40, 10.95s/it]"
     ]
    },
    {
     "name": "stdout",
     "output_type": "stream",
     "text": [
      "Baseline Loss: 3.9611 | Actual Loss: 1.3765\n",
      "Epoch 110/300: Train Loss: 2.3924, Val Loss: 1.3765\n",
      "Baseline Loss: 5.3161 | Actual Loss: 2.3955\n"
     ]
    },
    {
     "name": "stderr",
     "output_type": "stream",
     "text": [
      "Training:  37%|███▋      | 111/300 [20:50<34:43, 11.03s/it]"
     ]
    },
    {
     "name": "stdout",
     "output_type": "stream",
     "text": [
      "Baseline Loss: 3.9611 | Actual Loss: 1.4021\n",
      "Epoch 111/300: Train Loss: 2.3955, Val Loss: 1.4021\n",
      "Baseline Loss: 5.3161 | Actual Loss: 2.3784\n"
     ]
    },
    {
     "name": "stderr",
     "output_type": "stream",
     "text": [
      "Training:  37%|███▋      | 112/300 [21:01<34:43, 11.08s/it]"
     ]
    },
    {
     "name": "stdout",
     "output_type": "stream",
     "text": [
      "Baseline Loss: 3.9611 | Actual Loss: 1.3831\n",
      "Epoch 112/300: Train Loss: 2.3784, Val Loss: 1.3831\n",
      "Baseline Loss: 5.3161 | Actual Loss: 2.3733\n"
     ]
    },
    {
     "name": "stderr",
     "output_type": "stream",
     "text": [
      "Training:  38%|███▊      | 113/300 [21:12<34:37, 11.11s/it]"
     ]
    },
    {
     "name": "stdout",
     "output_type": "stream",
     "text": [
      "Baseline Loss: 3.9611 | Actual Loss: 1.3710\n",
      "Epoch 113/300: Train Loss: 2.3733, Val Loss: 1.3710\n",
      "Baseline Loss: 5.3161 | Actual Loss: 2.3802\n"
     ]
    },
    {
     "name": "stderr",
     "output_type": "stream",
     "text": [
      "Training:  38%|███▊      | 114/300 [21:23<34:31, 11.14s/it]"
     ]
    },
    {
     "name": "stdout",
     "output_type": "stream",
     "text": [
      "Baseline Loss: 3.9611 | Actual Loss: 1.3194\n",
      "Epoch 114/300: Train Loss: 2.3802, Val Loss: 1.3194\n",
      "New best validation loss: 1.3194\n",
      "Baseline Loss: 5.3161 | Actual Loss: 2.3505\n"
     ]
    },
    {
     "name": "stderr",
     "output_type": "stream",
     "text": [
      "Training:  38%|███▊      | 115/300 [21:34<34:31, 11.20s/it]"
     ]
    },
    {
     "name": "stdout",
     "output_type": "stream",
     "text": [
      "Baseline Loss: 3.9611 | Actual Loss: 1.3669\n",
      "Epoch 115/300: Train Loss: 2.3505, Val Loss: 1.3669\n",
      "Baseline Loss: 5.3161 | Actual Loss: 2.3399\n"
     ]
    },
    {
     "name": "stderr",
     "output_type": "stream",
     "text": [
      "Training:  39%|███▊      | 116/300 [21:47<35:31, 11.58s/it]"
     ]
    },
    {
     "name": "stdout",
     "output_type": "stream",
     "text": [
      "Baseline Loss: 3.9611 | Actual Loss: 1.3754\n",
      "Epoch 116/300: Train Loss: 2.3399, Val Loss: 1.3754\n",
      "Baseline Loss: 5.3161 | Actual Loss: 2.3266\n"
     ]
    },
    {
     "name": "stderr",
     "output_type": "stream",
     "text": [
      "Training:  39%|███▉      | 117/300 [22:03<39:07, 12.83s/it]"
     ]
    },
    {
     "name": "stdout",
     "output_type": "stream",
     "text": [
      "Baseline Loss: 3.9611 | Actual Loss: 1.3255\n",
      "Epoch 117/300: Train Loss: 2.3266, Val Loss: 1.3255\n",
      "Baseline Loss: 5.3161 | Actual Loss: 2.3362\n"
     ]
    },
    {
     "name": "stderr",
     "output_type": "stream",
     "text": [
      "Training:  39%|███▉      | 118/300 [22:14<37:08, 12.24s/it]"
     ]
    },
    {
     "name": "stdout",
     "output_type": "stream",
     "text": [
      "Baseline Loss: 3.9611 | Actual Loss: 1.3847\n",
      "Epoch 118/300: Train Loss: 2.3362, Val Loss: 1.3847\n",
      "Baseline Loss: 5.3161 | Actual Loss: 2.3022\n"
     ]
    },
    {
     "name": "stderr",
     "output_type": "stream",
     "text": [
      "Training:  40%|███▉      | 119/300 [22:24<35:42, 11.84s/it]"
     ]
    },
    {
     "name": "stdout",
     "output_type": "stream",
     "text": [
      "Baseline Loss: 3.9611 | Actual Loss: 1.3232\n",
      "Epoch 119/300: Train Loss: 2.3022, Val Loss: 1.3232\n",
      "Baseline Loss: 5.3161 | Actual Loss: 2.3037\n"
     ]
    },
    {
     "name": "stderr",
     "output_type": "stream",
     "text": [
      "Training:  40%|████      | 120/300 [22:35<34:34, 11.53s/it]"
     ]
    },
    {
     "name": "stdout",
     "output_type": "stream",
     "text": [
      "Baseline Loss: 3.9611 | Actual Loss: 1.3132\n",
      "Epoch 120/300: Train Loss: 2.3037, Val Loss: 1.3132\n",
      "New best validation loss: 1.3132\n",
      "Baseline Loss: 5.3161 | Actual Loss: 2.2848\n"
     ]
    },
    {
     "name": "stderr",
     "output_type": "stream",
     "text": [
      "Training:  40%|████      | 121/300 [22:46<33:55, 11.37s/it]"
     ]
    },
    {
     "name": "stdout",
     "output_type": "stream",
     "text": [
      "Baseline Loss: 3.9611 | Actual Loss: 1.3493\n",
      "Epoch 121/300: Train Loss: 2.2848, Val Loss: 1.3493\n",
      "Baseline Loss: 5.3161 | Actual Loss: 2.3011\n"
     ]
    },
    {
     "name": "stderr",
     "output_type": "stream",
     "text": [
      "Training:  41%|████      | 122/300 [22:58<33:47, 11.39s/it]"
     ]
    },
    {
     "name": "stdout",
     "output_type": "stream",
     "text": [
      "Baseline Loss: 3.9611 | Actual Loss: 1.3895\n",
      "Epoch 122/300: Train Loss: 2.3011, Val Loss: 1.3895\n",
      "Baseline Loss: 5.3161 | Actual Loss: 2.2985\n"
     ]
    },
    {
     "name": "stderr",
     "output_type": "stream",
     "text": [
      "Training:  41%|████      | 123/300 [23:08<32:59, 11.18s/it]"
     ]
    },
    {
     "name": "stdout",
     "output_type": "stream",
     "text": [
      "Baseline Loss: 3.9611 | Actual Loss: 1.3418\n",
      "Epoch 123/300: Train Loss: 2.2985, Val Loss: 1.3418\n",
      "Baseline Loss: 5.3161 | Actual Loss: 2.2780\n"
     ]
    },
    {
     "name": "stderr",
     "output_type": "stream",
     "text": [
      "Training:  41%|████▏     | 124/300 [23:24<36:34, 12.47s/it]"
     ]
    },
    {
     "name": "stdout",
     "output_type": "stream",
     "text": [
      "Baseline Loss: 3.9611 | Actual Loss: 1.3553\n",
      "Epoch 124/300: Train Loss: 2.2780, Val Loss: 1.3553\n",
      "Baseline Loss: 5.3161 | Actual Loss: 2.2773\n"
     ]
    },
    {
     "name": "stderr",
     "output_type": "stream",
     "text": [
      "Training:  42%|████▏     | 125/300 [23:31<31:34, 10.82s/it]"
     ]
    },
    {
     "name": "stdout",
     "output_type": "stream",
     "text": [
      "Baseline Loss: 3.9611 | Actual Loss: 1.3149\n",
      "Epoch 125/300: Train Loss: 2.2773, Val Loss: 1.3149\n",
      "Baseline Loss: 5.3161 | Actual Loss: 2.2512\n"
     ]
    },
    {
     "name": "stderr",
     "output_type": "stream",
     "text": [
      "Training:  42%|████▏     | 126/300 [23:42<31:35, 10.89s/it]"
     ]
    },
    {
     "name": "stdout",
     "output_type": "stream",
     "text": [
      "Baseline Loss: 3.9611 | Actual Loss: 1.2688\n",
      "Epoch 126/300: Train Loss: 2.2512, Val Loss: 1.2688\n",
      "New best validation loss: 1.2688\n",
      "Baseline Loss: 5.3161 | Actual Loss: 2.2727\n"
     ]
    },
    {
     "name": "stderr",
     "output_type": "stream",
     "text": [
      "Training:  42%|████▏     | 127/300 [23:53<31:09, 10.81s/it]"
     ]
    },
    {
     "name": "stdout",
     "output_type": "stream",
     "text": [
      "Baseline Loss: 3.9611 | Actual Loss: 1.3217\n",
      "Epoch 127/300: Train Loss: 2.2727, Val Loss: 1.3217\n",
      "Baseline Loss: 5.3161 | Actual Loss: 2.2771\n"
     ]
    },
    {
     "name": "stderr",
     "output_type": "stream",
     "text": [
      "Training:  43%|████▎     | 128/300 [24:04<31:25, 10.96s/it]"
     ]
    },
    {
     "name": "stdout",
     "output_type": "stream",
     "text": [
      "Baseline Loss: 3.9611 | Actual Loss: 1.2979\n",
      "Epoch 128/300: Train Loss: 2.2771, Val Loss: 1.2979\n",
      "Baseline Loss: 5.3161 | Actual Loss: 2.2578\n"
     ]
    },
    {
     "name": "stderr",
     "output_type": "stream",
     "text": [
      "Training:  43%|████▎     | 129/300 [24:15<31:27, 11.04s/it]"
     ]
    },
    {
     "name": "stdout",
     "output_type": "stream",
     "text": [
      "Baseline Loss: 3.9611 | Actual Loss: 1.2365\n",
      "Epoch 129/300: Train Loss: 2.2578, Val Loss: 1.2365\n",
      "New best validation loss: 1.2365\n",
      "Baseline Loss: 5.3161 | Actual Loss: 2.2305\n"
     ]
    },
    {
     "name": "stderr",
     "output_type": "stream",
     "text": [
      "Training:  43%|████▎     | 130/300 [24:26<31:29, 11.11s/it]"
     ]
    },
    {
     "name": "stdout",
     "output_type": "stream",
     "text": [
      "Baseline Loss: 3.9611 | Actual Loss: 1.3004\n",
      "Epoch 130/300: Train Loss: 2.2305, Val Loss: 1.3004\n",
      "Baseline Loss: 5.3161 | Actual Loss: 2.2229\n"
     ]
    },
    {
     "name": "stderr",
     "output_type": "stream",
     "text": [
      "Training:  44%|████▎     | 131/300 [24:42<35:33, 12.62s/it]"
     ]
    },
    {
     "name": "stdout",
     "output_type": "stream",
     "text": [
      "Baseline Loss: 3.9611 | Actual Loss: 1.3147\n",
      "Epoch 131/300: Train Loss: 2.2229, Val Loss: 1.3147\n",
      "Baseline Loss: 5.3161 | Actual Loss: 2.2473\n"
     ]
    },
    {
     "name": "stderr",
     "output_type": "stream",
     "text": [
      "Training:  44%|████▍     | 132/300 [24:54<34:11, 12.21s/it]"
     ]
    },
    {
     "name": "stdout",
     "output_type": "stream",
     "text": [
      "Baseline Loss: 3.9611 | Actual Loss: 1.3407\n",
      "Epoch 132/300: Train Loss: 2.2473, Val Loss: 1.3407\n",
      "Baseline Loss: 5.3161 | Actual Loss: 2.2364\n"
     ]
    },
    {
     "name": "stderr",
     "output_type": "stream",
     "text": [
      "Training:  44%|████▍     | 133/300 [25:05<33:14, 11.94s/it]"
     ]
    },
    {
     "name": "stdout",
     "output_type": "stream",
     "text": [
      "Baseline Loss: 3.9611 | Actual Loss: 1.2885\n",
      "Epoch 133/300: Train Loss: 2.2364, Val Loss: 1.2885\n",
      "Baseline Loss: 5.3161 | Actual Loss: 2.2295\n"
     ]
    },
    {
     "name": "stderr",
     "output_type": "stream",
     "text": [
      "Training:  45%|████▍     | 134/300 [25:16<32:06, 11.61s/it]"
     ]
    },
    {
     "name": "stdout",
     "output_type": "stream",
     "text": [
      "Baseline Loss: 3.9611 | Actual Loss: 1.2753\n",
      "Epoch 134/300: Train Loss: 2.2295, Val Loss: 1.2753\n",
      "Baseline Loss: 5.3161 | Actual Loss: 2.2274\n"
     ]
    },
    {
     "name": "stderr",
     "output_type": "stream",
     "text": [
      "Training:  45%|████▌     | 135/300 [25:26<31:01, 11.28s/it]"
     ]
    },
    {
     "name": "stdout",
     "output_type": "stream",
     "text": [
      "Baseline Loss: 3.9611 | Actual Loss: 1.3034\n",
      "Epoch 135/300: Train Loss: 2.2274, Val Loss: 1.3034\n",
      "Baseline Loss: 5.3161 | Actual Loss: 2.2007\n"
     ]
    },
    {
     "name": "stderr",
     "output_type": "stream",
     "text": [
      "Training:  45%|████▌     | 136/300 [25:37<30:24, 11.12s/it]"
     ]
    },
    {
     "name": "stdout",
     "output_type": "stream",
     "text": [
      "Baseline Loss: 3.9611 | Actual Loss: 1.2151\n",
      "Epoch 136/300: Train Loss: 2.2007, Val Loss: 1.2151\n",
      "New best validation loss: 1.2151\n",
      "Baseline Loss: 5.3161 | Actual Loss: 2.2023\n"
     ]
    },
    {
     "name": "stderr",
     "output_type": "stream",
     "text": [
      "Training:  46%|████▌     | 137/300 [25:48<29:58, 11.03s/it]"
     ]
    },
    {
     "name": "stdout",
     "output_type": "stream",
     "text": [
      "Baseline Loss: 3.9611 | Actual Loss: 1.2615\n",
      "Epoch 137/300: Train Loss: 2.2023, Val Loss: 1.2615\n",
      "Baseline Loss: 5.3161 | Actual Loss: 2.2107\n"
     ]
    },
    {
     "name": "stderr",
     "output_type": "stream",
     "text": [
      "Training:  46%|████▌     | 138/300 [25:59<29:23, 10.88s/it]"
     ]
    },
    {
     "name": "stdout",
     "output_type": "stream",
     "text": [
      "Baseline Loss: 3.9611 | Actual Loss: 1.2428\n",
      "Epoch 138/300: Train Loss: 2.2107, Val Loss: 1.2428\n",
      "Baseline Loss: 5.3161 | Actual Loss: 2.1772\n"
     ]
    },
    {
     "name": "stderr",
     "output_type": "stream",
     "text": [
      "Training:  46%|████▋     | 139/300 [26:09<29:14, 10.90s/it]"
     ]
    },
    {
     "name": "stdout",
     "output_type": "stream",
     "text": [
      "Baseline Loss: 3.9611 | Actual Loss: 1.2418\n",
      "Epoch 139/300: Train Loss: 2.1772, Val Loss: 1.2418\n",
      "Baseline Loss: 5.3161 | Actual Loss: 2.2047\n"
     ]
    },
    {
     "name": "stderr",
     "output_type": "stream",
     "text": [
      "Training:  47%|████▋     | 140/300 [26:20<29:04, 10.91s/it]"
     ]
    },
    {
     "name": "stdout",
     "output_type": "stream",
     "text": [
      "Baseline Loss: 3.9611 | Actual Loss: 1.3168\n",
      "Epoch 140/300: Train Loss: 2.2047, Val Loss: 1.3168\n",
      "Baseline Loss: 5.3161 | Actual Loss: 2.1941\n"
     ]
    },
    {
     "name": "stderr",
     "output_type": "stream",
     "text": [
      "Training:  47%|████▋     | 141/300 [26:31<28:39, 10.82s/it]"
     ]
    },
    {
     "name": "stdout",
     "output_type": "stream",
     "text": [
      "Baseline Loss: 3.9611 | Actual Loss: 1.3208\n",
      "Epoch 141/300: Train Loss: 2.1941, Val Loss: 1.3208\n",
      "Baseline Loss: 5.3161 | Actual Loss: 2.1721\n"
     ]
    },
    {
     "name": "stderr",
     "output_type": "stream",
     "text": [
      "Training:  47%|████▋     | 142/300 [26:42<28:43, 10.91s/it]"
     ]
    },
    {
     "name": "stdout",
     "output_type": "stream",
     "text": [
      "Baseline Loss: 3.9611 | Actual Loss: 1.2243\n",
      "Epoch 142/300: Train Loss: 2.1721, Val Loss: 1.2243\n",
      "Baseline Loss: 5.3161 | Actual Loss: 2.1746\n"
     ]
    },
    {
     "name": "stderr",
     "output_type": "stream",
     "text": [
      "Training:  48%|████▊     | 143/300 [26:53<28:41, 10.97s/it]"
     ]
    },
    {
     "name": "stdout",
     "output_type": "stream",
     "text": [
      "Baseline Loss: 3.9611 | Actual Loss: 1.2681\n",
      "Epoch 143/300: Train Loss: 2.1746, Val Loss: 1.2681\n",
      "Baseline Loss: 5.3161 | Actual Loss: 2.1814\n"
     ]
    },
    {
     "name": "stderr",
     "output_type": "stream",
     "text": [
      "Training:  48%|████▊     | 144/300 [27:05<29:05, 11.19s/it]"
     ]
    },
    {
     "name": "stdout",
     "output_type": "stream",
     "text": [
      "Baseline Loss: 3.9611 | Actual Loss: 1.2815\n",
      "Epoch 144/300: Train Loss: 2.1814, Val Loss: 1.2815\n",
      "Baseline Loss: 5.3161 | Actual Loss: 2.1642\n"
     ]
    },
    {
     "name": "stderr",
     "output_type": "stream",
     "text": [
      "Training:  48%|████▊     | 145/300 [27:16<29:06, 11.27s/it]"
     ]
    },
    {
     "name": "stdout",
     "output_type": "stream",
     "text": [
      "Baseline Loss: 3.9611 | Actual Loss: 1.2808\n",
      "Epoch 145/300: Train Loss: 2.1642, Val Loss: 1.2808\n",
      "Baseline Loss: 5.3161 | Actual Loss: 2.1391\n"
     ]
    },
    {
     "name": "stderr",
     "output_type": "stream",
     "text": [
      "Training:  49%|████▊     | 146/300 [27:27<28:30, 11.11s/it]"
     ]
    },
    {
     "name": "stdout",
     "output_type": "stream",
     "text": [
      "Baseline Loss: 3.9611 | Actual Loss: 1.2732\n",
      "Epoch 146/300: Train Loss: 2.1391, Val Loss: 1.2732\n",
      "Baseline Loss: 5.3161 | Actual Loss: 2.1299\n"
     ]
    },
    {
     "name": "stderr",
     "output_type": "stream",
     "text": [
      "Training:  49%|████▉     | 147/300 [27:38<28:12, 11.06s/it]"
     ]
    },
    {
     "name": "stdout",
     "output_type": "stream",
     "text": [
      "Baseline Loss: 3.9611 | Actual Loss: 1.2033\n",
      "Epoch 147/300: Train Loss: 2.1299, Val Loss: 1.2033\n",
      "New best validation loss: 1.2033\n",
      "Baseline Loss: 5.3161 | Actual Loss: 2.1376\n"
     ]
    },
    {
     "name": "stderr",
     "output_type": "stream",
     "text": [
      "Training:  49%|████▉     | 148/300 [27:49<28:03, 11.07s/it]"
     ]
    },
    {
     "name": "stdout",
     "output_type": "stream",
     "text": [
      "Baseline Loss: 3.9611 | Actual Loss: 1.2098\n",
      "Epoch 148/300: Train Loss: 2.1376, Val Loss: 1.2098\n",
      "Baseline Loss: 5.3161 | Actual Loss: 2.1404\n"
     ]
    },
    {
     "name": "stderr",
     "output_type": "stream",
     "text": [
      "Training:  50%|████▉     | 149/300 [28:00<27:52, 11.08s/it]"
     ]
    },
    {
     "name": "stdout",
     "output_type": "stream",
     "text": [
      "Baseline Loss: 3.9611 | Actual Loss: 1.2621\n",
      "Epoch 149/300: Train Loss: 2.1404, Val Loss: 1.2621\n",
      "Baseline Loss: 5.3161 | Actual Loss: 2.1523\n"
     ]
    },
    {
     "name": "stderr",
     "output_type": "stream",
     "text": [
      "Training:  50%|█████     | 150/300 [28:11<27:39, 11.07s/it]"
     ]
    },
    {
     "name": "stdout",
     "output_type": "stream",
     "text": [
      "Baseline Loss: 3.9611 | Actual Loss: 1.2101\n",
      "Epoch 150/300: Train Loss: 2.1523, Val Loss: 1.2101\n",
      "Baseline Loss: 5.3161 | Actual Loss: 2.1150\n"
     ]
    },
    {
     "name": "stderr",
     "output_type": "stream",
     "text": [
      "Training:  50%|█████     | 151/300 [28:22<27:28, 11.07s/it]"
     ]
    },
    {
     "name": "stdout",
     "output_type": "stream",
     "text": [
      "Baseline Loss: 3.9611 | Actual Loss: 1.2639\n",
      "Epoch 151/300: Train Loss: 2.1150, Val Loss: 1.2639\n",
      "Baseline Loss: 5.3161 | Actual Loss: 2.1093\n"
     ]
    },
    {
     "name": "stderr",
     "output_type": "stream",
     "text": [
      "Training:  51%|█████     | 152/300 [28:33<26:51, 10.89s/it]"
     ]
    },
    {
     "name": "stdout",
     "output_type": "stream",
     "text": [
      "Baseline Loss: 3.9611 | Actual Loss: 1.2134\n",
      "Epoch 152/300: Train Loss: 2.1093, Val Loss: 1.2134\n",
      "Baseline Loss: 5.3161 | Actual Loss: 2.1319\n"
     ]
    },
    {
     "name": "stderr",
     "output_type": "stream",
     "text": [
      "Training:  51%|█████     | 153/300 [28:44<26:55, 10.99s/it]"
     ]
    },
    {
     "name": "stdout",
     "output_type": "stream",
     "text": [
      "Baseline Loss: 3.9611 | Actual Loss: 1.1791\n",
      "Epoch 153/300: Train Loss: 2.1319, Val Loss: 1.1791\n",
      "New best validation loss: 1.1791\n",
      "Baseline Loss: 5.3161 | Actual Loss: 2.0928\n"
     ]
    },
    {
     "name": "stderr",
     "output_type": "stream",
     "text": [
      "Training:  51%|█████▏    | 154/300 [28:55<26:22, 10.84s/it]"
     ]
    },
    {
     "name": "stdout",
     "output_type": "stream",
     "text": [
      "Baseline Loss: 3.9611 | Actual Loss: 1.1927\n",
      "Epoch 154/300: Train Loss: 2.0928, Val Loss: 1.1927\n",
      "Baseline Loss: 5.3161 | Actual Loss: 2.1022\n"
     ]
    },
    {
     "name": "stderr",
     "output_type": "stream",
     "text": [
      "Training:  52%|█████▏    | 155/300 [29:05<26:09, 10.82s/it]"
     ]
    },
    {
     "name": "stdout",
     "output_type": "stream",
     "text": [
      "Baseline Loss: 3.9611 | Actual Loss: 1.1424\n",
      "Epoch 155/300: Train Loss: 2.1022, Val Loss: 1.1424\n",
      "New best validation loss: 1.1424\n",
      "Baseline Loss: 5.3161 | Actual Loss: 2.0523\n"
     ]
    },
    {
     "name": "stderr",
     "output_type": "stream",
     "text": [
      "Training:  52%|█████▏    | 156/300 [29:16<26:12, 10.92s/it]"
     ]
    },
    {
     "name": "stdout",
     "output_type": "stream",
     "text": [
      "Baseline Loss: 3.9611 | Actual Loss: 1.1982\n",
      "Epoch 156/300: Train Loss: 2.0523, Val Loss: 1.1982\n",
      "Baseline Loss: 5.3161 | Actual Loss: 2.0897\n"
     ]
    },
    {
     "name": "stderr",
     "output_type": "stream",
     "text": [
      "Training:  52%|█████▏    | 157/300 [29:27<26:05, 10.95s/it]"
     ]
    },
    {
     "name": "stdout",
     "output_type": "stream",
     "text": [
      "Baseline Loss: 3.9611 | Actual Loss: 1.1553\n",
      "Epoch 157/300: Train Loss: 2.0897, Val Loss: 1.1553\n",
      "Baseline Loss: 5.3161 | Actual Loss: 2.0830\n"
     ]
    },
    {
     "name": "stderr",
     "output_type": "stream",
     "text": [
      "Training:  53%|█████▎    | 158/300 [29:43<29:28, 12.46s/it]"
     ]
    },
    {
     "name": "stdout",
     "output_type": "stream",
     "text": [
      "Baseline Loss: 3.9611 | Actual Loss: 1.2034\n",
      "Epoch 158/300: Train Loss: 2.0830, Val Loss: 1.2034\n",
      "Baseline Loss: 5.3161 | Actual Loss: 2.0864\n"
     ]
    },
    {
     "name": "stderr",
     "output_type": "stream",
     "text": [
      "Training:  53%|█████▎    | 159/300 [29:55<28:40, 12.20s/it]"
     ]
    },
    {
     "name": "stdout",
     "output_type": "stream",
     "text": [
      "Baseline Loss: 3.9611 | Actual Loss: 1.2027\n",
      "Epoch 159/300: Train Loss: 2.0864, Val Loss: 1.2027\n",
      "Baseline Loss: 5.3161 | Actual Loss: 2.0906\n"
     ]
    },
    {
     "name": "stderr",
     "output_type": "stream",
     "text": [
      "Training:  53%|█████▎    | 160/300 [30:06<27:42, 11.88s/it]"
     ]
    },
    {
     "name": "stdout",
     "output_type": "stream",
     "text": [
      "Baseline Loss: 3.9611 | Actual Loss: 1.1789\n",
      "Epoch 160/300: Train Loss: 2.0906, Val Loss: 1.1789\n",
      "Baseline Loss: 5.3161 | Actual Loss: 2.0851\n"
     ]
    },
    {
     "name": "stderr",
     "output_type": "stream",
     "text": [
      "Training:  54%|█████▎    | 161/300 [30:17<26:34, 11.47s/it]"
     ]
    },
    {
     "name": "stdout",
     "output_type": "stream",
     "text": [
      "Baseline Loss: 3.9611 | Actual Loss: 1.1928\n",
      "Epoch 161/300: Train Loss: 2.0851, Val Loss: 1.1928\n",
      "Baseline Loss: 5.3161 | Actual Loss: 2.0420\n"
     ]
    },
    {
     "name": "stderr",
     "output_type": "stream",
     "text": [
      "Training:  54%|█████▍    | 162/300 [30:28<26:22, 11.46s/it]"
     ]
    },
    {
     "name": "stdout",
     "output_type": "stream",
     "text": [
      "Baseline Loss: 3.9611 | Actual Loss: 1.1916\n",
      "Epoch 162/300: Train Loss: 2.0420, Val Loss: 1.1916\n",
      "Baseline Loss: 5.3161 | Actual Loss: 2.0672\n"
     ]
    },
    {
     "name": "stderr",
     "output_type": "stream",
     "text": [
      "Training:  54%|█████▍    | 163/300 [30:39<25:41, 11.25s/it]"
     ]
    },
    {
     "name": "stdout",
     "output_type": "stream",
     "text": [
      "Baseline Loss: 3.9611 | Actual Loss: 1.1815\n",
      "Epoch 163/300: Train Loss: 2.0672, Val Loss: 1.1815\n",
      "Baseline Loss: 5.3161 | Actual Loss: 2.0383\n"
     ]
    },
    {
     "name": "stderr",
     "output_type": "stream",
     "text": [
      "Training:  55%|█████▍    | 164/300 [30:50<25:11, 11.11s/it]"
     ]
    },
    {
     "name": "stdout",
     "output_type": "stream",
     "text": [
      "Baseline Loss: 3.9611 | Actual Loss: 1.1517\n",
      "Epoch 164/300: Train Loss: 2.0383, Val Loss: 1.1517\n",
      "Baseline Loss: 5.3161 | Actual Loss: 2.0751\n"
     ]
    },
    {
     "name": "stderr",
     "output_type": "stream",
     "text": [
      "Training:  55%|█████▌    | 165/300 [31:01<24:47, 11.02s/it]"
     ]
    },
    {
     "name": "stdout",
     "output_type": "stream",
     "text": [
      "Baseline Loss: 3.9611 | Actual Loss: 1.1154\n",
      "Epoch 165/300: Train Loss: 2.0751, Val Loss: 1.1154\n",
      "New best validation loss: 1.1154\n",
      "Baseline Loss: 5.3161 | Actual Loss: 2.0346\n"
     ]
    },
    {
     "name": "stderr",
     "output_type": "stream",
     "text": [
      "Training:  55%|█████▌    | 166/300 [31:11<24:27, 10.95s/it]"
     ]
    },
    {
     "name": "stdout",
     "output_type": "stream",
     "text": [
      "Baseline Loss: 3.9611 | Actual Loss: 1.1083\n",
      "Epoch 166/300: Train Loss: 2.0346, Val Loss: 1.1083\n",
      "New best validation loss: 1.1083\n",
      "Baseline Loss: 5.3161 | Actual Loss: 2.0475\n"
     ]
    },
    {
     "name": "stderr",
     "output_type": "stream",
     "text": [
      "Training:  56%|█████▌    | 167/300 [31:23<24:34, 11.09s/it]"
     ]
    },
    {
     "name": "stdout",
     "output_type": "stream",
     "text": [
      "Baseline Loss: 3.9611 | Actual Loss: 1.1206\n",
      "Epoch 167/300: Train Loss: 2.0475, Val Loss: 1.1206\n",
      "Baseline Loss: 5.3161 | Actual Loss: 2.0387\n"
     ]
    },
    {
     "name": "stderr",
     "output_type": "stream",
     "text": [
      "Training:  56%|█████▌    | 168/300 [31:33<24:08, 10.97s/it]"
     ]
    },
    {
     "name": "stdout",
     "output_type": "stream",
     "text": [
      "Baseline Loss: 3.9611 | Actual Loss: 1.1538\n",
      "Epoch 168/300: Train Loss: 2.0387, Val Loss: 1.1538\n",
      "Baseline Loss: 5.3161 | Actual Loss: 2.0289\n"
     ]
    },
    {
     "name": "stderr",
     "output_type": "stream",
     "text": [
      "Training:  56%|█████▋    | 169/300 [31:44<23:54, 10.95s/it]"
     ]
    },
    {
     "name": "stdout",
     "output_type": "stream",
     "text": [
      "Baseline Loss: 3.9611 | Actual Loss: 1.1227\n",
      "Epoch 169/300: Train Loss: 2.0289, Val Loss: 1.1227\n",
      "Baseline Loss: 5.3161 | Actual Loss: 2.0145\n"
     ]
    },
    {
     "name": "stderr",
     "output_type": "stream",
     "text": [
      "Training:  57%|█████▋    | 170/300 [31:56<24:01, 11.09s/it]"
     ]
    },
    {
     "name": "stdout",
     "output_type": "stream",
     "text": [
      "Baseline Loss: 3.9611 | Actual Loss: 1.1632\n",
      "Epoch 170/300: Train Loss: 2.0145, Val Loss: 1.1632\n",
      "Baseline Loss: 5.3161 | Actual Loss: 2.0422\n"
     ]
    },
    {
     "name": "stderr",
     "output_type": "stream",
     "text": [
      "Training:  57%|█████▋    | 171/300 [32:07<23:48, 11.08s/it]"
     ]
    },
    {
     "name": "stdout",
     "output_type": "stream",
     "text": [
      "Baseline Loss: 3.9611 | Actual Loss: 1.2267\n",
      "Epoch 171/300: Train Loss: 2.0422, Val Loss: 1.2267\n",
      "Baseline Loss: 5.3161 | Actual Loss: 2.0000\n"
     ]
    },
    {
     "name": "stderr",
     "output_type": "stream",
     "text": [
      "Training:  57%|█████▋    | 172/300 [32:17<23:21, 10.95s/it]"
     ]
    },
    {
     "name": "stdout",
     "output_type": "stream",
     "text": [
      "Baseline Loss: 3.9611 | Actual Loss: 1.1247\n",
      "Epoch 172/300: Train Loss: 2.0000, Val Loss: 1.1247\n",
      "Baseline Loss: 5.3161 | Actual Loss: 1.9856\n"
     ]
    },
    {
     "name": "stderr",
     "output_type": "stream",
     "text": [
      "Training:  58%|█████▊    | 173/300 [32:28<23:06, 10.92s/it]"
     ]
    },
    {
     "name": "stdout",
     "output_type": "stream",
     "text": [
      "Baseline Loss: 3.9611 | Actual Loss: 1.1216\n",
      "Epoch 173/300: Train Loss: 1.9856, Val Loss: 1.1216\n",
      "Baseline Loss: 5.3161 | Actual Loss: 2.0172\n"
     ]
    },
    {
     "name": "stderr",
     "output_type": "stream",
     "text": [
      "Training:  58%|█████▊    | 174/300 [32:39<22:56, 10.92s/it]"
     ]
    },
    {
     "name": "stdout",
     "output_type": "stream",
     "text": [
      "Baseline Loss: 3.9611 | Actual Loss: 1.1102\n",
      "Epoch 174/300: Train Loss: 2.0172, Val Loss: 1.1102\n",
      "Baseline Loss: 5.3161 | Actual Loss: 1.9784\n"
     ]
    },
    {
     "name": "stderr",
     "output_type": "stream",
     "text": [
      "Training:  58%|█████▊    | 175/300 [32:51<23:07, 11.10s/it]"
     ]
    },
    {
     "name": "stdout",
     "output_type": "stream",
     "text": [
      "Baseline Loss: 3.9611 | Actual Loss: 1.0979\n",
      "Epoch 175/300: Train Loss: 1.9784, Val Loss: 1.0979\n",
      "New best validation loss: 1.0979\n",
      "Baseline Loss: 5.3161 | Actual Loss: 2.0028\n"
     ]
    },
    {
     "name": "stderr",
     "output_type": "stream",
     "text": [
      "Training:  59%|█████▊    | 176/300 [33:01<22:43, 10.99s/it]"
     ]
    },
    {
     "name": "stdout",
     "output_type": "stream",
     "text": [
      "Baseline Loss: 3.9611 | Actual Loss: 1.1380\n",
      "Epoch 176/300: Train Loss: 2.0028, Val Loss: 1.1380\n",
      "Baseline Loss: 5.3161 | Actual Loss: 2.0097\n"
     ]
    },
    {
     "name": "stderr",
     "output_type": "stream",
     "text": [
      "Training:  59%|█████▉    | 177/300 [33:12<22:33, 11.00s/it]"
     ]
    },
    {
     "name": "stdout",
     "output_type": "stream",
     "text": [
      "Baseline Loss: 3.9611 | Actual Loss: 1.1329\n",
      "Epoch 177/300: Train Loss: 2.0097, Val Loss: 1.1329\n",
      "Baseline Loss: 5.3161 | Actual Loss: 1.9834\n"
     ]
    },
    {
     "name": "stderr",
     "output_type": "stream",
     "text": [
      "Training:  59%|█████▉    | 178/300 [33:28<25:16, 12.43s/it]"
     ]
    },
    {
     "name": "stdout",
     "output_type": "stream",
     "text": [
      "Baseline Loss: 3.9611 | Actual Loss: 1.1367\n",
      "Epoch 178/300: Train Loss: 1.9834, Val Loss: 1.1367\n",
      "Baseline Loss: 5.3161 | Actual Loss: 1.9794\n"
     ]
    },
    {
     "name": "stderr",
     "output_type": "stream",
     "text": [
      "Training:  60%|█████▉    | 179/300 [33:40<24:50, 12.32s/it]"
     ]
    },
    {
     "name": "stdout",
     "output_type": "stream",
     "text": [
      "Baseline Loss: 3.9611 | Actual Loss: 1.0808\n",
      "Epoch 179/300: Train Loss: 1.9794, Val Loss: 1.0808\n",
      "New best validation loss: 1.0808\n",
      "Baseline Loss: 5.3161 | Actual Loss: 1.9853\n"
     ]
    },
    {
     "name": "stderr",
     "output_type": "stream",
     "text": [
      "Training:  60%|██████    | 180/300 [33:51<23:34, 11.79s/it]"
     ]
    },
    {
     "name": "stdout",
     "output_type": "stream",
     "text": [
      "Baseline Loss: 3.9611 | Actual Loss: 1.1646\n",
      "Epoch 180/300: Train Loss: 1.9853, Val Loss: 1.1646\n",
      "Baseline Loss: 5.3161 | Actual Loss: 1.9652\n"
     ]
    },
    {
     "name": "stderr",
     "output_type": "stream",
     "text": [
      "Training:  60%|██████    | 181/300 [33:59<20:55, 10.55s/it]"
     ]
    },
    {
     "name": "stdout",
     "output_type": "stream",
     "text": [
      "Baseline Loss: 3.9611 | Actual Loss: 1.1003\n",
      "Epoch 181/300: Train Loss: 1.9652, Val Loss: 1.1003\n",
      "Baseline Loss: 5.3161 | Actual Loss: 1.9524\n"
     ]
    },
    {
     "name": "stderr",
     "output_type": "stream",
     "text": [
      "Training:  61%|██████    | 182/300 [34:02<16:35,  8.43s/it]"
     ]
    },
    {
     "name": "stdout",
     "output_type": "stream",
     "text": [
      "Baseline Loss: 3.9611 | Actual Loss: 1.0848\n",
      "Epoch 182/300: Train Loss: 1.9524, Val Loss: 1.0848\n",
      "Baseline Loss: 5.3161 | Actual Loss: 1.9336\n"
     ]
    },
    {
     "name": "stderr",
     "output_type": "stream",
     "text": [
      "Training:  61%|██████    | 183/300 [34:05<13:32,  6.94s/it]"
     ]
    },
    {
     "name": "stdout",
     "output_type": "stream",
     "text": [
      "Baseline Loss: 3.9611 | Actual Loss: 1.1410\n",
      "Epoch 183/300: Train Loss: 1.9336, Val Loss: 1.1410\n",
      "Baseline Loss: 5.3161 | Actual Loss: 1.9452\n"
     ]
    },
    {
     "name": "stderr",
     "output_type": "stream",
     "text": [
      "Training:  61%|██████▏   | 184/300 [34:09<11:15,  5.82s/it]"
     ]
    },
    {
     "name": "stdout",
     "output_type": "stream",
     "text": [
      "Baseline Loss: 3.9611 | Actual Loss: 1.0963\n",
      "Epoch 184/300: Train Loss: 1.9452, Val Loss: 1.0963\n",
      "Baseline Loss: 5.3161 | Actual Loss: 1.9595\n"
     ]
    },
    {
     "name": "stderr",
     "output_type": "stream",
     "text": [
      "Training:  62%|██████▏   | 185/300 [34:12<09:32,  4.98s/it]"
     ]
    },
    {
     "name": "stdout",
     "output_type": "stream",
     "text": [
      "Baseline Loss: 3.9611 | Actual Loss: 1.0713\n",
      "Epoch 185/300: Train Loss: 1.9595, Val Loss: 1.0713\n",
      "New best validation loss: 1.0713\n",
      "Baseline Loss: 5.3161 | Actual Loss: 1.9591\n"
     ]
    },
    {
     "name": "stderr",
     "output_type": "stream",
     "text": [
      "Training:  62%|██████▏   | 186/300 [34:15<08:34,  4.51s/it]"
     ]
    },
    {
     "name": "stdout",
     "output_type": "stream",
     "text": [
      "Baseline Loss: 3.9611 | Actual Loss: 1.1252\n",
      "Epoch 186/300: Train Loss: 1.9591, Val Loss: 1.1252\n",
      "Baseline Loss: 5.3161 | Actual Loss: 1.9349\n"
     ]
    },
    {
     "name": "stderr",
     "output_type": "stream",
     "text": [
      "Training:  62%|██████▏   | 187/300 [34:18<07:47,  4.14s/it]"
     ]
    },
    {
     "name": "stdout",
     "output_type": "stream",
     "text": [
      "Baseline Loss: 3.9611 | Actual Loss: 1.0841\n",
      "Epoch 187/300: Train Loss: 1.9349, Val Loss: 1.0841\n",
      "Baseline Loss: 5.3161 | Actual Loss: 1.9263\n"
     ]
    },
    {
     "name": "stderr",
     "output_type": "stream",
     "text": [
      "Training:  63%|██████▎   | 188/300 [34:22<07:15,  3.89s/it]"
     ]
    },
    {
     "name": "stdout",
     "output_type": "stream",
     "text": [
      "Baseline Loss: 3.9611 | Actual Loss: 1.1069\n",
      "Epoch 188/300: Train Loss: 1.9263, Val Loss: 1.1069\n",
      "Baseline Loss: 5.3161 | Actual Loss: 1.9294\n"
     ]
    },
    {
     "name": "stderr",
     "output_type": "stream",
     "text": [
      "Training:  63%|██████▎   | 189/300 [34:25<06:48,  3.68s/it]"
     ]
    },
    {
     "name": "stdout",
     "output_type": "stream",
     "text": [
      "Baseline Loss: 3.9611 | Actual Loss: 1.0829\n",
      "Epoch 189/300: Train Loss: 1.9294, Val Loss: 1.0829\n",
      "Baseline Loss: 5.3161 | Actual Loss: 1.9348\n"
     ]
    },
    {
     "name": "stderr",
     "output_type": "stream",
     "text": [
      "Training:  63%|██████▎   | 190/300 [34:28<06:27,  3.52s/it]"
     ]
    },
    {
     "name": "stdout",
     "output_type": "stream",
     "text": [
      "Baseline Loss: 3.9611 | Actual Loss: 1.0648\n",
      "Epoch 190/300: Train Loss: 1.9348, Val Loss: 1.0648\n",
      "New best validation loss: 1.0648\n",
      "Baseline Loss: 5.3161 | Actual Loss: 1.9398\n"
     ]
    },
    {
     "name": "stderr",
     "output_type": "stream",
     "text": [
      "Training:  64%|██████▎   | 191/300 [34:31<06:21,  3.50s/it]"
     ]
    },
    {
     "name": "stdout",
     "output_type": "stream",
     "text": [
      "Baseline Loss: 3.9611 | Actual Loss: 1.0926\n",
      "Epoch 191/300: Train Loss: 1.9398, Val Loss: 1.0926\n",
      "Baseline Loss: 5.3161 | Actual Loss: 1.9517\n"
     ]
    },
    {
     "name": "stderr",
     "output_type": "stream",
     "text": [
      "Training:  64%|██████▍   | 192/300 [34:34<05:58,  3.32s/it]"
     ]
    },
    {
     "name": "stdout",
     "output_type": "stream",
     "text": [
      "Baseline Loss: 3.9611 | Actual Loss: 1.0189\n",
      "Epoch 192/300: Train Loss: 1.9517, Val Loss: 1.0189\n",
      "New best validation loss: 1.0189\n",
      "Baseline Loss: 5.3161 | Actual Loss: 1.9421\n"
     ]
    },
    {
     "name": "stderr",
     "output_type": "stream",
     "text": [
      "Training:  64%|██████▍   | 193/300 [34:38<06:01,  3.37s/it]"
     ]
    },
    {
     "name": "stdout",
     "output_type": "stream",
     "text": [
      "Baseline Loss: 3.9611 | Actual Loss: 1.1152\n",
      "Epoch 193/300: Train Loss: 1.9421, Val Loss: 1.1152\n",
      "Baseline Loss: 5.3161 | Actual Loss: 1.9248\n"
     ]
    },
    {
     "name": "stderr",
     "output_type": "stream",
     "text": [
      "Training:  65%|██████▍   | 194/300 [34:41<05:56,  3.37s/it]"
     ]
    },
    {
     "name": "stdout",
     "output_type": "stream",
     "text": [
      "Baseline Loss: 3.9611 | Actual Loss: 1.0499\n",
      "Epoch 194/300: Train Loss: 1.9248, Val Loss: 1.0499\n",
      "Baseline Loss: 5.3161 | Actual Loss: 1.9083\n"
     ]
    },
    {
     "name": "stderr",
     "output_type": "stream",
     "text": [
      "Training:  65%|██████▌   | 195/300 [34:44<05:49,  3.33s/it]"
     ]
    },
    {
     "name": "stdout",
     "output_type": "stream",
     "text": [
      "Baseline Loss: 3.9611 | Actual Loss: 1.0612\n",
      "Epoch 195/300: Train Loss: 1.9083, Val Loss: 1.0612\n",
      "Baseline Loss: 5.3161 | Actual Loss: 1.9199\n"
     ]
    },
    {
     "name": "stderr",
     "output_type": "stream",
     "text": [
      "Training:  65%|██████▌   | 196/300 [34:48<05:37,  3.25s/it]"
     ]
    },
    {
     "name": "stdout",
     "output_type": "stream",
     "text": [
      "Baseline Loss: 3.9611 | Actual Loss: 1.1194\n",
      "Epoch 196/300: Train Loss: 1.9199, Val Loss: 1.1194\n",
      "Baseline Loss: 5.3161 | Actual Loss: 1.8648\n"
     ]
    },
    {
     "name": "stderr",
     "output_type": "stream",
     "text": [
      "Training:  66%|██████▌   | 197/300 [34:51<05:36,  3.27s/it]"
     ]
    },
    {
     "name": "stdout",
     "output_type": "stream",
     "text": [
      "Baseline Loss: 3.9611 | Actual Loss: 1.0796\n",
      "Epoch 197/300: Train Loss: 1.8648, Val Loss: 1.0796\n",
      "Baseline Loss: 5.3161 | Actual Loss: 1.9343\n"
     ]
    },
    {
     "name": "stderr",
     "output_type": "stream",
     "text": [
      "Training:  66%|██████▌   | 198/300 [34:54<05:30,  3.24s/it]"
     ]
    },
    {
     "name": "stdout",
     "output_type": "stream",
     "text": [
      "Baseline Loss: 3.9611 | Actual Loss: 1.1155\n",
      "Epoch 198/300: Train Loss: 1.9343, Val Loss: 1.1155\n",
      "Baseline Loss: 5.3161 | Actual Loss: 1.9010\n"
     ]
    },
    {
     "name": "stderr",
     "output_type": "stream",
     "text": [
      "Training:  66%|██████▋   | 199/300 [34:57<05:22,  3.19s/it]"
     ]
    },
    {
     "name": "stdout",
     "output_type": "stream",
     "text": [
      "Baseline Loss: 3.9611 | Actual Loss: 1.0985\n",
      "Epoch 199/300: Train Loss: 1.9010, Val Loss: 1.0985\n",
      "Baseline Loss: 5.3161 | Actual Loss: 1.8897\n"
     ]
    },
    {
     "name": "stderr",
     "output_type": "stream",
     "text": [
      "Training:  67%|██████▋   | 200/300 [35:00<05:24,  3.24s/it]"
     ]
    },
    {
     "name": "stdout",
     "output_type": "stream",
     "text": [
      "Baseline Loss: 3.9611 | Actual Loss: 1.0714\n",
      "Epoch 200/300: Train Loss: 1.8897, Val Loss: 1.0714\n",
      "Baseline Loss: 5.3161 | Actual Loss: 1.9031\n"
     ]
    },
    {
     "name": "stderr",
     "output_type": "stream",
     "text": [
      "Training:  67%|██████▋   | 201/300 [35:04<05:19,  3.22s/it]"
     ]
    },
    {
     "name": "stdout",
     "output_type": "stream",
     "text": [
      "Baseline Loss: 3.9611 | Actual Loss: 1.1063\n",
      "Epoch 201/300: Train Loss: 1.9031, Val Loss: 1.1063\n",
      "Baseline Loss: 5.3161 | Actual Loss: 1.8933\n"
     ]
    },
    {
     "name": "stderr",
     "output_type": "stream",
     "text": [
      "Training:  67%|██████▋   | 202/300 [35:07<05:25,  3.32s/it]"
     ]
    },
    {
     "name": "stdout",
     "output_type": "stream",
     "text": [
      "Baseline Loss: 3.9611 | Actual Loss: 1.0308\n",
      "Epoch 202/300: Train Loss: 1.8933, Val Loss: 1.0308\n",
      "Baseline Loss: 5.3161 | Actual Loss: 1.9326\n"
     ]
    },
    {
     "name": "stderr",
     "output_type": "stream",
     "text": [
      "Training:  68%|██████▊   | 203/300 [35:10<05:13,  3.23s/it]"
     ]
    },
    {
     "name": "stdout",
     "output_type": "stream",
     "text": [
      "Baseline Loss: 3.9611 | Actual Loss: 1.0934\n",
      "Epoch 203/300: Train Loss: 1.9326, Val Loss: 1.0934\n",
      "Baseline Loss: 5.3161 | Actual Loss: 1.8983\n"
     ]
    },
    {
     "name": "stderr",
     "output_type": "stream",
     "text": [
      "Training:  68%|██████▊   | 204/300 [35:14<05:13,  3.26s/it]"
     ]
    },
    {
     "name": "stdout",
     "output_type": "stream",
     "text": [
      "Baseline Loss: 3.9611 | Actual Loss: 1.0304\n",
      "Epoch 204/300: Train Loss: 1.8983, Val Loss: 1.0304\n",
      "Baseline Loss: 5.3161 | Actual Loss: 1.8891\n"
     ]
    },
    {
     "name": "stderr",
     "output_type": "stream",
     "text": [
      "Training:  68%|██████▊   | 205/300 [35:17<05:11,  3.28s/it]"
     ]
    },
    {
     "name": "stdout",
     "output_type": "stream",
     "text": [
      "Baseline Loss: 3.9611 | Actual Loss: 0.9959\n",
      "Epoch 205/300: Train Loss: 1.8891, Val Loss: 0.9959\n",
      "New best validation loss: 0.9959\n",
      "Baseline Loss: 5.3161 | Actual Loss: 1.9130\n"
     ]
    },
    {
     "name": "stderr",
     "output_type": "stream",
     "text": [
      "Training:  69%|██████▊   | 206/300 [35:20<05:06,  3.26s/it]"
     ]
    },
    {
     "name": "stdout",
     "output_type": "stream",
     "text": [
      "Baseline Loss: 3.9611 | Actual Loss: 1.0527\n",
      "Epoch 206/300: Train Loss: 1.9130, Val Loss: 1.0527\n",
      "Baseline Loss: 5.3161 | Actual Loss: 1.8785\n"
     ]
    },
    {
     "name": "stderr",
     "output_type": "stream",
     "text": [
      "Training:  69%|██████▉   | 207/300 [35:23<05:01,  3.24s/it]"
     ]
    },
    {
     "name": "stdout",
     "output_type": "stream",
     "text": [
      "Baseline Loss: 3.9611 | Actual Loss: 1.0285\n",
      "Epoch 207/300: Train Loss: 1.8785, Val Loss: 1.0285\n",
      "Baseline Loss: 5.3161 | Actual Loss: 1.8860\n"
     ]
    },
    {
     "name": "stderr",
     "output_type": "stream",
     "text": [
      "Training:  69%|██████▉   | 208/300 [35:27<05:03,  3.29s/it]"
     ]
    },
    {
     "name": "stdout",
     "output_type": "stream",
     "text": [
      "Baseline Loss: 3.9611 | Actual Loss: 1.0590\n",
      "Epoch 208/300: Train Loss: 1.8860, Val Loss: 1.0590\n",
      "Baseline Loss: 5.3161 | Actual Loss: 1.8746\n"
     ]
    },
    {
     "name": "stderr",
     "output_type": "stream",
     "text": [
      "Training:  70%|██████▉   | 209/300 [35:30<04:48,  3.17s/it]"
     ]
    },
    {
     "name": "stdout",
     "output_type": "stream",
     "text": [
      "Baseline Loss: 3.9611 | Actual Loss: 1.0636\n",
      "Epoch 209/300: Train Loss: 1.8746, Val Loss: 1.0636\n",
      "Baseline Loss: 5.3161 | Actual Loss: 1.8776\n"
     ]
    },
    {
     "name": "stderr",
     "output_type": "stream",
     "text": [
      "Training:  70%|███████   | 210/300 [35:33<04:53,  3.27s/it]"
     ]
    },
    {
     "name": "stdout",
     "output_type": "stream",
     "text": [
      "Baseline Loss: 3.9611 | Actual Loss: 1.0432\n",
      "Epoch 210/300: Train Loss: 1.8776, Val Loss: 1.0432\n",
      "Baseline Loss: 5.3161 | Actual Loss: 1.8954\n"
     ]
    },
    {
     "name": "stderr",
     "output_type": "stream",
     "text": [
      "Training:  70%|███████   | 211/300 [35:36<04:52,  3.29s/it]"
     ]
    },
    {
     "name": "stdout",
     "output_type": "stream",
     "text": [
      "Baseline Loss: 3.9611 | Actual Loss: 1.0157\n",
      "Epoch 211/300: Train Loss: 1.8954, Val Loss: 1.0157\n",
      "Baseline Loss: 5.3161 | Actual Loss: 1.8317\n"
     ]
    },
    {
     "name": "stderr",
     "output_type": "stream",
     "text": [
      "Training:  71%|███████   | 212/300 [35:40<04:48,  3.28s/it]"
     ]
    },
    {
     "name": "stdout",
     "output_type": "stream",
     "text": [
      "Baseline Loss: 3.9611 | Actual Loss: 1.0304\n",
      "Epoch 212/300: Train Loss: 1.8317, Val Loss: 1.0304\n",
      "Baseline Loss: 5.3161 | Actual Loss: 1.8545\n"
     ]
    },
    {
     "name": "stderr",
     "output_type": "stream",
     "text": [
      "Training:  71%|███████   | 213/300 [35:43<04:37,  3.19s/it]"
     ]
    },
    {
     "name": "stdout",
     "output_type": "stream",
     "text": [
      "Baseline Loss: 3.9611 | Actual Loss: 1.0039\n",
      "Epoch 213/300: Train Loss: 1.8545, Val Loss: 1.0039\n",
      "Baseline Loss: 5.3161 | Actual Loss: 1.8758\n"
     ]
    },
    {
     "name": "stderr",
     "output_type": "stream",
     "text": [
      "Training:  71%|███████▏  | 214/300 [35:46<04:40,  3.26s/it]"
     ]
    },
    {
     "name": "stdout",
     "output_type": "stream",
     "text": [
      "Baseline Loss: 3.9611 | Actual Loss: 1.0648\n",
      "Epoch 214/300: Train Loss: 1.8758, Val Loss: 1.0648\n",
      "Baseline Loss: 5.3161 | Actual Loss: 1.8498\n"
     ]
    },
    {
     "name": "stderr",
     "output_type": "stream",
     "text": [
      "Training:  72%|███████▏  | 215/300 [35:49<04:35,  3.24s/it]"
     ]
    },
    {
     "name": "stdout",
     "output_type": "stream",
     "text": [
      "Baseline Loss: 3.9611 | Actual Loss: 1.0103\n",
      "Epoch 215/300: Train Loss: 1.8498, Val Loss: 1.0103\n",
      "Baseline Loss: 5.3161 | Actual Loss: 1.8389\n"
     ]
    },
    {
     "name": "stderr",
     "output_type": "stream",
     "text": [
      "Training:  72%|███████▏  | 216/300 [35:52<04:27,  3.19s/it]"
     ]
    },
    {
     "name": "stdout",
     "output_type": "stream",
     "text": [
      "Baseline Loss: 3.9611 | Actual Loss: 1.0080\n",
      "Epoch 216/300: Train Loss: 1.8389, Val Loss: 1.0080\n",
      "Baseline Loss: 5.3161 | Actual Loss: 1.8507\n"
     ]
    },
    {
     "name": "stderr",
     "output_type": "stream",
     "text": [
      "Training:  72%|███████▏  | 217/300 [35:56<04:28,  3.23s/it]"
     ]
    },
    {
     "name": "stdout",
     "output_type": "stream",
     "text": [
      "Baseline Loss: 3.9611 | Actual Loss: 0.9810\n",
      "Epoch 217/300: Train Loss: 1.8507, Val Loss: 0.9810\n",
      "New best validation loss: 0.9810\n",
      "Baseline Loss: 5.3161 | Actual Loss: 1.8405\n"
     ]
    },
    {
     "name": "stderr",
     "output_type": "stream",
     "text": [
      "Training:  73%|███████▎  | 218/300 [35:59<04:23,  3.21s/it]"
     ]
    },
    {
     "name": "stdout",
     "output_type": "stream",
     "text": [
      "Baseline Loss: 3.9611 | Actual Loss: 1.0141\n",
      "Epoch 218/300: Train Loss: 1.8405, Val Loss: 1.0141\n",
      "Baseline Loss: 5.3161 | Actual Loss: 1.8106\n"
     ]
    },
    {
     "name": "stderr",
     "output_type": "stream",
     "text": [
      "Training:  73%|███████▎  | 219/300 [36:02<04:28,  3.31s/it]"
     ]
    },
    {
     "name": "stdout",
     "output_type": "stream",
     "text": [
      "Baseline Loss: 3.9611 | Actual Loss: 1.0425\n",
      "Epoch 219/300: Train Loss: 1.8106, Val Loss: 1.0425\n",
      "Baseline Loss: 5.3161 | Actual Loss: 1.8326\n"
     ]
    },
    {
     "name": "stderr",
     "output_type": "stream",
     "text": [
      "Training:  73%|███████▎  | 220/300 [36:05<04:19,  3.24s/it]"
     ]
    },
    {
     "name": "stdout",
     "output_type": "stream",
     "text": [
      "Baseline Loss: 3.9611 | Actual Loss: 1.0106\n",
      "Epoch 220/300: Train Loss: 1.8326, Val Loss: 1.0106\n",
      "Baseline Loss: 5.3161 | Actual Loss: 1.8139\n"
     ]
    },
    {
     "name": "stderr",
     "output_type": "stream",
     "text": [
      "Training:  74%|███████▎  | 221/300 [36:09<04:19,  3.29s/it]"
     ]
    },
    {
     "name": "stdout",
     "output_type": "stream",
     "text": [
      "Baseline Loss: 3.9611 | Actual Loss: 1.1120\n",
      "Epoch 221/300: Train Loss: 1.8139, Val Loss: 1.1120\n",
      "Baseline Loss: 5.3161 | Actual Loss: 1.8074\n"
     ]
    },
    {
     "name": "stderr",
     "output_type": "stream",
     "text": [
      "Training:  74%|███████▍  | 222/300 [36:12<04:19,  3.33s/it]"
     ]
    },
    {
     "name": "stdout",
     "output_type": "stream",
     "text": [
      "Baseline Loss: 3.9611 | Actual Loss: 1.0513\n",
      "Epoch 222/300: Train Loss: 1.8074, Val Loss: 1.0513\n",
      "Baseline Loss: 5.3161 | Actual Loss: 1.8328\n"
     ]
    },
    {
     "name": "stderr",
     "output_type": "stream",
     "text": [
      "Training:  74%|███████▍  | 223/300 [36:15<04:13,  3.29s/it]"
     ]
    },
    {
     "name": "stdout",
     "output_type": "stream",
     "text": [
      "Baseline Loss: 3.9611 | Actual Loss: 0.9617\n",
      "Epoch 223/300: Train Loss: 1.8328, Val Loss: 0.9617\n",
      "New best validation loss: 0.9617\n",
      "Baseline Loss: 5.3161 | Actual Loss: 1.8432\n"
     ]
    },
    {
     "name": "stderr",
     "output_type": "stream",
     "text": [
      "Training:  75%|███████▍  | 224/300 [36:19<04:07,  3.26s/it]"
     ]
    },
    {
     "name": "stdout",
     "output_type": "stream",
     "text": [
      "Baseline Loss: 3.9611 | Actual Loss: 1.0347\n",
      "Epoch 224/300: Train Loss: 1.8432, Val Loss: 1.0347\n",
      "Baseline Loss: 5.3161 | Actual Loss: 1.8360\n"
     ]
    },
    {
     "name": "stderr",
     "output_type": "stream",
     "text": [
      "Training:  75%|███████▌  | 225/300 [36:22<04:09,  3.33s/it]"
     ]
    },
    {
     "name": "stdout",
     "output_type": "stream",
     "text": [
      "Baseline Loss: 3.9611 | Actual Loss: 1.0251\n",
      "Epoch 225/300: Train Loss: 1.8360, Val Loss: 1.0251\n",
      "Baseline Loss: 5.3161 | Actual Loss: 1.8010\n"
     ]
    },
    {
     "name": "stderr",
     "output_type": "stream",
     "text": [
      "Training:  75%|███████▌  | 226/300 [36:25<03:57,  3.20s/it]"
     ]
    },
    {
     "name": "stdout",
     "output_type": "stream",
     "text": [
      "Baseline Loss: 3.9611 | Actual Loss: 0.9913\n",
      "Epoch 226/300: Train Loss: 1.8010, Val Loss: 0.9913\n",
      "Baseline Loss: 5.3161 | Actual Loss: 1.7875\n"
     ]
    },
    {
     "name": "stderr",
     "output_type": "stream",
     "text": [
      "Training:  76%|███████▌  | 227/300 [36:28<03:57,  3.26s/it]"
     ]
    },
    {
     "name": "stdout",
     "output_type": "stream",
     "text": [
      "Baseline Loss: 3.9611 | Actual Loss: 1.0150\n",
      "Epoch 227/300: Train Loss: 1.7875, Val Loss: 1.0150\n",
      "Baseline Loss: 5.3161 | Actual Loss: 1.7742\n"
     ]
    },
    {
     "name": "stderr",
     "output_type": "stream",
     "text": [
      "Training:  76%|███████▌  | 228/300 [36:32<03:53,  3.24s/it]"
     ]
    },
    {
     "name": "stdout",
     "output_type": "stream",
     "text": [
      "Baseline Loss: 3.9611 | Actual Loss: 1.0400\n",
      "Epoch 228/300: Train Loss: 1.7742, Val Loss: 1.0400\n",
      "Baseline Loss: 5.3161 | Actual Loss: 1.7908\n"
     ]
    },
    {
     "name": "stderr",
     "output_type": "stream",
     "text": [
      "Training:  76%|███████▋  | 229/300 [36:35<03:49,  3.23s/it]"
     ]
    },
    {
     "name": "stdout",
     "output_type": "stream",
     "text": [
      "Baseline Loss: 3.9611 | Actual Loss: 0.9718\n",
      "Epoch 229/300: Train Loss: 1.7908, Val Loss: 0.9718\n",
      "Baseline Loss: 5.3161 | Actual Loss: 1.7742\n"
     ]
    },
    {
     "name": "stderr",
     "output_type": "stream",
     "text": [
      "Training:  77%|███████▋  | 230/300 [36:38<03:41,  3.16s/it]"
     ]
    },
    {
     "name": "stdout",
     "output_type": "stream",
     "text": [
      "Baseline Loss: 3.9611 | Actual Loss: 0.9816\n",
      "Epoch 230/300: Train Loss: 1.7742, Val Loss: 0.9816\n",
      "Baseline Loss: 5.3161 | Actual Loss: 1.7839\n"
     ]
    },
    {
     "name": "stderr",
     "output_type": "stream",
     "text": [
      "Training:  77%|███████▋  | 231/300 [36:41<03:41,  3.21s/it]"
     ]
    },
    {
     "name": "stdout",
     "output_type": "stream",
     "text": [
      "Baseline Loss: 3.9611 | Actual Loss: 1.0326\n",
      "Epoch 231/300: Train Loss: 1.7839, Val Loss: 1.0326\n",
      "Baseline Loss: 5.3161 | Actual Loss: 1.7863\n"
     ]
    },
    {
     "name": "stderr",
     "output_type": "stream",
     "text": [
      "Training:  77%|███████▋  | 232/300 [36:44<03:37,  3.20s/it]"
     ]
    },
    {
     "name": "stdout",
     "output_type": "stream",
     "text": [
      "Baseline Loss: 3.9611 | Actual Loss: 1.0188\n",
      "Epoch 232/300: Train Loss: 1.7863, Val Loss: 1.0188\n",
      "Baseline Loss: 5.3161 | Actual Loss: 1.8015\n"
     ]
    },
    {
     "name": "stderr",
     "output_type": "stream",
     "text": [
      "Training:  78%|███████▊  | 233/300 [36:47<03:32,  3.17s/it]"
     ]
    },
    {
     "name": "stdout",
     "output_type": "stream",
     "text": [
      "Baseline Loss: 3.9611 | Actual Loss: 1.0125\n",
      "Epoch 233/300: Train Loss: 1.8015, Val Loss: 1.0125\n",
      "Baseline Loss: 5.3161 | Actual Loss: 1.7755\n"
     ]
    },
    {
     "name": "stderr",
     "output_type": "stream",
     "text": [
      "Training:  78%|███████▊  | 234/300 [36:51<03:31,  3.21s/it]"
     ]
    },
    {
     "name": "stdout",
     "output_type": "stream",
     "text": [
      "Baseline Loss: 3.9611 | Actual Loss: 1.0420\n",
      "Epoch 234/300: Train Loss: 1.7755, Val Loss: 1.0420\n",
      "Baseline Loss: 5.3161 | Actual Loss: 1.7557\n"
     ]
    },
    {
     "name": "stderr",
     "output_type": "stream",
     "text": [
      "Training:  78%|███████▊  | 235/300 [36:54<03:26,  3.18s/it]"
     ]
    },
    {
     "name": "stdout",
     "output_type": "stream",
     "text": [
      "Baseline Loss: 3.9611 | Actual Loss: 1.0017\n",
      "Epoch 235/300: Train Loss: 1.7557, Val Loss: 1.0017\n",
      "Baseline Loss: 5.3161 | Actual Loss: 1.7687\n"
     ]
    },
    {
     "name": "stderr",
     "output_type": "stream",
     "text": [
      "Training:  79%|███████▊  | 236/300 [36:57<03:30,  3.29s/it]"
     ]
    },
    {
     "name": "stdout",
     "output_type": "stream",
     "text": [
      "Baseline Loss: 3.9611 | Actual Loss: 1.0265\n",
      "Epoch 236/300: Train Loss: 1.7687, Val Loss: 1.0265\n",
      "Baseline Loss: 5.3161 | Actual Loss: 1.7452\n"
     ]
    },
    {
     "name": "stderr",
     "output_type": "stream",
     "text": [
      "Training:  79%|███████▉  | 237/300 [37:00<03:21,  3.20s/it]"
     ]
    },
    {
     "name": "stdout",
     "output_type": "stream",
     "text": [
      "Baseline Loss: 3.9611 | Actual Loss: 0.9795\n",
      "Epoch 237/300: Train Loss: 1.7452, Val Loss: 0.9795\n",
      "Baseline Loss: 5.3161 | Actual Loss: 1.7795\n"
     ]
    },
    {
     "name": "stderr",
     "output_type": "stream",
     "text": [
      "Training:  79%|███████▉  | 238/300 [37:04<03:20,  3.24s/it]"
     ]
    },
    {
     "name": "stdout",
     "output_type": "stream",
     "text": [
      "Baseline Loss: 3.9611 | Actual Loss: 1.0086\n",
      "Epoch 238/300: Train Loss: 1.7795, Val Loss: 1.0086\n",
      "Baseline Loss: 5.3161 | Actual Loss: 1.7585\n"
     ]
    },
    {
     "name": "stderr",
     "output_type": "stream",
     "text": [
      "Training:  80%|███████▉  | 239/300 [37:07<03:19,  3.26s/it]"
     ]
    },
    {
     "name": "stdout",
     "output_type": "stream",
     "text": [
      "Baseline Loss: 3.9611 | Actual Loss: 1.0124\n",
      "Epoch 239/300: Train Loss: 1.7585, Val Loss: 1.0124\n",
      "Baseline Loss: 5.3161 | Actual Loss: 1.7800\n"
     ]
    },
    {
     "name": "stderr",
     "output_type": "stream",
     "text": [
      "Training:  80%|████████  | 240/300 [37:10<03:13,  3.23s/it]"
     ]
    },
    {
     "name": "stdout",
     "output_type": "stream",
     "text": [
      "Baseline Loss: 3.9611 | Actual Loss: 0.9777\n",
      "Epoch 240/300: Train Loss: 1.7800, Val Loss: 0.9777\n",
      "Baseline Loss: 5.3161 | Actual Loss: 1.7677\n"
     ]
    },
    {
     "name": "stderr",
     "output_type": "stream",
     "text": [
      "Training:  80%|████████  | 241/300 [37:13<03:07,  3.18s/it]"
     ]
    },
    {
     "name": "stdout",
     "output_type": "stream",
     "text": [
      "Baseline Loss: 3.9611 | Actual Loss: 0.9761\n",
      "Epoch 241/300: Train Loss: 1.7677, Val Loss: 0.9761\n",
      "Baseline Loss: 5.3161 | Actual Loss: 1.7652\n"
     ]
    },
    {
     "name": "stderr",
     "output_type": "stream",
     "text": [
      "Training:  81%|████████  | 242/300 [37:17<03:08,  3.25s/it]"
     ]
    },
    {
     "name": "stdout",
     "output_type": "stream",
     "text": [
      "Baseline Loss: 3.9611 | Actual Loss: 0.9952\n",
      "Epoch 242/300: Train Loss: 1.7652, Val Loss: 0.9952\n",
      "Baseline Loss: 5.3161 | Actual Loss: 1.7412\n"
     ]
    },
    {
     "name": "stderr",
     "output_type": "stream",
     "text": [
      "Training:  81%|████████  | 243/300 [37:20<02:59,  3.15s/it]"
     ]
    },
    {
     "name": "stdout",
     "output_type": "stream",
     "text": [
      "Baseline Loss: 3.9611 | Actual Loss: 0.9526\n",
      "Epoch 243/300: Train Loss: 1.7412, Val Loss: 0.9526\n",
      "New best validation loss: 0.9526\n",
      "Baseline Loss: 5.3161 | Actual Loss: 1.7464\n"
     ]
    },
    {
     "name": "stderr",
     "output_type": "stream",
     "text": [
      "Training:  81%|████████▏ | 244/300 [37:23<03:01,  3.23s/it]"
     ]
    },
    {
     "name": "stdout",
     "output_type": "stream",
     "text": [
      "Baseline Loss: 3.9611 | Actual Loss: 0.9857\n",
      "Epoch 244/300: Train Loss: 1.7464, Val Loss: 0.9857\n",
      "Baseline Loss: 5.3161 | Actual Loss: 1.7501\n"
     ]
    },
    {
     "name": "stderr",
     "output_type": "stream",
     "text": [
      "Training:  82%|████████▏ | 245/300 [37:26<02:59,  3.26s/it]"
     ]
    },
    {
     "name": "stdout",
     "output_type": "stream",
     "text": [
      "Baseline Loss: 3.9611 | Actual Loss: 0.9825\n",
      "Epoch 245/300: Train Loss: 1.7501, Val Loss: 0.9825\n",
      "Baseline Loss: 5.3161 | Actual Loss: 1.7485\n"
     ]
    },
    {
     "name": "stderr",
     "output_type": "stream",
     "text": [
      "Training:  82%|████████▏ | 246/300 [37:29<02:52,  3.19s/it]"
     ]
    },
    {
     "name": "stdout",
     "output_type": "stream",
     "text": [
      "Baseline Loss: 3.9611 | Actual Loss: 0.9611\n",
      "Epoch 246/300: Train Loss: 1.7485, Val Loss: 0.9611\n",
      "Baseline Loss: 5.3161 | Actual Loss: 1.7538\n"
     ]
    },
    {
     "name": "stderr",
     "output_type": "stream",
     "text": [
      "Training:  82%|████████▏ | 247/300 [37:33<02:51,  3.24s/it]"
     ]
    },
    {
     "name": "stdout",
     "output_type": "stream",
     "text": [
      "Baseline Loss: 3.9611 | Actual Loss: 0.9535\n",
      "Epoch 247/300: Train Loss: 1.7538, Val Loss: 0.9535\n",
      "Baseline Loss: 5.3161 | Actual Loss: 1.7451\n"
     ]
    },
    {
     "name": "stderr",
     "output_type": "stream",
     "text": [
      "Training:  83%|████████▎ | 248/300 [37:36<02:48,  3.25s/it]"
     ]
    },
    {
     "name": "stdout",
     "output_type": "stream",
     "text": [
      "Baseline Loss: 3.9611 | Actual Loss: 1.0130\n",
      "Epoch 248/300: Train Loss: 1.7451, Val Loss: 1.0130\n",
      "Baseline Loss: 5.3161 | Actual Loss: 1.7133\n"
     ]
    },
    {
     "name": "stderr",
     "output_type": "stream",
     "text": [
      "Training:  83%|████████▎ | 249/300 [37:39<02:43,  3.21s/it]"
     ]
    },
    {
     "name": "stdout",
     "output_type": "stream",
     "text": [
      "Baseline Loss: 3.9611 | Actual Loss: 0.9738\n",
      "Epoch 249/300: Train Loss: 1.7133, Val Loss: 0.9738\n",
      "Baseline Loss: 5.3161 | Actual Loss: 1.7427\n"
     ]
    },
    {
     "name": "stderr",
     "output_type": "stream",
     "text": [
      "Training:  83%|████████▎ | 250/300 [37:42<02:37,  3.15s/it]"
     ]
    },
    {
     "name": "stdout",
     "output_type": "stream",
     "text": [
      "Baseline Loss: 3.9611 | Actual Loss: 0.9691\n",
      "Epoch 250/300: Train Loss: 1.7427, Val Loss: 0.9691\n",
      "Baseline Loss: 5.3161 | Actual Loss: 1.7270\n"
     ]
    },
    {
     "name": "stderr",
     "output_type": "stream",
     "text": [
      "Training:  84%|████████▎ | 251/300 [37:45<02:35,  3.16s/it]"
     ]
    },
    {
     "name": "stdout",
     "output_type": "stream",
     "text": [
      "Baseline Loss: 3.9611 | Actual Loss: 0.9782\n",
      "Epoch 251/300: Train Loss: 1.7270, Val Loss: 0.9782\n",
      "Baseline Loss: 5.3161 | Actual Loss: 1.7056\n"
     ]
    },
    {
     "name": "stderr",
     "output_type": "stream",
     "text": [
      "Training:  84%|████████▍ | 252/300 [37:48<02:31,  3.15s/it]"
     ]
    },
    {
     "name": "stdout",
     "output_type": "stream",
     "text": [
      "Baseline Loss: 3.9611 | Actual Loss: 0.9664\n",
      "Epoch 252/300: Train Loss: 1.7056, Val Loss: 0.9664\n",
      "Baseline Loss: 5.3161 | Actual Loss: 1.7461\n"
     ]
    },
    {
     "name": "stderr",
     "output_type": "stream",
     "text": [
      "Training:  84%|████████▍ | 253/300 [37:52<02:31,  3.22s/it]"
     ]
    },
    {
     "name": "stdout",
     "output_type": "stream",
     "text": [
      "Baseline Loss: 3.9611 | Actual Loss: 1.0278\n",
      "Epoch 253/300: Train Loss: 1.7461, Val Loss: 1.0278\n",
      "Baseline Loss: 5.3161 | Actual Loss: 1.6917\n"
     ]
    },
    {
     "name": "stderr",
     "output_type": "stream",
     "text": [
      "Training:  85%|████████▍ | 254/300 [37:55<02:24,  3.14s/it]"
     ]
    },
    {
     "name": "stdout",
     "output_type": "stream",
     "text": [
      "Baseline Loss: 3.9611 | Actual Loss: 0.9708\n",
      "Epoch 254/300: Train Loss: 1.6917, Val Loss: 0.9708\n",
      "Baseline Loss: 5.3161 | Actual Loss: 1.7318\n"
     ]
    },
    {
     "name": "stderr",
     "output_type": "stream",
     "text": [
      "Training:  85%|████████▌ | 255/300 [37:58<02:23,  3.18s/it]"
     ]
    },
    {
     "name": "stdout",
     "output_type": "stream",
     "text": [
      "Baseline Loss: 3.9611 | Actual Loss: 1.0776\n",
      "Epoch 255/300: Train Loss: 1.7318, Val Loss: 1.0776\n",
      "Baseline Loss: 5.3161 | Actual Loss: 1.7273\n"
     ]
    },
    {
     "name": "stderr",
     "output_type": "stream",
     "text": [
      "Training:  85%|████████▌ | 256/300 [38:01<02:21,  3.21s/it]"
     ]
    },
    {
     "name": "stdout",
     "output_type": "stream",
     "text": [
      "Baseline Loss: 3.9611 | Actual Loss: 0.9463\n",
      "Epoch 256/300: Train Loss: 1.7273, Val Loss: 0.9463\n",
      "New best validation loss: 0.9463\n",
      "Baseline Loss: 5.3161 | Actual Loss: 1.7421\n"
     ]
    },
    {
     "name": "stderr",
     "output_type": "stream",
     "text": [
      "Training:  86%|████████▌ | 257/300 [38:04<02:16,  3.18s/it]"
     ]
    },
    {
     "name": "stdout",
     "output_type": "stream",
     "text": [
      "Baseline Loss: 3.9611 | Actual Loss: 1.0262\n",
      "Epoch 257/300: Train Loss: 1.7421, Val Loss: 1.0262\n",
      "Baseline Loss: 5.3161 | Actual Loss: 1.7125\n"
     ]
    },
    {
     "name": "stderr",
     "output_type": "stream",
     "text": [
      "Training:  86%|████████▌ | 258/300 [38:08<02:12,  3.16s/it]"
     ]
    },
    {
     "name": "stdout",
     "output_type": "stream",
     "text": [
      "Baseline Loss: 3.9611 | Actual Loss: 0.9721\n",
      "Epoch 258/300: Train Loss: 1.7125, Val Loss: 0.9721\n",
      "Baseline Loss: 5.3161 | Actual Loss: 1.7075\n"
     ]
    },
    {
     "name": "stderr",
     "output_type": "stream",
     "text": [
      "Training:  86%|████████▋ | 259/300 [38:11<02:12,  3.24s/it]"
     ]
    },
    {
     "name": "stdout",
     "output_type": "stream",
     "text": [
      "Baseline Loss: 3.9611 | Actual Loss: 1.0310\n",
      "Epoch 259/300: Train Loss: 1.7075, Val Loss: 1.0310\n",
      "Baseline Loss: 5.3161 | Actual Loss: 1.6477\n"
     ]
    },
    {
     "name": "stderr",
     "output_type": "stream",
     "text": [
      "Training:  87%|████████▋ | 260/300 [38:14<02:05,  3.14s/it]"
     ]
    },
    {
     "name": "stdout",
     "output_type": "stream",
     "text": [
      "Baseline Loss: 3.9611 | Actual Loss: 0.9010\n",
      "Epoch 260/300: Train Loss: 1.6477, Val Loss: 0.9010\n",
      "New best validation loss: 0.9010\n",
      "Baseline Loss: 5.3161 | Actual Loss: 1.6942\n"
     ]
    },
    {
     "name": "stderr",
     "output_type": "stream",
     "text": [
      "Training:  87%|████████▋ | 261/300 [38:17<02:05,  3.23s/it]"
     ]
    },
    {
     "name": "stdout",
     "output_type": "stream",
     "text": [
      "Baseline Loss: 3.9611 | Actual Loss: 0.9813\n",
      "Epoch 261/300: Train Loss: 1.6942, Val Loss: 0.9813\n",
      "Baseline Loss: 5.3161 | Actual Loss: 1.7152\n"
     ]
    },
    {
     "name": "stderr",
     "output_type": "stream",
     "text": [
      "Training:  87%|████████▋ | 262/300 [38:21<02:03,  3.25s/it]"
     ]
    },
    {
     "name": "stdout",
     "output_type": "stream",
     "text": [
      "Baseline Loss: 3.9611 | Actual Loss: 0.9596\n",
      "Epoch 262/300: Train Loss: 1.7152, Val Loss: 0.9596\n",
      "Baseline Loss: 5.3161 | Actual Loss: 1.7100\n"
     ]
    },
    {
     "name": "stderr",
     "output_type": "stream",
     "text": [
      "Training:  88%|████████▊ | 263/300 [38:24<01:59,  3.23s/it]"
     ]
    },
    {
     "name": "stdout",
     "output_type": "stream",
     "text": [
      "Baseline Loss: 3.9611 | Actual Loss: 0.9607\n",
      "Epoch 263/300: Train Loss: 1.7100, Val Loss: 0.9607\n",
      "Baseline Loss: 5.3161 | Actual Loss: 1.6583\n"
     ]
    },
    {
     "name": "stderr",
     "output_type": "stream",
     "text": [
      "Training:  88%|████████▊ | 264/300 [38:27<01:54,  3.17s/it]"
     ]
    },
    {
     "name": "stdout",
     "output_type": "stream",
     "text": [
      "Baseline Loss: 3.9611 | Actual Loss: 0.9339\n",
      "Epoch 264/300: Train Loss: 1.6583, Val Loss: 0.9339\n",
      "Baseline Loss: 5.3161 | Actual Loss: 1.7230\n"
     ]
    },
    {
     "name": "stderr",
     "output_type": "stream",
     "text": [
      "Training:  88%|████████▊ | 265/300 [38:30<01:52,  3.20s/it]"
     ]
    },
    {
     "name": "stdout",
     "output_type": "stream",
     "text": [
      "Baseline Loss: 3.9611 | Actual Loss: 0.9747\n",
      "Epoch 265/300: Train Loss: 1.7230, Val Loss: 0.9747\n",
      "Baseline Loss: 5.3161 | Actual Loss: 1.6949\n"
     ]
    },
    {
     "name": "stderr",
     "output_type": "stream",
     "text": [
      "Training:  89%|████████▊ | 266/300 [38:33<01:48,  3.18s/it]"
     ]
    },
    {
     "name": "stdout",
     "output_type": "stream",
     "text": [
      "Baseline Loss: 3.9611 | Actual Loss: 0.9525\n",
      "Epoch 266/300: Train Loss: 1.6949, Val Loss: 0.9525\n",
      "Baseline Loss: 5.3161 | Actual Loss: 1.7064\n"
     ]
    },
    {
     "name": "stderr",
     "output_type": "stream",
     "text": [
      "Training:  89%|████████▉ | 267/300 [38:36<01:43,  3.13s/it]"
     ]
    },
    {
     "name": "stdout",
     "output_type": "stream",
     "text": [
      "Baseline Loss: 3.9611 | Actual Loss: 0.8933\n",
      "Epoch 267/300: Train Loss: 1.7064, Val Loss: 0.8933\n",
      "New best validation loss: 0.8933\n",
      "Baseline Loss: 5.3161 | Actual Loss: 1.7081\n"
     ]
    },
    {
     "name": "stderr",
     "output_type": "stream",
     "text": [
      "Training:  89%|████████▉ | 268/300 [38:39<01:41,  3.17s/it]"
     ]
    },
    {
     "name": "stdout",
     "output_type": "stream",
     "text": [
      "Baseline Loss: 3.9611 | Actual Loss: 0.9489\n",
      "Epoch 268/300: Train Loss: 1.7081, Val Loss: 0.9489\n",
      "Baseline Loss: 5.3161 | Actual Loss: 1.6914\n"
     ]
    },
    {
     "name": "stderr",
     "output_type": "stream",
     "text": [
      "Training:  90%|████████▉ | 269/300 [38:43<01:37,  3.15s/it]"
     ]
    },
    {
     "name": "stdout",
     "output_type": "stream",
     "text": [
      "Baseline Loss: 3.9611 | Actual Loss: 0.9410\n",
      "Epoch 269/300: Train Loss: 1.6914, Val Loss: 0.9410\n",
      "Baseline Loss: 5.3161 | Actual Loss: 1.6590\n"
     ]
    },
    {
     "name": "stderr",
     "output_type": "stream",
     "text": [
      "Training:  90%|█████████ | 270/300 [38:46<01:36,  3.23s/it]"
     ]
    },
    {
     "name": "stdout",
     "output_type": "stream",
     "text": [
      "Baseline Loss: 3.9611 | Actual Loss: 0.9860\n",
      "Epoch 270/300: Train Loss: 1.6590, Val Loss: 0.9860\n",
      "Baseline Loss: 5.3161 | Actual Loss: 1.6771\n"
     ]
    },
    {
     "name": "stderr",
     "output_type": "stream",
     "text": [
      "Training:  90%|█████████ | 271/300 [38:49<01:31,  3.15s/it]"
     ]
    },
    {
     "name": "stdout",
     "output_type": "stream",
     "text": [
      "Baseline Loss: 3.9611 | Actual Loss: 0.9435\n",
      "Epoch 271/300: Train Loss: 1.6771, Val Loss: 0.9435\n",
      "Baseline Loss: 5.3161 | Actual Loss: 1.6680\n"
     ]
    },
    {
     "name": "stderr",
     "output_type": "stream",
     "text": [
      "Training:  91%|█████████ | 272/300 [38:52<01:27,  3.13s/it]"
     ]
    },
    {
     "name": "stdout",
     "output_type": "stream",
     "text": [
      "Baseline Loss: 3.9611 | Actual Loss: 0.9038\n",
      "Epoch 272/300: Train Loss: 1.6680, Val Loss: 0.9038\n",
      "Baseline Loss: 5.3161 | Actual Loss: 1.6631\n"
     ]
    },
    {
     "name": "stderr",
     "output_type": "stream",
     "text": [
      "Training:  91%|█████████ | 273/300 [38:55<01:23,  3.10s/it]"
     ]
    },
    {
     "name": "stdout",
     "output_type": "stream",
     "text": [
      "Baseline Loss: 3.9611 | Actual Loss: 0.9854\n",
      "Epoch 273/300: Train Loss: 1.6631, Val Loss: 0.9854\n",
      "Baseline Loss: 5.3161 | Actual Loss: 1.6667\n"
     ]
    },
    {
     "name": "stderr",
     "output_type": "stream",
     "text": [
      "Training:  91%|█████████▏| 274/300 [38:58<01:21,  3.15s/it]"
     ]
    },
    {
     "name": "stdout",
     "output_type": "stream",
     "text": [
      "Baseline Loss: 3.9611 | Actual Loss: 0.9269\n",
      "Epoch 274/300: Train Loss: 1.6667, Val Loss: 0.9269\n",
      "Baseline Loss: 5.3161 | Actual Loss: 1.6545\n"
     ]
    },
    {
     "name": "stderr",
     "output_type": "stream",
     "text": [
      "Training:  92%|█████████▏| 275/300 [39:01<01:18,  3.14s/it]"
     ]
    },
    {
     "name": "stdout",
     "output_type": "stream",
     "text": [
      "Baseline Loss: 3.9611 | Actual Loss: 0.8654\n",
      "Epoch 275/300: Train Loss: 1.6545, Val Loss: 0.8654\n",
      "New best validation loss: 0.8654\n",
      "Baseline Loss: 5.3161 | Actual Loss: 1.6554\n"
     ]
    },
    {
     "name": "stderr",
     "output_type": "stream",
     "text": [
      "Training:  92%|█████████▏| 276/300 [39:05<01:17,  3.22s/it]"
     ]
    },
    {
     "name": "stdout",
     "output_type": "stream",
     "text": [
      "Baseline Loss: 3.9611 | Actual Loss: 0.9280\n",
      "Epoch 276/300: Train Loss: 1.6554, Val Loss: 0.9280\n",
      "Baseline Loss: 5.3161 | Actual Loss: 1.6613\n"
     ]
    },
    {
     "name": "stderr",
     "output_type": "stream",
     "text": [
      "Training:  92%|█████████▏| 277/300 [39:08<01:15,  3.28s/it]"
     ]
    },
    {
     "name": "stdout",
     "output_type": "stream",
     "text": [
      "Baseline Loss: 3.9611 | Actual Loss: 0.9068\n",
      "Epoch 277/300: Train Loss: 1.6613, Val Loss: 0.9068\n",
      "Baseline Loss: 5.3161 | Actual Loss: 1.6572\n"
     ]
    },
    {
     "name": "stderr",
     "output_type": "stream",
     "text": [
      "Training:  93%|█████████▎| 278/300 [39:12<01:12,  3.29s/it]"
     ]
    },
    {
     "name": "stdout",
     "output_type": "stream",
     "text": [
      "Baseline Loss: 3.9611 | Actual Loss: 0.9580\n",
      "Epoch 278/300: Train Loss: 1.6572, Val Loss: 0.9580\n",
      "Baseline Loss: 5.3161 | Actual Loss: 1.6563\n"
     ]
    },
    {
     "name": "stderr",
     "output_type": "stream",
     "text": [
      "Training:  93%|█████████▎| 279/300 [39:15<01:07,  3.20s/it]"
     ]
    },
    {
     "name": "stdout",
     "output_type": "stream",
     "text": [
      "Baseline Loss: 3.9611 | Actual Loss: 0.9524\n",
      "Epoch 279/300: Train Loss: 1.6563, Val Loss: 0.9524\n",
      "Baseline Loss: 5.3161 | Actual Loss: 1.6451\n"
     ]
    },
    {
     "name": "stderr",
     "output_type": "stream",
     "text": [
      "Training:  93%|█████████▎| 280/300 [39:18<01:03,  3.18s/it]"
     ]
    },
    {
     "name": "stdout",
     "output_type": "stream",
     "text": [
      "Baseline Loss: 3.9611 | Actual Loss: 0.9374\n",
      "Epoch 280/300: Train Loss: 1.6451, Val Loss: 0.9374\n",
      "Baseline Loss: 5.3161 | Actual Loss: 1.6094\n"
     ]
    },
    {
     "name": "stderr",
     "output_type": "stream",
     "text": [
      "Training:  94%|█████████▎| 281/300 [39:21<01:00,  3.18s/it]"
     ]
    },
    {
     "name": "stdout",
     "output_type": "stream",
     "text": [
      "Baseline Loss: 3.9611 | Actual Loss: 0.9311\n",
      "Epoch 281/300: Train Loss: 1.6094, Val Loss: 0.9311\n",
      "Baseline Loss: 5.3161 | Actual Loss: 1.6606\n"
     ]
    },
    {
     "name": "stderr",
     "output_type": "stream",
     "text": [
      "Training:  94%|█████████▍| 282/300 [39:24<00:55,  3.09s/it]"
     ]
    },
    {
     "name": "stdout",
     "output_type": "stream",
     "text": [
      "Baseline Loss: 3.9611 | Actual Loss: 0.9126\n",
      "Epoch 282/300: Train Loss: 1.6606, Val Loss: 0.9126\n",
      "Baseline Loss: 5.3161 | Actual Loss: 1.6412\n"
     ]
    },
    {
     "name": "stderr",
     "output_type": "stream",
     "text": [
      "Training:  94%|█████████▍| 283/300 [39:27<00:53,  3.15s/it]"
     ]
    },
    {
     "name": "stdout",
     "output_type": "stream",
     "text": [
      "Baseline Loss: 3.9611 | Actual Loss: 0.9396\n",
      "Epoch 283/300: Train Loss: 1.6412, Val Loss: 0.9396\n",
      "Baseline Loss: 5.3161 | Actual Loss: 1.6483\n"
     ]
    },
    {
     "name": "stderr",
     "output_type": "stream",
     "text": [
      "Training:  95%|█████████▍| 284/300 [39:30<00:51,  3.23s/it]"
     ]
    },
    {
     "name": "stdout",
     "output_type": "stream",
     "text": [
      "Baseline Loss: 3.9611 | Actual Loss: 0.9211\n",
      "Epoch 284/300: Train Loss: 1.6483, Val Loss: 0.9211\n",
      "Baseline Loss: 5.3161 | Actual Loss: 1.6042\n"
     ]
    },
    {
     "name": "stderr",
     "output_type": "stream",
     "text": [
      "Training:  95%|█████████▌| 285/300 [39:34<00:48,  3.21s/it]"
     ]
    },
    {
     "name": "stdout",
     "output_type": "stream",
     "text": [
      "Baseline Loss: 3.9611 | Actual Loss: 0.9501\n",
      "Epoch 285/300: Train Loss: 1.6042, Val Loss: 0.9501\n",
      "Baseline Loss: 5.3161 | Actual Loss: 1.6141\n"
     ]
    },
    {
     "name": "stderr",
     "output_type": "stream",
     "text": [
      "Training:  95%|█████████▌| 286/300 [39:37<00:45,  3.27s/it]"
     ]
    },
    {
     "name": "stdout",
     "output_type": "stream",
     "text": [
      "Baseline Loss: 3.9611 | Actual Loss: 0.9179\n",
      "Epoch 286/300: Train Loss: 1.6141, Val Loss: 0.9179\n",
      "Baseline Loss: 5.3161 | Actual Loss: 1.6114\n"
     ]
    },
    {
     "name": "stderr",
     "output_type": "stream",
     "text": [
      "Training:  96%|█████████▌| 287/300 [39:40<00:41,  3.19s/it]"
     ]
    },
    {
     "name": "stdout",
     "output_type": "stream",
     "text": [
      "Baseline Loss: 3.9611 | Actual Loss: 0.9093\n",
      "Epoch 287/300: Train Loss: 1.6114, Val Loss: 0.9093\n",
      "Baseline Loss: 5.3161 | Actual Loss: 1.6286\n"
     ]
    },
    {
     "name": "stderr",
     "output_type": "stream",
     "text": [
      "Training:  96%|█████████▌| 288/300 [39:44<00:39,  3.27s/it]"
     ]
    },
    {
     "name": "stdout",
     "output_type": "stream",
     "text": [
      "Baseline Loss: 3.9611 | Actual Loss: 0.8511\n",
      "Epoch 288/300: Train Loss: 1.6286, Val Loss: 0.8511\n",
      "New best validation loss: 0.8511\n",
      "Baseline Loss: 5.3161 | Actual Loss: 1.6197\n"
     ]
    },
    {
     "name": "stderr",
     "output_type": "stream",
     "text": [
      "Training:  96%|█████████▋| 289/300 [39:47<00:35,  3.26s/it]"
     ]
    },
    {
     "name": "stdout",
     "output_type": "stream",
     "text": [
      "Baseline Loss: 3.9611 | Actual Loss: 0.9761\n",
      "Epoch 289/300: Train Loss: 1.6197, Val Loss: 0.9761\n",
      "Baseline Loss: 5.3161 | Actual Loss: 1.6087\n"
     ]
    },
    {
     "name": "stderr",
     "output_type": "stream",
     "text": [
      "Training:  97%|█████████▋| 290/300 [39:50<00:32,  3.22s/it]"
     ]
    },
    {
     "name": "stdout",
     "output_type": "stream",
     "text": [
      "Baseline Loss: 3.9611 | Actual Loss: 0.9245\n",
      "Epoch 290/300: Train Loss: 1.6087, Val Loss: 0.9245\n",
      "Baseline Loss: 5.3161 | Actual Loss: 1.5996\n"
     ]
    },
    {
     "name": "stderr",
     "output_type": "stream",
     "text": [
      "Training:  97%|█████████▋| 291/300 [39:53<00:29,  3.23s/it]"
     ]
    },
    {
     "name": "stdout",
     "output_type": "stream",
     "text": [
      "Baseline Loss: 3.9611 | Actual Loss: 0.9260\n",
      "Epoch 291/300: Train Loss: 1.5996, Val Loss: 0.9260\n",
      "Baseline Loss: 5.3161 | Actual Loss: 1.5917\n"
     ]
    },
    {
     "name": "stderr",
     "output_type": "stream",
     "text": [
      "Training:  97%|█████████▋| 292/300 [39:56<00:25,  3.21s/it]"
     ]
    },
    {
     "name": "stdout",
     "output_type": "stream",
     "text": [
      "Baseline Loss: 3.9611 | Actual Loss: 0.8881\n",
      "Epoch 292/300: Train Loss: 1.5917, Val Loss: 0.8881\n",
      "Baseline Loss: 5.3161 | Actual Loss: 1.5947\n"
     ]
    },
    {
     "name": "stderr",
     "output_type": "stream",
     "text": [
      "Training:  98%|█████████▊| 293/300 [39:59<00:22,  3.16s/it]"
     ]
    },
    {
     "name": "stdout",
     "output_type": "stream",
     "text": [
      "Baseline Loss: 3.9611 | Actual Loss: 0.9128\n",
      "Epoch 293/300: Train Loss: 1.5947, Val Loss: 0.9128\n",
      "Baseline Loss: 5.3161 | Actual Loss: 1.6328\n"
     ]
    },
    {
     "name": "stderr",
     "output_type": "stream",
     "text": [
      "Training:  98%|█████████▊| 294/300 [40:03<00:19,  3.24s/it]"
     ]
    },
    {
     "name": "stdout",
     "output_type": "stream",
     "text": [
      "Baseline Loss: 3.9611 | Actual Loss: 0.9070\n",
      "Epoch 294/300: Train Loss: 1.6328, Val Loss: 0.9070\n",
      "Baseline Loss: 5.3161 | Actual Loss: 1.5929\n"
     ]
    },
    {
     "name": "stderr",
     "output_type": "stream",
     "text": [
      "Training:  98%|█████████▊| 295/300 [40:06<00:15,  3.19s/it]"
     ]
    },
    {
     "name": "stdout",
     "output_type": "stream",
     "text": [
      "Baseline Loss: 3.9611 | Actual Loss: 0.9687\n",
      "Epoch 295/300: Train Loss: 1.5929, Val Loss: 0.9687\n",
      "Baseline Loss: 5.3161 | Actual Loss: 1.5968\n"
     ]
    },
    {
     "name": "stderr",
     "output_type": "stream",
     "text": [
      "Training:  99%|█████████▊| 296/300 [40:09<00:13,  3.29s/it]"
     ]
    },
    {
     "name": "stdout",
     "output_type": "stream",
     "text": [
      "Baseline Loss: 3.9611 | Actual Loss: 0.8985\n",
      "Epoch 296/300: Train Loss: 1.5968, Val Loss: 0.8985\n",
      "Baseline Loss: 5.3161 | Actual Loss: 1.5758\n"
     ]
    },
    {
     "name": "stderr",
     "output_type": "stream",
     "text": [
      "Training:  99%|█████████▉| 297/300 [40:12<00:09,  3.20s/it]"
     ]
    },
    {
     "name": "stdout",
     "output_type": "stream",
     "text": [
      "Baseline Loss: 3.9611 | Actual Loss: 0.9396\n",
      "Epoch 297/300: Train Loss: 1.5758, Val Loss: 0.9396\n",
      "Baseline Loss: 5.3161 | Actual Loss: 1.5966\n"
     ]
    },
    {
     "name": "stderr",
     "output_type": "stream",
     "text": [
      "Training:  99%|█████████▉| 298/300 [40:16<00:06,  3.22s/it]"
     ]
    },
    {
     "name": "stdout",
     "output_type": "stream",
     "text": [
      "Baseline Loss: 3.9611 | Actual Loss: 0.9356\n",
      "Epoch 298/300: Train Loss: 1.5966, Val Loss: 0.9356\n",
      "Baseline Loss: 5.3161 | Actual Loss: 1.5980\n"
     ]
    },
    {
     "name": "stderr",
     "output_type": "stream",
     "text": [
      "Training: 100%|█████████▉| 299/300 [40:19<00:03,  3.25s/it]"
     ]
    },
    {
     "name": "stdout",
     "output_type": "stream",
     "text": [
      "Baseline Loss: 3.9611 | Actual Loss: 0.9364\n",
      "Epoch 299/300: Train Loss: 1.5980, Val Loss: 0.9364\n",
      "Baseline Loss: 5.3161 | Actual Loss: 1.5843\n"
     ]
    },
    {
     "name": "stderr",
     "output_type": "stream",
     "text": [
      "Training: 100%|██████████| 300/300 [40:22<00:00,  8.08s/it]"
     ]
    },
    {
     "name": "stdout",
     "output_type": "stream",
     "text": [
      "Baseline Loss: 3.9611 | Actual Loss: 0.9288\n",
      "Epoch 300/300: Train Loss: 1.5843, Val Loss: 0.9288\n"
     ]
    },
    {
     "name": "stderr",
     "output_type": "stream",
     "text": [
      "\n"
     ]
    },
    {
     "data": {
      "text/plain": [
       "0.8511130809783936"
      ]
     },
     "execution_count": 8,
     "metadata": {},
     "output_type": "execute_result"
    }
   ],
   "source": [
    "model1.train_model(\n",
    "    data_list,\n",
    ")"
   ]
  },
  {
   "cell_type": "code",
   "execution_count": 9,
   "id": "35fe71e8",
   "metadata": {},
   "outputs": [],
   "source": [
    "model2 = GNNModelWithNewLoss(\n",
    "        num_node_features=data_list[0].x.shape[1],\n",
    "        num_edge_features=data_list[0].edge_attr.shape[1],\n",
    "        num_global_features=0,\n",
    "        hidden_dim=512,\n",
    "        dropout_rate=0.1,\n",
    "        property_index=1 ,\n",
    "        save_path= 'premodels_new_og/1'\n",
    "    ).to(devices[0])"
   ]
  },
  {
   "cell_type": "code",
   "execution_count": 10,
   "id": "48b63c56",
   "metadata": {},
   "outputs": [
    {
     "name": "stdout",
     "output_type": "stream",
     "text": [
      "Training will be saved to: premodels_new_og/1\n"
     ]
    },
    {
     "name": "stderr",
     "output_type": "stream",
     "text": [
      "Training:   0%|          | 0/300 [00:00<?, ?it/s]"
     ]
    },
    {
     "name": "stdout",
     "output_type": "stream",
     "text": [
      "Baseline Loss: 5.3064 | Actual Loss: 5.2388\n"
     ]
    },
    {
     "name": "stderr",
     "output_type": "stream",
     "text": [
      "Training:   0%|          | 1/300 [00:03<15:58,  3.21s/it]"
     ]
    },
    {
     "name": "stdout",
     "output_type": "stream",
     "text": [
      "Baseline Loss: 3.9462 | Actual Loss: 3.8548\n",
      "Epoch 1/300: Train Loss: 5.2388, Val Loss: 3.8548\n",
      "New best validation loss: 3.8548\n",
      "Baseline Loss: 5.3064 | Actual Loss: 5.2107\n"
     ]
    },
    {
     "name": "stderr",
     "output_type": "stream",
     "text": [
      "Training:   1%|          | 2/300 [00:06<16:47,  3.38s/it]"
     ]
    },
    {
     "name": "stdout",
     "output_type": "stream",
     "text": [
      "Baseline Loss: 3.9462 | Actual Loss: 3.8165\n",
      "Epoch 2/300: Train Loss: 5.2107, Val Loss: 3.8165\n",
      "New best validation loss: 3.8165\n",
      "Baseline Loss: 5.3064 | Actual Loss: 5.1816\n"
     ]
    },
    {
     "name": "stderr",
     "output_type": "stream",
     "text": [
      "Training:   1%|          | 3/300 [00:09<15:44,  3.18s/it]"
     ]
    },
    {
     "name": "stdout",
     "output_type": "stream",
     "text": [
      "Baseline Loss: 3.9462 | Actual Loss: 3.7782\n",
      "Epoch 3/300: Train Loss: 5.1816, Val Loss: 3.7782\n",
      "New best validation loss: 3.7782\n",
      "Baseline Loss: 5.3064 | Actual Loss: 5.1407\n"
     ]
    },
    {
     "name": "stderr",
     "output_type": "stream",
     "text": [
      "Training:   1%|▏         | 4/300 [00:13<16:13,  3.29s/it]"
     ]
    },
    {
     "name": "stdout",
     "output_type": "stream",
     "text": [
      "Baseline Loss: 3.9462 | Actual Loss: 3.7474\n",
      "Epoch 4/300: Train Loss: 5.1407, Val Loss: 3.7474\n",
      "New best validation loss: 3.7474\n",
      "Baseline Loss: 5.3064 | Actual Loss: 5.0943\n"
     ]
    },
    {
     "name": "stderr",
     "output_type": "stream",
     "text": [
      "Training:   2%|▏         | 5/300 [00:16<15:54,  3.23s/it]"
     ]
    },
    {
     "name": "stdout",
     "output_type": "stream",
     "text": [
      "Baseline Loss: 3.9462 | Actual Loss: 3.6842\n",
      "Epoch 5/300: Train Loss: 5.0943, Val Loss: 3.6842\n",
      "New best validation loss: 3.6842\n",
      "Baseline Loss: 5.3064 | Actual Loss: 5.0334\n"
     ]
    },
    {
     "name": "stderr",
     "output_type": "stream",
     "text": [
      "Training:   2%|▏         | 6/300 [00:19<16:23,  3.35s/it]"
     ]
    },
    {
     "name": "stdout",
     "output_type": "stream",
     "text": [
      "Baseline Loss: 3.9462 | Actual Loss: 3.6232\n",
      "Epoch 6/300: Train Loss: 5.0334, Val Loss: 3.6232\n",
      "New best validation loss: 3.6232\n",
      "Baseline Loss: 5.3064 | Actual Loss: 4.9583\n"
     ]
    },
    {
     "name": "stderr",
     "output_type": "stream",
     "text": [
      "Training:   2%|▏         | 7/300 [00:22<15:43,  3.22s/it]"
     ]
    },
    {
     "name": "stdout",
     "output_type": "stream",
     "text": [
      "Baseline Loss: 3.9462 | Actual Loss: 3.5506\n",
      "Epoch 7/300: Train Loss: 4.9583, Val Loss: 3.5506\n",
      "New best validation loss: 3.5506\n",
      "Baseline Loss: 5.3064 | Actual Loss: 4.9202\n"
     ]
    },
    {
     "name": "stderr",
     "output_type": "stream",
     "text": [
      "Training:   3%|▎         | 8/300 [00:26<15:50,  3.26s/it]"
     ]
    },
    {
     "name": "stdout",
     "output_type": "stream",
     "text": [
      "Baseline Loss: 3.9462 | Actual Loss: 3.4853\n",
      "Epoch 8/300: Train Loss: 4.9202, Val Loss: 3.4853\n",
      "New best validation loss: 3.4853\n",
      "Baseline Loss: 5.3064 | Actual Loss: 4.8323\n"
     ]
    },
    {
     "name": "stderr",
     "output_type": "stream",
     "text": [
      "Training:   3%|▎         | 9/300 [00:29<15:48,  3.26s/it]"
     ]
    },
    {
     "name": "stdout",
     "output_type": "stream",
     "text": [
      "Baseline Loss: 3.9462 | Actual Loss: 3.4148\n",
      "Epoch 9/300: Train Loss: 4.8323, Val Loss: 3.4148\n",
      "New best validation loss: 3.4148\n",
      "Baseline Loss: 5.3064 | Actual Loss: 4.7425\n"
     ]
    },
    {
     "name": "stderr",
     "output_type": "stream",
     "text": [
      "Training:   3%|▎         | 10/300 [00:32<15:35,  3.23s/it]"
     ]
    },
    {
     "name": "stdout",
     "output_type": "stream",
     "text": [
      "Baseline Loss: 3.9462 | Actual Loss: 3.2808\n",
      "Epoch 10/300: Train Loss: 4.7425, Val Loss: 3.2808\n",
      "New best validation loss: 3.2808\n",
      "Baseline Loss: 5.3064 | Actual Loss: 4.6275\n"
     ]
    },
    {
     "name": "stderr",
     "output_type": "stream",
     "text": [
      "Training:   4%|▎         | 11/300 [00:35<15:30,  3.22s/it]"
     ]
    },
    {
     "name": "stdout",
     "output_type": "stream",
     "text": [
      "Baseline Loss: 3.9462 | Actual Loss: 3.2060\n",
      "Epoch 11/300: Train Loss: 4.6275, Val Loss: 3.2060\n",
      "New best validation loss: 3.2060\n",
      "Baseline Loss: 5.3064 | Actual Loss: 4.5200\n"
     ]
    },
    {
     "name": "stderr",
     "output_type": "stream",
     "text": [
      "Training:   4%|▍         | 12/300 [00:39<15:33,  3.24s/it]"
     ]
    },
    {
     "name": "stdout",
     "output_type": "stream",
     "text": [
      "Baseline Loss: 3.9462 | Actual Loss: 3.1042\n",
      "Epoch 12/300: Train Loss: 4.5200, Val Loss: 3.1042\n",
      "New best validation loss: 3.1042\n",
      "Baseline Loss: 5.3064 | Actual Loss: 4.4053\n"
     ]
    },
    {
     "name": "stderr",
     "output_type": "stream",
     "text": [
      "Training:   4%|▍         | 13/300 [00:42<15:26,  3.23s/it]"
     ]
    },
    {
     "name": "stdout",
     "output_type": "stream",
     "text": [
      "Baseline Loss: 3.9462 | Actual Loss: 2.9823\n",
      "Epoch 13/300: Train Loss: 4.4053, Val Loss: 2.9823\n",
      "New best validation loss: 2.9823\n",
      "Baseline Loss: 5.3064 | Actual Loss: 4.3257\n"
     ]
    },
    {
     "name": "stderr",
     "output_type": "stream",
     "text": [
      "Training:   5%|▍         | 14/300 [00:45<15:38,  3.28s/it]"
     ]
    },
    {
     "name": "stdout",
     "output_type": "stream",
     "text": [
      "Baseline Loss: 3.9462 | Actual Loss: 2.9530\n",
      "Epoch 14/300: Train Loss: 4.3257, Val Loss: 2.9530\n",
      "New best validation loss: 2.9530\n",
      "Baseline Loss: 5.3064 | Actual Loss: 4.2296\n"
     ]
    },
    {
     "name": "stderr",
     "output_type": "stream",
     "text": [
      "Training:   5%|▌         | 15/300 [00:48<15:28,  3.26s/it]"
     ]
    },
    {
     "name": "stdout",
     "output_type": "stream",
     "text": [
      "Baseline Loss: 3.9462 | Actual Loss: 2.9235\n",
      "Epoch 15/300: Train Loss: 4.2296, Val Loss: 2.9235\n",
      "New best validation loss: 2.9235\n",
      "Baseline Loss: 5.3064 | Actual Loss: 4.1681\n"
     ]
    },
    {
     "name": "stderr",
     "output_type": "stream",
     "text": [
      "Training:   5%|▌         | 16/300 [00:51<15:04,  3.18s/it]"
     ]
    },
    {
     "name": "stdout",
     "output_type": "stream",
     "text": [
      "Baseline Loss: 3.9462 | Actual Loss: 2.9500\n",
      "Epoch 16/300: Train Loss: 4.1681, Val Loss: 2.9500\n",
      "Baseline Loss: 5.3064 | Actual Loss: 4.1465\n"
     ]
    },
    {
     "name": "stderr",
     "output_type": "stream",
     "text": [
      "Training:   6%|▌         | 17/300 [00:55<15:09,  3.22s/it]"
     ]
    },
    {
     "name": "stdout",
     "output_type": "stream",
     "text": [
      "Baseline Loss: 3.9462 | Actual Loss: 2.8778\n",
      "Epoch 17/300: Train Loss: 4.1465, Val Loss: 2.8778\n",
      "New best validation loss: 2.8778\n",
      "Baseline Loss: 5.3064 | Actual Loss: 4.0991\n"
     ]
    },
    {
     "name": "stderr",
     "output_type": "stream",
     "text": [
      "Training:   6%|▌         | 18/300 [00:58<14:58,  3.18s/it]"
     ]
    },
    {
     "name": "stdout",
     "output_type": "stream",
     "text": [
      "Baseline Loss: 3.9462 | Actual Loss: 2.8448\n",
      "Epoch 18/300: Train Loss: 4.0991, Val Loss: 2.8448\n",
      "New best validation loss: 2.8448\n",
      "Baseline Loss: 5.3064 | Actual Loss: 4.0669\n"
     ]
    },
    {
     "name": "stderr",
     "output_type": "stream",
     "text": [
      "Training:   6%|▋         | 19/300 [01:01<15:24,  3.29s/it]"
     ]
    },
    {
     "name": "stdout",
     "output_type": "stream",
     "text": [
      "Baseline Loss: 3.9462 | Actual Loss: 2.7784\n",
      "Epoch 19/300: Train Loss: 4.0669, Val Loss: 2.7784\n",
      "New best validation loss: 2.7784\n",
      "Baseline Loss: 5.3064 | Actual Loss: 4.0093\n"
     ]
    },
    {
     "name": "stderr",
     "output_type": "stream",
     "text": [
      "Training:   7%|▋         | 20/300 [01:04<14:56,  3.20s/it]"
     ]
    },
    {
     "name": "stdout",
     "output_type": "stream",
     "text": [
      "Baseline Loss: 3.9462 | Actual Loss: 2.7845\n",
      "Epoch 20/300: Train Loss: 4.0093, Val Loss: 2.7845\n",
      "Baseline Loss: 5.3064 | Actual Loss: 4.0004\n"
     ]
    },
    {
     "name": "stderr",
     "output_type": "stream",
     "text": [
      "Training:   7%|▋         | 21/300 [01:07<14:47,  3.18s/it]"
     ]
    },
    {
     "name": "stdout",
     "output_type": "stream",
     "text": [
      "Baseline Loss: 3.9462 | Actual Loss: 2.8125\n",
      "Epoch 21/300: Train Loss: 4.0004, Val Loss: 2.8125\n",
      "Baseline Loss: 5.3064 | Actual Loss: 3.9910\n"
     ]
    },
    {
     "name": "stderr",
     "output_type": "stream",
     "text": [
      "Training:   7%|▋         | 22/300 [01:11<14:38,  3.16s/it]"
     ]
    },
    {
     "name": "stdout",
     "output_type": "stream",
     "text": [
      "Baseline Loss: 3.9462 | Actual Loss: 2.7534\n",
      "Epoch 22/300: Train Loss: 3.9910, Val Loss: 2.7534\n",
      "New best validation loss: 2.7534\n",
      "Baseline Loss: 5.3064 | Actual Loss: 3.9584\n"
     ]
    },
    {
     "name": "stderr",
     "output_type": "stream",
     "text": [
      "Training:   8%|▊         | 23/300 [01:14<14:56,  3.24s/it]"
     ]
    },
    {
     "name": "stdout",
     "output_type": "stream",
     "text": [
      "Baseline Loss: 3.9462 | Actual Loss: 2.6876\n",
      "Epoch 23/300: Train Loss: 3.9584, Val Loss: 2.6876\n",
      "New best validation loss: 2.6876\n",
      "Baseline Loss: 5.3065 | Actual Loss: 3.9252\n"
     ]
    },
    {
     "name": "stderr",
     "output_type": "stream",
     "text": [
      "Training:   8%|▊         | 24/300 [01:17<14:28,  3.15s/it]"
     ]
    },
    {
     "name": "stdout",
     "output_type": "stream",
     "text": [
      "Baseline Loss: 3.9462 | Actual Loss: 2.7263\n",
      "Epoch 24/300: Train Loss: 3.9252, Val Loss: 2.7263\n",
      "Baseline Loss: 5.3064 | Actual Loss: 3.9196\n"
     ]
    },
    {
     "name": "stderr",
     "output_type": "stream",
     "text": [
      "Training:   8%|▊         | 25/300 [01:20<14:49,  3.23s/it]"
     ]
    },
    {
     "name": "stdout",
     "output_type": "stream",
     "text": [
      "Baseline Loss: 3.9462 | Actual Loss: 2.7408\n",
      "Epoch 25/300: Train Loss: 3.9196, Val Loss: 2.7408\n",
      "Baseline Loss: 5.3064 | Actual Loss: 3.8900\n"
     ]
    },
    {
     "name": "stderr",
     "output_type": "stream",
     "text": [
      "Training:   9%|▊         | 26/300 [01:23<14:39,  3.21s/it]"
     ]
    },
    {
     "name": "stdout",
     "output_type": "stream",
     "text": [
      "Baseline Loss: 3.9462 | Actual Loss: 2.6420\n",
      "Epoch 26/300: Train Loss: 3.8900, Val Loss: 2.6420\n",
      "New best validation loss: 2.6420\n",
      "Baseline Loss: 5.3064 | Actual Loss: 3.9023\n"
     ]
    },
    {
     "name": "stderr",
     "output_type": "stream",
     "text": [
      "Training:   9%|▉         | 27/300 [01:27<14:57,  3.29s/it]"
     ]
    },
    {
     "name": "stdout",
     "output_type": "stream",
     "text": [
      "Baseline Loss: 3.9462 | Actual Loss: 2.6454\n",
      "Epoch 27/300: Train Loss: 3.9023, Val Loss: 2.6454\n",
      "Baseline Loss: 5.3065 | Actual Loss: 3.8262\n"
     ]
    },
    {
     "name": "stderr",
     "output_type": "stream",
     "text": [
      "Training:   9%|▉         | 28/300 [01:30<14:26,  3.19s/it]"
     ]
    },
    {
     "name": "stdout",
     "output_type": "stream",
     "text": [
      "Baseline Loss: 3.9462 | Actual Loss: 2.6055\n",
      "Epoch 28/300: Train Loss: 3.8262, Val Loss: 2.6055\n",
      "New best validation loss: 2.6055\n",
      "Baseline Loss: 5.3064 | Actual Loss: 3.8391\n"
     ]
    },
    {
     "name": "stderr",
     "output_type": "stream",
     "text": [
      "Training:  10%|▉         | 29/300 [01:33<14:35,  3.23s/it]"
     ]
    },
    {
     "name": "stdout",
     "output_type": "stream",
     "text": [
      "Baseline Loss: 3.9462 | Actual Loss: 2.5627\n",
      "Epoch 29/300: Train Loss: 3.8391, Val Loss: 2.5627\n",
      "New best validation loss: 2.5627\n",
      "Baseline Loss: 5.3064 | Actual Loss: 3.7621\n"
     ]
    },
    {
     "name": "stderr",
     "output_type": "stream",
     "text": [
      "Training:  10%|█         | 30/300 [01:36<14:36,  3.24s/it]"
     ]
    },
    {
     "name": "stdout",
     "output_type": "stream",
     "text": [
      "Baseline Loss: 3.9462 | Actual Loss: 2.5739\n",
      "Epoch 30/300: Train Loss: 3.7621, Val Loss: 2.5739\n",
      "Baseline Loss: 5.3064 | Actual Loss: 3.7848\n"
     ]
    },
    {
     "name": "stderr",
     "output_type": "stream",
     "text": [
      "Training:  10%|█         | 31/300 [01:40<14:22,  3.21s/it]"
     ]
    },
    {
     "name": "stdout",
     "output_type": "stream",
     "text": [
      "Baseline Loss: 3.9462 | Actual Loss: 2.4543\n",
      "Epoch 31/300: Train Loss: 3.7848, Val Loss: 2.4543\n",
      "New best validation loss: 2.4543\n",
      "Baseline Loss: 5.3064 | Actual Loss: 3.6928\n"
     ]
    },
    {
     "name": "stderr",
     "output_type": "stream",
     "text": [
      "Training:  11%|█         | 32/300 [01:43<14:40,  3.29s/it]"
     ]
    },
    {
     "name": "stdout",
     "output_type": "stream",
     "text": [
      "Baseline Loss: 3.9462 | Actual Loss: 2.5367\n",
      "Epoch 32/300: Train Loss: 3.6928, Val Loss: 2.5367\n",
      "Baseline Loss: 5.3064 | Actual Loss: 3.6952\n"
     ]
    },
    {
     "name": "stderr",
     "output_type": "stream",
     "text": [
      "Training:  11%|█         | 33/300 [01:46<14:38,  3.29s/it]"
     ]
    },
    {
     "name": "stdout",
     "output_type": "stream",
     "text": [
      "Baseline Loss: 3.9462 | Actual Loss: 2.5759\n",
      "Epoch 33/300: Train Loss: 3.6952, Val Loss: 2.5759\n",
      "Baseline Loss: 5.3064 | Actual Loss: 3.6684\n"
     ]
    },
    {
     "name": "stderr",
     "output_type": "stream",
     "text": [
      "Training:  11%|█▏        | 34/300 [01:50<14:41,  3.31s/it]"
     ]
    },
    {
     "name": "stdout",
     "output_type": "stream",
     "text": [
      "Baseline Loss: 3.9462 | Actual Loss: 2.3827\n",
      "Epoch 34/300: Train Loss: 3.6684, Val Loss: 2.3827\n",
      "New best validation loss: 2.3827\n",
      "Baseline Loss: 5.3064 | Actual Loss: 3.7001\n"
     ]
    },
    {
     "name": "stderr",
     "output_type": "stream",
     "text": [
      "Training:  12%|█▏        | 35/300 [01:53<14:39,  3.32s/it]"
     ]
    },
    {
     "name": "stdout",
     "output_type": "stream",
     "text": [
      "Baseline Loss: 3.9462 | Actual Loss: 2.4550\n",
      "Epoch 35/300: Train Loss: 3.7001, Val Loss: 2.4550\n",
      "Baseline Loss: 5.3064 | Actual Loss: 3.6108\n"
     ]
    },
    {
     "name": "stderr",
     "output_type": "stream",
     "text": [
      "Training:  12%|█▏        | 36/300 [01:56<14:21,  3.26s/it]"
     ]
    },
    {
     "name": "stdout",
     "output_type": "stream",
     "text": [
      "Baseline Loss: 3.9462 | Actual Loss: 2.5865\n",
      "Epoch 36/300: Train Loss: 3.6108, Val Loss: 2.5865\n",
      "Baseline Loss: 5.3064 | Actual Loss: 3.6267\n"
     ]
    },
    {
     "name": "stderr",
     "output_type": "stream",
     "text": [
      "Training:  12%|█▏        | 37/300 [01:59<14:12,  3.24s/it]"
     ]
    },
    {
     "name": "stdout",
     "output_type": "stream",
     "text": [
      "Baseline Loss: 3.9462 | Actual Loss: 2.4362\n",
      "Epoch 37/300: Train Loss: 3.6267, Val Loss: 2.4362\n",
      "Baseline Loss: 5.3064 | Actual Loss: 3.5802\n"
     ]
    },
    {
     "name": "stderr",
     "output_type": "stream",
     "text": [
      "Training:  13%|█▎        | 38/300 [02:03<14:14,  3.26s/it]"
     ]
    },
    {
     "name": "stdout",
     "output_type": "stream",
     "text": [
      "Baseline Loss: 3.9462 | Actual Loss: 2.3821\n",
      "Epoch 38/300: Train Loss: 3.5802, Val Loss: 2.3821\n",
      "New best validation loss: 2.3821\n",
      "Baseline Loss: 5.3064 | Actual Loss: 3.6043\n"
     ]
    },
    {
     "name": "stderr",
     "output_type": "stream",
     "text": [
      "Training:  13%|█▎        | 39/300 [02:06<14:03,  3.23s/it]"
     ]
    },
    {
     "name": "stdout",
     "output_type": "stream",
     "text": [
      "Baseline Loss: 3.9462 | Actual Loss: 2.3861\n",
      "Epoch 39/300: Train Loss: 3.6043, Val Loss: 2.3861\n",
      "Baseline Loss: 5.3064 | Actual Loss: 3.5328\n"
     ]
    },
    {
     "name": "stderr",
     "output_type": "stream",
     "text": [
      "Training:  13%|█▎        | 40/300 [02:09<14:10,  3.27s/it]"
     ]
    },
    {
     "name": "stdout",
     "output_type": "stream",
     "text": [
      "Baseline Loss: 3.9462 | Actual Loss: 2.4494\n",
      "Epoch 40/300: Train Loss: 3.5328, Val Loss: 2.4494\n",
      "Baseline Loss: 5.3064 | Actual Loss: 3.5589\n"
     ]
    },
    {
     "name": "stderr",
     "output_type": "stream",
     "text": [
      "Training:  14%|█▎        | 41/300 [02:12<14:06,  3.27s/it]"
     ]
    },
    {
     "name": "stdout",
     "output_type": "stream",
     "text": [
      "Baseline Loss: 3.9462 | Actual Loss: 2.3551\n",
      "Epoch 41/300: Train Loss: 3.5589, Val Loss: 2.3551\n",
      "New best validation loss: 2.3551\n",
      "Baseline Loss: 5.3064 | Actual Loss: 3.5539\n"
     ]
    },
    {
     "name": "stderr",
     "output_type": "stream",
     "text": [
      "Training:  14%|█▍        | 42/300 [02:16<13:56,  3.24s/it]"
     ]
    },
    {
     "name": "stdout",
     "output_type": "stream",
     "text": [
      "Baseline Loss: 3.9462 | Actual Loss: 2.2795\n",
      "Epoch 42/300: Train Loss: 3.5539, Val Loss: 2.2795\n",
      "New best validation loss: 2.2795\n",
      "Baseline Loss: 5.3064 | Actual Loss: 3.5076\n"
     ]
    },
    {
     "name": "stderr",
     "output_type": "stream",
     "text": [
      "Training:  14%|█▍        | 43/300 [02:19<13:59,  3.27s/it]"
     ]
    },
    {
     "name": "stdout",
     "output_type": "stream",
     "text": [
      "Baseline Loss: 3.9462 | Actual Loss: 2.3010\n",
      "Epoch 43/300: Train Loss: 3.5076, Val Loss: 2.3010\n",
      "Baseline Loss: 5.3064 | Actual Loss: 3.5127\n"
     ]
    },
    {
     "name": "stderr",
     "output_type": "stream",
     "text": [
      "Training:  15%|█▍        | 44/300 [02:22<13:53,  3.26s/it]"
     ]
    },
    {
     "name": "stdout",
     "output_type": "stream",
     "text": [
      "Baseline Loss: 3.9462 | Actual Loss: 2.2667\n",
      "Epoch 44/300: Train Loss: 3.5127, Val Loss: 2.2667\n",
      "New best validation loss: 2.2667\n",
      "Baseline Loss: 5.3064 | Actual Loss: 3.4872\n"
     ]
    },
    {
     "name": "stderr",
     "output_type": "stream",
     "text": [
      "Training:  15%|█▌        | 45/300 [02:25<13:41,  3.22s/it]"
     ]
    },
    {
     "name": "stdout",
     "output_type": "stream",
     "text": [
      "Baseline Loss: 3.9462 | Actual Loss: 2.2435\n",
      "Epoch 45/300: Train Loss: 3.4872, Val Loss: 2.2435\n",
      "New best validation loss: 2.2435\n",
      "Baseline Loss: 5.3064 | Actual Loss: 3.4728\n"
     ]
    },
    {
     "name": "stderr",
     "output_type": "stream",
     "text": [
      "Training:  15%|█▌        | 46/300 [02:29<13:40,  3.23s/it]"
     ]
    },
    {
     "name": "stdout",
     "output_type": "stream",
     "text": [
      "Baseline Loss: 3.9462 | Actual Loss: 2.2602\n",
      "Epoch 46/300: Train Loss: 3.4728, Val Loss: 2.2602\n",
      "Baseline Loss: 5.3064 | Actual Loss: 3.4463\n"
     ]
    },
    {
     "name": "stderr",
     "output_type": "stream",
     "text": [
      "Training:  16%|█▌        | 47/300 [02:32<13:25,  3.19s/it]"
     ]
    },
    {
     "name": "stdout",
     "output_type": "stream",
     "text": [
      "Baseline Loss: 3.9462 | Actual Loss: 2.2703\n",
      "Epoch 47/300: Train Loss: 3.4463, Val Loss: 2.2703\n",
      "Baseline Loss: 5.3064 | Actual Loss: 3.4165\n"
     ]
    },
    {
     "name": "stderr",
     "output_type": "stream",
     "text": [
      "Training:  16%|█▌        | 48/300 [02:35<13:24,  3.19s/it]"
     ]
    },
    {
     "name": "stdout",
     "output_type": "stream",
     "text": [
      "Baseline Loss: 3.9462 | Actual Loss: 2.1595\n",
      "Epoch 48/300: Train Loss: 3.4165, Val Loss: 2.1595\n",
      "New best validation loss: 2.1595\n",
      "Baseline Loss: 5.3064 | Actual Loss: 3.4404\n"
     ]
    },
    {
     "name": "stderr",
     "output_type": "stream",
     "text": [
      "Training:  16%|█▋        | 49/300 [02:38<13:30,  3.23s/it]"
     ]
    },
    {
     "name": "stdout",
     "output_type": "stream",
     "text": [
      "Baseline Loss: 3.9462 | Actual Loss: 2.1762\n",
      "Epoch 49/300: Train Loss: 3.4404, Val Loss: 2.1762\n",
      "Baseline Loss: 5.3064 | Actual Loss: 3.3766\n"
     ]
    },
    {
     "name": "stderr",
     "output_type": "stream",
     "text": [
      "Training:  17%|█▋        | 50/300 [02:41<13:13,  3.17s/it]"
     ]
    },
    {
     "name": "stdout",
     "output_type": "stream",
     "text": [
      "Baseline Loss: 3.9462 | Actual Loss: 2.2314\n",
      "Epoch 50/300: Train Loss: 3.3766, Val Loss: 2.2314\n",
      "Baseline Loss: 5.3064 | Actual Loss: 3.3399\n"
     ]
    },
    {
     "name": "stderr",
     "output_type": "stream",
     "text": [
      "Training:  17%|█▋        | 51/300 [02:44<13:10,  3.17s/it]"
     ]
    },
    {
     "name": "stdout",
     "output_type": "stream",
     "text": [
      "Baseline Loss: 3.9462 | Actual Loss: 2.2679\n",
      "Epoch 51/300: Train Loss: 3.3399, Val Loss: 2.2679\n",
      "Baseline Loss: 5.3064 | Actual Loss: 3.3712\n"
     ]
    },
    {
     "name": "stderr",
     "output_type": "stream",
     "text": [
      "Training:  17%|█▋        | 52/300 [02:48<13:21,  3.23s/it]"
     ]
    },
    {
     "name": "stdout",
     "output_type": "stream",
     "text": [
      "Baseline Loss: 3.9462 | Actual Loss: 2.1365\n",
      "Epoch 52/300: Train Loss: 3.3712, Val Loss: 2.1365\n",
      "New best validation loss: 2.1365\n",
      "Baseline Loss: 5.3064 | Actual Loss: 3.3302\n"
     ]
    },
    {
     "name": "stderr",
     "output_type": "stream",
     "text": [
      "Training:  18%|█▊        | 53/300 [02:51<13:05,  3.18s/it]"
     ]
    },
    {
     "name": "stdout",
     "output_type": "stream",
     "text": [
      "Baseline Loss: 3.9462 | Actual Loss: 2.1411\n",
      "Epoch 53/300: Train Loss: 3.3302, Val Loss: 2.1411\n",
      "Baseline Loss: 5.3064 | Actual Loss: 3.3160\n"
     ]
    },
    {
     "name": "stderr",
     "output_type": "stream",
     "text": [
      "Training:  18%|█▊        | 54/300 [02:54<13:16,  3.24s/it]"
     ]
    },
    {
     "name": "stdout",
     "output_type": "stream",
     "text": [
      "Baseline Loss: 3.9462 | Actual Loss: 2.1651\n",
      "Epoch 54/300: Train Loss: 3.3160, Val Loss: 2.1651\n",
      "Baseline Loss: 5.3064 | Actual Loss: 3.3084\n"
     ]
    },
    {
     "name": "stderr",
     "output_type": "stream",
     "text": [
      "Training:  18%|█▊        | 55/300 [02:57<13:13,  3.24s/it]"
     ]
    },
    {
     "name": "stdout",
     "output_type": "stream",
     "text": [
      "Baseline Loss: 3.9462 | Actual Loss: 2.0822\n",
      "Epoch 55/300: Train Loss: 3.3084, Val Loss: 2.0822\n",
      "New best validation loss: 2.0822\n",
      "Baseline Loss: 5.3065 | Actual Loss: 3.2583\n"
     ]
    },
    {
     "name": "stderr",
     "output_type": "stream",
     "text": [
      "Training:  19%|█▊        | 56/300 [03:01<13:06,  3.22s/it]"
     ]
    },
    {
     "name": "stdout",
     "output_type": "stream",
     "text": [
      "Baseline Loss: 3.9462 | Actual Loss: 2.0959\n",
      "Epoch 56/300: Train Loss: 3.2583, Val Loss: 2.0959\n",
      "Baseline Loss: 5.3064 | Actual Loss: 3.2503\n"
     ]
    },
    {
     "name": "stderr",
     "output_type": "stream",
     "text": [
      "Training:  19%|█▉        | 57/300 [03:04<13:11,  3.26s/it]"
     ]
    },
    {
     "name": "stdout",
     "output_type": "stream",
     "text": [
      "Baseline Loss: 3.9462 | Actual Loss: 2.1014\n",
      "Epoch 57/300: Train Loss: 3.2503, Val Loss: 2.1014\n",
      "Baseline Loss: 5.3064 | Actual Loss: 3.2454\n"
     ]
    },
    {
     "name": "stderr",
     "output_type": "stream",
     "text": [
      "Training:  19%|█▉        | 58/300 [03:07<12:55,  3.20s/it]"
     ]
    },
    {
     "name": "stdout",
     "output_type": "stream",
     "text": [
      "Baseline Loss: 3.9462 | Actual Loss: 2.0715\n",
      "Epoch 58/300: Train Loss: 3.2454, Val Loss: 2.0715\n",
      "New best validation loss: 2.0715\n",
      "Baseline Loss: 5.3065 | Actual Loss: 3.2084\n"
     ]
    },
    {
     "name": "stderr",
     "output_type": "stream",
     "text": [
      "Training:  20%|█▉        | 59/300 [03:10<12:46,  3.18s/it]"
     ]
    },
    {
     "name": "stdout",
     "output_type": "stream",
     "text": [
      "Baseline Loss: 3.9462 | Actual Loss: 2.1285\n",
      "Epoch 59/300: Train Loss: 3.2084, Val Loss: 2.1285\n",
      "Baseline Loss: 5.3064 | Actual Loss: 3.2309\n"
     ]
    },
    {
     "name": "stderr",
     "output_type": "stream",
     "text": [
      "Training:  20%|██        | 60/300 [03:13<12:20,  3.09s/it]"
     ]
    },
    {
     "name": "stdout",
     "output_type": "stream",
     "text": [
      "Baseline Loss: 3.9462 | Actual Loss: 2.1489\n",
      "Epoch 60/300: Train Loss: 3.2309, Val Loss: 2.1489\n",
      "Baseline Loss: 5.3064 | Actual Loss: 3.2061\n"
     ]
    },
    {
     "name": "stderr",
     "output_type": "stream",
     "text": [
      "Training:  20%|██        | 61/300 [03:16<12:36,  3.17s/it]"
     ]
    },
    {
     "name": "stdout",
     "output_type": "stream",
     "text": [
      "Baseline Loss: 3.9462 | Actual Loss: 2.0391\n",
      "Epoch 61/300: Train Loss: 3.2061, Val Loss: 2.0391\n",
      "New best validation loss: 2.0391\n",
      "Baseline Loss: 5.3064 | Actual Loss: 3.1936\n"
     ]
    },
    {
     "name": "stderr",
     "output_type": "stream",
     "text": [
      "Training:  21%|██        | 62/300 [03:20<12:46,  3.22s/it]"
     ]
    },
    {
     "name": "stdout",
     "output_type": "stream",
     "text": [
      "Baseline Loss: 3.9462 | Actual Loss: 2.0411\n",
      "Epoch 62/300: Train Loss: 3.1936, Val Loss: 2.0411\n",
      "Baseline Loss: 5.3064 | Actual Loss: 3.1252\n"
     ]
    },
    {
     "name": "stderr",
     "output_type": "stream",
     "text": [
      "Training:  21%|██        | 63/300 [03:23<12:49,  3.25s/it]"
     ]
    },
    {
     "name": "stdout",
     "output_type": "stream",
     "text": [
      "Baseline Loss: 3.9462 | Actual Loss: 2.0784\n",
      "Epoch 63/300: Train Loss: 3.1252, Val Loss: 2.0784\n",
      "Baseline Loss: 5.3064 | Actual Loss: 3.1465\n"
     ]
    },
    {
     "name": "stderr",
     "output_type": "stream",
     "text": [
      "Training:  21%|██▏       | 64/300 [03:26<12:23,  3.15s/it]"
     ]
    },
    {
     "name": "stdout",
     "output_type": "stream",
     "text": [
      "Baseline Loss: 3.9462 | Actual Loss: 2.1329\n",
      "Epoch 64/300: Train Loss: 3.1465, Val Loss: 2.1329\n",
      "Baseline Loss: 5.3064 | Actual Loss: 3.1711\n"
     ]
    },
    {
     "name": "stderr",
     "output_type": "stream",
     "text": [
      "Training:  22%|██▏       | 65/300 [03:29<12:28,  3.18s/it]"
     ]
    },
    {
     "name": "stdout",
     "output_type": "stream",
     "text": [
      "Baseline Loss: 3.9462 | Actual Loss: 2.0303\n",
      "Epoch 65/300: Train Loss: 3.1711, Val Loss: 2.0303\n",
      "New best validation loss: 2.0303\n",
      "Baseline Loss: 5.3064 | Actual Loss: 3.1184\n"
     ]
    },
    {
     "name": "stderr",
     "output_type": "stream",
     "text": [
      "Training:  22%|██▏       | 66/300 [03:32<12:26,  3.19s/it]"
     ]
    },
    {
     "name": "stdout",
     "output_type": "stream",
     "text": [
      "Baseline Loss: 3.9462 | Actual Loss: 1.9328\n",
      "Epoch 66/300: Train Loss: 3.1184, Val Loss: 1.9328\n",
      "New best validation loss: 1.9328\n",
      "Baseline Loss: 5.3064 | Actual Loss: 3.0726\n"
     ]
    },
    {
     "name": "stderr",
     "output_type": "stream",
     "text": [
      "Training:  22%|██▏       | 67/300 [03:36<12:29,  3.22s/it]"
     ]
    },
    {
     "name": "stdout",
     "output_type": "stream",
     "text": [
      "Baseline Loss: 3.9462 | Actual Loss: 1.9547\n",
      "Epoch 67/300: Train Loss: 3.0726, Val Loss: 1.9547\n",
      "Baseline Loss: 5.3064 | Actual Loss: 3.1107\n"
     ]
    },
    {
     "name": "stderr",
     "output_type": "stream",
     "text": [
      "Training:  23%|██▎       | 68/300 [03:39<12:33,  3.25s/it]"
     ]
    },
    {
     "name": "stdout",
     "output_type": "stream",
     "text": [
      "Baseline Loss: 3.9462 | Actual Loss: 2.0075\n",
      "Epoch 68/300: Train Loss: 3.1107, Val Loss: 2.0075\n",
      "Baseline Loss: 5.3064 | Actual Loss: 3.1116\n"
     ]
    },
    {
     "name": "stderr",
     "output_type": "stream",
     "text": [
      "Training:  23%|██▎       | 69/300 [03:42<12:10,  3.16s/it]"
     ]
    },
    {
     "name": "stdout",
     "output_type": "stream",
     "text": [
      "Baseline Loss: 3.9462 | Actual Loss: 1.9505\n",
      "Epoch 69/300: Train Loss: 3.1116, Val Loss: 1.9505\n",
      "Baseline Loss: 5.3064 | Actual Loss: 3.0958\n"
     ]
    },
    {
     "name": "stderr",
     "output_type": "stream",
     "text": [
      "Training:  23%|██▎       | 70/300 [03:45<12:20,  3.22s/it]"
     ]
    },
    {
     "name": "stdout",
     "output_type": "stream",
     "text": [
      "Baseline Loss: 3.9462 | Actual Loss: 1.8761\n",
      "Epoch 70/300: Train Loss: 3.0958, Val Loss: 1.8761\n",
      "New best validation loss: 1.8761\n",
      "Baseline Loss: 5.3064 | Actual Loss: 3.0840\n"
     ]
    },
    {
     "name": "stderr",
     "output_type": "stream",
     "text": [
      "Training:  24%|██▎       | 71/300 [03:48<12:00,  3.15s/it]"
     ]
    },
    {
     "name": "stdout",
     "output_type": "stream",
     "text": [
      "Baseline Loss: 3.9462 | Actual Loss: 1.9779\n",
      "Epoch 71/300: Train Loss: 3.0840, Val Loss: 1.9779\n",
      "Baseline Loss: 5.3064 | Actual Loss: 3.0870\n"
     ]
    },
    {
     "name": "stderr",
     "output_type": "stream",
     "text": [
      "Training:  24%|██▍       | 72/300 [03:52<12:03,  3.17s/it]"
     ]
    },
    {
     "name": "stdout",
     "output_type": "stream",
     "text": [
      "Baseline Loss: 3.9462 | Actual Loss: 1.9710\n",
      "Epoch 72/300: Train Loss: 3.0870, Val Loss: 1.9710\n",
      "Baseline Loss: 5.3064 | Actual Loss: 3.0427\n"
     ]
    },
    {
     "name": "stderr",
     "output_type": "stream",
     "text": [
      "Training:  24%|██▍       | 73/300 [03:55<12:06,  3.20s/it]"
     ]
    },
    {
     "name": "stdout",
     "output_type": "stream",
     "text": [
      "Baseline Loss: 3.9462 | Actual Loss: 1.9041\n",
      "Epoch 73/300: Train Loss: 3.0427, Val Loss: 1.9041\n",
      "Baseline Loss: 5.3064 | Actual Loss: 3.0100\n"
     ]
    },
    {
     "name": "stderr",
     "output_type": "stream",
     "text": [
      "Training:  25%|██▍       | 74/300 [03:58<12:10,  3.23s/it]"
     ]
    },
    {
     "name": "stdout",
     "output_type": "stream",
     "text": [
      "Baseline Loss: 3.9462 | Actual Loss: 1.9798\n",
      "Epoch 74/300: Train Loss: 3.0100, Val Loss: 1.9798\n",
      "Baseline Loss: 5.3064 | Actual Loss: 3.0470\n"
     ]
    },
    {
     "name": "stderr",
     "output_type": "stream",
     "text": [
      "Training:  25%|██▌       | 75/300 [04:01<12:10,  3.24s/it]"
     ]
    },
    {
     "name": "stdout",
     "output_type": "stream",
     "text": [
      "Baseline Loss: 3.9462 | Actual Loss: 1.8319\n",
      "Epoch 75/300: Train Loss: 3.0470, Val Loss: 1.8319\n",
      "New best validation loss: 1.8319\n",
      "Baseline Loss: 5.3064 | Actual Loss: 3.0349\n"
     ]
    },
    {
     "name": "stderr",
     "output_type": "stream",
     "text": [
      "Training:  25%|██▌       | 76/300 [04:05<11:55,  3.19s/it]"
     ]
    },
    {
     "name": "stdout",
     "output_type": "stream",
     "text": [
      "Baseline Loss: 3.9462 | Actual Loss: 1.9167\n",
      "Epoch 76/300: Train Loss: 3.0349, Val Loss: 1.9167\n",
      "Baseline Loss: 5.3064 | Actual Loss: 3.0133\n"
     ]
    },
    {
     "name": "stderr",
     "output_type": "stream",
     "text": [
      "Training:  26%|██▌       | 77/300 [04:08<12:01,  3.24s/it]"
     ]
    },
    {
     "name": "stdout",
     "output_type": "stream",
     "text": [
      "Baseline Loss: 3.9462 | Actual Loss: 1.8962\n",
      "Epoch 77/300: Train Loss: 3.0133, Val Loss: 1.8962\n",
      "Baseline Loss: 5.3064 | Actual Loss: 2.9992\n"
     ]
    },
    {
     "name": "stderr",
     "output_type": "stream",
     "text": [
      "Training:  26%|██▌       | 78/300 [04:11<11:56,  3.23s/it]"
     ]
    },
    {
     "name": "stdout",
     "output_type": "stream",
     "text": [
      "Baseline Loss: 3.9462 | Actual Loss: 1.8731\n",
      "Epoch 78/300: Train Loss: 2.9992, Val Loss: 1.8731\n",
      "Baseline Loss: 5.3064 | Actual Loss: 2.9726\n"
     ]
    },
    {
     "name": "stderr",
     "output_type": "stream",
     "text": [
      "Training:  26%|██▋       | 79/300 [04:14<11:48,  3.21s/it]"
     ]
    },
    {
     "name": "stdout",
     "output_type": "stream",
     "text": [
      "Baseline Loss: 3.9462 | Actual Loss: 1.8186\n",
      "Epoch 79/300: Train Loss: 2.9726, Val Loss: 1.8186\n",
      "New best validation loss: 1.8186\n",
      "Baseline Loss: 5.3064 | Actual Loss: 3.0250\n"
     ]
    },
    {
     "name": "stderr",
     "output_type": "stream",
     "text": [
      "Training:  27%|██▋       | 80/300 [04:17<11:47,  3.22s/it]"
     ]
    },
    {
     "name": "stdout",
     "output_type": "stream",
     "text": [
      "Baseline Loss: 3.9462 | Actual Loss: 1.9049\n",
      "Epoch 80/300: Train Loss: 3.0250, Val Loss: 1.9049\n",
      "Baseline Loss: 5.3064 | Actual Loss: 2.9620\n"
     ]
    },
    {
     "name": "stderr",
     "output_type": "stream",
     "text": [
      "Training:  27%|██▋       | 81/300 [04:21<11:38,  3.19s/it]"
     ]
    },
    {
     "name": "stdout",
     "output_type": "stream",
     "text": [
      "Baseline Loss: 3.9462 | Actual Loss: 1.8771\n",
      "Epoch 81/300: Train Loss: 2.9620, Val Loss: 1.8771\n",
      "Baseline Loss: 5.3065 | Actual Loss: 2.9115\n"
     ]
    },
    {
     "name": "stderr",
     "output_type": "stream",
     "text": [
      "Training:  27%|██▋       | 82/300 [04:24<11:26,  3.15s/it]"
     ]
    },
    {
     "name": "stdout",
     "output_type": "stream",
     "text": [
      "Baseline Loss: 3.9462 | Actual Loss: 1.7881\n",
      "Epoch 82/300: Train Loss: 2.9115, Val Loss: 1.7881\n",
      "New best validation loss: 1.7881\n",
      "Baseline Loss: 5.3064 | Actual Loss: 2.9227\n"
     ]
    },
    {
     "name": "stderr",
     "output_type": "stream",
     "text": [
      "Training:  28%|██▊       | 83/300 [04:27<11:33,  3.20s/it]"
     ]
    },
    {
     "name": "stdout",
     "output_type": "stream",
     "text": [
      "Baseline Loss: 3.9462 | Actual Loss: 1.8795\n",
      "Epoch 83/300: Train Loss: 2.9227, Val Loss: 1.8795\n",
      "Baseline Loss: 5.3064 | Actual Loss: 2.9249\n"
     ]
    },
    {
     "name": "stderr",
     "output_type": "stream",
     "text": [
      "Training:  28%|██▊       | 84/300 [04:30<11:37,  3.23s/it]"
     ]
    },
    {
     "name": "stdout",
     "output_type": "stream",
     "text": [
      "Baseline Loss: 3.9462 | Actual Loss: 1.8654\n",
      "Epoch 84/300: Train Loss: 2.9249, Val Loss: 1.8654\n",
      "Baseline Loss: 5.3064 | Actual Loss: 2.9060\n"
     ]
    },
    {
     "name": "stderr",
     "output_type": "stream",
     "text": [
      "Training:  28%|██▊       | 85/300 [04:33<11:29,  3.20s/it]"
     ]
    },
    {
     "name": "stdout",
     "output_type": "stream",
     "text": [
      "Baseline Loss: 3.9462 | Actual Loss: 1.8013\n",
      "Epoch 85/300: Train Loss: 2.9060, Val Loss: 1.8013\n",
      "Baseline Loss: 5.3064 | Actual Loss: 2.9143\n"
     ]
    },
    {
     "name": "stderr",
     "output_type": "stream",
     "text": [
      "Training:  29%|██▊       | 86/300 [04:37<11:36,  3.26s/it]"
     ]
    },
    {
     "name": "stdout",
     "output_type": "stream",
     "text": [
      "Baseline Loss: 3.9462 | Actual Loss: 1.7633\n",
      "Epoch 86/300: Train Loss: 2.9143, Val Loss: 1.7633\n",
      "New best validation loss: 1.7633\n",
      "Baseline Loss: 5.3064 | Actual Loss: 2.8748\n"
     ]
    },
    {
     "name": "stderr",
     "output_type": "stream",
     "text": [
      "Training:  29%|██▉       | 87/300 [04:40<11:26,  3.23s/it]"
     ]
    },
    {
     "name": "stdout",
     "output_type": "stream",
     "text": [
      "Baseline Loss: 3.9462 | Actual Loss: 1.7707\n",
      "Epoch 87/300: Train Loss: 2.8748, Val Loss: 1.7707\n",
      "Baseline Loss: 5.3064 | Actual Loss: 2.8374\n"
     ]
    },
    {
     "name": "stderr",
     "output_type": "stream",
     "text": [
      "Training:  29%|██▉       | 88/300 [04:43<11:17,  3.19s/it]"
     ]
    },
    {
     "name": "stdout",
     "output_type": "stream",
     "text": [
      "Baseline Loss: 3.9462 | Actual Loss: 1.8059\n",
      "Epoch 88/300: Train Loss: 2.8374, Val Loss: 1.8059\n",
      "Baseline Loss: 5.3064 | Actual Loss: 2.8800\n"
     ]
    },
    {
     "name": "stderr",
     "output_type": "stream",
     "text": [
      "Training:  30%|██▉       | 89/300 [04:46<11:26,  3.25s/it]"
     ]
    },
    {
     "name": "stdout",
     "output_type": "stream",
     "text": [
      "Baseline Loss: 3.9462 | Actual Loss: 1.6648\n",
      "Epoch 89/300: Train Loss: 2.8800, Val Loss: 1.6648\n",
      "New best validation loss: 1.6648\n",
      "Baseline Loss: 5.3064 | Actual Loss: 2.8345\n"
     ]
    },
    {
     "name": "stderr",
     "output_type": "stream",
     "text": [
      "Training:  30%|███       | 90/300 [04:50<11:27,  3.27s/it]"
     ]
    },
    {
     "name": "stdout",
     "output_type": "stream",
     "text": [
      "Baseline Loss: 3.9462 | Actual Loss: 1.7271\n",
      "Epoch 90/300: Train Loss: 2.8345, Val Loss: 1.7271\n",
      "Baseline Loss: 5.3064 | Actual Loss: 2.8201\n"
     ]
    },
    {
     "name": "stderr",
     "output_type": "stream",
     "text": [
      "Training:  30%|███       | 91/300 [04:53<11:16,  3.24s/it]"
     ]
    },
    {
     "name": "stdout",
     "output_type": "stream",
     "text": [
      "Baseline Loss: 3.9462 | Actual Loss: 1.7594\n",
      "Epoch 91/300: Train Loss: 2.8201, Val Loss: 1.7594\n",
      "Baseline Loss: 5.3064 | Actual Loss: 2.8471\n"
     ]
    },
    {
     "name": "stderr",
     "output_type": "stream",
     "text": [
      "Training:  31%|███       | 92/300 [04:56<11:18,  3.26s/it]"
     ]
    },
    {
     "name": "stdout",
     "output_type": "stream",
     "text": [
      "Baseline Loss: 3.9462 | Actual Loss: 1.7085\n",
      "Epoch 92/300: Train Loss: 2.8471, Val Loss: 1.7085\n",
      "Baseline Loss: 5.3064 | Actual Loss: 2.8377\n"
     ]
    },
    {
     "name": "stderr",
     "output_type": "stream",
     "text": [
      "Training:  31%|███       | 93/300 [04:59<11:03,  3.21s/it]"
     ]
    },
    {
     "name": "stdout",
     "output_type": "stream",
     "text": [
      "Baseline Loss: 3.9462 | Actual Loss: 1.8010\n",
      "Epoch 93/300: Train Loss: 2.8377, Val Loss: 1.8010\n",
      "Baseline Loss: 5.3064 | Actual Loss: 2.7954\n"
     ]
    },
    {
     "name": "stderr",
     "output_type": "stream",
     "text": [
      "Training:  31%|███▏      | 94/300 [05:03<11:00,  3.21s/it]"
     ]
    },
    {
     "name": "stdout",
     "output_type": "stream",
     "text": [
      "Baseline Loss: 3.9462 | Actual Loss: 1.7759\n",
      "Epoch 94/300: Train Loss: 2.7954, Val Loss: 1.7759\n",
      "Baseline Loss: 5.3064 | Actual Loss: 2.7599\n"
     ]
    },
    {
     "name": "stderr",
     "output_type": "stream",
     "text": [
      "Training:  32%|███▏      | 95/300 [05:06<11:04,  3.24s/it]"
     ]
    },
    {
     "name": "stdout",
     "output_type": "stream",
     "text": [
      "Baseline Loss: 3.9462 | Actual Loss: 1.7359\n",
      "Epoch 95/300: Train Loss: 2.7599, Val Loss: 1.7359\n",
      "Baseline Loss: 5.3064 | Actual Loss: 2.7828\n"
     ]
    },
    {
     "name": "stderr",
     "output_type": "stream",
     "text": [
      "Training:  32%|███▏      | 96/300 [05:09<10:54,  3.21s/it]"
     ]
    },
    {
     "name": "stdout",
     "output_type": "stream",
     "text": [
      "Baseline Loss: 3.9462 | Actual Loss: 1.7498\n",
      "Epoch 96/300: Train Loss: 2.7828, Val Loss: 1.7498\n",
      "Baseline Loss: 5.3064 | Actual Loss: 2.7455\n"
     ]
    },
    {
     "name": "stderr",
     "output_type": "stream",
     "text": [
      "Training:  32%|███▏      | 97/300 [05:12<11:03,  3.27s/it]"
     ]
    },
    {
     "name": "stdout",
     "output_type": "stream",
     "text": [
      "Baseline Loss: 3.9462 | Actual Loss: 1.6681\n",
      "Epoch 97/300: Train Loss: 2.7455, Val Loss: 1.6681\n",
      "Baseline Loss: 5.3064 | Actual Loss: 2.7270\n"
     ]
    },
    {
     "name": "stderr",
     "output_type": "stream",
     "text": [
      "Training:  33%|███▎      | 98/300 [05:16<10:58,  3.26s/it]"
     ]
    },
    {
     "name": "stdout",
     "output_type": "stream",
     "text": [
      "Baseline Loss: 3.9462 | Actual Loss: 1.7016\n",
      "Epoch 98/300: Train Loss: 2.7270, Val Loss: 1.7016\n",
      "Baseline Loss: 5.3064 | Actual Loss: 2.7199\n"
     ]
    },
    {
     "name": "stderr",
     "output_type": "stream",
     "text": [
      "Training:  33%|███▎      | 99/300 [05:19<10:49,  3.23s/it]"
     ]
    },
    {
     "name": "stdout",
     "output_type": "stream",
     "text": [
      "Baseline Loss: 3.9462 | Actual Loss: 1.6871\n",
      "Epoch 99/300: Train Loss: 2.7199, Val Loss: 1.6871\n",
      "Baseline Loss: 5.3064 | Actual Loss: 2.7326\n"
     ]
    },
    {
     "name": "stderr",
     "output_type": "stream",
     "text": [
      "Training:  33%|███▎      | 100/300 [05:22<10:58,  3.29s/it]"
     ]
    },
    {
     "name": "stdout",
     "output_type": "stream",
     "text": [
      "Baseline Loss: 3.9462 | Actual Loss: 1.6761\n",
      "Epoch 100/300: Train Loss: 2.7326, Val Loss: 1.6761\n",
      "Baseline Loss: 5.3064 | Actual Loss: 2.7311\n"
     ]
    },
    {
     "name": "stderr",
     "output_type": "stream",
     "text": [
      "Training:  34%|███▎      | 101/300 [05:25<10:48,  3.26s/it]"
     ]
    },
    {
     "name": "stdout",
     "output_type": "stream",
     "text": [
      "Baseline Loss: 3.9462 | Actual Loss: 1.7264\n",
      "Epoch 101/300: Train Loss: 2.7311, Val Loss: 1.7264\n",
      "Baseline Loss: 5.3064 | Actual Loss: 2.7121\n"
     ]
    },
    {
     "name": "stderr",
     "output_type": "stream",
     "text": [
      "Training:  34%|███▍      | 102/300 [05:29<10:40,  3.23s/it]"
     ]
    },
    {
     "name": "stdout",
     "output_type": "stream",
     "text": [
      "Baseline Loss: 3.9462 | Actual Loss: 1.6162\n",
      "Epoch 102/300: Train Loss: 2.7121, Val Loss: 1.6162\n",
      "New best validation loss: 1.6162\n",
      "Baseline Loss: 5.3065 | Actual Loss: 2.7328\n"
     ]
    },
    {
     "name": "stderr",
     "output_type": "stream",
     "text": [
      "Training:  34%|███▍      | 103/300 [05:32<10:18,  3.14s/it]"
     ]
    },
    {
     "name": "stdout",
     "output_type": "stream",
     "text": [
      "Baseline Loss: 3.9462 | Actual Loss: 1.6479\n",
      "Epoch 103/300: Train Loss: 2.7328, Val Loss: 1.6479\n",
      "Baseline Loss: 5.3064 | Actual Loss: 2.6980\n"
     ]
    },
    {
     "name": "stderr",
     "output_type": "stream",
     "text": [
      "Training:  35%|███▍      | 104/300 [05:35<10:36,  3.25s/it]"
     ]
    },
    {
     "name": "stdout",
     "output_type": "stream",
     "text": [
      "Baseline Loss: 3.9462 | Actual Loss: 1.6992\n",
      "Epoch 104/300: Train Loss: 2.6980, Val Loss: 1.6992\n",
      "Baseline Loss: 5.3064 | Actual Loss: 2.6869\n"
     ]
    },
    {
     "name": "stderr",
     "output_type": "stream",
     "text": [
      "Training:  35%|███▌      | 105/300 [05:38<10:27,  3.22s/it]"
     ]
    },
    {
     "name": "stdout",
     "output_type": "stream",
     "text": [
      "Baseline Loss: 3.9462 | Actual Loss: 1.7556\n",
      "Epoch 105/300: Train Loss: 2.6869, Val Loss: 1.7556\n",
      "Baseline Loss: 5.3064 | Actual Loss: 2.6790\n"
     ]
    },
    {
     "name": "stderr",
     "output_type": "stream",
     "text": [
      "Training:  35%|███▌      | 106/300 [05:42<10:39,  3.30s/it]"
     ]
    },
    {
     "name": "stdout",
     "output_type": "stream",
     "text": [
      "Baseline Loss: 3.9462 | Actual Loss: 1.6840\n",
      "Epoch 106/300: Train Loss: 2.6790, Val Loss: 1.6840\n",
      "Baseline Loss: 5.3064 | Actual Loss: 2.6525\n"
     ]
    },
    {
     "name": "stderr",
     "output_type": "stream",
     "text": [
      "Training:  36%|███▌      | 107/300 [05:45<10:17,  3.20s/it]"
     ]
    },
    {
     "name": "stdout",
     "output_type": "stream",
     "text": [
      "Baseline Loss: 3.9462 | Actual Loss: 1.6329\n",
      "Epoch 107/300: Train Loss: 2.6525, Val Loss: 1.6329\n",
      "Baseline Loss: 5.3064 | Actual Loss: 2.6649\n"
     ]
    },
    {
     "name": "stderr",
     "output_type": "stream",
     "text": [
      "Training:  36%|███▌      | 108/300 [05:48<10:20,  3.23s/it]"
     ]
    },
    {
     "name": "stdout",
     "output_type": "stream",
     "text": [
      "Baseline Loss: 3.9462 | Actual Loss: 1.6659\n",
      "Epoch 108/300: Train Loss: 2.6649, Val Loss: 1.6659\n",
      "Baseline Loss: 5.3064 | Actual Loss: 2.6623\n"
     ]
    },
    {
     "name": "stderr",
     "output_type": "stream",
     "text": [
      "Training:  36%|███▋      | 109/300 [05:51<10:20,  3.25s/it]"
     ]
    },
    {
     "name": "stdout",
     "output_type": "stream",
     "text": [
      "Baseline Loss: 3.9462 | Actual Loss: 1.6550\n",
      "Epoch 109/300: Train Loss: 2.6623, Val Loss: 1.6550\n",
      "Baseline Loss: 5.3064 | Actual Loss: 2.6352\n"
     ]
    },
    {
     "name": "stderr",
     "output_type": "stream",
     "text": [
      "Training:  37%|███▋      | 110/300 [05:54<10:12,  3.22s/it]"
     ]
    },
    {
     "name": "stdout",
     "output_type": "stream",
     "text": [
      "Baseline Loss: 3.9462 | Actual Loss: 1.5618\n",
      "Epoch 110/300: Train Loss: 2.6352, Val Loss: 1.5618\n",
      "New best validation loss: 1.5618\n",
      "Baseline Loss: 5.3064 | Actual Loss: 2.6107\n"
     ]
    },
    {
     "name": "stderr",
     "output_type": "stream",
     "text": [
      "Training:  37%|███▋      | 111/300 [05:58<10:04,  3.20s/it]"
     ]
    },
    {
     "name": "stdout",
     "output_type": "stream",
     "text": [
      "Baseline Loss: 3.9462 | Actual Loss: 1.6716\n",
      "Epoch 111/300: Train Loss: 2.6107, Val Loss: 1.6716\n",
      "Baseline Loss: 5.3064 | Actual Loss: 2.6381\n"
     ]
    },
    {
     "name": "stderr",
     "output_type": "stream",
     "text": [
      "Training:  37%|███▋      | 112/300 [06:01<10:07,  3.23s/it]"
     ]
    },
    {
     "name": "stdout",
     "output_type": "stream",
     "text": [
      "Baseline Loss: 3.9462 | Actual Loss: 1.5652\n",
      "Epoch 112/300: Train Loss: 2.6381, Val Loss: 1.5652\n",
      "Baseline Loss: 5.3064 | Actual Loss: 2.6071\n"
     ]
    },
    {
     "name": "stderr",
     "output_type": "stream",
     "text": [
      "Training:  38%|███▊      | 113/300 [06:04<09:59,  3.20s/it]"
     ]
    },
    {
     "name": "stdout",
     "output_type": "stream",
     "text": [
      "Baseline Loss: 3.9462 | Actual Loss: 1.6445\n",
      "Epoch 113/300: Train Loss: 2.6071, Val Loss: 1.6445\n",
      "Baseline Loss: 5.3064 | Actual Loss: 2.6191\n"
     ]
    },
    {
     "name": "stderr",
     "output_type": "stream",
     "text": [
      "Training:  38%|███▊      | 114/300 [06:07<10:06,  3.26s/it]"
     ]
    },
    {
     "name": "stdout",
     "output_type": "stream",
     "text": [
      "Baseline Loss: 3.9462 | Actual Loss: 1.5948\n",
      "Epoch 114/300: Train Loss: 2.6191, Val Loss: 1.5948\n",
      "Baseline Loss: 5.3064 | Actual Loss: 2.6124\n"
     ]
    },
    {
     "name": "stderr",
     "output_type": "stream",
     "text": [
      "Training:  38%|███▊      | 115/300 [06:11<10:03,  3.26s/it]"
     ]
    },
    {
     "name": "stdout",
     "output_type": "stream",
     "text": [
      "Baseline Loss: 3.9462 | Actual Loss: 1.6058\n",
      "Epoch 115/300: Train Loss: 2.6124, Val Loss: 1.6058\n",
      "Baseline Loss: 5.3064 | Actual Loss: 2.6046\n"
     ]
    },
    {
     "name": "stderr",
     "output_type": "stream",
     "text": [
      "Training:  39%|███▊      | 116/300 [06:14<09:57,  3.25s/it]"
     ]
    },
    {
     "name": "stdout",
     "output_type": "stream",
     "text": [
      "Baseline Loss: 3.9462 | Actual Loss: 1.5942\n",
      "Epoch 116/300: Train Loss: 2.6046, Val Loss: 1.5942\n",
      "Baseline Loss: 5.3064 | Actual Loss: 2.6104\n"
     ]
    },
    {
     "name": "stderr",
     "output_type": "stream",
     "text": [
      "Training:  39%|███▉      | 117/300 [06:17<09:55,  3.25s/it]"
     ]
    },
    {
     "name": "stdout",
     "output_type": "stream",
     "text": [
      "Baseline Loss: 3.9462 | Actual Loss: 1.5676\n",
      "Epoch 117/300: Train Loss: 2.6104, Val Loss: 1.5676\n",
      "Baseline Loss: 5.3064 | Actual Loss: 2.5381\n"
     ]
    },
    {
     "name": "stderr",
     "output_type": "stream",
     "text": [
      "Training:  39%|███▉      | 118/300 [06:20<09:49,  3.24s/it]"
     ]
    },
    {
     "name": "stdout",
     "output_type": "stream",
     "text": [
      "Baseline Loss: 3.9462 | Actual Loss: 1.5902\n",
      "Epoch 118/300: Train Loss: 2.5381, Val Loss: 1.5902\n",
      "Baseline Loss: 5.3064 | Actual Loss: 2.5838\n"
     ]
    },
    {
     "name": "stderr",
     "output_type": "stream",
     "text": [
      "Training:  40%|███▉      | 119/300 [06:24<09:46,  3.24s/it]"
     ]
    },
    {
     "name": "stdout",
     "output_type": "stream",
     "text": [
      "Baseline Loss: 3.9462 | Actual Loss: 1.5933\n",
      "Epoch 119/300: Train Loss: 2.5838, Val Loss: 1.5933\n",
      "Baseline Loss: 5.3064 | Actual Loss: 2.6278\n"
     ]
    },
    {
     "name": "stderr",
     "output_type": "stream",
     "text": [
      "Training:  40%|████      | 120/300 [06:27<09:29,  3.17s/it]"
     ]
    },
    {
     "name": "stdout",
     "output_type": "stream",
     "text": [
      "Baseline Loss: 3.9462 | Actual Loss: 1.6415\n",
      "Epoch 120/300: Train Loss: 2.6278, Val Loss: 1.6415\n",
      "Baseline Loss: 5.3064 | Actual Loss: 2.5265\n"
     ]
    },
    {
     "name": "stderr",
     "output_type": "stream",
     "text": [
      "Training:  40%|████      | 121/300 [06:30<09:42,  3.25s/it]"
     ]
    },
    {
     "name": "stdout",
     "output_type": "stream",
     "text": [
      "Baseline Loss: 3.9462 | Actual Loss: 1.5336\n",
      "Epoch 121/300: Train Loss: 2.5265, Val Loss: 1.5336\n",
      "New best validation loss: 1.5336\n",
      "Baseline Loss: 5.3064 | Actual Loss: 2.5493\n"
     ]
    },
    {
     "name": "stderr",
     "output_type": "stream",
     "text": [
      "Training:  41%|████      | 122/300 [06:33<09:32,  3.21s/it]"
     ]
    },
    {
     "name": "stdout",
     "output_type": "stream",
     "text": [
      "Baseline Loss: 3.9462 | Actual Loss: 1.6209\n",
      "Epoch 122/300: Train Loss: 2.5493, Val Loss: 1.6209\n",
      "Baseline Loss: 5.3064 | Actual Loss: 2.5462\n"
     ]
    },
    {
     "name": "stderr",
     "output_type": "stream",
     "text": [
      "Training:  41%|████      | 123/300 [06:37<09:44,  3.30s/it]"
     ]
    },
    {
     "name": "stdout",
     "output_type": "stream",
     "text": [
      "Baseline Loss: 3.9462 | Actual Loss: 1.5743\n",
      "Epoch 123/300: Train Loss: 2.5462, Val Loss: 1.5743\n",
      "Baseline Loss: 5.3064 | Actual Loss: 2.4894\n"
     ]
    },
    {
     "name": "stderr",
     "output_type": "stream",
     "text": [
      "Training:  41%|████▏     | 124/300 [06:40<09:23,  3.20s/it]"
     ]
    },
    {
     "name": "stdout",
     "output_type": "stream",
     "text": [
      "Baseline Loss: 3.9462 | Actual Loss: 1.4733\n",
      "Epoch 124/300: Train Loss: 2.4894, Val Loss: 1.4733\n",
      "New best validation loss: 1.4733\n",
      "Baseline Loss: 5.3064 | Actual Loss: 2.5278\n"
     ]
    },
    {
     "name": "stderr",
     "output_type": "stream",
     "text": [
      "Training:  42%|████▏     | 125/300 [06:43<09:26,  3.23s/it]"
     ]
    },
    {
     "name": "stdout",
     "output_type": "stream",
     "text": [
      "Baseline Loss: 3.9462 | Actual Loss: 1.5786\n",
      "Epoch 125/300: Train Loss: 2.5278, Val Loss: 1.5786\n",
      "Baseline Loss: 5.3064 | Actual Loss: 2.4913\n"
     ]
    },
    {
     "name": "stderr",
     "output_type": "stream",
     "text": [
      "Training:  42%|████▏     | 126/300 [06:46<09:26,  3.25s/it]"
     ]
    },
    {
     "name": "stdout",
     "output_type": "stream",
     "text": [
      "Baseline Loss: 3.9462 | Actual Loss: 1.4721\n",
      "Epoch 126/300: Train Loss: 2.4913, Val Loss: 1.4721\n",
      "New best validation loss: 1.4721\n",
      "Baseline Loss: 5.3064 | Actual Loss: 2.4933\n"
     ]
    },
    {
     "name": "stderr",
     "output_type": "stream",
     "text": [
      "Training:  42%|████▏     | 127/300 [06:49<09:14,  3.20s/it]"
     ]
    },
    {
     "name": "stdout",
     "output_type": "stream",
     "text": [
      "Baseline Loss: 3.9462 | Actual Loss: 1.4618\n",
      "Epoch 127/300: Train Loss: 2.4933, Val Loss: 1.4618\n",
      "New best validation loss: 1.4618\n",
      "Baseline Loss: 5.3064 | Actual Loss: 2.4798\n"
     ]
    },
    {
     "name": "stderr",
     "output_type": "stream",
     "text": [
      "Training:  43%|████▎     | 128/300 [06:52<09:11,  3.21s/it]"
     ]
    },
    {
     "name": "stdout",
     "output_type": "stream",
     "text": [
      "Baseline Loss: 3.9462 | Actual Loss: 1.5463\n",
      "Epoch 128/300: Train Loss: 2.4798, Val Loss: 1.5463\n",
      "Baseline Loss: 5.3064 | Actual Loss: 2.5127\n"
     ]
    },
    {
     "name": "stderr",
     "output_type": "stream",
     "text": [
      "Training:  43%|████▎     | 129/300 [06:56<09:13,  3.24s/it]"
     ]
    },
    {
     "name": "stdout",
     "output_type": "stream",
     "text": [
      "Baseline Loss: 3.9462 | Actual Loss: 1.4931\n",
      "Epoch 129/300: Train Loss: 2.5127, Val Loss: 1.4931\n",
      "Baseline Loss: 5.3064 | Actual Loss: 2.5194\n"
     ]
    },
    {
     "name": "stderr",
     "output_type": "stream",
     "text": [
      "Training:  43%|████▎     | 130/300 [06:59<09:07,  3.22s/it]"
     ]
    },
    {
     "name": "stdout",
     "output_type": "stream",
     "text": [
      "Baseline Loss: 3.9462 | Actual Loss: 1.4825\n",
      "Epoch 130/300: Train Loss: 2.5194, Val Loss: 1.4825\n",
      "Baseline Loss: 5.3064 | Actual Loss: 2.4461\n"
     ]
    },
    {
     "name": "stderr",
     "output_type": "stream",
     "text": [
      "Training:  44%|████▎     | 131/300 [07:02<09:03,  3.22s/it]"
     ]
    },
    {
     "name": "stdout",
     "output_type": "stream",
     "text": [
      "Baseline Loss: 3.9462 | Actual Loss: 1.5521\n",
      "Epoch 131/300: Train Loss: 2.4461, Val Loss: 1.5521\n",
      "Baseline Loss: 5.3064 | Actual Loss: 2.4964\n"
     ]
    },
    {
     "name": "stderr",
     "output_type": "stream",
     "text": [
      "Training:  44%|████▍     | 132/300 [07:05<08:59,  3.21s/it]"
     ]
    },
    {
     "name": "stdout",
     "output_type": "stream",
     "text": [
      "Baseline Loss: 3.9462 | Actual Loss: 1.5796\n",
      "Epoch 132/300: Train Loss: 2.4964, Val Loss: 1.5796\n",
      "Baseline Loss: 5.3065 | Actual Loss: 2.4851\n"
     ]
    },
    {
     "name": "stderr",
     "output_type": "stream",
     "text": [
      "Training:  44%|████▍     | 133/300 [07:08<08:44,  3.14s/it]"
     ]
    },
    {
     "name": "stdout",
     "output_type": "stream",
     "text": [
      "Baseline Loss: 3.9462 | Actual Loss: 1.5244\n",
      "Epoch 133/300: Train Loss: 2.4851, Val Loss: 1.5244\n",
      "Baseline Loss: 5.3064 | Actual Loss: 2.4173\n"
     ]
    },
    {
     "name": "stderr",
     "output_type": "stream",
     "text": [
      "Training:  45%|████▍     | 134/300 [07:12<08:50,  3.19s/it]"
     ]
    },
    {
     "name": "stdout",
     "output_type": "stream",
     "text": [
      "Baseline Loss: 3.9462 | Actual Loss: 1.4705\n",
      "Epoch 134/300: Train Loss: 2.4173, Val Loss: 1.4705\n",
      "Baseline Loss: 5.3064 | Actual Loss: 2.5118\n"
     ]
    },
    {
     "name": "stderr",
     "output_type": "stream",
     "text": [
      "Training:  45%|████▌     | 135/300 [07:15<08:52,  3.22s/it]"
     ]
    },
    {
     "name": "stdout",
     "output_type": "stream",
     "text": [
      "Baseline Loss: 3.9462 | Actual Loss: 1.5086\n",
      "Epoch 135/300: Train Loss: 2.5118, Val Loss: 1.5086\n",
      "Baseline Loss: 5.3064 | Actual Loss: 2.4471\n"
     ]
    },
    {
     "name": "stderr",
     "output_type": "stream",
     "text": [
      "Training:  45%|████▌     | 136/300 [07:18<08:44,  3.20s/it]"
     ]
    },
    {
     "name": "stdout",
     "output_type": "stream",
     "text": [
      "Baseline Loss: 3.9462 | Actual Loss: 1.5702\n",
      "Epoch 136/300: Train Loss: 2.4471, Val Loss: 1.5702\n",
      "Baseline Loss: 5.3064 | Actual Loss: 2.4330\n"
     ]
    },
    {
     "name": "stderr",
     "output_type": "stream",
     "text": [
      "Training:  46%|████▌     | 137/300 [07:22<08:54,  3.28s/it]"
     ]
    },
    {
     "name": "stdout",
     "output_type": "stream",
     "text": [
      "Baseline Loss: 3.9462 | Actual Loss: 1.4897\n",
      "Epoch 137/300: Train Loss: 2.4330, Val Loss: 1.4897\n",
      "Baseline Loss: 5.3064 | Actual Loss: 2.4077\n"
     ]
    },
    {
     "name": "stderr",
     "output_type": "stream",
     "text": [
      "Training:  46%|████▌     | 138/300 [07:25<08:37,  3.19s/it]"
     ]
    },
    {
     "name": "stdout",
     "output_type": "stream",
     "text": [
      "Baseline Loss: 3.9462 | Actual Loss: 1.4008\n",
      "Epoch 138/300: Train Loss: 2.4077, Val Loss: 1.4008\n",
      "New best validation loss: 1.4008\n",
      "Baseline Loss: 5.3065 | Actual Loss: 2.4090\n"
     ]
    },
    {
     "name": "stderr",
     "output_type": "stream",
     "text": [
      "Training:  46%|████▋     | 139/300 [07:28<08:40,  3.24s/it]"
     ]
    },
    {
     "name": "stdout",
     "output_type": "stream",
     "text": [
      "Baseline Loss: 3.9462 | Actual Loss: 1.5496\n",
      "Epoch 139/300: Train Loss: 2.4090, Val Loss: 1.5496\n",
      "Baseline Loss: 5.3064 | Actual Loss: 2.4194\n"
     ]
    },
    {
     "name": "stderr",
     "output_type": "stream",
     "text": [
      "Training:  47%|████▋     | 140/300 [07:31<08:26,  3.17s/it]"
     ]
    },
    {
     "name": "stdout",
     "output_type": "stream",
     "text": [
      "Baseline Loss: 3.9462 | Actual Loss: 1.5015\n",
      "Epoch 140/300: Train Loss: 2.4194, Val Loss: 1.5015\n",
      "Baseline Loss: 5.3064 | Actual Loss: 2.3809\n"
     ]
    },
    {
     "name": "stderr",
     "output_type": "stream",
     "text": [
      "Training:  47%|████▋     | 141/300 [07:34<08:30,  3.21s/it]"
     ]
    },
    {
     "name": "stdout",
     "output_type": "stream",
     "text": [
      "Baseline Loss: 3.9462 | Actual Loss: 1.4526\n",
      "Epoch 141/300: Train Loss: 2.3809, Val Loss: 1.4526\n",
      "Baseline Loss: 5.3064 | Actual Loss: 2.4587\n"
     ]
    },
    {
     "name": "stderr",
     "output_type": "stream",
     "text": [
      "Training:  47%|████▋     | 142/300 [07:38<08:31,  3.23s/it]"
     ]
    },
    {
     "name": "stdout",
     "output_type": "stream",
     "text": [
      "Baseline Loss: 3.9462 | Actual Loss: 1.5101\n",
      "Epoch 142/300: Train Loss: 2.4587, Val Loss: 1.5101\n",
      "Baseline Loss: 5.3064 | Actual Loss: 2.4154\n"
     ]
    },
    {
     "name": "stderr",
     "output_type": "stream",
     "text": [
      "Training:  48%|████▊     | 143/300 [07:41<08:29,  3.24s/it]"
     ]
    },
    {
     "name": "stdout",
     "output_type": "stream",
     "text": [
      "Baseline Loss: 3.9462 | Actual Loss: 1.5077\n",
      "Epoch 143/300: Train Loss: 2.4154, Val Loss: 1.5077\n",
      "Baseline Loss: 5.3064 | Actual Loss: 2.4200\n"
     ]
    },
    {
     "name": "stderr",
     "output_type": "stream",
     "text": [
      "Training:  48%|████▊     | 144/300 [07:44<08:27,  3.25s/it]"
     ]
    },
    {
     "name": "stdout",
     "output_type": "stream",
     "text": [
      "Baseline Loss: 3.9462 | Actual Loss: 1.4197\n",
      "Epoch 144/300: Train Loss: 2.4200, Val Loss: 1.4197\n",
      "Baseline Loss: 5.3064 | Actual Loss: 2.3469\n"
     ]
    },
    {
     "name": "stderr",
     "output_type": "stream",
     "text": [
      "Training:  48%|████▊     | 145/300 [07:47<08:18,  3.21s/it]"
     ]
    },
    {
     "name": "stdout",
     "output_type": "stream",
     "text": [
      "Baseline Loss: 3.9462 | Actual Loss: 1.4782\n",
      "Epoch 145/300: Train Loss: 2.3469, Val Loss: 1.4782\n",
      "Baseline Loss: 5.3064 | Actual Loss: 2.3767\n"
     ]
    },
    {
     "name": "stderr",
     "output_type": "stream",
     "text": [
      "Training:  49%|████▊     | 146/300 [07:51<08:20,  3.25s/it]"
     ]
    },
    {
     "name": "stdout",
     "output_type": "stream",
     "text": [
      "Baseline Loss: 3.9462 | Actual Loss: 1.4421\n",
      "Epoch 146/300: Train Loss: 2.3767, Val Loss: 1.4421\n",
      "Baseline Loss: 5.3064 | Actual Loss: 2.3376\n"
     ]
    },
    {
     "name": "stderr",
     "output_type": "stream",
     "text": [
      "Training:  49%|████▉     | 147/300 [07:54<08:17,  3.25s/it]"
     ]
    },
    {
     "name": "stdout",
     "output_type": "stream",
     "text": [
      "Baseline Loss: 3.9462 | Actual Loss: 1.4629\n",
      "Epoch 147/300: Train Loss: 2.3376, Val Loss: 1.4629\n",
      "Baseline Loss: 5.3064 | Actual Loss: 2.4022\n"
     ]
    },
    {
     "name": "stderr",
     "output_type": "stream",
     "text": [
      "Training:  49%|████▉     | 148/300 [07:57<08:10,  3.23s/it]"
     ]
    },
    {
     "name": "stdout",
     "output_type": "stream",
     "text": [
      "Baseline Loss: 3.9462 | Actual Loss: 1.5424\n",
      "Epoch 148/300: Train Loss: 2.4022, Val Loss: 1.5424\n",
      "Baseline Loss: 5.3064 | Actual Loss: 2.3842\n"
     ]
    },
    {
     "name": "stderr",
     "output_type": "stream",
     "text": [
      "Training:  50%|████▉     | 149/300 [08:00<08:16,  3.29s/it]"
     ]
    },
    {
     "name": "stdout",
     "output_type": "stream",
     "text": [
      "Baseline Loss: 3.9462 | Actual Loss: 1.5182\n",
      "Epoch 149/300: Train Loss: 2.3842, Val Loss: 1.5182\n",
      "Baseline Loss: 5.3064 | Actual Loss: 2.3741\n"
     ]
    },
    {
     "name": "stderr",
     "output_type": "stream",
     "text": [
      "Training:  50%|█████     | 150/300 [08:03<08:05,  3.24s/it]"
     ]
    },
    {
     "name": "stdout",
     "output_type": "stream",
     "text": [
      "Baseline Loss: 3.9462 | Actual Loss: 1.4344\n",
      "Epoch 150/300: Train Loss: 2.3741, Val Loss: 1.4344\n",
      "Baseline Loss: 5.3064 | Actual Loss: 2.3328\n"
     ]
    },
    {
     "name": "stderr",
     "output_type": "stream",
     "text": [
      "Training:  50%|█████     | 151/300 [08:07<07:59,  3.22s/it]"
     ]
    },
    {
     "name": "stdout",
     "output_type": "stream",
     "text": [
      "Baseline Loss: 3.9462 | Actual Loss: 1.4629\n",
      "Epoch 151/300: Train Loss: 2.3328, Val Loss: 1.4629\n",
      "Baseline Loss: 5.3064 | Actual Loss: 2.3942\n"
     ]
    },
    {
     "name": "stderr",
     "output_type": "stream",
     "text": [
      "Training:  51%|█████     | 152/300 [08:10<07:59,  3.24s/it]"
     ]
    },
    {
     "name": "stdout",
     "output_type": "stream",
     "text": [
      "Baseline Loss: 3.9462 | Actual Loss: 1.4493\n",
      "Epoch 152/300: Train Loss: 2.3942, Val Loss: 1.4493\n",
      "Baseline Loss: 5.3064 | Actual Loss: 2.3450\n"
     ]
    },
    {
     "name": "stderr",
     "output_type": "stream",
     "text": [
      "Training:  51%|█████     | 153/300 [08:13<07:51,  3.21s/it]"
     ]
    },
    {
     "name": "stdout",
     "output_type": "stream",
     "text": [
      "Baseline Loss: 3.9462 | Actual Loss: 1.4842\n",
      "Epoch 153/300: Train Loss: 2.3450, Val Loss: 1.4842\n",
      "Baseline Loss: 5.3064 | Actual Loss: 2.3549\n"
     ]
    },
    {
     "name": "stderr",
     "output_type": "stream",
     "text": [
      "Training:  51%|█████▏    | 154/300 [08:17<07:58,  3.28s/it]"
     ]
    },
    {
     "name": "stdout",
     "output_type": "stream",
     "text": [
      "Baseline Loss: 3.9462 | Actual Loss: 1.4287\n",
      "Epoch 154/300: Train Loss: 2.3549, Val Loss: 1.4287\n",
      "Baseline Loss: 5.3064 | Actual Loss: 2.3267\n"
     ]
    },
    {
     "name": "stderr",
     "output_type": "stream",
     "text": [
      "Training:  52%|█████▏    | 155/300 [08:20<07:53,  3.26s/it]"
     ]
    },
    {
     "name": "stdout",
     "output_type": "stream",
     "text": [
      "Baseline Loss: 3.9462 | Actual Loss: 1.4856\n",
      "Epoch 155/300: Train Loss: 2.3267, Val Loss: 1.4856\n",
      "Baseline Loss: 5.3064 | Actual Loss: 2.3604\n"
     ]
    },
    {
     "name": "stderr",
     "output_type": "stream",
     "text": [
      "Training:  52%|█████▏    | 156/300 [08:23<07:43,  3.22s/it]"
     ]
    },
    {
     "name": "stdout",
     "output_type": "stream",
     "text": [
      "Baseline Loss: 3.9462 | Actual Loss: 1.4889\n",
      "Epoch 156/300: Train Loss: 2.3604, Val Loss: 1.4889\n",
      "Baseline Loss: 5.3064 | Actual Loss: 2.3081\n"
     ]
    },
    {
     "name": "stderr",
     "output_type": "stream",
     "text": [
      "Training:  52%|█████▏    | 157/300 [08:26<07:42,  3.24s/it]"
     ]
    },
    {
     "name": "stdout",
     "output_type": "stream",
     "text": [
      "Baseline Loss: 3.9462 | Actual Loss: 1.5034\n",
      "Epoch 157/300: Train Loss: 2.3081, Val Loss: 1.5034\n",
      "Baseline Loss: 5.3064 | Actual Loss: 2.3232\n"
     ]
    },
    {
     "name": "stderr",
     "output_type": "stream",
     "text": [
      "Training:  53%|█████▎    | 158/300 [08:29<07:35,  3.21s/it]"
     ]
    },
    {
     "name": "stdout",
     "output_type": "stream",
     "text": [
      "Baseline Loss: 3.9462 | Actual Loss: 1.4926\n",
      "Epoch 158/300: Train Loss: 2.3232, Val Loss: 1.4926\n",
      "Baseline Loss: 5.3064 | Actual Loss: 2.2910\n"
     ]
    },
    {
     "name": "stderr",
     "output_type": "stream",
     "text": [
      "Training:  53%|█████▎    | 159/300 [08:32<07:30,  3.19s/it]"
     ]
    },
    {
     "name": "stdout",
     "output_type": "stream",
     "text": [
      "Baseline Loss: 3.9462 | Actual Loss: 1.4591\n",
      "Epoch 159/300: Train Loss: 2.2910, Val Loss: 1.4591\n",
      "Baseline Loss: 5.3064 | Actual Loss: 2.2857\n"
     ]
    },
    {
     "name": "stderr",
     "output_type": "stream",
     "text": [
      "Training:  53%|█████▎    | 160/300 [08:35<07:19,  3.14s/it]"
     ]
    },
    {
     "name": "stdout",
     "output_type": "stream",
     "text": [
      "Baseline Loss: 3.9462 | Actual Loss: 1.4904\n",
      "Epoch 160/300: Train Loss: 2.2857, Val Loss: 1.4904\n",
      "Baseline Loss: 5.3065 | Actual Loss: 2.3368\n"
     ]
    },
    {
     "name": "stderr",
     "output_type": "stream",
     "text": [
      "Training:  54%|█████▎    | 161/300 [08:39<07:31,  3.25s/it]"
     ]
    },
    {
     "name": "stdout",
     "output_type": "stream",
     "text": [
      "Baseline Loss: 3.9462 | Actual Loss: 1.4090\n",
      "Epoch 161/300: Train Loss: 2.3368, Val Loss: 1.4090\n",
      "Baseline Loss: 5.3064 | Actual Loss: 2.2727\n"
     ]
    },
    {
     "name": "stderr",
     "output_type": "stream",
     "text": [
      "Training:  54%|█████▍    | 162/300 [08:42<07:21,  3.20s/it]"
     ]
    },
    {
     "name": "stdout",
     "output_type": "stream",
     "text": [
      "Baseline Loss: 3.9462 | Actual Loss: 1.4379\n",
      "Epoch 162/300: Train Loss: 2.2727, Val Loss: 1.4379\n",
      "Baseline Loss: 5.3064 | Actual Loss: 2.3120\n"
     ]
    },
    {
     "name": "stderr",
     "output_type": "stream",
     "text": [
      "Training:  54%|█████▍    | 163/300 [08:46<07:31,  3.29s/it]"
     ]
    },
    {
     "name": "stdout",
     "output_type": "stream",
     "text": [
      "Baseline Loss: 3.9462 | Actual Loss: 1.3826\n",
      "Epoch 163/300: Train Loss: 2.3120, Val Loss: 1.3826\n",
      "New best validation loss: 1.3826\n",
      "Baseline Loss: 5.3064 | Actual Loss: 2.2734\n"
     ]
    },
    {
     "name": "stderr",
     "output_type": "stream",
     "text": [
      "Training:  55%|█████▍    | 164/300 [08:48<07:11,  3.17s/it]"
     ]
    },
    {
     "name": "stdout",
     "output_type": "stream",
     "text": [
      "Baseline Loss: 3.9462 | Actual Loss: 1.3648\n",
      "Epoch 164/300: Train Loss: 2.2734, Val Loss: 1.3648\n",
      "New best validation loss: 1.3648\n",
      "Baseline Loss: 5.3064 | Actual Loss: 2.2777\n"
     ]
    },
    {
     "name": "stderr",
     "output_type": "stream",
     "text": [
      "Training:  55%|█████▌    | 165/300 [08:52<07:16,  3.23s/it]"
     ]
    },
    {
     "name": "stdout",
     "output_type": "stream",
     "text": [
      "Baseline Loss: 3.9462 | Actual Loss: 1.4010\n",
      "Epoch 165/300: Train Loss: 2.2777, Val Loss: 1.4010\n",
      "Baseline Loss: 5.3064 | Actual Loss: 2.2295\n"
     ]
    },
    {
     "name": "stderr",
     "output_type": "stream",
     "text": [
      "Training:  55%|█████▌    | 166/300 [08:55<07:16,  3.26s/it]"
     ]
    },
    {
     "name": "stdout",
     "output_type": "stream",
     "text": [
      "Baseline Loss: 3.9462 | Actual Loss: 1.4622\n",
      "Epoch 166/300: Train Loss: 2.2295, Val Loss: 1.4622\n",
      "Baseline Loss: 5.3064 | Actual Loss: 2.2967\n"
     ]
    },
    {
     "name": "stderr",
     "output_type": "stream",
     "text": [
      "Training:  56%|█████▌    | 167/300 [08:58<07:06,  3.21s/it]"
     ]
    },
    {
     "name": "stdout",
     "output_type": "stream",
     "text": [
      "Baseline Loss: 3.9462 | Actual Loss: 1.4244\n",
      "Epoch 167/300: Train Loss: 2.2967, Val Loss: 1.4244\n",
      "Baseline Loss: 5.3064 | Actual Loss: 2.2812\n"
     ]
    },
    {
     "name": "stderr",
     "output_type": "stream",
     "text": [
      "Training:  56%|█████▌    | 168/300 [09:01<07:03,  3.21s/it]"
     ]
    },
    {
     "name": "stdout",
     "output_type": "stream",
     "text": [
      "Baseline Loss: 3.9462 | Actual Loss: 1.4682\n",
      "Epoch 168/300: Train Loss: 2.2812, Val Loss: 1.4682\n",
      "Baseline Loss: 5.3064 | Actual Loss: 2.2994\n"
     ]
    },
    {
     "name": "stderr",
     "output_type": "stream",
     "text": [
      "Training:  56%|█████▋    | 169/300 [09:05<07:02,  3.23s/it]"
     ]
    },
    {
     "name": "stdout",
     "output_type": "stream",
     "text": [
      "Baseline Loss: 3.9462 | Actual Loss: 1.3749\n",
      "Epoch 169/300: Train Loss: 2.2994, Val Loss: 1.3749\n",
      "Baseline Loss: 5.3064 | Actual Loss: 2.2641\n"
     ]
    },
    {
     "name": "stderr",
     "output_type": "stream",
     "text": [
      "Training:  57%|█████▋    | 170/300 [09:08<06:54,  3.19s/it]"
     ]
    },
    {
     "name": "stdout",
     "output_type": "stream",
     "text": [
      "Baseline Loss: 3.9462 | Actual Loss: 1.4378\n",
      "Epoch 170/300: Train Loss: 2.2641, Val Loss: 1.4378\n",
      "Baseline Loss: 5.3064 | Actual Loss: 2.2317\n"
     ]
    },
    {
     "name": "stderr",
     "output_type": "stream",
     "text": [
      "Training:  57%|█████▋    | 171/300 [09:11<07:00,  3.26s/it]"
     ]
    },
    {
     "name": "stdout",
     "output_type": "stream",
     "text": [
      "Baseline Loss: 3.9462 | Actual Loss: 1.3799\n",
      "Epoch 171/300: Train Loss: 2.2317, Val Loss: 1.3799\n",
      "Baseline Loss: 5.3064 | Actual Loss: 2.2420\n"
     ]
    },
    {
     "name": "stderr",
     "output_type": "stream",
     "text": [
      "Training:  57%|█████▋    | 172/300 [09:15<06:58,  3.27s/it]"
     ]
    },
    {
     "name": "stdout",
     "output_type": "stream",
     "text": [
      "Baseline Loss: 3.9462 | Actual Loss: 1.4300\n",
      "Epoch 172/300: Train Loss: 2.2420, Val Loss: 1.4300\n",
      "Baseline Loss: 5.3064 | Actual Loss: 2.2889\n"
     ]
    },
    {
     "name": "stderr",
     "output_type": "stream",
     "text": [
      "Training:  58%|█████▊    | 173/300 [09:18<06:51,  3.24s/it]"
     ]
    },
    {
     "name": "stdout",
     "output_type": "stream",
     "text": [
      "Baseline Loss: 3.9462 | Actual Loss: 1.4862\n",
      "Epoch 173/300: Train Loss: 2.2889, Val Loss: 1.4862\n",
      "Baseline Loss: 5.3064 | Actual Loss: 2.2958\n"
     ]
    },
    {
     "name": "stderr",
     "output_type": "stream",
     "text": [
      "Training:  58%|█████▊    | 174/300 [09:21<06:52,  3.27s/it]"
     ]
    },
    {
     "name": "stdout",
     "output_type": "stream",
     "text": [
      "Baseline Loss: 3.9462 | Actual Loss: 1.4582\n",
      "Epoch 174/300: Train Loss: 2.2958, Val Loss: 1.4582\n",
      "Baseline Loss: 5.3064 | Actual Loss: 2.2794\n"
     ]
    },
    {
     "name": "stderr",
     "output_type": "stream",
     "text": [
      "Training:  58%|█████▊    | 175/300 [09:24<06:49,  3.28s/it]"
     ]
    },
    {
     "name": "stdout",
     "output_type": "stream",
     "text": [
      "Baseline Loss: 3.9462 | Actual Loss: 1.4049\n",
      "Epoch 175/300: Train Loss: 2.2794, Val Loss: 1.4049\n",
      "Baseline Loss: 5.3064 | Actual Loss: 2.2486\n"
     ]
    },
    {
     "name": "stderr",
     "output_type": "stream",
     "text": [
      "Training:  59%|█████▊    | 176/300 [09:28<06:42,  3.24s/it]"
     ]
    },
    {
     "name": "stdout",
     "output_type": "stream",
     "text": [
      "Baseline Loss: 3.9462 | Actual Loss: 1.3711\n",
      "Epoch 176/300: Train Loss: 2.2486, Val Loss: 1.3711\n",
      "Baseline Loss: 5.3064 | Actual Loss: 2.2752\n"
     ]
    },
    {
     "name": "stderr",
     "output_type": "stream",
     "text": [
      "Training:  59%|█████▉    | 177/300 [09:30<06:26,  3.14s/it]"
     ]
    },
    {
     "name": "stdout",
     "output_type": "stream",
     "text": [
      "Baseline Loss: 3.9462 | Actual Loss: 1.4268\n",
      "Epoch 177/300: Train Loss: 2.2752, Val Loss: 1.4268\n",
      "Baseline Loss: 5.3064 | Actual Loss: 2.2328\n"
     ]
    },
    {
     "name": "stderr",
     "output_type": "stream",
     "text": [
      "Training:  59%|█████▉    | 178/300 [09:34<06:37,  3.25s/it]"
     ]
    },
    {
     "name": "stdout",
     "output_type": "stream",
     "text": [
      "Baseline Loss: 3.9462 | Actual Loss: 1.4428\n",
      "Epoch 178/300: Train Loss: 2.2328, Val Loss: 1.4428\n",
      "Baseline Loss: 5.3064 | Actual Loss: 2.2292\n"
     ]
    },
    {
     "name": "stderr",
     "output_type": "stream",
     "text": [
      "Training:  60%|█████▉    | 179/300 [09:37<06:29,  3.22s/it]"
     ]
    },
    {
     "name": "stdout",
     "output_type": "stream",
     "text": [
      "Baseline Loss: 3.9462 | Actual Loss: 1.4253\n",
      "Epoch 179/300: Train Loss: 2.2292, Val Loss: 1.4253\n",
      "Baseline Loss: 5.3064 | Actual Loss: 2.2591\n"
     ]
    },
    {
     "name": "stderr",
     "output_type": "stream",
     "text": [
      "Training:  60%|██████    | 180/300 [09:41<06:34,  3.29s/it]"
     ]
    },
    {
     "name": "stdout",
     "output_type": "stream",
     "text": [
      "Baseline Loss: 3.9462 | Actual Loss: 1.3660\n",
      "Epoch 180/300: Train Loss: 2.2591, Val Loss: 1.3660\n",
      "Baseline Loss: 5.3064 | Actual Loss: 2.1825\n"
     ]
    },
    {
     "name": "stderr",
     "output_type": "stream",
     "text": [
      "Training:  60%|██████    | 181/300 [09:43<06:19,  3.19s/it]"
     ]
    },
    {
     "name": "stdout",
     "output_type": "stream",
     "text": [
      "Baseline Loss: 3.9462 | Actual Loss: 1.3167\n",
      "Epoch 181/300: Train Loss: 2.1825, Val Loss: 1.3167\n",
      "New best validation loss: 1.3167\n",
      "Baseline Loss: 5.3064 | Actual Loss: 2.1847\n"
     ]
    },
    {
     "name": "stderr",
     "output_type": "stream",
     "text": [
      "Training:  61%|██████    | 182/300 [09:47<06:19,  3.22s/it]"
     ]
    },
    {
     "name": "stdout",
     "output_type": "stream",
     "text": [
      "Baseline Loss: 3.9462 | Actual Loss: 1.3757\n",
      "Epoch 182/300: Train Loss: 2.1847, Val Loss: 1.3757\n",
      "Baseline Loss: 5.3064 | Actual Loss: 2.1735\n"
     ]
    },
    {
     "name": "stderr",
     "output_type": "stream",
     "text": [
      "Training:  61%|██████    | 183/300 [09:50<06:15,  3.21s/it]"
     ]
    },
    {
     "name": "stdout",
     "output_type": "stream",
     "text": [
      "Baseline Loss: 3.9462 | Actual Loss: 1.3697\n",
      "Epoch 183/300: Train Loss: 2.1735, Val Loss: 1.3697\n",
      "Baseline Loss: 5.3064 | Actual Loss: 2.2420\n"
     ]
    },
    {
     "name": "stderr",
     "output_type": "stream",
     "text": [
      "Training:  61%|██████▏   | 184/300 [09:53<06:14,  3.23s/it]"
     ]
    },
    {
     "name": "stdout",
     "output_type": "stream",
     "text": [
      "Baseline Loss: 3.9462 | Actual Loss: 1.4624\n",
      "Epoch 184/300: Train Loss: 2.2420, Val Loss: 1.4624\n",
      "Baseline Loss: 5.3064 | Actual Loss: 2.2166\n"
     ]
    },
    {
     "name": "stderr",
     "output_type": "stream",
     "text": [
      "Training:  62%|██████▏   | 185/300 [09:57<06:14,  3.26s/it]"
     ]
    },
    {
     "name": "stdout",
     "output_type": "stream",
     "text": [
      "Baseline Loss: 3.9462 | Actual Loss: 1.3660\n",
      "Epoch 185/300: Train Loss: 2.2166, Val Loss: 1.3660\n",
      "Baseline Loss: 5.3064 | Actual Loss: 2.1967\n"
     ]
    },
    {
     "name": "stderr",
     "output_type": "stream",
     "text": [
      "Training:  62%|██████▏   | 186/300 [10:00<06:06,  3.21s/it]"
     ]
    },
    {
     "name": "stdout",
     "output_type": "stream",
     "text": [
      "Baseline Loss: 3.9462 | Actual Loss: 1.3516\n",
      "Epoch 186/300: Train Loss: 2.1967, Val Loss: 1.3516\n",
      "Baseline Loss: 5.3064 | Actual Loss: 2.1492\n"
     ]
    },
    {
     "name": "stderr",
     "output_type": "stream",
     "text": [
      "Training:  62%|██████▏   | 187/300 [10:03<06:05,  3.24s/it]"
     ]
    },
    {
     "name": "stdout",
     "output_type": "stream",
     "text": [
      "Baseline Loss: 3.9462 | Actual Loss: 1.4255\n",
      "Epoch 187/300: Train Loss: 2.1492, Val Loss: 1.4255\n",
      "Baseline Loss: 5.3064 | Actual Loss: 2.1550\n"
     ]
    },
    {
     "name": "stderr",
     "output_type": "stream",
     "text": [
      "Training:  63%|██████▎   | 188/300 [10:06<06:01,  3.23s/it]"
     ]
    },
    {
     "name": "stdout",
     "output_type": "stream",
     "text": [
      "Baseline Loss: 3.9462 | Actual Loss: 1.3720\n",
      "Epoch 188/300: Train Loss: 2.1550, Val Loss: 1.3720\n",
      "Baseline Loss: 5.3064 | Actual Loss: 2.1646\n"
     ]
    },
    {
     "name": "stderr",
     "output_type": "stream",
     "text": [
      "Training:  63%|██████▎   | 189/300 [10:09<05:56,  3.21s/it]"
     ]
    },
    {
     "name": "stdout",
     "output_type": "stream",
     "text": [
      "Baseline Loss: 3.9462 | Actual Loss: 1.4540\n",
      "Epoch 189/300: Train Loss: 2.1646, Val Loss: 1.4540\n",
      "Baseline Loss: 5.3064 | Actual Loss: 2.1474\n"
     ]
    },
    {
     "name": "stderr",
     "output_type": "stream",
     "text": [
      "Training:  63%|██████▎   | 190/300 [10:13<05:57,  3.25s/it]"
     ]
    },
    {
     "name": "stdout",
     "output_type": "stream",
     "text": [
      "Baseline Loss: 3.9462 | Actual Loss: 1.4211\n",
      "Epoch 190/300: Train Loss: 2.1474, Val Loss: 1.4211\n",
      "Baseline Loss: 5.3064 | Actual Loss: 2.1427\n"
     ]
    },
    {
     "name": "stderr",
     "output_type": "stream",
     "text": [
      "Training:  64%|██████▎   | 191/300 [10:16<05:47,  3.19s/it]"
     ]
    },
    {
     "name": "stdout",
     "output_type": "stream",
     "text": [
      "Baseline Loss: 3.9462 | Actual Loss: 1.4128\n",
      "Epoch 191/300: Train Loss: 2.1427, Val Loss: 1.4128\n",
      "Baseline Loss: 5.3064 | Actual Loss: 2.1883\n"
     ]
    },
    {
     "name": "stderr",
     "output_type": "stream",
     "text": [
      "Training:  64%|██████▍   | 192/300 [10:19<05:42,  3.17s/it]"
     ]
    },
    {
     "name": "stdout",
     "output_type": "stream",
     "text": [
      "Baseline Loss: 3.9462 | Actual Loss: 1.3156\n",
      "Epoch 192/300: Train Loss: 2.1883, Val Loss: 1.3156\n",
      "New best validation loss: 1.3156\n",
      "Baseline Loss: 5.3064 | Actual Loss: 2.1763\n"
     ]
    },
    {
     "name": "stderr",
     "output_type": "stream",
     "text": [
      "Training:  64%|██████▍   | 193/300 [10:22<05:42,  3.20s/it]"
     ]
    },
    {
     "name": "stdout",
     "output_type": "stream",
     "text": [
      "Baseline Loss: 3.9462 | Actual Loss: 1.3928\n",
      "Epoch 193/300: Train Loss: 2.1763, Val Loss: 1.3928\n",
      "Baseline Loss: 5.3064 | Actual Loss: 2.1384\n"
     ]
    },
    {
     "name": "stderr",
     "output_type": "stream",
     "text": [
      "Training:  65%|██████▍   | 194/300 [10:25<05:37,  3.19s/it]"
     ]
    },
    {
     "name": "stdout",
     "output_type": "stream",
     "text": [
      "Baseline Loss: 3.9462 | Actual Loss: 1.3614\n",
      "Epoch 194/300: Train Loss: 2.1384, Val Loss: 1.3614\n",
      "Baseline Loss: 5.3064 | Actual Loss: 2.1357\n"
     ]
    },
    {
     "name": "stderr",
     "output_type": "stream",
     "text": [
      "Training:  65%|██████▌   | 195/300 [10:28<05:34,  3.18s/it]"
     ]
    },
    {
     "name": "stdout",
     "output_type": "stream",
     "text": [
      "Baseline Loss: 3.9462 | Actual Loss: 1.3869\n",
      "Epoch 195/300: Train Loss: 2.1357, Val Loss: 1.3869\n",
      "Baseline Loss: 5.3064 | Actual Loss: 2.1560\n"
     ]
    },
    {
     "name": "stderr",
     "output_type": "stream",
     "text": [
      "Training:  65%|██████▌   | 196/300 [10:32<05:32,  3.19s/it]"
     ]
    },
    {
     "name": "stdout",
     "output_type": "stream",
     "text": [
      "Baseline Loss: 3.9462 | Actual Loss: 1.4244\n",
      "Epoch 196/300: Train Loss: 2.1560, Val Loss: 1.4244\n",
      "Baseline Loss: 5.3064 | Actual Loss: 2.1127\n"
     ]
    },
    {
     "name": "stderr",
     "output_type": "stream",
     "text": [
      "Training:  66%|██████▌   | 197/300 [10:35<05:19,  3.10s/it]"
     ]
    },
    {
     "name": "stdout",
     "output_type": "stream",
     "text": [
      "Baseline Loss: 3.9462 | Actual Loss: 1.2551\n",
      "Epoch 197/300: Train Loss: 2.1127, Val Loss: 1.2551\n",
      "New best validation loss: 1.2551\n",
      "Baseline Loss: 5.3064 | Actual Loss: 2.1178\n"
     ]
    },
    {
     "name": "stderr",
     "output_type": "stream",
     "text": [
      "Training:  66%|██████▌   | 198/300 [10:38<05:25,  3.19s/it]"
     ]
    },
    {
     "name": "stdout",
     "output_type": "stream",
     "text": [
      "Baseline Loss: 3.9462 | Actual Loss: 1.4205\n",
      "Epoch 198/300: Train Loss: 2.1178, Val Loss: 1.4205\n",
      "Baseline Loss: 5.3064 | Actual Loss: 2.1699\n"
     ]
    },
    {
     "name": "stderr",
     "output_type": "stream",
     "text": [
      "Training:  66%|██████▋   | 199/300 [10:41<05:27,  3.24s/it]"
     ]
    },
    {
     "name": "stdout",
     "output_type": "stream",
     "text": [
      "Baseline Loss: 3.9462 | Actual Loss: 1.3705\n",
      "Epoch 199/300: Train Loss: 2.1699, Val Loss: 1.3705\n",
      "Baseline Loss: 5.3064 | Actual Loss: 2.1057\n"
     ]
    },
    {
     "name": "stderr",
     "output_type": "stream",
     "text": [
      "Training:  67%|██████▋   | 200/300 [10:44<05:20,  3.21s/it]"
     ]
    },
    {
     "name": "stdout",
     "output_type": "stream",
     "text": [
      "Baseline Loss: 3.9462 | Actual Loss: 1.3143\n",
      "Epoch 200/300: Train Loss: 2.1057, Val Loss: 1.3143\n",
      "Baseline Loss: 5.3064 | Actual Loss: 2.1658\n"
     ]
    },
    {
     "name": "stderr",
     "output_type": "stream",
     "text": [
      "Training:  67%|██████▋   | 201/300 [10:48<05:24,  3.28s/it]"
     ]
    },
    {
     "name": "stdout",
     "output_type": "stream",
     "text": [
      "Baseline Loss: 3.9462 | Actual Loss: 1.3209\n",
      "Epoch 201/300: Train Loss: 2.1658, Val Loss: 1.3209\n",
      "Baseline Loss: 5.3064 | Actual Loss: 2.1268\n"
     ]
    },
    {
     "name": "stderr",
     "output_type": "stream",
     "text": [
      "Training:  67%|██████▋   | 202/300 [10:51<05:20,  3.27s/it]"
     ]
    },
    {
     "name": "stdout",
     "output_type": "stream",
     "text": [
      "Baseline Loss: 3.9462 | Actual Loss: 1.3204\n",
      "Epoch 202/300: Train Loss: 2.1268, Val Loss: 1.3204\n",
      "Baseline Loss: 5.3064 | Actual Loss: 2.1607\n"
     ]
    },
    {
     "name": "stderr",
     "output_type": "stream",
     "text": [
      "Training:  68%|██████▊   | 203/300 [10:54<05:16,  3.27s/it]"
     ]
    },
    {
     "name": "stdout",
     "output_type": "stream",
     "text": [
      "Baseline Loss: 3.9462 | Actual Loss: 1.3330\n",
      "Epoch 203/300: Train Loss: 2.1607, Val Loss: 1.3330\n",
      "Baseline Loss: 5.3064 | Actual Loss: 2.1180\n"
     ]
    },
    {
     "name": "stderr",
     "output_type": "stream",
     "text": [
      "Training:  68%|██████▊   | 204/300 [10:58<05:15,  3.29s/it]"
     ]
    },
    {
     "name": "stdout",
     "output_type": "stream",
     "text": [
      "Baseline Loss: 3.9462 | Actual Loss: 1.3011\n",
      "Epoch 204/300: Train Loss: 2.1180, Val Loss: 1.3011\n",
      "Baseline Loss: 5.3064 | Actual Loss: 2.1031\n"
     ]
    },
    {
     "name": "stderr",
     "output_type": "stream",
     "text": [
      "Training:  68%|██████▊   | 205/300 [11:01<05:09,  3.26s/it]"
     ]
    },
    {
     "name": "stdout",
     "output_type": "stream",
     "text": [
      "Baseline Loss: 3.9462 | Actual Loss: 1.4499\n",
      "Epoch 205/300: Train Loss: 2.1031, Val Loss: 1.4499\n",
      "Baseline Loss: 5.3064 | Actual Loss: 2.1141\n"
     ]
    },
    {
     "name": "stderr",
     "output_type": "stream",
     "text": [
      "Training:  69%|██████▊   | 206/300 [11:04<05:04,  3.23s/it]"
     ]
    },
    {
     "name": "stdout",
     "output_type": "stream",
     "text": [
      "Baseline Loss: 3.9462 | Actual Loss: 1.2662\n",
      "Epoch 206/300: Train Loss: 2.1141, Val Loss: 1.2662\n",
      "Baseline Loss: 5.3064 | Actual Loss: 2.0869\n"
     ]
    },
    {
     "name": "stderr",
     "output_type": "stream",
     "text": [
      "Training:  69%|██████▉   | 207/300 [11:07<04:53,  3.15s/it]"
     ]
    },
    {
     "name": "stdout",
     "output_type": "stream",
     "text": [
      "Baseline Loss: 3.9462 | Actual Loss: 1.3737\n",
      "Epoch 207/300: Train Loss: 2.0869, Val Loss: 1.3737\n",
      "Baseline Loss: 5.3064 | Actual Loss: 2.1330\n"
     ]
    },
    {
     "name": "stderr",
     "output_type": "stream",
     "text": [
      "Training:  69%|██████▉   | 208/300 [11:11<04:58,  3.24s/it]"
     ]
    },
    {
     "name": "stdout",
     "output_type": "stream",
     "text": [
      "Baseline Loss: 3.9462 | Actual Loss: 1.3705\n",
      "Epoch 208/300: Train Loss: 2.1330, Val Loss: 1.3705\n",
      "Baseline Loss: 5.3064 | Actual Loss: 2.1133\n"
     ]
    },
    {
     "name": "stderr",
     "output_type": "stream",
     "text": [
      "Training:  70%|██████▉   | 209/300 [11:14<04:52,  3.22s/it]"
     ]
    },
    {
     "name": "stdout",
     "output_type": "stream",
     "text": [
      "Baseline Loss: 3.9462 | Actual Loss: 1.3094\n",
      "Epoch 209/300: Train Loss: 2.1133, Val Loss: 1.3094\n",
      "Baseline Loss: 5.3064 | Actual Loss: 2.0919\n"
     ]
    },
    {
     "name": "stderr",
     "output_type": "stream",
     "text": [
      "Training:  70%|███████   | 210/300 [11:17<04:55,  3.29s/it]"
     ]
    },
    {
     "name": "stdout",
     "output_type": "stream",
     "text": [
      "Baseline Loss: 3.9462 | Actual Loss: 1.3420\n",
      "Epoch 210/300: Train Loss: 2.0919, Val Loss: 1.3420\n",
      "Baseline Loss: 5.3065 | Actual Loss: 2.1095\n"
     ]
    },
    {
     "name": "stderr",
     "output_type": "stream",
     "text": [
      "Training:  70%|███████   | 211/300 [11:20<04:43,  3.18s/it]"
     ]
    },
    {
     "name": "stdout",
     "output_type": "stream",
     "text": [
      "Baseline Loss: 3.9462 | Actual Loss: 1.3278\n",
      "Epoch 211/300: Train Loss: 2.1095, Val Loss: 1.3278\n",
      "Baseline Loss: 5.3064 | Actual Loss: 2.0380\n"
     ]
    },
    {
     "name": "stderr",
     "output_type": "stream",
     "text": [
      "Training:  71%|███████   | 212/300 [11:23<04:43,  3.23s/it]"
     ]
    },
    {
     "name": "stdout",
     "output_type": "stream",
     "text": [
      "Baseline Loss: 3.9462 | Actual Loss: 1.4609\n",
      "Epoch 212/300: Train Loss: 2.0380, Val Loss: 1.4609\n",
      "Baseline Loss: 5.3064 | Actual Loss: 2.1033\n"
     ]
    },
    {
     "name": "stderr",
     "output_type": "stream",
     "text": [
      "Training:  71%|███████   | 213/300 [11:27<04:43,  3.25s/it]"
     ]
    },
    {
     "name": "stdout",
     "output_type": "stream",
     "text": [
      "Baseline Loss: 3.9462 | Actual Loss: 1.2945\n",
      "Epoch 213/300: Train Loss: 2.1033, Val Loss: 1.2945\n",
      "Baseline Loss: 5.3064 | Actual Loss: 2.0848\n"
     ]
    },
    {
     "name": "stderr",
     "output_type": "stream",
     "text": [
      "Training:  71%|███████▏  | 214/300 [11:30<04:33,  3.18s/it]"
     ]
    },
    {
     "name": "stdout",
     "output_type": "stream",
     "text": [
      "Baseline Loss: 3.9462 | Actual Loss: 1.3442\n",
      "Epoch 214/300: Train Loss: 2.0848, Val Loss: 1.3442\n",
      "Baseline Loss: 5.3064 | Actual Loss: 2.0528\n"
     ]
    },
    {
     "name": "stderr",
     "output_type": "stream",
     "text": [
      "Training:  72%|███████▏  | 215/300 [11:33<04:32,  3.21s/it]"
     ]
    },
    {
     "name": "stdout",
     "output_type": "stream",
     "text": [
      "Baseline Loss: 3.9462 | Actual Loss: 1.3348\n",
      "Epoch 215/300: Train Loss: 2.0528, Val Loss: 1.3348\n",
      "Baseline Loss: 5.3064 | Actual Loss: 2.0404\n"
     ]
    },
    {
     "name": "stderr",
     "output_type": "stream",
     "text": [
      "Training:  72%|███████▏  | 216/300 [11:36<04:32,  3.24s/it]"
     ]
    },
    {
     "name": "stdout",
     "output_type": "stream",
     "text": [
      "Baseline Loss: 3.9462 | Actual Loss: 1.3625\n",
      "Epoch 216/300: Train Loss: 2.0404, Val Loss: 1.3625\n",
      "Baseline Loss: 5.3064 | Actual Loss: 2.0661\n"
     ]
    },
    {
     "name": "stderr",
     "output_type": "stream",
     "text": [
      "Training:  72%|███████▏  | 217/300 [11:39<04:26,  3.21s/it]"
     ]
    },
    {
     "name": "stdout",
     "output_type": "stream",
     "text": [
      "Baseline Loss: 3.9462 | Actual Loss: 1.3627\n",
      "Epoch 217/300: Train Loss: 2.0661, Val Loss: 1.3627\n",
      "Baseline Loss: 5.3064 | Actual Loss: 2.0243\n"
     ]
    },
    {
     "name": "stderr",
     "output_type": "stream",
     "text": [
      "Training:  73%|███████▎  | 218/300 [11:43<04:28,  3.28s/it]"
     ]
    },
    {
     "name": "stdout",
     "output_type": "stream",
     "text": [
      "Baseline Loss: 3.9462 | Actual Loss: 1.2400\n",
      "Epoch 218/300: Train Loss: 2.0243, Val Loss: 1.2400\n",
      "New best validation loss: 1.2400\n",
      "Baseline Loss: 5.3064 | Actual Loss: 2.0815\n"
     ]
    },
    {
     "name": "stderr",
     "output_type": "stream",
     "text": [
      "Training:  73%|███████▎  | 219/300 [11:46<04:27,  3.30s/it]"
     ]
    },
    {
     "name": "stdout",
     "output_type": "stream",
     "text": [
      "Baseline Loss: 3.9462 | Actual Loss: 1.2405\n",
      "Epoch 219/300: Train Loss: 2.0815, Val Loss: 1.2405\n",
      "Baseline Loss: 5.3064 | Actual Loss: 2.0189\n"
     ]
    },
    {
     "name": "stderr",
     "output_type": "stream",
     "text": [
      "Training:  73%|███████▎  | 220/300 [11:49<04:20,  3.26s/it]"
     ]
    },
    {
     "name": "stdout",
     "output_type": "stream",
     "text": [
      "Baseline Loss: 3.9462 | Actual Loss: 1.3127\n",
      "Epoch 220/300: Train Loss: 2.0189, Val Loss: 1.3127\n",
      "Baseline Loss: 5.3064 | Actual Loss: 2.0447\n"
     ]
    },
    {
     "name": "stderr",
     "output_type": "stream",
     "text": [
      "Training:  74%|███████▎  | 221/300 [11:53<04:18,  3.27s/it]"
     ]
    },
    {
     "name": "stdout",
     "output_type": "stream",
     "text": [
      "Baseline Loss: 3.9462 | Actual Loss: 1.2870\n",
      "Epoch 221/300: Train Loss: 2.0447, Val Loss: 1.2870\n",
      "Baseline Loss: 5.3064 | Actual Loss: 2.0316\n"
     ]
    },
    {
     "name": "stderr",
     "output_type": "stream",
     "text": [
      "Training:  74%|███████▍  | 222/300 [11:56<04:11,  3.22s/it]"
     ]
    },
    {
     "name": "stdout",
     "output_type": "stream",
     "text": [
      "Baseline Loss: 3.9462 | Actual Loss: 1.3582\n",
      "Epoch 222/300: Train Loss: 2.0316, Val Loss: 1.3582\n",
      "Baseline Loss: 5.3064 | Actual Loss: 2.0636\n"
     ]
    },
    {
     "name": "stderr",
     "output_type": "stream",
     "text": [
      "Training:  74%|███████▍  | 223/300 [11:59<04:07,  3.22s/it]"
     ]
    },
    {
     "name": "stdout",
     "output_type": "stream",
     "text": [
      "Baseline Loss: 3.9462 | Actual Loss: 1.3062\n",
      "Epoch 223/300: Train Loss: 2.0636, Val Loss: 1.3062\n",
      "Baseline Loss: 5.3065 | Actual Loss: 2.0309\n"
     ]
    },
    {
     "name": "stderr",
     "output_type": "stream",
     "text": [
      "Training:  75%|███████▍  | 224/300 [12:02<04:06,  3.24s/it]"
     ]
    },
    {
     "name": "stdout",
     "output_type": "stream",
     "text": [
      "Baseline Loss: 3.9462 | Actual Loss: 1.3364\n",
      "Epoch 224/300: Train Loss: 2.0309, Val Loss: 1.3364\n",
      "Baseline Loss: 5.3064 | Actual Loss: 2.0104\n"
     ]
    },
    {
     "name": "stderr",
     "output_type": "stream",
     "text": [
      "Training:  75%|███████▌  | 225/300 [12:05<03:59,  3.20s/it]"
     ]
    },
    {
     "name": "stdout",
     "output_type": "stream",
     "text": [
      "Baseline Loss: 3.9462 | Actual Loss: 1.3486\n",
      "Epoch 225/300: Train Loss: 2.0104, Val Loss: 1.3486\n",
      "Baseline Loss: 5.3064 | Actual Loss: 2.0110\n"
     ]
    },
    {
     "name": "stderr",
     "output_type": "stream",
     "text": [
      "Training:  75%|███████▌  | 226/300 [12:09<04:02,  3.27s/it]"
     ]
    },
    {
     "name": "stdout",
     "output_type": "stream",
     "text": [
      "Baseline Loss: 3.9462 | Actual Loss: 1.2792\n",
      "Epoch 226/300: Train Loss: 2.0110, Val Loss: 1.2792\n",
      "Baseline Loss: 5.3064 | Actual Loss: 2.0132\n"
     ]
    },
    {
     "name": "stderr",
     "output_type": "stream",
     "text": [
      "Training:  76%|███████▌  | 227/300 [12:12<03:58,  3.27s/it]"
     ]
    },
    {
     "name": "stdout",
     "output_type": "stream",
     "text": [
      "Baseline Loss: 3.9462 | Actual Loss: 1.2964\n",
      "Epoch 227/300: Train Loss: 2.0132, Val Loss: 1.2964\n",
      "Baseline Loss: 5.3064 | Actual Loss: 2.0632\n"
     ]
    },
    {
     "name": "stderr",
     "output_type": "stream",
     "text": [
      "Training:  76%|███████▌  | 228/300 [12:15<03:53,  3.24s/it]"
     ]
    },
    {
     "name": "stdout",
     "output_type": "stream",
     "text": [
      "Baseline Loss: 3.9462 | Actual Loss: 1.3385\n",
      "Epoch 228/300: Train Loss: 2.0632, Val Loss: 1.3385\n",
      "Baseline Loss: 5.3064 | Actual Loss: 2.0146\n"
     ]
    },
    {
     "name": "stderr",
     "output_type": "stream",
     "text": [
      "Training:  76%|███████▋  | 229/300 [12:19<03:53,  3.29s/it]"
     ]
    },
    {
     "name": "stdout",
     "output_type": "stream",
     "text": [
      "Baseline Loss: 3.9462 | Actual Loss: 1.3285\n",
      "Epoch 229/300: Train Loss: 2.0146, Val Loss: 1.3285\n",
      "Baseline Loss: 5.3064 | Actual Loss: 2.0342\n"
     ]
    },
    {
     "name": "stderr",
     "output_type": "stream",
     "text": [
      "Training:  77%|███████▋  | 230/300 [12:22<03:48,  3.26s/it]"
     ]
    },
    {
     "name": "stdout",
     "output_type": "stream",
     "text": [
      "Baseline Loss: 3.9462 | Actual Loss: 1.2961\n",
      "Epoch 230/300: Train Loss: 2.0342, Val Loss: 1.2961\n",
      "Baseline Loss: 5.3064 | Actual Loss: 2.0391\n"
     ]
    },
    {
     "name": "stderr",
     "output_type": "stream",
     "text": [
      "Training:  77%|███████▋  | 231/300 [12:25<03:43,  3.24s/it]"
     ]
    },
    {
     "name": "stdout",
     "output_type": "stream",
     "text": [
      "Baseline Loss: 3.9462 | Actual Loss: 1.2436\n",
      "Epoch 231/300: Train Loss: 2.0391, Val Loss: 1.2436\n",
      "Baseline Loss: 5.3064 | Actual Loss: 2.0534\n"
     ]
    },
    {
     "name": "stderr",
     "output_type": "stream",
     "text": [
      "Training:  77%|███████▋  | 232/300 [12:28<03:35,  3.17s/it]"
     ]
    },
    {
     "name": "stdout",
     "output_type": "stream",
     "text": [
      "Baseline Loss: 3.9462 | Actual Loss: 1.3036\n",
      "Epoch 232/300: Train Loss: 2.0534, Val Loss: 1.3036\n",
      "Baseline Loss: 5.3064 | Actual Loss: 2.0118\n"
     ]
    },
    {
     "name": "stderr",
     "output_type": "stream",
     "text": [
      "Training:  78%|███████▊  | 233/300 [12:31<03:37,  3.25s/it]"
     ]
    },
    {
     "name": "stdout",
     "output_type": "stream",
     "text": [
      "Baseline Loss: 3.9462 | Actual Loss: 1.3230\n",
      "Epoch 233/300: Train Loss: 2.0118, Val Loss: 1.3230\n",
      "Baseline Loss: 5.3064 | Actual Loss: 1.9964\n"
     ]
    },
    {
     "name": "stderr",
     "output_type": "stream",
     "text": [
      "Training:  78%|███████▊  | 234/300 [12:35<03:32,  3.22s/it]"
     ]
    },
    {
     "name": "stdout",
     "output_type": "stream",
     "text": [
      "Baseline Loss: 3.9462 | Actual Loss: 1.3496\n",
      "Epoch 234/300: Train Loss: 1.9964, Val Loss: 1.3496\n",
      "Baseline Loss: 5.3065 | Actual Loss: 2.0236\n"
     ]
    },
    {
     "name": "stderr",
     "output_type": "stream",
     "text": [
      "Training:  78%|███████▊  | 235/300 [12:38<03:33,  3.28s/it]"
     ]
    },
    {
     "name": "stdout",
     "output_type": "stream",
     "text": [
      "Baseline Loss: 3.9462 | Actual Loss: 1.3295\n",
      "Epoch 235/300: Train Loss: 2.0236, Val Loss: 1.3295\n",
      "Baseline Loss: 5.3064 | Actual Loss: 1.9999\n"
     ]
    },
    {
     "name": "stderr",
     "output_type": "stream",
     "text": [
      "Training:  79%|███████▊  | 236/300 [12:41<03:24,  3.19s/it]"
     ]
    },
    {
     "name": "stdout",
     "output_type": "stream",
     "text": [
      "Baseline Loss: 3.9462 | Actual Loss: 1.3241\n",
      "Epoch 236/300: Train Loss: 1.9999, Val Loss: 1.3241\n",
      "Baseline Loss: 5.3064 | Actual Loss: 1.9985\n"
     ]
    },
    {
     "name": "stderr",
     "output_type": "stream",
     "text": [
      "Training:  79%|███████▉  | 237/300 [12:44<03:23,  3.23s/it]"
     ]
    },
    {
     "name": "stdout",
     "output_type": "stream",
     "text": [
      "Baseline Loss: 3.9462 | Actual Loss: 1.3344\n",
      "Epoch 237/300: Train Loss: 1.9985, Val Loss: 1.3344\n",
      "Baseline Loss: 5.3064 | Actual Loss: 1.9788\n"
     ]
    },
    {
     "name": "stderr",
     "output_type": "stream",
     "text": [
      "Training:  79%|███████▉  | 238/300 [12:48<03:21,  3.25s/it]"
     ]
    },
    {
     "name": "stdout",
     "output_type": "stream",
     "text": [
      "Baseline Loss: 3.9462 | Actual Loss: 1.3381\n",
      "Epoch 238/300: Train Loss: 1.9788, Val Loss: 1.3381\n",
      "Baseline Loss: 5.3064 | Actual Loss: 1.9739\n"
     ]
    },
    {
     "name": "stderr",
     "output_type": "stream",
     "text": [
      "Training:  80%|███████▉  | 239/300 [12:51<03:15,  3.21s/it]"
     ]
    },
    {
     "name": "stdout",
     "output_type": "stream",
     "text": [
      "Baseline Loss: 3.9462 | Actual Loss: 1.3100\n",
      "Epoch 239/300: Train Loss: 1.9739, Val Loss: 1.3100\n",
      "Baseline Loss: 5.3064 | Actual Loss: 1.9838\n"
     ]
    },
    {
     "name": "stderr",
     "output_type": "stream",
     "text": [
      "Training:  80%|████████  | 240/300 [12:54<03:13,  3.22s/it]"
     ]
    },
    {
     "name": "stdout",
     "output_type": "stream",
     "text": [
      "Baseline Loss: 3.9462 | Actual Loss: 1.2994\n",
      "Epoch 240/300: Train Loss: 1.9838, Val Loss: 1.2994\n",
      "Baseline Loss: 5.3064 | Actual Loss: 1.9420\n"
     ]
    },
    {
     "name": "stderr",
     "output_type": "stream",
     "text": [
      "Training:  80%|████████  | 241/300 [12:57<03:12,  3.27s/it]"
     ]
    },
    {
     "name": "stdout",
     "output_type": "stream",
     "text": [
      "Baseline Loss: 3.9462 | Actual Loss: 1.2354\n",
      "Epoch 241/300: Train Loss: 1.9420, Val Loss: 1.2354\n",
      "New best validation loss: 1.2354\n",
      "Baseline Loss: 5.3064 | Actual Loss: 2.0208\n"
     ]
    },
    {
     "name": "stderr",
     "output_type": "stream",
     "text": [
      "Training:  81%|████████  | 242/300 [13:01<03:07,  3.23s/it]"
     ]
    },
    {
     "name": "stdout",
     "output_type": "stream",
     "text": [
      "Baseline Loss: 3.9462 | Actual Loss: 1.3779\n",
      "Epoch 242/300: Train Loss: 2.0208, Val Loss: 1.3779\n",
      "Baseline Loss: 5.3064 | Actual Loss: 1.9881\n"
     ]
    },
    {
     "name": "stderr",
     "output_type": "stream",
     "text": [
      "Training:  81%|████████  | 243/300 [13:04<03:08,  3.31s/it]"
     ]
    },
    {
     "name": "stdout",
     "output_type": "stream",
     "text": [
      "Baseline Loss: 3.9462 | Actual Loss: 1.3688\n",
      "Epoch 243/300: Train Loss: 1.9881, Val Loss: 1.3688\n",
      "Baseline Loss: 5.3064 | Actual Loss: 1.9843\n"
     ]
    },
    {
     "name": "stderr",
     "output_type": "stream",
     "text": [
      "Training:  81%|████████▏ | 244/300 [13:07<03:03,  3.28s/it]"
     ]
    },
    {
     "name": "stdout",
     "output_type": "stream",
     "text": [
      "Baseline Loss: 3.9462 | Actual Loss: 1.2682\n",
      "Epoch 244/300: Train Loss: 1.9843, Val Loss: 1.2682\n",
      "Baseline Loss: 5.3064 | Actual Loss: 1.9607\n"
     ]
    },
    {
     "name": "stderr",
     "output_type": "stream",
     "text": [
      "Training:  82%|████████▏ | 245/300 [13:10<02:58,  3.25s/it]"
     ]
    },
    {
     "name": "stdout",
     "output_type": "stream",
     "text": [
      "Baseline Loss: 3.9462 | Actual Loss: 1.3290\n",
      "Epoch 245/300: Train Loss: 1.9607, Val Loss: 1.3290\n",
      "Baseline Loss: 5.3064 | Actual Loss: 1.9811\n"
     ]
    },
    {
     "name": "stderr",
     "output_type": "stream",
     "text": [
      "Training:  82%|████████▏ | 246/300 [13:14<02:57,  3.28s/it]"
     ]
    },
    {
     "name": "stdout",
     "output_type": "stream",
     "text": [
      "Baseline Loss: 3.9462 | Actual Loss: 1.3709\n",
      "Epoch 246/300: Train Loss: 1.9811, Val Loss: 1.3709\n",
      "Baseline Loss: 5.3064 | Actual Loss: 1.9646\n"
     ]
    },
    {
     "name": "stderr",
     "output_type": "stream",
     "text": [
      "Training:  82%|████████▏ | 247/300 [13:17<02:51,  3.24s/it]"
     ]
    },
    {
     "name": "stdout",
     "output_type": "stream",
     "text": [
      "Baseline Loss: 3.9462 | Actual Loss: 1.3663\n",
      "Epoch 247/300: Train Loss: 1.9646, Val Loss: 1.3663\n",
      "Baseline Loss: 5.3064 | Actual Loss: 1.9445\n"
     ]
    },
    {
     "name": "stderr",
     "output_type": "stream",
     "text": [
      "Training:  83%|████████▎ | 248/300 [13:20<02:48,  3.24s/it]"
     ]
    },
    {
     "name": "stdout",
     "output_type": "stream",
     "text": [
      "Baseline Loss: 3.9462 | Actual Loss: 1.2802\n",
      "Epoch 248/300: Train Loss: 1.9445, Val Loss: 1.2802\n",
      "Baseline Loss: 5.3064 | Actual Loss: 1.9191\n"
     ]
    },
    {
     "name": "stderr",
     "output_type": "stream",
     "text": [
      "Training:  83%|████████▎ | 249/300 [13:23<02:40,  3.16s/it]"
     ]
    },
    {
     "name": "stdout",
     "output_type": "stream",
     "text": [
      "Baseline Loss: 3.9462 | Actual Loss: 1.2125\n",
      "Epoch 249/300: Train Loss: 1.9191, Val Loss: 1.2125\n",
      "New best validation loss: 1.2125\n",
      "Baseline Loss: 5.3064 | Actual Loss: 1.9489\n"
     ]
    },
    {
     "name": "stderr",
     "output_type": "stream",
     "text": [
      "Training:  83%|████████▎ | 250/300 [13:27<02:43,  3.26s/it]"
     ]
    },
    {
     "name": "stdout",
     "output_type": "stream",
     "text": [
      "Baseline Loss: 3.9462 | Actual Loss: 1.3509\n",
      "Epoch 250/300: Train Loss: 1.9489, Val Loss: 1.3509\n",
      "Baseline Loss: 5.3064 | Actual Loss: 1.9293\n"
     ]
    },
    {
     "name": "stderr",
     "output_type": "stream",
     "text": [
      "Training:  84%|████████▎ | 251/300 [13:30<02:38,  3.23s/it]"
     ]
    },
    {
     "name": "stdout",
     "output_type": "stream",
     "text": [
      "Baseline Loss: 3.9462 | Actual Loss: 1.2756\n",
      "Epoch 251/300: Train Loss: 1.9293, Val Loss: 1.2756\n",
      "Baseline Loss: 5.3064 | Actual Loss: 1.9885\n"
     ]
    },
    {
     "name": "stderr",
     "output_type": "stream",
     "text": [
      "Training:  84%|████████▍ | 252/300 [13:33<02:38,  3.30s/it]"
     ]
    },
    {
     "name": "stdout",
     "output_type": "stream",
     "text": [
      "Baseline Loss: 3.9462 | Actual Loss: 1.3268\n",
      "Epoch 252/300: Train Loss: 1.9885, Val Loss: 1.3268\n",
      "Baseline Loss: 5.3064 | Actual Loss: 1.9184\n"
     ]
    },
    {
     "name": "stderr",
     "output_type": "stream",
     "text": [
      "Training:  84%|████████▍ | 253/300 [13:36<02:30,  3.20s/it]"
     ]
    },
    {
     "name": "stdout",
     "output_type": "stream",
     "text": [
      "Baseline Loss: 3.9462 | Actual Loss: 1.2532\n",
      "Epoch 253/300: Train Loss: 1.9184, Val Loss: 1.2532\n",
      "Baseline Loss: 5.3064 | Actual Loss: 1.9571\n"
     ]
    },
    {
     "name": "stderr",
     "output_type": "stream",
     "text": [
      "Training:  85%|████████▍ | 254/300 [13:40<02:30,  3.27s/it]"
     ]
    },
    {
     "name": "stdout",
     "output_type": "stream",
     "text": [
      "Baseline Loss: 3.9462 | Actual Loss: 1.3273\n",
      "Epoch 254/300: Train Loss: 1.9571, Val Loss: 1.3273\n",
      "Baseline Loss: 5.3064 | Actual Loss: 1.9391\n"
     ]
    },
    {
     "name": "stderr",
     "output_type": "stream",
     "text": [
      "Training:  85%|████████▌ | 255/300 [13:43<02:28,  3.30s/it]"
     ]
    },
    {
     "name": "stdout",
     "output_type": "stream",
     "text": [
      "Baseline Loss: 3.9462 | Actual Loss: 1.2685\n",
      "Epoch 255/300: Train Loss: 1.9391, Val Loss: 1.2685\n",
      "Baseline Loss: 5.3064 | Actual Loss: 1.9692\n"
     ]
    },
    {
     "name": "stderr",
     "output_type": "stream",
     "text": [
      "Training:  85%|████████▌ | 256/300 [13:46<02:22,  3.24s/it]"
     ]
    },
    {
     "name": "stdout",
     "output_type": "stream",
     "text": [
      "Baseline Loss: 3.9462 | Actual Loss: 1.3171\n",
      "Epoch 256/300: Train Loss: 1.9692, Val Loss: 1.3171\n",
      "Baseline Loss: 5.3064 | Actual Loss: 1.9121\n"
     ]
    },
    {
     "name": "stderr",
     "output_type": "stream",
     "text": [
      "Training:  86%|████████▌ | 257/300 [13:49<02:18,  3.23s/it]"
     ]
    },
    {
     "name": "stdout",
     "output_type": "stream",
     "text": [
      "Baseline Loss: 3.9462 | Actual Loss: 1.3009\n",
      "Epoch 257/300: Train Loss: 1.9121, Val Loss: 1.3009\n",
      "Baseline Loss: 5.3064 | Actual Loss: 1.9249\n"
     ]
    },
    {
     "name": "stderr",
     "output_type": "stream",
     "text": [
      "Training:  86%|████████▌ | 258/300 [13:53<02:16,  3.25s/it]"
     ]
    },
    {
     "name": "stdout",
     "output_type": "stream",
     "text": [
      "Baseline Loss: 3.9462 | Actual Loss: 1.2534\n",
      "Epoch 258/300: Train Loss: 1.9249, Val Loss: 1.2534\n",
      "Baseline Loss: 5.3064 | Actual Loss: 1.9359\n"
     ]
    },
    {
     "name": "stderr",
     "output_type": "stream",
     "text": [
      "Training:  86%|████████▋ | 259/300 [13:56<02:11,  3.22s/it]"
     ]
    },
    {
     "name": "stdout",
     "output_type": "stream",
     "text": [
      "Baseline Loss: 3.9462 | Actual Loss: 1.2268\n",
      "Epoch 259/300: Train Loss: 1.9359, Val Loss: 1.2268\n",
      "Baseline Loss: 5.3064 | Actual Loss: 1.9132\n"
     ]
    },
    {
     "name": "stderr",
     "output_type": "stream",
     "text": [
      "Training:  87%|████████▋ | 260/300 [13:59<02:11,  3.28s/it]"
     ]
    },
    {
     "name": "stdout",
     "output_type": "stream",
     "text": [
      "Baseline Loss: 3.9462 | Actual Loss: 1.2221\n",
      "Epoch 260/300: Train Loss: 1.9132, Val Loss: 1.2221\n",
      "Baseline Loss: 5.3064 | Actual Loss: 1.8779\n"
     ]
    },
    {
     "name": "stderr",
     "output_type": "stream",
     "text": [
      "Training:  87%|████████▋ | 261/300 [14:03<02:08,  3.30s/it]"
     ]
    },
    {
     "name": "stdout",
     "output_type": "stream",
     "text": [
      "Baseline Loss: 3.9462 | Actual Loss: 1.2390\n",
      "Epoch 261/300: Train Loss: 1.8779, Val Loss: 1.2390\n",
      "Baseline Loss: 5.3064 | Actual Loss: 1.8861\n"
     ]
    },
    {
     "name": "stderr",
     "output_type": "stream",
     "text": [
      "Training:  87%|████████▋ | 262/300 [14:06<02:04,  3.27s/it]"
     ]
    },
    {
     "name": "stdout",
     "output_type": "stream",
     "text": [
      "Baseline Loss: 3.9462 | Actual Loss: 1.2364\n",
      "Epoch 262/300: Train Loss: 1.8861, Val Loss: 1.2364\n",
      "Baseline Loss: 5.3064 | Actual Loss: 1.8779\n"
     ]
    },
    {
     "name": "stderr",
     "output_type": "stream",
     "text": [
      "Training:  88%|████████▊ | 263/300 [14:09<02:01,  3.28s/it]"
     ]
    },
    {
     "name": "stdout",
     "output_type": "stream",
     "text": [
      "Baseline Loss: 3.9462 | Actual Loss: 1.2972\n",
      "Epoch 263/300: Train Loss: 1.8779, Val Loss: 1.2972\n",
      "Baseline Loss: 5.3064 | Actual Loss: 1.9239\n"
     ]
    },
    {
     "name": "stderr",
     "output_type": "stream",
     "text": [
      "Training:  88%|████████▊ | 264/300 [14:12<01:56,  3.24s/it]"
     ]
    },
    {
     "name": "stdout",
     "output_type": "stream",
     "text": [
      "Baseline Loss: 3.9462 | Actual Loss: 1.1778\n",
      "Epoch 264/300: Train Loss: 1.9239, Val Loss: 1.1778\n",
      "New best validation loss: 1.1778\n",
      "Baseline Loss: 5.3064 | Actual Loss: 1.8861\n"
     ]
    },
    {
     "name": "stderr",
     "output_type": "stream",
     "text": [
      "Training:  88%|████████▊ | 265/300 [14:15<01:52,  3.23s/it]"
     ]
    },
    {
     "name": "stdout",
     "output_type": "stream",
     "text": [
      "Baseline Loss: 3.9462 | Actual Loss: 1.2127\n",
      "Epoch 265/300: Train Loss: 1.8861, Val Loss: 1.2127\n",
      "Baseline Loss: 5.3064 | Actual Loss: 1.9067\n"
     ]
    },
    {
     "name": "stderr",
     "output_type": "stream",
     "text": [
      "Training:  89%|████████▊ | 266/300 [14:18<01:46,  3.14s/it]"
     ]
    },
    {
     "name": "stdout",
     "output_type": "stream",
     "text": [
      "Baseline Loss: 3.9462 | Actual Loss: 1.2736\n",
      "Epoch 266/300: Train Loss: 1.9067, Val Loss: 1.2736\n",
      "Baseline Loss: 5.3064 | Actual Loss: 1.9064\n"
     ]
    },
    {
     "name": "stderr",
     "output_type": "stream",
     "text": [
      "Training:  89%|████████▉ | 267/300 [14:22<01:45,  3.19s/it]"
     ]
    },
    {
     "name": "stdout",
     "output_type": "stream",
     "text": [
      "Baseline Loss: 3.9462 | Actual Loss: 1.3142\n",
      "Epoch 267/300: Train Loss: 1.9064, Val Loss: 1.3142\n",
      "Baseline Loss: 5.3064 | Actual Loss: 1.8989\n"
     ]
    },
    {
     "name": "stderr",
     "output_type": "stream",
     "text": [
      "Training:  89%|████████▉ | 268/300 [14:25<01:44,  3.25s/it]"
     ]
    },
    {
     "name": "stdout",
     "output_type": "stream",
     "text": [
      "Baseline Loss: 3.9462 | Actual Loss: 1.2257\n",
      "Epoch 268/300: Train Loss: 1.8989, Val Loss: 1.2257\n",
      "Baseline Loss: 5.3064 | Actual Loss: 1.9060\n"
     ]
    },
    {
     "name": "stderr",
     "output_type": "stream",
     "text": [
      "Training:  90%|████████▉ | 269/300 [14:28<01:41,  3.26s/it]"
     ]
    },
    {
     "name": "stdout",
     "output_type": "stream",
     "text": [
      "Baseline Loss: 3.9462 | Actual Loss: 1.2890\n",
      "Epoch 269/300: Train Loss: 1.9060, Val Loss: 1.2890\n",
      "Baseline Loss: 5.3064 | Actual Loss: 1.8727\n"
     ]
    },
    {
     "name": "stderr",
     "output_type": "stream",
     "text": [
      "Training:  90%|█████████ | 270/300 [14:32<01:37,  3.25s/it]"
     ]
    },
    {
     "name": "stdout",
     "output_type": "stream",
     "text": [
      "Baseline Loss: 3.9462 | Actual Loss: 1.1808\n",
      "Epoch 270/300: Train Loss: 1.8727, Val Loss: 1.1808\n",
      "Baseline Loss: 5.3064 | Actual Loss: 1.9147\n"
     ]
    },
    {
     "name": "stderr",
     "output_type": "stream",
     "text": [
      "Training:  90%|█████████ | 271/300 [14:35<01:34,  3.26s/it]"
     ]
    },
    {
     "name": "stdout",
     "output_type": "stream",
     "text": [
      "Baseline Loss: 3.9462 | Actual Loss: 1.2535\n",
      "Epoch 271/300: Train Loss: 1.9147, Val Loss: 1.2535\n",
      "Baseline Loss: 5.3064 | Actual Loss: 1.8983\n"
     ]
    },
    {
     "name": "stderr",
     "output_type": "stream",
     "text": [
      "Training:  91%|█████████ | 272/300 [14:38<01:30,  3.23s/it]"
     ]
    },
    {
     "name": "stdout",
     "output_type": "stream",
     "text": [
      "Baseline Loss: 3.9462 | Actual Loss: 1.2462\n",
      "Epoch 272/300: Train Loss: 1.8983, Val Loss: 1.2462\n",
      "Baseline Loss: 5.3064 | Actual Loss: 1.8773\n"
     ]
    },
    {
     "name": "stderr",
     "output_type": "stream",
     "text": [
      "Training:  91%|█████████ | 273/300 [14:41<01:26,  3.22s/it]"
     ]
    },
    {
     "name": "stdout",
     "output_type": "stream",
     "text": [
      "Baseline Loss: 3.9462 | Actual Loss: 1.1609\n",
      "Epoch 273/300: Train Loss: 1.8773, Val Loss: 1.1609\n",
      "New best validation loss: 1.1609\n",
      "Baseline Loss: 5.3064 | Actual Loss: 1.8877\n"
     ]
    },
    {
     "name": "stderr",
     "output_type": "stream",
     "text": [
      "Training:  91%|█████████▏| 274/300 [14:44<01:21,  3.14s/it]"
     ]
    },
    {
     "name": "stdout",
     "output_type": "stream",
     "text": [
      "Baseline Loss: 3.9462 | Actual Loss: 1.2387\n",
      "Epoch 274/300: Train Loss: 1.8877, Val Loss: 1.2387\n",
      "Baseline Loss: 5.3064 | Actual Loss: 1.8573\n"
     ]
    },
    {
     "name": "stderr",
     "output_type": "stream",
     "text": [
      "Training:  92%|█████████▏| 275/300 [14:48<01:20,  3.24s/it]"
     ]
    },
    {
     "name": "stdout",
     "output_type": "stream",
     "text": [
      "Baseline Loss: 3.9462 | Actual Loss: 1.1805\n",
      "Epoch 275/300: Train Loss: 1.8573, Val Loss: 1.1805\n",
      "Baseline Loss: 5.3065 | Actual Loss: 1.8583\n"
     ]
    },
    {
     "name": "stderr",
     "output_type": "stream",
     "text": [
      "Training:  92%|█████████▏| 276/300 [14:51<01:18,  3.26s/it]"
     ]
    },
    {
     "name": "stdout",
     "output_type": "stream",
     "text": [
      "Baseline Loss: 3.9462 | Actual Loss: 1.2199\n",
      "Epoch 276/300: Train Loss: 1.8583, Val Loss: 1.2199\n",
      "Baseline Loss: 5.3064 | Actual Loss: 1.8371\n"
     ]
    },
    {
     "name": "stderr",
     "output_type": "stream",
     "text": [
      "Training:  92%|█████████▏| 277/300 [14:54<01:14,  3.24s/it]"
     ]
    },
    {
     "name": "stdout",
     "output_type": "stream",
     "text": [
      "Baseline Loss: 3.9462 | Actual Loss: 1.2671\n",
      "Epoch 277/300: Train Loss: 1.8371, Val Loss: 1.2671\n",
      "Baseline Loss: 5.3064 | Actual Loss: 1.9047\n"
     ]
    },
    {
     "name": "stderr",
     "output_type": "stream",
     "text": [
      "Training:  93%|█████████▎| 278/300 [14:57<01:10,  3.21s/it]"
     ]
    },
    {
     "name": "stdout",
     "output_type": "stream",
     "text": [
      "Baseline Loss: 3.9462 | Actual Loss: 1.1984\n",
      "Epoch 278/300: Train Loss: 1.9047, Val Loss: 1.1984\n",
      "Baseline Loss: 5.3064 | Actual Loss: 1.8680\n"
     ]
    },
    {
     "name": "stderr",
     "output_type": "stream",
     "text": [
      "Training:  93%|█████████▎| 279/300 [15:01<01:07,  3.22s/it]"
     ]
    },
    {
     "name": "stdout",
     "output_type": "stream",
     "text": [
      "Baseline Loss: 3.9462 | Actual Loss: 1.2833\n",
      "Epoch 279/300: Train Loss: 1.8680, Val Loss: 1.2833\n",
      "Baseline Loss: 5.3064 | Actual Loss: 1.8455\n"
     ]
    },
    {
     "name": "stderr",
     "output_type": "stream",
     "text": [
      "Training:  93%|█████████▎| 280/300 [15:04<01:04,  3.23s/it]"
     ]
    },
    {
     "name": "stdout",
     "output_type": "stream",
     "text": [
      "Baseline Loss: 3.9462 | Actual Loss: 1.2735\n",
      "Epoch 280/300: Train Loss: 1.8455, Val Loss: 1.2735\n",
      "Baseline Loss: 5.3064 | Actual Loss: 1.8236\n"
     ]
    },
    {
     "name": "stderr",
     "output_type": "stream",
     "text": [
      "Training:  94%|█████████▎| 281/300 [15:07<01:01,  3.24s/it]"
     ]
    },
    {
     "name": "stdout",
     "output_type": "stream",
     "text": [
      "Baseline Loss: 3.9462 | Actual Loss: 1.2243\n",
      "Epoch 281/300: Train Loss: 1.8236, Val Loss: 1.2243\n",
      "Baseline Loss: 5.3064 | Actual Loss: 1.8474\n"
     ]
    },
    {
     "name": "stderr",
     "output_type": "stream",
     "text": [
      "Training:  94%|█████████▍| 282/300 [15:10<00:58,  3.26s/it]"
     ]
    },
    {
     "name": "stdout",
     "output_type": "stream",
     "text": [
      "Baseline Loss: 3.9462 | Actual Loss: 1.2151\n",
      "Epoch 282/300: Train Loss: 1.8474, Val Loss: 1.2151\n",
      "Baseline Loss: 5.3064 | Actual Loss: 1.8430\n"
     ]
    },
    {
     "name": "stderr",
     "output_type": "stream",
     "text": [
      "Training:  94%|█████████▍| 283/300 [15:14<00:55,  3.25s/it]"
     ]
    },
    {
     "name": "stdout",
     "output_type": "stream",
     "text": [
      "Baseline Loss: 3.9462 | Actual Loss: 1.2396\n",
      "Epoch 283/300: Train Loss: 1.8430, Val Loss: 1.2396\n",
      "Baseline Loss: 5.3064 | Actual Loss: 1.8058\n"
     ]
    },
    {
     "name": "stderr",
     "output_type": "stream",
     "text": [
      "Training:  95%|█████████▍| 284/300 [15:17<00:52,  3.29s/it]"
     ]
    },
    {
     "name": "stdout",
     "output_type": "stream",
     "text": [
      "Baseline Loss: 3.9462 | Actual Loss: 1.1573\n",
      "Epoch 284/300: Train Loss: 1.8058, Val Loss: 1.1573\n",
      "New best validation loss: 1.1573\n",
      "Baseline Loss: 5.3064 | Actual Loss: 1.8069\n"
     ]
    },
    {
     "name": "stderr",
     "output_type": "stream",
     "text": [
      "Training:  95%|█████████▌| 285/300 [15:20<00:49,  3.28s/it]"
     ]
    },
    {
     "name": "stdout",
     "output_type": "stream",
     "text": [
      "Baseline Loss: 3.9462 | Actual Loss: 1.2141\n",
      "Epoch 285/300: Train Loss: 1.8069, Val Loss: 1.2141\n",
      "Baseline Loss: 5.3064 | Actual Loss: 1.8158\n"
     ]
    },
    {
     "name": "stderr",
     "output_type": "stream",
     "text": [
      "Training:  95%|█████████▌| 286/300 [15:23<00:45,  3.26s/it]"
     ]
    },
    {
     "name": "stdout",
     "output_type": "stream",
     "text": [
      "Baseline Loss: 3.9462 | Actual Loss: 1.2578\n",
      "Epoch 286/300: Train Loss: 1.8158, Val Loss: 1.2578\n",
      "Baseline Loss: 5.3064 | Actual Loss: 1.7887\n"
     ]
    },
    {
     "name": "stderr",
     "output_type": "stream",
     "text": [
      "Training:  96%|█████████▌| 287/300 [15:27<00:42,  3.29s/it]"
     ]
    },
    {
     "name": "stdout",
     "output_type": "stream",
     "text": [
      "Baseline Loss: 3.9462 | Actual Loss: 1.1890\n",
      "Epoch 287/300: Train Loss: 1.7887, Val Loss: 1.1890\n",
      "Baseline Loss: 5.3064 | Actual Loss: 1.8401\n"
     ]
    },
    {
     "name": "stderr",
     "output_type": "stream",
     "text": [
      "Training:  96%|█████████▌| 288/300 [15:30<00:38,  3.22s/it]"
     ]
    },
    {
     "name": "stdout",
     "output_type": "stream",
     "text": [
      "Baseline Loss: 3.9462 | Actual Loss: 1.2863\n",
      "Epoch 288/300: Train Loss: 1.8401, Val Loss: 1.2863\n",
      "Baseline Loss: 5.3064 | Actual Loss: 1.8382\n"
     ]
    },
    {
     "name": "stderr",
     "output_type": "stream",
     "text": [
      "Training:  96%|█████████▋| 289/300 [15:33<00:35,  3.21s/it]"
     ]
    },
    {
     "name": "stdout",
     "output_type": "stream",
     "text": [
      "Baseline Loss: 3.9462 | Actual Loss: 1.1803\n",
      "Epoch 289/300: Train Loss: 1.8382, Val Loss: 1.1803\n",
      "Baseline Loss: 5.3064 | Actual Loss: 1.8421\n"
     ]
    },
    {
     "name": "stderr",
     "output_type": "stream",
     "text": [
      "Training:  97%|█████████▋| 290/300 [15:36<00:32,  3.27s/it]"
     ]
    },
    {
     "name": "stdout",
     "output_type": "stream",
     "text": [
      "Baseline Loss: 3.9462 | Actual Loss: 1.2978\n",
      "Epoch 290/300: Train Loss: 1.8421, Val Loss: 1.2978\n",
      "Baseline Loss: 5.3064 | Actual Loss: 1.8172\n"
     ]
    },
    {
     "name": "stderr",
     "output_type": "stream",
     "text": [
      "Training:  97%|█████████▋| 291/300 [15:40<00:29,  3.23s/it]"
     ]
    },
    {
     "name": "stdout",
     "output_type": "stream",
     "text": [
      "Baseline Loss: 3.9462 | Actual Loss: 1.2694\n",
      "Epoch 291/300: Train Loss: 1.8172, Val Loss: 1.2694\n",
      "Baseline Loss: 5.3064 | Actual Loss: 1.8420\n"
     ]
    },
    {
     "name": "stderr",
     "output_type": "stream",
     "text": [
      "Training:  97%|█████████▋| 292/300 [15:43<00:26,  3.28s/it]"
     ]
    },
    {
     "name": "stdout",
     "output_type": "stream",
     "text": [
      "Baseline Loss: 3.9462 | Actual Loss: 1.1888\n",
      "Epoch 292/300: Train Loss: 1.8420, Val Loss: 1.1888\n",
      "Baseline Loss: 5.3064 | Actual Loss: 1.7939\n"
     ]
    },
    {
     "name": "stderr",
     "output_type": "stream",
     "text": [
      "Training:  98%|█████████▊| 293/300 [15:46<00:22,  3.27s/it]"
     ]
    },
    {
     "name": "stdout",
     "output_type": "stream",
     "text": [
      "Baseline Loss: 3.9462 | Actual Loss: 1.2439\n",
      "Epoch 293/300: Train Loss: 1.7939, Val Loss: 1.2439\n",
      "Baseline Loss: 5.3064 | Actual Loss: 1.7977\n"
     ]
    },
    {
     "name": "stderr",
     "output_type": "stream",
     "text": [
      "Training:  98%|█████████▊| 294/300 [15:49<00:19,  3.25s/it]"
     ]
    },
    {
     "name": "stdout",
     "output_type": "stream",
     "text": [
      "Baseline Loss: 3.9462 | Actual Loss: 1.2133\n",
      "Epoch 294/300: Train Loss: 1.7977, Val Loss: 1.2133\n",
      "Baseline Loss: 5.3064 | Actual Loss: 1.7824\n"
     ]
    },
    {
     "name": "stderr",
     "output_type": "stream",
     "text": [
      "Training:  98%|█████████▊| 295/300 [15:53<00:16,  3.30s/it]"
     ]
    },
    {
     "name": "stdout",
     "output_type": "stream",
     "text": [
      "Baseline Loss: 3.9462 | Actual Loss: 1.1688\n",
      "Epoch 295/300: Train Loss: 1.7824, Val Loss: 1.1688\n",
      "Baseline Loss: 5.3064 | Actual Loss: 1.8660\n"
     ]
    },
    {
     "name": "stderr",
     "output_type": "stream",
     "text": [
      "Training:  99%|█████████▊| 296/300 [15:56<00:13,  3.26s/it]"
     ]
    },
    {
     "name": "stdout",
     "output_type": "stream",
     "text": [
      "Baseline Loss: 3.9462 | Actual Loss: 1.2251\n",
      "Epoch 296/300: Train Loss: 1.8660, Val Loss: 1.2251\n",
      "Baseline Loss: 5.3064 | Actual Loss: 1.8400\n"
     ]
    },
    {
     "name": "stderr",
     "output_type": "stream",
     "text": [
      "Training:  99%|█████████▉| 297/300 [15:59<00:09,  3.24s/it]"
     ]
    },
    {
     "name": "stdout",
     "output_type": "stream",
     "text": [
      "Baseline Loss: 3.9462 | Actual Loss: 1.2061\n",
      "Epoch 297/300: Train Loss: 1.8400, Val Loss: 1.2061\n",
      "Baseline Loss: 5.3064 | Actual Loss: 1.7914\n"
     ]
    },
    {
     "name": "stderr",
     "output_type": "stream",
     "text": [
      "Training:  99%|█████████▉| 298/300 [16:02<00:06,  3.15s/it]"
     ]
    },
    {
     "name": "stdout",
     "output_type": "stream",
     "text": [
      "Baseline Loss: 3.9462 | Actual Loss: 1.2303\n",
      "Epoch 298/300: Train Loss: 1.7914, Val Loss: 1.2303\n",
      "Baseline Loss: 5.3064 | Actual Loss: 1.7707\n"
     ]
    },
    {
     "name": "stderr",
     "output_type": "stream",
     "text": [
      "Training: 100%|█████████▉| 299/300 [16:06<00:03,  3.25s/it]"
     ]
    },
    {
     "name": "stdout",
     "output_type": "stream",
     "text": [
      "Baseline Loss: 3.9462 | Actual Loss: 1.1397\n",
      "Epoch 299/300: Train Loss: 1.7707, Val Loss: 1.1397\n",
      "New best validation loss: 1.1397\n",
      "Baseline Loss: 5.3064 | Actual Loss: 1.8137\n"
     ]
    },
    {
     "name": "stderr",
     "output_type": "stream",
     "text": [
      "Training: 100%|██████████| 300/300 [16:09<00:00,  3.23s/it]"
     ]
    },
    {
     "name": "stdout",
     "output_type": "stream",
     "text": [
      "Baseline Loss: 3.9462 | Actual Loss: 1.2409\n",
      "Epoch 300/300: Train Loss: 1.8137, Val Loss: 1.2409\n"
     ]
    },
    {
     "name": "stderr",
     "output_type": "stream",
     "text": [
      "\n"
     ]
    },
    {
     "data": {
      "text/plain": [
       "1.1396887302398682"
      ]
     },
     "execution_count": 10,
     "metadata": {},
     "output_type": "execute_result"
    }
   ],
   "source": [
    "model2.train_model(\n",
    "    data_list,\n",
    ")"
   ]
  },
  {
   "cell_type": "code",
   "execution_count": 11,
   "id": "6e0fc12c",
   "metadata": {},
   "outputs": [],
   "source": [
    "model3 = GNNModelWithNewLoss(\n",
    "        num_node_features=data_list[0].x.shape[1],\n",
    "        num_edge_features=data_list[0].edge_attr.shape[1],\n",
    "        num_global_features=0,\n",
    "        hidden_dim=512,\n",
    "        dropout_rate=0.1,\n",
    "        property_index=2,\n",
    "        save_path=\"premodels_new_og/2\"\n",
    "    ).to(devices[0])"
   ]
  },
  {
   "cell_type": "code",
   "execution_count": 12,
   "id": "71b665fd",
   "metadata": {},
   "outputs": [
    {
     "name": "stdout",
     "output_type": "stream",
     "text": [
      "Training will be saved to: premodels_new_og/2\n"
     ]
    },
    {
     "name": "stderr",
     "output_type": "stream",
     "text": [
      "Training:   0%|          | 0/300 [00:00<?, ?it/s]"
     ]
    },
    {
     "name": "stdout",
     "output_type": "stream",
     "text": [
      "Baseline Loss: 5.4960 | Actual Loss: 5.4326\n"
     ]
    },
    {
     "name": "stderr",
     "output_type": "stream",
     "text": [
      "Training:   0%|          | 1/300 [00:04<24:05,  4.83s/it]"
     ]
    },
    {
     "name": "stdout",
     "output_type": "stream",
     "text": [
      "Baseline Loss: 4.3573 | Actual Loss: 4.2298\n",
      "Epoch 1/300: Train Loss: 5.4326, Val Loss: 4.2298\n",
      "New best validation loss: 4.2298\n",
      "Baseline Loss: 5.4960 | Actual Loss: 5.4068\n"
     ]
    },
    {
     "name": "stderr",
     "output_type": "stream",
     "text": [
      "Training:   1%|          | 2/300 [00:08<20:33,  4.14s/it]"
     ]
    },
    {
     "name": "stdout",
     "output_type": "stream",
     "text": [
      "Baseline Loss: 4.3573 | Actual Loss: 4.2300\n",
      "Epoch 2/300: Train Loss: 5.4068, Val Loss: 4.2300\n",
      "Baseline Loss: 5.4960 | Actual Loss: 5.3706\n"
     ]
    },
    {
     "name": "stderr",
     "output_type": "stream",
     "text": [
      "Training:   1%|          | 3/300 [00:12<19:28,  3.94s/it]"
     ]
    },
    {
     "name": "stdout",
     "output_type": "stream",
     "text": [
      "Baseline Loss: 4.3573 | Actual Loss: 4.1932\n",
      "Epoch 3/300: Train Loss: 5.3706, Val Loss: 4.1932\n",
      "New best validation loss: 4.1932\n",
      "Baseline Loss: 5.4960 | Actual Loss: 5.3433\n"
     ]
    },
    {
     "name": "stderr",
     "output_type": "stream",
     "text": [
      "Training:   1%|▏         | 4/300 [00:15<18:34,  3.77s/it]"
     ]
    },
    {
     "name": "stdout",
     "output_type": "stream",
     "text": [
      "Baseline Loss: 4.3573 | Actual Loss: 4.1500\n",
      "Epoch 4/300: Train Loss: 5.3433, Val Loss: 4.1500\n",
      "New best validation loss: 4.1500\n",
      "Baseline Loss: 5.4960 | Actual Loss: 5.3093\n"
     ]
    },
    {
     "name": "stderr",
     "output_type": "stream",
     "text": [
      "Training:   2%|▏         | 5/300 [00:19<18:31,  3.77s/it]"
     ]
    },
    {
     "name": "stdout",
     "output_type": "stream",
     "text": [
      "Baseline Loss: 4.3573 | Actual Loss: 4.1024\n",
      "Epoch 5/300: Train Loss: 5.3093, Val Loss: 4.1024\n",
      "New best validation loss: 4.1024\n",
      "Baseline Loss: 5.4960 | Actual Loss: 5.2486\n"
     ]
    },
    {
     "name": "stderr",
     "output_type": "stream",
     "text": [
      "Training:   2%|▏         | 6/300 [00:23<18:10,  3.71s/it]"
     ]
    },
    {
     "name": "stdout",
     "output_type": "stream",
     "text": [
      "Baseline Loss: 4.3573 | Actual Loss: 3.9733\n",
      "Epoch 6/300: Train Loss: 5.2486, Val Loss: 3.9733\n",
      "New best validation loss: 3.9733\n",
      "Baseline Loss: 5.4960 | Actual Loss: 5.1896\n"
     ]
    },
    {
     "name": "stderr",
     "output_type": "stream",
     "text": [
      "Training:   2%|▏         | 7/300 [00:26<18:03,  3.70s/it]"
     ]
    },
    {
     "name": "stdout",
     "output_type": "stream",
     "text": [
      "Baseline Loss: 4.3573 | Actual Loss: 3.9410\n",
      "Epoch 7/300: Train Loss: 5.1896, Val Loss: 3.9410\n",
      "New best validation loss: 3.9410\n",
      "Baseline Loss: 5.4960 | Actual Loss: 5.1411\n"
     ]
    },
    {
     "name": "stderr",
     "output_type": "stream",
     "text": [
      "Training:   3%|▎         | 8/300 [00:30<18:04,  3.71s/it]"
     ]
    },
    {
     "name": "stdout",
     "output_type": "stream",
     "text": [
      "Baseline Loss: 4.3573 | Actual Loss: 3.8296\n",
      "Epoch 8/300: Train Loss: 5.1411, Val Loss: 3.8296\n",
      "New best validation loss: 3.8296\n",
      "Baseline Loss: 5.4960 | Actual Loss: 5.0833\n"
     ]
    },
    {
     "name": "stderr",
     "output_type": "stream",
     "text": [
      "Training:   3%|▎         | 9/300 [00:34<17:58,  3.70s/it]"
     ]
    },
    {
     "name": "stdout",
     "output_type": "stream",
     "text": [
      "Baseline Loss: 4.3573 | Actual Loss: 3.7647\n",
      "Epoch 9/300: Train Loss: 5.0833, Val Loss: 3.7647\n",
      "New best validation loss: 3.7647\n",
      "Baseline Loss: 5.4960 | Actual Loss: 5.0023\n"
     ]
    },
    {
     "name": "stderr",
     "output_type": "stream",
     "text": [
      "Training:   3%|▎         | 10/300 [00:37<17:39,  3.65s/it]"
     ]
    },
    {
     "name": "stdout",
     "output_type": "stream",
     "text": [
      "Baseline Loss: 4.3573 | Actual Loss: 3.6598\n",
      "Epoch 10/300: Train Loss: 5.0023, Val Loss: 3.6598\n",
      "New best validation loss: 3.6598\n",
      "Baseline Loss: 5.4960 | Actual Loss: 4.8952\n"
     ]
    },
    {
     "name": "stderr",
     "output_type": "stream",
     "text": [
      "Training:   4%|▎         | 11/300 [00:41<17:48,  3.70s/it]"
     ]
    },
    {
     "name": "stdout",
     "output_type": "stream",
     "text": [
      "Baseline Loss: 4.3573 | Actual Loss: 3.5448\n",
      "Epoch 11/300: Train Loss: 4.8952, Val Loss: 3.5448\n",
      "New best validation loss: 3.5448\n",
      "Baseline Loss: 5.4960 | Actual Loss: 4.8082\n"
     ]
    },
    {
     "name": "stderr",
     "output_type": "stream",
     "text": [
      "Training:   4%|▍         | 12/300 [00:45<17:39,  3.68s/it]"
     ]
    },
    {
     "name": "stdout",
     "output_type": "stream",
     "text": [
      "Baseline Loss: 4.3573 | Actual Loss: 3.4557\n",
      "Epoch 12/300: Train Loss: 4.8082, Val Loss: 3.4557\n",
      "New best validation loss: 3.4557\n",
      "Baseline Loss: 5.4960 | Actual Loss: 4.7458\n"
     ]
    },
    {
     "name": "stderr",
     "output_type": "stream",
     "text": [
      "Training:   4%|▍         | 13/300 [00:48<17:33,  3.67s/it]"
     ]
    },
    {
     "name": "stdout",
     "output_type": "stream",
     "text": [
      "Baseline Loss: 4.3573 | Actual Loss: 3.5080\n",
      "Epoch 13/300: Train Loss: 4.7458, Val Loss: 3.5080\n",
      "Baseline Loss: 5.4960 | Actual Loss: 4.6725\n"
     ]
    },
    {
     "name": "stderr",
     "output_type": "stream",
     "text": [
      "Training:   5%|▍         | 14/300 [00:52<17:09,  3.60s/it]"
     ]
    },
    {
     "name": "stdout",
     "output_type": "stream",
     "text": [
      "Baseline Loss: 4.3573 | Actual Loss: 3.4141\n",
      "Epoch 14/300: Train Loss: 4.6725, Val Loss: 3.4141\n",
      "New best validation loss: 3.4141\n",
      "Baseline Loss: 5.4960 | Actual Loss: 4.6123\n"
     ]
    },
    {
     "name": "stderr",
     "output_type": "stream",
     "text": [
      "Training:   5%|▌         | 15/300 [00:56<17:27,  3.67s/it]"
     ]
    },
    {
     "name": "stdout",
     "output_type": "stream",
     "text": [
      "Baseline Loss: 4.3573 | Actual Loss: 3.3030\n",
      "Epoch 15/300: Train Loss: 4.6123, Val Loss: 3.3030\n",
      "New best validation loss: 3.3030\n",
      "Baseline Loss: 5.4960 | Actual Loss: 4.6034\n"
     ]
    },
    {
     "name": "stderr",
     "output_type": "stream",
     "text": [
      "Training:   5%|▌         | 16/300 [00:59<17:32,  3.71s/it]"
     ]
    },
    {
     "name": "stdout",
     "output_type": "stream",
     "text": [
      "Baseline Loss: 4.3573 | Actual Loss: 3.1817\n",
      "Epoch 16/300: Train Loss: 4.6034, Val Loss: 3.1817\n",
      "New best validation loss: 3.1817\n",
      "Baseline Loss: 5.4960 | Actual Loss: 4.5559\n"
     ]
    },
    {
     "name": "stderr",
     "output_type": "stream",
     "text": [
      "Training:   6%|▌         | 17/300 [01:03<17:02,  3.61s/it]"
     ]
    },
    {
     "name": "stdout",
     "output_type": "stream",
     "text": [
      "Baseline Loss: 4.3573 | Actual Loss: 3.1287\n",
      "Epoch 17/300: Train Loss: 4.5559, Val Loss: 3.1287\n",
      "New best validation loss: 3.1287\n",
      "Baseline Loss: 5.4960 | Actual Loss: 4.5129\n"
     ]
    },
    {
     "name": "stderr",
     "output_type": "stream",
     "text": [
      "Training:   6%|▌         | 18/300 [01:07<17:13,  3.67s/it]"
     ]
    },
    {
     "name": "stdout",
     "output_type": "stream",
     "text": [
      "Baseline Loss: 4.3573 | Actual Loss: 3.1030\n",
      "Epoch 18/300: Train Loss: 4.5129, Val Loss: 3.1030\n",
      "New best validation loss: 3.1030\n",
      "Baseline Loss: 5.4960 | Actual Loss: 4.4714\n"
     ]
    },
    {
     "name": "stderr",
     "output_type": "stream",
     "text": [
      "Training:   6%|▋         | 19/300 [01:10<17:22,  3.71s/it]"
     ]
    },
    {
     "name": "stdout",
     "output_type": "stream",
     "text": [
      "Baseline Loss: 4.3573 | Actual Loss: 3.1283\n",
      "Epoch 19/300: Train Loss: 4.4714, Val Loss: 3.1283\n",
      "Baseline Loss: 5.4960 | Actual Loss: 4.4637\n"
     ]
    },
    {
     "name": "stderr",
     "output_type": "stream",
     "text": [
      "Training:   7%|▋         | 20/300 [01:14<17:10,  3.68s/it]"
     ]
    },
    {
     "name": "stdout",
     "output_type": "stream",
     "text": [
      "Baseline Loss: 4.3573 | Actual Loss: 3.1680\n",
      "Epoch 20/300: Train Loss: 4.4637, Val Loss: 3.1680\n",
      "Baseline Loss: 5.4960 | Actual Loss: 4.4011\n"
     ]
    },
    {
     "name": "stderr",
     "output_type": "stream",
     "text": [
      "Training:   7%|▋         | 21/300 [01:17<16:49,  3.62s/it]"
     ]
    },
    {
     "name": "stdout",
     "output_type": "stream",
     "text": [
      "Baseline Loss: 4.3573 | Actual Loss: 3.0091\n",
      "Epoch 21/300: Train Loss: 4.4011, Val Loss: 3.0091\n",
      "New best validation loss: 3.0091\n",
      "Baseline Loss: 5.4960 | Actual Loss: 4.4455\n"
     ]
    },
    {
     "name": "stderr",
     "output_type": "stream",
     "text": [
      "Training:   7%|▋         | 22/300 [01:21<16:58,  3.66s/it]"
     ]
    },
    {
     "name": "stdout",
     "output_type": "stream",
     "text": [
      "Baseline Loss: 4.3573 | Actual Loss: 3.0514\n",
      "Epoch 22/300: Train Loss: 4.4455, Val Loss: 3.0514\n",
      "Baseline Loss: 5.4960 | Actual Loss: 4.2976\n"
     ]
    },
    {
     "name": "stderr",
     "output_type": "stream",
     "text": [
      "Training:   8%|▊         | 23/300 [01:25<16:50,  3.65s/it]"
     ]
    },
    {
     "name": "stdout",
     "output_type": "stream",
     "text": [
      "Baseline Loss: 4.3573 | Actual Loss: 3.0033\n",
      "Epoch 23/300: Train Loss: 4.2976, Val Loss: 3.0033\n",
      "New best validation loss: 3.0033\n",
      "Baseline Loss: 5.4960 | Actual Loss: 4.2877\n"
     ]
    },
    {
     "name": "stderr",
     "output_type": "stream",
     "text": [
      "Training:   8%|▊         | 24/300 [01:28<16:47,  3.65s/it]"
     ]
    },
    {
     "name": "stdout",
     "output_type": "stream",
     "text": [
      "Baseline Loss: 4.3573 | Actual Loss: 2.9708\n",
      "Epoch 24/300: Train Loss: 4.2877, Val Loss: 2.9708\n",
      "New best validation loss: 2.9708\n",
      "Baseline Loss: 5.4960 | Actual Loss: 4.1635\n"
     ]
    },
    {
     "name": "stderr",
     "output_type": "stream",
     "text": [
      "Training:   8%|▊         | 25/300 [01:32<16:53,  3.69s/it]"
     ]
    },
    {
     "name": "stdout",
     "output_type": "stream",
     "text": [
      "Baseline Loss: 4.3573 | Actual Loss: 2.9183\n",
      "Epoch 25/300: Train Loss: 4.1635, Val Loss: 2.9183\n",
      "New best validation loss: 2.9183\n",
      "Baseline Loss: 5.4960 | Actual Loss: 4.1562\n"
     ]
    },
    {
     "name": "stderr",
     "output_type": "stream",
     "text": [
      "Training:   9%|▊         | 26/300 [01:36<16:45,  3.67s/it]"
     ]
    },
    {
     "name": "stdout",
     "output_type": "stream",
     "text": [
      "Baseline Loss: 4.3573 | Actual Loss: 2.8733\n",
      "Epoch 26/300: Train Loss: 4.1562, Val Loss: 2.8733\n",
      "New best validation loss: 2.8733\n",
      "Baseline Loss: 5.4961 | Actual Loss: 4.1276\n"
     ]
    },
    {
     "name": "stderr",
     "output_type": "stream",
     "text": [
      "Training:   9%|▉         | 27/300 [01:40<16:38,  3.66s/it]"
     ]
    },
    {
     "name": "stdout",
     "output_type": "stream",
     "text": [
      "Baseline Loss: 4.3573 | Actual Loss: 2.8280\n",
      "Epoch 27/300: Train Loss: 4.1276, Val Loss: 2.8280\n",
      "New best validation loss: 2.8280\n",
      "Baseline Loss: 5.4960 | Actual Loss: 4.1649\n"
     ]
    },
    {
     "name": "stderr",
     "output_type": "stream",
     "text": [
      "Training:   9%|▉         | 28/300 [01:43<16:18,  3.60s/it]"
     ]
    },
    {
     "name": "stdout",
     "output_type": "stream",
     "text": [
      "Baseline Loss: 4.3573 | Actual Loss: 2.8372\n",
      "Epoch 28/300: Train Loss: 4.1649, Val Loss: 2.8372\n",
      "Baseline Loss: 5.4960 | Actual Loss: 4.0629\n"
     ]
    },
    {
     "name": "stderr",
     "output_type": "stream",
     "text": [
      "Training:  10%|▉         | 29/300 [01:47<16:30,  3.66s/it]"
     ]
    },
    {
     "name": "stdout",
     "output_type": "stream",
     "text": [
      "Baseline Loss: 4.3573 | Actual Loss: 2.8564\n",
      "Epoch 29/300: Train Loss: 4.0629, Val Loss: 2.8564\n",
      "Baseline Loss: 5.4960 | Actual Loss: 4.0525\n"
     ]
    },
    {
     "name": "stderr",
     "output_type": "stream",
     "text": [
      "Training:  10%|█         | 30/300 [01:51<16:36,  3.69s/it]"
     ]
    },
    {
     "name": "stdout",
     "output_type": "stream",
     "text": [
      "Baseline Loss: 4.3573 | Actual Loss: 2.7380\n",
      "Epoch 30/300: Train Loss: 4.0525, Val Loss: 2.7380\n",
      "New best validation loss: 2.7380\n",
      "Baseline Loss: 5.4960 | Actual Loss: 4.0091\n"
     ]
    },
    {
     "name": "stderr",
     "output_type": "stream",
     "text": [
      "Training:  10%|█         | 31/300 [01:54<16:28,  3.68s/it]"
     ]
    },
    {
     "name": "stdout",
     "output_type": "stream",
     "text": [
      "Baseline Loss: 4.3573 | Actual Loss: 2.6582\n",
      "Epoch 31/300: Train Loss: 4.0091, Val Loss: 2.6582\n",
      "New best validation loss: 2.6582\n",
      "Baseline Loss: 5.4960 | Actual Loss: 3.9728\n"
     ]
    },
    {
     "name": "stderr",
     "output_type": "stream",
     "text": [
      "Training:  11%|█         | 32/300 [01:58<16:22,  3.67s/it]"
     ]
    },
    {
     "name": "stdout",
     "output_type": "stream",
     "text": [
      "Baseline Loss: 4.3573 | Actual Loss: 2.7634\n",
      "Epoch 32/300: Train Loss: 3.9728, Val Loss: 2.7634\n",
      "Baseline Loss: 5.4960 | Actual Loss: 3.9012\n"
     ]
    },
    {
     "name": "stderr",
     "output_type": "stream",
     "text": [
      "Training:  11%|█         | 33/300 [02:01<16:00,  3.60s/it]"
     ]
    },
    {
     "name": "stdout",
     "output_type": "stream",
     "text": [
      "Baseline Loss: 4.3573 | Actual Loss: 2.8032\n",
      "Epoch 33/300: Train Loss: 3.9012, Val Loss: 2.8032\n",
      "Baseline Loss: 5.4960 | Actual Loss: 3.8926\n"
     ]
    },
    {
     "name": "stderr",
     "output_type": "stream",
     "text": [
      "Training:  11%|█▏        | 34/300 [02:05<16:10,  3.65s/it]"
     ]
    },
    {
     "name": "stdout",
     "output_type": "stream",
     "text": [
      "Baseline Loss: 4.3573 | Actual Loss: 2.7264\n",
      "Epoch 34/300: Train Loss: 3.8926, Val Loss: 2.7264\n",
      "Baseline Loss: 5.4960 | Actual Loss: 3.8521\n"
     ]
    },
    {
     "name": "stderr",
     "output_type": "stream",
     "text": [
      "Training:  12%|█▏        | 35/300 [02:09<16:19,  3.70s/it]"
     ]
    },
    {
     "name": "stdout",
     "output_type": "stream",
     "text": [
      "Baseline Loss: 4.3573 | Actual Loss: 2.7431\n",
      "Epoch 35/300: Train Loss: 3.8521, Val Loss: 2.7431\n",
      "Baseline Loss: 5.4960 | Actual Loss: 3.7730\n"
     ]
    },
    {
     "name": "stderr",
     "output_type": "stream",
     "text": [
      "Training:  12%|█▏        | 36/300 [02:12<16:13,  3.69s/it]"
     ]
    },
    {
     "name": "stdout",
     "output_type": "stream",
     "text": [
      "Baseline Loss: 4.3573 | Actual Loss: 2.6140\n",
      "Epoch 36/300: Train Loss: 3.7730, Val Loss: 2.6140\n",
      "New best validation loss: 2.6140\n",
      "Baseline Loss: 5.4960 | Actual Loss: 3.7932\n"
     ]
    },
    {
     "name": "stderr",
     "output_type": "stream",
     "text": [
      "Training:  12%|█▏        | 37/300 [02:16<16:06,  3.67s/it]"
     ]
    },
    {
     "name": "stdout",
     "output_type": "stream",
     "text": [
      "Baseline Loss: 4.3573 | Actual Loss: 2.6458\n",
      "Epoch 37/300: Train Loss: 3.7932, Val Loss: 2.6458\n",
      "Baseline Loss: 5.4960 | Actual Loss: 3.8723\n"
     ]
    },
    {
     "name": "stderr",
     "output_type": "stream",
     "text": [
      "Training:  13%|█▎        | 38/300 [02:20<15:39,  3.59s/it]"
     ]
    },
    {
     "name": "stdout",
     "output_type": "stream",
     "text": [
      "Baseline Loss: 4.3573 | Actual Loss: 2.6288\n",
      "Epoch 38/300: Train Loss: 3.8723, Val Loss: 2.6288\n",
      "Baseline Loss: 5.4960 | Actual Loss: 3.7878\n"
     ]
    },
    {
     "name": "stderr",
     "output_type": "stream",
     "text": [
      "Training:  13%|█▎        | 39/300 [02:23<15:49,  3.64s/it]"
     ]
    },
    {
     "name": "stdout",
     "output_type": "stream",
     "text": [
      "Baseline Loss: 4.3573 | Actual Loss: 2.6385\n",
      "Epoch 39/300: Train Loss: 3.7878, Val Loss: 2.6385\n",
      "Baseline Loss: 5.4960 | Actual Loss: 3.7643\n"
     ]
    },
    {
     "name": "stderr",
     "output_type": "stream",
     "text": [
      "Training:  13%|█▎        | 40/300 [02:27<16:09,  3.73s/it]"
     ]
    },
    {
     "name": "stdout",
     "output_type": "stream",
     "text": [
      "Baseline Loss: 4.3573 | Actual Loss: 2.6943\n",
      "Epoch 40/300: Train Loss: 3.7643, Val Loss: 2.6943\n",
      "Baseline Loss: 5.4960 | Actual Loss: 3.7337\n"
     ]
    },
    {
     "name": "stderr",
     "output_type": "stream",
     "text": [
      "Training:  14%|█▎        | 41/300 [02:31<15:56,  3.69s/it]"
     ]
    },
    {
     "name": "stdout",
     "output_type": "stream",
     "text": [
      "Baseline Loss: 4.3573 | Actual Loss: 2.6391\n",
      "Epoch 41/300: Train Loss: 3.7337, Val Loss: 2.6391\n",
      "Baseline Loss: 5.4960 | Actual Loss: 3.7310\n"
     ]
    },
    {
     "name": "stderr",
     "output_type": "stream",
     "text": [
      "Training:  14%|█▍        | 42/300 [02:34<15:47,  3.67s/it]"
     ]
    },
    {
     "name": "stdout",
     "output_type": "stream",
     "text": [
      "Baseline Loss: 4.3573 | Actual Loss: 2.6013\n",
      "Epoch 42/300: Train Loss: 3.7310, Val Loss: 2.6013\n",
      "New best validation loss: 2.6013\n",
      "Baseline Loss: 5.4960 | Actual Loss: 3.6578\n"
     ]
    },
    {
     "name": "stderr",
     "output_type": "stream",
     "text": [
      "Training:  14%|█▍        | 43/300 [02:38<15:24,  3.60s/it]"
     ]
    },
    {
     "name": "stdout",
     "output_type": "stream",
     "text": [
      "Baseline Loss: 4.3573 | Actual Loss: 2.5704\n",
      "Epoch 43/300: Train Loss: 3.6578, Val Loss: 2.5704\n",
      "New best validation loss: 2.5704\n",
      "Baseline Loss: 5.4960 | Actual Loss: 3.6094\n"
     ]
    },
    {
     "name": "stderr",
     "output_type": "stream",
     "text": [
      "Training:  15%|█▍        | 44/300 [02:42<15:42,  3.68s/it]"
     ]
    },
    {
     "name": "stdout",
     "output_type": "stream",
     "text": [
      "Baseline Loss: 4.3573 | Actual Loss: 2.5753\n",
      "Epoch 44/300: Train Loss: 3.6094, Val Loss: 2.5753\n",
      "Baseline Loss: 5.4960 | Actual Loss: 3.6847\n"
     ]
    },
    {
     "name": "stderr",
     "output_type": "stream",
     "text": [
      "Training:  15%|█▌        | 45/300 [02:45<15:20,  3.61s/it]"
     ]
    },
    {
     "name": "stdout",
     "output_type": "stream",
     "text": [
      "Baseline Loss: 4.3573 | Actual Loss: 2.5914\n",
      "Epoch 45/300: Train Loss: 3.6847, Val Loss: 2.5914\n",
      "Baseline Loss: 5.4960 | Actual Loss: 3.6069\n"
     ]
    },
    {
     "name": "stderr",
     "output_type": "stream",
     "text": [
      "Training:  15%|█▌        | 46/300 [02:49<15:19,  3.62s/it]"
     ]
    },
    {
     "name": "stdout",
     "output_type": "stream",
     "text": [
      "Baseline Loss: 4.3573 | Actual Loss: 2.5419\n",
      "Epoch 46/300: Train Loss: 3.6069, Val Loss: 2.5419\n",
      "New best validation loss: 2.5419\n",
      "Baseline Loss: 5.4960 | Actual Loss: 3.6139\n"
     ]
    },
    {
     "name": "stderr",
     "output_type": "stream",
     "text": [
      "Training:  16%|█▌        | 47/300 [02:53<15:23,  3.65s/it]"
     ]
    },
    {
     "name": "stdout",
     "output_type": "stream",
     "text": [
      "Baseline Loss: 4.3573 | Actual Loss: 2.5520\n",
      "Epoch 47/300: Train Loss: 3.6139, Val Loss: 2.5520\n",
      "Baseline Loss: 5.4960 | Actual Loss: 3.6300\n"
     ]
    },
    {
     "name": "stderr",
     "output_type": "stream",
     "text": [
      "Training:  16%|█▌        | 48/300 [02:56<15:26,  3.68s/it]"
     ]
    },
    {
     "name": "stdout",
     "output_type": "stream",
     "text": [
      "Baseline Loss: 4.3573 | Actual Loss: 2.4349\n",
      "Epoch 48/300: Train Loss: 3.6300, Val Loss: 2.4349\n",
      "New best validation loss: 2.4349\n",
      "Baseline Loss: 5.4960 | Actual Loss: 3.5879\n"
     ]
    },
    {
     "name": "stderr",
     "output_type": "stream",
     "text": [
      "Training:  16%|█▋        | 49/300 [03:00<15:27,  3.69s/it]"
     ]
    },
    {
     "name": "stdout",
     "output_type": "stream",
     "text": [
      "Baseline Loss: 4.3573 | Actual Loss: 2.5539\n",
      "Epoch 49/300: Train Loss: 3.5879, Val Loss: 2.5539\n",
      "Baseline Loss: 5.4960 | Actual Loss: 3.5345\n"
     ]
    },
    {
     "name": "stderr",
     "output_type": "stream",
     "text": [
      "Training:  17%|█▋        | 50/300 [03:04<15:20,  3.68s/it]"
     ]
    },
    {
     "name": "stdout",
     "output_type": "stream",
     "text": [
      "Baseline Loss: 4.3573 | Actual Loss: 2.5409\n",
      "Epoch 50/300: Train Loss: 3.5345, Val Loss: 2.5409\n",
      "Baseline Loss: 5.4960 | Actual Loss: 3.5221\n"
     ]
    },
    {
     "name": "stderr",
     "output_type": "stream",
     "text": [
      "Training:  17%|█▋        | 51/300 [03:07<15:21,  3.70s/it]"
     ]
    },
    {
     "name": "stdout",
     "output_type": "stream",
     "text": [
      "Baseline Loss: 4.3573 | Actual Loss: 2.4639\n",
      "Epoch 51/300: Train Loss: 3.5221, Val Loss: 2.4639\n",
      "Baseline Loss: 5.4960 | Actual Loss: 3.4892\n"
     ]
    },
    {
     "name": "stderr",
     "output_type": "stream",
     "text": [
      "Training:  17%|█▋        | 52/300 [03:11<15:09,  3.67s/it]"
     ]
    },
    {
     "name": "stdout",
     "output_type": "stream",
     "text": [
      "Baseline Loss: 4.3573 | Actual Loss: 2.5842\n",
      "Epoch 52/300: Train Loss: 3.4892, Val Loss: 2.5842\n",
      "Baseline Loss: 5.4960 | Actual Loss: 3.4898\n"
     ]
    },
    {
     "name": "stderr",
     "output_type": "stream",
     "text": [
      "Training:  18%|█▊        | 53/300 [03:15<14:59,  3.64s/it]"
     ]
    },
    {
     "name": "stdout",
     "output_type": "stream",
     "text": [
      "Baseline Loss: 4.3573 | Actual Loss: 2.4787\n",
      "Epoch 53/300: Train Loss: 3.4898, Val Loss: 2.4787\n",
      "Baseline Loss: 5.4960 | Actual Loss: 3.4251\n"
     ]
    },
    {
     "name": "stderr",
     "output_type": "stream",
     "text": [
      "Training:  18%|█▊        | 54/300 [03:18<15:08,  3.69s/it]"
     ]
    },
    {
     "name": "stdout",
     "output_type": "stream",
     "text": [
      "Baseline Loss: 4.3573 | Actual Loss: 2.4735\n",
      "Epoch 54/300: Train Loss: 3.4251, Val Loss: 2.4735\n",
      "Baseline Loss: 5.4960 | Actual Loss: 3.4998\n"
     ]
    },
    {
     "name": "stderr",
     "output_type": "stream",
     "text": [
      "Training:  18%|█▊        | 55/300 [03:22<15:11,  3.72s/it]"
     ]
    },
    {
     "name": "stdout",
     "output_type": "stream",
     "text": [
      "Baseline Loss: 4.3573 | Actual Loss: 2.4138\n",
      "Epoch 55/300: Train Loss: 3.4998, Val Loss: 2.4138\n",
      "New best validation loss: 2.4138\n",
      "Baseline Loss: 5.4960 | Actual Loss: 3.4189\n"
     ]
    },
    {
     "name": "stderr",
     "output_type": "stream",
     "text": [
      "Training:  19%|█▊        | 56/300 [03:26<15:04,  3.71s/it]"
     ]
    },
    {
     "name": "stdout",
     "output_type": "stream",
     "text": [
      "Baseline Loss: 4.3573 | Actual Loss: 2.4378\n",
      "Epoch 56/300: Train Loss: 3.4189, Val Loss: 2.4378\n",
      "Baseline Loss: 5.4960 | Actual Loss: 3.3747\n"
     ]
    },
    {
     "name": "stderr",
     "output_type": "stream",
     "text": [
      "Training:  19%|█▉        | 57/300 [03:29<14:50,  3.66s/it]"
     ]
    },
    {
     "name": "stdout",
     "output_type": "stream",
     "text": [
      "Baseline Loss: 4.3573 | Actual Loss: 2.4616\n",
      "Epoch 57/300: Train Loss: 3.3747, Val Loss: 2.4616\n",
      "Baseline Loss: 5.4960 | Actual Loss: 3.3928\n"
     ]
    },
    {
     "name": "stderr",
     "output_type": "stream",
     "text": [
      "Training:  19%|█▉        | 58/300 [03:33<14:57,  3.71s/it]"
     ]
    },
    {
     "name": "stdout",
     "output_type": "stream",
     "text": [
      "Baseline Loss: 4.3573 | Actual Loss: 2.4278\n",
      "Epoch 58/300: Train Loss: 3.3928, Val Loss: 2.4278\n",
      "Baseline Loss: 5.4960 | Actual Loss: 3.4460\n"
     ]
    },
    {
     "name": "stderr",
     "output_type": "stream",
     "text": [
      "Training:  20%|█▉        | 59/300 [03:37<14:43,  3.67s/it]"
     ]
    },
    {
     "name": "stdout",
     "output_type": "stream",
     "text": [
      "Baseline Loss: 4.3573 | Actual Loss: 2.3371\n",
      "Epoch 59/300: Train Loss: 3.4460, Val Loss: 2.3371\n",
      "New best validation loss: 2.3371\n",
      "Baseline Loss: 5.4960 | Actual Loss: 3.3421\n"
     ]
    },
    {
     "name": "stderr",
     "output_type": "stream",
     "text": [
      "Training:  20%|██        | 60/300 [03:40<14:35,  3.65s/it]"
     ]
    },
    {
     "name": "stdout",
     "output_type": "stream",
     "text": [
      "Baseline Loss: 4.3573 | Actual Loss: 2.4044\n",
      "Epoch 60/300: Train Loss: 3.3421, Val Loss: 2.4044\n",
      "Baseline Loss: 5.4960 | Actual Loss: 3.3163\n"
     ]
    },
    {
     "name": "stderr",
     "output_type": "stream",
     "text": [
      "Training:  20%|██        | 61/300 [03:44<14:20,  3.60s/it]"
     ]
    },
    {
     "name": "stdout",
     "output_type": "stream",
     "text": [
      "Baseline Loss: 4.3573 | Actual Loss: 2.4185\n",
      "Epoch 61/300: Train Loss: 3.3163, Val Loss: 2.4185\n",
      "Baseline Loss: 5.4960 | Actual Loss: 3.3612\n"
     ]
    },
    {
     "name": "stderr",
     "output_type": "stream",
     "text": [
      "Training:  21%|██        | 62/300 [03:48<14:26,  3.64s/it]"
     ]
    },
    {
     "name": "stdout",
     "output_type": "stream",
     "text": [
      "Baseline Loss: 4.3573 | Actual Loss: 2.3148\n",
      "Epoch 62/300: Train Loss: 3.3612, Val Loss: 2.3148\n",
      "New best validation loss: 2.3148\n",
      "Baseline Loss: 5.4960 | Actual Loss: 3.2659\n"
     ]
    },
    {
     "name": "stderr",
     "output_type": "stream",
     "text": [
      "Training:  21%|██        | 63/300 [03:51<14:31,  3.68s/it]"
     ]
    },
    {
     "name": "stdout",
     "output_type": "stream",
     "text": [
      "Baseline Loss: 4.3573 | Actual Loss: 2.2976\n",
      "Epoch 63/300: Train Loss: 3.2659, Val Loss: 2.2976\n",
      "New best validation loss: 2.2976\n",
      "Baseline Loss: 5.4960 | Actual Loss: 3.3086\n"
     ]
    },
    {
     "name": "stderr",
     "output_type": "stream",
     "text": [
      "Training:  21%|██▏       | 64/300 [03:55<14:17,  3.63s/it]"
     ]
    },
    {
     "name": "stdout",
     "output_type": "stream",
     "text": [
      "Baseline Loss: 4.3573 | Actual Loss: 2.3782\n",
      "Epoch 64/300: Train Loss: 3.3086, Val Loss: 2.3782\n",
      "Baseline Loss: 5.4960 | Actual Loss: 3.2649\n"
     ]
    },
    {
     "name": "stderr",
     "output_type": "stream",
     "text": [
      "Training:  22%|██▏       | 65/300 [03:59<14:32,  3.71s/it]"
     ]
    },
    {
     "name": "stdout",
     "output_type": "stream",
     "text": [
      "Baseline Loss: 4.3573 | Actual Loss: 2.2501\n",
      "Epoch 65/300: Train Loss: 3.2649, Val Loss: 2.2501\n",
      "New best validation loss: 2.2501\n",
      "Baseline Loss: 5.4960 | Actual Loss: 3.2828\n"
     ]
    },
    {
     "name": "stderr",
     "output_type": "stream",
     "text": [
      "Training:  22%|██▏       | 66/300 [04:02<14:06,  3.62s/it]"
     ]
    },
    {
     "name": "stdout",
     "output_type": "stream",
     "text": [
      "Baseline Loss: 4.3573 | Actual Loss: 2.3282\n",
      "Epoch 66/300: Train Loss: 3.2828, Val Loss: 2.3282\n",
      "Baseline Loss: 5.4960 | Actual Loss: 3.2037\n"
     ]
    },
    {
     "name": "stderr",
     "output_type": "stream",
     "text": [
      "Training:  22%|██▏       | 67/300 [04:06<14:14,  3.67s/it]"
     ]
    },
    {
     "name": "stdout",
     "output_type": "stream",
     "text": [
      "Baseline Loss: 4.3573 | Actual Loss: 2.2627\n",
      "Epoch 67/300: Train Loss: 3.2037, Val Loss: 2.2627\n",
      "Baseline Loss: 5.4960 | Actual Loss: 3.2347\n"
     ]
    },
    {
     "name": "stderr",
     "output_type": "stream",
     "text": [
      "Training:  23%|██▎       | 68/300 [04:10<14:19,  3.70s/it]"
     ]
    },
    {
     "name": "stdout",
     "output_type": "stream",
     "text": [
      "Baseline Loss: 4.3573 | Actual Loss: 2.3015\n",
      "Epoch 68/300: Train Loss: 3.2347, Val Loss: 2.3015\n",
      "Baseline Loss: 5.4960 | Actual Loss: 3.1914\n"
     ]
    },
    {
     "name": "stderr",
     "output_type": "stream",
     "text": [
      "Training:  23%|██▎       | 69/300 [04:13<14:09,  3.68s/it]"
     ]
    },
    {
     "name": "stdout",
     "output_type": "stream",
     "text": [
      "Baseline Loss: 4.3573 | Actual Loss: 2.3952\n",
      "Epoch 69/300: Train Loss: 3.1914, Val Loss: 2.3952\n",
      "Baseline Loss: 5.4960 | Actual Loss: 3.1962\n"
     ]
    },
    {
     "name": "stderr",
     "output_type": "stream",
     "text": [
      "Training:  23%|██▎       | 70/300 [04:17<13:49,  3.61s/it]"
     ]
    },
    {
     "name": "stdout",
     "output_type": "stream",
     "text": [
      "Baseline Loss: 4.3573 | Actual Loss: 2.3461\n",
      "Epoch 70/300: Train Loss: 3.1962, Val Loss: 2.3461\n",
      "Baseline Loss: 5.4960 | Actual Loss: 3.1732\n"
     ]
    },
    {
     "name": "stderr",
     "output_type": "stream",
     "text": [
      "Training:  24%|██▎       | 71/300 [04:21<13:54,  3.65s/it]"
     ]
    },
    {
     "name": "stdout",
     "output_type": "stream",
     "text": [
      "Baseline Loss: 4.3573 | Actual Loss: 2.4009\n",
      "Epoch 71/300: Train Loss: 3.1732, Val Loss: 2.4009\n",
      "Baseline Loss: 5.4960 | Actual Loss: 3.1913\n"
     ]
    },
    {
     "name": "stderr",
     "output_type": "stream",
     "text": [
      "Training:  24%|██▍       | 72/300 [04:24<13:46,  3.62s/it]"
     ]
    },
    {
     "name": "stdout",
     "output_type": "stream",
     "text": [
      "Baseline Loss: 4.3573 | Actual Loss: 2.3311\n",
      "Epoch 72/300: Train Loss: 3.1913, Val Loss: 2.3311\n",
      "Baseline Loss: 5.4960 | Actual Loss: 3.1678\n"
     ]
    },
    {
     "name": "stderr",
     "output_type": "stream",
     "text": [
      "Training:  24%|██▍       | 73/300 [04:28<13:49,  3.65s/it]"
     ]
    },
    {
     "name": "stdout",
     "output_type": "stream",
     "text": [
      "Baseline Loss: 4.3573 | Actual Loss: 2.3886\n",
      "Epoch 73/300: Train Loss: 3.1678, Val Loss: 2.3886\n",
      "Baseline Loss: 5.4960 | Actual Loss: 3.1083\n"
     ]
    },
    {
     "name": "stderr",
     "output_type": "stream",
     "text": [
      "Training:  25%|██▍       | 74/300 [04:31<13:27,  3.57s/it]"
     ]
    },
    {
     "name": "stdout",
     "output_type": "stream",
     "text": [
      "Baseline Loss: 4.3573 | Actual Loss: 2.2763\n",
      "Epoch 74/300: Train Loss: 3.1083, Val Loss: 2.2763\n",
      "Baseline Loss: 5.4960 | Actual Loss: 3.1389\n"
     ]
    },
    {
     "name": "stderr",
     "output_type": "stream",
     "text": [
      "Training:  25%|██▌       | 75/300 [04:35<13:45,  3.67s/it]"
     ]
    },
    {
     "name": "stdout",
     "output_type": "stream",
     "text": [
      "Baseline Loss: 4.3573 | Actual Loss: 2.2064\n",
      "Epoch 75/300: Train Loss: 3.1389, Val Loss: 2.2064\n",
      "New best validation loss: 2.2064\n",
      "Baseline Loss: 5.4960 | Actual Loss: 3.0524\n"
     ]
    },
    {
     "name": "stderr",
     "output_type": "stream",
     "text": [
      "Training:  25%|██▌       | 76/300 [04:39<13:49,  3.70s/it]"
     ]
    },
    {
     "name": "stdout",
     "output_type": "stream",
     "text": [
      "Baseline Loss: 4.3573 | Actual Loss: 2.1938\n",
      "Epoch 76/300: Train Loss: 3.0524, Val Loss: 2.1938\n",
      "New best validation loss: 2.1938\n",
      "Baseline Loss: 5.4960 | Actual Loss: 3.0316\n"
     ]
    },
    {
     "name": "stderr",
     "output_type": "stream",
     "text": [
      "Training:  26%|██▌       | 77/300 [04:42<13:27,  3.62s/it]"
     ]
    },
    {
     "name": "stdout",
     "output_type": "stream",
     "text": [
      "Baseline Loss: 4.3573 | Actual Loss: 2.2088\n",
      "Epoch 77/300: Train Loss: 3.0316, Val Loss: 2.2088\n",
      "Baseline Loss: 5.4960 | Actual Loss: 3.0385\n"
     ]
    },
    {
     "name": "stderr",
     "output_type": "stream",
     "text": [
      "Training:  26%|██▌       | 78/300 [04:46<13:25,  3.63s/it]"
     ]
    },
    {
     "name": "stdout",
     "output_type": "stream",
     "text": [
      "Baseline Loss: 4.3573 | Actual Loss: 2.2261\n",
      "Epoch 78/300: Train Loss: 3.0385, Val Loss: 2.2261\n",
      "Baseline Loss: 5.4960 | Actual Loss: 3.0352\n"
     ]
    },
    {
     "name": "stderr",
     "output_type": "stream",
     "text": [
      "Training:  26%|██▋       | 79/300 [04:50<13:30,  3.67s/it]"
     ]
    },
    {
     "name": "stdout",
     "output_type": "stream",
     "text": [
      "Baseline Loss: 4.3573 | Actual Loss: 2.2163\n",
      "Epoch 79/300: Train Loss: 3.0352, Val Loss: 2.2163\n",
      "Baseline Loss: 5.4960 | Actual Loss: 2.9791\n"
     ]
    },
    {
     "name": "stderr",
     "output_type": "stream",
     "text": [
      "Training:  27%|██▋       | 80/300 [04:53<13:27,  3.67s/it]"
     ]
    },
    {
     "name": "stdout",
     "output_type": "stream",
     "text": [
      "Baseline Loss: 4.3573 | Actual Loss: 2.2932\n",
      "Epoch 80/300: Train Loss: 2.9791, Val Loss: 2.2932\n",
      "Baseline Loss: 5.4960 | Actual Loss: 2.9753\n"
     ]
    },
    {
     "name": "stderr",
     "output_type": "stream",
     "text": [
      "Training:  27%|██▋       | 81/300 [04:57<13:28,  3.69s/it]"
     ]
    },
    {
     "name": "stdout",
     "output_type": "stream",
     "text": [
      "Baseline Loss: 4.3573 | Actual Loss: 2.1921\n",
      "Epoch 81/300: Train Loss: 2.9753, Val Loss: 2.1921\n",
      "New best validation loss: 2.1921\n",
      "Baseline Loss: 5.4960 | Actual Loss: 3.0004\n"
     ]
    },
    {
     "name": "stderr",
     "output_type": "stream",
     "text": [
      "Training:  27%|██▋       | 82/300 [05:01<13:20,  3.67s/it]"
     ]
    },
    {
     "name": "stdout",
     "output_type": "stream",
     "text": [
      "Baseline Loss: 4.3573 | Actual Loss: 2.2298\n",
      "Epoch 82/300: Train Loss: 3.0004, Val Loss: 2.2298\n",
      "Baseline Loss: 5.4960 | Actual Loss: 2.9896\n"
     ]
    },
    {
     "name": "stderr",
     "output_type": "stream",
     "text": [
      "Training:  28%|██▊       | 83/300 [05:04<13:03,  3.61s/it]"
     ]
    },
    {
     "name": "stdout",
     "output_type": "stream",
     "text": [
      "Baseline Loss: 4.3573 | Actual Loss: 2.1293\n",
      "Epoch 83/300: Train Loss: 2.9896, Val Loss: 2.1293\n",
      "New best validation loss: 2.1293\n",
      "Baseline Loss: 5.4960 | Actual Loss: 2.9470\n"
     ]
    },
    {
     "name": "stderr",
     "output_type": "stream",
     "text": [
      "Training:  28%|██▊       | 84/300 [05:08<13:08,  3.65s/it]"
     ]
    },
    {
     "name": "stdout",
     "output_type": "stream",
     "text": [
      "Baseline Loss: 4.3573 | Actual Loss: 2.1119\n",
      "Epoch 84/300: Train Loss: 2.9470, Val Loss: 2.1119\n",
      "New best validation loss: 2.1119\n",
      "Baseline Loss: 5.4960 | Actual Loss: 2.9076\n"
     ]
    },
    {
     "name": "stderr",
     "output_type": "stream",
     "text": [
      "Training:  28%|██▊       | 85/300 [05:12<13:03,  3.64s/it]"
     ]
    },
    {
     "name": "stdout",
     "output_type": "stream",
     "text": [
      "Baseline Loss: 4.3573 | Actual Loss: 2.2311\n",
      "Epoch 85/300: Train Loss: 2.9076, Val Loss: 2.2311\n",
      "Baseline Loss: 5.4960 | Actual Loss: 2.9248\n"
     ]
    },
    {
     "name": "stderr",
     "output_type": "stream",
     "text": [
      "Training:  29%|██▊       | 86/300 [05:15<12:58,  3.64s/it]"
     ]
    },
    {
     "name": "stdout",
     "output_type": "stream",
     "text": [
      "Baseline Loss: 4.3573 | Actual Loss: 2.0766\n",
      "Epoch 86/300: Train Loss: 2.9248, Val Loss: 2.0766\n",
      "New best validation loss: 2.0766\n",
      "Baseline Loss: 5.4960 | Actual Loss: 2.9329\n"
     ]
    },
    {
     "name": "stderr",
     "output_type": "stream",
     "text": [
      "Training:  29%|██▉       | 87/300 [05:19<13:04,  3.68s/it]"
     ]
    },
    {
     "name": "stdout",
     "output_type": "stream",
     "text": [
      "Baseline Loss: 4.3573 | Actual Loss: 2.0081\n",
      "Epoch 87/300: Train Loss: 2.9329, Val Loss: 2.0081\n",
      "New best validation loss: 2.0081\n",
      "Baseline Loss: 5.4960 | Actual Loss: 2.8211\n"
     ]
    },
    {
     "name": "stderr",
     "output_type": "stream",
     "text": [
      "Training:  29%|██▉       | 88/300 [05:23<12:56,  3.66s/it]"
     ]
    },
    {
     "name": "stdout",
     "output_type": "stream",
     "text": [
      "Baseline Loss: 4.3573 | Actual Loss: 2.0007\n",
      "Epoch 88/300: Train Loss: 2.8211, Val Loss: 2.0007\n",
      "New best validation loss: 2.0007\n",
      "Baseline Loss: 5.4960 | Actual Loss: 2.8841\n"
     ]
    },
    {
     "name": "stderr",
     "output_type": "stream",
     "text": [
      "Training:  30%|██▉       | 89/300 [05:26<12:50,  3.65s/it]"
     ]
    },
    {
     "name": "stdout",
     "output_type": "stream",
     "text": [
      "Baseline Loss: 4.3573 | Actual Loss: 2.1264\n",
      "Epoch 89/300: Train Loss: 2.8841, Val Loss: 2.1264\n",
      "Baseline Loss: 5.4960 | Actual Loss: 2.8568\n"
     ]
    },
    {
     "name": "stderr",
     "output_type": "stream",
     "text": [
      "Training:  30%|███       | 90/300 [05:30<12:31,  3.58s/it]"
     ]
    },
    {
     "name": "stdout",
     "output_type": "stream",
     "text": [
      "Baseline Loss: 4.3573 | Actual Loss: 2.1472\n",
      "Epoch 90/300: Train Loss: 2.8568, Val Loss: 2.1472\n",
      "Baseline Loss: 5.4960 | Actual Loss: 2.8741\n"
     ]
    },
    {
     "name": "stderr",
     "output_type": "stream",
     "text": [
      "Training:  30%|███       | 91/300 [05:34<12:39,  3.63s/it]"
     ]
    },
    {
     "name": "stdout",
     "output_type": "stream",
     "text": [
      "Baseline Loss: 4.3573 | Actual Loss: 2.1646\n",
      "Epoch 91/300: Train Loss: 2.8741, Val Loss: 2.1646\n",
      "Baseline Loss: 5.4960 | Actual Loss: 2.8549\n"
     ]
    },
    {
     "name": "stderr",
     "output_type": "stream",
     "text": [
      "Training:  31%|███       | 92/300 [05:37<12:53,  3.72s/it]"
     ]
    },
    {
     "name": "stdout",
     "output_type": "stream",
     "text": [
      "Baseline Loss: 4.3573 | Actual Loss: 1.9975\n",
      "Epoch 92/300: Train Loss: 2.8549, Val Loss: 1.9975\n",
      "New best validation loss: 1.9975\n",
      "Baseline Loss: 5.4960 | Actual Loss: 2.8120\n"
     ]
    },
    {
     "name": "stderr",
     "output_type": "stream",
     "text": [
      "Training:  31%|███       | 93/300 [05:41<12:43,  3.69s/it]"
     ]
    },
    {
     "name": "stdout",
     "output_type": "stream",
     "text": [
      "Baseline Loss: 4.3573 | Actual Loss: 1.9584\n",
      "Epoch 93/300: Train Loss: 2.8120, Val Loss: 1.9584\n",
      "New best validation loss: 1.9584\n",
      "Baseline Loss: 5.4960 | Actual Loss: 2.7540\n"
     ]
    },
    {
     "name": "stderr",
     "output_type": "stream",
     "text": [
      "Training:  31%|███▏      | 94/300 [05:45<12:36,  3.67s/it]"
     ]
    },
    {
     "name": "stdout",
     "output_type": "stream",
     "text": [
      "Baseline Loss: 4.3573 | Actual Loss: 2.1425\n",
      "Epoch 94/300: Train Loss: 2.7540, Val Loss: 2.1425\n",
      "Baseline Loss: 5.4960 | Actual Loss: 2.8145\n"
     ]
    },
    {
     "name": "stderr",
     "output_type": "stream",
     "text": [
      "Training:  32%|███▏      | 95/300 [05:48<12:17,  3.60s/it]"
     ]
    },
    {
     "name": "stdout",
     "output_type": "stream",
     "text": [
      "Baseline Loss: 4.3573 | Actual Loss: 1.9439\n",
      "Epoch 95/300: Train Loss: 2.8145, Val Loss: 1.9439\n",
      "New best validation loss: 1.9439\n",
      "Baseline Loss: 5.4960 | Actual Loss: 2.7745\n"
     ]
    },
    {
     "name": "stderr",
     "output_type": "stream",
     "text": [
      "Training:  32%|███▏      | 96/300 [05:52<12:27,  3.66s/it]"
     ]
    },
    {
     "name": "stdout",
     "output_type": "stream",
     "text": [
      "Baseline Loss: 4.3573 | Actual Loss: 2.0974\n",
      "Epoch 96/300: Train Loss: 2.7745, Val Loss: 2.0974\n",
      "Baseline Loss: 5.4960 | Actual Loss: 2.8034\n"
     ]
    },
    {
     "name": "stderr",
     "output_type": "stream",
     "text": [
      "Training:  32%|███▏      | 97/300 [05:55<12:07,  3.58s/it]"
     ]
    },
    {
     "name": "stdout",
     "output_type": "stream",
     "text": [
      "Baseline Loss: 4.3573 | Actual Loss: 2.0225\n",
      "Epoch 97/300: Train Loss: 2.8034, Val Loss: 2.0225\n",
      "Baseline Loss: 5.4960 | Actual Loss: 2.7355\n"
     ]
    },
    {
     "name": "stderr",
     "output_type": "stream",
     "text": [
      "Training:  33%|███▎      | 98/300 [05:59<12:21,  3.67s/it]"
     ]
    },
    {
     "name": "stdout",
     "output_type": "stream",
     "text": [
      "Baseline Loss: 4.3573 | Actual Loss: 1.9663\n",
      "Epoch 98/300: Train Loss: 2.7355, Val Loss: 1.9663\n",
      "Baseline Loss: 5.4960 | Actual Loss: 2.6698\n"
     ]
    },
    {
     "name": "stderr",
     "output_type": "stream",
     "text": [
      "Training:  33%|███▎      | 99/300 [06:03<12:23,  3.70s/it]"
     ]
    },
    {
     "name": "stdout",
     "output_type": "stream",
     "text": [
      "Baseline Loss: 4.3573 | Actual Loss: 2.0077\n",
      "Epoch 99/300: Train Loss: 2.6698, Val Loss: 2.0077\n",
      "Baseline Loss: 5.4960 | Actual Loss: 2.6882\n"
     ]
    },
    {
     "name": "stderr",
     "output_type": "stream",
     "text": [
      "Training:  33%|███▎      | 100/300 [06:06<12:01,  3.61s/it]"
     ]
    },
    {
     "name": "stdout",
     "output_type": "stream",
     "text": [
      "Baseline Loss: 4.3573 | Actual Loss: 1.9392\n",
      "Epoch 100/300: Train Loss: 2.6882, Val Loss: 1.9392\n",
      "New best validation loss: 1.9392\n",
      "Baseline Loss: 5.4960 | Actual Loss: 2.6674\n"
     ]
    },
    {
     "name": "stderr",
     "output_type": "stream",
     "text": [
      "Training:  34%|███▎      | 101/300 [06:10<11:58,  3.61s/it]"
     ]
    },
    {
     "name": "stdout",
     "output_type": "stream",
     "text": [
      "Baseline Loss: 4.3573 | Actual Loss: 2.0174\n",
      "Epoch 101/300: Train Loss: 2.6674, Val Loss: 2.0174\n",
      "Baseline Loss: 5.4960 | Actual Loss: 2.6764\n"
     ]
    },
    {
     "name": "stderr",
     "output_type": "stream",
     "text": [
      "Training:  34%|███▍      | 102/300 [06:14<12:11,  3.70s/it]"
     ]
    },
    {
     "name": "stdout",
     "output_type": "stream",
     "text": [
      "Baseline Loss: 4.3573 | Actual Loss: 2.0025\n",
      "Epoch 102/300: Train Loss: 2.6764, Val Loss: 2.0025\n",
      "Baseline Loss: 5.4960 | Actual Loss: 2.6605\n"
     ]
    },
    {
     "name": "stderr",
     "output_type": "stream",
     "text": [
      "Training:  34%|███▍      | 103/300 [06:17<11:46,  3.59s/it]"
     ]
    },
    {
     "name": "stdout",
     "output_type": "stream",
     "text": [
      "Baseline Loss: 4.3573 | Actual Loss: 2.1599\n",
      "Epoch 103/300: Train Loss: 2.6605, Val Loss: 2.1599\n",
      "Baseline Loss: 5.4960 | Actual Loss: 2.6738\n"
     ]
    },
    {
     "name": "stderr",
     "output_type": "stream",
     "text": [
      "Training:  35%|███▍      | 104/300 [06:21<11:52,  3.64s/it]"
     ]
    },
    {
     "name": "stdout",
     "output_type": "stream",
     "text": [
      "Baseline Loss: 4.3573 | Actual Loss: 1.9665\n",
      "Epoch 104/300: Train Loss: 2.6738, Val Loss: 1.9665\n",
      "Baseline Loss: 5.4960 | Actual Loss: 2.6543\n"
     ]
    },
    {
     "name": "stderr",
     "output_type": "stream",
     "text": [
      "Training:  35%|███▌      | 105/300 [06:25<11:52,  3.65s/it]"
     ]
    },
    {
     "name": "stdout",
     "output_type": "stream",
     "text": [
      "Baseline Loss: 4.3573 | Actual Loss: 1.9109\n",
      "Epoch 105/300: Train Loss: 2.6543, Val Loss: 1.9109\n",
      "New best validation loss: 1.9109\n",
      "Baseline Loss: 5.4960 | Actual Loss: 2.6768\n"
     ]
    },
    {
     "name": "stderr",
     "output_type": "stream",
     "text": [
      "Training:  35%|███▌      | 106/300 [06:28<11:56,  3.69s/it]"
     ]
    },
    {
     "name": "stdout",
     "output_type": "stream",
     "text": [
      "Baseline Loss: 4.3573 | Actual Loss: 1.9915\n",
      "Epoch 106/300: Train Loss: 2.6768, Val Loss: 1.9915\n",
      "Baseline Loss: 5.4960 | Actual Loss: 2.6186\n"
     ]
    },
    {
     "name": "stderr",
     "output_type": "stream",
     "text": [
      "Training:  36%|███▌      | 107/300 [06:32<11:59,  3.73s/it]"
     ]
    },
    {
     "name": "stdout",
     "output_type": "stream",
     "text": [
      "Baseline Loss: 4.3573 | Actual Loss: 1.9793\n",
      "Epoch 107/300: Train Loss: 2.6186, Val Loss: 1.9793\n",
      "Baseline Loss: 5.4961 | Actual Loss: 2.6219\n"
     ]
    },
    {
     "name": "stderr",
     "output_type": "stream",
     "text": [
      "Training:  36%|███▌      | 108/300 [06:36<11:48,  3.69s/it]"
     ]
    },
    {
     "name": "stdout",
     "output_type": "stream",
     "text": [
      "Baseline Loss: 4.3573 | Actual Loss: 1.9844\n",
      "Epoch 108/300: Train Loss: 2.6219, Val Loss: 1.9844\n",
      "Baseline Loss: 5.4960 | Actual Loss: 2.5964\n"
     ]
    },
    {
     "name": "stderr",
     "output_type": "stream",
     "text": [
      "Training:  36%|███▋      | 109/300 [06:40<11:59,  3.76s/it]"
     ]
    },
    {
     "name": "stdout",
     "output_type": "stream",
     "text": [
      "Baseline Loss: 4.3573 | Actual Loss: 1.9570\n",
      "Epoch 109/300: Train Loss: 2.5964, Val Loss: 1.9570\n",
      "Baseline Loss: 5.4960 | Actual Loss: 2.6034\n"
     ]
    },
    {
     "name": "stderr",
     "output_type": "stream",
     "text": [
      "Training:  37%|███▋      | 110/300 [06:43<11:35,  3.66s/it]"
     ]
    },
    {
     "name": "stdout",
     "output_type": "stream",
     "text": [
      "Baseline Loss: 4.3573 | Actual Loss: 1.8725\n",
      "Epoch 110/300: Train Loss: 2.6034, Val Loss: 1.8725\n",
      "New best validation loss: 1.8725\n",
      "Baseline Loss: 5.4960 | Actual Loss: 2.5833\n"
     ]
    },
    {
     "name": "stderr",
     "output_type": "stream",
     "text": [
      "Training:  37%|███▋      | 111/300 [06:47<11:39,  3.70s/it]"
     ]
    },
    {
     "name": "stdout",
     "output_type": "stream",
     "text": [
      "Baseline Loss: 4.3573 | Actual Loss: 1.9089\n",
      "Epoch 111/300: Train Loss: 2.5833, Val Loss: 1.9089\n",
      "Baseline Loss: 5.4960 | Actual Loss: 2.5493\n"
     ]
    },
    {
     "name": "stderr",
     "output_type": "stream",
     "text": [
      "Training:  37%|███▋      | 112/300 [06:51<11:40,  3.73s/it]"
     ]
    },
    {
     "name": "stdout",
     "output_type": "stream",
     "text": [
      "Baseline Loss: 4.3573 | Actual Loss: 1.8438\n",
      "Epoch 112/300: Train Loss: 2.5493, Val Loss: 1.8438\n",
      "New best validation loss: 1.8438\n",
      "Baseline Loss: 5.4960 | Actual Loss: 2.6092\n"
     ]
    },
    {
     "name": "stderr",
     "output_type": "stream",
     "text": [
      "Training:  38%|███▊      | 113/300 [06:54<11:31,  3.70s/it]"
     ]
    },
    {
     "name": "stdout",
     "output_type": "stream",
     "text": [
      "Baseline Loss: 4.3573 | Actual Loss: 2.0163\n",
      "Epoch 113/300: Train Loss: 2.6092, Val Loss: 2.0163\n",
      "Baseline Loss: 5.4960 | Actual Loss: 2.5767\n"
     ]
    },
    {
     "name": "stderr",
     "output_type": "stream",
     "text": [
      "Training:  38%|███▊      | 114/300 [06:58<11:15,  3.63s/it]"
     ]
    },
    {
     "name": "stdout",
     "output_type": "stream",
     "text": [
      "Baseline Loss: 4.3573 | Actual Loss: 1.9651\n",
      "Epoch 114/300: Train Loss: 2.5767, Val Loss: 1.9651\n",
      "Baseline Loss: 5.4960 | Actual Loss: 2.5410\n"
     ]
    },
    {
     "name": "stderr",
     "output_type": "stream",
     "text": [
      "Training:  38%|███▊      | 115/300 [07:02<11:18,  3.67s/it]"
     ]
    },
    {
     "name": "stdout",
     "output_type": "stream",
     "text": [
      "Baseline Loss: 4.3573 | Actual Loss: 1.8639\n",
      "Epoch 115/300: Train Loss: 2.5410, Val Loss: 1.8639\n",
      "Baseline Loss: 5.4960 | Actual Loss: 2.5497\n"
     ]
    },
    {
     "name": "stderr",
     "output_type": "stream",
     "text": [
      "Training:  39%|███▊      | 116/300 [07:05<11:07,  3.63s/it]"
     ]
    },
    {
     "name": "stdout",
     "output_type": "stream",
     "text": [
      "Baseline Loss: 4.3573 | Actual Loss: 1.9588\n",
      "Epoch 116/300: Train Loss: 2.5497, Val Loss: 1.9588\n",
      "Baseline Loss: 5.4960 | Actual Loss: 2.5932\n"
     ]
    },
    {
     "name": "stderr",
     "output_type": "stream",
     "text": [
      "Training:  39%|███▉      | 117/300 [07:09<11:02,  3.62s/it]"
     ]
    },
    {
     "name": "stdout",
     "output_type": "stream",
     "text": [
      "Baseline Loss: 4.3573 | Actual Loss: 1.9236\n",
      "Epoch 117/300: Train Loss: 2.5932, Val Loss: 1.9236\n",
      "Baseline Loss: 5.4960 | Actual Loss: 2.5215\n"
     ]
    },
    {
     "name": "stderr",
     "output_type": "stream",
     "text": [
      "Training:  39%|███▉      | 118/300 [07:12<10:47,  3.56s/it]"
     ]
    },
    {
     "name": "stdout",
     "output_type": "stream",
     "text": [
      "Baseline Loss: 4.3573 | Actual Loss: 1.7858\n",
      "Epoch 118/300: Train Loss: 2.5215, Val Loss: 1.7858\n",
      "New best validation loss: 1.7858\n",
      "Baseline Loss: 5.4960 | Actual Loss: 2.5240\n"
     ]
    },
    {
     "name": "stderr",
     "output_type": "stream",
     "text": [
      "Training:  40%|███▉      | 119/300 [07:16<11:03,  3.67s/it]"
     ]
    },
    {
     "name": "stdout",
     "output_type": "stream",
     "text": [
      "Baseline Loss: 4.3573 | Actual Loss: 1.9591\n",
      "Epoch 119/300: Train Loss: 2.5240, Val Loss: 1.9591\n",
      "Baseline Loss: 5.4960 | Actual Loss: 2.4618\n"
     ]
    },
    {
     "name": "stderr",
     "output_type": "stream",
     "text": [
      "Training:  40%|████      | 120/300 [07:20<11:05,  3.70s/it]"
     ]
    },
    {
     "name": "stdout",
     "output_type": "stream",
     "text": [
      "Baseline Loss: 4.3573 | Actual Loss: 1.8821\n",
      "Epoch 120/300: Train Loss: 2.4618, Val Loss: 1.8821\n",
      "Baseline Loss: 5.4960 | Actual Loss: 2.5271\n"
     ]
    },
    {
     "name": "stderr",
     "output_type": "stream",
     "text": [
      "Training:  40%|████      | 121/300 [07:23<10:46,  3.61s/it]"
     ]
    },
    {
     "name": "stdout",
     "output_type": "stream",
     "text": [
      "Baseline Loss: 4.3573 | Actual Loss: 1.8439\n",
      "Epoch 121/300: Train Loss: 2.5271, Val Loss: 1.8439\n",
      "Baseline Loss: 5.4960 | Actual Loss: 2.5230\n"
     ]
    },
    {
     "name": "stderr",
     "output_type": "stream",
     "text": [
      "Training:  41%|████      | 122/300 [07:27<10:51,  3.66s/it]"
     ]
    },
    {
     "name": "stdout",
     "output_type": "stream",
     "text": [
      "Baseline Loss: 4.3573 | Actual Loss: 1.8164\n",
      "Epoch 122/300: Train Loss: 2.5230, Val Loss: 1.8164\n",
      "Baseline Loss: 5.4960 | Actual Loss: 2.5310\n"
     ]
    },
    {
     "name": "stderr",
     "output_type": "stream",
     "text": [
      "Training:  41%|████      | 123/300 [07:31<10:46,  3.65s/it]"
     ]
    },
    {
     "name": "stdout",
     "output_type": "stream",
     "text": [
      "Baseline Loss: 4.3573 | Actual Loss: 1.9333\n",
      "Epoch 123/300: Train Loss: 2.5310, Val Loss: 1.9333\n",
      "Baseline Loss: 5.4960 | Actual Loss: 2.4844\n"
     ]
    },
    {
     "name": "stderr",
     "output_type": "stream",
     "text": [
      "Training:  41%|████▏     | 124/300 [07:34<10:45,  3.67s/it]"
     ]
    },
    {
     "name": "stdout",
     "output_type": "stream",
     "text": [
      "Baseline Loss: 4.3573 | Actual Loss: 1.9239\n",
      "Epoch 124/300: Train Loss: 2.4844, Val Loss: 1.9239\n",
      "Baseline Loss: 5.4960 | Actual Loss: 2.5189\n"
     ]
    },
    {
     "name": "stderr",
     "output_type": "stream",
     "text": [
      "Training:  42%|████▏     | 125/300 [07:38<10:46,  3.69s/it]"
     ]
    },
    {
     "name": "stdout",
     "output_type": "stream",
     "text": [
      "Baseline Loss: 4.3573 | Actual Loss: 1.7565\n",
      "Epoch 125/300: Train Loss: 2.5189, Val Loss: 1.7565\n",
      "New best validation loss: 1.7565\n",
      "Baseline Loss: 5.4960 | Actual Loss: 2.4295\n"
     ]
    },
    {
     "name": "stderr",
     "output_type": "stream",
     "text": [
      "Training:  42%|████▏     | 126/300 [07:42<10:36,  3.66s/it]"
     ]
    },
    {
     "name": "stdout",
     "output_type": "stream",
     "text": [
      "Baseline Loss: 4.3573 | Actual Loss: 1.7708\n",
      "Epoch 126/300: Train Loss: 2.4295, Val Loss: 1.7708\n",
      "Baseline Loss: 5.4960 | Actual Loss: 2.4012\n"
     ]
    },
    {
     "name": "stderr",
     "output_type": "stream",
     "text": [
      "Training:  42%|████▏     | 127/300 [07:46<10:40,  3.70s/it]"
     ]
    },
    {
     "name": "stdout",
     "output_type": "stream",
     "text": [
      "Baseline Loss: 4.3573 | Actual Loss: 1.8338\n",
      "Epoch 127/300: Train Loss: 2.4012, Val Loss: 1.8338\n",
      "Baseline Loss: 5.4960 | Actual Loss: 2.4837\n"
     ]
    },
    {
     "name": "stderr",
     "output_type": "stream",
     "text": [
      "Training:  43%|████▎     | 128/300 [07:49<10:43,  3.74s/it]"
     ]
    },
    {
     "name": "stdout",
     "output_type": "stream",
     "text": [
      "Baseline Loss: 4.3573 | Actual Loss: 1.8238\n",
      "Epoch 128/300: Train Loss: 2.4837, Val Loss: 1.8238\n",
      "Baseline Loss: 5.4960 | Actual Loss: 2.3825\n"
     ]
    },
    {
     "name": "stderr",
     "output_type": "stream",
     "text": [
      "Training:  43%|████▎     | 129/300 [07:53<10:36,  3.72s/it]"
     ]
    },
    {
     "name": "stdout",
     "output_type": "stream",
     "text": [
      "Baseline Loss: 4.3573 | Actual Loss: 1.8219\n",
      "Epoch 129/300: Train Loss: 2.3825, Val Loss: 1.8219\n",
      "Baseline Loss: 5.4960 | Actual Loss: 2.4805\n"
     ]
    },
    {
     "name": "stderr",
     "output_type": "stream",
     "text": [
      "Training:  43%|████▎     | 130/300 [07:57<10:22,  3.66s/it]"
     ]
    },
    {
     "name": "stdout",
     "output_type": "stream",
     "text": [
      "Baseline Loss: 4.3573 | Actual Loss: 1.7952\n",
      "Epoch 130/300: Train Loss: 2.4805, Val Loss: 1.7952\n",
      "Baseline Loss: 5.4960 | Actual Loss: 2.3965\n"
     ]
    },
    {
     "name": "stderr",
     "output_type": "stream",
     "text": [
      "Training:  44%|████▎     | 131/300 [08:00<10:23,  3.69s/it]"
     ]
    },
    {
     "name": "stdout",
     "output_type": "stream",
     "text": [
      "Baseline Loss: 4.3573 | Actual Loss: 1.7693\n",
      "Epoch 131/300: Train Loss: 2.3965, Val Loss: 1.7693\n",
      "Baseline Loss: 5.4960 | Actual Loss: 2.4434\n"
     ]
    },
    {
     "name": "stderr",
     "output_type": "stream",
     "text": [
      "Training:  44%|████▍     | 132/300 [08:04<10:12,  3.65s/it]"
     ]
    },
    {
     "name": "stdout",
     "output_type": "stream",
     "text": [
      "Baseline Loss: 4.3573 | Actual Loss: 1.8446\n",
      "Epoch 132/300: Train Loss: 2.4434, Val Loss: 1.8446\n",
      "Baseline Loss: 5.4960 | Actual Loss: 2.4162\n"
     ]
    },
    {
     "name": "stderr",
     "output_type": "stream",
     "text": [
      "Training:  44%|████▍     | 133/300 [08:07<10:07,  3.64s/it]"
     ]
    },
    {
     "name": "stdout",
     "output_type": "stream",
     "text": [
      "Baseline Loss: 4.3573 | Actual Loss: 1.7822\n",
      "Epoch 133/300: Train Loss: 2.4162, Val Loss: 1.7822\n",
      "Baseline Loss: 5.4960 | Actual Loss: 2.3927\n"
     ]
    },
    {
     "name": "stderr",
     "output_type": "stream",
     "text": [
      "Training:  45%|████▍     | 134/300 [08:11<09:53,  3.58s/it]"
     ]
    },
    {
     "name": "stdout",
     "output_type": "stream",
     "text": [
      "Baseline Loss: 4.3573 | Actual Loss: 1.7961\n",
      "Epoch 134/300: Train Loss: 2.3927, Val Loss: 1.7961\n",
      "Baseline Loss: 5.4960 | Actual Loss: 2.4160\n"
     ]
    },
    {
     "name": "stderr",
     "output_type": "stream",
     "text": [
      "Training:  45%|████▌     | 135/300 [08:15<10:06,  3.68s/it]"
     ]
    },
    {
     "name": "stdout",
     "output_type": "stream",
     "text": [
      "Baseline Loss: 4.3573 | Actual Loss: 1.7477\n",
      "Epoch 135/300: Train Loss: 2.4160, Val Loss: 1.7477\n",
      "New best validation loss: 1.7477\n",
      "Baseline Loss: 5.4960 | Actual Loss: 2.3691\n"
     ]
    },
    {
     "name": "stderr",
     "output_type": "stream",
     "text": [
      "Training:  45%|████▌     | 136/300 [08:19<10:07,  3.70s/it]"
     ]
    },
    {
     "name": "stdout",
     "output_type": "stream",
     "text": [
      "Baseline Loss: 4.3573 | Actual Loss: 1.8302\n",
      "Epoch 136/300: Train Loss: 2.3691, Val Loss: 1.8302\n",
      "Baseline Loss: 5.4960 | Actual Loss: 2.3877\n"
     ]
    },
    {
     "name": "stderr",
     "output_type": "stream",
     "text": [
      "Training:  46%|████▌     | 137/300 [08:22<09:49,  3.62s/it]"
     ]
    },
    {
     "name": "stdout",
     "output_type": "stream",
     "text": [
      "Baseline Loss: 4.3573 | Actual Loss: 1.7808\n",
      "Epoch 137/300: Train Loss: 2.3877, Val Loss: 1.7808\n",
      "Baseline Loss: 5.4960 | Actual Loss: 2.3632\n"
     ]
    },
    {
     "name": "stderr",
     "output_type": "stream",
     "text": [
      "Training:  46%|████▌     | 138/300 [08:26<09:53,  3.66s/it]"
     ]
    },
    {
     "name": "stdout",
     "output_type": "stream",
     "text": [
      "Baseline Loss: 4.3573 | Actual Loss: 1.8712\n",
      "Epoch 138/300: Train Loss: 2.3632, Val Loss: 1.8712\n",
      "Baseline Loss: 5.4960 | Actual Loss: 2.3247\n"
     ]
    },
    {
     "name": "stderr",
     "output_type": "stream",
     "text": [
      "Training:  46%|████▋     | 139/300 [08:29<09:40,  3.60s/it]"
     ]
    },
    {
     "name": "stdout",
     "output_type": "stream",
     "text": [
      "Baseline Loss: 4.3573 | Actual Loss: 1.8578\n",
      "Epoch 139/300: Train Loss: 2.3247, Val Loss: 1.8578\n",
      "Baseline Loss: 5.4960 | Actual Loss: 2.2957\n"
     ]
    },
    {
     "name": "stderr",
     "output_type": "stream",
     "text": [
      "Training:  47%|████▋     | 140/300 [08:33<09:50,  3.69s/it]"
     ]
    },
    {
     "name": "stdout",
     "output_type": "stream",
     "text": [
      "Baseline Loss: 4.3573 | Actual Loss: 1.6800\n",
      "Epoch 140/300: Train Loss: 2.2957, Val Loss: 1.6800\n",
      "New best validation loss: 1.6800\n",
      "Baseline Loss: 5.4960 | Actual Loss: 2.3586\n"
     ]
    },
    {
     "name": "stderr",
     "output_type": "stream",
     "text": [
      "Training:  47%|████▋     | 141/300 [08:37<09:52,  3.72s/it]"
     ]
    },
    {
     "name": "stdout",
     "output_type": "stream",
     "text": [
      "Baseline Loss: 4.3573 | Actual Loss: 1.8209\n",
      "Epoch 141/300: Train Loss: 2.3586, Val Loss: 1.8209\n",
      "Baseline Loss: 5.4961 | Actual Loss: 2.3241\n"
     ]
    },
    {
     "name": "stderr",
     "output_type": "stream",
     "text": [
      "Training:  47%|████▋     | 142/300 [08:40<09:34,  3.64s/it]"
     ]
    },
    {
     "name": "stdout",
     "output_type": "stream",
     "text": [
      "Baseline Loss: 4.3573 | Actual Loss: 1.6692\n",
      "Epoch 142/300: Train Loss: 2.3241, Val Loss: 1.6692\n",
      "New best validation loss: 1.6692\n",
      "Baseline Loss: 5.4960 | Actual Loss: 2.3540\n"
     ]
    },
    {
     "name": "stderr",
     "output_type": "stream",
     "text": [
      "Training:  48%|████▊     | 143/300 [08:44<09:37,  3.68s/it]"
     ]
    },
    {
     "name": "stdout",
     "output_type": "stream",
     "text": [
      "Baseline Loss: 4.3573 | Actual Loss: 1.8373\n",
      "Epoch 143/300: Train Loss: 2.3540, Val Loss: 1.8373\n",
      "Baseline Loss: 5.4960 | Actual Loss: 2.3280\n"
     ]
    },
    {
     "name": "stderr",
     "output_type": "stream",
     "text": [
      "Training:  48%|████▊     | 144/300 [08:48<09:23,  3.61s/it]"
     ]
    },
    {
     "name": "stdout",
     "output_type": "stream",
     "text": [
      "Baseline Loss: 4.3573 | Actual Loss: 1.7065\n",
      "Epoch 144/300: Train Loss: 2.3280, Val Loss: 1.7065\n",
      "Baseline Loss: 5.4960 | Actual Loss: 2.2882\n"
     ]
    },
    {
     "name": "stderr",
     "output_type": "stream",
     "text": [
      "Training:  48%|████▊     | 145/300 [08:51<09:26,  3.66s/it]"
     ]
    },
    {
     "name": "stdout",
     "output_type": "stream",
     "text": [
      "Baseline Loss: 4.3573 | Actual Loss: 1.7414\n",
      "Epoch 145/300: Train Loss: 2.2882, Val Loss: 1.7414\n",
      "Baseline Loss: 5.4960 | Actual Loss: 2.3611\n"
     ]
    },
    {
     "name": "stderr",
     "output_type": "stream",
     "text": [
      "Training:  49%|████▊     | 146/300 [08:55<09:12,  3.59s/it]"
     ]
    },
    {
     "name": "stdout",
     "output_type": "stream",
     "text": [
      "Baseline Loss: 4.3573 | Actual Loss: 1.8293\n",
      "Epoch 146/300: Train Loss: 2.3611, Val Loss: 1.8293\n",
      "Baseline Loss: 5.4960 | Actual Loss: 2.3338\n"
     ]
    },
    {
     "name": "stderr",
     "output_type": "stream",
     "text": [
      "Training:  49%|████▉     | 147/300 [08:59<09:20,  3.67s/it]"
     ]
    },
    {
     "name": "stdout",
     "output_type": "stream",
     "text": [
      "Baseline Loss: 4.3573 | Actual Loss: 1.8838\n",
      "Epoch 147/300: Train Loss: 2.3338, Val Loss: 1.8838\n",
      "Baseline Loss: 5.4960 | Actual Loss: 2.3029\n"
     ]
    },
    {
     "name": "stderr",
     "output_type": "stream",
     "text": [
      "Training:  49%|████▉     | 148/300 [09:02<09:22,  3.70s/it]"
     ]
    },
    {
     "name": "stdout",
     "output_type": "stream",
     "text": [
      "Baseline Loss: 4.3573 | Actual Loss: 1.7945\n",
      "Epoch 148/300: Train Loss: 2.3029, Val Loss: 1.7945\n",
      "Baseline Loss: 5.4960 | Actual Loss: 2.2890\n"
     ]
    },
    {
     "name": "stderr",
     "output_type": "stream",
     "text": [
      "Training:  50%|████▉     | 149/300 [09:06<09:06,  3.62s/it]"
     ]
    },
    {
     "name": "stdout",
     "output_type": "stream",
     "text": [
      "Baseline Loss: 4.3573 | Actual Loss: 1.7534\n",
      "Epoch 149/300: Train Loss: 2.2890, Val Loss: 1.7534\n",
      "Baseline Loss: 5.4960 | Actual Loss: 2.2996\n"
     ]
    },
    {
     "name": "stderr",
     "output_type": "stream",
     "text": [
      "Training:  50%|█████     | 150/300 [09:09<09:05,  3.63s/it]"
     ]
    },
    {
     "name": "stdout",
     "output_type": "stream",
     "text": [
      "Baseline Loss: 4.3573 | Actual Loss: 1.6975\n",
      "Epoch 150/300: Train Loss: 2.2996, Val Loss: 1.6975\n",
      "Baseline Loss: 5.4960 | Actual Loss: 2.2646\n"
     ]
    },
    {
     "name": "stderr",
     "output_type": "stream",
     "text": [
      "Training:  50%|█████     | 151/300 [09:13<09:04,  3.66s/it]"
     ]
    },
    {
     "name": "stdout",
     "output_type": "stream",
     "text": [
      "Baseline Loss: 4.3573 | Actual Loss: 1.8532\n",
      "Epoch 151/300: Train Loss: 2.2646, Val Loss: 1.8532\n",
      "Baseline Loss: 5.4960 | Actual Loss: 2.3102\n"
     ]
    },
    {
     "name": "stderr",
     "output_type": "stream",
     "text": [
      "Training:  51%|█████     | 152/300 [09:17<09:02,  3.67s/it]"
     ]
    },
    {
     "name": "stdout",
     "output_type": "stream",
     "text": [
      "Baseline Loss: 4.3573 | Actual Loss: 1.8269\n",
      "Epoch 152/300: Train Loss: 2.3102, Val Loss: 1.8269\n",
      "Baseline Loss: 5.4960 | Actual Loss: 2.2449\n"
     ]
    },
    {
     "name": "stderr",
     "output_type": "stream",
     "text": [
      "Training:  51%|█████     | 153/300 [09:21<09:01,  3.69s/it]"
     ]
    },
    {
     "name": "stdout",
     "output_type": "stream",
     "text": [
      "Baseline Loss: 4.3573 | Actual Loss: 1.8812\n",
      "Epoch 153/300: Train Loss: 2.2449, Val Loss: 1.8812\n",
      "Baseline Loss: 5.4960 | Actual Loss: 2.2950\n"
     ]
    },
    {
     "name": "stderr",
     "output_type": "stream",
     "text": [
      "Training:  51%|█████▏    | 154/300 [09:24<08:46,  3.61s/it]"
     ]
    },
    {
     "name": "stdout",
     "output_type": "stream",
     "text": [
      "Baseline Loss: 4.3573 | Actual Loss: 1.9097\n",
      "Epoch 154/300: Train Loss: 2.2950, Val Loss: 1.9097\n",
      "Baseline Loss: 5.4960 | Actual Loss: 2.2544\n"
     ]
    },
    {
     "name": "stderr",
     "output_type": "stream",
     "text": [
      "Training:  52%|█████▏    | 155/300 [09:28<08:52,  3.67s/it]"
     ]
    },
    {
     "name": "stdout",
     "output_type": "stream",
     "text": [
      "Baseline Loss: 4.3573 | Actual Loss: 1.7504\n",
      "Epoch 155/300: Train Loss: 2.2544, Val Loss: 1.7504\n",
      "Baseline Loss: 5.4960 | Actual Loss: 2.2612\n"
     ]
    },
    {
     "name": "stderr",
     "output_type": "stream",
     "text": [
      "Training:  52%|█████▏    | 156/300 [09:32<08:56,  3.72s/it]"
     ]
    },
    {
     "name": "stdout",
     "output_type": "stream",
     "text": [
      "Baseline Loss: 4.3573 | Actual Loss: 1.7729\n",
      "Epoch 156/300: Train Loss: 2.2612, Val Loss: 1.7729\n",
      "Baseline Loss: 5.4960 | Actual Loss: 2.2456\n"
     ]
    },
    {
     "name": "stderr",
     "output_type": "stream",
     "text": [
      "Training:  52%|█████▏    | 157/300 [09:35<08:49,  3.70s/it]"
     ]
    },
    {
     "name": "stdout",
     "output_type": "stream",
     "text": [
      "Baseline Loss: 4.3573 | Actual Loss: 1.8225\n",
      "Epoch 157/300: Train Loss: 2.2456, Val Loss: 1.8225\n",
      "Baseline Loss: 5.4960 | Actual Loss: 2.3400\n"
     ]
    },
    {
     "name": "stderr",
     "output_type": "stream",
     "text": [
      "Training:  53%|█████▎    | 158/300 [09:39<08:44,  3.70s/it]"
     ]
    },
    {
     "name": "stdout",
     "output_type": "stream",
     "text": [
      "Baseline Loss: 4.3573 | Actual Loss: 1.7700\n",
      "Epoch 158/300: Train Loss: 2.3400, Val Loss: 1.7700\n",
      "Baseline Loss: 5.4960 | Actual Loss: 2.2566\n"
     ]
    },
    {
     "name": "stderr",
     "output_type": "stream",
     "text": [
      "Training:  53%|█████▎    | 159/300 [09:42<08:28,  3.61s/it]"
     ]
    },
    {
     "name": "stdout",
     "output_type": "stream",
     "text": [
      "Baseline Loss: 4.3573 | Actual Loss: 1.6331\n",
      "Epoch 159/300: Train Loss: 2.2566, Val Loss: 1.6331\n",
      "New best validation loss: 1.6331\n",
      "Baseline Loss: 5.4960 | Actual Loss: 2.2318\n"
     ]
    },
    {
     "name": "stderr",
     "output_type": "stream",
     "text": [
      "Training:  53%|█████▎    | 160/300 [09:46<08:32,  3.66s/it]"
     ]
    },
    {
     "name": "stdout",
     "output_type": "stream",
     "text": [
      "Baseline Loss: 4.3573 | Actual Loss: 1.7382\n",
      "Epoch 160/300: Train Loss: 2.2318, Val Loss: 1.7382\n",
      "Baseline Loss: 5.4960 | Actual Loss: 2.2401\n"
     ]
    },
    {
     "name": "stderr",
     "output_type": "stream",
     "text": [
      "Training:  54%|█████▎    | 161/300 [09:50<08:38,  3.73s/it]"
     ]
    },
    {
     "name": "stdout",
     "output_type": "stream",
     "text": [
      "Baseline Loss: 4.3573 | Actual Loss: 1.8008\n",
      "Epoch 161/300: Train Loss: 2.2401, Val Loss: 1.8008\n",
      "Baseline Loss: 5.4960 | Actual Loss: 2.2347\n"
     ]
    },
    {
     "name": "stderr",
     "output_type": "stream",
     "text": [
      "Training:  54%|█████▍    | 162/300 [09:54<08:37,  3.75s/it]"
     ]
    },
    {
     "name": "stdout",
     "output_type": "stream",
     "text": [
      "Baseline Loss: 4.3573 | Actual Loss: 1.7317\n",
      "Epoch 162/300: Train Loss: 2.2347, Val Loss: 1.7317\n",
      "Baseline Loss: 5.4960 | Actual Loss: 2.2540\n"
     ]
    },
    {
     "name": "stderr",
     "output_type": "stream",
     "text": [
      "Training:  54%|█████▍    | 163/300 [09:57<08:18,  3.64s/it]"
     ]
    },
    {
     "name": "stdout",
     "output_type": "stream",
     "text": [
      "Baseline Loss: 4.3573 | Actual Loss: 1.7924\n",
      "Epoch 163/300: Train Loss: 2.2540, Val Loss: 1.7924\n",
      "Baseline Loss: 5.4960 | Actual Loss: 2.2783\n"
     ]
    },
    {
     "name": "stderr",
     "output_type": "stream",
     "text": [
      "Training:  55%|█████▍    | 164/300 [10:01<08:21,  3.68s/it]"
     ]
    },
    {
     "name": "stdout",
     "output_type": "stream",
     "text": [
      "Baseline Loss: 4.3573 | Actual Loss: 1.8314\n",
      "Epoch 164/300: Train Loss: 2.2783, Val Loss: 1.8314\n",
      "Baseline Loss: 5.4960 | Actual Loss: 2.2437\n"
     ]
    },
    {
     "name": "stderr",
     "output_type": "stream",
     "text": [
      "Training:  55%|█████▌    | 165/300 [10:04<08:05,  3.60s/it]"
     ]
    },
    {
     "name": "stdout",
     "output_type": "stream",
     "text": [
      "Baseline Loss: 4.3573 | Actual Loss: 1.5811\n",
      "Epoch 165/300: Train Loss: 2.2437, Val Loss: 1.5811\n",
      "New best validation loss: 1.5811\n",
      "Baseline Loss: 5.4960 | Actual Loss: 2.2422\n"
     ]
    },
    {
     "name": "stderr",
     "output_type": "stream",
     "text": [
      "Training:  55%|█████▌    | 166/300 [10:08<08:12,  3.68s/it]"
     ]
    },
    {
     "name": "stdout",
     "output_type": "stream",
     "text": [
      "Baseline Loss: 4.3573 | Actual Loss: 1.5793\n",
      "Epoch 166/300: Train Loss: 2.2422, Val Loss: 1.5793\n",
      "New best validation loss: 1.5793\n",
      "Baseline Loss: 5.4960 | Actual Loss: 2.2399\n"
     ]
    },
    {
     "name": "stderr",
     "output_type": "stream",
     "text": [
      "Training:  56%|█████▌    | 167/300 [10:12<08:12,  3.70s/it]"
     ]
    },
    {
     "name": "stdout",
     "output_type": "stream",
     "text": [
      "Baseline Loss: 4.3573 | Actual Loss: 1.7160\n",
      "Epoch 167/300: Train Loss: 2.2399, Val Loss: 1.7160\n",
      "Baseline Loss: 5.4960 | Actual Loss: 2.2184\n"
     ]
    },
    {
     "name": "stderr",
     "output_type": "stream",
     "text": [
      "Training:  56%|█████▌    | 168/300 [10:15<07:56,  3.61s/it]"
     ]
    },
    {
     "name": "stdout",
     "output_type": "stream",
     "text": [
      "Baseline Loss: 4.3573 | Actual Loss: 1.7196\n",
      "Epoch 168/300: Train Loss: 2.2184, Val Loss: 1.7196\n",
      "Baseline Loss: 5.4961 | Actual Loss: 2.2008\n"
     ]
    },
    {
     "name": "stderr",
     "output_type": "stream",
     "text": [
      "Training:  56%|█████▋    | 169/300 [10:19<07:56,  3.64s/it]"
     ]
    },
    {
     "name": "stdout",
     "output_type": "stream",
     "text": [
      "Baseline Loss: 4.3573 | Actual Loss: 1.7667\n",
      "Epoch 169/300: Train Loss: 2.2008, Val Loss: 1.7667\n",
      "Baseline Loss: 5.4960 | Actual Loss: 2.1933\n"
     ]
    },
    {
     "name": "stderr",
     "output_type": "stream",
     "text": [
      "Training:  57%|█████▋    | 170/300 [10:23<07:52,  3.64s/it]"
     ]
    },
    {
     "name": "stdout",
     "output_type": "stream",
     "text": [
      "Baseline Loss: 4.3573 | Actual Loss: 1.6761\n",
      "Epoch 170/300: Train Loss: 2.1933, Val Loss: 1.6761\n",
      "Baseline Loss: 5.4960 | Actual Loss: 2.1762\n"
     ]
    },
    {
     "name": "stderr",
     "output_type": "stream",
     "text": [
      "Training:  57%|█████▋    | 171/300 [10:27<07:54,  3.68s/it]"
     ]
    },
    {
     "name": "stdout",
     "output_type": "stream",
     "text": [
      "Baseline Loss: 4.3573 | Actual Loss: 1.7441\n",
      "Epoch 171/300: Train Loss: 2.1762, Val Loss: 1.7441\n",
      "Baseline Loss: 5.4960 | Actual Loss: 2.1909\n"
     ]
    },
    {
     "name": "stderr",
     "output_type": "stream",
     "text": [
      "Training:  57%|█████▋    | 172/300 [10:30<07:53,  3.70s/it]"
     ]
    },
    {
     "name": "stdout",
     "output_type": "stream",
     "text": [
      "Baseline Loss: 4.3573 | Actual Loss: 1.6287\n",
      "Epoch 172/300: Train Loss: 2.1909, Val Loss: 1.6287\n",
      "Baseline Loss: 5.4960 | Actual Loss: 2.2131\n"
     ]
    },
    {
     "name": "stderr",
     "output_type": "stream",
     "text": [
      "Training:  58%|█████▊    | 173/300 [10:34<07:43,  3.65s/it]"
     ]
    },
    {
     "name": "stdout",
     "output_type": "stream",
     "text": [
      "Baseline Loss: 4.3573 | Actual Loss: 1.7094\n",
      "Epoch 173/300: Train Loss: 2.2131, Val Loss: 1.7094\n",
      "Baseline Loss: 5.4961 | Actual Loss: 2.1646\n"
     ]
    },
    {
     "name": "stderr",
     "output_type": "stream",
     "text": [
      "Training:  58%|█████▊    | 174/300 [10:38<07:45,  3.69s/it]"
     ]
    },
    {
     "name": "stdout",
     "output_type": "stream",
     "text": [
      "Baseline Loss: 4.3573 | Actual Loss: 1.8409\n",
      "Epoch 174/300: Train Loss: 2.1646, Val Loss: 1.8409\n",
      "Baseline Loss: 5.4960 | Actual Loss: 2.2318\n"
     ]
    },
    {
     "name": "stderr",
     "output_type": "stream",
     "text": [
      "Training:  58%|█████▊    | 175/300 [10:41<07:43,  3.71s/it]"
     ]
    },
    {
     "name": "stdout",
     "output_type": "stream",
     "text": [
      "Baseline Loss: 4.3573 | Actual Loss: 1.7510\n",
      "Epoch 175/300: Train Loss: 2.2318, Val Loss: 1.7510\n",
      "Baseline Loss: 5.4960 | Actual Loss: 2.1928\n"
     ]
    },
    {
     "name": "stderr",
     "output_type": "stream",
     "text": [
      "Training:  59%|█████▊    | 176/300 [10:45<07:37,  3.69s/it]"
     ]
    },
    {
     "name": "stdout",
     "output_type": "stream",
     "text": [
      "Baseline Loss: 4.3573 | Actual Loss: 1.6629\n",
      "Epoch 176/300: Train Loss: 2.1928, Val Loss: 1.6629\n",
      "Baseline Loss: 5.4960 | Actual Loss: 2.1348\n"
     ]
    },
    {
     "name": "stderr",
     "output_type": "stream",
     "text": [
      "Training:  59%|█████▉    | 177/300 [10:49<07:25,  3.62s/it]"
     ]
    },
    {
     "name": "stdout",
     "output_type": "stream",
     "text": [
      "Baseline Loss: 4.3573 | Actual Loss: 1.9509\n",
      "Epoch 177/300: Train Loss: 2.1348, Val Loss: 1.9509\n",
      "Baseline Loss: 5.4961 | Actual Loss: 2.1786\n"
     ]
    },
    {
     "name": "stderr",
     "output_type": "stream",
     "text": [
      "Training:  59%|█████▉    | 178/300 [10:52<07:25,  3.65s/it]"
     ]
    },
    {
     "name": "stdout",
     "output_type": "stream",
     "text": [
      "Baseline Loss: 4.3573 | Actual Loss: 1.7091\n",
      "Epoch 178/300: Train Loss: 2.1786, Val Loss: 1.7091\n",
      "Baseline Loss: 5.4960 | Actual Loss: 2.1779\n"
     ]
    },
    {
     "name": "stderr",
     "output_type": "stream",
     "text": [
      "Training:  60%|█████▉    | 179/300 [10:56<07:17,  3.62s/it]"
     ]
    },
    {
     "name": "stdout",
     "output_type": "stream",
     "text": [
      "Baseline Loss: 4.3573 | Actual Loss: 1.8396\n",
      "Epoch 179/300: Train Loss: 2.1779, Val Loss: 1.8396\n",
      "Baseline Loss: 5.4960 | Actual Loss: 2.1800\n"
     ]
    },
    {
     "name": "stderr",
     "output_type": "stream",
     "text": [
      "Training:  60%|██████    | 180/300 [10:59<07:13,  3.61s/it]"
     ]
    },
    {
     "name": "stdout",
     "output_type": "stream",
     "text": [
      "Baseline Loss: 4.3573 | Actual Loss: 1.7038\n",
      "Epoch 180/300: Train Loss: 2.1800, Val Loss: 1.7038\n",
      "Baseline Loss: 5.4960 | Actual Loss: 2.1811\n"
     ]
    },
    {
     "name": "stderr",
     "output_type": "stream",
     "text": [
      "Training:  60%|██████    | 181/300 [11:03<07:02,  3.55s/it]"
     ]
    },
    {
     "name": "stdout",
     "output_type": "stream",
     "text": [
      "Baseline Loss: 4.3573 | Actual Loss: 1.7900\n",
      "Epoch 181/300: Train Loss: 2.1811, Val Loss: 1.7900\n",
      "Baseline Loss: 5.4960 | Actual Loss: 2.2347\n"
     ]
    },
    {
     "name": "stderr",
     "output_type": "stream",
     "text": [
      "Training:  61%|██████    | 182/300 [11:07<07:11,  3.66s/it]"
     ]
    },
    {
     "name": "stdout",
     "output_type": "stream",
     "text": [
      "Baseline Loss: 4.3573 | Actual Loss: 1.7070\n",
      "Epoch 182/300: Train Loss: 2.2347, Val Loss: 1.7070\n",
      "Baseline Loss: 5.4960 | Actual Loss: 2.0999\n"
     ]
    },
    {
     "name": "stderr",
     "output_type": "stream",
     "text": [
      "Training:  61%|██████    | 183/300 [11:11<07:12,  3.70s/it]"
     ]
    },
    {
     "name": "stdout",
     "output_type": "stream",
     "text": [
      "Baseline Loss: 4.3573 | Actual Loss: 1.7542\n",
      "Epoch 183/300: Train Loss: 2.0999, Val Loss: 1.7542\n",
      "Baseline Loss: 5.4960 | Actual Loss: 2.1771\n"
     ]
    },
    {
     "name": "stderr",
     "output_type": "stream",
     "text": [
      "Training:  61%|██████▏   | 184/300 [11:14<06:59,  3.61s/it]"
     ]
    },
    {
     "name": "stdout",
     "output_type": "stream",
     "text": [
      "Baseline Loss: 4.3573 | Actual Loss: 1.6749\n",
      "Epoch 184/300: Train Loss: 2.1771, Val Loss: 1.6749\n",
      "Baseline Loss: 5.4960 | Actual Loss: 2.1754\n"
     ]
    },
    {
     "name": "stderr",
     "output_type": "stream",
     "text": [
      "Training:  62%|██████▏   | 185/300 [11:18<07:00,  3.65s/it]"
     ]
    },
    {
     "name": "stdout",
     "output_type": "stream",
     "text": [
      "Baseline Loss: 4.3573 | Actual Loss: 1.7334\n",
      "Epoch 185/300: Train Loss: 2.1754, Val Loss: 1.7334\n",
      "Baseline Loss: 5.4960 | Actual Loss: 2.1062\n"
     ]
    },
    {
     "name": "stderr",
     "output_type": "stream",
     "text": [
      "Training:  62%|██████▏   | 186/300 [11:21<06:47,  3.57s/it]"
     ]
    },
    {
     "name": "stdout",
     "output_type": "stream",
     "text": [
      "Baseline Loss: 4.3573 | Actual Loss: 1.8188\n",
      "Epoch 186/300: Train Loss: 2.1062, Val Loss: 1.8188\n",
      "Baseline Loss: 5.4960 | Actual Loss: 2.1432\n"
     ]
    },
    {
     "name": "stderr",
     "output_type": "stream",
     "text": [
      "Training:  62%|██████▏   | 187/300 [11:25<06:53,  3.66s/it]"
     ]
    },
    {
     "name": "stdout",
     "output_type": "stream",
     "text": [
      "Baseline Loss: 4.3573 | Actual Loss: 1.8200\n",
      "Epoch 187/300: Train Loss: 2.1432, Val Loss: 1.8200\n",
      "Baseline Loss: 5.4960 | Actual Loss: 2.1703\n"
     ]
    },
    {
     "name": "stderr",
     "output_type": "stream",
     "text": [
      "Training:  63%|██████▎   | 188/300 [11:29<06:53,  3.70s/it]"
     ]
    },
    {
     "name": "stdout",
     "output_type": "stream",
     "text": [
      "Baseline Loss: 4.3573 | Actual Loss: 1.7972\n",
      "Epoch 188/300: Train Loss: 2.1703, Val Loss: 1.7972\n",
      "Baseline Loss: 5.4960 | Actual Loss: 2.1475\n"
     ]
    },
    {
     "name": "stderr",
     "output_type": "stream",
     "text": [
      "Training:  63%|██████▎   | 189/300 [11:32<06:40,  3.61s/it]"
     ]
    },
    {
     "name": "stdout",
     "output_type": "stream",
     "text": [
      "Baseline Loss: 4.3573 | Actual Loss: 1.6773\n",
      "Epoch 189/300: Train Loss: 2.1475, Val Loss: 1.6773\n",
      "Baseline Loss: 5.4960 | Actual Loss: 2.1290\n"
     ]
    },
    {
     "name": "stderr",
     "output_type": "stream",
     "text": [
      "Training:  63%|██████▎   | 190/300 [11:36<06:37,  3.62s/it]"
     ]
    },
    {
     "name": "stdout",
     "output_type": "stream",
     "text": [
      "Baseline Loss: 4.3573 | Actual Loss: 1.7547\n",
      "Epoch 190/300: Train Loss: 2.1290, Val Loss: 1.7547\n",
      "Baseline Loss: 5.4960 | Actual Loss: 2.1787\n"
     ]
    },
    {
     "name": "stderr",
     "output_type": "stream",
     "text": [
      "Training:  64%|██████▎   | 191/300 [11:39<06:37,  3.64s/it]"
     ]
    },
    {
     "name": "stdout",
     "output_type": "stream",
     "text": [
      "Baseline Loss: 4.3573 | Actual Loss: 1.6232\n",
      "Epoch 191/300: Train Loss: 2.1787, Val Loss: 1.6232\n",
      "Baseline Loss: 5.4960 | Actual Loss: 2.1302\n"
     ]
    },
    {
     "name": "stderr",
     "output_type": "stream",
     "text": [
      "Training:  64%|██████▍   | 192/300 [11:43<06:35,  3.66s/it]"
     ]
    },
    {
     "name": "stdout",
     "output_type": "stream",
     "text": [
      "Baseline Loss: 4.3573 | Actual Loss: 1.6591\n",
      "Epoch 192/300: Train Loss: 2.1302, Val Loss: 1.6591\n",
      "Baseline Loss: 5.4960 | Actual Loss: 2.1303\n"
     ]
    },
    {
     "name": "stderr",
     "output_type": "stream",
     "text": [
      "Training:  64%|██████▍   | 193/300 [11:47<06:37,  3.72s/it]"
     ]
    },
    {
     "name": "stdout",
     "output_type": "stream",
     "text": [
      "Baseline Loss: 4.3573 | Actual Loss: 1.8303\n",
      "Epoch 193/300: Train Loss: 2.1303, Val Loss: 1.8303\n",
      "Baseline Loss: 5.4960 | Actual Loss: 2.1070\n"
     ]
    },
    {
     "name": "stderr",
     "output_type": "stream",
     "text": [
      "Training:  65%|██████▍   | 194/300 [11:50<06:26,  3.64s/it]"
     ]
    },
    {
     "name": "stdout",
     "output_type": "stream",
     "text": [
      "Baseline Loss: 4.3573 | Actual Loss: 1.7080\n",
      "Epoch 194/300: Train Loss: 2.1070, Val Loss: 1.7080\n",
      "Baseline Loss: 5.4960 | Actual Loss: 2.1583\n"
     ]
    },
    {
     "name": "stderr",
     "output_type": "stream",
     "text": [
      "Training:  65%|██████▌   | 195/300 [11:54<06:29,  3.71s/it]"
     ]
    },
    {
     "name": "stdout",
     "output_type": "stream",
     "text": [
      "Baseline Loss: 4.3573 | Actual Loss: 1.6012\n",
      "Epoch 195/300: Train Loss: 2.1583, Val Loss: 1.6012\n",
      "Baseline Loss: 5.4960 | Actual Loss: 2.1195\n"
     ]
    },
    {
     "name": "stderr",
     "output_type": "stream",
     "text": [
      "Training:  65%|██████▌   | 196/300 [11:58<06:29,  3.74s/it]"
     ]
    },
    {
     "name": "stdout",
     "output_type": "stream",
     "text": [
      "Baseline Loss: 4.3573 | Actual Loss: 1.7856\n",
      "Epoch 196/300: Train Loss: 2.1195, Val Loss: 1.7856\n",
      "Baseline Loss: 5.4960 | Actual Loss: 2.0934\n"
     ]
    },
    {
     "name": "stderr",
     "output_type": "stream",
     "text": [
      "Training:  66%|██████▌   | 197/300 [12:02<06:22,  3.72s/it]"
     ]
    },
    {
     "name": "stdout",
     "output_type": "stream",
     "text": [
      "Baseline Loss: 4.3573 | Actual Loss: 1.8322\n",
      "Epoch 197/300: Train Loss: 2.0934, Val Loss: 1.8322\n",
      "Baseline Loss: 5.4960 | Actual Loss: 2.1527\n"
     ]
    },
    {
     "name": "stderr",
     "output_type": "stream",
     "text": [
      "Training:  66%|██████▌   | 198/300 [12:05<06:16,  3.69s/it]"
     ]
    },
    {
     "name": "stdout",
     "output_type": "stream",
     "text": [
      "Baseline Loss: 4.3573 | Actual Loss: 1.6725\n",
      "Epoch 198/300: Train Loss: 2.1527, Val Loss: 1.6725\n",
      "Baseline Loss: 5.4960 | Actual Loss: 2.1144\n"
     ]
    },
    {
     "name": "stderr",
     "output_type": "stream",
     "text": [
      "Training:  66%|██████▋   | 199/300 [12:09<06:05,  3.62s/it]"
     ]
    },
    {
     "name": "stdout",
     "output_type": "stream",
     "text": [
      "Baseline Loss: 4.3573 | Actual Loss: 1.7289\n",
      "Epoch 199/300: Train Loss: 2.1144, Val Loss: 1.7289\n",
      "Baseline Loss: 5.4960 | Actual Loss: 2.1677\n"
     ]
    },
    {
     "name": "stderr",
     "output_type": "stream",
     "text": [
      "Training:  67%|██████▋   | 200/300 [12:13<06:07,  3.68s/it]"
     ]
    },
    {
     "name": "stdout",
     "output_type": "stream",
     "text": [
      "Baseline Loss: 4.3573 | Actual Loss: 1.8473\n",
      "Epoch 200/300: Train Loss: 2.1677, Val Loss: 1.8473\n",
      "Baseline Loss: 5.4960 | Actual Loss: 2.1389\n"
     ]
    },
    {
     "name": "stderr",
     "output_type": "stream",
     "text": [
      "Training:  67%|██████▋   | 201/300 [12:17<06:11,  3.75s/it]"
     ]
    },
    {
     "name": "stdout",
     "output_type": "stream",
     "text": [
      "Baseline Loss: 4.3573 | Actual Loss: 1.7959\n",
      "Epoch 201/300: Train Loss: 2.1389, Val Loss: 1.7959\n",
      "Baseline Loss: 5.4960 | Actual Loss: 2.1272\n"
     ]
    },
    {
     "name": "stderr",
     "output_type": "stream",
     "text": [
      "Training:  67%|██████▋   | 202/300 [12:20<06:08,  3.76s/it]"
     ]
    },
    {
     "name": "stdout",
     "output_type": "stream",
     "text": [
      "Baseline Loss: 4.3573 | Actual Loss: 1.7013\n",
      "Epoch 202/300: Train Loss: 2.1272, Val Loss: 1.7013\n",
      "Baseline Loss: 5.4960 | Actual Loss: 2.1119\n"
     ]
    },
    {
     "name": "stderr",
     "output_type": "stream",
     "text": [
      "Training:  68%|██████▊   | 203/300 [12:24<05:56,  3.67s/it]"
     ]
    },
    {
     "name": "stdout",
     "output_type": "stream",
     "text": [
      "Baseline Loss: 4.3573 | Actual Loss: 1.8573\n",
      "Epoch 203/300: Train Loss: 2.1119, Val Loss: 1.8573\n",
      "Baseline Loss: 5.4960 | Actual Loss: 2.1195\n"
     ]
    },
    {
     "name": "stderr",
     "output_type": "stream",
     "text": [
      "Training:  68%|██████▊   | 204/300 [12:28<05:56,  3.71s/it]"
     ]
    },
    {
     "name": "stdout",
     "output_type": "stream",
     "text": [
      "Baseline Loss: 4.3573 | Actual Loss: 1.6366\n",
      "Epoch 204/300: Train Loss: 2.1195, Val Loss: 1.6366\n",
      "Baseline Loss: 5.4960 | Actual Loss: 2.0930\n"
     ]
    },
    {
     "name": "stderr",
     "output_type": "stream",
     "text": [
      "Training:  68%|██████▊   | 205/300 [12:31<05:44,  3.63s/it]"
     ]
    },
    {
     "name": "stdout",
     "output_type": "stream",
     "text": [
      "Baseline Loss: 4.3573 | Actual Loss: 1.7311\n",
      "Epoch 205/300: Train Loss: 2.0930, Val Loss: 1.7311\n",
      "Baseline Loss: 5.4960 | Actual Loss: 2.1102\n"
     ]
    },
    {
     "name": "stderr",
     "output_type": "stream",
     "text": [
      "Training:  69%|██████▊   | 206/300 [12:35<05:50,  3.73s/it]"
     ]
    },
    {
     "name": "stdout",
     "output_type": "stream",
     "text": [
      "Baseline Loss: 4.3573 | Actual Loss: 1.6751\n",
      "Epoch 206/300: Train Loss: 2.1102, Val Loss: 1.6751\n",
      "Baseline Loss: 5.4960 | Actual Loss: 2.0979\n"
     ]
    },
    {
     "name": "stderr",
     "output_type": "stream",
     "text": [
      "Training:  69%|██████▉   | 207/300 [12:39<05:49,  3.76s/it]"
     ]
    },
    {
     "name": "stdout",
     "output_type": "stream",
     "text": [
      "Baseline Loss: 4.3573 | Actual Loss: 1.6927\n",
      "Epoch 207/300: Train Loss: 2.0979, Val Loss: 1.6927\n",
      "Baseline Loss: 5.4960 | Actual Loss: 2.0894\n"
     ]
    },
    {
     "name": "stderr",
     "output_type": "stream",
     "text": [
      "Training:  69%|██████▉   | 208/300 [12:42<05:38,  3.68s/it]"
     ]
    },
    {
     "name": "stdout",
     "output_type": "stream",
     "text": [
      "Baseline Loss: 4.3573 | Actual Loss: 1.6989\n",
      "Epoch 208/300: Train Loss: 2.0894, Val Loss: 1.6989\n",
      "Baseline Loss: 5.4960 | Actual Loss: 2.0928\n"
     ]
    },
    {
     "name": "stderr",
     "output_type": "stream",
     "text": [
      "Training:  70%|██████▉   | 209/300 [12:46<05:33,  3.67s/it]"
     ]
    },
    {
     "name": "stdout",
     "output_type": "stream",
     "text": [
      "Baseline Loss: 4.3573 | Actual Loss: 1.6862\n",
      "Epoch 209/300: Train Loss: 2.0928, Val Loss: 1.6862\n",
      "Baseline Loss: 5.4960 | Actual Loss: 2.1428\n"
     ]
    },
    {
     "name": "stderr",
     "output_type": "stream",
     "text": [
      "Training:  70%|███████   | 210/300 [12:50<05:32,  3.70s/it]"
     ]
    },
    {
     "name": "stdout",
     "output_type": "stream",
     "text": [
      "Baseline Loss: 4.3573 | Actual Loss: 1.6184\n",
      "Epoch 210/300: Train Loss: 2.1428, Val Loss: 1.6184\n",
      "Baseline Loss: 5.4960 | Actual Loss: 2.0902\n"
     ]
    },
    {
     "name": "stderr",
     "output_type": "stream",
     "text": [
      "Training:  70%|███████   | 211/300 [12:54<05:30,  3.71s/it]"
     ]
    },
    {
     "name": "stdout",
     "output_type": "stream",
     "text": [
      "Baseline Loss: 4.3573 | Actual Loss: 1.6314\n",
      "Epoch 211/300: Train Loss: 2.0902, Val Loss: 1.6314\n",
      "Baseline Loss: 5.4960 | Actual Loss: 2.0758\n"
     ]
    },
    {
     "name": "stderr",
     "output_type": "stream",
     "text": [
      "Training:  71%|███████   | 212/300 [12:57<05:29,  3.75s/it]"
     ]
    },
    {
     "name": "stdout",
     "output_type": "stream",
     "text": [
      "Baseline Loss: 4.3573 | Actual Loss: 1.5400\n",
      "Epoch 212/300: Train Loss: 2.0758, Val Loss: 1.5400\n",
      "New best validation loss: 1.5400\n",
      "Baseline Loss: 5.4960 | Actual Loss: 2.1146\n"
     ]
    },
    {
     "name": "stderr",
     "output_type": "stream",
     "text": [
      "Training:  71%|███████   | 213/300 [13:01<05:17,  3.65s/it]"
     ]
    },
    {
     "name": "stdout",
     "output_type": "stream",
     "text": [
      "Baseline Loss: 4.3573 | Actual Loss: 1.7371\n",
      "Epoch 213/300: Train Loss: 2.1146, Val Loss: 1.7371\n",
      "Baseline Loss: 5.4960 | Actual Loss: 2.0868\n"
     ]
    },
    {
     "name": "stderr",
     "output_type": "stream",
     "text": [
      "Training:  71%|███████▏  | 214/300 [13:05<05:17,  3.69s/it]"
     ]
    },
    {
     "name": "stdout",
     "output_type": "stream",
     "text": [
      "Baseline Loss: 4.3573 | Actual Loss: 1.6223\n",
      "Epoch 214/300: Train Loss: 2.0868, Val Loss: 1.6223\n",
      "Baseline Loss: 5.4960 | Actual Loss: 2.1009\n"
     ]
    },
    {
     "name": "stderr",
     "output_type": "stream",
     "text": [
      "Training:  72%|███████▏  | 215/300 [13:08<05:15,  3.71s/it]"
     ]
    },
    {
     "name": "stdout",
     "output_type": "stream",
     "text": [
      "Baseline Loss: 4.3573 | Actual Loss: 1.7456\n",
      "Epoch 215/300: Train Loss: 2.1009, Val Loss: 1.7456\n",
      "Baseline Loss: 5.4960 | Actual Loss: 2.0878\n"
     ]
    },
    {
     "name": "stderr",
     "output_type": "stream",
     "text": [
      "Training:  72%|███████▏  | 216/300 [13:12<05:09,  3.68s/it]"
     ]
    },
    {
     "name": "stdout",
     "output_type": "stream",
     "text": [
      "Baseline Loss: 4.3573 | Actual Loss: 1.7714\n",
      "Epoch 216/300: Train Loss: 2.0878, Val Loss: 1.7714\n",
      "Baseline Loss: 5.4960 | Actual Loss: 2.1080\n"
     ]
    },
    {
     "name": "stderr",
     "output_type": "stream",
     "text": [
      "Training:  72%|███████▏  | 217/300 [13:16<05:04,  3.67s/it]"
     ]
    },
    {
     "name": "stdout",
     "output_type": "stream",
     "text": [
      "Baseline Loss: 4.3573 | Actual Loss: 1.6411\n",
      "Epoch 217/300: Train Loss: 2.1080, Val Loss: 1.6411\n",
      "Baseline Loss: 5.4960 | Actual Loss: 2.1007\n"
     ]
    },
    {
     "name": "stderr",
     "output_type": "stream",
     "text": [
      "Training:  73%|███████▎  | 218/300 [13:19<04:55,  3.60s/it]"
     ]
    },
    {
     "name": "stdout",
     "output_type": "stream",
     "text": [
      "Baseline Loss: 4.3573 | Actual Loss: 1.6363\n",
      "Epoch 218/300: Train Loss: 2.1007, Val Loss: 1.6363\n",
      "Baseline Loss: 5.4960 | Actual Loss: 2.1262\n"
     ]
    },
    {
     "name": "stderr",
     "output_type": "stream",
     "text": [
      "Training:  73%|███████▎  | 219/300 [13:23<04:56,  3.66s/it]"
     ]
    },
    {
     "name": "stdout",
     "output_type": "stream",
     "text": [
      "Baseline Loss: 4.3573 | Actual Loss: 1.7195\n",
      "Epoch 219/300: Train Loss: 2.1262, Val Loss: 1.7195\n",
      "Baseline Loss: 5.4960 | Actual Loss: 2.1155\n"
     ]
    },
    {
     "name": "stderr",
     "output_type": "stream",
     "text": [
      "Training:  73%|███████▎  | 220/300 [13:27<04:57,  3.72s/it]"
     ]
    },
    {
     "name": "stdout",
     "output_type": "stream",
     "text": [
      "Baseline Loss: 4.3573 | Actual Loss: 1.7761\n",
      "Epoch 220/300: Train Loss: 2.1155, Val Loss: 1.7761\n",
      "Baseline Loss: 5.4961 | Actual Loss: 2.1123\n"
     ]
    },
    {
     "name": "stderr",
     "output_type": "stream",
     "text": [
      "Training:  74%|███████▎  | 221/300 [13:30<04:54,  3.73s/it]"
     ]
    },
    {
     "name": "stdout",
     "output_type": "stream",
     "text": [
      "Baseline Loss: 4.3573 | Actual Loss: 1.6700\n",
      "Epoch 221/300: Train Loss: 2.1123, Val Loss: 1.6700\n",
      "Baseline Loss: 5.4960 | Actual Loss: 2.1123\n"
     ]
    },
    {
     "name": "stderr",
     "output_type": "stream",
     "text": [
      "Training:  74%|███████▍  | 222/300 [13:34<04:45,  3.65s/it]"
     ]
    },
    {
     "name": "stdout",
     "output_type": "stream",
     "text": [
      "Baseline Loss: 4.3573 | Actual Loss: 1.6330\n",
      "Epoch 222/300: Train Loss: 2.1123, Val Loss: 1.6330\n",
      "Baseline Loss: 5.4960 | Actual Loss: 2.0929\n"
     ]
    },
    {
     "name": "stderr",
     "output_type": "stream",
     "text": [
      "Training:  74%|███████▍  | 223/300 [13:38<04:44,  3.70s/it]"
     ]
    },
    {
     "name": "stdout",
     "output_type": "stream",
     "text": [
      "Baseline Loss: 4.3573 | Actual Loss: 1.6507\n",
      "Epoch 223/300: Train Loss: 2.0929, Val Loss: 1.6507\n",
      "Baseline Loss: 5.4960 | Actual Loss: 2.1107\n"
     ]
    },
    {
     "name": "stderr",
     "output_type": "stream",
     "text": [
      "Training:  75%|███████▍  | 224/300 [13:41<04:35,  3.62s/it]"
     ]
    },
    {
     "name": "stdout",
     "output_type": "stream",
     "text": [
      "Baseline Loss: 4.3573 | Actual Loss: 1.6504\n",
      "Epoch 224/300: Train Loss: 2.1107, Val Loss: 1.6504\n",
      "Baseline Loss: 5.4960 | Actual Loss: 2.1046\n"
     ]
    },
    {
     "name": "stderr",
     "output_type": "stream",
     "text": [
      "Training:  75%|███████▌  | 225/300 [13:45<04:37,  3.70s/it]"
     ]
    },
    {
     "name": "stdout",
     "output_type": "stream",
     "text": [
      "Baseline Loss: 4.3573 | Actual Loss: 1.6470\n",
      "Epoch 225/300: Train Loss: 2.1046, Val Loss: 1.6470\n",
      "Baseline Loss: 5.4960 | Actual Loss: 2.0778\n"
     ]
    },
    {
     "name": "stderr",
     "output_type": "stream",
     "text": [
      "Training:  75%|███████▌  | 226/300 [13:49<04:36,  3.73s/it]"
     ]
    },
    {
     "name": "stdout",
     "output_type": "stream",
     "text": [
      "Baseline Loss: 4.3573 | Actual Loss: 1.6854\n",
      "Epoch 226/300: Train Loss: 2.0778, Val Loss: 1.6854\n",
      "Baseline Loss: 5.4960 | Actual Loss: 2.0873\n"
     ]
    },
    {
     "name": "stderr",
     "output_type": "stream",
     "text": [
      "Training:  76%|███████▌  | 227/300 [13:52<04:26,  3.66s/it]"
     ]
    },
    {
     "name": "stdout",
     "output_type": "stream",
     "text": [
      "Baseline Loss: 4.3573 | Actual Loss: 1.6737\n",
      "Epoch 227/300: Train Loss: 2.0873, Val Loss: 1.6737\n",
      "Baseline Loss: 5.4960 | Actual Loss: 2.1209\n"
     ]
    },
    {
     "name": "stderr",
     "output_type": "stream",
     "text": [
      "Training:  76%|███████▌  | 228/300 [13:56<04:22,  3.64s/it]"
     ]
    },
    {
     "name": "stdout",
     "output_type": "stream",
     "text": [
      "Baseline Loss: 4.3573 | Actual Loss: 1.7072\n",
      "Epoch 228/300: Train Loss: 2.1209, Val Loss: 1.7072\n",
      "Baseline Loss: 5.4960 | Actual Loss: 2.1228\n"
     ]
    },
    {
     "name": "stderr",
     "output_type": "stream",
     "text": [
      "Training:  76%|███████▋  | 229/300 [14:00<04:20,  3.66s/it]"
     ]
    },
    {
     "name": "stdout",
     "output_type": "stream",
     "text": [
      "Baseline Loss: 4.3573 | Actual Loss: 1.6078\n",
      "Epoch 229/300: Train Loss: 2.1228, Val Loss: 1.6078\n",
      "Baseline Loss: 5.4960 | Actual Loss: 2.0979\n"
     ]
    },
    {
     "name": "stderr",
     "output_type": "stream",
     "text": [
      "Training:  77%|███████▋  | 230/300 [14:03<04:17,  3.67s/it]"
     ]
    },
    {
     "name": "stdout",
     "output_type": "stream",
     "text": [
      "Baseline Loss: 4.3573 | Actual Loss: 1.7646\n",
      "Epoch 230/300: Train Loss: 2.0979, Val Loss: 1.7646\n",
      "Baseline Loss: 5.4960 | Actual Loss: 2.1524\n"
     ]
    },
    {
     "name": "stderr",
     "output_type": "stream",
     "text": [
      "Training:  77%|███████▋  | 231/300 [14:07<04:15,  3.71s/it]"
     ]
    },
    {
     "name": "stdout",
     "output_type": "stream",
     "text": [
      "Baseline Loss: 4.3573 | Actual Loss: 1.7363\n",
      "Epoch 231/300: Train Loss: 2.1524, Val Loss: 1.7363\n",
      "Baseline Loss: 5.4960 | Actual Loss: 2.1109\n"
     ]
    },
    {
     "name": "stderr",
     "output_type": "stream",
     "text": [
      "Training:  77%|███████▋  | 232/300 [14:11<04:06,  3.62s/it]"
     ]
    },
    {
     "name": "stdout",
     "output_type": "stream",
     "text": [
      "Baseline Loss: 4.3573 | Actual Loss: 1.7004\n",
      "Epoch 232/300: Train Loss: 2.1109, Val Loss: 1.7004\n",
      "Baseline Loss: 5.4960 | Actual Loss: 2.1258\n"
     ]
    },
    {
     "name": "stderr",
     "output_type": "stream",
     "text": [
      "Training:  78%|███████▊  | 233/300 [14:14<04:05,  3.67s/it]"
     ]
    },
    {
     "name": "stdout",
     "output_type": "stream",
     "text": [
      "Baseline Loss: 4.3573 | Actual Loss: 1.6877\n",
      "Epoch 233/300: Train Loss: 2.1258, Val Loss: 1.6877\n",
      "Baseline Loss: 5.4960 | Actual Loss: 2.1319\n"
     ]
    },
    {
     "name": "stderr",
     "output_type": "stream",
     "text": [
      "Training:  78%|███████▊  | 234/300 [14:18<04:02,  3.68s/it]"
     ]
    },
    {
     "name": "stdout",
     "output_type": "stream",
     "text": [
      "Baseline Loss: 4.3573 | Actual Loss: 1.6389\n",
      "Epoch 234/300: Train Loss: 2.1319, Val Loss: 1.6389\n",
      "Baseline Loss: 5.4960 | Actual Loss: 2.1323\n"
     ]
    },
    {
     "name": "stderr",
     "output_type": "stream",
     "text": [
      "Training:  78%|███████▊  | 235/300 [14:22<03:58,  3.66s/it]"
     ]
    },
    {
     "name": "stdout",
     "output_type": "stream",
     "text": [
      "Baseline Loss: 4.3573 | Actual Loss: 1.5828\n",
      "Epoch 235/300: Train Loss: 2.1323, Val Loss: 1.5828\n",
      "Baseline Loss: 5.4960 | Actual Loss: 2.1208\n"
     ]
    },
    {
     "name": "stderr",
     "output_type": "stream",
     "text": [
      "Training:  79%|███████▊  | 236/300 [14:25<03:53,  3.64s/it]"
     ]
    },
    {
     "name": "stdout",
     "output_type": "stream",
     "text": [
      "Baseline Loss: 4.3573 | Actual Loss: 1.6435\n",
      "Epoch 236/300: Train Loss: 2.1208, Val Loss: 1.6435\n",
      "Baseline Loss: 5.4960 | Actual Loss: 2.0889\n"
     ]
    },
    {
     "name": "stderr",
     "output_type": "stream",
     "text": [
      "Training:  79%|███████▉  | 237/300 [14:29<03:45,  3.58s/it]"
     ]
    },
    {
     "name": "stdout",
     "output_type": "stream",
     "text": [
      "Baseline Loss: 4.3573 | Actual Loss: 1.5904\n",
      "Epoch 237/300: Train Loss: 2.0889, Val Loss: 1.5904\n",
      "Baseline Loss: 5.4960 | Actual Loss: 2.0921\n"
     ]
    },
    {
     "name": "stderr",
     "output_type": "stream",
     "text": [
      "Training:  79%|███████▉  | 238/300 [14:32<03:45,  3.64s/it]"
     ]
    },
    {
     "name": "stdout",
     "output_type": "stream",
     "text": [
      "Baseline Loss: 4.3573 | Actual Loss: 1.6885\n",
      "Epoch 238/300: Train Loss: 2.0921, Val Loss: 1.6885\n",
      "Baseline Loss: 5.4960 | Actual Loss: 2.0669\n"
     ]
    },
    {
     "name": "stderr",
     "output_type": "stream",
     "text": [
      "Training:  80%|███████▉  | 239/300 [14:36<03:47,  3.73s/it]"
     ]
    },
    {
     "name": "stdout",
     "output_type": "stream",
     "text": [
      "Baseline Loss: 4.3573 | Actual Loss: 1.6311\n",
      "Epoch 239/300: Train Loss: 2.0669, Val Loss: 1.6311\n",
      "Baseline Loss: 5.4960 | Actual Loss: 2.0927\n"
     ]
    },
    {
     "name": "stderr",
     "output_type": "stream",
     "text": [
      "Training:  80%|████████  | 240/300 [14:40<03:45,  3.75s/it]"
     ]
    },
    {
     "name": "stdout",
     "output_type": "stream",
     "text": [
      "Baseline Loss: 4.3573 | Actual Loss: 1.7565\n",
      "Epoch 240/300: Train Loss: 2.0927, Val Loss: 1.7565\n",
      "Baseline Loss: 5.4960 | Actual Loss: 2.1304\n"
     ]
    },
    {
     "name": "stderr",
     "output_type": "stream",
     "text": [
      "Training:  80%|████████  | 241/300 [14:44<03:35,  3.65s/it]"
     ]
    },
    {
     "name": "stdout",
     "output_type": "stream",
     "text": [
      "Baseline Loss: 4.3573 | Actual Loss: 1.6186\n",
      "Epoch 241/300: Train Loss: 2.1304, Val Loss: 1.6186\n",
      "Baseline Loss: 5.4960 | Actual Loss: 2.0783\n"
     ]
    },
    {
     "name": "stderr",
     "output_type": "stream",
     "text": [
      "Training:  81%|████████  | 242/300 [14:47<03:33,  3.68s/it]"
     ]
    },
    {
     "name": "stdout",
     "output_type": "stream",
     "text": [
      "Baseline Loss: 4.3573 | Actual Loss: 1.5814\n",
      "Epoch 242/300: Train Loss: 2.0783, Val Loss: 1.5814\n",
      "Baseline Loss: 5.4960 | Actual Loss: 2.1033\n"
     ]
    },
    {
     "name": "stderr",
     "output_type": "stream",
     "text": [
      "Training:  81%|████████  | 243/300 [14:51<03:25,  3.60s/it]"
     ]
    },
    {
     "name": "stdout",
     "output_type": "stream",
     "text": [
      "Baseline Loss: 4.3573 | Actual Loss: 1.5675\n",
      "Epoch 243/300: Train Loss: 2.1033, Val Loss: 1.5675\n",
      "Baseline Loss: 5.4960 | Actual Loss: 2.0972\n"
     ]
    },
    {
     "name": "stderr",
     "output_type": "stream",
     "text": [
      "Training:  81%|████████▏ | 244/300 [14:55<03:26,  3.68s/it]"
     ]
    },
    {
     "name": "stdout",
     "output_type": "stream",
     "text": [
      "Baseline Loss: 4.3573 | Actual Loss: 1.7707\n",
      "Epoch 244/300: Train Loss: 2.0972, Val Loss: 1.7707\n",
      "Baseline Loss: 5.4960 | Actual Loss: 2.0945\n"
     ]
    },
    {
     "name": "stderr",
     "output_type": "stream",
     "text": [
      "Training:  82%|████████▏ | 245/300 [14:58<03:23,  3.70s/it]"
     ]
    },
    {
     "name": "stdout",
     "output_type": "stream",
     "text": [
      "Baseline Loss: 4.3573 | Actual Loss: 1.7437\n",
      "Epoch 245/300: Train Loss: 2.0945, Val Loss: 1.7437\n",
      "Baseline Loss: 5.4960 | Actual Loss: 2.1304\n"
     ]
    },
    {
     "name": "stderr",
     "output_type": "stream",
     "text": [
      "Training:  82%|████████▏ | 246/300 [15:02<03:15,  3.62s/it]"
     ]
    },
    {
     "name": "stdout",
     "output_type": "stream",
     "text": [
      "Baseline Loss: 4.3573 | Actual Loss: 1.7482\n",
      "Epoch 246/300: Train Loss: 2.1304, Val Loss: 1.7482\n",
      "Baseline Loss: 5.4960 | Actual Loss: 2.1311\n"
     ]
    },
    {
     "name": "stderr",
     "output_type": "stream",
     "text": [
      "Training:  82%|████████▏ | 247/300 [15:05<03:11,  3.61s/it]"
     ]
    },
    {
     "name": "stdout",
     "output_type": "stream",
     "text": [
      "Baseline Loss: 4.3573 | Actual Loss: 1.6730\n",
      "Epoch 247/300: Train Loss: 2.1311, Val Loss: 1.6730\n",
      "Baseline Loss: 5.4960 | Actual Loss: 2.1018\n"
     ]
    },
    {
     "name": "stderr",
     "output_type": "stream",
     "text": [
      "Training:  83%|████████▎ | 248/300 [15:09<03:08,  3.63s/it]"
     ]
    },
    {
     "name": "stdout",
     "output_type": "stream",
     "text": [
      "Baseline Loss: 4.3573 | Actual Loss: 1.7225\n",
      "Epoch 248/300: Train Loss: 2.1018, Val Loss: 1.7225\n",
      "Baseline Loss: 5.4960 | Actual Loss: 2.1210\n"
     ]
    },
    {
     "name": "stderr",
     "output_type": "stream",
     "text": [
      "Training:  83%|████████▎ | 249/300 [15:13<03:06,  3.65s/it]"
     ]
    },
    {
     "name": "stdout",
     "output_type": "stream",
     "text": [
      "Baseline Loss: 4.3573 | Actual Loss: 1.7248\n",
      "Epoch 249/300: Train Loss: 2.1210, Val Loss: 1.7248\n",
      "Baseline Loss: 5.4960 | Actual Loss: 2.1155\n"
     ]
    },
    {
     "name": "stderr",
     "output_type": "stream",
     "text": [
      "Training:  83%|████████▎ | 250/300 [15:17<03:04,  3.69s/it]"
     ]
    },
    {
     "name": "stdout",
     "output_type": "stream",
     "text": [
      "Baseline Loss: 4.3573 | Actual Loss: 1.6567\n",
      "Epoch 250/300: Train Loss: 2.1155, Val Loss: 1.6567\n",
      "Baseline Loss: 5.4960 | Actual Loss: 2.1155\n"
     ]
    },
    {
     "name": "stderr",
     "output_type": "stream",
     "text": [
      "Training:  84%|████████▎ | 251/300 [15:20<02:56,  3.60s/it]"
     ]
    },
    {
     "name": "stdout",
     "output_type": "stream",
     "text": [
      "Baseline Loss: 4.3573 | Actual Loss: 1.7254\n",
      "Epoch 251/300: Train Loss: 2.1155, Val Loss: 1.7254\n",
      "Baseline Loss: 5.4960 | Actual Loss: 2.0994\n"
     ]
    },
    {
     "name": "stderr",
     "output_type": "stream",
     "text": [
      "Training:  84%|████████▍ | 252/300 [15:24<02:55,  3.65s/it]"
     ]
    },
    {
     "name": "stdout",
     "output_type": "stream",
     "text": [
      "Baseline Loss: 4.3573 | Actual Loss: 1.7177\n",
      "Epoch 252/300: Train Loss: 2.0994, Val Loss: 1.7177\n",
      "Baseline Loss: 5.4960 | Actual Loss: 2.1159\n"
     ]
    },
    {
     "name": "stderr",
     "output_type": "stream",
     "text": [
      "Training:  84%|████████▍ | 253/300 [15:28<02:53,  3.68s/it]"
     ]
    },
    {
     "name": "stdout",
     "output_type": "stream",
     "text": [
      "Baseline Loss: 4.3573 | Actual Loss: 1.6625\n",
      "Epoch 253/300: Train Loss: 2.1159, Val Loss: 1.6625\n",
      "Baseline Loss: 5.4960 | Actual Loss: 2.1278\n"
     ]
    },
    {
     "name": "stderr",
     "output_type": "stream",
     "text": [
      "Training:  85%|████████▍ | 254/300 [15:31<02:48,  3.66s/it]"
     ]
    },
    {
     "name": "stdout",
     "output_type": "stream",
     "text": [
      "Baseline Loss: 4.3573 | Actual Loss: 1.7137\n",
      "Epoch 254/300: Train Loss: 2.1278, Val Loss: 1.7137\n",
      "Baseline Loss: 5.4960 | Actual Loss: 2.1203\n"
     ]
    },
    {
     "name": "stderr",
     "output_type": "stream",
     "text": [
      "Training:  85%|████████▌ | 255/300 [15:35<02:43,  3.64s/it]"
     ]
    },
    {
     "name": "stdout",
     "output_type": "stream",
     "text": [
      "Baseline Loss: 4.3573 | Actual Loss: 1.6222\n",
      "Epoch 255/300: Train Loss: 2.1203, Val Loss: 1.6222\n",
      "Baseline Loss: 5.4960 | Actual Loss: 2.1034\n"
     ]
    },
    {
     "name": "stderr",
     "output_type": "stream",
     "text": [
      "Training:  85%|████████▌ | 256/300 [15:38<02:37,  3.57s/it]"
     ]
    },
    {
     "name": "stdout",
     "output_type": "stream",
     "text": [
      "Baseline Loss: 4.3573 | Actual Loss: 1.7357\n",
      "Epoch 256/300: Train Loss: 2.1034, Val Loss: 1.7357\n",
      "Baseline Loss: 5.4960 | Actual Loss: 2.0778\n"
     ]
    },
    {
     "name": "stderr",
     "output_type": "stream",
     "text": [
      "Training:  86%|████████▌ | 257/300 [15:42<02:36,  3.63s/it]"
     ]
    },
    {
     "name": "stdout",
     "output_type": "stream",
     "text": [
      "Baseline Loss: 4.3573 | Actual Loss: 1.6285\n",
      "Epoch 257/300: Train Loss: 2.0778, Val Loss: 1.6285\n",
      "Baseline Loss: 5.4960 | Actual Loss: 2.1318\n"
     ]
    },
    {
     "name": "stderr",
     "output_type": "stream",
     "text": [
      "Training:  86%|████████▌ | 258/300 [15:46<02:35,  3.70s/it]"
     ]
    },
    {
     "name": "stdout",
     "output_type": "stream",
     "text": [
      "Baseline Loss: 4.3573 | Actual Loss: 1.6015\n",
      "Epoch 258/300: Train Loss: 2.1318, Val Loss: 1.6015\n",
      "Baseline Loss: 5.4960 | Actual Loss: 2.0971\n"
     ]
    },
    {
     "name": "stderr",
     "output_type": "stream",
     "text": [
      "Training:  86%|████████▋ | 259/300 [15:50<02:32,  3.72s/it]"
     ]
    },
    {
     "name": "stdout",
     "output_type": "stream",
     "text": [
      "Baseline Loss: 4.3573 | Actual Loss: 1.7532\n",
      "Epoch 259/300: Train Loss: 2.0971, Val Loss: 1.7532\n",
      "Baseline Loss: 5.4960 | Actual Loss: 2.0777\n"
     ]
    },
    {
     "name": "stderr",
     "output_type": "stream",
     "text": [
      "Training:  87%|████████▋ | 260/300 [15:53<02:25,  3.64s/it]"
     ]
    },
    {
     "name": "stdout",
     "output_type": "stream",
     "text": [
      "Baseline Loss: 4.3573 | Actual Loss: 1.6190\n",
      "Epoch 260/300: Train Loss: 2.0777, Val Loss: 1.6190\n",
      "Baseline Loss: 5.4960 | Actual Loss: 2.0751\n"
     ]
    },
    {
     "name": "stderr",
     "output_type": "stream",
     "text": [
      "Training:  87%|████████▋ | 261/300 [15:57<02:22,  3.66s/it]"
     ]
    },
    {
     "name": "stdout",
     "output_type": "stream",
     "text": [
      "Baseline Loss: 4.3573 | Actual Loss: 1.7082\n",
      "Epoch 261/300: Train Loss: 2.0751, Val Loss: 1.7082\n",
      "Baseline Loss: 5.4960 | Actual Loss: 2.1229\n"
     ]
    },
    {
     "name": "stderr",
     "output_type": "stream",
     "text": [
      "Training:  87%|████████▋ | 261/300 [16:00<02:23,  3.68s/it]"
     ]
    },
    {
     "name": "stdout",
     "output_type": "stream",
     "text": [
      "Baseline Loss: 4.3573 | Actual Loss: 1.7809\n",
      "Epoch 262/300: Train Loss: 2.1229, Val Loss: 1.7809\n",
      "\n",
      "Early stopping at epoch 262\n"
     ]
    },
    {
     "name": "stderr",
     "output_type": "stream",
     "text": [
      "\n"
     ]
    },
    {
     "data": {
      "text/plain": [
       "1.5400431156158447"
      ]
     },
     "execution_count": 12,
     "metadata": {},
     "output_type": "execute_result"
    }
   ],
   "source": [
    "model3.train_model(\n",
    "    data_list,\n",
    ")"
   ]
  }
 ],
 "metadata": {
  "kernelspec": {
   "display_name": "torch",
   "language": "python",
   "name": "python3"
  },
  "language_info": {
   "codemirror_mode": {
    "name": "ipython",
    "version": 3
   },
   "file_extension": ".py",
   "mimetype": "text/x-python",
   "name": "python",
   "nbconvert_exporter": "python",
   "pygments_lexer": "ipython3",
   "version": "3.8.16"
  }
 },
 "nbformat": 4,
 "nbformat_minor": 5
}
