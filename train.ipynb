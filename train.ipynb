{
 "cells": [
  {
   "cell_type": "code",
   "execution_count": 1,
   "id": "abe15dd9",
   "metadata": {},
   "outputs": [],
   "source": [
    "from model.featurisation import smiles2graph\n",
    "from model.CL_model_vas_info import GNNModelWithNewLoss\n",
    "import pandas as pd"
   ]
  },
  {
   "cell_type": "code",
   "execution_count": 2,
   "id": "1fea3686",
   "metadata": {},
   "outputs": [],
   "source": [
    "df = pd.read_csv(\"./data/vsa.csv\")  \n",
    "smiles_list = df[\"SMILES\"].tolist()\n",
    "smr_vsa_list = [list(map(float, row.split())) for row in df[\"SMR_VSA\"]]"
   ]
  },
  {
   "cell_type": "code",
   "execution_count": 3,
   "id": "652499ec",
   "metadata": {},
   "outputs": [],
   "source": [
    "def read_vsa_data(vsa_file):\n",
    "    df = pd.read_csv(vsa_file)\n",
    "\n",
    "    def parse_vsa(s):\n",
    "        try:\n",
    "            return list(map(float, s.strip('[]').split()))\n",
    "        except:\n",
    "            return []\n",
    "\n",
    "    smr_arrays = df[\"SMR_VSA\"].apply(parse_vsa).tolist()          \n",
    "    slogp_arrays = df[\"SlogP_VSA\"].apply(parse_vsa).tolist()     \n",
    "    peoe_arrays = df[\"PEOE_VSA\"].apply(parse_vsa).tolist()       \n",
    "\n",
    "    properties = list(zip(smr_arrays, slogp_arrays, peoe_arrays))\n",
    "    \n",
    "    return df[\"SMILES\"].tolist(), properties\n",
    "\n",
    "x_smiles, properties = read_vsa_data(\"./data/vsa.csv\")\n"
   ]
  },
  {
   "cell_type": "code",
   "execution_count": 4,
   "id": "2ead4c13",
   "metadata": {},
   "outputs": [],
   "source": [
    "data_list = smiles2graph(\n",
    "    x_smiles, y=None, cluster=None, properties=properties, test=False\n",
    ")"
   ]
  },
  {
   "cell_type": "code",
   "execution_count": 5,
   "id": "d56a71e1",
   "metadata": {},
   "outputs": [
    {
     "data": {
      "text/plain": [
       "Data(x=[21, 79], edge_index=[2, 44], edge_attr=[44, 10], global_features=[5], smiles='Cc1cccc(C2=CCN(C(=O)NCCCC#N)CC2)c1', property_0=[1, 10], property_1=[1, 10], property_2=[1, 14])"
      ]
     },
     "execution_count": 5,
     "metadata": {},
     "output_type": "execute_result"
    }
   ],
   "source": [
    "data_list[0]"
   ]
  },
  {
   "cell_type": "code",
   "execution_count": 6,
   "id": "fe8f7538",
   "metadata": {},
   "outputs": [],
   "source": [
    "import torch\n",
    "from torch_geometric.data import DataLoader\n",
    "devices = [\"cuda\" if torch.cuda.is_available() else \"cpu\"]\n",
    "model1 = GNNModelWithNewLoss(\n",
    "        num_node_features=data_list[0].x.shape[1],\n",
    "        num_edge_features=data_list[0].edge_attr.shape[1],\n",
    "        num_global_features=data_list[0].global_features.shape[0],\n",
    "        hidden_dim=512,\n",
    "        dropout_rate=0.1,\n",
    "        property_index=0 ,\n",
    "        save_path= 'models/0' \n",
    "    ).to(devices[0])"
   ]
  },
  {
   "cell_type": "code",
   "execution_count": 7,
   "id": "9b1f8b49",
   "metadata": {},
   "outputs": [
    {
     "name": "stderr",
     "output_type": "stream",
     "text": [
      "c:\\Users\\27476\\.conda\\envs\\torch\\lib\\site-packages\\torch_geometric\\deprecation.py:26: UserWarning: 'data.DataLoader' is deprecated, use 'loader.DataLoader' instead\n",
      "  warnings.warn(out)\n"
     ]
    },
    {
     "name": "stdout",
     "output_type": "stream",
     "text": [
      "Training will be saved to: models/0\n"
     ]
    },
    {
     "name": "stderr",
     "output_type": "stream",
     "text": [
      "Training:   0%|          | 0/300 [00:00<?, ?it/s]"
     ]
    },
    {
     "name": "stdout",
     "output_type": "stream",
     "text": [
      "Baseline Loss: 3.9985 | Actual Loss: 3.9037\n",
      "Baseline Loss: 4.0041 | Actual Loss: 3.8502\n",
      "Baseline Loss: 4.0095 | Actual Loss: 3.8128\n",
      "Baseline Loss: 3.9203 | Actual Loss: 3.6652\n"
     ]
    },
    {
     "name": "stderr",
     "output_type": "stream",
     "text": [
      "Training:   0%|          | 1/300 [00:01<08:04,  1.62s/it]"
     ]
    },
    {
     "name": "stdout",
     "output_type": "stream",
     "text": [
      "Baseline Loss: 3.9670 | Actual Loss: 3.6698\n",
      "Epoch 1/300: Train Loss: 3.8080, Val Loss: 3.6698\n",
      "New best validation loss: 3.6698\n",
      "Baseline Loss: 3.9934 | Actual Loss: 3.6765\n",
      "Baseline Loss: 4.0143 | Actual Loss: 3.6469\n",
      "Baseline Loss: 3.9944 | Actual Loss: 3.4065\n",
      "Baseline Loss: 3.9065 | Actual Loss: 3.2198\n"
     ]
    },
    {
     "name": "stderr",
     "output_type": "stream",
     "text": [
      "Training:   1%|          | 2/300 [00:02<06:27,  1.30s/it]"
     ]
    },
    {
     "name": "stdout",
     "output_type": "stream",
     "text": [
      "Baseline Loss: 3.9670 | Actual Loss: 3.1782\n",
      "Epoch 2/300: Train Loss: 3.4874, Val Loss: 3.1782\n",
      "New best validation loss: 3.1782\n",
      "Baseline Loss: 4.0018 | Actual Loss: 3.2327\n",
      "Baseline Loss: 4.0023 | Actual Loss: 3.1488\n",
      "Baseline Loss: 3.9938 | Actual Loss: 2.9339\n",
      "Baseline Loss: 3.9131 | Actual Loss: 2.7671\n"
     ]
    },
    {
     "name": "stderr",
     "output_type": "stream",
     "text": [
      "Training:   1%|          | 3/300 [00:03<05:56,  1.20s/it]"
     ]
    },
    {
     "name": "stdout",
     "output_type": "stream",
     "text": [
      "Baseline Loss: 3.9670 | Actual Loss: 2.6924\n",
      "Epoch 3/300: Train Loss: 3.0206, Val Loss: 2.6924\n",
      "New best validation loss: 2.6924\n",
      "Baseline Loss: 3.9998 | Actual Loss: 2.7999\n",
      "Baseline Loss: 4.0055 | Actual Loss: 2.6770\n",
      "Baseline Loss: 3.9948 | Actual Loss: 2.6524\n",
      "Baseline Loss: 3.9127 | Actual Loss: 2.4565\n"
     ]
    },
    {
     "name": "stderr",
     "output_type": "stream",
     "text": [
      "Training:   1%|▏         | 4/300 [00:04<05:43,  1.16s/it]"
     ]
    },
    {
     "name": "stdout",
     "output_type": "stream",
     "text": [
      "Baseline Loss: 3.9670 | Actual Loss: 2.5121\n",
      "Epoch 4/300: Train Loss: 2.6464, Val Loss: 2.5121\n",
      "New best validation loss: 2.5121\n",
      "Baseline Loss: 4.0095 | Actual Loss: 2.6112\n",
      "Baseline Loss: 4.0047 | Actual Loss: 2.6009\n",
      "Baseline Loss: 3.9993 | Actual Loss: 2.5693\n",
      "Baseline Loss: 3.8986 | Actual Loss: 2.4367\n"
     ]
    },
    {
     "name": "stderr",
     "output_type": "stream",
     "text": [
      "Training:   2%|▏         | 5/300 [00:05<05:33,  1.13s/it]"
     ]
    },
    {
     "name": "stdout",
     "output_type": "stream",
     "text": [
      "Baseline Loss: 3.9670 | Actual Loss: 2.4895\n",
      "Epoch 5/300: Train Loss: 2.5545, Val Loss: 2.4895\n",
      "New best validation loss: 2.4895\n",
      "Baseline Loss: 4.0073 | Actual Loss: 2.5368\n",
      "Baseline Loss: 4.0016 | Actual Loss: 2.4473\n",
      "Baseline Loss: 3.9923 | Actual Loss: 2.6081\n"
     ]
    },
    {
     "name": "stderr",
     "output_type": "stream",
     "text": [
      "Training:   2%|▏         | 6/300 [00:06<05:20,  1.09s/it]"
     ]
    },
    {
     "name": "stdout",
     "output_type": "stream",
     "text": [
      "Baseline Loss: 3.9165 | Actual Loss: 2.4025\n",
      "Baseline Loss: 3.9670 | Actual Loss: 2.4066\n",
      "Epoch 6/300: Train Loss: 2.4987, Val Loss: 2.4066\n",
      "New best validation loss: 2.4066\n",
      "Baseline Loss: 4.0074 | Actual Loss: 2.4967\n",
      "Baseline Loss: 3.9938 | Actual Loss: 2.3360\n",
      "Baseline Loss: 4.0021 | Actual Loss: 2.4285\n",
      "Baseline Loss: 3.9179 | Actual Loss: 2.3300\n"
     ]
    },
    {
     "name": "stderr",
     "output_type": "stream",
     "text": [
      "Training:   2%|▏         | 7/300 [00:08<05:19,  1.09s/it]"
     ]
    },
    {
     "name": "stdout",
     "output_type": "stream",
     "text": [
      "Baseline Loss: 3.9670 | Actual Loss: 2.3583\n",
      "Epoch 7/300: Train Loss: 2.3978, Val Loss: 2.3583\n",
      "New best validation loss: 2.3583\n",
      "Baseline Loss: 4.0036 | Actual Loss: 2.4872\n",
      "Baseline Loss: 4.0032 | Actual Loss: 2.4595\n",
      "Baseline Loss: 3.9985 | Actual Loss: 2.3802\n",
      "Baseline Loss: 3.9046 | Actual Loss: 2.3362\n"
     ]
    },
    {
     "name": "stderr",
     "output_type": "stream",
     "text": [
      "Training:   3%|▎         | 8/300 [00:09<05:17,  1.09s/it]"
     ]
    },
    {
     "name": "stdout",
     "output_type": "stream",
     "text": [
      "Baseline Loss: 3.9670 | Actual Loss: 2.3019\n",
      "Epoch 8/300: Train Loss: 2.4158, Val Loss: 2.3019\n",
      "New best validation loss: 2.3019\n",
      "Baseline Loss: 3.9919 | Actual Loss: 2.3308\n",
      "Baseline Loss: 4.0021 | Actual Loss: 2.2604\n",
      "Baseline Loss: 3.9969 | Actual Loss: 2.4174\n",
      "Baseline Loss: 3.9089 | Actual Loss: 2.1757\n"
     ]
    },
    {
     "name": "stderr",
     "output_type": "stream",
     "text": [
      "Training:   3%|▎         | 9/300 [00:10<05:16,  1.09s/it]"
     ]
    },
    {
     "name": "stdout",
     "output_type": "stream",
     "text": [
      "Baseline Loss: 3.9670 | Actual Loss: 2.2536\n",
      "Epoch 9/300: Train Loss: 2.2961, Val Loss: 2.2536\n",
      "New best validation loss: 2.2536\n",
      "Baseline Loss: 4.0033 | Actual Loss: 2.2510\n",
      "Baseline Loss: 4.0077 | Actual Loss: 2.2326\n",
      "Baseline Loss: 3.9904 | Actual Loss: 2.2785\n",
      "Baseline Loss: 3.8998 | Actual Loss: 2.3363\n"
     ]
    },
    {
     "name": "stderr",
     "output_type": "stream",
     "text": [
      "Training:   3%|▎         | 10/300 [00:11<05:06,  1.06s/it]"
     ]
    },
    {
     "name": "stdout",
     "output_type": "stream",
     "text": [
      "Baseline Loss: 3.9670 | Actual Loss: 2.2315\n",
      "Epoch 10/300: Train Loss: 2.2746, Val Loss: 2.2315\n",
      "New best validation loss: 2.2315\n",
      "Baseline Loss: 3.9952 | Actual Loss: 2.4116\n",
      "Baseline Loss: 3.9972 | Actual Loss: 2.3474\n",
      "Baseline Loss: 4.0194 | Actual Loss: 2.3424\n",
      "Baseline Loss: 3.8987 | Actual Loss: 2.1636\n"
     ]
    },
    {
     "name": "stderr",
     "output_type": "stream",
     "text": [
      "Training:   4%|▎         | 11/300 [00:12<05:08,  1.07s/it]"
     ]
    },
    {
     "name": "stdout",
     "output_type": "stream",
     "text": [
      "Baseline Loss: 3.9670 | Actual Loss: 2.1652\n",
      "Epoch 11/300: Train Loss: 2.3162, Val Loss: 2.1652\n",
      "New best validation loss: 2.1652\n",
      "Baseline Loss: 4.0138 | Actual Loss: 2.2652\n",
      "Baseline Loss: 3.9989 | Actual Loss: 2.2430\n",
      "Baseline Loss: 4.0022 | Actual Loss: 2.2768\n",
      "Baseline Loss: 3.9035 | Actual Loss: 2.1400\n"
     ]
    },
    {
     "name": "stderr",
     "output_type": "stream",
     "text": [
      "Training:   4%|▍         | 12/300 [00:13<05:06,  1.06s/it]"
     ]
    },
    {
     "name": "stdout",
     "output_type": "stream",
     "text": [
      "Baseline Loss: 3.9670 | Actual Loss: 2.1904\n",
      "Epoch 12/300: Train Loss: 2.2313, Val Loss: 2.1904\n",
      "Baseline Loss: 3.9927 | Actual Loss: 2.2912\n",
      "Baseline Loss: 3.9960 | Actual Loss: 2.2021\n",
      "Baseline Loss: 4.0017 | Actual Loss: 2.2505\n",
      "Baseline Loss: 3.9271 | Actual Loss: 2.1027\n"
     ]
    },
    {
     "name": "stderr",
     "output_type": "stream",
     "text": [
      "Training:   4%|▍         | 13/300 [00:14<05:04,  1.06s/it]"
     ]
    },
    {
     "name": "stdout",
     "output_type": "stream",
     "text": [
      "Baseline Loss: 3.9670 | Actual Loss: 2.1281\n",
      "Epoch 13/300: Train Loss: 2.2116, Val Loss: 2.1281\n",
      "New best validation loss: 2.1281\n",
      "Baseline Loss: 3.9993 | Actual Loss: 2.2253\n",
      "Baseline Loss: 4.0063 | Actual Loss: 2.1264\n",
      "Baseline Loss: 4.0033 | Actual Loss: 2.2580\n",
      "Baseline Loss: 3.9149 | Actual Loss: 2.1824\n"
     ]
    },
    {
     "name": "stderr",
     "output_type": "stream",
     "text": [
      "Training:   5%|▍         | 14/300 [00:15<05:01,  1.05s/it]"
     ]
    },
    {
     "name": "stdout",
     "output_type": "stream",
     "text": [
      "Baseline Loss: 3.9670 | Actual Loss: 2.0699\n",
      "Epoch 14/300: Train Loss: 2.1980, Val Loss: 2.0699\n",
      "New best validation loss: 2.0699\n",
      "Baseline Loss: 4.0060 | Actual Loss: 2.1802\n",
      "Baseline Loss: 4.0000 | Actual Loss: 2.1410\n",
      "Baseline Loss: 3.9956 | Actual Loss: 2.1521\n"
     ]
    },
    {
     "name": "stderr",
     "output_type": "stream",
     "text": [
      "Training:   5%|▌         | 15/300 [00:16<04:44,  1.00it/s]"
     ]
    },
    {
     "name": "stdout",
     "output_type": "stream",
     "text": [
      "Baseline Loss: 3.9135 | Actual Loss: 2.0481\n",
      "Baseline Loss: 3.9670 | Actual Loss: 2.0828\n",
      "Epoch 15/300: Train Loss: 2.1304, Val Loss: 2.0828\n",
      "Baseline Loss: 4.0048 | Actual Loss: 2.1651\n",
      "Baseline Loss: 3.9883 | Actual Loss: 2.0143\n",
      "Baseline Loss: 3.9905 | Actual Loss: 2.1265\n",
      "Baseline Loss: 3.9171 | Actual Loss: 1.9871\n"
     ]
    },
    {
     "name": "stderr",
     "output_type": "stream",
     "text": [
      "Training:   5%|▌         | 16/300 [00:17<04:37,  1.02it/s]"
     ]
    },
    {
     "name": "stdout",
     "output_type": "stream",
     "text": [
      "Baseline Loss: 3.9670 | Actual Loss: 2.0136\n",
      "Epoch 16/300: Train Loss: 2.0733, Val Loss: 2.0136\n",
      "New best validation loss: 2.0136\n",
      "Baseline Loss: 4.0174 | Actual Loss: 2.1534\n",
      "Baseline Loss: 4.0054 | Actual Loss: 2.1319\n",
      "Baseline Loss: 3.9949 | Actual Loss: 2.0584\n"
     ]
    },
    {
     "name": "stderr",
     "output_type": "stream",
     "text": [
      "Training:   6%|▌         | 17/300 [00:18<04:30,  1.05it/s]"
     ]
    },
    {
     "name": "stdout",
     "output_type": "stream",
     "text": [
      "Baseline Loss: 3.9160 | Actual Loss: 2.0224\n",
      "Baseline Loss: 3.9670 | Actual Loss: 2.0338\n",
      "Epoch 17/300: Train Loss: 2.0915, Val Loss: 2.0338\n",
      "Baseline Loss: 3.9798 | Actual Loss: 2.0711\n",
      "Baseline Loss: 4.0145 | Actual Loss: 2.1102\n",
      "Baseline Loss: 3.9990 | Actual Loss: 2.0387\n",
      "Baseline Loss: 3.9087 | Actual Loss: 1.9765\n"
     ]
    },
    {
     "name": "stderr",
     "output_type": "stream",
     "text": [
      "Training:   6%|▌         | 18/300 [00:19<04:26,  1.06it/s]"
     ]
    },
    {
     "name": "stdout",
     "output_type": "stream",
     "text": [
      "Baseline Loss: 3.9670 | Actual Loss: 1.9452\n",
      "Epoch 18/300: Train Loss: 2.0491, Val Loss: 1.9452\n",
      "New best validation loss: 1.9452\n",
      "Baseline Loss: 4.0107 | Actual Loss: 2.0390\n",
      "Baseline Loss: 3.9951 | Actual Loss: 1.9674\n",
      "Baseline Loss: 4.0039 | Actual Loss: 2.1150\n",
      "Baseline Loss: 3.9003 | Actual Loss: 1.9718\n"
     ]
    },
    {
     "name": "stderr",
     "output_type": "stream",
     "text": [
      "Training:   6%|▋         | 19/300 [00:20<04:35,  1.02it/s]"
     ]
    },
    {
     "name": "stdout",
     "output_type": "stream",
     "text": [
      "Baseline Loss: 3.9670 | Actual Loss: 1.9637\n",
      "Epoch 19/300: Train Loss: 2.0233, Val Loss: 1.9637\n",
      "Baseline Loss: 4.0046 | Actual Loss: 2.0507\n",
      "Baseline Loss: 3.9972 | Actual Loss: 1.9928\n",
      "Baseline Loss: 3.9836 | Actual Loss: 1.9643\n",
      "Baseline Loss: 3.9143 | Actual Loss: 1.8556\n"
     ]
    },
    {
     "name": "stderr",
     "output_type": "stream",
     "text": [
      "Training:   7%|▋         | 20/300 [00:21<04:43,  1.01s/it]"
     ]
    },
    {
     "name": "stdout",
     "output_type": "stream",
     "text": [
      "Baseline Loss: 3.9670 | Actual Loss: 1.9042\n",
      "Epoch 20/300: Train Loss: 1.9659, Val Loss: 1.9042\n",
      "New best validation loss: 1.9042\n",
      "Baseline Loss: 4.0158 | Actual Loss: 1.9996\n",
      "Baseline Loss: 3.9988 | Actual Loss: 1.9895\n",
      "Baseline Loss: 3.9893 | Actual Loss: 1.9685\n",
      "Baseline Loss: 3.9070 | Actual Loss: 1.8657\n"
     ]
    },
    {
     "name": "stderr",
     "output_type": "stream",
     "text": [
      "Training:   7%|▋         | 21/300 [00:22<04:48,  1.03s/it]"
     ]
    },
    {
     "name": "stdout",
     "output_type": "stream",
     "text": [
      "Baseline Loss: 3.9670 | Actual Loss: 1.8186\n",
      "Epoch 21/300: Train Loss: 1.9558, Val Loss: 1.8186\n",
      "New best validation loss: 1.8186\n",
      "Baseline Loss: 3.9890 | Actual Loss: 2.0261\n",
      "Baseline Loss: 3.9991 | Actual Loss: 1.8942\n",
      "Baseline Loss: 4.0076 | Actual Loss: 1.9534\n"
     ]
    },
    {
     "name": "stderr",
     "output_type": "stream",
     "text": [
      "Training:   7%|▋         | 22/300 [00:23<04:40,  1.01s/it]"
     ]
    },
    {
     "name": "stdout",
     "output_type": "stream",
     "text": [
      "Baseline Loss: 3.9090 | Actual Loss: 1.8176\n",
      "Baseline Loss: 3.9670 | Actual Loss: 1.8090\n",
      "Epoch 22/300: Train Loss: 1.9228, Val Loss: 1.8090\n",
      "New best validation loss: 1.8090\n",
      "Baseline Loss: 3.9991 | Actual Loss: 1.9107\n",
      "Baseline Loss: 3.9945 | Actual Loss: 1.8636\n",
      "Baseline Loss: 4.0076 | Actual Loss: 1.8697\n",
      "Baseline Loss: 3.9079 | Actual Loss: 1.7053\n"
     ]
    },
    {
     "name": "stderr",
     "output_type": "stream",
     "text": [
      "Training:   8%|▊         | 23/300 [00:24<04:42,  1.02s/it]"
     ]
    },
    {
     "name": "stdout",
     "output_type": "stream",
     "text": [
      "Baseline Loss: 3.9670 | Actual Loss: 1.8325\n",
      "Epoch 23/300: Train Loss: 1.8373, Val Loss: 1.8325\n",
      "Baseline Loss: 3.9957 | Actual Loss: 1.8660\n",
      "Baseline Loss: 4.0160 | Actual Loss: 1.8840\n",
      "Baseline Loss: 3.9968 | Actual Loss: 1.8595\n",
      "Baseline Loss: 3.9003 | Actual Loss: 1.6039\n"
     ]
    },
    {
     "name": "stderr",
     "output_type": "stream",
     "text": [
      "Training:   8%|▊         | 24/300 [00:25<04:42,  1.02s/it]"
     ]
    },
    {
     "name": "stdout",
     "output_type": "stream",
     "text": [
      "Baseline Loss: 3.9670 | Actual Loss: 1.7807\n",
      "Epoch 24/300: Train Loss: 1.8033, Val Loss: 1.7807\n",
      "New best validation loss: 1.7807\n",
      "Baseline Loss: 3.9886 | Actual Loss: 1.7616\n",
      "Baseline Loss: 4.0084 | Actual Loss: 1.8811\n",
      "Baseline Loss: 4.0100 | Actual Loss: 1.8447\n",
      "Baseline Loss: 3.9073 | Actual Loss: 1.7691\n"
     ]
    },
    {
     "name": "stderr",
     "output_type": "stream",
     "text": [
      "Training:   8%|▊         | 25/300 [00:26<04:43,  1.03s/it]"
     ]
    },
    {
     "name": "stdout",
     "output_type": "stream",
     "text": [
      "Baseline Loss: 3.9670 | Actual Loss: 1.7605\n",
      "Epoch 25/300: Train Loss: 1.8141, Val Loss: 1.7605\n",
      "New best validation loss: 1.7605\n",
      "Baseline Loss: 3.9917 | Actual Loss: 1.7928\n",
      "Baseline Loss: 3.9982 | Actual Loss: 1.8322\n",
      "Baseline Loss: 4.0028 | Actual Loss: 1.7788\n",
      "Baseline Loss: 3.9234 | Actual Loss: 1.7906\n",
      "Baseline Loss: 3.9670 | Actual Loss: 1.6921\n"
     ]
    },
    {
     "name": "stderr",
     "output_type": "stream",
     "text": [
      "Training:   9%|▊         | 26/300 [00:27<04:34,  1.00s/it]"
     ]
    },
    {
     "name": "stdout",
     "output_type": "stream",
     "text": [
      "Epoch 26/300: Train Loss: 1.7986, Val Loss: 1.6921\n",
      "New best validation loss: 1.6921\n",
      "Baseline Loss: 3.9947 | Actual Loss: 1.7011\n",
      "Baseline Loss: 4.0049 | Actual Loss: 1.7656\n",
      "Baseline Loss: 3.9899 | Actual Loss: 1.7410\n",
      "Baseline Loss: 3.9105 | Actual Loss: 1.6446\n"
     ]
    },
    {
     "name": "stderr",
     "output_type": "stream",
     "text": [
      "Training:   9%|▉         | 27/300 [00:28<04:33,  1.00s/it]"
     ]
    },
    {
     "name": "stdout",
     "output_type": "stream",
     "text": [
      "Baseline Loss: 3.9670 | Actual Loss: 1.7192\n",
      "Epoch 27/300: Train Loss: 1.7131, Val Loss: 1.7192\n",
      "Baseline Loss: 3.9973 | Actual Loss: 1.7209\n",
      "Baseline Loss: 3.9960 | Actual Loss: 1.7003\n",
      "Baseline Loss: 3.9937 | Actual Loss: 1.6801\n",
      "Baseline Loss: 3.9217 | Actual Loss: 1.7638\n"
     ]
    },
    {
     "name": "stderr",
     "output_type": "stream",
     "text": [
      "Training:   9%|▉         | 28/300 [00:29<04:33,  1.01s/it]"
     ]
    },
    {
     "name": "stdout",
     "output_type": "stream",
     "text": [
      "Baseline Loss: 3.9670 | Actual Loss: 1.6036\n",
      "Epoch 28/300: Train Loss: 1.7163, Val Loss: 1.6036\n",
      "New best validation loss: 1.6036\n",
      "Baseline Loss: 3.9940 | Actual Loss: 1.7338\n",
      "Baseline Loss: 3.9948 | Actual Loss: 1.6943\n",
      "Baseline Loss: 3.9995 | Actual Loss: 1.5955\n",
      "Baseline Loss: 3.9188 | Actual Loss: 1.6741\n"
     ]
    },
    {
     "name": "stderr",
     "output_type": "stream",
     "text": [
      "Training:  10%|▉         | 29/300 [00:30<04:33,  1.01s/it]"
     ]
    },
    {
     "name": "stdout",
     "output_type": "stream",
     "text": [
      "Baseline Loss: 3.9670 | Actual Loss: 1.5977\n",
      "Epoch 29/300: Train Loss: 1.6744, Val Loss: 1.5977\n",
      "New best validation loss: 1.5977\n",
      "Baseline Loss: 4.0007 | Actual Loss: 1.7003\n",
      "Baseline Loss: 4.0074 | Actual Loss: 1.7213\n",
      "Baseline Loss: 3.9873 | Actual Loss: 1.6750\n",
      "Baseline Loss: 3.9161 | Actual Loss: 1.6130\n"
     ]
    },
    {
     "name": "stderr",
     "output_type": "stream",
     "text": [
      "Training:  10%|█         | 30/300 [00:31<04:32,  1.01s/it]"
     ]
    },
    {
     "name": "stdout",
     "output_type": "stream",
     "text": [
      "Baseline Loss: 3.9670 | Actual Loss: 1.5444\n",
      "Epoch 30/300: Train Loss: 1.6774, Val Loss: 1.5444\n",
      "New best validation loss: 1.5444\n",
      "Baseline Loss: 4.0002 | Actual Loss: 1.4905\n",
      "Baseline Loss: 4.0008 | Actual Loss: 1.6785\n",
      "Baseline Loss: 4.0091 | Actual Loss: 1.5772\n",
      "Baseline Loss: 3.9081 | Actual Loss: 1.6746\n"
     ]
    },
    {
     "name": "stderr",
     "output_type": "stream",
     "text": [
      "Training:  10%|█         | 31/300 [00:32<04:26,  1.01it/s]"
     ]
    },
    {
     "name": "stdout",
     "output_type": "stream",
     "text": [
      "Baseline Loss: 3.9670 | Actual Loss: 1.6208\n",
      "Epoch 31/300: Train Loss: 1.6052, Val Loss: 1.6208\n",
      "Baseline Loss: 4.0023 | Actual Loss: 1.6523\n",
      "Baseline Loss: 4.0022 | Actual Loss: 1.6621\n",
      "Baseline Loss: 4.0008 | Actual Loss: 1.5083\n",
      "Baseline Loss: 3.9176 | Actual Loss: 1.6036\n"
     ]
    },
    {
     "name": "stderr",
     "output_type": "stream",
     "text": [
      "Training:  11%|█         | 32/300 [00:33<04:27,  1.00it/s]"
     ]
    },
    {
     "name": "stdout",
     "output_type": "stream",
     "text": [
      "Baseline Loss: 3.9670 | Actual Loss: 1.5414\n",
      "Epoch 32/300: Train Loss: 1.6066, Val Loss: 1.5414\n",
      "New best validation loss: 1.5414\n",
      "Baseline Loss: 3.9964 | Actual Loss: 1.6313\n",
      "Baseline Loss: 4.0079 | Actual Loss: 1.6239\n",
      "Baseline Loss: 4.0029 | Actual Loss: 1.6351\n",
      "Baseline Loss: 3.9110 | Actual Loss: 1.5139\n"
     ]
    },
    {
     "name": "stderr",
     "output_type": "stream",
     "text": [
      "Training:  11%|█         | 33/300 [00:34<04:37,  1.04s/it]"
     ]
    },
    {
     "name": "stdout",
     "output_type": "stream",
     "text": [
      "Baseline Loss: 3.9670 | Actual Loss: 1.6144\n",
      "Epoch 33/300: Train Loss: 1.6011, Val Loss: 1.6144\n",
      "Baseline Loss: 3.9965 | Actual Loss: 1.5444\n",
      "Baseline Loss: 4.0229 | Actual Loss: 1.4972\n",
      "Baseline Loss: 4.0045 | Actual Loss: 1.6189\n",
      "Baseline Loss: 3.9068 | Actual Loss: 1.4447\n",
      "Baseline Loss: 3.9670 | Actual Loss: 1.4752\n"
     ]
    },
    {
     "name": "stderr",
     "output_type": "stream",
     "text": [
      "Training:  11%|█▏        | 34/300 [00:35<04:35,  1.04s/it]"
     ]
    },
    {
     "name": "stdout",
     "output_type": "stream",
     "text": [
      "Epoch 34/300: Train Loss: 1.5263, Val Loss: 1.4752\n",
      "New best validation loss: 1.4752\n",
      "Baseline Loss: 3.9982 | Actual Loss: 1.5762\n",
      "Baseline Loss: 3.9949 | Actual Loss: 1.5248\n",
      "Baseline Loss: 3.9953 | Actual Loss: 1.5590\n",
      "Baseline Loss: 3.9104 | Actual Loss: 1.5093\n"
     ]
    },
    {
     "name": "stderr",
     "output_type": "stream",
     "text": [
      "Training:  12%|█▏        | 35/300 [00:36<04:32,  1.03s/it]"
     ]
    },
    {
     "name": "stdout",
     "output_type": "stream",
     "text": [
      "Baseline Loss: 3.9670 | Actual Loss: 1.4362\n",
      "Epoch 35/300: Train Loss: 1.5423, Val Loss: 1.4362\n",
      "New best validation loss: 1.4362\n",
      "Baseline Loss: 4.0046 | Actual Loss: 1.5402\n",
      "Baseline Loss: 3.9957 | Actual Loss: 1.5400\n",
      "Baseline Loss: 3.9947 | Actual Loss: 1.5624\n",
      "Baseline Loss: 3.9193 | Actual Loss: 1.4023\n"
     ]
    },
    {
     "name": "stderr",
     "output_type": "stream",
     "text": [
      "Training:  12%|█▏        | 36/300 [00:37<04:29,  1.02s/it]"
     ]
    },
    {
     "name": "stdout",
     "output_type": "stream",
     "text": [
      "Baseline Loss: 3.9670 | Actual Loss: 1.4785\n",
      "Epoch 36/300: Train Loss: 1.5112, Val Loss: 1.4785\n",
      "Baseline Loss: 4.0050 | Actual Loss: 1.4716\n",
      "Baseline Loss: 3.9964 | Actual Loss: 1.6654\n",
      "Baseline Loss: 3.9932 | Actual Loss: 1.3724\n",
      "Baseline Loss: 3.9218 | Actual Loss: 1.4050\n"
     ]
    },
    {
     "name": "stderr",
     "output_type": "stream",
     "text": [
      "Training:  12%|█▏        | 37/300 [00:38<04:28,  1.02s/it]"
     ]
    },
    {
     "name": "stdout",
     "output_type": "stream",
     "text": [
      "Baseline Loss: 3.9670 | Actual Loss: 1.3774\n",
      "Epoch 37/300: Train Loss: 1.4786, Val Loss: 1.3774\n",
      "New best validation loss: 1.3774\n",
      "Baseline Loss: 4.0072 | Actual Loss: 1.4066\n",
      "Baseline Loss: 3.9929 | Actual Loss: 1.5145\n",
      "Baseline Loss: 4.0086 | Actual Loss: 1.4000\n"
     ]
    },
    {
     "name": "stderr",
     "output_type": "stream",
     "text": [
      "Training:  13%|█▎        | 38/300 [00:39<04:23,  1.01s/it]"
     ]
    },
    {
     "name": "stdout",
     "output_type": "stream",
     "text": [
      "Baseline Loss: 3.9054 | Actual Loss: 1.5256\n",
      "Baseline Loss: 3.9670 | Actual Loss: 1.4011\n",
      "Epoch 38/300: Train Loss: 1.4617, Val Loss: 1.4011\n",
      "Baseline Loss: 4.0080 | Actual Loss: 1.3666\n",
      "Baseline Loss: 4.0005 | Actual Loss: 1.6125\n",
      "Baseline Loss: 4.0025 | Actual Loss: 1.5476\n",
      "Baseline Loss: 3.9050 | Actual Loss: 1.3444\n"
     ]
    },
    {
     "name": "stderr",
     "output_type": "stream",
     "text": [
      "Training:  13%|█▎        | 39/300 [00:40<04:27,  1.02s/it]"
     ]
    },
    {
     "name": "stdout",
     "output_type": "stream",
     "text": [
      "Baseline Loss: 3.9670 | Actual Loss: 1.4116\n",
      "Epoch 39/300: Train Loss: 1.4678, Val Loss: 1.4116\n",
      "Baseline Loss: 4.0016 | Actual Loss: 1.3849\n",
      "Baseline Loss: 3.9928 | Actual Loss: 1.6075\n",
      "Baseline Loss: 4.0133 | Actual Loss: 1.4130\n",
      "Baseline Loss: 3.9043 | Actual Loss: 1.5479\n",
      "Baseline Loss: 3.9670 | Actual Loss: 1.3930\n"
     ]
    },
    {
     "name": "stderr",
     "output_type": "stream",
     "text": [
      "Training:  13%|█▎        | 40/300 [00:41<04:26,  1.02s/it]"
     ]
    },
    {
     "name": "stdout",
     "output_type": "stream",
     "text": [
      "Epoch 40/300: Train Loss: 1.4883, Val Loss: 1.3930\n",
      "Baseline Loss: 3.9971 | Actual Loss: 1.4646\n",
      "Baseline Loss: 4.0008 | Actual Loss: 1.4117\n",
      "Baseline Loss: 4.0019 | Actual Loss: 1.4217\n",
      "Baseline Loss: 3.9226 | Actual Loss: 1.3469\n"
     ]
    },
    {
     "name": "stderr",
     "output_type": "stream",
     "text": [
      "Training:  14%|█▎        | 41/300 [00:42<04:28,  1.04s/it]"
     ]
    },
    {
     "name": "stdout",
     "output_type": "stream",
     "text": [
      "Baseline Loss: 3.9670 | Actual Loss: 1.3254\n",
      "Epoch 41/300: Train Loss: 1.4112, Val Loss: 1.3254\n",
      "New best validation loss: 1.3254\n",
      "Baseline Loss: 4.0008 | Actual Loss: 1.3150\n",
      "Baseline Loss: 4.0002 | Actual Loss: 1.4143\n",
      "Baseline Loss: 3.9993 | Actual Loss: 1.5413\n",
      "Baseline Loss: 3.9233 | Actual Loss: 1.3229\n"
     ]
    },
    {
     "name": "stderr",
     "output_type": "stream",
     "text": [
      "Training:  14%|█▍        | 42/300 [00:43<04:23,  1.02s/it]"
     ]
    },
    {
     "name": "stdout",
     "output_type": "stream",
     "text": [
      "Baseline Loss: 3.9670 | Actual Loss: 1.4086\n",
      "Epoch 42/300: Train Loss: 1.3984, Val Loss: 1.4086\n",
      "Baseline Loss: 4.0011 | Actual Loss: 1.5128\n",
      "Baseline Loss: 4.0045 | Actual Loss: 1.5093\n",
      "Baseline Loss: 4.0196 | Actual Loss: 1.2917\n",
      "Baseline Loss: 3.8898 | Actual Loss: 1.2471\n"
     ]
    },
    {
     "name": "stderr",
     "output_type": "stream",
     "text": [
      "Training:  14%|█▍        | 43/300 [00:44<04:25,  1.03s/it]"
     ]
    },
    {
     "name": "stdout",
     "output_type": "stream",
     "text": [
      "Baseline Loss: 3.9670 | Actual Loss: 1.3677\n",
      "Epoch 43/300: Train Loss: 1.3902, Val Loss: 1.3677\n",
      "Baseline Loss: 3.9994 | Actual Loss: 1.3836\n",
      "Baseline Loss: 4.0052 | Actual Loss: 1.3058\n",
      "Baseline Loss: 3.9963 | Actual Loss: 1.3006\n",
      "Baseline Loss: 3.9014 | Actual Loss: 1.3087\n"
     ]
    },
    {
     "name": "stderr",
     "output_type": "stream",
     "text": [
      "Training:  15%|█▍        | 44/300 [00:45<04:24,  1.03s/it]"
     ]
    },
    {
     "name": "stdout",
     "output_type": "stream",
     "text": [
      "Baseline Loss: 3.9670 | Actual Loss: 1.2862\n",
      "Epoch 44/300: Train Loss: 1.3247, Val Loss: 1.2862\n",
      "New best validation loss: 1.2862\n",
      "Baseline Loss: 4.0001 | Actual Loss: 1.2642\n",
      "Baseline Loss: 4.0005 | Actual Loss: 1.3473\n",
      "Baseline Loss: 4.0045 | Actual Loss: 1.4451\n",
      "Baseline Loss: 3.9093 | Actual Loss: 1.2915\n"
     ]
    },
    {
     "name": "stderr",
     "output_type": "stream",
     "text": [
      "Training:  15%|█▌        | 45/300 [00:46<04:23,  1.04s/it]"
     ]
    },
    {
     "name": "stdout",
     "output_type": "stream",
     "text": [
      "Baseline Loss: 3.9670 | Actual Loss: 1.3349\n",
      "Epoch 45/300: Train Loss: 1.3370, Val Loss: 1.3349\n",
      "Baseline Loss: 3.9961 | Actual Loss: 1.3976\n",
      "Baseline Loss: 4.0006 | Actual Loss: 1.3253\n",
      "Baseline Loss: 4.0208 | Actual Loss: 1.3862\n",
      "Baseline Loss: 3.8989 | Actual Loss: 1.2924\n"
     ]
    },
    {
     "name": "stderr",
     "output_type": "stream",
     "text": [
      "Training:  15%|█▌        | 46/300 [00:47<04:22,  1.03s/it]"
     ]
    },
    {
     "name": "stdout",
     "output_type": "stream",
     "text": [
      "Baseline Loss: 3.9670 | Actual Loss: 1.3566\n",
      "Epoch 46/300: Train Loss: 1.3504, Val Loss: 1.3566\n",
      "Baseline Loss: 4.0051 | Actual Loss: 1.3115\n",
      "Baseline Loss: 3.9932 | Actual Loss: 1.3753\n",
      "Baseline Loss: 3.9972 | Actual Loss: 1.2929\n",
      "Baseline Loss: 3.9167 | Actual Loss: 1.2696\n"
     ]
    },
    {
     "name": "stderr",
     "output_type": "stream",
     "text": [
      "Training:  16%|█▌        | 47/300 [00:48<04:15,  1.01s/it]"
     ]
    },
    {
     "name": "stdout",
     "output_type": "stream",
     "text": [
      "Baseline Loss: 3.9670 | Actual Loss: 1.2659\n",
      "Epoch 47/300: Train Loss: 1.3123, Val Loss: 1.2659\n",
      "New best validation loss: 1.2659\n",
      "Baseline Loss: 4.0079 | Actual Loss: 1.2326\n",
      "Baseline Loss: 4.0056 | Actual Loss: 1.4495\n",
      "Baseline Loss: 3.9866 | Actual Loss: 1.2953\n",
      "Baseline Loss: 3.9224 | Actual Loss: 1.2698\n"
     ]
    },
    {
     "name": "stderr",
     "output_type": "stream",
     "text": [
      "Training:  16%|█▌        | 48/300 [00:49<04:14,  1.01s/it]"
     ]
    },
    {
     "name": "stdout",
     "output_type": "stream",
     "text": [
      "Baseline Loss: 3.9670 | Actual Loss: 1.2603\n",
      "Epoch 48/300: Train Loss: 1.3118, Val Loss: 1.2603\n",
      "New best validation loss: 1.2603\n",
      "Baseline Loss: 3.9962 | Actual Loss: 1.3637\n",
      "Baseline Loss: 4.0002 | Actual Loss: 1.3267\n",
      "Baseline Loss: 3.9993 | Actual Loss: 1.2967\n",
      "Baseline Loss: 3.9033 | Actual Loss: 1.3016\n"
     ]
    },
    {
     "name": "stderr",
     "output_type": "stream",
     "text": [
      "Training:  16%|█▋        | 49/300 [00:50<04:14,  1.01s/it]"
     ]
    },
    {
     "name": "stdout",
     "output_type": "stream",
     "text": [
      "Baseline Loss: 3.9670 | Actual Loss: 1.2818\n",
      "Epoch 49/300: Train Loss: 1.3222, Val Loss: 1.2818\n",
      "Baseline Loss: 4.0137 | Actual Loss: 1.3899\n",
      "Baseline Loss: 4.0083 | Actual Loss: 1.3054\n",
      "Baseline Loss: 3.9905 | Actual Loss: 1.4507\n",
      "Baseline Loss: 3.9047 | Actual Loss: 1.1627\n"
     ]
    },
    {
     "name": "stderr",
     "output_type": "stream",
     "text": [
      "Training:  17%|█▋        | 50/300 [00:51<04:13,  1.01s/it]"
     ]
    },
    {
     "name": "stdout",
     "output_type": "stream",
     "text": [
      "Baseline Loss: 3.9670 | Actual Loss: 1.2391\n",
      "Epoch 50/300: Train Loss: 1.3272, Val Loss: 1.2391\n",
      "New best validation loss: 1.2391\n",
      "Baseline Loss: 4.0071 | Actual Loss: 1.3539\n",
      "Baseline Loss: 3.9964 | Actual Loss: 1.2994\n",
      "Baseline Loss: 4.0145 | Actual Loss: 1.2620\n",
      "Baseline Loss: 3.9105 | Actual Loss: 1.1803\n"
     ]
    },
    {
     "name": "stderr",
     "output_type": "stream",
     "text": [
      "Training:  17%|█▋        | 51/300 [00:52<04:08,  1.00it/s]"
     ]
    },
    {
     "name": "stdout",
     "output_type": "stream",
     "text": [
      "Baseline Loss: 3.9670 | Actual Loss: 1.2729\n",
      "Epoch 51/300: Train Loss: 1.2739, Val Loss: 1.2729\n",
      "Baseline Loss: 3.9982 | Actual Loss: 1.2275\n",
      "Baseline Loss: 4.0046 | Actual Loss: 1.2841\n",
      "Baseline Loss: 4.0067 | Actual Loss: 1.2383\n",
      "Baseline Loss: 3.9136 | Actual Loss: 1.3342\n"
     ]
    },
    {
     "name": "stderr",
     "output_type": "stream",
     "text": [
      "Training:  17%|█▋        | 52/300 [00:53<04:07,  1.00it/s]"
     ]
    },
    {
     "name": "stdout",
     "output_type": "stream",
     "text": [
      "Baseline Loss: 3.9670 | Actual Loss: 1.1692\n",
      "Epoch 52/300: Train Loss: 1.2710, Val Loss: 1.1692\n",
      "New best validation loss: 1.1692\n",
      "Baseline Loss: 4.0138 | Actual Loss: 1.3013\n",
      "Baseline Loss: 4.0006 | Actual Loss: 1.5197\n",
      "Baseline Loss: 4.0025 | Actual Loss: 1.2196\n",
      "Baseline Loss: 3.8913 | Actual Loss: 1.1802\n"
     ]
    },
    {
     "name": "stderr",
     "output_type": "stream",
     "text": [
      "Training:  18%|█▊        | 53/300 [00:54<04:08,  1.00s/it]"
     ]
    },
    {
     "name": "stdout",
     "output_type": "stream",
     "text": [
      "Baseline Loss: 3.9670 | Actual Loss: 1.2786\n",
      "Epoch 53/300: Train Loss: 1.3052, Val Loss: 1.2786\n",
      "Baseline Loss: 3.9898 | Actual Loss: 1.1827\n",
      "Baseline Loss: 4.0116 | Actual Loss: 1.2680\n",
      "Baseline Loss: 3.9912 | Actual Loss: 1.3103\n",
      "Baseline Loss: 3.9404 | Actual Loss: 1.2683\n"
     ]
    },
    {
     "name": "stderr",
     "output_type": "stream",
     "text": [
      "Training:  18%|█▊        | 54/300 [00:55<04:06,  1.00s/it]"
     ]
    },
    {
     "name": "stdout",
     "output_type": "stream",
     "text": [
      "Baseline Loss: 3.9670 | Actual Loss: 1.2404\n",
      "Epoch 54/300: Train Loss: 1.2573, Val Loss: 1.2404\n",
      "Baseline Loss: 3.9982 | Actual Loss: 1.2432\n",
      "Baseline Loss: 3.9999 | Actual Loss: 1.2540\n",
      "Baseline Loss: 4.0037 | Actual Loss: 1.1582\n",
      "Baseline Loss: 3.9148 | Actual Loss: 1.2186\n"
     ]
    },
    {
     "name": "stderr",
     "output_type": "stream",
     "text": [
      "Training:  18%|█▊        | 55/300 [00:56<04:07,  1.01s/it]"
     ]
    },
    {
     "name": "stdout",
     "output_type": "stream",
     "text": [
      "Baseline Loss: 3.9670 | Actual Loss: 1.2131\n",
      "Epoch 55/300: Train Loss: 1.2185, Val Loss: 1.2131\n",
      "Baseline Loss: 3.9860 | Actual Loss: 1.2239\n",
      "Baseline Loss: 3.9886 | Actual Loss: 1.3469\n",
      "Baseline Loss: 4.0322 | Actual Loss: 1.2289\n",
      "Baseline Loss: 3.9125 | Actual Loss: 1.1711\n"
     ]
    },
    {
     "name": "stderr",
     "output_type": "stream",
     "text": [
      "Training:  19%|█▊        | 56/300 [00:57<04:02,  1.01it/s]"
     ]
    },
    {
     "name": "stdout",
     "output_type": "stream",
     "text": [
      "Baseline Loss: 3.9670 | Actual Loss: 1.2541\n",
      "Epoch 56/300: Train Loss: 1.2427, Val Loss: 1.2541\n",
      "Baseline Loss: 4.0171 | Actual Loss: 1.4817\n",
      "Baseline Loss: 4.0015 | Actual Loss: 1.0790\n",
      "Baseline Loss: 3.9943 | Actual Loss: 1.2980\n",
      "Baseline Loss: 3.9074 | Actual Loss: 1.1879\n"
     ]
    },
    {
     "name": "stderr",
     "output_type": "stream",
     "text": [
      "Training:  19%|█▉        | 57/300 [00:58<04:05,  1.01s/it]"
     ]
    },
    {
     "name": "stdout",
     "output_type": "stream",
     "text": [
      "Baseline Loss: 3.9670 | Actual Loss: 1.2404\n",
      "Epoch 57/300: Train Loss: 1.2617, Val Loss: 1.2404\n",
      "Baseline Loss: 4.0079 | Actual Loss: 1.2816\n",
      "Baseline Loss: 3.9890 | Actual Loss: 1.2126\n",
      "Baseline Loss: 3.9965 | Actual Loss: 1.2703\n",
      "Baseline Loss: 3.9214 | Actual Loss: 1.0664\n"
     ]
    },
    {
     "name": "stderr",
     "output_type": "stream",
     "text": [
      "Training:  19%|█▉        | 58/300 [00:59<04:06,  1.02s/it]"
     ]
    },
    {
     "name": "stdout",
     "output_type": "stream",
     "text": [
      "Baseline Loss: 3.9670 | Actual Loss: 1.2070\n",
      "Epoch 58/300: Train Loss: 1.2077, Val Loss: 1.2070\n",
      "Baseline Loss: 3.9964 | Actual Loss: 1.2378\n",
      "Baseline Loss: 4.0103 | Actual Loss: 1.2294\n",
      "Baseline Loss: 3.9928 | Actual Loss: 1.1445\n",
      "Baseline Loss: 3.9128 | Actual Loss: 1.3226\n"
     ]
    },
    {
     "name": "stderr",
     "output_type": "stream",
     "text": [
      "Training:  20%|█▉        | 59/300 [01:00<04:06,  1.02s/it]"
     ]
    },
    {
     "name": "stdout",
     "output_type": "stream",
     "text": [
      "Baseline Loss: 3.9670 | Actual Loss: 1.2092\n",
      "Epoch 59/300: Train Loss: 1.2336, Val Loss: 1.2092\n",
      "Baseline Loss: 3.9948 | Actual Loss: 1.1261\n",
      "Baseline Loss: 4.0117 | Actual Loss: 1.1939\n",
      "Baseline Loss: 3.9992 | Actual Loss: 1.1705\n",
      "Baseline Loss: 3.9074 | Actual Loss: 1.2734\n"
     ]
    },
    {
     "name": "stderr",
     "output_type": "stream",
     "text": [
      "Training:  20%|██        | 60/300 [01:01<04:06,  1.03s/it]"
     ]
    },
    {
     "name": "stdout",
     "output_type": "stream",
     "text": [
      "Baseline Loss: 3.9670 | Actual Loss: 1.1543\n",
      "Epoch 60/300: Train Loss: 1.1910, Val Loss: 1.1543\n",
      "New best validation loss: 1.1543\n",
      "Baseline Loss: 3.9935 | Actual Loss: 1.1664\n",
      "Baseline Loss: 4.0081 | Actual Loss: 1.1437\n",
      "Baseline Loss: 3.9935 | Actual Loss: 1.1841\n",
      "Baseline Loss: 3.9184 | Actual Loss: 1.2080\n"
     ]
    },
    {
     "name": "stderr",
     "output_type": "stream",
     "text": [
      "Training:  20%|██        | 61/300 [01:02<04:00,  1.00s/it]"
     ]
    },
    {
     "name": "stdout",
     "output_type": "stream",
     "text": [
      "Baseline Loss: 3.9670 | Actual Loss: 1.2138\n",
      "Epoch 61/300: Train Loss: 1.1755, Val Loss: 1.2138\n",
      "Baseline Loss: 4.0033 | Actual Loss: 1.1749\n",
      "Baseline Loss: 3.9916 | Actual Loss: 1.0961\n",
      "Baseline Loss: 4.0030 | Actual Loss: 1.1365\n",
      "Baseline Loss: 3.9141 | Actual Loss: 1.3442\n"
     ]
    },
    {
     "name": "stderr",
     "output_type": "stream",
     "text": [
      "Training:  21%|██        | 62/300 [01:03<04:00,  1.01s/it]"
     ]
    },
    {
     "name": "stdout",
     "output_type": "stream",
     "text": [
      "Baseline Loss: 3.9670 | Actual Loss: 1.2592\n",
      "Epoch 62/300: Train Loss: 1.1879, Val Loss: 1.2592\n",
      "Baseline Loss: 4.0007 | Actual Loss: 1.1985\n",
      "Baseline Loss: 3.9988 | Actual Loss: 1.0957\n",
      "Baseline Loss: 4.0050 | Actual Loss: 1.1641\n",
      "Baseline Loss: 3.9100 | Actual Loss: 1.1679\n"
     ]
    },
    {
     "name": "stderr",
     "output_type": "stream",
     "text": [
      "Training:  21%|██        | 63/300 [01:04<04:00,  1.01s/it]"
     ]
    },
    {
     "name": "stdout",
     "output_type": "stream",
     "text": [
      "Baseline Loss: 3.9670 | Actual Loss: 1.1932\n",
      "Epoch 63/300: Train Loss: 1.1565, Val Loss: 1.1932\n",
      "Baseline Loss: 4.0147 | Actual Loss: 1.1666\n",
      "Baseline Loss: 4.0094 | Actual Loss: 1.2009\n",
      "Baseline Loss: 3.9837 | Actual Loss: 1.1558\n",
      "Baseline Loss: 3.9076 | Actual Loss: 1.0759\n"
     ]
    },
    {
     "name": "stderr",
     "output_type": "stream",
     "text": [
      "Training:  21%|██▏       | 64/300 [01:05<03:59,  1.01s/it]"
     ]
    },
    {
     "name": "stdout",
     "output_type": "stream",
     "text": [
      "Baseline Loss: 3.9670 | Actual Loss: 1.1066\n",
      "Epoch 64/300: Train Loss: 1.1498, Val Loss: 1.1066\n",
      "New best validation loss: 1.1066\n",
      "Baseline Loss: 4.0203 | Actual Loss: 1.2532\n",
      "Baseline Loss: 3.9975 | Actual Loss: 1.1410\n",
      "Baseline Loss: 3.9896 | Actual Loss: 1.0783\n",
      "Baseline Loss: 3.9035 | Actual Loss: 1.0757\n",
      "Baseline Loss: 3.9670 | Actual Loss: 1.1881\n"
     ]
    },
    {
     "name": "stderr",
     "output_type": "stream",
     "text": [
      "Training:  22%|██▏       | 65/300 [01:06<03:54,  1.00it/s]"
     ]
    },
    {
     "name": "stdout",
     "output_type": "stream",
     "text": [
      "Epoch 65/300: Train Loss: 1.1371, Val Loss: 1.1881\n",
      "Baseline Loss: 4.0013 | Actual Loss: 1.0291\n",
      "Baseline Loss: 3.9965 | Actual Loss: 1.1237\n",
      "Baseline Loss: 3.9942 | Actual Loss: 1.2280\n",
      "Baseline Loss: 3.9097 | Actual Loss: 1.1057\n"
     ]
    },
    {
     "name": "stderr",
     "output_type": "stream",
     "text": [
      "Training:  22%|██▏       | 66/300 [01:07<03:54,  1.00s/it]"
     ]
    },
    {
     "name": "stdout",
     "output_type": "stream",
     "text": [
      "Baseline Loss: 3.9670 | Actual Loss: 1.0862\n",
      "Epoch 66/300: Train Loss: 1.1216, Val Loss: 1.0862\n",
      "New best validation loss: 1.0862\n",
      "Baseline Loss: 3.9947 | Actual Loss: 1.1425\n",
      "Baseline Loss: 4.0080 | Actual Loss: 1.1207\n",
      "Baseline Loss: 4.0003 | Actual Loss: 1.1617\n",
      "Baseline Loss: 3.9135 | Actual Loss: 1.1719\n"
     ]
    },
    {
     "name": "stderr",
     "output_type": "stream",
     "text": [
      "Training:  22%|██▏       | 67/300 [01:08<03:55,  1.01s/it]"
     ]
    },
    {
     "name": "stdout",
     "output_type": "stream",
     "text": [
      "Baseline Loss: 3.9670 | Actual Loss: 1.1808\n",
      "Epoch 67/300: Train Loss: 1.1492, Val Loss: 1.1808\n",
      "Baseline Loss: 3.9871 | Actual Loss: 1.1572\n",
      "Baseline Loss: 4.0172 | Actual Loss: 1.1147\n",
      "Baseline Loss: 4.0032 | Actual Loss: 1.1717\n",
      "Baseline Loss: 3.9075 | Actual Loss: 1.2879\n"
     ]
    },
    {
     "name": "stderr",
     "output_type": "stream",
     "text": [
      "Training:  23%|██▎       | 68/300 [01:09<03:56,  1.02s/it]"
     ]
    },
    {
     "name": "stdout",
     "output_type": "stream",
     "text": [
      "Baseline Loss: 3.9670 | Actual Loss: 1.1635\n",
      "Epoch 68/300: Train Loss: 1.1829, Val Loss: 1.1635\n",
      "Baseline Loss: 3.9964 | Actual Loss: 1.2434\n",
      "Baseline Loss: 3.9988 | Actual Loss: 1.0772\n",
      "Baseline Loss: 4.0075 | Actual Loss: 1.2245\n",
      "Baseline Loss: 3.9182 | Actual Loss: 1.1051\n"
     ]
    },
    {
     "name": "stderr",
     "output_type": "stream",
     "text": [
      "Training:  23%|██▎       | 69/300 [01:11<03:56,  1.02s/it]"
     ]
    },
    {
     "name": "stdout",
     "output_type": "stream",
     "text": [
      "Baseline Loss: 3.9670 | Actual Loss: 1.2084\n",
      "Epoch 69/300: Train Loss: 1.1626, Val Loss: 1.2084\n",
      "Baseline Loss: 3.9898 | Actual Loss: 1.0672\n",
      "Baseline Loss: 4.0096 | Actual Loss: 1.1161\n",
      "Baseline Loss: 4.0103 | Actual Loss: 1.0427\n",
      "Baseline Loss: 3.9086 | Actual Loss: 1.1064\n",
      "Baseline Loss: 3.9670 | Actual Loss: 1.1516\n"
     ]
    },
    {
     "name": "stderr",
     "output_type": "stream",
     "text": [
      "Training:  23%|██▎       | 70/300 [01:11<03:50,  1.00s/it]"
     ]
    },
    {
     "name": "stdout",
     "output_type": "stream",
     "text": [
      "Epoch 70/300: Train Loss: 1.0831, Val Loss: 1.1516\n",
      "Baseline Loss: 3.9869 | Actual Loss: 1.1706\n",
      "Baseline Loss: 4.0039 | Actual Loss: 1.1517\n",
      "Baseline Loss: 4.0155 | Actual Loss: 1.2295\n",
      "Baseline Loss: 3.9069 | Actual Loss: 1.1383\n"
     ]
    },
    {
     "name": "stderr",
     "output_type": "stream",
     "text": [
      "Training:  24%|██▎       | 71/300 [01:12<03:51,  1.01s/it]"
     ]
    },
    {
     "name": "stdout",
     "output_type": "stream",
     "text": [
      "Baseline Loss: 3.9670 | Actual Loss: 1.1522\n",
      "Epoch 71/300: Train Loss: 1.1725, Val Loss: 1.1522\n",
      "Baseline Loss: 4.0081 | Actual Loss: 1.1926\n",
      "Baseline Loss: 3.9885 | Actual Loss: 1.1653\n",
      "Baseline Loss: 3.9954 | Actual Loss: 1.0032\n",
      "Baseline Loss: 3.9048 | Actual Loss: 1.1232\n"
     ]
    },
    {
     "name": "stderr",
     "output_type": "stream",
     "text": [
      "Training:  24%|██▍       | 72/300 [01:14<03:50,  1.01s/it]"
     ]
    },
    {
     "name": "stdout",
     "output_type": "stream",
     "text": [
      "Baseline Loss: 3.9670 | Actual Loss: 1.0949\n",
      "Epoch 72/300: Train Loss: 1.1211, Val Loss: 1.0949\n",
      "Baseline Loss: 3.9995 | Actual Loss: 1.1652\n",
      "Baseline Loss: 4.0021 | Actual Loss: 1.2068\n",
      "Baseline Loss: 4.0034 | Actual Loss: 1.0266\n",
      "Baseline Loss: 3.9033 | Actual Loss: 1.0949\n"
     ]
    },
    {
     "name": "stderr",
     "output_type": "stream",
     "text": [
      "Training:  24%|██▍       | 73/300 [01:15<03:51,  1.02s/it]"
     ]
    },
    {
     "name": "stdout",
     "output_type": "stream",
     "text": [
      "Baseline Loss: 3.9670 | Actual Loss: 1.1903\n",
      "Epoch 73/300: Train Loss: 1.1234, Val Loss: 1.1903\n",
      "Baseline Loss: 3.9881 | Actual Loss: 1.2143\n",
      "Baseline Loss: 3.9996 | Actual Loss: 1.0240\n",
      "Baseline Loss: 4.0076 | Actual Loss: 0.9894\n",
      "Baseline Loss: 3.9120 | Actual Loss: 1.0717\n"
     ]
    },
    {
     "name": "stderr",
     "output_type": "stream",
     "text": [
      "Training:  25%|██▍       | 74/300 [01:16<03:50,  1.02s/it]"
     ]
    },
    {
     "name": "stdout",
     "output_type": "stream",
     "text": [
      "Baseline Loss: 3.9670 | Actual Loss: 1.0953\n",
      "Epoch 74/300: Train Loss: 1.0748, Val Loss: 1.0953\n",
      "Baseline Loss: 4.0020 | Actual Loss: 1.1738\n",
      "Baseline Loss: 3.9899 | Actual Loss: 0.9391\n",
      "Baseline Loss: 3.9934 | Actual Loss: 1.0873\n",
      "Baseline Loss: 3.9147 | Actual Loss: 0.9857\n"
     ]
    },
    {
     "name": "stderr",
     "output_type": "stream",
     "text": [
      "Training:  25%|██▌       | 75/300 [01:17<03:52,  1.03s/it]"
     ]
    },
    {
     "name": "stdout",
     "output_type": "stream",
     "text": [
      "Baseline Loss: 3.9670 | Actual Loss: 1.1009\n",
      "Epoch 75/300: Train Loss: 1.0465, Val Loss: 1.1009\n",
      "Baseline Loss: 3.9959 | Actual Loss: 1.1530\n",
      "Baseline Loss: 4.0049 | Actual Loss: 0.9589\n",
      "Baseline Loss: 4.0010 | Actual Loss: 1.0695\n",
      "Baseline Loss: 3.9042 | Actual Loss: 1.0805\n"
     ]
    },
    {
     "name": "stderr",
     "output_type": "stream",
     "text": [
      "Training:  25%|██▌       | 76/300 [01:18<03:52,  1.04s/it]"
     ]
    },
    {
     "name": "stdout",
     "output_type": "stream",
     "text": [
      "Baseline Loss: 3.9670 | Actual Loss: 1.0752\n",
      "Epoch 76/300: Train Loss: 1.0655, Val Loss: 1.0752\n",
      "New best validation loss: 1.0752\n",
      "Baseline Loss: 4.0119 | Actual Loss: 1.1827\n",
      "Baseline Loss: 3.9898 | Actual Loss: 1.1129\n",
      "Baseline Loss: 4.0096 | Actual Loss: 1.1588\n"
     ]
    },
    {
     "name": "stderr",
     "output_type": "stream",
     "text": [
      "Training:  26%|██▌       | 77/300 [01:19<03:44,  1.00s/it]"
     ]
    },
    {
     "name": "stdout",
     "output_type": "stream",
     "text": [
      "Baseline Loss: 3.9027 | Actual Loss: 0.9531\n",
      "Baseline Loss: 3.9670 | Actual Loss: 1.1264\n",
      "Epoch 77/300: Train Loss: 1.1019, Val Loss: 1.1264\n",
      "Baseline Loss: 3.9964 | Actual Loss: 1.0131\n",
      "Baseline Loss: 4.0006 | Actual Loss: 1.0982\n",
      "Baseline Loss: 4.0033 | Actual Loss: 1.1893\n",
      "Baseline Loss: 3.9072 | Actual Loss: 0.9772\n"
     ]
    },
    {
     "name": "stderr",
     "output_type": "stream",
     "text": [
      "Training:  26%|██▌       | 78/300 [01:20<03:44,  1.01s/it]"
     ]
    },
    {
     "name": "stdout",
     "output_type": "stream",
     "text": [
      "Baseline Loss: 3.9670 | Actual Loss: 1.1296\n",
      "Epoch 78/300: Train Loss: 1.0695, Val Loss: 1.1296\n",
      "Baseline Loss: 3.9948 | Actual Loss: 1.1597\n",
      "Baseline Loss: 4.0055 | Actual Loss: 1.1073\n",
      "Baseline Loss: 3.9945 | Actual Loss: 1.0407\n",
      "Baseline Loss: 3.9135 | Actual Loss: 0.9477\n"
     ]
    },
    {
     "name": "stderr",
     "output_type": "stream",
     "text": [
      "Training:  26%|██▋       | 79/300 [01:21<03:46,  1.03s/it]"
     ]
    },
    {
     "name": "stdout",
     "output_type": "stream",
     "text": [
      "Baseline Loss: 3.9670 | Actual Loss: 1.0554\n",
      "Epoch 79/300: Train Loss: 1.0639, Val Loss: 1.0554\n",
      "New best validation loss: 1.0554\n",
      "Baseline Loss: 3.9939 | Actual Loss: 1.1389\n",
      "Baseline Loss: 4.0084 | Actual Loss: 0.9982\n",
      "Baseline Loss: 3.9959 | Actual Loss: 1.0542\n",
      "Baseline Loss: 3.9097 | Actual Loss: 1.0024\n"
     ]
    },
    {
     "name": "stderr",
     "output_type": "stream",
     "text": [
      "Training:  27%|██▋       | 80/300 [01:22<03:49,  1.04s/it]"
     ]
    },
    {
     "name": "stdout",
     "output_type": "stream",
     "text": [
      "Baseline Loss: 3.9670 | Actual Loss: 1.0533\n",
      "Epoch 80/300: Train Loss: 1.0484, Val Loss: 1.0533\n",
      "New best validation loss: 1.0533\n",
      "Baseline Loss: 4.0124 | Actual Loss: 1.1123\n",
      "Baseline Loss: 4.0042 | Actual Loss: 1.0092\n",
      "Baseline Loss: 3.9927 | Actual Loss: 1.0920\n",
      "Baseline Loss: 3.9079 | Actual Loss: 1.0490\n"
     ]
    },
    {
     "name": "stderr",
     "output_type": "stream",
     "text": [
      "Training:  27%|██▋       | 81/300 [01:23<03:51,  1.06s/it]"
     ]
    },
    {
     "name": "stdout",
     "output_type": "stream",
     "text": [
      "Baseline Loss: 3.9670 | Actual Loss: 1.1391\n",
      "Epoch 81/300: Train Loss: 1.0656, Val Loss: 1.1391\n",
      "Baseline Loss: 3.9975 | Actual Loss: 0.9978\n",
      "Baseline Loss: 4.0052 | Actual Loss: 0.9597\n",
      "Baseline Loss: 4.0073 | Actual Loss: 1.1212\n",
      "Baseline Loss: 3.9061 | Actual Loss: 1.0913\n"
     ]
    },
    {
     "name": "stderr",
     "output_type": "stream",
     "text": [
      "Training:  27%|██▋       | 82/300 [01:24<03:52,  1.07s/it]"
     ]
    },
    {
     "name": "stdout",
     "output_type": "stream",
     "text": [
      "Baseline Loss: 3.9670 | Actual Loss: 1.0125\n",
      "Epoch 82/300: Train Loss: 1.0425, Val Loss: 1.0125\n",
      "New best validation loss: 1.0125\n",
      "Baseline Loss: 4.0084 | Actual Loss: 1.1408\n",
      "Baseline Loss: 4.0063 | Actual Loss: 1.0590\n",
      "Baseline Loss: 3.9875 | Actual Loss: 1.0849\n",
      "Baseline Loss: 3.9182 | Actual Loss: 0.9818\n"
     ]
    },
    {
     "name": "stderr",
     "output_type": "stream",
     "text": [
      "Training:  28%|██▊       | 83/300 [01:25<03:53,  1.07s/it]"
     ]
    },
    {
     "name": "stdout",
     "output_type": "stream",
     "text": [
      "Baseline Loss: 3.9670 | Actual Loss: 0.9895\n",
      "Epoch 83/300: Train Loss: 1.0666, Val Loss: 0.9895\n",
      "New best validation loss: 0.9895\n",
      "Baseline Loss: 4.0086 | Actual Loss: 1.1106\n",
      "Baseline Loss: 3.9906 | Actual Loss: 1.0728\n",
      "Baseline Loss: 4.0016 | Actual Loss: 1.0545\n",
      "Baseline Loss: 3.9055 | Actual Loss: 1.0034\n"
     ]
    },
    {
     "name": "stderr",
     "output_type": "stream",
     "text": [
      "Training:  28%|██▊       | 84/300 [01:26<03:47,  1.05s/it]"
     ]
    },
    {
     "name": "stdout",
     "output_type": "stream",
     "text": [
      "Baseline Loss: 3.9670 | Actual Loss: 1.0641\n",
      "Epoch 84/300: Train Loss: 1.0603, Val Loss: 1.0641\n",
      "Baseline Loss: 4.0016 | Actual Loss: 1.0177\n",
      "Baseline Loss: 4.0012 | Actual Loss: 1.0462\n",
      "Baseline Loss: 4.0026 | Actual Loss: 0.9130\n",
      "Baseline Loss: 3.9114 | Actual Loss: 1.0335\n"
     ]
    },
    {
     "name": "stderr",
     "output_type": "stream",
     "text": [
      "Training:  28%|██▊       | 85/300 [01:27<03:46,  1.05s/it]"
     ]
    },
    {
     "name": "stdout",
     "output_type": "stream",
     "text": [
      "Baseline Loss: 3.9670 | Actual Loss: 1.1175\n",
      "Epoch 85/300: Train Loss: 1.0026, Val Loss: 1.1175\n",
      "Baseline Loss: 4.0045 | Actual Loss: 1.1449\n",
      "Baseline Loss: 3.9935 | Actual Loss: 1.0372\n",
      "Baseline Loss: 3.9974 | Actual Loss: 0.9699\n",
      "Baseline Loss: 3.9015 | Actual Loss: 0.9173\n"
     ]
    },
    {
     "name": "stderr",
     "output_type": "stream",
     "text": [
      "Training:  29%|██▊       | 86/300 [01:28<03:45,  1.05s/it]"
     ]
    },
    {
     "name": "stdout",
     "output_type": "stream",
     "text": [
      "Baseline Loss: 3.9670 | Actual Loss: 1.0639\n",
      "Epoch 86/300: Train Loss: 1.0174, Val Loss: 1.0639\n",
      "Baseline Loss: 4.0022 | Actual Loss: 1.1529\n",
      "Baseline Loss: 3.9951 | Actual Loss: 1.0005\n",
      "Baseline Loss: 4.0132 | Actual Loss: 1.0198\n",
      "Baseline Loss: 3.9141 | Actual Loss: 0.9125\n"
     ]
    },
    {
     "name": "stderr",
     "output_type": "stream",
     "text": [
      "Training:  29%|██▉       | 87/300 [01:29<03:44,  1.05s/it]"
     ]
    },
    {
     "name": "stdout",
     "output_type": "stream",
     "text": [
      "Baseline Loss: 3.9670 | Actual Loss: 1.0516\n",
      "Epoch 87/300: Train Loss: 1.0214, Val Loss: 1.0516\n",
      "Baseline Loss: 3.9914 | Actual Loss: 1.0378\n",
      "Baseline Loss: 4.0005 | Actual Loss: 0.9611\n",
      "Baseline Loss: 4.0087 | Actual Loss: 1.1370\n",
      "Baseline Loss: 3.9230 | Actual Loss: 0.9476\n"
     ]
    },
    {
     "name": "stderr",
     "output_type": "stream",
     "text": [
      "Training:  29%|██▉       | 88/300 [01:30<03:44,  1.06s/it]"
     ]
    },
    {
     "name": "stdout",
     "output_type": "stream",
     "text": [
      "Baseline Loss: 3.9670 | Actual Loss: 1.0668\n",
      "Epoch 88/300: Train Loss: 1.0209, Val Loss: 1.0668\n",
      "Baseline Loss: 4.0072 | Actual Loss: 1.0278\n",
      "Baseline Loss: 4.0029 | Actual Loss: 1.0074\n",
      "Baseline Loss: 4.0045 | Actual Loss: 0.9422\n",
      "Baseline Loss: 3.9152 | Actual Loss: 1.0633\n"
     ]
    },
    {
     "name": "stderr",
     "output_type": "stream",
     "text": [
      "Training:  30%|██▉       | 89/300 [01:31<03:41,  1.05s/it]"
     ]
    },
    {
     "name": "stdout",
     "output_type": "stream",
     "text": [
      "Baseline Loss: 3.9670 | Actual Loss: 1.1095\n",
      "Epoch 89/300: Train Loss: 1.0102, Val Loss: 1.1095\n",
      "Baseline Loss: 4.0051 | Actual Loss: 1.0639\n",
      "Baseline Loss: 4.0037 | Actual Loss: 1.1331\n",
      "Baseline Loss: 3.9977 | Actual Loss: 0.9963\n",
      "Baseline Loss: 3.9170 | Actual Loss: 0.9027\n"
     ]
    },
    {
     "name": "stderr",
     "output_type": "stream",
     "text": [
      "Training:  30%|███       | 90/300 [01:32<03:41,  1.05s/it]"
     ]
    },
    {
     "name": "stdout",
     "output_type": "stream",
     "text": [
      "Baseline Loss: 3.9670 | Actual Loss: 1.1151\n",
      "Epoch 90/300: Train Loss: 1.0240, Val Loss: 1.1151\n",
      "Baseline Loss: 4.0026 | Actual Loss: 1.0561\n",
      "Baseline Loss: 4.0033 | Actual Loss: 1.0983\n",
      "Baseline Loss: 4.0117 | Actual Loss: 1.0737\n",
      "Baseline Loss: 3.9032 | Actual Loss: 0.9446\n"
     ]
    },
    {
     "name": "stderr",
     "output_type": "stream",
     "text": [
      "Training:  30%|███       | 91/300 [01:33<03:33,  1.02s/it]"
     ]
    },
    {
     "name": "stdout",
     "output_type": "stream",
     "text": [
      "Baseline Loss: 3.9670 | Actual Loss: 1.0642\n",
      "Epoch 91/300: Train Loss: 1.0432, Val Loss: 1.0642\n",
      "Baseline Loss: 4.0022 | Actual Loss: 1.0182\n",
      "Baseline Loss: 4.0036 | Actual Loss: 0.9872\n",
      "Baseline Loss: 4.0047 | Actual Loss: 1.0170\n",
      "Baseline Loss: 3.9164 | Actual Loss: 0.9464\n"
     ]
    },
    {
     "name": "stderr",
     "output_type": "stream",
     "text": [
      "Training:  31%|███       | 92/300 [01:34<03:34,  1.03s/it]"
     ]
    },
    {
     "name": "stdout",
     "output_type": "stream",
     "text": [
      "Baseline Loss: 3.9670 | Actual Loss: 1.0594\n",
      "Epoch 92/300: Train Loss: 0.9922, Val Loss: 1.0594\n",
      "Baseline Loss: 4.0011 | Actual Loss: 0.9280\n",
      "Baseline Loss: 4.0037 | Actual Loss: 1.0839\n",
      "Baseline Loss: 3.9963 | Actual Loss: 1.0387\n",
      "Baseline Loss: 3.9011 | Actual Loss: 0.9502\n"
     ]
    },
    {
     "name": "stderr",
     "output_type": "stream",
     "text": [
      "Training:  31%|███       | 93/300 [01:35<03:34,  1.04s/it]"
     ]
    },
    {
     "name": "stdout",
     "output_type": "stream",
     "text": [
      "Baseline Loss: 3.9670 | Actual Loss: 1.0774\n",
      "Epoch 93/300: Train Loss: 1.0002, Val Loss: 1.0774\n",
      "Baseline Loss: 3.9915 | Actual Loss: 0.9777\n",
      "Baseline Loss: 3.9935 | Actual Loss: 1.0427\n",
      "Baseline Loss: 4.0113 | Actual Loss: 1.0241\n",
      "Baseline Loss: 3.9192 | Actual Loss: 0.8630\n"
     ]
    },
    {
     "name": "stderr",
     "output_type": "stream",
     "text": [
      "Training:  31%|███▏      | 94/300 [01:36<03:34,  1.04s/it]"
     ]
    },
    {
     "name": "stdout",
     "output_type": "stream",
     "text": [
      "Baseline Loss: 3.9670 | Actual Loss: 1.0306\n",
      "Epoch 94/300: Train Loss: 0.9769, Val Loss: 1.0306\n",
      "Baseline Loss: 4.0038 | Actual Loss: 1.0259\n",
      "Baseline Loss: 3.9931 | Actual Loss: 0.9422\n",
      "Baseline Loss: 3.9944 | Actual Loss: 1.0091\n",
      "Baseline Loss: 3.9176 | Actual Loss: 1.0095\n"
     ]
    },
    {
     "name": "stderr",
     "output_type": "stream",
     "text": [
      "Training:  32%|███▏      | 95/300 [01:38<03:34,  1.04s/it]"
     ]
    },
    {
     "name": "stdout",
     "output_type": "stream",
     "text": [
      "Baseline Loss: 3.9670 | Actual Loss: 1.0685\n",
      "Epoch 95/300: Train Loss: 0.9967, Val Loss: 1.0685\n",
      "Baseline Loss: 4.0084 | Actual Loss: 0.9614\n",
      "Baseline Loss: 4.0172 | Actual Loss: 0.8976\n",
      "Baseline Loss: 3.9998 | Actual Loss: 1.0761\n",
      "Baseline Loss: 3.9000 | Actual Loss: 0.9066\n"
     ]
    },
    {
     "name": "stderr",
     "output_type": "stream",
     "text": [
      "Training:  32%|███▏      | 96/300 [01:39<03:35,  1.06s/it]"
     ]
    },
    {
     "name": "stdout",
     "output_type": "stream",
     "text": [
      "Baseline Loss: 3.9670 | Actual Loss: 0.9802\n",
      "Epoch 96/300: Train Loss: 0.9604, Val Loss: 0.9802\n",
      "New best validation loss: 0.9802\n",
      "Baseline Loss: 3.9977 | Actual Loss: 1.0190\n",
      "Baseline Loss: 4.0124 | Actual Loss: 1.1269\n",
      "Baseline Loss: 4.0086 | Actual Loss: 1.0071\n",
      "Baseline Loss: 3.9012 | Actual Loss: 0.7558\n"
     ]
    },
    {
     "name": "stderr",
     "output_type": "stream",
     "text": [
      "Training:  32%|███▏      | 97/300 [01:40<03:34,  1.05s/it]"
     ]
    },
    {
     "name": "stdout",
     "output_type": "stream",
     "text": [
      "Baseline Loss: 3.9670 | Actual Loss: 1.0504\n",
      "Epoch 97/300: Train Loss: 0.9772, Val Loss: 1.0504\n",
      "Baseline Loss: 4.0102 | Actual Loss: 0.9995\n",
      "Baseline Loss: 4.0036 | Actual Loss: 0.9722\n",
      "Baseline Loss: 3.9892 | Actual Loss: 0.9417\n"
     ]
    },
    {
     "name": "stderr",
     "output_type": "stream",
     "text": [
      "Training:  33%|███▎      | 98/300 [01:41<03:27,  1.03s/it]"
     ]
    },
    {
     "name": "stdout",
     "output_type": "stream",
     "text": [
      "Baseline Loss: 3.8964 | Actual Loss: 0.8322\n",
      "Baseline Loss: 3.9670 | Actual Loss: 1.0432\n",
      "Epoch 98/300: Train Loss: 0.9364, Val Loss: 1.0432\n",
      "Baseline Loss: 3.9957 | Actual Loss: 0.9079\n",
      "Baseline Loss: 3.9977 | Actual Loss: 1.0400\n",
      "Baseline Loss: 4.0073 | Actual Loss: 1.0140\n",
      "Baseline Loss: 3.9101 | Actual Loss: 0.9946\n"
     ]
    },
    {
     "name": "stderr",
     "output_type": "stream",
     "text": [
      "Training:  33%|███▎      | 99/300 [01:42<03:27,  1.03s/it]"
     ]
    },
    {
     "name": "stdout",
     "output_type": "stream",
     "text": [
      "Baseline Loss: 3.9670 | Actual Loss: 1.1517\n",
      "Epoch 99/300: Train Loss: 0.9891, Val Loss: 1.1517\n",
      "Baseline Loss: 3.9939 | Actual Loss: 1.0032\n",
      "Baseline Loss: 4.0058 | Actual Loss: 0.9703\n",
      "Baseline Loss: 4.0111 | Actual Loss: 1.0841\n"
     ]
    },
    {
     "name": "stderr",
     "output_type": "stream",
     "text": [
      "Training:  33%|███▎      | 100/300 [01:43<03:22,  1.01s/it]"
     ]
    },
    {
     "name": "stdout",
     "output_type": "stream",
     "text": [
      "Baseline Loss: 3.9016 | Actual Loss: 0.9607\n",
      "Baseline Loss: 3.9670 | Actual Loss: 1.0359\n",
      "Epoch 100/300: Train Loss: 1.0046, Val Loss: 1.0359\n",
      "Baseline Loss: 4.0054 | Actual Loss: 0.8347\n",
      "Baseline Loss: 3.9985 | Actual Loss: 0.9390\n",
      "Baseline Loss: 3.9964 | Actual Loss: 1.0230\n",
      "Baseline Loss: 3.9153 | Actual Loss: 0.8921\n"
     ]
    },
    {
     "name": "stderr",
     "output_type": "stream",
     "text": [
      "Training:  34%|███▎      | 101/300 [01:44<03:14,  1.03it/s]"
     ]
    },
    {
     "name": "stdout",
     "output_type": "stream",
     "text": [
      "Baseline Loss: 3.9670 | Actual Loss: 1.0307\n",
      "Epoch 101/300: Train Loss: 0.9222, Val Loss: 1.0307\n",
      "Baseline Loss: 4.0110 | Actual Loss: 0.9794\n",
      "Baseline Loss: 3.9898 | Actual Loss: 1.0578\n",
      "Baseline Loss: 4.0146 | Actual Loss: 0.8405\n"
     ]
    },
    {
     "name": "stderr",
     "output_type": "stream",
     "text": [
      "Training:  34%|███▍      | 102/300 [01:44<03:06,  1.06it/s]"
     ]
    },
    {
     "name": "stdout",
     "output_type": "stream",
     "text": [
      "Baseline Loss: 3.9084 | Actual Loss: 1.0433\n",
      "Baseline Loss: 3.9670 | Actual Loss: 1.0208\n",
      "Epoch 102/300: Train Loss: 0.9803, Val Loss: 1.0208\n",
      "Baseline Loss: 4.0008 | Actual Loss: 0.7850\n",
      "Baseline Loss: 4.0141 | Actual Loss: 0.9927\n",
      "Baseline Loss: 4.0041 | Actual Loss: 0.9336\n"
     ]
    },
    {
     "name": "stderr",
     "output_type": "stream",
     "text": [
      "Training:  34%|███▍      | 103/300 [01:45<03:02,  1.08it/s]"
     ]
    },
    {
     "name": "stdout",
     "output_type": "stream",
     "text": [
      "Baseline Loss: 3.9047 | Actual Loss: 0.8318\n",
      "Baseline Loss: 3.9670 | Actual Loss: 1.0419\n",
      "Epoch 103/300: Train Loss: 0.8858, Val Loss: 1.0419\n",
      "Baseline Loss: 3.9923 | Actual Loss: 0.8623\n",
      "Baseline Loss: 4.0103 | Actual Loss: 0.8624\n",
      "Baseline Loss: 3.9982 | Actual Loss: 1.0278\n",
      "Baseline Loss: 3.9112 | Actual Loss: 0.9081\n"
     ]
    },
    {
     "name": "stderr",
     "output_type": "stream",
     "text": [
      "Training:  35%|███▍      | 104/300 [01:46<03:01,  1.08it/s]"
     ]
    },
    {
     "name": "stdout",
     "output_type": "stream",
     "text": [
      "Baseline Loss: 3.9670 | Actual Loss: 1.0455\n",
      "Epoch 104/300: Train Loss: 0.9151, Val Loss: 1.0455\n",
      "Baseline Loss: 3.9987 | Actual Loss: 0.9146\n",
      "Baseline Loss: 4.0017 | Actual Loss: 0.8938\n",
      "Baseline Loss: 4.0146 | Actual Loss: 1.0538\n",
      "Baseline Loss: 3.9064 | Actual Loss: 0.8757\n"
     ]
    },
    {
     "name": "stderr",
     "output_type": "stream",
     "text": [
      "Training:  35%|███▌      | 105/300 [01:47<03:01,  1.08it/s]"
     ]
    },
    {
     "name": "stdout",
     "output_type": "stream",
     "text": [
      "Baseline Loss: 3.9670 | Actual Loss: 0.9952\n",
      "Epoch 105/300: Train Loss: 0.9345, Val Loss: 0.9952\n",
      "Baseline Loss: 4.0027 | Actual Loss: 0.9304\n",
      "Baseline Loss: 4.0070 | Actual Loss: 1.1313\n",
      "Baseline Loss: 3.9980 | Actual Loss: 0.8997\n"
     ]
    },
    {
     "name": "stderr",
     "output_type": "stream",
     "text": [
      "Training:  35%|███▌      | 106/300 [01:48<03:07,  1.03it/s]"
     ]
    },
    {
     "name": "stdout",
     "output_type": "stream",
     "text": [
      "Baseline Loss: 3.9083 | Actual Loss: 0.9037\n",
      "Baseline Loss: 3.9670 | Actual Loss: 1.0485\n",
      "Epoch 106/300: Train Loss: 0.9663, Val Loss: 1.0485\n",
      "Baseline Loss: 4.0161 | Actual Loss: 1.1219\n",
      "Baseline Loss: 4.0027 | Actual Loss: 0.9198\n",
      "Baseline Loss: 4.0027 | Actual Loss: 0.8438\n",
      "Baseline Loss: 3.9021 | Actual Loss: 0.7419\n"
     ]
    },
    {
     "name": "stderr",
     "output_type": "stream",
     "text": [
      "Training:  36%|███▌      | 107/300 [01:49<03:09,  1.02it/s]"
     ]
    },
    {
     "name": "stdout",
     "output_type": "stream",
     "text": [
      "Baseline Loss: 3.9670 | Actual Loss: 0.9846\n",
      "Epoch 107/300: Train Loss: 0.9069, Val Loss: 0.9846\n",
      "Baseline Loss: 4.0194 | Actual Loss: 1.0084\n",
      "Baseline Loss: 3.9931 | Actual Loss: 0.9691\n",
      "Baseline Loss: 4.0079 | Actual Loss: 0.8709\n"
     ]
    },
    {
     "name": "stderr",
     "output_type": "stream",
     "text": [
      "Training:  36%|███▌      | 108/300 [01:50<03:13,  1.01s/it]"
     ]
    },
    {
     "name": "stdout",
     "output_type": "stream",
     "text": [
      "Baseline Loss: 3.8996 | Actual Loss: 0.8302\n",
      "Baseline Loss: 3.9670 | Actual Loss: 1.0547\n",
      "Epoch 108/300: Train Loss: 0.9196, Val Loss: 1.0547\n",
      "Baseline Loss: 3.9883 | Actual Loss: 0.9067\n",
      "Baseline Loss: 4.0156 | Actual Loss: 0.8157\n",
      "Baseline Loss: 4.0027 | Actual Loss: 0.9136\n",
      "Baseline Loss: 3.9143 | Actual Loss: 0.9640\n"
     ]
    },
    {
     "name": "stderr",
     "output_type": "stream",
     "text": [
      "Training:  36%|███▋      | 109/300 [01:51<03:18,  1.04s/it]"
     ]
    },
    {
     "name": "stdout",
     "output_type": "stream",
     "text": [
      "Baseline Loss: 3.9670 | Actual Loss: 1.0697\n",
      "Epoch 109/300: Train Loss: 0.9000, Val Loss: 1.0697\n",
      "Baseline Loss: 4.0005 | Actual Loss: 0.9044\n",
      "Baseline Loss: 3.9901 | Actual Loss: 0.9623\n",
      "Baseline Loss: 4.0232 | Actual Loss: 0.9795\n",
      "Baseline Loss: 3.9033 | Actual Loss: 0.8247\n"
     ]
    },
    {
     "name": "stderr",
     "output_type": "stream",
     "text": [
      "Training:  37%|███▋      | 110/300 [01:53<03:29,  1.10s/it]"
     ]
    },
    {
     "name": "stdout",
     "output_type": "stream",
     "text": [
      "Baseline Loss: 3.9670 | Actual Loss: 0.9879\n",
      "Epoch 110/300: Train Loss: 0.9177, Val Loss: 0.9879\n",
      "Baseline Loss: 4.0005 | Actual Loss: 0.9993\n",
      "Baseline Loss: 4.0048 | Actual Loss: 1.0160\n",
      "Baseline Loss: 4.0079 | Actual Loss: 0.9054\n",
      "Baseline Loss: 3.8999 | Actual Loss: 0.8580\n"
     ]
    },
    {
     "name": "stderr",
     "output_type": "stream",
     "text": [
      "Training:  37%|███▋      | 111/300 [01:54<03:32,  1.12s/it]"
     ]
    },
    {
     "name": "stdout",
     "output_type": "stream",
     "text": [
      "Baseline Loss: 3.9670 | Actual Loss: 1.0044\n",
      "Epoch 111/300: Train Loss: 0.9447, Val Loss: 1.0044\n",
      "Baseline Loss: 4.0043 | Actual Loss: 0.8637\n",
      "Baseline Loss: 4.0047 | Actual Loss: 0.8744\n",
      "Baseline Loss: 4.0025 | Actual Loss: 0.9795\n",
      "Baseline Loss: 3.9118 | Actual Loss: 0.8050\n"
     ]
    },
    {
     "name": "stderr",
     "output_type": "stream",
     "text": [
      "Training:  37%|███▋      | 112/300 [01:55<03:41,  1.18s/it]"
     ]
    },
    {
     "name": "stdout",
     "output_type": "stream",
     "text": [
      "Baseline Loss: 3.9670 | Actual Loss: 0.9919\n",
      "Epoch 112/300: Train Loss: 0.8807, Val Loss: 0.9919\n",
      "Baseline Loss: 4.0022 | Actual Loss: 0.9498\n",
      "Baseline Loss: 4.0026 | Actual Loss: 0.8495\n",
      "Baseline Loss: 4.0061 | Actual Loss: 0.8705\n",
      "Baseline Loss: 3.8944 | Actual Loss: 0.9546\n"
     ]
    },
    {
     "name": "stderr",
     "output_type": "stream",
     "text": [
      "Training:  38%|███▊      | 113/300 [01:56<03:44,  1.20s/it]"
     ]
    },
    {
     "name": "stdout",
     "output_type": "stream",
     "text": [
      "Baseline Loss: 3.9670 | Actual Loss: 0.9480\n",
      "Epoch 113/300: Train Loss: 0.9061, Val Loss: 0.9480\n",
      "New best validation loss: 0.9480\n",
      "Baseline Loss: 3.9943 | Actual Loss: 0.9203\n",
      "Baseline Loss: 4.0066 | Actual Loss: 0.8188\n",
      "Baseline Loss: 4.0098 | Actual Loss: 1.0181\n"
     ]
    },
    {
     "name": "stderr",
     "output_type": "stream",
     "text": [
      "Training:  38%|███▊      | 114/300 [01:57<03:38,  1.17s/it]"
     ]
    },
    {
     "name": "stdout",
     "output_type": "stream",
     "text": [
      "Baseline Loss: 3.8922 | Actual Loss: 0.7483\n",
      "Baseline Loss: 3.9670 | Actual Loss: 1.0544\n",
      "Epoch 114/300: Train Loss: 0.8764, Val Loss: 1.0544\n",
      "Baseline Loss: 3.9926 | Actual Loss: 0.9493\n",
      "Baseline Loss: 4.0006 | Actual Loss: 0.7870\n",
      "Baseline Loss: 4.0083 | Actual Loss: 1.0235\n",
      "Baseline Loss: 3.9090 | Actual Loss: 0.9535\n"
     ]
    },
    {
     "name": "stderr",
     "output_type": "stream",
     "text": [
      "Training:  38%|███▊      | 115/300 [01:59<03:40,  1.19s/it]"
     ]
    },
    {
     "name": "stdout",
     "output_type": "stream",
     "text": [
      "Baseline Loss: 3.9670 | Actual Loss: 0.9702\n",
      "Epoch 115/300: Train Loss: 0.9283, Val Loss: 0.9702\n",
      "Baseline Loss: 4.0047 | Actual Loss: 0.8747\n",
      "Baseline Loss: 4.0030 | Actual Loss: 1.0175\n",
      "Baseline Loss: 3.9918 | Actual Loss: 0.7971\n",
      "Baseline Loss: 3.8968 | Actual Loss: 0.8080\n"
     ]
    },
    {
     "name": "stderr",
     "output_type": "stream",
     "text": [
      "Training:  39%|███▊      | 116/300 [02:00<03:36,  1.17s/it]"
     ]
    },
    {
     "name": "stdout",
     "output_type": "stream",
     "text": [
      "Baseline Loss: 3.9670 | Actual Loss: 0.9845\n",
      "Epoch 116/300: Train Loss: 0.8743, Val Loss: 0.9845\n",
      "Baseline Loss: 3.9947 | Actual Loss: 0.9522\n",
      "Baseline Loss: 4.0002 | Actual Loss: 0.9243\n",
      "Baseline Loss: 4.0238 | Actual Loss: 0.8736\n",
      "Baseline Loss: 3.9043 | Actual Loss: 0.6674\n"
     ]
    },
    {
     "name": "stderr",
     "output_type": "stream",
     "text": [
      "Training:  39%|███▉      | 117/300 [02:01<03:45,  1.23s/it]"
     ]
    },
    {
     "name": "stdout",
     "output_type": "stream",
     "text": [
      "Baseline Loss: 3.9670 | Actual Loss: 1.0024\n",
      "Epoch 117/300: Train Loss: 0.8544, Val Loss: 1.0024\n",
      "Baseline Loss: 4.0005 | Actual Loss: 0.8548\n",
      "Baseline Loss: 4.0019 | Actual Loss: 0.8942\n",
      "Baseline Loss: 3.9953 | Actual Loss: 0.9253\n",
      "Baseline Loss: 3.9108 | Actual Loss: 0.8112\n"
     ]
    },
    {
     "name": "stderr",
     "output_type": "stream",
     "text": [
      "Training:  39%|███▉      | 118/300 [02:02<03:35,  1.18s/it]"
     ]
    },
    {
     "name": "stdout",
     "output_type": "stream",
     "text": [
      "Baseline Loss: 3.9670 | Actual Loss: 1.0316\n",
      "Epoch 118/300: Train Loss: 0.8714, Val Loss: 1.0316\n",
      "Baseline Loss: 4.0082 | Actual Loss: 0.8631\n",
      "Baseline Loss: 3.9938 | Actual Loss: 0.8272\n",
      "Baseline Loss: 4.0039 | Actual Loss: 0.8710\n"
     ]
    },
    {
     "name": "stderr",
     "output_type": "stream",
     "text": [
      "Training:  40%|███▉      | 119/300 [02:03<03:27,  1.15s/it]"
     ]
    },
    {
     "name": "stdout",
     "output_type": "stream",
     "text": [
      "Baseline Loss: 3.9002 | Actual Loss: 0.8050\n",
      "Baseline Loss: 3.9670 | Actual Loss: 1.0495\n",
      "Epoch 119/300: Train Loss: 0.8416, Val Loss: 1.0495\n",
      "Baseline Loss: 3.9940 | Actual Loss: 0.8761\n",
      "Baseline Loss: 3.9878 | Actual Loss: 0.7916\n",
      "Baseline Loss: 4.0062 | Actual Loss: 1.0578\n",
      "Baseline Loss: 3.9239 | Actual Loss: 0.9191\n"
     ]
    },
    {
     "name": "stderr",
     "output_type": "stream",
     "text": [
      "Training:  40%|████      | 120/300 [02:04<03:25,  1.14s/it]"
     ]
    },
    {
     "name": "stdout",
     "output_type": "stream",
     "text": [
      "Baseline Loss: 3.9670 | Actual Loss: 0.9968\n",
      "Epoch 120/300: Train Loss: 0.9112, Val Loss: 0.9968\n",
      "Baseline Loss: 3.9938 | Actual Loss: 0.8315\n",
      "Baseline Loss: 4.0168 | Actual Loss: 0.8721\n",
      "Baseline Loss: 3.9959 | Actual Loss: 0.8189\n",
      "Baseline Loss: 3.9040 | Actual Loss: 0.8193\n"
     ]
    },
    {
     "name": "stderr",
     "output_type": "stream",
     "text": [
      "Training:  40%|████      | 121/300 [02:06<03:23,  1.14s/it]"
     ]
    },
    {
     "name": "stdout",
     "output_type": "stream",
     "text": [
      "Baseline Loss: 3.9670 | Actual Loss: 0.9786\n",
      "Epoch 121/300: Train Loss: 0.8354, Val Loss: 0.9786\n",
      "Baseline Loss: 4.0214 | Actual Loss: 0.7995\n",
      "Baseline Loss: 3.9976 | Actual Loss: 0.8410\n",
      "Baseline Loss: 3.9932 | Actual Loss: 0.8485\n",
      "Baseline Loss: 3.9130 | Actual Loss: 0.9695\n"
     ]
    },
    {
     "name": "stderr",
     "output_type": "stream",
     "text": [
      "Training:  41%|████      | 122/300 [02:07<03:24,  1.15s/it]"
     ]
    },
    {
     "name": "stdout",
     "output_type": "stream",
     "text": [
      "Baseline Loss: 3.9670 | Actual Loss: 1.0099\n",
      "Epoch 122/300: Train Loss: 0.8646, Val Loss: 1.0099\n",
      "Baseline Loss: 3.9997 | Actual Loss: 0.8696\n",
      "Baseline Loss: 4.0031 | Actual Loss: 0.7905\n",
      "Baseline Loss: 3.9916 | Actual Loss: 0.8363\n",
      "Baseline Loss: 3.9107 | Actual Loss: 0.9668\n"
     ]
    },
    {
     "name": "stderr",
     "output_type": "stream",
     "text": [
      "Training:  41%|████      | 123/300 [02:08<03:28,  1.18s/it]"
     ]
    },
    {
     "name": "stdout",
     "output_type": "stream",
     "text": [
      "Baseline Loss: 3.9670 | Actual Loss: 0.9557\n",
      "Epoch 123/300: Train Loss: 0.8658, Val Loss: 0.9557\n",
      "Baseline Loss: 4.0004 | Actual Loss: 0.8877\n",
      "Baseline Loss: 4.0030 | Actual Loss: 0.9659\n",
      "Baseline Loss: 4.0074 | Actual Loss: 1.0015\n"
     ]
    },
    {
     "name": "stderr",
     "output_type": "stream",
     "text": [
      "Training:  41%|████▏     | 124/300 [02:09<03:28,  1.18s/it]"
     ]
    },
    {
     "name": "stdout",
     "output_type": "stream",
     "text": [
      "Baseline Loss: 3.9013 | Actual Loss: 0.7142\n",
      "Baseline Loss: 3.9670 | Actual Loss: 0.9471\n",
      "Epoch 124/300: Train Loss: 0.8923, Val Loss: 0.9471\n",
      "New best validation loss: 0.9471\n",
      "Baseline Loss: 3.9866 | Actual Loss: 0.8629\n",
      "Baseline Loss: 4.0074 | Actual Loss: 0.9010\n",
      "Baseline Loss: 4.0190 | Actual Loss: 0.7908\n",
      "Baseline Loss: 3.8937 | Actual Loss: 0.7233\n"
     ]
    },
    {
     "name": "stderr",
     "output_type": "stream",
     "text": [
      "Training:  42%|████▏     | 125/300 [02:10<03:29,  1.20s/it]"
     ]
    },
    {
     "name": "stdout",
     "output_type": "stream",
     "text": [
      "Baseline Loss: 3.9670 | Actual Loss: 0.9850\n",
      "Epoch 125/300: Train Loss: 0.8195, Val Loss: 0.9850\n",
      "Baseline Loss: 3.9854 | Actual Loss: 0.9210\n",
      "Baseline Loss: 4.0123 | Actual Loss: 0.8310\n",
      "Baseline Loss: 4.0140 | Actual Loss: 0.9264\n",
      "Baseline Loss: 3.9011 | Actual Loss: 0.8292\n",
      "Baseline Loss: 3.9670 | Actual Loss: 0.9993\n"
     ]
    },
    {
     "name": "stderr",
     "output_type": "stream",
     "text": [
      "Training:  42%|████▏     | 126/300 [02:12<03:26,  1.19s/it]"
     ]
    },
    {
     "name": "stdout",
     "output_type": "stream",
     "text": [
      "Epoch 126/300: Train Loss: 0.8769, Val Loss: 0.9993\n",
      "Baseline Loss: 3.9852 | Actual Loss: 0.7356\n",
      "Baseline Loss: 3.9980 | Actual Loss: 0.8953\n",
      "Baseline Loss: 4.0103 | Actual Loss: 0.8278\n",
      "Baseline Loss: 3.9117 | Actual Loss: 0.8558\n"
     ]
    },
    {
     "name": "stderr",
     "output_type": "stream",
     "text": [
      "Training:  42%|████▏     | 127/300 [02:13<03:27,  1.20s/it]"
     ]
    },
    {
     "name": "stdout",
     "output_type": "stream",
     "text": [
      "Baseline Loss: 3.9670 | Actual Loss: 0.9179\n",
      "Epoch 127/300: Train Loss: 0.8286, Val Loss: 0.9179\n",
      "New best validation loss: 0.9179\n",
      "Baseline Loss: 4.0034 | Actual Loss: 0.8157\n",
      "Baseline Loss: 3.9938 | Actual Loss: 0.7959\n",
      "Baseline Loss: 4.0173 | Actual Loss: 0.8703\n",
      "Baseline Loss: 3.8870 | Actual Loss: 0.6884\n"
     ]
    },
    {
     "name": "stderr",
     "output_type": "stream",
     "text": [
      "Training:  43%|████▎     | 128/300 [02:14<03:28,  1.21s/it]"
     ]
    },
    {
     "name": "stdout",
     "output_type": "stream",
     "text": [
      "Baseline Loss: 3.9670 | Actual Loss: 1.0096\n",
      "Epoch 128/300: Train Loss: 0.7926, Val Loss: 1.0096\n",
      "Baseline Loss: 4.0008 | Actual Loss: 0.8098\n",
      "Baseline Loss: 3.9874 | Actual Loss: 0.7826\n",
      "Baseline Loss: 4.0074 | Actual Loss: 0.7701\n",
      "Baseline Loss: 3.9199 | Actual Loss: 0.8044\n"
     ]
    },
    {
     "name": "stderr",
     "output_type": "stream",
     "text": [
      "Training:  43%|████▎     | 129/300 [02:15<03:27,  1.21s/it]"
     ]
    },
    {
     "name": "stdout",
     "output_type": "stream",
     "text": [
      "Baseline Loss: 3.9670 | Actual Loss: 0.9307\n",
      "Epoch 129/300: Train Loss: 0.7917, Val Loss: 0.9307\n",
      "Baseline Loss: 4.0002 | Actual Loss: 0.7806\n",
      "Baseline Loss: 3.9930 | Actual Loss: 0.8646\n",
      "Baseline Loss: 4.0113 | Actual Loss: 0.7919\n",
      "Baseline Loss: 3.9072 | Actual Loss: 0.8365\n"
     ]
    },
    {
     "name": "stderr",
     "output_type": "stream",
     "text": [
      "Training:  43%|████▎     | 130/300 [02:17<03:28,  1.23s/it]"
     ]
    },
    {
     "name": "stdout",
     "output_type": "stream",
     "text": [
      "Baseline Loss: 3.9670 | Actual Loss: 0.9855\n",
      "Epoch 130/300: Train Loss: 0.8184, Val Loss: 0.9855\n",
      "Baseline Loss: 3.9893 | Actual Loss: 0.8125\n",
      "Baseline Loss: 4.0081 | Actual Loss: 0.8471\n",
      "Baseline Loss: 3.9989 | Actual Loss: 0.9896\n",
      "Baseline Loss: 3.9216 | Actual Loss: 0.6688\n"
     ]
    },
    {
     "name": "stderr",
     "output_type": "stream",
     "text": [
      "Training:  44%|████▎     | 131/300 [02:18<03:22,  1.20s/it]"
     ]
    },
    {
     "name": "stdout",
     "output_type": "stream",
     "text": [
      "Baseline Loss: 3.9670 | Actual Loss: 0.9635\n",
      "Epoch 131/300: Train Loss: 0.8295, Val Loss: 0.9635\n",
      "Baseline Loss: 3.9914 | Actual Loss: 0.7750\n",
      "Baseline Loss: 4.0064 | Actual Loss: 0.8946\n",
      "Baseline Loss: 4.0086 | Actual Loss: 0.8422\n",
      "Baseline Loss: 3.9009 | Actual Loss: 0.7996\n"
     ]
    },
    {
     "name": "stderr",
     "output_type": "stream",
     "text": [
      "Training:  44%|████▍     | 132/300 [02:19<03:17,  1.17s/it]"
     ]
    },
    {
     "name": "stdout",
     "output_type": "stream",
     "text": [
      "Baseline Loss: 3.9670 | Actual Loss: 0.9912\n",
      "Epoch 132/300: Train Loss: 0.8278, Val Loss: 0.9912\n",
      "Baseline Loss: 3.9907 | Actual Loss: 0.8723\n",
      "Baseline Loss: 4.0074 | Actual Loss: 0.8698\n",
      "Baseline Loss: 3.9986 | Actual Loss: 0.9378\n",
      "Baseline Loss: 3.9164 | Actual Loss: 0.6552\n"
     ]
    },
    {
     "name": "stderr",
     "output_type": "stream",
     "text": [
      "Training:  44%|████▍     | 133/300 [02:20<03:08,  1.13s/it]"
     ]
    },
    {
     "name": "stdout",
     "output_type": "stream",
     "text": [
      "Baseline Loss: 3.9670 | Actual Loss: 0.9877\n",
      "Epoch 133/300: Train Loss: 0.8338, Val Loss: 0.9877\n",
      "Baseline Loss: 4.0024 | Actual Loss: 0.8330\n",
      "Baseline Loss: 3.9852 | Actual Loss: 0.8473\n",
      "Baseline Loss: 4.0142 | Actual Loss: 0.8529\n",
      "Baseline Loss: 3.9097 | Actual Loss: 0.6528\n"
     ]
    },
    {
     "name": "stderr",
     "output_type": "stream",
     "text": [
      "Training:  45%|████▍     | 134/300 [02:21<03:12,  1.16s/it]"
     ]
    },
    {
     "name": "stdout",
     "output_type": "stream",
     "text": [
      "Baseline Loss: 3.9670 | Actual Loss: 0.9464\n",
      "Epoch 134/300: Train Loss: 0.7965, Val Loss: 0.9464\n",
      "Baseline Loss: 3.9920 | Actual Loss: 0.8622\n",
      "Baseline Loss: 3.9995 | Actual Loss: 0.8921\n",
      "Baseline Loss: 4.0205 | Actual Loss: 0.8847\n",
      "Baseline Loss: 3.9077 | Actual Loss: 0.7375\n"
     ]
    },
    {
     "name": "stderr",
     "output_type": "stream",
     "text": [
      "Training:  45%|████▌     | 135/300 [02:22<03:10,  1.16s/it]"
     ]
    },
    {
     "name": "stdout",
     "output_type": "stream",
     "text": [
      "Baseline Loss: 3.9670 | Actual Loss: 0.9343\n",
      "Epoch 135/300: Train Loss: 0.8441, Val Loss: 0.9343\n",
      "Baseline Loss: 3.9968 | Actual Loss: 0.8292\n",
      "Baseline Loss: 4.0148 | Actual Loss: 0.7832\n",
      "Baseline Loss: 3.9904 | Actual Loss: 0.9313\n",
      "Baseline Loss: 3.9074 | Actual Loss: 0.9186\n"
     ]
    },
    {
     "name": "stderr",
     "output_type": "stream",
     "text": [
      "Training:  45%|████▌     | 136/300 [02:23<03:10,  1.16s/it]"
     ]
    },
    {
     "name": "stdout",
     "output_type": "stream",
     "text": [
      "Baseline Loss: 3.9670 | Actual Loss: 0.9591\n",
      "Epoch 136/300: Train Loss: 0.8656, Val Loss: 0.9591\n",
      "Baseline Loss: 3.9986 | Actual Loss: 0.8437\n",
      "Baseline Loss: 4.0125 | Actual Loss: 0.7535\n",
      "Baseline Loss: 4.0000 | Actual Loss: 0.8146\n",
      "Baseline Loss: 3.9011 | Actual Loss: 0.9705\n"
     ]
    },
    {
     "name": "stderr",
     "output_type": "stream",
     "text": [
      "Training:  46%|████▌     | 137/300 [02:25<03:12,  1.18s/it]"
     ]
    },
    {
     "name": "stdout",
     "output_type": "stream",
     "text": [
      "Baseline Loss: 3.9670 | Actual Loss: 0.9599\n",
      "Epoch 137/300: Train Loss: 0.8455, Val Loss: 0.9599\n",
      "Baseline Loss: 3.9979 | Actual Loss: 0.6590\n",
      "Baseline Loss: 4.0048 | Actual Loss: 0.9163\n",
      "Baseline Loss: 4.0022 | Actual Loss: 0.9203\n",
      "Baseline Loss: 3.9001 | Actual Loss: 0.8064\n"
     ]
    },
    {
     "name": "stderr",
     "output_type": "stream",
     "text": [
      "Training:  46%|████▌     | 138/300 [02:26<03:07,  1.16s/it]"
     ]
    },
    {
     "name": "stdout",
     "output_type": "stream",
     "text": [
      "Baseline Loss: 3.9670 | Actual Loss: 0.9131\n",
      "Epoch 138/300: Train Loss: 0.8255, Val Loss: 0.9131\n",
      "New best validation loss: 0.9131\n",
      "Baseline Loss: 3.9904 | Actual Loss: 0.8578\n",
      "Baseline Loss: 3.9955 | Actual Loss: 0.8261\n",
      "Baseline Loss: 4.0162 | Actual Loss: 0.8079\n",
      "Baseline Loss: 3.9076 | Actual Loss: 0.9364\n"
     ]
    },
    {
     "name": "stderr",
     "output_type": "stream",
     "text": [
      "Training:  46%|████▋     | 139/300 [02:27<03:02,  1.13s/it]"
     ]
    },
    {
     "name": "stdout",
     "output_type": "stream",
     "text": [
      "Baseline Loss: 3.9670 | Actual Loss: 0.9215\n",
      "Epoch 139/300: Train Loss: 0.8570, Val Loss: 0.9215\n",
      "Baseline Loss: 4.0142 | Actual Loss: 0.7975\n",
      "Baseline Loss: 3.9967 | Actual Loss: 0.8114\n",
      "Baseline Loss: 4.0037 | Actual Loss: 0.7233\n",
      "Baseline Loss: 3.8898 | Actual Loss: 0.8060\n"
     ]
    },
    {
     "name": "stderr",
     "output_type": "stream",
     "text": [
      "Training:  47%|████▋     | 140/300 [02:28<02:59,  1.12s/it]"
     ]
    },
    {
     "name": "stdout",
     "output_type": "stream",
     "text": [
      "Baseline Loss: 3.9670 | Actual Loss: 0.9571\n",
      "Epoch 140/300: Train Loss: 0.7846, Val Loss: 0.9571\n",
      "Baseline Loss: 4.0045 | Actual Loss: 0.9139\n",
      "Baseline Loss: 4.0058 | Actual Loss: 0.7390\n",
      "Baseline Loss: 3.9937 | Actual Loss: 0.8659\n",
      "Baseline Loss: 3.9044 | Actual Loss: 0.7151\n"
     ]
    },
    {
     "name": "stderr",
     "output_type": "stream",
     "text": [
      "Training:  47%|████▋     | 141/300 [02:29<03:05,  1.16s/it]"
     ]
    },
    {
     "name": "stdout",
     "output_type": "stream",
     "text": [
      "Baseline Loss: 3.9670 | Actual Loss: 0.9528\n",
      "Epoch 141/300: Train Loss: 0.8085, Val Loss: 0.9528\n",
      "Baseline Loss: 3.9962 | Actual Loss: 0.7645\n",
      "Baseline Loss: 4.0021 | Actual Loss: 0.7255\n",
      "Baseline Loss: 4.0020 | Actual Loss: 0.8465\n",
      "Baseline Loss: 3.9049 | Actual Loss: 0.8104\n"
     ]
    },
    {
     "name": "stderr",
     "output_type": "stream",
     "text": [
      "Training:  47%|████▋     | 142/300 [02:30<03:05,  1.17s/it]"
     ]
    },
    {
     "name": "stdout",
     "output_type": "stream",
     "text": [
      "Baseline Loss: 3.9670 | Actual Loss: 1.0055\n",
      "Epoch 142/300: Train Loss: 0.7867, Val Loss: 1.0055\n",
      "Baseline Loss: 4.0052 | Actual Loss: 0.8588\n",
      "Baseline Loss: 4.0098 | Actual Loss: 0.7372\n",
      "Baseline Loss: 3.9867 | Actual Loss: 0.6742\n",
      "Baseline Loss: 3.9155 | Actual Loss: 0.7604\n"
     ]
    },
    {
     "name": "stderr",
     "output_type": "stream",
     "text": [
      "Training:  48%|████▊     | 143/300 [02:31<02:58,  1.14s/it]"
     ]
    },
    {
     "name": "stdout",
     "output_type": "stream",
     "text": [
      "Baseline Loss: 3.9670 | Actual Loss: 0.9138\n",
      "Epoch 143/300: Train Loss: 0.7577, Val Loss: 0.9138\n",
      "Baseline Loss: 3.9887 | Actual Loss: 0.7796\n",
      "Baseline Loss: 4.0051 | Actual Loss: 0.8630\n",
      "Baseline Loss: 4.0095 | Actual Loss: 0.7585\n"
     ]
    },
    {
     "name": "stderr",
     "output_type": "stream",
     "text": [
      "Training:  48%|████▊     | 144/300 [02:32<02:54,  1.12s/it]"
     ]
    },
    {
     "name": "stdout",
     "output_type": "stream",
     "text": [
      "Baseline Loss: 3.9078 | Actual Loss: 0.7953\n",
      "Baseline Loss: 3.9670 | Actual Loss: 1.0097\n",
      "Epoch 144/300: Train Loss: 0.7991, Val Loss: 1.0097\n",
      "Baseline Loss: 3.9892 | Actual Loss: 0.7945\n",
      "Baseline Loss: 4.0003 | Actual Loss: 0.7515\n",
      "Baseline Loss: 4.0098 | Actual Loss: 0.8133\n",
      "Baseline Loss: 3.9136 | Actual Loss: 0.7326\n"
     ]
    },
    {
     "name": "stderr",
     "output_type": "stream",
     "text": [
      "Training:  48%|████▊     | 145/300 [02:34<02:52,  1.12s/it]"
     ]
    },
    {
     "name": "stdout",
     "output_type": "stream",
     "text": [
      "Baseline Loss: 3.9670 | Actual Loss: 0.9139\n",
      "Epoch 145/300: Train Loss: 0.7730, Val Loss: 0.9139\n",
      "Baseline Loss: 3.9898 | Actual Loss: 0.8848\n",
      "Baseline Loss: 4.0017 | Actual Loss: 0.7802\n",
      "Baseline Loss: 4.0068 | Actual Loss: 0.6534\n",
      "Baseline Loss: 3.9014 | Actual Loss: 0.8607\n"
     ]
    },
    {
     "name": "stderr",
     "output_type": "stream",
     "text": [
      "Training:  49%|████▊     | 146/300 [02:35<02:58,  1.16s/it]"
     ]
    },
    {
     "name": "stdout",
     "output_type": "stream",
     "text": [
      "Baseline Loss: 3.9670 | Actual Loss: 0.9405\n",
      "Epoch 146/300: Train Loss: 0.7948, Val Loss: 0.9405\n",
      "Baseline Loss: 4.0077 | Actual Loss: 0.7779\n",
      "Baseline Loss: 3.9957 | Actual Loss: 0.7036\n",
      "Baseline Loss: 4.0059 | Actual Loss: 0.8362\n",
      "Baseline Loss: 3.9128 | Actual Loss: 0.7793\n"
     ]
    },
    {
     "name": "stderr",
     "output_type": "stream",
     "text": [
      "Training:  49%|████▉     | 147/300 [02:36<02:55,  1.15s/it]"
     ]
    },
    {
     "name": "stdout",
     "output_type": "stream",
     "text": [
      "Baseline Loss: 3.9670 | Actual Loss: 0.8346\n",
      "Epoch 147/300: Train Loss: 0.7743, Val Loss: 0.8346\n",
      "New best validation loss: 0.8346\n",
      "Baseline Loss: 3.9958 | Actual Loss: 0.7020\n",
      "Baseline Loss: 3.9967 | Actual Loss: 0.8144\n",
      "Baseline Loss: 4.0034 | Actual Loss: 0.8070\n",
      "Baseline Loss: 3.9249 | Actual Loss: 0.8138\n"
     ]
    },
    {
     "name": "stderr",
     "output_type": "stream",
     "text": [
      "Training:  49%|████▉     | 148/300 [02:37<02:57,  1.17s/it]"
     ]
    },
    {
     "name": "stdout",
     "output_type": "stream",
     "text": [
      "Baseline Loss: 3.9670 | Actual Loss: 0.9227\n",
      "Epoch 148/300: Train Loss: 0.7843, Val Loss: 0.9227\n",
      "Baseline Loss: 4.0100 | Actual Loss: 0.8176\n",
      "Baseline Loss: 3.9949 | Actual Loss: 0.7332\n",
      "Baseline Loss: 4.0092 | Actual Loss: 0.7941\n",
      "Baseline Loss: 3.9080 | Actual Loss: 0.8163\n"
     ]
    },
    {
     "name": "stderr",
     "output_type": "stream",
     "text": [
      "Training:  50%|████▉     | 149/300 [02:38<02:59,  1.19s/it]"
     ]
    },
    {
     "name": "stdout",
     "output_type": "stream",
     "text": [
      "Baseline Loss: 3.9670 | Actual Loss: 0.8972\n",
      "Epoch 149/300: Train Loss: 0.7903, Val Loss: 0.8972\n",
      "Baseline Loss: 4.0097 | Actual Loss: 0.7339\n",
      "Baseline Loss: 3.9968 | Actual Loss: 0.7797\n",
      "Baseline Loss: 3.9983 | Actual Loss: 0.7780\n",
      "Baseline Loss: 3.9133 | Actual Loss: 0.7116\n"
     ]
    },
    {
     "name": "stderr",
     "output_type": "stream",
     "text": [
      "Training:  50%|█████     | 150/300 [02:40<03:01,  1.21s/it]"
     ]
    },
    {
     "name": "stdout",
     "output_type": "stream",
     "text": [
      "Baseline Loss: 3.9670 | Actual Loss: 0.8953\n",
      "Epoch 150/300: Train Loss: 0.7508, Val Loss: 0.8953\n",
      "Baseline Loss: 4.0017 | Actual Loss: 0.8213\n",
      "Baseline Loss: 3.9927 | Actual Loss: 0.7521\n",
      "Baseline Loss: 3.9976 | Actual Loss: 0.7860\n",
      "Baseline Loss: 3.9198 | Actual Loss: 0.8784\n"
     ]
    },
    {
     "name": "stderr",
     "output_type": "stream",
     "text": [
      "Training:  50%|█████     | 151/300 [02:41<03:02,  1.23s/it]"
     ]
    },
    {
     "name": "stdout",
     "output_type": "stream",
     "text": [
      "Baseline Loss: 3.9670 | Actual Loss: 0.9092\n",
      "Epoch 151/300: Train Loss: 0.8095, Val Loss: 0.9092\n",
      "Baseline Loss: 3.9988 | Actual Loss: 0.7276\n",
      "Baseline Loss: 4.0076 | Actual Loss: 0.7258\n",
      "Baseline Loss: 4.0100 | Actual Loss: 0.8589\n",
      "Baseline Loss: 3.8943 | Actual Loss: 0.6936\n"
     ]
    },
    {
     "name": "stderr",
     "output_type": "stream",
     "text": [
      "Training:  51%|█████     | 152/300 [02:42<02:53,  1.17s/it]"
     ]
    },
    {
     "name": "stdout",
     "output_type": "stream",
     "text": [
      "Baseline Loss: 3.9670 | Actual Loss: 0.9523\n",
      "Epoch 152/300: Train Loss: 0.7515, Val Loss: 0.9523\n",
      "Baseline Loss: 4.0012 | Actual Loss: 0.7557\n",
      "Baseline Loss: 3.9971 | Actual Loss: 0.7423\n",
      "Baseline Loss: 4.0071 | Actual Loss: 0.9713\n",
      "Baseline Loss: 3.9017 | Actual Loss: 0.8771\n"
     ]
    },
    {
     "name": "stderr",
     "output_type": "stream",
     "text": [
      "Training:  51%|█████     | 153/300 [02:43<02:54,  1.19s/it]"
     ]
    },
    {
     "name": "stdout",
     "output_type": "stream",
     "text": [
      "Baseline Loss: 3.9670 | Actual Loss: 0.9589\n",
      "Epoch 153/300: Train Loss: 0.8366, Val Loss: 0.9589\n",
      "Baseline Loss: 3.9982 | Actual Loss: 0.9566\n",
      "Baseline Loss: 4.0105 | Actual Loss: 0.6808\n",
      "Baseline Loss: 4.0048 | Actual Loss: 0.7879\n",
      "Baseline Loss: 3.9181 | Actual Loss: 0.6816\n",
      "Baseline Loss: 3.9670 | Actual Loss: 0.9346\n"
     ]
    },
    {
     "name": "stderr",
     "output_type": "stream",
     "text": [
      "Training:  51%|█████▏    | 154/300 [02:44<02:53,  1.19s/it]"
     ]
    },
    {
     "name": "stdout",
     "output_type": "stream",
     "text": [
      "Epoch 154/300: Train Loss: 0.7767, Val Loss: 0.9346\n",
      "Baseline Loss: 4.0079 | Actual Loss: 0.8344\n",
      "Baseline Loss: 4.0069 | Actual Loss: 0.7695\n",
      "Baseline Loss: 3.9896 | Actual Loss: 0.8906\n",
      "Baseline Loss: 3.9048 | Actual Loss: 0.7967\n"
     ]
    },
    {
     "name": "stderr",
     "output_type": "stream",
     "text": [
      "Training:  52%|█████▏    | 155/300 [02:46<02:51,  1.18s/it]"
     ]
    },
    {
     "name": "stdout",
     "output_type": "stream",
     "text": [
      "Baseline Loss: 3.9670 | Actual Loss: 0.9420\n",
      "Epoch 155/300: Train Loss: 0.8228, Val Loss: 0.9420\n",
      "Baseline Loss: 4.0049 | Actual Loss: 0.9108\n",
      "Baseline Loss: 4.0035 | Actual Loss: 0.7729\n",
      "Baseline Loss: 3.9964 | Actual Loss: 0.8252\n",
      "Baseline Loss: 3.9078 | Actual Loss: 0.8623\n"
     ]
    },
    {
     "name": "stderr",
     "output_type": "stream",
     "text": [
      "Training:  52%|█████▏    | 156/300 [02:47<02:50,  1.18s/it]"
     ]
    },
    {
     "name": "stdout",
     "output_type": "stream",
     "text": [
      "Baseline Loss: 3.9670 | Actual Loss: 0.8814\n",
      "Epoch 156/300: Train Loss: 0.8428, Val Loss: 0.8814\n",
      "Baseline Loss: 4.0127 | Actual Loss: 0.7093\n",
      "Baseline Loss: 4.0011 | Actual Loss: 0.8047\n",
      "Baseline Loss: 4.0096 | Actual Loss: 0.7628\n",
      "Baseline Loss: 3.9025 | Actual Loss: 0.6620\n"
     ]
    },
    {
     "name": "stderr",
     "output_type": "stream",
     "text": [
      "Training:  52%|█████▏    | 157/300 [02:48<02:42,  1.14s/it]"
     ]
    },
    {
     "name": "stdout",
     "output_type": "stream",
     "text": [
      "Baseline Loss: 3.9670 | Actual Loss: 1.0030\n",
      "Epoch 157/300: Train Loss: 0.7347, Val Loss: 1.0030\n",
      "Baseline Loss: 4.0138 | Actual Loss: 0.8316\n",
      "Baseline Loss: 4.0075 | Actual Loss: 0.7788\n",
      "Baseline Loss: 3.9951 | Actual Loss: 0.7037\n",
      "Baseline Loss: 3.9021 | Actual Loss: 0.7981\n"
     ]
    },
    {
     "name": "stderr",
     "output_type": "stream",
     "text": [
      "Training:  53%|█████▎    | 158/300 [02:49<02:42,  1.14s/it]"
     ]
    },
    {
     "name": "stdout",
     "output_type": "stream",
     "text": [
      "Baseline Loss: 3.9670 | Actual Loss: 0.9115\n",
      "Epoch 158/300: Train Loss: 0.7781, Val Loss: 0.9115\n",
      "Baseline Loss: 4.0011 | Actual Loss: 0.8081\n",
      "Baseline Loss: 3.9923 | Actual Loss: 0.8721\n",
      "Baseline Loss: 3.9969 | Actual Loss: 0.7202\n",
      "Baseline Loss: 3.9227 | Actual Loss: 0.6643\n"
     ]
    },
    {
     "name": "stderr",
     "output_type": "stream",
     "text": [
      "Training:  53%|█████▎    | 159/300 [02:50<02:44,  1.17s/it]"
     ]
    },
    {
     "name": "stdout",
     "output_type": "stream",
     "text": [
      "Baseline Loss: 3.9670 | Actual Loss: 0.9068\n",
      "Epoch 159/300: Train Loss: 0.7662, Val Loss: 0.9068\n",
      "Baseline Loss: 3.9946 | Actual Loss: 0.7774\n",
      "Baseline Loss: 3.9913 | Actual Loss: 0.6934\n",
      "Baseline Loss: 4.0036 | Actual Loss: 0.8234\n",
      "Baseline Loss: 3.9358 | Actual Loss: 0.7353\n"
     ]
    },
    {
     "name": "stderr",
     "output_type": "stream",
     "text": [
      "Training:  53%|█████▎    | 160/300 [02:52<02:51,  1.22s/it]"
     ]
    },
    {
     "name": "stdout",
     "output_type": "stream",
     "text": [
      "Baseline Loss: 3.9670 | Actual Loss: 0.8971\n",
      "Epoch 160/300: Train Loss: 0.7574, Val Loss: 0.8971\n",
      "Baseline Loss: 3.9968 | Actual Loss: 0.7429\n",
      "Baseline Loss: 3.9952 | Actual Loss: 0.9002\n",
      "Baseline Loss: 4.0030 | Actual Loss: 0.8329\n",
      "Baseline Loss: 3.9073 | Actual Loss: 0.6097\n"
     ]
    },
    {
     "name": "stderr",
     "output_type": "stream",
     "text": [
      "Training:  54%|█████▎    | 161/300 [02:53<02:46,  1.19s/it]"
     ]
    },
    {
     "name": "stdout",
     "output_type": "stream",
     "text": [
      "Baseline Loss: 3.9670 | Actual Loss: 0.9260\n",
      "Epoch 161/300: Train Loss: 0.7714, Val Loss: 0.9260\n",
      "Baseline Loss: 3.9906 | Actual Loss: 0.6578\n",
      "Baseline Loss: 3.9959 | Actual Loss: 0.8757\n",
      "Baseline Loss: 4.0140 | Actual Loss: 0.8102\n",
      "Baseline Loss: 3.9118 | Actual Loss: 0.7480\n"
     ]
    },
    {
     "name": "stderr",
     "output_type": "stream",
     "text": [
      "Training:  54%|█████▍    | 162/300 [02:54<02:42,  1.17s/it]"
     ]
    },
    {
     "name": "stdout",
     "output_type": "stream",
     "text": [
      "Baseline Loss: 3.9670 | Actual Loss: 0.9900\n",
      "Epoch 162/300: Train Loss: 0.7729, Val Loss: 0.9900\n",
      "Baseline Loss: 3.9925 | Actual Loss: 0.8400\n",
      "Baseline Loss: 4.0083 | Actual Loss: 0.7321\n",
      "Baseline Loss: 4.0084 | Actual Loss: 0.7765\n",
      "Baseline Loss: 3.9123 | Actual Loss: 0.8266\n"
     ]
    },
    {
     "name": "stderr",
     "output_type": "stream",
     "text": [
      "Training:  54%|█████▍    | 163/300 [02:55<02:37,  1.15s/it]"
     ]
    },
    {
     "name": "stdout",
     "output_type": "stream",
     "text": [
      "Baseline Loss: 3.9670 | Actual Loss: 0.9316\n",
      "Epoch 163/300: Train Loss: 0.7938, Val Loss: 0.9316\n",
      "Baseline Loss: 4.0038 | Actual Loss: 0.7882\n",
      "Baseline Loss: 3.9949 | Actual Loss: 0.7286\n",
      "Baseline Loss: 4.0103 | Actual Loss: 0.6970\n",
      "Baseline Loss: 3.9200 | Actual Loss: 0.6657\n"
     ]
    },
    {
     "name": "stderr",
     "output_type": "stream",
     "text": [
      "Training:  55%|█████▍    | 164/300 [02:56<02:40,  1.18s/it]"
     ]
    },
    {
     "name": "stdout",
     "output_type": "stream",
     "text": [
      "Baseline Loss: 3.9670 | Actual Loss: 0.9429\n",
      "Epoch 164/300: Train Loss: 0.7199, Val Loss: 0.9429\n",
      "Baseline Loss: 3.9925 | Actual Loss: 0.6662\n",
      "Baseline Loss: 4.0054 | Actual Loss: 0.6866\n",
      "Baseline Loss: 4.0050 | Actual Loss: 0.7483\n",
      "Baseline Loss: 3.8962 | Actual Loss: 0.8670\n"
     ]
    },
    {
     "name": "stderr",
     "output_type": "stream",
     "text": [
      "Training:  55%|█████▌    | 165/300 [02:57<02:37,  1.16s/it]"
     ]
    },
    {
     "name": "stdout",
     "output_type": "stream",
     "text": [
      "Baseline Loss: 3.9670 | Actual Loss: 0.9040\n",
      "Epoch 165/300: Train Loss: 0.7420, Val Loss: 0.9040\n",
      "Baseline Loss: 3.9985 | Actual Loss: 0.7920\n",
      "Baseline Loss: 4.0103 | Actual Loss: 0.7031\n",
      "Baseline Loss: 3.9982 | Actual Loss: 0.7758\n",
      "Baseline Loss: 3.9188 | Actual Loss: 0.7794\n"
     ]
    },
    {
     "name": "stderr",
     "output_type": "stream",
     "text": [
      "Training:  55%|█████▌    | 166/300 [02:58<02:37,  1.18s/it]"
     ]
    },
    {
     "name": "stdout",
     "output_type": "stream",
     "text": [
      "Baseline Loss: 3.9670 | Actual Loss: 0.8692\n",
      "Epoch 166/300: Train Loss: 0.7626, Val Loss: 0.8692\n",
      "Baseline Loss: 3.9873 | Actual Loss: 0.8133\n",
      "Baseline Loss: 4.0078 | Actual Loss: 0.7539\n",
      "Baseline Loss: 4.0078 | Actual Loss: 0.7363\n",
      "Baseline Loss: 3.9038 | Actual Loss: 0.7009\n"
     ]
    },
    {
     "name": "stderr",
     "output_type": "stream",
     "text": [
      "Training:  56%|█████▌    | 167/300 [03:00<02:36,  1.17s/it]"
     ]
    },
    {
     "name": "stdout",
     "output_type": "stream",
     "text": [
      "Baseline Loss: 3.9670 | Actual Loss: 0.8895\n",
      "Epoch 167/300: Train Loss: 0.7511, Val Loss: 0.8895\n",
      "Baseline Loss: 3.9998 | Actual Loss: 0.8824\n",
      "Baseline Loss: 4.0084 | Actual Loss: 0.7627\n",
      "Baseline Loss: 4.0002 | Actual Loss: 0.6910\n",
      "Baseline Loss: 3.8956 | Actual Loss: 0.8119\n"
     ]
    },
    {
     "name": "stderr",
     "output_type": "stream",
     "text": [
      "Training:  56%|█████▌    | 168/300 [03:01<02:35,  1.17s/it]"
     ]
    },
    {
     "name": "stdout",
     "output_type": "stream",
     "text": [
      "Baseline Loss: 3.9670 | Actual Loss: 0.8397\n",
      "Epoch 168/300: Train Loss: 0.7870, Val Loss: 0.8397\n",
      "Baseline Loss: 4.0053 | Actual Loss: 0.6915\n",
      "Baseline Loss: 4.0121 | Actual Loss: 0.7054\n",
      "Baseline Loss: 3.9951 | Actual Loss: 0.8458\n",
      "Baseline Loss: 3.9140 | Actual Loss: 0.8305\n"
     ]
    },
    {
     "name": "stderr",
     "output_type": "stream",
     "text": [
      "Training:  56%|█████▋    | 169/300 [03:02<02:25,  1.11s/it]"
     ]
    },
    {
     "name": "stdout",
     "output_type": "stream",
     "text": [
      "Baseline Loss: 3.9670 | Actual Loss: 0.8957\n",
      "Epoch 169/300: Train Loss: 0.7683, Val Loss: 0.8957\n",
      "Baseline Loss: 3.9996 | Actual Loss: 0.6350\n",
      "Baseline Loss: 4.0118 | Actual Loss: 0.7961\n",
      "Baseline Loss: 4.0068 | Actual Loss: 0.6907\n",
      "Baseline Loss: 3.9106 | Actual Loss: 0.6393\n"
     ]
    },
    {
     "name": "stderr",
     "output_type": "stream",
     "text": [
      "Training:  57%|█████▋    | 170/300 [03:03<02:24,  1.11s/it]"
     ]
    },
    {
     "name": "stdout",
     "output_type": "stream",
     "text": [
      "Baseline Loss: 3.9670 | Actual Loss: 0.9047\n",
      "Epoch 170/300: Train Loss: 0.6903, Val Loss: 0.9047\n",
      "Baseline Loss: 3.9856 | Actual Loss: 0.7749\n",
      "Baseline Loss: 4.0069 | Actual Loss: 0.6749\n",
      "Baseline Loss: 4.0008 | Actual Loss: 0.7110\n",
      "Baseline Loss: 3.9157 | Actual Loss: 0.6471\n"
     ]
    },
    {
     "name": "stderr",
     "output_type": "stream",
     "text": [
      "Training:  57%|█████▋    | 171/300 [03:04<02:23,  1.11s/it]"
     ]
    },
    {
     "name": "stdout",
     "output_type": "stream",
     "text": [
      "Baseline Loss: 3.9670 | Actual Loss: 0.8784\n",
      "Epoch 171/300: Train Loss: 0.7020, Val Loss: 0.8784\n",
      "Baseline Loss: 3.9950 | Actual Loss: 0.7067\n",
      "Baseline Loss: 4.0062 | Actual Loss: 0.8438\n",
      "Baseline Loss: 4.0001 | Actual Loss: 0.7032\n",
      "Baseline Loss: 3.9294 | Actual Loss: 0.6489\n"
     ]
    },
    {
     "name": "stderr",
     "output_type": "stream",
     "text": [
      "Training:  57%|█████▋    | 172/300 [03:05<02:25,  1.14s/it]"
     ]
    },
    {
     "name": "stdout",
     "output_type": "stream",
     "text": [
      "Baseline Loss: 3.9670 | Actual Loss: 0.7744\n",
      "Epoch 172/300: Train Loss: 0.7256, Val Loss: 0.7744\n",
      "New best validation loss: 0.7744\n",
      "Baseline Loss: 4.0083 | Actual Loss: 0.6075\n",
      "Baseline Loss: 3.9911 | Actual Loss: 0.7521\n",
      "Baseline Loss: 4.0056 | Actual Loss: 0.9797\n",
      "Baseline Loss: 3.9058 | Actual Loss: 0.6976\n"
     ]
    },
    {
     "name": "stderr",
     "output_type": "stream",
     "text": [
      "Training:  58%|█████▊    | 173/300 [03:06<02:22,  1.12s/it]"
     ]
    },
    {
     "name": "stdout",
     "output_type": "stream",
     "text": [
      "Baseline Loss: 3.9670 | Actual Loss: 0.8878\n",
      "Epoch 173/300: Train Loss: 0.7592, Val Loss: 0.8878\n",
      "Baseline Loss: 4.0191 | Actual Loss: 0.7995\n",
      "Baseline Loss: 3.9965 | Actual Loss: 0.7560\n",
      "Baseline Loss: 3.9994 | Actual Loss: 0.7729\n",
      "Baseline Loss: 3.9168 | Actual Loss: 0.6032\n"
     ]
    },
    {
     "name": "stderr",
     "output_type": "stream",
     "text": [
      "Training:  58%|█████▊    | 174/300 [03:08<02:25,  1.15s/it]"
     ]
    },
    {
     "name": "stdout",
     "output_type": "stream",
     "text": [
      "Baseline Loss: 3.9670 | Actual Loss: 0.9305\n",
      "Epoch 174/300: Train Loss: 0.7329, Val Loss: 0.9305\n",
      "Baseline Loss: 4.0057 | Actual Loss: 0.7726\n",
      "Baseline Loss: 3.9997 | Actual Loss: 0.7574\n",
      "Baseline Loss: 3.9991 | Actual Loss: 0.7439\n",
      "Baseline Loss: 3.9086 | Actual Loss: 0.6783\n"
     ]
    },
    {
     "name": "stderr",
     "output_type": "stream",
     "text": [
      "Training:  58%|█████▊    | 175/300 [03:09<02:27,  1.18s/it]"
     ]
    },
    {
     "name": "stdout",
     "output_type": "stream",
     "text": [
      "Baseline Loss: 3.9670 | Actual Loss: 0.8936\n",
      "Epoch 175/300: Train Loss: 0.7381, Val Loss: 0.8936\n",
      "Baseline Loss: 3.9980 | Actual Loss: 0.6914\n",
      "Baseline Loss: 4.0110 | Actual Loss: 0.8257\n",
      "Baseline Loss: 3.9953 | Actual Loss: 0.7443\n",
      "Baseline Loss: 3.9093 | Actual Loss: 0.6476\n"
     ]
    },
    {
     "name": "stderr",
     "output_type": "stream",
     "text": [
      "Training:  59%|█████▊    | 176/300 [03:10<02:25,  1.17s/it]"
     ]
    },
    {
     "name": "stdout",
     "output_type": "stream",
     "text": [
      "Baseline Loss: 3.9670 | Actual Loss: 0.9146\n",
      "Epoch 176/300: Train Loss: 0.7272, Val Loss: 0.9146\n",
      "Baseline Loss: 4.0019 | Actual Loss: 0.8666\n",
      "Baseline Loss: 3.9993 | Actual Loss: 0.7009\n",
      "Baseline Loss: 4.0067 | Actual Loss: 0.7113\n",
      "Baseline Loss: 3.8910 | Actual Loss: 0.6355\n"
     ]
    },
    {
     "name": "stderr",
     "output_type": "stream",
     "text": [
      "Training:  59%|█████▉    | 177/300 [03:11<02:24,  1.17s/it]"
     ]
    },
    {
     "name": "stdout",
     "output_type": "stream",
     "text": [
      "Baseline Loss: 3.9670 | Actual Loss: 0.8872\n",
      "Epoch 177/300: Train Loss: 0.7286, Val Loss: 0.8872\n",
      "Baseline Loss: 3.9934 | Actual Loss: 0.7130\n",
      "Baseline Loss: 4.0142 | Actual Loss: 0.7448\n",
      "Baseline Loss: 3.9968 | Actual Loss: 0.8203\n"
     ]
    },
    {
     "name": "stderr",
     "output_type": "stream",
     "text": [
      "Training:  59%|█████▉    | 178/300 [03:12<02:13,  1.10s/it]"
     ]
    },
    {
     "name": "stdout",
     "output_type": "stream",
     "text": [
      "Baseline Loss: 3.9012 | Actual Loss: 0.6941\n",
      "Baseline Loss: 3.9670 | Actual Loss: 0.8932\n",
      "Epoch 178/300: Train Loss: 0.7431, Val Loss: 0.8932\n",
      "Baseline Loss: 4.0008 | Actual Loss: 0.7792\n",
      "Baseline Loss: 3.9907 | Actual Loss: 0.7229\n",
      "Baseline Loss: 4.0085 | Actual Loss: 0.7334\n",
      "Baseline Loss: 3.9089 | Actual Loss: 0.6544\n"
     ]
    },
    {
     "name": "stderr",
     "output_type": "stream",
     "text": [
      "Training:  60%|█████▉    | 179/300 [03:13<02:13,  1.10s/it]"
     ]
    },
    {
     "name": "stdout",
     "output_type": "stream",
     "text": [
      "Baseline Loss: 3.9670 | Actual Loss: 0.9133\n",
      "Epoch 179/300: Train Loss: 0.7225, Val Loss: 0.9133\n",
      "Baseline Loss: 3.9957 | Actual Loss: 0.7650\n",
      "Baseline Loss: 3.9926 | Actual Loss: 0.7343\n",
      "Baseline Loss: 4.0128 | Actual Loss: 0.7717\n",
      "Baseline Loss: 3.9136 | Actual Loss: 0.5514\n"
     ]
    },
    {
     "name": "stderr",
     "output_type": "stream",
     "text": [
      "Training:  60%|██████    | 180/300 [03:14<02:16,  1.14s/it]"
     ]
    },
    {
     "name": "stdout",
     "output_type": "stream",
     "text": [
      "Baseline Loss: 3.9670 | Actual Loss: 0.8312\n",
      "Epoch 180/300: Train Loss: 0.7056, Val Loss: 0.8312\n",
      "Baseline Loss: 3.9960 | Actual Loss: 0.6443\n",
      "Baseline Loss: 3.9919 | Actual Loss: 0.7109\n",
      "Baseline Loss: 4.0040 | Actual Loss: 0.7093\n",
      "Baseline Loss: 3.9170 | Actual Loss: 0.8316\n"
     ]
    },
    {
     "name": "stderr",
     "output_type": "stream",
     "text": [
      "Training:  60%|██████    | 181/300 [03:15<02:15,  1.14s/it]"
     ]
    },
    {
     "name": "stdout",
     "output_type": "stream",
     "text": [
      "Baseline Loss: 3.9670 | Actual Loss: 0.8876\n",
      "Epoch 181/300: Train Loss: 0.7240, Val Loss: 0.8876\n",
      "Baseline Loss: 4.0053 | Actual Loss: 0.6689\n",
      "Baseline Loss: 3.9919 | Actual Loss: 0.7416\n",
      "Baseline Loss: 4.0207 | Actual Loss: 0.8563\n",
      "Baseline Loss: 3.9053 | Actual Loss: 0.6780\n"
     ]
    },
    {
     "name": "stderr",
     "output_type": "stream",
     "text": [
      "Training:  61%|██████    | 182/300 [03:17<02:11,  1.12s/it]"
     ]
    },
    {
     "name": "stdout",
     "output_type": "stream",
     "text": [
      "Baseline Loss: 3.9670 | Actual Loss: 0.8550\n",
      "Epoch 182/300: Train Loss: 0.7362, Val Loss: 0.8550\n",
      "Baseline Loss: 3.9830 | Actual Loss: 0.7960\n",
      "Baseline Loss: 4.0055 | Actual Loss: 0.6593\n",
      "Baseline Loss: 4.0000 | Actual Loss: 0.7478\n",
      "Baseline Loss: 3.9040 | Actual Loss: 0.6144\n"
     ]
    },
    {
     "name": "stderr",
     "output_type": "stream",
     "text": [
      "Training:  61%|██████    | 183/300 [03:18<02:11,  1.12s/it]"
     ]
    },
    {
     "name": "stdout",
     "output_type": "stream",
     "text": [
      "Baseline Loss: 3.9670 | Actual Loss: 0.8464\n",
      "Epoch 183/300: Train Loss: 0.7044, Val Loss: 0.8464\n",
      "Baseline Loss: 4.0068 | Actual Loss: 0.6904\n",
      "Baseline Loss: 4.0064 | Actual Loss: 0.7347\n",
      "Baseline Loss: 3.9902 | Actual Loss: 0.6048\n",
      "Baseline Loss: 3.9078 | Actual Loss: 0.6214\n"
     ]
    },
    {
     "name": "stderr",
     "output_type": "stream",
     "text": [
      "Training:  61%|██████▏   | 184/300 [03:19<02:13,  1.15s/it]"
     ]
    },
    {
     "name": "stdout",
     "output_type": "stream",
     "text": [
      "Baseline Loss: 3.9670 | Actual Loss: 0.8576\n",
      "Epoch 184/300: Train Loss: 0.6628, Val Loss: 0.8576\n",
      "Baseline Loss: 3.9965 | Actual Loss: 0.6412\n",
      "Baseline Loss: 4.0162 | Actual Loss: 0.7073\n",
      "Baseline Loss: 3.9996 | Actual Loss: 0.6774\n",
      "Baseline Loss: 3.9096 | Actual Loss: 0.6834\n"
     ]
    },
    {
     "name": "stderr",
     "output_type": "stream",
     "text": [
      "Training:  62%|██████▏   | 185/300 [03:20<02:16,  1.19s/it]"
     ]
    },
    {
     "name": "stdout",
     "output_type": "stream",
     "text": [
      "Baseline Loss: 3.9670 | Actual Loss: 0.8850\n",
      "Epoch 185/300: Train Loss: 0.6773, Val Loss: 0.8850\n",
      "Baseline Loss: 4.0157 | Actual Loss: 0.6717\n",
      "Baseline Loss: 4.0013 | Actual Loss: 0.6576\n",
      "Baseline Loss: 4.0044 | Actual Loss: 0.6916\n",
      "Baseline Loss: 3.9010 | Actual Loss: 0.7201\n"
     ]
    },
    {
     "name": "stderr",
     "output_type": "stream",
     "text": [
      "Training:  62%|██████▏   | 186/300 [03:21<02:12,  1.17s/it]"
     ]
    },
    {
     "name": "stdout",
     "output_type": "stream",
     "text": [
      "Baseline Loss: 3.9670 | Actual Loss: 0.8930\n",
      "Epoch 186/300: Train Loss: 0.6853, Val Loss: 0.8930\n",
      "Baseline Loss: 4.0191 | Actual Loss: 0.6133\n",
      "Baseline Loss: 4.0001 | Actual Loss: 0.7735\n",
      "Baseline Loss: 3.9940 | Actual Loss: 0.6475\n",
      "Baseline Loss: 3.9010 | Actual Loss: 0.7053\n"
     ]
    },
    {
     "name": "stderr",
     "output_type": "stream",
     "text": [
      "Training:  62%|██████▏   | 187/300 [03:23<02:13,  1.19s/it]"
     ]
    },
    {
     "name": "stdout",
     "output_type": "stream",
     "text": [
      "Baseline Loss: 3.9670 | Actual Loss: 0.8202\n",
      "Epoch 187/300: Train Loss: 0.6849, Val Loss: 0.8202\n",
      "Baseline Loss: 3.9957 | Actual Loss: 0.6725\n",
      "Baseline Loss: 4.0036 | Actual Loss: 0.7388\n",
      "Baseline Loss: 3.9990 | Actual Loss: 0.7442\n",
      "Baseline Loss: 3.9021 | Actual Loss: 0.6137\n"
     ]
    },
    {
     "name": "stderr",
     "output_type": "stream",
     "text": [
      "Training:  63%|██████▎   | 188/300 [03:24<02:12,  1.19s/it]"
     ]
    },
    {
     "name": "stdout",
     "output_type": "stream",
     "text": [
      "Baseline Loss: 3.9670 | Actual Loss: 0.8364\n",
      "Epoch 188/300: Train Loss: 0.6923, Val Loss: 0.8364\n",
      "Baseline Loss: 4.0003 | Actual Loss: 0.7616\n",
      "Baseline Loss: 4.0022 | Actual Loss: 0.6919\n",
      "Baseline Loss: 4.0021 | Actual Loss: 0.6977\n",
      "Baseline Loss: 3.9176 | Actual Loss: 0.8103\n"
     ]
    },
    {
     "name": "stderr",
     "output_type": "stream",
     "text": [
      "Training:  63%|██████▎   | 189/300 [03:25<02:11,  1.18s/it]"
     ]
    },
    {
     "name": "stdout",
     "output_type": "stream",
     "text": [
      "Baseline Loss: 3.9670 | Actual Loss: 0.8653\n",
      "Epoch 189/300: Train Loss: 0.7404, Val Loss: 0.8653\n",
      "Baseline Loss: 4.0135 | Actual Loss: 0.8381\n",
      "Baseline Loss: 4.0067 | Actual Loss: 0.7329\n",
      "Baseline Loss: 4.0010 | Actual Loss: 0.5992\n",
      "Baseline Loss: 3.9057 | Actual Loss: 0.5855\n"
     ]
    },
    {
     "name": "stderr",
     "output_type": "stream",
     "text": [
      "Training:  63%|██████▎   | 190/300 [03:26<02:06,  1.15s/it]"
     ]
    },
    {
     "name": "stdout",
     "output_type": "stream",
     "text": [
      "Baseline Loss: 3.9670 | Actual Loss: 0.8644\n",
      "Epoch 190/300: Train Loss: 0.6889, Val Loss: 0.8644\n",
      "Baseline Loss: 3.9903 | Actual Loss: 0.7582\n",
      "Baseline Loss: 4.0029 | Actual Loss: 0.7288\n",
      "Baseline Loss: 4.0009 | Actual Loss: 0.7906\n",
      "Baseline Loss: 3.9215 | Actual Loss: 0.5958\n"
     ]
    },
    {
     "name": "stderr",
     "output_type": "stream",
     "text": [
      "Training:  64%|██████▎   | 191/300 [03:27<02:09,  1.18s/it]"
     ]
    },
    {
     "name": "stdout",
     "output_type": "stream",
     "text": [
      "Baseline Loss: 3.9670 | Actual Loss: 0.9106\n",
      "Epoch 191/300: Train Loss: 0.7183, Val Loss: 0.9106\n",
      "Baseline Loss: 3.9967 | Actual Loss: 0.8572\n",
      "Baseline Loss: 3.9833 | Actual Loss: 0.6954\n",
      "Baseline Loss: 4.0043 | Actual Loss: 0.6731\n",
      "Baseline Loss: 3.9267 | Actual Loss: 0.5467\n"
     ]
    },
    {
     "name": "stderr",
     "output_type": "stream",
     "text": [
      "Training:  64%|██████▍   | 192/300 [03:28<02:07,  1.18s/it]"
     ]
    },
    {
     "name": "stdout",
     "output_type": "stream",
     "text": [
      "Baseline Loss: 3.9670 | Actual Loss: 0.8791\n",
      "Epoch 192/300: Train Loss: 0.6931, Val Loss: 0.8791\n",
      "Baseline Loss: 4.0026 | Actual Loss: 0.7160\n",
      "Baseline Loss: 4.0014 | Actual Loss: 0.6987\n",
      "Baseline Loss: 4.0012 | Actual Loss: 0.7417\n",
      "Baseline Loss: 3.9066 | Actual Loss: 0.5651\n"
     ]
    },
    {
     "name": "stderr",
     "output_type": "stream",
     "text": [
      "Training:  64%|██████▍   | 193/300 [03:30<02:05,  1.18s/it]"
     ]
    },
    {
     "name": "stdout",
     "output_type": "stream",
     "text": [
      "Baseline Loss: 3.9670 | Actual Loss: 0.9117\n",
      "Epoch 193/300: Train Loss: 0.6804, Val Loss: 0.9117\n",
      "Baseline Loss: 3.9962 | Actual Loss: 0.8133\n",
      "Baseline Loss: 4.0068 | Actual Loss: 0.6729\n",
      "Baseline Loss: 4.0103 | Actual Loss: 0.6545\n"
     ]
    },
    {
     "name": "stderr",
     "output_type": "stream",
     "text": [
      "Training:  65%|██████▍   | 194/300 [03:31<02:03,  1.16s/it]"
     ]
    },
    {
     "name": "stdout",
     "output_type": "stream",
     "text": [
      "Baseline Loss: 3.9033 | Actual Loss: 0.7026\n",
      "Baseline Loss: 3.9670 | Actual Loss: 0.9370\n",
      "Epoch 194/300: Train Loss: 0.7109, Val Loss: 0.9370\n",
      "Baseline Loss: 3.9811 | Actual Loss: 0.7397\n",
      "Baseline Loss: 4.0007 | Actual Loss: 0.6703\n",
      "Baseline Loss: 4.0009 | Actual Loss: 0.8596\n",
      "Baseline Loss: 3.9151 | Actual Loss: 0.5883\n"
     ]
    },
    {
     "name": "stderr",
     "output_type": "stream",
     "text": [
      "Training:  65%|██████▌   | 195/300 [03:32<02:05,  1.20s/it]"
     ]
    },
    {
     "name": "stdout",
     "output_type": "stream",
     "text": [
      "Baseline Loss: 3.9670 | Actual Loss: 0.8776\n",
      "Epoch 195/300: Train Loss: 0.7145, Val Loss: 0.8776\n",
      "Baseline Loss: 4.0041 | Actual Loss: 0.5828\n",
      "Baseline Loss: 4.0074 | Actual Loss: 0.7606\n",
      "Baseline Loss: 4.0039 | Actual Loss: 0.8427\n",
      "Baseline Loss: 3.8985 | Actual Loss: 0.4717\n"
     ]
    },
    {
     "name": "stderr",
     "output_type": "stream",
     "text": [
      "Training:  65%|██████▌   | 196/300 [03:33<02:06,  1.21s/it]"
     ]
    },
    {
     "name": "stdout",
     "output_type": "stream",
     "text": [
      "Baseline Loss: 3.9670 | Actual Loss: 0.9454\n",
      "Epoch 196/300: Train Loss: 0.6645, Val Loss: 0.9454\n",
      "Baseline Loss: 3.9956 | Actual Loss: 0.7305\n",
      "Baseline Loss: 3.9922 | Actual Loss: 0.6924\n",
      "Baseline Loss: 4.0108 | Actual Loss: 0.7379\n",
      "Baseline Loss: 3.9121 | Actual Loss: 0.7188\n"
     ]
    },
    {
     "name": "stderr",
     "output_type": "stream",
     "text": [
      "Training:  66%|██████▌   | 197/300 [03:35<02:08,  1.24s/it]"
     ]
    },
    {
     "name": "stdout",
     "output_type": "stream",
     "text": [
      "Baseline Loss: 3.9670 | Actual Loss: 0.8614\n",
      "Epoch 197/300: Train Loss: 0.7199, Val Loss: 0.8614\n",
      "Baseline Loss: 3.9986 | Actual Loss: 0.6707\n",
      "Baseline Loss: 4.0148 | Actual Loss: 0.7714\n",
      "Baseline Loss: 4.0045 | Actual Loss: 0.7002\n"
     ]
    },
    {
     "name": "stderr",
     "output_type": "stream",
     "text": [
      "Training:  66%|██████▌   | 198/300 [03:36<02:03,  1.21s/it]"
     ]
    },
    {
     "name": "stdout",
     "output_type": "stream",
     "text": [
      "Baseline Loss: 3.9048 | Actual Loss: 0.5498\n",
      "Baseline Loss: 3.9670 | Actual Loss: 0.8431\n",
      "Epoch 198/300: Train Loss: 0.6730, Val Loss: 0.8431\n",
      "Baseline Loss: 4.0015 | Actual Loss: 0.6354\n",
      "Baseline Loss: 3.9942 | Actual Loss: 0.6844\n",
      "Baseline Loss: 3.9923 | Actual Loss: 0.6891\n",
      "Baseline Loss: 3.9157 | Actual Loss: 0.6242\n"
     ]
    },
    {
     "name": "stderr",
     "output_type": "stream",
     "text": [
      "Training:  66%|██████▋   | 199/300 [03:37<02:02,  1.21s/it]"
     ]
    },
    {
     "name": "stdout",
     "output_type": "stream",
     "text": [
      "Baseline Loss: 3.9670 | Actual Loss: 0.8474\n",
      "Epoch 199/300: Train Loss: 0.6583, Val Loss: 0.8474\n",
      "Baseline Loss: 4.0037 | Actual Loss: 0.6857\n",
      "Baseline Loss: 3.9912 | Actual Loss: 0.5227\n",
      "Baseline Loss: 4.0084 | Actual Loss: 0.6587\n",
      "Baseline Loss: 3.9314 | Actual Loss: 0.7129\n"
     ]
    },
    {
     "name": "stderr",
     "output_type": "stream",
     "text": [
      "Training:  67%|██████▋   | 200/300 [03:38<01:59,  1.19s/it]"
     ]
    },
    {
     "name": "stdout",
     "output_type": "stream",
     "text": [
      "Baseline Loss: 3.9670 | Actual Loss: 0.8782\n",
      "Epoch 200/300: Train Loss: 0.6450, Val Loss: 0.8782\n",
      "Baseline Loss: 4.0089 | Actual Loss: 0.6387\n",
      "Baseline Loss: 4.0039 | Actual Loss: 0.6517\n",
      "Baseline Loss: 4.0078 | Actual Loss: 0.7322\n",
      "Baseline Loss: 3.9020 | Actual Loss: 0.6699\n"
     ]
    },
    {
     "name": "stderr",
     "output_type": "stream",
     "text": [
      "Training:  67%|██████▋   | 201/300 [03:39<02:01,  1.23s/it]"
     ]
    },
    {
     "name": "stdout",
     "output_type": "stream",
     "text": [
      "Baseline Loss: 3.9670 | Actual Loss: 0.8985\n",
      "Epoch 201/300: Train Loss: 0.6731, Val Loss: 0.8985\n",
      "Baseline Loss: 3.9957 | Actual Loss: 0.7844\n",
      "Baseline Loss: 4.0041 | Actual Loss: 0.6571\n",
      "Baseline Loss: 4.0095 | Actual Loss: 0.7321\n",
      "Baseline Loss: 3.9093 | Actual Loss: 0.7202\n"
     ]
    },
    {
     "name": "stderr",
     "output_type": "stream",
     "text": [
      "Training:  67%|██████▋   | 202/300 [03:40<01:54,  1.17s/it]"
     ]
    },
    {
     "name": "stdout",
     "output_type": "stream",
     "text": [
      "Baseline Loss: 3.9670 | Actual Loss: 0.8968\n",
      "Epoch 202/300: Train Loss: 0.7235, Val Loss: 0.8968\n",
      "Baseline Loss: 4.0046 | Actual Loss: 0.8399\n",
      "Baseline Loss: 4.0022 | Actual Loss: 0.6797\n",
      "Baseline Loss: 3.9938 | Actual Loss: 0.7615\n",
      "Baseline Loss: 3.9175 | Actual Loss: 0.6373\n"
     ]
    },
    {
     "name": "stderr",
     "output_type": "stream",
     "text": [
      "Training:  68%|██████▊   | 203/300 [03:42<01:52,  1.16s/it]"
     ]
    },
    {
     "name": "stdout",
     "output_type": "stream",
     "text": [
      "Baseline Loss: 3.9670 | Actual Loss: 0.8321\n",
      "Epoch 203/300: Train Loss: 0.7296, Val Loss: 0.8321\n",
      "Baseline Loss: 4.0094 | Actual Loss: 0.6243\n",
      "Baseline Loss: 3.9975 | Actual Loss: 0.7581\n",
      "Baseline Loss: 3.9959 | Actual Loss: 0.6414\n",
      "Baseline Loss: 3.9177 | Actual Loss: 0.5903\n"
     ]
    },
    {
     "name": "stderr",
     "output_type": "stream",
     "text": [
      "Training:  68%|██████▊   | 204/300 [03:43<01:52,  1.17s/it]"
     ]
    },
    {
     "name": "stdout",
     "output_type": "stream",
     "text": [
      "Baseline Loss: 3.9670 | Actual Loss: 0.9332\n",
      "Epoch 204/300: Train Loss: 0.6535, Val Loss: 0.9332\n",
      "Baseline Loss: 4.0046 | Actual Loss: 0.7703\n",
      "Baseline Loss: 3.9896 | Actual Loss: 0.7021\n",
      "Baseline Loss: 4.0078 | Actual Loss: 0.5989\n",
      "Baseline Loss: 3.9041 | Actual Loss: 0.6245\n"
     ]
    },
    {
     "name": "stderr",
     "output_type": "stream",
     "text": [
      "Training:  68%|██████▊   | 205/300 [03:44<01:49,  1.16s/it]"
     ]
    },
    {
     "name": "stdout",
     "output_type": "stream",
     "text": [
      "Baseline Loss: 3.9670 | Actual Loss: 0.8462\n",
      "Epoch 205/300: Train Loss: 0.6740, Val Loss: 0.8462\n",
      "Baseline Loss: 4.0025 | Actual Loss: 0.5993\n",
      "Baseline Loss: 4.0070 | Actual Loss: 0.6854\n",
      "Baseline Loss: 4.0011 | Actual Loss: 0.6864\n",
      "Baseline Loss: 3.9082 | Actual Loss: 0.6709\n"
     ]
    },
    {
     "name": "stderr",
     "output_type": "stream",
     "text": [
      "Training:  69%|██████▊   | 206/300 [03:45<01:51,  1.18s/it]"
     ]
    },
    {
     "name": "stdout",
     "output_type": "stream",
     "text": [
      "Baseline Loss: 3.9670 | Actual Loss: 0.8433\n",
      "Epoch 206/300: Train Loss: 0.6605, Val Loss: 0.8433\n",
      "Baseline Loss: 3.9987 | Actual Loss: 0.6933\n",
      "Baseline Loss: 4.0076 | Actual Loss: 0.6779\n",
      "Baseline Loss: 4.0093 | Actual Loss: 0.6350\n",
      "Baseline Loss: 3.8948 | Actual Loss: 0.5120\n"
     ]
    },
    {
     "name": "stderr",
     "output_type": "stream",
     "text": [
      "Training:  69%|██████▉   | 207/300 [03:46<01:50,  1.19s/it]"
     ]
    },
    {
     "name": "stdout",
     "output_type": "stream",
     "text": [
      "Baseline Loss: 3.9670 | Actual Loss: 0.9151\n",
      "Epoch 207/300: Train Loss: 0.6295, Val Loss: 0.9151\n",
      "Baseline Loss: 3.9988 | Actual Loss: 0.5534\n",
      "Baseline Loss: 3.9974 | Actual Loss: 0.7190\n",
      "Baseline Loss: 3.9938 | Actual Loss: 0.6485\n"
     ]
    },
    {
     "name": "stderr",
     "output_type": "stream",
     "text": [
      "Training:  69%|██████▉   | 208/300 [03:47<01:46,  1.15s/it]"
     ]
    },
    {
     "name": "stdout",
     "output_type": "stream",
     "text": [
      "Baseline Loss: 3.9214 | Actual Loss: 0.8182\n",
      "Baseline Loss: 3.9670 | Actual Loss: 0.8918\n",
      "Epoch 208/300: Train Loss: 0.6848, Val Loss: 0.8918\n",
      "Baseline Loss: 3.9986 | Actual Loss: 0.8108\n",
      "Baseline Loss: 4.0080 | Actual Loss: 0.6917\n",
      "Baseline Loss: 4.0022 | Actual Loss: 0.5739\n",
      "Baseline Loss: 3.9029 | Actual Loss: 0.6274\n"
     ]
    },
    {
     "name": "stderr",
     "output_type": "stream",
     "text": [
      "Training:  70%|██████▉   | 209/300 [03:48<01:40,  1.11s/it]"
     ]
    },
    {
     "name": "stdout",
     "output_type": "stream",
     "text": [
      "Baseline Loss: 3.9670 | Actual Loss: 0.8148\n",
      "Epoch 209/300: Train Loss: 0.6759, Val Loss: 0.8148\n",
      "Baseline Loss: 4.0075 | Actual Loss: 0.6701\n",
      "Baseline Loss: 3.9996 | Actual Loss: 0.7502\n",
      "Baseline Loss: 3.9856 | Actual Loss: 0.6990\n",
      "Baseline Loss: 3.9004 | Actual Loss: 0.4841\n"
     ]
    },
    {
     "name": "stderr",
     "output_type": "stream",
     "text": [
      "Training:  70%|███████   | 210/300 [03:49<01:40,  1.12s/it]"
     ]
    },
    {
     "name": "stdout",
     "output_type": "stream",
     "text": [
      "Baseline Loss: 3.9670 | Actual Loss: 0.8399\n",
      "Epoch 210/300: Train Loss: 0.6508, Val Loss: 0.8399\n",
      "Baseline Loss: 4.0099 | Actual Loss: 0.7466\n",
      "Baseline Loss: 3.9997 | Actual Loss: 0.6519\n",
      "Baseline Loss: 4.0057 | Actual Loss: 0.7419\n",
      "Baseline Loss: 3.9018 | Actual Loss: 0.6025\n"
     ]
    },
    {
     "name": "stderr",
     "output_type": "stream",
     "text": [
      "Training:  70%|███████   | 211/300 [03:51<01:37,  1.09s/it]"
     ]
    },
    {
     "name": "stdout",
     "output_type": "stream",
     "text": [
      "Baseline Loss: 3.9670 | Actual Loss: 0.8402\n",
      "Epoch 211/300: Train Loss: 0.6857, Val Loss: 0.8402\n",
      "Baseline Loss: 4.0016 | Actual Loss: 0.6834\n",
      "Baseline Loss: 3.9884 | Actual Loss: 0.7343\n",
      "Baseline Loss: 4.0036 | Actual Loss: 0.8931\n"
     ]
    },
    {
     "name": "stderr",
     "output_type": "stream",
     "text": [
      "Training:  71%|███████   | 212/300 [03:52<01:34,  1.08s/it]"
     ]
    },
    {
     "name": "stdout",
     "output_type": "stream",
     "text": [
      "Baseline Loss: 3.9044 | Actual Loss: 0.6270\n",
      "Baseline Loss: 3.9670 | Actual Loss: 0.8103\n",
      "Epoch 212/300: Train Loss: 0.7345, Val Loss: 0.8103\n",
      "Baseline Loss: 4.0030 | Actual Loss: 0.5618\n",
      "Baseline Loss: 4.0048 | Actual Loss: 0.7437\n",
      "Baseline Loss: 3.9959 | Actual Loss: 0.7921\n",
      "Baseline Loss: 3.9122 | Actual Loss: 0.6392\n"
     ]
    },
    {
     "name": "stderr",
     "output_type": "stream",
     "text": [
      "Training:  71%|███████   | 213/300 [03:53<01:32,  1.06s/it]"
     ]
    },
    {
     "name": "stdout",
     "output_type": "stream",
     "text": [
      "Baseline Loss: 3.9670 | Actual Loss: 0.8090\n",
      "Epoch 213/300: Train Loss: 0.6842, Val Loss: 0.8090\n",
      "Baseline Loss: 3.9940 | Actual Loss: 0.5789\n",
      "Baseline Loss: 4.0110 | Actual Loss: 0.7048\n",
      "Baseline Loss: 4.0023 | Actual Loss: 0.7342\n",
      "Baseline Loss: 3.9064 | Actual Loss: 0.5820\n"
     ]
    },
    {
     "name": "stderr",
     "output_type": "stream",
     "text": [
      "Training:  71%|███████▏  | 214/300 [03:54<01:32,  1.07s/it]"
     ]
    },
    {
     "name": "stdout",
     "output_type": "stream",
     "text": [
      "Baseline Loss: 3.9670 | Actual Loss: 0.8367\n",
      "Epoch 214/300: Train Loss: 0.6500, Val Loss: 0.8367\n",
      "Baseline Loss: 4.0082 | Actual Loss: 0.6689\n",
      "Baseline Loss: 3.9994 | Actual Loss: 0.6416\n",
      "Baseline Loss: 3.9991 | Actual Loss: 0.7274\n",
      "Baseline Loss: 3.9111 | Actual Loss: 0.6528\n"
     ]
    },
    {
     "name": "stderr",
     "output_type": "stream",
     "text": [
      "Training:  72%|███████▏  | 215/300 [03:55<01:31,  1.07s/it]"
     ]
    },
    {
     "name": "stdout",
     "output_type": "stream",
     "text": [
      "Baseline Loss: 3.9670 | Actual Loss: 0.9341\n",
      "Epoch 215/300: Train Loss: 0.6727, Val Loss: 0.9341\n",
      "Baseline Loss: 3.9896 | Actual Loss: 0.6224\n",
      "Baseline Loss: 3.9891 | Actual Loss: 0.6360\n",
      "Baseline Loss: 4.0165 | Actual Loss: 0.8083\n",
      "Baseline Loss: 3.9149 | Actual Loss: 0.6516\n"
     ]
    },
    {
     "name": "stderr",
     "output_type": "stream",
     "text": [
      "Training:  72%|███████▏  | 216/300 [03:56<01:29,  1.06s/it]"
     ]
    },
    {
     "name": "stdout",
     "output_type": "stream",
     "text": [
      "Baseline Loss: 3.9670 | Actual Loss: 0.8764\n",
      "Epoch 216/300: Train Loss: 0.6796, Val Loss: 0.8764\n",
      "Baseline Loss: 4.0082 | Actual Loss: 0.6572\n",
      "Baseline Loss: 3.9988 | Actual Loss: 0.7174\n",
      "Baseline Loss: 4.0092 | Actual Loss: 0.7208\n",
      "Baseline Loss: 3.9072 | Actual Loss: 0.5968\n"
     ]
    },
    {
     "name": "stderr",
     "output_type": "stream",
     "text": [
      "Training:  72%|███████▏  | 217/300 [03:57<01:27,  1.05s/it]"
     ]
    },
    {
     "name": "stdout",
     "output_type": "stream",
     "text": [
      "Baseline Loss: 3.9670 | Actual Loss: 0.8738\n",
      "Epoch 217/300: Train Loss: 0.6730, Val Loss: 0.8738\n",
      "Baseline Loss: 4.0037 | Actual Loss: 0.5976\n",
      "Baseline Loss: 4.0079 | Actual Loss: 0.8021\n",
      "Baseline Loss: 3.9929 | Actual Loss: 0.6366\n",
      "Baseline Loss: 3.9017 | Actual Loss: 0.7194\n"
     ]
    },
    {
     "name": "stderr",
     "output_type": "stream",
     "text": [
      "Training:  73%|███████▎  | 218/300 [03:58<01:27,  1.06s/it]"
     ]
    },
    {
     "name": "stdout",
     "output_type": "stream",
     "text": [
      "Baseline Loss: 3.9670 | Actual Loss: 0.8581\n",
      "Epoch 218/300: Train Loss: 0.6889, Val Loss: 0.8581\n",
      "Baseline Loss: 4.0022 | Actual Loss: 0.7122\n",
      "Baseline Loss: 4.0102 | Actual Loss: 0.6646\n",
      "Baseline Loss: 4.0009 | Actual Loss: 0.6845\n"
     ]
    },
    {
     "name": "stderr",
     "output_type": "stream",
     "text": [
      "Training:  73%|███████▎  | 219/300 [03:59<01:26,  1.06s/it]"
     ]
    },
    {
     "name": "stdout",
     "output_type": "stream",
     "text": [
      "Baseline Loss: 3.9101 | Actual Loss: 0.5778\n",
      "Baseline Loss: 3.9670 | Actual Loss: 0.8885\n",
      "Epoch 219/300: Train Loss: 0.6598, Val Loss: 0.8885\n",
      "Baseline Loss: 3.9973 | Actual Loss: 0.5788\n",
      "Baseline Loss: 3.9869 | Actual Loss: 0.6198\n",
      "Baseline Loss: 4.0085 | Actual Loss: 0.7287\n",
      "Baseline Loss: 3.9033 | Actual Loss: 0.8511\n"
     ]
    },
    {
     "name": "stderr",
     "output_type": "stream",
     "text": [
      "Training:  73%|███████▎  | 220/300 [04:00<01:26,  1.08s/it]"
     ]
    },
    {
     "name": "stdout",
     "output_type": "stream",
     "text": [
      "Baseline Loss: 3.9670 | Actual Loss: 0.9512\n",
      "Epoch 220/300: Train Loss: 0.6946, Val Loss: 0.9512\n",
      "Baseline Loss: 4.0104 | Actual Loss: 0.6653\n",
      "Baseline Loss: 3.9965 | Actual Loss: 0.5870\n",
      "Baseline Loss: 4.0004 | Actual Loss: 0.6016\n",
      "Baseline Loss: 3.9147 | Actual Loss: 0.6631\n"
     ]
    },
    {
     "name": "stderr",
     "output_type": "stream",
     "text": [
      "Training:  74%|███████▎  | 221/300 [04:01<01:25,  1.08s/it]"
     ]
    },
    {
     "name": "stdout",
     "output_type": "stream",
     "text": [
      "Baseline Loss: 3.9670 | Actual Loss: 0.9195\n",
      "Epoch 221/300: Train Loss: 0.6292, Val Loss: 0.9195\n",
      "Baseline Loss: 4.0148 | Actual Loss: 0.6372\n",
      "Baseline Loss: 3.9916 | Actual Loss: 0.6706\n",
      "Baseline Loss: 3.9876 | Actual Loss: 0.7544\n",
      "Baseline Loss: 3.9130 | Actual Loss: 0.5744\n"
     ]
    },
    {
     "name": "stderr",
     "output_type": "stream",
     "text": [
      "Training:  74%|███████▎  | 221/300 [04:02<01:26,  1.10s/it]"
     ]
    },
    {
     "name": "stdout",
     "output_type": "stream",
     "text": [
      "Baseline Loss: 3.9670 | Actual Loss: 0.8766\n",
      "Epoch 222/300: Train Loss: 0.6592, Val Loss: 0.8766\n",
      "\n",
      "Early stopping at epoch 222\n"
     ]
    },
    {
     "name": "stderr",
     "output_type": "stream",
     "text": [
      "\n"
     ]
    },
    {
     "data": {
      "text/plain": [
       "0.7743558883666992"
      ]
     },
     "execution_count": 7,
     "metadata": {},
     "output_type": "execute_result"
    }
   ],
   "source": [
    "model1.train_model(\n",
    "    data_list,\n",
    ")"
   ]
  },
  {
   "cell_type": "code",
   "execution_count": 8,
   "id": "35fe71e8",
   "metadata": {},
   "outputs": [],
   "source": [
    "model2 = GNNModelWithNewLoss(\n",
    "        num_node_features=data_list[0].x.shape[1],\n",
    "        num_edge_features=data_list[0].edge_attr.shape[1],\n",
    "        num_global_features=data_list[0].global_features.shape[0],\n",
    "        hidden_dim=512,\n",
    "        dropout_rate=0.1,\n",
    "        property_index=1 ,\n",
    "        save_path= 'models/1'\n",
    "    ).to(devices[0])"
   ]
  },
  {
   "cell_type": "code",
   "execution_count": 9,
   "id": "48b63c56",
   "metadata": {},
   "outputs": [
    {
     "name": "stdout",
     "output_type": "stream",
     "text": [
      "Training will be saved to: models/1\n"
     ]
    },
    {
     "name": "stderr",
     "output_type": "stream",
     "text": [
      "Training:   0%|          | 0/300 [00:00<?, ?it/s]"
     ]
    },
    {
     "name": "stdout",
     "output_type": "stream",
     "text": [
      "Baseline Loss: 3.9662 | Actual Loss: 3.9177\n",
      "Baseline Loss: 3.9655 | Actual Loss: 3.8989\n",
      "Baseline Loss: 3.9772 | Actual Loss: 3.8821\n",
      "Baseline Loss: 3.8730 | Actual Loss: 3.7447\n"
     ]
    },
    {
     "name": "stderr",
     "output_type": "stream",
     "text": [
      "Training:   0%|          | 1/300 [00:01<05:28,  1.10s/it]"
     ]
    },
    {
     "name": "stdout",
     "output_type": "stream",
     "text": [
      "Baseline Loss: 3.9495 | Actual Loss: 3.8213\n",
      "Epoch 1/300: Train Loss: 3.8608, Val Loss: 3.8213\n",
      "New best validation loss: 3.8213\n",
      "Baseline Loss: 3.9691 | Actual Loss: 3.7962\n",
      "Baseline Loss: 3.9745 | Actual Loss: 3.7568\n",
      "Baseline Loss: 3.9671 | Actual Loss: 3.7004\n",
      "Baseline Loss: 3.8646 | Actual Loss: 3.5427\n"
     ]
    },
    {
     "name": "stderr",
     "output_type": "stream",
     "text": [
      "Training:   1%|          | 2/300 [00:02<05:53,  1.19s/it]"
     ]
    },
    {
     "name": "stdout",
     "output_type": "stream",
     "text": [
      "Baseline Loss: 3.9495 | Actual Loss: 3.5906\n",
      "Epoch 2/300: Train Loss: 3.6990, Val Loss: 3.5906\n",
      "New best validation loss: 3.5906\n",
      "Baseline Loss: 3.9691 | Actual Loss: 3.6052\n",
      "Baseline Loss: 3.9657 | Actual Loss: 3.5338\n",
      "Baseline Loss: 3.9769 | Actual Loss: 3.3772\n",
      "Baseline Loss: 3.8693 | Actual Loss: 3.2252\n"
     ]
    },
    {
     "name": "stderr",
     "output_type": "stream",
     "text": [
      "Training:   1%|          | 3/300 [00:03<05:34,  1.12s/it]"
     ]
    },
    {
     "name": "stdout",
     "output_type": "stream",
     "text": [
      "Baseline Loss: 3.9495 | Actual Loss: 3.2607\n",
      "Epoch 3/300: Train Loss: 3.4353, Val Loss: 3.2607\n",
      "New best validation loss: 3.2607\n",
      "Baseline Loss: 3.9669 | Actual Loss: 3.2815\n",
      "Baseline Loss: 3.9707 | Actual Loss: 3.2144\n",
      "Baseline Loss: 3.9774 | Actual Loss: 3.1491\n",
      "Baseline Loss: 3.8736 | Actual Loss: 2.8885\n"
     ]
    },
    {
     "name": "stderr",
     "output_type": "stream",
     "text": [
      "Training:   1%|▏         | 4/300 [00:04<05:25,  1.10s/it]"
     ]
    },
    {
     "name": "stdout",
     "output_type": "stream",
     "text": [
      "Baseline Loss: 3.9495 | Actual Loss: 2.8956\n",
      "Epoch 4/300: Train Loss: 3.1334, Val Loss: 2.8956\n",
      "New best validation loss: 2.8956\n",
      "Baseline Loss: 3.9719 | Actual Loss: 2.8909\n",
      "Baseline Loss: 3.9608 | Actual Loss: 2.8576\n",
      "Baseline Loss: 3.9727 | Actual Loss: 2.9779\n",
      "Baseline Loss: 3.8696 | Actual Loss: 2.7318\n"
     ]
    },
    {
     "name": "stderr",
     "output_type": "stream",
     "text": [
      "Training:   2%|▏         | 5/300 [00:05<05:24,  1.10s/it]"
     ]
    },
    {
     "name": "stdout",
     "output_type": "stream",
     "text": [
      "Baseline Loss: 3.9495 | Actual Loss: 2.7902\n",
      "Epoch 5/300: Train Loss: 2.8646, Val Loss: 2.7902\n",
      "New best validation loss: 2.7902\n",
      "Baseline Loss: 3.9626 | Actual Loss: 2.7524\n",
      "Baseline Loss: 3.9689 | Actual Loss: 2.8027\n",
      "Baseline Loss: 3.9742 | Actual Loss: 2.6190\n",
      "Baseline Loss: 3.8726 | Actual Loss: 2.6594\n"
     ]
    },
    {
     "name": "stderr",
     "output_type": "stream",
     "text": [
      "Training:   2%|▏         | 6/300 [00:06<05:30,  1.12s/it]"
     ]
    },
    {
     "name": "stdout",
     "output_type": "stream",
     "text": [
      "Baseline Loss: 3.9495 | Actual Loss: 2.6229\n",
      "Epoch 6/300: Train Loss: 2.7084, Val Loss: 2.6229\n",
      "New best validation loss: 2.6229\n",
      "Baseline Loss: 3.9633 | Actual Loss: 2.6145\n",
      "Baseline Loss: 3.9740 | Actual Loss: 2.7303\n",
      "Baseline Loss: 3.9627 | Actual Loss: 2.8498\n",
      "Baseline Loss: 3.8801 | Actual Loss: 2.6153\n"
     ]
    },
    {
     "name": "stderr",
     "output_type": "stream",
     "text": [
      "Training:   2%|▏         | 7/300 [00:07<05:30,  1.13s/it]"
     ]
    },
    {
     "name": "stdout",
     "output_type": "stream",
     "text": [
      "Baseline Loss: 3.9495 | Actual Loss: 2.6255\n",
      "Epoch 7/300: Train Loss: 2.7025, Val Loss: 2.6255\n",
      "Baseline Loss: 3.9601 | Actual Loss: 2.5444\n",
      "Baseline Loss: 3.9629 | Actual Loss: 2.5136\n",
      "Baseline Loss: 3.9751 | Actual Loss: 2.6895\n",
      "Baseline Loss: 3.8827 | Actual Loss: 2.6093\n"
     ]
    },
    {
     "name": "stderr",
     "output_type": "stream",
     "text": [
      "Training:   3%|▎         | 8/300 [00:09<05:35,  1.15s/it]"
     ]
    },
    {
     "name": "stdout",
     "output_type": "stream",
     "text": [
      "Baseline Loss: 3.9495 | Actual Loss: 2.5494\n",
      "Epoch 8/300: Train Loss: 2.5892, Val Loss: 2.5494\n",
      "New best validation loss: 2.5494\n",
      "Baseline Loss: 3.9704 | Actual Loss: 2.6089\n",
      "Baseline Loss: 3.9696 | Actual Loss: 2.6218\n",
      "Baseline Loss: 3.9628 | Actual Loss: 2.6325\n",
      "Baseline Loss: 3.8781 | Actual Loss: 2.6406\n"
     ]
    },
    {
     "name": "stderr",
     "output_type": "stream",
     "text": [
      "Training:   3%|▎         | 9/300 [00:10<05:35,  1.15s/it]"
     ]
    },
    {
     "name": "stdout",
     "output_type": "stream",
     "text": [
      "Baseline Loss: 3.9495 | Actual Loss: 2.4852\n",
      "Epoch 9/300: Train Loss: 2.6260, Val Loss: 2.4852\n",
      "New best validation loss: 2.4852\n",
      "Baseline Loss: 3.9686 | Actual Loss: 2.5248\n",
      "Baseline Loss: 3.9680 | Actual Loss: 2.5916\n",
      "Baseline Loss: 3.9702 | Actual Loss: 2.5577\n",
      "Baseline Loss: 3.8774 | Actual Loss: 2.3169\n"
     ]
    },
    {
     "name": "stderr",
     "output_type": "stream",
     "text": [
      "Training:   3%|▎         | 10/300 [00:11<05:33,  1.15s/it]"
     ]
    },
    {
     "name": "stdout",
     "output_type": "stream",
     "text": [
      "Baseline Loss: 3.9495 | Actual Loss: 2.4543\n",
      "Epoch 10/300: Train Loss: 2.4978, Val Loss: 2.4543\n",
      "New best validation loss: 2.4543\n",
      "Baseline Loss: 3.9670 | Actual Loss: 2.4607\n",
      "Baseline Loss: 3.9606 | Actual Loss: 2.5074\n",
      "Baseline Loss: 3.9737 | Actual Loss: 2.5168\n",
      "Baseline Loss: 3.8767 | Actual Loss: 2.3757\n"
     ]
    },
    {
     "name": "stderr",
     "output_type": "stream",
     "text": [
      "Training:   4%|▎         | 11/300 [00:12<05:45,  1.20s/it]"
     ]
    },
    {
     "name": "stdout",
     "output_type": "stream",
     "text": [
      "Baseline Loss: 3.9495 | Actual Loss: 2.3877\n",
      "Epoch 11/300: Train Loss: 2.4652, Val Loss: 2.3877\n",
      "New best validation loss: 2.3877\n",
      "Baseline Loss: 3.9702 | Actual Loss: 2.4358\n",
      "Baseline Loss: 3.9777 | Actual Loss: 2.4523\n",
      "Baseline Loss: 3.9619 | Actual Loss: 2.4758\n",
      "Baseline Loss: 3.8709 | Actual Loss: 2.3429\n"
     ]
    },
    {
     "name": "stderr",
     "output_type": "stream",
     "text": [
      "Training:   4%|▍         | 12/300 [00:13<05:38,  1.18s/it]"
     ]
    },
    {
     "name": "stdout",
     "output_type": "stream",
     "text": [
      "Baseline Loss: 3.9495 | Actual Loss: 2.4518\n",
      "Epoch 12/300: Train Loss: 2.4267, Val Loss: 2.4518\n",
      "Baseline Loss: 3.9670 | Actual Loss: 2.5565\n",
      "Baseline Loss: 3.9741 | Actual Loss: 2.4947\n",
      "Baseline Loss: 3.9659 | Actual Loss: 2.4359\n",
      "Baseline Loss: 3.8716 | Actual Loss: 2.3641\n",
      "Baseline Loss: 3.9495 | Actual Loss: 2.2965\n"
     ]
    },
    {
     "name": "stderr",
     "output_type": "stream",
     "text": [
      "Training:   4%|▍         | 13/300 [00:14<05:35,  1.17s/it]"
     ]
    },
    {
     "name": "stdout",
     "output_type": "stream",
     "text": [
      "Epoch 13/300: Train Loss: 2.4628, Val Loss: 2.2965\n",
      "New best validation loss: 2.2965\n",
      "Baseline Loss: 3.9655 | Actual Loss: 2.4232\n",
      "Baseline Loss: 3.9740 | Actual Loss: 2.4630\n",
      "Baseline Loss: 3.9582 | Actual Loss: 2.4375\n",
      "Baseline Loss: 3.8750 | Actual Loss: 2.3702\n"
     ]
    },
    {
     "name": "stderr",
     "output_type": "stream",
     "text": [
      "Training:   5%|▍         | 14/300 [00:15<05:16,  1.11s/it]"
     ]
    },
    {
     "name": "stdout",
     "output_type": "stream",
     "text": [
      "Baseline Loss: 3.9495 | Actual Loss: 2.3778\n",
      "Epoch 14/300: Train Loss: 2.4235, Val Loss: 2.3778\n",
      "Baseline Loss: 3.9630 | Actual Loss: 2.4441\n",
      "Baseline Loss: 3.9705 | Actual Loss: 2.3277\n",
      "Baseline Loss: 3.9715 | Actual Loss: 2.4040\n",
      "Baseline Loss: 3.8796 | Actual Loss: 2.3409\n"
     ]
    },
    {
     "name": "stderr",
     "output_type": "stream",
     "text": [
      "Training:   5%|▌         | 15/300 [00:16<05:11,  1.09s/it]"
     ]
    },
    {
     "name": "stdout",
     "output_type": "stream",
     "text": [
      "Baseline Loss: 3.9495 | Actual Loss: 2.3305\n",
      "Epoch 15/300: Train Loss: 2.3792, Val Loss: 2.3305\n",
      "Baseline Loss: 3.9692 | Actual Loss: 2.3732\n",
      "Baseline Loss: 3.9679 | Actual Loss: 2.4090\n",
      "Baseline Loss: 3.9705 | Actual Loss: 2.3782\n"
     ]
    },
    {
     "name": "stderr",
     "output_type": "stream",
     "text": [
      "Training:   5%|▌         | 16/300 [00:18<05:06,  1.08s/it]"
     ]
    },
    {
     "name": "stdout",
     "output_type": "stream",
     "text": [
      "Baseline Loss: 3.8693 | Actual Loss: 2.3046\n",
      "Baseline Loss: 3.9495 | Actual Loss: 2.3728\n",
      "Epoch 16/300: Train Loss: 2.3663, Val Loss: 2.3728\n",
      "Baseline Loss: 3.9656 | Actual Loss: 2.3677\n",
      "Baseline Loss: 3.9724 | Actual Loss: 2.3300\n",
      "Baseline Loss: 3.9591 | Actual Loss: 2.2981\n",
      "Baseline Loss: 3.8799 | Actual Loss: 2.2554\n"
     ]
    },
    {
     "name": "stderr",
     "output_type": "stream",
     "text": [
      "Training:   6%|▌         | 17/300 [00:19<05:10,  1.10s/it]"
     ]
    },
    {
     "name": "stdout",
     "output_type": "stream",
     "text": [
      "Baseline Loss: 3.9495 | Actual Loss: 2.3588\n",
      "Epoch 17/300: Train Loss: 2.3128, Val Loss: 2.3588\n",
      "Baseline Loss: 3.9627 | Actual Loss: 2.3118\n",
      "Baseline Loss: 3.9636 | Actual Loss: 2.3314\n",
      "Baseline Loss: 3.9698 | Actual Loss: 2.4286\n",
      "Baseline Loss: 3.8808 | Actual Loss: 2.2621\n"
     ]
    },
    {
     "name": "stderr",
     "output_type": "stream",
     "text": [
      "Training:   6%|▌         | 18/300 [00:20<05:17,  1.13s/it]"
     ]
    },
    {
     "name": "stdout",
     "output_type": "stream",
     "text": [
      "Baseline Loss: 3.9495 | Actual Loss: 2.2624\n",
      "Epoch 18/300: Train Loss: 2.3335, Val Loss: 2.2624\n",
      "New best validation loss: 2.2624\n",
      "Baseline Loss: 3.9642 | Actual Loss: 2.3033\n",
      "Baseline Loss: 3.9726 | Actual Loss: 2.2267\n",
      "Baseline Loss: 3.9656 | Actual Loss: 2.2008\n",
      "Baseline Loss: 3.8837 | Actual Loss: 2.2018\n"
     ]
    },
    {
     "name": "stderr",
     "output_type": "stream",
     "text": [
      "Training:   6%|▋         | 19/300 [00:21<05:23,  1.15s/it]"
     ]
    },
    {
     "name": "stdout",
     "output_type": "stream",
     "text": [
      "Baseline Loss: 3.9495 | Actual Loss: 2.1799\n",
      "Epoch 19/300: Train Loss: 2.2332, Val Loss: 2.1799\n",
      "New best validation loss: 2.1799\n",
      "Baseline Loss: 3.9640 | Actual Loss: 2.2849\n",
      "Baseline Loss: 3.9752 | Actual Loss: 2.1367\n",
      "Baseline Loss: 3.9663 | Actual Loss: 2.2753\n",
      "Baseline Loss: 3.8703 | Actual Loss: 2.2283\n"
     ]
    },
    {
     "name": "stderr",
     "output_type": "stream",
     "text": [
      "Training:   7%|▋         | 20/300 [00:22<05:20,  1.15s/it]"
     ]
    },
    {
     "name": "stdout",
     "output_type": "stream",
     "text": [
      "Baseline Loss: 3.9495 | Actual Loss: 2.2774\n",
      "Epoch 20/300: Train Loss: 2.2313, Val Loss: 2.2774\n",
      "Baseline Loss: 3.9694 | Actual Loss: 2.2305\n",
      "Baseline Loss: 3.9633 | Actual Loss: 2.1672\n",
      "Baseline Loss: 3.9678 | Actual Loss: 2.2404\n",
      "Baseline Loss: 3.8742 | Actual Loss: 2.0380\n"
     ]
    },
    {
     "name": "stderr",
     "output_type": "stream",
     "text": [
      "Training:   7%|▋         | 21/300 [00:23<05:15,  1.13s/it]"
     ]
    },
    {
     "name": "stdout",
     "output_type": "stream",
     "text": [
      "Baseline Loss: 3.9495 | Actual Loss: 2.2635\n",
      "Epoch 21/300: Train Loss: 2.1690, Val Loss: 2.2635\n",
      "Baseline Loss: 3.9632 | Actual Loss: 2.1438\n",
      "Baseline Loss: 3.9653 | Actual Loss: 2.1709\n",
      "Baseline Loss: 3.9751 | Actual Loss: 2.1774\n",
      "Baseline Loss: 3.8748 | Actual Loss: 2.1458\n"
     ]
    },
    {
     "name": "stderr",
     "output_type": "stream",
     "text": [
      "Training:   7%|▋         | 22/300 [00:24<05:06,  1.10s/it]"
     ]
    },
    {
     "name": "stdout",
     "output_type": "stream",
     "text": [
      "Baseline Loss: 3.9495 | Actual Loss: 2.1821\n",
      "Epoch 22/300: Train Loss: 2.1595, Val Loss: 2.1821\n",
      "Baseline Loss: 3.9679 | Actual Loss: 2.1621\n",
      "Baseline Loss: 3.9809 | Actual Loss: 2.1311\n",
      "Baseline Loss: 3.9668 | Actual Loss: 2.1373\n",
      "Baseline Loss: 3.8702 | Actual Loss: 2.1171\n"
     ]
    },
    {
     "name": "stderr",
     "output_type": "stream",
     "text": [
      "Training:   8%|▊         | 23/300 [00:25<05:05,  1.10s/it]"
     ]
    },
    {
     "name": "stdout",
     "output_type": "stream",
     "text": [
      "Baseline Loss: 3.9495 | Actual Loss: 2.1870\n",
      "Epoch 23/300: Train Loss: 2.1369, Val Loss: 2.1870\n",
      "Baseline Loss: 3.9640 | Actual Loss: 2.2625\n",
      "Baseline Loss: 3.9709 | Actual Loss: 2.0964\n",
      "Baseline Loss: 3.9685 | Actual Loss: 2.0952\n",
      "Baseline Loss: 3.8680 | Actual Loss: 2.0657\n"
     ]
    },
    {
     "name": "stderr",
     "output_type": "stream",
     "text": [
      "Training:   8%|▊         | 24/300 [00:27<05:13,  1.14s/it]"
     ]
    },
    {
     "name": "stdout",
     "output_type": "stream",
     "text": [
      "Baseline Loss: 3.9495 | Actual Loss: 2.1552\n",
      "Epoch 24/300: Train Loss: 2.1300, Val Loss: 2.1552\n",
      "New best validation loss: 2.1552\n",
      "Baseline Loss: 3.9646 | Actual Loss: 2.1241\n",
      "Baseline Loss: 3.9622 | Actual Loss: 2.1246\n",
      "Baseline Loss: 3.9788 | Actual Loss: 2.1059\n",
      "Baseline Loss: 3.8716 | Actual Loss: 2.0624\n"
     ]
    },
    {
     "name": "stderr",
     "output_type": "stream",
     "text": [
      "Training:   8%|▊         | 25/300 [00:28<05:03,  1.10s/it]"
     ]
    },
    {
     "name": "stdout",
     "output_type": "stream",
     "text": [
      "Baseline Loss: 3.9495 | Actual Loss: 2.1631\n",
      "Epoch 25/300: Train Loss: 2.1043, Val Loss: 2.1631\n",
      "Baseline Loss: 3.9763 | Actual Loss: 1.9386\n",
      "Baseline Loss: 3.9630 | Actual Loss: 2.1947\n",
      "Baseline Loss: 3.9639 | Actual Loss: 2.0960\n",
      "Baseline Loss: 3.8726 | Actual Loss: 2.0840\n"
     ]
    },
    {
     "name": "stderr",
     "output_type": "stream",
     "text": [
      "Training:   9%|▊         | 26/300 [00:29<05:07,  1.12s/it]"
     ]
    },
    {
     "name": "stdout",
     "output_type": "stream",
     "text": [
      "Baseline Loss: 3.9495 | Actual Loss: 2.0825\n",
      "Epoch 26/300: Train Loss: 2.0783, Val Loss: 2.0825\n",
      "New best validation loss: 2.0825\n",
      "Baseline Loss: 3.9741 | Actual Loss: 2.1145\n",
      "Baseline Loss: 3.9749 | Actual Loss: 1.9933\n",
      "Baseline Loss: 3.9605 | Actual Loss: 2.0365\n",
      "Baseline Loss: 3.8658 | Actual Loss: 2.0159\n"
     ]
    },
    {
     "name": "stderr",
     "output_type": "stream",
     "text": [
      "Training:   9%|▉         | 27/300 [00:30<05:10,  1.14s/it]"
     ]
    },
    {
     "name": "stdout",
     "output_type": "stream",
     "text": [
      "Baseline Loss: 3.9495 | Actual Loss: 2.1420\n",
      "Epoch 27/300: Train Loss: 2.0401, Val Loss: 2.1420\n",
      "Baseline Loss: 3.9646 | Actual Loss: 2.1157\n",
      "Baseline Loss: 3.9644 | Actual Loss: 2.1431\n",
      "Baseline Loss: 3.9736 | Actual Loss: 2.1033\n",
      "Baseline Loss: 3.8779 | Actual Loss: 1.9579\n"
     ]
    },
    {
     "name": "stderr",
     "output_type": "stream",
     "text": [
      "Training:   9%|▉         | 28/300 [00:31<05:05,  1.12s/it]"
     ]
    },
    {
     "name": "stdout",
     "output_type": "stream",
     "text": [
      "Baseline Loss: 3.9495 | Actual Loss: 2.0173\n",
      "Epoch 28/300: Train Loss: 2.0800, Val Loss: 2.0173\n",
      "New best validation loss: 2.0173\n",
      "Baseline Loss: 3.9603 | Actual Loss: 1.9882\n",
      "Baseline Loss: 3.9718 | Actual Loss: 2.0253\n",
      "Baseline Loss: 3.9647 | Actual Loss: 2.1160\n",
      "Baseline Loss: 3.8794 | Actual Loss: 1.9484\n"
     ]
    },
    {
     "name": "stderr",
     "output_type": "stream",
     "text": [
      "Training:  10%|▉         | 29/300 [00:32<04:57,  1.10s/it]"
     ]
    },
    {
     "name": "stdout",
     "output_type": "stream",
     "text": [
      "Baseline Loss: 3.9495 | Actual Loss: 2.0163\n",
      "Epoch 29/300: Train Loss: 2.0195, Val Loss: 2.0163\n",
      "New best validation loss: 2.0163\n",
      "Baseline Loss: 3.9680 | Actual Loss: 1.9721\n",
      "Baseline Loss: 3.9658 | Actual Loss: 2.0066\n",
      "Baseline Loss: 3.9793 | Actual Loss: 2.0604\n",
      "Baseline Loss: 3.8684 | Actual Loss: 2.0645\n"
     ]
    },
    {
     "name": "stderr",
     "output_type": "stream",
     "text": [
      "Training:  10%|█         | 30/300 [00:33<04:51,  1.08s/it]"
     ]
    },
    {
     "name": "stdout",
     "output_type": "stream",
     "text": [
      "Baseline Loss: 3.9495 | Actual Loss: 2.0217\n",
      "Epoch 30/300: Train Loss: 2.0259, Val Loss: 2.0217\n",
      "Baseline Loss: 3.9723 | Actual Loss: 2.0785\n",
      "Baseline Loss: 3.9614 | Actual Loss: 1.9880\n",
      "Baseline Loss: 3.9631 | Actual Loss: 1.9659\n",
      "Baseline Loss: 3.8692 | Actual Loss: 1.9496\n"
     ]
    },
    {
     "name": "stderr",
     "output_type": "stream",
     "text": [
      "Training:  10%|█         | 31/300 [00:34<04:53,  1.09s/it]"
     ]
    },
    {
     "name": "stdout",
     "output_type": "stream",
     "text": [
      "Baseline Loss: 3.9495 | Actual Loss: 2.0803\n",
      "Epoch 31/300: Train Loss: 1.9955, Val Loss: 2.0803\n",
      "Baseline Loss: 3.9597 | Actual Loss: 1.9335\n",
      "Baseline Loss: 3.9790 | Actual Loss: 2.0170\n",
      "Baseline Loss: 3.9666 | Actual Loss: 1.9618\n",
      "Baseline Loss: 3.8647 | Actual Loss: 1.8205\n"
     ]
    },
    {
     "name": "stderr",
     "output_type": "stream",
     "text": [
      "Training:  11%|█         | 32/300 [00:35<04:46,  1.07s/it]"
     ]
    },
    {
     "name": "stdout",
     "output_type": "stream",
     "text": [
      "Baseline Loss: 3.9495 | Actual Loss: 2.0858\n",
      "Epoch 32/300: Train Loss: 1.9332, Val Loss: 2.0858\n",
      "Baseline Loss: 3.9668 | Actual Loss: 1.8662\n",
      "Baseline Loss: 3.9700 | Actual Loss: 1.8988\n",
      "Baseline Loss: 3.9720 | Actual Loss: 1.9807\n",
      "Baseline Loss: 3.8744 | Actual Loss: 1.8589\n"
     ]
    },
    {
     "name": "stderr",
     "output_type": "stream",
     "text": [
      "Training:  11%|█         | 33/300 [00:36<04:40,  1.05s/it]"
     ]
    },
    {
     "name": "stdout",
     "output_type": "stream",
     "text": [
      "Baseline Loss: 3.9495 | Actual Loss: 2.0232\n",
      "Epoch 33/300: Train Loss: 1.9012, Val Loss: 2.0232\n",
      "Baseline Loss: 3.9765 | Actual Loss: 2.1029\n",
      "Baseline Loss: 3.9646 | Actual Loss: 1.9181\n",
      "Baseline Loss: 3.9641 | Actual Loss: 1.9826\n",
      "Baseline Loss: 3.8818 | Actual Loss: 1.8874\n"
     ]
    },
    {
     "name": "stderr",
     "output_type": "stream",
     "text": [
      "Training:  11%|█▏        | 34/300 [00:37<04:41,  1.06s/it]"
     ]
    },
    {
     "name": "stdout",
     "output_type": "stream",
     "text": [
      "Baseline Loss: 3.9495 | Actual Loss: 1.9696\n",
      "Epoch 34/300: Train Loss: 1.9727, Val Loss: 1.9696\n",
      "New best validation loss: 1.9696\n",
      "Baseline Loss: 3.9621 | Actual Loss: 1.9068\n",
      "Baseline Loss: 3.9709 | Actual Loss: 1.9102\n",
      "Baseline Loss: 3.9722 | Actual Loss: 1.8836\n",
      "Baseline Loss: 3.8763 | Actual Loss: 1.9198\n"
     ]
    },
    {
     "name": "stderr",
     "output_type": "stream",
     "text": [
      "Training:  12%|█▏        | 35/300 [00:39<04:44,  1.07s/it]"
     ]
    },
    {
     "name": "stdout",
     "output_type": "stream",
     "text": [
      "Baseline Loss: 3.9495 | Actual Loss: 1.9794\n",
      "Epoch 35/300: Train Loss: 1.9051, Val Loss: 1.9794\n",
      "Baseline Loss: 3.9725 | Actual Loss: 1.9937\n",
      "Baseline Loss: 3.9695 | Actual Loss: 1.9570\n",
      "Baseline Loss: 3.9696 | Actual Loss: 1.7781\n",
      "Baseline Loss: 3.8705 | Actual Loss: 1.8423\n"
     ]
    },
    {
     "name": "stderr",
     "output_type": "stream",
     "text": [
      "Training:  12%|█▏        | 36/300 [00:40<04:42,  1.07s/it]"
     ]
    },
    {
     "name": "stdout",
     "output_type": "stream",
     "text": [
      "Baseline Loss: 3.9495 | Actual Loss: 1.9817\n",
      "Epoch 36/300: Train Loss: 1.8928, Val Loss: 1.9817\n",
      "Baseline Loss: 3.9686 | Actual Loss: 1.7777\n",
      "Baseline Loss: 3.9742 | Actual Loss: 1.9180\n",
      "Baseline Loss: 3.9704 | Actual Loss: 1.8789\n",
      "Baseline Loss: 3.8651 | Actual Loss: 1.7999\n"
     ]
    },
    {
     "name": "stderr",
     "output_type": "stream",
     "text": [
      "Training:  12%|█▏        | 37/300 [00:41<04:37,  1.05s/it]"
     ]
    },
    {
     "name": "stdout",
     "output_type": "stream",
     "text": [
      "Baseline Loss: 3.9495 | Actual Loss: 1.8918\n",
      "Epoch 37/300: Train Loss: 1.8436, Val Loss: 1.8918\n",
      "New best validation loss: 1.8918\n",
      "Baseline Loss: 3.9637 | Actual Loss: 1.8723\n",
      "Baseline Loss: 3.9763 | Actual Loss: 1.9263\n",
      "Baseline Loss: 3.9655 | Actual Loss: 1.8259\n",
      "Baseline Loss: 3.8674 | Actual Loss: 1.8179\n"
     ]
    },
    {
     "name": "stderr",
     "output_type": "stream",
     "text": [
      "Training:  13%|█▎        | 38/300 [00:42<04:38,  1.06s/it]"
     ]
    },
    {
     "name": "stdout",
     "output_type": "stream",
     "text": [
      "Baseline Loss: 3.9495 | Actual Loss: 1.9244\n",
      "Epoch 38/300: Train Loss: 1.8606, Val Loss: 1.9244\n",
      "Baseline Loss: 3.9744 | Actual Loss: 1.9885\n",
      "Baseline Loss: 3.9759 | Actual Loss: 1.8187\n",
      "Baseline Loss: 3.9699 | Actual Loss: 1.8644\n",
      "Baseline Loss: 3.8661 | Actual Loss: 1.7318\n"
     ]
    },
    {
     "name": "stderr",
     "output_type": "stream",
     "text": [
      "Training:  13%|█▎        | 39/300 [00:43<04:46,  1.10s/it]"
     ]
    },
    {
     "name": "stdout",
     "output_type": "stream",
     "text": [
      "Baseline Loss: 3.9495 | Actual Loss: 1.8651\n",
      "Epoch 39/300: Train Loss: 1.8509, Val Loss: 1.8651\n",
      "New best validation loss: 1.8651\n",
      "Baseline Loss: 3.9708 | Actual Loss: 1.9783\n",
      "Baseline Loss: 3.9678 | Actual Loss: 1.8090\n",
      "Baseline Loss: 3.9710 | Actual Loss: 1.7829\n",
      "Baseline Loss: 3.8685 | Actual Loss: 1.6894\n"
     ]
    },
    {
     "name": "stderr",
     "output_type": "stream",
     "text": [
      "Training:  13%|█▎        | 40/300 [00:44<04:48,  1.11s/it]"
     ]
    },
    {
     "name": "stdout",
     "output_type": "stream",
     "text": [
      "Baseline Loss: 3.9495 | Actual Loss: 1.8355\n",
      "Epoch 40/300: Train Loss: 1.8149, Val Loss: 1.8355\n",
      "New best validation loss: 1.8355\n",
      "Baseline Loss: 3.9710 | Actual Loss: 1.8714\n",
      "Baseline Loss: 3.9630 | Actual Loss: 1.8158\n",
      "Baseline Loss: 3.9730 | Actual Loss: 1.7508\n",
      "Baseline Loss: 3.8775 | Actual Loss: 1.8595\n"
     ]
    },
    {
     "name": "stderr",
     "output_type": "stream",
     "text": [
      "Training:  14%|█▎        | 41/300 [00:45<04:46,  1.10s/it]"
     ]
    },
    {
     "name": "stdout",
     "output_type": "stream",
     "text": [
      "Baseline Loss: 3.9495 | Actual Loss: 1.8963\n",
      "Epoch 41/300: Train Loss: 1.8244, Val Loss: 1.8963\n",
      "Baseline Loss: 3.9574 | Actual Loss: 1.8091\n",
      "Baseline Loss: 3.9571 | Actual Loss: 1.7539\n",
      "Baseline Loss: 3.9761 | Actual Loss: 1.8314\n",
      "Baseline Loss: 3.8847 | Actual Loss: 1.7943\n"
     ]
    },
    {
     "name": "stderr",
     "output_type": "stream",
     "text": [
      "Training:  14%|█▍        | 42/300 [00:46<04:47,  1.12s/it]"
     ]
    },
    {
     "name": "stdout",
     "output_type": "stream",
     "text": [
      "Baseline Loss: 3.9495 | Actual Loss: 1.8794\n",
      "Epoch 42/300: Train Loss: 1.7972, Val Loss: 1.8794\n",
      "Baseline Loss: 3.9759 | Actual Loss: 1.7233\n",
      "Baseline Loss: 3.9783 | Actual Loss: 1.9561\n",
      "Baseline Loss: 3.9627 | Actual Loss: 1.8794\n",
      "Baseline Loss: 3.8695 | Actual Loss: 1.7057\n"
     ]
    },
    {
     "name": "stderr",
     "output_type": "stream",
     "text": [
      "Training:  14%|█▍        | 43/300 [00:47<04:51,  1.14s/it]"
     ]
    },
    {
     "name": "stdout",
     "output_type": "stream",
     "text": [
      "Baseline Loss: 3.9495 | Actual Loss: 1.8482\n",
      "Epoch 43/300: Train Loss: 1.8161, Val Loss: 1.8482\n",
      "Baseline Loss: 3.9715 | Actual Loss: 1.7407\n",
      "Baseline Loss: 3.9669 | Actual Loss: 1.8609\n",
      "Baseline Loss: 3.9692 | Actual Loss: 1.7614\n",
      "Baseline Loss: 3.8774 | Actual Loss: 1.8071\n"
     ]
    },
    {
     "name": "stderr",
     "output_type": "stream",
     "text": [
      "Training:  15%|█▍        | 44/300 [00:49<04:56,  1.16s/it]"
     ]
    },
    {
     "name": "stdout",
     "output_type": "stream",
     "text": [
      "Baseline Loss: 3.9495 | Actual Loss: 1.8463\n",
      "Epoch 44/300: Train Loss: 1.7925, Val Loss: 1.8463\n",
      "Baseline Loss: 3.9700 | Actual Loss: 1.7544\n",
      "Baseline Loss: 3.9698 | Actual Loss: 1.8004\n",
      "Baseline Loss: 3.9675 | Actual Loss: 1.7321\n",
      "Baseline Loss: 3.8670 | Actual Loss: 1.7623\n"
     ]
    },
    {
     "name": "stderr",
     "output_type": "stream",
     "text": [
      "Training:  15%|█▌        | 45/300 [00:50<04:54,  1.16s/it]"
     ]
    },
    {
     "name": "stdout",
     "output_type": "stream",
     "text": [
      "Baseline Loss: 3.9495 | Actual Loss: 1.7918\n",
      "Epoch 45/300: Train Loss: 1.7623, Val Loss: 1.7918\n",
      "New best validation loss: 1.7918\n",
      "Baseline Loss: 3.9626 | Actual Loss: 1.7348\n",
      "Baseline Loss: 3.9641 | Actual Loss: 1.5686\n",
      "Baseline Loss: 3.9691 | Actual Loss: 1.7927\n",
      "Baseline Loss: 3.8763 | Actual Loss: 1.7049\n"
     ]
    },
    {
     "name": "stderr",
     "output_type": "stream",
     "text": [
      "Training:  15%|█▌        | 46/300 [00:51<04:58,  1.17s/it]"
     ]
    },
    {
     "name": "stdout",
     "output_type": "stream",
     "text": [
      "Baseline Loss: 3.9495 | Actual Loss: 1.7820\n",
      "Epoch 46/300: Train Loss: 1.7003, Val Loss: 1.7820\n",
      "New best validation loss: 1.7820\n",
      "Baseline Loss: 3.9666 | Actual Loss: 1.6849\n",
      "Baseline Loss: 3.9687 | Actual Loss: 1.7609\n",
      "Baseline Loss: 3.9586 | Actual Loss: 1.7385\n",
      "Baseline Loss: 3.8757 | Actual Loss: 1.7780\n"
     ]
    },
    {
     "name": "stderr",
     "output_type": "stream",
     "text": [
      "Training:  16%|█▌        | 47/300 [00:52<05:00,  1.19s/it]"
     ]
    },
    {
     "name": "stdout",
     "output_type": "stream",
     "text": [
      "Baseline Loss: 3.9495 | Actual Loss: 1.8090\n",
      "Epoch 47/300: Train Loss: 1.7406, Val Loss: 1.8090\n",
      "Baseline Loss: 3.9700 | Actual Loss: 1.6278\n",
      "Baseline Loss: 3.9699 | Actual Loss: 1.6295\n",
      "Baseline Loss: 3.9681 | Actual Loss: 1.8272\n",
      "Baseline Loss: 3.8709 | Actual Loss: 1.7374\n"
     ]
    },
    {
     "name": "stderr",
     "output_type": "stream",
     "text": [
      "Training:  16%|█▌        | 48/300 [00:53<04:55,  1.17s/it]"
     ]
    },
    {
     "name": "stdout",
     "output_type": "stream",
     "text": [
      "Baseline Loss: 3.9495 | Actual Loss: 1.6789\n",
      "Epoch 48/300: Train Loss: 1.7055, Val Loss: 1.6789\n",
      "New best validation loss: 1.6789\n",
      "Baseline Loss: 3.9683 | Actual Loss: 1.7393\n",
      "Baseline Loss: 3.9726 | Actual Loss: 1.7307\n",
      "Baseline Loss: 3.9713 | Actual Loss: 1.8245\n",
      "Baseline Loss: 3.8683 | Actual Loss: 1.6329\n"
     ]
    },
    {
     "name": "stderr",
     "output_type": "stream",
     "text": [
      "Training:  16%|█▋        | 49/300 [00:54<04:49,  1.15s/it]"
     ]
    },
    {
     "name": "stdout",
     "output_type": "stream",
     "text": [
      "Baseline Loss: 3.9495 | Actual Loss: 1.7867\n",
      "Epoch 49/300: Train Loss: 1.7319, Val Loss: 1.7867\n",
      "Baseline Loss: 3.9623 | Actual Loss: 1.6339\n",
      "Baseline Loss: 3.9689 | Actual Loss: 1.7002\n",
      "Baseline Loss: 3.9704 | Actual Loss: 1.8158\n",
      "Baseline Loss: 3.8745 | Actual Loss: 1.7195\n"
     ]
    },
    {
     "name": "stderr",
     "output_type": "stream",
     "text": [
      "Training:  17%|█▋        | 50/300 [00:56<04:49,  1.16s/it]"
     ]
    },
    {
     "name": "stdout",
     "output_type": "stream",
     "text": [
      "Baseline Loss: 3.9495 | Actual Loss: 1.8290\n",
      "Epoch 50/300: Train Loss: 1.7174, Val Loss: 1.8290\n",
      "Baseline Loss: 3.9714 | Actual Loss: 1.6935\n",
      "Baseline Loss: 3.9737 | Actual Loss: 1.7383\n",
      "Baseline Loss: 3.9729 | Actual Loss: 1.8132\n",
      "Baseline Loss: 3.8655 | Actual Loss: 1.4921\n"
     ]
    },
    {
     "name": "stderr",
     "output_type": "stream",
     "text": [
      "Training:  17%|█▋        | 51/300 [00:57<04:50,  1.17s/it]"
     ]
    },
    {
     "name": "stdout",
     "output_type": "stream",
     "text": [
      "Baseline Loss: 3.9495 | Actual Loss: 1.7386\n",
      "Epoch 51/300: Train Loss: 1.6843, Val Loss: 1.7386\n",
      "Baseline Loss: 3.9641 | Actual Loss: 1.5902\n",
      "Baseline Loss: 3.9731 | Actual Loss: 1.4914\n",
      "Baseline Loss: 3.9718 | Actual Loss: 1.7344\n",
      "Baseline Loss: 3.8745 | Actual Loss: 1.6864\n"
     ]
    },
    {
     "name": "stderr",
     "output_type": "stream",
     "text": [
      "Training:  17%|█▋        | 52/300 [00:58<04:59,  1.21s/it]"
     ]
    },
    {
     "name": "stdout",
     "output_type": "stream",
     "text": [
      "Baseline Loss: 3.9495 | Actual Loss: 1.7075\n",
      "Epoch 52/300: Train Loss: 1.6256, Val Loss: 1.7075\n",
      "Baseline Loss: 3.9626 | Actual Loss: 1.5392\n",
      "Baseline Loss: 3.9762 | Actual Loss: 1.8432\n",
      "Baseline Loss: 3.9702 | Actual Loss: 1.5940\n",
      "Baseline Loss: 3.8693 | Actual Loss: 1.5908\n"
     ]
    },
    {
     "name": "stderr",
     "output_type": "stream",
     "text": [
      "Training:  18%|█▊        | 53/300 [00:59<04:53,  1.19s/it]"
     ]
    },
    {
     "name": "stdout",
     "output_type": "stream",
     "text": [
      "Baseline Loss: 3.9495 | Actual Loss: 1.7489\n",
      "Epoch 53/300: Train Loss: 1.6418, Val Loss: 1.7489\n",
      "Baseline Loss: 3.9659 | Actual Loss: 1.7298\n",
      "Baseline Loss: 3.9797 | Actual Loss: 1.6828\n",
      "Baseline Loss: 3.9645 | Actual Loss: 1.6919\n",
      "Baseline Loss: 3.8744 | Actual Loss: 1.6321\n"
     ]
    },
    {
     "name": "stderr",
     "output_type": "stream",
     "text": [
      "Training:  18%|█▊        | 54/300 [01:00<04:47,  1.17s/it]"
     ]
    },
    {
     "name": "stdout",
     "output_type": "stream",
     "text": [
      "Baseline Loss: 3.9495 | Actual Loss: 1.6832\n",
      "Epoch 54/300: Train Loss: 1.6842, Val Loss: 1.6832\n",
      "Baseline Loss: 3.9665 | Actual Loss: 1.6821\n",
      "Baseline Loss: 3.9619 | Actual Loss: 1.6845\n",
      "Baseline Loss: 3.9670 | Actual Loss: 1.7385\n",
      "Baseline Loss: 3.8796 | Actual Loss: 1.4804\n"
     ]
    },
    {
     "name": "stderr",
     "output_type": "stream",
     "text": [
      "Training:  18%|█▊        | 55/300 [01:02<04:47,  1.17s/it]"
     ]
    },
    {
     "name": "stdout",
     "output_type": "stream",
     "text": [
      "Baseline Loss: 3.9495 | Actual Loss: 1.6660\n",
      "Epoch 55/300: Train Loss: 1.6464, Val Loss: 1.6660\n",
      "New best validation loss: 1.6660\n",
      "Baseline Loss: 3.9705 | Actual Loss: 1.5542\n",
      "Baseline Loss: 3.9656 | Actual Loss: 1.5573\n",
      "Baseline Loss: 3.9708 | Actual Loss: 1.6932\n",
      "Baseline Loss: 3.8760 | Actual Loss: 1.5829\n"
     ]
    },
    {
     "name": "stderr",
     "output_type": "stream",
     "text": [
      "Training:  19%|█▊        | 56/300 [01:03<04:41,  1.16s/it]"
     ]
    },
    {
     "name": "stdout",
     "output_type": "stream",
     "text": [
      "Baseline Loss: 3.9495 | Actual Loss: 1.6738\n",
      "Epoch 56/300: Train Loss: 1.5969, Val Loss: 1.6738\n",
      "Baseline Loss: 3.9792 | Actual Loss: 1.6397\n",
      "Baseline Loss: 3.9671 | Actual Loss: 1.6055\n",
      "Baseline Loss: 3.9696 | Actual Loss: 1.6603\n",
      "Baseline Loss: 3.8753 | Actual Loss: 1.6245\n"
     ]
    },
    {
     "name": "stderr",
     "output_type": "stream",
     "text": [
      "Training:  19%|█▉        | 57/300 [01:04<04:34,  1.13s/it]"
     ]
    },
    {
     "name": "stdout",
     "output_type": "stream",
     "text": [
      "Baseline Loss: 3.9495 | Actual Loss: 1.7388\n",
      "Epoch 57/300: Train Loss: 1.6325, Val Loss: 1.7388\n",
      "Baseline Loss: 3.9704 | Actual Loss: 1.5614\n",
      "Baseline Loss: 3.9742 | Actual Loss: 1.6487\n",
      "Baseline Loss: 3.9674 | Actual Loss: 1.5501\n",
      "Baseline Loss: 3.8673 | Actual Loss: 1.6026\n"
     ]
    },
    {
     "name": "stderr",
     "output_type": "stream",
     "text": [
      "Training:  19%|█▉        | 58/300 [01:05<04:37,  1.15s/it]"
     ]
    },
    {
     "name": "stdout",
     "output_type": "stream",
     "text": [
      "Baseline Loss: 3.9495 | Actual Loss: 1.7138\n",
      "Epoch 58/300: Train Loss: 1.5907, Val Loss: 1.7138\n",
      "Baseline Loss: 3.9624 | Actual Loss: 1.5798\n",
      "Baseline Loss: 3.9680 | Actual Loss: 1.6663\n",
      "Baseline Loss: 3.9673 | Actual Loss: 1.6820\n",
      "Baseline Loss: 3.8845 | Actual Loss: 1.4429\n"
     ]
    },
    {
     "name": "stderr",
     "output_type": "stream",
     "text": [
      "Training:  20%|█▉        | 59/300 [01:06<04:35,  1.14s/it]"
     ]
    },
    {
     "name": "stdout",
     "output_type": "stream",
     "text": [
      "Baseline Loss: 3.9495 | Actual Loss: 1.6417\n",
      "Epoch 59/300: Train Loss: 1.5928, Val Loss: 1.6417\n",
      "New best validation loss: 1.6417\n",
      "Baseline Loss: 3.9686 | Actual Loss: 1.6156\n",
      "Baseline Loss: 3.9764 | Actual Loss: 1.6528\n",
      "Baseline Loss: 3.9707 | Actual Loss: 1.6374\n",
      "Baseline Loss: 3.8711 | Actual Loss: 1.5296\n"
     ]
    },
    {
     "name": "stderr",
     "output_type": "stream",
     "text": [
      "Training:  20%|██        | 60/300 [01:07<04:38,  1.16s/it]"
     ]
    },
    {
     "name": "stdout",
     "output_type": "stream",
     "text": [
      "Baseline Loss: 3.9495 | Actual Loss: 1.6594\n",
      "Epoch 60/300: Train Loss: 1.6088, Val Loss: 1.6594\n",
      "Baseline Loss: 3.9681 | Actual Loss: 1.5241\n",
      "Baseline Loss: 3.9662 | Actual Loss: 1.6031\n",
      "Baseline Loss: 3.9722 | Actual Loss: 1.5296\n",
      "Baseline Loss: 3.8656 | Actual Loss: 1.4276\n"
     ]
    },
    {
     "name": "stderr",
     "output_type": "stream",
     "text": [
      "Training:  20%|██        | 61/300 [01:09<04:44,  1.19s/it]"
     ]
    },
    {
     "name": "stdout",
     "output_type": "stream",
     "text": [
      "Baseline Loss: 3.9495 | Actual Loss: 1.6560\n",
      "Epoch 61/300: Train Loss: 1.5211, Val Loss: 1.6560\n",
      "Baseline Loss: 3.9678 | Actual Loss: 1.5755\n",
      "Baseline Loss: 3.9659 | Actual Loss: 1.4148\n",
      "Baseline Loss: 3.9608 | Actual Loss: 1.5413\n",
      "Baseline Loss: 3.8735 | Actual Loss: 1.5347\n"
     ]
    },
    {
     "name": "stderr",
     "output_type": "stream",
     "text": [
      "Training:  21%|██        | 62/300 [01:10<04:38,  1.17s/it]"
     ]
    },
    {
     "name": "stdout",
     "output_type": "stream",
     "text": [
      "Baseline Loss: 3.9495 | Actual Loss: 1.6252\n",
      "Epoch 62/300: Train Loss: 1.5166, Val Loss: 1.6252\n",
      "New best validation loss: 1.6252\n",
      "Baseline Loss: 3.9687 | Actual Loss: 1.3798\n",
      "Baseline Loss: 3.9650 | Actual Loss: 1.5866\n",
      "Baseline Loss: 3.9711 | Actual Loss: 1.5197\n",
      "Baseline Loss: 3.8733 | Actual Loss: 1.5007\n"
     ]
    },
    {
     "name": "stderr",
     "output_type": "stream",
     "text": [
      "Training:  21%|██        | 63/300 [01:11<04:37,  1.17s/it]"
     ]
    },
    {
     "name": "stdout",
     "output_type": "stream",
     "text": [
      "Baseline Loss: 3.9495 | Actual Loss: 1.5880\n",
      "Epoch 63/300: Train Loss: 1.4967, Val Loss: 1.5880\n",
      "New best validation loss: 1.5880\n",
      "Baseline Loss: 3.9669 | Actual Loss: 1.5050\n",
      "Baseline Loss: 3.9616 | Actual Loss: 1.4962\n",
      "Baseline Loss: 3.9707 | Actual Loss: 1.4879\n",
      "Baseline Loss: 3.8900 | Actual Loss: 1.2814\n"
     ]
    },
    {
     "name": "stderr",
     "output_type": "stream",
     "text": [
      "Training:  21%|██▏       | 64/300 [01:12<04:36,  1.17s/it]"
     ]
    },
    {
     "name": "stdout",
     "output_type": "stream",
     "text": [
      "Baseline Loss: 3.9495 | Actual Loss: 1.7208\n",
      "Epoch 64/300: Train Loss: 1.4426, Val Loss: 1.7208\n",
      "Baseline Loss: 3.9767 | Actual Loss: 1.5116\n",
      "Baseline Loss: 3.9687 | Actual Loss: 1.5222\n",
      "Baseline Loss: 3.9675 | Actual Loss: 1.4976\n",
      "Baseline Loss: 3.8719 | Actual Loss: 1.6473\n"
     ]
    },
    {
     "name": "stderr",
     "output_type": "stream",
     "text": [
      "Training:  22%|██▏       | 65/300 [01:13<04:38,  1.18s/it]"
     ]
    },
    {
     "name": "stdout",
     "output_type": "stream",
     "text": [
      "Baseline Loss: 3.9495 | Actual Loss: 1.6147\n",
      "Epoch 65/300: Train Loss: 1.5447, Val Loss: 1.6147\n",
      "Baseline Loss: 3.9763 | Actual Loss: 1.5009\n",
      "Baseline Loss: 3.9581 | Actual Loss: 1.6405\n",
      "Baseline Loss: 3.9597 | Actual Loss: 1.5178\n",
      "Baseline Loss: 3.8735 | Actual Loss: 1.4963\n"
     ]
    },
    {
     "name": "stderr",
     "output_type": "stream",
     "text": [
      "Training:  22%|██▏       | 66/300 [01:14<04:42,  1.21s/it]"
     ]
    },
    {
     "name": "stdout",
     "output_type": "stream",
     "text": [
      "Baseline Loss: 3.9495 | Actual Loss: 1.5940\n",
      "Epoch 66/300: Train Loss: 1.5389, Val Loss: 1.5940\n",
      "Baseline Loss: 3.9675 | Actual Loss: 1.4058\n",
      "Baseline Loss: 3.9757 | Actual Loss: 1.5900\n",
      "Baseline Loss: 3.9662 | Actual Loss: 1.4456\n",
      "Baseline Loss: 3.8688 | Actual Loss: 1.4587\n"
     ]
    },
    {
     "name": "stderr",
     "output_type": "stream",
     "text": [
      "Training:  22%|██▏       | 67/300 [01:16<04:43,  1.22s/it]"
     ]
    },
    {
     "name": "stdout",
     "output_type": "stream",
     "text": [
      "Baseline Loss: 3.9495 | Actual Loss: 1.6696\n",
      "Epoch 67/300: Train Loss: 1.4750, Val Loss: 1.6696\n",
      "Baseline Loss: 3.9614 | Actual Loss: 1.4132\n",
      "Baseline Loss: 3.9680 | Actual Loss: 1.4734\n",
      "Baseline Loss: 3.9733 | Actual Loss: 1.5079\n",
      "Baseline Loss: 3.8779 | Actual Loss: 1.4348\n"
     ]
    },
    {
     "name": "stderr",
     "output_type": "stream",
     "text": [
      "Training:  23%|██▎       | 68/300 [01:17<04:33,  1.18s/it]"
     ]
    },
    {
     "name": "stdout",
     "output_type": "stream",
     "text": [
      "Baseline Loss: 3.9495 | Actual Loss: 1.4681\n",
      "Epoch 68/300: Train Loss: 1.4573, Val Loss: 1.4681\n",
      "New best validation loss: 1.4681\n",
      "Baseline Loss: 3.9635 | Actual Loss: 1.5320\n",
      "Baseline Loss: 3.9774 | Actual Loss: 1.6613\n",
      "Baseline Loss: 3.9635 | Actual Loss: 1.4290\n",
      "Baseline Loss: 3.8711 | Actual Loss: 1.3324\n"
     ]
    },
    {
     "name": "stderr",
     "output_type": "stream",
     "text": [
      "Training:  23%|██▎       | 69/300 [01:18<04:27,  1.16s/it]"
     ]
    },
    {
     "name": "stdout",
     "output_type": "stream",
     "text": [
      "Baseline Loss: 3.9495 | Actual Loss: 1.5279\n",
      "Epoch 69/300: Train Loss: 1.4887, Val Loss: 1.5279\n",
      "Baseline Loss: 3.9652 | Actual Loss: 1.5917\n",
      "Baseline Loss: 3.9695 | Actual Loss: 1.4032\n",
      "Baseline Loss: 3.9640 | Actual Loss: 1.5326\n",
      "Baseline Loss: 3.8769 | Actual Loss: 1.2614\n"
     ]
    },
    {
     "name": "stderr",
     "output_type": "stream",
     "text": [
      "Training:  23%|██▎       | 70/300 [01:19<04:18,  1.12s/it]"
     ]
    },
    {
     "name": "stdout",
     "output_type": "stream",
     "text": [
      "Baseline Loss: 3.9495 | Actual Loss: 1.6122\n",
      "Epoch 70/300: Train Loss: 1.4472, Val Loss: 1.6122\n",
      "Baseline Loss: 3.9714 | Actual Loss: 1.4532\n",
      "Baseline Loss: 3.9625 | Actual Loss: 1.3687\n",
      "Baseline Loss: 3.9659 | Actual Loss: 1.5058\n",
      "Baseline Loss: 3.8761 | Actual Loss: 1.3307\n"
     ]
    },
    {
     "name": "stderr",
     "output_type": "stream",
     "text": [
      "Training:  24%|██▎       | 71/300 [01:20<04:13,  1.11s/it]"
     ]
    },
    {
     "name": "stdout",
     "output_type": "stream",
     "text": [
      "Baseline Loss: 3.9495 | Actual Loss: 1.5676\n",
      "Epoch 71/300: Train Loss: 1.4146, Val Loss: 1.5676\n",
      "Baseline Loss: 3.9541 | Actual Loss: 1.3380\n",
      "Baseline Loss: 3.9832 | Actual Loss: 1.5753\n",
      "Baseline Loss: 3.9574 | Actual Loss: 1.4178\n",
      "Baseline Loss: 3.8848 | Actual Loss: 1.5224\n"
     ]
    },
    {
     "name": "stderr",
     "output_type": "stream",
     "text": [
      "Training:  24%|██▍       | 72/300 [01:21<04:12,  1.11s/it]"
     ]
    },
    {
     "name": "stdout",
     "output_type": "stream",
     "text": [
      "Baseline Loss: 3.9495 | Actual Loss: 1.5621\n",
      "Epoch 72/300: Train Loss: 1.4634, Val Loss: 1.5621\n",
      "Baseline Loss: 3.9703 | Actual Loss: 1.4925\n",
      "Baseline Loss: 3.9800 | Actual Loss: 1.4168\n",
      "Baseline Loss: 3.9664 | Actual Loss: 1.5064\n",
      "Baseline Loss: 3.8605 | Actual Loss: 1.2828\n"
     ]
    },
    {
     "name": "stderr",
     "output_type": "stream",
     "text": [
      "Training:  24%|██▍       | 73/300 [01:22<04:12,  1.11s/it]"
     ]
    },
    {
     "name": "stdout",
     "output_type": "stream",
     "text": [
      "Baseline Loss: 3.9495 | Actual Loss: 1.4941\n",
      "Epoch 73/300: Train Loss: 1.4246, Val Loss: 1.4941\n",
      "Baseline Loss: 3.9685 | Actual Loss: 1.4781\n",
      "Baseline Loss: 3.9730 | Actual Loss: 1.4854\n",
      "Baseline Loss: 3.9715 | Actual Loss: 1.4135\n",
      "Baseline Loss: 3.8717 | Actual Loss: 1.3342\n"
     ]
    },
    {
     "name": "stderr",
     "output_type": "stream",
     "text": [
      "Training:  25%|██▍       | 74/300 [01:23<04:08,  1.10s/it]"
     ]
    },
    {
     "name": "stdout",
     "output_type": "stream",
     "text": [
      "Baseline Loss: 3.9495 | Actual Loss: 1.5021\n",
      "Epoch 74/300: Train Loss: 1.4278, Val Loss: 1.5021\n",
      "Baseline Loss: 3.9670 | Actual Loss: 1.3776\n",
      "Baseline Loss: 3.9677 | Actual Loss: 1.4947\n",
      "Baseline Loss: 3.9674 | Actual Loss: 1.4347\n",
      "Baseline Loss: 3.8674 | Actual Loss: 1.4701\n"
     ]
    },
    {
     "name": "stderr",
     "output_type": "stream",
     "text": [
      "Training:  25%|██▌       | 75/300 [01:24<04:12,  1.12s/it]"
     ]
    },
    {
     "name": "stdout",
     "output_type": "stream",
     "text": [
      "Baseline Loss: 3.9495 | Actual Loss: 1.5109\n",
      "Epoch 75/300: Train Loss: 1.4443, Val Loss: 1.5109\n",
      "Baseline Loss: 3.9642 | Actual Loss: 1.4480\n",
      "Baseline Loss: 3.9606 | Actual Loss: 1.2908\n",
      "Baseline Loss: 3.9670 | Actual Loss: 1.4289\n",
      "Baseline Loss: 3.8791 | Actual Loss: 1.3379\n"
     ]
    },
    {
     "name": "stderr",
     "output_type": "stream",
     "text": [
      "Training:  25%|██▌       | 76/300 [01:26<04:07,  1.11s/it]"
     ]
    },
    {
     "name": "stdout",
     "output_type": "stream",
     "text": [
      "Baseline Loss: 3.9495 | Actual Loss: 1.5708\n",
      "Epoch 76/300: Train Loss: 1.3764, Val Loss: 1.5708\n",
      "Baseline Loss: 3.9642 | Actual Loss: 1.2084\n",
      "Baseline Loss: 3.9670 | Actual Loss: 1.3826\n",
      "Baseline Loss: 3.9775 | Actual Loss: 1.3528\n",
      "Baseline Loss: 3.8703 | Actual Loss: 1.4735\n"
     ]
    },
    {
     "name": "stderr",
     "output_type": "stream",
     "text": [
      "Training:  26%|██▌       | 77/300 [01:27<04:07,  1.11s/it]"
     ]
    },
    {
     "name": "stdout",
     "output_type": "stream",
     "text": [
      "Baseline Loss: 3.9495 | Actual Loss: 1.5261\n",
      "Epoch 77/300: Train Loss: 1.3543, Val Loss: 1.5261\n",
      "Baseline Loss: 3.9744 | Actual Loss: 1.2630\n",
      "Baseline Loss: 3.9644 | Actual Loss: 1.4133\n",
      "Baseline Loss: 3.9655 | Actual Loss: 1.4819\n",
      "Baseline Loss: 3.8719 | Actual Loss: 1.3708\n"
     ]
    },
    {
     "name": "stderr",
     "output_type": "stream",
     "text": [
      "Training:  26%|██▌       | 78/300 [01:28<04:06,  1.11s/it]"
     ]
    },
    {
     "name": "stdout",
     "output_type": "stream",
     "text": [
      "Baseline Loss: 3.9495 | Actual Loss: 1.4339\n",
      "Epoch 78/300: Train Loss: 1.3822, Val Loss: 1.4339\n",
      "New best validation loss: 1.4339\n",
      "Baseline Loss: 3.9638 | Actual Loss: 1.3464\n",
      "Baseline Loss: 3.9725 | Actual Loss: 1.4136\n",
      "Baseline Loss: 3.9746 | Actual Loss: 1.3050\n",
      "Baseline Loss: 3.8682 | Actual Loss: 1.4005\n"
     ]
    },
    {
     "name": "stderr",
     "output_type": "stream",
     "text": [
      "Training:  26%|██▋       | 79/300 [01:29<04:07,  1.12s/it]"
     ]
    },
    {
     "name": "stdout",
     "output_type": "stream",
     "text": [
      "Baseline Loss: 3.9495 | Actual Loss: 1.4438\n",
      "Epoch 79/300: Train Loss: 1.3664, Val Loss: 1.4438\n",
      "Baseline Loss: 3.9740 | Actual Loss: 1.4982\n",
      "Baseline Loss: 3.9699 | Actual Loss: 1.3280\n",
      "Baseline Loss: 3.9653 | Actual Loss: 1.3516\n",
      "Baseline Loss: 3.8715 | Actual Loss: 1.4228\n"
     ]
    },
    {
     "name": "stderr",
     "output_type": "stream",
     "text": [
      "Training:  27%|██▋       | 80/300 [01:30<04:02,  1.10s/it]"
     ]
    },
    {
     "name": "stdout",
     "output_type": "stream",
     "text": [
      "Baseline Loss: 3.9495 | Actual Loss: 1.5064\n",
      "Epoch 80/300: Train Loss: 1.4001, Val Loss: 1.5064\n",
      "Baseline Loss: 3.9696 | Actual Loss: 1.2756\n",
      "Baseline Loss: 3.9711 | Actual Loss: 1.5601\n",
      "Baseline Loss: 3.9624 | Actual Loss: 1.3516\n",
      "Baseline Loss: 3.8816 | Actual Loss: 1.1544\n"
     ]
    },
    {
     "name": "stderr",
     "output_type": "stream",
     "text": [
      "Training:  27%|██▋       | 81/300 [01:31<04:01,  1.10s/it]"
     ]
    },
    {
     "name": "stdout",
     "output_type": "stream",
     "text": [
      "Baseline Loss: 3.9495 | Actual Loss: 1.5384\n",
      "Epoch 81/300: Train Loss: 1.3354, Val Loss: 1.5384\n",
      "Baseline Loss: 3.9661 | Actual Loss: 1.3170\n",
      "Baseline Loss: 3.9714 | Actual Loss: 1.3542\n",
      "Baseline Loss: 3.9626 | Actual Loss: 1.4179\n",
      "Baseline Loss: 3.8725 | Actual Loss: 1.2899\n"
     ]
    },
    {
     "name": "stderr",
     "output_type": "stream",
     "text": [
      "Training:  27%|██▋       | 82/300 [01:32<04:02,  1.11s/it]"
     ]
    },
    {
     "name": "stdout",
     "output_type": "stream",
     "text": [
      "Baseline Loss: 3.9495 | Actual Loss: 1.4616\n",
      "Epoch 82/300: Train Loss: 1.3448, Val Loss: 1.4616\n",
      "Baseline Loss: 3.9602 | Actual Loss: 1.3759\n",
      "Baseline Loss: 3.9658 | Actual Loss: 1.3859\n",
      "Baseline Loss: 3.9711 | Actual Loss: 1.3906\n",
      "Baseline Loss: 3.8707 | Actual Loss: 1.2405\n"
     ]
    },
    {
     "name": "stderr",
     "output_type": "stream",
     "text": [
      "Training:  28%|██▊       | 83/300 [01:33<03:58,  1.10s/it]"
     ]
    },
    {
     "name": "stdout",
     "output_type": "stream",
     "text": [
      "Baseline Loss: 3.9495 | Actual Loss: 1.4532\n",
      "Epoch 83/300: Train Loss: 1.3482, Val Loss: 1.4532\n",
      "Baseline Loss: 3.9691 | Actual Loss: 1.2648\n",
      "Baseline Loss: 3.9674 | Actual Loss: 1.4758\n",
      "Baseline Loss: 3.9599 | Actual Loss: 1.3083\n",
      "Baseline Loss: 3.8835 | Actual Loss: 1.2496\n"
     ]
    },
    {
     "name": "stderr",
     "output_type": "stream",
     "text": [
      "Training:  28%|██▊       | 84/300 [01:34<03:55,  1.09s/it]"
     ]
    },
    {
     "name": "stdout",
     "output_type": "stream",
     "text": [
      "Baseline Loss: 3.9495 | Actual Loss: 1.4229\n",
      "Epoch 84/300: Train Loss: 1.3246, Val Loss: 1.4229\n",
      "New best validation loss: 1.4229\n",
      "Baseline Loss: 3.9673 | Actual Loss: 1.3254\n",
      "Baseline Loss: 3.9641 | Actual Loss: 1.2346\n",
      "Baseline Loss: 3.9704 | Actual Loss: 1.4164\n",
      "Baseline Loss: 3.8744 | Actual Loss: 1.2952\n"
     ]
    },
    {
     "name": "stderr",
     "output_type": "stream",
     "text": [
      "Training:  28%|██▊       | 85/300 [01:36<04:01,  1.12s/it]"
     ]
    },
    {
     "name": "stdout",
     "output_type": "stream",
     "text": [
      "Baseline Loss: 3.9495 | Actual Loss: 1.4848\n",
      "Epoch 85/300: Train Loss: 1.3179, Val Loss: 1.4848\n",
      "Baseline Loss: 3.9599 | Actual Loss: 1.3505\n",
      "Baseline Loss: 3.9685 | Actual Loss: 1.2455\n",
      "Baseline Loss: 3.9770 | Actual Loss: 1.3158\n",
      "Baseline Loss: 3.8764 | Actual Loss: 1.3398\n"
     ]
    },
    {
     "name": "stderr",
     "output_type": "stream",
     "text": [
      "Training:  29%|██▊       | 86/300 [01:37<04:05,  1.15s/it]"
     ]
    },
    {
     "name": "stdout",
     "output_type": "stream",
     "text": [
      "Baseline Loss: 3.9495 | Actual Loss: 1.3569\n",
      "Epoch 86/300: Train Loss: 1.3129, Val Loss: 1.3569\n",
      "New best validation loss: 1.3569\n",
      "Baseline Loss: 3.9707 | Actual Loss: 1.3597\n",
      "Baseline Loss: 3.9628 | Actual Loss: 1.3222\n",
      "Baseline Loss: 3.9707 | Actual Loss: 1.4376\n",
      "Baseline Loss: 3.8649 | Actual Loss: 1.2901\n"
     ]
    },
    {
     "name": "stderr",
     "output_type": "stream",
     "text": [
      "Training:  29%|██▉       | 87/300 [01:38<04:04,  1.15s/it]"
     ]
    },
    {
     "name": "stdout",
     "output_type": "stream",
     "text": [
      "Baseline Loss: 3.9495 | Actual Loss: 1.5127\n",
      "Epoch 87/300: Train Loss: 1.3524, Val Loss: 1.5127\n",
      "Baseline Loss: 3.9668 | Actual Loss: 1.3177\n",
      "Baseline Loss: 3.9733 | Actual Loss: 1.3117\n",
      "Baseline Loss: 3.9714 | Actual Loss: 1.2727\n",
      "Baseline Loss: 3.8790 | Actual Loss: 1.4340\n"
     ]
    },
    {
     "name": "stderr",
     "output_type": "stream",
     "text": [
      "Training:  29%|██▉       | 88/300 [01:39<03:57,  1.12s/it]"
     ]
    },
    {
     "name": "stdout",
     "output_type": "stream",
     "text": [
      "Baseline Loss: 3.9495 | Actual Loss: 1.3708\n",
      "Epoch 88/300: Train Loss: 1.3340, Val Loss: 1.3708\n",
      "Baseline Loss: 3.9608 | Actual Loss: 1.3303\n",
      "Baseline Loss: 3.9694 | Actual Loss: 1.5887\n",
      "Baseline Loss: 3.9609 | Actual Loss: 1.4478\n",
      "Baseline Loss: 3.8905 | Actual Loss: 1.3716\n"
     ]
    },
    {
     "name": "stderr",
     "output_type": "stream",
     "text": [
      "Training:  30%|██▉       | 89/300 [01:40<03:56,  1.12s/it]"
     ]
    },
    {
     "name": "stdout",
     "output_type": "stream",
     "text": [
      "Baseline Loss: 3.9495 | Actual Loss: 1.4125\n",
      "Epoch 89/300: Train Loss: 1.4346, Val Loss: 1.4125\n",
      "Baseline Loss: 3.9629 | Actual Loss: 1.2568\n",
      "Baseline Loss: 3.9734 | Actual Loss: 1.3401\n",
      "Baseline Loss: 3.9701 | Actual Loss: 1.4397\n",
      "Baseline Loss: 3.8757 | Actual Loss: 1.2959\n"
     ]
    },
    {
     "name": "stderr",
     "output_type": "stream",
     "text": [
      "Training:  30%|███       | 90/300 [01:41<03:53,  1.11s/it]"
     ]
    },
    {
     "name": "stdout",
     "output_type": "stream",
     "text": [
      "Baseline Loss: 3.9495 | Actual Loss: 1.4389\n",
      "Epoch 90/300: Train Loss: 1.3331, Val Loss: 1.4389\n",
      "Baseline Loss: 3.9667 | Actual Loss: 1.2835\n",
      "Baseline Loss: 3.9676 | Actual Loss: 1.2576\n",
      "Baseline Loss: 3.9796 | Actual Loss: 1.3964\n",
      "Baseline Loss: 3.8625 | Actual Loss: 1.4288\n"
     ]
    },
    {
     "name": "stderr",
     "output_type": "stream",
     "text": [
      "Training:  30%|███       | 91/300 [01:42<03:52,  1.11s/it]"
     ]
    },
    {
     "name": "stdout",
     "output_type": "stream",
     "text": [
      "Baseline Loss: 3.9495 | Actual Loss: 1.4149\n",
      "Epoch 91/300: Train Loss: 1.3416, Val Loss: 1.4149\n",
      "Baseline Loss: 3.9689 | Actual Loss: 1.3978\n",
      "Baseline Loss: 3.9802 | Actual Loss: 1.3389\n",
      "Baseline Loss: 3.9589 | Actual Loss: 1.3064\n",
      "Baseline Loss: 3.8703 | Actual Loss: 1.3243\n"
     ]
    },
    {
     "name": "stderr",
     "output_type": "stream",
     "text": [
      "Training:  31%|███       | 92/300 [01:43<03:45,  1.08s/it]"
     ]
    },
    {
     "name": "stdout",
     "output_type": "stream",
     "text": [
      "Baseline Loss: 3.9495 | Actual Loss: 1.4103\n",
      "Epoch 92/300: Train Loss: 1.3419, Val Loss: 1.4103\n",
      "Baseline Loss: 3.9764 | Actual Loss: 1.3931\n",
      "Baseline Loss: 3.9698 | Actual Loss: 1.3896\n",
      "Baseline Loss: 3.9638 | Actual Loss: 1.2454\n",
      "Baseline Loss: 3.8670 | Actual Loss: 1.1974\n"
     ]
    },
    {
     "name": "stderr",
     "output_type": "stream",
     "text": [
      "Training:  31%|███       | 93/300 [01:44<03:45,  1.09s/it]"
     ]
    },
    {
     "name": "stdout",
     "output_type": "stream",
     "text": [
      "Baseline Loss: 3.9495 | Actual Loss: 1.5035\n",
      "Epoch 93/300: Train Loss: 1.3064, Val Loss: 1.5035\n",
      "Baseline Loss: 3.9730 | Actual Loss: 1.3014\n",
      "Baseline Loss: 3.9771 | Actual Loss: 1.3064\n",
      "Baseline Loss: 3.9732 | Actual Loss: 1.1539\n",
      "Baseline Loss: 3.8673 | Actual Loss: 1.2991\n"
     ]
    },
    {
     "name": "stderr",
     "output_type": "stream",
     "text": [
      "Training:  31%|███▏      | 94/300 [01:45<03:38,  1.06s/it]"
     ]
    },
    {
     "name": "stdout",
     "output_type": "stream",
     "text": [
      "Baseline Loss: 3.9495 | Actual Loss: 1.4029\n",
      "Epoch 94/300: Train Loss: 1.2652, Val Loss: 1.4029\n",
      "Baseline Loss: 3.9706 | Actual Loss: 1.2336\n",
      "Baseline Loss: 3.9776 | Actual Loss: 1.3209\n",
      "Baseline Loss: 3.9671 | Actual Loss: 1.1342\n",
      "Baseline Loss: 3.8684 | Actual Loss: 1.3079\n"
     ]
    },
    {
     "name": "stderr",
     "output_type": "stream",
     "text": [
      "Training:  32%|███▏      | 95/300 [01:46<03:38,  1.07s/it]"
     ]
    },
    {
     "name": "stdout",
     "output_type": "stream",
     "text": [
      "Baseline Loss: 3.9495 | Actual Loss: 1.4081\n",
      "Epoch 95/300: Train Loss: 1.2491, Val Loss: 1.4081\n",
      "Baseline Loss: 3.9694 | Actual Loss: 1.3705\n",
      "Baseline Loss: 3.9626 | Actual Loss: 1.1827\n",
      "Baseline Loss: 3.9762 | Actual Loss: 1.0855\n",
      "Baseline Loss: 3.8682 | Actual Loss: 1.3411\n"
     ]
    },
    {
     "name": "stderr",
     "output_type": "stream",
     "text": [
      "Training:  32%|███▏      | 96/300 [01:48<03:37,  1.07s/it]"
     ]
    },
    {
     "name": "stdout",
     "output_type": "stream",
     "text": [
      "Baseline Loss: 3.9495 | Actual Loss: 1.3229\n",
      "Epoch 96/300: Train Loss: 1.2450, Val Loss: 1.3229\n",
      "New best validation loss: 1.3229\n",
      "Baseline Loss: 3.9715 | Actual Loss: 1.2831\n",
      "Baseline Loss: 3.9655 | Actual Loss: 1.3024\n",
      "Baseline Loss: 3.9682 | Actual Loss: 1.3369\n",
      "Baseline Loss: 3.8728 | Actual Loss: 1.2185\n"
     ]
    },
    {
     "name": "stderr",
     "output_type": "stream",
     "text": [
      "Training:  32%|███▏      | 97/300 [01:49<03:35,  1.06s/it]"
     ]
    },
    {
     "name": "stdout",
     "output_type": "stream",
     "text": [
      "Baseline Loss: 3.9495 | Actual Loss: 1.3622\n",
      "Epoch 97/300: Train Loss: 1.2852, Val Loss: 1.3622\n",
      "Baseline Loss: 3.9707 | Actual Loss: 1.3448\n",
      "Baseline Loss: 3.9649 | Actual Loss: 1.1909\n",
      "Baseline Loss: 3.9696 | Actual Loss: 1.3788\n",
      "Baseline Loss: 3.8786 | Actual Loss: 1.0945\n"
     ]
    },
    {
     "name": "stderr",
     "output_type": "stream",
     "text": [
      "Training:  33%|███▎      | 98/300 [01:50<03:32,  1.05s/it]"
     ]
    },
    {
     "name": "stdout",
     "output_type": "stream",
     "text": [
      "Baseline Loss: 3.9495 | Actual Loss: 1.2679\n",
      "Epoch 98/300: Train Loss: 1.2522, Val Loss: 1.2679\n",
      "New best validation loss: 1.2679\n",
      "Baseline Loss: 3.9727 | Actual Loss: 1.2580\n",
      "Baseline Loss: 3.9645 | Actual Loss: 1.1384\n",
      "Baseline Loss: 3.9667 | Actual Loss: 1.4699\n",
      "Baseline Loss: 3.8802 | Actual Loss: 1.2450\n"
     ]
    },
    {
     "name": "stderr",
     "output_type": "stream",
     "text": [
      "Training:  33%|███▎      | 99/300 [01:51<03:36,  1.08s/it]"
     ]
    },
    {
     "name": "stdout",
     "output_type": "stream",
     "text": [
      "Baseline Loss: 3.9495 | Actual Loss: 1.3733\n",
      "Epoch 99/300: Train Loss: 1.2778, Val Loss: 1.3733\n",
      "Baseline Loss: 3.9612 | Actual Loss: 1.1778\n",
      "Baseline Loss: 3.9774 | Actual Loss: 1.1740\n",
      "Baseline Loss: 3.9701 | Actual Loss: 1.3841\n",
      "Baseline Loss: 3.8771 | Actual Loss: 1.1917\n"
     ]
    },
    {
     "name": "stderr",
     "output_type": "stream",
     "text": [
      "Training:  33%|███▎      | 100/300 [01:52<03:37,  1.09s/it]"
     ]
    },
    {
     "name": "stdout",
     "output_type": "stream",
     "text": [
      "Baseline Loss: 3.9495 | Actual Loss: 1.4876\n",
      "Epoch 100/300: Train Loss: 1.2319, Val Loss: 1.4876\n",
      "Baseline Loss: 3.9717 | Actual Loss: 1.1641\n",
      "Baseline Loss: 3.9638 | Actual Loss: 1.2929\n",
      "Baseline Loss: 3.9658 | Actual Loss: 1.1625\n",
      "Baseline Loss: 3.8796 | Actual Loss: 1.1212\n"
     ]
    },
    {
     "name": "stderr",
     "output_type": "stream",
     "text": [
      "Training:  34%|███▎      | 101/300 [01:53<03:37,  1.10s/it]"
     ]
    },
    {
     "name": "stdout",
     "output_type": "stream",
     "text": [
      "Baseline Loss: 3.9495 | Actual Loss: 1.3104\n",
      "Epoch 101/300: Train Loss: 1.1852, Val Loss: 1.3104\n",
      "Baseline Loss: 3.9658 | Actual Loss: 1.2983\n",
      "Baseline Loss: 3.9774 | Actual Loss: 1.3184\n",
      "Baseline Loss: 3.9686 | Actual Loss: 1.1887\n",
      "Baseline Loss: 3.8621 | Actual Loss: 1.1027\n"
     ]
    },
    {
     "name": "stderr",
     "output_type": "stream",
     "text": [
      "Training:  34%|███▍      | 102/300 [01:54<03:42,  1.12s/it]"
     ]
    },
    {
     "name": "stdout",
     "output_type": "stream",
     "text": [
      "Baseline Loss: 3.9495 | Actual Loss: 1.3492\n",
      "Epoch 102/300: Train Loss: 1.2270, Val Loss: 1.3492\n",
      "Baseline Loss: 3.9688 | Actual Loss: 1.1494\n",
      "Baseline Loss: 3.9656 | Actual Loss: 1.2759\n",
      "Baseline Loss: 3.9681 | Actual Loss: 1.2022\n",
      "Baseline Loss: 3.8771 | Actual Loss: 1.2863\n"
     ]
    },
    {
     "name": "stderr",
     "output_type": "stream",
     "text": [
      "Training:  34%|███▍      | 103/300 [01:55<03:48,  1.16s/it]"
     ]
    },
    {
     "name": "stdout",
     "output_type": "stream",
     "text": [
      "Baseline Loss: 3.9495 | Actual Loss: 1.3349\n",
      "Epoch 103/300: Train Loss: 1.2285, Val Loss: 1.3349\n",
      "Baseline Loss: 3.9737 | Actual Loss: 1.1499\n",
      "Baseline Loss: 3.9681 | Actual Loss: 1.3075\n",
      "Baseline Loss: 3.9714 | Actual Loss: 1.1705\n",
      "Baseline Loss: 3.8722 | Actual Loss: 1.1131\n"
     ]
    },
    {
     "name": "stderr",
     "output_type": "stream",
     "text": [
      "Training:  35%|███▍      | 104/300 [01:57<03:48,  1.17s/it]"
     ]
    },
    {
     "name": "stdout",
     "output_type": "stream",
     "text": [
      "Baseline Loss: 3.9495 | Actual Loss: 1.3397\n",
      "Epoch 104/300: Train Loss: 1.1852, Val Loss: 1.3397\n",
      "Baseline Loss: 3.9624 | Actual Loss: 1.2969\n",
      "Baseline Loss: 3.9697 | Actual Loss: 1.2076\n",
      "Baseline Loss: 3.9760 | Actual Loss: 1.2448\n",
      "Baseline Loss: 3.8704 | Actual Loss: 1.2061\n"
     ]
    },
    {
     "name": "stderr",
     "output_type": "stream",
     "text": [
      "Training:  35%|███▌      | 105/300 [01:58<03:40,  1.13s/it]"
     ]
    },
    {
     "name": "stdout",
     "output_type": "stream",
     "text": [
      "Baseline Loss: 3.9495 | Actual Loss: 1.3312\n",
      "Epoch 105/300: Train Loss: 1.2388, Val Loss: 1.3312\n",
      "Baseline Loss: 3.9706 | Actual Loss: 1.1530\n",
      "Baseline Loss: 3.9730 | Actual Loss: 1.0829\n",
      "Baseline Loss: 3.9648 | Actual Loss: 1.1829\n",
      "Baseline Loss: 3.8696 | Actual Loss: 1.3570\n"
     ]
    },
    {
     "name": "stderr",
     "output_type": "stream",
     "text": [
      "Training:  35%|███▌      | 106/300 [01:59<03:33,  1.10s/it]"
     ]
    },
    {
     "name": "stdout",
     "output_type": "stream",
     "text": [
      "Baseline Loss: 3.9495 | Actual Loss: 1.3336\n",
      "Epoch 106/300: Train Loss: 1.1939, Val Loss: 1.3336\n",
      "Baseline Loss: 3.9599 | Actual Loss: 1.1703\n",
      "Baseline Loss: 3.9699 | Actual Loss: 1.1774\n",
      "Baseline Loss: 3.9684 | Actual Loss: 1.2061\n",
      "Baseline Loss: 3.8793 | Actual Loss: 1.2453\n"
     ]
    },
    {
     "name": "stderr",
     "output_type": "stream",
     "text": [
      "Training:  36%|███▌      | 107/300 [02:00<03:35,  1.12s/it]"
     ]
    },
    {
     "name": "stdout",
     "output_type": "stream",
     "text": [
      "Baseline Loss: 3.9495 | Actual Loss: 1.2779\n",
      "Epoch 107/300: Train Loss: 1.1998, Val Loss: 1.2779\n",
      "Baseline Loss: 3.9586 | Actual Loss: 1.2063\n",
      "Baseline Loss: 3.9726 | Actual Loss: 1.1794\n",
      "Baseline Loss: 3.9718 | Actual Loss: 1.1682\n",
      "Baseline Loss: 3.8749 | Actual Loss: 1.1727\n"
     ]
    },
    {
     "name": "stderr",
     "output_type": "stream",
     "text": [
      "Training:  36%|███▌      | 108/300 [02:01<03:38,  1.14s/it]"
     ]
    },
    {
     "name": "stdout",
     "output_type": "stream",
     "text": [
      "Baseline Loss: 3.9495 | Actual Loss: 1.2785\n",
      "Epoch 108/300: Train Loss: 1.1816, Val Loss: 1.2785\n",
      "Baseline Loss: 3.9763 | Actual Loss: 1.3148\n",
      "Baseline Loss: 3.9646 | Actual Loss: 1.1966\n",
      "Baseline Loss: 3.9694 | Actual Loss: 1.1276\n",
      "Baseline Loss: 3.8648 | Actual Loss: 1.0977\n"
     ]
    },
    {
     "name": "stderr",
     "output_type": "stream",
     "text": [
      "Training:  36%|███▋      | 109/300 [02:02<03:40,  1.16s/it]"
     ]
    },
    {
     "name": "stdout",
     "output_type": "stream",
     "text": [
      "Baseline Loss: 3.9495 | Actual Loss: 1.2988\n",
      "Epoch 109/300: Train Loss: 1.1842, Val Loss: 1.2988\n",
      "Baseline Loss: 3.9734 | Actual Loss: 1.3052\n",
      "Baseline Loss: 3.9674 | Actual Loss: 1.2216\n",
      "Baseline Loss: 3.9671 | Actual Loss: 1.1117\n",
      "Baseline Loss: 3.8754 | Actual Loss: 1.3431\n"
     ]
    },
    {
     "name": "stderr",
     "output_type": "stream",
     "text": [
      "Training:  37%|███▋      | 110/300 [02:03<03:38,  1.15s/it]"
     ]
    },
    {
     "name": "stdout",
     "output_type": "stream",
     "text": [
      "Baseline Loss: 3.9495 | Actual Loss: 1.3260\n",
      "Epoch 110/300: Train Loss: 1.2454, Val Loss: 1.3260\n",
      "Baseline Loss: 3.9668 | Actual Loss: 1.3135\n",
      "Baseline Loss: 3.9794 | Actual Loss: 1.0425\n",
      "Baseline Loss: 3.9590 | Actual Loss: 1.1297\n",
      "Baseline Loss: 3.8676 | Actual Loss: 1.2698\n"
     ]
    },
    {
     "name": "stderr",
     "output_type": "stream",
     "text": [
      "Training:  37%|███▋      | 111/300 [02:05<03:39,  1.16s/it]"
     ]
    },
    {
     "name": "stdout",
     "output_type": "stream",
     "text": [
      "Baseline Loss: 3.9495 | Actual Loss: 1.3416\n",
      "Epoch 111/300: Train Loss: 1.1889, Val Loss: 1.3416\n",
      "Baseline Loss: 3.9720 | Actual Loss: 1.1552\n",
      "Baseline Loss: 3.9721 | Actual Loss: 1.1833\n",
      "Baseline Loss: 3.9676 | Actual Loss: 1.3047\n",
      "Baseline Loss: 3.8738 | Actual Loss: 0.9628\n"
     ]
    },
    {
     "name": "stderr",
     "output_type": "stream",
     "text": [
      "Training:  37%|███▋      | 112/300 [02:06<03:35,  1.15s/it]"
     ]
    },
    {
     "name": "stdout",
     "output_type": "stream",
     "text": [
      "Baseline Loss: 3.9495 | Actual Loss: 1.3252\n",
      "Epoch 112/300: Train Loss: 1.1515, Val Loss: 1.3252\n",
      "Baseline Loss: 3.9706 | Actual Loss: 1.2271\n",
      "Baseline Loss: 3.9784 | Actual Loss: 1.2859\n",
      "Baseline Loss: 3.9699 | Actual Loss: 1.1971\n",
      "Baseline Loss: 3.8595 | Actual Loss: 1.1356\n"
     ]
    },
    {
     "name": "stderr",
     "output_type": "stream",
     "text": [
      "Training:  38%|███▊      | 113/300 [02:07<03:36,  1.16s/it]"
     ]
    },
    {
     "name": "stdout",
     "output_type": "stream",
     "text": [
      "Baseline Loss: 3.9495 | Actual Loss: 1.2525\n",
      "Epoch 113/300: Train Loss: 1.2114, Val Loss: 1.2525\n",
      "New best validation loss: 1.2525\n",
      "Baseline Loss: 3.9702 | Actual Loss: 1.1863\n",
      "Baseline Loss: 3.9637 | Actual Loss: 1.1422\n",
      "Baseline Loss: 3.9768 | Actual Loss: 1.2677\n",
      "Baseline Loss: 3.8739 | Actual Loss: 1.0162\n"
     ]
    },
    {
     "name": "stderr",
     "output_type": "stream",
     "text": [
      "Training:  38%|███▊      | 114/300 [02:08<03:30,  1.13s/it]"
     ]
    },
    {
     "name": "stdout",
     "output_type": "stream",
     "text": [
      "Baseline Loss: 3.9495 | Actual Loss: 1.2920\n",
      "Epoch 114/300: Train Loss: 1.1531, Val Loss: 1.2920\n",
      "Baseline Loss: 3.9739 | Actual Loss: 1.1226\n",
      "Baseline Loss: 3.9629 | Actual Loss: 1.0610\n",
      "Baseline Loss: 3.9704 | Actual Loss: 1.1806\n",
      "Baseline Loss: 3.8694 | Actual Loss: 1.2532\n"
     ]
    },
    {
     "name": "stderr",
     "output_type": "stream",
     "text": [
      "Training:  38%|███▊      | 115/300 [02:09<03:31,  1.14s/it]"
     ]
    },
    {
     "name": "stdout",
     "output_type": "stream",
     "text": [
      "Baseline Loss: 3.9495 | Actual Loss: 1.2369\n",
      "Epoch 115/300: Train Loss: 1.1544, Val Loss: 1.2369\n",
      "New best validation loss: 1.2369\n",
      "Baseline Loss: 3.9715 | Actual Loss: 1.3058\n",
      "Baseline Loss: 3.9680 | Actual Loss: 1.1575\n",
      "Baseline Loss: 3.9745 | Actual Loss: 1.0996\n",
      "Baseline Loss: 3.8698 | Actual Loss: 1.0430\n"
     ]
    },
    {
     "name": "stderr",
     "output_type": "stream",
     "text": [
      "Training:  39%|███▊      | 116/300 [02:10<03:24,  1.11s/it]"
     ]
    },
    {
     "name": "stdout",
     "output_type": "stream",
     "text": [
      "Baseline Loss: 3.9495 | Actual Loss: 1.2660\n",
      "Epoch 116/300: Train Loss: 1.1515, Val Loss: 1.2660\n",
      "Baseline Loss: 3.9671 | Actual Loss: 1.2228\n",
      "Baseline Loss: 3.9669 | Actual Loss: 1.1443\n",
      "Baseline Loss: 3.9734 | Actual Loss: 1.1842\n",
      "Baseline Loss: 3.8785 | Actual Loss: 1.1086\n"
     ]
    },
    {
     "name": "stderr",
     "output_type": "stream",
     "text": [
      "Training:  39%|███▉      | 117/300 [02:11<03:26,  1.13s/it]"
     ]
    },
    {
     "name": "stdout",
     "output_type": "stream",
     "text": [
      "Baseline Loss: 3.9495 | Actual Loss: 1.3636\n",
      "Epoch 117/300: Train Loss: 1.1650, Val Loss: 1.3636\n",
      "Baseline Loss: 3.9580 | Actual Loss: 1.1722\n",
      "Baseline Loss: 3.9815 | Actual Loss: 1.1906\n",
      "Baseline Loss: 3.9636 | Actual Loss: 1.2318\n",
      "Baseline Loss: 3.8839 | Actual Loss: 1.2791\n"
     ]
    },
    {
     "name": "stderr",
     "output_type": "stream",
     "text": [
      "Training:  39%|███▉      | 118/300 [02:13<03:29,  1.15s/it]"
     ]
    },
    {
     "name": "stdout",
     "output_type": "stream",
     "text": [
      "Baseline Loss: 3.9495 | Actual Loss: 1.2530\n",
      "Epoch 118/300: Train Loss: 1.2184, Val Loss: 1.2530\n",
      "Baseline Loss: 3.9598 | Actual Loss: 1.1260\n",
      "Baseline Loss: 3.9730 | Actual Loss: 1.2936\n",
      "Baseline Loss: 3.9675 | Actual Loss: 1.1831\n",
      "Baseline Loss: 3.8733 | Actual Loss: 1.0622\n"
     ]
    },
    {
     "name": "stderr",
     "output_type": "stream",
     "text": [
      "Training:  40%|███▉      | 119/300 [02:14<03:21,  1.12s/it]"
     ]
    },
    {
     "name": "stdout",
     "output_type": "stream",
     "text": [
      "Baseline Loss: 3.9495 | Actual Loss: 1.3501\n",
      "Epoch 119/300: Train Loss: 1.1662, Val Loss: 1.3501\n",
      "Baseline Loss: 3.9799 | Actual Loss: 1.1995\n",
      "Baseline Loss: 3.9632 | Actual Loss: 1.0763\n",
      "Baseline Loss: 3.9626 | Actual Loss: 1.1464\n",
      "Baseline Loss: 3.8653 | Actual Loss: 1.1268\n"
     ]
    },
    {
     "name": "stderr",
     "output_type": "stream",
     "text": [
      "Training:  40%|████      | 120/300 [02:15<03:15,  1.08s/it]"
     ]
    },
    {
     "name": "stdout",
     "output_type": "stream",
     "text": [
      "Baseline Loss: 3.9495 | Actual Loss: 1.1589\n",
      "Epoch 120/300: Train Loss: 1.1373, Val Loss: 1.1589\n",
      "New best validation loss: 1.1589\n",
      "Baseline Loss: 3.9728 | Actual Loss: 1.1143\n",
      "Baseline Loss: 3.9699 | Actual Loss: 1.0958\n",
      "Baseline Loss: 3.9644 | Actual Loss: 1.0309\n",
      "Baseline Loss: 3.8672 | Actual Loss: 1.1717\n"
     ]
    },
    {
     "name": "stderr",
     "output_type": "stream",
     "text": [
      "Training:  40%|████      | 121/300 [02:16<03:11,  1.07s/it]"
     ]
    },
    {
     "name": "stdout",
     "output_type": "stream",
     "text": [
      "Baseline Loss: 3.9495 | Actual Loss: 1.2703\n",
      "Epoch 121/300: Train Loss: 1.1032, Val Loss: 1.2703\n",
      "Baseline Loss: 3.9665 | Actual Loss: 1.0739\n",
      "Baseline Loss: 3.9666 | Actual Loss: 1.2653\n",
      "Baseline Loss: 3.9705 | Actual Loss: 1.1653\n",
      "Baseline Loss: 3.8682 | Actual Loss: 1.0803\n"
     ]
    },
    {
     "name": "stderr",
     "output_type": "stream",
     "text": [
      "Training:  41%|████      | 122/300 [02:17<03:07,  1.06s/it]"
     ]
    },
    {
     "name": "stdout",
     "output_type": "stream",
     "text": [
      "Baseline Loss: 3.9495 | Actual Loss: 1.2814\n",
      "Epoch 122/300: Train Loss: 1.1462, Val Loss: 1.2814\n",
      "Baseline Loss: 3.9697 | Actual Loss: 1.1190\n",
      "Baseline Loss: 3.9683 | Actual Loss: 1.2197\n",
      "Baseline Loss: 3.9661 | Actual Loss: 1.1265\n",
      "Baseline Loss: 3.8805 | Actual Loss: 1.0713\n"
     ]
    },
    {
     "name": "stderr",
     "output_type": "stream",
     "text": [
      "Training:  41%|████      | 123/300 [02:18<03:07,  1.06s/it]"
     ]
    },
    {
     "name": "stdout",
     "output_type": "stream",
     "text": [
      "Baseline Loss: 3.9495 | Actual Loss: 1.3376\n",
      "Epoch 123/300: Train Loss: 1.1341, Val Loss: 1.3376\n",
      "Baseline Loss: 3.9699 | Actual Loss: 1.0050\n",
      "Baseline Loss: 3.9606 | Actual Loss: 1.3476\n",
      "Baseline Loss: 3.9716 | Actual Loss: 1.1129\n",
      "Baseline Loss: 3.8672 | Actual Loss: 0.9781\n"
     ]
    },
    {
     "name": "stderr",
     "output_type": "stream",
     "text": [
      "Training:  41%|████▏     | 124/300 [02:19<03:05,  1.05s/it]"
     ]
    },
    {
     "name": "stdout",
     "output_type": "stream",
     "text": [
      "Baseline Loss: 3.9495 | Actual Loss: 1.2850\n",
      "Epoch 124/300: Train Loss: 1.1109, Val Loss: 1.2850\n",
      "Baseline Loss: 3.9750 | Actual Loss: 1.0739\n",
      "Baseline Loss: 3.9705 | Actual Loss: 1.0953\n",
      "Baseline Loss: 3.9670 | Actual Loss: 1.0616\n",
      "Baseline Loss: 3.8670 | Actual Loss: 1.0466\n"
     ]
    },
    {
     "name": "stderr",
     "output_type": "stream",
     "text": [
      "Training:  42%|████▏     | 125/300 [02:20<03:06,  1.07s/it]"
     ]
    },
    {
     "name": "stdout",
     "output_type": "stream",
     "text": [
      "Baseline Loss: 3.9495 | Actual Loss: 1.2367\n",
      "Epoch 125/300: Train Loss: 1.0693, Val Loss: 1.2367\n",
      "Baseline Loss: 3.9664 | Actual Loss: 1.1183\n",
      "Baseline Loss: 3.9722 | Actual Loss: 1.2261\n",
      "Baseline Loss: 3.9729 | Actual Loss: 1.1640\n",
      "Baseline Loss: 3.8638 | Actual Loss: 1.0009\n"
     ]
    },
    {
     "name": "stderr",
     "output_type": "stream",
     "text": [
      "Training:  42%|████▏     | 126/300 [02:21<03:08,  1.09s/it]"
     ]
    },
    {
     "name": "stdout",
     "output_type": "stream",
     "text": [
      "Baseline Loss: 3.9495 | Actual Loss: 1.3063\n",
      "Epoch 126/300: Train Loss: 1.1273, Val Loss: 1.3063\n",
      "Baseline Loss: 3.9674 | Actual Loss: 1.1666\n",
      "Baseline Loss: 3.9620 | Actual Loss: 1.1673\n",
      "Baseline Loss: 3.9693 | Actual Loss: 1.0597\n",
      "Baseline Loss: 3.8795 | Actual Loss: 1.0295\n"
     ]
    },
    {
     "name": "stderr",
     "output_type": "stream",
     "text": [
      "Training:  42%|████▏     | 127/300 [02:22<03:13,  1.12s/it]"
     ]
    },
    {
     "name": "stdout",
     "output_type": "stream",
     "text": [
      "Baseline Loss: 3.9495 | Actual Loss: 1.2417\n",
      "Epoch 127/300: Train Loss: 1.1058, Val Loss: 1.2417\n",
      "Baseline Loss: 3.9654 | Actual Loss: 1.0813\n",
      "Baseline Loss: 3.9637 | Actual Loss: 1.3239\n",
      "Baseline Loss: 3.9723 | Actual Loss: 1.2782\n",
      "Baseline Loss: 3.8783 | Actual Loss: 0.9011\n"
     ]
    },
    {
     "name": "stderr",
     "output_type": "stream",
     "text": [
      "Training:  43%|████▎     | 128/300 [02:23<03:16,  1.14s/it]"
     ]
    },
    {
     "name": "stdout",
     "output_type": "stream",
     "text": [
      "Baseline Loss: 3.9495 | Actual Loss: 1.3627\n",
      "Epoch 128/300: Train Loss: 1.1461, Val Loss: 1.3627\n",
      "Baseline Loss: 3.9704 | Actual Loss: 1.0625\n",
      "Baseline Loss: 3.9630 | Actual Loss: 1.1226\n",
      "Baseline Loss: 3.9717 | Actual Loss: 1.1601\n",
      "Baseline Loss: 3.8714 | Actual Loss: 0.9495\n"
     ]
    },
    {
     "name": "stderr",
     "output_type": "stream",
     "text": [
      "Training:  43%|████▎     | 129/300 [02:25<03:22,  1.18s/it]"
     ]
    },
    {
     "name": "stdout",
     "output_type": "stream",
     "text": [
      "Baseline Loss: 3.9495 | Actual Loss: 1.2979\n",
      "Epoch 129/300: Train Loss: 1.0737, Val Loss: 1.2979\n",
      "Baseline Loss: 3.9732 | Actual Loss: 0.9432\n",
      "Baseline Loss: 3.9609 | Actual Loss: 1.1950\n",
      "Baseline Loss: 3.9761 | Actual Loss: 1.1679\n",
      "Baseline Loss: 3.8645 | Actual Loss: 1.0523\n"
     ]
    },
    {
     "name": "stderr",
     "output_type": "stream",
     "text": [
      "Training:  43%|████▎     | 130/300 [02:26<03:23,  1.20s/it]"
     ]
    },
    {
     "name": "stdout",
     "output_type": "stream",
     "text": [
      "Baseline Loss: 3.9495 | Actual Loss: 1.2237\n",
      "Epoch 130/300: Train Loss: 1.0896, Val Loss: 1.2237\n",
      "Baseline Loss: 3.9765 | Actual Loss: 1.0695\n",
      "Baseline Loss: 3.9625 | Actual Loss: 1.4016\n",
      "Baseline Loss: 3.9660 | Actual Loss: 0.9935\n",
      "Baseline Loss: 3.8786 | Actual Loss: 1.0541\n"
     ]
    },
    {
     "name": "stderr",
     "output_type": "stream",
     "text": [
      "Training:  44%|████▎     | 131/300 [02:27<03:23,  1.21s/it]"
     ]
    },
    {
     "name": "stdout",
     "output_type": "stream",
     "text": [
      "Baseline Loss: 3.9495 | Actual Loss: 1.2071\n",
      "Epoch 131/300: Train Loss: 1.1297, Val Loss: 1.2071\n",
      "Baseline Loss: 3.9777 | Actual Loss: 1.0743\n",
      "Baseline Loss: 3.9610 | Actual Loss: 1.1399\n",
      "Baseline Loss: 3.9686 | Actual Loss: 1.1197\n",
      "Baseline Loss: 3.8733 | Actual Loss: 1.0005\n"
     ]
    },
    {
     "name": "stderr",
     "output_type": "stream",
     "text": [
      "Training:  44%|████▍     | 132/300 [02:28<03:13,  1.15s/it]"
     ]
    },
    {
     "name": "stdout",
     "output_type": "stream",
     "text": [
      "Baseline Loss: 3.9495 | Actual Loss: 1.2985\n",
      "Epoch 132/300: Train Loss: 1.0836, Val Loss: 1.2985\n",
      "Baseline Loss: 3.9706 | Actual Loss: 1.1584\n",
      "Baseline Loss: 3.9711 | Actual Loss: 0.9875\n",
      "Baseline Loss: 3.9625 | Actual Loss: 1.0605\n",
      "Baseline Loss: 3.8770 | Actual Loss: 1.0608\n"
     ]
    },
    {
     "name": "stderr",
     "output_type": "stream",
     "text": [
      "Training:  44%|████▍     | 133/300 [02:29<03:13,  1.16s/it]"
     ]
    },
    {
     "name": "stdout",
     "output_type": "stream",
     "text": [
      "Baseline Loss: 3.9495 | Actual Loss: 1.2968\n",
      "Epoch 133/300: Train Loss: 1.0668, Val Loss: 1.2968\n",
      "Baseline Loss: 3.9722 | Actual Loss: 1.0780\n",
      "Baseline Loss: 3.9719 | Actual Loss: 1.1384\n",
      "Baseline Loss: 3.9671 | Actual Loss: 1.0486\n",
      "Baseline Loss: 3.8633 | Actual Loss: 1.0277\n"
     ]
    },
    {
     "name": "stderr",
     "output_type": "stream",
     "text": [
      "Training:  45%|████▍     | 134/300 [02:30<03:10,  1.15s/it]"
     ]
    },
    {
     "name": "stdout",
     "output_type": "stream",
     "text": [
      "Baseline Loss: 3.9495 | Actual Loss: 1.1931\n",
      "Epoch 134/300: Train Loss: 1.0732, Val Loss: 1.1931\n",
      "Baseline Loss: 3.9693 | Actual Loss: 1.0829\n",
      "Baseline Loss: 3.9816 | Actual Loss: 0.9675\n",
      "Baseline Loss: 3.9673 | Actual Loss: 1.0831\n",
      "Baseline Loss: 3.8667 | Actual Loss: 0.9716\n"
     ]
    },
    {
     "name": "stderr",
     "output_type": "stream",
     "text": [
      "Training:  45%|████▌     | 135/300 [02:31<03:04,  1.12s/it]"
     ]
    },
    {
     "name": "stdout",
     "output_type": "stream",
     "text": [
      "Baseline Loss: 3.9495 | Actual Loss: 1.3539\n",
      "Epoch 135/300: Train Loss: 1.0263, Val Loss: 1.3539\n",
      "Baseline Loss: 3.9676 | Actual Loss: 1.0024\n",
      "Baseline Loss: 3.9712 | Actual Loss: 1.0765\n",
      "Baseline Loss: 3.9728 | Actual Loss: 1.1015\n",
      "Baseline Loss: 3.8742 | Actual Loss: 1.0533\n"
     ]
    },
    {
     "name": "stderr",
     "output_type": "stream",
     "text": [
      "Training:  45%|████▌     | 136/300 [02:33<03:03,  1.12s/it]"
     ]
    },
    {
     "name": "stdout",
     "output_type": "stream",
     "text": [
      "Baseline Loss: 3.9495 | Actual Loss: 1.1988\n",
      "Epoch 136/300: Train Loss: 1.0584, Val Loss: 1.1988\n",
      "Baseline Loss: 3.9638 | Actual Loss: 1.1908\n",
      "Baseline Loss: 3.9703 | Actual Loss: 0.9835\n",
      "Baseline Loss: 3.9713 | Actual Loss: 1.1558\n",
      "Baseline Loss: 3.8757 | Actual Loss: 1.0502\n"
     ]
    },
    {
     "name": "stderr",
     "output_type": "stream",
     "text": [
      "Training:  46%|████▌     | 137/300 [02:34<03:03,  1.13s/it]"
     ]
    },
    {
     "name": "stdout",
     "output_type": "stream",
     "text": [
      "Baseline Loss: 3.9495 | Actual Loss: 1.2599\n",
      "Epoch 137/300: Train Loss: 1.0951, Val Loss: 1.2599\n",
      "Baseline Loss: 3.9650 | Actual Loss: 1.0235\n",
      "Baseline Loss: 3.9617 | Actual Loss: 1.0803\n",
      "Baseline Loss: 3.9632 | Actual Loss: 1.2401\n",
      "Baseline Loss: 3.8839 | Actual Loss: 1.0737\n"
     ]
    },
    {
     "name": "stderr",
     "output_type": "stream",
     "text": [
      "Training:  46%|████▌     | 138/300 [02:35<03:04,  1.14s/it]"
     ]
    },
    {
     "name": "stdout",
     "output_type": "stream",
     "text": [
      "Baseline Loss: 3.9495 | Actual Loss: 1.1572\n",
      "Epoch 138/300: Train Loss: 1.1044, Val Loss: 1.1572\n",
      "New best validation loss: 1.1572\n",
      "Baseline Loss: 3.9698 | Actual Loss: 0.9455\n",
      "Baseline Loss: 3.9719 | Actual Loss: 1.0283\n",
      "Baseline Loss: 3.9682 | Actual Loss: 1.0225\n",
      "Baseline Loss: 3.8598 | Actual Loss: 0.9723\n"
     ]
    },
    {
     "name": "stderr",
     "output_type": "stream",
     "text": [
      "Training:  46%|████▋     | 139/300 [02:36<03:03,  1.14s/it]"
     ]
    },
    {
     "name": "stdout",
     "output_type": "stream",
     "text": [
      "Baseline Loss: 3.9495 | Actual Loss: 1.1715\n",
      "Epoch 139/300: Train Loss: 0.9922, Val Loss: 1.1715\n",
      "Baseline Loss: 3.9752 | Actual Loss: 0.9856\n",
      "Baseline Loss: 3.9671 | Actual Loss: 1.0127\n",
      "Baseline Loss: 3.9697 | Actual Loss: 1.0935\n",
      "Baseline Loss: 3.8681 | Actual Loss: 0.8784\n"
     ]
    },
    {
     "name": "stderr",
     "output_type": "stream",
     "text": [
      "Training:  47%|████▋     | 140/300 [02:37<03:00,  1.13s/it]"
     ]
    },
    {
     "name": "stdout",
     "output_type": "stream",
     "text": [
      "Baseline Loss: 3.9495 | Actual Loss: 1.2267\n",
      "Epoch 140/300: Train Loss: 0.9925, Val Loss: 1.2267\n",
      "Baseline Loss: 3.9687 | Actual Loss: 1.0489\n",
      "Baseline Loss: 3.9635 | Actual Loss: 1.1436\n",
      "Baseline Loss: 3.9758 | Actual Loss: 1.0672\n",
      "Baseline Loss: 3.8712 | Actual Loss: 0.8493\n"
     ]
    },
    {
     "name": "stderr",
     "output_type": "stream",
     "text": [
      "Training:  47%|████▋     | 141/300 [02:38<02:58,  1.12s/it]"
     ]
    },
    {
     "name": "stdout",
     "output_type": "stream",
     "text": [
      "Baseline Loss: 3.9495 | Actual Loss: 1.2066\n",
      "Epoch 141/300: Train Loss: 1.0272, Val Loss: 1.2066\n",
      "Baseline Loss: 3.9655 | Actual Loss: 1.0001\n",
      "Baseline Loss: 3.9629 | Actual Loss: 0.9808\n",
      "Baseline Loss: 3.9699 | Actual Loss: 0.9832\n",
      "Baseline Loss: 3.8802 | Actual Loss: 0.9719\n"
     ]
    },
    {
     "name": "stderr",
     "output_type": "stream",
     "text": [
      "Training:  47%|████▋     | 142/300 [02:39<02:58,  1.13s/it]"
     ]
    },
    {
     "name": "stdout",
     "output_type": "stream",
     "text": [
      "Baseline Loss: 3.9495 | Actual Loss: 1.2357\n",
      "Epoch 142/300: Train Loss: 0.9840, Val Loss: 1.2357\n",
      "Baseline Loss: 3.9731 | Actual Loss: 1.0782\n",
      "Baseline Loss: 3.9718 | Actual Loss: 1.0815\n",
      "Baseline Loss: 3.9644 | Actual Loss: 0.9628\n",
      "Baseline Loss: 3.8750 | Actual Loss: 0.8251\n"
     ]
    },
    {
     "name": "stderr",
     "output_type": "stream",
     "text": [
      "Training:  48%|████▊     | 143/300 [02:41<03:00,  1.15s/it]"
     ]
    },
    {
     "name": "stdout",
     "output_type": "stream",
     "text": [
      "Baseline Loss: 3.9495 | Actual Loss: 1.2305\n",
      "Epoch 143/300: Train Loss: 0.9869, Val Loss: 1.2305\n",
      "Baseline Loss: 3.9625 | Actual Loss: 1.0754\n",
      "Baseline Loss: 3.9721 | Actual Loss: 1.0983\n",
      "Baseline Loss: 3.9711 | Actual Loss: 1.0559\n",
      "Baseline Loss: 3.8791 | Actual Loss: 0.9771\n"
     ]
    },
    {
     "name": "stderr",
     "output_type": "stream",
     "text": [
      "Training:  48%|████▊     | 144/300 [02:42<02:54,  1.12s/it]"
     ]
    },
    {
     "name": "stdout",
     "output_type": "stream",
     "text": [
      "Baseline Loss: 3.9495 | Actual Loss: 1.1298\n",
      "Epoch 144/300: Train Loss: 1.0517, Val Loss: 1.1298\n",
      "New best validation loss: 1.1298\n",
      "Baseline Loss: 3.9631 | Actual Loss: 1.0739\n",
      "Baseline Loss: 3.9631 | Actual Loss: 1.0720\n",
      "Baseline Loss: 3.9672 | Actual Loss: 0.9983\n",
      "Baseline Loss: 3.8822 | Actual Loss: 0.8740\n"
     ]
    },
    {
     "name": "stderr",
     "output_type": "stream",
     "text": [
      "Training:  48%|████▊     | 145/300 [02:43<02:49,  1.09s/it]"
     ]
    },
    {
     "name": "stdout",
     "output_type": "stream",
     "text": [
      "Baseline Loss: 3.9495 | Actual Loss: 1.1335\n",
      "Epoch 145/300: Train Loss: 1.0045, Val Loss: 1.1335\n",
      "Baseline Loss: 3.9643 | Actual Loss: 1.2109\n",
      "Baseline Loss: 3.9728 | Actual Loss: 0.9699\n",
      "Baseline Loss: 3.9739 | Actual Loss: 1.0393\n",
      "Baseline Loss: 3.8743 | Actual Loss: 1.0553\n"
     ]
    },
    {
     "name": "stderr",
     "output_type": "stream",
     "text": [
      "Training:  49%|████▊     | 146/300 [02:44<02:44,  1.07s/it]"
     ]
    },
    {
     "name": "stdout",
     "output_type": "stream",
     "text": [
      "Baseline Loss: 3.9495 | Actual Loss: 1.3106\n",
      "Epoch 146/300: Train Loss: 1.0688, Val Loss: 1.3106\n",
      "Baseline Loss: 3.9680 | Actual Loss: 1.1217\n",
      "Baseline Loss: 3.9706 | Actual Loss: 1.1539\n",
      "Baseline Loss: 3.9747 | Actual Loss: 1.0394\n",
      "Baseline Loss: 3.8673 | Actual Loss: 0.9597\n"
     ]
    },
    {
     "name": "stderr",
     "output_type": "stream",
     "text": [
      "Training:  49%|████▉     | 147/300 [02:45<02:41,  1.05s/it]"
     ]
    },
    {
     "name": "stdout",
     "output_type": "stream",
     "text": [
      "Baseline Loss: 3.9495 | Actual Loss: 1.1259\n",
      "Epoch 147/300: Train Loss: 1.0687, Val Loss: 1.1259\n",
      "New best validation loss: 1.1259\n",
      "Baseline Loss: 3.9632 | Actual Loss: 1.1158\n",
      "Baseline Loss: 3.9720 | Actual Loss: 1.0610\n",
      "Baseline Loss: 3.9592 | Actual Loss: 0.9436\n",
      "Baseline Loss: 3.8811 | Actual Loss: 0.9099\n"
     ]
    },
    {
     "name": "stderr",
     "output_type": "stream",
     "text": [
      "Training:  49%|████▉     | 148/300 [02:46<02:39,  1.05s/it]"
     ]
    },
    {
     "name": "stdout",
     "output_type": "stream",
     "text": [
      "Baseline Loss: 3.9495 | Actual Loss: 1.1926\n",
      "Epoch 148/300: Train Loss: 1.0076, Val Loss: 1.1926\n",
      "Baseline Loss: 3.9623 | Actual Loss: 0.9889\n",
      "Baseline Loss: 3.9756 | Actual Loss: 1.0329\n",
      "Baseline Loss: 3.9710 | Actual Loss: 1.2460\n",
      "Baseline Loss: 3.8749 | Actual Loss: 0.9658\n"
     ]
    },
    {
     "name": "stderr",
     "output_type": "stream",
     "text": [
      "Training:  50%|████▉     | 149/300 [02:47<02:41,  1.07s/it]"
     ]
    },
    {
     "name": "stdout",
     "output_type": "stream",
     "text": [
      "Baseline Loss: 3.9495 | Actual Loss: 1.3256\n",
      "Epoch 149/300: Train Loss: 1.0584, Val Loss: 1.3256\n",
      "Baseline Loss: 3.9676 | Actual Loss: 0.9990\n",
      "Baseline Loss: 3.9669 | Actual Loss: 1.0444\n",
      "Baseline Loss: 3.9693 | Actual Loss: 1.2174\n",
      "Baseline Loss: 3.8764 | Actual Loss: 0.8198\n"
     ]
    },
    {
     "name": "stderr",
     "output_type": "stream",
     "text": [
      "Training:  50%|█████     | 150/300 [02:48<02:40,  1.07s/it]"
     ]
    },
    {
     "name": "stdout",
     "output_type": "stream",
     "text": [
      "Baseline Loss: 3.9495 | Actual Loss: 1.2746\n",
      "Epoch 150/300: Train Loss: 1.0201, Val Loss: 1.2746\n",
      "Baseline Loss: 3.9668 | Actual Loss: 1.0685\n",
      "Baseline Loss: 3.9662 | Actual Loss: 1.0656\n",
      "Baseline Loss: 3.9700 | Actual Loss: 0.9664\n",
      "Baseline Loss: 3.8784 | Actual Loss: 1.0738\n"
     ]
    },
    {
     "name": "stderr",
     "output_type": "stream",
     "text": [
      "Training:  50%|█████     | 151/300 [02:49<02:41,  1.08s/it]"
     ]
    },
    {
     "name": "stdout",
     "output_type": "stream",
     "text": [
      "Baseline Loss: 3.9495 | Actual Loss: 1.1652\n",
      "Epoch 151/300: Train Loss: 1.0436, Val Loss: 1.1652\n",
      "Baseline Loss: 3.9681 | Actual Loss: 0.9375\n",
      "Baseline Loss: 3.9689 | Actual Loss: 0.9116\n",
      "Baseline Loss: 3.9717 | Actual Loss: 1.0059\n",
      "Baseline Loss: 3.8720 | Actual Loss: 0.9509\n"
     ]
    },
    {
     "name": "stderr",
     "output_type": "stream",
     "text": [
      "Training:  51%|█████     | 152/300 [02:50<02:35,  1.05s/it]"
     ]
    },
    {
     "name": "stdout",
     "output_type": "stream",
     "text": [
      "Baseline Loss: 3.9495 | Actual Loss: 1.2188\n",
      "Epoch 152/300: Train Loss: 0.9514, Val Loss: 1.2188\n",
      "Baseline Loss: 3.9605 | Actual Loss: 1.1025\n",
      "Baseline Loss: 3.9627 | Actual Loss: 1.0926\n",
      "Baseline Loss: 3.9695 | Actual Loss: 0.9762\n",
      "Baseline Loss: 3.8816 | Actual Loss: 0.9558\n"
     ]
    },
    {
     "name": "stderr",
     "output_type": "stream",
     "text": [
      "Training:  51%|█████     | 153/300 [02:51<02:34,  1.05s/it]"
     ]
    },
    {
     "name": "stdout",
     "output_type": "stream",
     "text": [
      "Baseline Loss: 3.9495 | Actual Loss: 1.1547\n",
      "Epoch 153/300: Train Loss: 1.0317, Val Loss: 1.1547\n",
      "Baseline Loss: 3.9656 | Actual Loss: 1.1334\n",
      "Baseline Loss: 3.9717 | Actual Loss: 0.9863\n",
      "Baseline Loss: 3.9628 | Actual Loss: 0.9614\n",
      "Baseline Loss: 3.8774 | Actual Loss: 1.0825\n"
     ]
    },
    {
     "name": "stderr",
     "output_type": "stream",
     "text": [
      "Training:  51%|█████▏    | 154/300 [02:52<02:31,  1.04s/it]"
     ]
    },
    {
     "name": "stdout",
     "output_type": "stream",
     "text": [
      "Baseline Loss: 3.9495 | Actual Loss: 1.2296\n",
      "Epoch 154/300: Train Loss: 1.0409, Val Loss: 1.2296\n",
      "Baseline Loss: 3.9702 | Actual Loss: 1.0960\n",
      "Baseline Loss: 3.9635 | Actual Loss: 0.9709\n",
      "Baseline Loss: 3.9746 | Actual Loss: 1.0700\n",
      "Baseline Loss: 3.8727 | Actual Loss: 0.9008\n"
     ]
    },
    {
     "name": "stderr",
     "output_type": "stream",
     "text": [
      "Training:  52%|█████▏    | 155/300 [02:53<02:31,  1.04s/it]"
     ]
    },
    {
     "name": "stdout",
     "output_type": "stream",
     "text": [
      "Baseline Loss: 3.9495 | Actual Loss: 1.1028\n",
      "Epoch 155/300: Train Loss: 1.0094, Val Loss: 1.1028\n",
      "New best validation loss: 1.1028\n",
      "Baseline Loss: 3.9681 | Actual Loss: 0.9416\n",
      "Baseline Loss: 3.9744 | Actual Loss: 0.8529\n",
      "Baseline Loss: 3.9616 | Actual Loss: 1.1768\n",
      "Baseline Loss: 3.8766 | Actual Loss: 1.0781\n"
     ]
    },
    {
     "name": "stderr",
     "output_type": "stream",
     "text": [
      "Training:  52%|█████▏    | 156/300 [02:54<02:33,  1.07s/it]"
     ]
    },
    {
     "name": "stdout",
     "output_type": "stream",
     "text": [
      "Baseline Loss: 3.9495 | Actual Loss: 1.1435\n",
      "Epoch 156/300: Train Loss: 1.0124, Val Loss: 1.1435\n",
      "Baseline Loss: 3.9744 | Actual Loss: 1.0376\n",
      "Baseline Loss: 3.9675 | Actual Loss: 0.8903\n",
      "Baseline Loss: 3.9663 | Actual Loss: 1.0511\n",
      "Baseline Loss: 3.8635 | Actual Loss: 1.0109\n"
     ]
    },
    {
     "name": "stderr",
     "output_type": "stream",
     "text": [
      "Training:  52%|█████▏    | 157/300 [02:55<02:36,  1.09s/it]"
     ]
    },
    {
     "name": "stdout",
     "output_type": "stream",
     "text": [
      "Baseline Loss: 3.9495 | Actual Loss: 1.0989\n",
      "Epoch 157/300: Train Loss: 0.9975, Val Loss: 1.0989\n",
      "New best validation loss: 1.0989\n",
      "Baseline Loss: 3.9611 | Actual Loss: 0.9556\n",
      "Baseline Loss: 3.9731 | Actual Loss: 1.0601\n",
      "Baseline Loss: 3.9636 | Actual Loss: 0.9441\n",
      "Baseline Loss: 3.8860 | Actual Loss: 1.2478\n"
     ]
    },
    {
     "name": "stderr",
     "output_type": "stream",
     "text": [
      "Training:  53%|█████▎    | 158/300 [02:57<02:36,  1.10s/it]"
     ]
    },
    {
     "name": "stdout",
     "output_type": "stream",
     "text": [
      "Baseline Loss: 3.9495 | Actual Loss: 1.1360\n",
      "Epoch 158/300: Train Loss: 1.0519, Val Loss: 1.1360\n",
      "Baseline Loss: 3.9646 | Actual Loss: 0.9809\n",
      "Baseline Loss: 3.9757 | Actual Loss: 0.9797\n",
      "Baseline Loss: 3.9635 | Actual Loss: 1.0901\n",
      "Baseline Loss: 3.8707 | Actual Loss: 0.8580\n"
     ]
    },
    {
     "name": "stderr",
     "output_type": "stream",
     "text": [
      "Training:  53%|█████▎    | 159/300 [02:58<02:34,  1.10s/it]"
     ]
    },
    {
     "name": "stdout",
     "output_type": "stream",
     "text": [
      "Baseline Loss: 3.9495 | Actual Loss: 1.1715\n",
      "Epoch 159/300: Train Loss: 0.9772, Val Loss: 1.1715\n",
      "Baseline Loss: 3.9699 | Actual Loss: 1.0277\n",
      "Baseline Loss: 3.9688 | Actual Loss: 1.1396\n",
      "Baseline Loss: 3.9760 | Actual Loss: 1.1003\n",
      "Baseline Loss: 3.8643 | Actual Loss: 0.8626\n"
     ]
    },
    {
     "name": "stderr",
     "output_type": "stream",
     "text": [
      "Training:  53%|█████▎    | 160/300 [02:59<02:32,  1.09s/it]"
     ]
    },
    {
     "name": "stdout",
     "output_type": "stream",
     "text": [
      "Baseline Loss: 3.9495 | Actual Loss: 1.1942\n",
      "Epoch 160/300: Train Loss: 1.0326, Val Loss: 1.1942\n",
      "Baseline Loss: 3.9727 | Actual Loss: 0.9448\n",
      "Baseline Loss: 3.9634 | Actual Loss: 1.3006\n",
      "Baseline Loss: 3.9779 | Actual Loss: 0.9290\n",
      "Baseline Loss: 3.8700 | Actual Loss: 0.8722\n"
     ]
    },
    {
     "name": "stderr",
     "output_type": "stream",
     "text": [
      "Training:  54%|█████▎    | 161/300 [03:00<02:29,  1.07s/it]"
     ]
    },
    {
     "name": "stdout",
     "output_type": "stream",
     "text": [
      "Baseline Loss: 3.9495 | Actual Loss: 1.1527\n",
      "Epoch 161/300: Train Loss: 1.0116, Val Loss: 1.1527\n",
      "Baseline Loss: 3.9627 | Actual Loss: 1.1146\n",
      "Baseline Loss: 3.9719 | Actual Loss: 0.8928\n",
      "Baseline Loss: 3.9763 | Actual Loss: 0.9361\n",
      "Baseline Loss: 3.8661 | Actual Loss: 1.1814\n"
     ]
    },
    {
     "name": "stderr",
     "output_type": "stream",
     "text": [
      "Training:  54%|█████▍    | 162/300 [03:01<02:28,  1.07s/it]"
     ]
    },
    {
     "name": "stdout",
     "output_type": "stream",
     "text": [
      "Baseline Loss: 3.9495 | Actual Loss: 1.1182\n",
      "Epoch 162/300: Train Loss: 1.0312, Val Loss: 1.1182\n",
      "Baseline Loss: 3.9566 | Actual Loss: 0.9404\n",
      "Baseline Loss: 3.9746 | Actual Loss: 1.0466\n",
      "Baseline Loss: 3.9688 | Actual Loss: 0.9655\n",
      "Baseline Loss: 3.8764 | Actual Loss: 1.0181\n"
     ]
    },
    {
     "name": "stderr",
     "output_type": "stream",
     "text": [
      "Training:  54%|█████▍    | 163/300 [03:02<02:25,  1.06s/it]"
     ]
    },
    {
     "name": "stdout",
     "output_type": "stream",
     "text": [
      "Baseline Loss: 3.9495 | Actual Loss: 1.1070\n",
      "Epoch 163/300: Train Loss: 0.9926, Val Loss: 1.1070\n",
      "Baseline Loss: 3.9684 | Actual Loss: 0.9198\n",
      "Baseline Loss: 3.9575 | Actual Loss: 0.9437\n",
      "Baseline Loss: 3.9826 | Actual Loss: 0.9422\n",
      "Baseline Loss: 3.8709 | Actual Loss: 0.9493\n"
     ]
    },
    {
     "name": "stderr",
     "output_type": "stream",
     "text": [
      "Training:  55%|█████▍    | 164/300 [03:03<02:23,  1.05s/it]"
     ]
    },
    {
     "name": "stdout",
     "output_type": "stream",
     "text": [
      "Baseline Loss: 3.9495 | Actual Loss: 1.1539\n",
      "Epoch 164/300: Train Loss: 0.9387, Val Loss: 1.1539\n",
      "Baseline Loss: 3.9762 | Actual Loss: 1.0076\n",
      "Baseline Loss: 3.9596 | Actual Loss: 1.0538\n",
      "Baseline Loss: 3.9733 | Actual Loss: 0.8484\n",
      "Baseline Loss: 3.8739 | Actual Loss: 0.9726\n"
     ]
    },
    {
     "name": "stderr",
     "output_type": "stream",
     "text": [
      "Training:  55%|█████▌    | 165/300 [03:04<02:21,  1.05s/it]"
     ]
    },
    {
     "name": "stdout",
     "output_type": "stream",
     "text": [
      "Baseline Loss: 3.9495 | Actual Loss: 1.1897\n",
      "Epoch 165/300: Train Loss: 0.9706, Val Loss: 1.1897\n",
      "Baseline Loss: 3.9749 | Actual Loss: 0.9749\n",
      "Baseline Loss: 3.9607 | Actual Loss: 1.2724\n",
      "Baseline Loss: 3.9747 | Actual Loss: 0.9018\n",
      "Baseline Loss: 3.8691 | Actual Loss: 0.8673\n"
     ]
    },
    {
     "name": "stderr",
     "output_type": "stream",
     "text": [
      "Training:  55%|█████▌    | 166/300 [03:05<02:23,  1.07s/it]"
     ]
    },
    {
     "name": "stdout",
     "output_type": "stream",
     "text": [
      "Baseline Loss: 3.9495 | Actual Loss: 1.1198\n",
      "Epoch 166/300: Train Loss: 1.0041, Val Loss: 1.1198\n",
      "Baseline Loss: 3.9681 | Actual Loss: 1.1456\n",
      "Baseline Loss: 3.9690 | Actual Loss: 0.9350\n",
      "Baseline Loss: 3.9628 | Actual Loss: 0.9527\n",
      "Baseline Loss: 3.8772 | Actual Loss: 1.0292\n"
     ]
    },
    {
     "name": "stderr",
     "output_type": "stream",
     "text": [
      "Training:  56%|█████▌    | 167/300 [03:06<02:20,  1.06s/it]"
     ]
    },
    {
     "name": "stdout",
     "output_type": "stream",
     "text": [
      "Baseline Loss: 3.9495 | Actual Loss: 1.0945\n",
      "Epoch 167/300: Train Loss: 1.0156, Val Loss: 1.0945\n",
      "New best validation loss: 1.0945\n",
      "Baseline Loss: 3.9747 | Actual Loss: 0.9493\n",
      "Baseline Loss: 3.9635 | Actual Loss: 1.0119\n",
      "Baseline Loss: 3.9771 | Actual Loss: 0.9082\n",
      "Baseline Loss: 3.8693 | Actual Loss: 0.9374\n"
     ]
    },
    {
     "name": "stderr",
     "output_type": "stream",
     "text": [
      "Training:  56%|█████▌    | 168/300 [03:07<02:20,  1.06s/it]"
     ]
    },
    {
     "name": "stdout",
     "output_type": "stream",
     "text": [
      "Baseline Loss: 3.9495 | Actual Loss: 1.0203\n",
      "Epoch 168/300: Train Loss: 0.9517, Val Loss: 1.0203\n",
      "New best validation loss: 1.0203\n",
      "Baseline Loss: 3.9638 | Actual Loss: 0.8648\n",
      "Baseline Loss: 3.9675 | Actual Loss: 0.9763\n",
      "Baseline Loss: 3.9814 | Actual Loss: 0.9256\n",
      "Baseline Loss: 3.8763 | Actual Loss: 0.8642\n"
     ]
    },
    {
     "name": "stderr",
     "output_type": "stream",
     "text": [
      "Training:  56%|█████▋    | 169/300 [03:08<02:19,  1.06s/it]"
     ]
    },
    {
     "name": "stdout",
     "output_type": "stream",
     "text": [
      "Baseline Loss: 3.9495 | Actual Loss: 1.1640\n",
      "Epoch 169/300: Train Loss: 0.9078, Val Loss: 1.1640\n",
      "Baseline Loss: 3.9747 | Actual Loss: 0.9194\n",
      "Baseline Loss: 3.9734 | Actual Loss: 0.9200\n",
      "Baseline Loss: 3.9673 | Actual Loss: 1.0205\n",
      "Baseline Loss: 3.8688 | Actual Loss: 0.8194\n"
     ]
    },
    {
     "name": "stderr",
     "output_type": "stream",
     "text": [
      "Training:  57%|█████▋    | 170/300 [03:09<02:19,  1.08s/it]"
     ]
    },
    {
     "name": "stdout",
     "output_type": "stream",
     "text": [
      "Baseline Loss: 3.9495 | Actual Loss: 1.1506\n",
      "Epoch 170/300: Train Loss: 0.9198, Val Loss: 1.1506\n",
      "Baseline Loss: 3.9634 | Actual Loss: 0.9818\n",
      "Baseline Loss: 3.9683 | Actual Loss: 0.9120\n",
      "Baseline Loss: 3.9730 | Actual Loss: 1.1818\n",
      "Baseline Loss: 3.8717 | Actual Loss: 0.9002\n"
     ]
    },
    {
     "name": "stderr",
     "output_type": "stream",
     "text": [
      "Training:  57%|█████▋    | 171/300 [03:10<02:22,  1.11s/it]"
     ]
    },
    {
     "name": "stdout",
     "output_type": "stream",
     "text": [
      "Baseline Loss: 3.9495 | Actual Loss: 1.1433\n",
      "Epoch 171/300: Train Loss: 0.9940, Val Loss: 1.1433\n",
      "Baseline Loss: 3.9626 | Actual Loss: 0.9664\n",
      "Baseline Loss: 3.9671 | Actual Loss: 0.9248\n",
      "Baseline Loss: 3.9717 | Actual Loss: 0.9892\n",
      "Baseline Loss: 3.8783 | Actual Loss: 0.8763\n"
     ]
    },
    {
     "name": "stderr",
     "output_type": "stream",
     "text": [
      "Training:  57%|█████▋    | 172/300 [03:12<02:22,  1.11s/it]"
     ]
    },
    {
     "name": "stdout",
     "output_type": "stream",
     "text": [
      "Baseline Loss: 3.9495 | Actual Loss: 1.0997\n",
      "Epoch 172/300: Train Loss: 0.9392, Val Loss: 1.0997\n",
      "Baseline Loss: 3.9672 | Actual Loss: 0.9716\n",
      "Baseline Loss: 3.9687 | Actual Loss: 1.0252\n",
      "Baseline Loss: 3.9701 | Actual Loss: 0.8226\n",
      "Baseline Loss: 3.8773 | Actual Loss: 0.9928\n"
     ]
    },
    {
     "name": "stderr",
     "output_type": "stream",
     "text": [
      "Training:  58%|█████▊    | 173/300 [03:13<02:21,  1.12s/it]"
     ]
    },
    {
     "name": "stdout",
     "output_type": "stream",
     "text": [
      "Baseline Loss: 3.9495 | Actual Loss: 1.1837\n",
      "Epoch 173/300: Train Loss: 0.9530, Val Loss: 1.1837\n",
      "Baseline Loss: 3.9728 | Actual Loss: 0.9971\n",
      "Baseline Loss: 3.9695 | Actual Loss: 0.8972\n",
      "Baseline Loss: 3.9723 | Actual Loss: 0.9802\n",
      "Baseline Loss: 3.8764 | Actual Loss: 0.9027\n"
     ]
    },
    {
     "name": "stderr",
     "output_type": "stream",
     "text": [
      "Training:  58%|█████▊    | 174/300 [03:14<02:18,  1.10s/it]"
     ]
    },
    {
     "name": "stdout",
     "output_type": "stream",
     "text": [
      "Baseline Loss: 3.9495 | Actual Loss: 1.0343\n",
      "Epoch 174/300: Train Loss: 0.9443, Val Loss: 1.0343\n",
      "Baseline Loss: 3.9691 | Actual Loss: 0.9265\n",
      "Baseline Loss: 3.9738 | Actual Loss: 1.0992\n",
      "Baseline Loss: 3.9642 | Actual Loss: 0.9078\n",
      "Baseline Loss: 3.8751 | Actual Loss: 1.1469\n"
     ]
    },
    {
     "name": "stderr",
     "output_type": "stream",
     "text": [
      "Training:  58%|█████▊    | 175/300 [03:15<02:15,  1.08s/it]"
     ]
    },
    {
     "name": "stdout",
     "output_type": "stream",
     "text": [
      "Baseline Loss: 3.9495 | Actual Loss: 1.0861\n",
      "Epoch 175/300: Train Loss: 1.0201, Val Loss: 1.0861\n",
      "Baseline Loss: 3.9708 | Actual Loss: 0.8826\n",
      "Baseline Loss: 3.9659 | Actual Loss: 0.9235\n",
      "Baseline Loss: 3.9779 | Actual Loss: 0.8808\n",
      "Baseline Loss: 3.8647 | Actual Loss: 0.9712\n"
     ]
    },
    {
     "name": "stderr",
     "output_type": "stream",
     "text": [
      "Training:  59%|█████▊    | 176/300 [03:16<02:10,  1.05s/it]"
     ]
    },
    {
     "name": "stdout",
     "output_type": "stream",
     "text": [
      "Baseline Loss: 3.9495 | Actual Loss: 1.1472\n",
      "Epoch 176/300: Train Loss: 0.9145, Val Loss: 1.1472\n",
      "Baseline Loss: 3.9741 | Actual Loss: 1.0585\n",
      "Baseline Loss: 3.9750 | Actual Loss: 0.9291\n",
      "Baseline Loss: 3.9648 | Actual Loss: 0.9237\n",
      "Baseline Loss: 3.8680 | Actual Loss: 0.8636\n"
     ]
    },
    {
     "name": "stderr",
     "output_type": "stream",
     "text": [
      "Training:  59%|█████▉    | 177/300 [03:17<02:07,  1.03s/it]"
     ]
    },
    {
     "name": "stdout",
     "output_type": "stream",
     "text": [
      "Baseline Loss: 3.9495 | Actual Loss: 1.0763\n",
      "Epoch 177/300: Train Loss: 0.9437, Val Loss: 1.0763\n",
      "Baseline Loss: 3.9644 | Actual Loss: 0.8862\n",
      "Baseline Loss: 3.9695 | Actual Loss: 0.9448\n",
      "Baseline Loss: 3.9639 | Actual Loss: 1.1036\n",
      "Baseline Loss: 3.8805 | Actual Loss: 0.9562\n"
     ]
    },
    {
     "name": "stderr",
     "output_type": "stream",
     "text": [
      "Training:  59%|█████▉    | 178/300 [03:18<02:04,  1.02s/it]"
     ]
    },
    {
     "name": "stdout",
     "output_type": "stream",
     "text": [
      "Baseline Loss: 3.9495 | Actual Loss: 1.0099\n",
      "Epoch 178/300: Train Loss: 0.9727, Val Loss: 1.0099\n",
      "New best validation loss: 1.0099\n",
      "Baseline Loss: 3.9626 | Actual Loss: 0.9265\n",
      "Baseline Loss: 3.9711 | Actual Loss: 1.0142\n",
      "Baseline Loss: 3.9685 | Actual Loss: 0.8752\n",
      "Baseline Loss: 3.8775 | Actual Loss: 0.8081\n"
     ]
    },
    {
     "name": "stderr",
     "output_type": "stream",
     "text": [
      "Training:  60%|█████▉    | 179/300 [03:19<02:01,  1.01s/it]"
     ]
    },
    {
     "name": "stdout",
     "output_type": "stream",
     "text": [
      "Baseline Loss: 3.9495 | Actual Loss: 1.1099\n",
      "Epoch 179/300: Train Loss: 0.9060, Val Loss: 1.1099\n",
      "Baseline Loss: 3.9650 | Actual Loss: 0.9046\n",
      "Baseline Loss: 3.9747 | Actual Loss: 1.0133\n",
      "Baseline Loss: 3.9708 | Actual Loss: 1.2848\n",
      "Baseline Loss: 3.8612 | Actual Loss: 0.7812\n"
     ]
    },
    {
     "name": "stderr",
     "output_type": "stream",
     "text": [
      "Training:  60%|██████    | 180/300 [03:20<02:03,  1.03s/it]"
     ]
    },
    {
     "name": "stdout",
     "output_type": "stream",
     "text": [
      "Baseline Loss: 3.9495 | Actual Loss: 1.1098\n",
      "Epoch 180/300: Train Loss: 0.9960, Val Loss: 1.1098\n",
      "Baseline Loss: 3.9721 | Actual Loss: 0.9319\n",
      "Baseline Loss: 3.9643 | Actual Loss: 0.8471\n",
      "Baseline Loss: 3.9682 | Actual Loss: 0.8587\n",
      "Baseline Loss: 3.8813 | Actual Loss: 0.9955\n"
     ]
    },
    {
     "name": "stderr",
     "output_type": "stream",
     "text": [
      "Training:  60%|██████    | 181/300 [03:21<02:02,  1.03s/it]"
     ]
    },
    {
     "name": "stdout",
     "output_type": "stream",
     "text": [
      "Baseline Loss: 3.9495 | Actual Loss: 1.1309\n",
      "Epoch 181/300: Train Loss: 0.9083, Val Loss: 1.1309\n",
      "Baseline Loss: 3.9648 | Actual Loss: 0.9920\n",
      "Baseline Loss: 3.9707 | Actual Loss: 0.8509\n",
      "Baseline Loss: 3.9694 | Actual Loss: 1.0404\n",
      "Baseline Loss: 3.8691 | Actual Loss: 0.8886\n"
     ]
    },
    {
     "name": "stderr",
     "output_type": "stream",
     "text": [
      "Training:  61%|██████    | 182/300 [03:22<02:03,  1.05s/it]"
     ]
    },
    {
     "name": "stdout",
     "output_type": "stream",
     "text": [
      "Baseline Loss: 3.9495 | Actual Loss: 1.1026\n",
      "Epoch 182/300: Train Loss: 0.9430, Val Loss: 1.1026\n",
      "Baseline Loss: 3.9782 | Actual Loss: 0.9483\n",
      "Baseline Loss: 3.9643 | Actual Loss: 0.8422\n",
      "Baseline Loss: 3.9768 | Actual Loss: 0.9954\n",
      "Baseline Loss: 3.8690 | Actual Loss: 0.8201\n"
     ]
    },
    {
     "name": "stderr",
     "output_type": "stream",
     "text": [
      "Training:  61%|██████    | 183/300 [03:23<02:09,  1.11s/it]"
     ]
    },
    {
     "name": "stdout",
     "output_type": "stream",
     "text": [
      "Baseline Loss: 3.9495 | Actual Loss: 1.1535\n",
      "Epoch 183/300: Train Loss: 0.9015, Val Loss: 1.1535\n",
      "Baseline Loss: 3.9709 | Actual Loss: 0.8754\n",
      "Baseline Loss: 3.9677 | Actual Loss: 0.9023\n",
      "Baseline Loss: 3.9678 | Actual Loss: 0.9621\n",
      "Baseline Loss: 3.8716 | Actual Loss: 0.7208\n"
     ]
    },
    {
     "name": "stderr",
     "output_type": "stream",
     "text": [
      "Training:  61%|██████▏   | 184/300 [03:24<02:09,  1.12s/it]"
     ]
    },
    {
     "name": "stdout",
     "output_type": "stream",
     "text": [
      "Baseline Loss: 3.9495 | Actual Loss: 1.1538\n",
      "Epoch 184/300: Train Loss: 0.8652, Val Loss: 1.1538\n",
      "Baseline Loss: 3.9626 | Actual Loss: 1.0188\n",
      "Baseline Loss: 3.9746 | Actual Loss: 1.0779\n",
      "Baseline Loss: 3.9689 | Actual Loss: 0.8481\n",
      "Baseline Loss: 3.8668 | Actual Loss: 0.8975\n"
     ]
    },
    {
     "name": "stderr",
     "output_type": "stream",
     "text": [
      "Training:  62%|██████▏   | 185/300 [03:26<02:09,  1.13s/it]"
     ]
    },
    {
     "name": "stdout",
     "output_type": "stream",
     "text": [
      "Baseline Loss: 3.9495 | Actual Loss: 1.0492\n",
      "Epoch 185/300: Train Loss: 0.9606, Val Loss: 1.0492\n",
      "Baseline Loss: 3.9658 | Actual Loss: 0.8621\n",
      "Baseline Loss: 3.9677 | Actual Loss: 0.8293\n",
      "Baseline Loss: 3.9616 | Actual Loss: 0.9600\n",
      "Baseline Loss: 3.8876 | Actual Loss: 1.0428\n"
     ]
    },
    {
     "name": "stderr",
     "output_type": "stream",
     "text": [
      "Training:  62%|██████▏   | 186/300 [03:27<02:07,  1.12s/it]"
     ]
    },
    {
     "name": "stdout",
     "output_type": "stream",
     "text": [
      "Baseline Loss: 3.9495 | Actual Loss: 1.0816\n",
      "Epoch 186/300: Train Loss: 0.9235, Val Loss: 1.0816\n",
      "Baseline Loss: 3.9777 | Actual Loss: 1.0115\n",
      "Baseline Loss: 3.9636 | Actual Loss: 0.9280\n",
      "Baseline Loss: 3.9661 | Actual Loss: 0.9668\n",
      "Baseline Loss: 3.8683 | Actual Loss: 0.7576\n"
     ]
    },
    {
     "name": "stderr",
     "output_type": "stream",
     "text": [
      "Training:  62%|██████▏   | 187/300 [03:28<02:05,  1.11s/it]"
     ]
    },
    {
     "name": "stdout",
     "output_type": "stream",
     "text": [
      "Baseline Loss: 3.9495 | Actual Loss: 1.1590\n",
      "Epoch 187/300: Train Loss: 0.9160, Val Loss: 1.1590\n",
      "Baseline Loss: 3.9570 | Actual Loss: 0.9076\n",
      "Baseline Loss: 3.9699 | Actual Loss: 1.0447\n",
      "Baseline Loss: 3.9673 | Actual Loss: 0.8705\n",
      "Baseline Loss: 3.8963 | Actual Loss: 0.7867\n"
     ]
    },
    {
     "name": "stderr",
     "output_type": "stream",
     "text": [
      "Training:  63%|██████▎   | 188/300 [03:29<02:07,  1.14s/it]"
     ]
    },
    {
     "name": "stdout",
     "output_type": "stream",
     "text": [
      "Baseline Loss: 3.9495 | Actual Loss: 1.0862\n",
      "Epoch 188/300: Train Loss: 0.9024, Val Loss: 1.0862\n",
      "Baseline Loss: 3.9702 | Actual Loss: 0.8553\n",
      "Baseline Loss: 3.9761 | Actual Loss: 0.8657\n",
      "Baseline Loss: 3.9643 | Actual Loss: 0.9628\n",
      "Baseline Loss: 3.8704 | Actual Loss: 0.8262\n"
     ]
    },
    {
     "name": "stderr",
     "output_type": "stream",
     "text": [
      "Training:  63%|██████▎   | 189/300 [03:30<02:04,  1.12s/it]"
     ]
    },
    {
     "name": "stdout",
     "output_type": "stream",
     "text": [
      "Baseline Loss: 3.9495 | Actual Loss: 1.0896\n",
      "Epoch 189/300: Train Loss: 0.8775, Val Loss: 1.0896\n",
      "Baseline Loss: 3.9638 | Actual Loss: 0.8366\n",
      "Baseline Loss: 3.9683 | Actual Loss: 0.8700\n",
      "Baseline Loss: 3.9729 | Actual Loss: 0.9478\n",
      "Baseline Loss: 3.8726 | Actual Loss: 0.9143\n"
     ]
    },
    {
     "name": "stderr",
     "output_type": "stream",
     "text": [
      "Training:  63%|██████▎   | 190/300 [03:31<02:00,  1.10s/it]"
     ]
    },
    {
     "name": "stdout",
     "output_type": "stream",
     "text": [
      "Baseline Loss: 3.9495 | Actual Loss: 1.0361\n",
      "Epoch 190/300: Train Loss: 0.8922, Val Loss: 1.0361\n",
      "Baseline Loss: 3.9655 | Actual Loss: 0.8497\n",
      "Baseline Loss: 3.9640 | Actual Loss: 0.8311\n",
      "Baseline Loss: 3.9671 | Actual Loss: 0.9173\n",
      "Baseline Loss: 3.8794 | Actual Loss: 1.0077\n"
     ]
    },
    {
     "name": "stderr",
     "output_type": "stream",
     "text": [
      "Training:  64%|██████▎   | 191/300 [03:32<02:01,  1.11s/it]"
     ]
    },
    {
     "name": "stdout",
     "output_type": "stream",
     "text": [
      "Baseline Loss: 3.9495 | Actual Loss: 1.0780\n",
      "Epoch 191/300: Train Loss: 0.9015, Val Loss: 1.0780\n",
      "Baseline Loss: 3.9630 | Actual Loss: 0.8393\n",
      "Baseline Loss: 3.9696 | Actual Loss: 0.8794\n",
      "Baseline Loss: 3.9714 | Actual Loss: 0.9402\n",
      "Baseline Loss: 3.8734 | Actual Loss: 0.8074\n"
     ]
    },
    {
     "name": "stderr",
     "output_type": "stream",
     "text": [
      "Training:  64%|██████▍   | 192/300 [03:33<02:00,  1.12s/it]"
     ]
    },
    {
     "name": "stdout",
     "output_type": "stream",
     "text": [
      "Baseline Loss: 3.9495 | Actual Loss: 1.0770\n",
      "Epoch 192/300: Train Loss: 0.8666, Val Loss: 1.0770\n",
      "Baseline Loss: 3.9734 | Actual Loss: 0.9713\n",
      "Baseline Loss: 3.9711 | Actual Loss: 0.8139\n",
      "Baseline Loss: 3.9585 | Actual Loss: 0.9467\n",
      "Baseline Loss: 3.8730 | Actual Loss: 0.8269\n"
     ]
    },
    {
     "name": "stderr",
     "output_type": "stream",
     "text": [
      "Training:  64%|██████▍   | 193/300 [03:34<02:01,  1.13s/it]"
     ]
    },
    {
     "name": "stdout",
     "output_type": "stream",
     "text": [
      "Baseline Loss: 3.9495 | Actual Loss: 1.0461\n",
      "Epoch 193/300: Train Loss: 0.8897, Val Loss: 1.0461\n",
      "Baseline Loss: 3.9611 | Actual Loss: 1.0141\n",
      "Baseline Loss: 3.9674 | Actual Loss: 0.8279\n",
      "Baseline Loss: 3.9750 | Actual Loss: 0.8545\n",
      "Baseline Loss: 3.8679 | Actual Loss: 0.8688\n"
     ]
    },
    {
     "name": "stderr",
     "output_type": "stream",
     "text": [
      "Training:  65%|██████▍   | 194/300 [03:36<01:59,  1.13s/it]"
     ]
    },
    {
     "name": "stdout",
     "output_type": "stream",
     "text": [
      "Baseline Loss: 3.9495 | Actual Loss: 1.1836\n",
      "Epoch 194/300: Train Loss: 0.8913, Val Loss: 1.1836\n",
      "Baseline Loss: 3.9633 | Actual Loss: 0.7843\n",
      "Baseline Loss: 3.9733 | Actual Loss: 0.9275\n",
      "Baseline Loss: 3.9664 | Actual Loss: 0.8729\n",
      "Baseline Loss: 3.8744 | Actual Loss: 1.0946\n"
     ]
    },
    {
     "name": "stderr",
     "output_type": "stream",
     "text": [
      "Training:  65%|██████▌   | 195/300 [03:37<01:59,  1.14s/it]"
     ]
    },
    {
     "name": "stdout",
     "output_type": "stream",
     "text": [
      "Baseline Loss: 3.9495 | Actual Loss: 1.1283\n",
      "Epoch 195/300: Train Loss: 0.9199, Val Loss: 1.1283\n",
      "Baseline Loss: 3.9626 | Actual Loss: 0.7399\n",
      "Baseline Loss: 3.9758 | Actual Loss: 0.8530\n",
      "Baseline Loss: 3.9691 | Actual Loss: 0.8510\n",
      "Baseline Loss: 3.8762 | Actual Loss: 0.9730\n"
     ]
    },
    {
     "name": "stderr",
     "output_type": "stream",
     "text": [
      "Training:  65%|██████▌   | 196/300 [03:38<01:54,  1.10s/it]"
     ]
    },
    {
     "name": "stdout",
     "output_type": "stream",
     "text": [
      "Baseline Loss: 3.9495 | Actual Loss: 1.0543\n",
      "Epoch 196/300: Train Loss: 0.8542, Val Loss: 1.0543\n",
      "Baseline Loss: 3.9661 | Actual Loss: 0.9422\n",
      "Baseline Loss: 3.9674 | Actual Loss: 0.8930\n",
      "Baseline Loss: 3.9632 | Actual Loss: 0.9580\n",
      "Baseline Loss: 3.8742 | Actual Loss: 0.9690\n"
     ]
    },
    {
     "name": "stderr",
     "output_type": "stream",
     "text": [
      "Training:  66%|██████▌   | 197/300 [03:39<01:54,  1.11s/it]"
     ]
    },
    {
     "name": "stdout",
     "output_type": "stream",
     "text": [
      "Baseline Loss: 3.9495 | Actual Loss: 1.1214\n",
      "Epoch 197/300: Train Loss: 0.9406, Val Loss: 1.1214\n",
      "Baseline Loss: 3.9682 | Actual Loss: 0.7964\n",
      "Baseline Loss: 3.9609 | Actual Loss: 1.0531\n",
      "Baseline Loss: 3.9738 | Actual Loss: 0.8396\n",
      "Baseline Loss: 3.8745 | Actual Loss: 0.8077\n"
     ]
    },
    {
     "name": "stderr",
     "output_type": "stream",
     "text": [
      "Training:  66%|██████▌   | 198/300 [03:40<01:52,  1.10s/it]"
     ]
    },
    {
     "name": "stdout",
     "output_type": "stream",
     "text": [
      "Baseline Loss: 3.9495 | Actual Loss: 1.2488\n",
      "Epoch 198/300: Train Loss: 0.8742, Val Loss: 1.2488\n",
      "Baseline Loss: 3.9661 | Actual Loss: 0.8300\n",
      "Baseline Loss: 3.9740 | Actual Loss: 0.8988\n",
      "Baseline Loss: 3.9688 | Actual Loss: 1.0053\n",
      "Baseline Loss: 3.8718 | Actual Loss: 1.1551\n"
     ]
    },
    {
     "name": "stderr",
     "output_type": "stream",
     "text": [
      "Training:  66%|██████▋   | 199/300 [03:41<01:53,  1.12s/it]"
     ]
    },
    {
     "name": "stdout",
     "output_type": "stream",
     "text": [
      "Baseline Loss: 3.9495 | Actual Loss: 1.0800\n",
      "Epoch 199/300: Train Loss: 0.9723, Val Loss: 1.0800\n",
      "Baseline Loss: 3.9675 | Actual Loss: 0.9740\n",
      "Baseline Loss: 3.9734 | Actual Loss: 1.0579\n",
      "Baseline Loss: 3.9636 | Actual Loss: 0.8669\n",
      "Baseline Loss: 3.8778 | Actual Loss: 0.6928\n"
     ]
    },
    {
     "name": "stderr",
     "output_type": "stream",
     "text": [
      "Training:  67%|██████▋   | 200/300 [03:42<01:52,  1.12s/it]"
     ]
    },
    {
     "name": "stdout",
     "output_type": "stream",
     "text": [
      "Baseline Loss: 3.9495 | Actual Loss: 1.0537\n",
      "Epoch 200/300: Train Loss: 0.8979, Val Loss: 1.0537\n",
      "Baseline Loss: 3.9678 | Actual Loss: 0.9169\n",
      "Baseline Loss: 3.9583 | Actual Loss: 0.8853\n",
      "Baseline Loss: 3.9818 | Actual Loss: 0.8948\n",
      "Baseline Loss: 3.8716 | Actual Loss: 0.7153\n"
     ]
    },
    {
     "name": "stderr",
     "output_type": "stream",
     "text": [
      "Training:  67%|██████▋   | 201/300 [03:43<01:54,  1.16s/it]"
     ]
    },
    {
     "name": "stdout",
     "output_type": "stream",
     "text": [
      "Baseline Loss: 3.9495 | Actual Loss: 1.0193\n",
      "Epoch 201/300: Train Loss: 0.8531, Val Loss: 1.0193\n",
      "Baseline Loss: 3.9656 | Actual Loss: 0.7985\n",
      "Baseline Loss: 3.9681 | Actual Loss: 0.9046\n",
      "Baseline Loss: 3.9716 | Actual Loss: 0.8182\n",
      "Baseline Loss: 3.8691 | Actual Loss: 0.7395\n"
     ]
    },
    {
     "name": "stderr",
     "output_type": "stream",
     "text": [
      "Training:  67%|██████▋   | 202/300 [03:45<01:52,  1.15s/it]"
     ]
    },
    {
     "name": "stdout",
     "output_type": "stream",
     "text": [
      "Baseline Loss: 3.9495 | Actual Loss: 1.0967\n",
      "Epoch 202/300: Train Loss: 0.8152, Val Loss: 1.0967\n",
      "Baseline Loss: 3.9704 | Actual Loss: 0.7789\n",
      "Baseline Loss: 3.9615 | Actual Loss: 0.9718\n",
      "Baseline Loss: 3.9674 | Actual Loss: 0.9074\n",
      "Baseline Loss: 3.8834 | Actual Loss: 0.7757\n"
     ]
    },
    {
     "name": "stderr",
     "output_type": "stream",
     "text": [
      "Training:  68%|██████▊   | 203/300 [03:46<01:50,  1.14s/it]"
     ]
    },
    {
     "name": "stdout",
     "output_type": "stream",
     "text": [
      "Baseline Loss: 3.9495 | Actual Loss: 1.0657\n",
      "Epoch 203/300: Train Loss: 0.8584, Val Loss: 1.0657\n",
      "Baseline Loss: 3.9687 | Actual Loss: 1.0337\n",
      "Baseline Loss: 3.9760 | Actual Loss: 0.8694\n",
      "Baseline Loss: 3.9639 | Actual Loss: 0.9644\n",
      "Baseline Loss: 3.8661 | Actual Loss: 0.8313\n"
     ]
    },
    {
     "name": "stderr",
     "output_type": "stream",
     "text": [
      "Training:  68%|██████▊   | 204/300 [03:47<01:49,  1.14s/it]"
     ]
    },
    {
     "name": "stdout",
     "output_type": "stream",
     "text": [
      "Baseline Loss: 3.9495 | Actual Loss: 1.1285\n",
      "Epoch 204/300: Train Loss: 0.9247, Val Loss: 1.1285\n",
      "Baseline Loss: 3.9619 | Actual Loss: 0.8811\n",
      "Baseline Loss: 3.9641 | Actual Loss: 0.9049\n",
      "Baseline Loss: 3.9709 | Actual Loss: 0.8485\n",
      "Baseline Loss: 3.8749 | Actual Loss: 0.8478\n"
     ]
    },
    {
     "name": "stderr",
     "output_type": "stream",
     "text": [
      "Training:  68%|██████▊   | 205/300 [03:48<01:46,  1.12s/it]"
     ]
    },
    {
     "name": "stdout",
     "output_type": "stream",
     "text": [
      "Baseline Loss: 3.9495 | Actual Loss: 1.0766\n",
      "Epoch 205/300: Train Loss: 0.8706, Val Loss: 1.0766\n",
      "Baseline Loss: 3.9723 | Actual Loss: 0.9030\n",
      "Baseline Loss: 3.9643 | Actual Loss: 0.9095\n",
      "Baseline Loss: 3.9694 | Actual Loss: 0.9722\n",
      "Baseline Loss: 3.8703 | Actual Loss: 0.7684\n"
     ]
    },
    {
     "name": "stderr",
     "output_type": "stream",
     "text": [
      "Training:  69%|██████▊   | 206/300 [03:49<01:46,  1.13s/it]"
     ]
    },
    {
     "name": "stdout",
     "output_type": "stream",
     "text": [
      "Baseline Loss: 3.9495 | Actual Loss: 1.0877\n",
      "Epoch 206/300: Train Loss: 0.8883, Val Loss: 1.0877\n",
      "Baseline Loss: 3.9663 | Actual Loss: 0.8131\n",
      "Baseline Loss: 3.9638 | Actual Loss: 0.9156\n",
      "Baseline Loss: 3.9639 | Actual Loss: 0.8269\n",
      "Baseline Loss: 3.8904 | Actual Loss: 0.7280\n"
     ]
    },
    {
     "name": "stderr",
     "output_type": "stream",
     "text": [
      "Training:  69%|██████▉   | 207/300 [03:50<01:45,  1.14s/it]"
     ]
    },
    {
     "name": "stdout",
     "output_type": "stream",
     "text": [
      "Baseline Loss: 3.9495 | Actual Loss: 1.0119\n",
      "Epoch 207/300: Train Loss: 0.8209, Val Loss: 1.0119\n",
      "Baseline Loss: 3.9811 | Actual Loss: 0.8468\n",
      "Baseline Loss: 3.9693 | Actual Loss: 0.7329\n",
      "Baseline Loss: 3.9696 | Actual Loss: 0.8295\n",
      "Baseline Loss: 3.8643 | Actual Loss: 0.8802\n"
     ]
    },
    {
     "name": "stderr",
     "output_type": "stream",
     "text": [
      "Training:  69%|██████▉   | 208/300 [03:51<01:43,  1.13s/it]"
     ]
    },
    {
     "name": "stdout",
     "output_type": "stream",
     "text": [
      "Baseline Loss: 3.9495 | Actual Loss: 1.0957\n",
      "Epoch 208/300: Train Loss: 0.8223, Val Loss: 1.0957\n",
      "Baseline Loss: 3.9689 | Actual Loss: 0.8669\n",
      "Baseline Loss: 3.9756 | Actual Loss: 0.7800\n",
      "Baseline Loss: 3.9639 | Actual Loss: 0.9075\n",
      "Baseline Loss: 3.8686 | Actual Loss: 0.7992\n"
     ]
    },
    {
     "name": "stderr",
     "output_type": "stream",
     "text": [
      "Training:  70%|██████▉   | 209/300 [03:53<01:44,  1.14s/it]"
     ]
    },
    {
     "name": "stdout",
     "output_type": "stream",
     "text": [
      "Baseline Loss: 3.9495 | Actual Loss: 0.9698\n",
      "Epoch 209/300: Train Loss: 0.8384, Val Loss: 0.9698\n",
      "New best validation loss: 0.9698\n",
      "Baseline Loss: 3.9741 | Actual Loss: 0.8335\n",
      "Baseline Loss: 3.9719 | Actual Loss: 0.7589\n",
      "Baseline Loss: 3.9666 | Actual Loss: 0.7609\n",
      "Baseline Loss: 3.8739 | Actual Loss: 0.8972\n"
     ]
    },
    {
     "name": "stderr",
     "output_type": "stream",
     "text": [
      "Training:  70%|███████   | 210/300 [03:54<01:45,  1.17s/it]"
     ]
    },
    {
     "name": "stdout",
     "output_type": "stream",
     "text": [
      "Baseline Loss: 3.9495 | Actual Loss: 1.0548\n",
      "Epoch 210/300: Train Loss: 0.8126, Val Loss: 1.0548\n",
      "Baseline Loss: 3.9631 | Actual Loss: 0.8439\n",
      "Baseline Loss: 3.9681 | Actual Loss: 0.7897\n",
      "Baseline Loss: 3.9706 | Actual Loss: 0.9208\n",
      "Baseline Loss: 3.8872 | Actual Loss: 0.6830\n"
     ]
    },
    {
     "name": "stderr",
     "output_type": "stream",
     "text": [
      "Training:  70%|███████   | 211/300 [03:55<01:45,  1.19s/it]"
     ]
    },
    {
     "name": "stdout",
     "output_type": "stream",
     "text": [
      "Baseline Loss: 3.9495 | Actual Loss: 1.0238\n",
      "Epoch 211/300: Train Loss: 0.8094, Val Loss: 1.0238\n",
      "Baseline Loss: 3.9706 | Actual Loss: 0.7444\n",
      "Baseline Loss: 3.9750 | Actual Loss: 0.9539\n",
      "Baseline Loss: 3.9738 | Actual Loss: 0.7230\n",
      "Baseline Loss: 3.8611 | Actual Loss: 0.8447\n"
     ]
    },
    {
     "name": "stderr",
     "output_type": "stream",
     "text": [
      "Training:  71%|███████   | 212/300 [03:56<01:41,  1.16s/it]"
     ]
    },
    {
     "name": "stdout",
     "output_type": "stream",
     "text": [
      "Baseline Loss: 3.9495 | Actual Loss: 1.0963\n",
      "Epoch 212/300: Train Loss: 0.8165, Val Loss: 1.0963\n",
      "Baseline Loss: 3.9591 | Actual Loss: 0.8592\n",
      "Baseline Loss: 3.9737 | Actual Loss: 0.8481\n",
      "Baseline Loss: 3.9697 | Actual Loss: 0.8677\n",
      "Baseline Loss: 3.8755 | Actual Loss: 1.0031\n"
     ]
    },
    {
     "name": "stderr",
     "output_type": "stream",
     "text": [
      "Training:  71%|███████   | 213/300 [03:57<01:40,  1.15s/it]"
     ]
    },
    {
     "name": "stdout",
     "output_type": "stream",
     "text": [
      "Baseline Loss: 3.9495 | Actual Loss: 1.0801\n",
      "Epoch 213/300: Train Loss: 0.8945, Val Loss: 1.0801\n",
      "Baseline Loss: 3.9725 | Actual Loss: 0.8778\n",
      "Baseline Loss: 3.9719 | Actual Loss: 0.7722\n",
      "Baseline Loss: 3.9633 | Actual Loss: 0.9034\n",
      "Baseline Loss: 3.8702 | Actual Loss: 0.7616\n"
     ]
    },
    {
     "name": "stderr",
     "output_type": "stream",
     "text": [
      "Training:  71%|███████▏  | 214/300 [03:58<01:41,  1.18s/it]"
     ]
    },
    {
     "name": "stdout",
     "output_type": "stream",
     "text": [
      "Baseline Loss: 3.9495 | Actual Loss: 1.0510\n",
      "Epoch 214/300: Train Loss: 0.8287, Val Loss: 1.0510\n",
      "Baseline Loss: 3.9678 | Actual Loss: 0.8148\n",
      "Baseline Loss: 3.9732 | Actual Loss: 0.8582\n",
      "Baseline Loss: 3.9638 | Actual Loss: 0.8497\n",
      "Baseline Loss: 3.8764 | Actual Loss: 0.8953\n"
     ]
    },
    {
     "name": "stderr",
     "output_type": "stream",
     "text": [
      "Training:  72%|███████▏  | 215/300 [04:00<01:39,  1.17s/it]"
     ]
    },
    {
     "name": "stdout",
     "output_type": "stream",
     "text": [
      "Baseline Loss: 3.9495 | Actual Loss: 1.0102\n",
      "Epoch 215/300: Train Loss: 0.8545, Val Loss: 1.0102\n",
      "Baseline Loss: 3.9700 | Actual Loss: 0.7199\n",
      "Baseline Loss: 3.9581 | Actual Loss: 0.8256\n",
      "Baseline Loss: 3.9637 | Actual Loss: 0.8771\n",
      "Baseline Loss: 3.8755 | Actual Loss: 0.7396\n"
     ]
    },
    {
     "name": "stderr",
     "output_type": "stream",
     "text": [
      "Training:  72%|███████▏  | 216/300 [04:01<01:41,  1.20s/it]"
     ]
    },
    {
     "name": "stdout",
     "output_type": "stream",
     "text": [
      "Baseline Loss: 3.9495 | Actual Loss: 1.0794\n",
      "Epoch 216/300: Train Loss: 0.7906, Val Loss: 1.0794\n",
      "Baseline Loss: 3.9689 | Actual Loss: 0.9376\n",
      "Baseline Loss: 3.9637 | Actual Loss: 0.7346\n",
      "Baseline Loss: 3.9741 | Actual Loss: 0.7725\n",
      "Baseline Loss: 3.8754 | Actual Loss: 0.8908\n"
     ]
    },
    {
     "name": "stderr",
     "output_type": "stream",
     "text": [
      "Training:  72%|███████▏  | 217/300 [04:02<01:37,  1.18s/it]"
     ]
    },
    {
     "name": "stdout",
     "output_type": "stream",
     "text": [
      "Baseline Loss: 3.9495 | Actual Loss: 1.0344\n",
      "Epoch 217/300: Train Loss: 0.8339, Val Loss: 1.0344\n",
      "Baseline Loss: 3.9671 | Actual Loss: 0.8605\n",
      "Baseline Loss: 3.9746 | Actual Loss: 0.8121\n",
      "Baseline Loss: 3.9746 | Actual Loss: 0.8313\n",
      "Baseline Loss: 3.8646 | Actual Loss: 0.7221\n"
     ]
    },
    {
     "name": "stderr",
     "output_type": "stream",
     "text": [
      "Training:  73%|███████▎  | 218/300 [04:03<01:38,  1.20s/it]"
     ]
    },
    {
     "name": "stdout",
     "output_type": "stream",
     "text": [
      "Baseline Loss: 3.9495 | Actual Loss: 0.9632\n",
      "Epoch 218/300: Train Loss: 0.8065, Val Loss: 0.9632\n",
      "New best validation loss: 0.9632\n",
      "Baseline Loss: 3.9731 | Actual Loss: 0.8448\n",
      "Baseline Loss: 3.9629 | Actual Loss: 0.9961\n",
      "Baseline Loss: 3.9721 | Actual Loss: 0.7431\n",
      "Baseline Loss: 3.8826 | Actual Loss: 0.7729\n"
     ]
    },
    {
     "name": "stderr",
     "output_type": "stream",
     "text": [
      "Training:  73%|███████▎  | 219/300 [04:04<01:31,  1.13s/it]"
     ]
    },
    {
     "name": "stdout",
     "output_type": "stream",
     "text": [
      "Baseline Loss: 3.9495 | Actual Loss: 0.9896\n",
      "Epoch 219/300: Train Loss: 0.8392, Val Loss: 0.9896\n",
      "Baseline Loss: 3.9682 | Actual Loss: 0.8940\n",
      "Baseline Loss: 3.9689 | Actual Loss: 0.7654\n",
      "Baseline Loss: 3.9674 | Actual Loss: 0.8209\n",
      "Baseline Loss: 3.8747 | Actual Loss: 0.8517\n"
     ]
    },
    {
     "name": "stderr",
     "output_type": "stream",
     "text": [
      "Training:  73%|███████▎  | 220/300 [04:05<01:28,  1.10s/it]"
     ]
    },
    {
     "name": "stdout",
     "output_type": "stream",
     "text": [
      "Baseline Loss: 3.9495 | Actual Loss: 1.0726\n",
      "Epoch 220/300: Train Loss: 0.8330, Val Loss: 1.0726\n",
      "Baseline Loss: 3.9669 | Actual Loss: 0.9551\n",
      "Baseline Loss: 3.9699 | Actual Loss: 0.8145\n",
      "Baseline Loss: 3.9690 | Actual Loss: 0.8324\n",
      "Baseline Loss: 3.8711 | Actual Loss: 0.7791\n"
     ]
    },
    {
     "name": "stderr",
     "output_type": "stream",
     "text": [
      "Training:  74%|███████▎  | 221/300 [04:06<01:26,  1.10s/it]"
     ]
    },
    {
     "name": "stdout",
     "output_type": "stream",
     "text": [
      "Baseline Loss: 3.9495 | Actual Loss: 1.0189\n",
      "Epoch 221/300: Train Loss: 0.8453, Val Loss: 1.0189\n",
      "Baseline Loss: 3.9753 | Actual Loss: 0.7044\n",
      "Baseline Loss: 3.9688 | Actual Loss: 0.7949\n",
      "Baseline Loss: 3.9681 | Actual Loss: 0.9378\n",
      "Baseline Loss: 3.8703 | Actual Loss: 0.9095\n"
     ]
    },
    {
     "name": "stderr",
     "output_type": "stream",
     "text": [
      "Training:  74%|███████▍  | 222/300 [04:07<01:25,  1.09s/it]"
     ]
    },
    {
     "name": "stdout",
     "output_type": "stream",
     "text": [
      "Baseline Loss: 3.9495 | Actual Loss: 1.1284\n",
      "Epoch 222/300: Train Loss: 0.8366, Val Loss: 1.1284\n",
      "Baseline Loss: 3.9643 | Actual Loss: 0.8849\n",
      "Baseline Loss: 3.9680 | Actual Loss: 0.8407\n",
      "Baseline Loss: 3.9711 | Actual Loss: 0.8841\n",
      "Baseline Loss: 3.8739 | Actual Loss: 0.7850\n"
     ]
    },
    {
     "name": "stderr",
     "output_type": "stream",
     "text": [
      "Training:  74%|███████▍  | 223/300 [04:08<01:22,  1.07s/it]"
     ]
    },
    {
     "name": "stdout",
     "output_type": "stream",
     "text": [
      "Baseline Loss: 3.9495 | Actual Loss: 1.0069\n",
      "Epoch 223/300: Train Loss: 0.8487, Val Loss: 1.0069\n",
      "Baseline Loss: 3.9674 | Actual Loss: 0.7281\n",
      "Baseline Loss: 3.9710 | Actual Loss: 0.8802\n",
      "Baseline Loss: 3.9737 | Actual Loss: 0.9746\n",
      "Baseline Loss: 3.8726 | Actual Loss: 0.8462\n"
     ]
    },
    {
     "name": "stderr",
     "output_type": "stream",
     "text": [
      "Training:  75%|███████▍  | 224/300 [04:10<01:21,  1.07s/it]"
     ]
    },
    {
     "name": "stdout",
     "output_type": "stream",
     "text": [
      "Baseline Loss: 3.9495 | Actual Loss: 1.0268\n",
      "Epoch 224/300: Train Loss: 0.8573, Val Loss: 1.0268\n",
      "Baseline Loss: 3.9682 | Actual Loss: 0.7750\n",
      "Baseline Loss: 3.9599 | Actual Loss: 0.8447\n",
      "Baseline Loss: 3.9720 | Actual Loss: 0.9928\n",
      "Baseline Loss: 3.8780 | Actual Loss: 0.7816\n"
     ]
    },
    {
     "name": "stderr",
     "output_type": "stream",
     "text": [
      "Training:  75%|███████▌  | 225/300 [04:11<01:19,  1.06s/it]"
     ]
    },
    {
     "name": "stdout",
     "output_type": "stream",
     "text": [
      "Baseline Loss: 3.9495 | Actual Loss: 0.9943\n",
      "Epoch 225/300: Train Loss: 0.8485, Val Loss: 0.9943\n",
      "Baseline Loss: 3.9716 | Actual Loss: 0.9502\n",
      "Baseline Loss: 3.9695 | Actual Loss: 0.8895\n",
      "Baseline Loss: 3.9601 | Actual Loss: 0.7643\n",
      "Baseline Loss: 3.8706 | Actual Loss: 0.7749\n"
     ]
    },
    {
     "name": "stderr",
     "output_type": "stream",
     "text": [
      "Training:  75%|███████▌  | 226/300 [04:12<01:18,  1.06s/it]"
     ]
    },
    {
     "name": "stdout",
     "output_type": "stream",
     "text": [
      "Baseline Loss: 3.9495 | Actual Loss: 1.0028\n",
      "Epoch 226/300: Train Loss: 0.8447, Val Loss: 1.0028\n",
      "Baseline Loss: 3.9712 | Actual Loss: 0.8025\n",
      "Baseline Loss: 3.9742 | Actual Loss: 0.8175\n",
      "Baseline Loss: 3.9682 | Actual Loss: 0.9110\n",
      "Baseline Loss: 3.8742 | Actual Loss: 0.7020\n"
     ]
    },
    {
     "name": "stderr",
     "output_type": "stream",
     "text": [
      "Training:  76%|███████▌  | 227/300 [04:13<01:16,  1.05s/it]"
     ]
    },
    {
     "name": "stdout",
     "output_type": "stream",
     "text": [
      "Baseline Loss: 3.9495 | Actual Loss: 0.9807\n",
      "Epoch 227/300: Train Loss: 0.8082, Val Loss: 0.9807\n",
      "Baseline Loss: 3.9662 | Actual Loss: 0.8343\n",
      "Baseline Loss: 3.9656 | Actual Loss: 0.9252\n",
      "Baseline Loss: 3.9630 | Actual Loss: 0.8632\n",
      "Baseline Loss: 3.8800 | Actual Loss: 0.9389\n"
     ]
    },
    {
     "name": "stderr",
     "output_type": "stream",
     "text": [
      "Training:  76%|███████▌  | 228/300 [04:14<01:15,  1.05s/it]"
     ]
    },
    {
     "name": "stdout",
     "output_type": "stream",
     "text": [
      "Baseline Loss: 3.9495 | Actual Loss: 1.1041\n",
      "Epoch 228/300: Train Loss: 0.8904, Val Loss: 1.1041\n",
      "Baseline Loss: 3.9722 | Actual Loss: 0.7266\n",
      "Baseline Loss: 3.9633 | Actual Loss: 0.7479\n",
      "Baseline Loss: 3.9696 | Actual Loss: 0.8148\n",
      "Baseline Loss: 3.8712 | Actual Loss: 0.7750\n"
     ]
    },
    {
     "name": "stderr",
     "output_type": "stream",
     "text": [
      "Training:  76%|███████▋  | 229/300 [04:15<01:14,  1.05s/it]"
     ]
    },
    {
     "name": "stdout",
     "output_type": "stream",
     "text": [
      "Baseline Loss: 3.9495 | Actual Loss: 1.0442\n",
      "Epoch 229/300: Train Loss: 0.7661, Val Loss: 1.0442\n",
      "Baseline Loss: 3.9704 | Actual Loss: 0.8915\n",
      "Baseline Loss: 3.9689 | Actual Loss: 0.8062\n",
      "Baseline Loss: 3.9715 | Actual Loss: 0.8275\n",
      "Baseline Loss: 3.8687 | Actual Loss: 0.9977\n"
     ]
    },
    {
     "name": "stderr",
     "output_type": "stream",
     "text": [
      "Training:  77%|███████▋  | 230/300 [04:16<01:12,  1.04s/it]"
     ]
    },
    {
     "name": "stdout",
     "output_type": "stream",
     "text": [
      "Baseline Loss: 3.9495 | Actual Loss: 1.0230\n",
      "Epoch 230/300: Train Loss: 0.8807, Val Loss: 1.0230\n",
      "Baseline Loss: 3.9720 | Actual Loss: 0.7790\n",
      "Baseline Loss: 3.9735 | Actual Loss: 0.8243\n",
      "Baseline Loss: 3.9596 | Actual Loss: 0.8077\n",
      "Baseline Loss: 3.8690 | Actual Loss: 0.6562\n"
     ]
    },
    {
     "name": "stderr",
     "output_type": "stream",
     "text": [
      "Training:  77%|███████▋  | 231/300 [04:17<01:11,  1.04s/it]"
     ]
    },
    {
     "name": "stdout",
     "output_type": "stream",
     "text": [
      "Baseline Loss: 3.9495 | Actual Loss: 1.0480\n",
      "Epoch 231/300: Train Loss: 0.7668, Val Loss: 1.0480\n",
      "Baseline Loss: 3.9692 | Actual Loss: 0.7947\n",
      "Baseline Loss: 3.9759 | Actual Loss: 0.8752\n",
      "Baseline Loss: 3.9589 | Actual Loss: 0.9042\n",
      "Baseline Loss: 3.8717 | Actual Loss: 1.0555\n"
     ]
    },
    {
     "name": "stderr",
     "output_type": "stream",
     "text": [
      "Training:  77%|███████▋  | 232/300 [04:18<01:10,  1.04s/it]"
     ]
    },
    {
     "name": "stdout",
     "output_type": "stream",
     "text": [
      "Baseline Loss: 3.9495 | Actual Loss: 0.9676\n",
      "Epoch 232/300: Train Loss: 0.9074, Val Loss: 0.9676\n",
      "Baseline Loss: 3.9675 | Actual Loss: 0.7998\n",
      "Baseline Loss: 3.9671 | Actual Loss: 0.6345\n",
      "Baseline Loss: 3.9720 | Actual Loss: 0.7500\n",
      "Baseline Loss: 3.8774 | Actual Loss: 0.9628\n"
     ]
    },
    {
     "name": "stderr",
     "output_type": "stream",
     "text": [
      "Training:  78%|███████▊  | 233/300 [04:19<01:09,  1.04s/it]"
     ]
    },
    {
     "name": "stdout",
     "output_type": "stream",
     "text": [
      "Baseline Loss: 3.9495 | Actual Loss: 1.1297\n",
      "Epoch 233/300: Train Loss: 0.7868, Val Loss: 1.1297\n",
      "Baseline Loss: 3.9611 | Actual Loss: 0.7843\n",
      "Baseline Loss: 3.9575 | Actual Loss: 0.8269\n",
      "Baseline Loss: 3.9790 | Actual Loss: 0.8170\n",
      "Baseline Loss: 3.8873 | Actual Loss: 0.6981\n"
     ]
    },
    {
     "name": "stderr",
     "output_type": "stream",
     "text": [
      "Training:  78%|███████▊  | 234/300 [04:20<01:08,  1.03s/it]"
     ]
    },
    {
     "name": "stdout",
     "output_type": "stream",
     "text": [
      "Baseline Loss: 3.9495 | Actual Loss: 0.9882\n",
      "Epoch 234/300: Train Loss: 0.7816, Val Loss: 0.9882\n",
      "Baseline Loss: 3.9752 | Actual Loss: 0.7661\n",
      "Baseline Loss: 3.9625 | Actual Loss: 1.0980\n",
      "Baseline Loss: 3.9784 | Actual Loss: 0.7898\n",
      "Baseline Loss: 3.8727 | Actual Loss: 0.7438\n"
     ]
    },
    {
     "name": "stderr",
     "output_type": "stream",
     "text": [
      "Training:  78%|███████▊  | 235/300 [04:21<01:07,  1.03s/it]"
     ]
    },
    {
     "name": "stdout",
     "output_type": "stream",
     "text": [
      "Baseline Loss: 3.9495 | Actual Loss: 1.0651\n",
      "Epoch 235/300: Train Loss: 0.8494, Val Loss: 1.0651\n",
      "Baseline Loss: 3.9690 | Actual Loss: 0.8663\n",
      "Baseline Loss: 3.9633 | Actual Loss: 0.7939\n",
      "Baseline Loss: 3.9665 | Actual Loss: 0.8074\n",
      "Baseline Loss: 3.8724 | Actual Loss: 0.7207\n"
     ]
    },
    {
     "name": "stderr",
     "output_type": "stream",
     "text": [
      "Training:  79%|███████▊  | 236/300 [04:22<01:05,  1.03s/it]"
     ]
    },
    {
     "name": "stdout",
     "output_type": "stream",
     "text": [
      "Baseline Loss: 3.9495 | Actual Loss: 1.1149\n",
      "Epoch 236/300: Train Loss: 0.7971, Val Loss: 1.1149\n",
      "Baseline Loss: 3.9672 | Actual Loss: 0.7944\n",
      "Baseline Loss: 3.9705 | Actual Loss: 0.7720\n",
      "Baseline Loss: 3.9634 | Actual Loss: 0.7438\n",
      "Baseline Loss: 3.8794 | Actual Loss: 0.8626\n"
     ]
    },
    {
     "name": "stderr",
     "output_type": "stream",
     "text": [
      "Training:  79%|███████▉  | 237/300 [04:23<01:04,  1.03s/it]"
     ]
    },
    {
     "name": "stdout",
     "output_type": "stream",
     "text": [
      "Baseline Loss: 3.9495 | Actual Loss: 1.0854\n",
      "Epoch 237/300: Train Loss: 0.7932, Val Loss: 1.0854\n",
      "Baseline Loss: 3.9694 | Actual Loss: 0.9391\n",
      "Baseline Loss: 3.9737 | Actual Loss: 0.9415\n",
      "Baseline Loss: 3.9663 | Actual Loss: 0.8061\n",
      "Baseline Loss: 3.8684 | Actual Loss: 0.7038\n"
     ]
    },
    {
     "name": "stderr",
     "output_type": "stream",
     "text": [
      "Training:  79%|███████▉  | 238/300 [04:24<01:04,  1.04s/it]"
     ]
    },
    {
     "name": "stdout",
     "output_type": "stream",
     "text": [
      "Baseline Loss: 3.9495 | Actual Loss: 1.1628\n",
      "Epoch 238/300: Train Loss: 0.8476, Val Loss: 1.1628\n",
      "Baseline Loss: 3.9681 | Actual Loss: 0.7997\n",
      "Baseline Loss: 3.9738 | Actual Loss: 0.7960\n",
      "Baseline Loss: 3.9692 | Actual Loss: 0.8722\n",
      "Baseline Loss: 3.8700 | Actual Loss: 0.8265\n"
     ]
    },
    {
     "name": "stderr",
     "output_type": "stream",
     "text": [
      "Training:  80%|███████▉  | 239/300 [04:25<01:04,  1.06s/it]"
     ]
    },
    {
     "name": "stdout",
     "output_type": "stream",
     "text": [
      "Baseline Loss: 3.9495 | Actual Loss: 1.0728\n",
      "Epoch 239/300: Train Loss: 0.8236, Val Loss: 1.0728\n",
      "Baseline Loss: 3.9726 | Actual Loss: 0.8701\n",
      "Baseline Loss: 3.9646 | Actual Loss: 0.8105\n",
      "Baseline Loss: 3.9677 | Actual Loss: 0.7927\n",
      "Baseline Loss: 3.8750 | Actual Loss: 0.7897\n"
     ]
    },
    {
     "name": "stderr",
     "output_type": "stream",
     "text": [
      "Training:  80%|████████  | 240/300 [04:26<01:04,  1.07s/it]"
     ]
    },
    {
     "name": "stdout",
     "output_type": "stream",
     "text": [
      "Baseline Loss: 3.9495 | Actual Loss: 1.0706\n",
      "Epoch 240/300: Train Loss: 0.8158, Val Loss: 1.0706\n",
      "Baseline Loss: 3.9767 | Actual Loss: 0.8735\n",
      "Baseline Loss: 3.9619 | Actual Loss: 0.8989\n",
      "Baseline Loss: 3.9606 | Actual Loss: 0.8095\n",
      "Baseline Loss: 3.8846 | Actual Loss: 0.8155\n"
     ]
    },
    {
     "name": "stderr",
     "output_type": "stream",
     "text": [
      "Training:  80%|████████  | 241/300 [04:27<01:03,  1.08s/it]"
     ]
    },
    {
     "name": "stdout",
     "output_type": "stream",
     "text": [
      "Baseline Loss: 3.9495 | Actual Loss: 1.0940\n",
      "Epoch 241/300: Train Loss: 0.8494, Val Loss: 1.0940\n",
      "Baseline Loss: 3.9714 | Actual Loss: 0.7930\n",
      "Baseline Loss: 3.9669 | Actual Loss: 0.8426\n",
      "Baseline Loss: 3.9612 | Actual Loss: 0.9643\n",
      "Baseline Loss: 3.8686 | Actual Loss: 0.7310\n"
     ]
    },
    {
     "name": "stderr",
     "output_type": "stream",
     "text": [
      "Training:  81%|████████  | 242/300 [04:28<01:02,  1.08s/it]"
     ]
    },
    {
     "name": "stdout",
     "output_type": "stream",
     "text": [
      "Baseline Loss: 3.9495 | Actual Loss: 1.0436\n",
      "Epoch 242/300: Train Loss: 0.8327, Val Loss: 1.0436\n",
      "Baseline Loss: 3.9716 | Actual Loss: 0.7981\n",
      "Baseline Loss: 3.9598 | Actual Loss: 0.8207\n",
      "Baseline Loss: 3.9729 | Actual Loss: 0.8815\n",
      "Baseline Loss: 3.8722 | Actual Loss: 0.8140\n"
     ]
    },
    {
     "name": "stderr",
     "output_type": "stream",
     "text": [
      "Training:  81%|████████  | 243/300 [04:30<01:02,  1.09s/it]"
     ]
    },
    {
     "name": "stdout",
     "output_type": "stream",
     "text": [
      "Baseline Loss: 3.9495 | Actual Loss: 1.0587\n",
      "Epoch 243/300: Train Loss: 0.8286, Val Loss: 1.0587\n",
      "Baseline Loss: 3.9642 | Actual Loss: 0.9277\n",
      "Baseline Loss: 3.9833 | Actual Loss: 0.7436\n",
      "Baseline Loss: 3.9582 | Actual Loss: 0.8224\n",
      "Baseline Loss: 3.8741 | Actual Loss: 0.8745\n"
     ]
    },
    {
     "name": "stderr",
     "output_type": "stream",
     "text": [
      "Training:  81%|████████▏ | 244/300 [04:31<01:01,  1.10s/it]"
     ]
    },
    {
     "name": "stdout",
     "output_type": "stream",
     "text": [
      "Baseline Loss: 3.9495 | Actual Loss: 1.0457\n",
      "Epoch 244/300: Train Loss: 0.8420, Val Loss: 1.0457\n",
      "Baseline Loss: 3.9655 | Actual Loss: 0.9010\n",
      "Baseline Loss: 3.9623 | Actual Loss: 0.8496\n",
      "Baseline Loss: 3.9719 | Actual Loss: 0.7323\n",
      "Baseline Loss: 3.8742 | Actual Loss: 0.8280\n"
     ]
    },
    {
     "name": "stderr",
     "output_type": "stream",
     "text": [
      "Training:  82%|████████▏ | 245/300 [04:32<01:00,  1.09s/it]"
     ]
    },
    {
     "name": "stdout",
     "output_type": "stream",
     "text": [
      "Baseline Loss: 3.9495 | Actual Loss: 1.0191\n",
      "Epoch 245/300: Train Loss: 0.8277, Val Loss: 1.0191\n",
      "Baseline Loss: 3.9667 | Actual Loss: 0.8659\n",
      "Baseline Loss: 3.9722 | Actual Loss: 0.8829\n",
      "Baseline Loss: 3.9730 | Actual Loss: 0.7966\n",
      "Baseline Loss: 3.8683 | Actual Loss: 0.7825\n"
     ]
    },
    {
     "name": "stderr",
     "output_type": "stream",
     "text": [
      "Training:  82%|████████▏ | 246/300 [04:33<00:59,  1.10s/it]"
     ]
    },
    {
     "name": "stdout",
     "output_type": "stream",
     "text": [
      "Baseline Loss: 3.9495 | Actual Loss: 1.0447\n",
      "Epoch 246/300: Train Loss: 0.8320, Val Loss: 1.0447\n",
      "Baseline Loss: 3.9657 | Actual Loss: 0.9541\n",
      "Baseline Loss: 3.9673 | Actual Loss: 0.7239\n",
      "Baseline Loss: 3.9709 | Actual Loss: 0.8110\n",
      "Baseline Loss: 3.8795 | Actual Loss: 0.8218\n"
     ]
    },
    {
     "name": "stderr",
     "output_type": "stream",
     "text": [
      "Training:  82%|████████▏ | 247/300 [04:34<00:58,  1.10s/it]"
     ]
    },
    {
     "name": "stdout",
     "output_type": "stream",
     "text": [
      "Baseline Loss: 3.9495 | Actual Loss: 1.0169\n",
      "Epoch 247/300: Train Loss: 0.8277, Val Loss: 1.0169\n",
      "Baseline Loss: 3.9697 | Actual Loss: 0.9075\n",
      "Baseline Loss: 3.9710 | Actual Loss: 0.7961\n",
      "Baseline Loss: 3.9698 | Actual Loss: 0.7705\n",
      "Baseline Loss: 3.8770 | Actual Loss: 0.9515\n"
     ]
    },
    {
     "name": "stderr",
     "output_type": "stream",
     "text": [
      "Training:  83%|████████▎ | 248/300 [04:35<00:57,  1.10s/it]"
     ]
    },
    {
     "name": "stdout",
     "output_type": "stream",
     "text": [
      "Baseline Loss: 3.9495 | Actual Loss: 0.9862\n",
      "Epoch 248/300: Train Loss: 0.8564, Val Loss: 0.9862\n",
      "Baseline Loss: 3.9601 | Actual Loss: 0.8773\n",
      "Baseline Loss: 3.9779 | Actual Loss: 0.7136\n",
      "Baseline Loss: 3.9619 | Actual Loss: 0.8025\n",
      "Baseline Loss: 3.8791 | Actual Loss: 0.7463\n"
     ]
    },
    {
     "name": "stderr",
     "output_type": "stream",
     "text": [
      "Training:  83%|████████▎ | 249/300 [04:36<00:56,  1.10s/it]"
     ]
    },
    {
     "name": "stdout",
     "output_type": "stream",
     "text": [
      "Baseline Loss: 3.9495 | Actual Loss: 1.0471\n",
      "Epoch 249/300: Train Loss: 0.7849, Val Loss: 1.0471\n",
      "Baseline Loss: 3.9796 | Actual Loss: 0.7664\n",
      "Baseline Loss: 3.9592 | Actual Loss: 0.8157\n",
      "Baseline Loss: 3.9616 | Actual Loss: 0.9536\n",
      "Baseline Loss: 3.8747 | Actual Loss: 0.7050\n"
     ]
    },
    {
     "name": "stderr",
     "output_type": "stream",
     "text": [
      "Training:  83%|████████▎ | 250/300 [04:37<00:54,  1.10s/it]"
     ]
    },
    {
     "name": "stdout",
     "output_type": "stream",
     "text": [
      "Baseline Loss: 3.9495 | Actual Loss: 1.0529\n",
      "Epoch 250/300: Train Loss: 0.8102, Val Loss: 1.0529\n",
      "Baseline Loss: 3.9678 | Actual Loss: 0.8618\n",
      "Baseline Loss: 3.9624 | Actual Loss: 0.7215\n",
      "Baseline Loss: 3.9744 | Actual Loss: 0.9506\n",
      "Baseline Loss: 3.8884 | Actual Loss: 0.8512\n"
     ]
    },
    {
     "name": "stderr",
     "output_type": "stream",
     "text": [
      "Training:  84%|████████▎ | 251/300 [04:38<00:53,  1.09s/it]"
     ]
    },
    {
     "name": "stdout",
     "output_type": "stream",
     "text": [
      "Baseline Loss: 3.9495 | Actual Loss: 0.9751\n",
      "Epoch 251/300: Train Loss: 0.8463, Val Loss: 0.9751\n",
      "Baseline Loss: 3.9776 | Actual Loss: 0.9128\n",
      "Baseline Loss: 3.9699 | Actual Loss: 0.9517\n",
      "Baseline Loss: 3.9597 | Actual Loss: 0.7076\n",
      "Baseline Loss: 3.8727 | Actual Loss: 0.8232\n"
     ]
    },
    {
     "name": "stderr",
     "output_type": "stream",
     "text": [
      "Training:  84%|████████▍ | 252/300 [04:39<00:52,  1.10s/it]"
     ]
    },
    {
     "name": "stdout",
     "output_type": "stream",
     "text": [
      "Baseline Loss: 3.9495 | Actual Loss: 0.9836\n",
      "Epoch 252/300: Train Loss: 0.8488, Val Loss: 0.9836\n",
      "Baseline Loss: 3.9637 | Actual Loss: 0.8075\n",
      "Baseline Loss: 3.9752 | Actual Loss: 0.8127\n",
      "Baseline Loss: 3.9728 | Actual Loss: 0.8748\n",
      "Baseline Loss: 3.8653 | Actual Loss: 0.7800\n"
     ]
    },
    {
     "name": "stderr",
     "output_type": "stream",
     "text": [
      "Training:  84%|████████▍ | 253/300 [04:41<00:51,  1.10s/it]"
     ]
    },
    {
     "name": "stdout",
     "output_type": "stream",
     "text": [
      "Baseline Loss: 3.9495 | Actual Loss: 0.9998\n",
      "Epoch 253/300: Train Loss: 0.8188, Val Loss: 0.9998\n",
      "Baseline Loss: 3.9542 | Actual Loss: 0.8167\n",
      "Baseline Loss: 3.9688 | Actual Loss: 0.8301\n",
      "Baseline Loss: 3.9733 | Actual Loss: 0.8025\n",
      "Baseline Loss: 3.8681 | Actual Loss: 0.7545\n"
     ]
    },
    {
     "name": "stderr",
     "output_type": "stream",
     "text": [
      "Training:  85%|████████▍ | 254/300 [04:42<00:50,  1.11s/it]"
     ]
    },
    {
     "name": "stdout",
     "output_type": "stream",
     "text": [
      "Baseline Loss: 3.9495 | Actual Loss: 1.0911\n",
      "Epoch 254/300: Train Loss: 0.8010, Val Loss: 1.0911\n",
      "Baseline Loss: 3.9621 | Actual Loss: 0.7751\n",
      "Baseline Loss: 3.9706 | Actual Loss: 0.7477\n",
      "Baseline Loss: 3.9744 | Actual Loss: 0.8203\n",
      "Baseline Loss: 3.8790 | Actual Loss: 0.6908\n"
     ]
    },
    {
     "name": "stderr",
     "output_type": "stream",
     "text": [
      "Training:  85%|████████▌ | 255/300 [04:43<00:49,  1.11s/it]"
     ]
    },
    {
     "name": "stdout",
     "output_type": "stream",
     "text": [
      "Baseline Loss: 3.9495 | Actual Loss: 1.1314\n",
      "Epoch 255/300: Train Loss: 0.7585, Val Loss: 1.1314\n",
      "Baseline Loss: 3.9606 | Actual Loss: 0.7863\n",
      "Baseline Loss: 3.9809 | Actual Loss: 0.8124\n",
      "Baseline Loss: 3.9671 | Actual Loss: 0.8407\n",
      "Baseline Loss: 3.8612 | Actual Loss: 0.7333\n"
     ]
    },
    {
     "name": "stderr",
     "output_type": "stream",
     "text": [
      "Training:  85%|████████▌ | 256/300 [04:44<00:48,  1.10s/it]"
     ]
    },
    {
     "name": "stdout",
     "output_type": "stream",
     "text": [
      "Baseline Loss: 3.9495 | Actual Loss: 1.0235\n",
      "Epoch 256/300: Train Loss: 0.7932, Val Loss: 1.0235\n",
      "Baseline Loss: 3.9696 | Actual Loss: 0.8455\n",
      "Baseline Loss: 3.9750 | Actual Loss: 0.7638\n",
      "Baseline Loss: 3.9728 | Actual Loss: 0.8049\n",
      "Baseline Loss: 3.8690 | Actual Loss: 0.8706\n"
     ]
    },
    {
     "name": "stderr",
     "output_type": "stream",
     "text": [
      "Training:  86%|████████▌ | 257/300 [04:45<00:47,  1.10s/it]"
     ]
    },
    {
     "name": "stdout",
     "output_type": "stream",
     "text": [
      "Baseline Loss: 3.9495 | Actual Loss: 1.0931\n",
      "Epoch 257/300: Train Loss: 0.8212, Val Loss: 1.0931\n",
      "Baseline Loss: 3.9724 | Actual Loss: 0.8246\n",
      "Baseline Loss: 3.9654 | Actual Loss: 1.0675\n",
      "Baseline Loss: 3.9735 | Actual Loss: 0.7212\n",
      "Baseline Loss: 3.8669 | Actual Loss: 0.6181\n"
     ]
    },
    {
     "name": "stderr",
     "output_type": "stream",
     "text": [
      "Training:  86%|████████▌ | 258/300 [04:46<00:45,  1.09s/it]"
     ]
    },
    {
     "name": "stdout",
     "output_type": "stream",
     "text": [
      "Baseline Loss: 3.9495 | Actual Loss: 1.0415\n",
      "Epoch 258/300: Train Loss: 0.8078, Val Loss: 1.0415\n",
      "Baseline Loss: 3.9710 | Actual Loss: 0.8419\n",
      "Baseline Loss: 3.9582 | Actual Loss: 1.1233\n",
      "Baseline Loss: 3.9722 | Actual Loss: 0.8303\n",
      "Baseline Loss: 3.8775 | Actual Loss: 0.7718\n"
     ]
    },
    {
     "name": "stderr",
     "output_type": "stream",
     "text": [
      "Training:  86%|████████▋ | 259/300 [04:47<00:44,  1.09s/it]"
     ]
    },
    {
     "name": "stdout",
     "output_type": "stream",
     "text": [
      "Baseline Loss: 3.9495 | Actual Loss: 0.9267\n",
      "Epoch 259/300: Train Loss: 0.8918, Val Loss: 0.9267\n",
      "New best validation loss: 0.9267\n",
      "Baseline Loss: 3.9629 | Actual Loss: 0.8186\n",
      "Baseline Loss: 3.9712 | Actual Loss: 0.7586\n",
      "Baseline Loss: 3.9701 | Actual Loss: 0.8945\n",
      "Baseline Loss: 3.8730 | Actual Loss: 0.8152\n"
     ]
    },
    {
     "name": "stderr",
     "output_type": "stream",
     "text": [
      "Training:  87%|████████▋ | 260/300 [04:48<00:43,  1.08s/it]"
     ]
    },
    {
     "name": "stdout",
     "output_type": "stream",
     "text": [
      "Baseline Loss: 3.9495 | Actual Loss: 1.0530\n",
      "Epoch 260/300: Train Loss: 0.8217, Val Loss: 1.0530\n",
      "Baseline Loss: 3.9786 | Actual Loss: 0.8657\n",
      "Baseline Loss: 3.9708 | Actual Loss: 0.9568\n",
      "Baseline Loss: 3.9656 | Actual Loss: 0.8184\n",
      "Baseline Loss: 3.8668 | Actual Loss: 0.8020\n"
     ]
    },
    {
     "name": "stderr",
     "output_type": "stream",
     "text": [
      "Training:  87%|████████▋ | 261/300 [04:49<00:40,  1.05s/it]"
     ]
    },
    {
     "name": "stdout",
     "output_type": "stream",
     "text": [
      "Baseline Loss: 3.9495 | Actual Loss: 1.0317\n",
      "Epoch 261/300: Train Loss: 0.8607, Val Loss: 1.0317\n",
      "Baseline Loss: 3.9628 | Actual Loss: 0.8235\n",
      "Baseline Loss: 3.9765 | Actual Loss: 0.8937\n",
      "Baseline Loss: 3.9621 | Actual Loss: 0.7304\n",
      "Baseline Loss: 3.8790 | Actual Loss: 0.7424\n"
     ]
    },
    {
     "name": "stderr",
     "output_type": "stream",
     "text": [
      "Training:  87%|████████▋ | 262/300 [04:50<00:38,  1.00s/it]"
     ]
    },
    {
     "name": "stdout",
     "output_type": "stream",
     "text": [
      "Baseline Loss: 3.9495 | Actual Loss: 1.0884\n",
      "Epoch 262/300: Train Loss: 0.7975, Val Loss: 1.0884\n",
      "Baseline Loss: 3.9744 | Actual Loss: 0.8607\n",
      "Baseline Loss: 3.9614 | Actual Loss: 0.9870\n",
      "Baseline Loss: 3.9765 | Actual Loss: 0.8185\n",
      "Baseline Loss: 3.8728 | Actual Loss: 0.7155\n"
     ]
    },
    {
     "name": "stderr",
     "output_type": "stream",
     "text": [
      "Training:  88%|████████▊ | 263/300 [04:51<00:36,  1.01it/s]"
     ]
    },
    {
     "name": "stdout",
     "output_type": "stream",
     "text": [
      "Baseline Loss: 3.9495 | Actual Loss: 1.0695\n",
      "Epoch 263/300: Train Loss: 0.8454, Val Loss: 1.0695\n",
      "Baseline Loss: 3.9663 | Actual Loss: 1.0038\n",
      "Baseline Loss: 3.9685 | Actual Loss: 0.7996\n",
      "Baseline Loss: 3.9691 | Actual Loss: 0.7290\n",
      "Baseline Loss: 3.8719 | Actual Loss: 0.7449\n"
     ]
    },
    {
     "name": "stderr",
     "output_type": "stream",
     "text": [
      "Training:  88%|████████▊ | 264/300 [04:52<00:35,  1.02it/s]"
     ]
    },
    {
     "name": "stdout",
     "output_type": "stream",
     "text": [
      "Baseline Loss: 3.9495 | Actual Loss: 1.0435\n",
      "Epoch 264/300: Train Loss: 0.8193, Val Loss: 1.0435\n",
      "Baseline Loss: 3.9684 | Actual Loss: 0.8325\n",
      "Baseline Loss: 3.9750 | Actual Loss: 0.7364\n",
      "Baseline Loss: 3.9678 | Actual Loss: 0.8758\n",
      "Baseline Loss: 3.8737 | Actual Loss: 0.8983\n"
     ]
    },
    {
     "name": "stderr",
     "output_type": "stream",
     "text": [
      "Training:  88%|████████▊ | 265/300 [04:53<00:34,  1.02it/s]"
     ]
    },
    {
     "name": "stdout",
     "output_type": "stream",
     "text": [
      "Baseline Loss: 3.9495 | Actual Loss: 1.0584\n",
      "Epoch 265/300: Train Loss: 0.8358, Val Loss: 1.0584\n",
      "Baseline Loss: 3.9720 | Actual Loss: 0.8699\n",
      "Baseline Loss: 3.9698 | Actual Loss: 0.8629\n",
      "Baseline Loss: 3.9590 | Actual Loss: 0.7503\n",
      "Baseline Loss: 3.8763 | Actual Loss: 0.7484\n"
     ]
    },
    {
     "name": "stderr",
     "output_type": "stream",
     "text": [
      "Training:  89%|████████▊ | 266/300 [04:54<00:33,  1.03it/s]"
     ]
    },
    {
     "name": "stdout",
     "output_type": "stream",
     "text": [
      "Baseline Loss: 3.9495 | Actual Loss: 1.0374\n",
      "Epoch 266/300: Train Loss: 0.8079, Val Loss: 1.0374\n",
      "Baseline Loss: 3.9607 | Actual Loss: 0.7131\n",
      "Baseline Loss: 3.9740 | Actual Loss: 0.7771\n",
      "Baseline Loss: 3.9670 | Actual Loss: 0.8888\n",
      "Baseline Loss: 3.8760 | Actual Loss: 0.8772\n"
     ]
    },
    {
     "name": "stderr",
     "output_type": "stream",
     "text": [
      "Training:  89%|████████▉ | 267/300 [04:55<00:32,  1.03it/s]"
     ]
    },
    {
     "name": "stdout",
     "output_type": "stream",
     "text": [
      "Baseline Loss: 3.9495 | Actual Loss: 1.1009\n",
      "Epoch 267/300: Train Loss: 0.8140, Val Loss: 1.1009\n",
      "Baseline Loss: 3.9688 | Actual Loss: 0.9100\n",
      "Baseline Loss: 3.9738 | Actual Loss: 0.7248\n",
      "Baseline Loss: 3.9714 | Actual Loss: 1.0144\n",
      "Baseline Loss: 3.8706 | Actual Loss: 0.6929\n"
     ]
    },
    {
     "name": "stderr",
     "output_type": "stream",
     "text": [
      "Training:  89%|████████▉ | 268/300 [04:56<00:30,  1.05it/s]"
     ]
    },
    {
     "name": "stdout",
     "output_type": "stream",
     "text": [
      "Baseline Loss: 3.9495 | Actual Loss: 1.0491\n",
      "Epoch 268/300: Train Loss: 0.8355, Val Loss: 1.0491\n",
      "Baseline Loss: 3.9682 | Actual Loss: 0.8320\n",
      "Baseline Loss: 3.9594 | Actual Loss: 0.8185\n",
      "Baseline Loss: 3.9829 | Actual Loss: 0.7102\n",
      "Baseline Loss: 3.8703 | Actual Loss: 0.8809\n"
     ]
    },
    {
     "name": "stderr",
     "output_type": "stream",
     "text": [
      "Training:  90%|████████▉ | 269/300 [04:57<00:29,  1.04it/s]"
     ]
    },
    {
     "name": "stdout",
     "output_type": "stream",
     "text": [
      "Baseline Loss: 3.9495 | Actual Loss: 0.9530\n",
      "Epoch 269/300: Train Loss: 0.8104, Val Loss: 0.9530\n",
      "Baseline Loss: 3.9712 | Actual Loss: 0.9097\n",
      "Baseline Loss: 3.9733 | Actual Loss: 0.7793\n",
      "Baseline Loss: 3.9670 | Actual Loss: 0.8092\n",
      "Baseline Loss: 3.8700 | Actual Loss: 0.7398\n"
     ]
    },
    {
     "name": "stderr",
     "output_type": "stream",
     "text": [
      "Training:  90%|█████████ | 270/300 [04:58<00:30,  1.00s/it]"
     ]
    },
    {
     "name": "stdout",
     "output_type": "stream",
     "text": [
      "Baseline Loss: 3.9495 | Actual Loss: 0.9909\n",
      "Epoch 270/300: Train Loss: 0.8095, Val Loss: 0.9909\n",
      "Baseline Loss: 3.9774 | Actual Loss: 0.7656\n",
      "Baseline Loss: 3.9630 | Actual Loss: 0.6903\n",
      "Baseline Loss: 3.9715 | Actual Loss: 0.8782\n",
      "Baseline Loss: 3.8715 | Actual Loss: 0.8053\n"
     ]
    },
    {
     "name": "stderr",
     "output_type": "stream",
     "text": [
      "Training:  90%|█████████ | 271/300 [04:59<00:29,  1.03s/it]"
     ]
    },
    {
     "name": "stdout",
     "output_type": "stream",
     "text": [
      "Baseline Loss: 3.9495 | Actual Loss: 1.0019\n",
      "Epoch 271/300: Train Loss: 0.7848, Val Loss: 1.0019\n",
      "Baseline Loss: 3.9840 | Actual Loss: 0.8603\n",
      "Baseline Loss: 3.9655 | Actual Loss: 0.8187\n",
      "Baseline Loss: 3.9576 | Actual Loss: 0.8234\n",
      "Baseline Loss: 3.8892 | Actual Loss: 0.9894\n"
     ]
    },
    {
     "name": "stderr",
     "output_type": "stream",
     "text": [
      "Training:  91%|█████████ | 272/300 [05:00<00:29,  1.05s/it]"
     ]
    },
    {
     "name": "stdout",
     "output_type": "stream",
     "text": [
      "Baseline Loss: 3.9495 | Actual Loss: 1.0442\n",
      "Epoch 272/300: Train Loss: 0.8729, Val Loss: 1.0442\n",
      "Baseline Loss: 3.9725 | Actual Loss: 0.8098\n",
      "Baseline Loss: 3.9715 | Actual Loss: 0.8144\n",
      "Baseline Loss: 3.9574 | Actual Loss: 0.8057\n",
      "Baseline Loss: 3.8760 | Actual Loss: 0.7365\n"
     ]
    },
    {
     "name": "stderr",
     "output_type": "stream",
     "text": [
      "Training:  91%|█████████ | 273/300 [05:01<00:28,  1.06s/it]"
     ]
    },
    {
     "name": "stdout",
     "output_type": "stream",
     "text": [
      "Baseline Loss: 3.9495 | Actual Loss: 0.9920\n",
      "Epoch 273/300: Train Loss: 0.7916, Val Loss: 0.9920\n",
      "Baseline Loss: 3.9720 | Actual Loss: 0.7088\n",
      "Baseline Loss: 3.9633 | Actual Loss: 0.9197\n",
      "Baseline Loss: 3.9671 | Actual Loss: 0.7819\n",
      "Baseline Loss: 3.8722 | Actual Loss: 0.8976\n"
     ]
    },
    {
     "name": "stderr",
     "output_type": "stream",
     "text": [
      "Training:  91%|█████████▏| 274/300 [05:02<00:27,  1.07s/it]"
     ]
    },
    {
     "name": "stdout",
     "output_type": "stream",
     "text": [
      "Baseline Loss: 3.9495 | Actual Loss: 1.0639\n",
      "Epoch 274/300: Train Loss: 0.8270, Val Loss: 1.0639\n",
      "Baseline Loss: 3.9594 | Actual Loss: 0.8237\n",
      "Baseline Loss: 3.9782 | Actual Loss: 0.7516\n",
      "Baseline Loss: 3.9741 | Actual Loss: 0.8055\n",
      "Baseline Loss: 3.8768 | Actual Loss: 0.7426\n"
     ]
    },
    {
     "name": "stderr",
     "output_type": "stream",
     "text": [
      "Training:  92%|█████████▏| 275/300 [05:03<00:26,  1.08s/it]"
     ]
    },
    {
     "name": "stdout",
     "output_type": "stream",
     "text": [
      "Baseline Loss: 3.9495 | Actual Loss: 1.0316\n",
      "Epoch 275/300: Train Loss: 0.7809, Val Loss: 1.0316\n",
      "Baseline Loss: 3.9678 | Actual Loss: 0.7852\n",
      "Baseline Loss: 3.9674 | Actual Loss: 0.7753\n",
      "Baseline Loss: 3.9630 | Actual Loss: 0.8386\n",
      "Baseline Loss: 3.8771 | Actual Loss: 0.7965\n"
     ]
    },
    {
     "name": "stderr",
     "output_type": "stream",
     "text": [
      "Training:  92%|█████████▏| 276/300 [05:04<00:25,  1.08s/it]"
     ]
    },
    {
     "name": "stdout",
     "output_type": "stream",
     "text": [
      "Baseline Loss: 3.9495 | Actual Loss: 1.0443\n",
      "Epoch 276/300: Train Loss: 0.7989, Val Loss: 1.0443\n",
      "Baseline Loss: 3.9647 | Actual Loss: 0.7960\n",
      "Baseline Loss: 3.9690 | Actual Loss: 0.7588\n",
      "Baseline Loss: 3.9744 | Actual Loss: 0.9680\n",
      "Baseline Loss: 3.8767 | Actual Loss: 0.7910\n"
     ]
    },
    {
     "name": "stderr",
     "output_type": "stream",
     "text": [
      "Training:  92%|█████████▏| 277/300 [05:06<00:24,  1.09s/it]"
     ]
    },
    {
     "name": "stdout",
     "output_type": "stream",
     "text": [
      "Baseline Loss: 3.9495 | Actual Loss: 1.1209\n",
      "Epoch 277/300: Train Loss: 0.8284, Val Loss: 1.1209\n",
      "Baseline Loss: 3.9730 | Actual Loss: 0.7496\n",
      "Baseline Loss: 3.9641 | Actual Loss: 0.8156\n",
      "Baseline Loss: 3.9709 | Actual Loss: 0.8220\n",
      "Baseline Loss: 3.8700 | Actual Loss: 0.7121\n"
     ]
    },
    {
     "name": "stderr",
     "output_type": "stream",
     "text": [
      "Training:  93%|█████████▎| 278/300 [05:07<00:23,  1.09s/it]"
     ]
    },
    {
     "name": "stdout",
     "output_type": "stream",
     "text": [
      "Baseline Loss: 3.9495 | Actual Loss: 0.9761\n",
      "Epoch 278/300: Train Loss: 0.7748, Val Loss: 0.9761\n",
      "Baseline Loss: 3.9683 | Actual Loss: 0.7444\n",
      "Baseline Loss: 3.9718 | Actual Loss: 0.8175\n",
      "Baseline Loss: 3.9664 | Actual Loss: 0.9352\n",
      "Baseline Loss: 3.8766 | Actual Loss: 0.8685\n"
     ]
    },
    {
     "name": "stderr",
     "output_type": "stream",
     "text": [
      "Training:  93%|█████████▎| 279/300 [05:08<00:23,  1.10s/it]"
     ]
    },
    {
     "name": "stdout",
     "output_type": "stream",
     "text": [
      "Baseline Loss: 3.9495 | Actual Loss: 1.0128\n",
      "Epoch 279/300: Train Loss: 0.8414, Val Loss: 1.0128\n",
      "Baseline Loss: 3.9686 | Actual Loss: 0.8197\n",
      "Baseline Loss: 3.9686 | Actual Loss: 0.8487\n",
      "Baseline Loss: 3.9701 | Actual Loss: 0.7326\n",
      "Baseline Loss: 3.8635 | Actual Loss: 0.7293\n"
     ]
    },
    {
     "name": "stderr",
     "output_type": "stream",
     "text": [
      "Training:  93%|█████████▎| 280/300 [05:09<00:21,  1.10s/it]"
     ]
    },
    {
     "name": "stdout",
     "output_type": "stream",
     "text": [
      "Baseline Loss: 3.9495 | Actual Loss: 0.9936\n",
      "Epoch 280/300: Train Loss: 0.7826, Val Loss: 0.9936\n",
      "Baseline Loss: 3.9756 | Actual Loss: 0.8545\n",
      "Baseline Loss: 3.9660 | Actual Loss: 0.8845\n",
      "Baseline Loss: 3.9649 | Actual Loss: 0.9082\n",
      "Baseline Loss: 3.8774 | Actual Loss: 0.7677\n"
     ]
    },
    {
     "name": "stderr",
     "output_type": "stream",
     "text": [
      "Training:  94%|█████████▎| 281/300 [05:10<00:20,  1.10s/it]"
     ]
    },
    {
     "name": "stdout",
     "output_type": "stream",
     "text": [
      "Baseline Loss: 3.9495 | Actual Loss: 1.0336\n",
      "Epoch 281/300: Train Loss: 0.8537, Val Loss: 1.0336\n",
      "Baseline Loss: 3.9750 | Actual Loss: 0.7688\n",
      "Baseline Loss: 3.9574 | Actual Loss: 0.8205\n",
      "Baseline Loss: 3.9689 | Actual Loss: 0.8157\n",
      "Baseline Loss: 3.8709 | Actual Loss: 0.7372\n"
     ]
    },
    {
     "name": "stderr",
     "output_type": "stream",
     "text": [
      "Training:  94%|█████████▍| 282/300 [05:11<00:19,  1.10s/it]"
     ]
    },
    {
     "name": "stdout",
     "output_type": "stream",
     "text": [
      "Baseline Loss: 3.9495 | Actual Loss: 1.0842\n",
      "Epoch 282/300: Train Loss: 0.7855, Val Loss: 1.0842\n",
      "Baseline Loss: 3.9729 | Actual Loss: 0.8256\n",
      "Baseline Loss: 3.9736 | Actual Loss: 0.7701\n",
      "Baseline Loss: 3.9645 | Actual Loss: 1.0212\n",
      "Baseline Loss: 3.8634 | Actual Loss: 0.6649\n"
     ]
    },
    {
     "name": "stderr",
     "output_type": "stream",
     "text": [
      "Training:  94%|█████████▍| 283/300 [05:12<00:18,  1.08s/it]"
     ]
    },
    {
     "name": "stdout",
     "output_type": "stream",
     "text": [
      "Baseline Loss: 3.9495 | Actual Loss: 1.0398\n",
      "Epoch 283/300: Train Loss: 0.8204, Val Loss: 1.0398\n",
      "Baseline Loss: 3.9752 | Actual Loss: 0.8912\n",
      "Baseline Loss: 3.9719 | Actual Loss: 0.7238\n",
      "Baseline Loss: 3.9625 | Actual Loss: 0.9140\n",
      "Baseline Loss: 3.8744 | Actual Loss: 0.8902\n"
     ]
    },
    {
     "name": "stderr",
     "output_type": "stream",
     "text": [
      "Training:  95%|█████████▍| 284/300 [05:13<00:17,  1.08s/it]"
     ]
    },
    {
     "name": "stdout",
     "output_type": "stream",
     "text": [
      "Baseline Loss: 3.9495 | Actual Loss: 1.0163\n",
      "Epoch 284/300: Train Loss: 0.8548, Val Loss: 1.0163\n",
      "Baseline Loss: 3.9708 | Actual Loss: 0.7477\n",
      "Baseline Loss: 3.9639 | Actual Loss: 0.8380\n",
      "Baseline Loss: 3.9651 | Actual Loss: 0.7790\n",
      "Baseline Loss: 3.8784 | Actual Loss: 0.8857\n"
     ]
    },
    {
     "name": "stderr",
     "output_type": "stream",
     "text": [
      "Training:  95%|█████████▌| 285/300 [05:14<00:15,  1.06s/it]"
     ]
    },
    {
     "name": "stdout",
     "output_type": "stream",
     "text": [
      "Baseline Loss: 3.9495 | Actual Loss: 1.0405\n",
      "Epoch 285/300: Train Loss: 0.8126, Val Loss: 1.0405\n",
      "Baseline Loss: 3.9674 | Actual Loss: 0.7303\n",
      "Baseline Loss: 3.9745 | Actual Loss: 0.8529\n",
      "Baseline Loss: 3.9556 | Actual Loss: 0.8077\n",
      "Baseline Loss: 3.8814 | Actual Loss: 0.7479\n"
     ]
    },
    {
     "name": "stderr",
     "output_type": "stream",
     "text": [
      "Training:  95%|█████████▌| 286/300 [05:15<00:14,  1.05s/it]"
     ]
    },
    {
     "name": "stdout",
     "output_type": "stream",
     "text": [
      "Baseline Loss: 3.9495 | Actual Loss: 1.0045\n",
      "Epoch 286/300: Train Loss: 0.7847, Val Loss: 1.0045\n",
      "Baseline Loss: 3.9669 | Actual Loss: 0.7903\n",
      "Baseline Loss: 3.9620 | Actual Loss: 0.7523\n",
      "Baseline Loss: 3.9775 | Actual Loss: 0.8364\n",
      "Baseline Loss: 3.8747 | Actual Loss: 0.7989\n"
     ]
    },
    {
     "name": "stderr",
     "output_type": "stream",
     "text": [
      "Training:  96%|█████████▌| 287/300 [05:16<00:13,  1.05s/it]"
     ]
    },
    {
     "name": "stdout",
     "output_type": "stream",
     "text": [
      "Baseline Loss: 3.9495 | Actual Loss: 1.0853\n",
      "Epoch 287/300: Train Loss: 0.7944, Val Loss: 1.0853\n",
      "Baseline Loss: 3.9653 | Actual Loss: 0.7914\n",
      "Baseline Loss: 3.9683 | Actual Loss: 0.8657\n",
      "Baseline Loss: 3.9719 | Actual Loss: 0.6873\n",
      "Baseline Loss: 3.8723 | Actual Loss: 0.9069\n"
     ]
    },
    {
     "name": "stderr",
     "output_type": "stream",
     "text": [
      "Training:  96%|█████████▌| 288/300 [05:17<00:12,  1.05s/it]"
     ]
    },
    {
     "name": "stdout",
     "output_type": "stream",
     "text": [
      "Baseline Loss: 3.9495 | Actual Loss: 1.0823\n",
      "Epoch 288/300: Train Loss: 0.8128, Val Loss: 1.0823\n",
      "Baseline Loss: 3.9746 | Actual Loss: 0.8149\n",
      "Baseline Loss: 3.9689 | Actual Loss: 0.7316\n",
      "Baseline Loss: 3.9692 | Actual Loss: 0.8191\n",
      "Baseline Loss: 3.8723 | Actual Loss: 0.7607\n"
     ]
    },
    {
     "name": "stderr",
     "output_type": "stream",
     "text": [
      "Training:  96%|█████████▋| 289/300 [05:18<00:11,  1.04s/it]"
     ]
    },
    {
     "name": "stdout",
     "output_type": "stream",
     "text": [
      "Baseline Loss: 3.9495 | Actual Loss: 1.0509\n",
      "Epoch 289/300: Train Loss: 0.7816, Val Loss: 1.0509\n",
      "Baseline Loss: 3.9612 | Actual Loss: 0.7776\n",
      "Baseline Loss: 3.9726 | Actual Loss: 0.9145\n",
      "Baseline Loss: 3.9640 | Actual Loss: 0.7739\n",
      "Baseline Loss: 3.8801 | Actual Loss: 1.3500\n"
     ]
    },
    {
     "name": "stderr",
     "output_type": "stream",
     "text": [
      "Training:  97%|█████████▋| 290/300 [05:19<00:10,  1.05s/it]"
     ]
    },
    {
     "name": "stdout",
     "output_type": "stream",
     "text": [
      "Baseline Loss: 3.9495 | Actual Loss: 1.0349\n",
      "Epoch 290/300: Train Loss: 0.9540, Val Loss: 1.0349\n",
      "Baseline Loss: 3.9626 | Actual Loss: 1.0895\n",
      "Baseline Loss: 3.9711 | Actual Loss: 0.8107\n",
      "Baseline Loss: 3.9725 | Actual Loss: 0.7512\n",
      "Baseline Loss: 3.8759 | Actual Loss: 0.7531\n"
     ]
    },
    {
     "name": "stderr",
     "output_type": "stream",
     "text": [
      "Training:  97%|█████████▋| 291/300 [05:20<00:09,  1.05s/it]"
     ]
    },
    {
     "name": "stdout",
     "output_type": "stream",
     "text": [
      "Baseline Loss: 3.9495 | Actual Loss: 1.1090\n",
      "Epoch 291/300: Train Loss: 0.8511, Val Loss: 1.1090\n",
      "Baseline Loss: 3.9644 | Actual Loss: 0.7572\n",
      "Baseline Loss: 3.9646 | Actual Loss: 0.8473\n",
      "Baseline Loss: 3.9714 | Actual Loss: 0.8519\n",
      "Baseline Loss: 3.8778 | Actual Loss: 0.7899\n"
     ]
    },
    {
     "name": "stderr",
     "output_type": "stream",
     "text": [
      "Training:  97%|█████████▋| 292/300 [05:21<00:08,  1.05s/it]"
     ]
    },
    {
     "name": "stdout",
     "output_type": "stream",
     "text": [
      "Baseline Loss: 3.9495 | Actual Loss: 1.0245\n",
      "Epoch 292/300: Train Loss: 0.8116, Val Loss: 1.0245\n",
      "Baseline Loss: 3.9748 | Actual Loss: 0.8711\n",
      "Baseline Loss: 3.9689 | Actual Loss: 0.8037\n",
      "Baseline Loss: 3.9732 | Actual Loss: 0.7151\n",
      "Baseline Loss: 3.8614 | Actual Loss: 0.7785\n"
     ]
    },
    {
     "name": "stderr",
     "output_type": "stream",
     "text": [
      "Training:  98%|█████████▊| 293/300 [05:23<00:07,  1.04s/it]"
     ]
    },
    {
     "name": "stdout",
     "output_type": "stream",
     "text": [
      "Baseline Loss: 3.9495 | Actual Loss: 1.0813\n",
      "Epoch 293/300: Train Loss: 0.7921, Val Loss: 1.0813\n",
      "Baseline Loss: 3.9772 | Actual Loss: 0.8795\n",
      "Baseline Loss: 3.9735 | Actual Loss: 0.9426\n",
      "Baseline Loss: 3.9583 | Actual Loss: 0.8408\n",
      "Baseline Loss: 3.8759 | Actual Loss: 0.6951\n"
     ]
    },
    {
     "name": "stderr",
     "output_type": "stream",
     "text": [
      "Training:  98%|█████████▊| 294/300 [05:24<00:06,  1.04s/it]"
     ]
    },
    {
     "name": "stdout",
     "output_type": "stream",
     "text": [
      "Baseline Loss: 3.9495 | Actual Loss: 1.1246\n",
      "Epoch 294/300: Train Loss: 0.8395, Val Loss: 1.1246\n",
      "Baseline Loss: 3.9640 | Actual Loss: 0.8600\n",
      "Baseline Loss: 3.9690 | Actual Loss: 0.7581\n",
      "Baseline Loss: 3.9790 | Actual Loss: 0.8592\n",
      "Baseline Loss: 3.8615 | Actual Loss: 0.6522\n"
     ]
    },
    {
     "name": "stderr",
     "output_type": "stream",
     "text": [
      "Training:  98%|█████████▊| 295/300 [05:25<00:05,  1.04s/it]"
     ]
    },
    {
     "name": "stdout",
     "output_type": "stream",
     "text": [
      "Baseline Loss: 3.9495 | Actual Loss: 1.1374\n",
      "Epoch 295/300: Train Loss: 0.7824, Val Loss: 1.1374\n",
      "Baseline Loss: 3.9645 | Actual Loss: 0.7665\n",
      "Baseline Loss: 3.9678 | Actual Loss: 0.7965\n",
      "Baseline Loss: 3.9719 | Actual Loss: 0.9974\n",
      "Baseline Loss: 3.8778 | Actual Loss: 0.8138\n"
     ]
    },
    {
     "name": "stderr",
     "output_type": "stream",
     "text": [
      "Training:  99%|█████████▊| 296/300 [05:26<00:04,  1.03s/it]"
     ]
    },
    {
     "name": "stdout",
     "output_type": "stream",
     "text": [
      "Baseline Loss: 3.9495 | Actual Loss: 1.1239\n",
      "Epoch 296/300: Train Loss: 0.8436, Val Loss: 1.1239\n",
      "Baseline Loss: 3.9679 | Actual Loss: 0.7935\n",
      "Baseline Loss: 3.9721 | Actual Loss: 0.8232\n",
      "Baseline Loss: 3.9645 | Actual Loss: 0.8550\n",
      "Baseline Loss: 3.8744 | Actual Loss: 0.8090\n"
     ]
    },
    {
     "name": "stderr",
     "output_type": "stream",
     "text": [
      "Training:  99%|█████████▉| 297/300 [05:27<00:03,  1.03s/it]"
     ]
    },
    {
     "name": "stdout",
     "output_type": "stream",
     "text": [
      "Baseline Loss: 3.9495 | Actual Loss: 0.9555\n",
      "Epoch 297/300: Train Loss: 0.8202, Val Loss: 0.9555\n",
      "Baseline Loss: 3.9622 | Actual Loss: 0.6708\n",
      "Baseline Loss: 3.9686 | Actual Loss: 0.8770\n",
      "Baseline Loss: 3.9714 | Actual Loss: 0.8169\n",
      "Baseline Loss: 3.8707 | Actual Loss: 0.7492\n"
     ]
    },
    {
     "name": "stderr",
     "output_type": "stream",
     "text": [
      "Training:  99%|█████████▉| 298/300 [05:28<00:02,  1.04s/it]"
     ]
    },
    {
     "name": "stdout",
     "output_type": "stream",
     "text": [
      "Baseline Loss: 3.9495 | Actual Loss: 1.0864\n",
      "Epoch 298/300: Train Loss: 0.7785, Val Loss: 1.0864\n",
      "Baseline Loss: 3.9651 | Actual Loss: 0.7789\n",
      "Baseline Loss: 3.9749 | Actual Loss: 1.1191\n",
      "Baseline Loss: 3.9646 | Actual Loss: 0.8308\n",
      "Baseline Loss: 3.8631 | Actual Loss: 0.6795\n"
     ]
    },
    {
     "name": "stderr",
     "output_type": "stream",
     "text": [
      "Training: 100%|█████████▉| 299/300 [05:29<00:01,  1.04s/it]"
     ]
    },
    {
     "name": "stdout",
     "output_type": "stream",
     "text": [
      "Baseline Loss: 3.9495 | Actual Loss: 1.1064\n",
      "Epoch 299/300: Train Loss: 0.8521, Val Loss: 1.1064\n",
      "Baseline Loss: 3.9667 | Actual Loss: 0.8076\n",
      "Baseline Loss: 3.9684 | Actual Loss: 0.9258\n",
      "Baseline Loss: 3.9662 | Actual Loss: 0.8864\n",
      "Baseline Loss: 3.8768 | Actual Loss: 0.8414\n"
     ]
    },
    {
     "name": "stderr",
     "output_type": "stream",
     "text": [
      "Training: 100%|██████████| 300/300 [05:30<00:00,  1.10s/it]"
     ]
    },
    {
     "name": "stdout",
     "output_type": "stream",
     "text": [
      "Baseline Loss: 3.9495 | Actual Loss: 1.0652\n",
      "Epoch 300/300: Train Loss: 0.8653, Val Loss: 1.0652\n"
     ]
    },
    {
     "name": "stderr",
     "output_type": "stream",
     "text": [
      "\n"
     ]
    },
    {
     "data": {
      "text/plain": [
       "0.9267318844795227"
      ]
     },
     "execution_count": 9,
     "metadata": {},
     "output_type": "execute_result"
    }
   ],
   "source": [
    "model2.train_model(\n",
    "    data_list,\n",
    ")"
   ]
  },
  {
   "cell_type": "code",
   "execution_count": 10,
   "id": "6e0fc12c",
   "metadata": {},
   "outputs": [],
   "source": [
    "model3 = GNNModelWithNewLoss(\n",
    "        num_node_features=data_list[0].x.shape[1],\n",
    "        num_edge_features=data_list[0].edge_attr.shape[1],\n",
    "        num_global_features=data_list[0].global_features.shape[0],\n",
    "        hidden_dim=512,\n",
    "        dropout_rate=0.1,\n",
    "        property_index=2,\n",
    "        save_path=\"models/2\"\n",
    "    ).to(devices[0])"
   ]
  },
  {
   "cell_type": "code",
   "execution_count": 11,
   "id": "71b665fd",
   "metadata": {},
   "outputs": [
    {
     "name": "stdout",
     "output_type": "stream",
     "text": [
      "Training will be saved to: models/2\n"
     ]
    },
    {
     "name": "stderr",
     "output_type": "stream",
     "text": [
      "Training:   0%|          | 0/300 [00:00<?, ?it/s]"
     ]
    },
    {
     "name": "stdout",
     "output_type": "stream",
     "text": [
      "Baseline Loss: 4.4402 | Actual Loss: 4.3632\n",
      "Baseline Loss: 4.3702 | Actual Loss: 4.3319\n",
      "Baseline Loss: 4.3695 | Actual Loss: 4.2929\n",
      "Baseline Loss: 4.2682 | Actual Loss: 4.1288\n"
     ]
    },
    {
     "name": "stderr",
     "output_type": "stream",
     "text": [
      "Training:   0%|          | 1/300 [00:01<05:25,  1.09s/it]"
     ]
    },
    {
     "name": "stdout",
     "output_type": "stream",
     "text": [
      "Baseline Loss: 4.3583 | Actual Loss: 4.2415\n",
      "Epoch 1/300: Train Loss: 4.2792, Val Loss: 4.2415\n",
      "New best validation loss: 4.2415\n",
      "Baseline Loss: 4.3963 | Actual Loss: 4.2724\n",
      "Baseline Loss: 4.3414 | Actual Loss: 4.1883\n",
      "Baseline Loss: 4.3392 | Actual Loss: 4.1377\n",
      "Baseline Loss: 4.3042 | Actual Loss: 4.0297\n"
     ]
    },
    {
     "name": "stderr",
     "output_type": "stream",
     "text": [
      "Training:   1%|          | 2/300 [00:02<05:17,  1.07s/it]"
     ]
    },
    {
     "name": "stdout",
     "output_type": "stream",
     "text": [
      "Baseline Loss: 4.3583 | Actual Loss: 4.0635\n",
      "Epoch 2/300: Train Loss: 4.1570, Val Loss: 4.0635\n",
      "New best validation loss: 4.0635\n",
      "Baseline Loss: 4.3616 | Actual Loss: 4.1139\n",
      "Baseline Loss: 4.3498 | Actual Loss: 4.0286\n",
      "Baseline Loss: 4.3927 | Actual Loss: 3.9810\n",
      "Baseline Loss: 4.3055 | Actual Loss: 3.8828\n"
     ]
    },
    {
     "name": "stderr",
     "output_type": "stream",
     "text": [
      "Training:   1%|          | 3/300 [00:03<05:20,  1.08s/it]"
     ]
    },
    {
     "name": "stdout",
     "output_type": "stream",
     "text": [
      "Baseline Loss: 4.3583 | Actual Loss: 3.8695\n",
      "Epoch 3/300: Train Loss: 4.0016, Val Loss: 3.8695\n",
      "New best validation loss: 3.8695\n",
      "Baseline Loss: 4.3774 | Actual Loss: 3.8393\n",
      "Baseline Loss: 4.3478 | Actual Loss: 3.7865\n",
      "Baseline Loss: 4.3935 | Actual Loss: 3.6965\n",
      "Baseline Loss: 4.2828 | Actual Loss: 3.5606\n"
     ]
    },
    {
     "name": "stderr",
     "output_type": "stream",
     "text": [
      "Training:   1%|▏         | 4/300 [00:04<05:18,  1.08s/it]"
     ]
    },
    {
     "name": "stdout",
     "output_type": "stream",
     "text": [
      "Baseline Loss: 4.3583 | Actual Loss: 3.6603\n",
      "Epoch 4/300: Train Loss: 3.7207, Val Loss: 3.6603\n",
      "New best validation loss: 3.6603\n",
      "Baseline Loss: 4.3670 | Actual Loss: 3.6946\n",
      "Baseline Loss: 4.3797 | Actual Loss: 3.6214\n",
      "Baseline Loss: 4.3584 | Actual Loss: 3.3491\n",
      "Baseline Loss: 4.3243 | Actual Loss: 3.4320\n"
     ]
    },
    {
     "name": "stderr",
     "output_type": "stream",
     "text": [
      "Training:   2%|▏         | 5/300 [00:05<05:16,  1.07s/it]"
     ]
    },
    {
     "name": "stdout",
     "output_type": "stream",
     "text": [
      "Baseline Loss: 4.3583 | Actual Loss: 3.3810\n",
      "Epoch 5/300: Train Loss: 3.5243, Val Loss: 3.3810\n",
      "New best validation loss: 3.3810\n",
      "Baseline Loss: 4.3590 | Actual Loss: 3.3200\n",
      "Baseline Loss: 4.3848 | Actual Loss: 3.2998\n",
      "Baseline Loss: 4.3365 | Actual Loss: 3.4035\n",
      "Baseline Loss: 4.2842 | Actual Loss: 3.2241\n"
     ]
    },
    {
     "name": "stderr",
     "output_type": "stream",
     "text": [
      "Training:   2%|▏         | 6/300 [00:06<05:15,  1.07s/it]"
     ]
    },
    {
     "name": "stdout",
     "output_type": "stream",
     "text": [
      "Baseline Loss: 4.3583 | Actual Loss: 3.3329\n",
      "Epoch 6/300: Train Loss: 3.3119, Val Loss: 3.3329\n",
      "New best validation loss: 3.3329\n",
      "Baseline Loss: 4.3531 | Actual Loss: 3.4800\n",
      "Baseline Loss: 4.3584 | Actual Loss: 2.9966\n",
      "Baseline Loss: 4.4000 | Actual Loss: 3.1881\n",
      "Baseline Loss: 4.3152 | Actual Loss: 3.0531\n"
     ]
    },
    {
     "name": "stderr",
     "output_type": "stream",
     "text": [
      "Training:   2%|▏         | 7/300 [00:07<05:15,  1.08s/it]"
     ]
    },
    {
     "name": "stdout",
     "output_type": "stream",
     "text": [
      "Baseline Loss: 4.3583 | Actual Loss: 3.2492\n",
      "Epoch 7/300: Train Loss: 3.1794, Val Loss: 3.2492\n",
      "New best validation loss: 3.2492\n",
      "Baseline Loss: 4.4067 | Actual Loss: 3.2132\n",
      "Baseline Loss: 4.3669 | Actual Loss: 3.0541\n",
      "Baseline Loss: 4.3351 | Actual Loss: 3.1757\n",
      "Baseline Loss: 4.3037 | Actual Loss: 2.7621\n"
     ]
    },
    {
     "name": "stderr",
     "output_type": "stream",
     "text": [
      "Training:   3%|▎         | 8/300 [00:08<05:15,  1.08s/it]"
     ]
    },
    {
     "name": "stdout",
     "output_type": "stream",
     "text": [
      "Baseline Loss: 4.3583 | Actual Loss: 3.1477\n",
      "Epoch 8/300: Train Loss: 3.0512, Val Loss: 3.1477\n",
      "New best validation loss: 3.1477\n",
      "Baseline Loss: 4.3317 | Actual Loss: 3.0621\n",
      "Baseline Loss: 4.3681 | Actual Loss: 2.9174\n",
      "Baseline Loss: 4.3673 | Actual Loss: 3.0022\n",
      "Baseline Loss: 4.3638 | Actual Loss: 2.8237\n"
     ]
    },
    {
     "name": "stderr",
     "output_type": "stream",
     "text": [
      "Training:   3%|▎         | 9/300 [00:09<05:14,  1.08s/it]"
     ]
    },
    {
     "name": "stdout",
     "output_type": "stream",
     "text": [
      "Baseline Loss: 4.3583 | Actual Loss: 2.9894\n",
      "Epoch 9/300: Train Loss: 2.9514, Val Loss: 2.9894\n",
      "New best validation loss: 2.9894\n",
      "Baseline Loss: 4.3861 | Actual Loss: 2.9302\n",
      "Baseline Loss: 4.3543 | Actual Loss: 2.8040\n",
      "Baseline Loss: 4.3489 | Actual Loss: 2.9120\n",
      "Baseline Loss: 4.3383 | Actual Loss: 2.8442\n"
     ]
    },
    {
     "name": "stderr",
     "output_type": "stream",
     "text": [
      "Training:   3%|▎         | 10/300 [00:10<05:09,  1.07s/it]"
     ]
    },
    {
     "name": "stdout",
     "output_type": "stream",
     "text": [
      "Baseline Loss: 4.3583 | Actual Loss: 3.0350\n",
      "Epoch 10/300: Train Loss: 2.8726, Val Loss: 3.0350\n",
      "Baseline Loss: 4.4044 | Actual Loss: 2.9644\n",
      "Baseline Loss: 4.3363 | Actual Loss: 2.9561\n",
      "Baseline Loss: 4.3538 | Actual Loss: 2.7050\n",
      "Baseline Loss: 4.3105 | Actual Loss: 2.8141\n"
     ]
    },
    {
     "name": "stderr",
     "output_type": "stream",
     "text": [
      "Training:   4%|▎         | 11/300 [00:11<05:03,  1.05s/it]"
     ]
    },
    {
     "name": "stdout",
     "output_type": "stream",
     "text": [
      "Baseline Loss: 4.3583 | Actual Loss: 3.0794\n",
      "Epoch 11/300: Train Loss: 2.8599, Val Loss: 3.0794\n",
      "Baseline Loss: 4.4104 | Actual Loss: 2.7154\n",
      "Baseline Loss: 4.3323 | Actual Loss: 2.7802\n",
      "Baseline Loss: 4.3698 | Actual Loss: 2.8983\n",
      "Baseline Loss: 4.2917 | Actual Loss: 2.7738\n"
     ]
    },
    {
     "name": "stderr",
     "output_type": "stream",
     "text": [
      "Training:   4%|▍         | 12/300 [00:12<04:58,  1.04s/it]"
     ]
    },
    {
     "name": "stdout",
     "output_type": "stream",
     "text": [
      "Baseline Loss: 4.3583 | Actual Loss: 3.1708\n",
      "Epoch 12/300: Train Loss: 2.7919, Val Loss: 3.1708\n",
      "Baseline Loss: 4.3852 | Actual Loss: 2.7486\n",
      "Baseline Loss: 4.4300 | Actual Loss: 2.8378\n",
      "Baseline Loss: 4.3890 | Actual Loss: 2.7640\n"
     ]
    },
    {
     "name": "stderr",
     "output_type": "stream",
     "text": [
      "Training:   4%|▍         | 13/300 [00:13<04:49,  1.01s/it]"
     ]
    },
    {
     "name": "stdout",
     "output_type": "stream",
     "text": [
      "Baseline Loss: 4.2375 | Actual Loss: 2.8089\n",
      "Baseline Loss: 4.3583 | Actual Loss: 2.8644\n",
      "Epoch 13/300: Train Loss: 2.7898, Val Loss: 2.8644\n",
      "New best validation loss: 2.8644\n",
      "Baseline Loss: 4.4192 | Actual Loss: 2.9466\n",
      "Baseline Loss: 4.3559 | Actual Loss: 2.6957\n",
      "Baseline Loss: 4.3306 | Actual Loss: 2.7538\n",
      "Baseline Loss: 4.2894 | Actual Loss: 2.7904\n"
     ]
    },
    {
     "name": "stderr",
     "output_type": "stream",
     "text": [
      "Training:   5%|▍         | 14/300 [00:14<04:51,  1.02s/it]"
     ]
    },
    {
     "name": "stdout",
     "output_type": "stream",
     "text": [
      "Baseline Loss: 4.3583 | Actual Loss: 2.9112\n",
      "Epoch 14/300: Train Loss: 2.7966, Val Loss: 2.9112\n",
      "Baseline Loss: 4.3675 | Actual Loss: 2.7177\n",
      "Baseline Loss: 4.4042 | Actual Loss: 2.9143\n",
      "Baseline Loss: 4.4128 | Actual Loss: 2.7739\n",
      "Baseline Loss: 4.2279 | Actual Loss: 2.7457\n"
     ]
    },
    {
     "name": "stderr",
     "output_type": "stream",
     "text": [
      "Training:   5%|▌         | 15/300 [00:15<04:51,  1.02s/it]"
     ]
    },
    {
     "name": "stdout",
     "output_type": "stream",
     "text": [
      "Baseline Loss: 4.3583 | Actual Loss: 2.8794\n",
      "Epoch 15/300: Train Loss: 2.7879, Val Loss: 2.8794\n",
      "Baseline Loss: 4.4330 | Actual Loss: 2.6461\n",
      "Baseline Loss: 4.3454 | Actual Loss: 2.7436\n",
      "Baseline Loss: 4.3749 | Actual Loss: 2.8455\n",
      "Baseline Loss: 4.2703 | Actual Loss: 2.4259\n"
     ]
    },
    {
     "name": "stderr",
     "output_type": "stream",
     "text": [
      "Training:   5%|▌         | 16/300 [00:16<04:51,  1.03s/it]"
     ]
    },
    {
     "name": "stdout",
     "output_type": "stream",
     "text": [
      "Baseline Loss: 4.3583 | Actual Loss: 2.8409\n",
      "Epoch 16/300: Train Loss: 2.6652, Val Loss: 2.8409\n",
      "New best validation loss: 2.8409\n",
      "Baseline Loss: 4.4104 | Actual Loss: 2.7021\n",
      "Baseline Loss: 4.3922 | Actual Loss: 2.5502\n",
      "Baseline Loss: 4.3680 | Actual Loss: 2.7680\n",
      "Baseline Loss: 4.2520 | Actual Loss: 2.5064\n"
     ]
    },
    {
     "name": "stderr",
     "output_type": "stream",
     "text": [
      "Training:   6%|▌         | 17/300 [00:17<04:51,  1.03s/it]"
     ]
    },
    {
     "name": "stdout",
     "output_type": "stream",
     "text": [
      "Baseline Loss: 4.3583 | Actual Loss: 2.7393\n",
      "Epoch 17/300: Train Loss: 2.6317, Val Loss: 2.7393\n",
      "New best validation loss: 2.7393\n",
      "Baseline Loss: 4.3810 | Actual Loss: 2.7019\n",
      "Baseline Loss: 4.4029 | Actual Loss: 2.4870\n",
      "Baseline Loss: 4.3555 | Actual Loss: 2.7419\n",
      "Baseline Loss: 4.2675 | Actual Loss: 2.5749\n"
     ]
    },
    {
     "name": "stderr",
     "output_type": "stream",
     "text": [
      "Training:   6%|▌         | 18/300 [00:18<04:52,  1.04s/it]"
     ]
    },
    {
     "name": "stdout",
     "output_type": "stream",
     "text": [
      "Baseline Loss: 4.3583 | Actual Loss: 2.8920\n",
      "Epoch 18/300: Train Loss: 2.6264, Val Loss: 2.8920\n",
      "Baseline Loss: 4.3527 | Actual Loss: 2.5600\n",
      "Baseline Loss: 4.3421 | Actual Loss: 2.5316\n",
      "Baseline Loss: 4.3991 | Actual Loss: 2.4305\n",
      "Baseline Loss: 4.2971 | Actual Loss: 2.6630\n"
     ]
    },
    {
     "name": "stderr",
     "output_type": "stream",
     "text": [
      "Training:   6%|▋         | 19/300 [00:19<04:44,  1.01s/it]"
     ]
    },
    {
     "name": "stdout",
     "output_type": "stream",
     "text": [
      "Baseline Loss: 4.3583 | Actual Loss: 2.7394\n",
      "Epoch 19/300: Train Loss: 2.5463, Val Loss: 2.7394\n",
      "Baseline Loss: 4.3537 | Actual Loss: 2.6581\n",
      "Baseline Loss: 4.4254 | Actual Loss: 2.5226\n",
      "Baseline Loss: 4.3277 | Actual Loss: 2.5971\n",
      "Baseline Loss: 4.3340 | Actual Loss: 2.3327\n"
     ]
    },
    {
     "name": "stderr",
     "output_type": "stream",
     "text": [
      "Training:   7%|▋         | 20/300 [00:20<04:45,  1.02s/it]"
     ]
    },
    {
     "name": "stdout",
     "output_type": "stream",
     "text": [
      "Baseline Loss: 4.3583 | Actual Loss: 2.6847\n",
      "Epoch 20/300: Train Loss: 2.5276, Val Loss: 2.6847\n",
      "New best validation loss: 2.6847\n",
      "Baseline Loss: 4.3527 | Actual Loss: 2.5424\n",
      "Baseline Loss: 4.3945 | Actual Loss: 2.6232\n",
      "Baseline Loss: 4.3901 | Actual Loss: 2.5912\n",
      "Baseline Loss: 4.3017 | Actual Loss: 2.3200\n"
     ]
    },
    {
     "name": "stderr",
     "output_type": "stream",
     "text": [
      "Training:   7%|▋         | 21/300 [00:21<04:44,  1.02s/it]"
     ]
    },
    {
     "name": "stdout",
     "output_type": "stream",
     "text": [
      "Baseline Loss: 4.3583 | Actual Loss: 2.6274\n",
      "Epoch 21/300: Train Loss: 2.5192, Val Loss: 2.6274\n",
      "New best validation loss: 2.6274\n",
      "Baseline Loss: 4.3776 | Actual Loss: 2.6266\n",
      "Baseline Loss: 4.3619 | Actual Loss: 2.4206\n",
      "Baseline Loss: 4.3952 | Actual Loss: 2.4490\n",
      "Baseline Loss: 4.2886 | Actual Loss: 2.3285\n"
     ]
    },
    {
     "name": "stderr",
     "output_type": "stream",
     "text": [
      "Training:   7%|▋         | 22/300 [00:22<04:46,  1.03s/it]"
     ]
    },
    {
     "name": "stdout",
     "output_type": "stream",
     "text": [
      "Baseline Loss: 4.3583 | Actual Loss: 2.6508\n",
      "Epoch 22/300: Train Loss: 2.4562, Val Loss: 2.6508\n",
      "Baseline Loss: 4.4136 | Actual Loss: 2.5870\n",
      "Baseline Loss: 4.3358 | Actual Loss: 2.5436\n",
      "Baseline Loss: 4.3543 | Actual Loss: 2.2497\n",
      "Baseline Loss: 4.2767 | Actual Loss: 2.4235\n"
     ]
    },
    {
     "name": "stderr",
     "output_type": "stream",
     "text": [
      "Training:   8%|▊         | 23/300 [00:23<04:39,  1.01s/it]"
     ]
    },
    {
     "name": "stdout",
     "output_type": "stream",
     "text": [
      "Baseline Loss: 4.3583 | Actual Loss: 2.5015\n",
      "Epoch 23/300: Train Loss: 2.4509, Val Loss: 2.5015\n",
      "New best validation loss: 2.5015\n",
      "Baseline Loss: 4.4180 | Actual Loss: 2.3845\n",
      "Baseline Loss: 4.4174 | Actual Loss: 2.5060\n",
      "Baseline Loss: 4.3495 | Actual Loss: 2.3673\n",
      "Baseline Loss: 4.2199 | Actual Loss: 2.2368\n"
     ]
    },
    {
     "name": "stderr",
     "output_type": "stream",
     "text": [
      "Training:   8%|▊         | 24/300 [00:24<04:42,  1.02s/it]"
     ]
    },
    {
     "name": "stdout",
     "output_type": "stream",
     "text": [
      "Baseline Loss: 4.3583 | Actual Loss: 2.5734\n",
      "Epoch 24/300: Train Loss: 2.3737, Val Loss: 2.5734\n",
      "Baseline Loss: 4.4038 | Actual Loss: 2.3844\n",
      "Baseline Loss: 4.3644 | Actual Loss: 2.2042\n",
      "Baseline Loss: 4.3293 | Actual Loss: 2.4923\n",
      "Baseline Loss: 4.3126 | Actual Loss: 2.4824\n"
     ]
    },
    {
     "name": "stderr",
     "output_type": "stream",
     "text": [
      "Training:   8%|▊         | 25/300 [00:26<04:42,  1.03s/it]"
     ]
    },
    {
     "name": "stdout",
     "output_type": "stream",
     "text": [
      "Baseline Loss: 4.3583 | Actual Loss: 2.6090\n",
      "Epoch 25/300: Train Loss: 2.3908, Val Loss: 2.6090\n",
      "Baseline Loss: 4.3480 | Actual Loss: 2.3494\n",
      "Baseline Loss: 4.3584 | Actual Loss: 2.5772\n",
      "Baseline Loss: 4.3661 | Actual Loss: 2.3206\n",
      "Baseline Loss: 4.3128 | Actual Loss: 2.3109\n"
     ]
    },
    {
     "name": "stderr",
     "output_type": "stream",
     "text": [
      "Training:   9%|▊         | 26/300 [00:26<04:34,  1.00s/it]"
     ]
    },
    {
     "name": "stdout",
     "output_type": "stream",
     "text": [
      "Baseline Loss: 4.3583 | Actual Loss: 2.4527\n",
      "Epoch 26/300: Train Loss: 2.3895, Val Loss: 2.4527\n",
      "New best validation loss: 2.4527\n",
      "Baseline Loss: 4.3580 | Actual Loss: 2.3838\n",
      "Baseline Loss: 4.3739 | Actual Loss: 2.2310\n",
      "Baseline Loss: 4.3526 | Actual Loss: 2.5010\n",
      "Baseline Loss: 4.3069 | Actual Loss: 2.3602\n"
     ]
    },
    {
     "name": "stderr",
     "output_type": "stream",
     "text": [
      "Training:   9%|▉         | 27/300 [00:27<04:36,  1.01s/it]"
     ]
    },
    {
     "name": "stdout",
     "output_type": "stream",
     "text": [
      "Baseline Loss: 4.3583 | Actual Loss: 2.4584\n",
      "Epoch 27/300: Train Loss: 2.3690, Val Loss: 2.4584\n",
      "Baseline Loss: 4.3774 | Actual Loss: 2.3388\n",
      "Baseline Loss: 4.3740 | Actual Loss: 2.2749\n",
      "Baseline Loss: 4.3859 | Actual Loss: 2.4473\n",
      "Baseline Loss: 4.2638 | Actual Loss: 2.3975\n"
     ]
    },
    {
     "name": "stderr",
     "output_type": "stream",
     "text": [
      "Training:   9%|▉         | 28/300 [00:29<04:37,  1.02s/it]"
     ]
    },
    {
     "name": "stdout",
     "output_type": "stream",
     "text": [
      "Baseline Loss: 4.3583 | Actual Loss: 2.3659\n",
      "Epoch 28/300: Train Loss: 2.3646, Val Loss: 2.3659\n",
      "New best validation loss: 2.3659\n",
      "Baseline Loss: 4.3744 | Actual Loss: 2.0785\n",
      "Baseline Loss: 4.3913 | Actual Loss: 2.2949\n",
      "Baseline Loss: 4.3964 | Actual Loss: 2.4013\n",
      "Baseline Loss: 4.2613 | Actual Loss: 2.1879\n"
     ]
    },
    {
     "name": "stderr",
     "output_type": "stream",
     "text": [
      "Training:  10%|▉         | 29/300 [00:30<04:37,  1.02s/it]"
     ]
    },
    {
     "name": "stdout",
     "output_type": "stream",
     "text": [
      "Baseline Loss: 4.3583 | Actual Loss: 2.4408\n",
      "Epoch 29/300: Train Loss: 2.2407, Val Loss: 2.4408\n",
      "Baseline Loss: 4.3531 | Actual Loss: 2.2365\n",
      "Baseline Loss: 4.3751 | Actual Loss: 2.2292\n",
      "Baseline Loss: 4.3374 | Actual Loss: 2.4744\n",
      "Baseline Loss: 4.3681 | Actual Loss: 2.2433\n"
     ]
    },
    {
     "name": "stderr",
     "output_type": "stream",
     "text": [
      "Training:  10%|█         | 30/300 [00:31<04:37,  1.03s/it]"
     ]
    },
    {
     "name": "stdout",
     "output_type": "stream",
     "text": [
      "Baseline Loss: 4.3583 | Actual Loss: 2.3375\n",
      "Epoch 30/300: Train Loss: 2.2958, Val Loss: 2.3375\n",
      "New best validation loss: 2.3375\n",
      "Baseline Loss: 4.3444 | Actual Loss: 2.3099\n",
      "Baseline Loss: 4.4181 | Actual Loss: 2.3611\n",
      "Baseline Loss: 4.3306 | Actual Loss: 2.1704\n",
      "Baseline Loss: 4.2975 | Actual Loss: 2.2287\n"
     ]
    },
    {
     "name": "stderr",
     "output_type": "stream",
     "text": [
      "Training:  10%|█         | 31/300 [00:32<04:35,  1.02s/it]"
     ]
    },
    {
     "name": "stdout",
     "output_type": "stream",
     "text": [
      "Baseline Loss: 4.3583 | Actual Loss: 2.4371\n",
      "Epoch 31/300: Train Loss: 2.2675, Val Loss: 2.4371\n",
      "Baseline Loss: 4.3812 | Actual Loss: 2.3790\n",
      "Baseline Loss: 4.3433 | Actual Loss: 2.2339\n",
      "Baseline Loss: 4.4180 | Actual Loss: 2.5728\n",
      "Baseline Loss: 4.2576 | Actual Loss: 2.0453\n"
     ]
    },
    {
     "name": "stderr",
     "output_type": "stream",
     "text": [
      "Training:  11%|█         | 32/300 [00:33<04:36,  1.03s/it]"
     ]
    },
    {
     "name": "stdout",
     "output_type": "stream",
     "text": [
      "Baseline Loss: 4.3583 | Actual Loss: 2.2305\n",
      "Epoch 32/300: Train Loss: 2.3077, Val Loss: 2.2305\n",
      "New best validation loss: 2.2305\n",
      "Baseline Loss: 4.4037 | Actual Loss: 2.1494\n",
      "Baseline Loss: 4.3823 | Actual Loss: 2.1674\n",
      "Baseline Loss: 4.3656 | Actual Loss: 2.3495\n",
      "Baseline Loss: 4.2369 | Actual Loss: 2.0926\n"
     ]
    },
    {
     "name": "stderr",
     "output_type": "stream",
     "text": [
      "Training:  11%|█         | 33/300 [00:34<04:35,  1.03s/it]"
     ]
    },
    {
     "name": "stdout",
     "output_type": "stream",
     "text": [
      "Baseline Loss: 4.3583 | Actual Loss: 2.2585\n",
      "Epoch 33/300: Train Loss: 2.1897, Val Loss: 2.2585\n",
      "Baseline Loss: 4.3341 | Actual Loss: 2.4916\n",
      "Baseline Loss: 4.4080 | Actual Loss: 2.0987\n",
      "Baseline Loss: 4.3744 | Actual Loss: 2.6359\n",
      "Baseline Loss: 4.3285 | Actual Loss: 1.9288\n"
     ]
    },
    {
     "name": "stderr",
     "output_type": "stream",
     "text": [
      "Training:  11%|█▏        | 34/300 [00:35<04:35,  1.04s/it]"
     ]
    },
    {
     "name": "stdout",
     "output_type": "stream",
     "text": [
      "Baseline Loss: 4.3583 | Actual Loss: 2.3251\n",
      "Epoch 34/300: Train Loss: 2.2888, Val Loss: 2.3251\n",
      "Baseline Loss: 4.3708 | Actual Loss: 2.3638\n",
      "Baseline Loss: 4.4491 | Actual Loss: 2.2102\n",
      "Baseline Loss: 4.3133 | Actual Loss: 2.3691\n",
      "Baseline Loss: 4.3099 | Actual Loss: 2.0166\n"
     ]
    },
    {
     "name": "stderr",
     "output_type": "stream",
     "text": [
      "Training:  12%|█▏        | 35/300 [00:36<04:32,  1.03s/it]"
     ]
    },
    {
     "name": "stdout",
     "output_type": "stream",
     "text": [
      "Baseline Loss: 4.3583 | Actual Loss: 2.2310\n",
      "Epoch 35/300: Train Loss: 2.2399, Val Loss: 2.2310\n",
      "Baseline Loss: 4.4269 | Actual Loss: 2.2317\n",
      "Baseline Loss: 4.3732 | Actual Loss: 2.3895\n",
      "Baseline Loss: 4.3386 | Actual Loss: 2.2388\n",
      "Baseline Loss: 4.2907 | Actual Loss: 2.1118\n"
     ]
    },
    {
     "name": "stderr",
     "output_type": "stream",
     "text": [
      "Training:  12%|█▏        | 36/300 [00:37<04:33,  1.04s/it]"
     ]
    },
    {
     "name": "stdout",
     "output_type": "stream",
     "text": [
      "Baseline Loss: 4.3583 | Actual Loss: 2.0405\n",
      "Epoch 36/300: Train Loss: 2.2430, Val Loss: 2.0405\n",
      "New best validation loss: 2.0405\n",
      "Baseline Loss: 4.3854 | Actual Loss: 2.4156\n",
      "Baseline Loss: 4.4144 | Actual Loss: 2.1967\n",
      "Baseline Loss: 4.3219 | Actual Loss: 2.1269\n",
      "Baseline Loss: 4.2671 | Actual Loss: 1.9869\n"
     ]
    },
    {
     "name": "stderr",
     "output_type": "stream",
     "text": [
      "Training:  12%|█▏        | 37/300 [00:38<04:25,  1.01s/it]"
     ]
    },
    {
     "name": "stdout",
     "output_type": "stream",
     "text": [
      "Baseline Loss: 4.3583 | Actual Loss: 2.3430\n",
      "Epoch 37/300: Train Loss: 2.1815, Val Loss: 2.3430\n",
      "Baseline Loss: 4.3834 | Actual Loss: 1.9502\n",
      "Baseline Loss: 4.3334 | Actual Loss: 2.3813\n",
      "Baseline Loss: 4.3338 | Actual Loss: 2.1510\n",
      "Baseline Loss: 4.3583 | Actual Loss: 1.9432\n",
      "Baseline Loss: 4.3583 | Actual Loss: 2.1748\n"
     ]
    },
    {
     "name": "stderr",
     "output_type": "stream",
     "text": [
      "Training:  13%|█▎        | 38/300 [00:39<04:24,  1.01s/it]"
     ]
    },
    {
     "name": "stdout",
     "output_type": "stream",
     "text": [
      "Epoch 38/300: Train Loss: 2.1064, Val Loss: 2.1748\n",
      "Baseline Loss: 4.3599 | Actual Loss: 2.1417\n",
      "Baseline Loss: 4.3806 | Actual Loss: 2.1460\n",
      "Baseline Loss: 4.3836 | Actual Loss: 2.2185\n",
      "Baseline Loss: 4.3000 | Actual Loss: 2.1004\n"
     ]
    },
    {
     "name": "stderr",
     "output_type": "stream",
     "text": [
      "Training:  13%|█▎        | 39/300 [00:40<04:24,  1.02s/it]"
     ]
    },
    {
     "name": "stdout",
     "output_type": "stream",
     "text": [
      "Baseline Loss: 4.3583 | Actual Loss: 2.2754\n",
      "Epoch 39/300: Train Loss: 2.1516, Val Loss: 2.2754\n",
      "Baseline Loss: 4.3782 | Actual Loss: 2.0546\n",
      "Baseline Loss: 4.3806 | Actual Loss: 1.9989\n",
      "Baseline Loss: 4.3475 | Actual Loss: 2.0059\n",
      "Baseline Loss: 4.3064 | Actual Loss: 2.3678\n"
     ]
    },
    {
     "name": "stderr",
     "output_type": "stream",
     "text": [
      "Training:  13%|█▎        | 40/300 [00:41<04:25,  1.02s/it]"
     ]
    },
    {
     "name": "stdout",
     "output_type": "stream",
     "text": [
      "Baseline Loss: 4.3583 | Actual Loss: 2.1826\n",
      "Epoch 40/300: Train Loss: 2.1068, Val Loss: 2.1826\n",
      "Baseline Loss: 4.3756 | Actual Loss: 2.0527\n",
      "Baseline Loss: 4.3715 | Actual Loss: 2.1505\n",
      "Baseline Loss: 4.3920 | Actual Loss: 2.0002\n",
      "Baseline Loss: 4.2291 | Actual Loss: 2.0616\n"
     ]
    },
    {
     "name": "stderr",
     "output_type": "stream",
     "text": [
      "Training:  14%|█▎        | 41/300 [00:42<04:25,  1.03s/it]"
     ]
    },
    {
     "name": "stdout",
     "output_type": "stream",
     "text": [
      "Baseline Loss: 4.3583 | Actual Loss: 2.1139\n",
      "Epoch 41/300: Train Loss: 2.0662, Val Loss: 2.1139\n",
      "Baseline Loss: 4.4199 | Actual Loss: 2.1287\n",
      "Baseline Loss: 4.3589 | Actual Loss: 2.1574\n",
      "Baseline Loss: 4.3539 | Actual Loss: 2.1760\n",
      "Baseline Loss: 4.2961 | Actual Loss: 1.8304\n"
     ]
    },
    {
     "name": "stderr",
     "output_type": "stream",
     "text": [
      "Training:  14%|█▍        | 42/300 [00:43<04:25,  1.03s/it]"
     ]
    },
    {
     "name": "stdout",
     "output_type": "stream",
     "text": [
      "Baseline Loss: 4.3583 | Actual Loss: 2.0740\n",
      "Epoch 42/300: Train Loss: 2.0731, Val Loss: 2.0740\n",
      "Baseline Loss: 4.3503 | Actual Loss: 1.8817\n",
      "Baseline Loss: 4.3583 | Actual Loss: 2.5006\n",
      "Baseline Loss: 4.3974 | Actual Loss: 1.8675\n",
      "Baseline Loss: 4.3160 | Actual Loss: 1.9700\n"
     ]
    },
    {
     "name": "stderr",
     "output_type": "stream",
     "text": [
      "Training:  14%|█▍        | 43/300 [00:44<04:17,  1.00s/it]"
     ]
    },
    {
     "name": "stdout",
     "output_type": "stream",
     "text": [
      "Baseline Loss: 4.3583 | Actual Loss: 1.9974\n",
      "Epoch 43/300: Train Loss: 2.0549, Val Loss: 1.9974\n",
      "New best validation loss: 1.9974\n",
      "Baseline Loss: 4.3334 | Actual Loss: 2.2020\n",
      "Baseline Loss: 4.3514 | Actual Loss: 2.1178\n",
      "Baseline Loss: 4.3770 | Actual Loss: 2.1292\n",
      "Baseline Loss: 4.3147 | Actual Loss: 2.1090\n"
     ]
    },
    {
     "name": "stderr",
     "output_type": "stream",
     "text": [
      "Training:  15%|█▍        | 44/300 [00:45<04:20,  1.02s/it]"
     ]
    },
    {
     "name": "stdout",
     "output_type": "stream",
     "text": [
      "Baseline Loss: 4.3583 | Actual Loss: 2.1734\n",
      "Epoch 44/300: Train Loss: 2.1395, Val Loss: 2.1734\n",
      "Baseline Loss: 4.3316 | Actual Loss: 2.1281\n",
      "Baseline Loss: 4.3828 | Actual Loss: 2.2227\n",
      "Baseline Loss: 4.3632 | Actual Loss: 2.0399\n",
      "Baseline Loss: 4.3022 | Actual Loss: 1.9273\n",
      "Baseline Loss: 4.3583 | Actual Loss: 2.0357\n"
     ]
    },
    {
     "name": "stderr",
     "output_type": "stream",
     "text": [
      "Training:  15%|█▌        | 45/300 [00:46<04:19,  1.02s/it]"
     ]
    },
    {
     "name": "stdout",
     "output_type": "stream",
     "text": [
      "Epoch 45/300: Train Loss: 2.0795, Val Loss: 2.0357\n",
      "Baseline Loss: 4.3346 | Actual Loss: 2.1076\n",
      "Baseline Loss: 4.3875 | Actual Loss: 1.9253\n",
      "Baseline Loss: 4.3958 | Actual Loss: 2.2047\n",
      "Baseline Loss: 4.3531 | Actual Loss: 2.0005\n"
     ]
    },
    {
     "name": "stderr",
     "output_type": "stream",
     "text": [
      "Training:  15%|█▌        | 46/300 [00:47<04:13,  1.00it/s]"
     ]
    },
    {
     "name": "stdout",
     "output_type": "stream",
     "text": [
      "Baseline Loss: 4.3583 | Actual Loss: 2.0818\n",
      "Epoch 46/300: Train Loss: 2.0595, Val Loss: 2.0818\n",
      "Baseline Loss: 4.4170 | Actual Loss: 1.9548\n",
      "Baseline Loss: 4.3907 | Actual Loss: 1.9953\n",
      "Baseline Loss: 4.3596 | Actual Loss: 2.1143\n",
      "Baseline Loss: 4.2775 | Actual Loss: 1.6408\n"
     ]
    },
    {
     "name": "stderr",
     "output_type": "stream",
     "text": [
      "Training:  16%|█▌        | 47/300 [00:48<04:12,  1.00it/s]"
     ]
    },
    {
     "name": "stdout",
     "output_type": "stream",
     "text": [
      "Baseline Loss: 4.3583 | Actual Loss: 2.1561\n",
      "Epoch 47/300: Train Loss: 1.9263, Val Loss: 2.1561\n",
      "Baseline Loss: 4.3468 | Actual Loss: 2.2835\n",
      "Baseline Loss: 4.3457 | Actual Loss: 1.8753\n",
      "Baseline Loss: 4.4061 | Actual Loss: 1.7640\n",
      "Baseline Loss: 4.3051 | Actual Loss: 1.8606\n",
      "Baseline Loss: 4.3583 | Actual Loss: 1.9264\n"
     ]
    },
    {
     "name": "stderr",
     "output_type": "stream",
     "text": [
      "Training:  16%|█▌        | 48/300 [00:49<04:15,  1.01s/it]"
     ]
    },
    {
     "name": "stdout",
     "output_type": "stream",
     "text": [
      "Epoch 48/300: Train Loss: 1.9459, Val Loss: 1.9264\n",
      "New best validation loss: 1.9264\n",
      "Baseline Loss: 4.3562 | Actual Loss: 2.1181\n",
      "Baseline Loss: 4.4043 | Actual Loss: 2.0440\n",
      "Baseline Loss: 4.4018 | Actual Loss: 1.9976\n",
      "Baseline Loss: 4.2682 | Actual Loss: 1.9301\n"
     ]
    },
    {
     "name": "stderr",
     "output_type": "stream",
     "text": [
      "Training:  16%|█▋        | 49/300 [00:50<04:13,  1.01s/it]"
     ]
    },
    {
     "name": "stdout",
     "output_type": "stream",
     "text": [
      "Baseline Loss: 4.3583 | Actual Loss: 2.0379\n",
      "Epoch 49/300: Train Loss: 2.0225, Val Loss: 2.0379\n",
      "Baseline Loss: 4.3726 | Actual Loss: 1.8037\n",
      "Baseline Loss: 4.3960 | Actual Loss: 1.8485\n",
      "Baseline Loss: 4.3265 | Actual Loss: 1.9970\n",
      "Baseline Loss: 4.2833 | Actual Loss: 2.2380\n"
     ]
    },
    {
     "name": "stderr",
     "output_type": "stream",
     "text": [
      "Training:  17%|█▋        | 50/300 [00:51<04:15,  1.02s/it]"
     ]
    },
    {
     "name": "stdout",
     "output_type": "stream",
     "text": [
      "Baseline Loss: 4.3583 | Actual Loss: 1.9203\n",
      "Epoch 50/300: Train Loss: 1.9718, Val Loss: 1.9203\n",
      "New best validation loss: 1.9203\n",
      "Baseline Loss: 4.4253 | Actual Loss: 1.9805\n",
      "Baseline Loss: 4.3882 | Actual Loss: 2.1065\n",
      "Baseline Loss: 4.3501 | Actual Loss: 1.6867\n",
      "Baseline Loss: 4.2896 | Actual Loss: 2.2013\n"
     ]
    },
    {
     "name": "stderr",
     "output_type": "stream",
     "text": [
      "Training:  17%|█▋        | 51/300 [00:52<04:13,  1.02s/it]"
     ]
    },
    {
     "name": "stdout",
     "output_type": "stream",
     "text": [
      "Baseline Loss: 4.3583 | Actual Loss: 1.8450\n",
      "Epoch 51/300: Train Loss: 1.9937, Val Loss: 1.8450\n",
      "New best validation loss: 1.8450\n",
      "Baseline Loss: 4.3843 | Actual Loss: 1.8888\n",
      "Baseline Loss: 4.3552 | Actual Loss: 2.0163\n",
      "Baseline Loss: 4.3387 | Actual Loss: 1.9330\n",
      "Baseline Loss: 4.3009 | Actual Loss: 2.0561\n"
     ]
    },
    {
     "name": "stderr",
     "output_type": "stream",
     "text": [
      "Training:  17%|█▋        | 52/300 [00:53<04:14,  1.03s/it]"
     ]
    },
    {
     "name": "stdout",
     "output_type": "stream",
     "text": [
      "Baseline Loss: 4.3583 | Actual Loss: 1.9015\n",
      "Epoch 52/300: Train Loss: 1.9735, Val Loss: 1.9015\n",
      "Baseline Loss: 4.3750 | Actual Loss: 2.3646\n",
      "Baseline Loss: 4.3715 | Actual Loss: 1.6853\n",
      "Baseline Loss: 4.3891 | Actual Loss: 1.9385\n",
      "Baseline Loss: 4.2829 | Actual Loss: 1.6931\n"
     ]
    },
    {
     "name": "stderr",
     "output_type": "stream",
     "text": [
      "Training:  18%|█▊        | 53/300 [00:54<04:13,  1.03s/it]"
     ]
    },
    {
     "name": "stdout",
     "output_type": "stream",
     "text": [
      "Baseline Loss: 4.3583 | Actual Loss: 1.7154\n",
      "Epoch 53/300: Train Loss: 1.9204, Val Loss: 1.7154\n",
      "New best validation loss: 1.7154\n",
      "Baseline Loss: 4.4056 | Actual Loss: 1.6670\n",
      "Baseline Loss: 4.3884 | Actual Loss: 1.8782\n",
      "Baseline Loss: 4.3433 | Actual Loss: 2.0059\n",
      "Baseline Loss: 4.2850 | Actual Loss: 2.0949\n"
     ]
    },
    {
     "name": "stderr",
     "output_type": "stream",
     "text": [
      "Training:  18%|█▊        | 54/300 [00:55<04:08,  1.01s/it]"
     ]
    },
    {
     "name": "stdout",
     "output_type": "stream",
     "text": [
      "Baseline Loss: 4.3583 | Actual Loss: 1.8977\n",
      "Epoch 54/300: Train Loss: 1.9115, Val Loss: 1.8977\n",
      "Baseline Loss: 4.3456 | Actual Loss: 1.8761\n",
      "Baseline Loss: 4.3878 | Actual Loss: 1.8176\n",
      "Baseline Loss: 4.3964 | Actual Loss: 2.3347\n",
      "Baseline Loss: 4.2582 | Actual Loss: 1.8459\n"
     ]
    },
    {
     "name": "stderr",
     "output_type": "stream",
     "text": [
      "Training:  18%|█▊        | 55/300 [00:56<04:08,  1.01s/it]"
     ]
    },
    {
     "name": "stdout",
     "output_type": "stream",
     "text": [
      "Baseline Loss: 4.3583 | Actual Loss: 1.9394\n",
      "Epoch 55/300: Train Loss: 1.9686, Val Loss: 1.9394\n",
      "Baseline Loss: 4.4019 | Actual Loss: 2.0415\n",
      "Baseline Loss: 4.3858 | Actual Loss: 2.1314\n",
      "Baseline Loss: 4.3532 | Actual Loss: 1.6886\n",
      "Baseline Loss: 4.2597 | Actual Loss: 1.9450\n"
     ]
    },
    {
     "name": "stderr",
     "output_type": "stream",
     "text": [
      "Training:  19%|█▊        | 56/300 [00:57<04:08,  1.02s/it]"
     ]
    },
    {
     "name": "stdout",
     "output_type": "stream",
     "text": [
      "Baseline Loss: 4.3583 | Actual Loss: 1.8902\n",
      "Epoch 56/300: Train Loss: 1.9516, Val Loss: 1.8902\n",
      "Baseline Loss: 4.3473 | Actual Loss: 1.9713\n",
      "Baseline Loss: 4.4351 | Actual Loss: 1.8814\n",
      "Baseline Loss: 4.3225 | Actual Loss: 2.1403\n",
      "Baseline Loss: 4.3285 | Actual Loss: 1.6052\n"
     ]
    },
    {
     "name": "stderr",
     "output_type": "stream",
     "text": [
      "Training:  19%|█▉        | 57/300 [00:58<04:01,  1.01it/s]"
     ]
    },
    {
     "name": "stdout",
     "output_type": "stream",
     "text": [
      "Baseline Loss: 4.3583 | Actual Loss: 2.0208\n",
      "Epoch 57/300: Train Loss: 1.8995, Val Loss: 2.0208\n",
      "Baseline Loss: 4.3728 | Actual Loss: 1.7373\n",
      "Baseline Loss: 4.3986 | Actual Loss: 1.7472\n",
      "Baseline Loss: 4.4061 | Actual Loss: 1.7744\n",
      "Baseline Loss: 4.2520 | Actual Loss: 1.9193\n"
     ]
    },
    {
     "name": "stderr",
     "output_type": "stream",
     "text": [
      "Training:  19%|█▉        | 58/300 [00:59<04:02,  1.00s/it]"
     ]
    },
    {
     "name": "stdout",
     "output_type": "stream",
     "text": [
      "Baseline Loss: 4.3583 | Actual Loss: 1.8640\n",
      "Epoch 58/300: Train Loss: 1.7946, Val Loss: 1.8640\n",
      "Baseline Loss: 4.3209 | Actual Loss: 1.8982\n",
      "Baseline Loss: 4.3810 | Actual Loss: 1.8099\n",
      "Baseline Loss: 4.4147 | Actual Loss: 1.7350\n",
      "Baseline Loss: 4.2876 | Actual Loss: 1.7806\n"
     ]
    },
    {
     "name": "stderr",
     "output_type": "stream",
     "text": [
      "Training:  20%|█▉        | 59/300 [01:00<04:01,  1.00s/it]"
     ]
    },
    {
     "name": "stdout",
     "output_type": "stream",
     "text": [
      "Baseline Loss: 4.3583 | Actual Loss: 1.8668\n",
      "Epoch 59/300: Train Loss: 1.8059, Val Loss: 1.8668\n",
      "Baseline Loss: 4.3455 | Actual Loss: 1.6291\n",
      "Baseline Loss: 4.3609 | Actual Loss: 2.0305\n",
      "Baseline Loss: 4.3890 | Actual Loss: 1.8834\n",
      "Baseline Loss: 4.2969 | Actual Loss: 1.9128\n"
     ]
    },
    {
     "name": "stderr",
     "output_type": "stream",
     "text": [
      "Training:  20%|██        | 60/300 [01:01<03:57,  1.01it/s]"
     ]
    },
    {
     "name": "stdout",
     "output_type": "stream",
     "text": [
      "Baseline Loss: 4.3583 | Actual Loss: 1.8664\n",
      "Epoch 60/300: Train Loss: 1.8640, Val Loss: 1.8664\n",
      "Baseline Loss: 4.3580 | Actual Loss: 1.7885\n",
      "Baseline Loss: 4.3566 | Actual Loss: 1.8082\n",
      "Baseline Loss: 4.3889 | Actual Loss: 1.8412\n",
      "Baseline Loss: 4.2995 | Actual Loss: 1.6567\n"
     ]
    },
    {
     "name": "stderr",
     "output_type": "stream",
     "text": [
      "Training:  20%|██        | 61/300 [01:02<03:57,  1.00it/s]"
     ]
    },
    {
     "name": "stdout",
     "output_type": "stream",
     "text": [
      "Baseline Loss: 4.3583 | Actual Loss: 1.7871\n",
      "Epoch 61/300: Train Loss: 1.7736, Val Loss: 1.7871\n",
      "Baseline Loss: 4.4135 | Actual Loss: 2.2056\n",
      "Baseline Loss: 4.3932 | Actual Loss: 1.5137\n",
      "Baseline Loss: 4.3472 | Actual Loss: 1.8279\n",
      "Baseline Loss: 4.2501 | Actual Loss: 1.9851\n"
     ]
    },
    {
     "name": "stderr",
     "output_type": "stream",
     "text": [
      "Training:  21%|██        | 62/300 [01:03<03:58,  1.00s/it]"
     ]
    },
    {
     "name": "stdout",
     "output_type": "stream",
     "text": [
      "Baseline Loss: 4.3583 | Actual Loss: 1.7725\n",
      "Epoch 62/300: Train Loss: 1.8831, Val Loss: 1.7725\n",
      "Baseline Loss: 4.3563 | Actual Loss: 1.7558\n",
      "Baseline Loss: 4.3873 | Actual Loss: 1.8205\n",
      "Baseline Loss: 4.3782 | Actual Loss: 1.4900\n",
      "Baseline Loss: 4.2977 | Actual Loss: 1.8875\n"
     ]
    },
    {
     "name": "stderr",
     "output_type": "stream",
     "text": [
      "Training:  21%|██        | 63/300 [01:04<03:58,  1.01s/it]"
     ]
    },
    {
     "name": "stdout",
     "output_type": "stream",
     "text": [
      "Baseline Loss: 4.3583 | Actual Loss: 1.7295\n",
      "Epoch 63/300: Train Loss: 1.7384, Val Loss: 1.7295\n",
      "Baseline Loss: 4.4086 | Actual Loss: 1.8042\n",
      "Baseline Loss: 4.3969 | Actual Loss: 1.7489\n",
      "Baseline Loss: 4.3164 | Actual Loss: 1.5630\n",
      "Baseline Loss: 4.2983 | Actual Loss: 1.7678\n"
     ]
    },
    {
     "name": "stderr",
     "output_type": "stream",
     "text": [
      "Training:  21%|██▏       | 64/300 [01:05<03:59,  1.01s/it]"
     ]
    },
    {
     "name": "stdout",
     "output_type": "stream",
     "text": [
      "Baseline Loss: 4.3583 | Actual Loss: 1.5406\n",
      "Epoch 64/300: Train Loss: 1.7210, Val Loss: 1.5406\n",
      "New best validation loss: 1.5406\n",
      "Baseline Loss: 4.3596 | Actual Loss: 1.6443\n",
      "Baseline Loss: 4.4186 | Actual Loss: 1.6967\n",
      "Baseline Loss: 4.3433 | Actual Loss: 1.7149\n",
      "Baseline Loss: 4.3023 | Actual Loss: 1.5308\n"
     ]
    },
    {
     "name": "stderr",
     "output_type": "stream",
     "text": [
      "Training:  22%|██▏       | 65/300 [01:06<03:56,  1.01s/it]"
     ]
    },
    {
     "name": "stdout",
     "output_type": "stream",
     "text": [
      "Baseline Loss: 4.3583 | Actual Loss: 1.6802\n",
      "Epoch 65/300: Train Loss: 1.6466, Val Loss: 1.6802\n",
      "Baseline Loss: 4.3656 | Actual Loss: 2.6738\n",
      "Baseline Loss: 4.3793 | Actual Loss: 1.5622\n",
      "Baseline Loss: 4.3385 | Actual Loss: 1.6940\n",
      "Baseline Loss: 4.3291 | Actual Loss: 2.0683\n"
     ]
    },
    {
     "name": "stderr",
     "output_type": "stream",
     "text": [
      "Training:  22%|██▏       | 66/300 [01:07<03:58,  1.02s/it]"
     ]
    },
    {
     "name": "stdout",
     "output_type": "stream",
     "text": [
      "Baseline Loss: 4.3583 | Actual Loss: 1.6977\n",
      "Epoch 66/300: Train Loss: 1.9996, Val Loss: 1.6977\n",
      "Baseline Loss: 4.3433 | Actual Loss: 1.8785\n",
      "Baseline Loss: 4.4036 | Actual Loss: 1.8377\n",
      "Baseline Loss: 4.3907 | Actual Loss: 1.6307\n",
      "Baseline Loss: 4.3003 | Actual Loss: 1.6903\n"
     ]
    },
    {
     "name": "stderr",
     "output_type": "stream",
     "text": [
      "Training:  22%|██▏       | 67/300 [01:08<03:57,  1.02s/it]"
     ]
    },
    {
     "name": "stdout",
     "output_type": "stream",
     "text": [
      "Baseline Loss: 4.3583 | Actual Loss: 1.6321\n",
      "Epoch 67/300: Train Loss: 1.7593, Val Loss: 1.6321\n",
      "Baseline Loss: 4.3909 | Actual Loss: 1.8887\n",
      "Baseline Loss: 4.4050 | Actual Loss: 1.8617\n",
      "Baseline Loss: 4.3562 | Actual Loss: 1.6913\n",
      "Baseline Loss: 4.2656 | Actual Loss: 1.5931\n"
     ]
    },
    {
     "name": "stderr",
     "output_type": "stream",
     "text": [
      "Training:  23%|██▎       | 68/300 [01:09<03:51,  1.00it/s]"
     ]
    },
    {
     "name": "stdout",
     "output_type": "stream",
     "text": [
      "Baseline Loss: 4.3583 | Actual Loss: 1.6516\n",
      "Epoch 68/300: Train Loss: 1.7587, Val Loss: 1.6516\n",
      "Baseline Loss: 4.4210 | Actual Loss: 1.6631\n",
      "Baseline Loss: 4.3432 | Actual Loss: 1.8862\n",
      "Baseline Loss: 4.3999 | Actual Loss: 1.6567\n",
      "Baseline Loss: 4.2580 | Actual Loss: 1.5883\n"
     ]
    },
    {
     "name": "stderr",
     "output_type": "stream",
     "text": [
      "Training:  23%|██▎       | 69/300 [01:10<03:51,  1.00s/it]"
     ]
    },
    {
     "name": "stdout",
     "output_type": "stream",
     "text": [
      "Baseline Loss: 4.3583 | Actual Loss: 1.5467\n",
      "Epoch 69/300: Train Loss: 1.6986, Val Loss: 1.5467\n",
      "Baseline Loss: 4.3620 | Actual Loss: 1.8702\n",
      "Baseline Loss: 4.3848 | Actual Loss: 1.5680\n",
      "Baseline Loss: 4.3945 | Actual Loss: 1.8069\n",
      "Baseline Loss: 4.2897 | Actual Loss: 1.3751\n"
     ]
    },
    {
     "name": "stderr",
     "output_type": "stream",
     "text": [
      "Training:  23%|██▎       | 70/300 [01:11<03:52,  1.01s/it]"
     ]
    },
    {
     "name": "stdout",
     "output_type": "stream",
     "text": [
      "Baseline Loss: 4.3583 | Actual Loss: 1.8345\n",
      "Epoch 70/300: Train Loss: 1.6551, Val Loss: 1.8345\n",
      "Baseline Loss: 4.4025 | Actual Loss: 1.7403\n",
      "Baseline Loss: 4.3350 | Actual Loss: 1.6397\n",
      "Baseline Loss: 4.3726 | Actual Loss: 1.5237\n",
      "Baseline Loss: 4.2880 | Actual Loss: 2.0913\n"
     ]
    },
    {
     "name": "stderr",
     "output_type": "stream",
     "text": [
      "Training:  24%|██▎       | 71/300 [01:12<03:52,  1.01s/it]"
     ]
    },
    {
     "name": "stdout",
     "output_type": "stream",
     "text": [
      "Baseline Loss: 4.3583 | Actual Loss: 1.6321\n",
      "Epoch 71/300: Train Loss: 1.7487, Val Loss: 1.6321\n",
      "Baseline Loss: 4.3420 | Actual Loss: 1.9132\n",
      "Baseline Loss: 4.3259 | Actual Loss: 1.5065\n",
      "Baseline Loss: 4.3880 | Actual Loss: 1.5552\n",
      "Baseline Loss: 4.3262 | Actual Loss: 1.6987\n"
     ]
    },
    {
     "name": "stderr",
     "output_type": "stream",
     "text": [
      "Training:  24%|██▍       | 72/300 [01:13<03:49,  1.01s/it]"
     ]
    },
    {
     "name": "stdout",
     "output_type": "stream",
     "text": [
      "Baseline Loss: 4.3583 | Actual Loss: 1.3832\n",
      "Epoch 72/300: Train Loss: 1.6684, Val Loss: 1.3832\n",
      "New best validation loss: 1.3832\n",
      "Baseline Loss: 4.4165 | Actual Loss: 1.6070\n",
      "Baseline Loss: 4.3163 | Actual Loss: 1.7991\n",
      "Baseline Loss: 4.3681 | Actual Loss: 1.7137\n",
      "Baseline Loss: 4.2808 | Actual Loss: 1.5791\n"
     ]
    },
    {
     "name": "stderr",
     "output_type": "stream",
     "text": [
      "Training:  24%|██▍       | 73/300 [01:14<03:50,  1.01s/it]"
     ]
    },
    {
     "name": "stdout",
     "output_type": "stream",
     "text": [
      "Baseline Loss: 4.3583 | Actual Loss: 1.6385\n",
      "Epoch 73/300: Train Loss: 1.6747, Val Loss: 1.6385\n",
      "Baseline Loss: 4.3074 | Actual Loss: 1.7173\n",
      "Baseline Loss: 4.3950 | Actual Loss: 1.5769\n",
      "Baseline Loss: 4.3747 | Actual Loss: 2.0795\n",
      "Baseline Loss: 4.3545 | Actual Loss: 2.2576\n"
     ]
    },
    {
     "name": "stderr",
     "output_type": "stream",
     "text": [
      "Training:  25%|██▍       | 74/300 [01:15<03:51,  1.02s/it]"
     ]
    },
    {
     "name": "stdout",
     "output_type": "stream",
     "text": [
      "Baseline Loss: 4.3583 | Actual Loss: 1.4706\n",
      "Epoch 74/300: Train Loss: 1.9078, Val Loss: 1.4706\n",
      "Baseline Loss: 4.3650 | Actual Loss: 1.7661\n",
      "Baseline Loss: 4.3763 | Actual Loss: 1.7838\n",
      "Baseline Loss: 4.4015 | Actual Loss: 1.4990\n",
      "Baseline Loss: 4.2728 | Actual Loss: 1.6865\n"
     ]
    },
    {
     "name": "stderr",
     "output_type": "stream",
     "text": [
      "Training:  25%|██▌       | 75/300 [01:16<03:45,  1.00s/it]"
     ]
    },
    {
     "name": "stdout",
     "output_type": "stream",
     "text": [
      "Baseline Loss: 4.3583 | Actual Loss: 1.6207\n",
      "Epoch 75/300: Train Loss: 1.6839, Val Loss: 1.6207\n",
      "Baseline Loss: 4.4014 | Actual Loss: 1.6575\n",
      "Baseline Loss: 4.3232 | Actual Loss: 1.6544\n",
      "Baseline Loss: 4.3964 | Actual Loss: 1.5276\n",
      "Baseline Loss: 4.2769 | Actual Loss: 1.5472\n"
     ]
    },
    {
     "name": "stderr",
     "output_type": "stream",
     "text": [
      "Training:  25%|██▌       | 76/300 [01:17<03:46,  1.01s/it]"
     ]
    },
    {
     "name": "stdout",
     "output_type": "stream",
     "text": [
      "Baseline Loss: 4.3583 | Actual Loss: 1.6815\n",
      "Epoch 76/300: Train Loss: 1.5967, Val Loss: 1.6815\n",
      "Baseline Loss: 4.4008 | Actual Loss: 1.6734\n",
      "Baseline Loss: 4.3759 | Actual Loss: 1.7802\n",
      "Baseline Loss: 4.3423 | Actual Loss: 1.4274\n",
      "Baseline Loss: 4.2717 | Actual Loss: 1.6487\n"
     ]
    },
    {
     "name": "stderr",
     "output_type": "stream",
     "text": [
      "Training:  26%|██▌       | 77/300 [01:18<03:45,  1.01s/it]"
     ]
    },
    {
     "name": "stdout",
     "output_type": "stream",
     "text": [
      "Baseline Loss: 4.3583 | Actual Loss: 1.5493\n",
      "Epoch 77/300: Train Loss: 1.6324, Val Loss: 1.5493\n",
      "Baseline Loss: 4.3926 | Actual Loss: 1.6253\n",
      "Baseline Loss: 4.3401 | Actual Loss: 1.6893\n",
      "Baseline Loss: 4.3735 | Actual Loss: 1.5482\n",
      "Baseline Loss: 4.3590 | Actual Loss: 1.4133\n"
     ]
    },
    {
     "name": "stderr",
     "output_type": "stream",
     "text": [
      "Training:  26%|██▌       | 78/300 [01:19<03:41,  1.00it/s]"
     ]
    },
    {
     "name": "stdout",
     "output_type": "stream",
     "text": [
      "Baseline Loss: 4.3583 | Actual Loss: 1.3970\n",
      "Epoch 78/300: Train Loss: 1.5690, Val Loss: 1.3970\n",
      "Baseline Loss: 4.4099 | Actual Loss: 1.3056\n",
      "Baseline Loss: 4.3398 | Actual Loss: 1.8292\n",
      "Baseline Loss: 4.3679 | Actual Loss: 1.8133\n",
      "Baseline Loss: 4.3097 | Actual Loss: 1.7721\n"
     ]
    },
    {
     "name": "stderr",
     "output_type": "stream",
     "text": [
      "Training:  26%|██▋       | 79/300 [01:20<03:42,  1.01s/it]"
     ]
    },
    {
     "name": "stdout",
     "output_type": "stream",
     "text": [
      "Baseline Loss: 4.3583 | Actual Loss: 1.4608\n",
      "Epoch 79/300: Train Loss: 1.6800, Val Loss: 1.4608\n",
      "Baseline Loss: 4.3780 | Actual Loss: 1.8017\n",
      "Baseline Loss: 4.3289 | Actual Loss: 1.5636\n",
      "Baseline Loss: 4.3780 | Actual Loss: 1.5295\n",
      "Baseline Loss: 4.3072 | Actual Loss: 1.6573\n"
     ]
    },
    {
     "name": "stderr",
     "output_type": "stream",
     "text": [
      "Training:  27%|██▋       | 80/300 [01:21<03:43,  1.02s/it]"
     ]
    },
    {
     "name": "stdout",
     "output_type": "stream",
     "text": [
      "Baseline Loss: 4.3583 | Actual Loss: 1.4756\n",
      "Epoch 80/300: Train Loss: 1.6380, Val Loss: 1.4756\n",
      "Baseline Loss: 4.3692 | Actual Loss: 1.6008\n",
      "Baseline Loss: 4.3509 | Actual Loss: 1.7734\n",
      "Baseline Loss: 4.3657 | Actual Loss: 1.4293\n",
      "Baseline Loss: 4.3319 | Actual Loss: 1.5195\n"
     ]
    },
    {
     "name": "stderr",
     "output_type": "stream",
     "text": [
      "Training:  27%|██▋       | 81/300 [01:22<03:38,  1.00it/s]"
     ]
    },
    {
     "name": "stdout",
     "output_type": "stream",
     "text": [
      "Baseline Loss: 4.3583 | Actual Loss: 1.5823\n",
      "Epoch 81/300: Train Loss: 1.5807, Val Loss: 1.5823\n",
      "Baseline Loss: 4.4570 | Actual Loss: 1.3982\n",
      "Baseline Loss: 4.3408 | Actual Loss: 1.7899\n",
      "Baseline Loss: 4.3643 | Actual Loss: 1.6435\n",
      "Baseline Loss: 4.2293 | Actual Loss: 1.4003\n"
     ]
    },
    {
     "name": "stderr",
     "output_type": "stream",
     "text": [
      "Training:  27%|██▋       | 82/300 [01:23<03:38,  1.00s/it]"
     ]
    },
    {
     "name": "stdout",
     "output_type": "stream",
     "text": [
      "Baseline Loss: 4.3583 | Actual Loss: 1.5208\n",
      "Epoch 82/300: Train Loss: 1.5580, Val Loss: 1.5208\n",
      "Baseline Loss: 4.2924 | Actual Loss: 1.6091\n",
      "Baseline Loss: 4.4235 | Actual Loss: 1.5742\n",
      "Baseline Loss: 4.3432 | Actual Loss: 1.4953\n",
      "Baseline Loss: 4.2983 | Actual Loss: 1.8554\n"
     ]
    },
    {
     "name": "stderr",
     "output_type": "stream",
     "text": [
      "Training:  28%|██▊       | 83/300 [01:24<03:40,  1.01s/it]"
     ]
    },
    {
     "name": "stdout",
     "output_type": "stream",
     "text": [
      "Baseline Loss: 4.3583 | Actual Loss: 1.5872\n",
      "Epoch 83/300: Train Loss: 1.6335, Val Loss: 1.5872\n",
      "Baseline Loss: 4.3938 | Actual Loss: 1.7399\n",
      "Baseline Loss: 4.3479 | Actual Loss: 1.6036\n",
      "Baseline Loss: 4.3543 | Actual Loss: 1.9607\n",
      "Baseline Loss: 4.3126 | Actual Loss: 1.4221\n"
     ]
    },
    {
     "name": "stderr",
     "output_type": "stream",
     "text": [
      "Training:  28%|██▊       | 84/300 [01:25<03:40,  1.02s/it]"
     ]
    },
    {
     "name": "stdout",
     "output_type": "stream",
     "text": [
      "Baseline Loss: 4.3583 | Actual Loss: 1.4949\n",
      "Epoch 84/300: Train Loss: 1.6816, Val Loss: 1.4949\n",
      "Baseline Loss: 4.3659 | Actual Loss: 1.7142\n",
      "Baseline Loss: 4.4167 | Actual Loss: 1.4501\n",
      "Baseline Loss: 4.3220 | Actual Loss: 1.7463\n",
      "Baseline Loss: 4.3133 | Actual Loss: 1.5383\n"
     ]
    },
    {
     "name": "stderr",
     "output_type": "stream",
     "text": [
      "Training:  28%|██▊       | 85/300 [01:26<03:40,  1.03s/it]"
     ]
    },
    {
     "name": "stdout",
     "output_type": "stream",
     "text": [
      "Baseline Loss: 4.3583 | Actual Loss: 1.6491\n",
      "Epoch 85/300: Train Loss: 1.6122, Val Loss: 1.6491\n",
      "Baseline Loss: 4.3450 | Actual Loss: 1.7196\n",
      "Baseline Loss: 4.4019 | Actual Loss: 1.6458\n",
      "Baseline Loss: 4.3787 | Actual Loss: 1.6861\n",
      "Baseline Loss: 4.2876 | Actual Loss: 1.4050\n"
     ]
    },
    {
     "name": "stderr",
     "output_type": "stream",
     "text": [
      "Training:  29%|██▊       | 86/300 [01:27<03:41,  1.04s/it]"
     ]
    },
    {
     "name": "stdout",
     "output_type": "stream",
     "text": [
      "Baseline Loss: 4.3583 | Actual Loss: 1.3797\n",
      "Epoch 86/300: Train Loss: 1.6141, Val Loss: 1.3797\n",
      "New best validation loss: 1.3797\n",
      "Baseline Loss: 4.3464 | Actual Loss: 1.7274\n",
      "Baseline Loss: 4.3209 | Actual Loss: 1.9791\n",
      "Baseline Loss: 4.3750 | Actual Loss: 1.3592\n",
      "Baseline Loss: 4.3714 | Actual Loss: 1.9850\n"
     ]
    },
    {
     "name": "stderr",
     "output_type": "stream",
     "text": [
      "Training:  29%|██▉       | 87/300 [01:28<03:41,  1.04s/it]"
     ]
    },
    {
     "name": "stdout",
     "output_type": "stream",
     "text": [
      "Baseline Loss: 4.3583 | Actual Loss: 1.4331\n",
      "Epoch 87/300: Train Loss: 1.7627, Val Loss: 1.4331\n",
      "Baseline Loss: 4.3410 | Actual Loss: 1.7251\n",
      "Baseline Loss: 4.3768 | Actual Loss: 1.5892\n",
      "Baseline Loss: 4.3811 | Actual Loss: 1.2879\n"
     ]
    },
    {
     "name": "stderr",
     "output_type": "stream",
     "text": [
      "Training:  29%|██▉       | 88/300 [01:29<03:35,  1.02s/it]"
     ]
    },
    {
     "name": "stdout",
     "output_type": "stream",
     "text": [
      "Baseline Loss: 4.2874 | Actual Loss: 1.7396\n",
      "Baseline Loss: 4.3583 | Actual Loss: 1.4386\n",
      "Epoch 88/300: Train Loss: 1.5855, Val Loss: 1.4386\n",
      "Baseline Loss: 4.4081 | Actual Loss: 1.9171\n",
      "Baseline Loss: 4.3486 | Actual Loss: 1.6382\n",
      "Baseline Loss: 4.3419 | Actual Loss: 1.6399\n",
      "Baseline Loss: 4.3207 | Actual Loss: 1.8098\n"
     ]
    },
    {
     "name": "stderr",
     "output_type": "stream",
     "text": [
      "Training:  30%|██▉       | 89/300 [01:30<03:37,  1.03s/it]"
     ]
    },
    {
     "name": "stdout",
     "output_type": "stream",
     "text": [
      "Baseline Loss: 4.3583 | Actual Loss: 1.4553\n",
      "Epoch 89/300: Train Loss: 1.7512, Val Loss: 1.4553\n",
      "Baseline Loss: 4.4345 | Actual Loss: 1.2884\n",
      "Baseline Loss: 4.3799 | Actual Loss: 1.6643\n",
      "Baseline Loss: 4.3381 | Actual Loss: 1.7280\n",
      "Baseline Loss: 4.2711 | Actual Loss: 1.5157\n"
     ]
    },
    {
     "name": "stderr",
     "output_type": "stream",
     "text": [
      "Training:  30%|███       | 90/300 [01:32<03:37,  1.04s/it]"
     ]
    },
    {
     "name": "stdout",
     "output_type": "stream",
     "text": [
      "Baseline Loss: 4.3583 | Actual Loss: 1.3726\n",
      "Epoch 90/300: Train Loss: 1.5491, Val Loss: 1.3726\n",
      "New best validation loss: 1.3726\n",
      "Baseline Loss: 4.3841 | Actual Loss: 1.8766\n",
      "Baseline Loss: 4.3164 | Actual Loss: 1.3953\n",
      "Baseline Loss: 4.3410 | Actual Loss: 1.3563\n"
     ]
    },
    {
     "name": "stderr",
     "output_type": "stream",
     "text": [
      "Training:  30%|███       | 91/300 [01:32<03:32,  1.02s/it]"
     ]
    },
    {
     "name": "stdout",
     "output_type": "stream",
     "text": [
      "Baseline Loss: 4.3651 | Actual Loss: 1.7400\n",
      "Baseline Loss: 4.3583 | Actual Loss: 1.6179\n",
      "Epoch 91/300: Train Loss: 1.5920, Val Loss: 1.6179\n",
      "Baseline Loss: 4.3391 | Actual Loss: 1.7273\n",
      "Baseline Loss: 4.4213 | Actual Loss: 1.2984\n",
      "Baseline Loss: 4.3677 | Actual Loss: 1.4748\n",
      "Baseline Loss: 4.2561 | Actual Loss: 1.5803\n"
     ]
    },
    {
     "name": "stderr",
     "output_type": "stream",
     "text": [
      "Training:  31%|███       | 92/300 [01:34<03:33,  1.03s/it]"
     ]
    },
    {
     "name": "stdout",
     "output_type": "stream",
     "text": [
      "Baseline Loss: 4.3583 | Actual Loss: 1.5418\n",
      "Epoch 92/300: Train Loss: 1.5202, Val Loss: 1.5418\n",
      "Baseline Loss: 4.2982 | Actual Loss: 1.7135\n",
      "Baseline Loss: 4.3579 | Actual Loss: 1.4792\n",
      "Baseline Loss: 4.4229 | Actual Loss: 1.4273\n",
      "Baseline Loss: 4.3154 | Actual Loss: 1.5279\n"
     ]
    },
    {
     "name": "stderr",
     "output_type": "stream",
     "text": [
      "Training:  31%|███       | 93/300 [01:35<03:33,  1.03s/it]"
     ]
    },
    {
     "name": "stdout",
     "output_type": "stream",
     "text": [
      "Baseline Loss: 4.3583 | Actual Loss: 1.3960\n",
      "Epoch 93/300: Train Loss: 1.5370, Val Loss: 1.3960\n",
      "Baseline Loss: 4.4400 | Actual Loss: 1.4192\n",
      "Baseline Loss: 4.3607 | Actual Loss: 1.5749\n",
      "Baseline Loss: 4.3901 | Actual Loss: 1.3932\n",
      "Baseline Loss: 4.2423 | Actual Loss: 1.5284\n"
     ]
    },
    {
     "name": "stderr",
     "output_type": "stream",
     "text": [
      "Training:  31%|███▏      | 94/300 [01:36<03:32,  1.03s/it]"
     ]
    },
    {
     "name": "stdout",
     "output_type": "stream",
     "text": [
      "Baseline Loss: 4.3583 | Actual Loss: 1.3006\n",
      "Epoch 94/300: Train Loss: 1.4789, Val Loss: 1.3006\n",
      "New best validation loss: 1.3006\n",
      "Baseline Loss: 4.3573 | Actual Loss: 1.3382\n",
      "Baseline Loss: 4.3993 | Actual Loss: 1.9007\n",
      "Baseline Loss: 4.3537 | Actual Loss: 1.6002\n",
      "Baseline Loss: 4.2997 | Actual Loss: 1.5197\n"
     ]
    },
    {
     "name": "stderr",
     "output_type": "stream",
     "text": [
      "Training:  32%|███▏      | 95/300 [01:37<03:31,  1.03s/it]"
     ]
    },
    {
     "name": "stdout",
     "output_type": "stream",
     "text": [
      "Baseline Loss: 4.3583 | Actual Loss: 1.5282\n",
      "Epoch 95/300: Train Loss: 1.5897, Val Loss: 1.5282\n",
      "Baseline Loss: 4.3802 | Actual Loss: 1.3543\n",
      "Baseline Loss: 4.3738 | Actual Loss: 1.6067\n",
      "Baseline Loss: 4.3857 | Actual Loss: 1.5099\n",
      "Baseline Loss: 4.2519 | Actual Loss: 1.4378\n"
     ]
    },
    {
     "name": "stderr",
     "output_type": "stream",
     "text": [
      "Training:  32%|███▏      | 96/300 [01:38<03:25,  1.01s/it]"
     ]
    },
    {
     "name": "stdout",
     "output_type": "stream",
     "text": [
      "Baseline Loss: 4.3583 | Actual Loss: 1.4045\n",
      "Epoch 96/300: Train Loss: 1.4772, Val Loss: 1.4045\n",
      "Baseline Loss: 4.3460 | Actual Loss: 1.6067\n",
      "Baseline Loss: 4.4077 | Actual Loss: 1.8034\n",
      "Baseline Loss: 4.3478 | Actual Loss: 1.2583\n",
      "Baseline Loss: 4.3170 | Actual Loss: 1.4245\n"
     ]
    },
    {
     "name": "stderr",
     "output_type": "stream",
     "text": [
      "Training:  32%|███▏      | 97/300 [01:39<03:26,  1.01s/it]"
     ]
    },
    {
     "name": "stdout",
     "output_type": "stream",
     "text": [
      "Baseline Loss: 4.3583 | Actual Loss: 1.4191\n",
      "Epoch 97/300: Train Loss: 1.5232, Val Loss: 1.4191\n",
      "Baseline Loss: 4.3825 | Actual Loss: 1.2322\n",
      "Baseline Loss: 4.4031 | Actual Loss: 1.5405\n",
      "Baseline Loss: 4.3270 | Actual Loss: 1.5811\n",
      "Baseline Loss: 4.2869 | Actual Loss: 1.6206\n"
     ]
    },
    {
     "name": "stderr",
     "output_type": "stream",
     "text": [
      "Training:  33%|███▎      | 98/300 [01:40<03:25,  1.02s/it]"
     ]
    },
    {
     "name": "stdout",
     "output_type": "stream",
     "text": [
      "Baseline Loss: 4.3583 | Actual Loss: 1.3206\n",
      "Epoch 98/300: Train Loss: 1.4936, Val Loss: 1.3206\n",
      "Baseline Loss: 4.3588 | Actual Loss: 1.3586\n",
      "Baseline Loss: 4.4042 | Actual Loss: 1.4265\n",
      "Baseline Loss: 4.3726 | Actual Loss: 1.7094\n",
      "Baseline Loss: 4.3009 | Actual Loss: 1.2398\n"
     ]
    },
    {
     "name": "stderr",
     "output_type": "stream",
     "text": [
      "Training:  33%|███▎      | 99/300 [01:41<03:26,  1.03s/it]"
     ]
    },
    {
     "name": "stdout",
     "output_type": "stream",
     "text": [
      "Baseline Loss: 4.3583 | Actual Loss: 1.4136\n",
      "Epoch 99/300: Train Loss: 1.4336, Val Loss: 1.4136\n",
      "Baseline Loss: 4.3711 | Actual Loss: 1.9058\n",
      "Baseline Loss: 4.3825 | Actual Loss: 1.2194\n",
      "Baseline Loss: 4.3400 | Actual Loss: 1.5889\n",
      "Baseline Loss: 4.2984 | Actual Loss: 1.5080\n"
     ]
    },
    {
     "name": "stderr",
     "output_type": "stream",
     "text": [
      "Training:  33%|███▎      | 100/300 [01:42<03:25,  1.03s/it]"
     ]
    },
    {
     "name": "stdout",
     "output_type": "stream",
     "text": [
      "Baseline Loss: 4.3583 | Actual Loss: 1.4658\n",
      "Epoch 100/300: Train Loss: 1.5555, Val Loss: 1.4658\n",
      "Baseline Loss: 4.3535 | Actual Loss: 1.4631\n",
      "Baseline Loss: 4.3848 | Actual Loss: 1.2900\n",
      "Baseline Loss: 4.4112 | Actual Loss: 1.7205\n",
      "Baseline Loss: 4.2676 | Actual Loss: 1.4133\n"
     ]
    },
    {
     "name": "stderr",
     "output_type": "stream",
     "text": [
      "Training:  34%|███▎      | 101/300 [01:43<03:24,  1.03s/it]"
     ]
    },
    {
     "name": "stdout",
     "output_type": "stream",
     "text": [
      "Baseline Loss: 4.3583 | Actual Loss: 1.4066\n",
      "Epoch 101/300: Train Loss: 1.4717, Val Loss: 1.4066\n",
      "Baseline Loss: 4.3792 | Actual Loss: 1.1785\n",
      "Baseline Loss: 4.3508 | Actual Loss: 1.6645\n",
      "Baseline Loss: 4.3464 | Actual Loss: 1.3960\n",
      "Baseline Loss: 4.2955 | Actual Loss: 1.6197\n"
     ]
    },
    {
     "name": "stderr",
     "output_type": "stream",
     "text": [
      "Training:  34%|███▍      | 102/300 [01:44<03:19,  1.01s/it]"
     ]
    },
    {
     "name": "stdout",
     "output_type": "stream",
     "text": [
      "Baseline Loss: 4.3583 | Actual Loss: 1.2516\n",
      "Epoch 102/300: Train Loss: 1.4647, Val Loss: 1.2516\n",
      "New best validation loss: 1.2516\n",
      "Baseline Loss: 4.3466 | Actual Loss: 1.5530\n",
      "Baseline Loss: 4.3410 | Actual Loss: 1.4490\n",
      "Baseline Loss: 4.4099 | Actual Loss: 1.6075\n",
      "Baseline Loss: 4.2919 | Actual Loss: 1.4716\n"
     ]
    },
    {
     "name": "stderr",
     "output_type": "stream",
     "text": [
      "Training:  34%|███▍      | 103/300 [01:45<03:21,  1.02s/it]"
     ]
    },
    {
     "name": "stdout",
     "output_type": "stream",
     "text": [
      "Baseline Loss: 4.3583 | Actual Loss: 1.3983\n",
      "Epoch 103/300: Train Loss: 1.5203, Val Loss: 1.3983\n",
      "Baseline Loss: 4.3323 | Actual Loss: 1.5127\n",
      "Baseline Loss: 4.3861 | Actual Loss: 1.4351\n",
      "Baseline Loss: 4.3799 | Actual Loss: 1.4301\n"
     ]
    },
    {
     "name": "stderr",
     "output_type": "stream",
     "text": [
      "Training:  35%|███▍      | 104/300 [01:46<03:16,  1.00s/it]"
     ]
    },
    {
     "name": "stdout",
     "output_type": "stream",
     "text": [
      "Baseline Loss: 4.3262 | Actual Loss: 1.5209\n",
      "Baseline Loss: 4.3583 | Actual Loss: 1.3610\n",
      "Epoch 104/300: Train Loss: 1.4747, Val Loss: 1.3610\n",
      "Baseline Loss: 4.3220 | Actual Loss: 1.3534\n",
      "Baseline Loss: 4.4223 | Actual Loss: 1.5339\n",
      "Baseline Loss: 4.3703 | Actual Loss: 1.9245\n",
      "Baseline Loss: 4.3134 | Actual Loss: 1.3543\n"
     ]
    },
    {
     "name": "stderr",
     "output_type": "stream",
     "text": [
      "Training:  35%|███▌      | 105/300 [01:47<03:18,  1.02s/it]"
     ]
    },
    {
     "name": "stdout",
     "output_type": "stream",
     "text": [
      "Baseline Loss: 4.3583 | Actual Loss: 1.3579\n",
      "Epoch 105/300: Train Loss: 1.5415, Val Loss: 1.3579\n",
      "Baseline Loss: 4.4358 | Actual Loss: 1.3269\n",
      "Baseline Loss: 4.4073 | Actual Loss: 1.2981\n",
      "Baseline Loss: 4.3362 | Actual Loss: 1.5101\n",
      "Baseline Loss: 4.2230 | Actual Loss: 1.6234\n"
     ]
    },
    {
     "name": "stderr",
     "output_type": "stream",
     "text": [
      "Training:  35%|███▌      | 106/300 [01:48<03:16,  1.01s/it]"
     ]
    },
    {
     "name": "stdout",
     "output_type": "stream",
     "text": [
      "Baseline Loss: 4.3583 | Actual Loss: 1.6237\n",
      "Epoch 106/300: Train Loss: 1.4396, Val Loss: 1.6237\n",
      "Baseline Loss: 4.4112 | Actual Loss: 1.9629\n",
      "Baseline Loss: 4.3632 | Actual Loss: 1.1831\n",
      "Baseline Loss: 4.3411 | Actual Loss: 1.8571\n",
      "Baseline Loss: 4.2567 | Actual Loss: 1.2969\n"
     ]
    },
    {
     "name": "stderr",
     "output_type": "stream",
     "text": [
      "Training:  36%|███▌      | 107/300 [01:49<03:16,  1.02s/it]"
     ]
    },
    {
     "name": "stdout",
     "output_type": "stream",
     "text": [
      "Baseline Loss: 4.3583 | Actual Loss: 1.3864\n",
      "Epoch 107/300: Train Loss: 1.5750, Val Loss: 1.3864\n",
      "Baseline Loss: 4.3726 | Actual Loss: 1.6066\n",
      "Baseline Loss: 4.3786 | Actual Loss: 1.5129\n",
      "Baseline Loss: 4.3436 | Actual Loss: 1.5006\n",
      "Baseline Loss: 4.3230 | Actual Loss: 1.8899\n"
     ]
    },
    {
     "name": "stderr",
     "output_type": "stream",
     "text": [
      "Training:  36%|███▌      | 108/300 [01:50<03:14,  1.01s/it]"
     ]
    },
    {
     "name": "stdout",
     "output_type": "stream",
     "text": [
      "Baseline Loss: 4.3583 | Actual Loss: 1.3543\n",
      "Epoch 108/300: Train Loss: 1.6275, Val Loss: 1.3543\n",
      "Baseline Loss: 4.3775 | Actual Loss: 1.7469\n",
      "Baseline Loss: 4.3751 | Actual Loss: 1.2922\n",
      "Baseline Loss: 4.3673 | Actual Loss: 1.4836\n",
      "Baseline Loss: 4.3250 | Actual Loss: 1.5722\n"
     ]
    },
    {
     "name": "stderr",
     "output_type": "stream",
     "text": [
      "Training:  36%|███▋      | 109/300 [01:51<03:13,  1.01s/it]"
     ]
    },
    {
     "name": "stdout",
     "output_type": "stream",
     "text": [
      "Baseline Loss: 4.3583 | Actual Loss: 1.2972\n",
      "Epoch 109/300: Train Loss: 1.5237, Val Loss: 1.2972\n",
      "Baseline Loss: 4.3278 | Actual Loss: 1.5672\n",
      "Baseline Loss: 4.4417 | Actual Loss: 1.2098\n",
      "Baseline Loss: 4.3041 | Actual Loss: 1.6941\n"
     ]
    },
    {
     "name": "stderr",
     "output_type": "stream",
     "text": [
      "Training:  37%|███▋      | 110/300 [01:52<03:11,  1.01s/it]"
     ]
    },
    {
     "name": "stdout",
     "output_type": "stream",
     "text": [
      "Baseline Loss: 4.3387 | Actual Loss: 1.3774\n",
      "Baseline Loss: 4.3583 | Actual Loss: 1.6482\n",
      "Epoch 110/300: Train Loss: 1.4621, Val Loss: 1.6482\n",
      "Baseline Loss: 4.3926 | Actual Loss: 1.5437\n",
      "Baseline Loss: 4.3554 | Actual Loss: 1.5911\n",
      "Baseline Loss: 4.3444 | Actual Loss: 1.3234\n",
      "Baseline Loss: 4.3438 | Actual Loss: 1.2170\n"
     ]
    },
    {
     "name": "stderr",
     "output_type": "stream",
     "text": [
      "Training:  37%|███▋      | 111/300 [01:53<03:12,  1.02s/it]"
     ]
    },
    {
     "name": "stdout",
     "output_type": "stream",
     "text": [
      "Baseline Loss: 4.3583 | Actual Loss: 1.3881\n",
      "Epoch 111/300: Train Loss: 1.4188, Val Loss: 1.3881\n",
      "Baseline Loss: 4.4298 | Actual Loss: 1.6295\n",
      "Baseline Loss: 4.3196 | Actual Loss: 1.6717\n",
      "Baseline Loss: 4.3776 | Actual Loss: 1.4696\n",
      "Baseline Loss: 4.2760 | Actual Loss: 1.2232\n"
     ]
    },
    {
     "name": "stderr",
     "output_type": "stream",
     "text": [
      "Training:  37%|███▋      | 112/300 [01:54<03:06,  1.01it/s]"
     ]
    },
    {
     "name": "stdout",
     "output_type": "stream",
     "text": [
      "Baseline Loss: 4.3583 | Actual Loss: 1.3259\n",
      "Epoch 112/300: Train Loss: 1.4985, Val Loss: 1.3259\n",
      "Baseline Loss: 4.3668 | Actual Loss: 1.3964\n",
      "Baseline Loss: 4.4570 | Actual Loss: 1.5253\n",
      "Baseline Loss: 4.3408 | Actual Loss: 1.4119\n",
      "Baseline Loss: 4.2741 | Actual Loss: 1.8136\n"
     ]
    },
    {
     "name": "stderr",
     "output_type": "stream",
     "text": [
      "Training:  38%|███▊      | 113/300 [01:55<03:08,  1.01s/it]"
     ]
    },
    {
     "name": "stdout",
     "output_type": "stream",
     "text": [
      "Baseline Loss: 4.3583 | Actual Loss: 1.4153\n",
      "Epoch 113/300: Train Loss: 1.5368, Val Loss: 1.4153\n",
      "Baseline Loss: 4.3741 | Actual Loss: 1.0889\n",
      "Baseline Loss: 4.3548 | Actual Loss: 1.9240\n",
      "Baseline Loss: 4.3669 | Actual Loss: 1.5299\n",
      "Baseline Loss: 4.2997 | Actual Loss: 1.4474\n"
     ]
    },
    {
     "name": "stderr",
     "output_type": "stream",
     "text": [
      "Training:  38%|███▊      | 114/300 [01:56<03:08,  1.01s/it]"
     ]
    },
    {
     "name": "stdout",
     "output_type": "stream",
     "text": [
      "Baseline Loss: 4.3583 | Actual Loss: 1.3567\n",
      "Epoch 114/300: Train Loss: 1.4975, Val Loss: 1.3567\n",
      "Baseline Loss: 4.4370 | Actual Loss: 1.4614\n",
      "Baseline Loss: 4.3726 | Actual Loss: 1.6317\n",
      "Baseline Loss: 4.3890 | Actual Loss: 1.5335\n",
      "Baseline Loss: 4.2528 | Actual Loss: 1.2612\n"
     ]
    },
    {
     "name": "stderr",
     "output_type": "stream",
     "text": [
      "Training:  38%|███▊      | 115/300 [01:57<03:08,  1.02s/it]"
     ]
    },
    {
     "name": "stdout",
     "output_type": "stream",
     "text": [
      "Baseline Loss: 4.3583 | Actual Loss: 1.3847\n",
      "Epoch 115/300: Train Loss: 1.4720, Val Loss: 1.3847\n",
      "Baseline Loss: 4.3690 | Actual Loss: 1.7691\n",
      "Baseline Loss: 4.3790 | Actual Loss: 1.9287\n",
      "Baseline Loss: 4.3738 | Actual Loss: 1.3933\n",
      "Baseline Loss: 4.2191 | Actual Loss: 1.2413\n"
     ]
    },
    {
     "name": "stderr",
     "output_type": "stream",
     "text": [
      "Training:  39%|███▊      | 116/300 [01:58<03:02,  1.01it/s]"
     ]
    },
    {
     "name": "stdout",
     "output_type": "stream",
     "text": [
      "Baseline Loss: 4.3583 | Actual Loss: 1.2600\n",
      "Epoch 116/300: Train Loss: 1.5831, Val Loss: 1.2600\n",
      "Baseline Loss: 4.3662 | Actual Loss: 1.6755\n",
      "Baseline Loss: 4.3443 | Actual Loss: 1.4527\n",
      "Baseline Loss: 4.3939 | Actual Loss: 1.1897\n",
      "Baseline Loss: 4.2920 | Actual Loss: 1.2609\n"
     ]
    },
    {
     "name": "stderr",
     "output_type": "stream",
     "text": [
      "Training:  39%|███▉      | 117/300 [01:59<03:04,  1.01s/it]"
     ]
    },
    {
     "name": "stdout",
     "output_type": "stream",
     "text": [
      "Baseline Loss: 4.3583 | Actual Loss: 1.4145\n",
      "Epoch 117/300: Train Loss: 1.3947, Val Loss: 1.4145\n",
      "Baseline Loss: 4.3556 | Actual Loss: 1.3622\n",
      "Baseline Loss: 4.3836 | Actual Loss: 1.2456\n",
      "Baseline Loss: 4.4135 | Actual Loss: 1.5961\n",
      "Baseline Loss: 4.2868 | Actual Loss: 1.3879\n"
     ]
    },
    {
     "name": "stderr",
     "output_type": "stream",
     "text": [
      "Training:  39%|███▉      | 118/300 [02:00<03:03,  1.01s/it]"
     ]
    },
    {
     "name": "stdout",
     "output_type": "stream",
     "text": [
      "Baseline Loss: 4.3583 | Actual Loss: 1.4094\n",
      "Epoch 118/300: Train Loss: 1.3980, Val Loss: 1.4094\n",
      "Baseline Loss: 4.3805 | Actual Loss: 1.3848\n",
      "Baseline Loss: 4.3819 | Actual Loss: 1.7187\n",
      "Baseline Loss: 4.3884 | Actual Loss: 1.3667\n",
      "Baseline Loss: 4.3125 | Actual Loss: 1.1448\n"
     ]
    },
    {
     "name": "stderr",
     "output_type": "stream",
     "text": [
      "Training:  40%|███▉      | 119/300 [02:01<03:03,  1.01s/it]"
     ]
    },
    {
     "name": "stdout",
     "output_type": "stream",
     "text": [
      "Baseline Loss: 4.3583 | Actual Loss: 1.2937\n",
      "Epoch 119/300: Train Loss: 1.4037, Val Loss: 1.2937\n",
      "Baseline Loss: 4.3393 | Actual Loss: 1.5848\n",
      "Baseline Loss: 4.3213 | Actual Loss: 1.4625\n",
      "Baseline Loss: 4.3932 | Actual Loss: 1.2054\n",
      "Baseline Loss: 4.3297 | Actual Loss: 1.3664\n"
     ]
    },
    {
     "name": "stderr",
     "output_type": "stream",
     "text": [
      "Training:  40%|████      | 120/300 [02:02<03:02,  1.01s/it]"
     ]
    },
    {
     "name": "stdout",
     "output_type": "stream",
     "text": [
      "Baseline Loss: 4.3583 | Actual Loss: 1.3458\n",
      "Epoch 120/300: Train Loss: 1.4048, Val Loss: 1.3458\n",
      "Baseline Loss: 4.4128 | Actual Loss: 1.1877\n",
      "Baseline Loss: 4.4038 | Actual Loss: 1.9879\n",
      "Baseline Loss: 4.3144 | Actual Loss: 1.3257\n",
      "Baseline Loss: 4.2949 | Actual Loss: 1.5226\n"
     ]
    },
    {
     "name": "stderr",
     "output_type": "stream",
     "text": [
      "Training:  40%|████      | 121/300 [02:03<03:01,  1.02s/it]"
     ]
    },
    {
     "name": "stdout",
     "output_type": "stream",
     "text": [
      "Baseline Loss: 4.3583 | Actual Loss: 1.4760\n",
      "Epoch 121/300: Train Loss: 1.5060, Val Loss: 1.4760\n",
      "Baseline Loss: 4.3956 | Actual Loss: 1.3928\n",
      "Baseline Loss: 4.3832 | Actual Loss: 1.4769\n",
      "Baseline Loss: 4.4087 | Actual Loss: 1.3288\n",
      "Baseline Loss: 4.2434 | Actual Loss: 1.4069\n"
     ]
    },
    {
     "name": "stderr",
     "output_type": "stream",
     "text": [
      "Training:  41%|████      | 122/300 [02:04<03:01,  1.02s/it]"
     ]
    },
    {
     "name": "stdout",
     "output_type": "stream",
     "text": [
      "Baseline Loss: 4.3583 | Actual Loss: 1.4213\n",
      "Epoch 122/300: Train Loss: 1.4013, Val Loss: 1.4213\n",
      "Baseline Loss: 4.3944 | Actual Loss: 1.3580\n",
      "Baseline Loss: 4.3467 | Actual Loss: 1.5717\n",
      "Baseline Loss: 4.3631 | Actual Loss: 1.3501\n",
      "Baseline Loss: 4.3197 | Actual Loss: 1.4959\n",
      "Baseline Loss: 4.3583 | Actual Loss: 1.3984\n"
     ]
    },
    {
     "name": "stderr",
     "output_type": "stream",
     "text": [
      "Training:  41%|████      | 123/300 [02:05<02:59,  1.01s/it]"
     ]
    },
    {
     "name": "stdout",
     "output_type": "stream",
     "text": [
      "Epoch 123/300: Train Loss: 1.4439, Val Loss: 1.3984\n",
      "Baseline Loss: 4.3909 | Actual Loss: 1.7401\n",
      "Baseline Loss: 4.3721 | Actual Loss: 1.3342\n",
      "Baseline Loss: 4.3908 | Actual Loss: 1.4568\n",
      "Baseline Loss: 4.2760 | Actual Loss: 1.3127\n"
     ]
    },
    {
     "name": "stderr",
     "output_type": "stream",
     "text": [
      "Training:  41%|████▏     | 124/300 [02:06<02:57,  1.01s/it]"
     ]
    },
    {
     "name": "stdout",
     "output_type": "stream",
     "text": [
      "Baseline Loss: 4.3583 | Actual Loss: 1.3265\n",
      "Epoch 124/300: Train Loss: 1.4609, Val Loss: 1.3265\n",
      "Baseline Loss: 4.3667 | Actual Loss: 1.3317\n",
      "Baseline Loss: 4.4081 | Actual Loss: 1.5626\n",
      "Baseline Loss: 4.3433 | Actual Loss: 1.8061\n",
      "Baseline Loss: 4.2856 | Actual Loss: 1.2640\n"
     ]
    },
    {
     "name": "stderr",
     "output_type": "stream",
     "text": [
      "Training:  42%|████▏     | 125/300 [02:07<02:57,  1.02s/it]"
     ]
    },
    {
     "name": "stdout",
     "output_type": "stream",
     "text": [
      "Baseline Loss: 4.3583 | Actual Loss: 1.3881\n",
      "Epoch 125/300: Train Loss: 1.4911, Val Loss: 1.3881\n",
      "Baseline Loss: 4.4180 | Actual Loss: 1.3543\n",
      "Baseline Loss: 4.4204 | Actual Loss: 1.4806\n",
      "Baseline Loss: 4.3627 | Actual Loss: 1.4938\n",
      "Baseline Loss: 4.2399 | Actual Loss: 1.3519\n"
     ]
    },
    {
     "name": "stderr",
     "output_type": "stream",
     "text": [
      "Training:  42%|████▏     | 126/300 [02:08<02:56,  1.02s/it]"
     ]
    },
    {
     "name": "stdout",
     "output_type": "stream",
     "text": [
      "Baseline Loss: 4.3583 | Actual Loss: 1.5216\n",
      "Epoch 126/300: Train Loss: 1.4202, Val Loss: 1.5216\n",
      "Baseline Loss: 4.4144 | Actual Loss: 1.2898\n",
      "Baseline Loss: 4.4127 | Actual Loss: 1.5984\n",
      "Baseline Loss: 4.3473 | Actual Loss: 1.5981\n",
      "Baseline Loss: 4.2431 | Actual Loss: 1.6313\n",
      "Baseline Loss: 4.3583 | Actual Loss: 1.4217\n",
      "Epoch 127/300: Train Loss: 1.5294, Val Loss: 1.4217\n"
     ]
    },
    {
     "name": "stderr",
     "output_type": "stream",
     "text": [
      "Training:  42%|████▏     | 127/300 [02:09<02:52,  1.00it/s]"
     ]
    },
    {
     "name": "stdout",
     "output_type": "stream",
     "text": [
      "Baseline Loss: 4.3503 | Actual Loss: 1.3968\n",
      "Baseline Loss: 4.4389 | Actual Loss: 1.6152\n",
      "Baseline Loss: 4.3667 | Actual Loss: 1.2449\n",
      "Baseline Loss: 4.2817 | Actual Loss: 1.3937\n"
     ]
    },
    {
     "name": "stderr",
     "output_type": "stream",
     "text": [
      "Training:  43%|████▎     | 128/300 [02:10<02:51,  1.00it/s]"
     ]
    },
    {
     "name": "stdout",
     "output_type": "stream",
     "text": [
      "Baseline Loss: 4.3583 | Actual Loss: 1.3309\n",
      "Epoch 128/300: Train Loss: 1.4127, Val Loss: 1.3309\n",
      "Baseline Loss: 4.3794 | Actual Loss: 1.8078\n",
      "Baseline Loss: 4.4577 | Actual Loss: 1.4181\n",
      "Baseline Loss: 4.3190 | Actual Loss: 1.5674\n",
      "Baseline Loss: 4.2639 | Actual Loss: 1.1226\n"
     ]
    },
    {
     "name": "stderr",
     "output_type": "stream",
     "text": [
      "Training:  43%|████▎     | 129/300 [02:11<02:52,  1.01s/it]"
     ]
    },
    {
     "name": "stdout",
     "output_type": "stream",
     "text": [
      "Baseline Loss: 4.3583 | Actual Loss: 1.2968\n",
      "Epoch 129/300: Train Loss: 1.4790, Val Loss: 1.2968\n",
      "Baseline Loss: 4.3976 | Actual Loss: 1.3844\n",
      "Baseline Loss: 4.3438 | Actual Loss: 1.6966\n",
      "Baseline Loss: 4.4026 | Actual Loss: 1.5661\n",
      "Baseline Loss: 4.2676 | Actual Loss: 1.2698\n"
     ]
    },
    {
     "name": "stderr",
     "output_type": "stream",
     "text": [
      "Training:  43%|████▎     | 130/300 [02:12<02:52,  1.01s/it]"
     ]
    },
    {
     "name": "stdout",
     "output_type": "stream",
     "text": [
      "Baseline Loss: 4.3583 | Actual Loss: 1.2516\n",
      "Epoch 130/300: Train Loss: 1.4792, Val Loss: 1.2516\n",
      "Baseline Loss: 4.3758 | Actual Loss: 1.3407\n",
      "Baseline Loss: 4.3471 | Actual Loss: 1.2546\n",
      "Baseline Loss: 4.3921 | Actual Loss: 1.4080\n",
      "Baseline Loss: 4.2969 | Actual Loss: 1.2772\n"
     ]
    },
    {
     "name": "stderr",
     "output_type": "stream",
     "text": [
      "Training:  44%|████▎     | 131/300 [02:13<02:51,  1.02s/it]"
     ]
    },
    {
     "name": "stdout",
     "output_type": "stream",
     "text": [
      "Baseline Loss: 4.3583 | Actual Loss: 1.2548\n",
      "Epoch 131/300: Train Loss: 1.3201, Val Loss: 1.2548\n",
      "Baseline Loss: 4.3642 | Actual Loss: 1.3219\n",
      "Baseline Loss: 4.3467 | Actual Loss: 1.6375\n",
      "Baseline Loss: 4.3922 | Actual Loss: 1.3824\n",
      "Baseline Loss: 4.3213 | Actual Loss: 1.5460\n"
     ]
    },
    {
     "name": "stderr",
     "output_type": "stream",
     "text": [
      "Training:  44%|████▍     | 132/300 [02:14<02:52,  1.02s/it]"
     ]
    },
    {
     "name": "stdout",
     "output_type": "stream",
     "text": [
      "Baseline Loss: 4.3583 | Actual Loss: 1.2491\n",
      "Epoch 132/300: Train Loss: 1.4720, Val Loss: 1.2491\n",
      "New best validation loss: 1.2491\n",
      "Baseline Loss: 4.3481 | Actual Loss: 1.3627\n",
      "Baseline Loss: 4.3503 | Actual Loss: 1.5673\n",
      "Baseline Loss: 4.3866 | Actual Loss: 1.0660\n",
      "Baseline Loss: 4.3105 | Actual Loss: 1.3840\n"
     ]
    },
    {
     "name": "stderr",
     "output_type": "stream",
     "text": [
      "Training:  44%|████▍     | 133/300 [02:15<02:48,  1.01s/it]"
     ]
    },
    {
     "name": "stdout",
     "output_type": "stream",
     "text": [
      "Baseline Loss: 4.3583 | Actual Loss: 1.1631\n",
      "Epoch 133/300: Train Loss: 1.3450, Val Loss: 1.1631\n",
      "New best validation loss: 1.1631\n",
      "Baseline Loss: 4.3927 | Actual Loss: 1.3600\n",
      "Baseline Loss: 4.3721 | Actual Loss: 1.2791\n",
      "Baseline Loss: 4.3667 | Actual Loss: 1.3111\n",
      "Baseline Loss: 4.2843 | Actual Loss: 1.7519\n"
     ]
    },
    {
     "name": "stderr",
     "output_type": "stream",
     "text": [
      "Training:  45%|████▍     | 134/300 [02:16<02:48,  1.01s/it]"
     ]
    },
    {
     "name": "stdout",
     "output_type": "stream",
     "text": [
      "Baseline Loss: 4.3583 | Actual Loss: 1.2415\n",
      "Epoch 134/300: Train Loss: 1.4255, Val Loss: 1.2415\n",
      "Baseline Loss: 4.4030 | Actual Loss: 1.4707\n",
      "Baseline Loss: 4.3467 | Actual Loss: 1.2861\n",
      "Baseline Loss: 4.4249 | Actual Loss: 1.3155\n",
      "Baseline Loss: 4.2411 | Actual Loss: 1.2614\n"
     ]
    },
    {
     "name": "stderr",
     "output_type": "stream",
     "text": [
      "Training:  45%|████▌     | 135/300 [02:17<02:48,  1.02s/it]"
     ]
    },
    {
     "name": "stdout",
     "output_type": "stream",
     "text": [
      "Baseline Loss: 4.3583 | Actual Loss: 1.3012\n",
      "Epoch 135/300: Train Loss: 1.3334, Val Loss: 1.3012\n",
      "Baseline Loss: 4.3186 | Actual Loss: 1.2698\n",
      "Baseline Loss: 4.3982 | Actual Loss: 1.5032\n",
      "Baseline Loss: 4.4179 | Actual Loss: 1.4774\n",
      "Baseline Loss: 4.2796 | Actual Loss: 1.6865\n"
     ]
    },
    {
     "name": "stderr",
     "output_type": "stream",
     "text": [
      "Training:  45%|████▌     | 136/300 [02:18<02:47,  1.02s/it]"
     ]
    },
    {
     "name": "stdout",
     "output_type": "stream",
     "text": [
      "Baseline Loss: 4.3583 | Actual Loss: 1.2717\n",
      "Epoch 136/300: Train Loss: 1.4842, Val Loss: 1.2717\n",
      "Baseline Loss: 4.3614 | Actual Loss: 1.3639\n",
      "Baseline Loss: 4.3685 | Actual Loss: 1.5304\n",
      "Baseline Loss: 4.4024 | Actual Loss: 1.1520\n",
      "Baseline Loss: 4.3183 | Actual Loss: 1.3554\n"
     ]
    },
    {
     "name": "stderr",
     "output_type": "stream",
     "text": [
      "Training:  46%|████▌     | 137/300 [02:19<02:42,  1.00it/s]"
     ]
    },
    {
     "name": "stdout",
     "output_type": "stream",
     "text": [
      "Baseline Loss: 4.3583 | Actual Loss: 1.2232\n",
      "Epoch 137/300: Train Loss: 1.3504, Val Loss: 1.2232\n",
      "Baseline Loss: 4.3530 | Actual Loss: 1.4954\n",
      "Baseline Loss: 4.3199 | Actual Loss: 1.1774\n",
      "Baseline Loss: 4.3957 | Actual Loss: 1.3181\n",
      "Baseline Loss: 4.3525 | Actual Loss: 2.1234\n"
     ]
    },
    {
     "name": "stderr",
     "output_type": "stream",
     "text": [
      "Training:  46%|████▌     | 138/300 [02:20<02:43,  1.01s/it]"
     ]
    },
    {
     "name": "stdout",
     "output_type": "stream",
     "text": [
      "Baseline Loss: 4.3583 | Actual Loss: 1.2508\n",
      "Epoch 138/300: Train Loss: 1.5286, Val Loss: 1.2508\n",
      "Baseline Loss: 4.4524 | Actual Loss: 1.5591\n",
      "Baseline Loss: 4.3854 | Actual Loss: 1.4358\n",
      "Baseline Loss: 4.3136 | Actual Loss: 1.5622\n",
      "Baseline Loss: 4.2527 | Actual Loss: 1.1691\n"
     ]
    },
    {
     "name": "stderr",
     "output_type": "stream",
     "text": [
      "Training:  46%|████▋     | 139/300 [02:21<02:43,  1.01s/it]"
     ]
    },
    {
     "name": "stdout",
     "output_type": "stream",
     "text": [
      "Baseline Loss: 4.3583 | Actual Loss: 1.5511\n",
      "Epoch 139/300: Train Loss: 1.4315, Val Loss: 1.5511\n",
      "Baseline Loss: 4.3633 | Actual Loss: 1.3723\n",
      "Baseline Loss: 4.3655 | Actual Loss: 1.6374\n",
      "Baseline Loss: 4.3532 | Actual Loss: 1.0846\n"
     ]
    },
    {
     "name": "stderr",
     "output_type": "stream",
     "text": [
      "Training:  47%|████▋     | 140/300 [02:22<02:38,  1.01it/s]"
     ]
    },
    {
     "name": "stdout",
     "output_type": "stream",
     "text": [
      "Baseline Loss: 4.3194 | Actual Loss: 1.5784\n",
      "Baseline Loss: 4.3583 | Actual Loss: 1.2350\n",
      "Epoch 140/300: Train Loss: 1.4182, Val Loss: 1.2350\n",
      "Baseline Loss: 4.3591 | Actual Loss: 1.5072\n",
      "Baseline Loss: 4.3666 | Actual Loss: 1.4136\n",
      "Baseline Loss: 4.3989 | Actual Loss: 1.7670\n",
      "Baseline Loss: 4.2861 | Actual Loss: 1.1630\n"
     ]
    },
    {
     "name": "stderr",
     "output_type": "stream",
     "text": [
      "Training:  47%|████▋     | 141/300 [02:23<02:39,  1.00s/it]"
     ]
    },
    {
     "name": "stdout",
     "output_type": "stream",
     "text": [
      "Baseline Loss: 4.3583 | Actual Loss: 1.2664\n",
      "Epoch 141/300: Train Loss: 1.4627, Val Loss: 1.2664\n",
      "Baseline Loss: 4.3680 | Actual Loss: 1.3837\n",
      "Baseline Loss: 4.3363 | Actual Loss: 1.3575\n",
      "Baseline Loss: 4.4350 | Actual Loss: 1.8926\n",
      "Baseline Loss: 4.2772 | Actual Loss: 1.3901\n"
     ]
    },
    {
     "name": "stderr",
     "output_type": "stream",
     "text": [
      "Training:  47%|████▋     | 142/300 [02:24<02:39,  1.01s/it]"
     ]
    },
    {
     "name": "stdout",
     "output_type": "stream",
     "text": [
      "Baseline Loss: 4.3583 | Actual Loss: 1.2187\n",
      "Epoch 142/300: Train Loss: 1.5060, Val Loss: 1.2187\n",
      "Baseline Loss: 4.4038 | Actual Loss: 1.3367\n",
      "Baseline Loss: 4.3544 | Actual Loss: 1.4621\n",
      "Baseline Loss: 4.3011 | Actual Loss: 1.3225\n",
      "Baseline Loss: 4.3211 | Actual Loss: 1.3238\n"
     ]
    },
    {
     "name": "stderr",
     "output_type": "stream",
     "text": [
      "Training:  48%|████▊     | 143/300 [02:25<02:39,  1.02s/it]"
     ]
    },
    {
     "name": "stdout",
     "output_type": "stream",
     "text": [
      "Baseline Loss: 4.3583 | Actual Loss: 1.2166\n",
      "Epoch 143/300: Train Loss: 1.3613, Val Loss: 1.2166\n",
      "Baseline Loss: 4.3529 | Actual Loss: 1.4852\n",
      "Baseline Loss: 4.3459 | Actual Loss: 1.6347\n",
      "Baseline Loss: 4.3585 | Actual Loss: 1.4197\n",
      "Baseline Loss: 4.3304 | Actual Loss: 1.1764\n"
     ]
    },
    {
     "name": "stderr",
     "output_type": "stream",
     "text": [
      "Training:  48%|████▊     | 144/300 [02:26<02:35,  1.01it/s]"
     ]
    },
    {
     "name": "stdout",
     "output_type": "stream",
     "text": [
      "Baseline Loss: 4.3583 | Actual Loss: 1.3099\n",
      "Epoch 144/300: Train Loss: 1.4290, Val Loss: 1.3099\n",
      "Baseline Loss: 4.3612 | Actual Loss: 1.3376\n",
      "Baseline Loss: 4.3626 | Actual Loss: 1.4140\n",
      "Baseline Loss: 4.4098 | Actual Loss: 1.5924\n",
      "Baseline Loss: 4.3054 | Actual Loss: 1.3672\n"
     ]
    },
    {
     "name": "stderr",
     "output_type": "stream",
     "text": [
      "Training:  48%|████▊     | 145/300 [02:27<02:35,  1.00s/it]"
     ]
    },
    {
     "name": "stdout",
     "output_type": "stream",
     "text": [
      "Baseline Loss: 4.3583 | Actual Loss: 1.2830\n",
      "Epoch 145/300: Train Loss: 1.4278, Val Loss: 1.2830\n",
      "Baseline Loss: 4.3502 | Actual Loss: 1.4623\n",
      "Baseline Loss: 4.3846 | Actual Loss: 1.4766\n",
      "Baseline Loss: 4.3703 | Actual Loss: 1.3721\n",
      "Baseline Loss: 4.3093 | Actual Loss: 1.3738\n"
     ]
    },
    {
     "name": "stderr",
     "output_type": "stream",
     "text": [
      "Training:  49%|████▊     | 146/300 [02:28<02:35,  1.01s/it]"
     ]
    },
    {
     "name": "stdout",
     "output_type": "stream",
     "text": [
      "Baseline Loss: 4.3583 | Actual Loss: 1.2644\n",
      "Epoch 146/300: Train Loss: 1.4212, Val Loss: 1.2644\n",
      "Baseline Loss: 4.3799 | Actual Loss: 1.5133\n",
      "Baseline Loss: 4.3579 | Actual Loss: 1.2222\n",
      "Baseline Loss: 4.3597 | Actual Loss: 1.4069\n",
      "Baseline Loss: 4.2922 | Actual Loss: 1.5587\n"
     ]
    },
    {
     "name": "stderr",
     "output_type": "stream",
     "text": [
      "Training:  49%|████▉     | 147/300 [02:29<02:34,  1.01s/it]"
     ]
    },
    {
     "name": "stdout",
     "output_type": "stream",
     "text": [
      "Baseline Loss: 4.3583 | Actual Loss: 1.2040\n",
      "Epoch 147/300: Train Loss: 1.4253, Val Loss: 1.2040\n",
      "Baseline Loss: 4.4161 | Actual Loss: 1.3444\n",
      "Baseline Loss: 4.3697 | Actual Loss: 1.3675\n",
      "Baseline Loss: 4.3388 | Actual Loss: 1.1643\n",
      "Baseline Loss: 4.3098 | Actual Loss: 1.6915\n"
     ]
    },
    {
     "name": "stderr",
     "output_type": "stream",
     "text": [
      "Training:  49%|████▉     | 148/300 [02:30<02:30,  1.01it/s]"
     ]
    },
    {
     "name": "stdout",
     "output_type": "stream",
     "text": [
      "Baseline Loss: 4.3583 | Actual Loss: 1.3587\n",
      "Epoch 148/300: Train Loss: 1.3919, Val Loss: 1.3587\n",
      "Baseline Loss: 4.3822 | Actual Loss: 1.3574\n",
      "Baseline Loss: 4.4105 | Actual Loss: 1.2254\n",
      "Baseline Loss: 4.3568 | Actual Loss: 1.4567\n",
      "Baseline Loss: 4.2776 | Actual Loss: 1.4459\n"
     ]
    },
    {
     "name": "stderr",
     "output_type": "stream",
     "text": [
      "Training:  50%|████▉     | 149/300 [02:31<02:31,  1.00s/it]"
     ]
    },
    {
     "name": "stdout",
     "output_type": "stream",
     "text": [
      "Baseline Loss: 4.3583 | Actual Loss: 1.4079\n",
      "Epoch 149/300: Train Loss: 1.3713, Val Loss: 1.4079\n",
      "Baseline Loss: 4.3352 | Actual Loss: 1.3860\n",
      "Baseline Loss: 4.4060 | Actual Loss: 1.2974\n",
      "Baseline Loss: 4.3573 | Actual Loss: 1.2084\n",
      "Baseline Loss: 4.3285 | Actual Loss: 1.7810\n"
     ]
    },
    {
     "name": "stderr",
     "output_type": "stream",
     "text": [
      "Training:  50%|█████     | 150/300 [02:32<02:31,  1.01s/it]"
     ]
    },
    {
     "name": "stdout",
     "output_type": "stream",
     "text": [
      "Baseline Loss: 4.3583 | Actual Loss: 1.3175\n",
      "Epoch 150/300: Train Loss: 1.4182, Val Loss: 1.3175\n",
      "Baseline Loss: 4.3667 | Actual Loss: 1.5917\n",
      "Baseline Loss: 4.3419 | Actual Loss: 1.3572\n",
      "Baseline Loss: 4.4068 | Actual Loss: 1.2757\n",
      "Baseline Loss: 4.3304 | Actual Loss: 1.5580\n"
     ]
    },
    {
     "name": "stderr",
     "output_type": "stream",
     "text": [
      "Training:  50%|█████     | 151/300 [02:33<02:30,  1.01s/it]"
     ]
    },
    {
     "name": "stdout",
     "output_type": "stream",
     "text": [
      "Baseline Loss: 4.3583 | Actual Loss: 1.2052\n",
      "Epoch 151/300: Train Loss: 1.4457, Val Loss: 1.2052\n",
      "Baseline Loss: 4.3462 | Actual Loss: 1.3616\n",
      "Baseline Loss: 4.3763 | Actual Loss: 1.2078\n",
      "Baseline Loss: 4.4287 | Actual Loss: 1.3089\n",
      "Baseline Loss: 4.2970 | Actual Loss: 1.3069\n",
      "Baseline Loss: 4.3583 | Actual Loss: 1.2396\n"
     ]
    },
    {
     "name": "stderr",
     "output_type": "stream",
     "text": [
      "Training:  51%|█████     | 152/300 [02:34<02:29,  1.01s/it]"
     ]
    },
    {
     "name": "stdout",
     "output_type": "stream",
     "text": [
      "Epoch 152/300: Train Loss: 1.2963, Val Loss: 1.2396\n",
      "Baseline Loss: 4.3415 | Actual Loss: 1.3372\n",
      "Baseline Loss: 4.3941 | Actual Loss: 1.2229\n",
      "Baseline Loss: 4.3841 | Actual Loss: 1.4078\n",
      "Baseline Loss: 4.3113 | Actual Loss: 1.2848\n"
     ]
    },
    {
     "name": "stderr",
     "output_type": "stream",
     "text": [
      "Training:  51%|█████     | 153/300 [02:35<02:29,  1.01s/it]"
     ]
    },
    {
     "name": "stdout",
     "output_type": "stream",
     "text": [
      "Baseline Loss: 4.3583 | Actual Loss: 1.2017\n",
      "Epoch 153/300: Train Loss: 1.3132, Val Loss: 1.2017\n",
      "Baseline Loss: 4.3639 | Actual Loss: 1.2954\n",
      "Baseline Loss: 4.3650 | Actual Loss: 1.3386\n",
      "Baseline Loss: 4.3794 | Actual Loss: 1.3789\n",
      "Baseline Loss: 4.2780 | Actual Loss: 1.1797\n"
     ]
    },
    {
     "name": "stderr",
     "output_type": "stream",
     "text": [
      "Training:  51%|█████▏    | 154/300 [02:36<02:24,  1.01it/s]"
     ]
    },
    {
     "name": "stdout",
     "output_type": "stream",
     "text": [
      "Baseline Loss: 4.3583 | Actual Loss: 1.4616\n",
      "Epoch 154/300: Train Loss: 1.2981, Val Loss: 1.4616\n",
      "Baseline Loss: 4.3154 | Actual Loss: 1.2139\n",
      "Baseline Loss: 4.3968 | Actual Loss: 1.3411\n",
      "Baseline Loss: 4.4023 | Actual Loss: 1.1940\n",
      "Baseline Loss: 4.2939 | Actual Loss: 1.7284\n"
     ]
    },
    {
     "name": "stderr",
     "output_type": "stream",
     "text": [
      "Training:  52%|█████▏    | 155/300 [02:37<02:25,  1.00s/it]"
     ]
    },
    {
     "name": "stdout",
     "output_type": "stream",
     "text": [
      "Baseline Loss: 4.3583 | Actual Loss: 1.2767\n",
      "Epoch 155/300: Train Loss: 1.3694, Val Loss: 1.2767\n",
      "Baseline Loss: 4.3727 | Actual Loss: 1.4779\n",
      "Baseline Loss: 4.3798 | Actual Loss: 1.2654\n",
      "Baseline Loss: 4.3527 | Actual Loss: 1.1907\n",
      "Baseline Loss: 4.3117 | Actual Loss: 1.4023\n"
     ]
    },
    {
     "name": "stderr",
     "output_type": "stream",
     "text": [
      "Training:  52%|█████▏    | 156/300 [02:38<02:25,  1.01s/it]"
     ]
    },
    {
     "name": "stdout",
     "output_type": "stream",
     "text": [
      "Baseline Loss: 4.3583 | Actual Loss: 1.2438\n",
      "Epoch 156/300: Train Loss: 1.3341, Val Loss: 1.2438\n",
      "Baseline Loss: 4.3557 | Actual Loss: 1.2260\n",
      "Baseline Loss: 4.3794 | Actual Loss: 1.1083\n",
      "Baseline Loss: 4.3944 | Actual Loss: 1.4114\n",
      "Baseline Loss: 4.3004 | Actual Loss: 2.9167\n"
     ]
    },
    {
     "name": "stderr",
     "output_type": "stream",
     "text": [
      "Training:  52%|█████▏    | 157/300 [02:39<02:22,  1.00it/s]"
     ]
    },
    {
     "name": "stdout",
     "output_type": "stream",
     "text": [
      "Baseline Loss: 4.3583 | Actual Loss: 1.2580\n",
      "Epoch 157/300: Train Loss: 1.6656, Val Loss: 1.2580\n",
      "Baseline Loss: 4.3884 | Actual Loss: 1.3873\n",
      "Baseline Loss: 4.3807 | Actual Loss: 1.6469\n",
      "Baseline Loss: 4.3650 | Actual Loss: 1.2606\n",
      "Baseline Loss: 4.3298 | Actual Loss: 1.1430\n"
     ]
    },
    {
     "name": "stderr",
     "output_type": "stream",
     "text": [
      "Training:  53%|█████▎    | 158/300 [02:40<02:21,  1.00it/s]"
     ]
    },
    {
     "name": "stdout",
     "output_type": "stream",
     "text": [
      "Baseline Loss: 4.3583 | Actual Loss: 1.3283\n",
      "Epoch 158/300: Train Loss: 1.3594, Val Loss: 1.3283\n",
      "Baseline Loss: 4.3982 | Actual Loss: 1.3087\n",
      "Baseline Loss: 4.3710 | Actual Loss: 1.3265\n",
      "Baseline Loss: 4.3727 | Actual Loss: 1.5507\n",
      "Baseline Loss: 4.2755 | Actual Loss: 1.3102\n"
     ]
    },
    {
     "name": "stderr",
     "output_type": "stream",
     "text": [
      "Training:  53%|█████▎    | 159/300 [02:41<02:22,  1.01s/it]"
     ]
    },
    {
     "name": "stdout",
     "output_type": "stream",
     "text": [
      "Baseline Loss: 4.3583 | Actual Loss: 1.3599\n",
      "Epoch 159/300: Train Loss: 1.3740, Val Loss: 1.3599\n",
      "Baseline Loss: 4.3793 | Actual Loss: 1.2332\n",
      "Baseline Loss: 4.4081 | Actual Loss: 1.5374\n",
      "Baseline Loss: 4.3620 | Actual Loss: 1.3106\n",
      "Baseline Loss: 4.2638 | Actual Loss: 1.4359\n"
     ]
    },
    {
     "name": "stderr",
     "output_type": "stream",
     "text": [
      "Training:  53%|█████▎    | 160/300 [02:42<02:21,  1.01s/it]"
     ]
    },
    {
     "name": "stdout",
     "output_type": "stream",
     "text": [
      "Baseline Loss: 4.3583 | Actual Loss: 1.3080\n",
      "Epoch 160/300: Train Loss: 1.3793, Val Loss: 1.3080\n",
      "Baseline Loss: 4.3687 | Actual Loss: 1.1934\n",
      "Baseline Loss: 4.3769 | Actual Loss: 1.3457\n",
      "Baseline Loss: 4.3836 | Actual Loss: 1.6529\n"
     ]
    },
    {
     "name": "stderr",
     "output_type": "stream",
     "text": [
      "Training:  54%|█████▎    | 161/300 [02:43<02:18,  1.00it/s]"
     ]
    },
    {
     "name": "stdout",
     "output_type": "stream",
     "text": [
      "Baseline Loss: 4.2600 | Actual Loss: 1.5319\n",
      "Baseline Loss: 4.3583 | Actual Loss: 1.2257\n",
      "Epoch 161/300: Train Loss: 1.4310, Val Loss: 1.2257\n",
      "Baseline Loss: 4.3794 | Actual Loss: 1.3041\n",
      "Baseline Loss: 4.4161 | Actual Loss: 1.7976\n",
      "Baseline Loss: 4.3163 | Actual Loss: 1.4398\n",
      "Baseline Loss: 4.3016 | Actual Loss: 1.1251\n"
     ]
    },
    {
     "name": "stderr",
     "output_type": "stream",
     "text": [
      "Training:  54%|█████▍    | 162/300 [02:44<02:18,  1.00s/it]"
     ]
    },
    {
     "name": "stdout",
     "output_type": "stream",
     "text": [
      "Baseline Loss: 4.3583 | Actual Loss: 1.4087\n",
      "Epoch 162/300: Train Loss: 1.4166, Val Loss: 1.4087\n",
      "Baseline Loss: 4.4197 | Actual Loss: 1.6772\n",
      "Baseline Loss: 4.3392 | Actual Loss: 1.3142\n",
      "Baseline Loss: 4.4073 | Actual Loss: 1.4785\n",
      "Baseline Loss: 4.2572 | Actual Loss: 1.2601\n",
      "Baseline Loss: 4.3583 | Actual Loss: 1.2310\n",
      "Epoch 163/300: Train Loss: 1.4325, Val Loss: 1.2310\n"
     ]
    },
    {
     "name": "stderr",
     "output_type": "stream",
     "text": [
      "Training:  54%|█████▍    | 163/300 [02:45<02:18,  1.01s/it]"
     ]
    },
    {
     "name": "stdout",
     "output_type": "stream",
     "text": [
      "Baseline Loss: 4.3947 | Actual Loss: 1.4921\n",
      "Baseline Loss: 4.3602 | Actual Loss: 1.3214\n",
      "Baseline Loss: 4.3703 | Actual Loss: 1.9115\n",
      "Baseline Loss: 4.2956 | Actual Loss: 1.0520\n"
     ]
    },
    {
     "name": "stderr",
     "output_type": "stream",
     "text": [
      "Training:  55%|█████▍    | 164/300 [02:46<02:17,  1.01s/it]"
     ]
    },
    {
     "name": "stdout",
     "output_type": "stream",
     "text": [
      "Baseline Loss: 4.3583 | Actual Loss: 1.3056\n",
      "Epoch 164/300: Train Loss: 1.4443, Val Loss: 1.3056\n",
      "Baseline Loss: 4.3750 | Actual Loss: 1.4446\n",
      "Baseline Loss: 4.3551 | Actual Loss: 1.5681\n",
      "Baseline Loss: 4.3675 | Actual Loss: 1.4487\n",
      "Baseline Loss: 4.2922 | Actual Loss: 1.3557\n"
     ]
    },
    {
     "name": "stderr",
     "output_type": "stream",
     "text": [
      "Training:  55%|█████▌    | 165/300 [02:47<02:14,  1.01it/s]"
     ]
    },
    {
     "name": "stdout",
     "output_type": "stream",
     "text": [
      "Baseline Loss: 4.3583 | Actual Loss: 1.2926\n",
      "Epoch 165/300: Train Loss: 1.4543, Val Loss: 1.2926\n",
      "Baseline Loss: 4.3868 | Actual Loss: 1.2519\n",
      "Baseline Loss: 4.3673 | Actual Loss: 1.3674\n",
      "Baseline Loss: 4.3585 | Actual Loss: 1.6587\n",
      "Baseline Loss: 4.3221 | Actual Loss: 1.2587\n"
     ]
    },
    {
     "name": "stderr",
     "output_type": "stream",
     "text": [
      "Training:  55%|█████▌    | 166/300 [02:48<02:14,  1.01s/it]"
     ]
    },
    {
     "name": "stdout",
     "output_type": "stream",
     "text": [
      "Baseline Loss: 4.3583 | Actual Loss: 1.2751\n",
      "Epoch 166/300: Train Loss: 1.3841, Val Loss: 1.2751\n",
      "Baseline Loss: 4.3865 | Actual Loss: 1.6423\n",
      "Baseline Loss: 4.3584 | Actual Loss: 1.3946\n",
      "Baseline Loss: 4.4000 | Actual Loss: 1.3695\n",
      "Baseline Loss: 4.2584 | Actual Loss: 1.3171\n"
     ]
    },
    {
     "name": "stderr",
     "output_type": "stream",
     "text": [
      "Training:  56%|█████▌    | 167/300 [02:49<02:15,  1.02s/it]"
     ]
    },
    {
     "name": "stdout",
     "output_type": "stream",
     "text": [
      "Baseline Loss: 4.3583 | Actual Loss: 1.2507\n",
      "Epoch 167/300: Train Loss: 1.4309, Val Loss: 1.2507\n",
      "Baseline Loss: 4.3560 | Actual Loss: 1.6092\n",
      "Baseline Loss: 4.3433 | Actual Loss: 1.3566\n",
      "Baseline Loss: 4.4167 | Actual Loss: 1.3697\n",
      "Baseline Loss: 4.2821 | Actual Loss: 1.3836\n"
     ]
    },
    {
     "name": "stderr",
     "output_type": "stream",
     "text": [
      "Training:  56%|█████▌    | 168/300 [02:50<02:15,  1.03s/it]"
     ]
    },
    {
     "name": "stdout",
     "output_type": "stream",
     "text": [
      "Baseline Loss: 4.3583 | Actual Loss: 1.1845\n",
      "Epoch 168/300: Train Loss: 1.4298, Val Loss: 1.1845\n",
      "Baseline Loss: 4.3456 | Actual Loss: 1.3985\n",
      "Baseline Loss: 4.4261 | Actual Loss: 1.1893\n",
      "Baseline Loss: 4.3745 | Actual Loss: 1.3424\n",
      "Baseline Loss: 4.3000 | Actual Loss: 1.5356\n"
     ]
    },
    {
     "name": "stderr",
     "output_type": "stream",
     "text": [
      "Training:  56%|█████▋    | 169/300 [02:51<02:11,  1.00s/it]"
     ]
    },
    {
     "name": "stdout",
     "output_type": "stream",
     "text": [
      "Baseline Loss: 4.3583 | Actual Loss: 1.2304\n",
      "Epoch 169/300: Train Loss: 1.3665, Val Loss: 1.2304\n",
      "Baseline Loss: 4.3786 | Actual Loss: 1.3128\n",
      "Baseline Loss: 4.4078 | Actual Loss: 1.3365\n",
      "Baseline Loss: 4.3539 | Actual Loss: 1.5383\n",
      "Baseline Loss: 4.2484 | Actual Loss: 1.2615\n"
     ]
    },
    {
     "name": "stderr",
     "output_type": "stream",
     "text": [
      "Training:  57%|█████▋    | 170/300 [02:52<02:11,  1.01s/it]"
     ]
    },
    {
     "name": "stdout",
     "output_type": "stream",
     "text": [
      "Baseline Loss: 4.3583 | Actual Loss: 1.3029\n",
      "Epoch 170/300: Train Loss: 1.3623, Val Loss: 1.3029\n",
      "Baseline Loss: 4.4044 | Actual Loss: 1.3470\n",
      "Baseline Loss: 4.3467 | Actual Loss: 1.3664\n",
      "Baseline Loss: 4.3817 | Actual Loss: 1.3658\n",
      "Baseline Loss: 4.3362 | Actual Loss: 1.3380\n"
     ]
    },
    {
     "name": "stderr",
     "output_type": "stream",
     "text": [
      "Training:  57%|█████▋    | 171/300 [02:53<02:10,  1.01s/it]"
     ]
    },
    {
     "name": "stdout",
     "output_type": "stream",
     "text": [
      "Baseline Loss: 4.3583 | Actual Loss: 1.1967\n",
      "Epoch 171/300: Train Loss: 1.3543, Val Loss: 1.1967\n",
      "Baseline Loss: 4.3496 | Actual Loss: 1.3271\n",
      "Baseline Loss: 4.3969 | Actual Loss: 1.3748\n",
      "Baseline Loss: 4.4107 | Actual Loss: 1.5939\n",
      "Baseline Loss: 4.2564 | Actual Loss: 1.4174\n"
     ]
    },
    {
     "name": "stderr",
     "output_type": "stream",
     "text": [
      "Training:  57%|█████▋    | 172/300 [02:54<02:08,  1.01s/it]"
     ]
    },
    {
     "name": "stdout",
     "output_type": "stream",
     "text": [
      "Baseline Loss: 4.3583 | Actual Loss: 1.2644\n",
      "Epoch 172/300: Train Loss: 1.4283, Val Loss: 1.2644\n",
      "Baseline Loss: 4.4268 | Actual Loss: 1.2976\n",
      "Baseline Loss: 4.3261 | Actual Loss: 1.2568\n",
      "Baseline Loss: 4.3591 | Actual Loss: 1.2677\n",
      "Baseline Loss: 4.3324 | Actual Loss: 1.3961\n"
     ]
    },
    {
     "name": "stderr",
     "output_type": "stream",
     "text": [
      "Training:  58%|█████▊    | 173/300 [02:55<02:08,  1.01s/it]"
     ]
    },
    {
     "name": "stdout",
     "output_type": "stream",
     "text": [
      "Baseline Loss: 4.3583 | Actual Loss: 1.2436\n",
      "Epoch 173/300: Train Loss: 1.3045, Val Loss: 1.2436\n",
      "Baseline Loss: 4.3625 | Actual Loss: 1.0463\n",
      "Baseline Loss: 4.3341 | Actual Loss: 1.5637\n",
      "Baseline Loss: 4.4441 | Actual Loss: 1.4273\n",
      "Baseline Loss: 4.2815 | Actual Loss: 1.1430\n"
     ]
    },
    {
     "name": "stderr",
     "output_type": "stream",
     "text": [
      "Training:  58%|█████▊    | 174/300 [02:56<02:04,  1.01it/s]"
     ]
    },
    {
     "name": "stdout",
     "output_type": "stream",
     "text": [
      "Baseline Loss: 4.3583 | Actual Loss: 1.5121\n",
      "Epoch 174/300: Train Loss: 1.2951, Val Loss: 1.5121\n",
      "Baseline Loss: 4.3403 | Actual Loss: 1.3110\n",
      "Baseline Loss: 4.3521 | Actual Loss: 1.4759\n",
      "Baseline Loss: 4.3633 | Actual Loss: 1.3265\n",
      "Baseline Loss: 4.3140 | Actual Loss: 1.6582\n"
     ]
    },
    {
     "name": "stderr",
     "output_type": "stream",
     "text": [
      "Training:  58%|█████▊    | 175/300 [02:57<02:04,  1.01it/s]"
     ]
    },
    {
     "name": "stdout",
     "output_type": "stream",
     "text": [
      "Baseline Loss: 4.3583 | Actual Loss: 1.2381\n",
      "Epoch 175/300: Train Loss: 1.4429, Val Loss: 1.2381\n",
      "Baseline Loss: 4.3615 | Actual Loss: 1.3637\n",
      "Baseline Loss: 4.3502 | Actual Loss: 1.2558\n",
      "Baseline Loss: 4.3533 | Actual Loss: 1.2499\n",
      "Baseline Loss: 4.3071 | Actual Loss: 1.5396\n"
     ]
    },
    {
     "name": "stderr",
     "output_type": "stream",
     "text": [
      "Training:  59%|█████▊    | 176/300 [02:58<02:04,  1.00s/it]"
     ]
    },
    {
     "name": "stdout",
     "output_type": "stream",
     "text": [
      "Baseline Loss: 4.3583 | Actual Loss: 1.2222\n",
      "Epoch 176/300: Train Loss: 1.3523, Val Loss: 1.2222\n",
      "Baseline Loss: 4.3567 | Actual Loss: 1.1393\n",
      "Baseline Loss: 4.3656 | Actual Loss: 1.9045\n",
      "Baseline Loss: 4.3460 | Actual Loss: 1.1640\n",
      "Baseline Loss: 4.3051 | Actual Loss: 1.6619\n"
     ]
    },
    {
     "name": "stderr",
     "output_type": "stream",
     "text": [
      "Training:  59%|█████▉    | 177/300 [02:59<02:01,  1.01it/s]"
     ]
    },
    {
     "name": "stdout",
     "output_type": "stream",
     "text": [
      "Baseline Loss: 4.3583 | Actual Loss: 1.3558\n",
      "Epoch 177/300: Train Loss: 1.4674, Val Loss: 1.3558\n",
      "Baseline Loss: 4.4093 | Actual Loss: 1.1791\n",
      "Baseline Loss: 4.3632 | Actual Loss: 1.9948\n",
      "Baseline Loss: 4.3591 | Actual Loss: 1.4955\n",
      "Baseline Loss: 4.2860 | Actual Loss: 1.3191\n"
     ]
    },
    {
     "name": "stderr",
     "output_type": "stream",
     "text": [
      "Training:  59%|█████▉    | 178/300 [03:00<02:01,  1.00it/s]"
     ]
    },
    {
     "name": "stdout",
     "output_type": "stream",
     "text": [
      "Baseline Loss: 4.3583 | Actual Loss: 1.4294\n",
      "Epoch 178/300: Train Loss: 1.4971, Val Loss: 1.4294\n",
      "Baseline Loss: 4.3509 | Actual Loss: 0.9812\n",
      "Baseline Loss: 4.3750 | Actual Loss: 1.3328\n",
      "Baseline Loss: 4.3775 | Actual Loss: 1.7306\n",
      "Baseline Loss: 4.2736 | Actual Loss: 1.2041\n"
     ]
    },
    {
     "name": "stderr",
     "output_type": "stream",
     "text": [
      "Training:  60%|█████▉    | 179/300 [03:01<02:02,  1.01s/it]"
     ]
    },
    {
     "name": "stdout",
     "output_type": "stream",
     "text": [
      "Baseline Loss: 4.3583 | Actual Loss: 1.1805\n",
      "Epoch 179/300: Train Loss: 1.3122, Val Loss: 1.1805\n",
      "Baseline Loss: 4.3649 | Actual Loss: 1.4996\n",
      "Baseline Loss: 4.4036 | Actual Loss: 1.3414\n",
      "Baseline Loss: 4.3920 | Actual Loss: 1.2997\n",
      "Baseline Loss: 4.3154 | Actual Loss: 1.2463\n"
     ]
    },
    {
     "name": "stderr",
     "output_type": "stream",
     "text": [
      "Training:  60%|██████    | 180/300 [03:02<01:58,  1.01it/s]"
     ]
    },
    {
     "name": "stdout",
     "output_type": "stream",
     "text": [
      "Baseline Loss: 4.3583 | Actual Loss: 1.1838\n",
      "Epoch 180/300: Train Loss: 1.3467, Val Loss: 1.1838\n",
      "Baseline Loss: 4.3563 | Actual Loss: 1.3219\n",
      "Baseline Loss: 4.3323 | Actual Loss: 1.4909\n",
      "Baseline Loss: 4.4162 | Actual Loss: 1.4623\n",
      "Baseline Loss: 4.3076 | Actual Loss: 1.4376\n",
      "Baseline Loss: 4.3583 | Actual Loss: 1.3299\n"
     ]
    },
    {
     "name": "stderr",
     "output_type": "stream",
     "text": [
      "Training:  60%|██████    | 181/300 [03:03<01:59,  1.01s/it]"
     ]
    },
    {
     "name": "stdout",
     "output_type": "stream",
     "text": [
      "Epoch 181/300: Train Loss: 1.4282, Val Loss: 1.3299\n",
      "Baseline Loss: 4.3876 | Actual Loss: 1.2300\n",
      "Baseline Loss: 4.3342 | Actual Loss: 1.7092\n",
      "Baseline Loss: 4.3787 | Actual Loss: 1.4942\n",
      "Baseline Loss: 4.3292 | Actual Loss: 1.5838\n"
     ]
    },
    {
     "name": "stderr",
     "output_type": "stream",
     "text": [
      "Training:  61%|██████    | 182/300 [03:04<02:00,  1.02s/it]"
     ]
    },
    {
     "name": "stdout",
     "output_type": "stream",
     "text": [
      "Baseline Loss: 4.3583 | Actual Loss: 1.2969\n",
      "Epoch 182/300: Train Loss: 1.5043, Val Loss: 1.2969\n",
      "Baseline Loss: 4.3690 | Actual Loss: 1.5465\n",
      "Baseline Loss: 4.4172 | Actual Loss: 1.2225\n",
      "Baseline Loss: 4.3672 | Actual Loss: 1.4228\n",
      "Baseline Loss: 4.2782 | Actual Loss: 1.4216\n"
     ]
    },
    {
     "name": "stderr",
     "output_type": "stream",
     "text": [
      "Training:  61%|██████    | 182/300 [03:05<02:00,  1.02s/it]"
     ]
    },
    {
     "name": "stdout",
     "output_type": "stream",
     "text": [
      "Baseline Loss: 4.3583 | Actual Loss: 1.3413\n",
      "Epoch 183/300: Train Loss: 1.4034, Val Loss: 1.3413\n",
      "\n",
      "Early stopping at epoch 183\n"
     ]
    },
    {
     "name": "stderr",
     "output_type": "stream",
     "text": [
      "\n"
     ]
    },
    {
     "data": {
      "text/plain": [
       "1.1630586385726929"
      ]
     },
     "execution_count": 11,
     "metadata": {},
     "output_type": "execute_result"
    }
   ],
   "source": [
    "model3.train_model(\n",
    "    data_list,\n",
    ")"
   ]
  }
 ],
 "metadata": {
  "kernelspec": {
   "display_name": "torch",
   "language": "python",
   "name": "python3"
  },
  "language_info": {
   "codemirror_mode": {
    "name": "ipython",
    "version": 3
   },
   "file_extension": ".py",
   "mimetype": "text/x-python",
   "name": "python",
   "nbconvert_exporter": "python",
   "pygments_lexer": "ipython3",
   "version": "3.8.16"
  }
 },
 "nbformat": 4,
 "nbformat_minor": 5
}
